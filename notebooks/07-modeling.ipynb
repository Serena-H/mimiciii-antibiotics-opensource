{
 "cells": [
  {
   "cell_type": "markdown",
   "metadata": {},
   "source": [
    "# imputation and modeling\n",
    "sklearn modeling the median imputed training data using min/max clinically guided aggregation. \n",
    "preprocessing includes variable formatting (categorical to factor variables in r, train/test split, and median imputation).\n"
   ]
  },
  {
   "cell_type": "code",
   "execution_count": 3,
   "metadata": {},
   "outputs": [],
   "source": [
    "import pandas as pd\n",
    "import matplotlib.pyplot as plt\n",
    "import os, sys\n",
    "from pathlib import Path\n",
    "import seaborn as sns\n",
    "import numpy as np\n",
    "import glob\n",
    "from sklearn.metrics import confusion_matrix, classification_report, roc_curve, roc_auc_score, accuracy_score, auc, precision_recall_fscore_support, pairwise, f1_score, log_loss, make_scorer\n",
    "from sklearn.datasets import make_classification\n",
    "from sklearn.ensemble import RandomForestClassifier\n",
    "from sklearn.externals.joblib import Memory\n",
    "from sklearn.preprocessing import MinMaxScaler, OneHotEncoder, Imputer\n",
    "from sklearn.model_selection import StratifiedKFold, GridSearchCV, RandomizedSearchCV\n",
    "from sklearn.linear_model import LogisticRegression\n",
    "from sklearn.utils import validation\n",
    "from scipy.sparse import issparse\n",
    "from scipy.spatial import distance\n",
    "from sklearn import svm\n",
    "\n",
    "#importin xg boost and all needed otherstuff\n",
    "from sklearn.ensemble import RandomForestClassifier, GradientBoostingClassifier\n",
    "from xgboost import XGBClassifier #conda install -c conda-forge xgboost to install\n",
    "##adding these, lets see if it helps with xgboost crash\n",
    "os.environ['KMP_DUPLICATE_LIB_OK']='True'\n",
    "\n",
    "#reducing warnings that are super common in my model\n",
    "import warnings\n",
    "from sklearn.exceptions import DataConversionWarning\n",
    "warnings.simplefilter(action='ignore') #ignore all warnings\n",
    "\n",
    "memory = Memory(cachedir='/tmp', verbose=0)\n",
    "#@memory.cache above any def fxn.\n",
    "\n",
    "RANDOM_STATE = 15485867\n",
    "\n",
    "%matplotlib inline\n",
    "plt.style.use('ggplot')\n",
    "\n",
    "from notebook.services.config import ConfigManager\n",
    "cm = ConfigManager()\n",
    "cm.update('livereveal', {\n",
    "        'width': 1024,\n",
    "        'height': 768,\n",
    "        'scroll': True,\n",
    "})\n",
    "\n",
    "%load_ext autotime"
   ]
  },
  {
   "cell_type": "code",
   "execution_count": null,
   "metadata": {},
   "outputs": [],
   "source": []
  },
  {
   "cell_type": "markdown",
   "metadata": {},
   "source": [
    "# importing and formatting dataset"
   ]
  },
  {
   "cell_type": "code",
   "execution_count": 4,
   "metadata": {},
   "outputs": [
    {
     "name": "stdout",
     "output_type": "stream",
     "text": [
      "time: 19.4 ms\n"
     ]
    }
   ],
   "source": [
    "#patients of interest from rotation_cohort_generation\n",
    "from parameters import final_pt_df_v, date, repository_path, lower_window, upper_window, folder, date, time_col, time_var, patient_df\n",
    "from parameters import save_boolean\n",
    "#patients of interest from rotation_cohort_generation\n",
    "final_pt_df2 = final_pt_df_v #pd.read_csv('/Users/geickelb1/Documents/GitHub/mimiciii-antibiotics-modeling/data/raw/csv/%s_final_pt_df2.csv'%(most_updated_patient_df), index_col=0)\n",
    "del(final_pt_df_v)\n",
    "\n",
    "patients= list(final_pt_df2['subject_id'].unique())\n",
    "hadm_id= list(final_pt_df2['hadm_id'].unique())\n",
    "icustay_id= list(final_pt_df2['icustay_id'].unique())\n",
    "icustay_id= [int(x) for x in icustay_id]\n",
    "\n"
   ]
  },
  {
   "cell_type": "code",
   "execution_count": 5,
   "metadata": {},
   "outputs": [
    {
     "name": "stdout",
     "output_type": "stream",
     "text": [
      "24_hr_window\n",
      "time: 661 µs\n"
     ]
    }
   ],
   "source": [
    "print(folder)"
   ]
  },
  {
   "cell_type": "code",
   "execution_count": 6,
   "metadata": {},
   "outputs": [
    {
     "name": "stdout",
     "output_type": "stream",
     "text": [
      "time: 124 ms\n"
     ]
    }
   ],
   "source": [
    "  address=str(repository_path)+'/data/cleaned_merged_agg/'+'%s/'%(folder)\n",
    "train_data= pd.read_csv(Path(address+'%s_%s_cleaned_merged_agg.csv' %(date, 'train')), index_col=0)\n",
    "test_data= pd.read_csv(Path(address+'%s_%s_cleaned_merged_agg.csv' %(date, 'test')), index_col=0)"
   ]
  },
  {
   "cell_type": "code",
   "execution_count": 7,
   "metadata": {},
   "outputs": [
    {
     "data": {
      "text/html": [
       "<div>\n",
       "<style scoped>\n",
       "    .dataframe tbody tr th:only-of-type {\n",
       "        vertical-align: middle;\n",
       "    }\n",
       "\n",
       "    .dataframe tbody tr th {\n",
       "        vertical-align: top;\n",
       "    }\n",
       "\n",
       "    .dataframe thead th {\n",
       "        text-align: right;\n",
       "    }\n",
       "</style>\n",
       "<table border=\"1\" class=\"dataframe\">\n",
       "  <thead>\n",
       "    <tr style=\"text-align: right;\">\n",
       "      <th></th>\n",
       "      <th>icustay_id</th>\n",
       "      <th>any_vasoactives</th>\n",
       "      <th>bilirubin</th>\n",
       "      <th>bun</th>\n",
       "      <th>cancer_elix</th>\n",
       "      <th>chloride</th>\n",
       "      <th>creatinine</th>\n",
       "      <th>daily_sofa</th>\n",
       "      <th>dobutamine</th>\n",
       "      <th>dopamine</th>\n",
       "      <th>...</th>\n",
       "      <th>('min', 'calcium')</th>\n",
       "      <th>('min', 'sodium')</th>\n",
       "      <th>('min', 'wbc')</th>\n",
       "      <th>ethnicity</th>\n",
       "      <th>gender</th>\n",
       "      <th>bands</th>\n",
       "      <th>pao2fio2ratio</th>\n",
       "      <th>pco2</th>\n",
       "      <th>weight</th>\n",
       "      <th>yearsold</th>\n",
       "    </tr>\n",
       "  </thead>\n",
       "  <tbody>\n",
       "    <tr>\n",
       "      <th>0</th>\n",
       "      <td>200012.0</td>\n",
       "      <td>0.0</td>\n",
       "      <td>NaN</td>\n",
       "      <td>NaN</td>\n",
       "      <td>0.0</td>\n",
       "      <td>NaN</td>\n",
       "      <td>NaN</td>\n",
       "      <td>-0.430677</td>\n",
       "      <td>0.0</td>\n",
       "      <td>0.0</td>\n",
       "      <td>...</td>\n",
       "      <td>NaN</td>\n",
       "      <td>NaN</td>\n",
       "      <td>-0.319914</td>\n",
       "      <td>asian</td>\n",
       "      <td>0.0</td>\n",
       "      <td>&gt;10</td>\n",
       "      <td>(475, 3000]</td>\n",
       "      <td>absent</td>\n",
       "      <td>51.2</td>\n",
       "      <td>32.988959</td>\n",
       "    </tr>\n",
       "    <tr>\n",
       "      <th>1</th>\n",
       "      <td>200014.0</td>\n",
       "      <td>0.0</td>\n",
       "      <td>NaN</td>\n",
       "      <td>0.040770</td>\n",
       "      <td>0.0</td>\n",
       "      <td>0.037089</td>\n",
       "      <td>-0.300758</td>\n",
       "      <td>-0.178747</td>\n",
       "      <td>0.0</td>\n",
       "      <td>0.0</td>\n",
       "      <td>...</td>\n",
       "      <td>-0.044882</td>\n",
       "      <td>0.014580</td>\n",
       "      <td>0.125353</td>\n",
       "      <td>unknown/other</td>\n",
       "      <td>1.0</td>\n",
       "      <td>absent</td>\n",
       "      <td>(200, 333]</td>\n",
       "      <td>&lt;50</td>\n",
       "      <td>62.0</td>\n",
       "      <td>84.728186</td>\n",
       "    </tr>\n",
       "    <tr>\n",
       "      <th>2</th>\n",
       "      <td>200033.0</td>\n",
       "      <td>1.0</td>\n",
       "      <td>NaN</td>\n",
       "      <td>-0.082229</td>\n",
       "      <td>1.0</td>\n",
       "      <td>-0.004314</td>\n",
       "      <td>-0.219047</td>\n",
       "      <td>-0.430677</td>\n",
       "      <td>0.0</td>\n",
       "      <td>0.0</td>\n",
       "      <td>...</td>\n",
       "      <td>-0.505654</td>\n",
       "      <td>-0.011213</td>\n",
       "      <td>-0.195493</td>\n",
       "      <td>white/nonhispanic</td>\n",
       "      <td>1.0</td>\n",
       "      <td>absent</td>\n",
       "      <td>(475, 3000]</td>\n",
       "      <td>absent</td>\n",
       "      <td>74.0</td>\n",
       "      <td>67.145099</td>\n",
       "    </tr>\n",
       "    <tr>\n",
       "      <th>3</th>\n",
       "      <td>200036.0</td>\n",
       "      <td>0.0</td>\n",
       "      <td>NaN</td>\n",
       "      <td>NaN</td>\n",
       "      <td>0.0</td>\n",
       "      <td>NaN</td>\n",
       "      <td>NaN</td>\n",
       "      <td>-0.430677</td>\n",
       "      <td>0.0</td>\n",
       "      <td>0.0</td>\n",
       "      <td>...</td>\n",
       "      <td>NaN</td>\n",
       "      <td>NaN</td>\n",
       "      <td>NaN</td>\n",
       "      <td>white/nonhispanic</td>\n",
       "      <td>1.0</td>\n",
       "      <td>absent</td>\n",
       "      <td>(475, 3000]</td>\n",
       "      <td>absent</td>\n",
       "      <td>79.0</td>\n",
       "      <td>74.934136</td>\n",
       "    </tr>\n",
       "    <tr>\n",
       "      <th>4</th>\n",
       "      <td>200055.0</td>\n",
       "      <td>0.0</td>\n",
       "      <td>-0.316061</td>\n",
       "      <td>0.098917</td>\n",
       "      <td>0.0</td>\n",
       "      <td>-0.035714</td>\n",
       "      <td>1.934240</td>\n",
       "      <td>0.503859</td>\n",
       "      <td>0.0</td>\n",
       "      <td>0.0</td>\n",
       "      <td>...</td>\n",
       "      <td>-0.135281</td>\n",
       "      <td>-0.003710</td>\n",
       "      <td>-0.260497</td>\n",
       "      <td>NaN</td>\n",
       "      <td>NaN</td>\n",
       "      <td>absent</td>\n",
       "      <td>(475, 3000]</td>\n",
       "      <td>absent</td>\n",
       "      <td>56.0</td>\n",
       "      <td>NaN</td>\n",
       "    </tr>\n",
       "  </tbody>\n",
       "</table>\n",
       "<p>5 rows × 50 columns</p>\n",
       "</div>"
      ],
      "text/plain": [
       "   icustay_id  any_vasoactives  bilirubin       bun  cancer_elix  chloride  \\\n",
       "0    200012.0              0.0        NaN       NaN          0.0       NaN   \n",
       "1    200014.0              0.0        NaN  0.040770          0.0  0.037089   \n",
       "2    200033.0              1.0        NaN -0.082229          1.0 -0.004314   \n",
       "3    200036.0              0.0        NaN       NaN          0.0       NaN   \n",
       "4    200055.0              0.0  -0.316061  0.098917          0.0 -0.035714   \n",
       "\n",
       "   creatinine  daily_sofa  dobutamine  dopamine  ...  ('min', 'calcium')  \\\n",
       "0         NaN   -0.430677         0.0       0.0  ...                 NaN   \n",
       "1   -0.300758   -0.178747         0.0       0.0  ...           -0.044882   \n",
       "2   -0.219047   -0.430677         0.0       0.0  ...           -0.505654   \n",
       "3         NaN   -0.430677         0.0       0.0  ...                 NaN   \n",
       "4    1.934240    0.503859         0.0       0.0  ...           -0.135281   \n",
       "\n",
       "   ('min', 'sodium')  ('min', 'wbc')          ethnicity  gender   bands  \\\n",
       "0                NaN       -0.319914              asian     0.0     >10   \n",
       "1           0.014580        0.125353      unknown/other     1.0  absent   \n",
       "2          -0.011213       -0.195493  white/nonhispanic     1.0  absent   \n",
       "3                NaN             NaN  white/nonhispanic     1.0  absent   \n",
       "4          -0.003710       -0.260497                NaN     NaN  absent   \n",
       "\n",
       "   pao2fio2ratio    pco2  weight   yearsold  \n",
       "0    (475, 3000]  absent    51.2  32.988959  \n",
       "1     (200, 333]     <50    62.0  84.728186  \n",
       "2    (475, 3000]  absent    74.0  67.145099  \n",
       "3    (475, 3000]  absent    79.0  74.934136  \n",
       "4    (475, 3000]  absent    56.0        NaN  \n",
       "\n",
       "[5 rows x 50 columns]"
      ]
     },
     "execution_count": 7,
     "metadata": {},
     "output_type": "execute_result"
    },
    {
     "name": "stdout",
     "output_type": "stream",
     "text": [
      "time: 28 ms\n"
     ]
    }
   ],
   "source": [
    "train_data.head()"
   ]
  },
  {
   "cell_type": "markdown",
   "metadata": {},
   "source": [
    "## getting descriptive numbers for publication"
   ]
  },
  {
   "cell_type": "code",
   "execution_count": 8,
   "metadata": {},
   "outputs": [
    {
     "data": {
      "text/html": [
       "<div>\n",
       "<style scoped>\n",
       "    .dataframe tbody tr th:only-of-type {\n",
       "        vertical-align: middle;\n",
       "    }\n",
       "\n",
       "    .dataframe tbody tr th {\n",
       "        vertical-align: top;\n",
       "    }\n",
       "\n",
       "    .dataframe thead th {\n",
       "        text-align: right;\n",
       "    }\n",
       "</style>\n",
       "<table border=\"1\" class=\"dataframe\">\n",
       "  <thead>\n",
       "    <tr style=\"text-align: right;\">\n",
       "      <th></th>\n",
       "      <th>icustay_id</th>\n",
       "      <th>ssc_charttime</th>\n",
       "      <th>ssc_id</th>\n",
       "      <th>icu_admit</th>\n",
       "      <th>ab_id</th>\n",
       "      <th>ab_start</th>\n",
       "      <th>ab_end</th>\n",
       "      <th>ab_ssc_delta</th>\n",
       "      <th>t_0</th>\n",
       "      <th>t_end</th>\n",
       "      <th>...</th>\n",
       "      <th>subject_id</th>\n",
       "      <th>dod_hosp</th>\n",
       "      <th>dod_ssn</th>\n",
       "      <th>ab_course</th>\n",
       "      <th>org_list</th>\n",
       "      <th>spec_type_list</th>\n",
       "      <th>first_pos_else_neg_ssc</th>\n",
       "      <th>sc_result</th>\n",
       "      <th>final_bin</th>\n",
       "      <th>hadm_id</th>\n",
       "    </tr>\n",
       "  </thead>\n",
       "  <tbody>\n",
       "    <tr>\n",
       "      <th>0</th>\n",
       "      <td>294638</td>\n",
       "      <td>2191-03-16 00:00:00</td>\n",
       "      <td>22</td>\n",
       "      <td>2191-03-16 00:29:31</td>\n",
       "      <td>1213116</td>\n",
       "      <td>2191-03-16</td>\n",
       "      <td>2191-03-22</td>\n",
       "      <td>0 days 00:00:00.000000000</td>\n",
       "      <td>2191-03-16</td>\n",
       "      <td>2191-03-22</td>\n",
       "      <td>...</td>\n",
       "      <td>4</td>\n",
       "      <td>NaN</td>\n",
       "      <td>NaN</td>\n",
       "      <td>full</td>\n",
       "      <td>STAPH AUREUS COAG +</td>\n",
       "      <td>BLOOD CULTURE</td>\n",
       "      <td>2191-03-16 00:00:00</td>\n",
       "      <td>positive</td>\n",
       "      <td>C_pos/A_full</td>\n",
       "      <td>185777</td>\n",
       "    </tr>\n",
       "    <tr>\n",
       "      <th>1</th>\n",
       "      <td>220597</td>\n",
       "      <td>2149-11-10 09:40:00</td>\n",
       "      <td>45</td>\n",
       "      <td>2149-11-09 13:07:02</td>\n",
       "      <td>2089126</td>\n",
       "      <td>2149-11-10</td>\n",
       "      <td>2149-11-15</td>\n",
       "      <td>0 days 00:00:00.000000000</td>\n",
       "      <td>2149-11-10</td>\n",
       "      <td>2149-11-15</td>\n",
       "      <td>...</td>\n",
       "      <td>9</td>\n",
       "      <td>2149-11-14</td>\n",
       "      <td>2149-11-14</td>\n",
       "      <td>full</td>\n",
       "      <td>NaN</td>\n",
       "      <td>NaN</td>\n",
       "      <td>2149-11-10 09:40:00</td>\n",
       "      <td>negative</td>\n",
       "      <td>C_neg/A_full</td>\n",
       "      <td>150750</td>\n",
       "    </tr>\n",
       "    <tr>\n",
       "      <th>2</th>\n",
       "      <td>232669</td>\n",
       "      <td>2104-08-11 00:00:00</td>\n",
       "      <td>60</td>\n",
       "      <td>2104-08-08 02:08:17</td>\n",
       "      <td>616189</td>\n",
       "      <td>2104-08-11</td>\n",
       "      <td>2104-08-12</td>\n",
       "      <td>0 days 00:00:00.000000000</td>\n",
       "      <td>2104-08-11</td>\n",
       "      <td>2104-08-12</td>\n",
       "      <td>...</td>\n",
       "      <td>12</td>\n",
       "      <td>2104-08-20</td>\n",
       "      <td>2104-08-20</td>\n",
       "      <td>partial</td>\n",
       "      <td>NaN</td>\n",
       "      <td>NaN</td>\n",
       "      <td>2104-08-11 00:00:00</td>\n",
       "      <td>negative</td>\n",
       "      <td>C_neg/A_partial</td>\n",
       "      <td>112213</td>\n",
       "    </tr>\n",
       "    <tr>\n",
       "      <th>3</th>\n",
       "      <td>273430</td>\n",
       "      <td>2108-08-05 20:42:00</td>\n",
       "      <td>69</td>\n",
       "      <td>2108-08-05 16:26:09</td>\n",
       "      <td>2572274</td>\n",
       "      <td>2108-08-06</td>\n",
       "      <td>2108-08-08</td>\n",
       "      <td>1 days 00:00:00.000000000</td>\n",
       "      <td>2108-08-06</td>\n",
       "      <td>2108-08-08</td>\n",
       "      <td>...</td>\n",
       "      <td>19</td>\n",
       "      <td>NaN</td>\n",
       "      <td>2109-08-18</td>\n",
       "      <td>partial</td>\n",
       "      <td>NaN</td>\n",
       "      <td>NaN</td>\n",
       "      <td>2108-08-05 20:42:00</td>\n",
       "      <td>negative</td>\n",
       "      <td>C_neg/A_partial</td>\n",
       "      <td>109235</td>\n",
       "    </tr>\n",
       "    <tr>\n",
       "      <th>4</th>\n",
       "      <td>217847</td>\n",
       "      <td>2134-09-11 09:35:00</td>\n",
       "      <td>70</td>\n",
       "      <td>2134-09-11 20:50:04</td>\n",
       "      <td>1388217</td>\n",
       "      <td>2134-09-12</td>\n",
       "      <td>2134-09-13</td>\n",
       "      <td>1 days 00:00:00.000000000</td>\n",
       "      <td>2134-09-12</td>\n",
       "      <td>2134-09-13</td>\n",
       "      <td>...</td>\n",
       "      <td>21</td>\n",
       "      <td>2135-02-08</td>\n",
       "      <td>2135-02-08</td>\n",
       "      <td>full</td>\n",
       "      <td>NaN</td>\n",
       "      <td>NaN</td>\n",
       "      <td>2134-09-11 09:35:00</td>\n",
       "      <td>negative</td>\n",
       "      <td>C_neg/A_full</td>\n",
       "      <td>109451</td>\n",
       "    </tr>\n",
       "  </tbody>\n",
       "</table>\n",
       "<p>5 rows × 23 columns</p>\n",
       "</div>"
      ],
      "text/plain": [
       "   icustay_id        ssc_charttime  ssc_id            icu_admit    ab_id  \\\n",
       "0      294638  2191-03-16 00:00:00      22  2191-03-16 00:29:31  1213116   \n",
       "1      220597  2149-11-10 09:40:00      45  2149-11-09 13:07:02  2089126   \n",
       "2      232669  2104-08-11 00:00:00      60  2104-08-08 02:08:17   616189   \n",
       "3      273430  2108-08-05 20:42:00      69  2108-08-05 16:26:09  2572274   \n",
       "4      217847  2134-09-11 09:35:00      70  2134-09-11 20:50:04  1388217   \n",
       "\n",
       "     ab_start      ab_end               ab_ssc_delta         t_0       t_end  \\\n",
       "0  2191-03-16  2191-03-22  0 days 00:00:00.000000000  2191-03-16  2191-03-22   \n",
       "1  2149-11-10  2149-11-15  0 days 00:00:00.000000000  2149-11-10  2149-11-15   \n",
       "2  2104-08-11  2104-08-12  0 days 00:00:00.000000000  2104-08-11  2104-08-12   \n",
       "3  2108-08-06  2108-08-08  1 days 00:00:00.000000000  2108-08-06  2108-08-08   \n",
       "4  2134-09-12  2134-09-13  1 days 00:00:00.000000000  2134-09-12  2134-09-13   \n",
       "\n",
       "   ... subject_id    dod_hosp     dod_ssn  ab_course             org_list  \\\n",
       "0  ...          4         NaN         NaN       full  STAPH AUREUS COAG +   \n",
       "1  ...          9  2149-11-14  2149-11-14       full                  NaN   \n",
       "2  ...         12  2104-08-20  2104-08-20    partial                  NaN   \n",
       "3  ...         19         NaN  2109-08-18    partial                  NaN   \n",
       "4  ...         21  2135-02-08  2135-02-08       full                  NaN   \n",
       "\n",
       "  spec_type_list first_pos_else_neg_ssc sc_result        final_bin hadm_id  \n",
       "0  BLOOD CULTURE    2191-03-16 00:00:00  positive     C_pos/A_full  185777  \n",
       "1            NaN    2149-11-10 09:40:00  negative     C_neg/A_full  150750  \n",
       "2            NaN    2104-08-11 00:00:00  negative  C_neg/A_partial  112213  \n",
       "3            NaN    2108-08-05 20:42:00  negative  C_neg/A_partial  109235  \n",
       "4            NaN    2134-09-11 09:35:00  negative     C_neg/A_full  109451  \n",
       "\n",
       "[5 rows x 23 columns]"
      ]
     },
     "execution_count": 8,
     "metadata": {},
     "output_type": "execute_result"
    },
    {
     "name": "stdout",
     "output_type": "stream",
     "text": [
      "time: 21.8 ms\n"
     ]
    }
   ],
   "source": [
    "final_pt_df2.head()#['icustay_id'].nunique()"
   ]
  },
  {
   "cell_type": "code",
   "execution_count": 9,
   "metadata": {},
   "outputs": [
    {
     "data": {
      "text/plain": [
       "['icustay_id',\n",
       " 'any_vasoactives',\n",
       " 'bilirubin',\n",
       " 'bun',\n",
       " 'cancer_elix',\n",
       " 'chloride',\n",
       " 'creatinine',\n",
       " 'daily_sofa',\n",
       " 'dobutamine',\n",
       " 'dopamine',\n",
       " 'epinephrine',\n",
       " 'glucose',\n",
       " 'heartrate',\n",
       " 'inr',\n",
       " 'lactate',\n",
       " 'leukocyte',\n",
       " 'nitrite',\n",
       " 'norepinephrine',\n",
       " 'o2_flow',\n",
       " 'phenylephrine',\n",
       " 'potassium',\n",
       " 'ptt',\n",
       " 'resprate',\n",
       " 'rrt',\n",
       " 'sum_elix',\n",
       " 'temperature',\n",
       " 'vasopressin',\n",
       " 'vent_recieved',\n",
       " 'bicarbonate',\n",
       " 'diasbp',\n",
       " 'hemoglobin',\n",
       " 'meanartpress',\n",
       " 'mingcs',\n",
       " 'ph',\n",
       " 'platelet',\n",
       " 'spo2',\n",
       " 'sysbp',\n",
       " \"('max', 'calcium')\",\n",
       " \"('max', 'sodium')\",\n",
       " \"('max', 'wbc')\",\n",
       " \"('min', 'calcium')\",\n",
       " \"('min', 'sodium')\",\n",
       " \"('min', 'wbc')\",\n",
       " 'ethnicity',\n",
       " 'gender',\n",
       " 'bands',\n",
       " 'pao2fio2ratio',\n",
       " 'pco2',\n",
       " 'weight',\n",
       " 'yearsold']"
      ]
     },
     "execution_count": 9,
     "metadata": {},
     "output_type": "execute_result"
    },
    {
     "name": "stdout",
     "output_type": "stream",
     "text": [
      "time: 2.62 ms\n"
     ]
    }
   ],
   "source": [
    "list(train_data)"
   ]
  },
  {
   "cell_type": "code",
   "execution_count": 10,
   "metadata": {},
   "outputs": [
    {
     "name": "stdout",
     "output_type": "stream",
     "text": [
      "time: 6.4 ms\n"
     ]
    }
   ],
   "source": [
    "full_demo=pd.concat([train_data[['icustay_id','yearsold','ethnicity','gender']],test_data[['icustay_id','yearsold','ethnicity','gender']]])"
   ]
  },
  {
   "cell_type": "code",
   "execution_count": 11,
   "metadata": {},
   "outputs": [
    {
     "data": {
      "text/html": [
       "<div>\n",
       "<style scoped>\n",
       "    .dataframe tbody tr th:only-of-type {\n",
       "        vertical-align: middle;\n",
       "    }\n",
       "\n",
       "    .dataframe tbody tr th {\n",
       "        vertical-align: top;\n",
       "    }\n",
       "\n",
       "    .dataframe thead th {\n",
       "        text-align: right;\n",
       "    }\n",
       "</style>\n",
       "<table border=\"1\" class=\"dataframe\">\n",
       "  <thead>\n",
       "    <tr style=\"text-align: right;\">\n",
       "      <th></th>\n",
       "      <th>icustay_id</th>\n",
       "      <th>yearsold</th>\n",
       "      <th>gender</th>\n",
       "    </tr>\n",
       "  </thead>\n",
       "  <tbody>\n",
       "    <tr>\n",
       "      <th>count</th>\n",
       "      <td>10305.000000</td>\n",
       "      <td>6831.000000</td>\n",
       "      <td>6831.000000</td>\n",
       "    </tr>\n",
       "    <tr>\n",
       "      <th>mean</th>\n",
       "      <td>249857.183212</td>\n",
       "      <td>64.355019</td>\n",
       "      <td>0.552042</td>\n",
       "    </tr>\n",
       "    <tr>\n",
       "      <th>std</th>\n",
       "      <td>28968.046750</td>\n",
       "      <td>17.763457</td>\n",
       "      <td>0.497321</td>\n",
       "    </tr>\n",
       "    <tr>\n",
       "      <th>min</th>\n",
       "      <td>200012.000000</td>\n",
       "      <td>16.022154</td>\n",
       "      <td>0.000000</td>\n",
       "    </tr>\n",
       "    <tr>\n",
       "      <th>25%</th>\n",
       "      <td>224498.000000</td>\n",
       "      <td>52.468778</td>\n",
       "      <td>0.000000</td>\n",
       "    </tr>\n",
       "    <tr>\n",
       "      <th>50%</th>\n",
       "      <td>249804.000000</td>\n",
       "      <td>66.219555</td>\n",
       "      <td>1.000000</td>\n",
       "    </tr>\n",
       "    <tr>\n",
       "      <th>75%</th>\n",
       "      <td>275055.000000</td>\n",
       "      <td>78.838347</td>\n",
       "      <td>1.000000</td>\n",
       "    </tr>\n",
       "    <tr>\n",
       "      <th>max</th>\n",
       "      <td>299995.000000</td>\n",
       "      <td>90.000000</td>\n",
       "      <td>1.000000</td>\n",
       "    </tr>\n",
       "  </tbody>\n",
       "</table>\n",
       "</div>"
      ],
      "text/plain": [
       "          icustay_id     yearsold       gender\n",
       "count   10305.000000  6831.000000  6831.000000\n",
       "mean   249857.183212    64.355019     0.552042\n",
       "std     28968.046750    17.763457     0.497321\n",
       "min    200012.000000    16.022154     0.000000\n",
       "25%    224498.000000    52.468778     0.000000\n",
       "50%    249804.000000    66.219555     1.000000\n",
       "75%    275055.000000    78.838347     1.000000\n",
       "max    299995.000000    90.000000     1.000000"
      ]
     },
     "execution_count": 11,
     "metadata": {},
     "output_type": "execute_result"
    },
    {
     "name": "stdout",
     "output_type": "stream",
     "text": [
      "time: 21 ms\n"
     ]
    }
   ],
   "source": [
    "full_demo.describe()"
   ]
  },
  {
   "cell_type": "code",
   "execution_count": 12,
   "metadata": {},
   "outputs": [
    {
     "data": {
      "text/html": [
       "<div>\n",
       "<style scoped>\n",
       "    .dataframe tbody tr th:only-of-type {\n",
       "        vertical-align: middle;\n",
       "    }\n",
       "\n",
       "    .dataframe tbody tr th {\n",
       "        vertical-align: top;\n",
       "    }\n",
       "\n",
       "    .dataframe thead th {\n",
       "        text-align: right;\n",
       "    }\n",
       "</style>\n",
       "<table border=\"1\" class=\"dataframe\">\n",
       "  <thead>\n",
       "    <tr style=\"text-align: right;\">\n",
       "      <th></th>\n",
       "      <th>icustay_id</th>\n",
       "      <th>yearsold</th>\n",
       "      <th>ethnicity</th>\n",
       "      <th>gender</th>\n",
       "    </tr>\n",
       "  </thead>\n",
       "  <tbody>\n",
       "    <tr>\n",
       "      <th>0</th>\n",
       "      <td>200012.0</td>\n",
       "      <td>32.988959</td>\n",
       "      <td>asian</td>\n",
       "      <td>0.0</td>\n",
       "    </tr>\n",
       "    <tr>\n",
       "      <th>1</th>\n",
       "      <td>200014.0</td>\n",
       "      <td>84.728186</td>\n",
       "      <td>unknown/other</td>\n",
       "      <td>1.0</td>\n",
       "    </tr>\n",
       "    <tr>\n",
       "      <th>2</th>\n",
       "      <td>200033.0</td>\n",
       "      <td>67.145099</td>\n",
       "      <td>white/nonhispanic</td>\n",
       "      <td>1.0</td>\n",
       "    </tr>\n",
       "    <tr>\n",
       "      <th>3</th>\n",
       "      <td>200036.0</td>\n",
       "      <td>74.934136</td>\n",
       "      <td>white/nonhispanic</td>\n",
       "      <td>1.0</td>\n",
       "    </tr>\n",
       "    <tr>\n",
       "      <th>4</th>\n",
       "      <td>200055.0</td>\n",
       "      <td>NaN</td>\n",
       "      <td>NaN</td>\n",
       "      <td>NaN</td>\n",
       "    </tr>\n",
       "  </tbody>\n",
       "</table>\n",
       "</div>"
      ],
      "text/plain": [
       "   icustay_id   yearsold          ethnicity  gender\n",
       "0    200012.0  32.988959              asian     0.0\n",
       "1    200014.0  84.728186      unknown/other     1.0\n",
       "2    200033.0  67.145099  white/nonhispanic     1.0\n",
       "3    200036.0  74.934136  white/nonhispanic     1.0\n",
       "4    200055.0        NaN                NaN     NaN"
      ]
     },
     "execution_count": 12,
     "metadata": {},
     "output_type": "execute_result"
    },
    {
     "name": "stdout",
     "output_type": "stream",
     "text": [
      "time: 6.99 ms\n"
     ]
    }
   ],
   "source": [
    "full_demo.head()"
   ]
  },
  {
   "cell_type": "code",
   "execution_count": 13,
   "metadata": {},
   "outputs": [
    {
     "data": {
      "text/plain": [
       "C_neg/A_partial    7867\n",
       "C_pos/A_full       2438\n",
       "Name: final_bin, dtype: int64"
      ]
     },
     "execution_count": 13,
     "metadata": {},
     "output_type": "execute_result"
    },
    {
     "name": "stdout",
     "output_type": "stream",
     "text": [
      "time: 19 ms\n"
     ]
    }
   ],
   "source": [
    "full_demo.merge(final_pt_df2[['icustay_id','subject_id','final_bin']])['final_bin'].value_counts()"
   ]
  },
  {
   "cell_type": "code",
   "execution_count": 14,
   "metadata": {},
   "outputs": [
    {
     "data": {
      "text/plain": [
       "16.0221538076406"
      ]
     },
     "execution_count": 14,
     "metadata": {},
     "output_type": "execute_result"
    },
    {
     "name": "stdout",
     "output_type": "stream",
     "text": [
      "time: 2.65 ms\n"
     ]
    }
   ],
   "source": [
    "full_demo['yearsold'].min()"
   ]
  },
  {
   "cell_type": "code",
   "execution_count": 15,
   "metadata": {},
   "outputs": [
    {
     "data": {
      "text/plain": [
       "white/nonhispanic    4906\n",
       "unknown/other         845\n",
       "black                 602\n",
       "hispanic              280\n",
       "asian                 198\n",
       "Name: ethnicity, dtype: int64"
      ]
     },
     "execution_count": 15,
     "metadata": {},
     "output_type": "execute_result"
    },
    {
     "name": "stdout",
     "output_type": "stream",
     "text": [
      "time: 4.38 ms\n"
     ]
    }
   ],
   "source": [
    "full_demo['ethnicity'].value_counts()"
   ]
  },
  {
   "cell_type": "code",
   "execution_count": 16,
   "metadata": {},
   "outputs": [
    {
     "data": {
      "text/plain": [
       "1.0    3771\n",
       "0.0    3060\n",
       "Name: gender, dtype: int64"
      ]
     },
     "execution_count": 16,
     "metadata": {},
     "output_type": "execute_result"
    },
    {
     "name": "stdout",
     "output_type": "stream",
     "text": [
      "time: 4.04 ms\n"
     ]
    }
   ],
   "source": [
    "full_demo['gender'].value_counts()"
   ]
  },
  {
   "cell_type": "code",
   "execution_count": 17,
   "metadata": {},
   "outputs": [
    {
     "data": {
      "text/html": [
       "<div>\n",
       "<style scoped>\n",
       "    .dataframe tbody tr th:only-of-type {\n",
       "        vertical-align: middle;\n",
       "    }\n",
       "\n",
       "    .dataframe tbody tr th {\n",
       "        vertical-align: top;\n",
       "    }\n",
       "\n",
       "    .dataframe thead th {\n",
       "        text-align: right;\n",
       "    }\n",
       "</style>\n",
       "<table border=\"1\" class=\"dataframe\">\n",
       "  <thead>\n",
       "    <tr style=\"text-align: right;\">\n",
       "      <th></th>\n",
       "      <th>icustay_id</th>\n",
       "      <th>yearsold</th>\n",
       "      <th>ethnicity</th>\n",
       "      <th>gender</th>\n",
       "    </tr>\n",
       "  </thead>\n",
       "  <tbody>\n",
       "    <tr>\n",
       "      <th>0</th>\n",
       "      <td>200030.0</td>\n",
       "      <td>54.191893</td>\n",
       "      <td>black</td>\n",
       "      <td>1.0</td>\n",
       "    </tr>\n",
       "    <tr>\n",
       "      <th>1</th>\n",
       "      <td>200063.0</td>\n",
       "      <td>37.073163</td>\n",
       "      <td>unknown/other</td>\n",
       "      <td>1.0</td>\n",
       "    </tr>\n",
       "    <tr>\n",
       "      <th>2</th>\n",
       "      <td>200078.0</td>\n",
       "      <td>NaN</td>\n",
       "      <td>NaN</td>\n",
       "      <td>NaN</td>\n",
       "    </tr>\n",
       "    <tr>\n",
       "      <th>3</th>\n",
       "      <td>200109.0</td>\n",
       "      <td>NaN</td>\n",
       "      <td>NaN</td>\n",
       "      <td>NaN</td>\n",
       "    </tr>\n",
       "    <tr>\n",
       "      <th>4</th>\n",
       "      <td>200116.0</td>\n",
       "      <td>56.506077</td>\n",
       "      <td>white/nonhispanic</td>\n",
       "      <td>1.0</td>\n",
       "    </tr>\n",
       "  </tbody>\n",
       "</table>\n",
       "</div>"
      ],
      "text/plain": [
       "   icustay_id   yearsold          ethnicity  gender\n",
       "0    200030.0  54.191893              black     1.0\n",
       "1    200063.0  37.073163      unknown/other     1.0\n",
       "2    200078.0        NaN                NaN     NaN\n",
       "3    200109.0        NaN                NaN     NaN\n",
       "4    200116.0  56.506077  white/nonhispanic     1.0"
      ]
     },
     "execution_count": 17,
     "metadata": {},
     "output_type": "execute_result"
    },
    {
     "name": "stdout",
     "output_type": "stream",
     "text": [
      "time: 10.2 ms\n"
     ]
    }
   ],
   "source": [
    "test_data[['icustay_id','yearsold','ethnicity','gender']].head()"
   ]
  },
  {
   "cell_type": "code",
   "execution_count": 18,
   "metadata": {},
   "outputs": [
    {
     "data": {
      "text/plain": [
       "C_neg/A_partial    5512\n",
       "C_pos/A_full       1693\n",
       "Name: final_bin, dtype: int64"
      ]
     },
     "execution_count": 18,
     "metadata": {},
     "output_type": "execute_result"
    },
    {
     "name": "stdout",
     "output_type": "stream",
     "text": [
      "time: 22.1 ms\n"
     ]
    }
   ],
   "source": [
    "train_data.merge(final_pt_df2[['icustay_id','subject_id','final_bin']])['final_bin'].value_counts()"
   ]
  },
  {
   "cell_type": "markdown",
   "metadata": {},
   "source": [
    "## back to the modeling"
   ]
  },
  {
   "cell_type": "code",
   "execution_count": 19,
   "metadata": {},
   "outputs": [
    {
     "name": "stdout",
     "output_type": "stream",
     "text": [
      "time: 109 ms\n"
     ]
    }
   ],
   "source": [
    "def preprocessing(preimp_df):\n",
    "\n",
    "    \"\"\"\n",
    "    function operations:\n",
    "    1) rename columns\n",
    "    2) standardize last 2 columns to be standardized\n",
    "    3) convert categorical columns to proper format\n",
    "    4) median impute\n",
    "    \"\"\"\n",
    "    from sklearn.impute import SimpleImputer\n",
    "        \n",
    "    rename_dic={\n",
    "    \"('max', 'sodium')\": \"maxSodium\" ,\n",
    "    \"('max', 'sodium')\" : \"maxSodium\",\n",
    "    \"('min', 'sodium')\" : \"minSodium\",\n",
    "    \"('max', 'calcium')\" : \"maxCalcium\",\n",
    "    \"('min', 'calcium')\" : \"minCalcium\",\n",
    "    \"('max', 'sodium')\": \"maxSodium\",\n",
    "    \"('min', 'sodium')\": \"minSodium\",\n",
    "    \"('max', 'wbc')\": \"maxWBC\",\n",
    "    \"('min', 'wbc')\": \"minWBC\",\n",
    "    \"bands\": \"ibands\",\n",
    "    \"pco2\": \"ipco2\"\n",
    "        }\n",
    "    data=preimp_df.copy()\n",
    "    data=data.rename(rename_dic, axis='columns').copy()\n",
    "    data.loc[data['yearsold']>90,\"yearsold\"]=90\n",
    "    \n",
    "    \n",
    "    #train_data=data.copy()\n",
    "    weight_median=np.log(data.loc[data['final_bin']==\"C_neg/A_partial\",\"weight\"]+1).median()\n",
    "    weight_quant1=np.log(data.loc[data['final_bin']==\"C_neg/A_partial\",\"weight\"]+1).quantile(0.25)#.between(train_data['col'].quantile(.25), df['col'].quantile(.75), inclusive=True)]\n",
    "    weight_quant3=np.log(data.loc[data['final_bin']==\"C_neg/A_partial\",\"weight\"]+1).quantile(0.75)\n",
    "    weight_iqr=weight_quant3-weight_quant1\n",
    "    #print(weight_median,weight_quant3,weight_quant1, weight_iqr)\n",
    "\n",
    "    age_median=np.log(data.loc[data['final_bin']==\"C_neg/A_partial\",\"yearsold\"]+1).median()\n",
    "    age_quant1=np.log(data.loc[data['final_bin']==\"C_neg/A_partial\",\"yearsold\"]+1).quantile(0.25)\n",
    "    age_quant3=np.log(data.loc[data['final_bin']==\"C_neg/A_partial\",\"yearsold\"]+1).quantile(0.75)\n",
    "    age_iqr=age_quant3-age_quant1\n",
    "\n",
    "    #converting to log scaled standardized data for age/weight\n",
    "    data['weight']=data['weight'].apply(lambda x: (np.log(x+1)-weight_median)/weight_iqr)\n",
    "    data['yearsold']=data['yearsold'].apply(lambda x: (np.log(x+1)-age_median)/age_iqr)\n",
    "    \n",
    "    ### onehot encoding categorical var\n",
    "    cols_to_transform=['ethnicity', 'ibands', 'ipco2',\n",
    "                       'any_vasoactives',\"leukocyte\",\"nitrite\",\n",
    "                       'pao2fio2ratio', 'vent_recieved',  \"dobutamine\",\n",
    "                       \"dopamine\",\"epinephrine\",\"norepinephrine\",\n",
    "                       \"phenylephrine\",\"rrt\",\"vasopressin\",'cancer_elix' ]\n",
    "    data = pd.get_dummies(data, columns = cols_to_transform, drop_first=True)\n",
    "    \n",
    "    \n",
    "    #binarizing and poping outcome for training data\n",
    "    data.loc[data['final_bin']==\"C_pos/A_full\",\"final_bin\"]=1\n",
    "    data.loc[data['final_bin']==\"C_neg/A_partial\",\"final_bin\"]=0\n",
    "    data['final_bin']=pd.to_numeric(data['final_bin'])\n",
    "    \n",
    "    \n",
    "    imp = SimpleImputer(missing_values=np.nan, strategy='median')\n",
    "    data=pd.DataFrame(imp.fit_transform(data), columns=list(data))\n",
    "\n",
    "    ## establishing training data and labels\n",
    "    x_train= data.copy()\n",
    "    z_icustay_id=x_train.pop('icustay_id')\n",
    "    y_train= x_train.pop(\"final_bin\").values\n",
    "    \n",
    "    return(x_train, y_train, z_icustay_id)\n",
    "\n",
    "# x_train, y_train, z_icustay_id= preprocessing(pd.merge(preimp_train_df, final_pt_df2[['icustay_id','final_bin']]))"
   ]
  },
  {
   "cell_type": "code",
   "execution_count": 20,
   "metadata": {},
   "outputs": [
    {
     "name": "stdout",
     "output_type": "stream",
     "text": [
      "time: 519 µs\n"
     ]
    }
   ],
   "source": [
    "\n",
    "# x_train, y_train, z_icustay_id= preprocessing(pd.merge(preimp_train_df, final_pt_df2[['icustay_id','final_bin']]))"
   ]
  },
  {
   "cell_type": "code",
   "execution_count": 21,
   "metadata": {},
   "outputs": [
    {
     "name": "stdout",
     "output_type": "stream",
     "text": [
      "time: 257 ms\n"
     ]
    }
   ],
   "source": [
    "x_train, y_train, z_icustay_id = preprocessing(pd.merge(train_data, final_pt_df2[['icustay_id','final_bin']]))\n",
    "x_test, y_test, z_icustay_id_test= preprocessing(pd.merge(test_data, final_pt_df2[['icustay_id','final_bin']]))\n",
    "\n",
    "z_subject_id=pd.merge(pd.DataFrame(z_icustay_id), final_pt_df2[['icustay_id','subject_id']], how='left')['subject_id'] #7205"
   ]
  },
  {
   "cell_type": "code",
   "execution_count": 22,
   "metadata": {},
   "outputs": [
    {
     "name": "stdout",
     "output_type": "stream",
     "text": [
      "time: 6.24 ms\n"
     ]
    }
   ],
   "source": [
    "### added 11/8/19: removed daily sofa score from prediction model, since the components used to calculate it are already in model\n",
    "x_train.drop('daily_sofa', axis=1, inplace=True)\n",
    "x_test.drop('daily_sofa', axis=1, inplace=True)"
   ]
  },
  {
   "cell_type": "code",
   "execution_count": 23,
   "metadata": {},
   "outputs": [
    {
     "data": {
      "text/plain": [
       "56"
      ]
     },
     "execution_count": 23,
     "metadata": {},
     "output_type": "execute_result"
    },
    {
     "name": "stdout",
     "output_type": "stream",
     "text": [
      "time: 2.25 ms\n"
     ]
    }
   ],
   "source": [
    "len(list(x_train))"
   ]
  },
  {
   "cell_type": "markdown",
   "metadata": {},
   "source": [
    "### getting table for paper"
   ]
  },
  {
   "cell_type": "code",
   "execution_count": 24,
   "metadata": {},
   "outputs": [
    {
     "data": {
      "text/plain": [
       "['bilirubin',\n",
       " 'bun',\n",
       " 'chloride',\n",
       " 'creatinine',\n",
       " 'glucose',\n",
       " 'heartrate',\n",
       " 'inr',\n",
       " 'lactate',\n",
       " 'o2_flow',\n",
       " 'potassium',\n",
       " 'ptt',\n",
       " 'resprate',\n",
       " 'sum_elix',\n",
       " 'temperature',\n",
       " 'bicarbonate',\n",
       " 'diasbp',\n",
       " 'hemoglobin',\n",
       " 'meanartpress',\n",
       " 'mingcs',\n",
       " 'ph',\n",
       " 'platelet',\n",
       " 'spo2',\n",
       " 'sysbp',\n",
       " 'maxCalcium',\n",
       " 'maxSodium',\n",
       " 'maxWBC',\n",
       " 'minCalcium',\n",
       " 'minSodium',\n",
       " 'minWBC',\n",
       " 'gender',\n",
       " 'weight',\n",
       " 'yearsold',\n",
       " 'ethnicity_black',\n",
       " 'ethnicity_hispanic',\n",
       " 'ethnicity_unknown/other',\n",
       " 'ethnicity_white/nonhispanic',\n",
       " 'ibands_>10',\n",
       " 'ibands_absent',\n",
       " 'ipco2_>50',\n",
       " 'ipco2_absent',\n",
       " 'any_vasoactives_1.0',\n",
       " 'leukocyte_1.0',\n",
       " 'nitrite_1.0',\n",
       " 'pao2fio2ratio_(200, 333]',\n",
       " 'pao2fio2ratio_(333, 475]',\n",
       " 'pao2fio2ratio_(475, 3000]',\n",
       " 'vent_recieved_1.0',\n",
       " 'vent_recieved_2.0',\n",
       " 'dobutamine_1.0',\n",
       " 'dopamine_1.0',\n",
       " 'epinephrine_1.0',\n",
       " 'norepinephrine_1.0',\n",
       " 'phenylephrine_1.0',\n",
       " 'rrt_1.0',\n",
       " 'vasopressin_1.0',\n",
       " 'cancer_elix_1.0']"
      ]
     },
     "execution_count": 24,
     "metadata": {},
     "output_type": "execute_result"
    },
    {
     "name": "stdout",
     "output_type": "stream",
     "text": [
      "time: 2.94 ms\n"
     ]
    }
   ],
   "source": [
    "list(x_train)"
   ]
  },
  {
   "cell_type": "code",
   "execution_count": 25,
   "metadata": {},
   "outputs": [
    {
     "data": {
      "text/plain": [
       "C_neg/A_partial    5512\n",
       "C_pos/A_full       1693\n",
       "Name: final_bin, dtype: int64"
      ]
     },
     "execution_count": 25,
     "metadata": {},
     "output_type": "execute_result"
    },
    {
     "name": "stdout",
     "output_type": "stream",
     "text": [
      "time: 21.6 ms\n"
     ]
    }
   ],
   "source": [
    "pd.merge(train_data['icustay_id'], final_pt_df2[['icustay_id','final_bin']])['final_bin'].value_counts()"
   ]
  },
  {
   "cell_type": "code",
   "execution_count": 26,
   "metadata": {},
   "outputs": [
    {
     "data": {
      "text/plain": [
       "C_neg/A_partial    2355\n",
       "C_pos/A_full        745\n",
       "Name: final_bin, dtype: int64"
      ]
     },
     "execution_count": 26,
     "metadata": {},
     "output_type": "execute_result"
    },
    {
     "name": "stdout",
     "output_type": "stream",
     "text": [
      "time: 18.6 ms\n"
     ]
    }
   ],
   "source": [
    "pd.merge(test_data['icustay_id'], final_pt_df2[['icustay_id','final_bin']])['final_bin'].value_counts()"
   ]
  },
  {
   "cell_type": "markdown",
   "metadata": {},
   "source": [
    "## looking at correlation of all variables"
   ]
  },
  {
   "cell_type": "code",
   "execution_count": 27,
   "metadata": {},
   "outputs": [
    {
     "data": {
      "image/png": "[encoded data removed]",
      "text/plain": [
       "<Figure size 1800x1440 with 2 Axes>"
      ]
     },
     "metadata": {
      "needs_background": "light"
     },
     "output_type": "display_data"
    },
    {
     "name": "stdout",
     "output_type": "stream",
     "text": [
      "time: 1.96 s\n"
     ]
    }
   ],
   "source": [
    "corr = x_train.corr().abs()\n",
    "\n",
    "plt.figure(figsize=(25, 20))\n",
    "ax = sns.heatmap(\n",
    "    corr, \n",
    "    vmin=-1, vmax=1, center=0,\n",
    "    cmap=sns.diverging_palette(20, 220, n=200),\n",
    "    square=True\n",
    ")\n",
    "ax.set_xticklabels(\n",
    "    ax.get_xticklabels(),\n",
    "    rotation=45,\n",
    "    horizontalalignment='right'\n",
    ");"
   ]
  },
  {
   "cell_type": "code",
   "execution_count": 28,
   "metadata": {},
   "outputs": [
    {
     "data": {
      "text/html": [
       "<div>\n",
       "<style scoped>\n",
       "    .dataframe tbody tr th:only-of-type {\n",
       "        vertical-align: middle;\n",
       "    }\n",
       "\n",
       "    .dataframe tbody tr th {\n",
       "        vertical-align: top;\n",
       "    }\n",
       "\n",
       "    .dataframe thead th {\n",
       "        text-align: right;\n",
       "    }\n",
       "</style>\n",
       "<table border=\"1\" class=\"dataframe\">\n",
       "  <thead>\n",
       "    <tr style=\"text-align: right;\">\n",
       "      <th></th>\n",
       "      <th>corx</th>\n",
       "      <th>cory</th>\n",
       "      <th>corr</th>\n",
       "    </tr>\n",
       "  </thead>\n",
       "  <tbody>\n",
       "    <tr>\n",
       "      <th>0</th>\n",
       "      <td>maxWBC</td>\n",
       "      <td>minWBC</td>\n",
       "      <td>0.915240</td>\n",
       "    </tr>\n",
       "    <tr>\n",
       "      <th>1</th>\n",
       "      <td>vent_recieved_1.0</td>\n",
       "      <td>vent_recieved_2.0</td>\n",
       "      <td>0.853540</td>\n",
       "    </tr>\n",
       "    <tr>\n",
       "      <th>2</th>\n",
       "      <td>ipco2_absent</td>\n",
       "      <td>pao2fio2ratio_(475, 3000]</td>\n",
       "      <td>0.814699</td>\n",
       "    </tr>\n",
       "  </tbody>\n",
       "</table>\n",
       "</div>"
      ],
      "text/plain": [
       "                corx                       cory      corr\n",
       "0             maxWBC                     minWBC  0.915240\n",
       "1  vent_recieved_1.0          vent_recieved_2.0  0.853540\n",
       "2       ipco2_absent  pao2fio2ratio_(475, 3000]  0.814699"
      ]
     },
     "execution_count": 28,
     "metadata": {},
     "output_type": "execute_result"
    },
    {
     "name": "stdout",
     "output_type": "stream",
     "text": [
      "time: 18.6 ms\n"
     ]
    }
   ],
   "source": [
    "sol = (corr.where(np.triu(np.ones(corr.shape), k=1).astype(np.bool)).stack().sort_values(ascending=False))\n",
    "cor_df=pd.DataFrame(sol)#.sort_values(kind=\"quicksort\") #[-10:0])\n",
    "cor_df=cor_df.reset_index()\n",
    "cor_df=cor_df.rename(columns={'level_0': 'corx', 'level_1': 'cory', 0:'corr'})\n",
    "cor_df2=cor_df[(cor_df['corx']!=cor_df['cory']) & (cor_df['corr']>0.7)].sort_values('corr', ascending=False)\n",
    "cor_df2.head()"
   ]
  },
  {
   "cell_type": "markdown",
   "metadata": {},
   "source": [
    "### DROPING one of the 2 columns with correlation >0.7"
   ]
  },
  {
   "cell_type": "markdown",
   "metadata": {},
   "source": [
    "\tcorx\tcory\tcorr\n",
    "0\tipco2_absent\tpao2fio2Ratio_(475, 3000]\t0.872418\n",
    "1\tmaxWBC\tminWBC\t0.802373\n",
    "2\tbun\tcreatinine\t0.720861\n",
    "3\tmaxSodium\tminSodium\t0.704233"
   ]
  },
  {
   "cell_type": "code",
   "execution_count": 29,
   "metadata": {},
   "outputs": [
    {
     "name": "stdout",
     "output_type": "stream",
     "text": [
      "time: 3.96 ms\n"
     ]
    }
   ],
   "source": [
    "x_train.drop(columns=list(cor_df2['corx']), inplace=True, errors='raise')\n",
    "x_test.drop(columns=list(cor_df2['corx']), inplace=True, errors='raise')"
   ]
  },
  {
   "cell_type": "markdown",
   "metadata": {},
   "source": [
    "### formatting x and y for modleing"
   ]
  },
  {
   "cell_type": "code",
   "execution_count": 30,
   "metadata": {},
   "outputs": [
    {
     "name": "stdout",
     "output_type": "stream",
     "text": [
      "time: 3.69 ms\n"
     ]
    }
   ],
   "source": [
    "x=np.array(x_train.copy())\n",
    "y=y_train.copy() #copy of y_train\n",
    "y=y.astype('int')\n",
    "#time_interval=4"
   ]
  },
  {
   "cell_type": "code",
   "execution_count": 31,
   "metadata": {},
   "outputs": [
    {
     "name": "stdout",
     "output_type": "stream",
     "text": [
      "7205 3100\n",
      "time: 1.04 ms\n"
     ]
    }
   ],
   "source": [
    "print(len(x_train),len(x_test))"
   ]
  },
  {
   "cell_type": "code",
   "execution_count": 32,
   "metadata": {},
   "outputs": [
    {
     "data": {
      "text/plain": [
       "53"
      ]
     },
     "execution_count": 32,
     "metadata": {},
     "output_type": "execute_result"
    },
    {
     "name": "stdout",
     "output_type": "stream",
     "text": [
      "time: 2.22 ms\n"
     ]
    }
   ],
   "source": [
    "len(list(x_train))"
   ]
  },
  {
   "cell_type": "code",
   "execution_count": 33,
   "metadata": {},
   "outputs": [
    {
     "name": "stdout",
     "output_type": "stream",
     "text": [
      "time: 17.9 ms\n"
     ]
    }
   ],
   "source": [
    "def save_df(df, df_name='default', rel_path='/data/final/'):\n",
    "    \"\"\"\n",
    "    simple function for saving result table. uses the date and supplied df name and saves to the savepath specified above.\n",
    "    \"\"\"\n",
    "    global folder\n",
    "    \n",
    "    save_path= str(repository_path)+rel_path\n",
    "    \n",
    "    address=save_path+'{}/'.format(folder)\n",
    "    if not os.path.exists(address):\n",
    "        print(address)\n",
    "        os.makedirs(address)\n",
    "    else:\n",
    "        print(address)\n",
    "        \n",
    "    if address.endswith('/')==False:\n",
    "        address= address+'/'\n",
    "        \n",
    "    if df_name == 'default':\n",
    "        df_name =[x for x in globals() if globals()[x] is df][0]\n",
    "        \n",
    "    pd.DataFrame(df).to_csv(Path(address+'{}_{}.csv'.format(date, df_name)))\n"
   ]
  },
  {
   "cell_type": "code",
   "execution_count": null,
   "metadata": {},
   "outputs": [],
   "source": []
  },
  {
   "cell_type": "code",
   "execution_count": 34,
   "metadata": {},
   "outputs": [
    {
     "name": "stdout",
     "output_type": "stream",
     "text": [
      "/Users/geickelb1/Documents/GitHub/mimiciii-antibiotics-opensource/data/final/24_hr_window/\n",
      "/Users/geickelb1/Documents/GitHub/mimiciii-antibiotics-opensource/data/final/24_hr_window/\n",
      "/Users/geickelb1/Documents/GitHub/mimiciii-antibiotics-opensource/data/final/24_hr_window/\n",
      "/Users/geickelb1/Documents/GitHub/mimiciii-antibiotics-opensource/data/final/24_hr_window/\n",
      "time: 744 ms\n"
     ]
    }
   ],
   "source": [
    "save_df(x_train, 'x_train_final', rel_path='/data/final/')\n",
    "save_df(x_test, 'x_test_final', rel_path='/data/final/')\n",
    "save_df(y_train, 'y_train_final', rel_path='/data/final/')\n",
    "save_df(y_test, 'y_test_final', rel_path='/data/final/')"
   ]
  },
  {
   "cell_type": "markdown",
   "metadata": {},
   "source": [
    "# Modelbuilding\n",
    "## test entire trainset and predict trainset.\n",
    "* step1) hypertune and evaluate models on 10fold cv.  \n",
    "* step2) test entire train set and predict testset.\n",
    "* step3) generate figures"
   ]
  },
  {
   "cell_type": "code",
   "execution_count": 35,
   "metadata": {},
   "outputs": [
    {
     "name": "stdout",
     "output_type": "stream",
     "text": [
      "time: 9.48 ms\n"
     ]
    }
   ],
   "source": [
    "def evaluate(model, test_features, test_labels):\n",
    "    from sklearn.metrics import log_loss\n",
    "    \n",
    "    y_hat = model.predict(test_features)\n",
    "    errors = abs(y_hat - test_labels)\n",
    "    mape = 100 * np.mean(errors / test_labels)\n",
    "    accuracy = 100 - mape\n",
    "    auc=roc_auc_score(test_labels, y_hat)\n",
    "    loss= log_loss(test_labels, y_hat)\n",
    "    \n",
    "    print ('the AUC is: {:0.3f}'.format(auc))\n",
    "    print ('the logloss is: {:0.3f}'.format(loss))\n",
    "    print(confusion_matrix(test_labels, y_hat))\n",
    "    print(classification_report(test_labels,y_hat, digits=3))\n",
    "    return (loss)"
   ]
  },
  {
   "cell_type": "code",
   "execution_count": 36,
   "metadata": {},
   "outputs": [
    {
     "name": "stdout",
     "output_type": "stream",
     "text": [
      "time: 61.1 ms\n"
     ]
    }
   ],
   "source": [
    "def hypertuning_fxn(X, y, nfolds, model , param_grid, base_model, scoring=\"neg_log_loss\", gridsearch=True, n_iter=20, verbose=False): \n",
    "    from sklearn.model_selection import GroupKFold\n",
    "    ## 11/7/19: improvement: added in groupKFold and group on subject_id, this makes \n",
    "    np.random.seed(12345)\n",
    "    if gridsearch==True:\n",
    "        grid_search = GridSearchCV(estimator= model,\n",
    "                                         param_grid=param_grid,\n",
    "                                         cv=GroupKFold(nfolds),\n",
    "                                         scoring=scoring,\n",
    "                                         return_train_score=True,\n",
    "                                         n_jobs = -1)\n",
    "    else:\n",
    "        grid_search = RandomizedSearchCV(estimator= model,\n",
    "                                         param_distributions= param_grid,\n",
    "                                         n_iter=n_iter,\n",
    "                                         cv=GroupKFold(nfolds),\n",
    "                                         scoring=scoring,\n",
    "                                         return_train_score=True,\n",
    "                                         n_jobs = -1)\n",
    "    #grid_search.fit(X, y)    \n",
    "    grid_search.fit(X, y, groups=z_subject_id)    \n",
    "    \n",
    "    print(\"Grid scores on development set:\")\n",
    "    means = grid_search.cv_results_['mean_test_score']\n",
    "    stds = grid_search.cv_results_['std_test_score']\n",
    "    \n",
    "    \n",
    "    if verbose==True:\n",
    "        for mean, std, params in zip(means, stds, grid_search.cv_results_['params']):\n",
    "            print(\"%0.3f (+/-%0.03f) for %r\"% (mean, std * 2, params))\n",
    "\n",
    "    #grid_search.best_params_\n",
    "    print('best score/param: ', grid_search.best_score_)\n",
    "    print(grid_search.best_params_)\n",
    "    \n",
    "    print('\\n base model:')\n",
    "    base_model = base_model#(random_state = 42)\n",
    "    base_model.fit(x, y)\n",
    "    base_auc = evaluate(base_model, x, y)\n",
    "    \n",
    "    print('\\n hypertuned model:')\n",
    "    best_random = grid_search.best_estimator_\n",
    "    random_auc = evaluate(best_random, x, y)\n",
    "\n",
    "    print('logloss change of {:0.2f}%. after hypertuning on training set (may be overfit)'.format( 100 * (random_auc - base_auc) / base_auc))\n",
    "    \n",
    "    print(grid_search.best_estimator_)\n",
    "    \n",
    "    return(grid_search)"
   ]
  },
  {
   "cell_type": "code",
   "execution_count": 37,
   "metadata": {},
   "outputs": [
    {
     "name": "stdout",
     "output_type": "stream",
     "text": [
      "time: 83 ms\n"
     ]
    }
   ],
   "source": [
    "def hypertuned_cv_fxn(model, nfolds):\n",
    "    \"\"\"\n",
    "    the goal of this function is to take the best hypertuned model and \n",
    "    generate average and std for F-1, precision, recall, npv, and AUC across each fold.\n",
    "    \"\"\"\n",
    "    \n",
    "    from sklearn.model_selection import GroupKFold\n",
    "    import sklearn.metrics as metrics\n",
    "    from sklearn.metrics import precision_score, roc_auc_score, f1_score, recall_score\n",
    "    \n",
    "    pos_label=1\n",
    "    \n",
    "    np.random.seed(12345)\n",
    "    group_kfold = GroupKFold(n_splits=nfolds)\n",
    "    group_kfold.get_n_splits(x, y, z_subject_id)\n",
    "\n",
    "    f1_y_cv=[]\n",
    "    auc_y_cv=[]\n",
    "    prec_y_cv=[]\n",
    "    recall_y_cv=[]\n",
    "    npv_y_cv=[]\n",
    "\n",
    "    for train_index, test_index in group_kfold.split(x, y, z_subject_id):\n",
    "        x_train_cv, x_test_cv = x[train_index], x[test_index]\n",
    "        y_train_cv, y_test_cv = y[train_index], y[test_index]\n",
    "        model.fit(x_train_cv, y_train_cv)\n",
    "        \n",
    "        y_proba = model.predict_proba(x_test_cv)[:,1]\n",
    "        y_pred = model.predict(x_test_cv)\n",
    "\n",
    "        fpr, tpr, thresholds = metrics.roc_curve(y_test_cv, y_proba, pos_label=pos_label)    \n",
    "        #gathering the optimal youden_index and df of tpr/fpr for auc and index of that optimal youden. idx is needed in the roc\n",
    "        youden_threshold, roc_df, idx= optimal_youden_index(fpr, tpr, thresholds,tp90=True)\n",
    "        y_pred_youden = [1 if y >= youden_threshold else 0 for y in y_proba]\n",
    "            \n",
    "        npv_y=confusion_matrix(y_test_cv, y_pred_youden)[0,0]/sum(np.array(y_pred_youden)==0)\n",
    "        npv_y_cv.append(npv_y)\n",
    "\n",
    "        prec_y= precision_score(y_true=y_test_cv, y_pred= y_pred_youden, pos_label=pos_label)\n",
    "        prec_y_cv.append(prec_y)\n",
    "\n",
    "        recall_y= recall_score(y_true=y_test_cv, y_pred= y_pred_youden, pos_label=pos_label)\n",
    "        recall_y_cv.append(recall_y)\n",
    "\n",
    "        f1_y= f1_score(y_true=y_test_cv, y_pred= y_pred_youden, pos_label=pos_label)\n",
    "        f1_y_cv.append(f1_y)\n",
    "\n",
    "        ###need to debug this.###\n",
    "        auc_y=roc_auc_score(y_true=y_test_cv, y_score= y_proba)\n",
    "        auc_y_cv.append(auc_y)\n",
    "        \n",
    "        youden_dic_cv= {'model':type(model).__name__, \n",
    "                'auc':np.mean(auc_y_cv),\n",
    "                'auc_sd':np.std(auc_y_cv),\n",
    "                'precision':np.mean(prec_y_cv),\n",
    "                'precision_sd':np.std(prec_y_cv),\n",
    "                'recall':np.mean(recall_y_cv),\n",
    "                'recall_sd':np.std(recall_y_cv),\n",
    "                'f1':np.mean(f1_y_cv),\n",
    "                'f1_sd':np.std(f1_y_cv),\n",
    "                'npv':np.mean(npv_y_cv),\n",
    "                'npv_sd':np.std(npv_y_cv)}\n",
    "        \n",
    "    return(youden_dic_cv)"
   ]
  },
  {
   "cell_type": "markdown",
   "metadata": {},
   "source": [
    "## youden index and plotting functions"
   ]
  },
  {
   "cell_type": "code",
   "execution_count": 38,
   "metadata": {},
   "outputs": [
    {
     "name": "stdout",
     "output_type": "stream",
     "text": [
      "time: 167 ms\n"
     ]
    }
   ],
   "source": [
    "def saveplot(plt, figure_name):\n",
    "    \"\"\"\n",
    "    simple function for saving plots\n",
    "    \"\"\"\n",
    "    address = str(repository_path)+'/figures/{}'.format(folder)\n",
    "\n",
    "    if not os.path.exists(address):\n",
    "        os.makedirs(address)\n",
    "    plt.savefig(address+\"/{}.png\".format(figure_name),bbox_inches='tight')\n",
    "\n",
    "def optimal_youden_index(fpr, tpr, thresholds, tp90=True):\n",
    "    \"\"\"\n",
    "    inputs fpr, tpr, thresholds from metrics.roc(),\n",
    "    outputs the clasification threshold, roc dataframe, and the index of roc dataframe for optimal youden index\n",
    "    \"\"\"\n",
    "    #making dataframe out of the thresholds\n",
    "    roc_df= pd.DataFrame({\"thresholds\": thresholds,\"fpr\":fpr, \"tpr\": tpr})\n",
    "    roc_df.iloc[0,0] =1\n",
    "    roc_df['yuden']= roc_df['tpr']-roc_df['fpr']\n",
    "    \n",
    "    if tp90==True:\n",
    "        idx= roc_df[roc_df['tpr']>=0.9]['yuden'].idxmax() #changed this so now finds optimial yuden threshold but tp>=90%\n",
    "    else:\n",
    "        idx=roc_df['yuden'].idxmax() #MAX INDEX\n",
    "    \n",
    "    youden_threshold=roc_df.iloc[idx,0] #threshold for max youden\n",
    "    return(youden_threshold, roc_df, idx)\n",
    "    \n",
    "def plot_roc(fpr, tpr, roc_auc, roc_df, idx, save=save_boolean,model_name=None, folder_name=None, file_name=None):\n",
    "    plt.title('ROC with optimal Youden Index')\n",
    "    plt.plot(fpr, tpr, 'b', label = 'AUC = %0.2f' % roc_auc)\n",
    "    plt.legend(loc = 'lower right')\n",
    "    plt.plot([0, 1], [0, 1],'r--')\n",
    "    \n",
    "    #finding the point on the line given threshold 0.5 (finding closest row in roc_df)\n",
    "    og_idx=roc_df.iloc[(roc_df['thresholds']-0.5).abs().argsort()[:1]].index[0]\n",
    "    plt.plot(roc_df.iloc[og_idx,1], roc_df.iloc[og_idx,2],marker='x', markersize=5, color=\"g\")\n",
    "    plt.annotate(s=\"P(>=0.5)\",xy=(roc_df.iloc[og_idx,1]+0.02, roc_df.iloc[og_idx,2]-0.04),color='g') #textcoords\n",
    "    \n",
    "    plt.plot(roc_df.iloc[idx,1], roc_df.iloc[idx,2],marker='o', markersize=5, color=\"r\") ##\n",
    "    plt.annotate(s=\"M_Youden\",xy=(roc_df.iloc[idx,1]+0.02, roc_df.iloc[idx,2]-0.04),color='r' ) #textcoords\n",
    "    plt.xlim([0, 1])\n",
    "    plt.ylim([0, 1])\n",
    "    plt.ylabel('True Positive Rate')\n",
    "    plt.xlabel('False Positive Rate')\n",
    "    \n",
    "    if save==True:\n",
    "        saveplot(plt, figure_name=\"{}_roc\".format(model_name))\n",
    "    else: pass\n",
    "    \n",
    "    plt.show()\n",
    "    \n",
    "    ##depreciated: was a nifty function to save a table as a .png, but i don't use it anymore\n",
    "# def plot_table_as_fig(table_in, col_labels, row_labels, save=False,model_name=None,folder_name=None, file_name=None,figsize=(6,1)):\n",
    "    \n",
    "#     fig = plt.figure(figsize=figsize)\n",
    "#     table = plt.table(cellText = table_in, \n",
    "#                   colLabels = col_labels,\n",
    "#                   rowLabels = row_labels,\n",
    "#                   loc='best')\n",
    "#     plt.axis(\"tight\")\n",
    "#     plt.axis('off')\n",
    "#     if save==True:\n",
    "#         if folder_name != None:\n",
    "#             address = 'figures/{}/'.format(folder_name)\n",
    "#         else:\n",
    "#             address = 'figures/'\n",
    "#         if not os.path.exists(address):\n",
    "#             os.makedirs(address)\n",
    "#         plt.savefig(address+\"/{}_{}.png\".format(model_name,file_name),bbox_inches='tight')\n",
    "#     else: pass\n",
    "    \n",
    "#     plt.show()\n",
    "    "
   ]
  },
  {
   "cell_type": "code",
   "execution_count": null,
   "metadata": {},
   "outputs": [],
   "source": []
  },
  {
   "cell_type": "markdown",
   "metadata": {},
   "source": [
    "## step1) hypertuning and cv\n",
    "* xgboost\n",
    "* randomforest\n",
    "* support vector classifier\n",
    "* logistic regression (l1 and l2)\n",
    "* k-nearest neighbors"
   ]
  },
  {
   "cell_type": "code",
   "execution_count": 39,
   "metadata": {},
   "outputs": [
    {
     "name": "stdout",
     "output_type": "stream",
     "text": [
      "Grid scores on development set:\n",
      "best score/param:  -0.44291272781463564\n",
      "{'scale_pos_weight': 1, 'max_depth': 2, 'learning_rate': 0.1}\n",
      "\n",
      " base model:\n",
      "the AUC is: 0.673\n",
      "the logloss is: 5.752\n",
      "[[5377  135]\n",
      " [1065  628]]\n",
      "              precision    recall  f1-score   support\n",
      "\n",
      "           0      0.835     0.976     0.900      5512\n",
      "           1      0.823     0.371     0.511      1693\n",
      "\n",
      "   micro avg      0.833     0.833     0.833      7205\n",
      "   macro avg      0.829     0.673     0.706      7205\n",
      "weighted avg      0.832     0.833     0.808      7205\n",
      "\n",
      "\n",
      " hypertuned model:\n",
      "the AUC is: 0.641\n",
      "the logloss is: 6.356\n",
      "[[5355  157]\n",
      " [1169  524]]\n",
      "              precision    recall  f1-score   support\n",
      "\n",
      "           0      0.821     0.972     0.890      5512\n",
      "           1      0.769     0.310     0.441      1693\n",
      "\n",
      "   micro avg      0.816     0.816     0.816      7205\n",
      "   macro avg      0.795     0.641     0.666      7205\n",
      "weighted avg      0.809     0.816     0.784      7205\n",
      "\n",
      "logloss change of 10.50%. after hypertuning on training set (may be overfit)\n",
      "XGBClassifier(base_score=0.5, booster='gbtree', colsample_bylevel=1,\n",
      "       colsample_bytree=0.8, gamma=0, learning_rate=0.1, max_delta_step=0,\n",
      "       max_depth=2, min_child_weight=2, missing=None, n_estimators=100,\n",
      "       n_jobs=-1, nthread=None, objective='binary:logistic',\n",
      "       random_state=0, reg_alpha=0, reg_lambda=1, scale_pos_weight=1,\n",
      "       seed=27, silent=True, subsample=0.8)\n",
      "time: 1min 9s\n"
     ]
    }
   ],
   "source": [
    "###xgboost\n",
    "model= XGBClassifier(n_estimators=100, min_child_weight=2, #changed: GridSearchCV ->RandomizedSearchCV\n",
    "                                              gamma=0, subsample=0.8, colsample_bytree=0.8,\n",
    "                                              objective='binary:logistic', n_jobs=-1, seed=27)\n",
    "scale_pos_weight = [0.1, 1, 5, 10]\n",
    "max_depth = [1, 2, 3, 4, 5]\n",
    "learning_rate=[0.01, 0.1, 0.5, 1]\n",
    "param_grid = {'scale_pos_weight': scale_pos_weight, 'max_depth' : max_depth, \"learning_rate\":learning_rate}\n",
    "\n",
    "base_model=XGBClassifier(random_state = 42)\n",
    "xgboost_hyper=hypertuning_fxn(x, y, nfolds=10, model=model , param_grid=param_grid, base_model= base_model, scoring=\"neg_log_loss\", n_iter=20, gridsearch=False)\n"
   ]
  },
  {
   "cell_type": "code",
   "execution_count": 40,
   "metadata": {},
   "outputs": [
    {
     "name": "stdout",
     "output_type": "stream",
     "text": [
      "time: 10.9 s\n"
     ]
    }
   ],
   "source": [
    "xgboost_cv= hypertuned_cv_fxn(xgboost_hyper.best_estimator_, nfolds=10)"
   ]
  },
  {
   "cell_type": "code",
   "execution_count": 41,
   "metadata": {},
   "outputs": [
    {
     "data": {
      "text/plain": [
       "{'auc': 0.7888842251208966,\n",
       " 'auc_sd': 0.015054969345137871,\n",
       " 'f1': 0.487633632872374,\n",
       " 'f1_sd': 0.036604473843931035,\n",
       " 'model': 'XGBClassifier',\n",
       " 'npv': 0.9396745610281927,\n",
       " 'npv_sd': 0.008197752958430924,\n",
       " 'precision': 0.3341873986165516,\n",
       " 'precision_sd': 0.03355388815094234,\n",
       " 'recall': 0.9092022275500087,\n",
       " 'recall_sd': 0.008474537562460225}"
      ]
     },
     "execution_count": 41,
     "metadata": {},
     "output_type": "execute_result"
    },
    {
     "name": "stdout",
     "output_type": "stream",
     "text": [
      "time: 2.3 ms\n"
     ]
    }
   ],
   "source": [
    "xgboost_cv"
   ]
  },
  {
   "cell_type": "code",
   "execution_count": null,
   "metadata": {},
   "outputs": [],
   "source": []
  },
  {
   "cell_type": "code",
   "execution_count": 42,
   "metadata": {},
   "outputs": [
    {
     "name": "stdout",
     "output_type": "stream",
     "text": [
      "time: 3.6 ms\n"
     ]
    }
   ],
   "source": [
    "## some scrapped code for evaluating the model during hypertuning and looking at performance of AUC vs logloss in hypertuning (not much):\n",
    "\n",
    "\n",
    "# model= XGBClassifier(n_estimators=100, min_child_weight=2, #changed: GridSearchCV ->RandomizedSearchCV\n",
    "#                                               gamma=0, subsample=0.8, colsample_bytree=0.8,\n",
    "#                                               objective='binary:logistic', n_jobs=-1, seed=27)\n",
    "# scale_pos_weight = [0.1, 1, 5, 10]\n",
    "# max_depth = [1, 2, 3, 4, 5]\n",
    "# learning_rate=[0.01, 0.1, 0.5, 1]\n",
    "# param_grid = {'scale_pos_weight': scale_pos_weight, 'max_depth' : max_depth, \"learning_rate\":learning_rate}\n",
    "# xgboost_hyper2=hypertuning_fxn(x, y, nfolds=10, model=model , param_grid=param_grid, base_model= base_model, scoring=\"roc_auc\", n_iter=20, gridsearch=False)\n",
    "\n",
    "\n",
    "\n",
    "# model = xgboost_hyper2.best_estimator_\n",
    "\n",
    "# roc_auc_score(y, model.predict(x))\n",
    "# evaluate(model, x, y)\n",
    "\n",
    "# #xgboost_hyper2.fit(x,y)\n",
    "# #roc_auc_score(y, xgboost_hyper2.best_estimator_.predict(y))\n",
    "# #xgboost_hyper2.best_estimator_.fit(x,y)#.predict(y)\n",
    "\n",
    "\n",
    "# from sklearn.model_selection import cross_val_score\n",
    "# -cross_val_score(xgboost_hyper2.best_estimator_, x, y, scoring='neg_log_loss',cv=10)"
   ]
  },
  {
   "cell_type": "code",
   "execution_count": 43,
   "metadata": {},
   "outputs": [
    {
     "name": "stdout",
     "output_type": "stream",
     "text": [
      "Grid scores on development set:\n",
      "best score/param:  -0.4411255124530277\n",
      "{'n_estimators': 200, 'min_samples_split': 5, 'min_samples_leaf': 2, 'max_features': 'auto', 'max_depth': 25, 'class_weight': None, 'bootstrap': False}\n",
      "\n",
      " base model:\n",
      "the AUC is: 0.959\n",
      "the logloss is: 0.676\n",
      "[[5510    2]\n",
      " [ 139 1554]]\n",
      "              precision    recall  f1-score   support\n",
      "\n",
      "           0      0.975     1.000     0.987      5512\n",
      "           1      0.999     0.918     0.957      1693\n",
      "\n",
      "   micro avg      0.980     0.980     0.980      7205\n",
      "   macro avg      0.987     0.959     0.972      7205\n",
      "weighted avg      0.981     0.980     0.980      7205\n",
      "\n",
      "\n",
      " hypertuned model:\n",
      "the AUC is: 1.000\n",
      "the logloss is: 0.000\n",
      "[[5512    0]\n",
      " [   0 1693]]\n",
      "              precision    recall  f1-score   support\n",
      "\n",
      "           0      1.000     1.000     1.000      5512\n",
      "           1      1.000     1.000     1.000      1693\n",
      "\n",
      "   micro avg      1.000     1.000     1.000      7205\n",
      "   macro avg      1.000     1.000     1.000      7205\n",
      "weighted avg      1.000     1.000     1.000      7205\n",
      "\n",
      "logloss change of -100.00%. after hypertuning on training set (may be overfit)\n",
      "RandomForestClassifier(bootstrap=False, class_weight=None,\n",
      "            criterion='entropy', max_depth=25, max_features='auto',\n",
      "            max_leaf_nodes=None, min_impurity_decrease=0.0,\n",
      "            min_impurity_split=None, min_samples_leaf=2,\n",
      "            min_samples_split=5, min_weight_fraction_leaf=0.0,\n",
      "            n_estimators=200, n_jobs=None, oob_score=False,\n",
      "            random_state=None, verbose=0, warm_start=False)\n",
      "time: 48.4 s\n"
     ]
    }
   ],
   "source": [
    "###rf\n",
    "#{'bootstrap': False, 'class_weight': None, 'max_depth': 25, 'max_features': 'auto', 'min_samples_leaf': 2, 'min_samples_split': 10, 'n_estimators': 200}\n",
    "# Number of trees in random forest\n",
    "n_estimators = [10, 200]#[int(x) for x in np.linspace(start = 10, stop = 1000, num = 5)]\n",
    "# Number of features to consider at every split\n",
    "max_features = [3,'auto', 10]\n",
    "# Maximum number of levels in tree\n",
    "max_depth = [5,10, 25]#[int(x) for x in np.linspace(5, 110, num = 5)]\n",
    "#max_depth.append(None)\n",
    "# Minimum number of samples required to split a node\n",
    "min_samples_split = [2, 5, 10]\n",
    "# Minimum number of samples required at each leaf node\n",
    "min_samples_leaf = [2, 5, 10]\n",
    "# Method of selecting samples for training each tree\n",
    "bootstrap = [True, False]\n",
    "\n",
    "#class_weight is either a dictionary of each class to a uniform weight for that class (e.g., {1:.9, 2:.5, 3:.01}), or is a string telling sklearn how to automatically determine this dictionary.\n",
    "class_weight= [None, {0:(1/np.bincount(y))[0], 1:(1/np.bincount(y))[1]}]\n",
    "\n",
    "param_grid = {'n_estimators': n_estimators,\n",
    "               'max_features': max_features,\n",
    "               'max_depth': max_depth,\n",
    "               'min_samples_split': min_samples_split,\n",
    "               'min_samples_leaf': min_samples_leaf,\n",
    "               'class_weight': class_weight,\n",
    "               'bootstrap': bootstrap}\n",
    "\n",
    "model= RandomForestClassifier(criterion='entropy')\n",
    "base_model=RandomForestClassifier(random_state = 42, criterion='entropy')\n",
    "\n",
    "rf_hyper=hypertuning_fxn(x, y, nfolds=10, model=model , param_grid=param_grid, base_model= base_model, scoring=\"neg_log_loss\",n_iter = 20, gridsearch=False)\n"
   ]
  },
  {
   "cell_type": "code",
   "execution_count": 44,
   "metadata": {},
   "outputs": [
    {
     "name": "stdout",
     "output_type": "stream",
     "text": [
      "time: 41.4 s\n"
     ]
    }
   ],
   "source": [
    "rf_cv= hypertuned_cv_fxn(rf_hyper.best_estimator_, nfolds=10)"
   ]
  },
  {
   "cell_type": "code",
   "execution_count": 45,
   "metadata": {},
   "outputs": [
    {
     "name": "stdout",
     "output_type": "stream",
     "text": [
      "time: 3.89 ms\n"
     ]
    }
   ],
   "source": [
    "### 10/30 72hr model:\n",
    "# RandomForestClassifier(bootstrap=False, class_weight=None,\n",
    "#             criterion='entropy', max_depth=25, max_features=10,\n",
    "#             max_leaf_nodes=None, min_impurity_decrease=0.0,\n",
    "#             min_impurity_split=None, min_samples_leaf=5,\n",
    "#             min_samples_split=5, min_weight_fraction_leaf=0.0,\n",
    "#             n_estimators=200, n_jobs=None, oob_score=False,\n",
    "#             random_state=None, verbose=0, warm_start=False)\n",
    "\n",
    "### 11/7 72hr model (groupKfold, no daily_sofa):\n",
    "# RandomForestClassifier(bootstrap=False, class_weight=None,\n",
    "#             criterion='entropy', max_depth=25, max_features='auto',\n",
    "#             max_leaf_nodes=None, min_impurity_decrease=0.0,\n",
    "#             min_impurity_split=None, min_samples_leaf=10,\n",
    "#             min_samples_split=2, min_weight_fraction_leaf=0.0,\n",
    "#             n_estimators=200, n_jobs=None, oob_score=False,\n",
    "#             random_state=None, verbose=0, warm_start=False)\n",
    "\n",
    "\n",
    "### 48 hr model:\n",
    "# RandomForestClassifier(bootstrap=False, class_weight=None,\n",
    "#             criterion='entropy', max_depth=25, max_features='auto',\n",
    "#             max_leaf_nodes=None, min_impurity_decrease=0.0,\n",
    "#             min_impurity_split=None, min_samples_leaf=5,\n",
    "#             min_samples_split=10, min_weight_fraction_leaf=0.0,\n",
    "#             n_estimators=200, n_jobs=None, oob_score=False,\n",
    "#             random_state=None, verbose=0, warm_start=False)"
   ]
  },
  {
   "cell_type": "markdown",
   "metadata": {},
   "source": [
    "## Hypertune SVC"
   ]
  },
  {
   "cell_type": "code",
   "execution_count": 46,
   "metadata": {},
   "outputs": [
    {
     "name": "stdout",
     "output_type": "stream",
     "text": [
      "Grid scores on development set:\n",
      "best score/param:  -0.45232712850946744\n",
      "{'kernel': 'linear', 'degree': 1, 'class_weight': 'balanced', 'C': 1}\n",
      "\n",
      " base model:\n",
      "the AUC is: 0.563\n",
      "the logloss is: 7.239\n",
      "[[5466   46]\n",
      " [1464  229]]\n",
      "              precision    recall  f1-score   support\n",
      "\n",
      "           0      0.789     0.992     0.879      5512\n",
      "           1      0.833     0.135     0.233      1693\n",
      "\n",
      "   micro avg      0.790     0.790     0.790      7205\n",
      "   macro avg      0.811     0.563     0.556      7205\n",
      "weighted avg      0.799     0.790     0.727      7205\n",
      "\n",
      "\n",
      " hypertuned model:\n",
      "the AUC is: 0.709\n",
      "the logloss is: 9.099\n",
      "[[4197 1315]\n",
      " [ 583 1110]]\n",
      "              precision    recall  f1-score   support\n",
      "\n",
      "           0      0.878     0.761     0.816      5512\n",
      "           1      0.458     0.656     0.539      1693\n",
      "\n",
      "   micro avg      0.737     0.737     0.737      7205\n",
      "   macro avg      0.668     0.709     0.677      7205\n",
      "weighted avg      0.779     0.737     0.751      7205\n",
      "\n",
      "logloss change of 25.70%. after hypertuning on training set (may be overfit)\n",
      "SVC(C=1, cache_size=200, class_weight='balanced', coef0=0.0,\n",
      "  decision_function_shape='ovr', degree=1, gamma='auto_deprecated',\n",
      "  kernel='linear', max_iter=-1, probability=True, random_state=None,\n",
      "  shrinking=True, tol=0.001, verbose=False)\n",
      "time: 3min 31s\n"
     ]
    }
   ],
   "source": [
    "model= svm.SVC(probability=True)\n",
    "kernel = ['linear', 'rbf','poly']\n",
    "#gamma = [0.1, 1, 'auto'] #Kernel coefficient for ‘rbf’, ‘poly’ and ‘sigmoid’. default=’auto’ uses 1 / n_features\n",
    "C = [0.1, 1, 10, 100] #Penalty parameter C of the error term.\n",
    "degree = [1,2]\n",
    "class_weight=['balanced', None]\n",
    "\n",
    "param_grid = {'kernel': kernel,\n",
    "              #'gamma': gamma,\n",
    "              'C': C,\n",
    "              'degree': degree,\n",
    "              'class_weight':class_weight}\n",
    "\n",
    "base_model=svm.SVC(probability=True)\n",
    "\n",
    "svc_hyper=hypertuning_fxn(x, y, nfolds=10, model=model , param_grid=param_grid, base_model= base_model, scoring=\"neg_log_loss\", n_iter=5, gridsearch=False)\n",
    "#svc_hyper=hypertuning_fxn(x, y, nfolds=4, model=model , param_grid=param_grid, base_model= base_model, scoring=\"neg_log_loss\", n_iter=10, gridsearch=False)"
   ]
  },
  {
   "cell_type": "code",
   "execution_count": 47,
   "metadata": {},
   "outputs": [
    {
     "name": "stdout",
     "output_type": "stream",
     "text": [
      "time: 2min\n"
     ]
    }
   ],
   "source": [
    "svc_cv= hypertuned_cv_fxn(svc_hyper.best_estimator_, nfolds=10)"
   ]
  },
  {
   "cell_type": "code",
   "execution_count": 48,
   "metadata": {},
   "outputs": [
    {
     "name": "stdout",
     "output_type": "stream",
     "text": [
      "Grid scores on development set:\n",
      "best score/param:  -0.4489749103974173\n",
      "{'class_weight': None, 'penalty': 'l1'}\n",
      "\n",
      " base model:\n",
      "the AUC is: 0.629\n",
      "the logloss is: 6.774\n",
      "[[5288  224]\n",
      " [1189  504]]\n",
      "              precision    recall  f1-score   support\n",
      "\n",
      "           0      0.816     0.959     0.882      5512\n",
      "           1      0.692     0.298     0.416      1693\n",
      "\n",
      "   micro avg      0.804     0.804     0.804      7205\n",
      "   macro avg      0.754     0.629     0.649      7205\n",
      "weighted avg      0.787     0.804     0.773      7205\n",
      "\n",
      "\n",
      " hypertuned model:\n",
      "the AUC is: 0.635\n",
      "the logloss is: 6.692\n",
      "[[5279  233]\n",
      " [1163  530]]\n",
      "              precision    recall  f1-score   support\n",
      "\n",
      "           0      0.819     0.958     0.883      5512\n",
      "           1      0.695     0.313     0.432      1693\n",
      "\n",
      "   micro avg      0.806     0.806     0.806      7205\n",
      "   macro avg      0.757     0.635     0.657      7205\n",
      "weighted avg      0.790     0.806     0.777      7205\n",
      "\n",
      "logloss change of -1.20%. after hypertuning on training set (may be overfit)\n",
      "LogisticRegression(C=1.0, class_weight=None, dual=False, fit_intercept=True,\n",
      "          intercept_scaling=1, max_iter=100, multi_class='warn',\n",
      "          n_jobs=None, penalty='l1', random_state=None, solver='warn',\n",
      "          tol=0.0001, verbose=0, warm_start=False)\n",
      "time: 1.81 s\n"
     ]
    }
   ],
   "source": [
    "###logreg\n",
    "model= LogisticRegression()\n",
    "            #model = LogisticRegression(penalty='l2', dual=False, tol=0.0001, C=10, fit_intercept=True, intercept_scaling=1, class_weight='balanced', random_state=None)\n",
    "\n",
    "penalty = ['l1','l2']\n",
    "class_weight=['balanced',None]\n",
    "\n",
    "\n",
    "param_grid = {'penalty': penalty,\n",
    "              'class_weight': class_weight}\n",
    "\n",
    "base_model=LogisticRegression()\n",
    "\n",
    "logreg_hyper=hypertuning_fxn(x, y, nfolds=10, model=model , param_grid=param_grid, base_model= base_model, scoring=\"neg_log_loss\", n_iter=20, gridsearch=True)"
   ]
  },
  {
   "cell_type": "code",
   "execution_count": 49,
   "metadata": {},
   "outputs": [
    {
     "name": "stdout",
     "output_type": "stream",
     "text": [
      "time: 1.57 s\n"
     ]
    }
   ],
   "source": [
    "logreg_cv= hypertuned_cv_fxn(logreg_hyper.best_estimator_, nfolds=10)"
   ]
  },
  {
   "cell_type": "code",
   "execution_count": 50,
   "metadata": {},
   "outputs": [
    {
     "name": "stdout",
     "output_type": "stream",
     "text": [
      "Grid scores on development set:\n",
      "best score/param:  -0.5933897603236595\n",
      "{'n_neighbors': 25, 'p': 2, 'weights': 'uniform'}\n",
      "\n",
      " base model:\n",
      "the AUC is: 0.663\n",
      "the logloss is: 6.131\n",
      "[[5315  197]\n",
      " [1082  611]]\n",
      "              precision    recall  f1-score   support\n",
      "\n",
      "           0      0.831     0.964     0.893      5512\n",
      "           1      0.756     0.361     0.489      1693\n",
      "\n",
      "   micro avg      0.822     0.822     0.822      7205\n",
      "   macro avg      0.794     0.663     0.691      7205\n",
      "weighted avg      0.813     0.822     0.798      7205\n",
      "\n",
      "\n",
      " hypertuned model:\n",
      "the AUC is: 0.562\n",
      "the logloss is: 7.291\n",
      "[[5456   56]\n",
      " [1465  228]]\n",
      "              precision    recall  f1-score   support\n",
      "\n",
      "           0      0.788     0.990     0.878      5512\n",
      "           1      0.803     0.135     0.231      1693\n",
      "\n",
      "   micro avg      0.789     0.789     0.789      7205\n",
      "   macro avg      0.796     0.562     0.554      7205\n",
      "weighted avg      0.792     0.789     0.726      7205\n",
      "\n",
      "logloss change of 18.92%. after hypertuning on training set (may be overfit)\n",
      "KNeighborsClassifier(algorithm='auto', leaf_size=30, metric='minkowski',\n",
      "           metric_params=None, n_jobs=None, n_neighbors=25, p=2,\n",
      "           weights='uniform')\n",
      "time: 1min 49s\n"
     ]
    }
   ],
   "source": [
    "###knn\n",
    "from sklearn.neighbors import KNeighborsClassifier\n",
    "model= KNeighborsClassifier()\n",
    "\n",
    "n_neighbors = [3,4,5, 8, 10, 25]\n",
    "weights=['uniform']\n",
    "p=[1,2] #1= mmanhattan, 2= euclidian\n",
    "\n",
    "\n",
    "param_grid = {'n_neighbors': n_neighbors,\n",
    "              'weights': weights,\n",
    "              'p': p}\n",
    "\n",
    "base_model=KNeighborsClassifier()\n",
    "\n",
    "knn_hyper=hypertuning_fxn(x, y, nfolds=10, model=model , param_grid=param_grid, base_model= base_model, scoring=\"neg_log_loss\", n_iter=20, gridsearch=True)"
   ]
  },
  {
   "cell_type": "code",
   "execution_count": 51,
   "metadata": {},
   "outputs": [
    {
     "name": "stdout",
     "output_type": "stream",
     "text": [
      "time: 5.89 s\n"
     ]
    }
   ],
   "source": [
    "knn_cv= hypertuned_cv_fxn(knn_hyper.best_estimator_, nfolds=10)"
   ]
  },
  {
   "cell_type": "code",
   "execution_count": 52,
   "metadata": {},
   "outputs": [
    {
     "name": "stdout",
     "output_type": "stream",
     "text": [
      "/Users/geickelb1/Documents/GitHub/mimiciii-antibiotics-opensource/tables/24_hr_window/\n"
     ]
    },
    {
     "data": {
      "text/html": [
       "<div>\n",
       "<style scoped>\n",
       "    .dataframe tbody tr th:only-of-type {\n",
       "        vertical-align: middle;\n",
       "    }\n",
       "\n",
       "    .dataframe tbody tr th {\n",
       "        vertical-align: top;\n",
       "    }\n",
       "\n",
       "    .dataframe thead th {\n",
       "        text-align: right;\n",
       "    }\n",
       "</style>\n",
       "<table border=\"1\" class=\"dataframe\">\n",
       "  <thead>\n",
       "    <tr style=\"text-align: right;\">\n",
       "      <th></th>\n",
       "      <th>auc</th>\n",
       "      <th>auc_sd</th>\n",
       "      <th>f1</th>\n",
       "      <th>f1_sd</th>\n",
       "      <th>npv</th>\n",
       "      <th>npv_sd</th>\n",
       "      <th>precision</th>\n",
       "      <th>precision_sd</th>\n",
       "      <th>recall</th>\n",
       "      <th>recall_sd</th>\n",
       "    </tr>\n",
       "    <tr>\n",
       "      <th>model</th>\n",
       "      <th></th>\n",
       "      <th></th>\n",
       "      <th></th>\n",
       "      <th></th>\n",
       "      <th></th>\n",
       "      <th></th>\n",
       "      <th></th>\n",
       "      <th></th>\n",
       "      <th></th>\n",
       "      <th></th>\n",
       "    </tr>\n",
       "  </thead>\n",
       "  <tbody>\n",
       "    <tr>\n",
       "      <th>RandomForestClassifier</th>\n",
       "      <td>0.789</td>\n",
       "      <td>0.015</td>\n",
       "      <td>0.486</td>\n",
       "      <td>0.034</td>\n",
       "      <td>0.938</td>\n",
       "      <td>0.010</td>\n",
       "      <td>0.333</td>\n",
       "      <td>0.032</td>\n",
       "      <td>0.907</td>\n",
       "      <td>0.014</td>\n",
       "    </tr>\n",
       "    <tr>\n",
       "      <th>XGBClassifier</th>\n",
       "      <td>0.789</td>\n",
       "      <td>0.015</td>\n",
       "      <td>0.488</td>\n",
       "      <td>0.037</td>\n",
       "      <td>0.940</td>\n",
       "      <td>0.008</td>\n",
       "      <td>0.334</td>\n",
       "      <td>0.034</td>\n",
       "      <td>0.909</td>\n",
       "      <td>0.008</td>\n",
       "    </tr>\n",
       "    <tr>\n",
       "      <th>LogisticRegression</th>\n",
       "      <td>0.777</td>\n",
       "      <td>0.021</td>\n",
       "      <td>0.474</td>\n",
       "      <td>0.038</td>\n",
       "      <td>0.939</td>\n",
       "      <td>0.014</td>\n",
       "      <td>0.321</td>\n",
       "      <td>0.034</td>\n",
       "      <td>0.916</td>\n",
       "      <td>0.018</td>\n",
       "    </tr>\n",
       "    <tr>\n",
       "      <th>SVC</th>\n",
       "      <td>0.774</td>\n",
       "      <td>0.021</td>\n",
       "      <td>0.472</td>\n",
       "      <td>0.038</td>\n",
       "      <td>0.933</td>\n",
       "      <td>0.011</td>\n",
       "      <td>0.320</td>\n",
       "      <td>0.033</td>\n",
       "      <td>0.908</td>\n",
       "      <td>0.008</td>\n",
       "    </tr>\n",
       "    <tr>\n",
       "      <th>KNeighborsClassifier</th>\n",
       "      <td>0.710</td>\n",
       "      <td>0.016</td>\n",
       "      <td>0.420</td>\n",
       "      <td>0.024</td>\n",
       "      <td>0.911</td>\n",
       "      <td>0.021</td>\n",
       "      <td>0.272</td>\n",
       "      <td>0.020</td>\n",
       "      <td>0.926</td>\n",
       "      <td>0.015</td>\n",
       "    </tr>\n",
       "  </tbody>\n",
       "</table>\n",
       "</div>"
      ],
      "text/plain": [
       "                          auc  auc_sd     f1  f1_sd    npv  npv_sd  precision  \\\n",
       "model                                                                           \n",
       "RandomForestClassifier  0.789   0.015  0.486  0.034  0.938   0.010      0.333   \n",
       "XGBClassifier           0.789   0.015  0.488  0.037  0.940   0.008      0.334   \n",
       "LogisticRegression      0.777   0.021  0.474  0.038  0.939   0.014      0.321   \n",
       "SVC                     0.774   0.021  0.472  0.038  0.933   0.011      0.320   \n",
       "KNeighborsClassifier    0.710   0.016  0.420  0.024  0.911   0.021      0.272   \n",
       "\n",
       "                        precision_sd  recall  recall_sd  \n",
       "model                                                    \n",
       "RandomForestClassifier         0.032   0.907      0.014  \n",
       "XGBClassifier                  0.034   0.909      0.008  \n",
       "LogisticRegression             0.034   0.916      0.018  \n",
       "SVC                            0.033   0.908      0.008  \n",
       "KNeighborsClassifier           0.020   0.926      0.015  "
      ]
     },
     "execution_count": 52,
     "metadata": {},
     "output_type": "execute_result"
    },
    {
     "name": "stdout",
     "output_type": "stream",
     "text": [
      "time: 25.4 ms\n"
     ]
    }
   ],
   "source": [
    "cv_summary_df= pd.DataFrame([rf_cv,\n",
    "                               logreg_cv,\n",
    "                             xgboost_cv,\n",
    "                             svc_cv,\n",
    "                              knn_cv])\n",
    "cv_summary_df= cv_summary_df.set_index('model').round(decimals=3).sort_values('auc', ascending=False)\n",
    "\n",
    "save_df(cv_summary_df, df_name='default', rel_path='/tables/')\n",
    "cv_summary_df"
   ]
  },
  {
   "cell_type": "code",
   "execution_count": null,
   "metadata": {},
   "outputs": [],
   "source": []
  },
  {
   "cell_type": "markdown",
   "metadata": {},
   "source": [
    "# Hypertuned Model Initialization"
   ]
  },
  {
   "cell_type": "code",
   "execution_count": 53,
   "metadata": {},
   "outputs": [
    {
     "name": "stdout",
     "output_type": "stream",
     "text": [
      "time: 7.95 ms\n"
     ]
    }
   ],
   "source": [
    "def reset_model(model_name, hardcode=False):\n",
    "    if model_name== 'xgboost':\n",
    "        model = xgboost_hyper.best_estimator_\n",
    "\n",
    "    elif model_name== 'logreg':\n",
    "        model = logreg_hyper.best_estimator_\n",
    "\n",
    "    elif model_name== 'rf': \n",
    "        model = rf_hyper.best_estimator_\n",
    "\n",
    "    elif model_name== 'svc':\n",
    "        model = svc_hyper.best_estimator_\n",
    "\n",
    "    elif model_name== 'knn':\n",
    "        model = knn_hyper.best_estimator_\n",
    "        \n",
    "    return(model)"
   ]
  },
  {
   "cell_type": "markdown",
   "metadata": {},
   "source": [
    "# test entire trainset and predict testset.\n",
    "*<del> step1) hypertune xgb via 10fold cv.\n",
    "* step2) test entire trainset and predict testset.\n",
    "* step3) generate figures"
   ]
  },
  {
   "cell_type": "code",
   "execution_count": 54,
   "metadata": {},
   "outputs": [
    {
     "name": "stdout",
     "output_type": "stream",
     "text": [
      "time: 2.3 ms\n"
     ]
    }
   ],
   "source": [
    "def get_auc_score(model,train_index, x=x,y=y):\n",
    "    y_pred_proba = model.predict_proba(x[train_index])[:, 1] \n",
    "    roc_score=roc_auc_score(y[train_index], y_pred_proba)\n",
    "    return(roc_score)"
   ]
  },
  {
   "cell_type": "markdown",
   "metadata": {},
   "source": [
    "## youden index and plotting functions"
   ]
  },
  {
   "cell_type": "code",
   "execution_count": 55,
   "metadata": {},
   "outputs": [
    {
     "name": "stdout",
     "output_type": "stream",
     "text": [
      "time: 162 ms\n"
     ]
    }
   ],
   "source": [
    "def saveplot(plt, figure_name):\n",
    "    \"\"\"\n",
    "    simple function for saving plots\n",
    "    \"\"\"\n",
    "    address = str(repository_path)+'/figures/{}'.format(folder)\n",
    "\n",
    "    if not os.path.exists(address):\n",
    "        os.makedirs(address)\n",
    "    plt.savefig(address+\"/{}.png\".format(figure_name),bbox_inches='tight')\n",
    "\n",
    "def optimal_youden_index(fpr, tpr, thresholds, tp90=True):\n",
    "    \"\"\"\n",
    "    inputs fpr, tpr, thresholds from metrics.roc(),\n",
    "    outputs the clasification threshold, roc dataframe, and the index of roc dataframe for optimal youden index\n",
    "    \"\"\"\n",
    "    #making dataframe out of the thresholds\n",
    "    roc_df= pd.DataFrame({\"thresholds\": thresholds,\"fpr\":fpr, \"tpr\": tpr})\n",
    "    roc_df.iloc[0,0] =1\n",
    "    roc_df['yuden']= roc_df['tpr']-roc_df['fpr']\n",
    "    \n",
    "    if tp90==True:\n",
    "        idx= roc_df[roc_df['tpr']>=0.9]['yuden'].idxmax() #changed this so now finds optimial yuden threshold but tp>=90%\n",
    "    else:\n",
    "        idx=roc_df['yuden'].idxmax() #MAX INDEX\n",
    "    \n",
    "    youden_threshold=roc_df.iloc[idx,0] #threshold for max youden\n",
    "    return(youden_threshold, roc_df, idx)\n",
    "    \n",
    "def plot_roc(fpr, tpr, roc_auc, roc_df, idx, save=save_boolean,model_name=None, folder_name=None, file_name=None):\n",
    "    plt.title('ROC with optimal Youden Index')\n",
    "    plt.plot(fpr, tpr, 'b', label = 'AUC = %0.2f' % roc_auc)\n",
    "    plt.legend(loc = 'lower right')\n",
    "    plt.plot([0, 1], [0, 1],'r--')\n",
    "    \n",
    "    #finding the point on the line given threshold 0.5 (finding closest row in roc_df)\n",
    "    og_idx=roc_df.iloc[(roc_df['thresholds']-0.5).abs().argsort()[:1]].index[0]\n",
    "    plt.plot(roc_df.iloc[og_idx,1], roc_df.iloc[og_idx,2],marker='x', markersize=5, color=\"g\")\n",
    "    plt.annotate(s=\"P(>=0.5)\",xy=(roc_df.iloc[og_idx,1]+0.02, roc_df.iloc[og_idx,2]-0.04),color='g') #textcoords\n",
    "    \n",
    "    plt.plot(roc_df.iloc[idx,1], roc_df.iloc[idx,2],marker='o', markersize=5, color=\"r\") ##\n",
    "    plt.annotate(s=\"M_Youden\",xy=(roc_df.iloc[idx,1]+0.02, roc_df.iloc[idx,2]-0.04),color='r' ) #textcoords\n",
    "    plt.xlim([0, 1])\n",
    "    plt.ylim([0, 1])\n",
    "    plt.ylabel('True Positive Rate')\n",
    "    plt.xlabel('False Positive Rate')\n",
    "    \n",
    "    if save==True:\n",
    "        saveplot(plt, figure_name=\"{}_roc\".format(model_name))\n",
    "    else: pass\n",
    "    \n",
    "    plt.show()\n",
    "    \n",
    "    ##depreciated: was a nifty function to save a table as a .png, but i don't use it anymore\n",
    "# def plot_table_as_fig(table_in, col_labels, row_labels, save=False,model_name=None,folder_name=None, file_name=None,figsize=(6,1)):\n",
    "    \n",
    "#     fig = plt.figure(figsize=figsize)\n",
    "#     table = plt.table(cellText = table_in, \n",
    "#                   colLabels = col_labels,\n",
    "#                   rowLabels = row_labels,\n",
    "#                   loc='best')\n",
    "#     plt.axis(\"tight\")\n",
    "#     plt.axis('off')\n",
    "#     if save==True:\n",
    "#         if folder_name != None:\n",
    "#             address = 'figures/{}/'.format(folder_name)\n",
    "#         else:\n",
    "#             address = 'figures/'\n",
    "#         if not os.path.exists(address):\n",
    "#             os.makedirs(address)\n",
    "#         plt.savefig(address+\"/{}_{}.png\".format(model_name,file_name),bbox_inches='tight')\n",
    "#     else: pass\n",
    "    \n",
    "#     plt.show()\n",
    "    "
   ]
  },
  {
   "cell_type": "code",
   "execution_count": 56,
   "metadata": {},
   "outputs": [
    {
     "name": "stdout",
     "output_type": "stream",
     "text": [
      "time: 151 ms\n"
     ]
    }
   ],
   "source": [
    "def classifier_eval(model, x=x, y=y, proba_input=False,pos_label=1, print_default=True,model_name=None, folder_name=None):\n",
    "    import sklearn.metrics as metrics\n",
    "    from sklearn.metrics import precision_score, roc_auc_score, f1_score, recall_score\n",
    "    \"\"\"\n",
    "    classification evaluation function. able to print/save the following:\n",
    "    \n",
    "    print/save the following:\n",
    "        ROC curve marked with threshold for optimal youden (maximizing tpr+fpr with constraint that tpr>0.9)\n",
    "\n",
    "        using 0.5 threshold:\n",
    "            confusion matrix\n",
    "            classification report\n",
    "            npv\n",
    "            accuracy\n",
    "\n",
    "        using optimal youden (maximizing tpr+fpr with constraint that tpr>0.9):\n",
    "            confusion matrix\n",
    "            classification report\n",
    "            npv\n",
    "            accuracy\n",
    "    \n",
    "    output: \n",
    "        outputs modelname, auc, precision, recall, f1, and npv to a dictionary. \n",
    "    \n",
    "    notes:\n",
    "    youden's J statistic:\n",
    "    J= sensitivity + specificity -1\n",
    "    (truepos/ truepos+falseneg) + (true neg/ trueneg + falsepos) -1\n",
    "    \n",
    "    \"\"\"\n",
    "    \n",
    "    if proba_input==True: \n",
    "        y_proba= model\n",
    "        y_pred=[1 if y >= 0.5 else 0 for y in y_proba]\n",
    "    \n",
    "    else:\n",
    "        model_name=type(model).__name__\n",
    "\n",
    "        y_pred = model.predict(x)\n",
    "        y_proba = model.predict_proba(x)[:,1]\n",
    "        \n",
    "    fpr, tpr, thresholds = metrics.roc_curve(y, y_proba, pos_label=pos_label)\n",
    "    roc_auc = metrics.auc(fpr, tpr)\n",
    "    \n",
    "    #gathering the optimal youden_index and df of tpr/fpr for auc and index of that optimal youden. idx is needed in the roc\n",
    "    youden_threshold, roc_df, idx= optimal_youden_index(fpr, tpr, thresholds,tp90=True)\n",
    "\n",
    "    #plotting roc\n",
    "    plot_roc(fpr, tpr, roc_auc, roc_df, idx, save=save_boolean, model_name=model_name,folder_name=folder)\n",
    "    plt.show(), plt.close()\n",
    "    \n",
    "    #printing npv, recall, precision, accuracy\n",
    "    npv=confusion_matrix(y, y_pred)[0,0]/sum(np.array(y_pred)==0)\n",
    "    prec= precision_score(y_true=y, y_pred= y_pred, pos_label=pos_label)\n",
    "    recall= recall_score(y_true=y, y_pred= y_pred, pos_label=pos_label)\n",
    "    f1= f1_score(y_true=y, y_pred= y_pred, pos_label=pos_label)\n",
    "    \n",
    "    if print_default==True: ###can opt to not print the 0.5 classification threshold classification report/conf matrix\n",
    "        #plotting confusion matrixs\n",
    "        print(\"\\n******* Using 0.5 Classification Threshold *******\\n\")\n",
    "        print(confusion_matrix(y, y_pred))\n",
    "        print ('the Accuracy is: {:01.3f}'.format(accuracy_score(y, y_pred)))\n",
    "        print (\"npv: {:01.3f}\".format(npv))\n",
    "        print ('the classification_report:\\n', classification_report(y,y_pred, digits=3))\n",
    "    else:\n",
    "        pass\n",
    "    \n",
    "    #### YOUDEN ADJUSTMENT #####\n",
    "\n",
    "    print(\"\\n******* Using Optimal Youden Classification Threshold *******\\n\")\n",
    "    print(\"\\nthe Youden optimal index is : {:01.3f}\".format(youden_threshold))\n",
    "\n",
    "    y_pred_youden = [1 if y >= youden_threshold else 0 for y in y_proba]\n",
    "\n",
    "    npv_y=confusion_matrix(y, y_pred_youden)[0,0]/sum(np.array(y_pred_youden)==0)\n",
    "    prec_y= precision_score(y_true=y, y_pred= y_pred_youden, pos_label=pos_label)\n",
    "    recall_y= recall_score(y_true=y, y_pred= y_pred_youden, pos_label=pos_label)\n",
    "    f1_y= f1_score(y_true=y, y_pred= y_pred_youden, pos_label=pos_label)\n",
    "    auc_y=roc_auc_score(y_true=y, y_score= y_proba)\n",
    "    \n",
    "    ##plotting and saving confusion matrix\n",
    "    confusion_youden=confusion_matrix(y, y_pred_youden)\n",
    "    \n",
    "    #plotting confusion matrixs\n",
    "    print(confusion_matrix(y, y_pred_youden))\n",
    "    print ('the Accuracy is: {:01.3f}'.format(accuracy_score(y, y_pred_youden)))\n",
    "    print (\"npv: {:01.3f}\".format(npv_y))\n",
    "    print ('the classification_report:\\n', classification_report(y,y_pred_youden, digits=3))\n",
    "    \n",
    "    youden_dic= {'model':model_name, 'auc':auc_y, 'precision':prec_y, 'recall':recall_y, 'f1':f1_y, 'npv':npv_y}\n",
    "    return(youden_dic)\n",
    "    "
   ]
  },
  {
   "cell_type": "markdown",
   "metadata": {},
   "source": [
    "# testing model"
   ]
  },
  {
   "cell_type": "markdown",
   "metadata": {},
   "source": [
    "## test entire trainset and predict trainset.\n",
    "<del> * step1) hypertune xgb on 10fold cv.\n",
    "    \n",
    "<del> * step2) test entire train set and predict testset.\n",
    "* step3) generate figures\n"
   ]
  },
  {
   "cell_type": "code",
   "execution_count": 57,
   "metadata": {},
   "outputs": [
    {
     "data": {
      "text/html": [
       "<div>\n",
       "<style scoped>\n",
       "    .dataframe tbody tr th:only-of-type {\n",
       "        vertical-align: middle;\n",
       "    }\n",
       "\n",
       "    .dataframe tbody tr th {\n",
       "        vertical-align: top;\n",
       "    }\n",
       "\n",
       "    .dataframe thead th {\n",
       "        text-align: right;\n",
       "    }\n",
       "</style>\n",
       "<table border=\"1\" class=\"dataframe\">\n",
       "  <thead>\n",
       "    <tr style=\"text-align: right;\">\n",
       "      <th></th>\n",
       "      <th>model</th>\n",
       "      <th>auc</th>\n",
       "      <th>precision</th>\n",
       "      <th>recall</th>\n",
       "      <th>f1</th>\n",
       "      <th>npv</th>\n",
       "    </tr>\n",
       "  </thead>\n",
       "  <tbody>\n",
       "  </tbody>\n",
       "</table>\n",
       "</div>"
      ],
      "text/plain": [
       "Empty DataFrame\n",
       "Columns: [model, auc, precision, recall, f1, npv]\n",
       "Index: []"
      ]
     },
     "execution_count": 57,
     "metadata": {},
     "output_type": "execute_result"
    },
    {
     "name": "stdout",
     "output_type": "stream",
     "text": [
      "time: 8.06 ms\n"
     ]
    }
   ],
   "source": [
    "#setting up test table\n",
    "test_summary_df= pd.DataFrame({'model':[],'auc':[], 'precision':[], 'recall':[], 'f1':[], 'npv':[]})\n",
    "test_summary_df"
   ]
  },
  {
   "cell_type": "markdown",
   "metadata": {},
   "source": [
    "### model fitting"
   ]
  },
  {
   "cell_type": "code",
   "execution_count": 58,
   "metadata": {},
   "outputs": [
    {
     "data": {
      "text/plain": [
       "KNeighborsClassifier(algorithm='auto', leaf_size=30, metric='minkowski',\n",
       "           metric_params=None, n_jobs=None, n_neighbors=25, p=2,\n",
       "           weights='uniform')"
      ]
     },
     "execution_count": 58,
     "metadata": {},
     "output_type": "execute_result"
    },
    {
     "name": "stdout",
     "output_type": "stream",
     "text": [
      "time: 21.9 s\n"
     ]
    }
   ],
   "source": [
    "xgboost = reset_model('xgboost')\n",
    "xgboost.fit(x, y)\n",
    "\n",
    "logreg = reset_model('logreg')\n",
    "logreg.fit(x, y)\n",
    "\n",
    "rf= reset_model('rf')\n",
    "rf.fit(x,y)\n",
    "\n",
    "# from sklearn.naive_bayes import GaussianNB\n",
    "# gnb =GaussianNB()\n",
    "# nb_y_pred = gnb.fit(x, y)\n",
    "\n",
    "svc= reset_model('svc')\n",
    "svc.fit(x, y)\n",
    "\n",
    "knn= reset_model('knn')\n",
    "knn.fit(x,y)"
   ]
  },
  {
   "cell_type": "markdown",
   "metadata": {},
   "source": [
    "### global model test set evaluation"
   ]
  },
  {
   "cell_type": "code",
   "execution_count": 59,
   "metadata": {},
   "outputs": [
    {
     "data": {
      "image/png": "[encoded data removed]",
      "text/plain": [
       "<Figure size 432x288 with 1 Axes>"
      ]
     },
     "metadata": {
      "needs_background": "light"
     },
     "output_type": "display_data"
    },
    {
     "name": "stdout",
     "output_type": "stream",
     "text": [
      "\n",
      "******* Using 0.5 Classification Threshold *******\n",
      "\n",
      "[[1781  574]\n",
      " [ 274  471]]\n",
      "the Accuracy is: 0.726\n",
      "npv: 0.867\n",
      "the classification_report:\n",
      "               precision    recall  f1-score   support\n",
      "\n",
      "         0.0      0.867     0.756     0.808      2355\n",
      "         1.0      0.451     0.632     0.526       745\n",
      "\n",
      "   micro avg      0.726     0.726     0.726      3100\n",
      "   macro avg      0.659     0.694     0.667      3100\n",
      "weighted avg      0.767     0.726     0.740      3100\n",
      "\n",
      "\n",
      "******* Using Optimal Youden Classification Threshold *******\n",
      "\n",
      "\n",
      "the Youden optimal index is : 0.122\n",
      "[[ 971 1384]\n",
      " [  73  672]]\n",
      "the Accuracy is: 0.530\n",
      "npv: 0.930\n",
      "the classification_report:\n",
      "               precision    recall  f1-score   support\n",
      "\n",
      "         0.0      0.930     0.412     0.571      2355\n",
      "         1.0      0.327     0.902     0.480       745\n",
      "\n",
      "   micro avg      0.530     0.530     0.530      3100\n",
      "   macro avg      0.628     0.657     0.526      3100\n",
      "weighted avg      0.785     0.530     0.549      3100\n",
      "\n",
      "time: 1.44 s\n"
     ]
    }
   ],
   "source": [
    "from parameters import save_boolean\n",
    "svc_eval= classifier_eval(svc, x=np.array(x_test), y=y_test, model_name='svc', folder_name=folder)"
   ]
  },
  {
   "cell_type": "code",
   "execution_count": 60,
   "metadata": {},
   "outputs": [
    {
     "data": {
      "image/png": "[encoded data removed]",
      "text/plain": [
       "<Figure size 432x288 with 1 Axes>"
      ]
     },
     "metadata": {
      "needs_background": "light"
     },
     "output_type": "display_data"
    },
    {
     "name": "stdout",
     "output_type": "stream",
     "text": [
      "\n",
      "******* Using 0.5 Classification Threshold *******\n",
      "\n",
      "[[2265   90]\n",
      " [ 554  191]]\n",
      "the Accuracy is: 0.792\n",
      "npv: 0.803\n",
      "the classification_report:\n",
      "               precision    recall  f1-score   support\n",
      "\n",
      "         0.0      0.803     0.962     0.876      2355\n",
      "         1.0      0.680     0.256     0.372       745\n",
      "\n",
      "   micro avg      0.792     0.792     0.792      3100\n",
      "   macro avg      0.742     0.609     0.624      3100\n",
      "weighted avg      0.774     0.792     0.755      3100\n",
      "\n",
      "\n",
      "******* Using Optimal Youden Classification Threshold *******\n",
      "\n",
      "\n",
      "the Youden optimal index is : 0.129\n",
      "[[ 918 1437]\n",
      " [  73  672]]\n",
      "the Accuracy is: 0.513\n",
      "npv: 0.926\n",
      "the classification_report:\n",
      "               precision    recall  f1-score   support\n",
      "\n",
      "         0.0      0.926     0.390     0.549      2355\n",
      "         1.0      0.319     0.902     0.471       745\n",
      "\n",
      "   micro avg      0.513     0.513     0.513      3100\n",
      "   macro avg      0.622     0.646     0.510      3100\n",
      "weighted avg      0.780     0.513     0.530      3100\n",
      "\n",
      "time: 384 ms\n"
     ]
    }
   ],
   "source": [
    "xgboost_eval= classifier_eval(xgboost, x=np.array(x_test), y=y_test, model_name='xgboost', folder_name=folder)"
   ]
  },
  {
   "cell_type": "code",
   "execution_count": 61,
   "metadata": {},
   "outputs": [
    {
     "data": {
      "image/png": "[encoded data removed]",
      "text/plain": [
       "<Figure size 432x288 with 1 Axes>"
      ]
     },
     "metadata": {
      "needs_background": "light"
     },
     "output_type": "display_data"
    },
    {
     "name": "stdout",
     "output_type": "stream",
     "text": [
      "\n",
      "******* Using 0.5 Classification Threshold *******\n",
      "\n",
      "[[2280   75]\n",
      " [ 566  179]]\n",
      "the Accuracy is: 0.793\n",
      "npv: 0.801\n",
      "the classification_report:\n",
      "               precision    recall  f1-score   support\n",
      "\n",
      "         0.0      0.801     0.968     0.877      2355\n",
      "         1.0      0.705     0.240     0.358       745\n",
      "\n",
      "   micro avg      0.793     0.793     0.793      3100\n",
      "   macro avg      0.753     0.604     0.618      3100\n",
      "weighted avg      0.778     0.793     0.752      3100\n",
      "\n",
      "\n",
      "******* Using Optimal Youden Classification Threshold *******\n",
      "\n",
      "\n",
      "the Youden optimal index is : 0.136\n",
      "[[ 939 1416]\n",
      " [  72  673]]\n",
      "the Accuracy is: 0.520\n",
      "npv: 0.929\n",
      "the classification_report:\n",
      "               precision    recall  f1-score   support\n",
      "\n",
      "         0.0      0.929     0.399     0.558      2355\n",
      "         1.0      0.322     0.903     0.475       745\n",
      "\n",
      "   micro avg      0.520     0.520     0.520      3100\n",
      "   macro avg      0.625     0.651     0.516      3100\n",
      "weighted avg      0.783     0.520     0.538      3100\n",
      "\n",
      "time: 586 ms\n"
     ]
    }
   ],
   "source": [
    "rf_eval= classifier_eval(rf, x=np.array(x_test), y=y_test, model_name='rf', folder_name=folder)"
   ]
  },
  {
   "cell_type": "code",
   "execution_count": 62,
   "metadata": {},
   "outputs": [
    {
     "data": {
      "image/png": "[encoded data removed]",
      "text/plain": [
       "<Figure size 432x288 with 1 Axes>"
      ]
     },
     "metadata": {
      "needs_background": "light"
     },
     "output_type": "display_data"
    },
    {
     "name": "stdout",
     "output_type": "stream",
     "text": [
      "\n",
      "******* Using 0.5 Classification Threshold *******\n",
      "\n",
      "[[2244  111]\n",
      " [ 542  203]]\n",
      "the Accuracy is: 0.789\n",
      "npv: 0.805\n",
      "the classification_report:\n",
      "               precision    recall  f1-score   support\n",
      "\n",
      "         0.0      0.805     0.953     0.873      2355\n",
      "         1.0      0.646     0.272     0.383       745\n",
      "\n",
      "   micro avg      0.789     0.789     0.789      3100\n",
      "   macro avg      0.726     0.613     0.628      3100\n",
      "weighted avg      0.767     0.789     0.755      3100\n",
      "\n",
      "\n",
      "******* Using Optimal Youden Classification Threshold *******\n",
      "\n",
      "\n",
      "the Youden optimal index is : 0.117\n",
      "[[ 938 1417]\n",
      " [  73  672]]\n",
      "the Accuracy is: 0.519\n",
      "npv: 0.928\n",
      "the classification_report:\n",
      "               precision    recall  f1-score   support\n",
      "\n",
      "         0.0      0.928     0.398     0.557      2355\n",
      "         1.0      0.322     0.902     0.474       745\n",
      "\n",
      "   micro avg      0.519     0.519     0.519      3100\n",
      "   macro avg      0.625     0.650     0.516      3100\n",
      "weighted avg      0.782     0.519     0.537      3100\n",
      "\n",
      "time: 375 ms\n"
     ]
    }
   ],
   "source": [
    "# logreg_eval= classifier_eval(logreg, x=np.array(x_test), y=y_test)\n",
    "logreg_eval= classifier_eval(logreg, x=np.array(x_test), y=y_test, model_name='logreg', folder_name=folder)"
   ]
  },
  {
   "cell_type": "code",
   "execution_count": 63,
   "metadata": {},
   "outputs": [
    {
     "data": {
      "image/png": "[encoded data removed]",
      "text/plain": [
       "<Figure size 432x288 with 1 Axes>"
      ]
     },
     "metadata": {
      "needs_background": "light"
     },
     "output_type": "display_data"
    },
    {
     "name": "stdout",
     "output_type": "stream",
     "text": [
      "\n",
      "******* Using 0.5 Classification Threshold *******\n",
      "\n",
      "[[2329   26]\n",
      " [ 661   84]]\n",
      "the Accuracy is: 0.778\n",
      "npv: 0.779\n",
      "the classification_report:\n",
      "               precision    recall  f1-score   support\n",
      "\n",
      "         0.0      0.779     0.989     0.871      2355\n",
      "         1.0      0.764     0.113     0.196       745\n",
      "\n",
      "   micro avg      0.778     0.778     0.778      3100\n",
      "   macro avg      0.771     0.551     0.534      3100\n",
      "weighted avg      0.775     0.778     0.709      3100\n",
      "\n",
      "\n",
      "******* Using Optimal Youden Classification Threshold *******\n",
      "\n",
      "\n",
      "the Youden optimal index is : 0.080\n",
      "[[ 490 1865]\n",
      " [  53  692]]\n",
      "the Accuracy is: 0.381\n",
      "npv: 0.902\n",
      "the classification_report:\n",
      "               precision    recall  f1-score   support\n",
      "\n",
      "         0.0      0.902     0.208     0.338      2355\n",
      "         1.0      0.271     0.929     0.419       745\n",
      "\n",
      "   micro avg      0.381     0.381     0.381      3100\n",
      "   macro avg      0.587     0.568     0.379      3100\n",
      "weighted avg      0.751     0.381     0.358      3100\n",
      "\n",
      "time: 2.98 s\n"
     ]
    }
   ],
   "source": [
    "knn_eval= classifier_eval(knn, x=np.array(x_test), y=y_test, model_name='knn', folder_name=folder)"
   ]
  },
  {
   "cell_type": "markdown",
   "metadata": {},
   "source": [
    "# classification performance table"
   ]
  },
  {
   "cell_type": "code",
   "execution_count": 64,
   "metadata": {},
   "outputs": [
    {
     "name": "stdout",
     "output_type": "stream",
     "text": [
      "/Users/geickelb1/Documents/GitHub/mimiciii-antibiotics-opensource/tables/24_hr_window/\n",
      "                          auc     f1    npv  precision  recall\n",
      "model                                                         \n",
      "XGBClassifier           0.782  0.471  0.926      0.319   0.902\n",
      "RandomForestClassifier  0.778  0.475  0.929      0.322   0.903\n",
      "LogisticRegression      0.773  0.474  0.928      0.322   0.902\n",
      "SVC                     0.772  0.480  0.930      0.327   0.902\n",
      "KNeighborsClassifier    0.702  0.419  0.902      0.271   0.929\n",
      "time: 12.6 ms\n"
     ]
    }
   ],
   "source": [
    "test_summary_df= pd.DataFrame([xgboost_eval, rf_eval, logreg_eval, svc_eval,knn_eval])\n",
    "test_summary_df=test_summary_df.set_index('model').round(decimals=3).sort_values('auc', ascending=False)\n",
    "save_df(test_summary_df, df_name='default', rel_path='/tables/')\n",
    "print(test_summary_df)"
   ]
  },
  {
   "cell_type": "code",
   "execution_count": null,
   "metadata": {},
   "outputs": [],
   "source": []
  },
  {
   "cell_type": "code",
   "execution_count": 65,
   "metadata": {},
   "outputs": [
    {
     "data": {
      "image/png": "[encoded data removed]",
      "text/plain": [
       "<Figure size 432x288 with 1 Axes>"
      ]
     },
     "metadata": {
      "needs_background": "light"
     },
     "output_type": "display_data"
    },
    {
     "name": "stdout",
     "output_type": "stream",
     "text": [
      "\n",
      "******* Using 0.5 Classification Threshold *******\n",
      "\n",
      "[[5355  157]\n",
      " [1169  524]]\n",
      "the Accuracy is: 0.816\n",
      "npv: 0.821\n",
      "the classification_report:\n",
      "               precision    recall  f1-score   support\n",
      "\n",
      "         0.0      0.821     0.972     0.890      5512\n",
      "         1.0      0.769     0.310     0.441      1693\n",
      "\n",
      "   micro avg      0.816     0.816     0.816      7205\n",
      "   macro avg      0.795     0.641     0.666      7205\n",
      "weighted avg      0.809     0.816     0.784      7205\n",
      "\n",
      "\n",
      "******* Using Optimal Youden Classification Threshold *******\n",
      "\n",
      "\n",
      "the Youden optimal index is : 0.149\n",
      "[[2800 2712]\n",
      " [ 169 1524]]\n",
      "the Accuracy is: 0.600\n",
      "npv: 0.943\n",
      "the classification_report:\n",
      "               precision    recall  f1-score   support\n",
      "\n",
      "         0.0      0.943     0.508     0.660      5512\n",
      "         1.0      0.360     0.900     0.514      1693\n",
      "\n",
      "   micro avg      0.600     0.600     0.600      7205\n",
      "   macro avg      0.651     0.704     0.587      7205\n",
      "weighted avg      0.806     0.600     0.626      7205\n",
      "\n",
      "time: 500 ms\n"
     ]
    }
   ],
   "source": [
    "xgboost_train= classifier_eval(xgboost, x=np.array(x_train), y=y_train, model_name='xgboost_train', folder_name=folder)"
   ]
  },
  {
   "cell_type": "code",
   "execution_count": null,
   "metadata": {},
   "outputs": [],
   "source": []
  },
  {
   "cell_type": "markdown",
   "metadata": {},
   "source": [
    "# generating publication stacked roc curve "
   ]
  },
  {
   "cell_type": "code",
   "execution_count": 66,
   "metadata": {},
   "outputs": [
    {
     "name": "stdout",
     "output_type": "stream",
     "text": [
      "time: 14.9 ms\n"
     ]
    }
   ],
   "source": [
    "def roc_publishing(model, x=x, y=y, proba_input=False,pos_label=1, print_default=True, model_name=None):\n",
    "    import sklearn.metrics as metrics\n",
    "    from sklearn.metrics import precision_score, roc_auc_score, f1_score, recall_score\n",
    "\n",
    "    model_name=type(model).__name__\n",
    "\n",
    "    y_pred = model.predict(x)\n",
    "    y_proba = model.predict_proba(x)[:,1]\n",
    "        \n",
    "    fpr, tpr, thresholds = metrics.roc_curve(y, y_proba, pos_label=pos_label)\n",
    "    roc_auc = metrics.auc(fpr, tpr)\n",
    "    \n",
    "    #gathering the optimal youden_index and df of tpr/fpr for auc and index of that optimal youden. idx is needed in the roc\n",
    "    youden_threshold, roc_df, idx= optimal_youden_index(fpr, tpr, thresholds,tp90=True)\n",
    "    \n",
    "    return(fpr, tpr, roc_auc, roc_df, idx)\n",
    "    "
   ]
  },
  {
   "cell_type": "code",
   "execution_count": 67,
   "metadata": {},
   "outputs": [
    {
     "name": "stdout",
     "output_type": "stream",
     "text": [
      "time: 2.97 ms\n"
     ]
    }
   ],
   "source": [
    "# plt.style.use('seaborn-white')\n",
    "# plt.rcParams['figure.figsize'] = [5, 5]\n",
    "\n",
    "# fpr, tpr, roc_auc, roc_df, idx= roc_publishing(xgboost, x=np.array(x_test), y=y_test, model_name='xgboost')\n",
    "\n",
    "# plt.title('ROC with optimal Youden Index')\n",
    "# ax= plt.plot(fpr, tpr, 'b', label = 'AUC = %0.2f' % roc_auc)\n",
    "# plt.legend(loc = 'lower right')\n",
    "# plt.plot([0, 1], [0, 1],'r--')\n",
    "\n",
    "# #finding the point on the line given threshold 0.5 (finding closest row in roc_df)\n",
    "# og_idx=roc_df.iloc[(roc_df['thresholds']-0.5).abs().argsort()[:1]].index[0]\n",
    "# plt.plot(roc_df.iloc[og_idx,1], roc_df.iloc[og_idx,2],marker='o', markersize=8, color=\"purple\")\n",
    "# plt.annotate(s=\"P(0.5)\",xy=(roc_df.iloc[og_idx,1]+0.02, roc_df.iloc[og_idx,2]-0.04),color='purple', size=14, weight='bold') #textcoords\n",
    "\n",
    "# plt.plot(roc_df.iloc[idx,1], roc_df.iloc[idx,2],marker='o', markersize=6, color='r') ##\n",
    "# plt.annotate(s=\"P(0.12)\",xy=(roc_df.iloc[idx,1]+0.02, roc_df.iloc[idx,2]-0.04),color='r', size=14, weight='bold' ) #textcoords\n",
    "# plt.xlim([0, 1])\n",
    "# plt.ylim([0, 1])\n",
    "# plt.ylabel('True Positive Rate', size=14)\n",
    "# plt.xlabel('False Positive Rate', size=14)\n",
    "\n",
    "# plt.show()\n"
   ]
  },
  {
   "cell_type": "code",
   "execution_count": 68,
   "metadata": {},
   "outputs": [
    {
     "data": {
      "image/png": "[encoded data removed]",
      "text/plain": [
       "<Figure size 504x288 with 1 Axes>"
      ]
     },
     "metadata": {},
     "output_type": "display_data"
    },
    {
     "name": "stdout",
     "output_type": "stream",
     "text": [
      "time: 4.5 s\n"
     ]
    }
   ],
   "source": [
    "plt.style.use('seaborn-white')\n",
    "plt.rcParams['figure.figsize'] = [7, 4]\n",
    "##########xgb\n",
    "model_name='XGB'\n",
    "fpr, tpr, roc_auc, roc_df, idx= roc_publishing(xgboost, x=np.array(x_test), y=y_test, model_name='xgboost')\n",
    "#plt.title('ROC with optimal Youden Index')\n",
    "ax1= plt.plot(fpr, tpr, 'b', label = '%s AUC = %0.3f' % (model_name, roc_auc), linewidth=2)\n",
    "og_idx=roc_df.iloc[(roc_df['thresholds']-0.5).abs().argsort()[:1]].index[0]\n",
    "plt.plot(roc_df.iloc[og_idx,1], roc_df.iloc[og_idx,2],marker='o', markersize=8, color=\"black\")\n",
    "#plt.annotate(s=\"P(0.5)\",xy=(roc_df.iloc[og_idx,1]+0.02, roc_df.iloc[og_idx,2]-0.04),color='purple', size=14, weight='bold') #textcoords\n",
    "plt.plot(roc_df.iloc[idx,1], roc_df.iloc[idx,2],marker='o', markersize=6, color='r') ##\n",
    "#plt.annotate(s=\"P(0.12)\",xy=(roc_df.iloc[idx,1]+0.02, roc_df.iloc[idx,2]-0.04),color='r', size=14, weight='bold' ) #textcoords\n",
    "\n",
    "###########rf\n",
    "model_name='RF'\n",
    "fpr, tpr, roc_auc, roc_df, idx= roc_publishing(rf, x=np.array(x_test), y=y_test, model_name='rf')\n",
    "ax2= plt.plot(fpr, tpr, label = '%s AUC = %0.3f' % (model_name, roc_auc), linestyle='dotted')\n",
    "og_idx=roc_df.iloc[(roc_df['thresholds']-0.5).abs().argsort()[:1]].index[0]\n",
    "plt.plot(roc_df.iloc[og_idx,1], roc_df.iloc[og_idx,2],marker='o', markersize=8, color=\"black\")\n",
    "plt.plot(roc_df.iloc[idx,1], roc_df.iloc[idx,2],marker='o', markersize=6, color='r') ##\n",
    "\n",
    "###########svc\n",
    "model_name='SVC'\n",
    "fpr, tpr, roc_auc, roc_df, idx= roc_publishing(svc, x=np.array(x_test), y=y_test, model_name='svc')\n",
    "ax3= plt.plot(fpr, tpr, label = '%s AUC = %0.3f' % (model_name, roc_auc), linestyle='dotted')\n",
    "og_idx=roc_df.iloc[(roc_df['thresholds']-0.5).abs().argsort()[:1]].index[0]\n",
    "plt.plot(roc_df.iloc[og_idx,1], roc_df.iloc[og_idx,2],marker='o', markersize=8, color=\"black\")\n",
    "plt.plot(roc_df.iloc[idx,1], roc_df.iloc[idx,2],marker='o', markersize=6, color='r') ##\n",
    "\n",
    "###########logreg\n",
    "model_name='LR'\n",
    "fpr, tpr, roc_auc, roc_df, idx= roc_publishing(logreg, x=np.array(x_test), y=y_test, model_name='lr')\n",
    "ax4= plt.plot(fpr, tpr, label = '%s AUC = %0.3f' % (model_name, roc_auc), linestyle='dotted')\n",
    "og_idx=roc_df.iloc[(roc_df['thresholds']-0.5).abs().argsort()[:1]].index[0]\n",
    "plt.plot(roc_df.iloc[og_idx,1], roc_df.iloc[og_idx,2],marker='o', markersize=8, color=\"black\")\n",
    "plt.plot(roc_df.iloc[idx,1], roc_df.iloc[idx,2],marker='o', markersize=6, color='r') ##\n",
    "\n",
    "###########knn\n",
    "model_name='KNN'\n",
    "fpr, tpr, roc_auc, roc_df, idx= roc_publishing(knn, x=np.array(x_test), y=y_test, model_name='knn')\n",
    "ax5= plt.plot(fpr, tpr, label = '%s AUC = %0.3f' % (model_name, roc_auc),linestyle='dotted')\n",
    "og_idx=roc_df.iloc[(roc_df['thresholds']-0.5).abs().argsort()[:1]].index[0]\n",
    "ax6=plt.plot(roc_df.iloc[og_idx,1], roc_df.iloc[og_idx,2],marker='o', markersize=8, color=\"black\")\n",
    "ax7=plt.plot(roc_df.iloc[idx,1], roc_df.iloc[idx,2],marker='o', markersize=6, color='r') ##\n",
    "plt.legend(loc = 'lower right')\n",
    "\n",
    "#plt.legend((ax1,ax2,ax3,ax4,ax5,ax6,ax7), loc = 'lower right')\n",
    "plt.annotate(s=\"P(0.5)\",xy=(0.78, 0.345),color='black', size=10) #textcoords\n",
    "plt.plot(0.73, 0.36, 'ro', color='black')\n",
    "plt.annotate(s=\"P(tuned)\",xy=(0.78, 0.405),color='black', size=10) #textcoords\n",
    "plt.plot(0.73, 0.42, 'ro', color='r')\n",
    "\n",
    "plt.xlim([0, 1])\n",
    "plt.ylim([0, 1])\n",
    "plt.ylabel('True Positive Rate', size=14)\n",
    "plt.xlabel('False Positive Rate', size=14)\n",
    "\n",
    "saveplot(plt,'stacked_roc')\n",
    "\n",
    "plt.show()"
   ]
  },
  {
   "cell_type": "markdown",
   "metadata": {},
   "source": [
    "# variable importance"
   ]
  },
  {
   "cell_type": "code",
   "execution_count": 69,
   "metadata": {},
   "outputs": [
    {
     "name": "stdout",
     "output_type": "stream",
     "text": [
      "time: 7.77 ms\n"
     ]
    }
   ],
   "source": [
    "def var_imp(model,folder_name,model_name, n_var=4, save=True):\n",
    "    model_name=type(model).__name__\n",
    "    plot_title= \"Top {} {} {} Variable Importance\".format(n_var, folder_name,model_name)\n",
    "    feat_importances = pd.Series(model.feature_importances_, index=x_train.columns)\n",
    "    topn=feat_importances.nlargest(n_var).sort_values()\n",
    "    ax=topn.plot(kind='barh', x='variable importance', title=plot_title)#.xlabel(\"xlab\")\n",
    "    ax.set_xlabel(\"Variable Importance\")\n",
    "    if save==True:\n",
    "        saveplot(figure_name=plot_title)\n",
    "    return(topn)\n"
   ]
  },
  {
   "cell_type": "code",
   "execution_count": 70,
   "metadata": {},
   "outputs": [
    {
     "name": "stdout",
     "output_type": "stream",
     "text": [
      "time: 13.9 ms\n"
     ]
    }
   ],
   "source": [
    "#log reg important features\n",
    "\n",
    "def coef_feature_importance(model):\n",
    "    feature_importance = abs(model.coef_[0])\n",
    "    feature_importance = 100.0 * (feature_importance / feature_importance.max())\n",
    "    sorted_idx = np.argsort(feature_importance)[-10:]#[0]\n",
    "    pos = np.arange(sorted_idx.shape[0]) + .5\n",
    "\n",
    "    featfig = plt.figure()\n",
    "    featax = featfig.add_subplot(1, 1, 1)\n",
    "    featax.barh(pos, feature_importance[sorted_idx], align='center')\n",
    "    featax.set_yticks(pos)\n",
    "    featax.set_yticklabels(np.array(x_test.columns)[sorted_idx], fontsize=8)\n",
    "    featax.set_xlabel('Relative Feature Importance')\n",
    "\n",
    "    plt.tight_layout()   \n",
    "    plt.show()\n",
    "    return(list(np.array(x_test.columns)[sorted_idx][-10:]), feature_importance[sorted_idx])"
   ]
  },
  {
   "cell_type": "code",
   "execution_count": 71,
   "metadata": {},
   "outputs": [
    {
     "data": {
      "image/png": "[encoded data removed]",
      "text/plain": [
       "<Figure size 504x288 with 1 Axes>"
      ]
     },
     "metadata": {},
     "output_type": "display_data"
    },
    {
     "data": {
      "image/png": "[encoded data removed]",
      "text/plain": [
       "<Figure size 504x288 with 1 Axes>"
      ]
     },
     "metadata": {},
     "output_type": "display_data"
    },
    {
     "data": {
      "image/png": "[encoded data removed]",
      "text/plain": [
       "<Figure size 504x288 with 1 Axes>"
      ]
     },
     "metadata": {},
     "output_type": "display_data"
    },
    {
     "name": "stdout",
     "output_type": "stream",
     "text": [
      "time: 562 ms\n"
     ]
    }
   ],
   "source": [
    "logreg_10features,logreg_top10 =coef_feature_importance(logreg)\n",
    "logreg_top10=pd.Series(logreg_top10,logreg_10features)\n",
    "\n",
    "svc_10features,svc_top10 =coef_feature_importance(svc)\n",
    "svc_top10=pd.Series(svc_top10,svc_10features)\n",
    "\n",
    "\n",
    "xgb_10features=var_imp(xgboost,\"clinical_agg_elix\",\"xgboost\", n_var=10, save=False)\n",
    "rf_10features=var_imp(rf,\"clinical_agg_elix\",\"rf\", n_var=10, save=False)\n",
    "xgb_top10=(xgb_10features/xgb_10features[-1])*100\n",
    "rf_top10=(rf_10features/rf_10features[-1])*100\n",
    "xgb_10features=list(xgb_10features.reset_index()['index'])\n",
    "rf_10features=list(rf_10features.reset_index()['index'])"
   ]
  },
  {
   "cell_type": "code",
   "execution_count": 72,
   "metadata": {},
   "outputs": [
    {
     "name": "stdout",
     "output_type": "stream",
     "text": [
      "time: 11.5 ms\n"
     ]
    }
   ],
   "source": [
    "df_base=pd.DataFrame(index=set(logreg_10features + svc_10features+ rf_10features +xgb_10features))\n",
    "df_base['xgb']=xgb_top10\n",
    "df_base['rf']=rf_top10\n",
    "df_base['svc']=svc_top10\n",
    "df_base['lr']=logreg_top10\n",
    "\n",
    "##use for curosity\n",
    "varimp_names=list(set(logreg_10features + svc_10features+ rf_10features +xgb_10features))\n",
    "\n",
    "df_base.index=varimp_names\n",
    "df_base.sort_values('xgb', ascending=False, inplace=True)"
   ]
  },
  {
   "cell_type": "code",
   "execution_count": 73,
   "metadata": {},
   "outputs": [
    {
     "data": {
      "text/html": [
       "<div>\n",
       "<style scoped>\n",
       "    .dataframe tbody tr th:only-of-type {\n",
       "        vertical-align: middle;\n",
       "    }\n",
       "\n",
       "    .dataframe tbody tr th {\n",
       "        vertical-align: top;\n",
       "    }\n",
       "\n",
       "    .dataframe thead th {\n",
       "        text-align: right;\n",
       "    }\n",
       "</style>\n",
       "<table border=\"1\" class=\"dataframe\">\n",
       "  <thead>\n",
       "    <tr style=\"text-align: right;\">\n",
       "      <th></th>\n",
       "      <th>xgb</th>\n",
       "      <th>rf</th>\n",
       "      <th>svc</th>\n",
       "      <th>lr</th>\n",
       "    </tr>\n",
       "  </thead>\n",
       "  <tbody>\n",
       "    <tr>\n",
       "      <th>sysbp</th>\n",
       "      <td>28.303736</td>\n",
       "      <td>80.238640</td>\n",
       "      <td>32.369085</td>\n",
       "      <td>22.979157</td>\n",
       "    </tr>\n",
       "    <tr>\n",
       "      <th>temperature</th>\n",
       "      <td>25.644175</td>\n",
       "      <td>100.000000</td>\n",
       "      <td>100.000000</td>\n",
       "      <td>100.000000</td>\n",
       "    </tr>\n",
       "    <tr>\n",
       "      <th>heartrate</th>\n",
       "      <td>21.415945</td>\n",
       "      <td>81.288113</td>\n",
       "      <td>28.126466</td>\n",
       "      <td>25.169944</td>\n",
       "    </tr>\n",
       "    <tr>\n",
       "      <th>resprate</th>\n",
       "      <td>21.141808</td>\n",
       "      <td>72.738136</td>\n",
       "      <td>24.187938</td>\n",
       "      <td>20.242377</td>\n",
       "    </tr>\n",
       "    <tr>\n",
       "      <th>bun</th>\n",
       "      <td>19.917517</td>\n",
       "      <td>79.697609</td>\n",
       "      <td>25.917657</td>\n",
       "      <td>21.793059</td>\n",
       "    </tr>\n",
       "  </tbody>\n",
       "</table>\n",
       "</div>"
      ],
      "text/plain": [
       "                   xgb          rf         svc          lr\n",
       "sysbp        28.303736   80.238640   32.369085   22.979157\n",
       "temperature  25.644175  100.000000  100.000000  100.000000\n",
       "heartrate    21.415945   81.288113   28.126466   25.169944\n",
       "resprate     21.141808   72.738136   24.187938   20.242377\n",
       "bun          19.917517   79.697609   25.917657   21.793059"
      ]
     },
     "execution_count": 73,
     "metadata": {},
     "output_type": "execute_result"
    },
    {
     "name": "stdout",
     "output_type": "stream",
     "text": [
      "time: 12.7 ms\n"
     ]
    }
   ],
   "source": [
    "#df_base[df_base['xgb'].notnull() & df_base['rf'].notnull()& df_base['svc'].notnull() & df_base['lr'].notnull()]\n",
    "\n",
    "all4=df_base[\n",
    "    (df_base.iloc[:,0].notnull() &\n",
    "     df_base.iloc[:,1].notnull()&\n",
    "     df_base.iloc[:,2].notnull() &\n",
    "     df_base.iloc[:,3].notnull())\n",
    "]\n",
    "all4\n",
    "\n",
    "#df_base[df_base['xgb'].notnull() & df_base['rf'].notnull()& df_base['svc'].notnull() & df_base['lr'].notnull()]"
   ]
  },
  {
   "cell_type": "code",
   "execution_count": 74,
   "metadata": {},
   "outputs": [
    {
     "data": {
      "text/plain": [
       "[norepinephrine_1.0           False\n",
       " ibands_absent                False\n",
       " bicarbonate                  False\n",
       " sysbp                         True\n",
       " temperature                   True\n",
       " pao2fio2ratio_(475, 3000]    False\n",
       " leukocyte_1.0                False\n",
       " heartrate                     True\n",
       " resprate                      True\n",
       " bun                           True\n",
       " spo2                         False\n",
       " glucose                      False\n",
       " platelet                     False\n",
       " nitrite_1.0                  False\n",
       " hemoglobin                   False\n",
       " vasopressin_1.0              False\n",
       " minSodium                    False\n",
       " minWBC                       False\n",
       " maxSodium                    False\n",
       " epinephrine_1.0              False\n",
       " chloride                     False\n",
       " dtype: bool]"
      ]
     },
     "execution_count": 74,
     "metadata": {},
     "output_type": "execute_result"
    },
    {
     "name": "stdout",
     "output_type": "stream",
     "text": [
      "time: 5.98 ms\n"
     ]
    }
   ],
   "source": [
    "[df_base.iloc[:,0].notnull() & df_base.iloc[:,1].notnull()& df_base.iloc[:,2].notnull() & df_base.iloc[:,3].notnull()]"
   ]
  },
  {
   "cell_type": "code",
   "execution_count": 75,
   "metadata": {},
   "outputs": [
    {
     "data": {
      "text/html": [
       "<div>\n",
       "<style scoped>\n",
       "    .dataframe tbody tr th:only-of-type {\n",
       "        vertical-align: middle;\n",
       "    }\n",
       "\n",
       "    .dataframe tbody tr th {\n",
       "        vertical-align: top;\n",
       "    }\n",
       "\n",
       "    .dataframe thead th {\n",
       "        text-align: right;\n",
       "    }\n",
       "</style>\n",
       "<table border=\"1\" class=\"dataframe\">\n",
       "  <thead>\n",
       "    <tr style=\"text-align: right;\">\n",
       "      <th></th>\n",
       "      <th>xgb</th>\n",
       "      <th>rf</th>\n",
       "      <th>svc</th>\n",
       "      <th>lr</th>\n",
       "    </tr>\n",
       "  </thead>\n",
       "  <tbody>\n",
       "    <tr>\n",
       "      <th>norepinephrine_1.0</th>\n",
       "      <td>100.000000</td>\n",
       "      <td>NaN</td>\n",
       "      <td>NaN</td>\n",
       "      <td>9.701868</td>\n",
       "    </tr>\n",
       "    <tr>\n",
       "      <th>ibands_absent</th>\n",
       "      <td>51.191795</td>\n",
       "      <td>NaN</td>\n",
       "      <td>NaN</td>\n",
       "      <td>NaN</td>\n",
       "    </tr>\n",
       "    <tr>\n",
       "      <th>bicarbonate</th>\n",
       "      <td>28.715382</td>\n",
       "      <td>62.667565</td>\n",
       "      <td>12.363985</td>\n",
       "      <td>NaN</td>\n",
       "    </tr>\n",
       "    <tr>\n",
       "      <th>sysbp</th>\n",
       "      <td>28.303736</td>\n",
       "      <td>80.238640</td>\n",
       "      <td>32.369085</td>\n",
       "      <td>22.979157</td>\n",
       "    </tr>\n",
       "    <tr>\n",
       "      <th>temperature</th>\n",
       "      <td>25.644175</td>\n",
       "      <td>100.000000</td>\n",
       "      <td>100.000000</td>\n",
       "      <td>100.000000</td>\n",
       "    </tr>\n",
       "    <tr>\n",
       "      <th>pao2fio2ratio_(475, 3000]</th>\n",
       "      <td>25.505356</td>\n",
       "      <td>NaN</td>\n",
       "      <td>NaN</td>\n",
       "      <td>NaN</td>\n",
       "    </tr>\n",
       "    <tr>\n",
       "      <th>leukocyte_1.0</th>\n",
       "      <td>22.102369</td>\n",
       "      <td>NaN</td>\n",
       "      <td>NaN</td>\n",
       "      <td>NaN</td>\n",
       "    </tr>\n",
       "    <tr>\n",
       "      <th>heartrate</th>\n",
       "      <td>21.415945</td>\n",
       "      <td>81.288113</td>\n",
       "      <td>28.126466</td>\n",
       "      <td>25.169944</td>\n",
       "    </tr>\n",
       "    <tr>\n",
       "      <th>resprate</th>\n",
       "      <td>21.141808</td>\n",
       "      <td>72.738136</td>\n",
       "      <td>24.187938</td>\n",
       "      <td>20.242377</td>\n",
       "    </tr>\n",
       "    <tr>\n",
       "      <th>bun</th>\n",
       "      <td>19.917517</td>\n",
       "      <td>79.697609</td>\n",
       "      <td>25.917657</td>\n",
       "      <td>21.793059</td>\n",
       "    </tr>\n",
       "    <tr>\n",
       "      <th>spo2</th>\n",
       "      <td>NaN</td>\n",
       "      <td>NaN</td>\n",
       "      <td>NaN</td>\n",
       "      <td>7.006959</td>\n",
       "    </tr>\n",
       "    <tr>\n",
       "      <th>glucose</th>\n",
       "      <td>NaN</td>\n",
       "      <td>66.435455</td>\n",
       "      <td>NaN</td>\n",
       "      <td>NaN</td>\n",
       "    </tr>\n",
       "    <tr>\n",
       "      <th>platelet</th>\n",
       "      <td>NaN</td>\n",
       "      <td>65.695352</td>\n",
       "      <td>NaN</td>\n",
       "      <td>NaN</td>\n",
       "    </tr>\n",
       "    <tr>\n",
       "      <th>nitrite_1.0</th>\n",
       "      <td>NaN</td>\n",
       "      <td>NaN</td>\n",
       "      <td>12.280672</td>\n",
       "      <td>7.313703</td>\n",
       "    </tr>\n",
       "    <tr>\n",
       "      <th>hemoglobin</th>\n",
       "      <td>NaN</td>\n",
       "      <td>62.146402</td>\n",
       "      <td>NaN</td>\n",
       "      <td>NaN</td>\n",
       "    </tr>\n",
       "    <tr>\n",
       "      <th>vasopressin_1.0</th>\n",
       "      <td>NaN</td>\n",
       "      <td>NaN</td>\n",
       "      <td>NaN</td>\n",
       "      <td>8.150204</td>\n",
       "    </tr>\n",
       "    <tr>\n",
       "      <th>minSodium</th>\n",
       "      <td>NaN</td>\n",
       "      <td>NaN</td>\n",
       "      <td>14.488637</td>\n",
       "      <td>NaN</td>\n",
       "    </tr>\n",
       "    <tr>\n",
       "      <th>minWBC</th>\n",
       "      <td>NaN</td>\n",
       "      <td>70.753528</td>\n",
       "      <td>NaN</td>\n",
       "      <td>NaN</td>\n",
       "    </tr>\n",
       "    <tr>\n",
       "      <th>maxSodium</th>\n",
       "      <td>NaN</td>\n",
       "      <td>NaN</td>\n",
       "      <td>12.680348</td>\n",
       "      <td>NaN</td>\n",
       "    </tr>\n",
       "    <tr>\n",
       "      <th>epinephrine_1.0</th>\n",
       "      <td>NaN</td>\n",
       "      <td>NaN</td>\n",
       "      <td>NaN</td>\n",
       "      <td>11.900351</td>\n",
       "    </tr>\n",
       "    <tr>\n",
       "      <th>chloride</th>\n",
       "      <td>NaN</td>\n",
       "      <td>NaN</td>\n",
       "      <td>11.853476</td>\n",
       "      <td>NaN</td>\n",
       "    </tr>\n",
       "  </tbody>\n",
       "</table>\n",
       "</div>"
      ],
      "text/plain": [
       "                                  xgb          rf         svc          lr\n",
       "norepinephrine_1.0         100.000000         NaN         NaN    9.701868\n",
       "ibands_absent               51.191795         NaN         NaN         NaN\n",
       "bicarbonate                 28.715382   62.667565   12.363985         NaN\n",
       "sysbp                       28.303736   80.238640   32.369085   22.979157\n",
       "temperature                 25.644175  100.000000  100.000000  100.000000\n",
       "pao2fio2ratio_(475, 3000]   25.505356         NaN         NaN         NaN\n",
       "leukocyte_1.0               22.102369         NaN         NaN         NaN\n",
       "heartrate                   21.415945   81.288113   28.126466   25.169944\n",
       "resprate                    21.141808   72.738136   24.187938   20.242377\n",
       "bun                         19.917517   79.697609   25.917657   21.793059\n",
       "spo2                              NaN         NaN         NaN    7.006959\n",
       "glucose                           NaN   66.435455         NaN         NaN\n",
       "platelet                          NaN   65.695352         NaN         NaN\n",
       "nitrite_1.0                       NaN         NaN   12.280672    7.313703\n",
       "hemoglobin                        NaN   62.146402         NaN         NaN\n",
       "vasopressin_1.0                   NaN         NaN         NaN    8.150204\n",
       "minSodium                         NaN         NaN   14.488637         NaN\n",
       "minWBC                            NaN   70.753528         NaN         NaN\n",
       "maxSodium                         NaN         NaN   12.680348         NaN\n",
       "epinephrine_1.0                   NaN         NaN         NaN   11.900351\n",
       "chloride                          NaN         NaN   11.853476         NaN"
      ]
     },
     "execution_count": 75,
     "metadata": {},
     "output_type": "execute_result"
    },
    {
     "name": "stdout",
     "output_type": "stream",
     "text": [
      "time: 8.6 ms\n"
     ]
    }
   ],
   "source": [
    "df_base"
   ]
  },
  {
   "cell_type": "code",
   "execution_count": 76,
   "metadata": {},
   "outputs": [
    {
     "name": "stdout",
     "output_type": "stream",
     "text": [
      "time: 11.6 ms\n"
     ]
    }
   ],
   "source": [
    "def roc_name_adjust(varimp_names):\n",
    "    adjusted_names=[]\n",
    "    mapper={'vent_recieved_2.0': 'mechanical ventilation recieved',\n",
    "            'vent_recieved_1.0': 'oxygen ventilation recieved',\n",
    "            'vent_recieved_1.0': 'no ventilation recieved',\n",
    "            'pao2fio2ratio_(475, 3000]': 'PaO2:FiO2 (475-3000)',\n",
    "            'pao2fio2ratio_(200, 333]': 'PaO2:FiO2 (200-333)',\n",
    "            'pao2fio2ratio_(333, 475]': 'PaO2:FiO2 (333-475)',\n",
    "            'ipco2_>50': 'pCO2 (>50)',\n",
    "            'ibands_>10': 'bands (>10)',\n",
    "            'ibands_absent': 'bands (missing)'}\n",
    "    \n",
    "    for element in varimp_names:\n",
    "        if element in mapper.keys():\n",
    "            element= mapper[element]\n",
    "            adjusted_names.append(element)\n",
    "        elif \"_1.0\" in element:\n",
    "            element= element.strip(\"_1.0\") + ' (Y/N)'\n",
    "            adjusted_names.append(element)\n",
    "        else:\n",
    "            adjusted_names.append(element)\n",
    "        \n",
    "    return(adjusted_names)"
   ]
  },
  {
   "cell_type": "code",
   "execution_count": 77,
   "metadata": {},
   "outputs": [
    {
     "name": "stdout",
     "output_type": "stream",
     "text": [
      "[3, 4, 7, 8, 9] Index(['sysbp', 'temperature', 'heartrate', 'resprate', 'bun'], dtype='object')\n",
      "time: 80.7 ms\n"
     ]
    }
   ],
   "source": [
    "i=0\n",
    "index_list=[]\n",
    "element_list=[]\n",
    "\n",
    "# df_base.iloc[:,0].notnull() & df_base.iloc[:,1].notnull()& df_base.iloc[:,2].notnull() & df_base.iloc[:,3].notnull():\n",
    "    \n",
    "\n",
    "for element in (df_base.iloc[:,0].notnull() &\n",
    "                        df_base.iloc[:,1].notnull()&\n",
    "                        df_base.iloc[:,2].notnull() &\n",
    "                        df_base.iloc[:,3].notnull()):\n",
    "    if element ==True:\n",
    "        index_list.append(i)\n",
    "        element_list.append(element)\n",
    "        i+=1\n",
    "    else:\n",
    "        i+=1\n",
    "        pass\n",
    "print(index_list, df_base.iloc[index_list,:].index)"
   ]
  },
  {
   "cell_type": "code",
   "execution_count": 78,
   "metadata": {},
   "outputs": [
    {
     "data": {
      "image/png": "[encoded data removed]",
      "text/plain": [
       "<Figure size 504x504 with 1 Axes>"
      ]
     },
     "metadata": {},
     "output_type": "display_data"
    },
    {
     "name": "stdout",
     "output_type": "stream",
     "text": [
      "time: 769 ms\n"
     ]
    }
   ],
   "source": [
    "adjusted_names = roc_name_adjust(list(df_base.index))\n",
    "df_base.index=adjusted_names\n",
    "\n",
    "plt.style.use('seaborn-ticks')\n",
    "plt.rcParams['figure.figsize'] = [7, 7]\n",
    "\n",
    "ax = df_base.plot.barh(stacked=True,\n",
    "                       grid=False,\n",
    "                       color=['r',(0.31,0.50,0.74),(0.35,0.35,0.40),(0.44,0.19,0.63)])#facecolor='w')#rot=0) #(0.96,0.59,0.27)\n",
    "ax.set_facecolor('w')\n",
    "ax.set_xlabel(\"Relative Variable Importance\")\n",
    "ax.get_xticklabels()[1]\n",
    "\n",
    "    \n",
    "for i in index_list:\n",
    "    ax.get_yticklabels()[i].set_fontweight('bold')\n",
    "    #other options:\n",
    "#     .set_bbox(dict(facecolor='red', alpha=0.2)) #sets a red/pink box around the titles\n",
    "\n",
    "saveplot(plt,'variable_importance')\n",
    "\n"
   ]
  },
  {
   "cell_type": "code",
   "execution_count": null,
   "metadata": {},
   "outputs": [],
   "source": []
  },
  {
   "cell_type": "markdown",
   "metadata": {},
   "source": [
    "## idea: Rashamon effect? what would ensemble look like? \n",
    "the ensemble is intresting if the ensemble predicts a different group of patients (or has different variable importance).\n",
    "\n",
    "rashamon effect where we don't gain from ensemble: identifying same patints in different ways\n",
    "rashamon effect where we do gain from ensemble: identifying DIFFERENT patients in the different ways"
   ]
  },
  {
   "cell_type": "code",
   "execution_count": 79,
   "metadata": {},
   "outputs": [
    {
     "data": {
      "text/plain": [
       "VotingClassifier(estimators=[('xgboost', XGBClassifier(base_score=0.5, booster='gbtree', colsample_bylevel=1,\n",
       "       colsample_bytree=0.8, gamma=0, learning_rate=0.1, max_delta_step=0,\n",
       "       max_depth=2, min_child_weight=2, missing=None, n_estimators=100,\n",
       "       n_jobs=-1, nthread=None, objective='binary:logistic',...ar', max_iter=-1, probability=True, random_state=None,\n",
       "  shrinking=True, tol=0.001, verbose=False))],\n",
       "         flatten_transform=None, n_jobs=-1, voting='soft', weights=None)"
      ]
     },
     "execution_count": 79,
     "metadata": {},
     "output_type": "execute_result"
    },
    {
     "name": "stdout",
     "output_type": "stream",
     "text": [
      "time: 15.1 s\n"
     ]
    }
   ],
   "source": [
    "from sklearn.ensemble import VotingClassifier\n",
    "#create a dictionary of our models\n",
    "estimators=[(\"xgboost\", xgboost), ('rf', rf), ('log_reg', logreg), ('svc',svc)]\n",
    "#create our voting classifier, inputting our models\n",
    "ensemble = VotingClassifier(estimators, voting='soft', n_jobs=-1)\n",
    "# If ‘hard’, uses predicted class labels for majority rule voting.\n",
    "# Else if ‘soft’, predicts the class label based on the argmax of the sums of the predicted probabilities,\n",
    "# which is recommended for an ensemble of well-calibrated classifiers.\n",
    "\n",
    "ensemble.fit(x, y)#, sample_weight=np.array([0.67289604, 1.94595562]))"
   ]
  },
  {
   "cell_type": "code",
   "execution_count": 80,
   "metadata": {},
   "outputs": [
    {
     "data": {
      "image/png": "[encoded data removed]",
      "text/plain": [
       "<Figure size 504x504 with 1 Axes>"
      ]
     },
     "metadata": {},
     "output_type": "display_data"
    },
    {
     "name": "stdout",
     "output_type": "stream",
     "text": [
      "\n",
      "******* Using 0.5 Classification Threshold *******\n",
      "\n",
      "[[2272   83]\n",
      " [ 555  190]]\n",
      "the Accuracy is: 0.794\n",
      "npv: 0.804\n",
      "the classification_report:\n",
      "               precision    recall  f1-score   support\n",
      "\n",
      "         0.0      0.804     0.965     0.877      2355\n",
      "         1.0      0.696     0.255     0.373       745\n",
      "\n",
      "   micro avg      0.794     0.794     0.794      3100\n",
      "   macro avg      0.750     0.610     0.625      3100\n",
      "weighted avg      0.778     0.794     0.756      3100\n",
      "\n",
      "\n",
      "******* Using Optimal Youden Classification Threshold *******\n",
      "\n",
      "\n",
      "the Youden optimal index is : 0.140\n",
      "[[1028 1327]\n",
      " [  74  671]]\n",
      "the Accuracy is: 0.548\n",
      "npv: 0.933\n",
      "the classification_report:\n",
      "               precision    recall  f1-score   support\n",
      "\n",
      "         0.0      0.933     0.437     0.595      2355\n",
      "         1.0      0.336     0.901     0.489       745\n",
      "\n",
      "   micro avg      0.548     0.548     0.548      3100\n",
      "   macro avg      0.634     0.669     0.542      3100\n",
      "weighted avg      0.789     0.548     0.569      3100\n",
      "\n",
      "time: 1.64 s\n"
     ]
    }
   ],
   "source": [
    "ensemble_eval= classifier_eval(ensemble, \n",
    "                               x=np.array(x_test),\n",
    "                               y=y_test, \n",
    "                               model_name='ensemble',\n",
    "                               folder_name=folder)"
   ]
  },
  {
   "cell_type": "markdown",
   "metadata": {},
   "source": [
    "looks like its the rashamon effect that doesn't benefit from ensembling.\n",
    "\n",
    "ie there are hidden variables that can discriminate the patients."
   ]
  },
  {
   "cell_type": "code",
   "execution_count": null,
   "metadata": {},
   "outputs": [],
   "source": []
  },
  {
   "cell_type": "markdown",
   "metadata": {},
   "source": [
    "# Model Saving"
   ]
  },
  {
   "cell_type": "code",
   "execution_count": 81,
   "metadata": {},
   "outputs": [
    {
     "name": "stdout",
     "output_type": "stream",
     "text": [
      "time: 4.74 ms\n"
     ]
    }
   ],
   "source": [
    "def model_save(model, model_name):\n",
    "    import pickle\n",
    "    modelpath=str(repository_path)+'/models/{}'.format(folder)\n",
    "\n",
    "    if not os.path.exists(modelpath):\n",
    "        print(modelpath)\n",
    "        os.makedirs(modelpath)\n",
    "\n",
    "    filename = str(modelpath)+'/finalized_{}.sav'.format(model_name)\n",
    "    pickle.dump(model, open(filename, 'wb'))"
   ]
  },
  {
   "cell_type": "code",
   "execution_count": 82,
   "metadata": {},
   "outputs": [
    {
     "name": "stdout",
     "output_type": "stream",
     "text": [
      "time: 310 ms\n"
     ]
    }
   ],
   "source": [
    "model_save(xgboost,'xgboost')\n",
    "model_save(rf,'rf')\n",
    "model_save(logreg,'logreg')\n",
    "model_save(svc,'svc')\n",
    "model_save(knn,'knn')\n",
    "model_save(ensemble,'ensemble')"
   ]
  },
  {
   "cell_type": "code",
   "execution_count": 83,
   "metadata": {},
   "outputs": [
    {
     "data": {
      "text/plain": [
       "'24_hr_window'"
      ]
     },
     "execution_count": 83,
     "metadata": {},
     "output_type": "execute_result"
    },
    {
     "name": "stdout",
     "output_type": "stream",
     "text": [
      "time: 1.8 ms\n"
     ]
    }
   ],
   "source": [
    "folder"
   ]
  },
  {
   "cell_type": "code",
   "execution_count": 84,
   "metadata": {},
   "outputs": [
    {
     "data": {
      "text/plain": [
       "'30102019'"
      ]
     },
     "execution_count": 84,
     "metadata": {},
     "output_type": "execute_result"
    },
    {
     "name": "stdout",
     "output_type": "stream",
     "text": [
      "time: 2.02 ms\n"
     ]
    }
   ],
   "source": [
    "date"
   ]
  }
 ],
 "metadata": {
  "kernelspec": {
   "display_name": "Python 3",
   "language": "python",
   "name": "python3"
  },
  "language_info": {
   "codemirror_mode": {
    "name": "ipython",
    "version": 3
   },
   "file_extension": ".py",
   "mimetype": "text/x-python",
   "name": "python",
   "nbconvert_exporter": "python",
   "pygments_lexer": "ipython3",
   "version": "3.6.8"
  }
 },
 "nbformat": 4,
 "nbformat_minor": 2
}
