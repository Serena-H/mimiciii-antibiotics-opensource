{
 "cells": [
  {
   "cell_type": "markdown",
   "metadata": {},
   "source": [
    "# comparing performance of 24, 48, 72 hour data models\n"
   ]
  },
  {
   "cell_type": "code",
   "execution_count": 343,
   "metadata": {},
   "outputs": [
    {
     "name": "stdout",
     "output_type": "stream",
     "text": [
      "The autotime extension is already loaded. To reload it, use:\n",
      "  %reload_ext autotime\n",
      "time: 33.2 ms\n"
     ]
    }
   ],
   "source": [
    "import pandas as pd\n",
    "import matplotlib.pyplot as plt\n",
    "import os, sys\n",
    "from pathlib import Path\n",
    "import seaborn as sns\n",
    "import numpy as np\n",
    "import glob\n",
    "from sklearn.metrics import confusion_matrix, classification_report, roc_curve, roc_auc_score, accuracy_score, auc, precision_recall_fscore_support, pairwise, f1_score, log_loss, make_scorer\n",
    "from sklearn.datasets import make_classification\n",
    "from sklearn.ensemble import RandomForestClassifier\n",
    "from sklearn.linear_model import LogisticRegression\n",
    "from sklearn import svm\n",
    "\n",
    "#importin xg boost and all needed otherstuff\n",
    "from sklearn.ensemble import RandomForestClassifier, GradientBoostingClassifier\n",
    "from xgboost import XGBClassifier #conda install -c conda-forge xgboost to install\n",
    "##adding these, lets see if it helps with xgboost crash\n",
    "os.environ['KMP_DUPLICATE_LIB_OK']='True'\n",
    "\n",
    "#reducing warnings that are super common in my model\n",
    "import warnings\n",
    "from sklearn.exceptions import DataConversionWarning\n",
    "warnings.simplefilter(action='ignore') #ignore all warnings\n",
    "\n",
    "RANDOM_STATE = 15485867\n",
    "\n",
    "%matplotlib inline\n",
    "plt.style.use('ggplot')\n",
    "\n",
    "from notebook.services.config import ConfigManager\n",
    "cm = ConfigManager()\n",
    "cm.update('livereveal', {\n",
    "        'width': 1024,\n",
    "        'height': 768,\n",
    "        'scroll': True,\n",
    "})\n",
    "\n",
    "%load_ext autotime"
   ]
  },
  {
   "cell_type": "code",
   "execution_count": 344,
   "metadata": {},
   "outputs": [
    {
     "name": "stdout",
     "output_type": "stream",
     "text": [
      "time: 39.5 ms\n"
     ]
    }
   ],
   "source": [
    "#patients of interest from rotation_cohort_generation\n",
    "from parameters import final_pt_df_v, date, repository_path, lower_window, upper_window, folder, date, time_col, time_var, patient_df\n",
    "\n",
    "#patients of interest from rotation_cohort_generation\n",
    "final_pt_df2 = final_pt_df_v #pd.read_csv('/Users/geickelb1/Documents/GitHub/mimiciii-antibiotics-modeling/data/raw/csv/%s_final_pt_df2.csv'%(most_updated_patient_df), index_col=0)\n",
    "del(final_pt_df_v)\n",
    "\n",
    "patients= list(final_pt_df2['subject_id'].unique())\n",
    "hadm_id= list(final_pt_df2['hadm_id'].unique())\n",
    "icustay_id= list(final_pt_df2['icustay_id'].unique())\n",
    "icustay_id= [int(x) for x in icustay_id]\n",
    "\n",
    "save_boolean=False"
   ]
  },
  {
   "cell_type": "code",
   "execution_count": null,
   "metadata": {},
   "outputs": [],
   "source": []
  },
  {
   "cell_type": "markdown",
   "metadata": {},
   "source": [
    "## importing x and y train and test"
   ]
  },
  {
   "cell_type": "code",
   "execution_count": 323,
   "metadata": {},
   "outputs": [
    {
     "name": "stdout",
     "output_type": "stream",
     "text": [
      "time: 14.8 ms\n"
     ]
    }
   ],
   "source": [
    "\n",
    "def data_import(allFiles):\n",
    "    \"\"\"\n",
    "    function to import x_train, x_test, y_train, and y_test using glob of the data/final folder.\n",
    "    \"\"\"\n",
    "    for name in allFiles:\n",
    "        if 'test' in name:\n",
    "            if 'x_' in name:\n",
    "                x_test = pd.read_csv(name,  index_col=0)\n",
    "            else:\n",
    "                 y_test = pd.read_csv(name,  index_col=0)\n",
    "        elif 'train' in name:\n",
    "            if 'x_' in name:\n",
    "                x_train = pd.read_csv(name,  index_col=0)\n",
    "            else:\n",
    "                 y_train = pd.read_csv(name,  index_col=0)\n",
    "    return(x_train, x_test, y_train, y_test)\n"
   ]
  },
  {
   "cell_type": "code",
   "execution_count": 324,
   "metadata": {},
   "outputs": [
    {
     "name": "stdout",
     "output_type": "stream",
     "text": [
      "time: 656 ms\n"
     ]
    }
   ],
   "source": [
    "#importing x and y train and test\n",
    "\n",
    "allFiles_24 = glob.glob(str(repository_path)+ '/data/final/%s/'%('24_hr_window') + \"*.csv\")\n",
    "allFiles_48 = glob.glob(str(repository_path)+ '/data/final/%s/'%('48_hr_window') + \"*.csv\")\n",
    "allFiles_72 = glob.glob(str(repository_path)+ '/data/final/%s/'%('72_hr_window') + \"*.csv\")\n",
    "\n",
    "x_train_24, x_test_24, y_train_24, y_test_24= data_import(allFiles_24)\n",
    "x_train_48, x_test_48, y_train_48, y_test_48= data_import(allFiles_48)\n",
    "x_train_72, x_test_72, y_train_72, y_test_72= data_import(allFiles_72)"
   ]
  },
  {
   "cell_type": "markdown",
   "metadata": {},
   "source": [
    "## importing all models and storing them in dictionary"
   ]
  },
  {
   "cell_type": "code",
   "execution_count": 325,
   "metadata": {},
   "outputs": [
    {
     "name": "stdout",
     "output_type": "stream",
     "text": [
      "time: 1.93 ms\n"
     ]
    }
   ],
   "source": [
    "def load_model(filename, timewindow):\n",
    "    import pickle\n",
    "    loaded_modle= pickle.load(open(filename, 'rb'))\n",
    "    return(loaded_modle)"
   ]
  },
  {
   "cell_type": "code",
   "execution_count": 326,
   "metadata": {},
   "outputs": [
    {
     "name": "stdout",
     "output_type": "stream",
     "text": [
      "time: 825 ms\n"
     ]
    }
   ],
   "source": [
    "models_24 = glob.glob(str(repository_path)+ '/models/%s/'%('24_hr_window')+'*')\n",
    "models_48 = glob.glob(str(repository_path)+ '/models/%s/'%('48_hr_window')+'*')\n",
    "models_72 = glob.glob(str(repository_path)+ '/models/%s/'%('72_hr_window')+'*')\n",
    "\n",
    "models_24_dic={}\n",
    "models_48_dic={}\n",
    "models_72_dic={}\n",
    "\n",
    "for model in models_24:\n",
    "    models_24_dic.update( {model.strip('.sav').split('_')[-1] : load_model(model, '24_hr_window')} )\n",
    "    \n",
    "for model in models_48:\n",
    "    models_48_dic.update( {model.strip('.sav').split('_')[-1] : load_model(model, '48_hr_window')} )\n",
    "\n",
    "for model in models_72:\n",
    "    models_72_dic.update( {model.strip('.sav').split('_')[-1] : load_model(model, '72_hr_window')} )"
   ]
  },
  {
   "cell_type": "code",
   "execution_count": null,
   "metadata": {},
   "outputs": [],
   "source": []
  },
  {
   "cell_type": "markdown",
   "metadata": {},
   "source": [
    "# importing and testing classifier eval fxn"
   ]
  },
  {
   "cell_type": "code",
   "execution_count": 327,
   "metadata": {},
   "outputs": [
    {
     "name": "stdout",
     "output_type": "stream",
     "text": [
      "time: 80.7 ms\n"
     ]
    }
   ],
   "source": [
    "def optimal_youden_index(fpr, tpr, thresholds, tp90=True):\n",
    "    \"\"\"\n",
    "    inputs fpr, tpr, thresholds from metrics.roc(),\n",
    "    outputs the clasification threshold, roc dataframe, and the index of roc dataframe for optimal youden index\n",
    "    \"\"\"\n",
    "    #making dataframe out of the thresholds\n",
    "    roc_df= pd.DataFrame({\"thresholds\": thresholds,\"fpr\":fpr, \"tpr\": tpr})\n",
    "    roc_df.iloc[0,0] =1\n",
    "    roc_df['yuden']= roc_df['tpr']-roc_df['fpr']\n",
    "    \n",
    "    if tp90==True:\n",
    "        idx= roc_df[roc_df['tpr']>=0.9]['yuden'].idxmax() #changed this so now finds optimial yuden threshold but tp>=90%\n",
    "    else:\n",
    "        idx=roc_df['yuden'].idxmax() #MAX INDEX\n",
    "    \n",
    "    youden_threshold=roc_df.iloc[idx,0] #threshold for max youden\n",
    "    return(youden_threshold, roc_df, idx)\n",
    "    \n",
    "def plot_roc(fpr, tpr, roc_auc, roc_df, idx, save=False,model_name=None, folder_name=None, file_name=None):\n",
    "    plt.title('ROC with optimal Youden Index')\n",
    "    plt.plot(fpr, tpr, 'b', label = 'AUC = %0.2f' % roc_auc)\n",
    "    plt.legend(loc = 'lower right')\n",
    "    plt.plot([0, 1], [0, 1],'r--')\n",
    "    \n",
    "    #finding the point on the line given threshold 0.5 (finding closest row in roc_df)\n",
    "    og_idx=roc_df.iloc[(roc_df['thresholds']-0.5).abs().argsort()[:1]].index[0]\n",
    "    plt.plot(roc_df.iloc[og_idx,1], roc_df.iloc[og_idx,2],marker='x', markersize=5, color=\"g\")\n",
    "    plt.annotate(s=\"P(>=0.5)\",xy=(roc_df.iloc[og_idx,1]+0.02, roc_df.iloc[og_idx,2]-0.04),color='g') #textcoords\n",
    "    \n",
    "    plt.plot(roc_df.iloc[idx,1], roc_df.iloc[idx,2],marker='o', markersize=5, color=\"r\") ##\n",
    "    plt.annotate(s=\"M_Youden\",xy=(roc_df.iloc[idx,1]+0.02, roc_df.iloc[idx,2]-0.04),color='r' ) #textcoords\n",
    "    plt.xlim([0, 1])\n",
    "    plt.ylim([0, 1])\n",
    "    plt.ylabel('True Positive Rate')\n",
    "    plt.xlabel('False Positive Rate')\n",
    "    \n",
    "    if save==True:\n",
    "        saveplot(plt, figure_name=\"{}_roc\".format(model_name))\n",
    "    else: pass\n",
    "    \n",
    "    plt.show()"
   ]
  },
  {
   "cell_type": "code",
   "execution_count": 328,
   "metadata": {},
   "outputs": [
    {
     "name": "stdout",
     "output_type": "stream",
     "text": [
      "time: 18.5 ms\n"
     ]
    }
   ],
   "source": [
    "def youden_predict(model, x, y, pos_label=1):\n",
    "    import sklearn.metrics as metrics\n",
    "    y_proba = model.predict_proba(x)[:,1]\n",
    "    \n",
    "    fpr, tpr, thresholds = metrics.roc_curve(y, y_proba, pos_label=pos_label)\n",
    "    roc_auc = metrics.auc(fpr, tpr)\n",
    "    \n",
    "    #gathering the optimal youden_index and df of tpr/fpr for auc and index of that optimal youden. idx is needed in the roc\n",
    "    youden_threshold, roc_df, idx= optimal_youden_index(fpr, tpr, thresholds,tp90=True)\n",
    "    \n",
    "    y_pred_youden = [1 if y >= youden_threshold else 0 for y in y_proba]\n",
    "    \n",
    "    return(y_pred_youden)"
   ]
  },
  {
   "cell_type": "code",
   "execution_count": 329,
   "metadata": {},
   "outputs": [
    {
     "name": "stdout",
     "output_type": "stream",
     "text": [
      "time: 193 ms\n"
     ]
    }
   ],
   "source": [
    "def classifier_eval(model, x, y, proba_input=False,pos_label=1, print_default=True,model_name=None, folder_name=None):\n",
    "    import sklearn.metrics as metrics\n",
    "    from sklearn.metrics import precision_score, roc_auc_score, f1_score, recall_score\n",
    "    \"\"\"\n",
    "    classification evaluation function. able to print/save the following:\n",
    "    \n",
    "    print/save the following:\n",
    "        ROC curve marked with threshold for optimal youden (maximizing tpr+fpr with constraint that tpr>0.9)\n",
    "\n",
    "        using 0.5 threshold:\n",
    "            confusion matrix\n",
    "            classification report\n",
    "            npv\n",
    "            accuracy\n",
    "\n",
    "        using optimal youden (maximizing tpr+fpr with constraint that tpr>0.9):\n",
    "            confusion matrix\n",
    "            classification report\n",
    "            npv\n",
    "            accuracy\n",
    "    \n",
    "    output: \n",
    "        outputs modelname, auc, precision, recall, f1, and npv to a dictionary. \n",
    "    \n",
    "    notes:\n",
    "    youden's J statistic:\n",
    "    J= sensitivity + specificity -1\n",
    "    (truepos/ truepos+falseneg) + (true neg/ trueneg + falsepos) -1\n",
    "    \n",
    "    \"\"\"\n",
    "    \n",
    "    if proba_input==True: \n",
    "        y_proba= model\n",
    "        y_pred=[1 if y >= 0.5 else 0 for y in y_proba]\n",
    "    \n",
    "    else:\n",
    "        model_name=type(model).__name__\n",
    "\n",
    "        y_pred = model.predict(x)\n",
    "        y_proba = model.predict_proba(x)[:,1]\n",
    "        \n",
    "    fpr, tpr, thresholds = metrics.roc_curve(y, y_proba, pos_label=pos_label)\n",
    "    roc_auc = metrics.auc(fpr, tpr)\n",
    "    \n",
    "    #gathering the optimal youden_index and df of tpr/fpr for auc and index of that optimal youden. idx is needed in the roc\n",
    "    youden_threshold, roc_df, idx= optimal_youden_index(fpr, tpr, thresholds,tp90=True)\n",
    "\n",
    "    #plotting roc\n",
    "    plot_roc(fpr, tpr, roc_auc, roc_df, idx, save=save_boolean, model_name=model_name,folder_name=folder)\n",
    "    plt.show(), plt.close()\n",
    "    \n",
    "    #printing npv, recall, precision, accuracy\n",
    "    npv=confusion_matrix(y, y_pred)[0,0]/sum(np.array(y_pred)==0)\n",
    "    prec= precision_score(y_true=y, y_pred= y_pred, pos_label=pos_label)\n",
    "    recall= recall_score(y_true=y, y_pred= y_pred, pos_label=pos_label)\n",
    "    f1= f1_score(y_true=y, y_pred= y_pred, pos_label=pos_label)\n",
    "    \n",
    "    if print_default==True: ###can opt to not print the 0.5 classification threshold classification report/conf matrix\n",
    "        #plotting confusion matrixs\n",
    "        print(\"\\n******* Using 0.5 Classification Threshold *******\\n\")\n",
    "        print(confusion_matrix(y, y_pred))\n",
    "        print ('the Accuracy is: {:01.3f}'.format(accuracy_score(y, y_pred)))\n",
    "        print (\"npv: {:01.3f}\".format(npv))\n",
    "        print ('the classification_report:\\n', classification_report(y,y_pred, digits=3))\n",
    "    else:\n",
    "        pass\n",
    "    \n",
    "    #### YOUDEN ADJUSTMENT #####\n",
    "\n",
    "    print(\"\\n******* Using Optimal Youden Classification Threshold *******\\n\")\n",
    "    print(\"\\nthe Youden optimal index is : {:01.3f}\".format(youden_threshold))\n",
    "\n",
    "    y_pred_youden = [1 if y >= youden_threshold else 0 for y in y_proba]\n",
    "\n",
    "    npv_y=confusion_matrix(y, y_pred_youden)[0,0]/sum(np.array(y_pred_youden)==0)\n",
    "    prec_y= precision_score(y_true=y, y_pred= y_pred_youden, pos_label=pos_label)\n",
    "    recall_y= recall_score(y_true=y, y_pred= y_pred_youden, pos_label=pos_label)\n",
    "    f1_y= f1_score(y_true=y, y_pred= y_pred_youden, pos_label=pos_label)\n",
    "    auc_y=roc_auc_score(y_true=y, y_score= y_proba)\n",
    "    \n",
    "    ##plotting and saving confusion matrix\n",
    "    confusion_youden=confusion_matrix(y, y_pred_youden)\n",
    "    \n",
    "    #plotting confusion matrixs\n",
    "    print(confusion_matrix(y, y_pred_youden))\n",
    "    print ('the Accuracy is: {:01.3f}'.format(accuracy_score(y, y_pred_youden)))\n",
    "    print (\"npv: {:01.3f}\".format(npv_y))\n",
    "    print ('the classification_report:\\n', classification_report(y,y_pred_youden, digits=3))\n",
    "    \n",
    "    youden_dic= {'model':model_name, 'auc':auc_y, 'precision':prec_y, 'recall':recall_y, 'f1':f1_y, 'npv':npv_y}\n",
    "    return(youden_dic)"
   ]
  },
  {
   "cell_type": "code",
   "execution_count": 9,
   "metadata": {},
   "outputs": [
    {
     "data": {
      "image/png": "[encoded data removed]",
      "text/plain": [
       "<Figure size 432x288 with 1 Axes>"
      ]
     },
     "metadata": {
      "needs_background": "light"
     },
     "output_type": "display_data"
    },
    {
     "name": "stdout",
     "output_type": "stream",
     "text": [
      "\n",
      "******* Using 0.5 Classification Threshold *******\n",
      "\n",
      "[[2280   75]\n",
      " [ 566  179]]\n",
      "the Accuracy is: 0.793\n",
      "npv: 0.801\n",
      "the classification_report:\n",
      "               precision    recall  f1-score   support\n",
      "\n",
      "         0.0      0.801     0.968     0.877      2355\n",
      "         1.0      0.705     0.240     0.358       745\n",
      "\n",
      "   micro avg      0.793     0.793     0.793      3100\n",
      "   macro avg      0.753     0.604     0.618      3100\n",
      "weighted avg      0.778     0.793     0.752      3100\n",
      "\n",
      "\n",
      "******* Using Optimal Youden Classification Threshold *******\n",
      "\n",
      "\n",
      "the Youden optimal index is : 0.136\n",
      "[[ 939 1416]\n",
      " [  72  673]]\n",
      "the Accuracy is: 0.520\n",
      "npv: 0.929\n",
      "the classification_report:\n",
      "               precision    recall  f1-score   support\n",
      "\n",
      "         0.0      0.929     0.399     0.558      2355\n",
      "         1.0      0.322     0.903     0.475       745\n",
      "\n",
      "   micro avg      0.520     0.520     0.520      3100\n",
      "   macro avg      0.625     0.651     0.516      3100\n",
      "weighted avg      0.783     0.520     0.538      3100\n",
      "\n"
     ]
    },
    {
     "data": {
      "text/plain": [
       "{'auc': 0.7775895923281895,\n",
       " 'f1': 0.4749470712773465,\n",
       " 'model': 'RandomForestClassifier',\n",
       " 'npv': 0.9287833827893175,\n",
       " 'precision': 0.3221637146960268,\n",
       " 'recall': 0.9033557046979865}"
      ]
     },
     "execution_count": 9,
     "metadata": {},
     "output_type": "execute_result"
    },
    {
     "name": "stdout",
     "output_type": "stream",
     "text": [
      "time: 529 ms\n"
     ]
    }
   ],
   "source": [
    "save_boolean=False\n",
    "classifier_eval(models_24_dic['rf'],x=x_test_24,y=y_test_24)"
   ]
  },
  {
   "cell_type": "code",
   "execution_count": null,
   "metadata": {},
   "outputs": [],
   "source": []
  },
  {
   "cell_type": "code",
   "execution_count": 51,
   "metadata": {},
   "outputs": [
    {
     "data": {
      "text/plain": [
       "{'knn': KNeighborsClassifier(algorithm='auto', leaf_size=30, metric='minkowski',\n",
       "            metric_params=None, n_jobs=None, n_neighbors=25, p=1,\n",
       "            weights='uniform'),\n",
       " 'logreg': LogisticRegression(C=1.0, class_weight=None, dual=False, fit_intercept=True,\n",
       "           intercept_scaling=1, max_iter=100, multi_class='warn',\n",
       "           n_jobs=None, penalty='l1', random_state=None, solver='warn',\n",
       "           tol=0.0001, verbose=0, warm_start=False),\n",
       " 'rf': RandomForestClassifier(bootstrap=False, class_weight=None,\n",
       "             criterion='entropy', max_depth=25, max_features=10,\n",
       "             max_leaf_nodes=None, min_impurity_decrease=0.0,\n",
       "             min_impurity_split=None, min_samples_leaf=2,\n",
       "             min_samples_split=10, min_weight_fraction_leaf=0.0,\n",
       "             n_estimators=200, n_jobs=None, oob_score=False,\n",
       "             random_state=None, verbose=0, warm_start=False),\n",
       " 'svc': SVC(C=10, cache_size=200, class_weight='balanced', coef0=0.0,\n",
       "   decision_function_shape='ovr', degree=2, gamma=1, kernel='linear',\n",
       "   max_iter=-1, probability=True, random_state=None, shrinking=True,\n",
       "   tol=0.001, verbose=False),\n",
       " 'xgboost': XGBClassifier(base_score=0.5, booster='gbtree', colsample_bylevel=1,\n",
       "        colsample_bytree=0.8, gamma=0, learning_rate=0.1, max_delta_step=0,\n",
       "        max_depth=3, min_child_weight=2, missing=nan, n_estimators=100,\n",
       "        n_jobs=-1, nthread=None, objective='binary:logistic',\n",
       "        random_state=0, reg_alpha=0, reg_lambda=1, scale_pos_weight=1,\n",
       "        seed=27, silent=True, subsample=0.8)}"
      ]
     },
     "execution_count": 51,
     "metadata": {},
     "output_type": "execute_result"
    },
    {
     "name": "stdout",
     "output_type": "stream",
     "text": [
      "time: 3.2 ms\n"
     ]
    }
   ],
   "source": [
    "models_24_dic"
   ]
  },
  {
   "cell_type": "code",
   "execution_count": 330,
   "metadata": {},
   "outputs": [
    {
     "name": "stdout",
     "output_type": "stream",
     "text": [
      "time: 14.7 ms\n"
     ]
    }
   ],
   "source": [
    "def roc_publishing(model, x, y, proba_input=False,pos_label=1, print_default=True, model_name=None):\n",
    "    import sklearn.metrics as metrics\n",
    "    from sklearn.metrics import precision_score, roc_auc_score, f1_score, recall_score\n",
    "\n",
    "    model_name=type(model).__name__\n",
    "\n",
    "    y_pred = model.predict(x)\n",
    "    y_proba = model.predict_proba(x)[:,1]\n",
    "        \n",
    "    fpr, tpr, thresholds = metrics.roc_curve(y, y_proba, pos_label=pos_label)\n",
    "    roc_auc = metrics.auc(fpr, tpr)\n",
    "    \n",
    "    #gathering the optimal youden_index and df of tpr/fpr for auc and index of that optimal youden. idx is needed in the roc\n",
    "    youden_threshold, roc_df, idx= optimal_youden_index(fpr, tpr, thresholds,tp90=True)\n",
    "    \n",
    "    return(fpr, tpr, roc_auc, roc_df, idx)"
   ]
  },
  {
   "cell_type": "code",
   "execution_count": 331,
   "metadata": {},
   "outputs": [
    {
     "name": "stdout",
     "output_type": "stream",
     "text": [
      "time: 64.4 ms\n"
     ]
    }
   ],
   "source": [
    "def stacked_roc(x_test, y_test, models_dic):\n",
    "    plt.style.use('seaborn-white')\n",
    "    plt.rcParams['figure.figsize'] = [7, 4]\n",
    "    \n",
    "    for model_name in models_dic.keys():\n",
    "    \n",
    "        model=models_dic[model_name]\n",
    "        fpr, tpr, roc_auc, roc_df, idx= roc_publishing(model, x=np.array(x_test), y=y_test, model_name=model_name)\n",
    "        ax1= plt.plot(fpr, tpr, 'b', label = '%s AUC = %0.3f' % (model_name, roc_auc), linewidth=2)\n",
    "        og_idx=roc_df.iloc[(roc_df['thresholds']-0.5).abs().argsort()[:1]].index[0]\n",
    "        plt.plot(roc_df.iloc[og_idx,1], roc_df.iloc[og_idx,2],marker='o', markersize=8, color=\"black\")\n",
    "        plt.plot(roc_df.iloc[idx,1], roc_df.iloc[idx,2],marker='o', markersize=6, color='r') ##\n",
    "\n",
    "    plt.annotate(s=\"P(0.5)\",xy=(0.78, 0.345),color='black', size=10) #textcoords\n",
    "    plt.plot(0.73, 0.36, 'ro', color='black')\n",
    "    plt.annotate(s=\"P(tuned)\",xy=(0.78, 0.405),color='black', size=10) #textcoords\n",
    "    plt.plot(0.73, 0.42, 'ro', color='r')\n",
    "\n",
    "    plt.xlim([0, 1])\n",
    "    plt.ylim([0, 1])\n",
    "    plt.ylabel('True Positive Rate', size=14)\n",
    "    plt.xlabel('False Positive Rate', size=14)\n",
    "\n",
    "    #saveplot(plt,'stacked_roc')\n",
    "\n",
    "    plt.show()"
   ]
  },
  {
   "cell_type": "code",
   "execution_count": 62,
   "metadata": {},
   "outputs": [
    {
     "data": {
      "image/png": "[encoded data removed]",
      "text/plain": [
       "<Figure size 504x288 with 1 Axes>"
      ]
     },
     "metadata": {},
     "output_type": "display_data"
    },
    {
     "name": "stdout",
     "output_type": "stream",
     "text": [
      "time: 5.1 s\n"
     ]
    }
   ],
   "source": [
    "stacked_roc(x_test_24, y_test_24, models_24_dic)"
   ]
  },
  {
   "cell_type": "code",
   "execution_count": null,
   "metadata": {},
   "outputs": [],
   "source": []
  },
  {
   "cell_type": "markdown",
   "metadata": {},
   "source": [
    "# Evaluating misclassified patients"
   ]
  },
  {
   "cell_type": "code",
   "execution_count": 332,
   "metadata": {},
   "outputs": [
    {
     "name": "stdout",
     "output_type": "stream",
     "text": [
      "time: 9.94 ms\n"
     ]
    }
   ],
   "source": [
    "def optimal_youden_index(fpr, tpr, thresholds, tp90=True):\n",
    "    \"\"\"\n",
    "    inputs fpr, tpr, thresholds from metrics.roc(),\n",
    "    outputs the clasification threshold, roc dataframe, and the index of roc dataframe for optimal youden index\n",
    "    \"\"\"\n",
    "    #making dataframe out of the thresholds\n",
    "    roc_df= pd.DataFrame({\"thresholds\": thresholds,\"fpr\":fpr, \"tpr\": tpr})\n",
    "    roc_df.iloc[0,0] =1\n",
    "    roc_df['yuden']= roc_df['tpr']-roc_df['fpr']\n",
    "    \n",
    "    if tp90==True:\n",
    "        idx= roc_df[roc_df['tpr']>=0.9]['yuden'].idxmax() #changed this so now finds optimial yuden threshold but tp>=90%\n",
    "    else:\n",
    "        idx=roc_df['yuden'].idxmax() #MAX INDEX\n",
    "    \n",
    "    youden_threshold=roc_df.iloc[idx,0] #threshold for max youden\n",
    "    return(youden_threshold, roc_df, idx)"
   ]
  },
  {
   "cell_type": "code",
   "execution_count": 333,
   "metadata": {},
   "outputs": [
    {
     "name": "stdout",
     "output_type": "stream",
     "text": [
      "time: 36.8 ms\n"
     ]
    }
   ],
   "source": [
    "def youden_predict(model, x, y, pos_label=1):\n",
    "    import sklearn.metrics as metrics\n",
    "    y_proba = model.predict_proba(x)[:,1]\n",
    "    \n",
    "    fpr, tpr, thresholds = metrics.roc_curve(y, y_proba, pos_label=pos_label)\n",
    "    roc_auc = metrics.auc(fpr, tpr)\n",
    "    \n",
    "    #gathering the optimal youden_index and df of tpr/fpr for auc and index of that optimal youden. idx is needed in the roc\n",
    "    youden_threshold, roc_df, idx= optimal_youden_index(fpr, tpr, thresholds,tp90=True)\n",
    "    \n",
    "    y_pred_youden = [np.array(1.) if y >= youden_threshold else np.array(0.) for y in y_proba]\n",
    "    \n",
    "    return(y_pred_youden, youden_threshold)"
   ]
  },
  {
   "cell_type": "code",
   "execution_count": 154,
   "metadata": {},
   "outputs": [
    {
     "ename": "NameError",
     "evalue": "name 'youden_threshold' is not defined",
     "output_type": "error",
     "traceback": [
      "\u001b[0;31m---------------------------------------------------------------------------\u001b[0m",
      "\u001b[0;31mNameError\u001b[0m                                 Traceback (most recent call last)",
      "\u001b[0;32m<ipython-input-154-badfa2c49f38>\u001b[0m in \u001b[0;36m<module>\u001b[0;34m()\u001b[0m\n\u001b[0;32m----> 1\u001b[0;31m \u001b[0myouden_threshold\u001b[0m\u001b[0;34m\u001b[0m\u001b[0;34m\u001b[0m\u001b[0m\n\u001b[0m",
      "\u001b[0;31mNameError\u001b[0m: name 'youden_threshold' is not defined"
     ]
    },
    {
     "name": "stdout",
     "output_type": "stream",
     "text": [
      "time: 11.9 ms\n"
     ]
    }
   ],
   "source": []
  },
  {
   "cell_type": "code",
   "execution_count": 156,
   "metadata": {},
   "outputs": [
    {
     "name": "stdout",
     "output_type": "stream",
     "text": [
      "time: 136 ms\n"
     ]
    }
   ],
   "source": [
    "\n",
    "foo_youden_pred, foo_youden_thresh=youden_predict(model=models_24_dic['rf'],x=x_test_24,y=y_test_24)\n",
    "\n",
    "y_proba = model.predict_proba(x)[:,1]"
   ]
  },
  {
   "cell_type": "code",
   "execution_count": 35,
   "metadata": {},
   "outputs": [
    {
     "data": {
      "text/plain": [
       "dict_keys(['rf', 'knn', 'logreg', 'xgboost', 'ensemble', 'svc'])"
      ]
     },
     "execution_count": 35,
     "metadata": {},
     "output_type": "execute_result"
    },
    {
     "name": "stdout",
     "output_type": "stream",
     "text": [
      "time: 2.3 ms\n"
     ]
    }
   ],
   "source": [
    "models_24_dic.keys()"
   ]
  },
  {
   "cell_type": "code",
   "execution_count": 21,
   "metadata": {},
   "outputs": [
    {
     "name": "stdout",
     "output_type": "stream",
     "text": [
      "time: 6.94 ms\n"
     ]
    }
   ],
   "source": [
    "tn, fp, fn, tp =confusion_matrix(y_test_24, foo_youden_pred).ravel()#[0,0]/sum(np.array(foo_youden_pred)==0)"
   ]
  },
  {
   "cell_type": "code",
   "execution_count": 33,
   "metadata": {},
   "outputs": [
    {
     "name": "stdout",
     "output_type": "stream",
     "text": [
      "time: 1.73 ms\n"
     ]
    }
   ],
   "source": [
    "def tabulate_confusion(y_test, youden_pred):\n",
    "    \"returns all # of tn, fp, fn, tp for each model\"\n",
    "    tn, fp, fn, tp =confusion_matrix(y_test, youden_pred).ravel()\n",
    "    return(tn, fp, fn, tp)"
   ]
  },
  {
   "cell_type": "code",
   "execution_count": 334,
   "metadata": {},
   "outputs": [
    {
     "ename": "SyntaxError",
     "evalue": "unexpected EOF while parsing (<ipython-input-334-13a072e9f9a8>, line 8)",
     "output_type": "error",
     "traceback": [
      "\u001b[0;36m  File \u001b[0;32m\"<ipython-input-334-13a072e9f9a8>\"\u001b[0;36m, line \u001b[0;32m8\u001b[0m\n\u001b[0;31m    tabulate_confusion(\u001b[0m\n\u001b[0m                       ^\u001b[0m\n\u001b[0;31mSyntaxError\u001b[0m\u001b[0;31m:\u001b[0m unexpected EOF while parsing\n"
     ]
    }
   ],
   "source": [
    "tn=[]\n",
    "fp=[]\n",
    "fn=[]\n",
    "tp=[]\n",
    "\n",
    "for key in models_24_dic.keys():\n",
    "    youden_pred_24=youden_predict(model=models_24_dic[key],x=x_test_24,y=y_test_24)\n",
    "    tabulate_confusion("
   ]
  },
  {
   "cell_type": "code",
   "execution_count": 335,
   "metadata": {},
   "outputs": [
    {
     "name": "stdout",
     "output_type": "stream",
     "text": [
      "time: 26 ms\n"
     ]
    }
   ],
   "source": [
    "def tabulate_confusion_allmodel(model_dic, x_test, y_test):\n",
    "    tn_list=[]\n",
    "    fp_list=[]\n",
    "    fn_list=[]\n",
    "    tp_list=[]\n",
    "    model=[]\n",
    "    misclassified={}\n",
    "\n",
    "    for key in model_dic.keys():\n",
    "        print(key)\n",
    "        youden_pred=youden_predict(model=model_dic[str(key)],x=np.array(x_test),y=y_test)\n",
    "        tn, fp, fn, tp= tabulate_confusion(y_test, youden_pred)\n",
    "        tn_list.append(tn)\n",
    "        fp_list.append(fp)\n",
    "        fn_list.append(fn)\n",
    "        tp_list.append(tp)\n",
    "        model.append(key)\n",
    "        misclass= np.where(np.array(y_test).reshape(-1,) != np.asfarray(youden_pred).reshape(-1,))\n",
    "        misclassified[str(key)]= np.array(misclass).reshape(-1)\n",
    "    dic1={'model':model,\n",
    "      'tn':tn_list,\n",
    "      'fp':fp_list,\n",
    "      'fn':fn_list,\n",
    "      'tp':tp_list}\n",
    "    \n",
    "    return(pd.DataFrame(dic1),#.set_index('model'),\n",
    "           misclassified)#, index=['rows'])"
   ]
  },
  {
   "cell_type": "code",
   "execution_count": 336,
   "metadata": {},
   "outputs": [
    {
     "name": "stdout",
     "output_type": "stream",
     "text": [
      "rf\n"
     ]
    },
    {
     "ename": "ValueError",
     "evalue": "Found input variables with inconsistent numbers of samples: [3100, 2]",
     "output_type": "error",
     "traceback": [
      "\u001b[0;31m---------------------------------------------------------------------------\u001b[0m",
      "\u001b[0;31mValueError\u001b[0m                                Traceback (most recent call last)",
      "\u001b[0;32m<ipython-input-336-b3f21ae9d336>\u001b[0m in \u001b[0;36m<module>\u001b[0;34m()\u001b[0m\n\u001b[0;32m----> 1\u001b[0;31m \u001b[0mconf_24\u001b[0m\u001b[0;34m,\u001b[0m \u001b[0mmisclassified_24\u001b[0m\u001b[0;34m=\u001b[0m \u001b[0mtabulate_confusion_allmodel\u001b[0m\u001b[0;34m(\u001b[0m\u001b[0mmodels_24_dic\u001b[0m\u001b[0;34m,\u001b[0m \u001b[0mx_test_24\u001b[0m\u001b[0;34m,\u001b[0m \u001b[0my_test_24\u001b[0m\u001b[0;34m)\u001b[0m\u001b[0;34m\u001b[0m\u001b[0;34m\u001b[0m\u001b[0m\n\u001b[0m",
      "\u001b[0;32m<ipython-input-335-7d8e66aef6cb>\u001b[0m in \u001b[0;36mtabulate_confusion_allmodel\u001b[0;34m(model_dic, x_test, y_test)\u001b[0m\n\u001b[1;32m     10\u001b[0m         \u001b[0mprint\u001b[0m\u001b[0;34m(\u001b[0m\u001b[0mkey\u001b[0m\u001b[0;34m)\u001b[0m\u001b[0;34m\u001b[0m\u001b[0;34m\u001b[0m\u001b[0m\n\u001b[1;32m     11\u001b[0m         \u001b[0myouden_pred\u001b[0m\u001b[0;34m=\u001b[0m\u001b[0myouden_predict\u001b[0m\u001b[0;34m(\u001b[0m\u001b[0mmodel\u001b[0m\u001b[0;34m=\u001b[0m\u001b[0mmodel_dic\u001b[0m\u001b[0;34m[\u001b[0m\u001b[0mstr\u001b[0m\u001b[0;34m(\u001b[0m\u001b[0mkey\u001b[0m\u001b[0;34m)\u001b[0m\u001b[0;34m]\u001b[0m\u001b[0;34m,\u001b[0m\u001b[0mx\u001b[0m\u001b[0;34m=\u001b[0m\u001b[0mnp\u001b[0m\u001b[0;34m.\u001b[0m\u001b[0marray\u001b[0m\u001b[0;34m(\u001b[0m\u001b[0mx_test\u001b[0m\u001b[0;34m)\u001b[0m\u001b[0;34m,\u001b[0m\u001b[0my\u001b[0m\u001b[0;34m=\u001b[0m\u001b[0my_test\u001b[0m\u001b[0;34m)\u001b[0m\u001b[0;34m\u001b[0m\u001b[0;34m\u001b[0m\u001b[0m\n\u001b[0;32m---> 12\u001b[0;31m         \u001b[0mtn\u001b[0m\u001b[0;34m,\u001b[0m \u001b[0mfp\u001b[0m\u001b[0;34m,\u001b[0m \u001b[0mfn\u001b[0m\u001b[0;34m,\u001b[0m \u001b[0mtp\u001b[0m\u001b[0;34m=\u001b[0m \u001b[0mtabulate_confusion\u001b[0m\u001b[0;34m(\u001b[0m\u001b[0my_test\u001b[0m\u001b[0;34m,\u001b[0m \u001b[0myouden_pred\u001b[0m\u001b[0;34m)\u001b[0m\u001b[0;34m\u001b[0m\u001b[0;34m\u001b[0m\u001b[0m\n\u001b[0m\u001b[1;32m     13\u001b[0m         \u001b[0mtn_list\u001b[0m\u001b[0;34m.\u001b[0m\u001b[0mappend\u001b[0m\u001b[0;34m(\u001b[0m\u001b[0mtn\u001b[0m\u001b[0;34m)\u001b[0m\u001b[0;34m\u001b[0m\u001b[0;34m\u001b[0m\u001b[0m\n\u001b[1;32m     14\u001b[0m         \u001b[0mfp_list\u001b[0m\u001b[0;34m.\u001b[0m\u001b[0mappend\u001b[0m\u001b[0;34m(\u001b[0m\u001b[0mfp\u001b[0m\u001b[0;34m)\u001b[0m\u001b[0;34m\u001b[0m\u001b[0;34m\u001b[0m\u001b[0m\n",
      "\u001b[0;32m<ipython-input-33-2aad535c9bb2>\u001b[0m in \u001b[0;36mtabulate_confusion\u001b[0;34m(y_test, youden_pred)\u001b[0m\n\u001b[1;32m      1\u001b[0m \u001b[0;32mdef\u001b[0m \u001b[0mtabulate_confusion\u001b[0m\u001b[0;34m(\u001b[0m\u001b[0my_test\u001b[0m\u001b[0;34m,\u001b[0m \u001b[0myouden_pred\u001b[0m\u001b[0;34m)\u001b[0m\u001b[0;34m:\u001b[0m\u001b[0;34m\u001b[0m\u001b[0;34m\u001b[0m\u001b[0m\n\u001b[0;32m----> 2\u001b[0;31m     \u001b[0mtn\u001b[0m\u001b[0;34m,\u001b[0m \u001b[0mfp\u001b[0m\u001b[0;34m,\u001b[0m \u001b[0mfn\u001b[0m\u001b[0;34m,\u001b[0m \u001b[0mtp\u001b[0m \u001b[0;34m=\u001b[0m\u001b[0mconfusion_matrix\u001b[0m\u001b[0;34m(\u001b[0m\u001b[0my_test\u001b[0m\u001b[0;34m,\u001b[0m \u001b[0myouden_pred\u001b[0m\u001b[0;34m)\u001b[0m\u001b[0;34m.\u001b[0m\u001b[0mravel\u001b[0m\u001b[0;34m(\u001b[0m\u001b[0;34m)\u001b[0m\u001b[0;34m\u001b[0m\u001b[0;34m\u001b[0m\u001b[0m\n\u001b[0m\u001b[1;32m      3\u001b[0m     \u001b[0;32mreturn\u001b[0m\u001b[0;34m(\u001b[0m\u001b[0mtn\u001b[0m\u001b[0;34m,\u001b[0m \u001b[0mfp\u001b[0m\u001b[0;34m,\u001b[0m \u001b[0mfn\u001b[0m\u001b[0;34m,\u001b[0m \u001b[0mtp\u001b[0m\u001b[0;34m)\u001b[0m\u001b[0;34m\u001b[0m\u001b[0;34m\u001b[0m\u001b[0m\n",
      "\u001b[0;32m~/anaconda/envs/rpy-env/lib/python3.6/site-packages/sklearn/metrics/classification.py\u001b[0m in \u001b[0;36mconfusion_matrix\u001b[0;34m(y_true, y_pred, labels, sample_weight)\u001b[0m\n\u001b[1;32m    251\u001b[0m \u001b[0;34m\u001b[0m\u001b[0m\n\u001b[1;32m    252\u001b[0m     \"\"\"\n\u001b[0;32m--> 253\u001b[0;31m     \u001b[0my_type\u001b[0m\u001b[0;34m,\u001b[0m \u001b[0my_true\u001b[0m\u001b[0;34m,\u001b[0m \u001b[0my_pred\u001b[0m \u001b[0;34m=\u001b[0m \u001b[0m_check_targets\u001b[0m\u001b[0;34m(\u001b[0m\u001b[0my_true\u001b[0m\u001b[0;34m,\u001b[0m \u001b[0my_pred\u001b[0m\u001b[0;34m)\u001b[0m\u001b[0;34m\u001b[0m\u001b[0;34m\u001b[0m\u001b[0m\n\u001b[0m\u001b[1;32m    254\u001b[0m     \u001b[0;32mif\u001b[0m \u001b[0my_type\u001b[0m \u001b[0;32mnot\u001b[0m \u001b[0;32min\u001b[0m \u001b[0;34m(\u001b[0m\u001b[0;34m\"binary\"\u001b[0m\u001b[0;34m,\u001b[0m \u001b[0;34m\"multiclass\"\u001b[0m\u001b[0;34m)\u001b[0m\u001b[0;34m:\u001b[0m\u001b[0;34m\u001b[0m\u001b[0;34m\u001b[0m\u001b[0m\n\u001b[1;32m    255\u001b[0m         \u001b[0;32mraise\u001b[0m \u001b[0mValueError\u001b[0m\u001b[0;34m(\u001b[0m\u001b[0;34m\"%s is not supported\"\u001b[0m \u001b[0;34m%\u001b[0m \u001b[0my_type\u001b[0m\u001b[0;34m)\u001b[0m\u001b[0;34m\u001b[0m\u001b[0;34m\u001b[0m\u001b[0m\n",
      "\u001b[0;32m~/anaconda/envs/rpy-env/lib/python3.6/site-packages/sklearn/metrics/classification.py\u001b[0m in \u001b[0;36m_check_targets\u001b[0;34m(y_true, y_pred)\u001b[0m\n\u001b[1;32m     69\u001b[0m     \u001b[0my_pred\u001b[0m \u001b[0;34m:\u001b[0m \u001b[0marray\u001b[0m \u001b[0;32mor\u001b[0m \u001b[0mindicator\u001b[0m \u001b[0mmatrix\u001b[0m\u001b[0;34m\u001b[0m\u001b[0;34m\u001b[0m\u001b[0m\n\u001b[1;32m     70\u001b[0m     \"\"\"\n\u001b[0;32m---> 71\u001b[0;31m     \u001b[0mcheck_consistent_length\u001b[0m\u001b[0;34m(\u001b[0m\u001b[0my_true\u001b[0m\u001b[0;34m,\u001b[0m \u001b[0my_pred\u001b[0m\u001b[0;34m)\u001b[0m\u001b[0;34m\u001b[0m\u001b[0;34m\u001b[0m\u001b[0m\n\u001b[0m\u001b[1;32m     72\u001b[0m     \u001b[0mtype_true\u001b[0m \u001b[0;34m=\u001b[0m \u001b[0mtype_of_target\u001b[0m\u001b[0;34m(\u001b[0m\u001b[0my_true\u001b[0m\u001b[0;34m)\u001b[0m\u001b[0;34m\u001b[0m\u001b[0;34m\u001b[0m\u001b[0m\n\u001b[1;32m     73\u001b[0m     \u001b[0mtype_pred\u001b[0m \u001b[0;34m=\u001b[0m \u001b[0mtype_of_target\u001b[0m\u001b[0;34m(\u001b[0m\u001b[0my_pred\u001b[0m\u001b[0;34m)\u001b[0m\u001b[0;34m\u001b[0m\u001b[0;34m\u001b[0m\u001b[0m\n",
      "\u001b[0;32m~/anaconda/envs/rpy-env/lib/python3.6/site-packages/sklearn/utils/validation.py\u001b[0m in \u001b[0;36mcheck_consistent_length\u001b[0;34m(*arrays)\u001b[0m\n\u001b[1;32m    233\u001b[0m     \u001b[0;32mif\u001b[0m \u001b[0mlen\u001b[0m\u001b[0;34m(\u001b[0m\u001b[0muniques\u001b[0m\u001b[0;34m)\u001b[0m \u001b[0;34m>\u001b[0m \u001b[0;36m1\u001b[0m\u001b[0;34m:\u001b[0m\u001b[0;34m\u001b[0m\u001b[0;34m\u001b[0m\u001b[0m\n\u001b[1;32m    234\u001b[0m         raise ValueError(\"Found input variables with inconsistent numbers of\"\n\u001b[0;32m--> 235\u001b[0;31m                          \" samples: %r\" % [int(l) for l in lengths])\n\u001b[0m\u001b[1;32m    236\u001b[0m \u001b[0;34m\u001b[0m\u001b[0m\n\u001b[1;32m    237\u001b[0m \u001b[0;34m\u001b[0m\u001b[0m\n",
      "\u001b[0;31mValueError\u001b[0m: Found input variables with inconsistent numbers of samples: [3100, 2]"
     ]
    },
    {
     "name": "stdout",
     "output_type": "stream",
     "text": [
      "time: 181 ms\n"
     ]
    }
   ],
   "source": [
    "conf_24, misclassified_24= tabulate_confusion_allmodel(models_24_dic, x_test_24, y_test_24)"
   ]
  },
  {
   "cell_type": "code",
   "execution_count": 337,
   "metadata": {},
   "outputs": [
    {
     "data": {
      "text/html": [
       "<div>\n",
       "<style scoped>\n",
       "    .dataframe tbody tr th:only-of-type {\n",
       "        vertical-align: middle;\n",
       "    }\n",
       "\n",
       "    .dataframe tbody tr th {\n",
       "        vertical-align: top;\n",
       "    }\n",
       "\n",
       "    .dataframe thead th {\n",
       "        text-align: right;\n",
       "    }\n",
       "</style>\n",
       "<table border=\"1\" class=\"dataframe\">\n",
       "  <thead>\n",
       "    <tr style=\"text-align: right;\">\n",
       "      <th></th>\n",
       "      <th>model</th>\n",
       "      <th>tn</th>\n",
       "      <th>fp</th>\n",
       "      <th>fn</th>\n",
       "      <th>tp</th>\n",
       "    </tr>\n",
       "  </thead>\n",
       "  <tbody>\n",
       "    <tr>\n",
       "      <th>0</th>\n",
       "      <td>rf</td>\n",
       "      <td>939</td>\n",
       "      <td>1416</td>\n",
       "      <td>72</td>\n",
       "      <td>673</td>\n",
       "    </tr>\n",
       "    <tr>\n",
       "      <th>1</th>\n",
       "      <td>knn</td>\n",
       "      <td>490</td>\n",
       "      <td>1865</td>\n",
       "      <td>53</td>\n",
       "      <td>692</td>\n",
       "    </tr>\n",
       "    <tr>\n",
       "      <th>2</th>\n",
       "      <td>logreg</td>\n",
       "      <td>938</td>\n",
       "      <td>1417</td>\n",
       "      <td>73</td>\n",
       "      <td>672</td>\n",
       "    </tr>\n",
       "    <tr>\n",
       "      <th>3</th>\n",
       "      <td>xgboost</td>\n",
       "      <td>918</td>\n",
       "      <td>1437</td>\n",
       "      <td>73</td>\n",
       "      <td>672</td>\n",
       "    </tr>\n",
       "    <tr>\n",
       "      <th>4</th>\n",
       "      <td>ensemble</td>\n",
       "      <td>1028</td>\n",
       "      <td>1327</td>\n",
       "      <td>74</td>\n",
       "      <td>671</td>\n",
       "    </tr>\n",
       "    <tr>\n",
       "      <th>5</th>\n",
       "      <td>svc</td>\n",
       "      <td>971</td>\n",
       "      <td>1384</td>\n",
       "      <td>73</td>\n",
       "      <td>672</td>\n",
       "    </tr>\n",
       "  </tbody>\n",
       "</table>\n",
       "</div>"
      ],
      "text/plain": [
       "      model    tn    fp  fn   tp\n",
       "0        rf   939  1416  72  673\n",
       "1       knn   490  1865  53  692\n",
       "2    logreg   938  1417  73  672\n",
       "3   xgboost   918  1437  73  672\n",
       "4  ensemble  1028  1327  74  671\n",
       "5       svc   971  1384  73  672"
      ]
     },
     "execution_count": 337,
     "metadata": {},
     "output_type": "execute_result"
    },
    {
     "name": "stdout",
     "output_type": "stream",
     "text": [
      "time: 9.76 ms\n"
     ]
    }
   ],
   "source": [
    "conf_24"
   ]
  },
  {
   "cell_type": "code",
   "execution_count": 139,
   "metadata": {},
   "outputs": [
    {
     "name": "stdout",
     "output_type": "stream",
     "text": [
      "(1488,)\n",
      "(1918,)\n",
      "(1490,)\n",
      "(1510,)\n",
      "(1401,)\n",
      "(1457,)\n",
      "time: 1.14 ms\n"
     ]
    }
   ],
   "source": [
    "for key in misclassified_24.keys():\n",
    "    print(misclassified_24[str(key)].shape)"
   ]
  },
  {
   "cell_type": "code",
   "execution_count": null,
   "metadata": {},
   "outputs": [],
   "source": [
    "#positive= at or above threshold\n",
    "#negative= below threshold\n",
    "#false negative = 1 in y_true but <youden in pred. \n",
    "# y_pred_youden = [np.array(1.) if y >= youden_threshold else np.array(0.) for y in y_proba]\n",
    "    "
   ]
  },
  {
   "cell_type": "code",
   "execution_count": 161,
   "metadata": {},
   "outputs": [
    {
     "name": "stdout",
     "output_type": "stream",
     "text": [
      "time: 257 ms\n"
     ]
    }
   ],
   "source": [
    "### now trying to identify the false negatives patients\n",
    "## false positive= above the youden threshold \n",
    "\n",
    "#y_pred_youden = [np.array(1.) if y >= youden_threshold else np.array(0.) for y in y_proba]\n",
    "    \n",
    "foo_youden_pred, foo_youden_thresh=youden_predict(model=models_24_dic['rf'],x=x_test_24,y=y_test_24)\n",
    "\n",
    "y_proba = models_24_dic['rf'].predict_proba(x_test_24)[:,1]\n"
   ]
  },
  {
   "cell_type": "code",
   "execution_count": 232,
   "metadata": {},
   "outputs": [
    {
     "name": "stdout",
     "output_type": "stream",
     "text": [
      "time: 1.57 ms\n"
     ]
    }
   ],
   "source": [
    "foo=np.where((y_proba< foo_youden_thresh) & (np.array(y_test_24['0'])==1.))[0]#.resize(-1)"
   ]
  },
  {
   "cell_type": "code",
   "execution_count": 241,
   "metadata": {},
   "outputs": [
    {
     "name": "stdout",
     "output_type": "stream",
     "text": [
      "time: 1.65 ms\n"
     ]
    }
   ],
   "source": [
    "foo2=(y_proba< foo_youden_thresh) & (np.array(y_test_24['0'])==1.)"
   ]
  },
  {
   "cell_type": "code",
   "execution_count": 245,
   "metadata": {},
   "outputs": [
    {
     "data": {
      "text/plain": [
       "72"
      ]
     },
     "execution_count": 245,
     "metadata": {},
     "output_type": "execute_result"
    },
    {
     "name": "stdout",
     "output_type": "stream",
     "text": [
      "time: 10.2 ms\n"
     ]
    }
   ],
   "source": [
    "sum(foo2)"
   ]
  },
  {
   "cell_type": "code",
   "execution_count": 233,
   "metadata": {},
   "outputs": [
    {
     "data": {
      "text/plain": [
       "array([  66,  124,  127,  133,  185,  247,  266,  292,  393,  465,  505,\n",
       "        506,  521,  533,  575,  620,  807,  820,  871,  931, 1041, 1047,\n",
       "       1072, 1134, 1140, 1177, 1187, 1431, 1463, 1502, 1509, 1577, 1593,\n",
       "       1607, 1639, 1667, 1678, 1683, 1707, 1788, 1827, 1849, 1883, 1910,\n",
       "       1961, 1971, 2034, 2081, 2092, 2155, 2183, 2200, 2239, 2312, 2356,\n",
       "       2395, 2498, 2502, 2508, 2519, 2520, 2556, 2575, 2594, 2641, 2650,\n",
       "       2683, 2812, 2826, 2828, 2920, 3018])"
      ]
     },
     "execution_count": 233,
     "metadata": {},
     "output_type": "execute_result"
    },
    {
     "name": "stdout",
     "output_type": "stream",
     "text": [
      "time: 2.27 ms\n"
     ]
    }
   ],
   "source": [
    "foo  ###this is the row index of patients who are false positives"
   ]
  },
  {
   "cell_type": "code",
   "execution_count": 256,
   "metadata": {},
   "outputs": [
    {
     "name": "stdout",
     "output_type": "stream",
     "text": [
      "time: 130 ms\n"
     ]
    }
   ],
   "source": [
    "####\n",
    "fp_rf_foo= x_test.loc[foo2,:].describe()\n",
    "notfp_rf_foo=x_test.loc[~foo2,:].describe()"
   ]
  },
  {
   "cell_type": "code",
   "execution_count": 269,
   "metadata": {},
   "outputs": [
    {
     "data": {
      "text/html": [
       "<div>\n",
       "<style scoped>\n",
       "    .dataframe tbody tr th:only-of-type {\n",
       "        vertical-align: middle;\n",
       "    }\n",
       "\n",
       "    .dataframe tbody tr th {\n",
       "        vertical-align: top;\n",
       "    }\n",
       "\n",
       "    .dataframe thead th {\n",
       "        text-align: right;\n",
       "    }\n",
       "</style>\n",
       "<table border=\"1\" class=\"dataframe\">\n",
       "  <thead>\n",
       "    <tr style=\"text-align: right;\">\n",
       "      <th></th>\n",
       "      <th>bilirubin</th>\n",
       "      <th>bun</th>\n",
       "      <th>chloride</th>\n",
       "      <th>creatinine</th>\n",
       "      <th>glucose</th>\n",
       "      <th>heartrate</th>\n",
       "      <th>inr</th>\n",
       "      <th>lactate</th>\n",
       "      <th>o2_flow</th>\n",
       "      <th>potassium</th>\n",
       "      <th>...</th>\n",
       "      <th>pao2fio2ratio_(475, 3000]</th>\n",
       "      <th>vent_recieved_2.0</th>\n",
       "      <th>dobutamine_1.0</th>\n",
       "      <th>dopamine_1.0</th>\n",
       "      <th>epinephrine_1.0</th>\n",
       "      <th>norepinephrine_1.0</th>\n",
       "      <th>phenylephrine_1.0</th>\n",
       "      <th>rrt_1.0</th>\n",
       "      <th>vasopressin_1.0</th>\n",
       "      <th>cancer_elix_1.0</th>\n",
       "    </tr>\n",
       "  </thead>\n",
       "  <tbody>\n",
       "    <tr>\n",
       "      <th>mean</th>\n",
       "      <td>-0.021278</td>\n",
       "      <td>-0.062198</td>\n",
       "      <td>-0.005024</td>\n",
       "      <td>-0.027823</td>\n",
       "      <td>0.043382</td>\n",
       "      <td>0.032717</td>\n",
       "      <td>-0.011719</td>\n",
       "      <td>0.068797</td>\n",
       "      <td>0.0</td>\n",
       "      <td>0.042092</td>\n",
       "      <td>...</td>\n",
       "      <td>0.972222</td>\n",
       "      <td>0.263889</td>\n",
       "      <td>0.0</td>\n",
       "      <td>0.0</td>\n",
       "      <td>0.013889</td>\n",
       "      <td>0.013889</td>\n",
       "      <td>0.041667</td>\n",
       "      <td>0.069444</td>\n",
       "      <td>0.0</td>\n",
       "      <td>0.097222</td>\n",
       "    </tr>\n",
       "    <tr>\n",
       "      <th>std</th>\n",
       "      <td>0.257121</td>\n",
       "      <td>0.183826</td>\n",
       "      <td>0.025439</td>\n",
       "      <td>0.580117</td>\n",
       "      <td>0.079913</td>\n",
       "      <td>0.056355</td>\n",
       "      <td>0.264071</td>\n",
       "      <td>0.238737</td>\n",
       "      <td>0.0</td>\n",
       "      <td>0.212038</td>\n",
       "      <td>...</td>\n",
       "      <td>0.165489</td>\n",
       "      <td>0.443833</td>\n",
       "      <td>0.0</td>\n",
       "      <td>0.0</td>\n",
       "      <td>0.117851</td>\n",
       "      <td>0.117851</td>\n",
       "      <td>0.201229</td>\n",
       "      <td>0.255992</td>\n",
       "      <td>0.0</td>\n",
       "      <td>0.298339</td>\n",
       "    </tr>\n",
       "    <tr>\n",
       "      <th>min</th>\n",
       "      <td>-0.442507</td>\n",
       "      <td>-0.556641</td>\n",
       "      <td>-0.094174</td>\n",
       "      <td>-0.807355</td>\n",
       "      <td>-0.130336</td>\n",
       "      <td>-0.081151</td>\n",
       "      <td>-0.567819</td>\n",
       "      <td>-0.544577</td>\n",
       "      <td>0.0</td>\n",
       "      <td>-0.417952</td>\n",
       "      <td>...</td>\n",
       "      <td>0.000000</td>\n",
       "      <td>0.000000</td>\n",
       "      <td>0.0</td>\n",
       "      <td>0.0</td>\n",
       "      <td>0.000000</td>\n",
       "      <td>0.000000</td>\n",
       "      <td>0.000000</td>\n",
       "      <td>0.000000</td>\n",
       "      <td>0.0</td>\n",
       "      <td>0.000000</td>\n",
       "    </tr>\n",
       "    <tr>\n",
       "      <th>25%</th>\n",
       "      <td>-0.078921</td>\n",
       "      <td>-0.173204</td>\n",
       "      <td>-0.017340</td>\n",
       "      <td>-0.392317</td>\n",
       "      <td>-0.014182</td>\n",
       "      <td>-0.014622</td>\n",
       "      <td>-0.166676</td>\n",
       "      <td>0.075296</td>\n",
       "      <td>0.0</td>\n",
       "      <td>-0.102653</td>\n",
       "      <td>...</td>\n",
       "      <td>1.000000</td>\n",
       "      <td>0.000000</td>\n",
       "      <td>0.0</td>\n",
       "      <td>0.0</td>\n",
       "      <td>0.000000</td>\n",
       "      <td>0.000000</td>\n",
       "      <td>0.000000</td>\n",
       "      <td>0.000000</td>\n",
       "      <td>0.0</td>\n",
       "      <td>0.000000</td>\n",
       "    </tr>\n",
       "    <tr>\n",
       "      <th>50%</th>\n",
       "      <td>0.000000</td>\n",
       "      <td>-0.089373</td>\n",
       "      <td>-0.004273</td>\n",
       "      <td>-0.222392</td>\n",
       "      <td>0.043605</td>\n",
       "      <td>0.033802</td>\n",
       "      <td>0.000000</td>\n",
       "      <td>0.075296</td>\n",
       "      <td>0.0</td>\n",
       "      <td>0.030253</td>\n",
       "      <td>...</td>\n",
       "      <td>1.000000</td>\n",
       "      <td>0.000000</td>\n",
       "      <td>0.0</td>\n",
       "      <td>0.0</td>\n",
       "      <td>0.000000</td>\n",
       "      <td>0.000000</td>\n",
       "      <td>0.000000</td>\n",
       "      <td>0.000000</td>\n",
       "      <td>0.0</td>\n",
       "      <td>0.000000</td>\n",
       "    </tr>\n",
       "    <tr>\n",
       "      <th>75%</th>\n",
       "      <td>0.000000</td>\n",
       "      <td>0.061424</td>\n",
       "      <td>0.012585</td>\n",
       "      <td>0.131245</td>\n",
       "      <td>0.093771</td>\n",
       "      <td>0.076382</td>\n",
       "      <td>0.126488</td>\n",
       "      <td>0.075296</td>\n",
       "      <td>0.0</td>\n",
       "      <td>0.117640</td>\n",
       "      <td>...</td>\n",
       "      <td>1.000000</td>\n",
       "      <td>1.000000</td>\n",
       "      <td>0.0</td>\n",
       "      <td>0.0</td>\n",
       "      <td>0.000000</td>\n",
       "      <td>0.000000</td>\n",
       "      <td>0.000000</td>\n",
       "      <td>0.000000</td>\n",
       "      <td>0.0</td>\n",
       "      <td>0.000000</td>\n",
       "    </tr>\n",
       "    <tr>\n",
       "      <th>max</th>\n",
       "      <td>1.114986</td>\n",
       "      <td>0.370127</td>\n",
       "      <td>0.044536</td>\n",
       "      <td>2.050626</td>\n",
       "      <td>0.232808</td>\n",
       "      <td>0.158697</td>\n",
       "      <td>0.789673</td>\n",
       "      <td>0.867552</td>\n",
       "      <td>0.0</td>\n",
       "      <td>0.867504</td>\n",
       "      <td>...</td>\n",
       "      <td>1.000000</td>\n",
       "      <td>1.000000</td>\n",
       "      <td>0.0</td>\n",
       "      <td>0.0</td>\n",
       "      <td>1.000000</td>\n",
       "      <td>1.000000</td>\n",
       "      <td>1.000000</td>\n",
       "      <td>1.000000</td>\n",
       "      <td>0.0</td>\n",
       "      <td>1.000000</td>\n",
       "    </tr>\n",
       "  </tbody>\n",
       "</table>\n",
       "<p>7 rows × 53 columns</p>\n",
       "</div>"
      ],
      "text/plain": [
       "      bilirubin       bun  chloride  creatinine   glucose  heartrate  \\\n",
       "mean  -0.021278 -0.062198 -0.005024   -0.027823  0.043382   0.032717   \n",
       "std    0.257121  0.183826  0.025439    0.580117  0.079913   0.056355   \n",
       "min   -0.442507 -0.556641 -0.094174   -0.807355 -0.130336  -0.081151   \n",
       "25%   -0.078921 -0.173204 -0.017340   -0.392317 -0.014182  -0.014622   \n",
       "50%    0.000000 -0.089373 -0.004273   -0.222392  0.043605   0.033802   \n",
       "75%    0.000000  0.061424  0.012585    0.131245  0.093771   0.076382   \n",
       "max    1.114986  0.370127  0.044536    2.050626  0.232808   0.158697   \n",
       "\n",
       "           inr   lactate  o2_flow  potassium  ...  pao2fio2ratio_(475, 3000]  \\\n",
       "mean -0.011719  0.068797      0.0   0.042092  ...                   0.972222   \n",
       "std   0.264071  0.238737      0.0   0.212038  ...                   0.165489   \n",
       "min  -0.567819 -0.544577      0.0  -0.417952  ...                   0.000000   \n",
       "25%  -0.166676  0.075296      0.0  -0.102653  ...                   1.000000   \n",
       "50%   0.000000  0.075296      0.0   0.030253  ...                   1.000000   \n",
       "75%   0.126488  0.075296      0.0   0.117640  ...                   1.000000   \n",
       "max   0.789673  0.867552      0.0   0.867504  ...                   1.000000   \n",
       "\n",
       "      vent_recieved_2.0  dobutamine_1.0  dopamine_1.0  epinephrine_1.0  \\\n",
       "mean           0.263889             0.0           0.0         0.013889   \n",
       "std            0.443833             0.0           0.0         0.117851   \n",
       "min            0.000000             0.0           0.0         0.000000   \n",
       "25%            0.000000             0.0           0.0         0.000000   \n",
       "50%            0.000000             0.0           0.0         0.000000   \n",
       "75%            1.000000             0.0           0.0         0.000000   \n",
       "max            1.000000             0.0           0.0         1.000000   \n",
       "\n",
       "      norepinephrine_1.0  phenylephrine_1.0   rrt_1.0  vasopressin_1.0  \\\n",
       "mean            0.013889           0.041667  0.069444              0.0   \n",
       "std             0.117851           0.201229  0.255992              0.0   \n",
       "min             0.000000           0.000000  0.000000              0.0   \n",
       "25%             0.000000           0.000000  0.000000              0.0   \n",
       "50%             0.000000           0.000000  0.000000              0.0   \n",
       "75%             0.000000           0.000000  0.000000              0.0   \n",
       "max             1.000000           1.000000  1.000000              0.0   \n",
       "\n",
       "      cancer_elix_1.0  \n",
       "mean         0.097222  \n",
       "std          0.298339  \n",
       "min          0.000000  \n",
       "25%          0.000000  \n",
       "50%          0.000000  \n",
       "75%          0.000000  \n",
       "max          1.000000  \n",
       "\n",
       "[7 rows x 53 columns]"
      ]
     },
     "execution_count": 269,
     "metadata": {},
     "output_type": "execute_result"
    },
    {
     "name": "stdout",
     "output_type": "stream",
     "text": [
      "time: 20.1 ms\n"
     ]
    }
   ],
   "source": [
    "fp_rf_foo.iloc[1:,]"
   ]
  },
  {
   "cell_type": "code",
   "execution_count": 268,
   "metadata": {},
   "outputs": [
    {
     "data": {
      "text/html": [
       "<div>\n",
       "<style scoped>\n",
       "    .dataframe tbody tr th:only-of-type {\n",
       "        vertical-align: middle;\n",
       "    }\n",
       "\n",
       "    .dataframe tbody tr th {\n",
       "        vertical-align: top;\n",
       "    }\n",
       "\n",
       "    .dataframe thead th {\n",
       "        text-align: right;\n",
       "    }\n",
       "</style>\n",
       "<table border=\"1\" class=\"dataframe\">\n",
       "  <thead>\n",
       "    <tr style=\"text-align: right;\">\n",
       "      <th></th>\n",
       "      <th>bilirubin</th>\n",
       "      <th>bun</th>\n",
       "      <th>chloride</th>\n",
       "      <th>creatinine</th>\n",
       "      <th>glucose</th>\n",
       "      <th>heartrate</th>\n",
       "      <th>inr</th>\n",
       "      <th>lactate</th>\n",
       "      <th>o2_flow</th>\n",
       "      <th>potassium</th>\n",
       "      <th>...</th>\n",
       "      <th>pao2fio2ratio_(475, 3000]</th>\n",
       "      <th>vent_recieved_2.0</th>\n",
       "      <th>dobutamine_1.0</th>\n",
       "      <th>dopamine_1.0</th>\n",
       "      <th>epinephrine_1.0</th>\n",
       "      <th>norepinephrine_1.0</th>\n",
       "      <th>phenylephrine_1.0</th>\n",
       "      <th>rrt_1.0</th>\n",
       "      <th>vasopressin_1.0</th>\n",
       "      <th>cancer_elix_1.0</th>\n",
       "    </tr>\n",
       "  </thead>\n",
       "  <tbody>\n",
       "    <tr>\n",
       "      <th>mean</th>\n",
       "      <td>0.106268</td>\n",
       "      <td>0.015781</td>\n",
       "      <td>0.000209</td>\n",
       "      <td>0.184392</td>\n",
       "      <td>0.054587</td>\n",
       "      <td>0.052691</td>\n",
       "      <td>0.300170</td>\n",
       "      <td>0.119943</td>\n",
       "      <td>0.027411</td>\n",
       "      <td>0.076246</td>\n",
       "      <td>...</td>\n",
       "      <td>0.758587</td>\n",
       "      <td>0.441215</td>\n",
       "      <td>0.008587</td>\n",
       "      <td>0.045905</td>\n",
       "      <td>0.027741</td>\n",
       "      <td>0.142008</td>\n",
       "      <td>0.137715</td>\n",
       "      <td>0.066380</td>\n",
       "      <td>0.018164</td>\n",
       "      <td>0.116248</td>\n",
       "    </tr>\n",
       "    <tr>\n",
       "      <th>std</th>\n",
       "      <td>0.505814</td>\n",
       "      <td>0.209192</td>\n",
       "      <td>0.028068</td>\n",
       "      <td>0.643933</td>\n",
       "      <td>0.095578</td>\n",
       "      <td>0.062085</td>\n",
       "      <td>0.772834</td>\n",
       "      <td>0.374988</td>\n",
       "      <td>0.163304</td>\n",
       "      <td>0.216457</td>\n",
       "      <td>...</td>\n",
       "      <td>0.428011</td>\n",
       "      <td>0.496614</td>\n",
       "      <td>0.092280</td>\n",
       "      <td>0.209313</td>\n",
       "      <td>0.164257</td>\n",
       "      <td>0.349116</td>\n",
       "      <td>0.344657</td>\n",
       "      <td>0.248987</td>\n",
       "      <td>0.133566</td>\n",
       "      <td>0.320575</td>\n",
       "    </tr>\n",
       "    <tr>\n",
       "      <th>min</th>\n",
       "      <td>-0.537467</td>\n",
       "      <td>-0.646015</td>\n",
       "      <td>-0.132350</td>\n",
       "      <td>-0.932886</td>\n",
       "      <td>-0.194416</td>\n",
       "      <td>-0.218930</td>\n",
       "      <td>-0.567819</td>\n",
       "      <td>-0.681175</td>\n",
       "      <td>0.000000</td>\n",
       "      <td>-0.726162</td>\n",
       "      <td>...</td>\n",
       "      <td>0.000000</td>\n",
       "      <td>0.000000</td>\n",
       "      <td>0.000000</td>\n",
       "      <td>0.000000</td>\n",
       "      <td>0.000000</td>\n",
       "      <td>0.000000</td>\n",
       "      <td>0.000000</td>\n",
       "      <td>0.000000</td>\n",
       "      <td>0.000000</td>\n",
       "      <td>0.000000</td>\n",
       "    </tr>\n",
       "    <tr>\n",
       "      <th>25%</th>\n",
       "      <td>0.000000</td>\n",
       "      <td>-0.125965</td>\n",
       "      <td>-0.017340</td>\n",
       "      <td>-0.222392</td>\n",
       "      <td>-0.013205</td>\n",
       "      <td>0.010532</td>\n",
       "      <td>-0.132111</td>\n",
       "      <td>0.038297</td>\n",
       "      <td>0.000000</td>\n",
       "      <td>-0.062328</td>\n",
       "      <td>...</td>\n",
       "      <td>1.000000</td>\n",
       "      <td>0.000000</td>\n",
       "      <td>0.000000</td>\n",
       "      <td>0.000000</td>\n",
       "      <td>0.000000</td>\n",
       "      <td>0.000000</td>\n",
       "      <td>0.000000</td>\n",
       "      <td>0.000000</td>\n",
       "      <td>0.000000</td>\n",
       "      <td>0.000000</td>\n",
       "    </tr>\n",
       "    <tr>\n",
       "      <th>50%</th>\n",
       "      <td>0.000000</td>\n",
       "      <td>0.000000</td>\n",
       "      <td>0.000000</td>\n",
       "      <td>0.000000</td>\n",
       "      <td>0.045141</td>\n",
       "      <td>0.055449</td>\n",
       "      <td>0.126488</td>\n",
       "      <td>0.075296</td>\n",
       "      <td>0.000000</td>\n",
       "      <td>0.059930</td>\n",
       "      <td>...</td>\n",
       "      <td>1.000000</td>\n",
       "      <td>0.000000</td>\n",
       "      <td>0.000000</td>\n",
       "      <td>0.000000</td>\n",
       "      <td>0.000000</td>\n",
       "      <td>0.000000</td>\n",
       "      <td>0.000000</td>\n",
       "      <td>0.000000</td>\n",
       "      <td>0.000000</td>\n",
       "      <td>0.000000</td>\n",
       "    </tr>\n",
       "    <tr>\n",
       "      <th>75%</th>\n",
       "      <td>0.000000</td>\n",
       "      <td>0.158697</td>\n",
       "      <td>0.016704</td>\n",
       "      <td>0.415037</td>\n",
       "      <td>0.106861</td>\n",
       "      <td>0.094684</td>\n",
       "      <td>0.364376</td>\n",
       "      <td>0.075296</td>\n",
       "      <td>0.000000</td>\n",
       "      <td>0.200384</td>\n",
       "      <td>...</td>\n",
       "      <td>1.000000</td>\n",
       "      <td>1.000000</td>\n",
       "      <td>0.000000</td>\n",
       "      <td>0.000000</td>\n",
       "      <td>0.000000</td>\n",
       "      <td>0.000000</td>\n",
       "      <td>0.000000</td>\n",
       "      <td>0.000000</td>\n",
       "      <td>0.000000</td>\n",
       "      <td>0.000000</td>\n",
       "    </tr>\n",
       "    <tr>\n",
       "      <th>max</th>\n",
       "      <td>3.679094</td>\n",
       "      <td>0.702116</td>\n",
       "      <td>0.122342</td>\n",
       "      <td>3.777608</td>\n",
       "      <td>0.492241</td>\n",
       "      <td>0.293810</td>\n",
       "      <td>6.944931</td>\n",
       "      <td>2.485311</td>\n",
       "      <td>1.000000</td>\n",
       "      <td>1.154473</td>\n",
       "      <td>...</td>\n",
       "      <td>1.000000</td>\n",
       "      <td>1.000000</td>\n",
       "      <td>1.000000</td>\n",
       "      <td>1.000000</td>\n",
       "      <td>1.000000</td>\n",
       "      <td>1.000000</td>\n",
       "      <td>1.000000</td>\n",
       "      <td>1.000000</td>\n",
       "      <td>1.000000</td>\n",
       "      <td>1.000000</td>\n",
       "    </tr>\n",
       "  </tbody>\n",
       "</table>\n",
       "<p>7 rows × 53 columns</p>\n",
       "</div>"
      ],
      "text/plain": [
       "      bilirubin       bun  chloride  creatinine   glucose  heartrate  \\\n",
       "mean   0.106268  0.015781  0.000209    0.184392  0.054587   0.052691   \n",
       "std    0.505814  0.209192  0.028068    0.643933  0.095578   0.062085   \n",
       "min   -0.537467 -0.646015 -0.132350   -0.932886 -0.194416  -0.218930   \n",
       "25%    0.000000 -0.125965 -0.017340   -0.222392 -0.013205   0.010532   \n",
       "50%    0.000000  0.000000  0.000000    0.000000  0.045141   0.055449   \n",
       "75%    0.000000  0.158697  0.016704    0.415037  0.106861   0.094684   \n",
       "max    3.679094  0.702116  0.122342    3.777608  0.492241   0.293810   \n",
       "\n",
       "           inr   lactate   o2_flow  potassium  ...  pao2fio2ratio_(475, 3000]  \\\n",
       "mean  0.300170  0.119943  0.027411   0.076246  ...                   0.758587   \n",
       "std   0.772834  0.374988  0.163304   0.216457  ...                   0.428011   \n",
       "min  -0.567819 -0.681175  0.000000  -0.726162  ...                   0.000000   \n",
       "25%  -0.132111  0.038297  0.000000  -0.062328  ...                   1.000000   \n",
       "50%   0.126488  0.075296  0.000000   0.059930  ...                   1.000000   \n",
       "75%   0.364376  0.075296  0.000000   0.200384  ...                   1.000000   \n",
       "max   6.944931  2.485311  1.000000   1.154473  ...                   1.000000   \n",
       "\n",
       "      vent_recieved_2.0  dobutamine_1.0  dopamine_1.0  epinephrine_1.0  \\\n",
       "mean           0.441215        0.008587      0.045905         0.027741   \n",
       "std            0.496614        0.092280      0.209313         0.164257   \n",
       "min            0.000000        0.000000      0.000000         0.000000   \n",
       "25%            0.000000        0.000000      0.000000         0.000000   \n",
       "50%            0.000000        0.000000      0.000000         0.000000   \n",
       "75%            1.000000        0.000000      0.000000         0.000000   \n",
       "max            1.000000        1.000000      1.000000         1.000000   \n",
       "\n",
       "      norepinephrine_1.0  phenylephrine_1.0   rrt_1.0  vasopressin_1.0  \\\n",
       "mean            0.142008           0.137715  0.066380         0.018164   \n",
       "std             0.349116           0.344657  0.248987         0.133566   \n",
       "min             0.000000           0.000000  0.000000         0.000000   \n",
       "25%             0.000000           0.000000  0.000000         0.000000   \n",
       "50%             0.000000           0.000000  0.000000         0.000000   \n",
       "75%             0.000000           0.000000  0.000000         0.000000   \n",
       "max             1.000000           1.000000  1.000000         1.000000   \n",
       "\n",
       "      cancer_elix_1.0  \n",
       "mean         0.116248  \n",
       "std          0.320575  \n",
       "min          0.000000  \n",
       "25%          0.000000  \n",
       "50%          0.000000  \n",
       "75%          0.000000  \n",
       "max          1.000000  \n",
       "\n",
       "[7 rows x 53 columns]"
      ]
     },
     "execution_count": 268,
     "metadata": {},
     "output_type": "execute_result"
    },
    {
     "name": "stdout",
     "output_type": "stream",
     "text": [
      "time: 22.8 ms\n"
     ]
    }
   ],
   "source": [
    "notfp_rf_foo.iloc[1:,]"
   ]
  },
  {
   "cell_type": "code",
   "execution_count": null,
   "metadata": {},
   "outputs": [],
   "source": []
  },
  {
   "cell_type": "code",
   "execution_count": 264,
   "metadata": {},
   "outputs": [
    {
     "data": {
      "text/plain": [
       "inr                            0.311888\n",
       "weight                         0.267910\n",
       "any_vasoactives_1.0            0.220865\n",
       "pao2fio2ratio_(475, 3000]      0.213636\n",
       "creatinine                     0.212215\n",
       "vent_recieved_2.0              0.177326\n",
       "gender                         0.167712\n",
       "yearsold                       0.136667\n",
       "norepinephrine_1.0             0.128119\n",
       "bilirubin                      0.127546\n",
       "phenylephrine_1.0              0.096048\n",
       "sum_elix                       0.091421\n",
       "bun                            0.077979\n",
       "pao2fio2ratio_(200, 333]       0.072985\n",
       "pao2fio2ratio_(333, 475]       0.063702\n",
       "leukocyte_1.0                  0.063683\n",
       "ipco2_>50                      0.057427\n",
       "ptt                            0.056619\n",
       "ibands_absent                  0.052106\n",
       "lactate                        0.051145\n",
       "resprate                       0.049532\n",
       "dopamine_1.0                   0.045905\n",
       "bicarbonate                    0.036022\n",
       "potassium                      0.034155\n",
       "meanartpress                   0.030888\n",
       "hemoglobin                     0.028156\n",
       "ethnicity_white/nonhispanic    0.028090\n",
       "o2_flow                        0.027411\n",
       "minCalcium                     0.026629\n",
       "diasbp                         0.026122\n",
       "mingcs                         0.025866\n",
       "sysbp                          0.023754\n",
       "platelet                       0.020685\n",
       "heartrate                      0.019974\n",
       "cancer_elix_1.0                0.019026\n",
       "vasopressin_1.0                0.018164\n",
       "temperature                    0.017990\n",
       "ph                             0.017834\n",
       "maxCalcium                     0.016932\n",
       "ethnicity_unknown/other        0.015320\n",
       "spo2                           0.015032\n",
       "ibands_>10                     0.014935\n",
       "epinephrine_1.0                0.013852\n",
       "ethnicity_black                0.012164\n",
       "glucose                        0.011205\n",
       "dobutamine_1.0                 0.008587\n",
       "nitrite_1.0                    0.005651\n",
       "chloride                       0.005233\n",
       "ethnicity_hispanic             0.004990\n",
       "minWBC                         0.003644\n",
       "rrt_1.0                        0.003064\n",
       "maxSodium                      0.002602\n",
       "minSodium                      0.000871\n",
       "Name: mean, dtype: float64"
      ]
     },
     "execution_count": 264,
     "metadata": {},
     "output_type": "execute_result"
    },
    {
     "name": "stdout",
     "output_type": "stream",
     "text": [
      "time: 7.34 ms\n"
     ]
    }
   ],
   "source": [
    "#fp_rf_foo.loc['mean',:]#[0]#[''- notfp_rf_foo\n",
    "abs(fp_rf_foo- notfp_rf_foo).loc['mean',:].sort_values(ascending=False)"
   ]
  },
  {
   "cell_type": "code",
   "execution_count": null,
   "metadata": {},
   "outputs": [],
   "source": [
    "#### more formally looking at t-test for all variable distributions"
   ]
  },
  {
   "cell_type": "code",
   "execution_count": 305,
   "metadata": {},
   "outputs": [
    {
     "data": {
      "text/plain": [
       "Ttest_indResult(statistic=-2.1328551535945928, pvalue=0.03301500361940335)"
      ]
     },
     "execution_count": 305,
     "metadata": {},
     "output_type": "execute_result"
    },
    {
     "name": "stdout",
     "output_type": "stream",
     "text": [
      "time: 5.77 ms\n"
     ]
    }
   ],
   "source": [
    "#### more formally looking at t-test for all variable distributions\n",
    "from scipy import stats\n",
    "\n",
    "samp_fp= x_test.loc[foo2,'bilirubin'].tolist()\n",
    "samp_nonfp= x_test.loc[~foo2,'bilirubin'].tolist() #using 0 as a test\n",
    "stats.ttest_ind(samp_fp,samp_nonfp)"
   ]
  },
  {
   "cell_type": "code",
   "execution_count": 285,
   "metadata": {},
   "outputs": [
    {
     "name": "stdout",
     "output_type": "stream",
     "text": [
      "time: 70.9 ms\n"
     ]
    }
   ],
   "source": [
    "t_list=[]\n",
    "p_list=[]\n",
    "for element in list(x_test):\n",
    "    samp_fp= x_test.loc[foo2,element].tolist()\n",
    "    samp_nonfp= x_test.loc[~foo2,element].tolist() #using 0 as a test\n",
    "    t2, p2 = stats.ttest_ind(samp_fp,samp_nonfp)\n",
    "    p_list.append(p2)\n",
    "    t_list.append(t2)"
   ]
  },
  {
   "cell_type": "code",
   "execution_count": 287,
   "metadata": {},
   "outputs": [
    {
     "data": {
      "text/html": [
       "<div>\n",
       "<style scoped>\n",
       "    .dataframe tbody tr th:only-of-type {\n",
       "        vertical-align: middle;\n",
       "    }\n",
       "\n",
       "    .dataframe tbody tr th {\n",
       "        vertical-align: top;\n",
       "    }\n",
       "\n",
       "    .dataframe thead th {\n",
       "        text-align: right;\n",
       "    }\n",
       "</style>\n",
       "<table border=\"1\" class=\"dataframe\">\n",
       "  <thead>\n",
       "    <tr style=\"text-align: right;\">\n",
       "      <th></th>\n",
       "      <th>0</th>\n",
       "    </tr>\n",
       "  </thead>\n",
       "  <tbody>\n",
       "    <tr>\n",
       "      <th>count</th>\n",
       "      <td>5.300000e+01</td>\n",
       "    </tr>\n",
       "    <tr>\n",
       "      <th>mean</th>\n",
       "      <td>2.356885e-01</td>\n",
       "    </tr>\n",
       "    <tr>\n",
       "      <th>std</th>\n",
       "      <td>2.837145e-01</td>\n",
       "    </tr>\n",
       "    <tr>\n",
       "      <th>min</th>\n",
       "      <td>5.748982e-07</td>\n",
       "    </tr>\n",
       "    <tr>\n",
       "      <th>25%</th>\n",
       "      <td>6.898965e-03</td>\n",
       "    </tr>\n",
       "    <tr>\n",
       "      <th>50%</th>\n",
       "      <td>1.172491e-01</td>\n",
       "    </tr>\n",
       "    <tr>\n",
       "      <th>75%</th>\n",
       "      <td>4.299277e-01</td>\n",
       "    </tr>\n",
       "    <tr>\n",
       "      <th>max</th>\n",
       "      <td>9.178654e-01</td>\n",
       "    </tr>\n",
       "  </tbody>\n",
       "</table>\n",
       "</div>"
      ],
      "text/plain": [
       "                  0\n",
       "count  5.300000e+01\n",
       "mean   2.356885e-01\n",
       "std    2.837145e-01\n",
       "min    5.748982e-07\n",
       "25%    6.898965e-03\n",
       "50%    1.172491e-01\n",
       "75%    4.299277e-01\n",
       "max    9.178654e-01"
      ]
     },
     "execution_count": 287,
     "metadata": {},
     "output_type": "execute_result"
    },
    {
     "name": "stdout",
     "output_type": "stream",
     "text": [
      "time: 12.3 ms\n"
     ]
    }
   ],
   "source": [
    "pd.DataFrame(p_list).describe()"
   ]
  },
  {
   "cell_type": "code",
   "execution_count": 292,
   "metadata": {},
   "outputs": [
    {
     "data": {
      "text/plain": [
       "20"
      ]
     },
     "execution_count": 292,
     "metadata": {},
     "output_type": "execute_result"
    },
    {
     "name": "stdout",
     "output_type": "stream",
     "text": [
      "time: 2.47 ms\n"
     ]
    }
   ],
   "source": [
    "sum(np.array(p_list)<=0.05)"
   ]
  },
  {
   "cell_type": "code",
   "execution_count": 297,
   "metadata": {},
   "outputs": [
    {
     "data": {
      "text/plain": [
       "[True,\n",
       " True,\n",
       " False,\n",
       " True,\n",
       " False,\n",
       " True,\n",
       " True,\n",
       " False,\n",
       " False,\n",
       " False,\n",
       " True,\n",
       " True,\n",
       " False,\n",
       " True,\n",
       " True,\n",
       " True,\n",
       " False,\n",
       " True,\n",
       " False,\n",
       " False,\n",
       " False,\n",
       " False,\n",
       " True,\n",
       " False,\n",
       " False,\n",
       " False,\n",
       " False,\n",
       " False,\n",
       " True,\n",
       " True,\n",
       " False,\n",
       " False,\n",
       " False,\n",
       " False,\n",
       " False,\n",
       " False,\n",
       " False,\n",
       " False,\n",
       " True,\n",
       " False,\n",
       " False,\n",
       " True,\n",
       " False,\n",
       " True,\n",
       " True,\n",
       " False,\n",
       " False,\n",
       " False,\n",
       " True,\n",
       " True,\n",
       " False,\n",
       " False,\n",
       " False]"
      ]
     },
     "execution_count": 297,
     "metadata": {},
     "output_type": "execute_result"
    },
    {
     "name": "stdout",
     "output_type": "stream",
     "text": [
      "time: 3.04 ms\n"
     ]
    }
   ],
   "source": [
    "list(np.array(p_list)<=0.05)"
   ]
  },
  {
   "cell_type": "code",
   "execution_count": 304,
   "metadata": {},
   "outputs": [
    {
     "data": {
      "text/plain": [
       "array([3.30150036e-02, 1.73906871e-03, 1.17249107e-01, 5.64358025e-03,\n",
       "       3.23930869e-01, 6.89896540e-03, 6.36312748e-04, 2.49540925e-01,\n",
       "       1.54535304e-01, 1.85643487e-01, 7.28005309e-04, 8.93949000e-05,\n",
       "       1.98901636e-01, 5.74898231e-07, 1.10120610e-02, 1.58412381e-02,\n",
       "       8.20314098e-02, 2.01279858e-02, 2.31290043e-01, 1.35459791e-01,\n",
       "       1.80430560e-01, 1.76802320e-01, 3.08693949e-04, 6.72645221e-01,\n",
       "       2.25713671e-01, 4.51170497e-01, 8.64037454e-01, 9.03779340e-01,\n",
       "       2.02416636e-03, 6.00982748e-03, 7.41666235e-02, 6.50578869e-01,\n",
       "       7.79746300e-01, 6.40201660e-01, 6.37554505e-01, 5.27630776e-01,\n",
       "       1.56632311e-01, 8.23688818e-02, 3.04691206e-05, 8.00826188e-02,\n",
       "       7.48124536e-01, 1.73665989e-02, 6.19764617e-02, 2.43416331e-05,\n",
       "       2.70899970e-03, 4.29927712e-01, 6.28912958e-02, 4.77019891e-01,\n",
       "       1.89236433e-03, 1.85905443e-02, 9.17865370e-01, 2.48693547e-01,\n",
       "       6.18178557e-01])"
      ]
     },
     "execution_count": 304,
     "metadata": {},
     "output_type": "execute_result"
    },
    {
     "name": "stdout",
     "output_type": "stream",
     "text": [
      "time: 3.08 ms\n"
     ]
    }
   ],
   "source": [
    "np.array(p_list)"
   ]
  },
  {
   "cell_type": "code",
   "execution_count": 302,
   "metadata": {},
   "outputs": [
    {
     "data": {
      "text/html": [
       "<div>\n",
       "<style scoped>\n",
       "    .dataframe tbody tr th:only-of-type {\n",
       "        vertical-align: middle;\n",
       "    }\n",
       "\n",
       "    .dataframe tbody tr th {\n",
       "        vertical-align: top;\n",
       "    }\n",
       "\n",
       "    .dataframe thead th {\n",
       "        text-align: right;\n",
       "    }\n",
       "</style>\n",
       "<table border=\"1\" class=\"dataframe\">\n",
       "  <thead>\n",
       "    <tr style=\"text-align: right;\">\n",
       "      <th></th>\n",
       "      <th>bilirubin</th>\n",
       "      <th>bun</th>\n",
       "      <th>creatinine</th>\n",
       "      <th>heartrate</th>\n",
       "      <th>inr</th>\n",
       "      <th>ptt</th>\n",
       "      <th>resprate</th>\n",
       "      <th>temperature</th>\n",
       "      <th>bicarbonate</th>\n",
       "      <th>diasbp</th>\n",
       "      <th>meanartpress</th>\n",
       "      <th>sysbp</th>\n",
       "      <th>gender</th>\n",
       "      <th>weight</th>\n",
       "      <th>any_vasoactives_1.0</th>\n",
       "      <th>pao2fio2ratio_(200, 333]</th>\n",
       "      <th>pao2fio2ratio_(475, 3000]</th>\n",
       "      <th>vent_recieved_2.0</th>\n",
       "      <th>norepinephrine_1.0</th>\n",
       "      <th>phenylephrine_1.0</th>\n",
       "    </tr>\n",
       "  </thead>\n",
       "  <tbody>\n",
       "    <tr>\n",
       "      <th>mean</th>\n",
       "      <td>-0.021278</td>\n",
       "      <td>-0.062198</td>\n",
       "      <td>-0.027823</td>\n",
       "      <td>0.032717</td>\n",
       "      <td>-0.011719</td>\n",
       "      <td>-0.016203</td>\n",
       "      <td>0.114414</td>\n",
       "      <td>0.006302</td>\n",
       "      <td>0.005954</td>\n",
       "      <td>-0.084601</td>\n",
       "      <td>-0.068954</td>\n",
       "      <td>-0.044770</td>\n",
       "      <td>0.541667</td>\n",
       "      <td>-0.262470</td>\n",
       "      <td>0.055556</td>\n",
       "      <td>0.0</td>\n",
       "      <td>0.972222</td>\n",
       "      <td>0.263889</td>\n",
       "      <td>0.013889</td>\n",
       "      <td>0.041667</td>\n",
       "    </tr>\n",
       "    <tr>\n",
       "      <th>std</th>\n",
       "      <td>0.257121</td>\n",
       "      <td>0.183826</td>\n",
       "      <td>0.580117</td>\n",
       "      <td>0.056355</td>\n",
       "      <td>0.264071</td>\n",
       "      <td>0.097812</td>\n",
       "      <td>0.090104</td>\n",
       "      <td>0.029920</td>\n",
       "      <td>0.084192</td>\n",
       "      <td>0.078488</td>\n",
       "      <td>0.067403</td>\n",
       "      <td>0.041641</td>\n",
       "      <td>0.501757</td>\n",
       "      <td>0.732881</td>\n",
       "      <td>0.230669</td>\n",
       "      <td>0.0</td>\n",
       "      <td>0.165489</td>\n",
       "      <td>0.443833</td>\n",
       "      <td>0.117851</td>\n",
       "      <td>0.201229</td>\n",
       "    </tr>\n",
       "    <tr>\n",
       "      <th>min</th>\n",
       "      <td>-0.442507</td>\n",
       "      <td>-0.556641</td>\n",
       "      <td>-0.807355</td>\n",
       "      <td>-0.081151</td>\n",
       "      <td>-0.567819</td>\n",
       "      <td>-0.159352</td>\n",
       "      <td>-0.107309</td>\n",
       "      <td>-0.141004</td>\n",
       "      <td>-0.229346</td>\n",
       "      <td>-0.271192</td>\n",
       "      <td>-0.288743</td>\n",
       "      <td>-0.121780</td>\n",
       "      <td>0.000000</td>\n",
       "      <td>-2.265183</td>\n",
       "      <td>0.000000</td>\n",
       "      <td>0.0</td>\n",
       "      <td>0.000000</td>\n",
       "      <td>0.000000</td>\n",
       "      <td>0.000000</td>\n",
       "      <td>0.000000</td>\n",
       "    </tr>\n",
       "    <tr>\n",
       "      <th>25%</th>\n",
       "      <td>-0.078921</td>\n",
       "      <td>-0.173204</td>\n",
       "      <td>-0.392317</td>\n",
       "      <td>-0.014622</td>\n",
       "      <td>-0.166676</td>\n",
       "      <td>-0.063297</td>\n",
       "      <td>0.067211</td>\n",
       "      <td>-0.008366</td>\n",
       "      <td>-0.048561</td>\n",
       "      <td>-0.115141</td>\n",
       "      <td>-0.101939</td>\n",
       "      <td>-0.075355</td>\n",
       "      <td>0.000000</td>\n",
       "      <td>-0.774995</td>\n",
       "      <td>0.000000</td>\n",
       "      <td>0.0</td>\n",
       "      <td>1.000000</td>\n",
       "      <td>0.000000</td>\n",
       "      <td>0.000000</td>\n",
       "      <td>0.000000</td>\n",
       "    </tr>\n",
       "    <tr>\n",
       "      <th>50%</th>\n",
       "      <td>0.000000</td>\n",
       "      <td>-0.089373</td>\n",
       "      <td>-0.222392</td>\n",
       "      <td>0.033802</td>\n",
       "      <td>0.000000</td>\n",
       "      <td>-0.003205</td>\n",
       "      <td>0.107309</td>\n",
       "      <td>0.007826</td>\n",
       "      <td>0.000000</td>\n",
       "      <td>-0.075785</td>\n",
       "      <td>-0.067068</td>\n",
       "      <td>-0.050047</td>\n",
       "      <td>1.000000</td>\n",
       "      <td>-0.253218</td>\n",
       "      <td>0.000000</td>\n",
       "      <td>0.0</td>\n",
       "      <td>1.000000</td>\n",
       "      <td>0.000000</td>\n",
       "      <td>0.000000</td>\n",
       "      <td>0.000000</td>\n",
       "    </tr>\n",
       "    <tr>\n",
       "      <th>75%</th>\n",
       "      <td>0.000000</td>\n",
       "      <td>0.061424</td>\n",
       "      <td>0.131245</td>\n",
       "      <td>0.076382</td>\n",
       "      <td>0.126488</td>\n",
       "      <td>0.002104</td>\n",
       "      <td>0.161809</td>\n",
       "      <td>0.023343</td>\n",
       "      <td>0.062748</td>\n",
       "      <td>-0.040544</td>\n",
       "      <td>-0.022728</td>\n",
       "      <td>-0.026747</td>\n",
       "      <td>1.000000</td>\n",
       "      <td>0.049602</td>\n",
       "      <td>0.000000</td>\n",
       "      <td>0.0</td>\n",
       "      <td>1.000000</td>\n",
       "      <td>1.000000</td>\n",
       "      <td>0.000000</td>\n",
       "      <td>0.000000</td>\n",
       "    </tr>\n",
       "    <tr>\n",
       "      <th>max</th>\n",
       "      <td>1.114986</td>\n",
       "      <td>0.370127</td>\n",
       "      <td>2.050626</td>\n",
       "      <td>0.158697</td>\n",
       "      <td>0.789673</td>\n",
       "      <td>0.450373</td>\n",
       "      <td>0.308666</td>\n",
       "      <td>0.065109</td>\n",
       "      <td>0.215175</td>\n",
       "      <td>0.066605</td>\n",
       "      <td>0.063776</td>\n",
       "      <td>0.072181</td>\n",
       "      <td>1.000000</td>\n",
       "      <td>1.775344</td>\n",
       "      <td>1.000000</td>\n",
       "      <td>0.0</td>\n",
       "      <td>1.000000</td>\n",
       "      <td>1.000000</td>\n",
       "      <td>1.000000</td>\n",
       "      <td>1.000000</td>\n",
       "    </tr>\n",
       "  </tbody>\n",
       "</table>\n",
       "</div>"
      ],
      "text/plain": [
       "      bilirubin       bun  creatinine  heartrate       inr       ptt  \\\n",
       "mean  -0.021278 -0.062198   -0.027823   0.032717 -0.011719 -0.016203   \n",
       "std    0.257121  0.183826    0.580117   0.056355  0.264071  0.097812   \n",
       "min   -0.442507 -0.556641   -0.807355  -0.081151 -0.567819 -0.159352   \n",
       "25%   -0.078921 -0.173204   -0.392317  -0.014622 -0.166676 -0.063297   \n",
       "50%    0.000000 -0.089373   -0.222392   0.033802  0.000000 -0.003205   \n",
       "75%    0.000000  0.061424    0.131245   0.076382  0.126488  0.002104   \n",
       "max    1.114986  0.370127    2.050626   0.158697  0.789673  0.450373   \n",
       "\n",
       "      resprate  temperature  bicarbonate    diasbp  meanartpress     sysbp  \\\n",
       "mean  0.114414     0.006302     0.005954 -0.084601     -0.068954 -0.044770   \n",
       "std   0.090104     0.029920     0.084192  0.078488      0.067403  0.041641   \n",
       "min  -0.107309    -0.141004    -0.229346 -0.271192     -0.288743 -0.121780   \n",
       "25%   0.067211    -0.008366    -0.048561 -0.115141     -0.101939 -0.075355   \n",
       "50%   0.107309     0.007826     0.000000 -0.075785     -0.067068 -0.050047   \n",
       "75%   0.161809     0.023343     0.062748 -0.040544     -0.022728 -0.026747   \n",
       "max   0.308666     0.065109     0.215175  0.066605      0.063776  0.072181   \n",
       "\n",
       "        gender    weight  any_vasoactives_1.0  pao2fio2ratio_(200, 333]  \\\n",
       "mean  0.541667 -0.262470             0.055556                       0.0   \n",
       "std   0.501757  0.732881             0.230669                       0.0   \n",
       "min   0.000000 -2.265183             0.000000                       0.0   \n",
       "25%   0.000000 -0.774995             0.000000                       0.0   \n",
       "50%   1.000000 -0.253218             0.000000                       0.0   \n",
       "75%   1.000000  0.049602             0.000000                       0.0   \n",
       "max   1.000000  1.775344             1.000000                       0.0   \n",
       "\n",
       "      pao2fio2ratio_(475, 3000]  vent_recieved_2.0  norepinephrine_1.0  \\\n",
       "mean                   0.972222           0.263889            0.013889   \n",
       "std                    0.165489           0.443833            0.117851   \n",
       "min                    0.000000           0.000000            0.000000   \n",
       "25%                    1.000000           0.000000            0.000000   \n",
       "50%                    1.000000           0.000000            0.000000   \n",
       "75%                    1.000000           1.000000            0.000000   \n",
       "max                    1.000000           1.000000            1.000000   \n",
       "\n",
       "      phenylephrine_1.0  \n",
       "mean           0.041667  \n",
       "std            0.201229  \n",
       "min            0.000000  \n",
       "25%            0.000000  \n",
       "50%            0.000000  \n",
       "75%            0.000000  \n",
       "max            1.000000  "
      ]
     },
     "execution_count": 302,
     "metadata": {},
     "output_type": "execute_result"
    },
    {
     "name": "stdout",
     "output_type": "stream",
     "text": [
      "time: 20 ms\n"
     ]
    }
   ],
   "source": [
    "fp_rf_foo.iloc[1:, list(np.array(p_list)<=0.05)]"
   ]
  },
  {
   "cell_type": "code",
   "execution_count": 303,
   "metadata": {},
   "outputs": [
    {
     "data": {
      "text/html": [
       "<div>\n",
       "<style scoped>\n",
       "    .dataframe tbody tr th:only-of-type {\n",
       "        vertical-align: middle;\n",
       "    }\n",
       "\n",
       "    .dataframe tbody tr th {\n",
       "        vertical-align: top;\n",
       "    }\n",
       "\n",
       "    .dataframe thead th {\n",
       "        text-align: right;\n",
       "    }\n",
       "</style>\n",
       "<table border=\"1\" class=\"dataframe\">\n",
       "  <thead>\n",
       "    <tr style=\"text-align: right;\">\n",
       "      <th></th>\n",
       "      <th>bilirubin</th>\n",
       "      <th>bun</th>\n",
       "      <th>creatinine</th>\n",
       "      <th>heartrate</th>\n",
       "      <th>inr</th>\n",
       "      <th>ptt</th>\n",
       "      <th>resprate</th>\n",
       "      <th>temperature</th>\n",
       "      <th>bicarbonate</th>\n",
       "      <th>diasbp</th>\n",
       "      <th>meanartpress</th>\n",
       "      <th>sysbp</th>\n",
       "      <th>gender</th>\n",
       "      <th>weight</th>\n",
       "      <th>any_vasoactives_1.0</th>\n",
       "      <th>pao2fio2ratio_(200, 333]</th>\n",
       "      <th>pao2fio2ratio_(475, 3000]</th>\n",
       "      <th>vent_recieved_2.0</th>\n",
       "      <th>norepinephrine_1.0</th>\n",
       "      <th>phenylephrine_1.0</th>\n",
       "    </tr>\n",
       "  </thead>\n",
       "  <tbody>\n",
       "    <tr>\n",
       "      <th>mean</th>\n",
       "      <td>0.106268</td>\n",
       "      <td>0.015781</td>\n",
       "      <td>0.184392</td>\n",
       "      <td>0.052691</td>\n",
       "      <td>0.300170</td>\n",
       "      <td>0.040416</td>\n",
       "      <td>0.163947</td>\n",
       "      <td>0.024292</td>\n",
       "      <td>-0.030068</td>\n",
       "      <td>-0.110722</td>\n",
       "      <td>-0.099842</td>\n",
       "      <td>-0.068524</td>\n",
       "      <td>0.709379</td>\n",
       "      <td>0.005440</td>\n",
       "      <td>0.276420</td>\n",
       "      <td>0.072985</td>\n",
       "      <td>0.758587</td>\n",
       "      <td>0.441215</td>\n",
       "      <td>0.142008</td>\n",
       "      <td>0.137715</td>\n",
       "    </tr>\n",
       "    <tr>\n",
       "      <th>std</th>\n",
       "      <td>0.505814</td>\n",
       "      <td>0.209192</td>\n",
       "      <td>0.643933</td>\n",
       "      <td>0.062085</td>\n",
       "      <td>0.772834</td>\n",
       "      <td>0.141232</td>\n",
       "      <td>0.106230</td>\n",
       "      <td>0.030118</td>\n",
       "      <td>0.119442</td>\n",
       "      <td>0.091018</td>\n",
       "      <td>0.112230</td>\n",
       "      <td>0.055430</td>\n",
       "      <td>0.454124</td>\n",
       "      <td>0.819126</td>\n",
       "      <td>0.447301</td>\n",
       "      <td>0.260156</td>\n",
       "      <td>0.428011</td>\n",
       "      <td>0.496614</td>\n",
       "      <td>0.349116</td>\n",
       "      <td>0.344657</td>\n",
       "    </tr>\n",
       "    <tr>\n",
       "      <th>min</th>\n",
       "      <td>-0.537467</td>\n",
       "      <td>-0.646015</td>\n",
       "      <td>-0.932886</td>\n",
       "      <td>-0.218930</td>\n",
       "      <td>-0.567819</td>\n",
       "      <td>-0.199282</td>\n",
       "      <td>-0.207163</td>\n",
       "      <td>-0.144935</td>\n",
       "      <td>-0.827087</td>\n",
       "      <td>-0.448899</td>\n",
       "      <td>-1.256928</td>\n",
       "      <td>-0.303234</td>\n",
       "      <td>0.000000</td>\n",
       "      <td>-11.146106</td>\n",
       "      <td>0.000000</td>\n",
       "      <td>0.000000</td>\n",
       "      <td>0.000000</td>\n",
       "      <td>0.000000</td>\n",
       "      <td>0.000000</td>\n",
       "      <td>0.000000</td>\n",
       "    </tr>\n",
       "    <tr>\n",
       "      <th>25%</th>\n",
       "      <td>0.000000</td>\n",
       "      <td>-0.125965</td>\n",
       "      <td>-0.222392</td>\n",
       "      <td>0.010532</td>\n",
       "      <td>-0.132111</td>\n",
       "      <td>-0.037798</td>\n",
       "      <td>0.087678</td>\n",
       "      <td>0.003919</td>\n",
       "      <td>-0.089600</td>\n",
       "      <td>-0.155126</td>\n",
       "      <td>-0.126677</td>\n",
       "      <td>-0.099439</td>\n",
       "      <td>0.000000</td>\n",
       "      <td>-0.479824</td>\n",
       "      <td>0.000000</td>\n",
       "      <td>0.000000</td>\n",
       "      <td>1.000000</td>\n",
       "      <td>0.000000</td>\n",
       "      <td>0.000000</td>\n",
       "      <td>0.000000</td>\n",
       "    </tr>\n",
       "    <tr>\n",
       "      <th>50%</th>\n",
       "      <td>0.000000</td>\n",
       "      <td>0.000000</td>\n",
       "      <td>0.000000</td>\n",
       "      <td>0.055449</td>\n",
       "      <td>0.126488</td>\n",
       "      <td>0.002104</td>\n",
       "      <td>0.161809</td>\n",
       "      <td>0.019481</td>\n",
       "      <td>-0.020978</td>\n",
       "      <td>-0.105336</td>\n",
       "      <td>-0.084519</td>\n",
       "      <td>-0.065607</td>\n",
       "      <td>1.000000</td>\n",
       "      <td>-0.019188</td>\n",
       "      <td>0.000000</td>\n",
       "      <td>0.000000</td>\n",
       "      <td>1.000000</td>\n",
       "      <td>0.000000</td>\n",
       "      <td>0.000000</td>\n",
       "      <td>0.000000</td>\n",
       "    </tr>\n",
       "    <tr>\n",
       "      <th>75%</th>\n",
       "      <td>0.000000</td>\n",
       "      <td>0.158697</td>\n",
       "      <td>0.415037</td>\n",
       "      <td>0.094684</td>\n",
       "      <td>0.364376</td>\n",
       "      <td>0.062120</td>\n",
       "      <td>0.226024</td>\n",
       "      <td>0.044389</td>\n",
       "      <td>0.039550</td>\n",
       "      <td>-0.048600</td>\n",
       "      <td>-0.047093</td>\n",
       "      <td>-0.035270</td>\n",
       "      <td>1.000000</td>\n",
       "      <td>0.440699</td>\n",
       "      <td>1.000000</td>\n",
       "      <td>0.000000</td>\n",
       "      <td>1.000000</td>\n",
       "      <td>1.000000</td>\n",
       "      <td>0.000000</td>\n",
       "      <td>0.000000</td>\n",
       "    </tr>\n",
       "    <tr>\n",
       "      <th>max</th>\n",
       "      <td>3.679094</td>\n",
       "      <td>0.702116</td>\n",
       "      <td>3.777608</td>\n",
       "      <td>0.293810</td>\n",
       "      <td>6.944931</td>\n",
       "      <td>0.535473</td>\n",
       "      <td>0.602452</td>\n",
       "      <td>0.141044</td>\n",
       "      <td>0.366384</td>\n",
       "      <td>0.176868</td>\n",
       "      <td>0.135348</td>\n",
       "      <td>0.109685</td>\n",
       "      <td>1.000000</td>\n",
       "      <td>3.433836</td>\n",
       "      <td>1.000000</td>\n",
       "      <td>1.000000</td>\n",
       "      <td>1.000000</td>\n",
       "      <td>1.000000</td>\n",
       "      <td>1.000000</td>\n",
       "      <td>1.000000</td>\n",
       "    </tr>\n",
       "  </tbody>\n",
       "</table>\n",
       "</div>"
      ],
      "text/plain": [
       "      bilirubin       bun  creatinine  heartrate       inr       ptt  \\\n",
       "mean   0.106268  0.015781    0.184392   0.052691  0.300170  0.040416   \n",
       "std    0.505814  0.209192    0.643933   0.062085  0.772834  0.141232   \n",
       "min   -0.537467 -0.646015   -0.932886  -0.218930 -0.567819 -0.199282   \n",
       "25%    0.000000 -0.125965   -0.222392   0.010532 -0.132111 -0.037798   \n",
       "50%    0.000000  0.000000    0.000000   0.055449  0.126488  0.002104   \n",
       "75%    0.000000  0.158697    0.415037   0.094684  0.364376  0.062120   \n",
       "max    3.679094  0.702116    3.777608   0.293810  6.944931  0.535473   \n",
       "\n",
       "      resprate  temperature  bicarbonate    diasbp  meanartpress     sysbp  \\\n",
       "mean  0.163947     0.024292    -0.030068 -0.110722     -0.099842 -0.068524   \n",
       "std   0.106230     0.030118     0.119442  0.091018      0.112230  0.055430   \n",
       "min  -0.207163    -0.144935    -0.827087 -0.448899     -1.256928 -0.303234   \n",
       "25%   0.087678     0.003919    -0.089600 -0.155126     -0.126677 -0.099439   \n",
       "50%   0.161809     0.019481    -0.020978 -0.105336     -0.084519 -0.065607   \n",
       "75%   0.226024     0.044389     0.039550 -0.048600     -0.047093 -0.035270   \n",
       "max   0.602452     0.141044     0.366384  0.176868      0.135348  0.109685   \n",
       "\n",
       "        gender     weight  any_vasoactives_1.0  pao2fio2ratio_(200, 333]  \\\n",
       "mean  0.709379   0.005440             0.276420                  0.072985   \n",
       "std   0.454124   0.819126             0.447301                  0.260156   \n",
       "min   0.000000 -11.146106             0.000000                  0.000000   \n",
       "25%   0.000000  -0.479824             0.000000                  0.000000   \n",
       "50%   1.000000  -0.019188             0.000000                  0.000000   \n",
       "75%   1.000000   0.440699             1.000000                  0.000000   \n",
       "max   1.000000   3.433836             1.000000                  1.000000   \n",
       "\n",
       "      pao2fio2ratio_(475, 3000]  vent_recieved_2.0  norepinephrine_1.0  \\\n",
       "mean                   0.758587           0.441215            0.142008   \n",
       "std                    0.428011           0.496614            0.349116   \n",
       "min                    0.000000           0.000000            0.000000   \n",
       "25%                    1.000000           0.000000            0.000000   \n",
       "50%                    1.000000           0.000000            0.000000   \n",
       "75%                    1.000000           1.000000            0.000000   \n",
       "max                    1.000000           1.000000            1.000000   \n",
       "\n",
       "      phenylephrine_1.0  \n",
       "mean           0.137715  \n",
       "std            0.344657  \n",
       "min            0.000000  \n",
       "25%            0.000000  \n",
       "50%            0.000000  \n",
       "75%            0.000000  \n",
       "max            1.000000  "
      ]
     },
     "execution_count": 303,
     "metadata": {},
     "output_type": "execute_result"
    },
    {
     "name": "stdout",
     "output_type": "stream",
     "text": [
      "time: 19.5 ms\n"
     ]
    }
   ],
   "source": [
    "notfp_rf_foo.iloc[1:, list(np.array(p_list)<=0.05)]"
   ]
  },
  {
   "cell_type": "code",
   "execution_count": 306,
   "metadata": {},
   "outputs": [
    {
     "data": {
      "text/html": [
       "<div>\n",
       "<style scoped>\n",
       "    .dataframe tbody tr th:only-of-type {\n",
       "        vertical-align: middle;\n",
       "    }\n",
       "\n",
       "    .dataframe tbody tr th {\n",
       "        vertical-align: top;\n",
       "    }\n",
       "\n",
       "    .dataframe thead th {\n",
       "        text-align: right;\n",
       "    }\n",
       "</style>\n",
       "<table border=\"1\" class=\"dataframe\">\n",
       "  <thead>\n",
       "    <tr style=\"text-align: right;\">\n",
       "      <th></th>\n",
       "      <th>bilirubin</th>\n",
       "      <th>bun</th>\n",
       "      <th>chloride</th>\n",
       "      <th>creatinine</th>\n",
       "      <th>glucose</th>\n",
       "      <th>heartrate</th>\n",
       "      <th>inr</th>\n",
       "      <th>lactate</th>\n",
       "      <th>o2_flow</th>\n",
       "      <th>potassium</th>\n",
       "      <th>...</th>\n",
       "      <th>pao2fio2ratio_(475, 3000]</th>\n",
       "      <th>vent_recieved_2.0</th>\n",
       "      <th>dobutamine_1.0</th>\n",
       "      <th>dopamine_1.0</th>\n",
       "      <th>epinephrine_1.0</th>\n",
       "      <th>norepinephrine_1.0</th>\n",
       "      <th>phenylephrine_1.0</th>\n",
       "      <th>rrt_1.0</th>\n",
       "      <th>vasopressin_1.0</th>\n",
       "      <th>cancer_elix_1.0</th>\n",
       "    </tr>\n",
       "  </thead>\n",
       "  <tbody>\n",
       "    <tr>\n",
       "      <th>count</th>\n",
       "      <td>72.000000</td>\n",
       "      <td>72.000000</td>\n",
       "      <td>72.000000</td>\n",
       "      <td>72.000000</td>\n",
       "      <td>72.000000</td>\n",
       "      <td>72.000000</td>\n",
       "      <td>72.000000</td>\n",
       "      <td>72.000000</td>\n",
       "      <td>72.0</td>\n",
       "      <td>72.000000</td>\n",
       "      <td>...</td>\n",
       "      <td>72.000000</td>\n",
       "      <td>72.000000</td>\n",
       "      <td>72.0</td>\n",
       "      <td>72.0</td>\n",
       "      <td>72.000000</td>\n",
       "      <td>72.000000</td>\n",
       "      <td>72.000000</td>\n",
       "      <td>72.000000</td>\n",
       "      <td>72.0</td>\n",
       "      <td>72.000000</td>\n",
       "    </tr>\n",
       "    <tr>\n",
       "      <th>mean</th>\n",
       "      <td>-0.021278</td>\n",
       "      <td>-0.062198</td>\n",
       "      <td>-0.005024</td>\n",
       "      <td>-0.027823</td>\n",
       "      <td>0.043382</td>\n",
       "      <td>0.032717</td>\n",
       "      <td>-0.011719</td>\n",
       "      <td>0.068797</td>\n",
       "      <td>0.0</td>\n",
       "      <td>0.042092</td>\n",
       "      <td>...</td>\n",
       "      <td>0.972222</td>\n",
       "      <td>0.263889</td>\n",
       "      <td>0.0</td>\n",
       "      <td>0.0</td>\n",
       "      <td>0.013889</td>\n",
       "      <td>0.013889</td>\n",
       "      <td>0.041667</td>\n",
       "      <td>0.069444</td>\n",
       "      <td>0.0</td>\n",
       "      <td>0.097222</td>\n",
       "    </tr>\n",
       "    <tr>\n",
       "      <th>std</th>\n",
       "      <td>0.257121</td>\n",
       "      <td>0.183826</td>\n",
       "      <td>0.025439</td>\n",
       "      <td>0.580117</td>\n",
       "      <td>0.079913</td>\n",
       "      <td>0.056355</td>\n",
       "      <td>0.264071</td>\n",
       "      <td>0.238737</td>\n",
       "      <td>0.0</td>\n",
       "      <td>0.212038</td>\n",
       "      <td>...</td>\n",
       "      <td>0.165489</td>\n",
       "      <td>0.443833</td>\n",
       "      <td>0.0</td>\n",
       "      <td>0.0</td>\n",
       "      <td>0.117851</td>\n",
       "      <td>0.117851</td>\n",
       "      <td>0.201229</td>\n",
       "      <td>0.255992</td>\n",
       "      <td>0.0</td>\n",
       "      <td>0.298339</td>\n",
       "    </tr>\n",
       "    <tr>\n",
       "      <th>min</th>\n",
       "      <td>-0.442507</td>\n",
       "      <td>-0.556641</td>\n",
       "      <td>-0.094174</td>\n",
       "      <td>-0.807355</td>\n",
       "      <td>-0.130336</td>\n",
       "      <td>-0.081151</td>\n",
       "      <td>-0.567819</td>\n",
       "      <td>-0.544577</td>\n",
       "      <td>0.0</td>\n",
       "      <td>-0.417952</td>\n",
       "      <td>...</td>\n",
       "      <td>0.000000</td>\n",
       "      <td>0.000000</td>\n",
       "      <td>0.0</td>\n",
       "      <td>0.0</td>\n",
       "      <td>0.000000</td>\n",
       "      <td>0.000000</td>\n",
       "      <td>0.000000</td>\n",
       "      <td>0.000000</td>\n",
       "      <td>0.0</td>\n",
       "      <td>0.000000</td>\n",
       "    </tr>\n",
       "    <tr>\n",
       "      <th>25%</th>\n",
       "      <td>-0.078921</td>\n",
       "      <td>-0.173204</td>\n",
       "      <td>-0.017340</td>\n",
       "      <td>-0.392317</td>\n",
       "      <td>-0.014182</td>\n",
       "      <td>-0.014622</td>\n",
       "      <td>-0.166676</td>\n",
       "      <td>0.075296</td>\n",
       "      <td>0.0</td>\n",
       "      <td>-0.102653</td>\n",
       "      <td>...</td>\n",
       "      <td>1.000000</td>\n",
       "      <td>0.000000</td>\n",
       "      <td>0.0</td>\n",
       "      <td>0.0</td>\n",
       "      <td>0.000000</td>\n",
       "      <td>0.000000</td>\n",
       "      <td>0.000000</td>\n",
       "      <td>0.000000</td>\n",
       "      <td>0.0</td>\n",
       "      <td>0.000000</td>\n",
       "    </tr>\n",
       "    <tr>\n",
       "      <th>50%</th>\n",
       "      <td>0.000000</td>\n",
       "      <td>-0.089373</td>\n",
       "      <td>-0.004273</td>\n",
       "      <td>-0.222392</td>\n",
       "      <td>0.043605</td>\n",
       "      <td>0.033802</td>\n",
       "      <td>0.000000</td>\n",
       "      <td>0.075296</td>\n",
       "      <td>0.0</td>\n",
       "      <td>0.030253</td>\n",
       "      <td>...</td>\n",
       "      <td>1.000000</td>\n",
       "      <td>0.000000</td>\n",
       "      <td>0.0</td>\n",
       "      <td>0.0</td>\n",
       "      <td>0.000000</td>\n",
       "      <td>0.000000</td>\n",
       "      <td>0.000000</td>\n",
       "      <td>0.000000</td>\n",
       "      <td>0.0</td>\n",
       "      <td>0.000000</td>\n",
       "    </tr>\n",
       "    <tr>\n",
       "      <th>75%</th>\n",
       "      <td>0.000000</td>\n",
       "      <td>0.061424</td>\n",
       "      <td>0.012585</td>\n",
       "      <td>0.131245</td>\n",
       "      <td>0.093771</td>\n",
       "      <td>0.076382</td>\n",
       "      <td>0.126488</td>\n",
       "      <td>0.075296</td>\n",
       "      <td>0.0</td>\n",
       "      <td>0.117640</td>\n",
       "      <td>...</td>\n",
       "      <td>1.000000</td>\n",
       "      <td>1.000000</td>\n",
       "      <td>0.0</td>\n",
       "      <td>0.0</td>\n",
       "      <td>0.000000</td>\n",
       "      <td>0.000000</td>\n",
       "      <td>0.000000</td>\n",
       "      <td>0.000000</td>\n",
       "      <td>0.0</td>\n",
       "      <td>0.000000</td>\n",
       "    </tr>\n",
       "    <tr>\n",
       "      <th>max</th>\n",
       "      <td>1.114986</td>\n",
       "      <td>0.370127</td>\n",
       "      <td>0.044536</td>\n",
       "      <td>2.050626</td>\n",
       "      <td>0.232808</td>\n",
       "      <td>0.158697</td>\n",
       "      <td>0.789673</td>\n",
       "      <td>0.867552</td>\n",
       "      <td>0.0</td>\n",
       "      <td>0.867504</td>\n",
       "      <td>...</td>\n",
       "      <td>1.000000</td>\n",
       "      <td>1.000000</td>\n",
       "      <td>0.0</td>\n",
       "      <td>0.0</td>\n",
       "      <td>1.000000</td>\n",
       "      <td>1.000000</td>\n",
       "      <td>1.000000</td>\n",
       "      <td>1.000000</td>\n",
       "      <td>0.0</td>\n",
       "      <td>1.000000</td>\n",
       "    </tr>\n",
       "  </tbody>\n",
       "</table>\n",
       "<p>8 rows × 53 columns</p>\n",
       "</div>"
      ],
      "text/plain": [
       "       bilirubin        bun   chloride  creatinine    glucose  heartrate  \\\n",
       "count  72.000000  72.000000  72.000000   72.000000  72.000000  72.000000   \n",
       "mean   -0.021278  -0.062198  -0.005024   -0.027823   0.043382   0.032717   \n",
       "std     0.257121   0.183826   0.025439    0.580117   0.079913   0.056355   \n",
       "min    -0.442507  -0.556641  -0.094174   -0.807355  -0.130336  -0.081151   \n",
       "25%    -0.078921  -0.173204  -0.017340   -0.392317  -0.014182  -0.014622   \n",
       "50%     0.000000  -0.089373  -0.004273   -0.222392   0.043605   0.033802   \n",
       "75%     0.000000   0.061424   0.012585    0.131245   0.093771   0.076382   \n",
       "max     1.114986   0.370127   0.044536    2.050626   0.232808   0.158697   \n",
       "\n",
       "             inr    lactate  o2_flow  potassium  ...  \\\n",
       "count  72.000000  72.000000     72.0  72.000000  ...   \n",
       "mean   -0.011719   0.068797      0.0   0.042092  ...   \n",
       "std     0.264071   0.238737      0.0   0.212038  ...   \n",
       "min    -0.567819  -0.544577      0.0  -0.417952  ...   \n",
       "25%    -0.166676   0.075296      0.0  -0.102653  ...   \n",
       "50%     0.000000   0.075296      0.0   0.030253  ...   \n",
       "75%     0.126488   0.075296      0.0   0.117640  ...   \n",
       "max     0.789673   0.867552      0.0   0.867504  ...   \n",
       "\n",
       "       pao2fio2ratio_(475, 3000]  vent_recieved_2.0  dobutamine_1.0  \\\n",
       "count                  72.000000          72.000000            72.0   \n",
       "mean                    0.972222           0.263889             0.0   \n",
       "std                     0.165489           0.443833             0.0   \n",
       "min                     0.000000           0.000000             0.0   \n",
       "25%                     1.000000           0.000000             0.0   \n",
       "50%                     1.000000           0.000000             0.0   \n",
       "75%                     1.000000           1.000000             0.0   \n",
       "max                     1.000000           1.000000             0.0   \n",
       "\n",
       "       dopamine_1.0  epinephrine_1.0  norepinephrine_1.0  phenylephrine_1.0  \\\n",
       "count          72.0        72.000000           72.000000          72.000000   \n",
       "mean            0.0         0.013889            0.013889           0.041667   \n",
       "std             0.0         0.117851            0.117851           0.201229   \n",
       "min             0.0         0.000000            0.000000           0.000000   \n",
       "25%             0.0         0.000000            0.000000           0.000000   \n",
       "50%             0.0         0.000000            0.000000           0.000000   \n",
       "75%             0.0         0.000000            0.000000           0.000000   \n",
       "max             0.0         1.000000            1.000000           1.000000   \n",
       "\n",
       "         rrt_1.0  vasopressin_1.0  cancer_elix_1.0  \n",
       "count  72.000000             72.0        72.000000  \n",
       "mean    0.069444              0.0         0.097222  \n",
       "std     0.255992              0.0         0.298339  \n",
       "min     0.000000              0.0         0.000000  \n",
       "25%     0.000000              0.0         0.000000  \n",
       "50%     0.000000              0.0         0.000000  \n",
       "75%     0.000000              0.0         0.000000  \n",
       "max     1.000000              0.0         1.000000  \n",
       "\n",
       "[8 rows x 53 columns]"
      ]
     },
     "execution_count": 306,
     "metadata": {},
     "output_type": "execute_result"
    },
    {
     "name": "stdout",
     "output_type": "stream",
     "text": [
      "time: 25.2 ms\n"
     ]
    }
   ],
   "source": [
    "fp_rf_foo"
   ]
  },
  {
   "cell_type": "code",
   "execution_count": 314,
   "metadata": {},
   "outputs": [
    {
     "data": {
      "image/png": "[encoded data removed]",
      "text/plain": [
       "<Figure size 432x288 with 1 Axes>"
      ]
     },
     "metadata": {
      "needs_background": "light"
     },
     "output_type": "display_data"
    },
    {
     "data": {
      "image/png": "[encoded data removed]",
      "text/plain": [
       "<Figure size 432x288 with 1 Axes>"
      ]
     },
     "metadata": {
      "needs_background": "light"
     },
     "output_type": "display_data"
    },
    {
     "data": {
      "image/png": "[encoded data removed]",
      "text/plain": [
       "<Figure size 432x288 with 1 Axes>"
      ]
     },
     "metadata": {
      "needs_background": "light"
     },
     "output_type": "display_data"
    },
    {
     "data": {
      "image/png": "[encoded data removed]",
      "text/plain": [
       "<Figure size 432x288 with 1 Axes>"
      ]
     },
     "metadata": {
      "needs_background": "light"
     },
     "output_type": "display_data"
    },
    {
     "data": {
      "image/png": "[encoded data removed]",
      "text/plain": [
       "<Figure size 432x288 with 1 Axes>"
      ]
     },
     "metadata": {
      "needs_background": "light"
     },
     "output_type": "display_data"
    },
    {
     "data": {
      "image/png": "[encoded data removed]",
      "text/plain": [
       "<Figure size 432x288 with 1 Axes>"
      ]
     },
     "metadata": {
      "needs_background": "light"
     },
     "output_type": "display_data"
    },
    {
     "data": {
      "image/png": "[encoded data removed]",
      "text/plain": [
       "<Figure size 432x288 with 1 Axes>"
      ]
     },
     "metadata": {
      "needs_background": "light"
     },
     "output_type": "display_data"
    },
    {
     "data": {
      "image/png": "[encoded data removed]",
      "text/plain": [
       "<Figure size 432x288 with 1 Axes>"
      ]
     },
     "metadata": {
      "needs_background": "light"
     },
     "output_type": "display_data"
    },
    {
     "data": {
      "image/png": "[encoded data removed]",
      "text/plain": [
       "<Figure size 432x288 with 1 Axes>"
      ]
     },
     "metadata": {
      "needs_background": "light"
     },
     "output_type": "display_data"
    },
    {
     "data": {
      "image/png": "[encoded data removed]",
      "text/plain": [
       "<Figure size 432x288 with 1 Axes>"
      ]
     },
     "metadata": {
      "needs_background": "light"
     },
     "output_type": "display_data"
    },
    {
     "data": {
      "image/png": "[encoded data removed]",
      "text/plain": [
       "<Figure size 432x288 with 1 Axes>"
      ]
     },
     "metadata": {
      "needs_background": "light"
     },
     "output_type": "display_data"
    },
    {
     "data": {
      "image/png": "[encoded data removed]",
      "text/plain": [
       "<Figure size 432x288 with 1 Axes>"
      ]
     },
     "metadata": {
      "needs_background": "light"
     },
     "output_type": "display_data"
    },
    {
     "data": {
      "image/png": "[encoded data removed]",
      "text/plain": [
       "<Figure size 432x288 with 1 Axes>"
      ]
     },
     "metadata": {
      "needs_background": "light"
     },
     "output_type": "display_data"
    },
    {
     "data": {
      "image/png": "[encoded data removed]",
      "text/plain": [
       "<Figure size 432x288 with 1 Axes>"
      ]
     },
     "metadata": {
      "needs_background": "light"
     },
     "output_type": "display_data"
    },
    {
     "data": {
      "image/png": "[encoded data removed]",
      "text/plain": [
       "<Figure size 432x288 with 1 Axes>"
      ]
     },
     "metadata": {
      "needs_background": "light"
     },
     "output_type": "display_data"
    },
    {
     "data": {
      "image/png": "[encoded data removed]",
      "text/plain": [
       "<Figure size 432x288 with 1 Axes>"
      ]
     },
     "metadata": {
      "needs_background": "light"
     },
     "output_type": "display_data"
    },
    {
     "data": {
      "image/png": "[encoded data removed]",
      "text/plain": [
       "<Figure size 432x288 with 1 Axes>"
      ]
     },
     "metadata": {
      "needs_background": "light"
     },
     "output_type": "display_data"
    },
    {
     "data": {
      "image/png": "[encoded data removed]",
      "text/plain": [
       "<Figure size 432x288 with 1 Axes>"
      ]
     },
     "metadata": {
      "needs_background": "light"
     },
     "output_type": "display_data"
    },
    {
     "data": {
      "image/png": "[encoded data removed]",
      "text/plain": [
       "<Figure size 432x288 with 1 Axes>"
      ]
     },
     "metadata": {
      "needs_background": "light"
     },
     "output_type": "display_data"
    },
    {
     "data": {
      "image/png": "[encoded data removed]",
      "text/plain": [
       "<Figure size 432x288 with 1 Axes>"
      ]
     },
     "metadata": {
      "needs_background": "light"
     },
     "output_type": "display_data"
    },
    {
     "name": "stdout",
     "output_type": "stream",
     "text": [
      "time: 3.19 s\n"
     ]
    }
   ],
   "source": [
    "####\n",
    "# fp_rf_foo= x_test.loc[foo2,:].describe()\n",
    "# notfp_rf_foo=x_test.loc[~foo2,:].describe()\n",
    "# x_test.loc[foo2,'bilirubin']\n",
    "# x_test.loc[~foo2,'bilirubin']\n",
    "\n",
    "sig_vars=list(fp_rf_foo.iloc[1:, list(np.array(p_list)<=0.05)])\n",
    "\n",
    "# library and dataset\n",
    "import seaborn as sns\n",
    "import matplotlib.pyplot as plt\n",
    "#import \n",
    "\n",
    "for element in sig_vars:\n",
    "    p1=sns.kdeplot(x_test.loc[foo2,element], shade=True, color=\"r\",label=\"{}_fp\".format(element))\n",
    "    p1=sns.kdeplot(x_test.loc[~foo2,element], shade=True, color=\"b\",label=\"{}_non-fp\".format(element))\n",
    "    plt.show()\n",
    "# plot of 2 variables\n",
    "# p1=sns.kdeplot(x_test.loc[foo2,'bilirubin'], shade=True, color=\"r\",label=\"{}_fp\".format('bilirubin'))\n",
    "# p1=sns.kdeplot(x_test.loc[~foo2,'bilirubin'], shade=True, color=\"b\",label=\"{}_non-fp\".format('bilirubin'))\n",
    "#sns.plt.show()\n"
   ]
  },
  {
   "cell_type": "code",
   "execution_count": null,
   "metadata": {},
   "outputs": [],
   "source": []
  },
  {
   "cell_type": "markdown",
   "metadata": {},
   "source": [
    "### note from nelson:\n",
    "100% focus should be on FN. Your goal is to minimize those patients, as those are the ones that could get you in trouble if you recommended stopping antibiotics. When you look at those, one interesting thing to look at will be their outcomes, meaning, are the FN outcomes more like the TN ones or the TP ones? This will answer the question: if you miss a FN is it a big deal (because their outcomes are as bad as the TP) or is it not as problematic because their outcomes are relatively good in general, so even stopping antibiotics early might not impact things too much… Hopefully that makes sense"
   ]
  },
  {
   "cell_type": "code",
   "execution_count": null,
   "metadata": {},
   "outputs": [],
   "source": []
  },
  {
   "cell_type": "code",
   "execution_count": null,
   "metadata": {},
   "outputs": [],
   "source": []
  },
  {
   "cell_type": "code",
   "execution_count": 224,
   "metadata": {},
   "outputs": [
    {
     "data": {
      "text/plain": [
       "(array([  66,  124,  127,  133,  185,  247,  266,  292,  393,  465,  505,\n",
       "         506,  521,  533,  575,  620,  807,  820,  871,  931, 1041, 1047,\n",
       "        1072, 1134, 1140, 1177, 1187, 1431, 1463, 1502, 1509, 1577, 1593,\n",
       "        1607, 1639, 1667, 1678, 1683, 1707, 1788, 1827, 1849, 1883, 1910,\n",
       "        1961, 1971, 2034, 2081, 2092, 2155, 2183, 2200, 2239, 2312, 2356,\n",
       "        2395, 2498, 2502, 2508, 2519, 2520, 2556, 2575, 2594, 2641, 2650,\n",
       "        2683, 2812, 2826, 2828, 2920, 3018]),)"
      ]
     },
     "execution_count": 224,
     "metadata": {},
     "output_type": "execute_result"
    },
    {
     "name": "stdout",
     "output_type": "stream",
     "text": [
      "time: 2.19 ms\n"
     ]
    }
   ],
   "source": []
  },
  {
   "cell_type": "markdown",
   "metadata": {},
   "source": [
    "### variable importance:"
   ]
  },
  {
   "cell_type": "code",
   "execution_count": 361,
   "metadata": {},
   "outputs": [
    {
     "name": "stdout",
     "output_type": "stream",
     "text": [
      "time: 13.6 ms\n"
     ]
    }
   ],
   "source": [
    "# def var_imp(model,model_name, timewindow, x_train, n_var=4):\n",
    "#     model_name=type(model).__name__\n",
    "#     plot_title= \"Top {} {} {} Variable Importance\".format(n_var, timewindow,model_name)\n",
    "#     feat_importances = pd.Series(model.feature_importances_, index=x_train.columns)\n",
    "#     topn=feat_importances.nlargest(n_var).sort_values()\n",
    "#     return(topn)\n",
    "\n",
    "def var_imp(model, x_train, n_var=4):\n",
    "    model_name=type(model).__name__\n",
    "    #plot_title= \"Top {} {} {} Variable Importance\".format(n_var, timewindow,model_name)\n",
    "    feat_importances = pd.Series(model.feature_importances_, index=x_train.columns)\n",
    "    topn=feat_importances.nlargest(n_var).sort_values()\n",
    "    return(topn)\n",
    "\n",
    "#log reg important features\n",
    "\n",
    "def coef_feature_importance(model, x_train):\n",
    "    feature_importance = abs(model.coef_[0])\n",
    "    feature_importance = 100.0 * (feature_importance / feature_importance.max())\n",
    "    sorted_idx = np.argsort(feature_importance)[-10:]#[0]\n",
    "    pos = np.arange(sorted_idx.shape[0]) + .5\n",
    "\n",
    "    features,top10 =list(np.array(x_train.columns)[sorted_idx][-10:]), feature_importance[sorted_idx]\n",
    "    return(features, top10)"
   ]
  },
  {
   "cell_type": "code",
   "execution_count": 385,
   "metadata": {},
   "outputs": [
    {
     "name": "stdout",
     "output_type": "stream",
     "text": [
      "RandomForestClassifier(bootstrap=False, class_weight=None,\n",
      "            criterion='entropy', max_depth=25, max_features='auto',\n",
      "            max_leaf_nodes=None, min_impurity_decrease=0.0,\n",
      "            min_impurity_split=None, min_samples_leaf=2,\n",
      "            min_samples_split=5, min_weight_fraction_leaf=0.0,\n",
      "            n_estimators=200, n_jobs=None, oob_score=False,\n",
      "            random_state=None, verbose=0, warm_start=False)\n",
      "KNeighborsClassifier(algorithm='auto', leaf_size=30, metric='minkowski',\n",
      "           metric_params=None, n_jobs=None, n_neighbors=25, p=2,\n",
      "           weights='uniform')\n",
      "LogisticRegression(C=1.0, class_weight=None, dual=False, fit_intercept=True,\n",
      "          intercept_scaling=1, max_iter=100, multi_class='warn',\n",
      "          n_jobs=None, penalty='l1', random_state=None, solver='warn',\n",
      "          tol=0.0001, verbose=0, warm_start=False)\n"
     ]
    },
    {
     "ename": "AttributeError",
     "evalue": "'LogisticRegression' object has no attribute 'feature_importances_'",
     "output_type": "error",
     "traceback": [
      "\u001b[0;31m--------------------------------------------------------------------------\u001b[0m",
      "\u001b[0;31mAttributeError\u001b[0m                           Traceback (most recent call last)",
      "\u001b[0;32m<ipython-input-385-82ef95ddad1b>\u001b[0m in \u001b[0;36m<module>\u001b[0;34m()\u001b[0m\n\u001b[1;32m     21\u001b[0m \u001b[0;34m\u001b[0m\u001b[0m\n\u001b[1;32m     22\u001b[0m     \u001b[0;32melse\u001b[0m\u001b[0;34m:\u001b[0m\u001b[0;34m\u001b[0m\u001b[0;34m\u001b[0m\u001b[0m\n\u001b[0;32m---> 23\u001b[0;31m         \u001b[0mfeatures\u001b[0m\u001b[0;34m=\u001b[0m\u001b[0mvar_imp\u001b[0m\u001b[0;34m(\u001b[0m\u001b[0mmodel\u001b[0m\u001b[0;34m,\u001b[0m \u001b[0mx_train\u001b[0m\u001b[0;34m,\u001b[0m \u001b[0mn_var\u001b[0m\u001b[0;34m=\u001b[0m\u001b[0mn_var\u001b[0m\u001b[0;34m)\u001b[0m\u001b[0;34m\u001b[0m\u001b[0;34m\u001b[0m\u001b[0m\n\u001b[0m\u001b[1;32m     24\u001b[0m         \u001b[0mtop10\u001b[0m\u001b[0;34m=\u001b[0m\u001b[0;34m(\u001b[0m\u001b[0mfeatures\u001b[0m\u001b[0;34m/\u001b[0m\u001b[0mfeatures\u001b[0m\u001b[0;34m[\u001b[0m\u001b[0;34m-\u001b[0m\u001b[0;36m1\u001b[0m\u001b[0;34m]\u001b[0m\u001b[0;34m)\u001b[0m\u001b[0;34m*\u001b[0m\u001b[0;36m100\u001b[0m\u001b[0;34m\u001b[0m\u001b[0;34m\u001b[0m\u001b[0m\n\u001b[1;32m     25\u001b[0m         \u001b[0mfeatures\u001b[0m\u001b[0;34m=\u001b[0m\u001b[0mlist\u001b[0m\u001b[0;34m(\u001b[0m\u001b[0mfeatures\u001b[0m\u001b[0;34m.\u001b[0m\u001b[0mreset_index\u001b[0m\u001b[0;34m(\u001b[0m\u001b[0;34m)\u001b[0m\u001b[0;34m[\u001b[0m\u001b[0;34m'index'\u001b[0m\u001b[0;34m]\u001b[0m\u001b[0;34m)\u001b[0m\u001b[0;34m\u001b[0m\u001b[0;34m\u001b[0m\u001b[0m\n",
      "\u001b[0;32m<ipython-input-361-4c406941b2a1>\u001b[0m in \u001b[0;36mvar_imp\u001b[0;34m(model, x_train, n_var)\u001b[0m\n\u001b[1;32m      9\u001b[0m     \u001b[0mmodel_name\u001b[0m\u001b[0;34m=\u001b[0m\u001b[0mtype\u001b[0m\u001b[0;34m(\u001b[0m\u001b[0mmodel\u001b[0m\u001b[0;34m)\u001b[0m\u001b[0;34m.\u001b[0m\u001b[0m__name__\u001b[0m\u001b[0;34m\u001b[0m\u001b[0;34m\u001b[0m\u001b[0m\n\u001b[1;32m     10\u001b[0m     \u001b[0;31m#plot_title= \"Top {} {} {} Variable Importance\".format(n_var, timewindow,model_name)\u001b[0m\u001b[0;34m\u001b[0m\u001b[0;34m\u001b[0m\u001b[0;34m\u001b[0m\u001b[0m\n\u001b[0;32m---> 11\u001b[0;31m     \u001b[0mfeat_importances\u001b[0m \u001b[0;34m=\u001b[0m \u001b[0mpd\u001b[0m\u001b[0;34m.\u001b[0m\u001b[0mSeries\u001b[0m\u001b[0;34m(\u001b[0m\u001b[0mmodel\u001b[0m\u001b[0;34m.\u001b[0m\u001b[0mfeature_importances_\u001b[0m\u001b[0;34m,\u001b[0m \u001b[0mindex\u001b[0m\u001b[0;34m=\u001b[0m\u001b[0mx_train\u001b[0m\u001b[0;34m.\u001b[0m\u001b[0mcolumns\u001b[0m\u001b[0;34m)\u001b[0m\u001b[0;34m\u001b[0m\u001b[0;34m\u001b[0m\u001b[0m\n\u001b[0m\u001b[1;32m     12\u001b[0m     \u001b[0mtopn\u001b[0m\u001b[0;34m=\u001b[0m\u001b[0mfeat_importances\u001b[0m\u001b[0;34m.\u001b[0m\u001b[0mnlargest\u001b[0m\u001b[0;34m(\u001b[0m\u001b[0mn_var\u001b[0m\u001b[0;34m)\u001b[0m\u001b[0;34m.\u001b[0m\u001b[0msort_values\u001b[0m\u001b[0;34m(\u001b[0m\u001b[0;34m)\u001b[0m\u001b[0;34m\u001b[0m\u001b[0;34m\u001b[0m\u001b[0m\n\u001b[1;32m     13\u001b[0m     \u001b[0;32mreturn\u001b[0m\u001b[0;34m(\u001b[0m\u001b[0mtopn\u001b[0m\u001b[0;34m)\u001b[0m\u001b[0;34m\u001b[0m\u001b[0;34m\u001b[0m\u001b[0m\n",
      "\u001b[0;31mAttributeError\u001b[0m: 'LogisticRegression' object has no attribute 'feature_importances_'"
     ]
    },
    {
     "name": "stdout",
     "output_type": "stream",
     "text": [
      "time: 128 ms\n"
     ]
    }
   ],
   "source": [
    "models_dic= models_24_dic\n",
    "x_train=x_train_24\n",
    "\n",
    "features_dic={}\n",
    "top_10_dic={}\n",
    "\n",
    "n_var=10\n",
    "\n",
    "for model_name in models_dic.keys():\n",
    "    model= models_dic[model_name]\n",
    "    print(model)\n",
    "    if model_name in ['knn','ensemble']:\n",
    "        pass\n",
    "    elif model_name in ['LogisticRegression','SVC']:\n",
    "        feature_importance = abs(model.coef_[0])\n",
    "        feature_importance = 100.0 * (feature_importance / feature_importance.max())\n",
    "        sorted_idx = np.argsort(feature_importance)[-n_var:]#[0]\n",
    "        pos = np.arange(sorted_idx.shape[0]) + .5\n",
    "\n",
    "        features =list(np.array(x_train.columns)[sorted_idx][-n_var:])\n",
    "        \n",
    "    else:\n",
    "        features=var_imp(model, x_train, n_var=n_var)\n",
    "        top10=(features/features[-1])*100\n",
    "        features=list(features.reset_index()['index'])\n",
    "\n",
    "#######\n",
    "set_features=[]\n",
    "\n",
    "for features in features_dic.values():\n",
    "    set_features=set_features+features\n",
    "set_features=set(set_features)\n",
    "varimp_names=list(set_features)\n",
    "varimp_names\n",
    "\n",
    "# df_base=pd.DataFrame(index=set_features)\n",
    "\n",
    "# for model_name in top_10_dic.keys():\n",
    "#     df_base[model_name]= top_10_dic[model_name]\n",
    "\n",
    "# adjusted_names= roc_name_adjust(varimp_names)\n",
    "\n",
    "# df_base.index=adjusted_names\n",
    "# df_base.sort_values('xgboost', ascending=False)\n",
    "######\n",
    "\n",
    "# for model_name in models_dic.keys():\n",
    "#     model= models_dic[model_name]\n",
    "\n",
    "#     if model_name in ['knn','ensemble']:\n",
    "#         pass\n",
    "#     else:\n",
    "#         features,top10 =coef_feature_importance(model, x_train)\n",
    "#         features_dic.update( {model_name :features } )\n",
    "#         top_10_dic.update( {model_name :top10 } )\n",
    "        \n",
    "# features_dic"
   ]
  },
  {
   "cell_type": "code",
   "execution_count": 375,
   "metadata": {},
   "outputs": [
    {
     "name": "stdout",
     "output_type": "stream",
     "text": [
      "time: 21.7 ms\n"
     ]
    }
   ],
   "source": [
    "\n",
    "def coef_feature_importance(model, x_train, n_var=10):\n",
    "    model_name=type(model).__name__\n",
    "    \n",
    "    if model_name in ['LogisticRegression','SVC']:\n",
    "        feature_importance = abs(model.coef_[0])\n",
    "        feature_importance = 100.0 * (feature_importance / feature_importance.max())\n",
    "        sorted_idx = np.argsort(feature_importance)[-n_var:]#[0]\n",
    "        pos = np.arange(sorted_idx.shape[0]) + .5\n",
    "\n",
    "        features =list(np.array(x_train.columns)[sorted_idx][-n_var:])\n",
    "        top10=feature_importance[sorted_idx]\n",
    "        \n",
    "        top10=pd.Series(top10,features) ##new\n",
    "        \n",
    "    elif model_name in ['knn','ensemble']:\n",
    "        pass\n",
    "    \n",
    "    else:\n",
    "        features=var_imp(model, x_train, n_var=n_var)\n",
    "        top10=(features/features[-1])*100\n",
    "        features=list(features.reset_index()['index'])\n",
    "\n",
    "    return(features, top10)"
   ]
  },
  {
   "cell_type": "code",
   "execution_count": 366,
   "metadata": {},
   "outputs": [
    {
     "name": "stdout",
     "output_type": "stream",
     "text": [
      "time: 32.7 ms\n"
     ]
    }
   ],
   "source": [
    "def model_var_imp(models_dic, x_train):\n",
    "    \"\"\"\n",
    "    makes a dictionary of RELATIVE variable importances for each model in a model dictionary\n",
    "    \"\"\"\n",
    "    features_dic={}\n",
    "    top_10_dic={}\n",
    "    \n",
    "    for model_name in models_dic.keys():\n",
    "        model= models_dic[model_name]\n",
    "    \n",
    "        if model_name in ['knn','ensemble']:\n",
    "            pass\n",
    "        else:\n",
    "            features,top10 =coef_feature_importance(model, x_train)\n",
    "            features_dic.update( {model_name :features } )\n",
    "            top_10_dic.update( {model_name :top10 } )\n",
    "    return(features_dic,top_10_dic)\n",
    "\n",
    "# def model_var_imp(models_dic, timewindow, x_train):\n",
    "#     \"\"\"\n",
    "#     makes a dictionary of RELATIVE variable importances for each model in a model dictionary\n",
    "#     \"\"\"\n",
    "#     features_dic={}\n",
    "#     top_10_dic={}\n",
    "    \n",
    "#     for model_name in models_dic.keys():\n",
    "#         model= models_dic[model_name]\n",
    "    \n",
    "#         if model_name in ['logreg','svc']:\n",
    "#             features,top10 =coef_feature_importance(model, x_train)\n",
    "#             top10=pd.Series(top10,features)\n",
    "\n",
    "#             features_dic.update( {model_name :features } )\n",
    "#             top_10_dic.update( {model_name :top10 } )\n",
    "#         elif model_name in ['knn','ensemble']:\n",
    "#             pass\n",
    "#         else:\n",
    "#             features=var_imp(model,model_name, timewindow, x_train, n_var=10)\n",
    "#             top10=(features/features[-1])*100\n",
    "#             features=list(features.reset_index()['index'])\n",
    "#             features_dic.update( {model_name :features } )\n",
    "#             top_10_dic.update( {model_name :top10 } )\n",
    "#     return(features_dic,top_10_dic)"
   ]
  },
  {
   "cell_type": "code",
   "execution_count": 359,
   "metadata": {},
   "outputs": [
    {
     "name": "stdout",
     "output_type": "stream",
     "text": [
      "time: 13.1 ms\n"
     ]
    }
   ],
   "source": [
    "def roc_name_adjust(varimp_names):\n",
    "    \"\"\"\n",
    "    cleans up the column names for the variable importance plot for publishing\n",
    "    \"\"\"\n",
    "    adjusted_names=[]\n",
    "    mapper={'vent_recieved_2.0': 'mechanical ventilation recieved',\n",
    "            'vent_recieved_1.0': 'oxygen ventilation recieved',\n",
    "            'vent_recieved_1.0': 'no ventilation recieved',\n",
    "            'pao2fio2ratio_(475, 3000]': 'PaO2:FiO2 (475-3000)',\n",
    "            'pao2fio2ratio_(200, 333]': 'PaO2:FiO2 (200-333)',\n",
    "            'pao2fio2ratio_(333, 475]': 'PaO2:FiO2 (333-475)',\n",
    "            'ipco2_>50': 'pCO2 (>50)',\n",
    "            'ibands_>10': 'bands (>10)',\n",
    "            'ibands_absent': 'bands (missing)'}\n",
    "    \n",
    "    for element in varimp_names:\n",
    "        if element in mapper.keys():\n",
    "            element= mapper[element]\n",
    "            adjusted_names.append(element)\n",
    "        elif \"_1.0\" in element:\n",
    "            element= element.strip(\"_1.0\") + ' (Y/N)'\n",
    "            adjusted_names.append(element)\n",
    "        else:\n",
    "            adjusted_names.append(element)\n",
    "        \n",
    "    return(adjusted_names)"
   ]
  },
  {
   "cell_type": "code",
   "execution_count": 341,
   "metadata": {},
   "outputs": [
    {
     "name": "stdout",
     "output_type": "stream",
     "text": [
      "time: 25.8 ms\n"
     ]
    }
   ],
   "source": [
    "def stacked_varimp(top_10_dic,features_dic):\n",
    "    \"\"\"\n",
    "    gets a stacked RELATIVE variable importance plot for all 4 classifiers for a given model dictionary (timewindow)\n",
    "    \"\"\"\n",
    "    set_features=[]\n",
    "    \n",
    "    for features in features_dic.values():\n",
    "        set_features=set_features+features\n",
    "    set_features=set(set_features)\n",
    "    varimp_names=list(set_features)\n",
    "    \n",
    "    df_base=pd.DataFrame(index=set_features)\n",
    "    \n",
    "    for model_name in top_10_dic.keys():\n",
    "        df_base[model_name]= top_10_dic[model_name]\n",
    "                \n",
    "    adjusted_names= roc_name_adjust(varimp_names)\n",
    "    \n",
    "    df_base.index=adjusted_names\n",
    "    df_base.sort_values('xgboost', ascending=False)\n",
    "    \n",
    "    plt.style.use('seaborn-ticks')\n",
    "    plt.rcParams['figure.figsize'] = [7, 7]\n",
    "    ax = df_base.sort_values('xgboost', ascending=False).plot.barh(stacked=True,\n",
    "                                                               grid=False,\n",
    "                                                               color=['r',(0.31,0.50,0.74),(0.35,0.35,0.40),(0.44,0.19,0.63)])#facecolor='w')#rot=0) #(0.96,0.59,0.27)\n",
    "    ax.set_facecolor('w')\n",
    "    ax.set_xlabel(\"Relative Variable Importance\")\n",
    "    return(df_base)"
   ]
  },
  {
   "cell_type": "code",
   "execution_count": 356,
   "metadata": {},
   "outputs": [
    {
     "ename": "KeyError",
     "evalue": "'ensemble'",
     "output_type": "error",
     "traceback": [
      "\u001b[0;31m--------------------------------------------------------------------------\u001b[0m",
      "\u001b[0;31mKeyError\u001b[0m                                 Traceback (most recent call last)",
      "\u001b[0;32m<ipython-input-356-86366bc58415>\u001b[0m in \u001b[0;36m<module>\u001b[0;34m()\u001b[0m\n\u001b[0;32m----> 1\u001b[0;31m \u001b[0mmodels_24_dic\u001b[0m\u001b[0;34m[\u001b[0m\u001b[0;34m'ensemble'\u001b[0m\u001b[0;34m]\u001b[0m\u001b[0;34m.\u001b[0m\u001b[0m__name__\u001b[0m\u001b[0;34m\u001b[0m\u001b[0;34m\u001b[0m\u001b[0m\n\u001b[0m",
      "\u001b[0;31mKeyError\u001b[0m: 'ensemble'"
     ]
    },
    {
     "name": "stdout",
     "output_type": "stream",
     "text": [
      "time: 11.7 ms\n"
     ]
    }
   ],
   "source": [
    "models_24_dic['ensemble']."
   ]
  },
  {
   "cell_type": "code",
   "execution_count": 350,
   "metadata": {},
   "outputs": [
    {
     "name": "stdout",
     "output_type": "stream",
     "text": [
      "time: 874 µs\n"
     ]
    }
   ],
   "source": [
    "models_24_dic_ne= models_24_dic\n",
    "del models_24_dic_ne['ensemble']"
   ]
  },
  {
   "cell_type": "code",
   "execution_count": 376,
   "metadata": {},
   "outputs": [
    {
     "data": {
      "image/png": "[encoded data removed]",
      "text/plain": [
       "<Figure size 504x504 with 1 Axes>"
      ]
     },
     "metadata": {},
     "output_type": "display_data"
    },
    {
     "name": "stdout",
     "output_type": "stream",
     "text": [
      "time: 479 ms\n"
     ]
    }
   ],
   "source": [
    "# features_dic_24, top_10_dic_24= model_var_imp(models_24_dic, '24_hr_window', x_train_24)\n",
    "features_dic_24, top_10_dic_24= model_var_imp(models_24_dic, x_train_24)\n",
    "df_base= stacked_varimp(top_10_dic_24, features_dic_24)"
   ]
  },
  {
   "cell_type": "code",
   "execution_count": 353,
   "metadata": {},
   "outputs": [
    {
     "data": {
      "text/plain": [
       "{'logreg': spo2                    7.006959\n",
       " nitrite_1.0             7.313703\n",
       " vasopressin_1.0         8.150204\n",
       " norepinephrine_1.0      9.701868\n",
       " epinephrine_1.0        11.900351\n",
       " resprate               20.242377\n",
       " bun                    21.793059\n",
       " sysbp                  22.979157\n",
       " heartrate              25.169944\n",
       " temperature           100.000000\n",
       " dtype: float64, 'rf': hemoglobin      62.146402\n",
       " bicarbonate     62.667565\n",
       " platelet        65.695352\n",
       " glucose         66.435455\n",
       " minWBC          70.753528\n",
       " resprate        72.738136\n",
       " bun             79.697609\n",
       " sysbp           80.238640\n",
       " heartrate       81.288113\n",
       " temperature    100.000000\n",
       " dtype: float64, 'svc': chloride        11.853476\n",
       " nitrite_1.0     12.280672\n",
       " bicarbonate     12.363985\n",
       " maxSodium       12.680348\n",
       " minSodium       14.488637\n",
       " resprate        24.187938\n",
       " bun             25.917657\n",
       " heartrate       28.126466\n",
       " sysbp           32.369085\n",
       " temperature    100.000000\n",
       " dtype: float64, 'xgboost': bun                           19.917517\n",
       " resprate                      21.141808\n",
       " heartrate                     21.415945\n",
       " leukocyte_1.0                 22.102369\n",
       " pao2fio2ratio_(475, 3000]     25.505356\n",
       " temperature                   25.644175\n",
       " sysbp                         28.303736\n",
       " bicarbonate                   28.715382\n",
       " ibands_absent                 51.191795\n",
       " norepinephrine_1.0           100.000000\n",
       " dtype: float32}"
      ]
     },
     "execution_count": 353,
     "metadata": {},
     "output_type": "execute_result"
    },
    {
     "name": "stdout",
     "output_type": "stream",
     "text": [
      "time: 4.71 ms\n"
     ]
    }
   ],
   "source": [
    "top_10_dic_24"
   ]
  },
  {
   "cell_type": "code",
   "execution_count": null,
   "metadata": {},
   "outputs": [],
   "source": []
  },
  {
   "cell_type": "code",
   "execution_count": null,
   "metadata": {},
   "outputs": [],
   "source": []
  },
  {
   "cell_type": "code",
   "execution_count": null,
   "metadata": {},
   "outputs": [],
   "source": []
  },
  {
   "cell_type": "code",
   "execution_count": 147,
   "metadata": {},
   "outputs": [
    {
     "data": {
      "image/png": "[encoded data removed]",
      "text/plain": [
       "<Figure size 504x504 with 1 Axes>"
      ]
     },
     "metadata": {},
     "output_type": "display_data"
    },
    {
     "name": "stdout",
     "output_type": "stream",
     "text": [
      "time: 605 ms\n"
     ]
    }
   ],
   "source": [
    "features_dic_48, top_10_dic_48= model_var_imp(models_48_dic, '48_hr_window', x_train_48)\n",
    "df_base= stacked_varimp(top_10_dic_48, features_dic_48)"
   ]
  },
  {
   "cell_type": "code",
   "execution_count": 148,
   "metadata": {},
   "outputs": [
    {
     "data": {
      "image/png": "[encoded data removed]",
      "text/plain": [
       "<Figure size 504x504 with 1 Axes>"
      ]
     },
     "metadata": {},
     "output_type": "display_data"
    },
    {
     "name": "stdout",
     "output_type": "stream",
     "text": [
      "time: 481 ms\n"
     ]
    }
   ],
   "source": [
    "features_dic_72, top_10_dic_72= model_var_imp(models_72_dic, '72_hr_window', x_train_72)\n",
    "df_base= stacked_varimp(top_10_dic_72, features_dic_72)"
   ]
  },
  {
   "cell_type": "code",
   "execution_count": null,
   "metadata": {},
   "outputs": [],
   "source": [
    "#tomorrow remember to test removing SOFA score"
   ]
  },
  {
   "cell_type": "code",
   "execution_count": null,
   "metadata": {},
   "outputs": [],
   "source": []
  },
  {
   "cell_type": "code",
   "execution_count": null,
   "metadata": {},
   "outputs": [],
   "source": []
  }
 ],
 "metadata": {
  "kernelspec": {
   "display_name": "Python 3",
   "language": "python",
   "name": "python3"
  },
  "language_info": {
   "codemirror_mode": {
    "name": "ipython",
    "version": 3
   },
   "file_extension": ".py",
   "mimetype": "text/x-python",
   "name": "python",
   "nbconvert_exporter": "python",
   "pygments_lexer": "ipython3",
   "version": "3.6.8"
  }
 },
 "nbformat": 4,
 "nbformat_minor": 2
}
