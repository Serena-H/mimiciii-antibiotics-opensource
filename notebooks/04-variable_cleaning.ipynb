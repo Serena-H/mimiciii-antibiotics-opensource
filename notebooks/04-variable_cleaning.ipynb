{
 "cells": [
  {
   "cell_type": "code",
   "execution_count": 1,
   "metadata": {},
   "outputs": [],
   "source": [
    "# designed to be run after 03-clinical_variables_final. this notebook does some data cleaning/processing. run before -___ notebook.\n",
    "\n",
    "## cleans many aspects of the raw clinical variables.\n",
    "## collapses and formats all of the various categorical variables into discrete variables as well. "
   ]
  },
  {
   "cell_type": "code",
   "execution_count": 3,
   "metadata": {},
   "outputs": [
    {
     "name": "stdout",
     "output_type": "stream",
     "text": [
      "The autotime extension is already loaded. To reload it, use:\n",
      "  %reload_ext autotime\n",
      "time: 6.24 ms\n"
     ]
    },
    {
     "name": "stderr",
     "output_type": "stream",
     "text": [
      "/Users/geickelb1/anaconda/envs/rpy-env/lib/python3.6/site-packages/ipykernel_launcher.py:10: DeprecationWarning: The 'cachedir' parameter has been deprecated in version 0.12 and will be removed in version 0.14.\n",
      "You provided \"cachedir='/tmp'\", use \"location='/tmp'\" instead.\n",
      "  # Remove the CWD from sys.path while we load stuff.\n"
     ]
    }
   ],
   "source": [
    "import pandas as pd\n",
    "import matplotlib.pyplot as plt\n",
    "import os\n",
    "from pathlib import Path\n",
    "import seaborn as sns\n",
    "import numpy as np\n",
    "import glob\n",
    "\n",
    "from sklearn.externals.joblib import Memory\n",
    "memory = Memory(cachedir='/tmp', verbose=0)\n",
    "#@memory.cache above any def fxn.\n",
    "\n",
    "%matplotlib inline\n",
    "plt.style.use('ggplot')\n",
    "\n",
    "from notebook.services.config import ConfigManager\n",
    "cm = ConfigManager()\n",
    "cm.update('livereveal', {\n",
    "        'width': 1024,\n",
    "        'height': 768,\n",
    "        'scroll': True,\n",
    "})\n",
    "\n",
    "%load_ext autotime"
   ]
  },
  {
   "cell_type": "code",
   "execution_count": 4,
   "metadata": {},
   "outputs": [
    {
     "name": "stdout",
     "output_type": "stream",
     "text": [
      "time: 947 ms\n"
     ]
    }
   ],
   "source": [
    "#patients of interest from rotation_cohort_generation\n",
    "from parameters import final_pt_df_v, date, repository_path\n",
    "\n",
    "#patients of interest from rotation_cohort_generation\n",
    "final_pt_df2 = final_pt_df_v\n",
    "del(final_pt_df_v)\n",
    "\n",
    "patients= list(final_pt_df2['subject_id'].unique())\n",
    "hadm_id= list(final_pt_df2['hadm_id'].unique())\n",
    "icustay_id= list(final_pt_df2['icustay_id'].unique())\n",
    "icustay_id= [int(x) for x in icustay_id]\n"
   ]
  },
  {
   "cell_type": "code",
   "execution_count": 5,
   "metadata": {},
   "outputs": [
    {
     "data": {
      "text/plain": [
       "C_neg/A_partial    7867\n",
       "C_neg/A_full       7401\n",
       "C_pos/A_full       2438\n",
       "C_pos/A_partial    1927\n",
       "Name: final_bin, dtype: int64"
      ]
     },
     "execution_count": 5,
     "metadata": {},
     "output_type": "execute_result"
    },
    {
     "name": "stdout",
     "output_type": "stream",
     "text": [
      "time: 13.6 ms\n"
     ]
    }
   ],
   "source": [
    "final_pt_df2['final_bin'].value_counts()"
   ]
  },
  {
   "cell_type": "markdown",
   "metadata": {},
   "source": [
    "# extracting clinical data for our patients\n",
    "## IMPORTANT, USE THIS TO TUNE TIMEWINDOW OF EXTRACTION AND FOLDER TO SAVE IN"
   ]
  },
  {
   "cell_type": "markdown",
   "metadata": {},
   "source": [
    "#NOTE ON MY DF NAMING CONVENTION:\n",
    "origionally when I coded this workbook, it was for 72 hour timewindows, so every dataframe had _72 at the end. this was changed on 6/5/19 and was made more generalizable by finding name of each corresponding df in the df list and using this variable."
   ]
  },
  {
   "cell_type": "code",
   "execution_count": 6,
   "metadata": {},
   "outputs": [
    {
     "name": "stdout",
     "output_type": "stream",
     "text": [
      "time: 743 µs\n"
     ]
    }
   ],
   "source": [
    "from parameters import lower_window, upper_window, folder, date, time_col, time_var, patient_df, save_boolean\n"
   ]
  },
  {
   "cell_type": "markdown",
   "metadata": {},
   "source": [
    "### begin pipeline:"
   ]
  },
  {
   "cell_type": "markdown",
   "metadata": {},
   "source": [
    "# changing my code structure to be a dictionary of dataframes"
   ]
  },
  {
   "cell_type": "code",
   "execution_count": 7,
   "metadata": {},
   "outputs": [
    {
     "name": "stdout",
     "output_type": "stream",
     "text": [
      "time: 1.37 ms\n"
     ]
    }
   ],
   "source": [
    "#folder to save files to:\n",
    "save_path= str(repository_path)+'/data/cleaned/'\n",
    "#folder=None\n",
    "\n",
    "\n",
    "def save_df(df, df_name='default', save_path=save_path, add_subfolder=False):\n",
    "    #uses the date and supplied df name and saves to the savepath specified above.\n",
    "    if df_name == 'default':\n",
    "        df_name= \"%s\"%(df)\n",
    "    \n",
    "    address=save_path+'%s/'%(folder)\n",
    "    if not os.path.exists(address):\n",
    "        print(address)\n",
    "        os.makedirs(address)\n",
    "    pd.DataFrame(df).to_csv(Path(address+'%s_%s_prepped.csv' %(date, df_name)))\n"
   ]
  },
  {
   "cell_type": "code",
   "execution_count": 8,
   "metadata": {},
   "outputs": [
    {
     "data": {
      "text/plain": [
       "'/Users/geickelb1/Documents/GitHub/mimiciii-antibiotics-opensource/data/cleaned/72_hr_window/'"
      ]
     },
     "execution_count": 8,
     "metadata": {},
     "output_type": "execute_result"
    },
    {
     "name": "stdout",
     "output_type": "stream",
     "text": [
      "time: 2.07 ms\n"
     ]
    }
   ],
   "source": [
    "save_path+'%s/'%(folder)"
   ]
  },
  {
   "cell_type": "code",
   "execution_count": 9,
   "metadata": {},
   "outputs": [
    {
     "name": "stdout",
     "output_type": "stream",
     "text": [
      "time: 1.71 ms\n"
     ]
    }
   ],
   "source": [
    "##folder with all clinical variable csv's\n",
    "allFiles = glob.glob(str(repository_path)+ '/data/raw/%s/'%(folder) + \"{}_*.csv\".format(date))"
   ]
  },
  {
   "cell_type": "code",
   "execution_count": 10,
   "metadata": {},
   "outputs": [
    {
     "data": {
      "text/plain": [
       "['/Users/geickelb1/Documents/GitHub/mimiciii-antibiotics-opensource/data/raw/72_hr_window/16122019_uti_all.csv',\n",
       " '/Users/geickelb1/Documents/GitHub/mimiciii-antibiotics-opensource/data/raw/72_hr_window/16122019_rrt_merged.csv',\n",
       " '/Users/geickelb1/Documents/GitHub/mimiciii-antibiotics-opensource/data/raw/72_hr_window/16122019_sofa.csv',\n",
       " '/Users/geickelb1/Documents/GitHub/mimiciii-antibiotics-opensource/data/raw/72_hr_window/16122019_weightfirstday.csv',\n",
       " '/Users/geickelb1/Documents/GitHub/mimiciii-antibiotics-opensource/data/raw/72_hr_window/16122019_gcs.csv',\n",
       " '/Users/geickelb1/Documents/GitHub/mimiciii-antibiotics-opensource/data/raw/72_hr_window/16122019_cancer_elix.csv',\n",
       " '/Users/geickelb1/Documents/GitHub/mimiciii-antibiotics-opensource/data/raw/72_hr_window/16122019_heightfirstday.csv',\n",
       " '/Users/geickelb1/Documents/GitHub/mimiciii-antibiotics-opensource/data/raw/72_hr_window/16122019_ventcategory.csv',\n",
       " '/Users/geickelb1/Documents/GitHub/mimiciii-antibiotics-opensource/data/raw/72_hr_window/16122019_sum_elix.csv',\n",
       " '/Users/geickelb1/Documents/GitHub/mimiciii-antibiotics-opensource/data/raw/72_hr_window/16122019_vitals_all_nosummary.csv',\n",
       " '/Users/geickelb1/Documents/GitHub/mimiciii-antibiotics-opensource/data/raw/72_hr_window/16122019_labs_all_nosummary.csv',\n",
       " '/Users/geickelb1/Documents/GitHub/mimiciii-antibiotics-opensource/data/raw/72_hr_window/16122019_bg_all_nosummary.csv',\n",
       " '/Users/geickelb1/Documents/GitHub/mimiciii-antibiotics-opensource/data/raw/72_hr_window/16122019_vaso_dose.csv',\n",
       " '/Users/geickelb1/Documents/GitHub/mimiciii-antibiotics-opensource/data/raw/72_hr_window/16122019_pt_info.csv']"
      ]
     },
     "execution_count": 10,
     "metadata": {},
     "output_type": "execute_result"
    },
    {
     "name": "stdout",
     "output_type": "stream",
     "text": [
      "time: 1.95 ms\n"
     ]
    }
   ],
   "source": [
    "allFiles"
   ]
  },
  {
   "cell_type": "code",
   "execution_count": 11,
   "metadata": {},
   "outputs": [
    {
     "name": "stderr",
     "output_type": "stream",
     "text": [
      "/Users/geickelb1/anaconda/envs/rpy-env/lib/python3.6/site-packages/numpy/lib/arraysetops.py:569: FutureWarning: elementwise comparison failed; returning scalar instead, but in the future will perform elementwise comparison\n",
      "  mask |= (ar1 == a)\n"
     ]
    },
    {
     "name": "stdout",
     "output_type": "stream",
     "text": [
      "time: 16.6 s\n"
     ]
    }
   ],
   "source": [
    "#making a dictionary of all my dataframes for easier cycling through\n",
    "\n",
    "df_list=[]\n",
    "for element in allFiles:\n",
    "    df_list.append(element.split('{}_'.format(date))[1].split('.csv')[0]) #making an list of all my dataframes in order they appear in file\n",
    "\n",
    "dfs = {}\n",
    "i=0\n",
    "for name in df_list:\n",
    "    dfs[name] = pd.read_csv(allFiles[i],  index_col=0)\n",
    "    i+=1"
   ]
  },
  {
   "cell_type": "code",
   "execution_count": 12,
   "metadata": {},
   "outputs": [
    {
     "data": {
      "text/plain": [
       "['uti_all',\n",
       " 'rrt_merged',\n",
       " 'sofa',\n",
       " 'weightfirstday',\n",
       " 'gcs',\n",
       " 'cancer_elix',\n",
       " 'heightfirstday',\n",
       " 'ventcategory',\n",
       " 'sum_elix',\n",
       " 'vitals_all_nosummary',\n",
       " 'labs_all_nosummary',\n",
       " 'bg_all_nosummary',\n",
       " 'vaso_dose',\n",
       " 'pt_info']"
      ]
     },
     "execution_count": 12,
     "metadata": {},
     "output_type": "execute_result"
    },
    {
     "name": "stdout",
     "output_type": "stream",
     "text": [
      "time: 2.39 ms\n"
     ]
    }
   ],
   "source": [
    "df_list"
   ]
  },
  {
   "cell_type": "code",
   "execution_count": 13,
   "metadata": {},
   "outputs": [
    {
     "name": "stdout",
     "output_type": "stream",
     "text": [
      "time: 4.1 ms\n"
     ]
    }
   ],
   "source": [
    "#assigning the appropriate name to each df in a flexible way\n",
    "\n",
    "indices = [i for i, s in enumerate(df_list) if 'bg' in s]\n",
    "bg_df= df_list[indices[0]]\n",
    "\n",
    "indices = [i for i, s in enumerate(df_list) if 'cancer' in s]\n",
    "cancer_elix_df= df_list[indices[0]]\n",
    "\n",
    "indices = [i for i, s in enumerate(df_list) if 'uti' in s]\n",
    "uti_df= df_list[indices[0]]\n",
    "\n",
    "indices = [i for i, s in enumerate(df_list) if 'vent' in s]\n",
    "vent_df= df_list[indices[0]]\n",
    "\n",
    "indices = [i for i, s in enumerate(df_list) if 'vitals' in s]\n",
    "vitals_df= df_list[indices[0]]\n",
    "\n",
    "indices = [i for i, s in enumerate(df_list) if 'vaso' in s]\n",
    "vaso_df= df_list[indices[0]]\n",
    "\n",
    "indices = [i for i, s in enumerate(df_list) if 'pt_info' in s]\n",
    "pt_info_df= df_list[indices[0]]\n",
    "\n",
    "indices = [i for i, s in enumerate(df_list) if 'gcs' in s]\n",
    "gcs_df= df_list[indices[0]]\n",
    "\n",
    "indices = [i for i, s in enumerate(df_list) if 'sum_elix' in s]\n",
    "sum_elix_df = df_list[indices[0]]\n",
    "\n",
    "indices = [i for i, s in enumerate(df_list) if 'sofa' in s]\n",
    "sofa_df= df_list[indices[0]]\n",
    "\n",
    "indices = [i for i, s in enumerate(df_list) if 'weight' in s]\n",
    "weight_df= df_list[indices[0]]\n",
    "\n",
    "indices = [i for i, s in enumerate(df_list) if 'labs' in s]\n",
    "labs_df= df_list[indices[0]]\n",
    "\n",
    "indices = [i for i, s in enumerate(df_list) if 'height' in s]\n",
    "height_df= df_list[indices[0]]\n",
    "\n",
    "indices = [i for i, s in enumerate(df_list) if 'rrt' in s]\n",
    "rrt_df= df_list[indices[0]]"
   ]
  },
  {
   "cell_type": "code",
   "execution_count": 14,
   "metadata": {},
   "outputs": [
    {
     "name": "stdout",
     "output_type": "stream",
     "text": [
      "false\n",
      "false\n",
      "false\n",
      "false\n",
      "false\n",
      "false\n",
      "false\n",
      "false\n",
      "false\n",
      "false\n",
      "time: 87.1 ms\n"
     ]
    }
   ],
   "source": [
    "#adding a t_0 to each df that doesn't currently have it\n",
    "\n",
    "for element in df_list:\n",
    "    #print(element,':',list(dfs[element]))\n",
    "    if ('t_0' in list(dfs[element]))==False and 'icustay_id' in list(dfs[element]) :\n",
    "        #print(\"true\")\n",
    "        dfs[element]= pd.merge(dfs[element], final_pt_df2[['icustay_id','t_0']], how='left')\n",
    "    elif ('t_0' in list(dfs[element]))==False and 'hadm_id' in list(dfs[element]) :\n",
    "        #print(\"true\")\n",
    "        dfs[element]= pd.merge(dfs[element], final_pt_df2[['hadm_id','t_0']], how='left')\n",
    "    else:\n",
    "        print(\"false\")\n"
   ]
  },
  {
   "cell_type": "code",
   "execution_count": 15,
   "metadata": {},
   "outputs": [
    {
     "name": "stdout",
     "output_type": "stream",
     "text": [
      "uti_all : ['subject_id', 'hadm_id', 'itemid', 'charttime', 'value', 'valuenum', 'valueuom', 'label', 'fluid', 'category', 'loinc_code', 'icd9_code', 't_0', 'delta']\n",
      "rrt_merged : ['icustay_id', 't_0', 'first_charttime', 'rrt', 'uom']\n",
      "sofa : ['subject_id', 'hadm_id', 'icustay_id', 'day', 'sofa', 'respiration', 'pao2fio2_vent_min', 'pao2fio2_novent_min', 'coagulation', 'platelet_min', 'liver', 'bilirubin_max', 'cardiovascular', 'rate_dopamine', 'rate_epinephrine', 'rate_norepinephrine', 'rate_dobutamine', 'meanbp_min', 'cns', 'mingcs', 'renal', 'creatinine_max', 'urineoutput', 't_0', 'icu_admit', 'approx_charttime', 'floor_charttime', 'floor_time_var']\n",
      "weightfirstday : ['icustay_id', 'weight', 'weight_admit', 'weight_daily', 'weight_echoinhosp', 'weight_echoprehosp', 'uom', 't_0']\n",
      "gcs : ['subject_id', 'hadm_id', 'icustay_id', 'day', 'mingcs', 'gcsmotor', 'gcsverbal', 'gcseyes', 'endotrachflag', 'icu_admit', 't_0', 'approx_charttime', 'admit_plus_day', 'delta', 'uom']\n",
      "cancer_elix : ['subject_id', 'hadm_id', 'icustay_id', 'value', 'label', 'delta', 'uom', 't_0']\n",
      "heightfirstday : ['icustay_id', 'height', 'height_chart', 'height_echo', 'uom', 't_0']\n",
      "ventcategory : ['icustay_id', 'day', 'value', 'uom', 't_0']\n",
      "sum_elix : ['subject_id', 'hadm_id', 'icustay_id', 'value', 'label', 'delta', 'uom', 't_0']\n",
      "vitals_all_nosummary : ['subject_id', 'hadm_id', 'icustay_id', 'charttime', 'valueuom', 'vitalid', 'valuenum', 't_0', 'delta']\n",
      "labs_all_nosummary : ['subject_id', 'hadm_id', 'icustay_id', 'charttime', 'label', 'valuenum', 'uom', 't_0', 'delta']\n",
      "bg_all_nosummary : ['subject_id', 'hadm_id', 'icustay_id', 'charttime', 'label', 'valuenum', 'value', 'valueuom', 'unique_var', 't_0', 'delta']\n",
      "vaso_dose : ['icustay_id', 'charttime', 'endtime', 'vaso_rate', 'vaso_amount', 'amount_uom', 'rate_uom', 'label', 't_0', 'delta']\n",
      "pt_info : ['icustay_id', 'subject_id', 't_0', 'label', 'value', 'delta', 'uom']\n",
      "time: 2.67 ms\n"
     ]
    }
   ],
   "source": [
    "for element in df_list:\n",
    "    print(element,':',list(dfs[element]))"
   ]
  },
  {
   "cell_type": "code",
   "execution_count": 16,
   "metadata": {},
   "outputs": [
    {
     "name": "stdout",
     "output_type": "stream",
     "text": [
      "time: 3.1 ms\n"
     ]
    }
   ],
   "source": [
    "from parameters import time_var, value_fill, delta_fill, uom_fill\n",
    "def yn_convert(df, #df in format where each row corresponds to a test, and a patient can have many rows\n",
    "               label_fill, # value that will be filled to na's\n",
    "               pt= final_pt_df2,\n",
    "               time_var=time_var,#'t_0', #\n",
    "               value_fill=value_fill,#0,\n",
    "               delta_fill=delta_fill,# pd.to_timedelta('0 days'),\n",
    "               uom_fill=uom_fill):#'y/n'):\n",
    "\n",
    "    \"\"\"\n",
    "    description: collapses (binarizes) a dataframe where each row corresponds to a test, and a patient can have many rows -> \n",
    "    1 row per patient where value is binary variable yes or no a patient has any value within the timewindow (specified in data collection).\n",
    "    said a different way, for patient this fxn collapses values down to does pt have a non NA value in the clinical time window y/n? \n",
    "    \n",
    "    label_fill: the variable name in the label column of the specified dataframe that will considered for y/n value within timewindow. if any non NA value is present\n",
    "        it will be considered positive.\n",
    "    pt: the by patient spreadsheet be be used to supply patient information.\n",
    "    time_var: the variable used to create the time window of interest.\n",
    "    value_fill: the variable value that missing values will be filled if the value is not present (default =0) in the origional dataset\n",
    "    delta_fill: the time delta value that will be filled in if a patient doesn't have any instances of the label_fill.  \n",
    "    uom_fill: fills in the unit of measurement to this for missing values.\n",
    "    \n",
    "    returns a flat 1 row per icustay_id of 1 or 0 if any value was present for the patient.\n",
    "    \"\"\"\n",
    "    \n",
    "    yn_df = pd.merge(pt[['icustay_id', time_var]],\n",
    "                      df[['icustay_id','value','label','uom','delta']],\n",
    "                     left_on= 'icustay_id',\n",
    "                     right_on= 'icustay_id',\n",
    "                      how='left') #merging all icustay_id's with time_var, where value,label,uom, and delta are nan's if no value exists for that icustay. \n",
    "    #the idea is that if any value exists then it is pos.\n",
    "\n",
    "    yn_df['value']= yn_df['value'].fillna(value_fill) #converts na to 0 in above na rows.\n",
    "    yn_df.loc[yn_df.loc[:,'value']!=value_fill, 'value']= 1 #squashes all other values into a binary 1 = yes\n",
    "    yn_df['delta']= yn_df['delta'].fillna(delta_fill)\n",
    "    yn_df['delta']= pd.to_timedelta(yn_df['delta']) #filling in the time delta to time =0 for filled rows\n",
    "    yn_df['uom']= yn_df['uom'].fillna(uom_fill)\n",
    "    yn_df.loc[yn_df.loc[:,'uom']!=uom_fill, 'uom']= uom_fill\n",
    "    yn_df['label']= yn_df['label'].fillna(label_fill)\n",
    "    ##this is new as of 12-12-19L i think i wasn't truely converting to 1row per icustay id by not droping duplicates filtered on value first (desc) then delta (asc)\n",
    "    yn_df= yn_df.sort_values(['value','delta'], ascending=[False, True]).drop_duplicates(subset='icustay_id',keep='first')\n",
    "    \n",
    "    return(yn_df)\n"
   ]
  },
  {
   "cell_type": "markdown",
   "metadata": {},
   "source": [
    "## vaso dose"
   ]
  },
  {
   "cell_type": "code",
   "execution_count": 16,
   "metadata": {},
   "outputs": [
    {
     "name": "stdout",
     "output_type": "stream",
     "text": [
      "time: 61.1 ms\n"
     ]
    }
   ],
   "source": [
    "# #renaming starttime to charttime and dropping endtime\n",
    "\n",
    "dfs[vaso_df]= dfs[vaso_df].rename(\n",
    "    columns={'starttime':'charttime','label':'vaso_type'})"
   ]
  },
  {
   "cell_type": "code",
   "execution_count": 17,
   "metadata": {},
   "outputs": [
    {
     "data": {
      "text/plain": [
       "74313"
      ]
     },
     "execution_count": 17,
     "metadata": {},
     "output_type": "execute_result"
    },
    {
     "name": "stdout",
     "output_type": "stream",
     "text": [
      "time: 2.08 ms\n"
     ]
    }
   ],
   "source": [
    "len(dfs[vaso_df])"
   ]
  },
  {
   "cell_type": "code",
   "execution_count": 18,
   "metadata": {},
   "outputs": [
    {
     "data": {
      "text/html": [
       "<div>\n",
       "<style scoped>\n",
       "    .dataframe tbody tr th:only-of-type {\n",
       "        vertical-align: middle;\n",
       "    }\n",
       "\n",
       "    .dataframe tbody tr th {\n",
       "        vertical-align: top;\n",
       "    }\n",
       "\n",
       "    .dataframe thead th {\n",
       "        text-align: right;\n",
       "    }\n",
       "</style>\n",
       "<table border=\"1\" class=\"dataframe\">\n",
       "  <thead>\n",
       "    <tr style=\"text-align: right;\">\n",
       "      <th></th>\n",
       "      <th>icustay_id</th>\n",
       "      <th>charttime</th>\n",
       "      <th>endtime</th>\n",
       "      <th>vaso_rate</th>\n",
       "      <th>vaso_amount</th>\n",
       "      <th>amount_uom</th>\n",
       "      <th>rate_uom</th>\n",
       "      <th>vaso_type</th>\n",
       "      <th>t_0</th>\n",
       "      <th>delta</th>\n",
       "    </tr>\n",
       "  </thead>\n",
       "  <tbody>\n",
       "    <tr>\n",
       "      <th>4</th>\n",
       "      <td>200349.0</td>\n",
       "      <td>2139-06-02 16:31:00</td>\n",
       "      <td>2139-06-02 18:10:00</td>\n",
       "      <td>0.012030</td>\n",
       "      <td>0.073958</td>\n",
       "      <td>mg</td>\n",
       "      <td>mcg/kg/min</td>\n",
       "      <td>epinephrine</td>\n",
       "      <td>2139-06-02</td>\n",
       "      <td>0 days 16:31:00.000000000</td>\n",
       "    </tr>\n",
       "    <tr>\n",
       "      <th>8</th>\n",
       "      <td>200952.0</td>\n",
       "      <td>2139-09-23 15:07:00</td>\n",
       "      <td>2139-09-24 06:43:00</td>\n",
       "      <td>0.020004</td>\n",
       "      <td>1.049601</td>\n",
       "      <td>mg</td>\n",
       "      <td>mcg/kg/min</td>\n",
       "      <td>epinephrine</td>\n",
       "      <td>2139-09-23</td>\n",
       "      <td>0 days 15:07:00.000000000</td>\n",
       "    </tr>\n",
       "    <tr>\n",
       "      <th>9</th>\n",
       "      <td>200952.0</td>\n",
       "      <td>2139-09-25 12:00:00</td>\n",
       "      <td>2139-09-25 21:59:00</td>\n",
       "      <td>0.080068</td>\n",
       "      <td>1.962759</td>\n",
       "      <td>mg</td>\n",
       "      <td>mcg/kg/min</td>\n",
       "      <td>epinephrine</td>\n",
       "      <td>2139-09-23</td>\n",
       "      <td>2 days 12:00:00.000000000</td>\n",
       "    </tr>\n",
       "    <tr>\n",
       "      <th>10</th>\n",
       "      <td>200952.0</td>\n",
       "      <td>2139-09-25 21:59:00</td>\n",
       "      <td>2139-09-26 07:38:00</td>\n",
       "      <td>0.060601</td>\n",
       "      <td>2.000000</td>\n",
       "      <td>mg</td>\n",
       "      <td>mcg/kg/min</td>\n",
       "      <td>epinephrine</td>\n",
       "      <td>2139-09-23</td>\n",
       "      <td>2 days 21:59:00.000000000</td>\n",
       "    </tr>\n",
       "    <tr>\n",
       "      <th>22</th>\n",
       "      <td>200952.0</td>\n",
       "      <td>2139-09-23 23:12:00</td>\n",
       "      <td>2139-09-24 21:54:00</td>\n",
       "      <td>0.149992</td>\n",
       "      <td>7.990853</td>\n",
       "      <td>mg</td>\n",
       "      <td>mcg/kg/min</td>\n",
       "      <td>norepinephrine</td>\n",
       "      <td>2139-09-23</td>\n",
       "      <td>0 days 23:12:00.000000000</td>\n",
       "    </tr>\n",
       "  </tbody>\n",
       "</table>\n",
       "</div>"
      ],
      "text/plain": [
       "    icustay_id            charttime              endtime  vaso_rate  \\\n",
       "4     200349.0  2139-06-02 16:31:00  2139-06-02 18:10:00   0.012030   \n",
       "8     200952.0  2139-09-23 15:07:00  2139-09-24 06:43:00   0.020004   \n",
       "9     200952.0  2139-09-25 12:00:00  2139-09-25 21:59:00   0.080068   \n",
       "10    200952.0  2139-09-25 21:59:00  2139-09-26 07:38:00   0.060601   \n",
       "22    200952.0  2139-09-23 23:12:00  2139-09-24 21:54:00   0.149992   \n",
       "\n",
       "    vaso_amount amount_uom    rate_uom       vaso_type         t_0  \\\n",
       "4      0.073958         mg  mcg/kg/min     epinephrine  2139-06-02   \n",
       "8      1.049601         mg  mcg/kg/min     epinephrine  2139-09-23   \n",
       "9      1.962759         mg  mcg/kg/min     epinephrine  2139-09-23   \n",
       "10     2.000000         mg  mcg/kg/min     epinephrine  2139-09-23   \n",
       "22     7.990853         mg  mcg/kg/min  norepinephrine  2139-09-23   \n",
       "\n",
       "                        delta  \n",
       "4   0 days 16:31:00.000000000  \n",
       "8   0 days 15:07:00.000000000  \n",
       "9   2 days 12:00:00.000000000  \n",
       "10  2 days 21:59:00.000000000  \n",
       "22  0 days 23:12:00.000000000  "
      ]
     },
     "execution_count": 18,
     "metadata": {},
     "output_type": "execute_result"
    },
    {
     "name": "stdout",
     "output_type": "stream",
     "text": [
      "time: 36.7 ms\n"
     ]
    }
   ],
   "source": [
    "dfs[vaso_df].head()"
   ]
  },
  {
   "cell_type": "code",
   "execution_count": 19,
   "metadata": {},
   "outputs": [
    {
     "name": "stdout",
     "output_type": "stream",
     "text": [
      "time: 23.2 ms\n"
     ]
    }
   ],
   "source": [
    "#removing units/hour because that is a different use of vasopressin\n",
    "dfs[vaso_df] = dfs[vaso_df].loc[dfs[vaso_df].loc[:,'rate_uom']!= 'units/hour',:]\n",
    "dfs[vaso_df] = dfs[vaso_df].loc[dfs[vaso_df].loc[:,'rate_uom']!= 'Uhr',:]"
   ]
  },
  {
   "cell_type": "code",
   "execution_count": 20,
   "metadata": {},
   "outputs": [
    {
     "data": {
      "text/plain": [
       "74313"
      ]
     },
     "execution_count": 20,
     "metadata": {},
     "output_type": "execute_result"
    },
    {
     "name": "stdout",
     "output_type": "stream",
     "text": [
      "time: 4.41 ms\n"
     ]
    }
   ],
   "source": [
    "len(dfs[vaso_df])"
   ]
  },
  {
   "cell_type": "code",
   "execution_count": 21,
   "metadata": {},
   "outputs": [
    {
     "data": {
      "text/plain": [
       "array(['mcg/kg/min', 'mcgkgmin', 'Umin', 'units/min'], dtype=object)"
      ]
     },
     "execution_count": 21,
     "metadata": {},
     "output_type": "execute_result"
    },
    {
     "name": "stdout",
     "output_type": "stream",
     "text": [
      "time: 9.77 ms\n"
     ]
    }
   ],
   "source": [
    "dfs[vaso_df]['rate_uom'].unique()"
   ]
  },
  {
   "cell_type": "markdown",
   "metadata": {},
   "source": [
    "#### removing outliers/extreme values"
   ]
  },
  {
   "cell_type": "code",
   "execution_count": 22,
   "metadata": {},
   "outputs": [
    {
     "name": "stdout",
     "output_type": "stream",
     "text": [
      "time: 24.1 ms\n"
     ]
    }
   ],
   "source": [
    "# Use transform to add a column back to the orig df from a groupby aggregation, transform returns a Series with its index aligned to the orig df:\n",
    "def vaso_outlier_removal(df):\n",
    "    test_group=(dfs[vaso_df][['vaso_rate','rate_uom','amount_uom','vaso_type']]#.groupby('vaso_type', as_index=False)\n",
    "         .groupby(['vaso_type','rate_uom'])\n",
    "             )\n",
    "\n",
    "    dfs[vaso_df]['std']=test_group.transform(lambda x : x.std())\n",
    "    dfs[vaso_df]['mean']=test_group.transform(lambda x : x.mean())\n",
    "\n",
    "    normal_high_value= pd.DataFrame({\n",
    "        'vaso_type' : ['dobutamine','dopamine','epinephrine','norepinephrine','vasopressin','phenylephrine'],\n",
    "        'high_value': [40, 20, 0.5, 1, 0.1, 2] #highest values one might expect to see in a clinic, ie above this is likely erroneous\n",
    "    }) #found from literature, see notes\n",
    "\n",
    "    dfs[vaso_df] = pd.merge(dfs[vaso_df], normal_high_value, left_on='vaso_type', right_on='vaso_type')\n",
    "\n",
    "    vaso_dose_72_rmout =(dfs[vaso_df][\n",
    "        ~((dfs[vaso_df]['vaso_rate'] > dfs[vaso_df]['high_value']) & ((dfs[vaso_df]['vaso_rate']-dfs[vaso_df]['mean'])>= (3*dfs[vaso_df]['std'])))\n",
    "        ])\n",
    "    #ie vaso_dose_72_rmout is a dataframe of all rows that excludes rows where vaso rate > literature high value and where vaso_rate >3sd from teh mean\n",
    "    return(vaso_dose_72_rmout)"
   ]
  },
  {
   "cell_type": "code",
   "execution_count": 23,
   "metadata": {},
   "outputs": [
    {
     "data": {
      "text/plain": [
       "73828"
      ]
     },
     "execution_count": 23,
     "metadata": {},
     "output_type": "execute_result"
    },
    {
     "name": "stdout",
     "output_type": "stream",
     "text": [
      "time: 253 ms\n"
     ]
    }
   ],
   "source": [
    "dfs[vaso_df]= vaso_outlier_removal(dfs[vaso_df])\n",
    "len(dfs[vaso_df]) #52976 ->49340"
   ]
  },
  {
   "cell_type": "code",
   "execution_count": 24,
   "metadata": {},
   "outputs": [
    {
     "data": {
      "text/plain": [
       "array(['epinephrine', 'norepinephrine', 'phenylephrine', 'dopamine',\n",
       "       'dobutamine', 'vasopressin'], dtype=object)"
      ]
     },
     "execution_count": 24,
     "metadata": {},
     "output_type": "execute_result"
    },
    {
     "name": "stdout",
     "output_type": "stream",
     "text": [
      "time: 6.32 ms\n"
     ]
    }
   ],
   "source": [
    "dfs[vaso_df]['vaso_type'].unique()"
   ]
  },
  {
   "cell_type": "code",
   "execution_count": 25,
   "metadata": {},
   "outputs": [
    {
     "data": {
      "text/plain": [
       "array(['epinephrine', 'norepinephrine', 'phenylephrine', 'dopamine',\n",
       "       'dobutamine', 'vasopressin'], dtype=object)"
      ]
     },
     "execution_count": 25,
     "metadata": {},
     "output_type": "execute_result"
    },
    {
     "name": "stdout",
     "output_type": "stream",
     "text": [
      "time: 93.1 ms\n"
     ]
    }
   ],
   "source": [
    "#standardizing names, dropping unneeded columns for analysis\n",
    "dfs[vaso_df]= dfs[vaso_df].drop(['vaso_amount', 'amount_uom','std','mean','high_value'], axis=1)\n",
    "dfs[vaso_df]= dfs[vaso_df].rename(index=str, columns={'vaso_rate': 'value', 'rate_uom':'uom','vaso_type':'label'})\n",
    "dfs[vaso_df]['label'].unique()"
   ]
  },
  {
   "cell_type": "code",
   "execution_count": 26,
   "metadata": {},
   "outputs": [
    {
     "data": {
      "text/html": [
       "<div>\n",
       "<style scoped>\n",
       "    .dataframe tbody tr th:only-of-type {\n",
       "        vertical-align: middle;\n",
       "    }\n",
       "\n",
       "    .dataframe tbody tr th {\n",
       "        vertical-align: top;\n",
       "    }\n",
       "\n",
       "    .dataframe thead th {\n",
       "        text-align: right;\n",
       "    }\n",
       "</style>\n",
       "<table border=\"1\" class=\"dataframe\">\n",
       "  <thead>\n",
       "    <tr style=\"text-align: right;\">\n",
       "      <th></th>\n",
       "      <th>icustay_id</th>\n",
       "      <th>charttime</th>\n",
       "      <th>endtime</th>\n",
       "      <th>value</th>\n",
       "      <th>uom</th>\n",
       "      <th>label</th>\n",
       "      <th>t_0</th>\n",
       "      <th>delta</th>\n",
       "    </tr>\n",
       "  </thead>\n",
       "  <tbody>\n",
       "    <tr>\n",
       "      <th>0</th>\n",
       "      <td>200349.0</td>\n",
       "      <td>2139-06-02 16:31:00</td>\n",
       "      <td>2139-06-02 18:10:00</td>\n",
       "      <td>0.012030</td>\n",
       "      <td>mcg/kg/min</td>\n",
       "      <td>epinephrine</td>\n",
       "      <td>2139-06-02</td>\n",
       "      <td>0 days 16:31:00.000000000</td>\n",
       "    </tr>\n",
       "    <tr>\n",
       "      <th>1</th>\n",
       "      <td>200952.0</td>\n",
       "      <td>2139-09-23 15:07:00</td>\n",
       "      <td>2139-09-24 06:43:00</td>\n",
       "      <td>0.020004</td>\n",
       "      <td>mcg/kg/min</td>\n",
       "      <td>epinephrine</td>\n",
       "      <td>2139-09-23</td>\n",
       "      <td>0 days 15:07:00.000000000</td>\n",
       "    </tr>\n",
       "    <tr>\n",
       "      <th>2</th>\n",
       "      <td>200952.0</td>\n",
       "      <td>2139-09-25 12:00:00</td>\n",
       "      <td>2139-09-25 21:59:00</td>\n",
       "      <td>0.080068</td>\n",
       "      <td>mcg/kg/min</td>\n",
       "      <td>epinephrine</td>\n",
       "      <td>2139-09-23</td>\n",
       "      <td>2 days 12:00:00.000000000</td>\n",
       "    </tr>\n",
       "    <tr>\n",
       "      <th>3</th>\n",
       "      <td>200952.0</td>\n",
       "      <td>2139-09-25 21:59:00</td>\n",
       "      <td>2139-09-26 07:38:00</td>\n",
       "      <td>0.060601</td>\n",
       "      <td>mcg/kg/min</td>\n",
       "      <td>epinephrine</td>\n",
       "      <td>2139-09-23</td>\n",
       "      <td>2 days 21:59:00.000000000</td>\n",
       "    </tr>\n",
       "    <tr>\n",
       "      <th>4</th>\n",
       "      <td>200977.0</td>\n",
       "      <td>2166-12-02 16:59:00</td>\n",
       "      <td>2166-12-03 05:50:00</td>\n",
       "      <td>0.030015</td>\n",
       "      <td>mcg/kg/min</td>\n",
       "      <td>epinephrine</td>\n",
       "      <td>2166-12-02</td>\n",
       "      <td>0 days 16:59:00.000000000</td>\n",
       "    </tr>\n",
       "  </tbody>\n",
       "</table>\n",
       "</div>"
      ],
      "text/plain": [
       "   icustay_id            charttime              endtime     value         uom  \\\n",
       "0    200349.0  2139-06-02 16:31:00  2139-06-02 18:10:00  0.012030  mcg/kg/min   \n",
       "1    200952.0  2139-09-23 15:07:00  2139-09-24 06:43:00  0.020004  mcg/kg/min   \n",
       "2    200952.0  2139-09-25 12:00:00  2139-09-25 21:59:00  0.080068  mcg/kg/min   \n",
       "3    200952.0  2139-09-25 21:59:00  2139-09-26 07:38:00  0.060601  mcg/kg/min   \n",
       "4    200977.0  2166-12-02 16:59:00  2166-12-03 05:50:00  0.030015  mcg/kg/min   \n",
       "\n",
       "         label         t_0                      delta  \n",
       "0  epinephrine  2139-06-02  0 days 16:31:00.000000000  \n",
       "1  epinephrine  2139-09-23  0 days 15:07:00.000000000  \n",
       "2  epinephrine  2139-09-23  2 days 12:00:00.000000000  \n",
       "3  epinephrine  2139-09-23  2 days 21:59:00.000000000  \n",
       "4  epinephrine  2166-12-02  0 days 16:59:00.000000000  "
      ]
     },
     "execution_count": 26,
     "metadata": {},
     "output_type": "execute_result"
    },
    {
     "name": "stdout",
     "output_type": "stream",
     "text": [
      "time: 15.7 ms\n"
     ]
    }
   ],
   "source": [
    "dfs[vaso_df].head()"
   ]
  },
  {
   "cell_type": "code",
   "execution_count": 27,
   "metadata": {},
   "outputs": [
    {
     "name": "stdout",
     "output_type": "stream",
     "text": [
      "time: 286 ms\n"
     ]
    }
   ],
   "source": [
    "epinephrine_df= dfs[vaso_df][dfs[vaso_df]['label']=='epinephrine']\n",
    "norepinephrine_df= dfs[vaso_df][dfs[vaso_df]['label']=='norepinephrine']\n",
    "phenylephrine_df= dfs[vaso_df][dfs[vaso_df]['label']=='phenylephrine']\n",
    "vasopressin_df= dfs[vaso_df][dfs[vaso_df]['label']=='vasopressin']\n",
    "dopamine_df= dfs[vaso_df][dfs[vaso_df]['label']=='dopamine']\n",
    "dobutamine_df= dfs[vaso_df][dfs[vaso_df]['label']=='dobutamine']\n",
    "\n",
    "\n",
    "#making a all vasoactive\n",
    "all_vaso=pd.concat([epinephrine_df, norepinephrine_df,phenylephrine_df, vasopressin_df,dopamine_df,dobutamine_df ], sort=False)#.sort_values(['icustay_id','delta','label','source'], ascending=True)\n",
    "#sorting so that a patient's most positive and earliest cases are kept and everything else droped. \n",
    "all_vaso= all_vaso.sort_values(['value','delta'], ascending=[False, True]).drop_duplicates(subset='icustay_id',keep='first')\n",
    "all_vaso['label']='any_vasoactives'\n"
   ]
  },
  {
   "cell_type": "code",
   "execution_count": 28,
   "metadata": {},
   "outputs": [
    {
     "name": "stdout",
     "output_type": "stream",
     "text": [
      "time: 1.32 s\n"
     ]
    }
   ],
   "source": [
    "#(could be transfered to a different spdsheet for collapsing values)\n",
    "#y/n convert, seperating out vaso_dose into 6 constitutient dataframes, and for each am collapsing values down to does pt have in time window y/n? \n",
    "\n",
    "epinephrine_df=yn_convert(epinephrine_df, label_fill='epinephrine', pt= final_pt_df2, value_fill=0, delta_fill=0, uom_fill='y/n', time_var=time_var)\n",
    "norepinephrine_df=yn_convert(norepinephrine_df, label_fill='norepinephrine', pt= final_pt_df2, value_fill=0, delta_fill=0, uom_fill='y/n', time_var=time_var)\n",
    "phenylephrine_df=yn_convert(phenylephrine_df, label_fill='phenylephrine', pt= final_pt_df2, value_fill=0, delta_fill=0, uom_fill='y/n', time_var=time_var)\n",
    "vasopressin_df=yn_convert(vasopressin_df, label_fill='vasopressin', pt= final_pt_df2, value_fill=0, delta_fill=0, uom_fill='y/n', time_var=time_var)\n",
    "dopamine_df=yn_convert(dopamine_df, label_fill='dopamine', pt= final_pt_df2, value_fill=0, delta_fill=0, uom_fill='y/n', time_var=time_var)\n",
    "dobutamine_df=yn_convert(dobutamine_df, label_fill='dobutamine', pt= final_pt_df2, value_fill=0, delta_fill=0, uom_fill='y/n', time_var=time_var)\n",
    "all_vaso=yn_convert(all_vaso, label_fill='any_vasoactives', pt= final_pt_df2, value_fill=0, delta_fill=0, uom_fill='y/n', time_var=time_var)"
   ]
  },
  {
   "cell_type": "code",
   "execution_count": 29,
   "metadata": {},
   "outputs": [
    {
     "data": {
      "text/html": [
       "<div>\n",
       "<style scoped>\n",
       "    .dataframe tbody tr th:only-of-type {\n",
       "        vertical-align: middle;\n",
       "    }\n",
       "\n",
       "    .dataframe tbody tr th {\n",
       "        vertical-align: top;\n",
       "    }\n",
       "\n",
       "    .dataframe thead th {\n",
       "        text-align: right;\n",
       "    }\n",
       "</style>\n",
       "<table border=\"1\" class=\"dataframe\">\n",
       "  <thead>\n",
       "    <tr style=\"text-align: right;\">\n",
       "      <th></th>\n",
       "      <th>icustay_id</th>\n",
       "      <th>t_0</th>\n",
       "      <th>value</th>\n",
       "      <th>label</th>\n",
       "      <th>uom</th>\n",
       "      <th>delta</th>\n",
       "    </tr>\n",
       "  </thead>\n",
       "  <tbody>\n",
       "    <tr>\n",
       "      <th>28780</th>\n",
       "      <td>299654</td>\n",
       "      <td>2149-12-23</td>\n",
       "      <td>1.0</td>\n",
       "      <td>norepinephrine</td>\n",
       "      <td>y/n</td>\n",
       "      <td>06:30:00</td>\n",
       "    </tr>\n",
       "  </tbody>\n",
       "</table>\n",
       "</div>"
      ],
      "text/plain": [
       "       icustay_id         t_0  value           label  uom    delta\n",
       "28780      299654  2149-12-23    1.0  norepinephrine  y/n 06:30:00"
      ]
     },
     "execution_count": 29,
     "metadata": {},
     "output_type": "execute_result"
    },
    {
     "name": "stdout",
     "output_type": "stream",
     "text": [
      "time: 9.04 ms\n"
     ]
    }
   ],
   "source": [
    "norepinephrine_df[norepinephrine_df['icustay_id']==299654.0]"
   ]
  },
  {
   "cell_type": "code",
   "execution_count": 30,
   "metadata": {},
   "outputs": [
    {
     "data": {
      "text/plain": [
       "19633"
      ]
     },
     "execution_count": 30,
     "metadata": {},
     "output_type": "execute_result"
    },
    {
     "name": "stdout",
     "output_type": "stream",
     "text": [
      "time: 3.08 ms\n"
     ]
    }
   ],
   "source": [
    "all_vaso['icustay_id'].nunique()"
   ]
  },
  {
   "cell_type": "code",
   "execution_count": 31,
   "metadata": {},
   "outputs": [
    {
     "data": {
      "text/plain": [
       "19633"
      ]
     },
     "execution_count": 31,
     "metadata": {},
     "output_type": "execute_result"
    },
    {
     "name": "stdout",
     "output_type": "stream",
     "text": [
      "time: 1.7 ms\n"
     ]
    }
   ],
   "source": [
    "#all_vaso=all_vaso.sort_values(['value','delta'], ascending=[False, True]).drop_duplicates(subset='icustay_id',keep='first')\n",
    "len(all_vaso)\n"
   ]
  },
  {
   "cell_type": "code",
   "execution_count": 32,
   "metadata": {},
   "outputs": [
    {
     "name": "stdout",
     "output_type": "stream",
     "text": [
      "time: 2.65 s\n"
     ]
    }
   ],
   "source": [
    "save_df(all_vaso, df_name='all_vaso')\n",
    "del(all_vaso)\n",
    "\n",
    "save_df(epinephrine_df, df_name='epinephrine')\n",
    "del(epinephrine_df)\n",
    "\n",
    "save_df(norepinephrine_df, df_name='norepinephrine')\n",
    "del(norepinephrine_df)\n",
    "\n",
    "save_df(phenylephrine_df, df_name='phenylephrine')\n",
    "del(phenylephrine_df)\n",
    "\n",
    "save_df(vasopressin_df, df_name='vasopressin')\n",
    "del(vasopressin_df)\n",
    "\n",
    "save_df(dopamine_df, df_name='dopamine')\n",
    "del(dopamine_df)\n",
    "\n",
    "save_df(dobutamine_df, df_name='dobutamine')\n",
    "del(dobutamine_df)\n",
    "\n",
    "del(dfs[vaso_df])\n"
   ]
  },
  {
   "cell_type": "markdown",
   "metadata": {},
   "source": [
    "## ELIX"
   ]
  },
  {
   "cell_type": "code",
   "execution_count": 33,
   "metadata": {},
   "outputs": [
    {
     "name": "stdout",
     "output_type": "stream",
     "text": [
      "time: 769 ms\n"
     ]
    }
   ],
   "source": [
    "#convert cancer elix to y/n:\n",
    "dfs[cancer_elix_df]= yn_convert(dfs[cancer_elix_df], label_fill=0, pt= final_pt_df2, value_fill=0, delta_fill=0, uom_fill='y/n', time_var=time_var)\n",
    "save_df(dfs[cancer_elix_df], df_name='cancer_elix')\n",
    "del(dfs[cancer_elix_df])\n",
    "\n",
    "save_df(dfs[sum_elix_df], 'sum_elix')\n",
    "del(dfs[sum_elix_df])"
   ]
  },
  {
   "cell_type": "markdown",
   "metadata": {},
   "source": [
    "## vitals -"
   ]
  },
  {
   "cell_type": "code",
   "execution_count": 34,
   "metadata": {},
   "outputs": [
    {
     "data": {
      "text/html": [
       "<div>\n",
       "<style scoped>\n",
       "    .dataframe tbody tr th:only-of-type {\n",
       "        vertical-align: middle;\n",
       "    }\n",
       "\n",
       "    .dataframe tbody tr th {\n",
       "        vertical-align: top;\n",
       "    }\n",
       "\n",
       "    .dataframe thead th {\n",
       "        text-align: right;\n",
       "    }\n",
       "</style>\n",
       "<table border=\"1\" class=\"dataframe\">\n",
       "  <thead>\n",
       "    <tr style=\"text-align: right;\">\n",
       "      <th></th>\n",
       "      <th>subject_id</th>\n",
       "      <th>hadm_id</th>\n",
       "      <th>icustay_id</th>\n",
       "      <th>charttime</th>\n",
       "      <th>valueuom</th>\n",
       "      <th>vitalid</th>\n",
       "      <th>valuenum</th>\n",
       "      <th>t_0</th>\n",
       "      <th>delta</th>\n",
       "    </tr>\n",
       "  </thead>\n",
       "  <tbody>\n",
       "    <tr>\n",
       "      <th>0</th>\n",
       "      <td>9</td>\n",
       "      <td>150750</td>\n",
       "      <td>220597.0</td>\n",
       "      <td>2149-11-11 00:00:00</td>\n",
       "      <td>mmHg</td>\n",
       "      <td>MeanArtPress</td>\n",
       "      <td>81.0</td>\n",
       "      <td>2149-11-10</td>\n",
       "      <td>1 days 00:00:00.000000000</td>\n",
       "    </tr>\n",
       "    <tr>\n",
       "      <th>1</th>\n",
       "      <td>9</td>\n",
       "      <td>150750</td>\n",
       "      <td>220597.0</td>\n",
       "      <td>2149-11-11 19:00:00</td>\n",
       "      <td>mmHg</td>\n",
       "      <td>MeanArtPress</td>\n",
       "      <td>72.0</td>\n",
       "      <td>2149-11-10</td>\n",
       "      <td>1 days 19:00:00.000000000</td>\n",
       "    </tr>\n",
       "    <tr>\n",
       "      <th>2</th>\n",
       "      <td>9</td>\n",
       "      <td>150750</td>\n",
       "      <td>220597.0</td>\n",
       "      <td>2149-11-11 19:45:00</td>\n",
       "      <td>mmHg</td>\n",
       "      <td>MeanArtPress</td>\n",
       "      <td>76.0</td>\n",
       "      <td>2149-11-10</td>\n",
       "      <td>1 days 19:45:00.000000000</td>\n",
       "    </tr>\n",
       "    <tr>\n",
       "      <th>3</th>\n",
       "      <td>9</td>\n",
       "      <td>150750</td>\n",
       "      <td>220597.0</td>\n",
       "      <td>2149-11-11 20:00:00</td>\n",
       "      <td>mmHg</td>\n",
       "      <td>MeanArtPress</td>\n",
       "      <td>99.0</td>\n",
       "      <td>2149-11-10</td>\n",
       "      <td>1 days 20:00:00.000000000</td>\n",
       "    </tr>\n",
       "    <tr>\n",
       "      <th>14</th>\n",
       "      <td>9</td>\n",
       "      <td>150750</td>\n",
       "      <td>220597.0</td>\n",
       "      <td>2149-11-12 14:00:00</td>\n",
       "      <td>mmHg</td>\n",
       "      <td>MeanArtPress</td>\n",
       "      <td>89.0</td>\n",
       "      <td>2149-11-10</td>\n",
       "      <td>2 days 14:00:00.000000000</td>\n",
       "    </tr>\n",
       "  </tbody>\n",
       "</table>\n",
       "</div>"
      ],
      "text/plain": [
       "    subject_id  hadm_id  icustay_id            charttime valueuom  \\\n",
       "0            9   150750    220597.0  2149-11-11 00:00:00     mmHg   \n",
       "1            9   150750    220597.0  2149-11-11 19:00:00     mmHg   \n",
       "2            9   150750    220597.0  2149-11-11 19:45:00     mmHg   \n",
       "3            9   150750    220597.0  2149-11-11 20:00:00     mmHg   \n",
       "14           9   150750    220597.0  2149-11-12 14:00:00     mmHg   \n",
       "\n",
       "         vitalid  valuenum         t_0                      delta  \n",
       "0   MeanArtPress      81.0  2149-11-10  1 days 00:00:00.000000000  \n",
       "1   MeanArtPress      72.0  2149-11-10  1 days 19:00:00.000000000  \n",
       "2   MeanArtPress      76.0  2149-11-10  1 days 19:45:00.000000000  \n",
       "3   MeanArtPress      99.0  2149-11-10  1 days 20:00:00.000000000  \n",
       "14  MeanArtPress      89.0  2149-11-10  2 days 14:00:00.000000000  "
      ]
     },
     "execution_count": 34,
     "metadata": {},
     "output_type": "execute_result"
    },
    {
     "name": "stdout",
     "output_type": "stream",
     "text": [
      "time: 12 ms\n"
     ]
    }
   ],
   "source": [
    "dfs[vitals_df].head()"
   ]
  },
  {
   "cell_type": "code",
   "execution_count": 35,
   "metadata": {},
   "outputs": [
    {
     "data": {
      "text/plain": [
       "array(['MeanArtPress', 'SysBP', 'HeartRate', 'RespRate', 'SpO2', 'TempF',\n",
       "       'Glucose', 'DiasBP', 'fio2_chartevents', nan, 'TempC'],\n",
       "      dtype=object)"
      ]
     },
     "execution_count": 35,
     "metadata": {},
     "output_type": "execute_result"
    },
    {
     "name": "stdout",
     "output_type": "stream",
     "text": [
      "time: 485 ms\n"
     ]
    }
   ],
   "source": [
    "dfs[vitals_df].loc[:,'vitalid'].unique()"
   ]
  },
  {
   "cell_type": "code",
   "execution_count": 36,
   "metadata": {},
   "outputs": [
    {
     "data": {
      "text/html": [
       "<div>\n",
       "<style scoped>\n",
       "    .dataframe tbody tr th:only-of-type {\n",
       "        vertical-align: middle;\n",
       "    }\n",
       "\n",
       "    .dataframe tbody tr th {\n",
       "        vertical-align: top;\n",
       "    }\n",
       "\n",
       "    .dataframe thead th {\n",
       "        text-align: right;\n",
       "    }\n",
       "</style>\n",
       "<table border=\"1\" class=\"dataframe\">\n",
       "  <thead>\n",
       "    <tr style=\"text-align: right;\">\n",
       "      <th></th>\n",
       "      <th>subject_id</th>\n",
       "      <th>hadm_id</th>\n",
       "      <th>icustay_id</th>\n",
       "      <th>charttime</th>\n",
       "      <th>label</th>\n",
       "      <th>valuenum</th>\n",
       "      <th>value</th>\n",
       "      <th>valueuom</th>\n",
       "      <th>unique_var</th>\n",
       "      <th>t_0</th>\n",
       "      <th>delta</th>\n",
       "    </tr>\n",
       "  </thead>\n",
       "  <tbody>\n",
       "  </tbody>\n",
       "</table>\n",
       "</div>"
      ],
      "text/plain": [
       "Empty DataFrame\n",
       "Columns: [subject_id, hadm_id, icustay_id, charttime, label, valuenum, value, valueuom, unique_var, t_0, delta]\n",
       "Index: []"
      ]
     },
     "execution_count": 36,
     "metadata": {},
     "output_type": "execute_result"
    },
    {
     "name": "stdout",
     "output_type": "stream",
     "text": [
      "time: 80 ms\n"
     ]
    }
   ],
   "source": [
    "dfs[bg_df].loc[dfs[bg_df].loc[:,'label']=='fio2_chartevents',:]#unique()"
   ]
  },
  {
   "cell_type": "code",
   "execution_count": 37,
   "metadata": {},
   "outputs": [
    {
     "name": "stdout",
     "output_type": "stream",
     "text": [
      "time: 22.1 s\n"
     ]
    }
   ],
   "source": [
    "dfs[vitals_df] = dfs[vitals_df].rename(index=str, columns={\"valueuom\":\"uom\",\"vitalid\":'label', 'valuenum':'value'}) #change valueom to uom\n",
    "dfs[vitals_df] = dfs[vitals_df].loc[dfs[vitals_df]['label'].notnull(),:]#.count() #removing null values\n",
    "\n",
    "\n",
    "dfs[vitals_df].loc[dfs[vitals_df].loc[:,'uom']=='BPM','uom']='bpm'\n",
    "\n",
    "#overall the values are extremely similar and are likely the same thing\n",
    "#i will combine them.\n",
    "dfs[vitals_df].loc[\n",
    "    (dfs[vitals_df]['label']=='RespRate') & \n",
    "    (dfs[vitals_df]['uom']=='bpm'),'uom']='insp/min'\n",
    "\n",
    "dfs[vitals_df].loc[\n",
    "    (dfs[vitals_df]['label']=='TempC') & \n",
    "    (dfs[vitals_df]['uom']=='?C'),'uom']='Deg. C'\n",
    "\n",
    "dfs[vitals_df].loc[\n",
    "    (dfs[vitals_df]['label']=='TempF') & \n",
    "    (dfs[vitals_df]['uom']=='Deg. F'),'uom']='Deg. C'\n",
    "\n",
    "dfs[vitals_df].loc[\n",
    "    (dfs[vitals_df]['label']=='TempF') & \n",
    "    (dfs[vitals_df]['uom']=='?F'),'uom']='Deg. C'\n",
    "\n",
    "dfs[vitals_df].loc[\n",
    "    (dfs[vitals_df]['label']=='TempF'),'label']='temperature'\n",
    "\n",
    "dfs[vitals_df].loc[\n",
    "    (dfs[vitals_df]['label']=='TempC'),'label']='temperature'"
   ]
  },
  {
   "cell_type": "markdown",
   "metadata": {},
   "source": [
    "- glucose max\n",
    "- glucose min\n",
    "- diasBP min\n",
    "- heartrate min\n",
    "- meanart pressure min\n",
    "- RespRate min\n",
    "- SYSbp min\n",
    "- TEMPC min"
   ]
  },
  {
   "cell_type": "code",
   "execution_count": null,
   "metadata": {},
   "outputs": [],
   "source": []
  },
  {
   "cell_type": "markdown",
   "metadata": {},
   "source": [
    "### most likely erroneous value removal"
   ]
  },
  {
   "cell_type": "code",
   "execution_count": 38,
   "metadata": {},
   "outputs": [
    {
     "name": "stdout",
     "output_type": "stream",
     "text": [
      "time: 3.37 s\n"
     ]
    }
   ],
   "source": [
    "#erroneous value cutoff summary\n",
    "## setting a conservative threshold for erroneous values to not skew my data.\n",
    "\n",
    "(dfs[vitals_df].loc[(dfs[vitals_df].loc[:,'icustay_id']==228393.0) &\n",
    "                         (dfs[vitals_df].loc[:,'label']=='Glucose') &\n",
    "                         (dfs[vitals_df].loc[:,'value']>99999), 'value'])=np.nan\n",
    "\n",
    "(dfs[vitals_df].loc[(dfs[vitals_df].loc[:,'label']=='Glucose') &\n",
    "                         (dfs[vitals_df].loc[:,'value']>99998), 'value'])=np.nan\n",
    "\n",
    "(dfs[vitals_df].loc[(dfs[vitals_df].loc[:,'label']=='Glucose') &\n",
    "                         (dfs[vitals_df].loc[:,'value']<15), 'value'])=np.nan\n",
    "\n",
    "(dfs[vitals_df].loc[(dfs[vitals_df].loc[:,'label']=='DiasBP') &\n",
    "                         (dfs[vitals_df].loc[:,'value']<15), 'value'])=np.nan\n",
    "\n",
    "(dfs[vitals_df].loc[(dfs[vitals_df].loc[:,'label']=='HeartRate') &\n",
    "                         (dfs[vitals_df].loc[:,'value'].between(1,29)), 'value'])=np.nan\n",
    "\n",
    "(dfs[vitals_df].loc[(dfs[vitals_df].loc[:,'label']=='RespRate') &\n",
    "                         (dfs[vitals_df].loc[:,'value']<4), 'value'])=np.nan\n",
    "\n",
    "(dfs[vitals_df].loc[(dfs[vitals_df].loc[:,'label']=='SysBP') &\n",
    "                         (dfs[vitals_df].loc[:,'value']<40), 'value'])=np.nan\n",
    "\n",
    "(dfs[vitals_df].loc[(dfs[vitals_df].loc[:,'label']=='TempC') &\n",
    "                         (dfs[vitals_df].loc[:,'value']<28), 'value'])=np.nan"
   ]
  },
  {
   "cell_type": "code",
   "execution_count": 39,
   "metadata": {},
   "outputs": [
    {
     "name": "stdout",
     "output_type": "stream",
     "text": [
      "time: 5.86 s\n"
     ]
    }
   ],
   "source": [
    "dfs[vitals_df] = dfs[vitals_df].loc[dfs[vitals_df]['value'].notnull(),:]#.count() \n"
   ]
  },
  {
   "cell_type": "code",
   "execution_count": 40,
   "metadata": {},
   "outputs": [
    {
     "name": "stdout",
     "output_type": "stream",
     "text": [
      "time: 7.45 s\n"
     ]
    }
   ],
   "source": [
    "### saving spo2 for later use in bloodgas 11/25/19\n",
    "spo2=dfs[vitals_df][dfs[vitals_df]['label']=='SpO2'].copy()\n",
    "\n",
    "### seperating fio2 out\n",
    "fio2_chart_df = dfs[vitals_df].loc[dfs[vitals_df].loc[:,'label']=='fio2_chartevents',:]#unique()\n",
    "dfs[vitals_df]= dfs[vitals_df].loc[dfs[vitals_df].loc[:,'label']!='fio2_chartevents',:]"
   ]
  },
  {
   "cell_type": "code",
   "execution_count": 41,
   "metadata": {},
   "outputs": [
    {
     "name": "stdout",
     "output_type": "stream",
     "text": [
      "time: 55.5 s\n"
     ]
    }
   ],
   "source": [
    "save_df(dfs[vitals_df], 'vitals')\n",
    "del(dfs[vitals_df])\n"
   ]
  },
  {
   "cell_type": "code",
   "execution_count": null,
   "metadata": {},
   "outputs": [],
   "source": []
  },
  {
   "cell_type": "markdown",
   "metadata": {},
   "source": [
    "# labs -"
   ]
  },
  {
   "cell_type": "code",
   "execution_count": 19,
   "metadata": {},
   "outputs": [
    {
     "data": {
      "text/html": [
       "<div>\n",
       "<style scoped>\n",
       "    .dataframe tbody tr th:only-of-type {\n",
       "        vertical-align: middle;\n",
       "    }\n",
       "\n",
       "    .dataframe tbody tr th {\n",
       "        vertical-align: top;\n",
       "    }\n",
       "\n",
       "    .dataframe thead th {\n",
       "        text-align: right;\n",
       "    }\n",
       "</style>\n",
       "<table border=\"1\" class=\"dataframe\">\n",
       "  <thead>\n",
       "    <tr style=\"text-align: right;\">\n",
       "      <th></th>\n",
       "      <th>subject_id</th>\n",
       "      <th>hadm_id</th>\n",
       "      <th>icustay_id</th>\n",
       "      <th>charttime</th>\n",
       "      <th>label</th>\n",
       "      <th>valuenum</th>\n",
       "      <th>uom</th>\n",
       "      <th>t_0</th>\n",
       "      <th>delta</th>\n",
       "    </tr>\n",
       "  </thead>\n",
       "  <tbody>\n",
       "    <tr>\n",
       "      <th>1</th>\n",
       "      <td>4</td>\n",
       "      <td>185777</td>\n",
       "      <td>294638</td>\n",
       "      <td>2191-03-16 05:42:00</td>\n",
       "      <td>ANION GAP</td>\n",
       "      <td>15.0</td>\n",
       "      <td>mEq/L</td>\n",
       "      <td>2191-03-16</td>\n",
       "      <td>0 days 05:42:00.000000000</td>\n",
       "    </tr>\n",
       "    <tr>\n",
       "      <th>2</th>\n",
       "      <td>4</td>\n",
       "      <td>185777</td>\n",
       "      <td>294638</td>\n",
       "      <td>2191-03-17 06:00:00</td>\n",
       "      <td>ANION GAP</td>\n",
       "      <td>15.0</td>\n",
       "      <td>mEq/L</td>\n",
       "      <td>2191-03-16</td>\n",
       "      <td>1 days 06:00:00.000000000</td>\n",
       "    </tr>\n",
       "    <tr>\n",
       "      <th>3</th>\n",
       "      <td>4</td>\n",
       "      <td>185777</td>\n",
       "      <td>294638</td>\n",
       "      <td>2191-03-18 08:00:00</td>\n",
       "      <td>ANION GAP</td>\n",
       "      <td>24.0</td>\n",
       "      <td>mEq/L</td>\n",
       "      <td>2191-03-16</td>\n",
       "      <td>2 days 08:00:00.000000000</td>\n",
       "    </tr>\n",
       "    <tr>\n",
       "      <th>9</th>\n",
       "      <td>4</td>\n",
       "      <td>185777</td>\n",
       "      <td>294638</td>\n",
       "      <td>2191-03-16 05:42:00</td>\n",
       "      <td>BICARBONATE</td>\n",
       "      <td>21.0</td>\n",
       "      <td>mEq/L</td>\n",
       "      <td>2191-03-16</td>\n",
       "      <td>0 days 05:42:00.000000000</td>\n",
       "    </tr>\n",
       "    <tr>\n",
       "      <th>10</th>\n",
       "      <td>4</td>\n",
       "      <td>185777</td>\n",
       "      <td>294638</td>\n",
       "      <td>2191-03-17 06:00:00</td>\n",
       "      <td>BICARBONATE</td>\n",
       "      <td>21.0</td>\n",
       "      <td>mEq/L</td>\n",
       "      <td>2191-03-16</td>\n",
       "      <td>1 days 06:00:00.000000000</td>\n",
       "    </tr>\n",
       "    <tr>\n",
       "      <th>11</th>\n",
       "      <td>4</td>\n",
       "      <td>185777</td>\n",
       "      <td>294638</td>\n",
       "      <td>2191-03-18 08:00:00</td>\n",
       "      <td>BICARBONATE</td>\n",
       "      <td>21.0</td>\n",
       "      <td>mEq/L</td>\n",
       "      <td>2191-03-16</td>\n",
       "      <td>2 days 08:00:00.000000000</td>\n",
       "    </tr>\n",
       "    <tr>\n",
       "      <th>17</th>\n",
       "      <td>4</td>\n",
       "      <td>185777</td>\n",
       "      <td>294638</td>\n",
       "      <td>2191-03-16 05:42:00</td>\n",
       "      <td>BILIRUBIN</td>\n",
       "      <td>1.9</td>\n",
       "      <td>mg/dL</td>\n",
       "      <td>2191-03-16</td>\n",
       "      <td>0 days 05:42:00.000000000</td>\n",
       "    </tr>\n",
       "    <tr>\n",
       "      <th>19</th>\n",
       "      <td>4</td>\n",
       "      <td>185777</td>\n",
       "      <td>294638</td>\n",
       "      <td>2191-03-16 05:42:00</td>\n",
       "      <td>CHLORIDE</td>\n",
       "      <td>108.0</td>\n",
       "      <td>mEq/L</td>\n",
       "      <td>2191-03-16</td>\n",
       "      <td>0 days 05:42:00.000000000</td>\n",
       "    </tr>\n",
       "    <tr>\n",
       "      <th>20</th>\n",
       "      <td>4</td>\n",
       "      <td>185777</td>\n",
       "      <td>294638</td>\n",
       "      <td>2191-03-17 06:00:00</td>\n",
       "      <td>CHLORIDE</td>\n",
       "      <td>106.0</td>\n",
       "      <td>mEq/L</td>\n",
       "      <td>2191-03-16</td>\n",
       "      <td>1 days 06:00:00.000000000</td>\n",
       "    </tr>\n",
       "    <tr>\n",
       "      <th>21</th>\n",
       "      <td>4</td>\n",
       "      <td>185777</td>\n",
       "      <td>294638</td>\n",
       "      <td>2191-03-18 08:00:00</td>\n",
       "      <td>CHLORIDE</td>\n",
       "      <td>96.0</td>\n",
       "      <td>mEq/L</td>\n",
       "      <td>2191-03-16</td>\n",
       "      <td>2 days 08:00:00.000000000</td>\n",
       "    </tr>\n",
       "  </tbody>\n",
       "</table>\n",
       "</div>"
      ],
      "text/plain": [
       "    subject_id  hadm_id  icustay_id            charttime        label  \\\n",
       "1            4   185777      294638  2191-03-16 05:42:00    ANION GAP   \n",
       "2            4   185777      294638  2191-03-17 06:00:00    ANION GAP   \n",
       "3            4   185777      294638  2191-03-18 08:00:00    ANION GAP   \n",
       "9            4   185777      294638  2191-03-16 05:42:00  BICARBONATE   \n",
       "10           4   185777      294638  2191-03-17 06:00:00  BICARBONATE   \n",
       "11           4   185777      294638  2191-03-18 08:00:00  BICARBONATE   \n",
       "17           4   185777      294638  2191-03-16 05:42:00    BILIRUBIN   \n",
       "19           4   185777      294638  2191-03-16 05:42:00     CHLORIDE   \n",
       "20           4   185777      294638  2191-03-17 06:00:00     CHLORIDE   \n",
       "21           4   185777      294638  2191-03-18 08:00:00     CHLORIDE   \n",
       "\n",
       "    valuenum    uom         t_0                      delta  \n",
       "1       15.0  mEq/L  2191-03-16  0 days 05:42:00.000000000  \n",
       "2       15.0  mEq/L  2191-03-16  1 days 06:00:00.000000000  \n",
       "3       24.0  mEq/L  2191-03-16  2 days 08:00:00.000000000  \n",
       "9       21.0  mEq/L  2191-03-16  0 days 05:42:00.000000000  \n",
       "10      21.0  mEq/L  2191-03-16  1 days 06:00:00.000000000  \n",
       "11      21.0  mEq/L  2191-03-16  2 days 08:00:00.000000000  \n",
       "17       1.9  mg/dL  2191-03-16  0 days 05:42:00.000000000  \n",
       "19     108.0  mEq/L  2191-03-16  0 days 05:42:00.000000000  \n",
       "20     106.0  mEq/L  2191-03-16  1 days 06:00:00.000000000  \n",
       "21      96.0  mEq/L  2191-03-16  2 days 08:00:00.000000000  "
      ]
     },
     "execution_count": 19,
     "metadata": {},
     "output_type": "execute_result"
    },
    {
     "name": "stdout",
     "output_type": "stream",
     "text": [
      "time: 10.6 ms\n"
     ]
    }
   ],
   "source": [
    "dfs[labs_df].head(10)"
   ]
  },
  {
   "cell_type": "code",
   "execution_count": 42,
   "metadata": {},
   "outputs": [
    {
     "name": "stdout",
     "output_type": "stream",
     "text": [
      "time: 518 ms\n"
     ]
    }
   ],
   "source": [
    "dfs[labs_df]= dfs[labs_df].rename(\n",
    "    columns={'valuenum':'value'}) #changing valuenum to value"
   ]
  },
  {
   "cell_type": "code",
   "execution_count": 43,
   "metadata": {},
   "outputs": [
    {
     "data": {
      "text/plain": [
       "label        uom    \n",
       "ALBUMIN      g/dL        14912\n",
       "ANION GAP    mEq/L       83409\n",
       "BANDS        %            4843\n",
       "BICARBONATE  mEq/L       84820\n",
       "BILIRUBIN    mg/dL       24769\n",
       "BUN          mg/dL       85337\n",
       "CHLORIDE     mEq/L       93743\n",
       "CREATININE   mg/dL       85693\n",
       "GLUCOSE      mg/dL      112687\n",
       "HEMATOCRIT   %          109150\n",
       "HEMOGLOBIN   g/dL        89535\n",
       "LACTATE      mmol/L      47228\n",
       "PLATELET     K/uL        80029\n",
       "POTASSIUM    mEq/L      118541\n",
       "PT           SECONDS     55471\n",
       "PTT          sec         58409\n",
       "SODIUM       mEq/L       97904\n",
       "WBC          K/uL        77085\n",
       "Name: uom, dtype: int64"
      ]
     },
     "execution_count": 43,
     "metadata": {},
     "output_type": "execute_result"
    },
    {
     "name": "stdout",
     "output_type": "stream",
     "text": [
      "time: 398 ms\n"
     ]
    }
   ],
   "source": [
    "dfs[labs_df].groupby('label')['uom'].value_counts() #looks good"
   ]
  },
  {
   "cell_type": "markdown",
   "metadata": {},
   "source": [
    "### most likely erroneous value removal"
   ]
  },
  {
   "cell_type": "code",
   "execution_count": 44,
   "metadata": {},
   "outputs": [
    {
     "name": "stdout",
     "output_type": "stream",
     "text": [
      "time: 660 ms\n"
     ]
    }
   ],
   "source": [
    "#summary value removal- was explored and coded adhoc, difficult to automate\n",
    "(dfs[labs_df].loc[\n",
    "    (dfs[labs_df].loc[:,'icustay_id']==261887) & \n",
    "    (dfs[labs_df].loc[:,'label']=='CHLORIDE')\n",
    "    & (dfs[labs_df].loc[:,'value']==3.4),'value'])=np.nan\n",
    "\n",
    "(dfs[labs_df].loc[\n",
    "    (dfs[labs_df].loc[:,'icustay_id']==236290) & \n",
    "    (dfs[labs_df].loc[:,'label']=='CHLORIDE')\n",
    "    & (dfs[labs_df].loc[:,'value']==11.0),'value'])=np.nan\n",
    "\n",
    "(dfs[labs_df].loc[\n",
    "    (dfs[labs_df].loc[:,'icustay_id']==292769) & \n",
    "    (dfs[labs_df].loc[:,'label']=='INR')\n",
    "    & (dfs[labs_df].loc[:,'value']==28.1),'value'])=np.nan\n",
    "\n",
    "(dfs[labs_df].loc[\n",
    "    (dfs[labs_df].loc[:,'icustay_id']==298457) & \n",
    "    (dfs[labs_df].loc[:,'label']=='INR')\n",
    "    & (dfs[labs_df].loc[:,'value']==48.8),'value'])=np.nan\n",
    "\n",
    "(dfs[labs_df].loc[\n",
    "    (dfs[labs_df].loc[:,'icustay_id']==234174) & \n",
    "    (dfs[labs_df].loc[:,'label']=='INR')\n",
    "    & (dfs[labs_df].loc[:,'value']==48.7),'value'])=np.nan\n",
    "\n",
    "(dfs[labs_df].loc[\n",
    "    (dfs[labs_df].loc[:,'icustay_id']==290264) & \n",
    "    (dfs[labs_df].loc[:,'label']=='INR')\n",
    "    & (dfs[labs_df].loc[:,'value']==42.0),'value'])=np.nan\n",
    "\n",
    "(dfs[labs_df].loc[\n",
    "    (dfs[labs_df].loc[:,'icustay_id']==290264) & \n",
    "    (dfs[labs_df].loc[:,'label']=='INR')\n",
    "    & (dfs[labs_df].loc[:,'value']==22.8),'value'])=np.nan"
   ]
  },
  {
   "cell_type": "code",
   "execution_count": 45,
   "metadata": {},
   "outputs": [
    {
     "name": "stdout",
     "output_type": "stream",
     "text": [
      "time: 123 ms\n"
     ]
    }
   ],
   "source": [
    "dfs[labs_df]= dfs[labs_df].loc[dfs[labs_df].loc[:,'value'].notnull(),:] #removing null values\n"
   ]
  },
  {
   "cell_type": "code",
   "execution_count": 46,
   "metadata": {},
   "outputs": [
    {
     "data": {
      "text/html": [
       "<div>\n",
       "<style scoped>\n",
       "    .dataframe tbody tr th:only-of-type {\n",
       "        vertical-align: middle;\n",
       "    }\n",
       "\n",
       "    .dataframe tbody tr th {\n",
       "        vertical-align: top;\n",
       "    }\n",
       "\n",
       "    .dataframe thead th {\n",
       "        text-align: right;\n",
       "    }\n",
       "</style>\n",
       "<table border=\"1\" class=\"dataframe\">\n",
       "  <thead>\n",
       "    <tr style=\"text-align: right;\">\n",
       "      <th></th>\n",
       "      <th>subject_id</th>\n",
       "      <th>hadm_id</th>\n",
       "      <th>icustay_id</th>\n",
       "      <th>charttime</th>\n",
       "      <th>label</th>\n",
       "      <th>value</th>\n",
       "      <th>uom</th>\n",
       "      <th>t_0</th>\n",
       "      <th>delta</th>\n",
       "    </tr>\n",
       "  </thead>\n",
       "  <tbody>\n",
       "    <tr>\n",
       "      <th>1</th>\n",
       "      <td>4</td>\n",
       "      <td>185777</td>\n",
       "      <td>294638</td>\n",
       "      <td>2191-03-16 05:42:00</td>\n",
       "      <td>ANION GAP</td>\n",
       "      <td>15.0</td>\n",
       "      <td>mEq/L</td>\n",
       "      <td>2191-03-16</td>\n",
       "      <td>0 days 05:42:00.000000000</td>\n",
       "    </tr>\n",
       "    <tr>\n",
       "      <th>2</th>\n",
       "      <td>4</td>\n",
       "      <td>185777</td>\n",
       "      <td>294638</td>\n",
       "      <td>2191-03-17 06:00:00</td>\n",
       "      <td>ANION GAP</td>\n",
       "      <td>15.0</td>\n",
       "      <td>mEq/L</td>\n",
       "      <td>2191-03-16</td>\n",
       "      <td>1 days 06:00:00.000000000</td>\n",
       "    </tr>\n",
       "    <tr>\n",
       "      <th>3</th>\n",
       "      <td>4</td>\n",
       "      <td>185777</td>\n",
       "      <td>294638</td>\n",
       "      <td>2191-03-18 08:00:00</td>\n",
       "      <td>ANION GAP</td>\n",
       "      <td>24.0</td>\n",
       "      <td>mEq/L</td>\n",
       "      <td>2191-03-16</td>\n",
       "      <td>2 days 08:00:00.000000000</td>\n",
       "    </tr>\n",
       "    <tr>\n",
       "      <th>9</th>\n",
       "      <td>4</td>\n",
       "      <td>185777</td>\n",
       "      <td>294638</td>\n",
       "      <td>2191-03-16 05:42:00</td>\n",
       "      <td>BICARBONATE</td>\n",
       "      <td>21.0</td>\n",
       "      <td>mEq/L</td>\n",
       "      <td>2191-03-16</td>\n",
       "      <td>0 days 05:42:00.000000000</td>\n",
       "    </tr>\n",
       "    <tr>\n",
       "      <th>10</th>\n",
       "      <td>4</td>\n",
       "      <td>185777</td>\n",
       "      <td>294638</td>\n",
       "      <td>2191-03-17 06:00:00</td>\n",
       "      <td>BICARBONATE</td>\n",
       "      <td>21.0</td>\n",
       "      <td>mEq/L</td>\n",
       "      <td>2191-03-16</td>\n",
       "      <td>1 days 06:00:00.000000000</td>\n",
       "    </tr>\n",
       "  </tbody>\n",
       "</table>\n",
       "</div>"
      ],
      "text/plain": [
       "    subject_id  hadm_id  icustay_id            charttime        label  value  \\\n",
       "1            4   185777      294638  2191-03-16 05:42:00    ANION GAP   15.0   \n",
       "2            4   185777      294638  2191-03-17 06:00:00    ANION GAP   15.0   \n",
       "3            4   185777      294638  2191-03-18 08:00:00    ANION GAP   24.0   \n",
       "9            4   185777      294638  2191-03-16 05:42:00  BICARBONATE   21.0   \n",
       "10           4   185777      294638  2191-03-17 06:00:00  BICARBONATE   21.0   \n",
       "\n",
       "      uom         t_0                      delta  \n",
       "1   mEq/L  2191-03-16  0 days 05:42:00.000000000  \n",
       "2   mEq/L  2191-03-16  1 days 06:00:00.000000000  \n",
       "3   mEq/L  2191-03-16  2 days 08:00:00.000000000  \n",
       "9   mEq/L  2191-03-16  0 days 05:42:00.000000000  \n",
       "10  mEq/L  2191-03-16  1 days 06:00:00.000000000  "
      ]
     },
     "execution_count": 46,
     "metadata": {},
     "output_type": "execute_result"
    },
    {
     "name": "stdout",
     "output_type": "stream",
     "text": [
      "time: 15.7 ms\n"
     ]
    }
   ],
   "source": [
    "dfs[labs_df].head()"
   ]
  },
  {
   "cell_type": "code",
   "execution_count": 47,
   "metadata": {},
   "outputs": [
    {
     "name": "stdout",
     "output_type": "stream",
     "text": [
      "time: 110 ms\n"
     ]
    }
   ],
   "source": [
    "#removing unwanted values\n",
    "unwanted_values= ['HEMATOCRIT','ANION GAP','PT','ALBUMIN']\n",
    "dfs[labs_df]= dfs[labs_df].loc[~dfs[labs_df].loc[:,'label'].isin(unwanted_values),:]"
   ]
  },
  {
   "cell_type": "markdown",
   "metadata": {},
   "source": [
    "# factorizing bands start \n",
    "* converting bands into a categorical variable since it is very sparse"
   ]
  },
  {
   "cell_type": "code",
   "execution_count": 48,
   "metadata": {},
   "outputs": [
    {
     "name": "stdout",
     "output_type": "stream",
     "text": [
      "time: 53.1 ms\n"
     ]
    }
   ],
   "source": [
    "\n",
    "#df in format where each row corresponds to a test, and a patient can have many rows\n",
    "def yn_convert_band(df,           \n",
    "                    label_fill=\"absent\",\n",
    "                    threshold=10,\n",
    "                    pt= final_pt_df2,\n",
    "                    time_var='t_0',\n",
    "                    value_fill=9999,\n",
    "                    delta_fill=pd.to_timedelta('0 days'),\n",
    "                    uom_fill='y/n'):\n",
    "    \n",
    "    \"\"\"\n",
    "    binarizing bands value since it's extremely sparse. Wrote a new function instead of adjusting yn_convert a while back. on my todo to remove this and add functionality to regular yn_conmert function. \n",
    "    \"\"\"\n",
    "    \n",
    "    yn_df = pd.merge(pt[['icustay_id','hadm_id','subject_id', time_var]],\n",
    "                      df[['icustay_id','value','label','uom','delta']],\n",
    "                     left_on= 'icustay_id',\n",
    "                     right_on= 'icustay_id',\n",
    "                      how='left') #merging all icustay_id's with time_var, where value,label,uom, and delta are nan's if no value exists for that icustay. \n",
    "    #the idea is that if any value exists then it is pos.\n",
    "\n",
    "    yn_df['value']= yn_df['value'].fillna(value_fill) #converts na to 0 in above na rows.\n",
    "    criteria0=yn_df.loc[:,'value']==value_fill\n",
    "    criteria1=pd.to_numeric(yn_df.loc[:,'value'])<=threshold\n",
    "    criteria2=pd.to_numeric(yn_df.loc[:,'value'])>threshold\n",
    "\n",
    "\n",
    "    yn_df.loc[criteria1, 'value']= \"<{}\".format(threshold) \n",
    "    yn_df.loc[criteria2, 'value']= \">{}\".format(threshold) \n",
    "    yn_df.loc[criteria0, 'value']= \"absent\"\n",
    "\n",
    "    yn_df['delta']= yn_df['delta'].fillna(delta_fill)\n",
    "    yn_df['delta']= pd.to_timedelta(yn_df['delta']) #filling in the time delta to time =0 for filled rows\n",
    "    yn_df['uom']= yn_df['uom'].fillna(uom_fill)\n",
    "    yn_df.loc[yn_df.loc[:,'uom']!=uom_fill, 'uom']= uom_fill\n",
    "    yn_df['label']= yn_df['label'].fillna(label_fill)\n",
    "    \n",
    "    return(yn_df)\n",
    "    "
   ]
  },
  {
   "cell_type": "code",
   "execution_count": 49,
   "metadata": {},
   "outputs": [
    {
     "name": "stdout",
     "output_type": "stream",
     "text": [
      "time: 743 ms\n"
     ]
    }
   ],
   "source": [
    "band_df=dfs[labs_df][dfs[labs_df]['label']=='BANDS']\n",
    "max_bands=band_df.loc[band_df.groupby('icustay_id', as_index=False)['value'].idxmax(),:]\n",
    "del(band_df)"
   ]
  },
  {
   "cell_type": "code",
   "execution_count": 50,
   "metadata": {},
   "outputs": [
    {
     "name": "stdout",
     "output_type": "stream",
     "text": [
      "time: 141 ms\n"
     ]
    }
   ],
   "source": [
    "band_cat=yn_convert_band(df=max_bands,           \n",
    "                    label_fill=\"BANDS\",\n",
    "                    threshold=10,\n",
    "                    pt= final_pt_df2,\n",
    "                    time_var='t_0',\n",
    "                    value_fill=9999,\n",
    "                    delta_fill=pd.to_timedelta('0 days'),\n",
    "                    uom_fill='y/n')"
   ]
  },
  {
   "cell_type": "code",
   "execution_count": 51,
   "metadata": {},
   "outputs": [
    {
     "name": "stderr",
     "output_type": "stream",
     "text": [
      "/Users/geickelb1/anaconda/envs/rpy-env/lib/python3.6/site-packages/pandas/core/frame.py:6692: FutureWarning: Sorting because non-concatenation axis is not aligned. A future version\n",
      "of pandas will change to not sort by default.\n",
      "\n",
      "To accept the future behavior, pass 'sort=False'.\n",
      "\n",
      "To retain the current behavior and silence the warning, pass 'sort=True'.\n",
      "\n",
      "  sort=sort)\n"
     ]
    },
    {
     "name": "stdout",
     "output_type": "stream",
     "text": [
      "time: 617 ms\n"
     ]
    }
   ],
   "source": [
    "#drop bands from lab_df\n",
    "dfs[labs_df]=dfs[labs_df].drop(dfs[labs_df][dfs[labs_df]['label']=='BANDS'].index)\n",
    "\n",
    "##dropping charttime, may be problematic later.\n",
    "dfs[labs_df]=dfs[labs_df].drop('charttime', axis=1)\n",
    "\n",
    "#appending categorical bands \n",
    "dfs[labs_df]=dfs[labs_df].append(band_cat)"
   ]
  },
  {
   "cell_type": "code",
   "execution_count": 52,
   "metadata": {},
   "outputs": [
    {
     "data": {
      "text/plain": [
       "absent    16231\n",
       "<10        2226\n",
       ">10        1176\n",
       "Name: value, dtype: int64"
      ]
     },
     "execution_count": 52,
     "metadata": {},
     "output_type": "execute_result"
    },
    {
     "name": "stdout",
     "output_type": "stream",
     "text": [
      "time: 69 ms\n"
     ]
    }
   ],
   "source": [
    "dfs[labs_df].loc[dfs[labs_df]['label']=='BANDS','value'].value_counts()"
   ]
  },
  {
   "cell_type": "code",
   "execution_count": 53,
   "metadata": {},
   "outputs": [
    {
     "name": "stdout",
     "output_type": "stream",
     "text": [
      "time: 7.27 s\n"
     ]
    }
   ],
   "source": [
    "# pd.DataFrame(dfs[labs_df]).to_csv(Path(\n",
    "#     save_path+'/%s_labs_prepped.csv' %(date)))\n",
    "\n",
    "save_df(dfs[labs_df], 'labs')\n",
    "del(dfs[labs_df])"
   ]
  },
  {
   "cell_type": "markdown",
   "metadata": {},
   "source": [
    "## vent category -"
   ]
  },
  {
   "cell_type": "code",
   "execution_count": 54,
   "metadata": {},
   "outputs": [
    {
     "data": {
      "text/plain": [
       "19471"
      ]
     },
     "execution_count": 54,
     "metadata": {},
     "output_type": "execute_result"
    },
    {
     "name": "stdout",
     "output_type": "stream",
     "text": [
      "time: 4.21 ms\n"
     ]
    }
   ],
   "source": [
    "dfs[vent_df]['icustay_id'].nunique()\n",
    "#13978 patients with someform of vent data. "
   ]
  },
  {
   "cell_type": "code",
   "execution_count": 55,
   "metadata": {},
   "outputs": [
    {
     "data": {
      "text/html": [
       "<div>\n",
       "<style scoped>\n",
       "    .dataframe tbody tr th:only-of-type {\n",
       "        vertical-align: middle;\n",
       "    }\n",
       "\n",
       "    .dataframe tbody tr th {\n",
       "        vertical-align: top;\n",
       "    }\n",
       "\n",
       "    .dataframe thead th {\n",
       "        text-align: right;\n",
       "    }\n",
       "</style>\n",
       "<table border=\"1\" class=\"dataframe\">\n",
       "  <thead>\n",
       "    <tr style=\"text-align: right;\">\n",
       "      <th></th>\n",
       "      <th>icustay_id</th>\n",
       "      <th>day</th>\n",
       "      <th>value</th>\n",
       "      <th>uom</th>\n",
       "      <th>t_0</th>\n",
       "    </tr>\n",
       "  </thead>\n",
       "  <tbody>\n",
       "    <tr>\n",
       "      <th>0</th>\n",
       "      <td>200001.0</td>\n",
       "      <td>0</td>\n",
       "      <td>Oxygen</td>\n",
       "      <td>mech/O2/none category</td>\n",
       "      <td>2181-11-26</td>\n",
       "    </tr>\n",
       "    <tr>\n",
       "      <th>1</th>\n",
       "      <td>200001.0</td>\n",
       "      <td>1</td>\n",
       "      <td>Oxygen</td>\n",
       "      <td>mech/O2/none category</td>\n",
       "      <td>2181-11-26</td>\n",
       "    </tr>\n",
       "    <tr>\n",
       "      <th>2</th>\n",
       "      <td>200001.0</td>\n",
       "      <td>2</td>\n",
       "      <td>Oxygen</td>\n",
       "      <td>mech/O2/none category</td>\n",
       "      <td>2181-11-26</td>\n",
       "    </tr>\n",
       "    <tr>\n",
       "      <th>3</th>\n",
       "      <td>200003.0</td>\n",
       "      <td>0</td>\n",
       "      <td>Mech</td>\n",
       "      <td>mech/O2/none category</td>\n",
       "      <td>2199-08-04</td>\n",
       "    </tr>\n",
       "    <tr>\n",
       "      <th>4</th>\n",
       "      <td>200003.0</td>\n",
       "      <td>1</td>\n",
       "      <td>Mech</td>\n",
       "      <td>mech/O2/none category</td>\n",
       "      <td>2199-08-04</td>\n",
       "    </tr>\n",
       "  </tbody>\n",
       "</table>\n",
       "</div>"
      ],
      "text/plain": [
       "   icustay_id  day   value                    uom         t_0\n",
       "0    200001.0    0  Oxygen  mech/O2/none category  2181-11-26\n",
       "1    200001.0    1  Oxygen  mech/O2/none category  2181-11-26\n",
       "2    200001.0    2  Oxygen  mech/O2/none category  2181-11-26\n",
       "3    200003.0    0    Mech  mech/O2/none category  2199-08-04\n",
       "4    200003.0    1    Mech  mech/O2/none category  2199-08-04"
      ]
     },
     "execution_count": 55,
     "metadata": {},
     "output_type": "execute_result"
    },
    {
     "name": "stdout",
     "output_type": "stream",
     "text": [
      "time: 12 ms\n"
     ]
    }
   ],
   "source": [
    "dfs[vent_df]['uom']='mech/O2/none category'\n",
    "dfs[vent_df].head()"
   ]
  },
  {
   "cell_type": "code",
   "execution_count": 56,
   "metadata": {},
   "outputs": [
    {
     "name": "stdout",
     "output_type": "stream",
     "text": [
      "time: 60.4 ms\n"
     ]
    }
   ],
   "source": [
    "dfs[vent_df]=dfs[vent_df].rename(index=str, columns={'day':'delta'})\n",
    "dfs[vent_df]['label']='vent_recieved'\n",
    "dfs[vent_df]['delta']=pd.to_timedelta(dfs[vent_df]['delta'], unit='d')\n",
    "#dfs[vent_df]= dfs[vent_df].drop(columns=['day'], axis=1) #removing day column"
   ]
  },
  {
   "cell_type": "code",
   "execution_count": 57,
   "metadata": {},
   "outputs": [
    {
     "data": {
      "text/html": [
       "<div>\n",
       "<style scoped>\n",
       "    .dataframe tbody tr th:only-of-type {\n",
       "        vertical-align: middle;\n",
       "    }\n",
       "\n",
       "    .dataframe tbody tr th {\n",
       "        vertical-align: top;\n",
       "    }\n",
       "\n",
       "    .dataframe thead th {\n",
       "        text-align: right;\n",
       "    }\n",
       "</style>\n",
       "<table border=\"1\" class=\"dataframe\">\n",
       "  <thead>\n",
       "    <tr style=\"text-align: right;\">\n",
       "      <th></th>\n",
       "      <th>icustay_id</th>\n",
       "      <th>delta</th>\n",
       "      <th>value</th>\n",
       "      <th>uom</th>\n",
       "      <th>t_0</th>\n",
       "      <th>label</th>\n",
       "    </tr>\n",
       "  </thead>\n",
       "  <tbody>\n",
       "    <tr>\n",
       "      <th>0</th>\n",
       "      <td>200001.0</td>\n",
       "      <td>0 days</td>\n",
       "      <td>Oxygen</td>\n",
       "      <td>mech/O2/none category</td>\n",
       "      <td>2181-11-26</td>\n",
       "      <td>vent_recieved</td>\n",
       "    </tr>\n",
       "    <tr>\n",
       "      <th>1</th>\n",
       "      <td>200001.0</td>\n",
       "      <td>1 days</td>\n",
       "      <td>Oxygen</td>\n",
       "      <td>mech/O2/none category</td>\n",
       "      <td>2181-11-26</td>\n",
       "      <td>vent_recieved</td>\n",
       "    </tr>\n",
       "    <tr>\n",
       "      <th>2</th>\n",
       "      <td>200001.0</td>\n",
       "      <td>2 days</td>\n",
       "      <td>Oxygen</td>\n",
       "      <td>mech/O2/none category</td>\n",
       "      <td>2181-11-26</td>\n",
       "      <td>vent_recieved</td>\n",
       "    </tr>\n",
       "    <tr>\n",
       "      <th>3</th>\n",
       "      <td>200003.0</td>\n",
       "      <td>0 days</td>\n",
       "      <td>Mech</td>\n",
       "      <td>mech/O2/none category</td>\n",
       "      <td>2199-08-04</td>\n",
       "      <td>vent_recieved</td>\n",
       "    </tr>\n",
       "    <tr>\n",
       "      <th>4</th>\n",
       "      <td>200003.0</td>\n",
       "      <td>1 days</td>\n",
       "      <td>Mech</td>\n",
       "      <td>mech/O2/none category</td>\n",
       "      <td>2199-08-04</td>\n",
       "      <td>vent_recieved</td>\n",
       "    </tr>\n",
       "  </tbody>\n",
       "</table>\n",
       "</div>"
      ],
      "text/plain": [
       "   icustay_id  delta   value                    uom         t_0          label\n",
       "0    200001.0 0 days  Oxygen  mech/O2/none category  2181-11-26  vent_recieved\n",
       "1    200001.0 1 days  Oxygen  mech/O2/none category  2181-11-26  vent_recieved\n",
       "2    200001.0 2 days  Oxygen  mech/O2/none category  2181-11-26  vent_recieved\n",
       "3    200003.0 0 days    Mech  mech/O2/none category  2199-08-04  vent_recieved\n",
       "4    200003.0 1 days    Mech  mech/O2/none category  2199-08-04  vent_recieved"
      ]
     },
     "execution_count": 57,
     "metadata": {},
     "output_type": "execute_result"
    },
    {
     "name": "stdout",
     "output_type": "stream",
     "text": [
      "time: 10.8 ms\n"
     ]
    }
   ],
   "source": [
    "dfs[vent_df].head()"
   ]
  },
  {
   "cell_type": "code",
   "execution_count": 58,
   "metadata": {},
   "outputs": [
    {
     "name": "stdout",
     "output_type": "stream",
     "text": [
      "time: 579 µs\n"
     ]
    }
   ],
   "source": [
    "#collapsing into 1 column for N days"
   ]
  },
  {
   "cell_type": "code",
   "execution_count": 59,
   "metadata": {},
   "outputs": [
    {
     "name": "stdout",
     "output_type": "stream",
     "text": [
      "time: 5.57 ms\n"
     ]
    }
   ],
   "source": [
    "def vent_day_collapser(x):\n",
    "    \"\"\"\n",
    "    collapsing the ventilation days into a single value. Mech> Oxygen > None. \n",
    "    \"\"\"\n",
    "    \n",
    "    if 'Mech' in list(x.unique()):\n",
    "        x= 'Mech'\n",
    "    elif 'Oxygen' in list(x.unique()):\n",
    "        x= 'Oxygen'\n",
    "    else:\n",
    "        x='None'\n",
    "    return(x)"
   ]
  },
  {
   "cell_type": "code",
   "execution_count": 60,
   "metadata": {},
   "outputs": [
    {
     "data": {
      "text/html": [
       "<div>\n",
       "<style scoped>\n",
       "    .dataframe tbody tr th:only-of-type {\n",
       "        vertical-align: middle;\n",
       "    }\n",
       "\n",
       "    .dataframe tbody tr th {\n",
       "        vertical-align: top;\n",
       "    }\n",
       "\n",
       "    .dataframe thead th {\n",
       "        text-align: right;\n",
       "    }\n",
       "</style>\n",
       "<table border=\"1\" class=\"dataframe\">\n",
       "  <thead>\n",
       "    <tr style=\"text-align: right;\">\n",
       "      <th></th>\n",
       "      <th>icustay_id</th>\n",
       "      <th>delta</th>\n",
       "      <th>value</th>\n",
       "      <th>uom</th>\n",
       "      <th>t_0</th>\n",
       "      <th>label</th>\n",
       "    </tr>\n",
       "  </thead>\n",
       "  <tbody>\n",
       "    <tr>\n",
       "      <th>0</th>\n",
       "      <td>200001.0</td>\n",
       "      <td>0 days</td>\n",
       "      <td>Oxygen</td>\n",
       "      <td>mech/O2/none category</td>\n",
       "      <td>2181-11-26</td>\n",
       "      <td>vent_recieved</td>\n",
       "    </tr>\n",
       "    <tr>\n",
       "      <th>3</th>\n",
       "      <td>200003.0</td>\n",
       "      <td>0 days</td>\n",
       "      <td>Mech</td>\n",
       "      <td>mech/O2/none category</td>\n",
       "      <td>2199-08-04</td>\n",
       "      <td>vent_recieved</td>\n",
       "    </tr>\n",
       "    <tr>\n",
       "      <th>6</th>\n",
       "      <td>200012.0</td>\n",
       "      <td>0 days</td>\n",
       "      <td>Oxygen</td>\n",
       "      <td>mech/O2/none category</td>\n",
       "      <td>2153-12-23</td>\n",
       "      <td>vent_recieved</td>\n",
       "    </tr>\n",
       "    <tr>\n",
       "      <th>7</th>\n",
       "      <td>200014.0</td>\n",
       "      <td>0 days</td>\n",
       "      <td>Mech</td>\n",
       "      <td>mech/O2/none category</td>\n",
       "      <td>2105-02-17</td>\n",
       "      <td>vent_recieved</td>\n",
       "    </tr>\n",
       "    <tr>\n",
       "      <th>9</th>\n",
       "      <td>200019.0</td>\n",
       "      <td>0 days</td>\n",
       "      <td>Mech</td>\n",
       "      <td>mech/O2/none category</td>\n",
       "      <td>2178-07-09</td>\n",
       "      <td>vent_recieved</td>\n",
       "    </tr>\n",
       "  </tbody>\n",
       "</table>\n",
       "</div>"
      ],
      "text/plain": [
       "   icustay_id  delta   value                    uom         t_0          label\n",
       "0    200001.0 0 days  Oxygen  mech/O2/none category  2181-11-26  vent_recieved\n",
       "3    200003.0 0 days    Mech  mech/O2/none category  2199-08-04  vent_recieved\n",
       "6    200012.0 0 days  Oxygen  mech/O2/none category  2153-12-23  vent_recieved\n",
       "7    200014.0 0 days    Mech  mech/O2/none category  2105-02-17  vent_recieved\n",
       "9    200019.0 0 days    Mech  mech/O2/none category  2178-07-09  vent_recieved"
      ]
     },
     "execution_count": 60,
     "metadata": {},
     "output_type": "execute_result"
    },
    {
     "name": "stdout",
     "output_type": "stream",
     "text": [
      "time: 30 s\n"
     ]
    }
   ],
   "source": [
    "#collapsing all days into the worst day. \n",
    "ventcategory_1day_df= dfs[vent_df].copy()\n",
    "ventcategory_1day_df['value']=ventcategory_1day_df.groupby('icustay_id',as_index=False)['value'].transform(vent_day_collapser)\n",
    "ventcategory_1day_df= ventcategory_1day_df.drop_duplicates(['icustay_id','value']).sort_values('icustay_id') #\n",
    "ventcategory_1day_df= ventcategory_1day_df.loc[ventcategory_1day_df.loc[:,'icustay_id'].isin(icustay_id),:] #had icustay ids not in final cohort, fail safe mesure\n",
    "ventcategory_1day_df.head()"
   ]
  },
  {
   "cell_type": "code",
   "execution_count": 61,
   "metadata": {},
   "outputs": [
    {
     "data": {
      "text/plain": [
       "Mech      10156\n",
       "Oxygen     8369\n",
       "None        946\n",
       "Name: value, dtype: int64"
      ]
     },
     "execution_count": 61,
     "metadata": {},
     "output_type": "execute_result"
    },
    {
     "name": "stdout",
     "output_type": "stream",
     "text": [
      "time: 5.44 ms\n"
     ]
    }
   ],
   "source": [
    "ventcategory_1day_df['value'].value_counts()"
   ]
  },
  {
   "cell_type": "code",
   "execution_count": 62,
   "metadata": {},
   "outputs": [
    {
     "name": "stdout",
     "output_type": "stream",
     "text": [
      "time: 367 ms\n"
     ]
    }
   ],
   "source": [
    "save_df(ventcategory_1day_df, 'ventcategory')\n",
    "# will be deleted after pao2:fio2 calc"
   ]
  },
  {
   "cell_type": "markdown",
   "metadata": {},
   "source": [
    "## weight and height firstday -\n",
    "i explored weightdurations and it had more missing values than weightfirstday, so i will use that. we can revisit this if we need longitudinal weights"
   ]
  },
  {
   "cell_type": "code",
   "execution_count": 63,
   "metadata": {},
   "outputs": [
    {
     "data": {
      "text/html": [
       "<div>\n",
       "<style scoped>\n",
       "    .dataframe tbody tr th:only-of-type {\n",
       "        vertical-align: middle;\n",
       "    }\n",
       "\n",
       "    .dataframe tbody tr th {\n",
       "        vertical-align: top;\n",
       "    }\n",
       "\n",
       "    .dataframe thead th {\n",
       "        text-align: right;\n",
       "    }\n",
       "</style>\n",
       "<table border=\"1\" class=\"dataframe\">\n",
       "  <thead>\n",
       "    <tr style=\"text-align: right;\">\n",
       "      <th></th>\n",
       "      <th>icustay_id</th>\n",
       "      <th>weight</th>\n",
       "      <th>weight_admit</th>\n",
       "      <th>weight_daily</th>\n",
       "      <th>weight_echoinhosp</th>\n",
       "      <th>weight_echoprehosp</th>\n",
       "      <th>uom</th>\n",
       "      <th>t_0</th>\n",
       "    </tr>\n",
       "  </thead>\n",
       "  <tbody>\n",
       "    <tr>\n",
       "      <th>0</th>\n",
       "      <td>200001</td>\n",
       "      <td>61.0</td>\n",
       "      <td>61.000000</td>\n",
       "      <td>NaN</td>\n",
       "      <td>NaN</td>\n",
       "      <td>NaN</td>\n",
       "      <td>kg</td>\n",
       "      <td>2181-11-26</td>\n",
       "    </tr>\n",
       "    <tr>\n",
       "      <th>1</th>\n",
       "      <td>200003</td>\n",
       "      <td>77.0</td>\n",
       "      <td>77.000000</td>\n",
       "      <td>77.500000</td>\n",
       "      <td>72.57472</td>\n",
       "      <td>NaN</td>\n",
       "      <td>kg</td>\n",
       "      <td>2199-08-04</td>\n",
       "    </tr>\n",
       "    <tr>\n",
       "      <th>2</th>\n",
       "      <td>200012</td>\n",
       "      <td>51.2</td>\n",
       "      <td>51.200001</td>\n",
       "      <td>51.200001</td>\n",
       "      <td>NaN</td>\n",
       "      <td>NaN</td>\n",
       "      <td>kg</td>\n",
       "      <td>2153-12-23</td>\n",
       "    </tr>\n",
       "    <tr>\n",
       "      <th>3</th>\n",
       "      <td>200014</td>\n",
       "      <td>62.0</td>\n",
       "      <td>62.000000</td>\n",
       "      <td>NaN</td>\n",
       "      <td>NaN</td>\n",
       "      <td>NaN</td>\n",
       "      <td>kg</td>\n",
       "      <td>2105-02-17</td>\n",
       "    </tr>\n",
       "    <tr>\n",
       "      <th>4</th>\n",
       "      <td>200019</td>\n",
       "      <td>65.0</td>\n",
       "      <td>65.000000</td>\n",
       "      <td>NaN</td>\n",
       "      <td>NaN</td>\n",
       "      <td>NaN</td>\n",
       "      <td>kg</td>\n",
       "      <td>2178-07-09</td>\n",
       "    </tr>\n",
       "  </tbody>\n",
       "</table>\n",
       "</div>"
      ],
      "text/plain": [
       "   icustay_id  weight  weight_admit  weight_daily  weight_echoinhosp  \\\n",
       "0      200001    61.0     61.000000           NaN                NaN   \n",
       "1      200003    77.0     77.000000     77.500000           72.57472   \n",
       "2      200012    51.2     51.200001     51.200001                NaN   \n",
       "3      200014    62.0     62.000000           NaN                NaN   \n",
       "4      200019    65.0     65.000000           NaN                NaN   \n",
       "\n",
       "   weight_echoprehosp uom         t_0  \n",
       "0                 NaN  kg  2181-11-26  \n",
       "1                 NaN  kg  2199-08-04  \n",
       "2                 NaN  kg  2153-12-23  \n",
       "3                 NaN  kg  2105-02-17  \n",
       "4                 NaN  kg  2178-07-09  "
      ]
     },
     "execution_count": 63,
     "metadata": {},
     "output_type": "execute_result"
    },
    {
     "name": "stdout",
     "output_type": "stream",
     "text": [
      "time: 11.9 ms\n"
     ]
    }
   ],
   "source": [
    "dfs[weight_df]['uom']='kg'\n",
    "dfs[weight_df].head()  \n",
    "#weight column is the conglomerate of weight_admin>weight_daily> weight_echoinhosp> weight_echoprehosp"
   ]
  },
  {
   "cell_type": "code",
   "execution_count": 64,
   "metadata": {},
   "outputs": [
    {
     "name": "stdout",
     "output_type": "stream",
     "text": [
      "time: 94.6 ms\n"
     ]
    }
   ],
   "source": [
    "dfs[weight_df]= dfs[weight_df][dfs[weight_df]['weight'].notnull()]\n",
    "dfs[weight_df]= dfs[weight_df][['icustay_id','weight','uom']]\n",
    "\n",
    "dfs[weight_df]['label']= 'weight'\n",
    "dfs[weight_df]=dfs[weight_df].rename(index=str, columns={'weight':'value'})\n",
    "\n",
    "#adding the assumed first day delta column to standardize all columns\n",
    "dfs[weight_df]['delta']=pd.to_timedelta(0,'days')\n",
    "\n",
    "#adding t_0\n",
    "dfs[weight_df]= pd.merge(dfs[weight_df], final_pt_df2[['icustay_id',time_var]], left_on='icustay_id', right_on='icustay_id')"
   ]
  },
  {
   "cell_type": "code",
   "execution_count": 65,
   "metadata": {},
   "outputs": [
    {
     "name": "stdout",
     "output_type": "stream",
     "text": [
      "time: 348 ms\n"
     ]
    }
   ],
   "source": [
    "# pd.DataFrame(dfs[weight_df]).to_csv(Path(\n",
    "#     save_path+'/%s_weight_prepped.csv' %(date)))\n",
    "save_df(dfs[weight_df], 'weight')\n",
    "\n",
    "del(dfs[weight_df])"
   ]
  },
  {
   "cell_type": "code",
   "execution_count": 66,
   "metadata": {},
   "outputs": [
    {
     "name": "stdout",
     "output_type": "stream",
     "text": [
      "time: 1.75 ms\n"
     ]
    }
   ],
   "source": [
    "dfs[height_df]['uom']='cm'"
   ]
  },
  {
   "cell_type": "code",
   "execution_count": 67,
   "metadata": {},
   "outputs": [
    {
     "name": "stdout",
     "output_type": "stream",
     "text": [
      "time: 7.18 ms\n"
     ]
    }
   ],
   "source": [
    "dfs[height_df]= dfs[height_df][dfs[height_df]['height'].notnull()]\n",
    "dfs[height_df]= dfs[height_df][['icustay_id','height','uom']]"
   ]
  },
  {
   "cell_type": "code",
   "execution_count": 68,
   "metadata": {},
   "outputs": [
    {
     "name": "stdout",
     "output_type": "stream",
     "text": [
      "time: 83.4 ms\n"
     ]
    }
   ],
   "source": [
    "dfs[height_df]['label']= 'height'\n",
    "dfs[height_df]=dfs[height_df].rename(index=str, columns={'height':'value'})\n",
    "\n",
    "#adding the assumed first day delta column to standardize all columns\n",
    "dfs[height_df]['delta']=pd.to_timedelta(0,'days')\n",
    "#adding t_0\n",
    "dfs[height_df]= pd.merge(dfs[height_df], final_pt_df2[['icustay_id',time_var]], left_on='icustay_id', right_on='icustay_id')"
   ]
  },
  {
   "cell_type": "code",
   "execution_count": 69,
   "metadata": {},
   "outputs": [
    {
     "name": "stdout",
     "output_type": "stream",
     "text": [
      "time: 308 ms\n"
     ]
    }
   ],
   "source": [
    "#heightfirstday\n",
    "save_df(dfs[height_df], 'height')\n",
    "del(dfs[height_df])"
   ]
  },
  {
   "cell_type": "markdown",
   "metadata": {},
   "source": [
    "# UTI"
   ]
  },
  {
   "cell_type": "code",
   "execution_count": 70,
   "metadata": {},
   "outputs": [
    {
     "data": {
      "text/plain": [
       "array(['NEG', 'MOD', 'POS', 'TR', 'SM', 'LG', ' ', 'N', 'SMALL'],\n",
       "      dtype=object)"
      ]
     },
     "execution_count": 70,
     "metadata": {},
     "output_type": "execute_result"
    },
    {
     "name": "stdout",
     "output_type": "stream",
     "text": [
      "time: 13.1 ms\n"
     ]
    }
   ],
   "source": [
    "dfs[uti_df]['value'].unique()#seems good #all uti within clinical timewindow"
   ]
  },
  {
   "cell_type": "code",
   "execution_count": 71,
   "metadata": {},
   "outputs": [
    {
     "name": "stdout",
     "output_type": "stream",
     "text": [
      "time: 189 ms\n"
     ]
    }
   ],
   "source": [
    "dfs[uti_df]= dfs[uti_df].loc[(dfs[uti_df].loc[:,'value']!='NEG')&\n",
    "               dfs[uti_df].loc[:,'value'].notnull(),:] #filter to only pos rows\n",
    "\n",
    "dfs[uti_df]= dfs[uti_df].loc[(dfs[uti_df].loc[:,'value']!='COMPUTER NETWORK FAILURE. TEST NOT RESULTED.')&\n",
    "               dfs[uti_df].loc[:,'value'].notnull(),:] #filter to only pos rows\n",
    "dfs[uti_df]= dfs[uti_df].drop_duplicates(subset=['hadm_id','value','charttime'])\n",
    "\n",
    "dfs[uti_df].loc[dfs[uti_df].loc[:,'value'].notnull(),'value']= 1\n",
    "dfs[uti_df].loc[dfs[uti_df].loc[:,'value'].isna(),'value']= 0 "
   ]
  },
  {
   "cell_type": "code",
   "execution_count": 72,
   "metadata": {},
   "outputs": [
    {
     "data": {
      "text/html": [
       "<div>\n",
       "<style scoped>\n",
       "    .dataframe tbody tr th:only-of-type {\n",
       "        vertical-align: middle;\n",
       "    }\n",
       "\n",
       "    .dataframe tbody tr th {\n",
       "        vertical-align: top;\n",
       "    }\n",
       "\n",
       "    .dataframe thead th {\n",
       "        text-align: right;\n",
       "    }\n",
       "</style>\n",
       "<table border=\"1\" class=\"dataframe\">\n",
       "  <thead>\n",
       "    <tr style=\"text-align: right;\">\n",
       "      <th></th>\n",
       "      <th>subject_id</th>\n",
       "      <th>hadm_id</th>\n",
       "      <th>itemid</th>\n",
       "      <th>charttime</th>\n",
       "      <th>value</th>\n",
       "      <th>valuenum</th>\n",
       "      <th>valueuom</th>\n",
       "      <th>label</th>\n",
       "      <th>fluid</th>\n",
       "      <th>category</th>\n",
       "      <th>loinc_code</th>\n",
       "      <th>icd9_code</th>\n",
       "      <th>t_0</th>\n",
       "      <th>delta</th>\n",
       "    </tr>\n",
       "  </thead>\n",
       "  <tbody>\n",
       "    <tr>\n",
       "      <th>132</th>\n",
       "      <td>21</td>\n",
       "      <td>109451.0</td>\n",
       "      <td>51486</td>\n",
       "      <td>2134-09-12 00:08:00</td>\n",
       "      <td>1</td>\n",
       "      <td>NaN</td>\n",
       "      <td>NaN</td>\n",
       "      <td>Leukocytes</td>\n",
       "      <td>Urine</td>\n",
       "      <td>Hematology</td>\n",
       "      <td>5799-2</td>\n",
       "      <td>41071</td>\n",
       "      <td>2134-09-12</td>\n",
       "      <td>0 days 00:08:00.000000000</td>\n",
       "    </tr>\n",
       "    <tr>\n",
       "      <th>186</th>\n",
       "      <td>21</td>\n",
       "      <td>109451.0</td>\n",
       "      <td>51487</td>\n",
       "      <td>2134-09-12 00:08:00</td>\n",
       "      <td>1</td>\n",
       "      <td>NaN</td>\n",
       "      <td>NaN</td>\n",
       "      <td>Nitrite</td>\n",
       "      <td>Urine</td>\n",
       "      <td>Hematology</td>\n",
       "      <td>5802-4</td>\n",
       "      <td>41071</td>\n",
       "      <td>2134-09-12</td>\n",
       "      <td>0 days 00:08:00.000000000</td>\n",
       "    </tr>\n",
       "    <tr>\n",
       "      <th>236</th>\n",
       "      <td>31</td>\n",
       "      <td>128652.0</td>\n",
       "      <td>51486</td>\n",
       "      <td>2108-08-24 16:30:00</td>\n",
       "      <td>1</td>\n",
       "      <td>NaN</td>\n",
       "      <td>NaN</td>\n",
       "      <td>Leukocytes</td>\n",
       "      <td>Urine</td>\n",
       "      <td>Hematology</td>\n",
       "      <td>5799-2</td>\n",
       "      <td>3453</td>\n",
       "      <td>2108-08-24</td>\n",
       "      <td>0 days 16:30:00.000000000</td>\n",
       "    </tr>\n",
       "    <tr>\n",
       "      <th>790</th>\n",
       "      <td>64</td>\n",
       "      <td>172056.0</td>\n",
       "      <td>51486</td>\n",
       "      <td>2143-03-03 04:33:00</td>\n",
       "      <td>1</td>\n",
       "      <td>NaN</td>\n",
       "      <td>NaN</td>\n",
       "      <td>Leukocytes</td>\n",
       "      <td>Urine</td>\n",
       "      <td>Hematology</td>\n",
       "      <td>5799-2</td>\n",
       "      <td>03811</td>\n",
       "      <td>2143-03-03</td>\n",
       "      <td>0 days 04:33:00.000000000</td>\n",
       "    </tr>\n",
       "    <tr>\n",
       "      <th>832</th>\n",
       "      <td>62</td>\n",
       "      <td>116009.0</td>\n",
       "      <td>51486</td>\n",
       "      <td>2113-02-15 12:27:00</td>\n",
       "      <td>1</td>\n",
       "      <td>NaN</td>\n",
       "      <td>NaN</td>\n",
       "      <td>Leukocytes</td>\n",
       "      <td>Urine</td>\n",
       "      <td>Hematology</td>\n",
       "      <td>5799-2</td>\n",
       "      <td>1125</td>\n",
       "      <td>2113-02-15</td>\n",
       "      <td>0 days 12:27:00.000000000</td>\n",
       "    </tr>\n",
       "  </tbody>\n",
       "</table>\n",
       "</div>"
      ],
      "text/plain": [
       "     subject_id   hadm_id  itemid            charttime  value  valuenum  \\\n",
       "132          21  109451.0   51486  2134-09-12 00:08:00      1       NaN   \n",
       "186          21  109451.0   51487  2134-09-12 00:08:00      1       NaN   \n",
       "236          31  128652.0   51486  2108-08-24 16:30:00      1       NaN   \n",
       "790          64  172056.0   51486  2143-03-03 04:33:00      1       NaN   \n",
       "832          62  116009.0   51486  2113-02-15 12:27:00      1       NaN   \n",
       "\n",
       "     valueuom       label  fluid    category loinc_code icd9_code         t_0  \\\n",
       "132       NaN  Leukocytes  Urine  Hematology     5799-2     41071  2134-09-12   \n",
       "186       NaN     Nitrite  Urine  Hematology     5802-4     41071  2134-09-12   \n",
       "236       NaN  Leukocytes  Urine  Hematology     5799-2      3453  2108-08-24   \n",
       "790       NaN  Leukocytes  Urine  Hematology     5799-2     03811  2143-03-03   \n",
       "832       NaN  Leukocytes  Urine  Hematology     5799-2      1125  2113-02-15   \n",
       "\n",
       "                         delta  \n",
       "132  0 days 00:08:00.000000000  \n",
       "186  0 days 00:08:00.000000000  \n",
       "236  0 days 16:30:00.000000000  \n",
       "790  0 days 04:33:00.000000000  \n",
       "832  0 days 12:27:00.000000000  "
      ]
     },
     "execution_count": 72,
     "metadata": {},
     "output_type": "execute_result"
    },
    {
     "name": "stdout",
     "output_type": "stream",
     "text": [
      "time: 18.9 ms\n"
     ]
    }
   ],
   "source": [
    "dfs[uti_df].head()"
   ]
  },
  {
   "cell_type": "code",
   "execution_count": 73,
   "metadata": {},
   "outputs": [
    {
     "name": "stdout",
     "output_type": "stream",
     "text": [
      "time: 73.8 ms\n"
     ]
    }
   ],
   "source": [
    "def uti_categorizer(uti_df):\n",
    "    \"useful to get all rows of days with positive values for patients (if multiple pos in a day there will be only 1 row for that day). ie more longitudinal format \"\n",
    "    \n",
    "    #gives the max pos or neg value per day for \n",
    "    df_timewindow_perday=uti_df.groupby(['hadm_id','delta'], as_index=False)['value'].agg({'value':'max'})  \n",
    "    df_timewindow_perday= pd.merge(df_timewindow_perday,final_pt_df2[['icustay_id','hadm_id', time_var]], left_on='hadm_id', right_on='hadm_id', how='left')\n",
    "    df_timewindow_perday=df_timewindow_perday.sort_values(['hadm_id','value','delta'], ascending=[True,False,True])\n",
    "    return(df_timewindow_perday)\n",
    "\n",
    "def yn_uti(uti_df, label):\n",
    "    \"collapsing longitudinal data into 1 value. will return pos or neg if patient has a positive uti in their stay. one row per icustay_id\"\n",
    "    \n",
    "    df_timewindow_perday=uti_df.groupby(['hadm_id','delta'], as_index=False)['value'].agg({'value':'max'})\n",
    "    first_pos= df_timewindow_perday.drop_duplicates(['hadm_id'])\n",
    "    collapsed= pd.merge(final_pt_df2[['hadm_id','icustay_id','subject_id', time_var]],first_pos, left_on='hadm_id', right_on='hadm_id', how='left')\n",
    "    \n",
    "    collapsed['value']= collapsed['value'].fillna(0)\n",
    "    collapsed.loc[collapsed.loc[:,'value']==1,'value']= 'pos'\n",
    "    collapsed.loc[collapsed.loc[:,'value']==0,'value']= 'Neg/Not_tested'\n",
    "    \n",
    "    collapsed['delta']= collapsed['delta'].fillna(pd.Timedelta(1, unit='d'))\n",
    "    \n",
    "    collapsed['label']= label\n",
    "    \n",
    "    collapsed['uom']='pos/neg category'\n",
    "    return(collapsed)"
   ]
  },
  {
   "cell_type": "code",
   "execution_count": 74,
   "metadata": {},
   "outputs": [
    {
     "name": "stdout",
     "output_type": "stream",
     "text": [
      "time: 135 ms\n"
     ]
    }
   ],
   "source": [
    "uti_nit_pos= dfs[uti_df][dfs[uti_df]['label']==\"Nitrite\"]\n",
    "uti_leuk_pos= dfs[uti_df][dfs[uti_df]['label']==\"Leukocytes\"]\n",
    "\n",
    "leuk_collapsed= yn_uti(uti_leuk_pos, 'leukocyte')\n",
    "nit_collapsed= yn_uti(uti_nit_pos, 'nitrite')\n"
   ]
  },
  {
   "cell_type": "code",
   "execution_count": 75,
   "metadata": {},
   "outputs": [
    {
     "name": "stdout",
     "output_type": "stream",
     "text": [
      "time: 587 ms\n"
     ]
    }
   ],
   "source": [
    "save_df(leuk_collapsed, 'leuk')\n",
    "del(leuk_collapsed)\n",
    "\n",
    "save_df(nit_collapsed, 'nit')\n",
    "del(nit_collapsed)\n",
    "del(dfs[uti_df])"
   ]
  },
  {
   "cell_type": "markdown",
   "metadata": {},
   "source": [
    "# bloodgas"
   ]
  },
  {
   "cell_type": "code",
   "execution_count": 76,
   "metadata": {},
   "outputs": [
    {
     "data": {
      "text/html": [
       "<div>\n",
       "<style scoped>\n",
       "    .dataframe tbody tr th:only-of-type {\n",
       "        vertical-align: middle;\n",
       "    }\n",
       "\n",
       "    .dataframe tbody tr th {\n",
       "        vertical-align: top;\n",
       "    }\n",
       "\n",
       "    .dataframe thead th {\n",
       "        text-align: right;\n",
       "    }\n",
       "</style>\n",
       "<table border=\"1\" class=\"dataframe\">\n",
       "  <thead>\n",
       "    <tr style=\"text-align: right;\">\n",
       "      <th></th>\n",
       "      <th>subject_id</th>\n",
       "      <th>hadm_id</th>\n",
       "      <th>icustay_id</th>\n",
       "      <th>charttime</th>\n",
       "      <th>label</th>\n",
       "      <th>valuenum</th>\n",
       "      <th>value</th>\n",
       "      <th>uom</th>\n",
       "      <th>unique_var</th>\n",
       "      <th>t_0</th>\n",
       "      <th>delta</th>\n",
       "    </tr>\n",
       "  </thead>\n",
       "  <tbody>\n",
       "    <tr>\n",
       "      <th>48</th>\n",
       "      <td>9</td>\n",
       "      <td>150750</td>\n",
       "      <td>220597</td>\n",
       "      <td>2149-11-10 03:04:00</td>\n",
       "      <td>BASEEXCESS</td>\n",
       "      <td>NaN</td>\n",
       "      <td>0</td>\n",
       "      <td>mEq/L</td>\n",
       "      <td>2205972149-11-10 03:04:00</td>\n",
       "      <td>2149-11-10</td>\n",
       "      <td>0 days 03:04:00.000000000</td>\n",
       "    </tr>\n",
       "    <tr>\n",
       "      <th>49</th>\n",
       "      <td>9</td>\n",
       "      <td>150750</td>\n",
       "      <td>220597</td>\n",
       "      <td>2149-11-10 03:04:00</td>\n",
       "      <td>CALCIUM</td>\n",
       "      <td>1.14</td>\n",
       "      <td>1.14</td>\n",
       "      <td>mmol/L</td>\n",
       "      <td>2205972149-11-10 03:04:00</td>\n",
       "      <td>2149-11-10</td>\n",
       "      <td>0 days 03:04:00.000000000</td>\n",
       "    </tr>\n",
       "    <tr>\n",
       "      <th>50</th>\n",
       "      <td>9</td>\n",
       "      <td>150750</td>\n",
       "      <td>220597</td>\n",
       "      <td>2149-11-10 03:04:00</td>\n",
       "      <td>FIO2</td>\n",
       "      <td>60.00</td>\n",
       "      <td>60</td>\n",
       "      <td>NaN</td>\n",
       "      <td>2205972149-11-10 03:04:00</td>\n",
       "      <td>2149-11-10</td>\n",
       "      <td>0 days 03:04:00.000000000</td>\n",
       "    </tr>\n",
       "    <tr>\n",
       "      <th>51</th>\n",
       "      <td>9</td>\n",
       "      <td>150750</td>\n",
       "      <td>220597</td>\n",
       "      <td>2149-11-10 03:04:00</td>\n",
       "      <td>LACTATE</td>\n",
       "      <td>2.40</td>\n",
       "      <td>2.4</td>\n",
       "      <td>mmol/L</td>\n",
       "      <td>2205972149-11-10 03:04:00</td>\n",
       "      <td>2149-11-10</td>\n",
       "      <td>0 days 03:04:00.000000000</td>\n",
       "    </tr>\n",
       "    <tr>\n",
       "      <th>52</th>\n",
       "      <td>9</td>\n",
       "      <td>150750</td>\n",
       "      <td>220597</td>\n",
       "      <td>2149-11-10 03:04:00</td>\n",
       "      <td>PCO2</td>\n",
       "      <td>41.00</td>\n",
       "      <td>41</td>\n",
       "      <td>mm Hg</td>\n",
       "      <td>2205972149-11-10 03:04:00</td>\n",
       "      <td>2149-11-10</td>\n",
       "      <td>0 days 03:04:00.000000000</td>\n",
       "    </tr>\n",
       "  </tbody>\n",
       "</table>\n",
       "</div>"
      ],
      "text/plain": [
       "    subject_id  hadm_id  icustay_id            charttime       label  \\\n",
       "48           9   150750      220597  2149-11-10 03:04:00  BASEEXCESS   \n",
       "49           9   150750      220597  2149-11-10 03:04:00     CALCIUM   \n",
       "50           9   150750      220597  2149-11-10 03:04:00        FIO2   \n",
       "51           9   150750      220597  2149-11-10 03:04:00     LACTATE   \n",
       "52           9   150750      220597  2149-11-10 03:04:00        PCO2   \n",
       "\n",
       "    valuenum value     uom                 unique_var         t_0  \\\n",
       "48       NaN     0   mEq/L  2205972149-11-10 03:04:00  2149-11-10   \n",
       "49      1.14  1.14  mmol/L  2205972149-11-10 03:04:00  2149-11-10   \n",
       "50     60.00    60     NaN  2205972149-11-10 03:04:00  2149-11-10   \n",
       "51      2.40   2.4  mmol/L  2205972149-11-10 03:04:00  2149-11-10   \n",
       "52     41.00    41   mm Hg  2205972149-11-10 03:04:00  2149-11-10   \n",
       "\n",
       "                        delta  \n",
       "48  0 days 03:04:00.000000000  \n",
       "49  0 days 03:04:00.000000000  \n",
       "50  0 days 03:04:00.000000000  \n",
       "51  0 days 03:04:00.000000000  \n",
       "52  0 days 03:04:00.000000000  "
      ]
     },
     "execution_count": 76,
     "metadata": {},
     "output_type": "execute_result"
    },
    {
     "name": "stdout",
     "output_type": "stream",
     "text": [
      "time: 1.68 s\n"
     ]
    }
   ],
   "source": [
    "dfs[bg_df]= dfs[bg_df].loc[dfs[bg_df]['value'].notnull(),:]\n",
    "dfs[bg_df] = dfs[bg_df].rename(index=str, columns={'valueuom':'uom'})\n",
    "dfs[bg_df]= dfs[bg_df].loc[~(dfs[bg_df].loc[:,'value']=='.'),:]\n",
    "\n",
    "#may need to remove outliers, haven't done as of 10/22/18\n",
    "dfs[bg_df].head()"
   ]
  },
  {
   "cell_type": "markdown",
   "metadata": {},
   "source": [
    "### most likely erroneous value removal\n",
    "the code below manually removes values that are a high likelyhood of being erroneous in a way that doesn't follow great programming practices. on my list of things to improve, but it is currently functional. \n"
   ]
  },
  {
   "cell_type": "code",
   "execution_count": 77,
   "metadata": {},
   "outputs": [
    {
     "name": "stdout",
     "output_type": "stream",
     "text": [
      "time: 562 ms\n"
     ]
    }
   ],
   "source": [
    "##calcium\n",
    "#fixing the calcium errors w/o hard coding\n",
    "(dfs[bg_df].loc[\n",
    "    (dfs[bg_df].loc[:,'icustay_id']==249571) & \n",
    "    (dfs[bg_df].loc[:,'label']=='CALCIUM')\n",
    "    & (dfs[bg_df].loc[:,'valuenum']==94.00),'valuenum'])=0.94#.where('valuenum'==94.00))\n",
    "\n",
    "(dfs[bg_df].loc[\n",
    "    (dfs[bg_df].loc[:,'icustay_id']==249571) & \n",
    "    (dfs[bg_df].loc[:,'label']=='CALCIUM')\n",
    "    & (dfs[bg_df].loc[:,'value']=='094'),'value'])=0.94#.where('valuenum'==94.00))\n",
    "\n",
    "\n",
    "(dfs[bg_df].loc[\n",
    "    (dfs[bg_df].loc[:,'icustay_id']==219600) & \n",
    "    (dfs[bg_df].loc[:,'label']=='CALCIUM')\n",
    "    & (dfs[bg_df].loc[:,'valuenum']==97.00),'valuenum'])=0.97#.where('valuenum'==94.00))\n",
    "\n",
    "(dfs[bg_df].loc[\n",
    "    (dfs[bg_df].loc[:,'icustay_id']==219600) & \n",
    "    (dfs[bg_df].loc[:,'label']=='CALCIUM')\n",
    "    & (dfs[bg_df].loc[:,'value']=='097'),'value'])=0.97#.where('valuenum'==94.00))\n"
   ]
  },
  {
   "cell_type": "code",
   "execution_count": 78,
   "metadata": {},
   "outputs": [
    {
     "name": "stdout",
     "output_type": "stream",
     "text": [
      "time: 418 ms\n"
     ]
    }
   ],
   "source": [
    "##min chloride\n",
    "#converting it to a null value without hard coding\n",
    "(dfs[bg_df].loc[(dfs[bg_df].loc[:,'icustay_id']==261887.0) &\n",
    "                         (dfs[bg_df].loc[:,'label']=='CHLORIDE') &\n",
    "                         (dfs[bg_df].loc[:,'valuenum']==3.4),'value'])=np.nan\n",
    "#converting it to a null value without hard coding\n",
    "(dfs[bg_df].loc[(dfs[bg_df].loc[:,'icustay_id']==261887.0) &\n",
    "                         (dfs[bg_df].loc[:,'label']=='CHLORIDE') &\n",
    "                         (dfs[bg_df].loc[:,'valuenum']==3.4),'valuenum'])=np.nan\n",
    "\n",
    "#changing the values without hard coding. \n",
    "(dfs[bg_df].loc[(dfs[bg_df].loc[:,'icustay_id']==236290.0) &\n",
    "                         (dfs[bg_df].loc[:,'label']=='CHLORIDE') &\n",
    "                         (dfs[bg_df].loc[:,'valuenum']==11.0),'valuenum'])=np.nan\n",
    "\n",
    "(dfs[bg_df].loc[(dfs[bg_df].loc[:,'icustay_id']==236290.0) &\n",
    "                         (dfs[bg_df].loc[:,'label']=='CHLORIDE') &\n",
    "                         (dfs[bg_df].loc[:,'valuenum']==11.0),'value'])=np.nan"
   ]
  },
  {
   "cell_type": "code",
   "execution_count": 79,
   "metadata": {},
   "outputs": [
    {
     "name": "stdout",
     "output_type": "stream",
     "text": [
      "time: 80.5 ms\n"
     ]
    }
   ],
   "source": [
    "#peep changes summary: \n",
    "dfs[bg_df].loc[(dfs[bg_df].loc[:,'label']=='PEEP')&\n",
    "                        (dfs[bg_df]['valuenum']>38),'valuenum']=np.nan #remove this or set to 50?"
   ]
  },
  {
   "cell_type": "code",
   "execution_count": 80,
   "metadata": {},
   "outputs": [
    {
     "name": "stdout",
     "output_type": "stream",
     "text": [
      "time: 491 ms\n"
     ]
    }
   ],
   "source": [
    "#temp changes summary:\n",
    "\n",
    "dfs[bg_df].loc[(dfs[bg_df].loc[:,'label']=='TEMPERATURE')&\n",
    "                        (dfs[bg_df]['icustay_id']==253821)&\n",
    "                        (dfs[bg_df]['valuenum']==18.9),\n",
    "                        'value']= np.nan\n",
    "\n",
    "dfs[bg_df].loc[(dfs[bg_df].loc[:,'label']=='TEMPERATURE')&\n",
    "                        (dfs[bg_df]['icustay_id']==253821)&\n",
    "                        (dfs[bg_df]['valuenum']==18.9),\n",
    "                        'valuenum']= np.nan\n",
    "\n",
    "dfs[bg_df].loc[(dfs[bg_df].loc[:,'label']=='TEMPERATURE')&\n",
    "                        (dfs[bg_df]['icustay_id']==251788)&\n",
    "                        (dfs[bg_df]['valuenum']==10.0),\n",
    "                        'value']= np.nan\n",
    "\n",
    "dfs[bg_df].loc[(dfs[bg_df].loc[:,'label']=='TEMPERATURE')&\n",
    "                        (dfs[bg_df]['icustay_id']==251788)&\n",
    "                        (dfs[bg_df]['valuenum']==10.0),\n",
    "                        'valuenum']= np.nan"
   ]
  },
  {
   "cell_type": "code",
   "execution_count": 81,
   "metadata": {},
   "outputs": [
    {
     "name": "stdout",
     "output_type": "stream",
     "text": [
      "time: 931 ms\n"
     ]
    }
   ],
   "source": [
    "#fio2 changes summary:\n",
    "\n",
    "##converting a few values to null, thus removing them from the dataset\n",
    "dfs[bg_df].loc[(dfs[bg_df].loc[:,'label']=='FIO2') &\n",
    "                        (dfs[bg_df].loc[:,'value']=='0'),'value']=np.nan\n",
    "\n",
    "dfs[bg_df].loc[(dfs[bg_df].loc[:,'label']=='FIO2') &\n",
    "                        (dfs[bg_df].loc[:,'value']=='-'),'value']=np.nan\n",
    "\n",
    "\n",
    "##removing all fio2 values between 1-20.9\n",
    "\n",
    "dfs[bg_df].loc[(dfs[bg_df].loc[:,'label'].isin(['FIO2']))&\n",
    "                        (dfs[bg_df]['valuenum'].between(1.0,20.9)),'valuenum']=np.nan\n",
    "\n",
    "\n",
    "##values between 0-1 were found to be ratios, not %, so converting these to % \n",
    "\n",
    "dfs[bg_df].loc[(dfs[bg_df].loc[:,'label'].isin(['FIO2']))&\n",
    "                        (dfs[bg_df]['valuenum'].between(1.0,20.9)),'valuenum']=np.nan\n",
    "\n",
    "fio2_dec= dfs[bg_df].loc[(dfs[bg_df].loc[:,'label'].isin(['FIO2']))&\n",
    "                        (dfs[bg_df]['valuenum'].between(0.0,1.0)),'valuenum']\n",
    "\n",
    "dfs[bg_df].loc[(dfs[bg_df].loc[:,'label'].isin(['FIO2']))&\n",
    "                        (dfs[bg_df]['valuenum'].between(0.0,1.0)),'valuenum'] = fio2_dec *100\n",
    "\n",
    "del(fio2_dec)"
   ]
  },
  {
   "cell_type": "markdown",
   "metadata": {},
   "source": [
    "#### removing null values annotated abov"
   ]
  },
  {
   "cell_type": "code",
   "execution_count": 82,
   "metadata": {},
   "outputs": [
    {
     "name": "stdout",
     "output_type": "stream",
     "text": [
      "time: 163 ms\n"
     ]
    }
   ],
   "source": [
    "dfs[bg_df]= dfs[bg_df].loc[dfs[bg_df]['value'].notnull(),:]"
   ]
  },
  {
   "cell_type": "markdown",
   "metadata": {},
   "source": [
    "### splitting specimen out for vent vs non-vent bg data"
   ]
  },
  {
   "cell_type": "code",
   "execution_count": 83,
   "metadata": {},
   "outputs": [
    {
     "name": "stdout",
     "output_type": "stream",
     "text": [
      "time: 1.36 s\n"
     ]
    }
   ],
   "source": [
    "#adding specimen tag to filter only arterial samples for vent data. \n",
    "specimen_df= dfs[bg_df].loc[dfs[bg_df].loc[:,'label']=='SPECIMEN',['unique_var','label','value']]#unique()\n",
    "specimen_df=specimen_df.rename(index=str, columns={'value':'specimen'})\n",
    "specimen_df=specimen_df.loc[specimen_df.loc[:,\"specimen\"]=='ART',:]\n",
    "\n",
    "dfs[bg_df]= pd.merge(dfs[bg_df],specimen_df[['unique_var','specimen']], left_on='unique_var', right_on='unique_var', how='left')\n",
    "bg_ART_nosummary=dfs[bg_df].loc[dfs[bg_df].loc[:,'specimen']=='ART',:].copy()\n",
    "del(specimen_df)"
   ]
  },
  {
   "cell_type": "code",
   "execution_count": 84,
   "metadata": {},
   "outputs": [
    {
     "name": "stdout",
     "output_type": "stream",
     "text": [
      "time: 1.99 ms\n"
     ]
    }
   ],
   "source": [
    "bg_labels=['PH','LACTATE','CALCIUM','TEMPERATURE','POTASSIUM',\n",
    "           'GLUCOSE','HEMOGLOBIN','SODIUM','CHLORIDE','BICARBONATE','FIO2']\n",
    "bg_vent_labels=['PCO2','PaO2','PO2','PEEP','O2FLOW']"
   ]
  },
  {
   "cell_type": "code",
   "execution_count": 85,
   "metadata": {},
   "outputs": [
    {
     "name": "stdout",
     "output_type": "stream",
     "text": [
      "time: 196 ms\n"
     ]
    }
   ],
   "source": [
    "#restricting to tests that were chosen to be analysed based on %missingness and clinical relevance\n",
    "dfs[bg_df]= dfs[bg_df].loc[dfs[bg_df].loc[:,'label'].isin(bg_labels),:]\n",
    "bg_ART_nosummary= bg_ART_nosummary.loc[bg_ART_nosummary.loc[:,'label'].isin(bg_vent_labels),:]"
   ]
  },
  {
   "cell_type": "code",
   "execution_count": 86,
   "metadata": {},
   "outputs": [
    {
     "data": {
      "text/html": [
       "<div>\n",
       "<style scoped>\n",
       "    .dataframe tbody tr th:only-of-type {\n",
       "        vertical-align: middle;\n",
       "    }\n",
       "\n",
       "    .dataframe tbody tr th {\n",
       "        vertical-align: top;\n",
       "    }\n",
       "\n",
       "    .dataframe thead th {\n",
       "        text-align: right;\n",
       "    }\n",
       "</style>\n",
       "<table border=\"1\" class=\"dataframe\">\n",
       "  <thead>\n",
       "    <tr style=\"text-align: right;\">\n",
       "      <th></th>\n",
       "      <th>subject_id</th>\n",
       "      <th>hadm_id</th>\n",
       "      <th>icustay_id</th>\n",
       "      <th>charttime</th>\n",
       "      <th>label</th>\n",
       "      <th>valuenum</th>\n",
       "      <th>value</th>\n",
       "      <th>uom</th>\n",
       "      <th>unique_var</th>\n",
       "      <th>t_0</th>\n",
       "      <th>delta</th>\n",
       "      <th>specimen</th>\n",
       "    </tr>\n",
       "  </thead>\n",
       "  <tbody>\n",
       "    <tr>\n",
       "      <th>1</th>\n",
       "      <td>9</td>\n",
       "      <td>150750</td>\n",
       "      <td>220597</td>\n",
       "      <td>2149-11-10 03:04:00</td>\n",
       "      <td>CALCIUM</td>\n",
       "      <td>1.14</td>\n",
       "      <td>1.14</td>\n",
       "      <td>mmol/L</td>\n",
       "      <td>2205972149-11-10 03:04:00</td>\n",
       "      <td>2149-11-10</td>\n",
       "      <td>0 days 03:04:00.000000000</td>\n",
       "      <td>ART</td>\n",
       "    </tr>\n",
       "    <tr>\n",
       "      <th>2</th>\n",
       "      <td>9</td>\n",
       "      <td>150750</td>\n",
       "      <td>220597</td>\n",
       "      <td>2149-11-10 03:04:00</td>\n",
       "      <td>FIO2</td>\n",
       "      <td>60.00</td>\n",
       "      <td>60</td>\n",
       "      <td>NaN</td>\n",
       "      <td>2205972149-11-10 03:04:00</td>\n",
       "      <td>2149-11-10</td>\n",
       "      <td>0 days 03:04:00.000000000</td>\n",
       "      <td>ART</td>\n",
       "    </tr>\n",
       "    <tr>\n",
       "      <th>3</th>\n",
       "      <td>9</td>\n",
       "      <td>150750</td>\n",
       "      <td>220597</td>\n",
       "      <td>2149-11-10 03:04:00</td>\n",
       "      <td>LACTATE</td>\n",
       "      <td>2.40</td>\n",
       "      <td>2.4</td>\n",
       "      <td>mmol/L</td>\n",
       "      <td>2205972149-11-10 03:04:00</td>\n",
       "      <td>2149-11-10</td>\n",
       "      <td>0 days 03:04:00.000000000</td>\n",
       "      <td>ART</td>\n",
       "    </tr>\n",
       "    <tr>\n",
       "      <th>5</th>\n",
       "      <td>9</td>\n",
       "      <td>150750</td>\n",
       "      <td>220597</td>\n",
       "      <td>2149-11-10 03:04:00</td>\n",
       "      <td>PH</td>\n",
       "      <td>7.41</td>\n",
       "      <td>7.41</td>\n",
       "      <td>units</td>\n",
       "      <td>2205972149-11-10 03:04:00</td>\n",
       "      <td>2149-11-10</td>\n",
       "      <td>0 days 03:04:00.000000000</td>\n",
       "      <td>ART</td>\n",
       "    </tr>\n",
       "    <tr>\n",
       "      <th>10</th>\n",
       "      <td>9</td>\n",
       "      <td>150750</td>\n",
       "      <td>220597</td>\n",
       "      <td>2149-11-10 21:57:00</td>\n",
       "      <td>CALCIUM</td>\n",
       "      <td>1.05</td>\n",
       "      <td>1.05</td>\n",
       "      <td>mmol/L</td>\n",
       "      <td>2205972149-11-10 21:57:00</td>\n",
       "      <td>2149-11-10</td>\n",
       "      <td>0 days 21:57:00.000000000</td>\n",
       "      <td>ART</td>\n",
       "    </tr>\n",
       "  </tbody>\n",
       "</table>\n",
       "</div>"
      ],
      "text/plain": [
       "    subject_id  hadm_id  icustay_id            charttime    label  valuenum  \\\n",
       "1            9   150750      220597  2149-11-10 03:04:00  CALCIUM      1.14   \n",
       "2            9   150750      220597  2149-11-10 03:04:00     FIO2     60.00   \n",
       "3            9   150750      220597  2149-11-10 03:04:00  LACTATE      2.40   \n",
       "5            9   150750      220597  2149-11-10 03:04:00       PH      7.41   \n",
       "10           9   150750      220597  2149-11-10 21:57:00  CALCIUM      1.05   \n",
       "\n",
       "   value     uom                 unique_var         t_0  \\\n",
       "1   1.14  mmol/L  2205972149-11-10 03:04:00  2149-11-10   \n",
       "2     60     NaN  2205972149-11-10 03:04:00  2149-11-10   \n",
       "3    2.4  mmol/L  2205972149-11-10 03:04:00  2149-11-10   \n",
       "5   7.41   units  2205972149-11-10 03:04:00  2149-11-10   \n",
       "10  1.05  mmol/L  2205972149-11-10 21:57:00  2149-11-10   \n",
       "\n",
       "                        delta specimen  \n",
       "1   0 days 03:04:00.000000000      ART  \n",
       "2   0 days 03:04:00.000000000      ART  \n",
       "3   0 days 03:04:00.000000000      ART  \n",
       "5   0 days 03:04:00.000000000      ART  \n",
       "10  0 days 21:57:00.000000000      ART  "
      ]
     },
     "execution_count": 86,
     "metadata": {},
     "output_type": "execute_result"
    },
    {
     "name": "stdout",
     "output_type": "stream",
     "text": [
      "time: 15.1 ms\n"
     ]
    }
   ],
   "source": [
    "dfs[bg_df].head()"
   ]
  },
  {
   "cell_type": "code",
   "execution_count": 87,
   "metadata": {},
   "outputs": [
    {
     "name": "stdout",
     "output_type": "stream",
     "text": [
      "time: 31.6 ms\n"
     ]
    }
   ],
   "source": [
    "bg_col=['subject_id','hadm_id','icustay_id','charttime','delta',time_var,'label','valuenum','uom']\n",
    "bg_ART_nosummary= bg_ART_nosummary[bg_col]\n",
    "dfs[bg_df]= dfs[bg_df][bg_col]\n",
    "del(bg_col)"
   ]
  },
  {
   "cell_type": "code",
   "execution_count": 88,
   "metadata": {},
   "outputs": [
    {
     "data": {
      "text/plain": [
       "array(['PCO2', 'PaO2', 'PEEP', 'O2FLOW'], dtype=object)"
      ]
     },
     "execution_count": 88,
     "metadata": {},
     "output_type": "execute_result"
    },
    {
     "name": "stdout",
     "output_type": "stream",
     "text": [
      "time: 11.4 ms\n"
     ]
    }
   ],
   "source": [
    "bg_ART_nosummary['label'].unique()"
   ]
  },
  {
   "cell_type": "code",
   "execution_count": 89,
   "metadata": {},
   "outputs": [
    {
     "name": "stdout",
     "output_type": "stream",
     "text": [
      "time: 563 µs\n"
     ]
    }
   ],
   "source": [
    "##quickly investingating o2flow"
   ]
  },
  {
   "cell_type": "code",
   "execution_count": 90,
   "metadata": {},
   "outputs": [
    {
     "name": "stdout",
     "output_type": "stream",
     "text": [
      "time: 30.1 ms\n"
     ]
    }
   ],
   "source": [
    "o2_pt= list(dfs[vent_df].loc[dfs[vent_df].loc[:,'value']=='Oxygen','icustay_id'].unique())\n",
    "\n",
    "#o2_pt= list(ventcategory_1day_df.loc[ventcategory_1day_df.loc[:,'value']=='Oxygen','icustay_id'].unique())"
   ]
  },
  {
   "cell_type": "code",
   "execution_count": 91,
   "metadata": {},
   "outputs": [
    {
     "data": {
      "text/html": [
       "<div>\n",
       "<style scoped>\n",
       "    .dataframe tbody tr th:only-of-type {\n",
       "        vertical-align: middle;\n",
       "    }\n",
       "\n",
       "    .dataframe tbody tr th {\n",
       "        vertical-align: top;\n",
       "    }\n",
       "\n",
       "    .dataframe thead th {\n",
       "        text-align: right;\n",
       "    }\n",
       "</style>\n",
       "<table border=\"1\" class=\"dataframe\">\n",
       "  <thead>\n",
       "    <tr style=\"text-align: right;\">\n",
       "      <th></th>\n",
       "      <th>subject_id</th>\n",
       "      <th>hadm_id</th>\n",
       "      <th>icustay_id</th>\n",
       "      <th>charttime</th>\n",
       "      <th>delta</th>\n",
       "      <th>t_0</th>\n",
       "      <th>label</th>\n",
       "      <th>valuenum</th>\n",
       "      <th>uom</th>\n",
       "    </tr>\n",
       "  </thead>\n",
       "  <tbody>\n",
       "    <tr>\n",
       "      <th>129</th>\n",
       "      <td>21</td>\n",
       "      <td>109451</td>\n",
       "      <td>217847</td>\n",
       "      <td>2134-09-12 11:01:00</td>\n",
       "      <td>0 days 11:01:00.000000000</td>\n",
       "      <td>2134-09-12</td>\n",
       "      <td>O2FLOW</td>\n",
       "      <td>10.0</td>\n",
       "      <td>L/min</td>\n",
       "    </tr>\n",
       "    <tr>\n",
       "      <th>239</th>\n",
       "      <td>21</td>\n",
       "      <td>109451</td>\n",
       "      <td>217847</td>\n",
       "      <td>2134-09-14 10:50:00</td>\n",
       "      <td>2 days 10:50:00.000000000</td>\n",
       "      <td>2134-09-12</td>\n",
       "      <td>O2FLOW</td>\n",
       "      <td>3.0</td>\n",
       "      <td>L/min</td>\n",
       "    </tr>\n",
       "    <tr>\n",
       "      <th>251</th>\n",
       "      <td>21</td>\n",
       "      <td>111970</td>\n",
       "      <td>216859</td>\n",
       "      <td>2135-02-01 18:00:00</td>\n",
       "      <td>1 days 18:00:00.000000000</td>\n",
       "      <td>2135-01-31</td>\n",
       "      <td>O2FLOW</td>\n",
       "      <td>4.0</td>\n",
       "      <td>L/min</td>\n",
       "    </tr>\n",
       "    <tr>\n",
       "      <th>289</th>\n",
       "      <td>25</td>\n",
       "      <td>129635</td>\n",
       "      <td>203487</td>\n",
       "      <td>2160-11-02 08:51:00</td>\n",
       "      <td>0 days 08:51:00.000000000</td>\n",
       "      <td>2160-11-02</td>\n",
       "      <td>O2FLOW</td>\n",
       "      <td>6.0</td>\n",
       "      <td>L/min</td>\n",
       "    </tr>\n",
       "    <tr>\n",
       "      <th>452</th>\n",
       "      <td>38</td>\n",
       "      <td>185910</td>\n",
       "      <td>248910</td>\n",
       "      <td>2166-08-11 03:00:00</td>\n",
       "      <td>1 days 03:00:00.000000000</td>\n",
       "      <td>2166-08-10</td>\n",
       "      <td>O2FLOW</td>\n",
       "      <td>4.0</td>\n",
       "      <td>L/min</td>\n",
       "    </tr>\n",
       "    <tr>\n",
       "      <th>1817</th>\n",
       "      <td>145</td>\n",
       "      <td>198161</td>\n",
       "      <td>226841</td>\n",
       "      <td>2144-03-31 20:00:00</td>\n",
       "      <td>1 days 20:00:00.000000000</td>\n",
       "      <td>2144-03-30</td>\n",
       "      <td>O2FLOW</td>\n",
       "      <td>4.0</td>\n",
       "      <td>L/min</td>\n",
       "    </tr>\n",
       "    <tr>\n",
       "      <th>1829</th>\n",
       "      <td>145</td>\n",
       "      <td>198161</td>\n",
       "      <td>226841</td>\n",
       "      <td>2144-04-01 03:33:00</td>\n",
       "      <td>2 days 03:33:00.000000000</td>\n",
       "      <td>2144-03-30</td>\n",
       "      <td>O2FLOW</td>\n",
       "      <td>5.0</td>\n",
       "      <td>L/min</td>\n",
       "    </tr>\n",
       "    <tr>\n",
       "      <th>3530</th>\n",
       "      <td>214</td>\n",
       "      <td>197273</td>\n",
       "      <td>200066</td>\n",
       "      <td>2188-10-07 13:00:00</td>\n",
       "      <td>0 days 13:00:00.000000000</td>\n",
       "      <td>2188-10-07</td>\n",
       "      <td>O2FLOW</td>\n",
       "      <td>6.0</td>\n",
       "      <td>L/min</td>\n",
       "    </tr>\n",
       "    <tr>\n",
       "      <th>3561</th>\n",
       "      <td>214</td>\n",
       "      <td>197273</td>\n",
       "      <td>200066</td>\n",
       "      <td>2188-10-08 04:10:00</td>\n",
       "      <td>1 days 04:10:00.000000000</td>\n",
       "      <td>2188-10-07</td>\n",
       "      <td>O2FLOW</td>\n",
       "      <td>15.0</td>\n",
       "      <td>L/min</td>\n",
       "    </tr>\n",
       "    <tr>\n",
       "      <th>3571</th>\n",
       "      <td>214</td>\n",
       "      <td>197273</td>\n",
       "      <td>200066</td>\n",
       "      <td>2188-10-08 10:52:00</td>\n",
       "      <td>1 days 10:52:00.000000000</td>\n",
       "      <td>2188-10-07</td>\n",
       "      <td>O2FLOW</td>\n",
       "      <td>12.0</td>\n",
       "      <td>L/min</td>\n",
       "    </tr>\n",
       "    <tr>\n",
       "      <th>4648</th>\n",
       "      <td>234</td>\n",
       "      <td>188399</td>\n",
       "      <td>252814</td>\n",
       "      <td>2105-03-03 14:46:00</td>\n",
       "      <td>0 days 14:46:00.000000000</td>\n",
       "      <td>2105-03-03</td>\n",
       "      <td>O2FLOW</td>\n",
       "      <td>2.0</td>\n",
       "      <td>L/min</td>\n",
       "    </tr>\n",
       "    <tr>\n",
       "      <th>7878</th>\n",
       "      <td>391</td>\n",
       "      <td>100095</td>\n",
       "      <td>220320</td>\n",
       "      <td>2108-09-30 02:15:00</td>\n",
       "      <td>1 days 02:15:00.000000000</td>\n",
       "      <td>2108-09-29</td>\n",
       "      <td>O2FLOW</td>\n",
       "      <td>5.0</td>\n",
       "      <td>L/min</td>\n",
       "    </tr>\n",
       "    <tr>\n",
       "      <th>7918</th>\n",
       "      <td>391</td>\n",
       "      <td>100095</td>\n",
       "      <td>220320</td>\n",
       "      <td>2108-09-30 21:49:00</td>\n",
       "      <td>1 days 21:49:00.000000000</td>\n",
       "      <td>2108-09-29</td>\n",
       "      <td>O2FLOW</td>\n",
       "      <td>3.0</td>\n",
       "      <td>L/min</td>\n",
       "    </tr>\n",
       "    <tr>\n",
       "      <th>7939</th>\n",
       "      <td>391</td>\n",
       "      <td>100095</td>\n",
       "      <td>220320</td>\n",
       "      <td>2108-10-01 06:53:00</td>\n",
       "      <td>2 days 06:53:00.000000000</td>\n",
       "      <td>2108-09-29</td>\n",
       "      <td>O2FLOW</td>\n",
       "      <td>4.0</td>\n",
       "      <td>L/min</td>\n",
       "    </tr>\n",
       "    <tr>\n",
       "      <th>7970</th>\n",
       "      <td>395</td>\n",
       "      <td>137967</td>\n",
       "      <td>264051</td>\n",
       "      <td>2127-06-16 00:28:00</td>\n",
       "      <td>0 days 00:28:00.000000000</td>\n",
       "      <td>2127-06-16</td>\n",
       "      <td>O2FLOW</td>\n",
       "      <td>4.0</td>\n",
       "      <td>L/min</td>\n",
       "    </tr>\n",
       "    <tr>\n",
       "      <th>9709</th>\n",
       "      <td>452</td>\n",
       "      <td>177171</td>\n",
       "      <td>239694</td>\n",
       "      <td>2110-08-08 23:00:00</td>\n",
       "      <td>1 days 23:00:00.000000000</td>\n",
       "      <td>2110-08-07</td>\n",
       "      <td>O2FLOW</td>\n",
       "      <td>4.0</td>\n",
       "      <td>L/min</td>\n",
       "    </tr>\n",
       "    <tr>\n",
       "      <th>9719</th>\n",
       "      <td>452</td>\n",
       "      <td>177171</td>\n",
       "      <td>239694</td>\n",
       "      <td>2110-08-09 02:43:00</td>\n",
       "      <td>2 days 02:43:00.000000000</td>\n",
       "      <td>2110-08-07</td>\n",
       "      <td>O2FLOW</td>\n",
       "      <td>4.0</td>\n",
       "      <td>L/min</td>\n",
       "    </tr>\n",
       "    <tr>\n",
       "      <th>9927</th>\n",
       "      <td>453</td>\n",
       "      <td>187961</td>\n",
       "      <td>207460</td>\n",
       "      <td>2156-04-22 07:44:00</td>\n",
       "      <td>0 days 07:44:00.000000000</td>\n",
       "      <td>2156-04-22</td>\n",
       "      <td>O2FLOW</td>\n",
       "      <td>4.0</td>\n",
       "      <td>L/min</td>\n",
       "    </tr>\n",
       "    <tr>\n",
       "      <th>10864</th>\n",
       "      <td>503</td>\n",
       "      <td>117386</td>\n",
       "      <td>272162</td>\n",
       "      <td>2126-11-18 06:24:00</td>\n",
       "      <td>1 days 06:24:00.000000000</td>\n",
       "      <td>2126-11-17</td>\n",
       "      <td>O2FLOW</td>\n",
       "      <td>4.0</td>\n",
       "      <td>L/min</td>\n",
       "    </tr>\n",
       "    <tr>\n",
       "      <th>11514</th>\n",
       "      <td>576</td>\n",
       "      <td>108911</td>\n",
       "      <td>259389</td>\n",
       "      <td>2126-08-21 00:28:00</td>\n",
       "      <td>0 days 00:28:00.000000000</td>\n",
       "      <td>2126-08-21</td>\n",
       "      <td>O2FLOW</td>\n",
       "      <td>12.0</td>\n",
       "      <td>L/min</td>\n",
       "    </tr>\n",
       "    <tr>\n",
       "      <th>11616</th>\n",
       "      <td>588</td>\n",
       "      <td>170452</td>\n",
       "      <td>227563</td>\n",
       "      <td>2200-01-08 17:54:00</td>\n",
       "      <td>0 days 17:54:00.000000000</td>\n",
       "      <td>2200-01-08</td>\n",
       "      <td>O2FLOW</td>\n",
       "      <td>2.0</td>\n",
       "      <td>L/min</td>\n",
       "    </tr>\n",
       "    <tr>\n",
       "      <th>12190</th>\n",
       "      <td>619</td>\n",
       "      <td>167213</td>\n",
       "      <td>250890</td>\n",
       "      <td>2105-12-23 00:12:00</td>\n",
       "      <td>0 days 00:12:00.000000000</td>\n",
       "      <td>2105-12-23</td>\n",
       "      <td>O2FLOW</td>\n",
       "      <td>3.0</td>\n",
       "      <td>L/min</td>\n",
       "    </tr>\n",
       "    <tr>\n",
       "      <th>12266</th>\n",
       "      <td>619</td>\n",
       "      <td>167213</td>\n",
       "      <td>250890</td>\n",
       "      <td>2105-12-24 04:18:00</td>\n",
       "      <td>1 days 04:18:00.000000000</td>\n",
       "      <td>2105-12-23</td>\n",
       "      <td>O2FLOW</td>\n",
       "      <td>4.0</td>\n",
       "      <td>L/min</td>\n",
       "    </tr>\n",
       "    <tr>\n",
       "      <th>13492</th>\n",
       "      <td>689</td>\n",
       "      <td>129080</td>\n",
       "      <td>262832</td>\n",
       "      <td>2183-04-02 05:13:00</td>\n",
       "      <td>0 days 05:13:00.000000000</td>\n",
       "      <td>2183-04-02</td>\n",
       "      <td>O2FLOW</td>\n",
       "      <td>3.0</td>\n",
       "      <td>L/min</td>\n",
       "    </tr>\n",
       "    <tr>\n",
       "      <th>13534</th>\n",
       "      <td>689</td>\n",
       "      <td>129080</td>\n",
       "      <td>262832</td>\n",
       "      <td>2183-04-03 18:38:00</td>\n",
       "      <td>1 days 18:38:00.000000000</td>\n",
       "      <td>2183-04-02</td>\n",
       "      <td>O2FLOW</td>\n",
       "      <td>2.0</td>\n",
       "      <td>L/min</td>\n",
       "    </tr>\n",
       "    <tr>\n",
       "      <th>13700</th>\n",
       "      <td>689</td>\n",
       "      <td>163520</td>\n",
       "      <td>250569</td>\n",
       "      <td>2180-04-06 23:13:00</td>\n",
       "      <td>2 days 23:13:00.000000000</td>\n",
       "      <td>2180-04-04</td>\n",
       "      <td>O2FLOW</td>\n",
       "      <td>15.0</td>\n",
       "      <td>L/min</td>\n",
       "    </tr>\n",
       "    <tr>\n",
       "      <th>13842</th>\n",
       "      <td>709</td>\n",
       "      <td>161647</td>\n",
       "      <td>290991</td>\n",
       "      <td>2117-01-22 08:54:00</td>\n",
       "      <td>0 days 08:54:00.000000000</td>\n",
       "      <td>2117-01-22</td>\n",
       "      <td>O2FLOW</td>\n",
       "      <td>8.0</td>\n",
       "      <td>L/min</td>\n",
       "    </tr>\n",
       "    <tr>\n",
       "      <th>14839</th>\n",
       "      <td>768</td>\n",
       "      <td>170167</td>\n",
       "      <td>216049</td>\n",
       "      <td>2175-02-06 02:40:00</td>\n",
       "      <td>2 days 02:40:00.000000000</td>\n",
       "      <td>2175-02-04</td>\n",
       "      <td>O2FLOW</td>\n",
       "      <td>12.0</td>\n",
       "      <td>L/min</td>\n",
       "    </tr>\n",
       "    <tr>\n",
       "      <th>14849</th>\n",
       "      <td>771</td>\n",
       "      <td>173072</td>\n",
       "      <td>203392</td>\n",
       "      <td>2166-03-05 19:15:00</td>\n",
       "      <td>1 days 19:15:00.000000000</td>\n",
       "      <td>2166-03-04</td>\n",
       "      <td>O2FLOW</td>\n",
       "      <td>6.0</td>\n",
       "      <td>L/min</td>\n",
       "    </tr>\n",
       "    <tr>\n",
       "      <th>15006</th>\n",
       "      <td>787</td>\n",
       "      <td>179228</td>\n",
       "      <td>214226</td>\n",
       "      <td>2142-06-23 01:42:00</td>\n",
       "      <td>0 days 01:42:00.000000000</td>\n",
       "      <td>2142-06-23</td>\n",
       "      <td>O2FLOW</td>\n",
       "      <td>4.0</td>\n",
       "      <td>L/min</td>\n",
       "    </tr>\n",
       "    <tr>\n",
       "      <th>...</th>\n",
       "      <td>...</td>\n",
       "      <td>...</td>\n",
       "      <td>...</td>\n",
       "      <td>...</td>\n",
       "      <td>...</td>\n",
       "      <td>...</td>\n",
       "      <td>...</td>\n",
       "      <td>...</td>\n",
       "      <td>...</td>\n",
       "    </tr>\n",
       "    <tr>\n",
       "      <th>857899</th>\n",
       "      <td>84606</td>\n",
       "      <td>143130</td>\n",
       "      <td>219088</td>\n",
       "      <td>2178-08-28 02:42:00</td>\n",
       "      <td>1 days 02:42:00.000000000</td>\n",
       "      <td>2178-08-27</td>\n",
       "      <td>O2FLOW</td>\n",
       "      <td>4.0</td>\n",
       "      <td>L/min</td>\n",
       "    </tr>\n",
       "    <tr>\n",
       "      <th>857911</th>\n",
       "      <td>84606</td>\n",
       "      <td>143130</td>\n",
       "      <td>219088</td>\n",
       "      <td>2178-08-28 06:35:00</td>\n",
       "      <td>1 days 06:35:00.000000000</td>\n",
       "      <td>2178-08-27</td>\n",
       "      <td>O2FLOW</td>\n",
       "      <td>4.0</td>\n",
       "      <td>L/min</td>\n",
       "    </tr>\n",
       "    <tr>\n",
       "      <th>863046</th>\n",
       "      <td>85699</td>\n",
       "      <td>192742</td>\n",
       "      <td>295808</td>\n",
       "      <td>2153-03-27 20:06:00</td>\n",
       "      <td>1 days 20:06:00.000000000</td>\n",
       "      <td>2153-03-26</td>\n",
       "      <td>O2FLOW</td>\n",
       "      <td>15.0</td>\n",
       "      <td>L/min</td>\n",
       "    </tr>\n",
       "    <tr>\n",
       "      <th>866264</th>\n",
       "      <td>86570</td>\n",
       "      <td>127969</td>\n",
       "      <td>285308</td>\n",
       "      <td>2152-10-26 07:44:00</td>\n",
       "      <td>0 days 07:44:00.000000000</td>\n",
       "      <td>2152-10-26</td>\n",
       "      <td>O2FLOW</td>\n",
       "      <td>4.0</td>\n",
       "      <td>L/min</td>\n",
       "    </tr>\n",
       "    <tr>\n",
       "      <th>872373</th>\n",
       "      <td>87868</td>\n",
       "      <td>171672</td>\n",
       "      <td>283472</td>\n",
       "      <td>2142-11-13 05:01:00</td>\n",
       "      <td>0 days 05:01:00.000000000</td>\n",
       "      <td>2142-11-13</td>\n",
       "      <td>O2FLOW</td>\n",
       "      <td>6.0</td>\n",
       "      <td>L/min</td>\n",
       "    </tr>\n",
       "    <tr>\n",
       "      <th>872392</th>\n",
       "      <td>87868</td>\n",
       "      <td>171672</td>\n",
       "      <td>283472</td>\n",
       "      <td>2142-11-14 00:12:00</td>\n",
       "      <td>1 days 00:12:00.000000000</td>\n",
       "      <td>2142-11-13</td>\n",
       "      <td>O2FLOW</td>\n",
       "      <td>3.0</td>\n",
       "      <td>L/min</td>\n",
       "    </tr>\n",
       "    <tr>\n",
       "      <th>873675</th>\n",
       "      <td>88081</td>\n",
       "      <td>113344</td>\n",
       "      <td>269612</td>\n",
       "      <td>2138-09-15 02:34:00</td>\n",
       "      <td>1 days 02:34:00.000000000</td>\n",
       "      <td>2138-09-14</td>\n",
       "      <td>O2FLOW</td>\n",
       "      <td>4.0</td>\n",
       "      <td>L/min</td>\n",
       "    </tr>\n",
       "    <tr>\n",
       "      <th>873685</th>\n",
       "      <td>88081</td>\n",
       "      <td>113344</td>\n",
       "      <td>269612</td>\n",
       "      <td>2138-09-15 07:58:00</td>\n",
       "      <td>1 days 07:58:00.000000000</td>\n",
       "      <td>2138-09-14</td>\n",
       "      <td>O2FLOW</td>\n",
       "      <td>4.0</td>\n",
       "      <td>L/min</td>\n",
       "    </tr>\n",
       "    <tr>\n",
       "      <th>874669</th>\n",
       "      <td>88407</td>\n",
       "      <td>190105</td>\n",
       "      <td>203080</td>\n",
       "      <td>2108-06-14 11:17:00</td>\n",
       "      <td>0 days 11:17:00.000000000</td>\n",
       "      <td>2108-06-14</td>\n",
       "      <td>O2FLOW</td>\n",
       "      <td>2.0</td>\n",
       "      <td>L/min</td>\n",
       "    </tr>\n",
       "    <tr>\n",
       "      <th>890667</th>\n",
       "      <td>91525</td>\n",
       "      <td>139858</td>\n",
       "      <td>293646</td>\n",
       "      <td>2160-05-29 01:33:00</td>\n",
       "      <td>0 days 01:33:00.000000000</td>\n",
       "      <td>2160-05-29</td>\n",
       "      <td>O2FLOW</td>\n",
       "      <td>6.0</td>\n",
       "      <td>L/min</td>\n",
       "    </tr>\n",
       "    <tr>\n",
       "      <th>891434</th>\n",
       "      <td>91601</td>\n",
       "      <td>165942</td>\n",
       "      <td>234666</td>\n",
       "      <td>2170-11-17 09:41:00</td>\n",
       "      <td>1 days 09:41:00.000000000</td>\n",
       "      <td>2170-11-16</td>\n",
       "      <td>O2FLOW</td>\n",
       "      <td>3.0</td>\n",
       "      <td>L/min</td>\n",
       "    </tr>\n",
       "    <tr>\n",
       "      <th>895280</th>\n",
       "      <td>92396</td>\n",
       "      <td>108519</td>\n",
       "      <td>295139</td>\n",
       "      <td>2142-10-05 01:17:00</td>\n",
       "      <td>0 days 01:17:00.000000000</td>\n",
       "      <td>2142-10-05</td>\n",
       "      <td>O2FLOW</td>\n",
       "      <td>2.0</td>\n",
       "      <td>L/min</td>\n",
       "    </tr>\n",
       "    <tr>\n",
       "      <th>896982</th>\n",
       "      <td>92933</td>\n",
       "      <td>129028</td>\n",
       "      <td>240673</td>\n",
       "      <td>2122-06-29 00:55:00</td>\n",
       "      <td>1 days 00:55:00.000000000</td>\n",
       "      <td>2122-06-28</td>\n",
       "      <td>O2FLOW</td>\n",
       "      <td>10.0</td>\n",
       "      <td>L/min</td>\n",
       "    </tr>\n",
       "    <tr>\n",
       "      <th>897167</th>\n",
       "      <td>93018</td>\n",
       "      <td>141382</td>\n",
       "      <td>272831</td>\n",
       "      <td>2107-02-18 09:56:00</td>\n",
       "      <td>0 days 09:56:00.000000000</td>\n",
       "      <td>2107-02-18</td>\n",
       "      <td>O2FLOW</td>\n",
       "      <td>2.0</td>\n",
       "      <td>L/min</td>\n",
       "    </tr>\n",
       "    <tr>\n",
       "      <th>898683</th>\n",
       "      <td>93187</td>\n",
       "      <td>121896</td>\n",
       "      <td>238500</td>\n",
       "      <td>2120-01-10 00:59:00</td>\n",
       "      <td>1 days 00:59:00.000000000</td>\n",
       "      <td>2120-01-09</td>\n",
       "      <td>O2FLOW</td>\n",
       "      <td>2.0</td>\n",
       "      <td>L/min</td>\n",
       "    </tr>\n",
       "    <tr>\n",
       "      <th>899268</th>\n",
       "      <td>93299</td>\n",
       "      <td>149417</td>\n",
       "      <td>262493</td>\n",
       "      <td>2176-07-09 18:15:00</td>\n",
       "      <td>1 days 18:15:00.000000000</td>\n",
       "      <td>2176-07-08</td>\n",
       "      <td>O2FLOW</td>\n",
       "      <td>4.0</td>\n",
       "      <td>L/min</td>\n",
       "    </tr>\n",
       "    <tr>\n",
       "      <th>902298</th>\n",
       "      <td>94050</td>\n",
       "      <td>173013</td>\n",
       "      <td>219978</td>\n",
       "      <td>2165-10-04 11:47:00</td>\n",
       "      <td>2 days 11:47:00.000000000</td>\n",
       "      <td>2165-10-02</td>\n",
       "      <td>O2FLOW</td>\n",
       "      <td>15.0</td>\n",
       "      <td>L/min</td>\n",
       "    </tr>\n",
       "    <tr>\n",
       "      <th>902418</th>\n",
       "      <td>94057</td>\n",
       "      <td>113695</td>\n",
       "      <td>239280</td>\n",
       "      <td>2198-05-25 23:48:00</td>\n",
       "      <td>2 days 23:48:00.000000000</td>\n",
       "      <td>2198-05-23</td>\n",
       "      <td>O2FLOW</td>\n",
       "      <td>30.0</td>\n",
       "      <td>L/min</td>\n",
       "    </tr>\n",
       "    <tr>\n",
       "      <th>903510</th>\n",
       "      <td>94258</td>\n",
       "      <td>112233</td>\n",
       "      <td>252780</td>\n",
       "      <td>2162-10-28 22:39:00</td>\n",
       "      <td>1 days 22:39:00.000000000</td>\n",
       "      <td>2162-10-27</td>\n",
       "      <td>O2FLOW</td>\n",
       "      <td>50.0</td>\n",
       "      <td>L/min</td>\n",
       "    </tr>\n",
       "    <tr>\n",
       "      <th>915739</th>\n",
       "      <td>96624</td>\n",
       "      <td>187213</td>\n",
       "      <td>285408</td>\n",
       "      <td>2156-12-10 08:11:00</td>\n",
       "      <td>2 days 08:11:00.000000000</td>\n",
       "      <td>2156-12-08</td>\n",
       "      <td>O2FLOW</td>\n",
       "      <td>4.0</td>\n",
       "      <td>L/min</td>\n",
       "    </tr>\n",
       "    <tr>\n",
       "      <th>918846</th>\n",
       "      <td>97229</td>\n",
       "      <td>191765</td>\n",
       "      <td>212388</td>\n",
       "      <td>2130-05-13 03:08:00</td>\n",
       "      <td>1 days 03:08:00.000000000</td>\n",
       "      <td>2130-05-12</td>\n",
       "      <td>O2FLOW</td>\n",
       "      <td>10.0</td>\n",
       "      <td>L/min</td>\n",
       "    </tr>\n",
       "    <tr>\n",
       "      <th>918864</th>\n",
       "      <td>97229</td>\n",
       "      <td>191765</td>\n",
       "      <td>212388</td>\n",
       "      <td>2130-05-13 20:08:00</td>\n",
       "      <td>1 days 20:08:00.000000000</td>\n",
       "      <td>2130-05-12</td>\n",
       "      <td>O2FLOW</td>\n",
       "      <td>2.5</td>\n",
       "      <td>L/min</td>\n",
       "    </tr>\n",
       "    <tr>\n",
       "      <th>922347</th>\n",
       "      <td>97937</td>\n",
       "      <td>106005</td>\n",
       "      <td>286919</td>\n",
       "      <td>2108-12-29 06:48:00</td>\n",
       "      <td>1 days 06:48:00.000000000</td>\n",
       "      <td>2108-12-28</td>\n",
       "      <td>O2FLOW</td>\n",
       "      <td>2.5</td>\n",
       "      <td>L/min</td>\n",
       "    </tr>\n",
       "    <tr>\n",
       "      <th>923777</th>\n",
       "      <td>98384</td>\n",
       "      <td>135001</td>\n",
       "      <td>283564</td>\n",
       "      <td>2149-11-27 10:14:00</td>\n",
       "      <td>0 days 10:14:00.000000000</td>\n",
       "      <td>2149-11-27</td>\n",
       "      <td>O2FLOW</td>\n",
       "      <td>4.0</td>\n",
       "      <td>L/min</td>\n",
       "    </tr>\n",
       "    <tr>\n",
       "      <th>927783</th>\n",
       "      <td>99080</td>\n",
       "      <td>173330</td>\n",
       "      <td>255410</td>\n",
       "      <td>2100-11-15 11:58:00</td>\n",
       "      <td>0 days 11:58:00.000000000</td>\n",
       "      <td>2100-11-15</td>\n",
       "      <td>O2FLOW</td>\n",
       "      <td>6.0</td>\n",
       "      <td>L/min</td>\n",
       "    </tr>\n",
       "    <tr>\n",
       "      <th>928358</th>\n",
       "      <td>99197</td>\n",
       "      <td>145322</td>\n",
       "      <td>210950</td>\n",
       "      <td>2124-01-06 10:31:00</td>\n",
       "      <td>1 days 10:31:00.000000000</td>\n",
       "      <td>2124-01-05</td>\n",
       "      <td>O2FLOW</td>\n",
       "      <td>2.0</td>\n",
       "      <td>L/min</td>\n",
       "    </tr>\n",
       "    <tr>\n",
       "      <th>928372</th>\n",
       "      <td>99197</td>\n",
       "      <td>145322</td>\n",
       "      <td>210950</td>\n",
       "      <td>2124-01-06 16:06:00</td>\n",
       "      <td>1 days 16:06:00.000000000</td>\n",
       "      <td>2124-01-05</td>\n",
       "      <td>O2FLOW</td>\n",
       "      <td>2.0</td>\n",
       "      <td>L/min</td>\n",
       "    </tr>\n",
       "    <tr>\n",
       "      <th>928407</th>\n",
       "      <td>99197</td>\n",
       "      <td>145322</td>\n",
       "      <td>210950</td>\n",
       "      <td>2124-01-07 16:03:00</td>\n",
       "      <td>2 days 16:03:00.000000000</td>\n",
       "      <td>2124-01-05</td>\n",
       "      <td>O2FLOW</td>\n",
       "      <td>2.0</td>\n",
       "      <td>L/min</td>\n",
       "    </tr>\n",
       "    <tr>\n",
       "      <th>930614</th>\n",
       "      <td>99647</td>\n",
       "      <td>192055</td>\n",
       "      <td>224964</td>\n",
       "      <td>2147-11-26 10:37:00</td>\n",
       "      <td>0 days 10:37:00.000000000</td>\n",
       "      <td>2147-11-26</td>\n",
       "      <td>O2FLOW</td>\n",
       "      <td>2.0</td>\n",
       "      <td>L/min</td>\n",
       "    </tr>\n",
       "    <tr>\n",
       "      <th>932712</th>\n",
       "      <td>99894</td>\n",
       "      <td>127380</td>\n",
       "      <td>204236</td>\n",
       "      <td>2129-07-07 08:54:00</td>\n",
       "      <td>2 days 08:54:00.000000000</td>\n",
       "      <td>2129-07-05</td>\n",
       "      <td>O2FLOW</td>\n",
       "      <td>2.0</td>\n",
       "      <td>L/min</td>\n",
       "    </tr>\n",
       "  </tbody>\n",
       "</table>\n",
       "<p>1096 rows × 9 columns</p>\n",
       "</div>"
      ],
      "text/plain": [
       "        subject_id  hadm_id  icustay_id            charttime  \\\n",
       "129             21   109451      217847  2134-09-12 11:01:00   \n",
       "239             21   109451      217847  2134-09-14 10:50:00   \n",
       "251             21   111970      216859  2135-02-01 18:00:00   \n",
       "289             25   129635      203487  2160-11-02 08:51:00   \n",
       "452             38   185910      248910  2166-08-11 03:00:00   \n",
       "1817           145   198161      226841  2144-03-31 20:00:00   \n",
       "1829           145   198161      226841  2144-04-01 03:33:00   \n",
       "3530           214   197273      200066  2188-10-07 13:00:00   \n",
       "3561           214   197273      200066  2188-10-08 04:10:00   \n",
       "3571           214   197273      200066  2188-10-08 10:52:00   \n",
       "4648           234   188399      252814  2105-03-03 14:46:00   \n",
       "7878           391   100095      220320  2108-09-30 02:15:00   \n",
       "7918           391   100095      220320  2108-09-30 21:49:00   \n",
       "7939           391   100095      220320  2108-10-01 06:53:00   \n",
       "7970           395   137967      264051  2127-06-16 00:28:00   \n",
       "9709           452   177171      239694  2110-08-08 23:00:00   \n",
       "9719           452   177171      239694  2110-08-09 02:43:00   \n",
       "9927           453   187961      207460  2156-04-22 07:44:00   \n",
       "10864          503   117386      272162  2126-11-18 06:24:00   \n",
       "11514          576   108911      259389  2126-08-21 00:28:00   \n",
       "11616          588   170452      227563  2200-01-08 17:54:00   \n",
       "12190          619   167213      250890  2105-12-23 00:12:00   \n",
       "12266          619   167213      250890  2105-12-24 04:18:00   \n",
       "13492          689   129080      262832  2183-04-02 05:13:00   \n",
       "13534          689   129080      262832  2183-04-03 18:38:00   \n",
       "13700          689   163520      250569  2180-04-06 23:13:00   \n",
       "13842          709   161647      290991  2117-01-22 08:54:00   \n",
       "14839          768   170167      216049  2175-02-06 02:40:00   \n",
       "14849          771   173072      203392  2166-03-05 19:15:00   \n",
       "15006          787   179228      214226  2142-06-23 01:42:00   \n",
       "...            ...      ...         ...                  ...   \n",
       "857899       84606   143130      219088  2178-08-28 02:42:00   \n",
       "857911       84606   143130      219088  2178-08-28 06:35:00   \n",
       "863046       85699   192742      295808  2153-03-27 20:06:00   \n",
       "866264       86570   127969      285308  2152-10-26 07:44:00   \n",
       "872373       87868   171672      283472  2142-11-13 05:01:00   \n",
       "872392       87868   171672      283472  2142-11-14 00:12:00   \n",
       "873675       88081   113344      269612  2138-09-15 02:34:00   \n",
       "873685       88081   113344      269612  2138-09-15 07:58:00   \n",
       "874669       88407   190105      203080  2108-06-14 11:17:00   \n",
       "890667       91525   139858      293646  2160-05-29 01:33:00   \n",
       "891434       91601   165942      234666  2170-11-17 09:41:00   \n",
       "895280       92396   108519      295139  2142-10-05 01:17:00   \n",
       "896982       92933   129028      240673  2122-06-29 00:55:00   \n",
       "897167       93018   141382      272831  2107-02-18 09:56:00   \n",
       "898683       93187   121896      238500  2120-01-10 00:59:00   \n",
       "899268       93299   149417      262493  2176-07-09 18:15:00   \n",
       "902298       94050   173013      219978  2165-10-04 11:47:00   \n",
       "902418       94057   113695      239280  2198-05-25 23:48:00   \n",
       "903510       94258   112233      252780  2162-10-28 22:39:00   \n",
       "915739       96624   187213      285408  2156-12-10 08:11:00   \n",
       "918846       97229   191765      212388  2130-05-13 03:08:00   \n",
       "918864       97229   191765      212388  2130-05-13 20:08:00   \n",
       "922347       97937   106005      286919  2108-12-29 06:48:00   \n",
       "923777       98384   135001      283564  2149-11-27 10:14:00   \n",
       "927783       99080   173330      255410  2100-11-15 11:58:00   \n",
       "928358       99197   145322      210950  2124-01-06 10:31:00   \n",
       "928372       99197   145322      210950  2124-01-06 16:06:00   \n",
       "928407       99197   145322      210950  2124-01-07 16:03:00   \n",
       "930614       99647   192055      224964  2147-11-26 10:37:00   \n",
       "932712       99894   127380      204236  2129-07-07 08:54:00   \n",
       "\n",
       "                            delta         t_0   label  valuenum    uom  \n",
       "129     0 days 11:01:00.000000000  2134-09-12  O2FLOW      10.0  L/min  \n",
       "239     2 days 10:50:00.000000000  2134-09-12  O2FLOW       3.0  L/min  \n",
       "251     1 days 18:00:00.000000000  2135-01-31  O2FLOW       4.0  L/min  \n",
       "289     0 days 08:51:00.000000000  2160-11-02  O2FLOW       6.0  L/min  \n",
       "452     1 days 03:00:00.000000000  2166-08-10  O2FLOW       4.0  L/min  \n",
       "1817    1 days 20:00:00.000000000  2144-03-30  O2FLOW       4.0  L/min  \n",
       "1829    2 days 03:33:00.000000000  2144-03-30  O2FLOW       5.0  L/min  \n",
       "3530    0 days 13:00:00.000000000  2188-10-07  O2FLOW       6.0  L/min  \n",
       "3561    1 days 04:10:00.000000000  2188-10-07  O2FLOW      15.0  L/min  \n",
       "3571    1 days 10:52:00.000000000  2188-10-07  O2FLOW      12.0  L/min  \n",
       "4648    0 days 14:46:00.000000000  2105-03-03  O2FLOW       2.0  L/min  \n",
       "7878    1 days 02:15:00.000000000  2108-09-29  O2FLOW       5.0  L/min  \n",
       "7918    1 days 21:49:00.000000000  2108-09-29  O2FLOW       3.0  L/min  \n",
       "7939    2 days 06:53:00.000000000  2108-09-29  O2FLOW       4.0  L/min  \n",
       "7970    0 days 00:28:00.000000000  2127-06-16  O2FLOW       4.0  L/min  \n",
       "9709    1 days 23:00:00.000000000  2110-08-07  O2FLOW       4.0  L/min  \n",
       "9719    2 days 02:43:00.000000000  2110-08-07  O2FLOW       4.0  L/min  \n",
       "9927    0 days 07:44:00.000000000  2156-04-22  O2FLOW       4.0  L/min  \n",
       "10864   1 days 06:24:00.000000000  2126-11-17  O2FLOW       4.0  L/min  \n",
       "11514   0 days 00:28:00.000000000  2126-08-21  O2FLOW      12.0  L/min  \n",
       "11616   0 days 17:54:00.000000000  2200-01-08  O2FLOW       2.0  L/min  \n",
       "12190   0 days 00:12:00.000000000  2105-12-23  O2FLOW       3.0  L/min  \n",
       "12266   1 days 04:18:00.000000000  2105-12-23  O2FLOW       4.0  L/min  \n",
       "13492   0 days 05:13:00.000000000  2183-04-02  O2FLOW       3.0  L/min  \n",
       "13534   1 days 18:38:00.000000000  2183-04-02  O2FLOW       2.0  L/min  \n",
       "13700   2 days 23:13:00.000000000  2180-04-04  O2FLOW      15.0  L/min  \n",
       "13842   0 days 08:54:00.000000000  2117-01-22  O2FLOW       8.0  L/min  \n",
       "14839   2 days 02:40:00.000000000  2175-02-04  O2FLOW      12.0  L/min  \n",
       "14849   1 days 19:15:00.000000000  2166-03-04  O2FLOW       6.0  L/min  \n",
       "15006   0 days 01:42:00.000000000  2142-06-23  O2FLOW       4.0  L/min  \n",
       "...                           ...         ...     ...       ...    ...  \n",
       "857899  1 days 02:42:00.000000000  2178-08-27  O2FLOW       4.0  L/min  \n",
       "857911  1 days 06:35:00.000000000  2178-08-27  O2FLOW       4.0  L/min  \n",
       "863046  1 days 20:06:00.000000000  2153-03-26  O2FLOW      15.0  L/min  \n",
       "866264  0 days 07:44:00.000000000  2152-10-26  O2FLOW       4.0  L/min  \n",
       "872373  0 days 05:01:00.000000000  2142-11-13  O2FLOW       6.0  L/min  \n",
       "872392  1 days 00:12:00.000000000  2142-11-13  O2FLOW       3.0  L/min  \n",
       "873675  1 days 02:34:00.000000000  2138-09-14  O2FLOW       4.0  L/min  \n",
       "873685  1 days 07:58:00.000000000  2138-09-14  O2FLOW       4.0  L/min  \n",
       "874669  0 days 11:17:00.000000000  2108-06-14  O2FLOW       2.0  L/min  \n",
       "890667  0 days 01:33:00.000000000  2160-05-29  O2FLOW       6.0  L/min  \n",
       "891434  1 days 09:41:00.000000000  2170-11-16  O2FLOW       3.0  L/min  \n",
       "895280  0 days 01:17:00.000000000  2142-10-05  O2FLOW       2.0  L/min  \n",
       "896982  1 days 00:55:00.000000000  2122-06-28  O2FLOW      10.0  L/min  \n",
       "897167  0 days 09:56:00.000000000  2107-02-18  O2FLOW       2.0  L/min  \n",
       "898683  1 days 00:59:00.000000000  2120-01-09  O2FLOW       2.0  L/min  \n",
       "899268  1 days 18:15:00.000000000  2176-07-08  O2FLOW       4.0  L/min  \n",
       "902298  2 days 11:47:00.000000000  2165-10-02  O2FLOW      15.0  L/min  \n",
       "902418  2 days 23:48:00.000000000  2198-05-23  O2FLOW      30.0  L/min  \n",
       "903510  1 days 22:39:00.000000000  2162-10-27  O2FLOW      50.0  L/min  \n",
       "915739  2 days 08:11:00.000000000  2156-12-08  O2FLOW       4.0  L/min  \n",
       "918846  1 days 03:08:00.000000000  2130-05-12  O2FLOW      10.0  L/min  \n",
       "918864  1 days 20:08:00.000000000  2130-05-12  O2FLOW       2.5  L/min  \n",
       "922347  1 days 06:48:00.000000000  2108-12-28  O2FLOW       2.5  L/min  \n",
       "923777  0 days 10:14:00.000000000  2149-11-27  O2FLOW       4.0  L/min  \n",
       "927783  0 days 11:58:00.000000000  2100-11-15  O2FLOW       6.0  L/min  \n",
       "928358  1 days 10:31:00.000000000  2124-01-05  O2FLOW       2.0  L/min  \n",
       "928372  1 days 16:06:00.000000000  2124-01-05  O2FLOW       2.0  L/min  \n",
       "928407  2 days 16:03:00.000000000  2124-01-05  O2FLOW       2.0  L/min  \n",
       "930614  0 days 10:37:00.000000000  2147-11-26  O2FLOW       2.0  L/min  \n",
       "932712  2 days 08:54:00.000000000  2129-07-05  O2FLOW       2.0  L/min  \n",
       "\n",
       "[1096 rows x 9 columns]"
      ]
     },
     "execution_count": 91,
     "metadata": {},
     "output_type": "execute_result"
    },
    {
     "name": "stdout",
     "output_type": "stream",
     "text": [
      "time: 82.3 ms\n"
     ]
    }
   ],
   "source": [
    "bg_ART_nosummary.loc[bg_ART_nosummary.loc[:,'label']=='O2FLOW',:]\n",
    "#bg_ART_nosummary.loc[bg_ART_nosummary.loc[:,'icustay_id']==217847,:]\n",
    "bg_ART_nosummary.loc[(bg_ART_nosummary.loc[:,'label']=='O2FLOW') & (bg_ART_nosummary.loc[:,'icustay_id'].isin(o2_pt)),:]\n"
   ]
  },
  {
   "cell_type": "code",
   "execution_count": 92,
   "metadata": {},
   "outputs": [
    {
     "name": "stdout",
     "output_type": "stream",
     "text": [
      "time: 812 µs\n"
     ]
    }
   ],
   "source": [
    "#dfs[vent_df].loc[dfs[vent_df].loc[:,'icustay_id']==217847,:]\n"
   ]
  },
  {
   "cell_type": "code",
   "execution_count": null,
   "metadata": {},
   "outputs": [],
   "source": []
  },
  {
   "cell_type": "code",
   "execution_count": null,
   "metadata": {},
   "outputs": [],
   "source": []
  },
  {
   "cell_type": "code",
   "execution_count": 93,
   "metadata": {},
   "outputs": [
    {
     "name": "stdout",
     "output_type": "stream",
     "text": [
      "time: 226 ms\n"
     ]
    }
   ],
   "source": [
    "#converting O2 to y/n\n",
    "o2_flow_df= bg_ART_nosummary.loc[bg_ART_nosummary.loc[:,'label']=='O2FLOW',:]\n",
    "o2_flow_df=o2_flow_df.rename(index=str, columns={'valuenum':'value'})\n",
    "o2_flow_df= yn_convert(o2_flow_df, label_fill='o2_flow', time_var=time_var)\n",
    "o2_flow_df['label']=\"o2_flow\" #fixing label\n",
    "\n",
    "#removing o2_flow from bg_ART\n",
    "bg_ART_nosummary= bg_ART_nosummary.loc[bg_ART_nosummary.loc[:,'label']!='O2FLOW',:]"
   ]
  },
  {
   "cell_type": "code",
   "execution_count": 94,
   "metadata": {},
   "outputs": [
    {
     "name": "stdout",
     "output_type": "stream",
     "text": [
      "time: 18 ms\n"
     ]
    }
   ],
   "source": [
    "bg_ART_nosummary= bg_ART_nosummary.loc[bg_ART_nosummary.loc[:,'label']!='PEEP',:]"
   ]
  },
  {
   "cell_type": "markdown",
   "metadata": {},
   "source": [
    "## PaO2:FiO2\n",
    "* PaO2: measurement of oxygen pressure in arterial blood\n",
    "* FiO2: % of oxygen in the air a patient is breathing. in normal air this is 21% oxygen\n",
    "* SpO2: Peripheral capillary oxygen saturation, estimate of the amount of oxygen in the blood. this is % of oxygenated haemoglobin compared to total haemoglobin"
   ]
  },
  {
   "cell_type": "markdown",
   "metadata": {},
   "source": [
    "***requirements: run vitals, ventilation before this to get spo2 & ventilation category.\n",
    "I would modify the criteria to be more strict:\n",
    "* first isolate patients on mech ventilation: these are only patients we calc P:F for\n",
    "* find PaO2:\n",
    "    * if no PaO2:\n",
    "     * find SpO2 <=97 --> ~PaO2\n",
    "       * SpO2 to estimate and PaO2 equivalent via the equation used by Knox et al to convert to PaO2-equivalent.\n",
    "* once have all PaO2 and estimated PaO2:\n",
    " * find last measured fio2 between t- 6hours :t, where t= time of PaO2  \n",
    "* impute P:F= 476 for every other icustay_id. \n",
    "* Use P:F as a continuous value unless there is a clear need to bucket, and if so use <100,100-200, 200-300, >300"
   ]
  },
  {
   "cell_type": "markdown",
   "metadata": {},
   "source": [
    "##### first isolate patients who had mech or oxygen ventilation during their N hours\n",
    "these are only patients we calc P:F for"
   ]
  },
  {
   "cell_type": "markdown",
   "metadata": {},
   "source": [
    "first, filter pao2 and fio2 to only icustay who have ventilation (pf_ratio_icu)"
   ]
  },
  {
   "cell_type": "code",
   "execution_count": 95,
   "metadata": {},
   "outputs": [
    {
     "name": "stdout",
     "output_type": "stream",
     "text": [
      "time: 6.23 ms\n"
     ]
    }
   ],
   "source": [
    "vent_icu=list(ventcategory_1day_df[ventcategory_1day_df['value'].isin(['Mech'])]['icustay_id'].unique())"
   ]
  },
  {
   "cell_type": "markdown",
   "metadata": {},
   "source": [
    "next isolate the pao2 and fio2 from the bg arterial dataframe. \n",
    " * pao2: all pao2 measurements in cohort -> pao2 measurements for icustay with ventilation\n",
    " * fio2: all fio2 measurements (chartevents) in cohort -> fio2 measurements for icustay with ventilation"
   ]
  },
  {
   "cell_type": "code",
   "execution_count": 96,
   "metadata": {},
   "outputs": [
    {
     "name": "stdout",
     "output_type": "stream",
     "text": [
      "time: 1.45 s\n"
     ]
    }
   ],
   "source": [
    "#using bloodgas\n",
    "\n",
    "fio2_chart_df['delta']=pd.to_timedelta(fio2_chart_df['delta'])\n",
    "fio2_chart_df= fio2_chart_df[fio2_chart_df['value'].notnull()].copy()\n",
    "\n",
    "pao2= bg_ART_nosummary.loc[bg_ART_nosummary.loc[:,'label']=='PaO2',:].copy() \n",
    "pao2.rename(index=str, columns={'valuenum':'value'}, inplace=True)\n",
    "pao2_vent= pao2[pao2.loc[:,'icustay_id'].isin(vent_icu)].copy()\n",
    "pao2_vent['delta']=pd.to_timedelta(pao2_vent['delta']).copy()\n",
    "pao2_vent= pao2_vent[pao2_vent['value'].notnull()] #removing some null rows"
   ]
  },
  {
   "cell_type": "markdown",
   "metadata": {},
   "source": [
    "##### next: find patients with ventilation but no PaO2 and collect their SpO2 values"
   ]
  },
  {
   "cell_type": "code",
   "execution_count": 97,
   "metadata": {},
   "outputs": [
    {
     "name": "stdout",
     "output_type": "stream",
     "text": [
      "time: 186 ms\n"
     ]
    }
   ],
   "source": [
    "# pao2_icu: icustay_id for pao2 with vent\n",
    "pao2_icu= list(pao2_vent['icustay_id'].unique())\n",
    "\n",
    "# find people with ventilation but no PaO2 measured (ie those who need it approximatd)\n",
    "vent_but_no_pao2_icu=set(vent_icu).difference(set(pao2_icu))\n",
    "\n",
    "## if on vent but no PaO2, then use SpO2 (if 97 or less) -> estimate PaO2 via equation below\n",
    "spo2_filtered= spo2[(spo2['icustay_id'].isin(vent_but_no_pao2_icu)) &\n",
    "                    (spo2['value']<=97.0)]"
   ]
  },
  {
   "cell_type": "code",
   "execution_count": 98,
   "metadata": {},
   "outputs": [
    {
     "name": "stdout",
     "output_type": "stream",
     "text": [
      "total icustay: 19633 \n",
      " mech during their 72 hours of clinical data:  10156 \n",
      "    -pao2, +vent:  6022 \n",
      "    +fio2, +vent:  10037 \n",
      " + vent, - pao2:  4134 \n",
      " +fio2, +vent, -pao2:  4094 \n",
      "\n",
      "time: 88.9 ms\n"
     ]
    }
   ],
   "source": [
    "##quick qc output\n",
    "print(\n",
    "    \"total icustay:\",  len(icustay_id), '\\n',\n",
    "    'mech during their 72 hours of clinical data: ',  len(vent_icu), '\\n',\n",
    "    '   -pao2, +vent: ',  pao2_vent['icustay_id'].nunique(), '\\n',\n",
    "    '   +fio2, +vent: ',  fio2_chart_df[fio2_chart_df['icustay_id'].isin(vent_icu)]['icustay_id'].nunique(), '\\n',\n",
    "    \n",
    "    '+ vent, - pao2: ',  len(vent_but_no_pao2_icu), '\\n',\n",
    "    '+fio2, +vent, -pao2: ',  fio2_chart_df[fio2_chart_df['icustay_id'].isin(vent_but_no_pao2_icu)]['icustay_id'].nunique(), '\\n',\n",
    ")"
   ]
  },
  {
   "cell_type": "markdown",
   "metadata": {},
   "source": [
    "##### next: estimate PaO2 using SpO2 for patients who have ventilation but no PaO2 measurement \n",
    "$$\\text{Ellis Severinghaus inversion}: PaO2_{estimate} =\\sqrt[3]{\\frac{1}{2} (-y_N + \\sqrt{y_N^2 -h^2})} + \\sqrt[3]{\\frac{1}{2} (-y_N - \\sqrt{y_N^2 -h^2})}$$\n",
    "\n",
    "$$ \\begin{cases} \n",
    "      h^2 =-500000 \\\\\n",
    "      y_N = -23400 * \\frac{s}{1-s} \\\\\n",
    "   \\end{cases}\n",
    "$$\n",
    "* s is the fractional oxygen saturation (0–1) and p is the associated oxygen tension in mm Hg. \n",
    "* qc: when s=0.5, p=26.856\n",
    "* equation source: http://www.nickalls.org/dick/papers/anes/severinghaus.pdf\n"
   ]
  },
  {
   "cell_type": "code",
   "execution_count": 99,
   "metadata": {},
   "outputs": [
    {
     "name": "stdout",
     "output_type": "stream",
     "text": [
      "time: 38.3 ms\n"
     ]
    }
   ],
   "source": [
    "def Ellis_SpO2(S):\n",
    "    \"\"\"\n",
    "    ellis inversion equation to approximate PaO2 from SpO2. \n",
    "    where s is the fractional oxygen saturation (SpO2) (0–1) and p is the associated oxygen tension in mm Hg (PaO2). \n",
    "    \"\"\"\n",
    "    if S >1 and S<100:\n",
    "        S=S/100.\n",
    "    elif S==1:\n",
    "        S=0.9999\n",
    "    elif S>0 and S<1:\n",
    "        pass\n",
    "\n",
    "    h2= -500000.\n",
    "    yn= -23400. * (S/(1.-S))\n",
    "\n",
    "    term1= np.sqrt(np.power(yn,2.) - h2)\n",
    "\n",
    "    term2= 0.5*(-yn + term1)\n",
    "    term3= 0.5*(-yn - term1)\n",
    "\n",
    "    term4= np.sign(term2) * np.abs(term2)**(1/3)\n",
    "    term5= np.sign(term3) * np.abs(term3)**(1/3)\n",
    "    p= term4+term5\n",
    "    return(p)\n",
    "    "
   ]
  },
  {
   "cell_type": "code",
   "execution_count": 100,
   "metadata": {},
   "outputs": [
    {
     "name": "stdout",
     "output_type": "stream",
     "text": [
      "time: 2.06 s\n"
     ]
    },
    {
     "name": "stderr",
     "output_type": "stream",
     "text": [
      "/Users/geickelb1/anaconda/envs/rpy-env/lib/python3.6/site-packages/pandas/core/indexing.py:543: SettingWithCopyWarning: \n",
      "A value is trying to be set on a copy of a slice from a DataFrame.\n",
      "Try using .loc[row_indexer,col_indexer] = value instead\n",
      "\n",
      "See the caveats in the documentation: http://pandas.pydata.org/pandas-docs/stable/indexing.html#indexing-view-versus-copy\n",
      "  self.obj[item] = s\n"
     ]
    }
   ],
   "source": [
    "# approximating Pao2 from SpO2:\n",
    "\n",
    "## only usable for spo2 values <=97\n",
    "spo2_filtered= spo2[(spo2['icustay_id'].isin(vent_but_no_pao2_icu)) &\n",
    "                    (spo2['value']<=97.0)]\n",
    "\n",
    "# run the Ellis_SpO2 to approx PaO2.\n",
    "spo2_filtered.loc[:,'value']= spo2_filtered.value.apply(Ellis_SpO2) #note this produces a false positive SettingWithCopyWarning\n",
    "\n",
    "spo2_filtered.loc[:,'label']='PaO2_estimate'\n",
    "spo2_filtered.loc[:,'uom']='mm Hg estimate'\n"
   ]
  },
  {
   "cell_type": "code",
   "execution_count": 101,
   "metadata": {},
   "outputs": [
    {
     "name": "stdout",
     "output_type": "stream",
     "text": [
      "time: 571 ms\n"
     ]
    }
   ],
   "source": [
    "#append the pao2 (for those with ventilation) and new approximated pao2 together\n",
    "pao2_appended=pao2_vent.append(spo2_filtered, sort=False).copy()"
   ]
  },
  {
   "cell_type": "markdown",
   "metadata": {},
   "source": [
    "* once have all PaO2 and estimated PaO2:\n",
    " * find fio2 measured between t- 6hours :t, where t= time of PaO2  \n",
    " * use most recent fio2 measure in this time?"
   ]
  },
  {
   "cell_type": "code",
   "execution_count": 102,
   "metadata": {},
   "outputs": [
    {
     "name": "stdout",
     "output_type": "stream",
     "text": [
      "time: 1.49 s\n"
     ]
    }
   ],
   "source": [
    "#quick time conversion to make sure both in timedelta format\n",
    "pao2_appended['delta']=pd.to_timedelta(pao2_appended['delta'])\n",
    "pao2_appended['charttime']=pd.to_datetime(pao2_appended['charttime'])\n",
    "fio2_chart_df['delta']=pd.to_timedelta(fio2_chart_df['delta'])\n",
    "fio2_chart_df['charttime']=pd.to_datetime(fio2_chart_df['charttime'])\n",
    "fio2_chart_df['label']='fio2'\n",
    "\n",
    "#labeling all PaO2 (both measured and approx) with offset column= the delta time offset by the n hours of time we look back for Fio2 values\n",
    "pao2_appended['offset']=pao2_appended['charttime'] - pd.to_timedelta(6, unit='h') #find most recent in this. "
   ]
  },
  {
   "cell_type": "code",
   "execution_count": 103,
   "metadata": {},
   "outputs": [
    {
     "name": "stdout",
     "output_type": "stream",
     "text": [
      "time: 1min 20s\n"
     ]
    }
   ],
   "source": [
    "#left cartesian product of pao2 and fio2 measurements. \n",
    "pao2_fio2_windowed= pd.merge(pao2_appended,\n",
    "              fio2_chart_df[['icustay_id','value','label','charttime','delta']].rename(index=str, columns={'value':'value2','label':'label2','charttime':'charttime2','delta':'delta2'}),\n",
    "              left_on='icustay_id',\n",
    "              right_on='icustay_id',\n",
    "              how='left') \n",
    "\n",
    "##take this left cartesian product and filter to rows where charttime2 (ie fio2 time) is between t-6:t where t= time at pao2 measurement. \n",
    "#now this should be all Pao2 (real and estimated) and Fio2 combinations that \n",
    "pao2_fio2_windowed= pao2_fio2_windowed[pd.to_datetime(pao2_fio2_windowed['charttime2']).between(pd.to_datetime(pao2_fio2_windowed['offset']),pd.to_datetime(pao2_fio2_windowed['charttime']))]"
   ]
  },
  {
   "cell_type": "code",
   "execution_count": 104,
   "metadata": {},
   "outputs": [
    {
     "name": "stdout",
     "output_type": "stream",
     "text": [
      "time: 3.69 s\n"
     ]
    }
   ],
   "source": [
    "## grabs the most recent FiO2 value for each associated PaO2 \n",
    "ratio_df= pao2_fio2_windowed.sort_values(['icustay_id','charttime','charttime2'], ascending=[True,True, False]).drop_duplicates(['icustay_id','charttime'],keep='first')"
   ]
  },
  {
   "cell_type": "code",
   "execution_count": 105,
   "metadata": {},
   "outputs": [
    {
     "name": "stdout",
     "output_type": "stream",
     "text": [
      "time: 538 ms\n"
     ]
    }
   ],
   "source": [
    "ratio_df.loc[ratio_df.loc[:,'value2'].isnull(),'value2']= 21 #impute 21 for FiO2 values that are missing (very few of them)\n",
    "ratio_df['ratio']= ratio_df['value']/(ratio_df['value2']/100) #calculate the ratio\n",
    "ratio_df.loc[ratio_df['charttime2'].isnull(),'charttime2']= ratio_df.loc[ratio_df['charttime2'].isnull(),'charttime']\n",
    "ratio_df['deltadelta']=pd.to_datetime(ratio_df['charttime'])-pd.to_datetime(ratio_df['charttime2'])"
   ]
  },
  {
   "cell_type": "code",
   "execution_count": 106,
   "metadata": {},
   "outputs": [
    {
     "name": "stdout",
     "output_type": "stream",
     "text": [
      "time: 1.1 ms\n"
     ]
    }
   ],
   "source": [
    "#optional qc\n",
    "# ratio_df.head()\n",
    "# ratio_df['ratio'].describe()\n",
    "# ratio_df[['icustay_id','ratio']].groupby('icustay_id')['ratio'].apply(max).describe()"
   ]
  },
  {
   "cell_type": "code",
   "execution_count": 107,
   "metadata": {},
   "outputs": [
    {
     "data": {
      "text/plain": [
       "19633"
      ]
     },
     "execution_count": 107,
     "metadata": {},
     "output_type": "execute_result"
    },
    {
     "name": "stdout",
     "output_type": "stream",
     "text": [
      "time: 582 ms\n"
     ]
    }
   ],
   "source": [
    "### making a copy of ratio_df, merging in all icustay's that are missing, and imputing datetime and value for them. \n",
    "ratio_df2= ratio_df.copy() # making sure all patients have a value\n",
    "ratio_df2= pd.merge(final_pt_df2[['subject_id','hadm_id','icustay_id']], ratio_df2[['icustay_id', 'ratio','delta','uom','label']].rename(index=str, columns={'ratio':'value'}), left_on='icustay_id',right_on='icustay_id', how='outer')\n",
    "\n",
    "ratio_df2['label']='pao2fio2ratio'\n",
    "ratio_df2['uom']='mm HG:%'\n",
    "ratio_df2.loc[ratio_df2['value'].isnull(),'value']=476\n",
    "ratio_df2.loc[ratio_df2['delta'].isnull(),'delta']=pd.to_timedelta('0 days')\n",
    "\n",
    "#should match the len(icustay_id)\n",
    "ratio_df2['icustay_id'].nunique()"
   ]
  },
  {
   "cell_type": "code",
   "execution_count": 108,
   "metadata": {},
   "outputs": [
    {
     "data": {
      "text/html": [
       "<div>\n",
       "<style scoped>\n",
       "    .dataframe tbody tr th:only-of-type {\n",
       "        vertical-align: middle;\n",
       "    }\n",
       "\n",
       "    .dataframe tbody tr th {\n",
       "        vertical-align: top;\n",
       "    }\n",
       "\n",
       "    .dataframe thead th {\n",
       "        text-align: right;\n",
       "    }\n",
       "</style>\n",
       "<table border=\"1\" class=\"dataframe\">\n",
       "  <thead>\n",
       "    <tr style=\"text-align: right;\">\n",
       "      <th></th>\n",
       "      <th>subject_id</th>\n",
       "      <th>hadm_id</th>\n",
       "      <th>icustay_id</th>\n",
       "      <th>value</th>\n",
       "      <th>delta</th>\n",
       "      <th>uom</th>\n",
       "      <th>label</th>\n",
       "    </tr>\n",
       "  </thead>\n",
       "  <tbody>\n",
       "    <tr>\n",
       "      <th>0</th>\n",
       "      <td>4</td>\n",
       "      <td>185777</td>\n",
       "      <td>294638</td>\n",
       "      <td>476.000000</td>\n",
       "      <td>0 days 00:00:00</td>\n",
       "      <td>mm HG:%</td>\n",
       "      <td>pao2fio2ratio</td>\n",
       "    </tr>\n",
       "    <tr>\n",
       "      <th>1</th>\n",
       "      <td>9</td>\n",
       "      <td>150750</td>\n",
       "      <td>220597</td>\n",
       "      <td>149.999994</td>\n",
       "      <td>0 days 03:04:00</td>\n",
       "      <td>mm HG:%</td>\n",
       "      <td>pao2fio2ratio</td>\n",
       "    </tr>\n",
       "    <tr>\n",
       "      <th>2</th>\n",
       "      <td>9</td>\n",
       "      <td>150750</td>\n",
       "      <td>220597</td>\n",
       "      <td>124.999995</td>\n",
       "      <td>0 days 21:57:00</td>\n",
       "      <td>mm HG:%</td>\n",
       "      <td>pao2fio2ratio</td>\n",
       "    </tr>\n",
       "    <tr>\n",
       "      <th>3</th>\n",
       "      <td>9</td>\n",
       "      <td>150750</td>\n",
       "      <td>220597</td>\n",
       "      <td>129.999995</td>\n",
       "      <td>1 days 03:27:00</td>\n",
       "      <td>mm HG:%</td>\n",
       "      <td>pao2fio2ratio</td>\n",
       "    </tr>\n",
       "    <tr>\n",
       "      <th>4</th>\n",
       "      <td>9</td>\n",
       "      <td>150750</td>\n",
       "      <td>220597</td>\n",
       "      <td>170.000000</td>\n",
       "      <td>2 days 03:19:00</td>\n",
       "      <td>mm HG:%</td>\n",
       "      <td>pao2fio2ratio</td>\n",
       "    </tr>\n",
       "  </tbody>\n",
       "</table>\n",
       "</div>"
      ],
      "text/plain": [
       "   subject_id  hadm_id  icustay_id       value           delta      uom  \\\n",
       "0           4   185777      294638  476.000000 0 days 00:00:00  mm HG:%   \n",
       "1           9   150750      220597  149.999994 0 days 03:04:00  mm HG:%   \n",
       "2           9   150750      220597  124.999995 0 days 21:57:00  mm HG:%   \n",
       "3           9   150750      220597  129.999995 1 days 03:27:00  mm HG:%   \n",
       "4           9   150750      220597  170.000000 2 days 03:19:00  mm HG:%   \n",
       "\n",
       "           label  \n",
       "0  pao2fio2ratio  \n",
       "1  pao2fio2ratio  \n",
       "2  pao2fio2ratio  \n",
       "3  pao2fio2ratio  \n",
       "4  pao2fio2ratio  "
      ]
     },
     "execution_count": 108,
     "metadata": {},
     "output_type": "execute_result"
    },
    {
     "name": "stdout",
     "output_type": "stream",
     "text": [
      "time: 15.1 ms\n"
     ]
    }
   ],
   "source": [
    "ratio_df2.head()"
   ]
  },
  {
   "cell_type": "markdown",
   "metadata": {},
   "source": [
    "# factorizing pco2 start "
   ]
  },
  {
   "cell_type": "code",
   "execution_count": 109,
   "metadata": {},
   "outputs": [
    {
     "name": "stdout",
     "output_type": "stream",
     "text": [
      "time: 49 ms\n"
     ]
    }
   ],
   "source": [
    "# yn_convert_band(max_bands, #df in format where each row corresponds to a test, and a patient can have many rows\n",
    "def yn_convert_pco2(df,           \n",
    "                    label_fill=\"absent\",\n",
    "                    threshold=10,\n",
    "                    pt= final_pt_df2,\n",
    "                    time_var='t_0',\n",
    "                    value_fill=9999,\n",
    "                    delta_fill=pd.to_timedelta('0 days'),\n",
    "                    uom_fill='y/n'):\n",
    "    \n",
    "    yn_df = pd.merge(pt[['icustay_id','hadm_id','subject_id', time_var]],\n",
    "                      df[['icustay_id','value','label','uom','delta']],\n",
    "                     left_on= 'icustay_id',\n",
    "                     right_on= 'icustay_id',\n",
    "                      how='left') #merging all icustay_id's with time_var, where value,label,uom, and delta are nan's if no value exists for that icustay. \n",
    "    #the idea is that if any value exists then it is pos.\n",
    "\n",
    "    yn_df['value']= yn_df['value'].fillna(value_fill) #converts na to 0 in above na rows.\n",
    "    criteria0=yn_df.loc[:,'value']==value_fill\n",
    "    criteria1=pd.to_numeric(yn_df.loc[:,'value'])<=threshold\n",
    "    criteria2=pd.to_numeric(yn_df.loc[:,'value'])>threshold\n",
    "\n",
    "\n",
    "    yn_df.loc[criteria1, 'value']= \"<{}\".format(threshold) \n",
    "    yn_df.loc[criteria2, 'value']= \">{}\".format(threshold) \n",
    "    yn_df.loc[criteria0, 'value']= \"absent\"\n",
    "\n",
    "    yn_df['delta']= yn_df['delta'].fillna(delta_fill)\n",
    "    yn_df['delta']= pd.to_timedelta(yn_df['delta']) #filling in the time delta to time =0 for filled rows\n",
    "    yn_df['uom']= yn_df['uom'].fillna(uom_fill)\n",
    "    yn_df.loc[yn_df.loc[:,'uom']!=uom_fill, 'uom']= uom_fill\n",
    "    yn_df['label']= yn_df['label'].fillna(label_fill)\n",
    "    \n",
    "    return(yn_df)\n",
    "    "
   ]
  },
  {
   "cell_type": "code",
   "execution_count": 110,
   "metadata": {},
   "outputs": [
    {
     "name": "stdout",
     "output_type": "stream",
     "text": [
      "time: 147 ms\n"
     ]
    }
   ],
   "source": [
    "bg_ART_nosummary= bg_ART_nosummary.rename(\n",
    "    columns={'valuenum':'value'}) #changing valuenum to value"
   ]
  },
  {
   "cell_type": "code",
   "execution_count": 111,
   "metadata": {},
   "outputs": [
    {
     "name": "stdout",
     "output_type": "stream",
     "text": [
      "time: 1.79 s\n"
     ]
    },
    {
     "name": "stderr",
     "output_type": "stream",
     "text": [
      "/Users/geickelb1/anaconda/envs/rpy-env/lib/python3.6/site-packages/pandas/core/indexing.py:1494: FutureWarning: \n",
      "Passing list-likes to .loc or [] with any missing label will raise\n",
      "KeyError in the future, you can use .reindex() as an alternative.\n",
      "\n",
      "See the documentation here:\n",
      "https://pandas.pydata.org/pandas-docs/stable/indexing.html#deprecate-loc-reindex-listlike\n",
      "  return self._getitem_tuple(key)\n"
     ]
    }
   ],
   "source": [
    "pco2_df=bg_ART_nosummary[bg_ART_nosummary['label']=='PCO2']\n",
    "max_pco2=pco2_df.loc[pco2_df.groupby('icustay_id', as_index=False)['value'].idxmax(),:]\n",
    "del(pco2_df)"
   ]
  },
  {
   "cell_type": "code",
   "execution_count": 112,
   "metadata": {},
   "outputs": [
    {
     "name": "stdout",
     "output_type": "stream",
     "text": [
      "time: 165 ms\n"
     ]
    }
   ],
   "source": [
    "pco2_cat=yn_convert_pco2(df=max_pco2,           \n",
    "                    label_fill=\"PCO2\",\n",
    "                    threshold=50,\n",
    "                    pt= final_pt_df2,\n",
    "                    time_var='t_0',\n",
    "                    value_fill=9999,\n",
    "                    delta_fill=pd.to_timedelta('0 days'),\n",
    "                    uom_fill='y/n')"
   ]
  },
  {
   "cell_type": "code",
   "execution_count": 113,
   "metadata": {},
   "outputs": [
    {
     "name": "stdout",
     "output_type": "stream",
     "text": [
      "time: 68.4 ms\n"
     ]
    }
   ],
   "source": [
    "#drop bands from lab_df\n",
    "bg_ART_nosummary=bg_ART_nosummary.drop(bg_ART_nosummary[bg_ART_nosummary['label']=='PCO2'].index)\n"
   ]
  },
  {
   "cell_type": "code",
   "execution_count": 114,
   "metadata": {},
   "outputs": [
    {
     "name": "stdout",
     "output_type": "stream",
     "text": [
      "time: 5.76 ms\n"
     ]
    }
   ],
   "source": [
    "##dropping charttime, may be problematic later. 06/13/19\n",
    "bg_ART_nosummary=bg_ART_nosummary.drop('charttime', axis=1)"
   ]
  },
  {
   "cell_type": "code",
   "execution_count": 115,
   "metadata": {},
   "outputs": [
    {
     "name": "stdout",
     "output_type": "stream",
     "text": [
      "time: 184 ms\n"
     ]
    }
   ],
   "source": [
    "bg_ART_nosummary=bg_ART_nosummary.append(pco2_cat, sort=True)"
   ]
  },
  {
   "cell_type": "code",
   "execution_count": 116,
   "metadata": {},
   "outputs": [
    {
     "data": {
      "text/plain": [
       "absent    11802\n",
       "<50        5319\n",
       ">50        2512\n",
       "Name: value, dtype: int64"
      ]
     },
     "execution_count": 116,
     "metadata": {},
     "output_type": "execute_result"
    },
    {
     "name": "stdout",
     "output_type": "stream",
     "text": [
      "time: 12.5 ms\n"
     ]
    }
   ],
   "source": [
    "bg_ART_nosummary.loc[bg_ART_nosummary['label']=='PCO2','value'].value_counts()"
   ]
  },
  {
   "cell_type": "markdown",
   "metadata": {},
   "source": [
    "# factorizing bands end "
   ]
  },
  {
   "cell_type": "code",
   "execution_count": 117,
   "metadata": {},
   "outputs": [
    {
     "name": "stdout",
     "output_type": "stream",
     "text": [
      "time: 8.39 s\n"
     ]
    }
   ],
   "source": [
    "save_df(ratio_df2, 'pfRatio')\n",
    "del( pao2_fio2_windowed,pao2_appended, fio2_chart_df, pao2, pao2_icu )\n",
    "del( ventcategory_1day_df, dfs[vent_df] )\n",
    "\n",
    "save_df(dfs[bg_df],'bg_all') #all bloodgas\n",
    "del(dfs[bg_df])\n",
    "\n",
    "save_df(bg_ART_nosummary,'bg_ART') #only ARTERIAL bloodgas\n",
    "del(bg_ART_nosummary)\n",
    "\n",
    "save_df(o2_flow_df,'o2_flow') #need to investigate this more\n",
    "del(o2_flow_df)"
   ]
  },
  {
   "cell_type": "markdown",
   "metadata": {},
   "source": [
    "# RRT"
   ]
  },
  {
   "cell_type": "code",
   "execution_count": 118,
   "metadata": {},
   "outputs": [
    {
     "name": "stdout",
     "output_type": "stream",
     "text": [
      "time: 63.9 ms\n"
     ]
    }
   ],
   "source": [
    "#removing null values\n",
    "dfs[rrt_df] = dfs[rrt_df].loc[dfs[rrt_df]['rrt'].notnull(),:]\n",
    "dfs[rrt_df]['uom']='category'\n",
    "dfs[rrt_df]['delta']=pd.to_timedelta(\n",
    "    pd.to_datetime(dfs[rrt_df]['first_charttime'])-\n",
    "    pd.to_datetime(dfs[rrt_df][time_var]),\n",
    "    'days')\n",
    "dfs[rrt_df]['label']= 'rrt'\n",
    "dfs[rrt_df]=dfs[rrt_df].rename(index=str, columns={'rrt':'value'})"
   ]
  },
  {
   "cell_type": "markdown",
   "metadata": {},
   "source": [
    "### converting to yes/no"
   ]
  },
  {
   "cell_type": "code",
   "execution_count": 119,
   "metadata": {},
   "outputs": [
    {
     "data": {
      "text/html": [
       "<div>\n",
       "<style scoped>\n",
       "    .dataframe tbody tr th:only-of-type {\n",
       "        vertical-align: middle;\n",
       "    }\n",
       "\n",
       "    .dataframe tbody tr th {\n",
       "        vertical-align: top;\n",
       "    }\n",
       "\n",
       "    .dataframe thead th {\n",
       "        text-align: right;\n",
       "    }\n",
       "</style>\n",
       "<table border=\"1\" class=\"dataframe\">\n",
       "  <thead>\n",
       "    <tr style=\"text-align: right;\">\n",
       "      <th></th>\n",
       "      <th>icustay_id</th>\n",
       "      <th>t_0</th>\n",
       "      <th>first_charttime</th>\n",
       "      <th>value</th>\n",
       "      <th>uom</th>\n",
       "      <th>delta</th>\n",
       "      <th>label</th>\n",
       "    </tr>\n",
       "  </thead>\n",
       "  <tbody>\n",
       "    <tr>\n",
       "      <th>0</th>\n",
       "      <td>294638</td>\n",
       "      <td>2191-03-16</td>\n",
       "      <td>NaN</td>\n",
       "      <td>0.0</td>\n",
       "      <td>category</td>\n",
       "      <td>NaT</td>\n",
       "      <td>rrt</td>\n",
       "    </tr>\n",
       "    <tr>\n",
       "      <th>1</th>\n",
       "      <td>220597</td>\n",
       "      <td>2149-11-10</td>\n",
       "      <td>NaN</td>\n",
       "      <td>0.0</td>\n",
       "      <td>category</td>\n",
       "      <td>NaT</td>\n",
       "      <td>rrt</td>\n",
       "    </tr>\n",
       "    <tr>\n",
       "      <th>2</th>\n",
       "      <td>232669</td>\n",
       "      <td>2104-08-11</td>\n",
       "      <td>NaN</td>\n",
       "      <td>0.0</td>\n",
       "      <td>category</td>\n",
       "      <td>NaT</td>\n",
       "      <td>rrt</td>\n",
       "    </tr>\n",
       "    <tr>\n",
       "      <th>3</th>\n",
       "      <td>273430</td>\n",
       "      <td>2108-08-06</td>\n",
       "      <td>NaN</td>\n",
       "      <td>0.0</td>\n",
       "      <td>category</td>\n",
       "      <td>NaT</td>\n",
       "      <td>rrt</td>\n",
       "    </tr>\n",
       "    <tr>\n",
       "      <th>4</th>\n",
       "      <td>217847</td>\n",
       "      <td>2134-09-12</td>\n",
       "      <td>2134-09-12 13:30:00</td>\n",
       "      <td>1.0</td>\n",
       "      <td>category</td>\n",
       "      <td>13:30:00</td>\n",
       "      <td>rrt</td>\n",
       "    </tr>\n",
       "  </tbody>\n",
       "</table>\n",
       "</div>"
      ],
      "text/plain": [
       "   icustay_id         t_0      first_charttime  value       uom    delta label\n",
       "0      294638  2191-03-16                  NaN    0.0  category      NaT   rrt\n",
       "1      220597  2149-11-10                  NaN    0.0  category      NaT   rrt\n",
       "2      232669  2104-08-11                  NaN    0.0  category      NaT   rrt\n",
       "3      273430  2108-08-06                  NaN    0.0  category      NaT   rrt\n",
       "4      217847  2134-09-12  2134-09-12 13:30:00    1.0  category 13:30:00   rrt"
      ]
     },
     "execution_count": 119,
     "metadata": {},
     "output_type": "execute_result"
    },
    {
     "name": "stdout",
     "output_type": "stream",
     "text": [
      "time: 15.6 ms\n"
     ]
    }
   ],
   "source": [
    "dfs[rrt_df].head()"
   ]
  },
  {
   "cell_type": "code",
   "execution_count": 120,
   "metadata": {},
   "outputs": [
    {
     "data": {
      "text/plain": [
       "19633"
      ]
     },
     "execution_count": 120,
     "metadata": {},
     "output_type": "execute_result"
    },
    {
     "name": "stdout",
     "output_type": "stream",
     "text": [
      "time: 5.2 ms\n"
     ]
    }
   ],
   "source": [
    "dfs[rrt_df]['icustay_id'].nunique() #"
   ]
  },
  {
   "cell_type": "code",
   "execution_count": 121,
   "metadata": {},
   "outputs": [
    {
     "name": "stdout",
     "output_type": "stream",
     "text": [
      "time: 75.9 ms\n"
     ]
    }
   ],
   "source": [
    "rrt_yn= yn_convert(dfs[rrt_df],label_fill='rrt', time_var=time_var)"
   ]
  },
  {
   "cell_type": "code",
   "execution_count": 122,
   "metadata": {},
   "outputs": [
    {
     "name": "stdout",
     "output_type": "stream",
     "text": [
      "time: 636 ms\n"
     ]
    }
   ],
   "source": [
    "save_df(rrt_yn, 'rrt')\n",
    "del(rrt_yn, dfs[rrt_df])"
   ]
  },
  {
   "cell_type": "markdown",
   "metadata": {},
   "source": [
    "# GCS_72"
   ]
  },
  {
   "cell_type": "code",
   "execution_count": 123,
   "metadata": {},
   "outputs": [
    {
     "name": "stdout",
     "output_type": "stream",
     "text": [
      "time: 6.22 ms\n"
     ]
    }
   ],
   "source": [
    "dfs[gcs_df]['uom']='GCS_score'"
   ]
  },
  {
   "cell_type": "code",
   "execution_count": 124,
   "metadata": {},
   "outputs": [
    {
     "data": {
      "text/plain": [
       "['subject_id',\n",
       " 'hadm_id',\n",
       " 'icustay_id',\n",
       " 'day',\n",
       " 'mingcs',\n",
       " 'gcsmotor',\n",
       " 'gcsverbal',\n",
       " 'gcseyes',\n",
       " 'endotrachflag',\n",
       " 'icu_admit',\n",
       " 't_0',\n",
       " 'approx_charttime',\n",
       " 'admit_plus_day',\n",
       " 'delta',\n",
       " 'uom']"
      ]
     },
     "execution_count": 124,
     "metadata": {},
     "output_type": "execute_result"
    },
    {
     "name": "stdout",
     "output_type": "stream",
     "text": [
      "time: 4.3 ms\n"
     ]
    }
   ],
   "source": [
    "list(dfs[gcs_df])"
   ]
  },
  {
   "cell_type": "code",
   "execution_count": 125,
   "metadata": {},
   "outputs": [
    {
     "name": "stdout",
     "output_type": "stream",
     "text": [
      "time: 36.5 ms\n"
     ]
    }
   ],
   "source": [
    "dfs[gcs_df]['label']= 'mingcs'\n",
    "dfs[gcs_df]['uom']='gcs_score'\n",
    "dfs[gcs_df]=dfs[gcs_df].rename(index=str, columns={'mingcs':'value'})"
   ]
  },
  {
   "cell_type": "code",
   "execution_count": 126,
   "metadata": {},
   "outputs": [
    {
     "name": "stdout",
     "output_type": "stream",
     "text": [
      "time: 5.65 ms\n"
     ]
    }
   ],
   "source": [
    "dfs[gcs_df]=dfs[gcs_df][['subject_id','hadm_id','icustay_id','delta','label','value',time_var,'uom']]"
   ]
  },
  {
   "cell_type": "code",
   "execution_count": 127,
   "metadata": {},
   "outputs": [
    {
     "name": "stdout",
     "output_type": "stream",
     "text": [
      "time: 109 ms\n"
     ]
    }
   ],
   "source": [
    "save_df(dfs[gcs_df], 'gcs')\n",
    "del(dfs[gcs_df])"
   ]
  },
  {
   "cell_type": "markdown",
   "metadata": {},
   "source": [
    "# SOFA\n",
    "i'm going to remove all sofa variables except daily score, as we have other markers for those in our above data\n",
    "i may later use this as qc check.\n",
    "also added delta"
   ]
  },
  {
   "cell_type": "code",
   "execution_count": 128,
   "metadata": {},
   "outputs": [
    {
     "name": "stdout",
     "output_type": "stream",
     "text": [
      "time: 207 ms\n"
     ]
    }
   ],
   "source": [
    "dfs[sofa_df]['uom']='daily_sofa_score'\n",
    "\n",
    "#adding day delta column\n",
    "dfs[sofa_df]=dfs[sofa_df].sort_values(['hadm_id','day',time_var]) #good\n",
    "dfs[sofa_df]['day_rank']=dfs[sofa_df].groupby('icustay_id')['day'].rank()\n",
    "dfs[sofa_df]['delta']=pd.to_timedelta((dfs[sofa_df]['day_rank']-1), 'days')"
   ]
  },
  {
   "cell_type": "code",
   "execution_count": 129,
   "metadata": {},
   "outputs": [
    {
     "name": "stdout",
     "output_type": "stream",
     "text": [
      "time: 221 ms\n"
     ]
    }
   ],
   "source": [
    "dfs[sofa_df]['label']= 'daily_sofa'\n",
    "dfs[sofa_df]=dfs[sofa_df].rename(index=str, columns={'sofa':'value'})"
   ]
  },
  {
   "cell_type": "code",
   "execution_count": 130,
   "metadata": {},
   "outputs": [
    {
     "name": "stdout",
     "output_type": "stream",
     "text": [
      "time: 19.4 ms\n"
     ]
    }
   ],
   "source": [
    "dfs[sofa_df]= dfs[sofa_df][['subject_id','hadm_id','icustay_id','delta','label','value',time_var,'uom']]"
   ]
  },
  {
   "cell_type": "code",
   "execution_count": 131,
   "metadata": {},
   "outputs": [
    {
     "data": {
      "text/html": [
       "<div>\n",
       "<style scoped>\n",
       "    .dataframe tbody tr th:only-of-type {\n",
       "        vertical-align: middle;\n",
       "    }\n",
       "\n",
       "    .dataframe tbody tr th {\n",
       "        vertical-align: top;\n",
       "    }\n",
       "\n",
       "    .dataframe thead th {\n",
       "        text-align: right;\n",
       "    }\n",
       "</style>\n",
       "<table border=\"1\" class=\"dataframe\">\n",
       "  <thead>\n",
       "    <tr style=\"text-align: right;\">\n",
       "      <th></th>\n",
       "      <th>subject_id</th>\n",
       "      <th>hadm_id</th>\n",
       "      <th>icustay_id</th>\n",
       "      <th>delta</th>\n",
       "      <th>label</th>\n",
       "      <th>value</th>\n",
       "      <th>t_0</th>\n",
       "      <th>uom</th>\n",
       "    </tr>\n",
       "  </thead>\n",
       "  <tbody>\n",
       "    <tr>\n",
       "      <th>88189</th>\n",
       "      <td>54610</td>\n",
       "      <td>100003</td>\n",
       "      <td>209281</td>\n",
       "      <td>0 days</td>\n",
       "      <td>daily_sofa</td>\n",
       "      <td>4</td>\n",
       "      <td>2150-04-18</td>\n",
       "      <td>daily_sofa_score</td>\n",
       "    </tr>\n",
       "    <tr>\n",
       "      <th>52007</th>\n",
       "      <td>23018</td>\n",
       "      <td>100007</td>\n",
       "      <td>217937</td>\n",
       "      <td>0 days</td>\n",
       "      <td>daily_sofa</td>\n",
       "      <td>1</td>\n",
       "      <td>2145-03-31</td>\n",
       "      <td>daily_sofa_score</td>\n",
       "    </tr>\n",
       "    <tr>\n",
       "      <th>52008</th>\n",
       "      <td>23018</td>\n",
       "      <td>100007</td>\n",
       "      <td>217937</td>\n",
       "      <td>1 days</td>\n",
       "      <td>daily_sofa</td>\n",
       "      <td>4</td>\n",
       "      <td>2145-03-31</td>\n",
       "      <td>daily_sofa_score</td>\n",
       "    </tr>\n",
       "    <tr>\n",
       "      <th>52009</th>\n",
       "      <td>23018</td>\n",
       "      <td>100007</td>\n",
       "      <td>217937</td>\n",
       "      <td>2 days</td>\n",
       "      <td>daily_sofa</td>\n",
       "      <td>0</td>\n",
       "      <td>2145-03-31</td>\n",
       "      <td>daily_sofa_score</td>\n",
       "    </tr>\n",
       "    <tr>\n",
       "      <th>52010</th>\n",
       "      <td>23018</td>\n",
       "      <td>100007</td>\n",
       "      <td>217937</td>\n",
       "      <td>3 days</td>\n",
       "      <td>daily_sofa</td>\n",
       "      <td>3</td>\n",
       "      <td>2145-03-31</td>\n",
       "      <td>daily_sofa_score</td>\n",
       "    </tr>\n",
       "  </tbody>\n",
       "</table>\n",
       "</div>"
      ],
      "text/plain": [
       "       subject_id  hadm_id  icustay_id  delta       label  value         t_0  \\\n",
       "88189       54610   100003      209281 0 days  daily_sofa      4  2150-04-18   \n",
       "52007       23018   100007      217937 0 days  daily_sofa      1  2145-03-31   \n",
       "52008       23018   100007      217937 1 days  daily_sofa      4  2145-03-31   \n",
       "52009       23018   100007      217937 2 days  daily_sofa      0  2145-03-31   \n",
       "52010       23018   100007      217937 3 days  daily_sofa      3  2145-03-31   \n",
       "\n",
       "                    uom  \n",
       "88189  daily_sofa_score  \n",
       "52007  daily_sofa_score  \n",
       "52008  daily_sofa_score  \n",
       "52009  daily_sofa_score  \n",
       "52010  daily_sofa_score  "
      ]
     },
     "execution_count": 131,
     "metadata": {},
     "output_type": "execute_result"
    },
    {
     "name": "stdout",
     "output_type": "stream",
     "text": [
      "time: 21.1 ms\n"
     ]
    }
   ],
   "source": [
    "dfs[sofa_df].head()"
   ]
  },
  {
   "cell_type": "code",
   "execution_count": 132,
   "metadata": {},
   "outputs": [
    {
     "name": "stdout",
     "output_type": "stream",
     "text": [
      "time: 2.23 s\n"
     ]
    }
   ],
   "source": [
    "save_df(dfs[sofa_df], 'sofa')\n",
    "del(dfs[sofa_df])"
   ]
  },
  {
   "cell_type": "markdown",
   "metadata": {},
   "source": [
    "# patient Demographic variables"
   ]
  },
  {
   "cell_type": "code",
   "execution_count": 133,
   "metadata": {},
   "outputs": [
    {
     "data": {
      "text/html": [
       "<div>\n",
       "<style scoped>\n",
       "    .dataframe tbody tr th:only-of-type {\n",
       "        vertical-align: middle;\n",
       "    }\n",
       "\n",
       "    .dataframe tbody tr th {\n",
       "        vertical-align: top;\n",
       "    }\n",
       "\n",
       "    .dataframe thead th {\n",
       "        text-align: right;\n",
       "    }\n",
       "</style>\n",
       "<table border=\"1\" class=\"dataframe\">\n",
       "  <thead>\n",
       "    <tr style=\"text-align: right;\">\n",
       "      <th></th>\n",
       "      <th>icustay_id</th>\n",
       "      <th>subject_id</th>\n",
       "      <th>t_0</th>\n",
       "      <th>label</th>\n",
       "      <th>value</th>\n",
       "      <th>delta</th>\n",
       "      <th>uom</th>\n",
       "    </tr>\n",
       "  </thead>\n",
       "  <tbody>\n",
       "    <tr>\n",
       "      <th>0</th>\n",
       "      <td>280836</td>\n",
       "      <td>268</td>\n",
       "      <td>2198-02-16</td>\n",
       "      <td>yearsold</td>\n",
       "      <td>65.9848802824042</td>\n",
       "      <td>0 days 00:00:00.000000000</td>\n",
       "      <td>yearsold</td>\n",
       "    </tr>\n",
       "    <tr>\n",
       "      <th>1</th>\n",
       "      <td>206613</td>\n",
       "      <td>269</td>\n",
       "      <td>2170-11-05</td>\n",
       "      <td>yearsold</td>\n",
       "      <td>40.0998279019951</td>\n",
       "      <td>0 days 00:00:00.000000000</td>\n",
       "      <td>yearsold</td>\n",
       "    </tr>\n",
       "    <tr>\n",
       "      <th>2</th>\n",
       "      <td>219649</td>\n",
       "      <td>275</td>\n",
       "      <td>2170-10-08</td>\n",
       "      <td>yearsold</td>\n",
       "      <td>82.164211885568</td>\n",
       "      <td>0 days 00:00:00.000000000</td>\n",
       "      <td>yearsold</td>\n",
       "    </tr>\n",
       "    <tr>\n",
       "      <th>3</th>\n",
       "      <td>204407</td>\n",
       "      <td>279</td>\n",
       "      <td>2164-06-15</td>\n",
       "      <td>yearsold</td>\n",
       "      <td>74.2940118069815</td>\n",
       "      <td>0 days 00:00:00.000000000</td>\n",
       "      <td>yearsold</td>\n",
       "    </tr>\n",
       "    <tr>\n",
       "      <th>4</th>\n",
       "      <td>257572</td>\n",
       "      <td>281</td>\n",
       "      <td>2101-10-18</td>\n",
       "      <td>yearsold</td>\n",
       "      <td>60.0142318173752</td>\n",
       "      <td>0 days 00:00:00.000000000</td>\n",
       "      <td>yearsold</td>\n",
       "    </tr>\n",
       "    <tr>\n",
       "      <th>5</th>\n",
       "      <td>238023</td>\n",
       "      <td>285</td>\n",
       "      <td>2152-09-22</td>\n",
       "      <td>yearsold</td>\n",
       "      <td>45.3551008314954</td>\n",
       "      <td>0 days 00:00:00.000000000</td>\n",
       "      <td>yearsold</td>\n",
       "    </tr>\n",
       "    <tr>\n",
       "      <th>6</th>\n",
       "      <td>260225</td>\n",
       "      <td>286</td>\n",
       "      <td>2176-01-01</td>\n",
       "      <td>yearsold</td>\n",
       "      <td>85.0156237166324</td>\n",
       "      <td>0 days 00:00:00.000000000</td>\n",
       "      <td>yearsold</td>\n",
       "    </tr>\n",
       "    <tr>\n",
       "      <th>7</th>\n",
       "      <td>245343</td>\n",
       "      <td>287</td>\n",
       "      <td>2167-06-01</td>\n",
       "      <td>yearsold</td>\n",
       "      <td>70.43821523183</td>\n",
       "      <td>0 days 00:00:00.000000000</td>\n",
       "      <td>yearsold</td>\n",
       "    </tr>\n",
       "    <tr>\n",
       "      <th>8</th>\n",
       "      <td>278519</td>\n",
       "      <td>290</td>\n",
       "      <td>2179-01-27</td>\n",
       "      <td>yearsold</td>\n",
       "      <td>74.3841495867873</td>\n",
       "      <td>0 days 00:00:00.000000000</td>\n",
       "      <td>yearsold</td>\n",
       "    </tr>\n",
       "    <tr>\n",
       "      <th>9</th>\n",
       "      <td>224571</td>\n",
       "      <td>305</td>\n",
       "      <td>2127-06-20</td>\n",
       "      <td>yearsold</td>\n",
       "      <td>74.6502219750551</td>\n",
       "      <td>0 days 00:00:00.000000000</td>\n",
       "      <td>yearsold</td>\n",
       "    </tr>\n",
       "    <tr>\n",
       "      <th>10</th>\n",
       "      <td>232248</td>\n",
       "      <td>305</td>\n",
       "      <td>2127-07-05</td>\n",
       "      <td>yearsold</td>\n",
       "      <td>74.6881180444647</td>\n",
       "      <td>0 days 00:00:00.000000000</td>\n",
       "      <td>yearsold</td>\n",
       "    </tr>\n",
       "    <tr>\n",
       "      <th>11</th>\n",
       "      <td>217232</td>\n",
       "      <td>305</td>\n",
       "      <td>2129-09-04</td>\n",
       "      <td>yearsold</td>\n",
       "      <td>76.85837614394</td>\n",
       "      <td>0 days 00:00:00.000000000</td>\n",
       "      <td>yearsold</td>\n",
       "    </tr>\n",
       "    <tr>\n",
       "      <th>12</th>\n",
       "      <td>291141</td>\n",
       "      <td>306</td>\n",
       "      <td>2199-09-16</td>\n",
       "      <td>yearsold</td>\n",
       "      <td>60.9386263847694</td>\n",
       "      <td>0 days 00:00:00.000000000</td>\n",
       "      <td>yearsold</td>\n",
       "    </tr>\n",
       "    <tr>\n",
       "      <th>13</th>\n",
       "      <td>265862</td>\n",
       "      <td>307</td>\n",
       "      <td>2162-11-28</td>\n",
       "      <td>yearsold</td>\n",
       "      <td>74.7267591958831</td>\n",
       "      <td>0 days 00:00:00.000000000</td>\n",
       "      <td>yearsold</td>\n",
       "    </tr>\n",
       "    <tr>\n",
       "      <th>14</th>\n",
       "      <td>261257</td>\n",
       "      <td>314</td>\n",
       "      <td>2181-09-18</td>\n",
       "      <td>yearsold</td>\n",
       "      <td>40.3259408193272</td>\n",
       "      <td>0 days 00:00:00.000000000</td>\n",
       "      <td>yearsold</td>\n",
       "    </tr>\n",
       "    <tr>\n",
       "      <th>15</th>\n",
       "      <td>266988</td>\n",
       "      <td>315</td>\n",
       "      <td>2177-04-29</td>\n",
       "      <td>yearsold</td>\n",
       "      <td>72.5265892526681</td>\n",
       "      <td>0 days 00:00:00.000000000</td>\n",
       "      <td>yearsold</td>\n",
       "    </tr>\n",
       "    <tr>\n",
       "      <th>16</th>\n",
       "      <td>206073</td>\n",
       "      <td>323</td>\n",
       "      <td>2119-09-22</td>\n",
       "      <td>yearsold</td>\n",
       "      <td>56.7415677047684</td>\n",
       "      <td>0 days 00:00:00.000000000</td>\n",
       "      <td>yearsold</td>\n",
       "    </tr>\n",
       "    <tr>\n",
       "      <th>17</th>\n",
       "      <td>281585</td>\n",
       "      <td>326</td>\n",
       "      <td>2118-11-03</td>\n",
       "      <td>yearsold</td>\n",
       "      <td>41.9737369761959</td>\n",
       "      <td>0 days 00:00:00.000000000</td>\n",
       "      <td>yearsold</td>\n",
       "    </tr>\n",
       "    <tr>\n",
       "      <th>18</th>\n",
       "      <td>294224</td>\n",
       "      <td>328</td>\n",
       "      <td>2149-11-01</td>\n",
       "      <td>yearsold</td>\n",
       "      <td>65.9127037860927</td>\n",
       "      <td>0 days 00:00:00.000000000</td>\n",
       "      <td>yearsold</td>\n",
       "    </tr>\n",
       "    <tr>\n",
       "      <th>19</th>\n",
       "      <td>217001</td>\n",
       "      <td>329</td>\n",
       "      <td>2154-04-06</td>\n",
       "      <td>yearsold</td>\n",
       "      <td>51.9690410867747</td>\n",
       "      <td>0 days 00:00:00.000000000</td>\n",
       "      <td>yearsold</td>\n",
       "    </tr>\n",
       "    <tr>\n",
       "      <th>20</th>\n",
       "      <td>297996</td>\n",
       "      <td>330</td>\n",
       "      <td>2133-02-28</td>\n",
       "      <td>yearsold</td>\n",
       "      <td>67.7172345488884</td>\n",
       "      <td>0 days 00:00:00.000000000</td>\n",
       "      <td>yearsold</td>\n",
       "    </tr>\n",
       "    <tr>\n",
       "      <th>21</th>\n",
       "      <td>221278</td>\n",
       "      <td>339</td>\n",
       "      <td>2187-04-24</td>\n",
       "      <td>yearsold</td>\n",
       "      <td>66.7596601135701</td>\n",
       "      <td>0 days 00:00:00.000000000</td>\n",
       "      <td>yearsold</td>\n",
       "    </tr>\n",
       "    <tr>\n",
       "      <th>22</th>\n",
       "      <td>255582</td>\n",
       "      <td>339</td>\n",
       "      <td>2188-04-13</td>\n",
       "      <td>yearsold</td>\n",
       "      <td>67.732505418663</td>\n",
       "      <td>0 days 00:00:00.000000000</td>\n",
       "      <td>yearsold</td>\n",
       "    </tr>\n",
       "    <tr>\n",
       "      <th>23</th>\n",
       "      <td>238865</td>\n",
       "      <td>344</td>\n",
       "      <td>2154-11-13</td>\n",
       "      <td>yearsold</td>\n",
       "      <td>58.1844515742642</td>\n",
       "      <td>0 days 00:00:00.000000000</td>\n",
       "      <td>yearsold</td>\n",
       "    </tr>\n",
       "    <tr>\n",
       "      <th>24</th>\n",
       "      <td>260258</td>\n",
       "      <td>345</td>\n",
       "      <td>2169-05-22</td>\n",
       "      <td>yearsold</td>\n",
       "      <td>299.997043374655</td>\n",
       "      <td>0 days 00:00:00.000000000</td>\n",
       "      <td>yearsold</td>\n",
       "    </tr>\n",
       "    <tr>\n",
       "      <th>25</th>\n",
       "      <td>258237</td>\n",
       "      <td>346</td>\n",
       "      <td>2148-12-01</td>\n",
       "      <td>yearsold</td>\n",
       "      <td>84.6729719306918</td>\n",
       "      <td>0 days 00:00:00.000000000</td>\n",
       "      <td>yearsold</td>\n",
       "    </tr>\n",
       "    <tr>\n",
       "      <th>26</th>\n",
       "      <td>260798</td>\n",
       "      <td>346</td>\n",
       "      <td>2149-11-30</td>\n",
       "      <td>yearsold</td>\n",
       "      <td>85.6697071070043</td>\n",
       "      <td>0 days 00:00:00.000000000</td>\n",
       "      <td>yearsold</td>\n",
       "    </tr>\n",
       "    <tr>\n",
       "      <th>27</th>\n",
       "      <td>224409</td>\n",
       "      <td>353</td>\n",
       "      <td>2151-03-29</td>\n",
       "      <td>yearsold</td>\n",
       "      <td>61.6773938449058</td>\n",
       "      <td>0 days 00:00:00.000000000</td>\n",
       "      <td>yearsold</td>\n",
       "    </tr>\n",
       "    <tr>\n",
       "      <th>28</th>\n",
       "      <td>208489</td>\n",
       "      <td>353</td>\n",
       "      <td>2151-06-25</td>\n",
       "      <td>yearsold</td>\n",
       "      <td>61.916304503511</td>\n",
       "      <td>0 days 00:00:00.000000000</td>\n",
       "      <td>yearsold</td>\n",
       "    </tr>\n",
       "    <tr>\n",
       "      <th>29</th>\n",
       "      <td>232870</td>\n",
       "      <td>353</td>\n",
       "      <td>2153-07-05</td>\n",
       "      <td>yearsold</td>\n",
       "      <td>63.9475825157807</td>\n",
       "      <td>0 days 00:00:00.000000000</td>\n",
       "      <td>yearsold</td>\n",
       "    </tr>\n",
       "    <tr>\n",
       "      <th>...</th>\n",
       "      <td>...</td>\n",
       "      <td>...</td>\n",
       "      <td>...</td>\n",
       "      <td>...</td>\n",
       "      <td>...</td>\n",
       "      <td>...</td>\n",
       "      <td>...</td>\n",
       "    </tr>\n",
       "    <tr>\n",
       "      <th>58869</th>\n",
       "      <td>223146</td>\n",
       "      <td>91934</td>\n",
       "      <td>2147-09-04</td>\n",
       "      <td>ethnicity</td>\n",
       "      <td>white/nonhispanic</td>\n",
       "      <td>0 days 00:00:00.000000000</td>\n",
       "      <td>NaN</td>\n",
       "    </tr>\n",
       "    <tr>\n",
       "      <th>58870</th>\n",
       "      <td>269804</td>\n",
       "      <td>91948</td>\n",
       "      <td>2147-12-12</td>\n",
       "      <td>ethnicity</td>\n",
       "      <td>white/nonhispanic</td>\n",
       "      <td>0 days 00:00:00.000000000</td>\n",
       "      <td>NaN</td>\n",
       "    </tr>\n",
       "    <tr>\n",
       "      <th>58871</th>\n",
       "      <td>223097</td>\n",
       "      <td>91950</td>\n",
       "      <td>2159-05-29</td>\n",
       "      <td>ethnicity</td>\n",
       "      <td>white/nonhispanic</td>\n",
       "      <td>0 days 00:00:00.000000000</td>\n",
       "      <td>NaN</td>\n",
       "    </tr>\n",
       "    <tr>\n",
       "      <th>58872</th>\n",
       "      <td>246330</td>\n",
       "      <td>91951</td>\n",
       "      <td>2185-06-01</td>\n",
       "      <td>ethnicity</td>\n",
       "      <td>asian</td>\n",
       "      <td>0 days 00:00:00.000000000</td>\n",
       "      <td>NaN</td>\n",
       "    </tr>\n",
       "    <tr>\n",
       "      <th>58873</th>\n",
       "      <td>270203</td>\n",
       "      <td>91954</td>\n",
       "      <td>2190-01-31</td>\n",
       "      <td>ethnicity</td>\n",
       "      <td>white/nonhispanic</td>\n",
       "      <td>0 days 00:00:00.000000000</td>\n",
       "      <td>NaN</td>\n",
       "    </tr>\n",
       "    <tr>\n",
       "      <th>58874</th>\n",
       "      <td>278377</td>\n",
       "      <td>91960</td>\n",
       "      <td>2104-01-10</td>\n",
       "      <td>ethnicity</td>\n",
       "      <td>white/nonhispanic</td>\n",
       "      <td>0 days 00:00:00.000000000</td>\n",
       "      <td>NaN</td>\n",
       "    </tr>\n",
       "    <tr>\n",
       "      <th>58875</th>\n",
       "      <td>250892</td>\n",
       "      <td>91992</td>\n",
       "      <td>2120-03-18</td>\n",
       "      <td>ethnicity</td>\n",
       "      <td>unknown/other</td>\n",
       "      <td>0 days 00:00:00.000000000</td>\n",
       "      <td>NaN</td>\n",
       "    </tr>\n",
       "    <tr>\n",
       "      <th>58876</th>\n",
       "      <td>249134</td>\n",
       "      <td>91996</td>\n",
       "      <td>2136-07-28</td>\n",
       "      <td>ethnicity</td>\n",
       "      <td>white/nonhispanic</td>\n",
       "      <td>0 days 00:00:00.000000000</td>\n",
       "      <td>NaN</td>\n",
       "    </tr>\n",
       "    <tr>\n",
       "      <th>58877</th>\n",
       "      <td>222504</td>\n",
       "      <td>92014</td>\n",
       "      <td>2179-04-15</td>\n",
       "      <td>ethnicity</td>\n",
       "      <td>black</td>\n",
       "      <td>0 days 00:00:00.000000000</td>\n",
       "      <td>NaN</td>\n",
       "    </tr>\n",
       "    <tr>\n",
       "      <th>58878</th>\n",
       "      <td>253794</td>\n",
       "      <td>94821</td>\n",
       "      <td>2196-02-18</td>\n",
       "      <td>ethnicity</td>\n",
       "      <td>white/nonhispanic</td>\n",
       "      <td>0 days 00:00:00.000000000</td>\n",
       "      <td>NaN</td>\n",
       "    </tr>\n",
       "    <tr>\n",
       "      <th>58879</th>\n",
       "      <td>239803</td>\n",
       "      <td>94828</td>\n",
       "      <td>2112-08-10</td>\n",
       "      <td>ethnicity</td>\n",
       "      <td>white/nonhispanic</td>\n",
       "      <td>0 days 00:00:00.000000000</td>\n",
       "      <td>NaN</td>\n",
       "    </tr>\n",
       "    <tr>\n",
       "      <th>58880</th>\n",
       "      <td>212410</td>\n",
       "      <td>94828</td>\n",
       "      <td>2112-08-14</td>\n",
       "      <td>ethnicity</td>\n",
       "      <td>white/nonhispanic</td>\n",
       "      <td>0 days 00:00:00.000000000</td>\n",
       "      <td>NaN</td>\n",
       "    </tr>\n",
       "    <tr>\n",
       "      <th>58881</th>\n",
       "      <td>240638</td>\n",
       "      <td>94828</td>\n",
       "      <td>2112-10-11</td>\n",
       "      <td>ethnicity</td>\n",
       "      <td>white/nonhispanic</td>\n",
       "      <td>0 days 00:00:00.000000000</td>\n",
       "      <td>NaN</td>\n",
       "    </tr>\n",
       "    <tr>\n",
       "      <th>58882</th>\n",
       "      <td>225737</td>\n",
       "      <td>94840</td>\n",
       "      <td>2146-06-27</td>\n",
       "      <td>ethnicity</td>\n",
       "      <td>white/nonhispanic</td>\n",
       "      <td>0 days 00:00:00.000000000</td>\n",
       "      <td>NaN</td>\n",
       "    </tr>\n",
       "    <tr>\n",
       "      <th>58883</th>\n",
       "      <td>257969</td>\n",
       "      <td>94846</td>\n",
       "      <td>2171-08-04</td>\n",
       "      <td>ethnicity</td>\n",
       "      <td>unknown/other</td>\n",
       "      <td>0 days 00:00:00.000000000</td>\n",
       "      <td>NaN</td>\n",
       "    </tr>\n",
       "    <tr>\n",
       "      <th>58884</th>\n",
       "      <td>281231</td>\n",
       "      <td>94853</td>\n",
       "      <td>2151-11-27</td>\n",
       "      <td>ethnicity</td>\n",
       "      <td>white/nonhispanic</td>\n",
       "      <td>0 days 00:00:00.000000000</td>\n",
       "      <td>NaN</td>\n",
       "    </tr>\n",
       "    <tr>\n",
       "      <th>58885</th>\n",
       "      <td>212254</td>\n",
       "      <td>94863</td>\n",
       "      <td>2176-09-05</td>\n",
       "      <td>ethnicity</td>\n",
       "      <td>black</td>\n",
       "      <td>0 days 00:00:00.000000000</td>\n",
       "      <td>NaN</td>\n",
       "    </tr>\n",
       "    <tr>\n",
       "      <th>58886</th>\n",
       "      <td>288166</td>\n",
       "      <td>94864</td>\n",
       "      <td>2179-12-11</td>\n",
       "      <td>ethnicity</td>\n",
       "      <td>white/nonhispanic</td>\n",
       "      <td>0 days 00:00:00.000000000</td>\n",
       "      <td>NaN</td>\n",
       "    </tr>\n",
       "    <tr>\n",
       "      <th>58887</th>\n",
       "      <td>271300</td>\n",
       "      <td>94872</td>\n",
       "      <td>2110-09-23</td>\n",
       "      <td>ethnicity</td>\n",
       "      <td>white/nonhispanic</td>\n",
       "      <td>0 days 00:00:00.000000000</td>\n",
       "      <td>NaN</td>\n",
       "    </tr>\n",
       "    <tr>\n",
       "      <th>58888</th>\n",
       "      <td>252338</td>\n",
       "      <td>94889</td>\n",
       "      <td>2124-11-23</td>\n",
       "      <td>ethnicity</td>\n",
       "      <td>white/nonhispanic</td>\n",
       "      <td>0 days 00:00:00.000000000</td>\n",
       "      <td>NaN</td>\n",
       "    </tr>\n",
       "    <tr>\n",
       "      <th>58889</th>\n",
       "      <td>269229</td>\n",
       "      <td>94897</td>\n",
       "      <td>2112-10-29</td>\n",
       "      <td>ethnicity</td>\n",
       "      <td>white/nonhispanic</td>\n",
       "      <td>0 days 00:00:00.000000000</td>\n",
       "      <td>NaN</td>\n",
       "    </tr>\n",
       "    <tr>\n",
       "      <th>58890</th>\n",
       "      <td>284226</td>\n",
       "      <td>94903</td>\n",
       "      <td>2181-06-27</td>\n",
       "      <td>ethnicity</td>\n",
       "      <td>black</td>\n",
       "      <td>0 days 00:00:00.000000000</td>\n",
       "      <td>NaN</td>\n",
       "    </tr>\n",
       "    <tr>\n",
       "      <th>58891</th>\n",
       "      <td>276599</td>\n",
       "      <td>94908</td>\n",
       "      <td>2108-05-23</td>\n",
       "      <td>ethnicity</td>\n",
       "      <td>unknown/other</td>\n",
       "      <td>0 days 00:00:00.000000000</td>\n",
       "      <td>NaN</td>\n",
       "    </tr>\n",
       "    <tr>\n",
       "      <th>58892</th>\n",
       "      <td>238495</td>\n",
       "      <td>94915</td>\n",
       "      <td>2174-12-15</td>\n",
       "      <td>ethnicity</td>\n",
       "      <td>white/nonhispanic</td>\n",
       "      <td>0 days 00:00:00.000000000</td>\n",
       "      <td>NaN</td>\n",
       "    </tr>\n",
       "    <tr>\n",
       "      <th>58893</th>\n",
       "      <td>294627</td>\n",
       "      <td>94916</td>\n",
       "      <td>2151-05-29</td>\n",
       "      <td>ethnicity</td>\n",
       "      <td>white/nonhispanic</td>\n",
       "      <td>0 days 00:00:00.000000000</td>\n",
       "      <td>NaN</td>\n",
       "    </tr>\n",
       "    <tr>\n",
       "      <th>58894</th>\n",
       "      <td>243032</td>\n",
       "      <td>94926</td>\n",
       "      <td>2156-01-16</td>\n",
       "      <td>ethnicity</td>\n",
       "      <td>black</td>\n",
       "      <td>0 days 00:00:00.000000000</td>\n",
       "      <td>NaN</td>\n",
       "    </tr>\n",
       "    <tr>\n",
       "      <th>58895</th>\n",
       "      <td>270429</td>\n",
       "      <td>94933</td>\n",
       "      <td>2130-07-19</td>\n",
       "      <td>ethnicity</td>\n",
       "      <td>white/nonhispanic</td>\n",
       "      <td>0 days 00:00:00.000000000</td>\n",
       "      <td>NaN</td>\n",
       "    </tr>\n",
       "    <tr>\n",
       "      <th>58896</th>\n",
       "      <td>213159</td>\n",
       "      <td>94937</td>\n",
       "      <td>2106-12-28</td>\n",
       "      <td>ethnicity</td>\n",
       "      <td>unknown/other</td>\n",
       "      <td>0 days 00:00:00.000000000</td>\n",
       "      <td>NaN</td>\n",
       "    </tr>\n",
       "    <tr>\n",
       "      <th>58897</th>\n",
       "      <td>293838</td>\n",
       "      <td>94937</td>\n",
       "      <td>2107-02-06</td>\n",
       "      <td>ethnicity</td>\n",
       "      <td>unknown/other</td>\n",
       "      <td>0 days 00:00:00.000000000</td>\n",
       "      <td>NaN</td>\n",
       "    </tr>\n",
       "    <tr>\n",
       "      <th>58898</th>\n",
       "      <td>202802</td>\n",
       "      <td>94954</td>\n",
       "      <td>2183-03-25</td>\n",
       "      <td>ethnicity</td>\n",
       "      <td>unknown/other</td>\n",
       "      <td>0 days 00:00:00.000000000</td>\n",
       "      <td>NaN</td>\n",
       "    </tr>\n",
       "  </tbody>\n",
       "</table>\n",
       "<p>58899 rows × 7 columns</p>\n",
       "</div>"
      ],
      "text/plain": [
       "       icustay_id  subject_id         t_0      label              value  \\\n",
       "0          280836         268  2198-02-16   yearsold   65.9848802824042   \n",
       "1          206613         269  2170-11-05   yearsold   40.0998279019951   \n",
       "2          219649         275  2170-10-08   yearsold    82.164211885568   \n",
       "3          204407         279  2164-06-15   yearsold   74.2940118069815   \n",
       "4          257572         281  2101-10-18   yearsold   60.0142318173752   \n",
       "5          238023         285  2152-09-22   yearsold   45.3551008314954   \n",
       "6          260225         286  2176-01-01   yearsold   85.0156237166324   \n",
       "7          245343         287  2167-06-01   yearsold     70.43821523183   \n",
       "8          278519         290  2179-01-27   yearsold   74.3841495867873   \n",
       "9          224571         305  2127-06-20   yearsold   74.6502219750551   \n",
       "10         232248         305  2127-07-05   yearsold   74.6881180444647   \n",
       "11         217232         305  2129-09-04   yearsold     76.85837614394   \n",
       "12         291141         306  2199-09-16   yearsold   60.9386263847694   \n",
       "13         265862         307  2162-11-28   yearsold   74.7267591958831   \n",
       "14         261257         314  2181-09-18   yearsold   40.3259408193272   \n",
       "15         266988         315  2177-04-29   yearsold   72.5265892526681   \n",
       "16         206073         323  2119-09-22   yearsold   56.7415677047684   \n",
       "17         281585         326  2118-11-03   yearsold   41.9737369761959   \n",
       "18         294224         328  2149-11-01   yearsold   65.9127037860927   \n",
       "19         217001         329  2154-04-06   yearsold   51.9690410867747   \n",
       "20         297996         330  2133-02-28   yearsold   67.7172345488884   \n",
       "21         221278         339  2187-04-24   yearsold   66.7596601135701   \n",
       "22         255582         339  2188-04-13   yearsold    67.732505418663   \n",
       "23         238865         344  2154-11-13   yearsold   58.1844515742642   \n",
       "24         260258         345  2169-05-22   yearsold   299.997043374655   \n",
       "25         258237         346  2148-12-01   yearsold   84.6729719306918   \n",
       "26         260798         346  2149-11-30   yearsold   85.6697071070043   \n",
       "27         224409         353  2151-03-29   yearsold   61.6773938449058   \n",
       "28         208489         353  2151-06-25   yearsold    61.916304503511   \n",
       "29         232870         353  2153-07-05   yearsold   63.9475825157807   \n",
       "...           ...         ...         ...        ...                ...   \n",
       "58869      223146       91934  2147-09-04  ethnicity  white/nonhispanic   \n",
       "58870      269804       91948  2147-12-12  ethnicity  white/nonhispanic   \n",
       "58871      223097       91950  2159-05-29  ethnicity  white/nonhispanic   \n",
       "58872      246330       91951  2185-06-01  ethnicity              asian   \n",
       "58873      270203       91954  2190-01-31  ethnicity  white/nonhispanic   \n",
       "58874      278377       91960  2104-01-10  ethnicity  white/nonhispanic   \n",
       "58875      250892       91992  2120-03-18  ethnicity      unknown/other   \n",
       "58876      249134       91996  2136-07-28  ethnicity  white/nonhispanic   \n",
       "58877      222504       92014  2179-04-15  ethnicity              black   \n",
       "58878      253794       94821  2196-02-18  ethnicity  white/nonhispanic   \n",
       "58879      239803       94828  2112-08-10  ethnicity  white/nonhispanic   \n",
       "58880      212410       94828  2112-08-14  ethnicity  white/nonhispanic   \n",
       "58881      240638       94828  2112-10-11  ethnicity  white/nonhispanic   \n",
       "58882      225737       94840  2146-06-27  ethnicity  white/nonhispanic   \n",
       "58883      257969       94846  2171-08-04  ethnicity      unknown/other   \n",
       "58884      281231       94853  2151-11-27  ethnicity  white/nonhispanic   \n",
       "58885      212254       94863  2176-09-05  ethnicity              black   \n",
       "58886      288166       94864  2179-12-11  ethnicity  white/nonhispanic   \n",
       "58887      271300       94872  2110-09-23  ethnicity  white/nonhispanic   \n",
       "58888      252338       94889  2124-11-23  ethnicity  white/nonhispanic   \n",
       "58889      269229       94897  2112-10-29  ethnicity  white/nonhispanic   \n",
       "58890      284226       94903  2181-06-27  ethnicity              black   \n",
       "58891      276599       94908  2108-05-23  ethnicity      unknown/other   \n",
       "58892      238495       94915  2174-12-15  ethnicity  white/nonhispanic   \n",
       "58893      294627       94916  2151-05-29  ethnicity  white/nonhispanic   \n",
       "58894      243032       94926  2156-01-16  ethnicity              black   \n",
       "58895      270429       94933  2130-07-19  ethnicity  white/nonhispanic   \n",
       "58896      213159       94937  2106-12-28  ethnicity      unknown/other   \n",
       "58897      293838       94937  2107-02-06  ethnicity      unknown/other   \n",
       "58898      202802       94954  2183-03-25  ethnicity      unknown/other   \n",
       "\n",
       "                           delta       uom  \n",
       "0      0 days 00:00:00.000000000  yearsold  \n",
       "1      0 days 00:00:00.000000000  yearsold  \n",
       "2      0 days 00:00:00.000000000  yearsold  \n",
       "3      0 days 00:00:00.000000000  yearsold  \n",
       "4      0 days 00:00:00.000000000  yearsold  \n",
       "5      0 days 00:00:00.000000000  yearsold  \n",
       "6      0 days 00:00:00.000000000  yearsold  \n",
       "7      0 days 00:00:00.000000000  yearsold  \n",
       "8      0 days 00:00:00.000000000  yearsold  \n",
       "9      0 days 00:00:00.000000000  yearsold  \n",
       "10     0 days 00:00:00.000000000  yearsold  \n",
       "11     0 days 00:00:00.000000000  yearsold  \n",
       "12     0 days 00:00:00.000000000  yearsold  \n",
       "13     0 days 00:00:00.000000000  yearsold  \n",
       "14     0 days 00:00:00.000000000  yearsold  \n",
       "15     0 days 00:00:00.000000000  yearsold  \n",
       "16     0 days 00:00:00.000000000  yearsold  \n",
       "17     0 days 00:00:00.000000000  yearsold  \n",
       "18     0 days 00:00:00.000000000  yearsold  \n",
       "19     0 days 00:00:00.000000000  yearsold  \n",
       "20     0 days 00:00:00.000000000  yearsold  \n",
       "21     0 days 00:00:00.000000000  yearsold  \n",
       "22     0 days 00:00:00.000000000  yearsold  \n",
       "23     0 days 00:00:00.000000000  yearsold  \n",
       "24     0 days 00:00:00.000000000  yearsold  \n",
       "25     0 days 00:00:00.000000000  yearsold  \n",
       "26     0 days 00:00:00.000000000  yearsold  \n",
       "27     0 days 00:00:00.000000000  yearsold  \n",
       "28     0 days 00:00:00.000000000  yearsold  \n",
       "29     0 days 00:00:00.000000000  yearsold  \n",
       "...                          ...       ...  \n",
       "58869  0 days 00:00:00.000000000       NaN  \n",
       "58870  0 days 00:00:00.000000000       NaN  \n",
       "58871  0 days 00:00:00.000000000       NaN  \n",
       "58872  0 days 00:00:00.000000000       NaN  \n",
       "58873  0 days 00:00:00.000000000       NaN  \n",
       "58874  0 days 00:00:00.000000000       NaN  \n",
       "58875  0 days 00:00:00.000000000       NaN  \n",
       "58876  0 days 00:00:00.000000000       NaN  \n",
       "58877  0 days 00:00:00.000000000       NaN  \n",
       "58878  0 days 00:00:00.000000000       NaN  \n",
       "58879  0 days 00:00:00.000000000       NaN  \n",
       "58880  0 days 00:00:00.000000000       NaN  \n",
       "58881  0 days 00:00:00.000000000       NaN  \n",
       "58882  0 days 00:00:00.000000000       NaN  \n",
       "58883  0 days 00:00:00.000000000       NaN  \n",
       "58884  0 days 00:00:00.000000000       NaN  \n",
       "58885  0 days 00:00:00.000000000       NaN  \n",
       "58886  0 days 00:00:00.000000000       NaN  \n",
       "58887  0 days 00:00:00.000000000       NaN  \n",
       "58888  0 days 00:00:00.000000000       NaN  \n",
       "58889  0 days 00:00:00.000000000       NaN  \n",
       "58890  0 days 00:00:00.000000000       NaN  \n",
       "58891  0 days 00:00:00.000000000       NaN  \n",
       "58892  0 days 00:00:00.000000000       NaN  \n",
       "58893  0 days 00:00:00.000000000       NaN  \n",
       "58894  0 days 00:00:00.000000000       NaN  \n",
       "58895  0 days 00:00:00.000000000       NaN  \n",
       "58896  0 days 00:00:00.000000000       NaN  \n",
       "58897  0 days 00:00:00.000000000       NaN  \n",
       "58898  0 days 00:00:00.000000000       NaN  \n",
       "\n",
       "[58899 rows x 7 columns]"
      ]
     },
     "execution_count": 133,
     "metadata": {},
     "output_type": "execute_result"
    },
    {
     "name": "stdout",
     "output_type": "stream",
     "text": [
      "time: 80.1 ms\n"
     ]
    }
   ],
   "source": [
    "dfs[pt_info_df]"
   ]
  },
  {
   "cell_type": "code",
   "execution_count": 134,
   "metadata": {},
   "outputs": [
    {
     "name": "stdout",
     "output_type": "stream",
     "text": [
      "time: 774 µs\n"
     ]
    }
   ],
   "source": [
    "### gender distribution qc. should be almost entirely/entirely populated"
   ]
  },
  {
   "cell_type": "code",
   "execution_count": 135,
   "metadata": {},
   "outputs": [
    {
     "name": "stdout",
     "output_type": "stream",
     "text": [
      "time: 70 ms\n"
     ]
    }
   ],
   "source": [
    "#icustay_id\n",
    "#dfs[pt_info_df]\n",
    "model_pts=list(final_pt_df2[final_pt_df2['final_bin'].isin(['C_pos/A_full','C_neg/A_partial'])]['icustay_id'].unique())"
   ]
  },
  {
   "cell_type": "code",
   "execution_count": 136,
   "metadata": {},
   "outputs": [
    {
     "data": {
      "text/plain": [
       "M    5706\n",
       "F    4599\n",
       "Name: value, dtype: int64"
      ]
     },
     "execution_count": 136,
     "metadata": {},
     "output_type": "execute_result"
    },
    {
     "name": "stdout",
     "output_type": "stream",
     "text": [
      "time: 43.2 ms\n"
     ]
    }
   ],
   "source": [
    "model_pts=list(final_pt_df2[final_pt_df2['final_bin'].isin(['C_pos/A_full','C_neg/A_partial'])]['icustay_id'].unique())\n",
    "dfs[pt_info_df][(dfs[pt_info_df]['label']=='gender')& (dfs[pt_info_df]['icustay_id'].isin(model_pts))]['value'].value_counts()"
   ]
  },
  {
   "cell_type": "code",
   "execution_count": 137,
   "metadata": {},
   "outputs": [
    {
     "data": {
      "text/plain": [
       "10305"
      ]
     },
     "execution_count": 137,
     "metadata": {},
     "output_type": "execute_result"
    },
    {
     "name": "stdout",
     "output_type": "stream",
     "text": [
      "time: 3.01 ms\n"
     ]
    }
   ],
   "source": [
    "len(model_pts)"
   ]
  },
  {
   "cell_type": "code",
   "execution_count": 138,
   "metadata": {},
   "outputs": [
    {
     "name": "stdout",
     "output_type": "stream",
     "text": [
      "time: 868 µs\n"
     ]
    }
   ],
   "source": [
    "#### gender qc"
   ]
  },
  {
   "cell_type": "code",
   "execution_count": 139,
   "metadata": {},
   "outputs": [
    {
     "name": "stdout",
     "output_type": "stream",
     "text": [
      "time: 158 ms\n"
     ]
    }
   ],
   "source": [
    "##adjusting ages over 90 (which were set to 300 to deidentify) to 90\n",
    "admit_index=dfs[pt_info_df].loc[(dfs[pt_info_df]['label']=='yearsold')].index\n",
    "age_tf=pd.to_numeric(dfs[pt_info_df].loc[admit_index,'value'])>90\n",
    "dfs[pt_info_df].loc[(dfs[pt_info_df]['label']=='yearsold')&(age_tf),'value']=90.0"
   ]
  },
  {
   "cell_type": "code",
   "execution_count": 140,
   "metadata": {},
   "outputs": [
    {
     "data": {
      "text/plain": [
       "90.0                1140\n",
       "53.4838413250691       1\n",
       "83.484660081882        1\n",
       "78.3578324714174       1\n",
       "50.5881323991685       1\n",
       "72.2223092060233       1\n",
       "47.132067330849        1\n",
       "51.2884275103303       1\n",
       "69.9682666932847       1\n",
       "54.7235696947803       1\n",
       "55.3633841293381       1\n",
       "61.6255405037139       1\n",
       "43.8530610059067       1\n",
       "49.2965158630568       1\n",
       "19.8003480619565       1\n",
       "40.5415144687809       1\n",
       "53.6839875655943       1\n",
       "34.1684765001141       1\n",
       "80.0979973762263       1\n",
       "83.1776427231475       1\n",
       "76.9673483408117       1\n",
       "86.8778635574315       1\n",
       "66.3339156970112       1\n",
       "84.2245708799148       1\n",
       "76.1691103252465       1\n",
       "72.0453299046822       1\n",
       "83.4022892108399       1\n",
       "63.5582294280934       1\n",
       "42.4642884123          1\n",
       "79.0458238902832       1\n",
       "                    ... \n",
       "47.8130398699521       1\n",
       "66.8836054072553       1\n",
       "88.7652951428499       1\n",
       "39.3788574859939       1\n",
       "30.8138367936725       1\n",
       "74.6775576089437       1\n",
       "25.9364590146272       1\n",
       "57.350685635156        1\n",
       "84.9508730701955       1\n",
       "88.0728735708672       1\n",
       "85.5030514361041       1\n",
       "47.9278664410475       1\n",
       "64.5233322876264       1\n",
       "60.8626893997009       1\n",
       "59.2379072236165       1\n",
       "88.9633869178898       1\n",
       "26.0587539926991       1\n",
       "73.4817545060461       1\n",
       "85.9639355971303       1\n",
       "75.605545256927        1\n",
       "61.4669343042563       1\n",
       "87.6304216100084       1\n",
       "53.9751691193247       1\n",
       "67.1670869140872       1\n",
       "84.3959743453241       1\n",
       "38.6448471049763       1\n",
       "39.2241733845413       1\n",
       "66.6821907876391       1\n",
       "68.8547853765812       1\n",
       "61.3242077344285       1\n",
       "Name: value, Length: 18494, dtype: int64"
      ]
     },
     "execution_count": 140,
     "metadata": {},
     "output_type": "execute_result"
    },
    {
     "name": "stdout",
     "output_type": "stream",
     "text": [
      "time: 27 ms\n"
     ]
    }
   ],
   "source": [
    "dfs[pt_info_df].loc[admit_index,'value'].value_counts()"
   ]
  },
  {
   "cell_type": "code",
   "execution_count": 141,
   "metadata": {},
   "outputs": [
    {
     "name": "stdout",
     "output_type": "stream",
     "text": [
      "time: 833 µs\n"
     ]
    }
   ],
   "source": [
    "#dfs[pt_info_df].loc[(dfs[pt_info_df]['label']=='first_admit_age') & (dfs[pt_info_df]['value']>90)]"
   ]
  },
  {
   "cell_type": "code",
   "execution_count": 142,
   "metadata": {},
   "outputs": [
    {
     "name": "stdout",
     "output_type": "stream",
     "text": [
      "time: 643 ms\n"
     ]
    }
   ],
   "source": [
    "#date= '22102018'\n",
    "save_df(dfs[pt_info_df], 'pt_info')\n",
    "\n",
    "del(dfs[pt_info_df] )"
   ]
  },
  {
   "cell_type": "code",
   "execution_count": null,
   "metadata": {},
   "outputs": [],
   "source": []
  },
  {
   "cell_type": "code",
   "execution_count": null,
   "metadata": {},
   "outputs": [],
   "source": []
  }
 ],
 "metadata": {
  "kernelspec": {
   "display_name": "Python 3",
   "language": "python",
   "name": "python3"
  },
  "language_info": {
   "codemirror_mode": {
    "name": "ipython",
    "version": 3
   },
   "file_extension": ".py",
   "mimetype": "text/x-python",
   "name": "python",
   "nbconvert_exporter": "python",
   "pygments_lexer": "ipython3",
   "version": "3.6.8"
  }
 },
 "nbformat": 4,
 "nbformat_minor": 4
}
