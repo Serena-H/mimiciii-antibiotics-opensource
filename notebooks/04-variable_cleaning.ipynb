{
 "cells": [
  {
   "cell_type": "code",
   "execution_count": 1,
   "metadata": {},
   "outputs": [],
   "source": [
    "# designed to be run after 03-clinical_variables_final. this notebook does some data cleaning/processing. run before -___ notebook.\n",
    "\n",
    "## cleans many aspects of the raw clinical variables.\n",
    "## collapses and formats all of the various categorical variables into discrete variables as well. "
   ]
  },
  {
   "cell_type": "code",
   "execution_count": 157,
   "metadata": {},
   "outputs": [
    {
     "name": "stdout",
     "output_type": "stream",
     "text": [
      "The autotime extension is already loaded. To reload it, use:\n",
      "  %reload_ext autotime\n",
      "time: 16 ms (started: 2023-07-26 18:36:35 +08:00)\n"
     ]
    },
    {
     "name": "stderr",
     "output_type": "stream",
     "text": [
      "C:\\Users\\csfhe\\AppData\\Local\\Temp\\ipykernel_10128\\3239421198.py:10: DeprecationWarning: The 'cachedir' parameter has been deprecated in version 0.12 and will be removed in version 0.14.\n",
      "You provided \"cachedir='/tmp'\", use \"location='/tmp'\" instead.\n",
      "  memory = Memory(cachedir='/tmp', verbose=0)\n"
     ]
    }
   ],
   "source": [
    "import pandas as pd\n",
    "import matplotlib.pyplot as plt\n",
    "import os\n",
    "from pathlib import Path\n",
    "import seaborn as sns\n",
    "import numpy as np\n",
    "import glob\n",
    "\n",
    "from joblib import Memory\n",
    "memory = Memory(cachedir='/tmp', verbose=0)\n",
    "#@memory.cache above any def fxn.\n",
    "\n",
    "%matplotlib inline\n",
    "plt.style.use('ggplot')\n",
    "\n",
    "from notebook.services.config import ConfigManager\n",
    "cm = ConfigManager()\n",
    "cm.update('livereveal', {\n",
    "        'width': 1024,\n",
    "        'height': 768,\n",
    "        'scroll': True,\n",
    "})\n",
    "\n",
    "%load_ext autotime"
   ]
  },
  {
   "cell_type": "code",
   "execution_count": 158,
   "metadata": {},
   "outputs": [
    {
     "name": "stdout",
     "output_type": "stream",
     "text": [
      "time: 0 ns (started: 2023-07-26 18:36:37 +08:00)\n"
     ]
    }
   ],
   "source": [
    "#patients of interest from rotation_cohort_generation\n",
    "from parameters import final_pt_df_v, date, repository_path\n",
    "\n",
    "#patients of interest from rotation_cohort_generation\n",
    "final_pt_df2 = final_pt_df_v\n",
    "del(final_pt_df_v)\n",
    "\n",
    "patients= list(final_pt_df2['subject_id'].unique())\n",
    "hadm_id= list(final_pt_df2['hadm_id'].unique())\n",
    "stay_id= list(final_pt_df2['stay_id'].unique())\n",
    "stay_id= [int(x) for x in stay_id]\n"
   ]
  },
  {
   "cell_type": "code",
   "execution_count": 27,
   "metadata": {},
   "outputs": [
    {
     "data": {
      "text/plain": [
       "final_bin\n",
       "C_neg/A_partial    14583\n",
       "C_neg/A_full        7802\n",
       "C_pos/A_partial     2551\n",
       "C_pos/A_full        1535\n",
       "Name: count, dtype: int64"
      ]
     },
     "execution_count": 27,
     "metadata": {},
     "output_type": "execute_result"
    },
    {
     "name": "stdout",
     "output_type": "stream",
     "text": [
      "time: 15 ms (started: 2023-07-26 17:42:45 +08:00)\n"
     ]
    }
   ],
   "source": [
    "final_pt_df2['final_bin'].value_counts()"
   ]
  },
  {
   "cell_type": "markdown",
   "metadata": {},
   "source": [
    "# extracting clinical data for our patients\n",
    "## IMPORTANT, USE THIS TO TUNE TIMEWINDOW OF EXTRACTION AND FOLDER TO SAVE IN"
   ]
  },
  {
   "cell_type": "markdown",
   "metadata": {},
   "source": [
    "#NOTE ON MY DF NAMING CONVENTION:\n",
    "origionally when I coded this workbook, it was for 72 hour timewindows, so every dataframe had _72 at the end. this was changed on 6/5/19 and was made more generalizable by finding name of each corresponding df in the df list and using this variable."
   ]
  },
  {
   "cell_type": "code",
   "execution_count": 28,
   "metadata": {},
   "outputs": [
    {
     "name": "stdout",
     "output_type": "stream",
     "text": [
      "time: 0 ns (started: 2023-07-26 17:42:50 +08:00)\n"
     ]
    }
   ],
   "source": [
    "from parameters import lower_window, upper_window, folder, date, time_col, time_var, patient_df, save_boolean\n"
   ]
  },
  {
   "cell_type": "markdown",
   "metadata": {},
   "source": [
    "### begin pipeline:"
   ]
  },
  {
   "cell_type": "markdown",
   "metadata": {},
   "source": [
    "# changing my code structure to be a dictionary of dataframes"
   ]
  },
  {
   "cell_type": "code",
   "execution_count": 52,
   "metadata": {},
   "outputs": [
    {
     "name": "stdout",
     "output_type": "stream",
     "text": [
      "time: 16 ms (started: 2023-07-26 18:00:34 +08:00)\n"
     ]
    }
   ],
   "source": [
    "#folder to save files to:\n",
    "save_path= str(repository_path)+'/data/cleaned/'\n",
    "#folder=None\n",
    "\n",
    "\n",
    "def save_df(df, df_name='default', save_path=save_path, add_subfolder=False):\n",
    "    #uses the date and supplied df name and saves to the savepath specified above.\n",
    "    if df_name == 'default':\n",
    "        df_name= \"%s\"%(df)\n",
    "    \n",
    "    address=save_path+'%s/'%(folder)\n",
    "    if not os.path.exists(address):\n",
    "        print(address)\n",
    "        os.makedirs(address)\n",
    "    pd.DataFrame(df).to_csv(Path(address+'%s_%s_prepped.csv' %(date, df_name)))\n"
   ]
  },
  {
   "cell_type": "code",
   "execution_count": 53,
   "metadata": {},
   "outputs": [
    {
     "data": {
      "text/plain": [
       "'c:\\\\Users\\\\csfhe\\\\Documents\\\\RA\\\\mimiciii-antibiotics-opensource\\\\notebooks/data/cleaned/24_hr_window/'"
      ]
     },
     "execution_count": 53,
     "metadata": {},
     "output_type": "execute_result"
    },
    {
     "name": "stdout",
     "output_type": "stream",
     "text": [
      "time: 0 ns (started: 2023-07-26 18:00:38 +08:00)\n"
     ]
    }
   ],
   "source": [
    "save_path+'%s/'%(folder)"
   ]
  },
  {
   "cell_type": "code",
   "execution_count": 54,
   "metadata": {},
   "outputs": [
    {
     "name": "stdout",
     "output_type": "stream",
     "text": [
      "time: 0 ns (started: 2023-07-26 18:00:39 +08:00)\n"
     ]
    }
   ],
   "source": [
    "##folder with all clinical variable csv's\n",
    "allFiles = glob.glob(str(repository_path)+ '/data/raw/%s/'%(folder) + \"{}_*.csv\".format(date))"
   ]
  },
  {
   "cell_type": "code",
   "execution_count": 34,
   "metadata": {},
   "outputs": [
    {
     "data": {
      "text/plain": [
       "['c:\\\\Users\\\\csfhe\\\\Documents\\\\RA\\\\mimiciii-antibiotics-opensource\\\\notebooks/data/raw/24_hr_window\\\\07242023_bg_all_nosummary.csv',\n",
       " 'c:\\\\Users\\\\csfhe\\\\Documents\\\\RA\\\\mimiciii-antibiotics-opensource\\\\notebooks/data/raw/24_hr_window\\\\07242023_cancer_elix.csv',\n",
       " 'c:\\\\Users\\\\csfhe\\\\Documents\\\\RA\\\\mimiciii-antibiotics-opensource\\\\notebooks/data/raw/24_hr_window\\\\07242023_gcs.csv',\n",
       " 'c:\\\\Users\\\\csfhe\\\\Documents\\\\RA\\\\mimiciii-antibiotics-opensource\\\\notebooks/data/raw/24_hr_window\\\\07242023_heightfirstday.csv',\n",
       " 'c:\\\\Users\\\\csfhe\\\\Documents\\\\RA\\\\mimiciii-antibiotics-opensource\\\\notebooks/data/raw/24_hr_window\\\\07242023_labs_all_nosummary.csv',\n",
       " 'c:\\\\Users\\\\csfhe\\\\Documents\\\\RA\\\\mimiciii-antibiotics-opensource\\\\notebooks/data/raw/24_hr_window\\\\07242023_pt_info.csv',\n",
       " 'c:\\\\Users\\\\csfhe\\\\Documents\\\\RA\\\\mimiciii-antibiotics-opensource\\\\notebooks/data/raw/24_hr_window\\\\07242023_rrt_merged.csv',\n",
       " 'c:\\\\Users\\\\csfhe\\\\Documents\\\\RA\\\\mimiciii-antibiotics-opensource\\\\notebooks/data/raw/24_hr_window\\\\07242023_sum_elix.csv',\n",
       " 'c:\\\\Users\\\\csfhe\\\\Documents\\\\RA\\\\mimiciii-antibiotics-opensource\\\\notebooks/data/raw/24_hr_window\\\\07242023_vaso_dose.csv',\n",
       " 'c:\\\\Users\\\\csfhe\\\\Documents\\\\RA\\\\mimiciii-antibiotics-opensource\\\\notebooks/data/raw/24_hr_window\\\\07242023_ventcategory.csv',\n",
       " 'c:\\\\Users\\\\csfhe\\\\Documents\\\\RA\\\\mimiciii-antibiotics-opensource\\\\notebooks/data/raw/24_hr_window\\\\07242023_vitals_all_nosummary.csv',\n",
       " 'c:\\\\Users\\\\csfhe\\\\Documents\\\\RA\\\\mimiciii-antibiotics-opensource\\\\notebooks/data/raw/24_hr_window\\\\07242023_weightfirstday.csv']"
      ]
     },
     "execution_count": 34,
     "metadata": {},
     "output_type": "execute_result"
    },
    {
     "name": "stdout",
     "output_type": "stream",
     "text": [
      "time: 0 ns (started: 2023-07-26 17:43:23 +08:00)\n"
     ]
    }
   ],
   "source": [
    "allFiles"
   ]
  },
  {
   "cell_type": "code",
   "execution_count": 205,
   "metadata": {},
   "outputs": [
    {
     "name": "stderr",
     "output_type": "stream",
     "text": [
      "C:\\Users\\csfhe\\AppData\\Local\\Temp\\ipykernel_10128\\763664031.py:10: DtypeWarning: Columns (7) have mixed types. Specify dtype option on import or set low_memory=False.\n",
      "  dfs[name] = pd.read_csv(allFiles[i],  index_col=0)\n"
     ]
    },
    {
     "name": "stdout",
     "output_type": "stream",
     "text": [
      "time: 9.25 s (started: 2023-07-26 19:07:51 +08:00)\n"
     ]
    }
   ],
   "source": [
    "#making a dictionary of all my dataframes for easier cycling through\n",
    "\n",
    "df_list=[]\n",
    "for element in allFiles:\n",
    "    df_list.append(element.split('{}_'.format(date))[1].split('.csv')[0]) #making an list of all my dataframes in order they appear in file\n",
    "\n",
    "dfs = {}\n",
    "i=0\n",
    "for name in df_list:\n",
    "    dfs[name] = pd.read_csv(allFiles[i],  index_col=0)\n",
    "    i+=1"
   ]
  },
  {
   "cell_type": "code",
   "execution_count": 160,
   "metadata": {},
   "outputs": [
    {
     "data": {
      "text/plain": [
       "['bg_all_nosummary',\n",
       " 'cancer_elix',\n",
       " 'gcs',\n",
       " 'heightfirstday',\n",
       " 'labs_all_nosummary',\n",
       " 'pt_info',\n",
       " 'rrt_merged',\n",
       " 'sum_elix',\n",
       " 'vaso_dose',\n",
       " 'ventcategory',\n",
       " 'vitals_all_nosummary',\n",
       " 'weightfirstday']"
      ]
     },
     "execution_count": 160,
     "metadata": {},
     "output_type": "execute_result"
    },
    {
     "name": "stdout",
     "output_type": "stream",
     "text": [
      "time: 0 ns (started: 2023-07-26 18:36:57 +08:00)\n"
     ]
    }
   ],
   "source": [
    "df_list"
   ]
  },
  {
   "cell_type": "code",
   "execution_count": 58,
   "metadata": {},
   "outputs": [
    {
     "name": "stdout",
     "output_type": "stream",
     "text": [
      "time: 15 ms (started: 2023-07-26 18:01:06 +08:00)\n"
     ]
    }
   ],
   "source": [
    "#assigning the appropriate name to each df in a flexible way\n",
    "\n",
    "indices = [i for i, s in enumerate(df_list) if 'bg' in s]\n",
    "bg_df= df_list[indices[0]]\n",
    "\n",
    "indices = [i for i, s in enumerate(df_list) if 'cancer' in s]\n",
    "cancer_elix_df= df_list[indices[0]]\n",
    "\n",
    "# indices = [i for i, s in enumerate(df_list) if 'uti' in s]\n",
    "# uti_df= df_list[indices[0]]\n",
    "\n",
    "indices = [i for i, s in enumerate(df_list) if 'vent' in s]\n",
    "vent_df= df_list[indices[0]]\n",
    "\n",
    "indices = [i for i, s in enumerate(df_list) if 'vitals' in s]\n",
    "vitals_df= df_list[indices[0]]\n",
    "\n",
    "indices = [i for i, s in enumerate(df_list) if 'vaso' in s]\n",
    "vaso_df= df_list[indices[0]]\n",
    "\n",
    "indices = [i for i, s in enumerate(df_list) if 'pt_info' in s]\n",
    "pt_info_df= df_list[indices[0]]\n",
    "\n",
    "indices = [i for i, s in enumerate(df_list) if 'gcs' in s]\n",
    "gcs_df= df_list[indices[0]]\n",
    "\n",
    "indices = [i for i, s in enumerate(df_list) if 'sum_elix' in s]\n",
    "sum_elix_df = df_list[indices[0]]\n",
    "\n",
    "# indices = [i for i, s in enumerate(df_list) if 'sofa' in s]\n",
    "# sofa_df= df_list[indices[0]]\n",
    "\n",
    "indices = [i for i, s in enumerate(df_list) if 'weight' in s]\n",
    "weight_df= df_list[indices[0]]\n",
    "\n",
    "indices = [i for i, s in enumerate(df_list) if 'labs' in s]\n",
    "labs_df= df_list[indices[0]]\n",
    "\n",
    "indices = [i for i, s in enumerate(df_list) if 'height' in s]\n",
    "height_df= df_list[indices[0]]\n",
    "\n",
    "indices = [i for i, s in enumerate(df_list) if 'rrt' in s]\n",
    "rrt_df= df_list[indices[0]]"
   ]
  },
  {
   "cell_type": "code",
   "execution_count": 59,
   "metadata": {},
   "outputs": [
    {
     "name": "stdout",
     "output_type": "stream",
     "text": [
      "false\n",
      "false\n",
      "false\n",
      "false\n",
      "false\n",
      "false\n",
      "false\n",
      "false\n",
      "time: 63 ms (started: 2023-07-26 18:01:16 +08:00)\n"
     ]
    }
   ],
   "source": [
    "#adding a t_0 to each df that doesn't currently have it\n",
    "\n",
    "for element in df_list:\n",
    "    #print(element,':',list(dfs[element]))\n",
    "    if ('t_0' in list(dfs[element]))==False and 'stay_id' in list(dfs[element]) :\n",
    "        #print(\"true\")\n",
    "        dfs[element]= pd.merge(dfs[element], final_pt_df2[['stay_id','t_0']], how='left')\n",
    "    elif ('t_0' in list(dfs[element]))==False and 'hadm_id' in list(dfs[element]) :\n",
    "        #print(\"true\")\n",
    "        dfs[element]= pd.merge(dfs[element], final_pt_df2[['hadm_id','t_0']], how='left')\n",
    "    else:\n",
    "        print(\"false\")\n"
   ]
  },
  {
   "cell_type": "code",
   "execution_count": 60,
   "metadata": {},
   "outputs": [
    {
     "name": "stdout",
     "output_type": "stream",
     "text": [
      "bg_all_nosummary : ['subject_id', 'hadm_id', 'stay_id', 'charttime', 'label', 'valuenum', 'value', 'valueuom', 'unique_var', 't_0', 'delta']\n",
      "cancer_elix : ['subject_id', 'hadm_id', 'stay_id', 'value', 'label', 'delta', 'uom', 't_0']\n",
      "gcs : ['subject_id', 'hadm_id', 'stay_id', 'day', 'mingcs', 'gcsmotor', 'gcsverbal', 'gcseyes', 'endotrachflag', 'icu_admit', 't_0', 'approx_charttime', 'admit_plus_day', 'delta', 'uom']\n",
      "heightfirstday : ['stay_id', 'height', 'uom', 't_0']\n",
      "labs_all_nosummary : ['subject_id', 'hadm_id', 'stay_id', 'charttime', 'label', 'valuenum', 'uom', 't_0', 'delta']\n",
      "pt_info : ['stay_id', 'subject_id', 't_0', 'label', 'value', 'delta', 'uom']\n",
      "rrt_merged : ['stay_id', 't_0', 'first_charttime', 'rrt', 'uom']\n",
      "sum_elix : ['subject_id', 'hadm_id', 'stay_id', 'value', 'label', 'delta', 'uom', 't_0']\n",
      "vaso_dose : ['stay_id', 'linkorderid', 'vaso_rate', 'vaso_amount', 'charttime', 'endtime', 'amount_uom', 'rate_uom', 'label', 't_0', 'delta']\n",
      "ventcategory : ['stay_id', 'day', 'value', 'uom', 't_0']\n",
      "vitals_all_nosummary : ['subject_id', 'hadm_id', 'stay_id', 'charttime', 'valueuom', 'vitalid', 'valuenum', 't_0', 'delta']\n",
      "weightfirstday : ['stay_id', 'weight', 'weight_admit', 'weight_daily', 'uom', 't_0']\n",
      "time: 0 ns (started: 2023-07-26 18:01:18 +08:00)\n"
     ]
    }
   ],
   "source": [
    "for element in df_list:\n",
    "    print(element,':',list(dfs[element]))"
   ]
  },
  {
   "cell_type": "code",
   "execution_count": 61,
   "metadata": {},
   "outputs": [
    {
     "name": "stdout",
     "output_type": "stream",
     "text": [
      "time: 15 ms (started: 2023-07-26 18:02:13 +08:00)\n"
     ]
    }
   ],
   "source": [
    "from parameters import time_var, value_fill, delta_fill, uom_fill\n",
    "def yn_convert(df, #df in format where each row corresponds to a test, and a patient can have many rows\n",
    "               label_fill, # value that will be filled to na's\n",
    "               pt= final_pt_df2,\n",
    "               time_var=time_var,#'t_0', #\n",
    "               value_fill=value_fill,#0,\n",
    "               delta_fill=delta_fill,# pd.to_timedelta('0 days'),\n",
    "               uom_fill=uom_fill):#'y/n'):\n",
    "\n",
    "    \"\"\"\n",
    "    description: collapses (binarizes) a dataframe where each row corresponds to a test, and a patient can have many rows -> \n",
    "    1 row per patient where value is binary variable yes or no a patient has any value within the timewindow (specified in data collection).\n",
    "    said a different way, for patient this fxn collapses values down to does pt have a non NA value in the clinical time window y/n? \n",
    "    \n",
    "    label_fill: the variable name in the label column of the specified dataframe that will considered for y/n value within timewindow. if any non NA value is present\n",
    "        it will be considered positive.\n",
    "    pt: the by patient spreadsheet be be used to supply patient information.\n",
    "    time_var: the variable used to create the time window of interest.\n",
    "    value_fill: the variable value that missing values will be filled if the value is not present (default =0) in the origional dataset\n",
    "    delta_fill: the time delta value that will be filled in if a patient doesn't have any instances of the label_fill.  \n",
    "    uom_fill: fills in the unit of measurement to this for missing values.\n",
    "    \n",
    "    returns a flat 1 row per stay_id of 1 or 0 if any value was present for the patient.\n",
    "    \"\"\"\n",
    "    \n",
    "    yn_df = pd.merge(pt[['stay_id', time_var]],\n",
    "                      df[['stay_id','value','label','uom','delta']],\n",
    "                     left_on= 'stay_id',\n",
    "                     right_on= 'stay_id',\n",
    "                      how='left') #merging all stay_id's with time_var, where value,label,uom, and delta are nan's if no value exists for that icustay. \n",
    "    #the idea is that if any value exists then it is pos.\n",
    "\n",
    "    yn_df['value']= yn_df['value'].fillna(value_fill) #converts na to 0 in above na rows.\n",
    "    yn_df.loc[yn_df.loc[:,'value']!=value_fill, 'value']= 1 #squashes all other values into a binary 1 = yes\n",
    "    yn_df['delta']= yn_df['delta'].fillna(delta_fill)\n",
    "    yn_df['delta']= pd.to_timedelta(yn_df['delta']) #filling in the time delta to time =0 for filled rows\n",
    "    yn_df['uom']= yn_df['uom'].fillna(uom_fill)\n",
    "    yn_df.loc[yn_df.loc[:,'uom']!=uom_fill, 'uom']= uom_fill\n",
    "    yn_df['label']= yn_df['label'].fillna(label_fill)\n",
    "    ##this is new as of 12-12-19L i think i wasn't truely converting to 1row per icustay id by not droping duplicates filtered on value first (desc) then delta (asc)\n",
    "    yn_df= yn_df.sort_values(['value','delta'], ascending=[False, True]).drop_duplicates(subset='stay_id',keep='first')\n",
    "    \n",
    "    return(yn_df)\n"
   ]
  },
  {
   "cell_type": "markdown",
   "metadata": {},
   "source": [
    "## vaso dose"
   ]
  },
  {
   "cell_type": "code",
   "execution_count": 64,
   "metadata": {},
   "outputs": [
    {
     "name": "stdout",
     "output_type": "stream",
     "text": [
      "time: 0 ns (started: 2023-07-26 18:04:35 +08:00)\n"
     ]
    }
   ],
   "source": [
    "# #renaming starttime to charttime and dropping endtime\n",
    "\n",
    "dfs[vaso_df]= dfs[vaso_df].rename(\n",
    "    columns={'starttime':'charttime','label':'vaso_type'})\n",
    "\n",
    "dfs[vaso_df] = dfs[vaso_df].drop(['linkorderid'], axis = 1)\n",
    "dfs[vaso_df] = dfs[vaso_df].drop(['endtime'], axis = 1)"
   ]
  },
  {
   "cell_type": "code",
   "execution_count": 65,
   "metadata": {},
   "outputs": [
    {
     "data": {
      "text/html": [
       "<div>\n",
       "<style scoped>\n",
       "    .dataframe tbody tr th:only-of-type {\n",
       "        vertical-align: middle;\n",
       "    }\n",
       "\n",
       "    .dataframe tbody tr th {\n",
       "        vertical-align: top;\n",
       "    }\n",
       "\n",
       "    .dataframe thead th {\n",
       "        text-align: right;\n",
       "    }\n",
       "</style>\n",
       "<table border=\"1\" class=\"dataframe\">\n",
       "  <thead>\n",
       "    <tr style=\"text-align: right;\">\n",
       "      <th></th>\n",
       "      <th>stay_id</th>\n",
       "      <th>vaso_rate</th>\n",
       "      <th>vaso_amount</th>\n",
       "      <th>charttime</th>\n",
       "      <th>amount_uom</th>\n",
       "      <th>rate_uom</th>\n",
       "      <th>vaso_type</th>\n",
       "      <th>t_0</th>\n",
       "      <th>delta</th>\n",
       "    </tr>\n",
       "  </thead>\n",
       "  <tbody>\n",
       "    <tr>\n",
       "      <th>0</th>\n",
       "      <td>30009339</td>\n",
       "      <td>0.010000</td>\n",
       "      <td>0.048000</td>\n",
       "      <td>2145-05-10 07:00:00</td>\n",
       "      <td>mg</td>\n",
       "      <td>mcg/kg/min</td>\n",
       "      <td>epinephrine</td>\n",
       "      <td>2145-05-10 04:00:00</td>\n",
       "      <td>0 days 03:00:00</td>\n",
       "    </tr>\n",
       "    <tr>\n",
       "      <th>1</th>\n",
       "      <td>30009339</td>\n",
       "      <td>0.100000</td>\n",
       "      <td>0.960800</td>\n",
       "      <td>2145-05-10 10:00:00</td>\n",
       "      <td>mg</td>\n",
       "      <td>mcg/kg/min</td>\n",
       "      <td>epinephrine</td>\n",
       "      <td>2145-05-10 04:00:00</td>\n",
       "      <td>0 days 06:00:00</td>\n",
       "    </tr>\n",
       "    <tr>\n",
       "      <th>5</th>\n",
       "      <td>30009339</td>\n",
       "      <td>1.007658</td>\n",
       "      <td>8.000001</td>\n",
       "      <td>2145-05-10 07:00:00</td>\n",
       "      <td>mg</td>\n",
       "      <td>mcg/kg/min</td>\n",
       "      <td>norepinephrine</td>\n",
       "      <td>2145-05-10 04:00:00</td>\n",
       "      <td>0 days 03:00:00</td>\n",
       "    </tr>\n",
       "    <tr>\n",
       "      <th>6</th>\n",
       "      <td>30009339</td>\n",
       "      <td>0.100000</td>\n",
       "      <td>0.654400</td>\n",
       "      <td>2145-05-10 10:00:00</td>\n",
       "      <td>mg</td>\n",
       "      <td>mcg/kg/min</td>\n",
       "      <td>norepinephrine</td>\n",
       "      <td>2145-05-10 04:00:00</td>\n",
       "      <td>0 days 06:00:00</td>\n",
       "    </tr>\n",
       "    <tr>\n",
       "      <th>9</th>\n",
       "      <td>30009339</td>\n",
       "      <td>2.496198</td>\n",
       "      <td>58.200008</td>\n",
       "      <td>2145-05-11 02:07:00</td>\n",
       "      <td>mg</td>\n",
       "      <td>mcg/kg/min</td>\n",
       "      <td>phenylephrine</td>\n",
       "      <td>2145-05-10 04:00:00</td>\n",
       "      <td>0 days 22:07:00</td>\n",
       "    </tr>\n",
       "    <tr>\n",
       "      <th>...</th>\n",
       "      <td>...</td>\n",
       "      <td>...</td>\n",
       "      <td>...</td>\n",
       "      <td>...</td>\n",
       "      <td>...</td>\n",
       "      <td>...</td>\n",
       "      <td>...</td>\n",
       "      <td>...</td>\n",
       "      <td>...</td>\n",
       "    </tr>\n",
       "    <tr>\n",
       "      <th>82251</th>\n",
       "      <td>39990190</td>\n",
       "      <td>0.300109</td>\n",
       "      <td>4.760656</td>\n",
       "      <td>2153-10-06 13:21:00</td>\n",
       "      <td>mg</td>\n",
       "      <td>mcg/kg/min</td>\n",
       "      <td>phenylephrine</td>\n",
       "      <td>2153-10-06 12:00:00</td>\n",
       "      <td>0 days 01:21:00</td>\n",
       "    </tr>\n",
       "    <tr>\n",
       "      <th>82252</th>\n",
       "      <td>39990190</td>\n",
       "      <td>0.250091</td>\n",
       "      <td>2.032787</td>\n",
       "      <td>2153-10-06 15:33:00</td>\n",
       "      <td>mg</td>\n",
       "      <td>mcg/kg/min</td>\n",
       "      <td>phenylephrine</td>\n",
       "      <td>2153-10-06 12:00:00</td>\n",
       "      <td>0 days 03:33:00</td>\n",
       "    </tr>\n",
       "    <tr>\n",
       "      <th>82253</th>\n",
       "      <td>39999552</td>\n",
       "      <td>0.200007</td>\n",
       "      <td>0.670824</td>\n",
       "      <td>2186-07-17 16:46:00</td>\n",
       "      <td>mg</td>\n",
       "      <td>mcg/kg/min</td>\n",
       "      <td>phenylephrine</td>\n",
       "      <td>2186-07-17 14:00:00</td>\n",
       "      <td>0 days 02:46:00</td>\n",
       "    </tr>\n",
       "    <tr>\n",
       "      <th>82254</th>\n",
       "      <td>39999552</td>\n",
       "      <td>0.300075</td>\n",
       "      <td>1.064516</td>\n",
       "      <td>2186-07-17 19:30:00</td>\n",
       "      <td>mg</td>\n",
       "      <td>mcg/kg/min</td>\n",
       "      <td>phenylephrine</td>\n",
       "      <td>2186-07-17 14:00:00</td>\n",
       "      <td>0 days 05:30:00</td>\n",
       "    </tr>\n",
       "    <tr>\n",
       "      <th>82255</th>\n",
       "      <td>39999552</td>\n",
       "      <td>0.400100</td>\n",
       "      <td>1.135484</td>\n",
       "      <td>2186-07-17 21:05:00</td>\n",
       "      <td>mg</td>\n",
       "      <td>mcg/kg/min</td>\n",
       "      <td>phenylephrine</td>\n",
       "      <td>2186-07-17 14:00:00</td>\n",
       "      <td>0 days 07:05:00</td>\n",
       "    </tr>\n",
       "  </tbody>\n",
       "</table>\n",
       "<p>22683 rows × 9 columns</p>\n",
       "</div>"
      ],
      "text/plain": [
       "        stay_id  vaso_rate  vaso_amount            charttime amount_uom  \\\n",
       "0      30009339   0.010000     0.048000  2145-05-10 07:00:00         mg   \n",
       "1      30009339   0.100000     0.960800  2145-05-10 10:00:00         mg   \n",
       "5      30009339   1.007658     8.000001  2145-05-10 07:00:00         mg   \n",
       "6      30009339   0.100000     0.654400  2145-05-10 10:00:00         mg   \n",
       "9      30009339   2.496198    58.200008  2145-05-11 02:07:00         mg   \n",
       "...         ...        ...          ...                  ...        ...   \n",
       "82251  39990190   0.300109     4.760656  2153-10-06 13:21:00         mg   \n",
       "82252  39990190   0.250091     2.032787  2153-10-06 15:33:00         mg   \n",
       "82253  39999552   0.200007     0.670824  2186-07-17 16:46:00         mg   \n",
       "82254  39999552   0.300075     1.064516  2186-07-17 19:30:00         mg   \n",
       "82255  39999552   0.400100     1.135484  2186-07-17 21:05:00         mg   \n",
       "\n",
       "         rate_uom       vaso_type                  t_0            delta  \n",
       "0      mcg/kg/min     epinephrine  2145-05-10 04:00:00  0 days 03:00:00  \n",
       "1      mcg/kg/min     epinephrine  2145-05-10 04:00:00  0 days 06:00:00  \n",
       "5      mcg/kg/min  norepinephrine  2145-05-10 04:00:00  0 days 03:00:00  \n",
       "6      mcg/kg/min  norepinephrine  2145-05-10 04:00:00  0 days 06:00:00  \n",
       "9      mcg/kg/min   phenylephrine  2145-05-10 04:00:00  0 days 22:07:00  \n",
       "...           ...             ...                  ...              ...  \n",
       "82251  mcg/kg/min   phenylephrine  2153-10-06 12:00:00  0 days 01:21:00  \n",
       "82252  mcg/kg/min   phenylephrine  2153-10-06 12:00:00  0 days 03:33:00  \n",
       "82253  mcg/kg/min   phenylephrine  2186-07-17 14:00:00  0 days 02:46:00  \n",
       "82254  mcg/kg/min   phenylephrine  2186-07-17 14:00:00  0 days 05:30:00  \n",
       "82255  mcg/kg/min   phenylephrine  2186-07-17 14:00:00  0 days 07:05:00  \n",
       "\n",
       "[22683 rows x 9 columns]"
      ]
     },
     "execution_count": 65,
     "metadata": {},
     "output_type": "execute_result"
    },
    {
     "name": "stdout",
     "output_type": "stream",
     "text": [
      "time: 16 ms (started: 2023-07-26 18:04:39 +08:00)\n"
     ]
    }
   ],
   "source": [
    "dfs[vaso_df]"
   ]
  },
  {
   "cell_type": "code",
   "execution_count": 66,
   "metadata": {},
   "outputs": [
    {
     "data": {
      "text/plain": [
       "22683"
      ]
     },
     "execution_count": 66,
     "metadata": {},
     "output_type": "execute_result"
    },
    {
     "name": "stdout",
     "output_type": "stream",
     "text": [
      "time: 0 ns (started: 2023-07-26 18:05:18 +08:00)\n"
     ]
    }
   ],
   "source": [
    "len(dfs[vaso_df])"
   ]
  },
  {
   "cell_type": "code",
   "execution_count": 68,
   "metadata": {},
   "outputs": [
    {
     "name": "stdout",
     "output_type": "stream",
     "text": [
      "time: 0 ns (started: 2023-07-26 18:05:29 +08:00)\n"
     ]
    }
   ],
   "source": [
    "#removing units/hour because that is a different use of vasopressin\n",
    "dfs[vaso_df] = dfs[vaso_df].loc[dfs[vaso_df].loc[:,'rate_uom']!= 'units/hour',:]\n",
    "dfs[vaso_df] = dfs[vaso_df].loc[dfs[vaso_df].loc[:,'rate_uom']!= 'Uhr',:]"
   ]
  },
  {
   "cell_type": "code",
   "execution_count": 69,
   "metadata": {},
   "outputs": [
    {
     "data": {
      "text/plain": [
       "22683"
      ]
     },
     "execution_count": 69,
     "metadata": {},
     "output_type": "execute_result"
    },
    {
     "name": "stdout",
     "output_type": "stream",
     "text": [
      "time: 16 ms (started: 2023-07-26 18:05:30 +08:00)\n"
     ]
    }
   ],
   "source": [
    "len(dfs[vaso_df])"
   ]
  },
  {
   "cell_type": "code",
   "execution_count": 70,
   "metadata": {},
   "outputs": [
    {
     "data": {
      "text/plain": [
       "array(['mcg/kg/min', 'units/min', 'mg/kg/min'], dtype=object)"
      ]
     },
     "execution_count": 70,
     "metadata": {},
     "output_type": "execute_result"
    },
    {
     "name": "stdout",
     "output_type": "stream",
     "text": [
      "time: 0 ns (started: 2023-07-26 18:05:32 +08:00)\n"
     ]
    }
   ],
   "source": [
    "dfs[vaso_df]['rate_uom'].unique()"
   ]
  },
  {
   "cell_type": "markdown",
   "metadata": {},
   "source": [
    "#### removing outliers/extreme values"
   ]
  },
  {
   "cell_type": "code",
   "execution_count": 74,
   "metadata": {},
   "outputs": [
    {
     "name": "stdout",
     "output_type": "stream",
     "text": [
      "time: 0 ns (started: 2023-07-26 18:10:33 +08:00)\n"
     ]
    }
   ],
   "source": [
    "# Use transform to add a column back to the orig df from a groupby aggregation, transform returns a Series with its index aligned to the orig df:\n",
    "def vaso_outlier_removal(df):\n",
    "    test_group=(dfs[vaso_df][['vaso_rate','rate_uom','amount_uom','vaso_type']]#.groupby('vaso_type', as_index=False)\n",
    "         .groupby(['vaso_type','rate_uom','amount_uom'])\n",
    "             )\n",
    "\n",
    "    dfs[vaso_df]['std']=test_group.transform(lambda x : x.std())\n",
    "    dfs[vaso_df]['mean']=test_group.transform(lambda x : x.mean())\n",
    "\n",
    "    normal_high_value= pd.DataFrame({\n",
    "        'vaso_type' : ['dobutamine','dopamine','epinephrine','norepinephrine','vasopressin','phenylephrine'],\n",
    "        'high_value': [40, 20, 0.5, 1, 0.1, 2] #highest values one might expect to see in a clinic, ie above this is likely erroneous\n",
    "    }) #found from literature, see notes\n",
    "\n",
    "    dfs[vaso_df] = pd.merge(dfs[vaso_df], normal_high_value, left_on='vaso_type', right_on='vaso_type')\n",
    "\n",
    "    vaso_dose_72_rmout =(dfs[vaso_df][\n",
    "        ~((dfs[vaso_df]['vaso_rate'] > dfs[vaso_df]['high_value']) & ((dfs[vaso_df]['vaso_rate']-dfs[vaso_df]['mean'])>= (3*dfs[vaso_df]['std'])))\n",
    "        ])\n",
    "    #ie vaso_dose_72_rmout is a dataframe of all rows that excludes rows where vaso rate > literature high value and where vaso_rate >3sd from teh mean\n",
    "    return(vaso_dose_72_rmout)"
   ]
  },
  {
   "cell_type": "code",
   "execution_count": 75,
   "metadata": {},
   "outputs": [
    {
     "data": {
      "text/plain": [
       "22607"
      ]
     },
     "execution_count": 75,
     "metadata": {},
     "output_type": "execute_result"
    },
    {
     "name": "stdout",
     "output_type": "stream",
     "text": [
      "time: 47 ms (started: 2023-07-26 18:10:35 +08:00)\n"
     ]
    }
   ],
   "source": [
    "dfs[vaso_df]= vaso_outlier_removal(dfs[vaso_df])\n",
    "len(dfs[vaso_df]) #22683 ->22607"
   ]
  },
  {
   "cell_type": "code",
   "execution_count": 76,
   "metadata": {},
   "outputs": [
    {
     "data": {
      "text/plain": [
       "array(['epinephrine', 'norepinephrine', 'phenylephrine', 'dopamine',\n",
       "       'dobutamine', 'vasopressin'], dtype=object)"
      ]
     },
     "execution_count": 76,
     "metadata": {},
     "output_type": "execute_result"
    },
    {
     "name": "stdout",
     "output_type": "stream",
     "text": [
      "time: 15 ms (started: 2023-07-26 18:10:59 +08:00)\n"
     ]
    }
   ],
   "source": [
    "dfs[vaso_df]['vaso_type'].unique()"
   ]
  },
  {
   "cell_type": "code",
   "execution_count": 77,
   "metadata": {},
   "outputs": [
    {
     "data": {
      "text/plain": [
       "array(['epinephrine', 'norepinephrine', 'phenylephrine', 'dopamine',\n",
       "       'dobutamine', 'vasopressin'], dtype=object)"
      ]
     },
     "execution_count": 77,
     "metadata": {},
     "output_type": "execute_result"
    },
    {
     "name": "stdout",
     "output_type": "stream",
     "text": [
      "time: 16 ms (started: 2023-07-26 18:11:04 +08:00)\n"
     ]
    }
   ],
   "source": [
    "#standardizing names, dropping unneeded columns for analysis\n",
    "dfs[vaso_df]= dfs[vaso_df].drop(['vaso_amount', 'amount_uom','std','mean','high_value'], axis=1)\n",
    "dfs[vaso_df]= dfs[vaso_df].rename(index=str, columns={'vaso_rate': 'value', 'rate_uom':'uom','vaso_type':'label'})\n",
    "dfs[vaso_df]['label'].unique()"
   ]
  },
  {
   "cell_type": "code",
   "execution_count": 78,
   "metadata": {},
   "outputs": [
    {
     "data": {
      "text/html": [
       "<div>\n",
       "<style scoped>\n",
       "    .dataframe tbody tr th:only-of-type {\n",
       "        vertical-align: middle;\n",
       "    }\n",
       "\n",
       "    .dataframe tbody tr th {\n",
       "        vertical-align: top;\n",
       "    }\n",
       "\n",
       "    .dataframe thead th {\n",
       "        text-align: right;\n",
       "    }\n",
       "</style>\n",
       "<table border=\"1\" class=\"dataframe\">\n",
       "  <thead>\n",
       "    <tr style=\"text-align: right;\">\n",
       "      <th></th>\n",
       "      <th>stay_id</th>\n",
       "      <th>value</th>\n",
       "      <th>charttime</th>\n",
       "      <th>uom</th>\n",
       "      <th>label</th>\n",
       "      <th>t_0</th>\n",
       "      <th>delta</th>\n",
       "    </tr>\n",
       "  </thead>\n",
       "  <tbody>\n",
       "    <tr>\n",
       "      <th>0</th>\n",
       "      <td>30009339</td>\n",
       "      <td>0.010000</td>\n",
       "      <td>2145-05-10 07:00:00</td>\n",
       "      <td>mcg/kg/min</td>\n",
       "      <td>epinephrine</td>\n",
       "      <td>2145-05-10 04:00:00</td>\n",
       "      <td>0 days 03:00:00</td>\n",
       "    </tr>\n",
       "    <tr>\n",
       "      <th>1</th>\n",
       "      <td>30009339</td>\n",
       "      <td>0.100000</td>\n",
       "      <td>2145-05-10 10:00:00</td>\n",
       "      <td>mcg/kg/min</td>\n",
       "      <td>epinephrine</td>\n",
       "      <td>2145-05-10 04:00:00</td>\n",
       "      <td>0 days 06:00:00</td>\n",
       "    </tr>\n",
       "    <tr>\n",
       "      <th>2</th>\n",
       "      <td>30029746</td>\n",
       "      <td>0.020000</td>\n",
       "      <td>2126-10-26 11:45:00</td>\n",
       "      <td>mcg/kg/min</td>\n",
       "      <td>epinephrine</td>\n",
       "      <td>2126-10-26 11:00:00</td>\n",
       "      <td>0 days 00:45:00</td>\n",
       "    </tr>\n",
       "    <tr>\n",
       "      <th>3</th>\n",
       "      <td>30029746</td>\n",
       "      <td>0.010003</td>\n",
       "      <td>2126-10-27 04:47:00</td>\n",
       "      <td>mcg/kg/min</td>\n",
       "      <td>epinephrine</td>\n",
       "      <td>2126-10-26 11:00:00</td>\n",
       "      <td>0 days 17:47:00</td>\n",
       "    </tr>\n",
       "    <tr>\n",
       "      <th>4</th>\n",
       "      <td>30049088</td>\n",
       "      <td>0.030191</td>\n",
       "      <td>2198-03-28 04:46:00</td>\n",
       "      <td>mcg/kg/min</td>\n",
       "      <td>epinephrine</td>\n",
       "      <td>2198-03-27 20:00:00</td>\n",
       "      <td>0 days 08:46:00</td>\n",
       "    </tr>\n",
       "  </tbody>\n",
       "</table>\n",
       "</div>"
      ],
      "text/plain": [
       "    stay_id     value            charttime         uom        label  \\\n",
       "0  30009339  0.010000  2145-05-10 07:00:00  mcg/kg/min  epinephrine   \n",
       "1  30009339  0.100000  2145-05-10 10:00:00  mcg/kg/min  epinephrine   \n",
       "2  30029746  0.020000  2126-10-26 11:45:00  mcg/kg/min  epinephrine   \n",
       "3  30029746  0.010003  2126-10-27 04:47:00  mcg/kg/min  epinephrine   \n",
       "4  30049088  0.030191  2198-03-28 04:46:00  mcg/kg/min  epinephrine   \n",
       "\n",
       "                   t_0            delta  \n",
       "0  2145-05-10 04:00:00  0 days 03:00:00  \n",
       "1  2145-05-10 04:00:00  0 days 06:00:00  \n",
       "2  2126-10-26 11:00:00  0 days 00:45:00  \n",
       "3  2126-10-26 11:00:00  0 days 17:47:00  \n",
       "4  2198-03-27 20:00:00  0 days 08:46:00  "
      ]
     },
     "execution_count": 78,
     "metadata": {},
     "output_type": "execute_result"
    },
    {
     "name": "stdout",
     "output_type": "stream",
     "text": [
      "time: 0 ns (started: 2023-07-26 18:11:09 +08:00)\n"
     ]
    }
   ],
   "source": [
    "dfs[vaso_df].head()"
   ]
  },
  {
   "cell_type": "code",
   "execution_count": 79,
   "metadata": {},
   "outputs": [
    {
     "name": "stdout",
     "output_type": "stream",
     "text": [
      "time: 31 ms (started: 2023-07-26 18:11:31 +08:00)\n"
     ]
    }
   ],
   "source": [
    "epinephrine_df= dfs[vaso_df][dfs[vaso_df]['label']=='epinephrine']\n",
    "norepinephrine_df= dfs[vaso_df][dfs[vaso_df]['label']=='norepinephrine']\n",
    "phenylephrine_df= dfs[vaso_df][dfs[vaso_df]['label']=='phenylephrine']\n",
    "vasopressin_df= dfs[vaso_df][dfs[vaso_df]['label']=='vasopressin']\n",
    "dopamine_df= dfs[vaso_df][dfs[vaso_df]['label']=='dopamine']\n",
    "dobutamine_df= dfs[vaso_df][dfs[vaso_df]['label']=='dobutamine']\n",
    "\n",
    "\n",
    "#making a all vasoactive\n",
    "all_vaso=pd.concat([epinephrine_df, norepinephrine_df,phenylephrine_df, vasopressin_df,dopamine_df,dobutamine_df ], sort=False)#.sort_values(['stay_id','delta','label','source'], ascending=True)\n",
    "#sorting so that a patient's most positive and earliest cases are kept and everything else droped. \n",
    "all_vaso= all_vaso.sort_values(['value','delta'], ascending=[False, True]).drop_duplicates(subset='stay_id',keep='first')\n",
    "all_vaso['label']='any_vasoactives'\n"
   ]
  },
  {
   "cell_type": "code",
   "execution_count": 80,
   "metadata": {},
   "outputs": [
    {
     "name": "stdout",
     "output_type": "stream",
     "text": [
      "time: 750 ms (started: 2023-07-26 18:11:35 +08:00)\n"
     ]
    }
   ],
   "source": [
    "#(could be transfered to a different spdsheet for collapsing values)\n",
    "#y/n convert, seperating out vaso_dose into 6 constitutient dataframes, and for each am collapsing values down to does pt have in time window y/n? \n",
    "\n",
    "epinephrine_df=yn_convert(epinephrine_df, label_fill='epinephrine', pt= final_pt_df2, value_fill=0, delta_fill=0, uom_fill='y/n', time_var=time_var)\n",
    "norepinephrine_df=yn_convert(norepinephrine_df, label_fill='norepinephrine', pt= final_pt_df2, value_fill=0, delta_fill=0, uom_fill='y/n', time_var=time_var)\n",
    "phenylephrine_df=yn_convert(phenylephrine_df, label_fill='phenylephrine', pt= final_pt_df2, value_fill=0, delta_fill=0, uom_fill='y/n', time_var=time_var)\n",
    "vasopressin_df=yn_convert(vasopressin_df, label_fill='vasopressin', pt= final_pt_df2, value_fill=0, delta_fill=0, uom_fill='y/n', time_var=time_var)\n",
    "dopamine_df=yn_convert(dopamine_df, label_fill='dopamine', pt= final_pt_df2, value_fill=0, delta_fill=0, uom_fill='y/n', time_var=time_var)\n",
    "dobutamine_df=yn_convert(dobutamine_df, label_fill='dobutamine', pt= final_pt_df2, value_fill=0, delta_fill=0, uom_fill='y/n', time_var=time_var)\n",
    "all_vaso=yn_convert(all_vaso, label_fill='any_vasoactives', pt= final_pt_df2, value_fill=0, delta_fill=0, uom_fill='y/n', time_var=time_var)"
   ]
  },
  {
   "cell_type": "code",
   "execution_count": 82,
   "metadata": {},
   "outputs": [
    {
     "data": {
      "text/html": [
       "<div>\n",
       "<style scoped>\n",
       "    .dataframe tbody tr th:only-of-type {\n",
       "        vertical-align: middle;\n",
       "    }\n",
       "\n",
       "    .dataframe tbody tr th {\n",
       "        vertical-align: top;\n",
       "    }\n",
       "\n",
       "    .dataframe thead th {\n",
       "        text-align: right;\n",
       "    }\n",
       "</style>\n",
       "<table border=\"1\" class=\"dataframe\">\n",
       "  <thead>\n",
       "    <tr style=\"text-align: right;\">\n",
       "      <th></th>\n",
       "      <th>stay_id</th>\n",
       "      <th>t_0</th>\n",
       "      <th>value</th>\n",
       "      <th>label</th>\n",
       "      <th>uom</th>\n",
       "      <th>delta</th>\n",
       "    </tr>\n",
       "  </thead>\n",
       "  <tbody>\n",
       "    <tr>\n",
       "      <th>682</th>\n",
       "      <td>35121579</td>\n",
       "      <td>2131-06-12 18:00:00</td>\n",
       "      <td>1.0</td>\n",
       "      <td>norepinephrine</td>\n",
       "      <td>y/n</td>\n",
       "      <td>0 days</td>\n",
       "    </tr>\n",
       "    <tr>\n",
       "      <th>686</th>\n",
       "      <td>39527567</td>\n",
       "      <td>2129-05-09 08:00:00</td>\n",
       "      <td>1.0</td>\n",
       "      <td>norepinephrine</td>\n",
       "      <td>y/n</td>\n",
       "      <td>0 days</td>\n",
       "    </tr>\n",
       "    <tr>\n",
       "      <th>1238</th>\n",
       "      <td>35977849</td>\n",
       "      <td>2126-07-20 22:00:00</td>\n",
       "      <td>1.0</td>\n",
       "      <td>norepinephrine</td>\n",
       "      <td>y/n</td>\n",
       "      <td>0 days</td>\n",
       "    </tr>\n",
       "    <tr>\n",
       "      <th>1679</th>\n",
       "      <td>36692638</td>\n",
       "      <td>2190-12-21 00:00:00</td>\n",
       "      <td>1.0</td>\n",
       "      <td>norepinephrine</td>\n",
       "      <td>y/n</td>\n",
       "      <td>0 days</td>\n",
       "    </tr>\n",
       "    <tr>\n",
       "      <th>2674</th>\n",
       "      <td>31528057</td>\n",
       "      <td>2154-10-11 03:00:00</td>\n",
       "      <td>1.0</td>\n",
       "      <td>norepinephrine</td>\n",
       "      <td>y/n</td>\n",
       "      <td>0 days</td>\n",
       "    </tr>\n",
       "    <tr>\n",
       "      <th>...</th>\n",
       "      <td>...</td>\n",
       "      <td>...</td>\n",
       "      <td>...</td>\n",
       "      <td>...</td>\n",
       "      <td>...</td>\n",
       "      <td>...</td>\n",
       "    </tr>\n",
       "    <tr>\n",
       "      <th>32699</th>\n",
       "      <td>37692584</td>\n",
       "      <td>2197-07-26 08:00:00</td>\n",
       "      <td>0.0</td>\n",
       "      <td>norepinephrine</td>\n",
       "      <td>y/n</td>\n",
       "      <td>0 days</td>\n",
       "    </tr>\n",
       "    <tr>\n",
       "      <th>32700</th>\n",
       "      <td>35165301</td>\n",
       "      <td>2197-08-04 20:00:00</td>\n",
       "      <td>0.0</td>\n",
       "      <td>norepinephrine</td>\n",
       "      <td>y/n</td>\n",
       "      <td>0 days</td>\n",
       "    </tr>\n",
       "    <tr>\n",
       "      <th>32701</th>\n",
       "      <td>37364566</td>\n",
       "      <td>2162-08-16 08:00:00</td>\n",
       "      <td>0.0</td>\n",
       "      <td>norepinephrine</td>\n",
       "      <td>y/n</td>\n",
       "      <td>0 days</td>\n",
       "    </tr>\n",
       "    <tr>\n",
       "      <th>32702</th>\n",
       "      <td>36075953</td>\n",
       "      <td>2149-01-08 20:00:00</td>\n",
       "      <td>0.0</td>\n",
       "      <td>norepinephrine</td>\n",
       "      <td>y/n</td>\n",
       "      <td>0 days</td>\n",
       "    </tr>\n",
       "    <tr>\n",
       "      <th>32703</th>\n",
       "      <td>38978960</td>\n",
       "      <td>2164-09-12 20:00:00</td>\n",
       "      <td>0.0</td>\n",
       "      <td>norepinephrine</td>\n",
       "      <td>y/n</td>\n",
       "      <td>0 days</td>\n",
       "    </tr>\n",
       "  </tbody>\n",
       "</table>\n",
       "<p>26471 rows × 6 columns</p>\n",
       "</div>"
      ],
      "text/plain": [
       "        stay_id                  t_0  value           label  uom  delta\n",
       "682    35121579  2131-06-12 18:00:00    1.0  norepinephrine  y/n 0 days\n",
       "686    39527567  2129-05-09 08:00:00    1.0  norepinephrine  y/n 0 days\n",
       "1238   35977849  2126-07-20 22:00:00    1.0  norepinephrine  y/n 0 days\n",
       "1679   36692638  2190-12-21 00:00:00    1.0  norepinephrine  y/n 0 days\n",
       "2674   31528057  2154-10-11 03:00:00    1.0  norepinephrine  y/n 0 days\n",
       "...         ...                  ...    ...             ...  ...    ...\n",
       "32699  37692584  2197-07-26 08:00:00    0.0  norepinephrine  y/n 0 days\n",
       "32700  35165301  2197-08-04 20:00:00    0.0  norepinephrine  y/n 0 days\n",
       "32701  37364566  2162-08-16 08:00:00    0.0  norepinephrine  y/n 0 days\n",
       "32702  36075953  2149-01-08 20:00:00    0.0  norepinephrine  y/n 0 days\n",
       "32703  38978960  2164-09-12 20:00:00    0.0  norepinephrine  y/n 0 days\n",
       "\n",
       "[26471 rows x 6 columns]"
      ]
     },
     "execution_count": 82,
     "metadata": {},
     "output_type": "execute_result"
    },
    {
     "name": "stdout",
     "output_type": "stream",
     "text": [
      "time: 0 ns (started: 2023-07-26 18:11:54 +08:00)\n"
     ]
    }
   ],
   "source": [
    "norepinephrine_df"
   ]
  },
  {
   "cell_type": "code",
   "execution_count": 84,
   "metadata": {},
   "outputs": [
    {
     "data": {
      "text/html": [
       "<div>\n",
       "<style scoped>\n",
       "    .dataframe tbody tr th:only-of-type {\n",
       "        vertical-align: middle;\n",
       "    }\n",
       "\n",
       "    .dataframe tbody tr th {\n",
       "        vertical-align: top;\n",
       "    }\n",
       "\n",
       "    .dataframe thead th {\n",
       "        text-align: right;\n",
       "    }\n",
       "</style>\n",
       "<table border=\"1\" class=\"dataframe\">\n",
       "  <thead>\n",
       "    <tr style=\"text-align: right;\">\n",
       "      <th></th>\n",
       "      <th>stay_id</th>\n",
       "      <th>t_0</th>\n",
       "      <th>value</th>\n",
       "      <th>label</th>\n",
       "      <th>uom</th>\n",
       "      <th>delta</th>\n",
       "    </tr>\n",
       "  </thead>\n",
       "  <tbody>\n",
       "    <tr>\n",
       "      <th>340</th>\n",
       "      <td>37631738</td>\n",
       "      <td>2184-05-10 02:00:00</td>\n",
       "      <td>1.0</td>\n",
       "      <td>norepinephrine</td>\n",
       "      <td>y/n</td>\n",
       "      <td>0 days 00:01:00</td>\n",
       "    </tr>\n",
       "    <tr>\n",
       "      <th>9701</th>\n",
       "      <td>34393102</td>\n",
       "      <td>2182-12-05 06:00:00</td>\n",
       "      <td>1.0</td>\n",
       "      <td>norepinephrine</td>\n",
       "      <td>y/n</td>\n",
       "      <td>0 days 00:01:00</td>\n",
       "    </tr>\n",
       "    <tr>\n",
       "      <th>11338</th>\n",
       "      <td>36125394</td>\n",
       "      <td>2176-04-09 16:00:00</td>\n",
       "      <td>1.0</td>\n",
       "      <td>norepinephrine</td>\n",
       "      <td>y/n</td>\n",
       "      <td>0 days 00:01:00</td>\n",
       "    </tr>\n",
       "    <tr>\n",
       "      <th>11559</th>\n",
       "      <td>36391674</td>\n",
       "      <td>2187-06-20 16:00:00</td>\n",
       "      <td>1.0</td>\n",
       "      <td>norepinephrine</td>\n",
       "      <td>y/n</td>\n",
       "      <td>0 days 00:01:00</td>\n",
       "    </tr>\n",
       "    <tr>\n",
       "      <th>14957</th>\n",
       "      <td>38645374</td>\n",
       "      <td>2142-11-10 22:00:00</td>\n",
       "      <td>1.0</td>\n",
       "      <td>norepinephrine</td>\n",
       "      <td>y/n</td>\n",
       "      <td>0 days 00:01:00</td>\n",
       "    </tr>\n",
       "    <tr>\n",
       "      <th>...</th>\n",
       "      <td>...</td>\n",
       "      <td>...</td>\n",
       "      <td>...</td>\n",
       "      <td>...</td>\n",
       "      <td>...</td>\n",
       "      <td>...</td>\n",
       "    </tr>\n",
       "    <tr>\n",
       "      <th>21916</th>\n",
       "      <td>38110624</td>\n",
       "      <td>2183-03-20 21:00:00</td>\n",
       "      <td>1.0</td>\n",
       "      <td>norepinephrine</td>\n",
       "      <td>y/n</td>\n",
       "      <td>0 days 23:59:00</td>\n",
       "    </tr>\n",
       "    <tr>\n",
       "      <th>5918</th>\n",
       "      <td>31024755</td>\n",
       "      <td>2126-04-25 17:00:00</td>\n",
       "      <td>1.0</td>\n",
       "      <td>norepinephrine</td>\n",
       "      <td>y/n</td>\n",
       "      <td>1 days 00:00:00</td>\n",
       "    </tr>\n",
       "    <tr>\n",
       "      <th>20275</th>\n",
       "      <td>35756924</td>\n",
       "      <td>2137-01-19 11:00:00</td>\n",
       "      <td>1.0</td>\n",
       "      <td>norepinephrine</td>\n",
       "      <td>y/n</td>\n",
       "      <td>1 days 00:00:00</td>\n",
       "    </tr>\n",
       "    <tr>\n",
       "      <th>31038</th>\n",
       "      <td>32594563</td>\n",
       "      <td>2171-01-28 15:00:00</td>\n",
       "      <td>1.0</td>\n",
       "      <td>norepinephrine</td>\n",
       "      <td>y/n</td>\n",
       "      <td>1 days 00:00:00</td>\n",
       "    </tr>\n",
       "    <tr>\n",
       "      <th>32542</th>\n",
       "      <td>30159100</td>\n",
       "      <td>2152-09-14 01:00:00</td>\n",
       "      <td>1.0</td>\n",
       "      <td>norepinephrine</td>\n",
       "      <td>y/n</td>\n",
       "      <td>1 days 00:00:00</td>\n",
       "    </tr>\n",
       "  </tbody>\n",
       "</table>\n",
       "<p>5582 rows × 6 columns</p>\n",
       "</div>"
      ],
      "text/plain": [
       "        stay_id                  t_0  value           label  uom  \\\n",
       "340    37631738  2184-05-10 02:00:00    1.0  norepinephrine  y/n   \n",
       "9701   34393102  2182-12-05 06:00:00    1.0  norepinephrine  y/n   \n",
       "11338  36125394  2176-04-09 16:00:00    1.0  norepinephrine  y/n   \n",
       "11559  36391674  2187-06-20 16:00:00    1.0  norepinephrine  y/n   \n",
       "14957  38645374  2142-11-10 22:00:00    1.0  norepinephrine  y/n   \n",
       "...         ...                  ...    ...             ...  ...   \n",
       "21916  38110624  2183-03-20 21:00:00    1.0  norepinephrine  y/n   \n",
       "5918   31024755  2126-04-25 17:00:00    1.0  norepinephrine  y/n   \n",
       "20275  35756924  2137-01-19 11:00:00    1.0  norepinephrine  y/n   \n",
       "31038  32594563  2171-01-28 15:00:00    1.0  norepinephrine  y/n   \n",
       "32542  30159100  2152-09-14 01:00:00    1.0  norepinephrine  y/n   \n",
       "\n",
       "                delta  \n",
       "340   0 days 00:01:00  \n",
       "9701  0 days 00:01:00  \n",
       "11338 0 days 00:01:00  \n",
       "11559 0 days 00:01:00  \n",
       "14957 0 days 00:01:00  \n",
       "...               ...  \n",
       "21916 0 days 23:59:00  \n",
       "5918  1 days 00:00:00  \n",
       "20275 1 days 00:00:00  \n",
       "31038 1 days 00:00:00  \n",
       "32542 1 days 00:00:00  \n",
       "\n",
       "[5582 rows x 6 columns]"
      ]
     },
     "execution_count": 84,
     "metadata": {},
     "output_type": "execute_result"
    },
    {
     "name": "stdout",
     "output_type": "stream",
     "text": [
      "time: 16 ms (started: 2023-07-26 18:13:02 +08:00)\n"
     ]
    }
   ],
   "source": [
    "norepinephrine_df[norepinephrine_df['delta'] != '0 days']"
   ]
  },
  {
   "cell_type": "code",
   "execution_count": 85,
   "metadata": {},
   "outputs": [
    {
     "data": {
      "text/plain": [
       "26471"
      ]
     },
     "execution_count": 85,
     "metadata": {},
     "output_type": "execute_result"
    },
    {
     "name": "stdout",
     "output_type": "stream",
     "text": [
      "time: 15 ms (started: 2023-07-26 18:13:30 +08:00)\n"
     ]
    }
   ],
   "source": [
    "all_vaso['stay_id'].nunique() #26471"
   ]
  },
  {
   "cell_type": "code",
   "execution_count": 86,
   "metadata": {},
   "outputs": [
    {
     "data": {
      "text/plain": [
       "26471"
      ]
     },
     "execution_count": 86,
     "metadata": {},
     "output_type": "execute_result"
    },
    {
     "name": "stdout",
     "output_type": "stream",
     "text": [
      "time: 16 ms (started: 2023-07-26 18:13:42 +08:00)\n"
     ]
    }
   ],
   "source": [
    "#all_vaso=all_vaso.sort_values(['value','delta'], ascending=[False, True]).drop_duplicates(subset='stay_id',keep='first')\n",
    "len(all_vaso)\n"
   ]
  },
  {
   "cell_type": "code",
   "execution_count": 87,
   "metadata": {},
   "outputs": [
    {
     "name": "stdout",
     "output_type": "stream",
     "text": [
      "c:\\Users\\csfhe\\Documents\\RA\\mimiciii-antibiotics-opensource\\notebooks/data/cleaned/24_hr_window/\n",
      "time: 3.2 s (started: 2023-07-26 18:13:49 +08:00)\n"
     ]
    }
   ],
   "source": [
    "save_df(all_vaso, df_name='all_vaso')\n",
    "del(all_vaso)\n",
    "\n",
    "save_df(epinephrine_df, df_name='epinephrine')\n",
    "del(epinephrine_df)\n",
    "\n",
    "save_df(norepinephrine_df, df_name='norepinephrine')\n",
    "del(norepinephrine_df)\n",
    "\n",
    "save_df(phenylephrine_df, df_name='phenylephrine')\n",
    "del(phenylephrine_df)\n",
    "\n",
    "save_df(vasopressin_df, df_name='vasopressin')\n",
    "del(vasopressin_df)\n",
    "\n",
    "save_df(dopamine_df, df_name='dopamine')\n",
    "del(dopamine_df)\n",
    "\n",
    "save_df(dobutamine_df, df_name='dobutamine')\n",
    "del(dobutamine_df)\n",
    "\n",
    "del(dfs[vaso_df])\n"
   ]
  },
  {
   "cell_type": "markdown",
   "metadata": {},
   "source": [
    "## ELIX"
   ]
  },
  {
   "cell_type": "code",
   "execution_count": 88,
   "metadata": {},
   "outputs": [
    {
     "name": "stdout",
     "output_type": "stream",
     "text": [
      "time: 734 ms (started: 2023-07-26 18:14:04 +08:00)\n"
     ]
    }
   ],
   "source": [
    "#convert cancer elix to y/n:\n",
    "dfs[cancer_elix_df]= yn_convert(dfs[cancer_elix_df], label_fill=0, pt= final_pt_df2, value_fill=0, delta_fill=0, uom_fill='y/n', time_var=time_var)\n",
    "save_df(dfs[cancer_elix_df], df_name='cancer_elix')\n",
    "del(dfs[cancer_elix_df])\n",
    "\n",
    "save_df(dfs[sum_elix_df], 'sum_elix')\n",
    "del(dfs[sum_elix_df])"
   ]
  },
  {
   "cell_type": "markdown",
   "metadata": {},
   "source": [
    "## vitals -"
   ]
  },
  {
   "cell_type": "code",
   "execution_count": 89,
   "metadata": {},
   "outputs": [
    {
     "data": {
      "text/html": [
       "<div>\n",
       "<style scoped>\n",
       "    .dataframe tbody tr th:only-of-type {\n",
       "        vertical-align: middle;\n",
       "    }\n",
       "\n",
       "    .dataframe tbody tr th {\n",
       "        vertical-align: top;\n",
       "    }\n",
       "\n",
       "    .dataframe thead th {\n",
       "        text-align: right;\n",
       "    }\n",
       "</style>\n",
       "<table border=\"1\" class=\"dataframe\">\n",
       "  <thead>\n",
       "    <tr style=\"text-align: right;\">\n",
       "      <th></th>\n",
       "      <th>subject_id</th>\n",
       "      <th>hadm_id</th>\n",
       "      <th>stay_id</th>\n",
       "      <th>charttime</th>\n",
       "      <th>valueuom</th>\n",
       "      <th>vitalid</th>\n",
       "      <th>valuenum</th>\n",
       "      <th>t_0</th>\n",
       "      <th>delta</th>\n",
       "    </tr>\n",
       "  </thead>\n",
       "  <tbody>\n",
       "    <tr>\n",
       "      <th>77</th>\n",
       "      <td>10001884</td>\n",
       "      <td>26184834</td>\n",
       "      <td>37510196</td>\n",
       "      <td>2131-01-11 11:00:00</td>\n",
       "      <td>insp/min</td>\n",
       "      <td>RespRate</td>\n",
       "      <td>20.0</td>\n",
       "      <td>2131-01-11 08:00:00</td>\n",
       "      <td>0 days 03:00:00</td>\n",
       "    </tr>\n",
       "    <tr>\n",
       "      <th>78</th>\n",
       "      <td>10001884</td>\n",
       "      <td>26184834</td>\n",
       "      <td>37510196</td>\n",
       "      <td>2131-01-11 16:00:00</td>\n",
       "      <td>insp/min</td>\n",
       "      <td>RespRate</td>\n",
       "      <td>19.0</td>\n",
       "      <td>2131-01-11 08:00:00</td>\n",
       "      <td>0 days 08:00:00</td>\n",
       "    </tr>\n",
       "    <tr>\n",
       "      <th>305</th>\n",
       "      <td>10001884</td>\n",
       "      <td>26184834</td>\n",
       "      <td>37510196</td>\n",
       "      <td>2131-01-12 07:00:00</td>\n",
       "      <td>insp/min</td>\n",
       "      <td>RespRate</td>\n",
       "      <td>18.0</td>\n",
       "      <td>2131-01-11 08:00:00</td>\n",
       "      <td>0 days 23:00:00</td>\n",
       "    </tr>\n",
       "    <tr>\n",
       "      <th>384</th>\n",
       "      <td>10001884</td>\n",
       "      <td>26184834</td>\n",
       "      <td>37510196</td>\n",
       "      <td>2131-01-12 07:00:00</td>\n",
       "      <td>°C</td>\n",
       "      <td>TempC</td>\n",
       "      <td>36.7</td>\n",
       "      <td>2131-01-11 08:00:00</td>\n",
       "      <td>0 days 23:00:00</td>\n",
       "    </tr>\n",
       "    <tr>\n",
       "      <th>385</th>\n",
       "      <td>10001884</td>\n",
       "      <td>26184834</td>\n",
       "      <td>37510196</td>\n",
       "      <td>2131-01-12 07:00:00</td>\n",
       "      <td>bpm</td>\n",
       "      <td>HeartRate</td>\n",
       "      <td>85.0</td>\n",
       "      <td>2131-01-11 08:00:00</td>\n",
       "      <td>0 days 23:00:00</td>\n",
       "    </tr>\n",
       "  </tbody>\n",
       "</table>\n",
       "</div>"
      ],
      "text/plain": [
       "     subject_id   hadm_id   stay_id            charttime  valueuom    vitalid  \\\n",
       "77     10001884  26184834  37510196  2131-01-11 11:00:00  insp/min   RespRate   \n",
       "78     10001884  26184834  37510196  2131-01-11 16:00:00  insp/min   RespRate   \n",
       "305    10001884  26184834  37510196  2131-01-12 07:00:00  insp/min   RespRate   \n",
       "384    10001884  26184834  37510196  2131-01-12 07:00:00        °C      TempC   \n",
       "385    10001884  26184834  37510196  2131-01-12 07:00:00       bpm  HeartRate   \n",
       "\n",
       "     valuenum                  t_0            delta  \n",
       "77       20.0  2131-01-11 08:00:00  0 days 03:00:00  \n",
       "78       19.0  2131-01-11 08:00:00  0 days 08:00:00  \n",
       "305      18.0  2131-01-11 08:00:00  0 days 23:00:00  \n",
       "384      36.7  2131-01-11 08:00:00  0 days 23:00:00  \n",
       "385      85.0  2131-01-11 08:00:00  0 days 23:00:00  "
      ]
     },
     "execution_count": 89,
     "metadata": {},
     "output_type": "execute_result"
    },
    {
     "name": "stdout",
     "output_type": "stream",
     "text": [
      "time: 16 ms (started: 2023-07-26 18:14:12 +08:00)\n"
     ]
    }
   ],
   "source": [
    "dfs[vitals_df].head()"
   ]
  },
  {
   "cell_type": "code",
   "execution_count": 90,
   "metadata": {},
   "outputs": [
    {
     "data": {
      "text/plain": [
       "array(['RespRate', 'TempC', 'HeartRate', 'SpO2', 'SysBP', 'DiasBP',\n",
       "       'MeanArtPress', 'fio2_chartevents', 'TempF', 'Glucose', nan],\n",
       "      dtype=object)"
      ]
     },
     "execution_count": 90,
     "metadata": {},
     "output_type": "execute_result"
    },
    {
     "name": "stdout",
     "output_type": "stream",
     "text": [
      "time: 187 ms (started: 2023-07-26 18:14:36 +08:00)\n"
     ]
    }
   ],
   "source": [
    "dfs[vitals_df].loc[:,'vitalid'].unique()"
   ]
  },
  {
   "cell_type": "code",
   "execution_count": 91,
   "metadata": {},
   "outputs": [
    {
     "data": {
      "text/html": [
       "<div>\n",
       "<style scoped>\n",
       "    .dataframe tbody tr th:only-of-type {\n",
       "        vertical-align: middle;\n",
       "    }\n",
       "\n",
       "    .dataframe tbody tr th {\n",
       "        vertical-align: top;\n",
       "    }\n",
       "\n",
       "    .dataframe thead th {\n",
       "        text-align: right;\n",
       "    }\n",
       "</style>\n",
       "<table border=\"1\" class=\"dataframe\">\n",
       "  <thead>\n",
       "    <tr style=\"text-align: right;\">\n",
       "      <th></th>\n",
       "      <th>subject_id</th>\n",
       "      <th>hadm_id</th>\n",
       "      <th>stay_id</th>\n",
       "      <th>charttime</th>\n",
       "      <th>label</th>\n",
       "      <th>valuenum</th>\n",
       "      <th>value</th>\n",
       "      <th>valueuom</th>\n",
       "      <th>unique_var</th>\n",
       "      <th>t_0</th>\n",
       "      <th>delta</th>\n",
       "    </tr>\n",
       "  </thead>\n",
       "  <tbody>\n",
       "  </tbody>\n",
       "</table>\n",
       "</div>"
      ],
      "text/plain": [
       "Empty DataFrame\n",
       "Columns: [subject_id, hadm_id, stay_id, charttime, label, valuenum, value, valueuom, unique_var, t_0, delta]\n",
       "Index: []"
      ]
     },
     "execution_count": 91,
     "metadata": {},
     "output_type": "execute_result"
    },
    {
     "name": "stdout",
     "output_type": "stream",
     "text": [
      "time: 31 ms (started: 2023-07-26 18:14:54 +08:00)\n"
     ]
    }
   ],
   "source": [
    "dfs[bg_df].loc[dfs[bg_df].loc[:,'label']=='fio2_chartevents',:]#unique()"
   ]
  },
  {
   "cell_type": "code",
   "execution_count": 92,
   "metadata": {},
   "outputs": [
    {
     "name": "stdout",
     "output_type": "stream",
     "text": [
      "time: 4.92 s (started: 2023-07-26 18:15:01 +08:00)\n"
     ]
    }
   ],
   "source": [
    "dfs[vitals_df] = dfs[vitals_df].rename(index=str, columns={\"valueuom\":\"uom\",\"vitalid\":'label', 'valuenum':'value'}) #change valueom to uom\n",
    "dfs[vitals_df] = dfs[vitals_df].loc[dfs[vitals_df]['label'].notnull(),:]#.count() #removing null values\n",
    "\n",
    "\n",
    "dfs[vitals_df].loc[dfs[vitals_df].loc[:,'uom']=='BPM','uom']='bpm'\n",
    "\n",
    "#overall the values are extremely similar and are likely the same thing\n",
    "#i will combine them.\n",
    "dfs[vitals_df].loc[\n",
    "    (dfs[vitals_df]['label']=='RespRate') & \n",
    "    (dfs[vitals_df]['uom']=='bpm'),'uom']='insp/min'\n",
    "\n",
    "dfs[vitals_df].loc[\n",
    "    (dfs[vitals_df]['label']=='TempC') & \n",
    "    (dfs[vitals_df]['uom']=='?C'),'uom']='Deg. C'\n",
    "\n",
    "dfs[vitals_df].loc[\n",
    "    (dfs[vitals_df]['label']=='TempF') & \n",
    "    (dfs[vitals_df]['uom']=='Deg. F'),'uom']='Deg. C'\n",
    "\n",
    "dfs[vitals_df].loc[\n",
    "    (dfs[vitals_df]['label']=='TempF') & \n",
    "    (dfs[vitals_df]['uom']=='?F'),'uom']='Deg. C'\n",
    "\n",
    "dfs[vitals_df].loc[\n",
    "    (dfs[vitals_df]['label']=='TempF'),'label']='temperature'\n",
    "\n",
    "dfs[vitals_df].loc[\n",
    "    (dfs[vitals_df]['label']=='TempC'),'label']='temperature'"
   ]
  },
  {
   "cell_type": "markdown",
   "metadata": {},
   "source": [
    "- glucose max\n",
    "- glucose min\n",
    "- diasBP min\n",
    "- heartrate min\n",
    "- meanart pressure min\n",
    "- RespRate min\n",
    "- SYSbp min\n",
    "- TEMPC min"
   ]
  },
  {
   "cell_type": "markdown",
   "metadata": {},
   "source": [
    "### most likely erroneous value removal"
   ]
  },
  {
   "cell_type": "code",
   "execution_count": 93,
   "metadata": {},
   "outputs": [
    {
     "name": "stdout",
     "output_type": "stream",
     "text": [
      "time: 2.03 s (started: 2023-07-26 18:15:12 +08:00)\n"
     ]
    }
   ],
   "source": [
    "#erroneous value cutoff summary\n",
    "## setting a conservative threshold for erroneous values to not skew my data.\n",
    "\n",
    "(dfs[vitals_df].loc[(dfs[vitals_df].loc[:,'stay_id']==228393.0) &\n",
    "                         (dfs[vitals_df].loc[:,'label']=='Glucose') &\n",
    "                         (dfs[vitals_df].loc[:,'value']>99999), 'value'])=np.nan\n",
    "\n",
    "(dfs[vitals_df].loc[(dfs[vitals_df].loc[:,'label']=='Glucose') &\n",
    "                         (dfs[vitals_df].loc[:,'value']>99998), 'value'])=np.nan\n",
    "\n",
    "(dfs[vitals_df].loc[(dfs[vitals_df].loc[:,'label']=='Glucose') &\n",
    "                         (dfs[vitals_df].loc[:,'value']<15), 'value'])=np.nan\n",
    "\n",
    "(dfs[vitals_df].loc[(dfs[vitals_df].loc[:,'label']=='DiasBP') &\n",
    "                         (dfs[vitals_df].loc[:,'value']<15), 'value'])=np.nan\n",
    "\n",
    "(dfs[vitals_df].loc[(dfs[vitals_df].loc[:,'label']=='HeartRate') &\n",
    "                         (dfs[vitals_df].loc[:,'value'].between(1,29)), 'value'])=np.nan\n",
    "\n",
    "(dfs[vitals_df].loc[(dfs[vitals_df].loc[:,'label']=='RespRate') &\n",
    "                         (dfs[vitals_df].loc[:,'value']<4), 'value'])=np.nan\n",
    "\n",
    "(dfs[vitals_df].loc[(dfs[vitals_df].loc[:,'label']=='SysBP') &\n",
    "                         (dfs[vitals_df].loc[:,'value']<40), 'value'])=np.nan\n",
    "\n",
    "(dfs[vitals_df].loc[(dfs[vitals_df].loc[:,'label']=='TempC') &\n",
    "                         (dfs[vitals_df].loc[:,'value']<28), 'value'])=np.nan"
   ]
  },
  {
   "cell_type": "code",
   "execution_count": 94,
   "metadata": {},
   "outputs": [
    {
     "name": "stdout",
     "output_type": "stream",
     "text": [
      "time: 406 ms (started: 2023-07-26 18:15:17 +08:00)\n"
     ]
    }
   ],
   "source": [
    "dfs[vitals_df] = dfs[vitals_df].loc[dfs[vitals_df]['value'].notnull(),:]#.count() \n"
   ]
  },
  {
   "cell_type": "code",
   "execution_count": 95,
   "metadata": {},
   "outputs": [
    {
     "name": "stdout",
     "output_type": "stream",
     "text": [
      "time: 1.22 s (started: 2023-07-26 18:15:28 +08:00)\n"
     ]
    }
   ],
   "source": [
    "### saving spo2 for later use in bloodgas 11/25/19\n",
    "spo2=dfs[vitals_df][dfs[vitals_df]['label']=='SpO2'].copy()\n",
    "\n",
    "### seperating fio2 out\n",
    "fio2_chart_df = dfs[vitals_df].loc[dfs[vitals_df].loc[:,'label']=='fio2_chartevents',:]#unique()\n",
    "dfs[vitals_df]= dfs[vitals_df].loc[dfs[vitals_df].loc[:,'label']!='fio2_chartevents',:]"
   ]
  },
  {
   "cell_type": "code",
   "execution_count": 96,
   "metadata": {},
   "outputs": [
    {
     "name": "stdout",
     "output_type": "stream",
     "text": [
      "time: 19.3 s (started: 2023-07-26 18:15:31 +08:00)\n"
     ]
    }
   ],
   "source": [
    "save_df(dfs[vitals_df], 'vitals')\n",
    "del(dfs[vitals_df])\n"
   ]
  },
  {
   "cell_type": "code",
   "execution_count": null,
   "metadata": {},
   "outputs": [],
   "source": []
  },
  {
   "cell_type": "markdown",
   "metadata": {},
   "source": [
    "# labs -"
   ]
  },
  {
   "cell_type": "code",
   "execution_count": 97,
   "metadata": {},
   "outputs": [
    {
     "data": {
      "text/html": [
       "<div>\n",
       "<style scoped>\n",
       "    .dataframe tbody tr th:only-of-type {\n",
       "        vertical-align: middle;\n",
       "    }\n",
       "\n",
       "    .dataframe tbody tr th {\n",
       "        vertical-align: top;\n",
       "    }\n",
       "\n",
       "    .dataframe thead th {\n",
       "        text-align: right;\n",
       "    }\n",
       "</style>\n",
       "<table border=\"1\" class=\"dataframe\">\n",
       "  <thead>\n",
       "    <tr style=\"text-align: right;\">\n",
       "      <th></th>\n",
       "      <th>subject_id</th>\n",
       "      <th>hadm_id</th>\n",
       "      <th>stay_id</th>\n",
       "      <th>charttime</th>\n",
       "      <th>label</th>\n",
       "      <th>valuenum</th>\n",
       "      <th>uom</th>\n",
       "      <th>t_0</th>\n",
       "      <th>delta</th>\n",
       "    </tr>\n",
       "  </thead>\n",
       "  <tbody>\n",
       "    <tr>\n",
       "      <th>6</th>\n",
       "      <td>10001884</td>\n",
       "      <td>26184834</td>\n",
       "      <td>37510196</td>\n",
       "      <td>2131-01-12 03:34:00</td>\n",
       "      <td>HEMATOCRIT</td>\n",
       "      <td>33.6</td>\n",
       "      <td>%</td>\n",
       "      <td>2131-01-11 08:00:00</td>\n",
       "      <td>0 days 19:34:00</td>\n",
       "    </tr>\n",
       "    <tr>\n",
       "      <th>27</th>\n",
       "      <td>10001884</td>\n",
       "      <td>26184834</td>\n",
       "      <td>37510196</td>\n",
       "      <td>2131-01-12 03:34:00</td>\n",
       "      <td>HEMOGLOBIN</td>\n",
       "      <td>10.4</td>\n",
       "      <td>g/dL</td>\n",
       "      <td>2131-01-11 08:00:00</td>\n",
       "      <td>0 days 19:34:00</td>\n",
       "    </tr>\n",
       "    <tr>\n",
       "      <th>47</th>\n",
       "      <td>10001884</td>\n",
       "      <td>26184834</td>\n",
       "      <td>37510196</td>\n",
       "      <td>2131-01-12 03:34:00</td>\n",
       "      <td>PLATELET</td>\n",
       "      <td>149.0</td>\n",
       "      <td>K/uL</td>\n",
       "      <td>2131-01-11 08:00:00</td>\n",
       "      <td>0 days 19:34:00</td>\n",
       "    </tr>\n",
       "    <tr>\n",
       "      <th>66</th>\n",
       "      <td>10001884</td>\n",
       "      <td>26184834</td>\n",
       "      <td>37510196</td>\n",
       "      <td>2131-01-12 03:34:00</td>\n",
       "      <td>WBC</td>\n",
       "      <td>12.0</td>\n",
       "      <td>K/uL</td>\n",
       "      <td>2131-01-11 08:00:00</td>\n",
       "      <td>0 days 19:34:00</td>\n",
       "    </tr>\n",
       "    <tr>\n",
       "      <th>85</th>\n",
       "      <td>10001884</td>\n",
       "      <td>26184834</td>\n",
       "      <td>37510196</td>\n",
       "      <td>2131-01-12 03:34:00</td>\n",
       "      <td>ANION GAP</td>\n",
       "      <td>11.0</td>\n",
       "      <td>mEq/L</td>\n",
       "      <td>2131-01-11 08:00:00</td>\n",
       "      <td>0 days 19:34:00</td>\n",
       "    </tr>\n",
       "    <tr>\n",
       "      <th>103</th>\n",
       "      <td>10001884</td>\n",
       "      <td>26184834</td>\n",
       "      <td>37510196</td>\n",
       "      <td>2131-01-12 03:34:00</td>\n",
       "      <td>BICARBONATE</td>\n",
       "      <td>33.0</td>\n",
       "      <td>mEq/L</td>\n",
       "      <td>2131-01-11 08:00:00</td>\n",
       "      <td>0 days 19:34:00</td>\n",
       "    </tr>\n",
       "    <tr>\n",
       "      <th>118</th>\n",
       "      <td>10001884</td>\n",
       "      <td>26184834</td>\n",
       "      <td>37510196</td>\n",
       "      <td>2131-01-12 03:34:00</td>\n",
       "      <td>BILIRUBIN</td>\n",
       "      <td>0.2</td>\n",
       "      <td>mg/dL</td>\n",
       "      <td>2131-01-11 08:00:00</td>\n",
       "      <td>0 days 19:34:00</td>\n",
       "    </tr>\n",
       "    <tr>\n",
       "      <th>133</th>\n",
       "      <td>10001884</td>\n",
       "      <td>26184834</td>\n",
       "      <td>37510196</td>\n",
       "      <td>2131-01-12 03:34:00</td>\n",
       "      <td>CHLORIDE</td>\n",
       "      <td>98.0</td>\n",
       "      <td>mEq/L</td>\n",
       "      <td>2131-01-11 08:00:00</td>\n",
       "      <td>0 days 19:34:00</td>\n",
       "    </tr>\n",
       "    <tr>\n",
       "      <th>151</th>\n",
       "      <td>10001884</td>\n",
       "      <td>26184834</td>\n",
       "      <td>37510196</td>\n",
       "      <td>2131-01-12 03:34:00</td>\n",
       "      <td>CREATININE</td>\n",
       "      <td>1.0</td>\n",
       "      <td>mg/dL</td>\n",
       "      <td>2131-01-11 08:00:00</td>\n",
       "      <td>0 days 19:34:00</td>\n",
       "    </tr>\n",
       "    <tr>\n",
       "      <th>170</th>\n",
       "      <td>10001884</td>\n",
       "      <td>26184834</td>\n",
       "      <td>37510196</td>\n",
       "      <td>2131-01-12 03:34:00</td>\n",
       "      <td>GLUCOSE</td>\n",
       "      <td>145.0</td>\n",
       "      <td>mg/dL</td>\n",
       "      <td>2131-01-11 08:00:00</td>\n",
       "      <td>0 days 19:34:00</td>\n",
       "    </tr>\n",
       "  </tbody>\n",
       "</table>\n",
       "</div>"
      ],
      "text/plain": [
       "     subject_id   hadm_id   stay_id            charttime        label  \\\n",
       "6      10001884  26184834  37510196  2131-01-12 03:34:00   HEMATOCRIT   \n",
       "27     10001884  26184834  37510196  2131-01-12 03:34:00   HEMOGLOBIN   \n",
       "47     10001884  26184834  37510196  2131-01-12 03:34:00     PLATELET   \n",
       "66     10001884  26184834  37510196  2131-01-12 03:34:00          WBC   \n",
       "85     10001884  26184834  37510196  2131-01-12 03:34:00    ANION GAP   \n",
       "103    10001884  26184834  37510196  2131-01-12 03:34:00  BICARBONATE   \n",
       "118    10001884  26184834  37510196  2131-01-12 03:34:00    BILIRUBIN   \n",
       "133    10001884  26184834  37510196  2131-01-12 03:34:00     CHLORIDE   \n",
       "151    10001884  26184834  37510196  2131-01-12 03:34:00   CREATININE   \n",
       "170    10001884  26184834  37510196  2131-01-12 03:34:00      GLUCOSE   \n",
       "\n",
       "     valuenum    uom                  t_0            delta  \n",
       "6        33.6      %  2131-01-11 08:00:00  0 days 19:34:00  \n",
       "27       10.4   g/dL  2131-01-11 08:00:00  0 days 19:34:00  \n",
       "47      149.0   K/uL  2131-01-11 08:00:00  0 days 19:34:00  \n",
       "66       12.0   K/uL  2131-01-11 08:00:00  0 days 19:34:00  \n",
       "85       11.0  mEq/L  2131-01-11 08:00:00  0 days 19:34:00  \n",
       "103      33.0  mEq/L  2131-01-11 08:00:00  0 days 19:34:00  \n",
       "118       0.2  mg/dL  2131-01-11 08:00:00  0 days 19:34:00  \n",
       "133      98.0  mEq/L  2131-01-11 08:00:00  0 days 19:34:00  \n",
       "151       1.0  mg/dL  2131-01-11 08:00:00  0 days 19:34:00  \n",
       "170     145.0  mg/dL  2131-01-11 08:00:00  0 days 19:34:00  "
      ]
     },
     "execution_count": 97,
     "metadata": {},
     "output_type": "execute_result"
    },
    {
     "name": "stdout",
     "output_type": "stream",
     "text": [
      "time: 0 ns (started: 2023-07-26 18:15:53 +08:00)\n"
     ]
    }
   ],
   "source": [
    "dfs[labs_df].head(10)"
   ]
  },
  {
   "cell_type": "code",
   "execution_count": 98,
   "metadata": {},
   "outputs": [
    {
     "name": "stdout",
     "output_type": "stream",
     "text": [
      "time: 47 ms (started: 2023-07-26 18:16:10 +08:00)\n"
     ]
    }
   ],
   "source": [
    "dfs[labs_df]= dfs[labs_df].rename(\n",
    "    columns={'valuenum':'value'}) #changing valuenum to value"
   ]
  },
  {
   "cell_type": "code",
   "execution_count": 99,
   "metadata": {},
   "outputs": [
    {
     "data": {
      "text/plain": [
       "label        uom   \n",
       "ALBUMIN      g/dL       8745\n",
       "ANION GAP    mEq/L     51361\n",
       "BANDS        %          2720\n",
       "BICARBONATE  mEq/L     51680\n",
       "BILIRUBIN    mg/dL     17672\n",
       "BUN          mg/dL     51742\n",
       "CHLORIDE     mEq/L     58868\n",
       "CREATININE   mg/dL     51894\n",
       "GLUCOSE      mg/dL     69153\n",
       "HEMATOCRIT   %         64277\n",
       "HEMOGLOBIN   g/dL      57896\n",
       "LACTATE      mmol/L    45957\n",
       "PLATELET     K/uL      50159\n",
       "POTASSIUM    mEq/L     71601\n",
       "PT           sec       34849\n",
       "PTT          sec       36267\n",
       "SODIUM       mEq/L     61871\n",
       "WBC          K/uL      49041\n",
       "Name: count, dtype: int64"
      ]
     },
     "execution_count": 99,
     "metadata": {},
     "output_type": "execute_result"
    },
    {
     "name": "stdout",
     "output_type": "stream",
     "text": [
      "time: 172 ms (started: 2023-07-26 18:16:11 +08:00)\n"
     ]
    }
   ],
   "source": [
    "dfs[labs_df].groupby('label')['uom'].value_counts() #looks good"
   ]
  },
  {
   "cell_type": "markdown",
   "metadata": {},
   "source": [
    "### most likely erroneous value removal"
   ]
  },
  {
   "cell_type": "code",
   "execution_count": 100,
   "metadata": {},
   "outputs": [
    {
     "name": "stdout",
     "output_type": "stream",
     "text": [
      "time: 344 ms (started: 2023-07-26 18:16:31 +08:00)\n"
     ]
    }
   ],
   "source": [
    "#summary value removal- was explored and coded adhoc, difficult to automate\n",
    "(dfs[labs_df].loc[\n",
    "    (dfs[labs_df].loc[:,'stay_id']==261887) & \n",
    "    (dfs[labs_df].loc[:,'label']=='CHLORIDE')\n",
    "    & (dfs[labs_df].loc[:,'value']==3.4),'value'])=np.nan\n",
    "\n",
    "(dfs[labs_df].loc[\n",
    "    (dfs[labs_df].loc[:,'stay_id']==236290) & \n",
    "    (dfs[labs_df].loc[:,'label']=='CHLORIDE')\n",
    "    & (dfs[labs_df].loc[:,'value']==11.0),'value'])=np.nan\n",
    "\n",
    "(dfs[labs_df].loc[\n",
    "    (dfs[labs_df].loc[:,'stay_id']==292769) & \n",
    "    (dfs[labs_df].loc[:,'label']=='INR')\n",
    "    & (dfs[labs_df].loc[:,'value']==28.1),'value'])=np.nan\n",
    "\n",
    "(dfs[labs_df].loc[\n",
    "    (dfs[labs_df].loc[:,'stay_id']==298457) & \n",
    "    (dfs[labs_df].loc[:,'label']=='INR')\n",
    "    & (dfs[labs_df].loc[:,'value']==48.8),'value'])=np.nan\n",
    "\n",
    "(dfs[labs_df].loc[\n",
    "    (dfs[labs_df].loc[:,'stay_id']==234174) & \n",
    "    (dfs[labs_df].loc[:,'label']=='INR')\n",
    "    & (dfs[labs_df].loc[:,'value']==48.7),'value'])=np.nan\n",
    "\n",
    "(dfs[labs_df].loc[\n",
    "    (dfs[labs_df].loc[:,'stay_id']==290264) & \n",
    "    (dfs[labs_df].loc[:,'label']=='INR')\n",
    "    & (dfs[labs_df].loc[:,'value']==42.0),'value'])=np.nan\n",
    "\n",
    "(dfs[labs_df].loc[\n",
    "    (dfs[labs_df].loc[:,'stay_id']==290264) & \n",
    "    (dfs[labs_df].loc[:,'label']=='INR')\n",
    "    & (dfs[labs_df].loc[:,'value']==22.8),'value'])=np.nan"
   ]
  },
  {
   "cell_type": "code",
   "execution_count": 101,
   "metadata": {},
   "outputs": [
    {
     "name": "stdout",
     "output_type": "stream",
     "text": [
      "time: 78 ms (started: 2023-07-26 18:16:41 +08:00)\n"
     ]
    }
   ],
   "source": [
    "dfs[labs_df]= dfs[labs_df].loc[dfs[labs_df].loc[:,'value'].notnull(),:] #removing null values\n"
   ]
  },
  {
   "cell_type": "code",
   "execution_count": 102,
   "metadata": {},
   "outputs": [
    {
     "data": {
      "text/html": [
       "<div>\n",
       "<style scoped>\n",
       "    .dataframe tbody tr th:only-of-type {\n",
       "        vertical-align: middle;\n",
       "    }\n",
       "\n",
       "    .dataframe tbody tr th {\n",
       "        vertical-align: top;\n",
       "    }\n",
       "\n",
       "    .dataframe thead th {\n",
       "        text-align: right;\n",
       "    }\n",
       "</style>\n",
       "<table border=\"1\" class=\"dataframe\">\n",
       "  <thead>\n",
       "    <tr style=\"text-align: right;\">\n",
       "      <th></th>\n",
       "      <th>subject_id</th>\n",
       "      <th>hadm_id</th>\n",
       "      <th>stay_id</th>\n",
       "      <th>charttime</th>\n",
       "      <th>label</th>\n",
       "      <th>value</th>\n",
       "      <th>uom</th>\n",
       "      <th>t_0</th>\n",
       "      <th>delta</th>\n",
       "    </tr>\n",
       "  </thead>\n",
       "  <tbody>\n",
       "    <tr>\n",
       "      <th>6</th>\n",
       "      <td>10001884</td>\n",
       "      <td>26184834</td>\n",
       "      <td>37510196</td>\n",
       "      <td>2131-01-12 03:34:00</td>\n",
       "      <td>HEMATOCRIT</td>\n",
       "      <td>33.6</td>\n",
       "      <td>%</td>\n",
       "      <td>2131-01-11 08:00:00</td>\n",
       "      <td>0 days 19:34:00</td>\n",
       "    </tr>\n",
       "    <tr>\n",
       "      <th>27</th>\n",
       "      <td>10001884</td>\n",
       "      <td>26184834</td>\n",
       "      <td>37510196</td>\n",
       "      <td>2131-01-12 03:34:00</td>\n",
       "      <td>HEMOGLOBIN</td>\n",
       "      <td>10.4</td>\n",
       "      <td>g/dL</td>\n",
       "      <td>2131-01-11 08:00:00</td>\n",
       "      <td>0 days 19:34:00</td>\n",
       "    </tr>\n",
       "    <tr>\n",
       "      <th>47</th>\n",
       "      <td>10001884</td>\n",
       "      <td>26184834</td>\n",
       "      <td>37510196</td>\n",
       "      <td>2131-01-12 03:34:00</td>\n",
       "      <td>PLATELET</td>\n",
       "      <td>149.0</td>\n",
       "      <td>K/uL</td>\n",
       "      <td>2131-01-11 08:00:00</td>\n",
       "      <td>0 days 19:34:00</td>\n",
       "    </tr>\n",
       "    <tr>\n",
       "      <th>66</th>\n",
       "      <td>10001884</td>\n",
       "      <td>26184834</td>\n",
       "      <td>37510196</td>\n",
       "      <td>2131-01-12 03:34:00</td>\n",
       "      <td>WBC</td>\n",
       "      <td>12.0</td>\n",
       "      <td>K/uL</td>\n",
       "      <td>2131-01-11 08:00:00</td>\n",
       "      <td>0 days 19:34:00</td>\n",
       "    </tr>\n",
       "    <tr>\n",
       "      <th>85</th>\n",
       "      <td>10001884</td>\n",
       "      <td>26184834</td>\n",
       "      <td>37510196</td>\n",
       "      <td>2131-01-12 03:34:00</td>\n",
       "      <td>ANION GAP</td>\n",
       "      <td>11.0</td>\n",
       "      <td>mEq/L</td>\n",
       "      <td>2131-01-11 08:00:00</td>\n",
       "      <td>0 days 19:34:00</td>\n",
       "    </tr>\n",
       "  </tbody>\n",
       "</table>\n",
       "</div>"
      ],
      "text/plain": [
       "    subject_id   hadm_id   stay_id            charttime       label  value  \\\n",
       "6     10001884  26184834  37510196  2131-01-12 03:34:00  HEMATOCRIT   33.6   \n",
       "27    10001884  26184834  37510196  2131-01-12 03:34:00  HEMOGLOBIN   10.4   \n",
       "47    10001884  26184834  37510196  2131-01-12 03:34:00    PLATELET  149.0   \n",
       "66    10001884  26184834  37510196  2131-01-12 03:34:00         WBC   12.0   \n",
       "85    10001884  26184834  37510196  2131-01-12 03:34:00   ANION GAP   11.0   \n",
       "\n",
       "      uom                  t_0            delta  \n",
       "6       %  2131-01-11 08:00:00  0 days 19:34:00  \n",
       "27   g/dL  2131-01-11 08:00:00  0 days 19:34:00  \n",
       "47   K/uL  2131-01-11 08:00:00  0 days 19:34:00  \n",
       "66   K/uL  2131-01-11 08:00:00  0 days 19:34:00  \n",
       "85  mEq/L  2131-01-11 08:00:00  0 days 19:34:00  "
      ]
     },
     "execution_count": 102,
     "metadata": {},
     "output_type": "execute_result"
    },
    {
     "name": "stdout",
     "output_type": "stream",
     "text": [
      "time: 0 ns (started: 2023-07-26 18:16:44 +08:00)\n"
     ]
    }
   ],
   "source": [
    "dfs[labs_df].head()"
   ]
  },
  {
   "cell_type": "code",
   "execution_count": 103,
   "metadata": {},
   "outputs": [
    {
     "name": "stdout",
     "output_type": "stream",
     "text": [
      "time: 78 ms (started: 2023-07-26 18:16:50 +08:00)\n"
     ]
    }
   ],
   "source": [
    "#removing unwanted values\n",
    "unwanted_values= ['HEMATOCRIT','ANION GAP','PT','ALBUMIN']\n",
    "dfs[labs_df]= dfs[labs_df].loc[~dfs[labs_df].loc[:,'label'].isin(unwanted_values),:]"
   ]
  },
  {
   "cell_type": "markdown",
   "metadata": {},
   "source": [
    "# factorizing bands start \n",
    "* converting bands into a categorical variable since it is very sparse"
   ]
  },
  {
   "cell_type": "code",
   "execution_count": 104,
   "metadata": {},
   "outputs": [
    {
     "name": "stdout",
     "output_type": "stream",
     "text": [
      "time: 0 ns (started: 2023-07-26 18:17:05 +08:00)\n"
     ]
    }
   ],
   "source": [
    "\n",
    "#df in format where each row corresponds to a test, and a patient can have many rows\n",
    "def yn_convert_band(df,           \n",
    "                    label_fill=\"absent\",\n",
    "                    threshold=10,\n",
    "                    pt= final_pt_df2,\n",
    "                    time_var='t_0',\n",
    "                    value_fill=9999,\n",
    "                    delta_fill=pd.to_timedelta('0 days'),\n",
    "                    uom_fill='y/n'):\n",
    "    \n",
    "    \"\"\"\n",
    "    binarizing bands value since it's extremely sparse. Wrote a new function instead of adjusting yn_convert a while back. on my todo to remove this and add functionality to regular yn_conmert function. \n",
    "    \"\"\"\n",
    "    \n",
    "    yn_df = pd.merge(pt[['stay_id','hadm_id','subject_id', time_var]],\n",
    "                      df[['stay_id','value','label','uom','delta']],\n",
    "                     left_on= 'stay_id',\n",
    "                     right_on= 'stay_id',\n",
    "                      how='left') #merging all stay_id's with time_var, where value,label,uom, and delta are nan's if no value exists for that icustay. \n",
    "    #the idea is that if any value exists then it is pos.\n",
    "\n",
    "    yn_df['value']= yn_df['value'].fillna(value_fill) #converts na to 0 in above na rows.\n",
    "    criteria0=yn_df.loc[:,'value']==value_fill\n",
    "    criteria1=pd.to_numeric(yn_df.loc[:,'value'])<=threshold\n",
    "    criteria2=pd.to_numeric(yn_df.loc[:,'value'])>threshold\n",
    "\n",
    "\n",
    "    yn_df.loc[criteria1, 'value']= \"<{}\".format(threshold) \n",
    "    yn_df.loc[criteria2, 'value']= \">{}\".format(threshold) \n",
    "    yn_df.loc[criteria0, 'value']= \"absent\"\n",
    "\n",
    "    yn_df['delta']= yn_df['delta'].fillna(delta_fill)\n",
    "    yn_df['delta']= pd.to_timedelta(yn_df['delta']) #filling in the time delta to time =0 for filled rows\n",
    "    yn_df['uom']= yn_df['uom'].fillna(uom_fill)\n",
    "    yn_df.loc[yn_df.loc[:,'uom']!=uom_fill, 'uom']= uom_fill\n",
    "    yn_df['label']= yn_df['label'].fillna(label_fill)\n",
    "    \n",
    "    return(yn_df)\n",
    "    "
   ]
  },
  {
   "cell_type": "code",
   "execution_count": 106,
   "metadata": {},
   "outputs": [
    {
     "data": {
      "text/html": [
       "<div>\n",
       "<style scoped>\n",
       "    .dataframe tbody tr th:only-of-type {\n",
       "        vertical-align: middle;\n",
       "    }\n",
       "\n",
       "    .dataframe tbody tr th {\n",
       "        vertical-align: top;\n",
       "    }\n",
       "\n",
       "    .dataframe thead th {\n",
       "        text-align: right;\n",
       "    }\n",
       "</style>\n",
       "<table border=\"1\" class=\"dataframe\">\n",
       "  <thead>\n",
       "    <tr style=\"text-align: right;\">\n",
       "      <th></th>\n",
       "      <th>subject_id</th>\n",
       "      <th>hadm_id</th>\n",
       "      <th>stay_id</th>\n",
       "      <th>charttime</th>\n",
       "      <th>label</th>\n",
       "      <th>value</th>\n",
       "      <th>uom</th>\n",
       "      <th>t_0</th>\n",
       "      <th>delta</th>\n",
       "    </tr>\n",
       "  </thead>\n",
       "  <tbody>\n",
       "    <tr>\n",
       "      <th>2519</th>\n",
       "      <td>10003400</td>\n",
       "      <td>23559586</td>\n",
       "      <td>38383343</td>\n",
       "      <td>2137-08-18 04:38:00</td>\n",
       "      <td>BANDS</td>\n",
       "      <td>1.0</td>\n",
       "      <td>%</td>\n",
       "      <td>2137-08-17 20:00:00</td>\n",
       "      <td>0 days 08:38:00</td>\n",
       "    </tr>\n",
       "    <tr>\n",
       "      <th>7173</th>\n",
       "      <td>10007818</td>\n",
       "      <td>22987108</td>\n",
       "      <td>32359580</td>\n",
       "      <td>2146-06-22 14:05:00</td>\n",
       "      <td>BANDS</td>\n",
       "      <td>3.0</td>\n",
       "      <td>%</td>\n",
       "      <td>2146-06-22 12:00:00</td>\n",
       "      <td>0 days 02:05:00</td>\n",
       "    </tr>\n",
       "    <tr>\n",
       "      <th>14541</th>\n",
       "      <td>10017531</td>\n",
       "      <td>21095812</td>\n",
       "      <td>32136798</td>\n",
       "      <td>2159-12-27 04:39:00</td>\n",
       "      <td>BANDS</td>\n",
       "      <td>3.0</td>\n",
       "      <td>%</td>\n",
       "      <td>2159-12-26 23:00:00</td>\n",
       "      <td>0 days 05:39:00</td>\n",
       "    </tr>\n",
       "    <tr>\n",
       "      <th>20073</th>\n",
       "      <td>10021927</td>\n",
       "      <td>24623461</td>\n",
       "      <td>34575919</td>\n",
       "      <td>2180-09-21 00:55:00</td>\n",
       "      <td>BANDS</td>\n",
       "      <td>1.0</td>\n",
       "      <td>%</td>\n",
       "      <td>2180-09-20 13:00:00</td>\n",
       "      <td>0 days 11:55:00</td>\n",
       "    </tr>\n",
       "    <tr>\n",
       "      <th>21426</th>\n",
       "      <td>10023486</td>\n",
       "      <td>25262533</td>\n",
       "      <td>31361200</td>\n",
       "      <td>2151-06-09 23:35:00</td>\n",
       "      <td>BANDS</td>\n",
       "      <td>2.0</td>\n",
       "      <td>%</td>\n",
       "      <td>2151-06-09 22:00:00</td>\n",
       "      <td>0 days 01:35:00</td>\n",
       "    </tr>\n",
       "    <tr>\n",
       "      <th>...</th>\n",
       "      <td>...</td>\n",
       "      <td>...</td>\n",
       "      <td>...</td>\n",
       "      <td>...</td>\n",
       "      <td>...</td>\n",
       "      <td>...</td>\n",
       "      <td>...</td>\n",
       "      <td>...</td>\n",
       "      <td>...</td>\n",
       "    </tr>\n",
       "    <tr>\n",
       "      <th>8127122</th>\n",
       "      <td>19970491</td>\n",
       "      <td>25338284</td>\n",
       "      <td>38969862</td>\n",
       "      <td>2129-09-16 03:25:00</td>\n",
       "      <td>BANDS</td>\n",
       "      <td>5.0</td>\n",
       "      <td>%</td>\n",
       "      <td>2129-09-15 18:00:00</td>\n",
       "      <td>0 days 09:25:00</td>\n",
       "    </tr>\n",
       "    <tr>\n",
       "      <th>8142676</th>\n",
       "      <td>19985293</td>\n",
       "      <td>21731208</td>\n",
       "      <td>34896989</td>\n",
       "      <td>2184-08-20 04:25:00</td>\n",
       "      <td>BANDS</td>\n",
       "      <td>11.0</td>\n",
       "      <td>%</td>\n",
       "      <td>2184-08-20 04:00:00</td>\n",
       "      <td>0 days 00:25:00</td>\n",
       "    </tr>\n",
       "    <tr>\n",
       "      <th>8144627</th>\n",
       "      <td>19987071</td>\n",
       "      <td>22919294</td>\n",
       "      <td>33385977</td>\n",
       "      <td>2113-12-28 04:31:00</td>\n",
       "      <td>BANDS</td>\n",
       "      <td>23.0</td>\n",
       "      <td>%</td>\n",
       "      <td>2113-12-27 23:00:00</td>\n",
       "      <td>0 days 05:31:00</td>\n",
       "    </tr>\n",
       "    <tr>\n",
       "      <th>8146102</th>\n",
       "      <td>19990427</td>\n",
       "      <td>29695607</td>\n",
       "      <td>34058245</td>\n",
       "      <td>2182-01-14 09:04:00</td>\n",
       "      <td>BANDS</td>\n",
       "      <td>1.0</td>\n",
       "      <td>%</td>\n",
       "      <td>2182-01-14 05:00:00</td>\n",
       "      <td>0 days 04:04:00</td>\n",
       "    </tr>\n",
       "    <tr>\n",
       "      <th>8150631</th>\n",
       "      <td>19997293</td>\n",
       "      <td>20208898</td>\n",
       "      <td>38350444</td>\n",
       "      <td>2123-10-20 22:13:00</td>\n",
       "      <td>BANDS</td>\n",
       "      <td>3.0</td>\n",
       "      <td>%</td>\n",
       "      <td>2123-10-20 19:00:00</td>\n",
       "      <td>0 days 03:13:00</td>\n",
       "    </tr>\n",
       "  </tbody>\n",
       "</table>\n",
       "<p>2720 rows × 9 columns</p>\n",
       "</div>"
      ],
      "text/plain": [
       "         subject_id   hadm_id   stay_id            charttime  label  value  \\\n",
       "2519       10003400  23559586  38383343  2137-08-18 04:38:00  BANDS    1.0   \n",
       "7173       10007818  22987108  32359580  2146-06-22 14:05:00  BANDS    3.0   \n",
       "14541      10017531  21095812  32136798  2159-12-27 04:39:00  BANDS    3.0   \n",
       "20073      10021927  24623461  34575919  2180-09-21 00:55:00  BANDS    1.0   \n",
       "21426      10023486  25262533  31361200  2151-06-09 23:35:00  BANDS    2.0   \n",
       "...             ...       ...       ...                  ...    ...    ...   \n",
       "8127122    19970491  25338284  38969862  2129-09-16 03:25:00  BANDS    5.0   \n",
       "8142676    19985293  21731208  34896989  2184-08-20 04:25:00  BANDS   11.0   \n",
       "8144627    19987071  22919294  33385977  2113-12-28 04:31:00  BANDS   23.0   \n",
       "8146102    19990427  29695607  34058245  2182-01-14 09:04:00  BANDS    1.0   \n",
       "8150631    19997293  20208898  38350444  2123-10-20 22:13:00  BANDS    3.0   \n",
       "\n",
       "        uom                  t_0            delta  \n",
       "2519      %  2137-08-17 20:00:00  0 days 08:38:00  \n",
       "7173      %  2146-06-22 12:00:00  0 days 02:05:00  \n",
       "14541     %  2159-12-26 23:00:00  0 days 05:39:00  \n",
       "20073     %  2180-09-20 13:00:00  0 days 11:55:00  \n",
       "21426     %  2151-06-09 22:00:00  0 days 01:35:00  \n",
       "...      ..                  ...              ...  \n",
       "8127122   %  2129-09-15 18:00:00  0 days 09:25:00  \n",
       "8142676   %  2184-08-20 04:00:00  0 days 00:25:00  \n",
       "8144627   %  2113-12-27 23:00:00  0 days 05:31:00  \n",
       "8146102   %  2182-01-14 05:00:00  0 days 04:04:00  \n",
       "8150631   %  2123-10-20 19:00:00  0 days 03:13:00  \n",
       "\n",
       "[2720 rows x 9 columns]"
      ]
     },
     "execution_count": 106,
     "metadata": {},
     "output_type": "execute_result"
    },
    {
     "name": "stdout",
     "output_type": "stream",
     "text": [
      "time: 16 ms (started: 2023-07-26 18:18:06 +08:00)\n"
     ]
    }
   ],
   "source": [
    "band_df"
   ]
  },
  {
   "cell_type": "code",
   "execution_count": 115,
   "metadata": {},
   "outputs": [
    {
     "name": "stdout",
     "output_type": "stream",
     "text": [
      "time: 265 ms (started: 2023-07-26 18:25:01 +08:00)\n"
     ]
    }
   ],
   "source": [
    "band_df=dfs[labs_df][dfs[labs_df]['label']=='BANDS']\n",
    "max_bands=band_df.loc[band_df.groupby('stay_id', as_index=False)['value'].idxmax()['value'],:]\n",
    "del(band_df)"
   ]
  },
  {
   "cell_type": "code",
   "execution_count": 116,
   "metadata": {},
   "outputs": [
    {
     "name": "stdout",
     "output_type": "stream",
     "text": [
      "time: 141 ms (started: 2023-07-26 18:25:05 +08:00)\n"
     ]
    }
   ],
   "source": [
    "band_cat=yn_convert_band(df=max_bands,           \n",
    "                    label_fill=\"BANDS\",\n",
    "                    threshold=10,\n",
    "                    pt= final_pt_df2,\n",
    "                    time_var='t_0',\n",
    "                    value_fill=9999,\n",
    "                    delta_fill=pd.to_timedelta('0 days'),\n",
    "                    uom_fill='y/n')"
   ]
  },
  {
   "cell_type": "code",
   "execution_count": 117,
   "metadata": {},
   "outputs": [
    {
     "data": {
      "text/html": [
       "<div>\n",
       "<style scoped>\n",
       "    .dataframe tbody tr th:only-of-type {\n",
       "        vertical-align: middle;\n",
       "    }\n",
       "\n",
       "    .dataframe tbody tr th {\n",
       "        vertical-align: top;\n",
       "    }\n",
       "\n",
       "    .dataframe thead th {\n",
       "        text-align: right;\n",
       "    }\n",
       "</style>\n",
       "<table border=\"1\" class=\"dataframe\">\n",
       "  <thead>\n",
       "    <tr style=\"text-align: right;\">\n",
       "      <th></th>\n",
       "      <th>stay_id</th>\n",
       "      <th>hadm_id</th>\n",
       "      <th>subject_id</th>\n",
       "      <th>t_0</th>\n",
       "      <th>value</th>\n",
       "      <th>label</th>\n",
       "      <th>uom</th>\n",
       "      <th>delta</th>\n",
       "    </tr>\n",
       "  </thead>\n",
       "  <tbody>\n",
       "    <tr>\n",
       "      <th>0</th>\n",
       "      <td>37510196</td>\n",
       "      <td>26184834</td>\n",
       "      <td>10001884</td>\n",
       "      <td>2131-01-11 08:00:00</td>\n",
       "      <td>absent</td>\n",
       "      <td>BANDS</td>\n",
       "      <td>y/n</td>\n",
       "      <td>0 days</td>\n",
       "    </tr>\n",
       "    <tr>\n",
       "      <th>1</th>\n",
       "      <td>33685454</td>\n",
       "      <td>23822395</td>\n",
       "      <td>10002155</td>\n",
       "      <td>2129-08-05 14:00:00</td>\n",
       "      <td>absent</td>\n",
       "      <td>BANDS</td>\n",
       "      <td>y/n</td>\n",
       "      <td>0 days</td>\n",
       "    </tr>\n",
       "    <tr>\n",
       "      <th>2</th>\n",
       "      <td>31090461</td>\n",
       "      <td>28994087</td>\n",
       "      <td>10002155</td>\n",
       "      <td>2130-09-25 11:00:00</td>\n",
       "      <td>absent</td>\n",
       "      <td>BANDS</td>\n",
       "      <td>y/n</td>\n",
       "      <td>0 days</td>\n",
       "    </tr>\n",
       "    <tr>\n",
       "      <th>3</th>\n",
       "      <td>32358465</td>\n",
       "      <td>20345487</td>\n",
       "      <td>10002155</td>\n",
       "      <td>2131-03-10 01:00:00</td>\n",
       "      <td>absent</td>\n",
       "      <td>BANDS</td>\n",
       "      <td>y/n</td>\n",
       "      <td>0 days</td>\n",
       "    </tr>\n",
       "    <tr>\n",
       "      <th>4</th>\n",
       "      <td>38875437</td>\n",
       "      <td>28662225</td>\n",
       "      <td>10002428</td>\n",
       "      <td>2156-04-20 12:00:00</td>\n",
       "      <td>absent</td>\n",
       "      <td>BANDS</td>\n",
       "      <td>y/n</td>\n",
       "      <td>0 days</td>\n",
       "    </tr>\n",
       "    <tr>\n",
       "      <th>...</th>\n",
       "      <td>...</td>\n",
       "      <td>...</td>\n",
       "      <td>...</td>\n",
       "      <td>...</td>\n",
       "      <td>...</td>\n",
       "      <td>...</td>\n",
       "      <td>...</td>\n",
       "      <td>...</td>\n",
       "    </tr>\n",
       "    <tr>\n",
       "      <th>26466</th>\n",
       "      <td>37692584</td>\n",
       "      <td>22997012</td>\n",
       "      <td>19999287</td>\n",
       "      <td>2197-07-26 08:00:00</td>\n",
       "      <td>absent</td>\n",
       "      <td>BANDS</td>\n",
       "      <td>y/n</td>\n",
       "      <td>0 days</td>\n",
       "    </tr>\n",
       "    <tr>\n",
       "      <th>26467</th>\n",
       "      <td>35165301</td>\n",
       "      <td>20175828</td>\n",
       "      <td>19999287</td>\n",
       "      <td>2197-08-04 20:00:00</td>\n",
       "      <td>absent</td>\n",
       "      <td>BANDS</td>\n",
       "      <td>y/n</td>\n",
       "      <td>0 days</td>\n",
       "    </tr>\n",
       "    <tr>\n",
       "      <th>26468</th>\n",
       "      <td>37364566</td>\n",
       "      <td>21439025</td>\n",
       "      <td>19999297</td>\n",
       "      <td>2162-08-16 08:00:00</td>\n",
       "      <td>absent</td>\n",
       "      <td>BANDS</td>\n",
       "      <td>y/n</td>\n",
       "      <td>0 days</td>\n",
       "    </tr>\n",
       "    <tr>\n",
       "      <th>26469</th>\n",
       "      <td>36075953</td>\n",
       "      <td>25744818</td>\n",
       "      <td>19999828</td>\n",
       "      <td>2149-01-08 20:00:00</td>\n",
       "      <td>absent</td>\n",
       "      <td>BANDS</td>\n",
       "      <td>y/n</td>\n",
       "      <td>0 days</td>\n",
       "    </tr>\n",
       "    <tr>\n",
       "      <th>26470</th>\n",
       "      <td>38978960</td>\n",
       "      <td>21033226</td>\n",
       "      <td>19999840</td>\n",
       "      <td>2164-09-12 20:00:00</td>\n",
       "      <td>absent</td>\n",
       "      <td>BANDS</td>\n",
       "      <td>y/n</td>\n",
       "      <td>0 days</td>\n",
       "    </tr>\n",
       "  </tbody>\n",
       "</table>\n",
       "<p>26471 rows × 8 columns</p>\n",
       "</div>"
      ],
      "text/plain": [
       "        stay_id   hadm_id  subject_id                  t_0   value  label  \\\n",
       "0      37510196  26184834    10001884  2131-01-11 08:00:00  absent  BANDS   \n",
       "1      33685454  23822395    10002155  2129-08-05 14:00:00  absent  BANDS   \n",
       "2      31090461  28994087    10002155  2130-09-25 11:00:00  absent  BANDS   \n",
       "3      32358465  20345487    10002155  2131-03-10 01:00:00  absent  BANDS   \n",
       "4      38875437  28662225    10002428  2156-04-20 12:00:00  absent  BANDS   \n",
       "...         ...       ...         ...                  ...     ...    ...   \n",
       "26466  37692584  22997012    19999287  2197-07-26 08:00:00  absent  BANDS   \n",
       "26467  35165301  20175828    19999287  2197-08-04 20:00:00  absent  BANDS   \n",
       "26468  37364566  21439025    19999297  2162-08-16 08:00:00  absent  BANDS   \n",
       "26469  36075953  25744818    19999828  2149-01-08 20:00:00  absent  BANDS   \n",
       "26470  38978960  21033226    19999840  2164-09-12 20:00:00  absent  BANDS   \n",
       "\n",
       "       uom  delta  \n",
       "0      y/n 0 days  \n",
       "1      y/n 0 days  \n",
       "2      y/n 0 days  \n",
       "3      y/n 0 days  \n",
       "4      y/n 0 days  \n",
       "...    ...    ...  \n",
       "26466  y/n 0 days  \n",
       "26467  y/n 0 days  \n",
       "26468  y/n 0 days  \n",
       "26469  y/n 0 days  \n",
       "26470  y/n 0 days  \n",
       "\n",
       "[26471 rows x 8 columns]"
      ]
     },
     "execution_count": 117,
     "metadata": {},
     "output_type": "execute_result"
    },
    {
     "name": "stdout",
     "output_type": "stream",
     "text": [
      "time: 16 ms (started: 2023-07-26 18:25:20 +08:00)\n"
     ]
    }
   ],
   "source": [
    "band_cat"
   ]
  },
  {
   "cell_type": "code",
   "execution_count": 119,
   "metadata": {},
   "outputs": [
    {
     "name": "stdout",
     "output_type": "stream",
     "text": [
      "time: 219 ms (started: 2023-07-26 18:27:25 +08:00)\n"
     ]
    }
   ],
   "source": [
    "#drop bands from lab_df\n",
    "dfs[labs_df]=dfs[labs_df].drop(dfs[labs_df][dfs[labs_df]['label']=='BANDS'].index)\n",
    "\n",
    "##dropping charttime, may be problematic later.\n",
    "#dfs[labs_df]=dfs[labs_df].drop('charttime', axis=1)\n",
    "\n",
    "#appending categorical bands \n",
    "dfs[labs_df]=dfs[labs_df]._append(band_cat)"
   ]
  },
  {
   "cell_type": "code",
   "execution_count": 120,
   "metadata": {},
   "outputs": [
    {
     "data": {
      "text/plain": [
       "value\n",
       "absent    24174\n",
       "<10        1630\n",
       ">10         667\n",
       "Name: count, dtype: int64"
      ]
     },
     "execution_count": 120,
     "metadata": {},
     "output_type": "execute_result"
    },
    {
     "name": "stdout",
     "output_type": "stream",
     "text": [
      "time: 46 ms (started: 2023-07-26 18:27:30 +08:00)\n"
     ]
    }
   ],
   "source": [
    "dfs[labs_df].loc[dfs[labs_df]['label']=='BANDS','value'].value_counts()\n",
    "# absent    24174\n",
    "# <10        1630\n",
    "# >10         667"
   ]
  },
  {
   "cell_type": "code",
   "execution_count": 121,
   "metadata": {},
   "outputs": [
    {
     "name": "stdout",
     "output_type": "stream",
     "text": [
      "time: 3.78 s (started: 2023-07-26 18:28:05 +08:00)\n"
     ]
    }
   ],
   "source": [
    "# pd.DataFrame(dfs[labs_df]).to_csv(Path(\n",
    "#     save_path+'/%s_labs_prepped.csv' %(date)))\n",
    "\n",
    "save_df(dfs[labs_df], 'labs')\n",
    "del(dfs[labs_df])"
   ]
  },
  {
   "cell_type": "markdown",
   "metadata": {},
   "source": [
    "## vent category -"
   ]
  },
  {
   "cell_type": "code",
   "execution_count": 233,
   "metadata": {},
   "outputs": [
    {
     "data": {
      "text/plain": [
       "25728"
      ]
     },
     "execution_count": 233,
     "metadata": {},
     "output_type": "execute_result"
    },
    {
     "name": "stdout",
     "output_type": "stream",
     "text": [
      "time: 0 ns (started: 2023-07-26 19:10:56 +08:00)\n"
     ]
    }
   ],
   "source": [
    "dfs[vent_df]['stay_id'].nunique()\n",
    "#13978 patients with someform of vent data. "
   ]
  },
  {
   "cell_type": "code",
   "execution_count": 234,
   "metadata": {},
   "outputs": [
    {
     "data": {
      "text/html": [
       "<div>\n",
       "<style scoped>\n",
       "    .dataframe tbody tr th:only-of-type {\n",
       "        vertical-align: middle;\n",
       "    }\n",
       "\n",
       "    .dataframe tbody tr th {\n",
       "        vertical-align: top;\n",
       "    }\n",
       "\n",
       "    .dataframe thead th {\n",
       "        text-align: right;\n",
       "    }\n",
       "</style>\n",
       "<table border=\"1\" class=\"dataframe\">\n",
       "  <thead>\n",
       "    <tr style=\"text-align: right;\">\n",
       "      <th></th>\n",
       "      <th>stay_id</th>\n",
       "      <th>day</th>\n",
       "      <th>value</th>\n",
       "      <th>uom</th>\n",
       "      <th>t_0</th>\n",
       "    </tr>\n",
       "  </thead>\n",
       "  <tbody>\n",
       "    <tr>\n",
       "      <th>0</th>\n",
       "      <td>30000484</td>\n",
       "      <td>0</td>\n",
       "      <td>Oxygen</td>\n",
       "      <td>mech/O2/none category</td>\n",
       "      <td>2136-01-14 21:00:00</td>\n",
       "    </tr>\n",
       "    <tr>\n",
       "      <th>1</th>\n",
       "      <td>30000484</td>\n",
       "      <td>1</td>\n",
       "      <td>NaN</td>\n",
       "      <td>mech/O2/none category</td>\n",
       "      <td>2136-01-14 21:00:00</td>\n",
       "    </tr>\n",
       "    <tr>\n",
       "      <th>2</th>\n",
       "      <td>30000646</td>\n",
       "      <td>0</td>\n",
       "      <td>Oxygen</td>\n",
       "      <td>mech/O2/none category</td>\n",
       "      <td>2194-04-29 07:00:00</td>\n",
       "    </tr>\n",
       "    <tr>\n",
       "      <th>3</th>\n",
       "      <td>30001446</td>\n",
       "      <td>0</td>\n",
       "      <td>Oxygen</td>\n",
       "      <td>mech/O2/none category</td>\n",
       "      <td>2186-04-12 01:00:00</td>\n",
       "    </tr>\n",
       "    <tr>\n",
       "      <th>4</th>\n",
       "      <td>30001555</td>\n",
       "      <td>0</td>\n",
       "      <td>Oxygen</td>\n",
       "      <td>mech/O2/none category</td>\n",
       "      <td>2177-09-27 11:00:00</td>\n",
       "    </tr>\n",
       "  </tbody>\n",
       "</table>\n",
       "</div>"
      ],
      "text/plain": [
       "    stay_id  day   value                    uom                  t_0\n",
       "0  30000484    0  Oxygen  mech/O2/none category  2136-01-14 21:00:00\n",
       "1  30000484    1     NaN  mech/O2/none category  2136-01-14 21:00:00\n",
       "2  30000646    0  Oxygen  mech/O2/none category  2194-04-29 07:00:00\n",
       "3  30001446    0  Oxygen  mech/O2/none category  2186-04-12 01:00:00\n",
       "4  30001555    0  Oxygen  mech/O2/none category  2177-09-27 11:00:00"
      ]
     },
     "execution_count": 234,
     "metadata": {},
     "output_type": "execute_result"
    },
    {
     "name": "stdout",
     "output_type": "stream",
     "text": [
      "time: 15 ms (started: 2023-07-26 19:10:58 +08:00)\n"
     ]
    }
   ],
   "source": [
    "dfs[vent_df]['uom']='mech/O2/none category'\n",
    "dfs[vent_df].head()"
   ]
  },
  {
   "cell_type": "code",
   "execution_count": 235,
   "metadata": {},
   "outputs": [
    {
     "name": "stdout",
     "output_type": "stream",
     "text": [
      "time: 16 ms (started: 2023-07-26 19:11:01 +08:00)\n"
     ]
    }
   ],
   "source": [
    "dfs[vent_df]=dfs[vent_df].rename(index=str, columns={'day':'delta'})\n",
    "dfs[vent_df]['label']='vent_recieved'\n",
    "dfs[vent_df]['delta']=pd.to_timedelta(dfs[vent_df]['delta'], unit='d')\n",
    "#dfs[vent_df]= dfs[vent_df].drop(columns=['day'], axis=1) #removing day column"
   ]
  },
  {
   "cell_type": "code",
   "execution_count": 236,
   "metadata": {},
   "outputs": [
    {
     "data": {
      "text/html": [
       "<div>\n",
       "<style scoped>\n",
       "    .dataframe tbody tr th:only-of-type {\n",
       "        vertical-align: middle;\n",
       "    }\n",
       "\n",
       "    .dataframe tbody tr th {\n",
       "        vertical-align: top;\n",
       "    }\n",
       "\n",
       "    .dataframe thead th {\n",
       "        text-align: right;\n",
       "    }\n",
       "</style>\n",
       "<table border=\"1\" class=\"dataframe\">\n",
       "  <thead>\n",
       "    <tr style=\"text-align: right;\">\n",
       "      <th></th>\n",
       "      <th>stay_id</th>\n",
       "      <th>delta</th>\n",
       "      <th>value</th>\n",
       "      <th>uom</th>\n",
       "      <th>t_0</th>\n",
       "      <th>label</th>\n",
       "    </tr>\n",
       "  </thead>\n",
       "  <tbody>\n",
       "    <tr>\n",
       "      <th>0</th>\n",
       "      <td>30000484</td>\n",
       "      <td>0 days</td>\n",
       "      <td>Oxygen</td>\n",
       "      <td>mech/O2/none category</td>\n",
       "      <td>2136-01-14 21:00:00</td>\n",
       "      <td>vent_recieved</td>\n",
       "    </tr>\n",
       "    <tr>\n",
       "      <th>1</th>\n",
       "      <td>30000484</td>\n",
       "      <td>1 days</td>\n",
       "      <td>NaN</td>\n",
       "      <td>mech/O2/none category</td>\n",
       "      <td>2136-01-14 21:00:00</td>\n",
       "      <td>vent_recieved</td>\n",
       "    </tr>\n",
       "    <tr>\n",
       "      <th>2</th>\n",
       "      <td>30000646</td>\n",
       "      <td>0 days</td>\n",
       "      <td>Oxygen</td>\n",
       "      <td>mech/O2/none category</td>\n",
       "      <td>2194-04-29 07:00:00</td>\n",
       "      <td>vent_recieved</td>\n",
       "    </tr>\n",
       "    <tr>\n",
       "      <th>3</th>\n",
       "      <td>30001446</td>\n",
       "      <td>0 days</td>\n",
       "      <td>Oxygen</td>\n",
       "      <td>mech/O2/none category</td>\n",
       "      <td>2186-04-12 01:00:00</td>\n",
       "      <td>vent_recieved</td>\n",
       "    </tr>\n",
       "    <tr>\n",
       "      <th>4</th>\n",
       "      <td>30001555</td>\n",
       "      <td>0 days</td>\n",
       "      <td>Oxygen</td>\n",
       "      <td>mech/O2/none category</td>\n",
       "      <td>2177-09-27 11:00:00</td>\n",
       "      <td>vent_recieved</td>\n",
       "    </tr>\n",
       "  </tbody>\n",
       "</table>\n",
       "</div>"
      ],
      "text/plain": [
       "    stay_id  delta   value                    uom                  t_0  \\\n",
       "0  30000484 0 days  Oxygen  mech/O2/none category  2136-01-14 21:00:00   \n",
       "1  30000484 1 days     NaN  mech/O2/none category  2136-01-14 21:00:00   \n",
       "2  30000646 0 days  Oxygen  mech/O2/none category  2194-04-29 07:00:00   \n",
       "3  30001446 0 days  Oxygen  mech/O2/none category  2186-04-12 01:00:00   \n",
       "4  30001555 0 days  Oxygen  mech/O2/none category  2177-09-27 11:00:00   \n",
       "\n",
       "           label  \n",
       "0  vent_recieved  \n",
       "1  vent_recieved  \n",
       "2  vent_recieved  \n",
       "3  vent_recieved  \n",
       "4  vent_recieved  "
      ]
     },
     "execution_count": 236,
     "metadata": {},
     "output_type": "execute_result"
    },
    {
     "name": "stdout",
     "output_type": "stream",
     "text": [
      "time: 0 ns (started: 2023-07-26 19:11:03 +08:00)\n"
     ]
    }
   ],
   "source": [
    "dfs[vent_df].head()"
   ]
  },
  {
   "cell_type": "code",
   "execution_count": 58,
   "metadata": {},
   "outputs": [
    {
     "name": "stdout",
     "output_type": "stream",
     "text": [
      "time: 579 µs\n"
     ]
    }
   ],
   "source": [
    "#collapsing into 1 column for N days"
   ]
  },
  {
   "cell_type": "code",
   "execution_count": 237,
   "metadata": {},
   "outputs": [
    {
     "name": "stdout",
     "output_type": "stream",
     "text": [
      "time: 0 ns (started: 2023-07-26 19:11:05 +08:00)\n"
     ]
    }
   ],
   "source": [
    "def vent_day_collapser(x):\n",
    "    \"\"\"\n",
    "    collapsing the ventilation days into a single value. Mech> Oxygen > None. \n",
    "    \"\"\"\n",
    "    \n",
    "    if 'Mech' in list(x.unique()):\n",
    "        x= 'Mech'\n",
    "    elif 'Oxygen' in list(x.unique()):\n",
    "        x= 'Oxygen'\n",
    "    else:\n",
    "        x='None'\n",
    "    return(x)"
   ]
  },
  {
   "cell_type": "code",
   "execution_count": 238,
   "metadata": {},
   "outputs": [
    {
     "data": {
      "text/html": [
       "<div>\n",
       "<style scoped>\n",
       "    .dataframe tbody tr th:only-of-type {\n",
       "        vertical-align: middle;\n",
       "    }\n",
       "\n",
       "    .dataframe tbody tr th {\n",
       "        vertical-align: top;\n",
       "    }\n",
       "\n",
       "    .dataframe thead th {\n",
       "        text-align: right;\n",
       "    }\n",
       "</style>\n",
       "<table border=\"1\" class=\"dataframe\">\n",
       "  <thead>\n",
       "    <tr style=\"text-align: right;\">\n",
       "      <th></th>\n",
       "      <th>stay_id</th>\n",
       "      <th>delta</th>\n",
       "      <th>value</th>\n",
       "      <th>uom</th>\n",
       "      <th>t_0</th>\n",
       "      <th>label</th>\n",
       "    </tr>\n",
       "  </thead>\n",
       "  <tbody>\n",
       "    <tr>\n",
       "      <th>0</th>\n",
       "      <td>30000484</td>\n",
       "      <td>0 days</td>\n",
       "      <td>Oxygen</td>\n",
       "      <td>mech/O2/none category</td>\n",
       "      <td>2136-01-14 21:00:00</td>\n",
       "      <td>vent_recieved</td>\n",
       "    </tr>\n",
       "    <tr>\n",
       "      <th>2</th>\n",
       "      <td>30000646</td>\n",
       "      <td>0 days</td>\n",
       "      <td>Oxygen</td>\n",
       "      <td>mech/O2/none category</td>\n",
       "      <td>2194-04-29 07:00:00</td>\n",
       "      <td>vent_recieved</td>\n",
       "    </tr>\n",
       "    <tr>\n",
       "      <th>3</th>\n",
       "      <td>30001446</td>\n",
       "      <td>0 days</td>\n",
       "      <td>Oxygen</td>\n",
       "      <td>mech/O2/none category</td>\n",
       "      <td>2186-04-12 01:00:00</td>\n",
       "      <td>vent_recieved</td>\n",
       "    </tr>\n",
       "    <tr>\n",
       "      <th>4</th>\n",
       "      <td>30001555</td>\n",
       "      <td>0 days</td>\n",
       "      <td>Oxygen</td>\n",
       "      <td>mech/O2/none category</td>\n",
       "      <td>2177-09-27 11:00:00</td>\n",
       "      <td>vent_recieved</td>\n",
       "    </tr>\n",
       "    <tr>\n",
       "      <th>5</th>\n",
       "      <td>30002415</td>\n",
       "      <td>0 days</td>\n",
       "      <td>Mech</td>\n",
       "      <td>mech/O2/none category</td>\n",
       "      <td>2126-12-17 12:00:00</td>\n",
       "      <td>vent_recieved</td>\n",
       "    </tr>\n",
       "  </tbody>\n",
       "</table>\n",
       "</div>"
      ],
      "text/plain": [
       "    stay_id  delta   value                    uom                  t_0  \\\n",
       "0  30000484 0 days  Oxygen  mech/O2/none category  2136-01-14 21:00:00   \n",
       "2  30000646 0 days  Oxygen  mech/O2/none category  2194-04-29 07:00:00   \n",
       "3  30001446 0 days  Oxygen  mech/O2/none category  2186-04-12 01:00:00   \n",
       "4  30001555 0 days  Oxygen  mech/O2/none category  2177-09-27 11:00:00   \n",
       "5  30002415 0 days    Mech  mech/O2/none category  2126-12-17 12:00:00   \n",
       "\n",
       "           label  \n",
       "0  vent_recieved  \n",
       "2  vent_recieved  \n",
       "3  vent_recieved  \n",
       "4  vent_recieved  \n",
       "5  vent_recieved  "
      ]
     },
     "execution_count": 238,
     "metadata": {},
     "output_type": "execute_result"
    },
    {
     "name": "stdout",
     "output_type": "stream",
     "text": [
      "time: 3.73 s (started: 2023-07-26 19:11:07 +08:00)\n"
     ]
    }
   ],
   "source": [
    "#collapsing all days into the worst day. \n",
    "ventcategory_1day_df= dfs[vent_df].copy()\n",
    "ventcategory_1day_df['value']=ventcategory_1day_df.groupby('stay_id',as_index=False)['value'].transform(vent_day_collapser)\n",
    "ventcategory_1day_df= ventcategory_1day_df.drop_duplicates(['stay_id','value']).sort_values('stay_id') #\n",
    "ventcategory_1day_df= ventcategory_1day_df.loc[ventcategory_1day_df.loc[:,'stay_id'].isin(stay_id),:] #had icustay ids not in final cohort, fail safe mesure\n",
    "ventcategory_1day_df.head()"
   ]
  },
  {
   "cell_type": "code",
   "execution_count": 128,
   "metadata": {},
   "outputs": [
    {
     "data": {
      "text/plain": [
       "value\n",
       "Mech      12330\n",
       "Oxygen    10114\n",
       "None       3284\n",
       "Name: count, dtype: int64"
      ]
     },
     "execution_count": 128,
     "metadata": {},
     "output_type": "execute_result"
    },
    {
     "name": "stdout",
     "output_type": "stream",
     "text": [
      "time: 0 ns (started: 2023-07-26 18:29:00 +08:00)\n"
     ]
    }
   ],
   "source": [
    "ventcategory_1day_df['value'].value_counts()\n",
    "# value\n",
    "# Mech      12330\n",
    "# Oxygen    10114\n",
    "# None       3284"
   ]
  },
  {
   "cell_type": "code",
   "execution_count": 129,
   "metadata": {},
   "outputs": [
    {
     "name": "stdout",
     "output_type": "stream",
     "text": [
      "time: 453 ms (started: 2023-07-26 18:29:20 +08:00)\n"
     ]
    }
   ],
   "source": [
    "save_df(ventcategory_1day_df, 'ventcategory')\n",
    "# will be deleted after pao2:fio2 calc"
   ]
  },
  {
   "cell_type": "markdown",
   "metadata": {},
   "source": [
    "## weight and height firstday -\n",
    "i explored weightdurations and it had more missing values than weightfirstday, so i will use that. we can revisit this if we need longitudinal weights"
   ]
  },
  {
   "cell_type": "code",
   "execution_count": 130,
   "metadata": {},
   "outputs": [
    {
     "data": {
      "text/html": [
       "<div>\n",
       "<style scoped>\n",
       "    .dataframe tbody tr th:only-of-type {\n",
       "        vertical-align: middle;\n",
       "    }\n",
       "\n",
       "    .dataframe tbody tr th {\n",
       "        vertical-align: top;\n",
       "    }\n",
       "\n",
       "    .dataframe thead th {\n",
       "        text-align: right;\n",
       "    }\n",
       "</style>\n",
       "<table border=\"1\" class=\"dataframe\">\n",
       "  <thead>\n",
       "    <tr style=\"text-align: right;\">\n",
       "      <th></th>\n",
       "      <th>stay_id</th>\n",
       "      <th>weight</th>\n",
       "      <th>weight_admit</th>\n",
       "      <th>weight_daily</th>\n",
       "      <th>uom</th>\n",
       "      <th>t_0</th>\n",
       "    </tr>\n",
       "  </thead>\n",
       "  <tbody>\n",
       "    <tr>\n",
       "      <th>0</th>\n",
       "      <td>30000484</td>\n",
       "      <td>68.5</td>\n",
       "      <td>68.5</td>\n",
       "      <td>NaN</td>\n",
       "      <td>kg</td>\n",
       "      <td>2136-01-14 21:00:00</td>\n",
       "    </tr>\n",
       "    <tr>\n",
       "      <th>1</th>\n",
       "      <td>30000646</td>\n",
       "      <td>NaN</td>\n",
       "      <td>NaN</td>\n",
       "      <td>NaN</td>\n",
       "      <td>kg</td>\n",
       "      <td>2194-04-29 07:00:00</td>\n",
       "    </tr>\n",
       "    <tr>\n",
       "      <th>2</th>\n",
       "      <td>30001446</td>\n",
       "      <td>119.3</td>\n",
       "      <td>119.3</td>\n",
       "      <td>NaN</td>\n",
       "      <td>kg</td>\n",
       "      <td>2186-04-12 01:00:00</td>\n",
       "    </tr>\n",
       "    <tr>\n",
       "      <th>3</th>\n",
       "      <td>30001555</td>\n",
       "      <td>NaN</td>\n",
       "      <td>NaN</td>\n",
       "      <td>NaN</td>\n",
       "      <td>kg</td>\n",
       "      <td>2177-09-27 11:00:00</td>\n",
       "    </tr>\n",
       "    <tr>\n",
       "      <th>4</th>\n",
       "      <td>30002415</td>\n",
       "      <td>81.0</td>\n",
       "      <td>81.0</td>\n",
       "      <td>86.0</td>\n",
       "      <td>kg</td>\n",
       "      <td>2126-12-17 12:00:00</td>\n",
       "    </tr>\n",
       "  </tbody>\n",
       "</table>\n",
       "</div>"
      ],
      "text/plain": [
       "    stay_id  weight  weight_admit  weight_daily uom                  t_0\n",
       "0  30000484    68.5          68.5           NaN  kg  2136-01-14 21:00:00\n",
       "1  30000646     NaN           NaN           NaN  kg  2194-04-29 07:00:00\n",
       "2  30001446   119.3         119.3           NaN  kg  2186-04-12 01:00:00\n",
       "3  30001555     NaN           NaN           NaN  kg  2177-09-27 11:00:00\n",
       "4  30002415    81.0          81.0          86.0  kg  2126-12-17 12:00:00"
      ]
     },
     "execution_count": 130,
     "metadata": {},
     "output_type": "execute_result"
    },
    {
     "name": "stdout",
     "output_type": "stream",
     "text": [
      "time: 16 ms (started: 2023-07-26 18:29:31 +08:00)\n"
     ]
    }
   ],
   "source": [
    "dfs[weight_df]['uom']='kg'\n",
    "dfs[weight_df].head()  \n",
    "#weight column is the conglomerate of weight_admin>weight_daily> weight_echoinhosp> weight_echoprehosp"
   ]
  },
  {
   "cell_type": "code",
   "execution_count": 131,
   "metadata": {},
   "outputs": [
    {
     "name": "stdout",
     "output_type": "stream",
     "text": [
      "time: 16 ms (started: 2023-07-26 18:29:34 +08:00)\n"
     ]
    }
   ],
   "source": [
    "dfs[weight_df]= dfs[weight_df][dfs[weight_df]['weight'].notnull()]\n",
    "dfs[weight_df]= dfs[weight_df][['stay_id','weight','uom']]\n",
    "\n",
    "dfs[weight_df]['label']= 'weight'\n",
    "dfs[weight_df]=dfs[weight_df].rename(index=str, columns={'weight':'value'})\n",
    "\n",
    "#adding the assumed first day delta column to standardize all columns\n",
    "dfs[weight_df]['delta']=pd.to_timedelta(0,'days')\n",
    "\n",
    "#adding t_0\n",
    "dfs[weight_df]= pd.merge(dfs[weight_df], final_pt_df2[['stay_id',time_var]], left_on='stay_id', right_on='stay_id')"
   ]
  },
  {
   "cell_type": "code",
   "execution_count": 132,
   "metadata": {},
   "outputs": [
    {
     "name": "stdout",
     "output_type": "stream",
     "text": [
      "time: 407 ms (started: 2023-07-26 18:29:36 +08:00)\n"
     ]
    }
   ],
   "source": [
    "# pd.DataFrame(dfs[weight_df]).to_csv(Path(\n",
    "#     save_path+'/%s_weight_prepped.csv' %(date)))\n",
    "save_df(dfs[weight_df], 'weight')\n",
    "\n",
    "del(dfs[weight_df])"
   ]
  },
  {
   "cell_type": "code",
   "execution_count": 133,
   "metadata": {},
   "outputs": [
    {
     "name": "stdout",
     "output_type": "stream",
     "text": [
      "time: 0 ns (started: 2023-07-26 18:29:38 +08:00)\n"
     ]
    }
   ],
   "source": [
    "dfs[height_df]['uom']='cm'"
   ]
  },
  {
   "cell_type": "code",
   "execution_count": 134,
   "metadata": {},
   "outputs": [
    {
     "name": "stdout",
     "output_type": "stream",
     "text": [
      "time: 0 ns (started: 2023-07-26 18:29:39 +08:00)\n"
     ]
    }
   ],
   "source": [
    "dfs[height_df]= dfs[height_df][dfs[height_df]['height'].notnull()]\n",
    "dfs[height_df]= dfs[height_df][['stay_id','height','uom']]"
   ]
  },
  {
   "cell_type": "code",
   "execution_count": 135,
   "metadata": {},
   "outputs": [
    {
     "name": "stdout",
     "output_type": "stream",
     "text": [
      "time: 16 ms (started: 2023-07-26 18:29:41 +08:00)\n"
     ]
    }
   ],
   "source": [
    "dfs[height_df]['label']= 'height'\n",
    "dfs[height_df]=dfs[height_df].rename(index=str, columns={'height':'value'})\n",
    "\n",
    "#adding the assumed first day delta column to standardize all columns\n",
    "dfs[height_df]['delta']=pd.to_timedelta(0,'days')\n",
    "#adding t_0\n",
    "dfs[height_df]= pd.merge(dfs[height_df], final_pt_df2[['stay_id',time_var]], left_on='stay_id', right_on='stay_id')"
   ]
  },
  {
   "cell_type": "code",
   "execution_count": 136,
   "metadata": {},
   "outputs": [
    {
     "name": "stdout",
     "output_type": "stream",
     "text": [
      "time: 234 ms (started: 2023-07-26 18:29:43 +08:00)\n"
     ]
    }
   ],
   "source": [
    "#heightfirstday\n",
    "save_df(dfs[height_df], 'height')\n",
    "del(dfs[height_df])"
   ]
  },
  {
   "cell_type": "markdown",
   "metadata": {},
   "source": [
    "# UTI"
   ]
  },
  {
   "cell_type": "code",
   "execution_count": 70,
   "metadata": {},
   "outputs": [
    {
     "data": {
      "text/plain": [
       "array(['NEG', 'MOD', 'POS', 'TR', 'SM', 'LG', ' ', 'N', 'SMALL'],\n",
       "      dtype=object)"
      ]
     },
     "execution_count": 70,
     "metadata": {},
     "output_type": "execute_result"
    },
    {
     "name": "stdout",
     "output_type": "stream",
     "text": [
      "time: 13.1 ms\n"
     ]
    }
   ],
   "source": [
    "dfs[uti_df]['value'].unique()#seems good #all uti within clinical timewindow"
   ]
  },
  {
   "cell_type": "code",
   "execution_count": 71,
   "metadata": {},
   "outputs": [
    {
     "name": "stdout",
     "output_type": "stream",
     "text": [
      "time: 189 ms\n"
     ]
    }
   ],
   "source": [
    "dfs[uti_df]= dfs[uti_df].loc[(dfs[uti_df].loc[:,'value']!='NEG')&\n",
    "               dfs[uti_df].loc[:,'value'].notnull(),:] #filter to only pos rows\n",
    "\n",
    "dfs[uti_df]= dfs[uti_df].loc[(dfs[uti_df].loc[:,'value']!='COMPUTER NETWORK FAILURE. TEST NOT RESULTED.')&\n",
    "               dfs[uti_df].loc[:,'value'].notnull(),:] #filter to only pos rows\n",
    "dfs[uti_df]= dfs[uti_df].drop_duplicates(subset=['hadm_id','value','charttime'])\n",
    "\n",
    "dfs[uti_df].loc[dfs[uti_df].loc[:,'value'].notnull(),'value']= 1\n",
    "dfs[uti_df].loc[dfs[uti_df].loc[:,'value'].isna(),'value']= 0 "
   ]
  },
  {
   "cell_type": "code",
   "execution_count": 72,
   "metadata": {},
   "outputs": [
    {
     "data": {
      "text/html": [
       "<div>\n",
       "<style scoped>\n",
       "    .dataframe tbody tr th:only-of-type {\n",
       "        vertical-align: middle;\n",
       "    }\n",
       "\n",
       "    .dataframe tbody tr th {\n",
       "        vertical-align: top;\n",
       "    }\n",
       "\n",
       "    .dataframe thead th {\n",
       "        text-align: right;\n",
       "    }\n",
       "</style>\n",
       "<table border=\"1\" class=\"dataframe\">\n",
       "  <thead>\n",
       "    <tr style=\"text-align: right;\">\n",
       "      <th></th>\n",
       "      <th>subject_id</th>\n",
       "      <th>hadm_id</th>\n",
       "      <th>itemid</th>\n",
       "      <th>charttime</th>\n",
       "      <th>value</th>\n",
       "      <th>valuenum</th>\n",
       "      <th>valueuom</th>\n",
       "      <th>label</th>\n",
       "      <th>fluid</th>\n",
       "      <th>category</th>\n",
       "      <th>loinc_code</th>\n",
       "      <th>icd9_code</th>\n",
       "      <th>t_0</th>\n",
       "      <th>delta</th>\n",
       "    </tr>\n",
       "  </thead>\n",
       "  <tbody>\n",
       "    <tr>\n",
       "      <th>132</th>\n",
       "      <td>21</td>\n",
       "      <td>109451.0</td>\n",
       "      <td>51486</td>\n",
       "      <td>2134-09-12 00:08:00</td>\n",
       "      <td>1</td>\n",
       "      <td>NaN</td>\n",
       "      <td>NaN</td>\n",
       "      <td>Leukocytes</td>\n",
       "      <td>Urine</td>\n",
       "      <td>Hematology</td>\n",
       "      <td>5799-2</td>\n",
       "      <td>41071</td>\n",
       "      <td>2134-09-12</td>\n",
       "      <td>0 days 00:08:00.000000000</td>\n",
       "    </tr>\n",
       "    <tr>\n",
       "      <th>186</th>\n",
       "      <td>21</td>\n",
       "      <td>109451.0</td>\n",
       "      <td>51487</td>\n",
       "      <td>2134-09-12 00:08:00</td>\n",
       "      <td>1</td>\n",
       "      <td>NaN</td>\n",
       "      <td>NaN</td>\n",
       "      <td>Nitrite</td>\n",
       "      <td>Urine</td>\n",
       "      <td>Hematology</td>\n",
       "      <td>5802-4</td>\n",
       "      <td>41071</td>\n",
       "      <td>2134-09-12</td>\n",
       "      <td>0 days 00:08:00.000000000</td>\n",
       "    </tr>\n",
       "    <tr>\n",
       "      <th>236</th>\n",
       "      <td>31</td>\n",
       "      <td>128652.0</td>\n",
       "      <td>51486</td>\n",
       "      <td>2108-08-24 16:30:00</td>\n",
       "      <td>1</td>\n",
       "      <td>NaN</td>\n",
       "      <td>NaN</td>\n",
       "      <td>Leukocytes</td>\n",
       "      <td>Urine</td>\n",
       "      <td>Hematology</td>\n",
       "      <td>5799-2</td>\n",
       "      <td>3453</td>\n",
       "      <td>2108-08-24</td>\n",
       "      <td>0 days 16:30:00.000000000</td>\n",
       "    </tr>\n",
       "    <tr>\n",
       "      <th>790</th>\n",
       "      <td>64</td>\n",
       "      <td>172056.0</td>\n",
       "      <td>51486</td>\n",
       "      <td>2143-03-03 04:33:00</td>\n",
       "      <td>1</td>\n",
       "      <td>NaN</td>\n",
       "      <td>NaN</td>\n",
       "      <td>Leukocytes</td>\n",
       "      <td>Urine</td>\n",
       "      <td>Hematology</td>\n",
       "      <td>5799-2</td>\n",
       "      <td>03811</td>\n",
       "      <td>2143-03-03</td>\n",
       "      <td>0 days 04:33:00.000000000</td>\n",
       "    </tr>\n",
       "    <tr>\n",
       "      <th>832</th>\n",
       "      <td>62</td>\n",
       "      <td>116009.0</td>\n",
       "      <td>51486</td>\n",
       "      <td>2113-02-15 12:27:00</td>\n",
       "      <td>1</td>\n",
       "      <td>NaN</td>\n",
       "      <td>NaN</td>\n",
       "      <td>Leukocytes</td>\n",
       "      <td>Urine</td>\n",
       "      <td>Hematology</td>\n",
       "      <td>5799-2</td>\n",
       "      <td>1125</td>\n",
       "      <td>2113-02-15</td>\n",
       "      <td>0 days 12:27:00.000000000</td>\n",
       "    </tr>\n",
       "  </tbody>\n",
       "</table>\n",
       "</div>"
      ],
      "text/plain": [
       "     subject_id   hadm_id  itemid            charttime  value  valuenum  \\\n",
       "132          21  109451.0   51486  2134-09-12 00:08:00      1       NaN   \n",
       "186          21  109451.0   51487  2134-09-12 00:08:00      1       NaN   \n",
       "236          31  128652.0   51486  2108-08-24 16:30:00      1       NaN   \n",
       "790          64  172056.0   51486  2143-03-03 04:33:00      1       NaN   \n",
       "832          62  116009.0   51486  2113-02-15 12:27:00      1       NaN   \n",
       "\n",
       "     valueuom       label  fluid    category loinc_code icd9_code         t_0  \\\n",
       "132       NaN  Leukocytes  Urine  Hematology     5799-2     41071  2134-09-12   \n",
       "186       NaN     Nitrite  Urine  Hematology     5802-4     41071  2134-09-12   \n",
       "236       NaN  Leukocytes  Urine  Hematology     5799-2      3453  2108-08-24   \n",
       "790       NaN  Leukocytes  Urine  Hematology     5799-2     03811  2143-03-03   \n",
       "832       NaN  Leukocytes  Urine  Hematology     5799-2      1125  2113-02-15   \n",
       "\n",
       "                         delta  \n",
       "132  0 days 00:08:00.000000000  \n",
       "186  0 days 00:08:00.000000000  \n",
       "236  0 days 16:30:00.000000000  \n",
       "790  0 days 04:33:00.000000000  \n",
       "832  0 days 12:27:00.000000000  "
      ]
     },
     "execution_count": 72,
     "metadata": {},
     "output_type": "execute_result"
    },
    {
     "name": "stdout",
     "output_type": "stream",
     "text": [
      "time: 18.9 ms\n"
     ]
    }
   ],
   "source": [
    "dfs[uti_df].head()"
   ]
  },
  {
   "cell_type": "code",
   "execution_count": 73,
   "metadata": {},
   "outputs": [
    {
     "name": "stdout",
     "output_type": "stream",
     "text": [
      "time: 73.8 ms\n"
     ]
    }
   ],
   "source": [
    "def uti_categorizer(uti_df):\n",
    "    \"useful to get all rows of days with positive values for patients (if multiple pos in a day there will be only 1 row for that day). ie more longitudinal format \"\n",
    "    \n",
    "    #gives the max pos or neg value per day for \n",
    "    df_timewindow_perday=uti_df.groupby(['hadm_id','delta'], as_index=False)['value'].agg({'value':'max'})  \n",
    "    df_timewindow_perday= pd.merge(df_timewindow_perday,final_pt_df2[['stay_id','hadm_id', time_var]], left_on='hadm_id', right_on='hadm_id', how='left')\n",
    "    df_timewindow_perday=df_timewindow_perday.sort_values(['hadm_id','value','delta'], ascending=[True,False,True])\n",
    "    return(df_timewindow_perday)\n",
    "\n",
    "def yn_uti(uti_df, label):\n",
    "    \"collapsing longitudinal data into 1 value. will return pos or neg if patient has a positive uti in their stay. one row per stay_id\"\n",
    "    \n",
    "    df_timewindow_perday=uti_df.groupby(['hadm_id','delta'], as_index=False)['value'].agg({'value':'max'})\n",
    "    first_pos= df_timewindow_perday.drop_duplicates(['hadm_id'])\n",
    "    collapsed= pd.merge(final_pt_df2[['hadm_id','stay_id','subject_id', time_var]],first_pos, left_on='hadm_id', right_on='hadm_id', how='left')\n",
    "    \n",
    "    collapsed['value']= collapsed['value'].fillna(0)\n",
    "    collapsed.loc[collapsed.loc[:,'value']==1,'value']= 'pos'\n",
    "    collapsed.loc[collapsed.loc[:,'value']==0,'value']= 'Neg/Not_tested'\n",
    "    \n",
    "    collapsed['delta']= collapsed['delta'].fillna(pd.Timedelta(1, unit='d'))\n",
    "    \n",
    "    collapsed['label']= label\n",
    "    \n",
    "    collapsed['uom']='pos/neg category'\n",
    "    return(collapsed)"
   ]
  },
  {
   "cell_type": "code",
   "execution_count": 74,
   "metadata": {},
   "outputs": [
    {
     "name": "stdout",
     "output_type": "stream",
     "text": [
      "time: 135 ms\n"
     ]
    }
   ],
   "source": [
    "uti_nit_pos= dfs[uti_df][dfs[uti_df]['label']==\"Nitrite\"]\n",
    "uti_leuk_pos= dfs[uti_df][dfs[uti_df]['label']==\"Leukocytes\"]\n",
    "\n",
    "leuk_collapsed= yn_uti(uti_leuk_pos, 'leukocyte')\n",
    "nit_collapsed= yn_uti(uti_nit_pos, 'nitrite')\n"
   ]
  },
  {
   "cell_type": "code",
   "execution_count": 75,
   "metadata": {},
   "outputs": [
    {
     "name": "stdout",
     "output_type": "stream",
     "text": [
      "time: 587 ms\n"
     ]
    }
   ],
   "source": [
    "save_df(leuk_collapsed, 'leuk')\n",
    "del(leuk_collapsed)\n",
    "\n",
    "save_df(nit_collapsed, 'nit')\n",
    "del(nit_collapsed)\n",
    "del(dfs[uti_df])"
   ]
  },
  {
   "cell_type": "markdown",
   "metadata": {},
   "source": [
    "# bloodgas"
   ]
  },
  {
   "cell_type": "code",
   "execution_count": 206,
   "metadata": {},
   "outputs": [
    {
     "data": {
      "text/html": [
       "<div>\n",
       "<style scoped>\n",
       "    .dataframe tbody tr th:only-of-type {\n",
       "        vertical-align: middle;\n",
       "    }\n",
       "\n",
       "    .dataframe tbody tr th {\n",
       "        vertical-align: top;\n",
       "    }\n",
       "\n",
       "    .dataframe thead th {\n",
       "        text-align: right;\n",
       "    }\n",
       "</style>\n",
       "<table border=\"1\" class=\"dataframe\">\n",
       "  <thead>\n",
       "    <tr style=\"text-align: right;\">\n",
       "      <th></th>\n",
       "      <th>subject_id</th>\n",
       "      <th>hadm_id</th>\n",
       "      <th>stay_id</th>\n",
       "      <th>charttime</th>\n",
       "      <th>label</th>\n",
       "      <th>valuenum</th>\n",
       "      <th>value</th>\n",
       "      <th>valueuom</th>\n",
       "      <th>unique_var</th>\n",
       "      <th>t_0</th>\n",
       "      <th>delta</th>\n",
       "    </tr>\n",
       "  </thead>\n",
       "  <tbody>\n",
       "    <tr>\n",
       "      <th>46</th>\n",
       "      <td>10001884</td>\n",
       "      <td>26184834</td>\n",
       "      <td>37510196</td>\n",
       "      <td>2131-01-11 11:33:00</td>\n",
       "      <td>BASEEXCESS</td>\n",
       "      <td>2.00</td>\n",
       "      <td>2</td>\n",
       "      <td>mEq/L</td>\n",
       "      <td>375101962131-01-11 11:33:00</td>\n",
       "      <td>2131-01-11 08:00:00</td>\n",
       "      <td>0 days 03:33:00</td>\n",
       "    </tr>\n",
       "    <tr>\n",
       "      <th>47</th>\n",
       "      <td>10001884</td>\n",
       "      <td>26184834</td>\n",
       "      <td>37510196</td>\n",
       "      <td>2131-01-11 11:33:00</td>\n",
       "      <td>LACTATE</td>\n",
       "      <td>1.10</td>\n",
       "      <td>1.1</td>\n",
       "      <td>mmol/L</td>\n",
       "      <td>375101962131-01-11 11:33:00</td>\n",
       "      <td>2131-01-11 08:00:00</td>\n",
       "      <td>0 days 03:33:00</td>\n",
       "    </tr>\n",
       "    <tr>\n",
       "      <th>48</th>\n",
       "      <td>10001884</td>\n",
       "      <td>26184834</td>\n",
       "      <td>37510196</td>\n",
       "      <td>2131-01-11 11:33:00</td>\n",
       "      <td>PCO2</td>\n",
       "      <td>59.00</td>\n",
       "      <td>59</td>\n",
       "      <td>mm Hg</td>\n",
       "      <td>375101962131-01-11 11:33:00</td>\n",
       "      <td>2131-01-11 08:00:00</td>\n",
       "      <td>0 days 03:33:00</td>\n",
       "    </tr>\n",
       "    <tr>\n",
       "      <th>49</th>\n",
       "      <td>10001884</td>\n",
       "      <td>26184834</td>\n",
       "      <td>37510196</td>\n",
       "      <td>2131-01-11 11:33:00</td>\n",
       "      <td>PH</td>\n",
       "      <td>7.33</td>\n",
       "      <td>7.33</td>\n",
       "      <td>units</td>\n",
       "      <td>375101962131-01-11 11:33:00</td>\n",
       "      <td>2131-01-11 08:00:00</td>\n",
       "      <td>0 days 03:33:00</td>\n",
       "    </tr>\n",
       "    <tr>\n",
       "      <th>50</th>\n",
       "      <td>10001884</td>\n",
       "      <td>26184834</td>\n",
       "      <td>37510196</td>\n",
       "      <td>2131-01-11 11:33:00</td>\n",
       "      <td>PO2</td>\n",
       "      <td>40.00</td>\n",
       "      <td>___</td>\n",
       "      <td>mm Hg</td>\n",
       "      <td>375101962131-01-11 11:33:00</td>\n",
       "      <td>2131-01-11 08:00:00</td>\n",
       "      <td>0 days 03:33:00</td>\n",
       "    </tr>\n",
       "    <tr>\n",
       "      <th>...</th>\n",
       "      <td>...</td>\n",
       "      <td>...</td>\n",
       "      <td>...</td>\n",
       "      <td>...</td>\n",
       "      <td>...</td>\n",
       "      <td>...</td>\n",
       "      <td>...</td>\n",
       "      <td>...</td>\n",
       "      <td>...</td>\n",
       "      <td>...</td>\n",
       "      <td>...</td>\n",
       "    </tr>\n",
       "    <tr>\n",
       "      <th>2782800</th>\n",
       "      <td>19999840</td>\n",
       "      <td>21033226</td>\n",
       "      <td>38978960</td>\n",
       "      <td>2164-09-13 06:26:00</td>\n",
       "      <td>BASEEXCESS</td>\n",
       "      <td>4.00</td>\n",
       "      <td>4</td>\n",
       "      <td>mEq/L</td>\n",
       "      <td>389789602164-09-13 06:26:00</td>\n",
       "      <td>2164-09-12 20:00:00</td>\n",
       "      <td>0 days 10:26:00</td>\n",
       "    </tr>\n",
       "    <tr>\n",
       "      <th>2782801</th>\n",
       "      <td>19999840</td>\n",
       "      <td>21033226</td>\n",
       "      <td>38978960</td>\n",
       "      <td>2164-09-13 06:26:00</td>\n",
       "      <td>PCO2</td>\n",
       "      <td>37.00</td>\n",
       "      <td>37</td>\n",
       "      <td>mm Hg</td>\n",
       "      <td>389789602164-09-13 06:26:00</td>\n",
       "      <td>2164-09-12 20:00:00</td>\n",
       "      <td>0 days 10:26:00</td>\n",
       "    </tr>\n",
       "    <tr>\n",
       "      <th>2782802</th>\n",
       "      <td>19999840</td>\n",
       "      <td>21033226</td>\n",
       "      <td>38978960</td>\n",
       "      <td>2164-09-13 06:26:00</td>\n",
       "      <td>PH</td>\n",
       "      <td>7.50</td>\n",
       "      <td>7.50</td>\n",
       "      <td>units</td>\n",
       "      <td>389789602164-09-13 06:26:00</td>\n",
       "      <td>2164-09-12 20:00:00</td>\n",
       "      <td>0 days 10:26:00</td>\n",
       "    </tr>\n",
       "    <tr>\n",
       "      <th>2782803</th>\n",
       "      <td>19999840</td>\n",
       "      <td>21033226</td>\n",
       "      <td>38978960</td>\n",
       "      <td>2164-09-13 06:26:00</td>\n",
       "      <td>PO2</td>\n",
       "      <td>61.00</td>\n",
       "      <td>61</td>\n",
       "      <td>mm Hg</td>\n",
       "      <td>389789602164-09-13 06:26:00</td>\n",
       "      <td>2164-09-12 20:00:00</td>\n",
       "      <td>0 days 10:26:00</td>\n",
       "    </tr>\n",
       "    <tr>\n",
       "      <th>2782804</th>\n",
       "      <td>19999840</td>\n",
       "      <td>21033226</td>\n",
       "      <td>38978960</td>\n",
       "      <td>2164-09-13 06:26:00</td>\n",
       "      <td>TOTALCO2</td>\n",
       "      <td>30.00</td>\n",
       "      <td>30</td>\n",
       "      <td>mEq/L</td>\n",
       "      <td>389789602164-09-13 06:26:00</td>\n",
       "      <td>2164-09-12 20:00:00</td>\n",
       "      <td>0 days 10:26:00</td>\n",
       "    </tr>\n",
       "  </tbody>\n",
       "</table>\n",
       "<p>537685 rows × 11 columns</p>\n",
       "</div>"
      ],
      "text/plain": [
       "         subject_id   hadm_id   stay_id            charttime       label  \\\n",
       "46         10001884  26184834  37510196  2131-01-11 11:33:00  BASEEXCESS   \n",
       "47         10001884  26184834  37510196  2131-01-11 11:33:00     LACTATE   \n",
       "48         10001884  26184834  37510196  2131-01-11 11:33:00        PCO2   \n",
       "49         10001884  26184834  37510196  2131-01-11 11:33:00          PH   \n",
       "50         10001884  26184834  37510196  2131-01-11 11:33:00         PO2   \n",
       "...             ...       ...       ...                  ...         ...   \n",
       "2782800    19999840  21033226  38978960  2164-09-13 06:26:00  BASEEXCESS   \n",
       "2782801    19999840  21033226  38978960  2164-09-13 06:26:00        PCO2   \n",
       "2782802    19999840  21033226  38978960  2164-09-13 06:26:00          PH   \n",
       "2782803    19999840  21033226  38978960  2164-09-13 06:26:00         PO2   \n",
       "2782804    19999840  21033226  38978960  2164-09-13 06:26:00    TOTALCO2   \n",
       "\n",
       "         valuenum value valueuom                   unique_var  \\\n",
       "46           2.00     2    mEq/L  375101962131-01-11 11:33:00   \n",
       "47           1.10   1.1   mmol/L  375101962131-01-11 11:33:00   \n",
       "48          59.00    59    mm Hg  375101962131-01-11 11:33:00   \n",
       "49           7.33  7.33    units  375101962131-01-11 11:33:00   \n",
       "50          40.00   ___    mm Hg  375101962131-01-11 11:33:00   \n",
       "...           ...   ...      ...                          ...   \n",
       "2782800      4.00     4    mEq/L  389789602164-09-13 06:26:00   \n",
       "2782801     37.00    37    mm Hg  389789602164-09-13 06:26:00   \n",
       "2782802      7.50  7.50    units  389789602164-09-13 06:26:00   \n",
       "2782803     61.00    61    mm Hg  389789602164-09-13 06:26:00   \n",
       "2782804     30.00    30    mEq/L  389789602164-09-13 06:26:00   \n",
       "\n",
       "                         t_0            delta  \n",
       "46       2131-01-11 08:00:00  0 days 03:33:00  \n",
       "47       2131-01-11 08:00:00  0 days 03:33:00  \n",
       "48       2131-01-11 08:00:00  0 days 03:33:00  \n",
       "49       2131-01-11 08:00:00  0 days 03:33:00  \n",
       "50       2131-01-11 08:00:00  0 days 03:33:00  \n",
       "...                      ...              ...  \n",
       "2782800  2164-09-12 20:00:00  0 days 10:26:00  \n",
       "2782801  2164-09-12 20:00:00  0 days 10:26:00  \n",
       "2782802  2164-09-12 20:00:00  0 days 10:26:00  \n",
       "2782803  2164-09-12 20:00:00  0 days 10:26:00  \n",
       "2782804  2164-09-12 20:00:00  0 days 10:26:00  \n",
       "\n",
       "[537685 rows x 11 columns]"
      ]
     },
     "execution_count": 206,
     "metadata": {},
     "output_type": "execute_result"
    },
    {
     "name": "stdout",
     "output_type": "stream",
     "text": [
      "time: 15 ms (started: 2023-07-26 19:08:10 +08:00)\n"
     ]
    }
   ],
   "source": [
    "dfs[bg_df]"
   ]
  },
  {
   "cell_type": "code",
   "execution_count": 207,
   "metadata": {},
   "outputs": [
    {
     "data": {
      "text/html": [
       "<div>\n",
       "<style scoped>\n",
       "    .dataframe tbody tr th:only-of-type {\n",
       "        vertical-align: middle;\n",
       "    }\n",
       "\n",
       "    .dataframe tbody tr th {\n",
       "        vertical-align: top;\n",
       "    }\n",
       "\n",
       "    .dataframe thead th {\n",
       "        text-align: right;\n",
       "    }\n",
       "</style>\n",
       "<table border=\"1\" class=\"dataframe\">\n",
       "  <thead>\n",
       "    <tr style=\"text-align: right;\">\n",
       "      <th></th>\n",
       "      <th>subject_id</th>\n",
       "      <th>hadm_id</th>\n",
       "      <th>stay_id</th>\n",
       "      <th>charttime</th>\n",
       "      <th>label</th>\n",
       "      <th>valuenum</th>\n",
       "      <th>value</th>\n",
       "      <th>uom</th>\n",
       "      <th>unique_var</th>\n",
       "      <th>t_0</th>\n",
       "      <th>delta</th>\n",
       "    </tr>\n",
       "  </thead>\n",
       "  <tbody>\n",
       "    <tr>\n",
       "      <th>46</th>\n",
       "      <td>10001884</td>\n",
       "      <td>26184834</td>\n",
       "      <td>37510196</td>\n",
       "      <td>2131-01-11 11:33:00</td>\n",
       "      <td>BASEEXCESS</td>\n",
       "      <td>2.00</td>\n",
       "      <td>2</td>\n",
       "      <td>mEq/L</td>\n",
       "      <td>375101962131-01-11 11:33:00</td>\n",
       "      <td>2131-01-11 08:00:00</td>\n",
       "      <td>0 days 03:33:00</td>\n",
       "    </tr>\n",
       "    <tr>\n",
       "      <th>47</th>\n",
       "      <td>10001884</td>\n",
       "      <td>26184834</td>\n",
       "      <td>37510196</td>\n",
       "      <td>2131-01-11 11:33:00</td>\n",
       "      <td>LACTATE</td>\n",
       "      <td>1.10</td>\n",
       "      <td>1.1</td>\n",
       "      <td>mmol/L</td>\n",
       "      <td>375101962131-01-11 11:33:00</td>\n",
       "      <td>2131-01-11 08:00:00</td>\n",
       "      <td>0 days 03:33:00</td>\n",
       "    </tr>\n",
       "    <tr>\n",
       "      <th>48</th>\n",
       "      <td>10001884</td>\n",
       "      <td>26184834</td>\n",
       "      <td>37510196</td>\n",
       "      <td>2131-01-11 11:33:00</td>\n",
       "      <td>PCO2</td>\n",
       "      <td>59.00</td>\n",
       "      <td>59</td>\n",
       "      <td>mm Hg</td>\n",
       "      <td>375101962131-01-11 11:33:00</td>\n",
       "      <td>2131-01-11 08:00:00</td>\n",
       "      <td>0 days 03:33:00</td>\n",
       "    </tr>\n",
       "    <tr>\n",
       "      <th>49</th>\n",
       "      <td>10001884</td>\n",
       "      <td>26184834</td>\n",
       "      <td>37510196</td>\n",
       "      <td>2131-01-11 11:33:00</td>\n",
       "      <td>PH</td>\n",
       "      <td>7.33</td>\n",
       "      <td>7.33</td>\n",
       "      <td>units</td>\n",
       "      <td>375101962131-01-11 11:33:00</td>\n",
       "      <td>2131-01-11 08:00:00</td>\n",
       "      <td>0 days 03:33:00</td>\n",
       "    </tr>\n",
       "    <tr>\n",
       "      <th>50</th>\n",
       "      <td>10001884</td>\n",
       "      <td>26184834</td>\n",
       "      <td>37510196</td>\n",
       "      <td>2131-01-11 11:33:00</td>\n",
       "      <td>PO2</td>\n",
       "      <td>40.00</td>\n",
       "      <td>___</td>\n",
       "      <td>mm Hg</td>\n",
       "      <td>375101962131-01-11 11:33:00</td>\n",
       "      <td>2131-01-11 08:00:00</td>\n",
       "      <td>0 days 03:33:00</td>\n",
       "    </tr>\n",
       "  </tbody>\n",
       "</table>\n",
       "</div>"
      ],
      "text/plain": [
       "    subject_id   hadm_id   stay_id            charttime       label  valuenum  \\\n",
       "46    10001884  26184834  37510196  2131-01-11 11:33:00  BASEEXCESS      2.00   \n",
       "47    10001884  26184834  37510196  2131-01-11 11:33:00     LACTATE      1.10   \n",
       "48    10001884  26184834  37510196  2131-01-11 11:33:00        PCO2     59.00   \n",
       "49    10001884  26184834  37510196  2131-01-11 11:33:00          PH      7.33   \n",
       "50    10001884  26184834  37510196  2131-01-11 11:33:00         PO2     40.00   \n",
       "\n",
       "   value     uom                   unique_var                  t_0  \\\n",
       "46     2   mEq/L  375101962131-01-11 11:33:00  2131-01-11 08:00:00   \n",
       "47   1.1  mmol/L  375101962131-01-11 11:33:00  2131-01-11 08:00:00   \n",
       "48    59   mm Hg  375101962131-01-11 11:33:00  2131-01-11 08:00:00   \n",
       "49  7.33   units  375101962131-01-11 11:33:00  2131-01-11 08:00:00   \n",
       "50   ___   mm Hg  375101962131-01-11 11:33:00  2131-01-11 08:00:00   \n",
       "\n",
       "              delta  \n",
       "46  0 days 03:33:00  \n",
       "47  0 days 03:33:00  \n",
       "48  0 days 03:33:00  \n",
       "49  0 days 03:33:00  \n",
       "50  0 days 03:33:00  "
      ]
     },
     "execution_count": 207,
     "metadata": {},
     "output_type": "execute_result"
    },
    {
     "name": "stdout",
     "output_type": "stream",
     "text": [
      "time: 407 ms (started: 2023-07-26 19:08:11 +08:00)\n"
     ]
    }
   ],
   "source": [
    "dfs[bg_df]= dfs[bg_df].loc[dfs[bg_df]['value'].notnull(),:]\n",
    "dfs[bg_df] = dfs[bg_df].rename(index=str, columns={'valueuom':'uom'})\n",
    "dfs[bg_df]= dfs[bg_df].loc[~(dfs[bg_df].loc[:,'value']=='.'),:]\n",
    "\n",
    "#may need to remove outliers, haven't done as of 10/22/18\n",
    "dfs[bg_df].head()"
   ]
  },
  {
   "cell_type": "markdown",
   "metadata": {},
   "source": [
    "### most likely erroneous value removal\n",
    "the code below manually removes values that are a high likelyhood of being erroneous in a way that doesn't follow great programming practices. on my list of things to improve, but it is currently functional. \n"
   ]
  },
  {
   "cell_type": "code",
   "execution_count": 208,
   "metadata": {},
   "outputs": [
    {
     "name": "stdout",
     "output_type": "stream",
     "text": [
      "time: 203 ms (started: 2023-07-26 19:08:13 +08:00)\n"
     ]
    }
   ],
   "source": [
    "##calcium\n",
    "#fixing the calcium errors w/o hard coding\n",
    "(dfs[bg_df].loc[\n",
    "    (dfs[bg_df].loc[:,'stay_id']==249571) & \n",
    "    (dfs[bg_df].loc[:,'label']=='CALCIUM')\n",
    "    & (dfs[bg_df].loc[:,'valuenum']==94.00),'valuenum'])=0.94#.where('valuenum'==94.00))\n",
    "\n",
    "(dfs[bg_df].loc[\n",
    "    (dfs[bg_df].loc[:,'stay_id']==249571) & \n",
    "    (dfs[bg_df].loc[:,'label']=='CALCIUM')\n",
    "    & (dfs[bg_df].loc[:,'value']=='094'),'value'])=0.94#.where('valuenum'==94.00))\n",
    "\n",
    "\n",
    "(dfs[bg_df].loc[\n",
    "    (dfs[bg_df].loc[:,'stay_id']==219600) & \n",
    "    (dfs[bg_df].loc[:,'label']=='CALCIUM')\n",
    "    & (dfs[bg_df].loc[:,'valuenum']==97.00),'valuenum'])=0.97#.where('valuenum'==94.00))\n",
    "\n",
    "(dfs[bg_df].loc[\n",
    "    (dfs[bg_df].loc[:,'stay_id']==219600) & \n",
    "    (dfs[bg_df].loc[:,'label']=='CALCIUM')\n",
    "    & (dfs[bg_df].loc[:,'value']=='097'),'value'])=0.97#.where('valuenum'==94.00))\n"
   ]
  },
  {
   "cell_type": "code",
   "execution_count": 209,
   "metadata": {},
   "outputs": [
    {
     "name": "stdout",
     "output_type": "stream",
     "text": [
      "time: 125 ms (started: 2023-07-26 19:08:15 +08:00)\n"
     ]
    }
   ],
   "source": [
    "##min chloride\n",
    "#converting it to a null value without hard coding\n",
    "(dfs[bg_df].loc[(dfs[bg_df].loc[:,'stay_id']==261887.0) &\n",
    "                         (dfs[bg_df].loc[:,'label']=='CHLORIDE') &\n",
    "                         (dfs[bg_df].loc[:,'valuenum']==3.4),'value'])=np.nan\n",
    "#converting it to a null value without hard coding\n",
    "(dfs[bg_df].loc[(dfs[bg_df].loc[:,'stay_id']==261887.0) &\n",
    "                         (dfs[bg_df].loc[:,'label']=='CHLORIDE') &\n",
    "                         (dfs[bg_df].loc[:,'valuenum']==3.4),'valuenum'])=np.nan\n",
    "\n",
    "#changing the values without hard coding. \n",
    "(dfs[bg_df].loc[(dfs[bg_df].loc[:,'stay_id']==236290.0) &\n",
    "                         (dfs[bg_df].loc[:,'label']=='CHLORIDE') &\n",
    "                         (dfs[bg_df].loc[:,'valuenum']==11.0),'valuenum'])=np.nan\n",
    "\n",
    "(dfs[bg_df].loc[(dfs[bg_df].loc[:,'stay_id']==236290.0) &\n",
    "                         (dfs[bg_df].loc[:,'label']=='CHLORIDE') &\n",
    "                         (dfs[bg_df].loc[:,'valuenum']==11.0),'value'])=np.nan"
   ]
  },
  {
   "cell_type": "code",
   "execution_count": 210,
   "metadata": {},
   "outputs": [
    {
     "name": "stdout",
     "output_type": "stream",
     "text": [
      "time: 31 ms (started: 2023-07-26 19:08:17 +08:00)\n"
     ]
    }
   ],
   "source": [
    "#peep changes summary: \n",
    "dfs[bg_df].loc[(dfs[bg_df].loc[:,'label']=='PEEP')&\n",
    "                        (dfs[bg_df]['valuenum']>38),'valuenum']=np.nan #remove this or set to 50?"
   ]
  },
  {
   "cell_type": "code",
   "execution_count": 211,
   "metadata": {},
   "outputs": [
    {
     "name": "stdout",
     "output_type": "stream",
     "text": [
      "time: 125 ms (started: 2023-07-26 19:08:19 +08:00)\n"
     ]
    }
   ],
   "source": [
    "#temp changes summary:\n",
    "\n",
    "dfs[bg_df].loc[(dfs[bg_df].loc[:,'label']=='TEMPERATURE')&\n",
    "                        (dfs[bg_df]['stay_id']==253821)&\n",
    "                        (dfs[bg_df]['valuenum']==18.9),\n",
    "                        'value']= np.nan\n",
    "\n",
    "dfs[bg_df].loc[(dfs[bg_df].loc[:,'label']=='TEMPERATURE')&\n",
    "                        (dfs[bg_df]['stay_id']==253821)&\n",
    "                        (dfs[bg_df]['valuenum']==18.9),\n",
    "                        'valuenum']= np.nan\n",
    "\n",
    "dfs[bg_df].loc[(dfs[bg_df].loc[:,'label']=='TEMPERATURE')&\n",
    "                        (dfs[bg_df]['stay_id']==251788)&\n",
    "                        (dfs[bg_df]['valuenum']==10.0),\n",
    "                        'value']= np.nan\n",
    "\n",
    "dfs[bg_df].loc[(dfs[bg_df].loc[:,'label']=='TEMPERATURE')&\n",
    "                        (dfs[bg_df]['stay_id']==251788)&\n",
    "                        (dfs[bg_df]['valuenum']==10.0),\n",
    "                        'valuenum']= np.nan"
   ]
  },
  {
   "cell_type": "code",
   "execution_count": 212,
   "metadata": {},
   "outputs": [
    {
     "name": "stdout",
     "output_type": "stream",
     "text": [
      "time: 156 ms (started: 2023-07-26 19:08:21 +08:00)\n"
     ]
    }
   ],
   "source": [
    "#fio2 changes summary:\n",
    "\n",
    "##converting a few values to null, thus removing them from the dataset\n",
    "dfs[bg_df].loc[(dfs[bg_df].loc[:,'label']=='FIO2') &\n",
    "                        (dfs[bg_df].loc[:,'value']=='0'),'value']=np.nan\n",
    "\n",
    "dfs[bg_df].loc[(dfs[bg_df].loc[:,'label']=='FIO2') &\n",
    "                        (dfs[bg_df].loc[:,'value']=='-'),'value']=np.nan\n",
    "\n",
    "\n",
    "##removing all fio2 values between 1-20.9\n",
    "\n",
    "dfs[bg_df].loc[(dfs[bg_df].loc[:,'label'].isin(['FIO2']))&\n",
    "                        (dfs[bg_df]['valuenum'].between(1.0,20.9)),'valuenum']=np.nan\n",
    "\n",
    "\n",
    "##values between 0-1 were found to be ratios, not %, so converting these to % \n",
    "\n",
    "dfs[bg_df].loc[(dfs[bg_df].loc[:,'label'].isin(['FIO2']))&\n",
    "                        (dfs[bg_df]['valuenum'].between(1.0,20.9)),'valuenum']=np.nan\n",
    "\n",
    "fio2_dec= dfs[bg_df].loc[(dfs[bg_df].loc[:,'label'].isin(['FIO2']))&\n",
    "                        (dfs[bg_df]['valuenum'].between(0.0,1.0)),'valuenum']\n",
    "\n",
    "dfs[bg_df].loc[(dfs[bg_df].loc[:,'label'].isin(['FIO2']))&\n",
    "                        (dfs[bg_df]['valuenum'].between(0.0,1.0)),'valuenum'] = fio2_dec *100\n",
    "\n",
    "del(fio2_dec)"
   ]
  },
  {
   "cell_type": "markdown",
   "metadata": {},
   "source": [
    "#### removing null values annotated abov"
   ]
  },
  {
   "cell_type": "code",
   "execution_count": 213,
   "metadata": {},
   "outputs": [
    {
     "name": "stdout",
     "output_type": "stream",
     "text": [
      "time: 63 ms (started: 2023-07-26 19:08:24 +08:00)\n"
     ]
    }
   ],
   "source": [
    "dfs[bg_df]= dfs[bg_df].loc[dfs[bg_df]['value'].notnull(),:]"
   ]
  },
  {
   "cell_type": "code",
   "execution_count": 214,
   "metadata": {},
   "outputs": [
    {
     "data": {
      "text/html": [
       "<div>\n",
       "<style scoped>\n",
       "    .dataframe tbody tr th:only-of-type {\n",
       "        vertical-align: middle;\n",
       "    }\n",
       "\n",
       "    .dataframe tbody tr th {\n",
       "        vertical-align: top;\n",
       "    }\n",
       "\n",
       "    .dataframe thead th {\n",
       "        text-align: right;\n",
       "    }\n",
       "</style>\n",
       "<table border=\"1\" class=\"dataframe\">\n",
       "  <thead>\n",
       "    <tr style=\"text-align: right;\">\n",
       "      <th></th>\n",
       "      <th>subject_id</th>\n",
       "      <th>hadm_id</th>\n",
       "      <th>stay_id</th>\n",
       "      <th>charttime</th>\n",
       "      <th>label</th>\n",
       "      <th>valuenum</th>\n",
       "      <th>value</th>\n",
       "      <th>uom</th>\n",
       "      <th>unique_var</th>\n",
       "      <th>t_0</th>\n",
       "      <th>delta</th>\n",
       "    </tr>\n",
       "  </thead>\n",
       "  <tbody>\n",
       "    <tr>\n",
       "      <th>46</th>\n",
       "      <td>10001884</td>\n",
       "      <td>26184834</td>\n",
       "      <td>37510196</td>\n",
       "      <td>2131-01-11 11:33:00</td>\n",
       "      <td>BASEEXCESS</td>\n",
       "      <td>2.00</td>\n",
       "      <td>2</td>\n",
       "      <td>mEq/L</td>\n",
       "      <td>375101962131-01-11 11:33:00</td>\n",
       "      <td>2131-01-11 08:00:00</td>\n",
       "      <td>0 days 03:33:00</td>\n",
       "    </tr>\n",
       "    <tr>\n",
       "      <th>47</th>\n",
       "      <td>10001884</td>\n",
       "      <td>26184834</td>\n",
       "      <td>37510196</td>\n",
       "      <td>2131-01-11 11:33:00</td>\n",
       "      <td>LACTATE</td>\n",
       "      <td>1.10</td>\n",
       "      <td>1.1</td>\n",
       "      <td>mmol/L</td>\n",
       "      <td>375101962131-01-11 11:33:00</td>\n",
       "      <td>2131-01-11 08:00:00</td>\n",
       "      <td>0 days 03:33:00</td>\n",
       "    </tr>\n",
       "    <tr>\n",
       "      <th>48</th>\n",
       "      <td>10001884</td>\n",
       "      <td>26184834</td>\n",
       "      <td>37510196</td>\n",
       "      <td>2131-01-11 11:33:00</td>\n",
       "      <td>PCO2</td>\n",
       "      <td>59.00</td>\n",
       "      <td>59</td>\n",
       "      <td>mm Hg</td>\n",
       "      <td>375101962131-01-11 11:33:00</td>\n",
       "      <td>2131-01-11 08:00:00</td>\n",
       "      <td>0 days 03:33:00</td>\n",
       "    </tr>\n",
       "    <tr>\n",
       "      <th>49</th>\n",
       "      <td>10001884</td>\n",
       "      <td>26184834</td>\n",
       "      <td>37510196</td>\n",
       "      <td>2131-01-11 11:33:00</td>\n",
       "      <td>PH</td>\n",
       "      <td>7.33</td>\n",
       "      <td>7.33</td>\n",
       "      <td>units</td>\n",
       "      <td>375101962131-01-11 11:33:00</td>\n",
       "      <td>2131-01-11 08:00:00</td>\n",
       "      <td>0 days 03:33:00</td>\n",
       "    </tr>\n",
       "    <tr>\n",
       "      <th>50</th>\n",
       "      <td>10001884</td>\n",
       "      <td>26184834</td>\n",
       "      <td>37510196</td>\n",
       "      <td>2131-01-11 11:33:00</td>\n",
       "      <td>PO2</td>\n",
       "      <td>40.00</td>\n",
       "      <td>___</td>\n",
       "      <td>mm Hg</td>\n",
       "      <td>375101962131-01-11 11:33:00</td>\n",
       "      <td>2131-01-11 08:00:00</td>\n",
       "      <td>0 days 03:33:00</td>\n",
       "    </tr>\n",
       "    <tr>\n",
       "      <th>...</th>\n",
       "      <td>...</td>\n",
       "      <td>...</td>\n",
       "      <td>...</td>\n",
       "      <td>...</td>\n",
       "      <td>...</td>\n",
       "      <td>...</td>\n",
       "      <td>...</td>\n",
       "      <td>...</td>\n",
       "      <td>...</td>\n",
       "      <td>...</td>\n",
       "      <td>...</td>\n",
       "    </tr>\n",
       "    <tr>\n",
       "      <th>2782800</th>\n",
       "      <td>19999840</td>\n",
       "      <td>21033226</td>\n",
       "      <td>38978960</td>\n",
       "      <td>2164-09-13 06:26:00</td>\n",
       "      <td>BASEEXCESS</td>\n",
       "      <td>4.00</td>\n",
       "      <td>4</td>\n",
       "      <td>mEq/L</td>\n",
       "      <td>389789602164-09-13 06:26:00</td>\n",
       "      <td>2164-09-12 20:00:00</td>\n",
       "      <td>0 days 10:26:00</td>\n",
       "    </tr>\n",
       "    <tr>\n",
       "      <th>2782801</th>\n",
       "      <td>19999840</td>\n",
       "      <td>21033226</td>\n",
       "      <td>38978960</td>\n",
       "      <td>2164-09-13 06:26:00</td>\n",
       "      <td>PCO2</td>\n",
       "      <td>37.00</td>\n",
       "      <td>37</td>\n",
       "      <td>mm Hg</td>\n",
       "      <td>389789602164-09-13 06:26:00</td>\n",
       "      <td>2164-09-12 20:00:00</td>\n",
       "      <td>0 days 10:26:00</td>\n",
       "    </tr>\n",
       "    <tr>\n",
       "      <th>2782802</th>\n",
       "      <td>19999840</td>\n",
       "      <td>21033226</td>\n",
       "      <td>38978960</td>\n",
       "      <td>2164-09-13 06:26:00</td>\n",
       "      <td>PH</td>\n",
       "      <td>7.50</td>\n",
       "      <td>7.50</td>\n",
       "      <td>units</td>\n",
       "      <td>389789602164-09-13 06:26:00</td>\n",
       "      <td>2164-09-12 20:00:00</td>\n",
       "      <td>0 days 10:26:00</td>\n",
       "    </tr>\n",
       "    <tr>\n",
       "      <th>2782803</th>\n",
       "      <td>19999840</td>\n",
       "      <td>21033226</td>\n",
       "      <td>38978960</td>\n",
       "      <td>2164-09-13 06:26:00</td>\n",
       "      <td>PO2</td>\n",
       "      <td>61.00</td>\n",
       "      <td>61</td>\n",
       "      <td>mm Hg</td>\n",
       "      <td>389789602164-09-13 06:26:00</td>\n",
       "      <td>2164-09-12 20:00:00</td>\n",
       "      <td>0 days 10:26:00</td>\n",
       "    </tr>\n",
       "    <tr>\n",
       "      <th>2782804</th>\n",
       "      <td>19999840</td>\n",
       "      <td>21033226</td>\n",
       "      <td>38978960</td>\n",
       "      <td>2164-09-13 06:26:00</td>\n",
       "      <td>TOTALCO2</td>\n",
       "      <td>30.00</td>\n",
       "      <td>30</td>\n",
       "      <td>mEq/L</td>\n",
       "      <td>389789602164-09-13 06:26:00</td>\n",
       "      <td>2164-09-12 20:00:00</td>\n",
       "      <td>0 days 10:26:00</td>\n",
       "    </tr>\n",
       "  </tbody>\n",
       "</table>\n",
       "<p>537332 rows × 11 columns</p>\n",
       "</div>"
      ],
      "text/plain": [
       "         subject_id   hadm_id   stay_id            charttime       label  \\\n",
       "46         10001884  26184834  37510196  2131-01-11 11:33:00  BASEEXCESS   \n",
       "47         10001884  26184834  37510196  2131-01-11 11:33:00     LACTATE   \n",
       "48         10001884  26184834  37510196  2131-01-11 11:33:00        PCO2   \n",
       "49         10001884  26184834  37510196  2131-01-11 11:33:00          PH   \n",
       "50         10001884  26184834  37510196  2131-01-11 11:33:00         PO2   \n",
       "...             ...       ...       ...                  ...         ...   \n",
       "2782800    19999840  21033226  38978960  2164-09-13 06:26:00  BASEEXCESS   \n",
       "2782801    19999840  21033226  38978960  2164-09-13 06:26:00        PCO2   \n",
       "2782802    19999840  21033226  38978960  2164-09-13 06:26:00          PH   \n",
       "2782803    19999840  21033226  38978960  2164-09-13 06:26:00         PO2   \n",
       "2782804    19999840  21033226  38978960  2164-09-13 06:26:00    TOTALCO2   \n",
       "\n",
       "         valuenum value     uom                   unique_var  \\\n",
       "46           2.00     2   mEq/L  375101962131-01-11 11:33:00   \n",
       "47           1.10   1.1  mmol/L  375101962131-01-11 11:33:00   \n",
       "48          59.00    59   mm Hg  375101962131-01-11 11:33:00   \n",
       "49           7.33  7.33   units  375101962131-01-11 11:33:00   \n",
       "50          40.00   ___   mm Hg  375101962131-01-11 11:33:00   \n",
       "...           ...   ...     ...                          ...   \n",
       "2782800      4.00     4   mEq/L  389789602164-09-13 06:26:00   \n",
       "2782801     37.00    37   mm Hg  389789602164-09-13 06:26:00   \n",
       "2782802      7.50  7.50   units  389789602164-09-13 06:26:00   \n",
       "2782803     61.00    61   mm Hg  389789602164-09-13 06:26:00   \n",
       "2782804     30.00    30   mEq/L  389789602164-09-13 06:26:00   \n",
       "\n",
       "                         t_0            delta  \n",
       "46       2131-01-11 08:00:00  0 days 03:33:00  \n",
       "47       2131-01-11 08:00:00  0 days 03:33:00  \n",
       "48       2131-01-11 08:00:00  0 days 03:33:00  \n",
       "49       2131-01-11 08:00:00  0 days 03:33:00  \n",
       "50       2131-01-11 08:00:00  0 days 03:33:00  \n",
       "...                      ...              ...  \n",
       "2782800  2164-09-12 20:00:00  0 days 10:26:00  \n",
       "2782801  2164-09-12 20:00:00  0 days 10:26:00  \n",
       "2782802  2164-09-12 20:00:00  0 days 10:26:00  \n",
       "2782803  2164-09-12 20:00:00  0 days 10:26:00  \n",
       "2782804  2164-09-12 20:00:00  0 days 10:26:00  \n",
       "\n",
       "[537332 rows x 11 columns]"
      ]
     },
     "execution_count": 214,
     "metadata": {},
     "output_type": "execute_result"
    },
    {
     "name": "stdout",
     "output_type": "stream",
     "text": [
      "time: 0 ns (started: 2023-07-26 19:08:25 +08:00)\n"
     ]
    }
   ],
   "source": [
    "dfs[bg_df]"
   ]
  },
  {
   "cell_type": "markdown",
   "metadata": {},
   "source": [
    "### splitting specimen out for vent vs non-vent bg data"
   ]
  },
  {
   "cell_type": "code",
   "execution_count": null,
   "metadata": {},
   "outputs": [],
   "source": [
    "#adding specimen tag to filter only arterial samples for vent data. \n",
    "specimen_df= dfs[bg_df].loc[dfs[bg_df].loc[:,'label']=='SPECIMEN',['unique_var','label','value']]#unique()\n",
    "specimen_df=specimen_df.rename(index=str, columns={'value':'specimen'})\n",
    "specimen_df=specimen_df.loc[specimen_df.loc[:,\"specimen\"]=='ART',:]\n",
    "\n",
    "dfs[bg_df]= pd.merge(dfs[bg_df],specimen_df[['unique_var','specimen']], left_on='unique_var', right_on='unique_var', how='left')\n",
    "bg_ART_nosummary=dfs[bg_df].loc[dfs[bg_df].loc[:,'specimen']=='ART',:].copy()\n",
    "del(specimen_df)\n",
    "#I guess mimiciv does not need this step"
   ]
  },
  {
   "cell_type": "code",
   "execution_count": 215,
   "metadata": {},
   "outputs": [
    {
     "name": "stdout",
     "output_type": "stream",
     "text": [
      "time: 0 ns (started: 2023-07-26 19:08:28 +08:00)\n"
     ]
    }
   ],
   "source": [
    "bg_labels=['PH','LACTATE','CALCIUM','TEMPERATURE','POTASSIUM',\n",
    "           'GLUCOSE','HEMOGLOBIN','SODIUM','CHLORIDE','BICARBONATE','FIO2']\n",
    "bg_vent_labels=['PCO2','PaO2','PO2','PEEP','O2FLOW']"
   ]
  },
  {
   "cell_type": "code",
   "execution_count": 216,
   "metadata": {},
   "outputs": [
    {
     "name": "stdout",
     "output_type": "stream",
     "text": [
      "time: 32 ms (started: 2023-07-26 19:08:29 +08:00)\n"
     ]
    }
   ],
   "source": [
    "bg_ART_nosummary= dfs[bg_df].loc[dfs[bg_df].loc[:,'label'].isin(bg_vent_labels),:]"
   ]
  },
  {
   "cell_type": "code",
   "execution_count": 217,
   "metadata": {},
   "outputs": [
    {
     "name": "stdout",
     "output_type": "stream",
     "text": [
      "time: 47 ms (started: 2023-07-26 19:08:32 +08:00)\n"
     ]
    }
   ],
   "source": [
    "#restricting to tests that were chosen to be analysed based on %missingness and clinical relevance\n",
    "dfs[bg_df]= dfs[bg_df].loc[dfs[bg_df].loc[:,'label'].isin(bg_labels),:]\n"
   ]
  },
  {
   "cell_type": "code",
   "execution_count": 218,
   "metadata": {},
   "outputs": [
    {
     "data": {
      "text/html": [
       "<div>\n",
       "<style scoped>\n",
       "    .dataframe tbody tr th:only-of-type {\n",
       "        vertical-align: middle;\n",
       "    }\n",
       "\n",
       "    .dataframe tbody tr th {\n",
       "        vertical-align: top;\n",
       "    }\n",
       "\n",
       "    .dataframe thead th {\n",
       "        text-align: right;\n",
       "    }\n",
       "</style>\n",
       "<table border=\"1\" class=\"dataframe\">\n",
       "  <thead>\n",
       "    <tr style=\"text-align: right;\">\n",
       "      <th></th>\n",
       "      <th>subject_id</th>\n",
       "      <th>hadm_id</th>\n",
       "      <th>stay_id</th>\n",
       "      <th>charttime</th>\n",
       "      <th>label</th>\n",
       "      <th>valuenum</th>\n",
       "      <th>value</th>\n",
       "      <th>uom</th>\n",
       "      <th>unique_var</th>\n",
       "      <th>t_0</th>\n",
       "      <th>delta</th>\n",
       "    </tr>\n",
       "  </thead>\n",
       "  <tbody>\n",
       "    <tr>\n",
       "      <th>47</th>\n",
       "      <td>10001884</td>\n",
       "      <td>26184834</td>\n",
       "      <td>37510196</td>\n",
       "      <td>2131-01-11 11:33:00</td>\n",
       "      <td>LACTATE</td>\n",
       "      <td>1.10</td>\n",
       "      <td>1.1</td>\n",
       "      <td>mmol/L</td>\n",
       "      <td>375101962131-01-11 11:33:00</td>\n",
       "      <td>2131-01-11 08:00:00</td>\n",
       "      <td>0 days 03:33:00</td>\n",
       "    </tr>\n",
       "    <tr>\n",
       "      <th>49</th>\n",
       "      <td>10001884</td>\n",
       "      <td>26184834</td>\n",
       "      <td>37510196</td>\n",
       "      <td>2131-01-11 11:33:00</td>\n",
       "      <td>PH</td>\n",
       "      <td>7.33</td>\n",
       "      <td>7.33</td>\n",
       "      <td>units</td>\n",
       "      <td>375101962131-01-11 11:33:00</td>\n",
       "      <td>2131-01-11 08:00:00</td>\n",
       "      <td>0 days 03:33:00</td>\n",
       "    </tr>\n",
       "    <tr>\n",
       "      <th>55</th>\n",
       "      <td>10001884</td>\n",
       "      <td>26184834</td>\n",
       "      <td>37510196</td>\n",
       "      <td>2131-01-11 14:48:00</td>\n",
       "      <td>PH</td>\n",
       "      <td>7.36</td>\n",
       "      <td>7.36</td>\n",
       "      <td>units</td>\n",
       "      <td>375101962131-01-11 14:48:00</td>\n",
       "      <td>2131-01-11 08:00:00</td>\n",
       "      <td>0 days 06:48:00</td>\n",
       "    </tr>\n",
       "    <tr>\n",
       "      <th>59</th>\n",
       "      <td>10001884</td>\n",
       "      <td>26184834</td>\n",
       "      <td>37510196</td>\n",
       "      <td>2131-01-11 22:21:00</td>\n",
       "      <td>FIO2</td>\n",
       "      <td>50.00</td>\n",
       "      <td>50</td>\n",
       "      <td>%</td>\n",
       "      <td>375101962131-01-11 22:21:00</td>\n",
       "      <td>2131-01-11 08:00:00</td>\n",
       "      <td>0 days 14:21:00</td>\n",
       "    </tr>\n",
       "    <tr>\n",
       "      <th>61</th>\n",
       "      <td>10001884</td>\n",
       "      <td>26184834</td>\n",
       "      <td>37510196</td>\n",
       "      <td>2131-01-11 22:21:00</td>\n",
       "      <td>PH</td>\n",
       "      <td>7.32</td>\n",
       "      <td>7.32</td>\n",
       "      <td>units</td>\n",
       "      <td>375101962131-01-11 22:21:00</td>\n",
       "      <td>2131-01-11 08:00:00</td>\n",
       "      <td>0 days 14:21:00</td>\n",
       "    </tr>\n",
       "    <tr>\n",
       "      <th>...</th>\n",
       "      <td>...</td>\n",
       "      <td>...</td>\n",
       "      <td>...</td>\n",
       "      <td>...</td>\n",
       "      <td>...</td>\n",
       "      <td>...</td>\n",
       "      <td>...</td>\n",
       "      <td>...</td>\n",
       "      <td>...</td>\n",
       "      <td>...</td>\n",
       "      <td>...</td>\n",
       "    </tr>\n",
       "    <tr>\n",
       "      <th>2782767</th>\n",
       "      <td>19999828</td>\n",
       "      <td>25744818</td>\n",
       "      <td>36075953</td>\n",
       "      <td>2149-01-08 20:04:00</td>\n",
       "      <td>PH</td>\n",
       "      <td>7.36</td>\n",
       "      <td>7.36</td>\n",
       "      <td>units</td>\n",
       "      <td>360759532149-01-08 20:04:00</td>\n",
       "      <td>2149-01-08 20:00:00</td>\n",
       "      <td>0 days 00:04:00</td>\n",
       "    </tr>\n",
       "    <tr>\n",
       "      <th>2782772</th>\n",
       "      <td>19999828</td>\n",
       "      <td>25744818</td>\n",
       "      <td>36075953</td>\n",
       "      <td>2149-01-09 14:22:00</td>\n",
       "      <td>PH</td>\n",
       "      <td>7.35</td>\n",
       "      <td>7.35</td>\n",
       "      <td>units</td>\n",
       "      <td>360759532149-01-09 14:22:00</td>\n",
       "      <td>2149-01-08 20:00:00</td>\n",
       "      <td>0 days 18:22:00</td>\n",
       "    </tr>\n",
       "    <tr>\n",
       "      <th>2782777</th>\n",
       "      <td>19999828</td>\n",
       "      <td>25744818</td>\n",
       "      <td>36075953</td>\n",
       "      <td>2149-01-09 19:58:00</td>\n",
       "      <td>PH</td>\n",
       "      <td>7.35</td>\n",
       "      <td>7.35</td>\n",
       "      <td>units</td>\n",
       "      <td>360759532149-01-09 19:58:00</td>\n",
       "      <td>2149-01-08 20:00:00</td>\n",
       "      <td>0 days 23:58:00</td>\n",
       "    </tr>\n",
       "    <tr>\n",
       "      <th>2782795</th>\n",
       "      <td>19999840</td>\n",
       "      <td>21033226</td>\n",
       "      <td>38978960</td>\n",
       "      <td>2164-09-13 02:49:00</td>\n",
       "      <td>PH</td>\n",
       "      <td>7.53</td>\n",
       "      <td>7.53</td>\n",
       "      <td>units</td>\n",
       "      <td>389789602164-09-13 02:49:00</td>\n",
       "      <td>2164-09-12 20:00:00</td>\n",
       "      <td>0 days 06:49:00</td>\n",
       "    </tr>\n",
       "    <tr>\n",
       "      <th>2782802</th>\n",
       "      <td>19999840</td>\n",
       "      <td>21033226</td>\n",
       "      <td>38978960</td>\n",
       "      <td>2164-09-13 06:26:00</td>\n",
       "      <td>PH</td>\n",
       "      <td>7.50</td>\n",
       "      <td>7.50</td>\n",
       "      <td>units</td>\n",
       "      <td>389789602164-09-13 06:26:00</td>\n",
       "      <td>2164-09-12 20:00:00</td>\n",
       "      <td>0 days 10:26:00</td>\n",
       "    </tr>\n",
       "  </tbody>\n",
       "</table>\n",
       "<p>220583 rows × 11 columns</p>\n",
       "</div>"
      ],
      "text/plain": [
       "         subject_id   hadm_id   stay_id            charttime    label  \\\n",
       "47         10001884  26184834  37510196  2131-01-11 11:33:00  LACTATE   \n",
       "49         10001884  26184834  37510196  2131-01-11 11:33:00       PH   \n",
       "55         10001884  26184834  37510196  2131-01-11 14:48:00       PH   \n",
       "59         10001884  26184834  37510196  2131-01-11 22:21:00     FIO2   \n",
       "61         10001884  26184834  37510196  2131-01-11 22:21:00       PH   \n",
       "...             ...       ...       ...                  ...      ...   \n",
       "2782767    19999828  25744818  36075953  2149-01-08 20:04:00       PH   \n",
       "2782772    19999828  25744818  36075953  2149-01-09 14:22:00       PH   \n",
       "2782777    19999828  25744818  36075953  2149-01-09 19:58:00       PH   \n",
       "2782795    19999840  21033226  38978960  2164-09-13 02:49:00       PH   \n",
       "2782802    19999840  21033226  38978960  2164-09-13 06:26:00       PH   \n",
       "\n",
       "         valuenum value     uom                   unique_var  \\\n",
       "47           1.10   1.1  mmol/L  375101962131-01-11 11:33:00   \n",
       "49           7.33  7.33   units  375101962131-01-11 11:33:00   \n",
       "55           7.36  7.36   units  375101962131-01-11 14:48:00   \n",
       "59          50.00    50       %  375101962131-01-11 22:21:00   \n",
       "61           7.32  7.32   units  375101962131-01-11 22:21:00   \n",
       "...           ...   ...     ...                          ...   \n",
       "2782767      7.36  7.36   units  360759532149-01-08 20:04:00   \n",
       "2782772      7.35  7.35   units  360759532149-01-09 14:22:00   \n",
       "2782777      7.35  7.35   units  360759532149-01-09 19:58:00   \n",
       "2782795      7.53  7.53   units  389789602164-09-13 02:49:00   \n",
       "2782802      7.50  7.50   units  389789602164-09-13 06:26:00   \n",
       "\n",
       "                         t_0            delta  \n",
       "47       2131-01-11 08:00:00  0 days 03:33:00  \n",
       "49       2131-01-11 08:00:00  0 days 03:33:00  \n",
       "55       2131-01-11 08:00:00  0 days 06:48:00  \n",
       "59       2131-01-11 08:00:00  0 days 14:21:00  \n",
       "61       2131-01-11 08:00:00  0 days 14:21:00  \n",
       "...                      ...              ...  \n",
       "2782767  2149-01-08 20:00:00  0 days 00:04:00  \n",
       "2782772  2149-01-08 20:00:00  0 days 18:22:00  \n",
       "2782777  2149-01-08 20:00:00  0 days 23:58:00  \n",
       "2782795  2164-09-12 20:00:00  0 days 06:49:00  \n",
       "2782802  2164-09-12 20:00:00  0 days 10:26:00  \n",
       "\n",
       "[220583 rows x 11 columns]"
      ]
     },
     "execution_count": 218,
     "metadata": {},
     "output_type": "execute_result"
    },
    {
     "name": "stdout",
     "output_type": "stream",
     "text": [
      "time: 15 ms (started: 2023-07-26 19:08:33 +08:00)\n"
     ]
    }
   ],
   "source": [
    "dfs[bg_df]"
   ]
  },
  {
   "cell_type": "code",
   "execution_count": 219,
   "metadata": {},
   "outputs": [
    {
     "data": {
      "text/html": [
       "<div>\n",
       "<style scoped>\n",
       "    .dataframe tbody tr th:only-of-type {\n",
       "        vertical-align: middle;\n",
       "    }\n",
       "\n",
       "    .dataframe tbody tr th {\n",
       "        vertical-align: top;\n",
       "    }\n",
       "\n",
       "    .dataframe thead th {\n",
       "        text-align: right;\n",
       "    }\n",
       "</style>\n",
       "<table border=\"1\" class=\"dataframe\">\n",
       "  <thead>\n",
       "    <tr style=\"text-align: right;\">\n",
       "      <th></th>\n",
       "      <th>subject_id</th>\n",
       "      <th>hadm_id</th>\n",
       "      <th>stay_id</th>\n",
       "      <th>charttime</th>\n",
       "      <th>label</th>\n",
       "      <th>valuenum</th>\n",
       "      <th>value</th>\n",
       "      <th>uom</th>\n",
       "      <th>unique_var</th>\n",
       "      <th>t_0</th>\n",
       "      <th>delta</th>\n",
       "    </tr>\n",
       "  </thead>\n",
       "  <tbody>\n",
       "    <tr>\n",
       "      <th>48</th>\n",
       "      <td>10001884</td>\n",
       "      <td>26184834</td>\n",
       "      <td>37510196</td>\n",
       "      <td>2131-01-11 11:33:00</td>\n",
       "      <td>PCO2</td>\n",
       "      <td>59.0</td>\n",
       "      <td>59</td>\n",
       "      <td>mm Hg</td>\n",
       "      <td>375101962131-01-11 11:33:00</td>\n",
       "      <td>2131-01-11 08:00:00</td>\n",
       "      <td>0 days 03:33:00</td>\n",
       "    </tr>\n",
       "    <tr>\n",
       "      <th>50</th>\n",
       "      <td>10001884</td>\n",
       "      <td>26184834</td>\n",
       "      <td>37510196</td>\n",
       "      <td>2131-01-11 11:33:00</td>\n",
       "      <td>PO2</td>\n",
       "      <td>40.0</td>\n",
       "      <td>___</td>\n",
       "      <td>mm Hg</td>\n",
       "      <td>375101962131-01-11 11:33:00</td>\n",
       "      <td>2131-01-11 08:00:00</td>\n",
       "      <td>0 days 03:33:00</td>\n",
       "    </tr>\n",
       "    <tr>\n",
       "      <th>54</th>\n",
       "      <td>10001884</td>\n",
       "      <td>26184834</td>\n",
       "      <td>37510196</td>\n",
       "      <td>2131-01-11 14:48:00</td>\n",
       "      <td>PCO2</td>\n",
       "      <td>64.0</td>\n",
       "      <td>___</td>\n",
       "      <td>mm Hg</td>\n",
       "      <td>375101962131-01-11 14:48:00</td>\n",
       "      <td>2131-01-11 08:00:00</td>\n",
       "      <td>0 days 06:48:00</td>\n",
       "    </tr>\n",
       "    <tr>\n",
       "      <th>56</th>\n",
       "      <td>10001884</td>\n",
       "      <td>26184834</td>\n",
       "      <td>37510196</td>\n",
       "      <td>2131-01-11 14:48:00</td>\n",
       "      <td>PO2</td>\n",
       "      <td>46.0</td>\n",
       "      <td>___</td>\n",
       "      <td>mm Hg</td>\n",
       "      <td>375101962131-01-11 14:48:00</td>\n",
       "      <td>2131-01-11 08:00:00</td>\n",
       "      <td>0 days 06:48:00</td>\n",
       "    </tr>\n",
       "    <tr>\n",
       "      <th>60</th>\n",
       "      <td>10001884</td>\n",
       "      <td>26184834</td>\n",
       "      <td>37510196</td>\n",
       "      <td>2131-01-11 22:21:00</td>\n",
       "      <td>PCO2</td>\n",
       "      <td>67.0</td>\n",
       "      <td>___</td>\n",
       "      <td>mm Hg</td>\n",
       "      <td>375101962131-01-11 22:21:00</td>\n",
       "      <td>2131-01-11 08:00:00</td>\n",
       "      <td>0 days 14:21:00</td>\n",
       "    </tr>\n",
       "    <tr>\n",
       "      <th>...</th>\n",
       "      <td>...</td>\n",
       "      <td>...</td>\n",
       "      <td>...</td>\n",
       "      <td>...</td>\n",
       "      <td>...</td>\n",
       "      <td>...</td>\n",
       "      <td>...</td>\n",
       "      <td>...</td>\n",
       "      <td>...</td>\n",
       "      <td>...</td>\n",
       "      <td>...</td>\n",
       "    </tr>\n",
       "    <tr>\n",
       "      <th>2782793</th>\n",
       "      <td>19999840</td>\n",
       "      <td>21033226</td>\n",
       "      <td>38978960</td>\n",
       "      <td>2164-09-13 02:49:00</td>\n",
       "      <td>PCO2</td>\n",
       "      <td>32.0</td>\n",
       "      <td>32</td>\n",
       "      <td>mm Hg</td>\n",
       "      <td>389789602164-09-13 02:49:00</td>\n",
       "      <td>2164-09-12 20:00:00</td>\n",
       "      <td>0 days 06:49:00</td>\n",
       "    </tr>\n",
       "    <tr>\n",
       "      <th>2782794</th>\n",
       "      <td>19999840</td>\n",
       "      <td>21033226</td>\n",
       "      <td>38978960</td>\n",
       "      <td>2164-09-13 02:49:00</td>\n",
       "      <td>PEEP</td>\n",
       "      <td>5.0</td>\n",
       "      <td>5</td>\n",
       "      <td>NaN</td>\n",
       "      <td>389789602164-09-13 02:49:00</td>\n",
       "      <td>2164-09-12 20:00:00</td>\n",
       "      <td>0 days 06:49:00</td>\n",
       "    </tr>\n",
       "    <tr>\n",
       "      <th>2782796</th>\n",
       "      <td>19999840</td>\n",
       "      <td>21033226</td>\n",
       "      <td>38978960</td>\n",
       "      <td>2164-09-13 02:49:00</td>\n",
       "      <td>PO2</td>\n",
       "      <td>86.0</td>\n",
       "      <td>86</td>\n",
       "      <td>mm Hg</td>\n",
       "      <td>389789602164-09-13 02:49:00</td>\n",
       "      <td>2164-09-12 20:00:00</td>\n",
       "      <td>0 days 06:49:00</td>\n",
       "    </tr>\n",
       "    <tr>\n",
       "      <th>2782801</th>\n",
       "      <td>19999840</td>\n",
       "      <td>21033226</td>\n",
       "      <td>38978960</td>\n",
       "      <td>2164-09-13 06:26:00</td>\n",
       "      <td>PCO2</td>\n",
       "      <td>37.0</td>\n",
       "      <td>37</td>\n",
       "      <td>mm Hg</td>\n",
       "      <td>389789602164-09-13 06:26:00</td>\n",
       "      <td>2164-09-12 20:00:00</td>\n",
       "      <td>0 days 10:26:00</td>\n",
       "    </tr>\n",
       "    <tr>\n",
       "      <th>2782803</th>\n",
       "      <td>19999840</td>\n",
       "      <td>21033226</td>\n",
       "      <td>38978960</td>\n",
       "      <td>2164-09-13 06:26:00</td>\n",
       "      <td>PO2</td>\n",
       "      <td>61.0</td>\n",
       "      <td>61</td>\n",
       "      <td>mm Hg</td>\n",
       "      <td>389789602164-09-13 06:26:00</td>\n",
       "      <td>2164-09-12 20:00:00</td>\n",
       "      <td>0 days 10:26:00</td>\n",
       "    </tr>\n",
       "  </tbody>\n",
       "</table>\n",
       "<p>127678 rows × 11 columns</p>\n",
       "</div>"
      ],
      "text/plain": [
       "         subject_id   hadm_id   stay_id            charttime label  valuenum  \\\n",
       "48         10001884  26184834  37510196  2131-01-11 11:33:00  PCO2      59.0   \n",
       "50         10001884  26184834  37510196  2131-01-11 11:33:00   PO2      40.0   \n",
       "54         10001884  26184834  37510196  2131-01-11 14:48:00  PCO2      64.0   \n",
       "56         10001884  26184834  37510196  2131-01-11 14:48:00   PO2      46.0   \n",
       "60         10001884  26184834  37510196  2131-01-11 22:21:00  PCO2      67.0   \n",
       "...             ...       ...       ...                  ...   ...       ...   \n",
       "2782793    19999840  21033226  38978960  2164-09-13 02:49:00  PCO2      32.0   \n",
       "2782794    19999840  21033226  38978960  2164-09-13 02:49:00  PEEP       5.0   \n",
       "2782796    19999840  21033226  38978960  2164-09-13 02:49:00   PO2      86.0   \n",
       "2782801    19999840  21033226  38978960  2164-09-13 06:26:00  PCO2      37.0   \n",
       "2782803    19999840  21033226  38978960  2164-09-13 06:26:00   PO2      61.0   \n",
       "\n",
       "        value    uom                   unique_var                  t_0  \\\n",
       "48         59  mm Hg  375101962131-01-11 11:33:00  2131-01-11 08:00:00   \n",
       "50        ___  mm Hg  375101962131-01-11 11:33:00  2131-01-11 08:00:00   \n",
       "54        ___  mm Hg  375101962131-01-11 14:48:00  2131-01-11 08:00:00   \n",
       "56        ___  mm Hg  375101962131-01-11 14:48:00  2131-01-11 08:00:00   \n",
       "60        ___  mm Hg  375101962131-01-11 22:21:00  2131-01-11 08:00:00   \n",
       "...       ...    ...                          ...                  ...   \n",
       "2782793    32  mm Hg  389789602164-09-13 02:49:00  2164-09-12 20:00:00   \n",
       "2782794     5    NaN  389789602164-09-13 02:49:00  2164-09-12 20:00:00   \n",
       "2782796    86  mm Hg  389789602164-09-13 02:49:00  2164-09-12 20:00:00   \n",
       "2782801    37  mm Hg  389789602164-09-13 06:26:00  2164-09-12 20:00:00   \n",
       "2782803    61  mm Hg  389789602164-09-13 06:26:00  2164-09-12 20:00:00   \n",
       "\n",
       "                   delta  \n",
       "48       0 days 03:33:00  \n",
       "50       0 days 03:33:00  \n",
       "54       0 days 06:48:00  \n",
       "56       0 days 06:48:00  \n",
       "60       0 days 14:21:00  \n",
       "...                  ...  \n",
       "2782793  0 days 06:49:00  \n",
       "2782794  0 days 06:49:00  \n",
       "2782796  0 days 06:49:00  \n",
       "2782801  0 days 10:26:00  \n",
       "2782803  0 days 10:26:00  \n",
       "\n",
       "[127678 rows x 11 columns]"
      ]
     },
     "execution_count": 219,
     "metadata": {},
     "output_type": "execute_result"
    },
    {
     "name": "stdout",
     "output_type": "stream",
     "text": [
      "time: 15 ms (started: 2023-07-26 19:08:41 +08:00)\n"
     ]
    }
   ],
   "source": [
    "bg_ART_nosummary"
   ]
  },
  {
   "cell_type": "code",
   "execution_count": 220,
   "metadata": {},
   "outputs": [
    {
     "name": "stdout",
     "output_type": "stream",
     "text": [
      "time: 0 ns (started: 2023-07-26 19:08:44 +08:00)\n"
     ]
    }
   ],
   "source": [
    "bg_col=['subject_id','hadm_id','stay_id','charttime','delta',time_var,'label','valuenum','uom']\n",
    "dfs[bg_df]= dfs[bg_df][bg_col]"
   ]
  },
  {
   "cell_type": "code",
   "execution_count": 221,
   "metadata": {},
   "outputs": [
    {
     "name": "stdout",
     "output_type": "stream",
     "text": [
      "time: 0 ns (started: 2023-07-26 19:08:46 +08:00)\n"
     ]
    }
   ],
   "source": [
    "bg_ART_nosummary= bg_ART_nosummary[bg_col]"
   ]
  },
  {
   "cell_type": "code",
   "execution_count": 222,
   "metadata": {},
   "outputs": [
    {
     "name": "stdout",
     "output_type": "stream",
     "text": [
      "time: 0 ns (started: 2023-07-26 19:08:47 +08:00)\n"
     ]
    }
   ],
   "source": [
    "del(bg_col)"
   ]
  },
  {
   "cell_type": "code",
   "execution_count": 223,
   "metadata": {},
   "outputs": [
    {
     "data": {
      "text/plain": [
       "array(['LACTATE', 'PH', 'FIO2', 'TEMPERATURE', 'CALCIUM', 'HEMOGLOBIN',\n",
       "       'GLUCOSE', 'CHLORIDE', 'POTASSIUM', 'SODIUM', 'BICARBONATE'],\n",
       "      dtype=object)"
      ]
     },
     "execution_count": 223,
     "metadata": {},
     "output_type": "execute_result"
    },
    {
     "name": "stdout",
     "output_type": "stream",
     "text": [
      "time: 15 ms (started: 2023-07-26 19:08:48 +08:00)\n"
     ]
    }
   ],
   "source": [
    "dfs[bg_df]['label'].unique()"
   ]
  },
  {
   "cell_type": "code",
   "execution_count": 224,
   "metadata": {},
   "outputs": [
    {
     "data": {
      "text/plain": [
       "array(['PCO2', 'PO2', 'PEEP', 'O2FLOW'], dtype=object)"
      ]
     },
     "execution_count": 224,
     "metadata": {},
     "output_type": "execute_result"
    },
    {
     "name": "stdout",
     "output_type": "stream",
     "text": [
      "time: 0 ns (started: 2023-07-26 19:08:50 +08:00)\n"
     ]
    }
   ],
   "source": [
    "bg_ART_nosummary['label'].unique()"
   ]
  },
  {
   "cell_type": "code",
   "execution_count": 89,
   "metadata": {},
   "outputs": [
    {
     "name": "stdout",
     "output_type": "stream",
     "text": [
      "time: 563 µs\n"
     ]
    }
   ],
   "source": [
    "##quickly investingating o2flow"
   ]
  },
  {
   "cell_type": "code",
   "execution_count": 225,
   "metadata": {},
   "outputs": [
    {
     "name": "stdout",
     "output_type": "stream",
     "text": [
      "time: 0 ns (started: 2023-07-26 19:09:01 +08:00)\n"
     ]
    }
   ],
   "source": [
    "o2_pt= list(dfs[vent_df].loc[dfs[vent_df].loc[:,'value']=='Oxygen','stay_id'].unique())\n",
    "\n",
    "#o2_pt= list(ventcategory_1day_df.loc[ventcategory_1day_df.loc[:,'value']=='Oxygen','stay_id'].unique())"
   ]
  },
  {
   "cell_type": "code",
   "execution_count": 226,
   "metadata": {},
   "outputs": [
    {
     "data": {
      "text/html": [
       "<div>\n",
       "<style scoped>\n",
       "    .dataframe tbody tr th:only-of-type {\n",
       "        vertical-align: middle;\n",
       "    }\n",
       "\n",
       "    .dataframe tbody tr th {\n",
       "        vertical-align: top;\n",
       "    }\n",
       "\n",
       "    .dataframe thead th {\n",
       "        text-align: right;\n",
       "    }\n",
       "</style>\n",
       "<table border=\"1\" class=\"dataframe\">\n",
       "  <thead>\n",
       "    <tr style=\"text-align: right;\">\n",
       "      <th></th>\n",
       "      <th>subject_id</th>\n",
       "      <th>hadm_id</th>\n",
       "      <th>stay_id</th>\n",
       "      <th>charttime</th>\n",
       "      <th>delta</th>\n",
       "      <th>t_0</th>\n",
       "      <th>label</th>\n",
       "      <th>valuenum</th>\n",
       "      <th>uom</th>\n",
       "    </tr>\n",
       "  </thead>\n",
       "  <tbody>\n",
       "    <tr>\n",
       "      <th>1468</th>\n",
       "      <td>10005817</td>\n",
       "      <td>28661809</td>\n",
       "      <td>31316840</td>\n",
       "      <td>2135-01-04 15:31:00</td>\n",
       "      <td>0 days 10:31:00</td>\n",
       "      <td>2135-01-04 05:00:00</td>\n",
       "      <td>O2FLOW</td>\n",
       "      <td>10.0</td>\n",
       "      <td>L/min</td>\n",
       "    </tr>\n",
       "    <tr>\n",
       "      <th>4244</th>\n",
       "      <td>10020306</td>\n",
       "      <td>23052851</td>\n",
       "      <td>38540883</td>\n",
       "      <td>2135-01-21 21:39:00</td>\n",
       "      <td>0 days 04:39:00</td>\n",
       "      <td>2135-01-21 17:00:00</td>\n",
       "      <td>O2FLOW</td>\n",
       "      <td>4.0</td>\n",
       "      <td>L/min</td>\n",
       "    </tr>\n",
       "    <tr>\n",
       "      <th>4253</th>\n",
       "      <td>10020306</td>\n",
       "      <td>23052851</td>\n",
       "      <td>38540883</td>\n",
       "      <td>2135-01-22 02:41:00</td>\n",
       "      <td>0 days 09:41:00</td>\n",
       "      <td>2135-01-21 17:00:00</td>\n",
       "      <td>O2FLOW</td>\n",
       "      <td>4.0</td>\n",
       "      <td>L/min</td>\n",
       "    </tr>\n",
       "    <tr>\n",
       "      <th>7927</th>\n",
       "      <td>10035168</td>\n",
       "      <td>25449821</td>\n",
       "      <td>39978210</td>\n",
       "      <td>2145-12-25 14:35:00</td>\n",
       "      <td>0 days 11:35:00</td>\n",
       "      <td>2145-12-25 03:00:00</td>\n",
       "      <td>O2FLOW</td>\n",
       "      <td>3.0</td>\n",
       "      <td>L/min</td>\n",
       "    </tr>\n",
       "    <tr>\n",
       "      <th>10119</th>\n",
       "      <td>10039708</td>\n",
       "      <td>28258130</td>\n",
       "      <td>33281088</td>\n",
       "      <td>2140-01-24 12:15:00</td>\n",
       "      <td>0 days 16:15:00</td>\n",
       "      <td>2140-01-23 20:00:00</td>\n",
       "      <td>O2FLOW</td>\n",
       "      <td>2.0</td>\n",
       "      <td>L/min</td>\n",
       "    </tr>\n",
       "    <tr>\n",
       "      <th>...</th>\n",
       "      <td>...</td>\n",
       "      <td>...</td>\n",
       "      <td>...</td>\n",
       "      <td>...</td>\n",
       "      <td>...</td>\n",
       "      <td>...</td>\n",
       "      <td>...</td>\n",
       "      <td>...</td>\n",
       "      <td>...</td>\n",
       "    </tr>\n",
       "    <tr>\n",
       "      <th>2749606</th>\n",
       "      <td>19882955</td>\n",
       "      <td>22092141</td>\n",
       "      <td>30779446</td>\n",
       "      <td>2194-09-05 01:33:00</td>\n",
       "      <td>0 days 00:33:00</td>\n",
       "      <td>2194-09-05 01:00:00</td>\n",
       "      <td>O2FLOW</td>\n",
       "      <td>2.0</td>\n",
       "      <td>L/min</td>\n",
       "    </tr>\n",
       "    <tr>\n",
       "      <th>2751848</th>\n",
       "      <td>19891107</td>\n",
       "      <td>26303115</td>\n",
       "      <td>36218320</td>\n",
       "      <td>2131-06-25 13:32:00</td>\n",
       "      <td>0 days 05:32:00</td>\n",
       "      <td>2131-06-25 08:00:00</td>\n",
       "      <td>O2FLOW</td>\n",
       "      <td>6.0</td>\n",
       "      <td>L/min</td>\n",
       "    </tr>\n",
       "    <tr>\n",
       "      <th>2753419</th>\n",
       "      <td>19899954</td>\n",
       "      <td>28627517</td>\n",
       "      <td>39480480</td>\n",
       "      <td>2115-02-07 07:14:00</td>\n",
       "      <td>0 days 06:14:00</td>\n",
       "      <td>2115-02-07 01:00:00</td>\n",
       "      <td>O2FLOW</td>\n",
       "      <td>2.0</td>\n",
       "      <td>L/min</td>\n",
       "    </tr>\n",
       "    <tr>\n",
       "      <th>2754336</th>\n",
       "      <td>19907884</td>\n",
       "      <td>20726042</td>\n",
       "      <td>35690576</td>\n",
       "      <td>2181-08-17 20:22:00</td>\n",
       "      <td>0 days 18:22:00</td>\n",
       "      <td>2181-08-17 02:00:00</td>\n",
       "      <td>O2FLOW</td>\n",
       "      <td>2.0</td>\n",
       "      <td>L/min</td>\n",
       "    </tr>\n",
       "    <tr>\n",
       "      <th>2778827</th>\n",
       "      <td>19987071</td>\n",
       "      <td>22919294</td>\n",
       "      <td>33385977</td>\n",
       "      <td>2113-12-28 03:40:00</td>\n",
       "      <td>0 days 04:40:00</td>\n",
       "      <td>2113-12-27 23:00:00</td>\n",
       "      <td>O2FLOW</td>\n",
       "      <td>3.0</td>\n",
       "      <td>L/min</td>\n",
       "    </tr>\n",
       "  </tbody>\n",
       "</table>\n",
       "<p>689 rows × 9 columns</p>\n",
       "</div>"
      ],
      "text/plain": [
       "         subject_id   hadm_id   stay_id            charttime            delta  \\\n",
       "1468       10005817  28661809  31316840  2135-01-04 15:31:00  0 days 10:31:00   \n",
       "4244       10020306  23052851  38540883  2135-01-21 21:39:00  0 days 04:39:00   \n",
       "4253       10020306  23052851  38540883  2135-01-22 02:41:00  0 days 09:41:00   \n",
       "7927       10035168  25449821  39978210  2145-12-25 14:35:00  0 days 11:35:00   \n",
       "10119      10039708  28258130  33281088  2140-01-24 12:15:00  0 days 16:15:00   \n",
       "...             ...       ...       ...                  ...              ...   \n",
       "2749606    19882955  22092141  30779446  2194-09-05 01:33:00  0 days 00:33:00   \n",
       "2751848    19891107  26303115  36218320  2131-06-25 13:32:00  0 days 05:32:00   \n",
       "2753419    19899954  28627517  39480480  2115-02-07 07:14:00  0 days 06:14:00   \n",
       "2754336    19907884  20726042  35690576  2181-08-17 20:22:00  0 days 18:22:00   \n",
       "2778827    19987071  22919294  33385977  2113-12-28 03:40:00  0 days 04:40:00   \n",
       "\n",
       "                         t_0   label  valuenum    uom  \n",
       "1468     2135-01-04 05:00:00  O2FLOW      10.0  L/min  \n",
       "4244     2135-01-21 17:00:00  O2FLOW       4.0  L/min  \n",
       "4253     2135-01-21 17:00:00  O2FLOW       4.0  L/min  \n",
       "7927     2145-12-25 03:00:00  O2FLOW       3.0  L/min  \n",
       "10119    2140-01-23 20:00:00  O2FLOW       2.0  L/min  \n",
       "...                      ...     ...       ...    ...  \n",
       "2749606  2194-09-05 01:00:00  O2FLOW       2.0  L/min  \n",
       "2751848  2131-06-25 08:00:00  O2FLOW       6.0  L/min  \n",
       "2753419  2115-02-07 01:00:00  O2FLOW       2.0  L/min  \n",
       "2754336  2181-08-17 02:00:00  O2FLOW       2.0  L/min  \n",
       "2778827  2113-12-27 23:00:00  O2FLOW       3.0  L/min  \n",
       "\n",
       "[689 rows x 9 columns]"
      ]
     },
     "execution_count": 226,
     "metadata": {},
     "output_type": "execute_result"
    },
    {
     "name": "stdout",
     "output_type": "stream",
     "text": [
      "time: 31 ms (started: 2023-07-26 19:09:11 +08:00)\n"
     ]
    }
   ],
   "source": [
    "bg_ART_nosummary.loc[bg_ART_nosummary.loc[:,'label']=='O2FLOW',:]\n",
    "#bg_ART_nosummary.loc[bg_ART_nosummary.loc[:,'stay_id']==217847,:]\n",
    "bg_ART_nosummary.loc[(bg_ART_nosummary.loc[:,'label']=='O2FLOW') & (bg_ART_nosummary.loc[:,'stay_id'].isin(o2_pt)),:]\n"
   ]
  },
  {
   "cell_type": "code",
   "execution_count": 92,
   "metadata": {},
   "outputs": [
    {
     "name": "stdout",
     "output_type": "stream",
     "text": [
      "time: 812 µs\n"
     ]
    }
   ],
   "source": [
    "#dfs[vent_df].loc[dfs[vent_df].loc[:,'stay_id']==217847,:]\n"
   ]
  },
  {
   "cell_type": "code",
   "execution_count": 227,
   "metadata": {},
   "outputs": [
    {
     "name": "stdout",
     "output_type": "stream",
     "text": [
      "time: 141 ms (started: 2023-07-26 19:09:16 +08:00)\n"
     ]
    }
   ],
   "source": [
    "#converting O2 to y/n\n",
    "o2_flow_df= bg_ART_nosummary.loc[bg_ART_nosummary.loc[:,'label']=='O2FLOW',:]\n",
    "o2_flow_df=o2_flow_df.rename(index=str, columns={'valuenum':'value'})\n",
    "o2_flow_df= yn_convert(o2_flow_df, label_fill='o2_flow', time_var=time_var)\n",
    "o2_flow_df['label']=\"o2_flow\" #fixing label\n",
    "\n",
    "#removing o2_flow from bg_ART\n",
    "bg_ART_nosummary= bg_ART_nosummary.loc[bg_ART_nosummary.loc[:,'label']!='O2FLOW',:]"
   ]
  },
  {
   "cell_type": "code",
   "execution_count": 228,
   "metadata": {},
   "outputs": [
    {
     "name": "stdout",
     "output_type": "stream",
     "text": [
      "time: 31 ms (started: 2023-07-26 19:09:18 +08:00)\n"
     ]
    }
   ],
   "source": [
    "bg_ART_nosummary= bg_ART_nosummary.loc[bg_ART_nosummary.loc[:,'label']!='PEEP',:]"
   ]
  },
  {
   "cell_type": "markdown",
   "metadata": {},
   "source": [
    "## PaO2:FiO2\n",
    "* PaO2: measurement of oxygen pressure in arterial blood\n",
    "* FiO2: % of oxygen in the air a patient is breathing. in normal air this is 21% oxygen\n",
    "* SpO2: Peripheral capillary oxygen saturation, estimate of the amount of oxygen in the blood. this is % of oxygenated haemoglobin compared to total haemoglobin"
   ]
  },
  {
   "cell_type": "markdown",
   "metadata": {},
   "source": [
    "***requirements: run vitals, ventilation before this to get spo2 & ventilation category.\n",
    "I would modify the criteria to be more strict:\n",
    "* first isolate patients on mech ventilation: these are only patients we calc P:F for\n",
    "* find PaO2:\n",
    "    * if no PaO2:\n",
    "     * find SpO2 <=97 --> ~PaO2\n",
    "       * SpO2 to estimate and PaO2 equivalent via the equation used by Knox et al to convert to PaO2-equivalent.\n",
    "* once have all PaO2 and estimated PaO2:\n",
    " * find last measured fio2 between t- 6hours :t, where t= time of PaO2  \n",
    "* impute P:F= 476 for every other stay_id. \n",
    "* Use P:F as a continuous value unless there is a clear need to bucket, and if so use <100,100-200, 200-300, >300"
   ]
  },
  {
   "cell_type": "markdown",
   "metadata": {},
   "source": [
    "##### first isolate patients who had mech or oxygen ventilation during their N hours\n",
    "these are only patients we calc P:F for"
   ]
  },
  {
   "cell_type": "markdown",
   "metadata": {},
   "source": [
    "first, filter pao2 and fio2 to only icustay who have ventilation (pf_ratio_icu)"
   ]
  },
  {
   "cell_type": "code",
   "execution_count": 229,
   "metadata": {},
   "outputs": [
    {
     "name": "stdout",
     "output_type": "stream",
     "text": [
      "time: 16 ms (started: 2023-07-26 19:09:22 +08:00)\n"
     ]
    }
   ],
   "source": [
    "vent_icu=list(ventcategory_1day_df[ventcategory_1day_df['value'].isin(['Mech'])]['stay_id'].unique())"
   ]
  },
  {
   "cell_type": "markdown",
   "metadata": {},
   "source": [
    "next isolate the pao2 and fio2 from the bg arterial dataframe. \n",
    " * pao2: all pao2 measurements in cohort -> pao2 measurements for icustay with ventilation\n",
    " * fio2: all fio2 measurements (chartevents) in cohort -> fio2 measurements for icustay with ventilation"
   ]
  },
  {
   "cell_type": "code",
   "execution_count": 230,
   "metadata": {},
   "outputs": [
    {
     "name": "stdout",
     "output_type": "stream",
     "text": [
      "time: 219 ms (started: 2023-07-26 19:09:27 +08:00)\n"
     ]
    }
   ],
   "source": [
    "#using bloodgas\n",
    "\n",
    "fio2_chart_df['delta']=pd.to_timedelta(fio2_chart_df['delta'])\n",
    "fio2_chart_df= fio2_chart_df[fio2_chart_df['value'].notnull()].copy()\n",
    "\n",
    "pao2= bg_ART_nosummary.loc[bg_ART_nosummary.loc[:,'label']=='PaO2',:].copy() \n",
    "pao2.rename(index=str, columns={'valuenum':'value'}, inplace=True)\n",
    "pao2_vent= pao2[pao2.loc[:,'stay_id'].isin(vent_icu)].copy()\n",
    "pao2_vent['delta']=pd.to_timedelta(pao2_vent['delta']).copy()\n",
    "pao2_vent= pao2_vent[pao2_vent['value'].notnull()] #removing some null rows"
   ]
  },
  {
   "cell_type": "code",
   "execution_count": 242,
   "metadata": {},
   "outputs": [
    {
     "data": {
      "text/html": [
       "<div>\n",
       "<style scoped>\n",
       "    .dataframe tbody tr th:only-of-type {\n",
       "        vertical-align: middle;\n",
       "    }\n",
       "\n",
       "    .dataframe tbody tr th {\n",
       "        vertical-align: top;\n",
       "    }\n",
       "\n",
       "    .dataframe thead th {\n",
       "        text-align: right;\n",
       "    }\n",
       "</style>\n",
       "<table border=\"1\" class=\"dataframe\">\n",
       "  <thead>\n",
       "    <tr style=\"text-align: right;\">\n",
       "      <th></th>\n",
       "      <th>subject_id</th>\n",
       "      <th>hadm_id</th>\n",
       "      <th>stay_id</th>\n",
       "      <th>charttime</th>\n",
       "      <th>delta</th>\n",
       "      <th>t_0</th>\n",
       "      <th>label</th>\n",
       "      <th>value</th>\n",
       "      <th>uom</th>\n",
       "    </tr>\n",
       "  </thead>\n",
       "  <tbody>\n",
       "  </tbody>\n",
       "</table>\n",
       "</div>"
      ],
      "text/plain": [
       "Empty DataFrame\n",
       "Columns: [subject_id, hadm_id, stay_id, charttime, delta, t_0, label, value, uom]\n",
       "Index: []"
      ]
     },
     "execution_count": 242,
     "metadata": {},
     "output_type": "execute_result"
    },
    {
     "name": "stdout",
     "output_type": "stream",
     "text": [
      "time: 16 ms (started: 2023-07-26 19:12:34 +08:00)\n"
     ]
    }
   ],
   "source": [
    "pao2"
   ]
  },
  {
   "cell_type": "markdown",
   "metadata": {},
   "source": [
    "##### next: find patients with ventilation but no PaO2 and collect their SpO2 values"
   ]
  },
  {
   "cell_type": "code",
   "execution_count": 231,
   "metadata": {},
   "outputs": [
    {
     "name": "stdout",
     "output_type": "stream",
     "text": [
      "time: 31 ms (started: 2023-07-26 19:09:31 +08:00)\n"
     ]
    }
   ],
   "source": [
    "# pao2_icu: stay_id for pao2 with vent\n",
    "pao2_icu= list(pao2_vent['stay_id'].unique())\n",
    "\n",
    "# find people with ventilation but no PaO2 measured (ie those who need it approximatd)\n",
    "vent_but_no_pao2_icu=set(vent_icu).difference(set(pao2_icu))\n",
    "\n",
    "## if on vent but no PaO2, then use SpO2 (if 97 or less) -> estimate PaO2 via equation below\n",
    "spo2_filtered= spo2[(spo2['stay_id'].isin(vent_but_no_pao2_icu)) &\n",
    "                    (spo2['value']<=97.0)]"
   ]
  },
  {
   "cell_type": "code",
   "execution_count": 232,
   "metadata": {},
   "outputs": [
    {
     "name": "stdout",
     "output_type": "stream",
     "text": [
      "total icustay: 26471 \n",
      " mech during their 72 hours of clinical data:  12330 \n",
      "    -pao2, +vent:  0 \n",
      "    +fio2, +vent:  12185 \n",
      " + vent, - pao2:  12330 \n",
      " +fio2, +vent, -pao2:  12185 \n",
      "\n",
      "time: 31 ms (started: 2023-07-26 19:09:35 +08:00)\n"
     ]
    }
   ],
   "source": [
    "##quick qc output\n",
    "print(\n",
    "    \"total icustay:\",  len(stay_id), '\\n',\n",
    "    'mech during their 72 hours of clinical data: ',  len(vent_icu), '\\n',\n",
    "    '   -pao2, +vent: ',  pao2_vent['stay_id'].nunique(), '\\n',\n",
    "    '   +fio2, +vent: ',  fio2_chart_df[fio2_chart_df['stay_id'].isin(vent_icu)]['stay_id'].nunique(), '\\n',\n",
    "    \n",
    "    '+ vent, - pao2: ',  len(vent_but_no_pao2_icu), '\\n',\n",
    "    '+fio2, +vent, -pao2: ',  fio2_chart_df[fio2_chart_df['stay_id'].isin(vent_but_no_pao2_icu)]['stay_id'].nunique(), '\\n',\n",
    ")"
   ]
  },
  {
   "cell_type": "markdown",
   "metadata": {},
   "source": [
    "##### next: estimate PaO2 using SpO2 for patients who have ventilation but no PaO2 measurement \n",
    "$$\\text{Ellis Severinghaus inversion}: PaO2_{estimate} =\\sqrt[3]{\\frac{1}{2} (-y_N + \\sqrt{y_N^2 -h^2})} + \\sqrt[3]{\\frac{1}{2} (-y_N - \\sqrt{y_N^2 -h^2})}$$\n",
    "\n",
    "$$ \\begin{cases} \n",
    "      h^2 =-500000 \\\\\n",
    "      y_N = -23400 * \\frac{s}{1-s} \\\\\n",
    "   \\end{cases}\n",
    "$$\n",
    "* s is the fractional oxygen saturation (0–1) and p is the associated oxygen tension in mm Hg. \n",
    "* qc: when s=0.5, p=26.856\n",
    "* equation source: http://www.nickalls.org/dick/papers/anes/severinghaus.pdf\n"
   ]
  },
  {
   "cell_type": "code",
   "execution_count": 243,
   "metadata": {},
   "outputs": [
    {
     "name": "stdout",
     "output_type": "stream",
     "text": [
      "time: 0 ns (started: 2023-07-26 19:13:57 +08:00)\n"
     ]
    }
   ],
   "source": [
    "def Ellis_SpO2(S):\n",
    "    \"\"\"\n",
    "    ellis inversion equation to approximate PaO2 from SpO2. \n",
    "    where s is the fractional oxygen saturation (SpO2) (0–1) and p is the associated oxygen tension in mm Hg (PaO2). \n",
    "    \"\"\"\n",
    "    if S >1 and S<100:\n",
    "        S=S/100.\n",
    "    elif S==1:\n",
    "        S=0.9999\n",
    "    elif S>0 and S<1:\n",
    "        pass\n",
    "\n",
    "    h2= -500000.\n",
    "    yn= -23400. * (S/(1.-S))\n",
    "\n",
    "    term1= np.sqrt(np.power(yn,2.) - h2)\n",
    "\n",
    "    term2= 0.5*(-yn + term1)\n",
    "    term3= 0.5*(-yn - term1)\n",
    "\n",
    "    term4= np.sign(term2) * np.abs(term2)**(1/3)\n",
    "    term5= np.sign(term3) * np.abs(term3)**(1/3)\n",
    "    p= term4+term5\n",
    "    return(p)\n",
    "    "
   ]
  },
  {
   "cell_type": "code",
   "execution_count": 244,
   "metadata": {},
   "outputs": [
    {
     "name": "stdout",
     "output_type": "stream",
     "text": [
      "time: 1.06 s (started: 2023-07-26 19:14:00 +08:00)\n"
     ]
    }
   ],
   "source": [
    "# approximating Pao2 from SpO2:\n",
    "\n",
    "## only usable for spo2 values <=97\n",
    "spo2_filtered= spo2[(spo2['stay_id'].isin(vent_but_no_pao2_icu)) &\n",
    "                    (spo2['value']<=97.0)]\n",
    "\n",
    "# run the Ellis_SpO2 to approx PaO2.\n",
    "spo2_filtered.loc[:,'value']= spo2_filtered.value.apply(Ellis_SpO2) #note this produces a false positive SettingWithCopyWarning\n",
    "\n",
    "spo2_filtered.loc[:,'label']='PaO2_estimate'\n",
    "spo2_filtered.loc[:,'uom']='mm Hg estimate'\n"
   ]
  },
  {
   "cell_type": "code",
   "execution_count": 246,
   "metadata": {},
   "outputs": [
    {
     "name": "stdout",
     "output_type": "stream",
     "text": [
      "time: 47 ms (started: 2023-07-26 19:14:09 +08:00)\n"
     ]
    }
   ],
   "source": [
    "#append the pao2 (for those with ventilation) and new approximated pao2 together\n",
    "pao2_appended=pao2_vent._append(spo2_filtered, sort=False).copy()"
   ]
  },
  {
   "cell_type": "markdown",
   "metadata": {},
   "source": [
    "* once have all PaO2 and estimated PaO2:\n",
    " * find fio2 measured between t- 6hours :t, where t= time of PaO2  \n",
    " * use most recent fio2 measure in this time?"
   ]
  },
  {
   "cell_type": "code",
   "execution_count": 247,
   "metadata": {},
   "outputs": [
    {
     "name": "stdout",
     "output_type": "stream",
     "text": [
      "time: 531 ms (started: 2023-07-26 19:14:11 +08:00)\n"
     ]
    }
   ],
   "source": [
    "#quick time conversion to make sure both in timedelta format\n",
    "pao2_appended['delta']=pd.to_timedelta(pao2_appended['delta'])\n",
    "pao2_appended['charttime']=pd.to_datetime(pao2_appended['charttime'])\n",
    "fio2_chart_df['delta']=pd.to_timedelta(fio2_chart_df['delta'])\n",
    "fio2_chart_df['charttime']=pd.to_datetime(fio2_chart_df['charttime'])\n",
    "fio2_chart_df['label']='fio2'\n",
    "\n",
    "#labeling all PaO2 (both measured and approx) with offset column= the delta time offset by the n hours of time we look back for Fio2 values\n",
    "pao2_appended['offset']=pao2_appended['charttime'] - pd.to_timedelta(6, unit='h') #find most recent in this. "
   ]
  },
  {
   "cell_type": "code",
   "execution_count": 248,
   "metadata": {},
   "outputs": [
    {
     "name": "stdout",
     "output_type": "stream",
     "text": [
      "time: 375 ms (started: 2023-07-26 19:14:13 +08:00)\n"
     ]
    }
   ],
   "source": [
    "#left cartesian product of pao2 and fio2 measurements. \n",
    "pao2_fio2_windowed= pd.merge(pao2_appended,\n",
    "              fio2_chart_df[['stay_id','value','label','charttime','delta']].rename(index=str, columns={'value':'value2','label':'label2','charttime':'charttime2','delta':'delta2'}),\n",
    "              left_on='stay_id',\n",
    "              right_on='stay_id',\n",
    "              how='left') \n",
    "\n",
    "##take this left cartesian product and filter to rows where charttime2 (ie fio2 time) is between t-6:t where t= time at pao2 measurement. \n",
    "#now this should be all Pao2 (real and estimated) and Fio2 combinations that \n",
    "pao2_fio2_windowed= pao2_fio2_windowed[pd.to_datetime(pao2_fio2_windowed['charttime2']).between(pd.to_datetime(pao2_fio2_windowed['offset']),pd.to_datetime(pao2_fio2_windowed['charttime']))]"
   ]
  },
  {
   "cell_type": "code",
   "execution_count": 249,
   "metadata": {},
   "outputs": [
    {
     "name": "stdout",
     "output_type": "stream",
     "text": [
      "time: 172 ms (started: 2023-07-26 19:14:14 +08:00)\n"
     ]
    }
   ],
   "source": [
    "## grabs the most recent FiO2 value for each associated PaO2 \n",
    "ratio_df= pao2_fio2_windowed.sort_values(['stay_id','charttime','charttime2'], ascending=[True,True, False]).drop_duplicates(['stay_id','charttime'],keep='first')"
   ]
  },
  {
   "cell_type": "code",
   "execution_count": 250,
   "metadata": {},
   "outputs": [
    {
     "name": "stdout",
     "output_type": "stream",
     "text": [
      "time: 31 ms (started: 2023-07-26 19:14:17 +08:00)\n"
     ]
    }
   ],
   "source": [
    "ratio_df.loc[ratio_df.loc[:,'value2'].isnull(),'value2']= 21 #impute 21 for FiO2 values that are missing (very few of them)\n",
    "ratio_df['ratio']= ratio_df['value']/(ratio_df['value2']/100) #calculate the ratio\n",
    "ratio_df.loc[ratio_df['charttime2'].isnull(),'charttime2']= ratio_df.loc[ratio_df['charttime2'].isnull(),'charttime']\n",
    "ratio_df['deltadelta']=pd.to_datetime(ratio_df['charttime'])-pd.to_datetime(ratio_df['charttime2'])"
   ]
  },
  {
   "cell_type": "code",
   "execution_count": 106,
   "metadata": {},
   "outputs": [
    {
     "name": "stdout",
     "output_type": "stream",
     "text": [
      "time: 1.1 ms\n"
     ]
    }
   ],
   "source": [
    "#optional qc\n",
    "# ratio_df.head()\n",
    "# ratio_df['ratio'].describe()\n",
    "# ratio_df[['stay_id','ratio']].groupby('stay_id')['ratio'].apply(max).describe()"
   ]
  },
  {
   "cell_type": "code",
   "execution_count": 251,
   "metadata": {},
   "outputs": [
    {
     "data": {
      "text/plain": [
       "26471"
      ]
     },
     "execution_count": 251,
     "metadata": {},
     "output_type": "execute_result"
    },
    {
     "name": "stdout",
     "output_type": "stream",
     "text": [
      "time: 110 ms (started: 2023-07-26 19:14:19 +08:00)\n"
     ]
    }
   ],
   "source": [
    "### making a copy of ratio_df, merging in all icustay's that are missing, and imputing datetime and value for them. \n",
    "ratio_df2= ratio_df.copy() # making sure all patients have a value\n",
    "ratio_df2= pd.merge(final_pt_df2[['subject_id','hadm_id','stay_id']], ratio_df2[['stay_id', 'ratio','delta','uom','label']].rename(index=str, columns={'ratio':'value'}), left_on='stay_id',right_on='stay_id', how='outer')\n",
    "\n",
    "ratio_df2['label']='pao2fio2ratio'\n",
    "ratio_df2['uom']='mm HG:%'\n",
    "ratio_df2.loc[ratio_df2['value'].isnull(),'value']=476\n",
    "ratio_df2.loc[ratio_df2['delta'].isnull(),'delta']=pd.to_timedelta('0 days')\n",
    "\n",
    "#should match the len(stay_id)\n",
    "ratio_df2['stay_id'].nunique()"
   ]
  },
  {
   "cell_type": "code",
   "execution_count": 252,
   "metadata": {},
   "outputs": [
    {
     "data": {
      "text/html": [
       "<div>\n",
       "<style scoped>\n",
       "    .dataframe tbody tr th:only-of-type {\n",
       "        vertical-align: middle;\n",
       "    }\n",
       "\n",
       "    .dataframe tbody tr th {\n",
       "        vertical-align: top;\n",
       "    }\n",
       "\n",
       "    .dataframe thead th {\n",
       "        text-align: right;\n",
       "    }\n",
       "</style>\n",
       "<table border=\"1\" class=\"dataframe\">\n",
       "  <thead>\n",
       "    <tr style=\"text-align: right;\">\n",
       "      <th></th>\n",
       "      <th>subject_id</th>\n",
       "      <th>hadm_id</th>\n",
       "      <th>stay_id</th>\n",
       "      <th>value</th>\n",
       "      <th>delta</th>\n",
       "      <th>uom</th>\n",
       "      <th>label</th>\n",
       "    </tr>\n",
       "  </thead>\n",
       "  <tbody>\n",
       "    <tr>\n",
       "      <th>0</th>\n",
       "      <td>10001884</td>\n",
       "      <td>26184834</td>\n",
       "      <td>37510196</td>\n",
       "      <td>117.310871</td>\n",
       "      <td>0 days 04:22:00</td>\n",
       "      <td>mm HG:%</td>\n",
       "      <td>pao2fio2ratio</td>\n",
       "    </tr>\n",
       "    <tr>\n",
       "      <th>1</th>\n",
       "      <td>10001884</td>\n",
       "      <td>26184834</td>\n",
       "      <td>37510196</td>\n",
       "      <td>113.100695</td>\n",
       "      <td>0 days 07:49:00</td>\n",
       "      <td>mm HG:%</td>\n",
       "      <td>pao2fio2ratio</td>\n",
       "    </tr>\n",
       "    <tr>\n",
       "      <th>2</th>\n",
       "      <td>10001884</td>\n",
       "      <td>26184834</td>\n",
       "      <td>37510196</td>\n",
       "      <td>127.573449</td>\n",
       "      <td>0 days 09:06:00</td>\n",
       "      <td>mm HG:%</td>\n",
       "      <td>pao2fio2ratio</td>\n",
       "    </tr>\n",
       "    <tr>\n",
       "      <th>3</th>\n",
       "      <td>10001884</td>\n",
       "      <td>26184834</td>\n",
       "      <td>37510196</td>\n",
       "      <td>181.146106</td>\n",
       "      <td>0 days 21:00:00</td>\n",
       "      <td>mm HG:%</td>\n",
       "      <td>pao2fio2ratio</td>\n",
       "    </tr>\n",
       "    <tr>\n",
       "      <th>4</th>\n",
       "      <td>10002155</td>\n",
       "      <td>23822395</td>\n",
       "      <td>33685454</td>\n",
       "      <td>476.000000</td>\n",
       "      <td>0 days 00:00:00</td>\n",
       "      <td>mm HG:%</td>\n",
       "      <td>pao2fio2ratio</td>\n",
       "    </tr>\n",
       "  </tbody>\n",
       "</table>\n",
       "</div>"
      ],
      "text/plain": [
       "   subject_id   hadm_id   stay_id       value           delta      uom  \\\n",
       "0    10001884  26184834  37510196  117.310871 0 days 04:22:00  mm HG:%   \n",
       "1    10001884  26184834  37510196  113.100695 0 days 07:49:00  mm HG:%   \n",
       "2    10001884  26184834  37510196  127.573449 0 days 09:06:00  mm HG:%   \n",
       "3    10001884  26184834  37510196  181.146106 0 days 21:00:00  mm HG:%   \n",
       "4    10002155  23822395  33685454  476.000000 0 days 00:00:00  mm HG:%   \n",
       "\n",
       "           label  \n",
       "0  pao2fio2ratio  \n",
       "1  pao2fio2ratio  \n",
       "2  pao2fio2ratio  \n",
       "3  pao2fio2ratio  \n",
       "4  pao2fio2ratio  "
      ]
     },
     "execution_count": 252,
     "metadata": {},
     "output_type": "execute_result"
    },
    {
     "name": "stdout",
     "output_type": "stream",
     "text": [
      "time: 0 ns (started: 2023-07-26 19:14:22 +08:00)\n"
     ]
    }
   ],
   "source": [
    "ratio_df2.head()"
   ]
  },
  {
   "cell_type": "markdown",
   "metadata": {},
   "source": [
    "# factorizing pco2 start "
   ]
  },
  {
   "cell_type": "code",
   "execution_count": 253,
   "metadata": {},
   "outputs": [
    {
     "name": "stdout",
     "output_type": "stream",
     "text": [
      "time: 0 ns (started: 2023-07-26 19:14:26 +08:00)\n"
     ]
    }
   ],
   "source": [
    "# yn_convert_band(max_bands, #df in format where each row corresponds to a test, and a patient can have many rows\n",
    "def yn_convert_pco2(df,           \n",
    "                    label_fill=\"absent\",\n",
    "                    threshold=10,\n",
    "                    pt= final_pt_df2,\n",
    "                    time_var='t_0',\n",
    "                    value_fill=9999,\n",
    "                    delta_fill=pd.to_timedelta('0 days'),\n",
    "                    uom_fill='y/n'):\n",
    "    \n",
    "    yn_df = pd.merge(pt[['stay_id','hadm_id','subject_id', time_var]],\n",
    "                      df[['stay_id','value','label','uom','delta']],\n",
    "                     left_on= 'stay_id',\n",
    "                     right_on= 'stay_id',\n",
    "                      how='left') #merging all stay_id's with time_var, where value,label,uom, and delta are nan's if no value exists for that icustay. \n",
    "    #the idea is that if any value exists then it is pos.\n",
    "\n",
    "    yn_df['value']= yn_df['value'].fillna(value_fill) #converts na to 0 in above na rows.\n",
    "    criteria0=yn_df.loc[:,'value']==value_fill\n",
    "    criteria1=pd.to_numeric(yn_df.loc[:,'value'])<=threshold\n",
    "    criteria2=pd.to_numeric(yn_df.loc[:,'value'])>threshold\n",
    "\n",
    "\n",
    "    yn_df.loc[criteria1, 'value']= \"<{}\".format(threshold) \n",
    "    yn_df.loc[criteria2, 'value']= \">{}\".format(threshold) \n",
    "    yn_df.loc[criteria0, 'value']= \"absent\"\n",
    "\n",
    "    yn_df['delta']= yn_df['delta'].fillna(delta_fill)\n",
    "    yn_df['delta']= pd.to_timedelta(yn_df['delta']) #filling in the time delta to time =0 for filled rows\n",
    "    yn_df['uom']= yn_df['uom'].fillna(uom_fill)\n",
    "    yn_df.loc[yn_df.loc[:,'uom']!=uom_fill, 'uom']= uom_fill\n",
    "    yn_df['label']= yn_df['label'].fillna(label_fill)\n",
    "    \n",
    "    return(yn_df)\n",
    "    "
   ]
  },
  {
   "cell_type": "code",
   "execution_count": 254,
   "metadata": {},
   "outputs": [
    {
     "name": "stdout",
     "output_type": "stream",
     "text": [
      "time: 0 ns (started: 2023-07-26 19:14:32 +08:00)\n"
     ]
    }
   ],
   "source": [
    "bg_ART_nosummary= bg_ART_nosummary.rename(\n",
    "    columns={'valuenum':'value'}) #changing valuenum to value"
   ]
  },
  {
   "cell_type": "code",
   "execution_count": 256,
   "metadata": {},
   "outputs": [
    {
     "name": "stdout",
     "output_type": "stream",
     "text": [
      "time: 1.22 s (started: 2023-07-26 19:14:57 +08:00)\n"
     ]
    }
   ],
   "source": [
    "pco2_df=bg_ART_nosummary[bg_ART_nosummary['label']=='PCO2']\n",
    "max_pco2=pco2_df.loc[pco2_df.groupby('stay_id', as_index=False)['value'].idxmax()['value'],:]\n",
    "del(pco2_df)"
   ]
  },
  {
   "cell_type": "code",
   "execution_count": 257,
   "metadata": {},
   "outputs": [
    {
     "name": "stdout",
     "output_type": "stream",
     "text": [
      "time: 140 ms (started: 2023-07-26 19:15:00 +08:00)\n"
     ]
    }
   ],
   "source": [
    "pco2_cat=yn_convert_pco2(df=max_pco2,           \n",
    "                    label_fill=\"PCO2\",\n",
    "                    threshold=50,\n",
    "                    pt= final_pt_df2,\n",
    "                    time_var='t_0',\n",
    "                    value_fill=9999,\n",
    "                    delta_fill=pd.to_timedelta('0 days'),\n",
    "                    uom_fill='y/n')"
   ]
  },
  {
   "cell_type": "code",
   "execution_count": 258,
   "metadata": {},
   "outputs": [
    {
     "name": "stdout",
     "output_type": "stream",
     "text": [
      "time: 78 ms (started: 2023-07-26 19:15:02 +08:00)\n"
     ]
    }
   ],
   "source": [
    "#drop bands from lab_df\n",
    "bg_ART_nosummary=bg_ART_nosummary.drop(bg_ART_nosummary[bg_ART_nosummary['label']=='PCO2'].index)\n"
   ]
  },
  {
   "cell_type": "code",
   "execution_count": 259,
   "metadata": {},
   "outputs": [
    {
     "name": "stdout",
     "output_type": "stream",
     "text": [
      "time: 15 ms (started: 2023-07-26 19:15:04 +08:00)\n"
     ]
    }
   ],
   "source": [
    "##dropping charttime, may be problematic later. 06/13/19\n",
    "bg_ART_nosummary=bg_ART_nosummary.drop('charttime', axis=1)"
   ]
  },
  {
   "cell_type": "code",
   "execution_count": 261,
   "metadata": {},
   "outputs": [
    {
     "name": "stdout",
     "output_type": "stream",
     "text": [
      "time: 31 ms (started: 2023-07-26 19:15:10 +08:00)\n"
     ]
    }
   ],
   "source": [
    "bg_ART_nosummary=bg_ART_nosummary._append(pco2_cat, sort=True)"
   ]
  },
  {
   "cell_type": "code",
   "execution_count": 262,
   "metadata": {},
   "outputs": [
    {
     "data": {
      "text/plain": [
       "value\n",
       "<50       12033\n",
       "absent    10194\n",
       ">50        4244\n",
       "Name: count, dtype: int64"
      ]
     },
     "execution_count": 262,
     "metadata": {},
     "output_type": "execute_result"
    },
    {
     "name": "stdout",
     "output_type": "stream",
     "text": [
      "time: 16 ms (started: 2023-07-26 19:15:12 +08:00)\n"
     ]
    }
   ],
   "source": [
    "bg_ART_nosummary.loc[bg_ART_nosummary['label']=='PCO2','value'].value_counts()\n",
    "# value\n",
    "# <50       12033\n",
    "# absent    10194\n",
    "# >50        4244"
   ]
  },
  {
   "cell_type": "markdown",
   "metadata": {},
   "source": [
    "# factorizing bands end "
   ]
  },
  {
   "cell_type": "code",
   "execution_count": 263,
   "metadata": {},
   "outputs": [
    {
     "name": "stdout",
     "output_type": "stream",
     "text": [
      "time: 4.25 s (started: 2023-07-26 19:15:25 +08:00)\n"
     ]
    }
   ],
   "source": [
    "save_df(ratio_df2, 'pfRatio')\n",
    "del( pao2_fio2_windowed,pao2_appended, fio2_chart_df, pao2, pao2_icu )\n",
    "del( ventcategory_1day_df, dfs[vent_df] )\n",
    "\n",
    "save_df(dfs[bg_df],'bg_all') #all bloodgas\n",
    "del(dfs[bg_df])\n",
    "\n",
    "save_df(bg_ART_nosummary,'bg_ART') #only ARTERIAL bloodgas\n",
    "del(bg_ART_nosummary)\n",
    "\n",
    "save_df(o2_flow_df,'o2_flow') #need to investigate this more\n",
    "del(o2_flow_df)"
   ]
  },
  {
   "cell_type": "markdown",
   "metadata": {},
   "source": [
    "# RRT"
   ]
  },
  {
   "cell_type": "code",
   "execution_count": 264,
   "metadata": {},
   "outputs": [
    {
     "name": "stdout",
     "output_type": "stream",
     "text": [
      "time: 47 ms (started: 2023-07-26 19:15:33 +08:00)\n"
     ]
    }
   ],
   "source": [
    "#removing null values\n",
    "dfs[rrt_df] = dfs[rrt_df].loc[dfs[rrt_df]['rrt'].notnull(),:]\n",
    "dfs[rrt_df]['uom']='category'\n",
    "dfs[rrt_df]['delta']=pd.to_timedelta(\n",
    "    pd.to_datetime(dfs[rrt_df]['first_charttime'])-\n",
    "    pd.to_datetime(dfs[rrt_df][time_var]),\n",
    "    'days')\n",
    "dfs[rrt_df]['label']= 'rrt'\n",
    "dfs[rrt_df]=dfs[rrt_df].rename(index=str, columns={'rrt':'value'})"
   ]
  },
  {
   "cell_type": "markdown",
   "metadata": {},
   "source": [
    "### converting to yes/no"
   ]
  },
  {
   "cell_type": "code",
   "execution_count": 265,
   "metadata": {},
   "outputs": [
    {
     "data": {
      "text/html": [
       "<div>\n",
       "<style scoped>\n",
       "    .dataframe tbody tr th:only-of-type {\n",
       "        vertical-align: middle;\n",
       "    }\n",
       "\n",
       "    .dataframe tbody tr th {\n",
       "        vertical-align: top;\n",
       "    }\n",
       "\n",
       "    .dataframe thead th {\n",
       "        text-align: right;\n",
       "    }\n",
       "</style>\n",
       "<table border=\"1\" class=\"dataframe\">\n",
       "  <thead>\n",
       "    <tr style=\"text-align: right;\">\n",
       "      <th></th>\n",
       "      <th>stay_id</th>\n",
       "      <th>t_0</th>\n",
       "      <th>first_charttime</th>\n",
       "      <th>value</th>\n",
       "      <th>uom</th>\n",
       "      <th>delta</th>\n",
       "      <th>label</th>\n",
       "    </tr>\n",
       "  </thead>\n",
       "  <tbody>\n",
       "    <tr>\n",
       "      <th>0</th>\n",
       "      <td>37510196</td>\n",
       "      <td>2131-01-11 08:00:00</td>\n",
       "      <td>NaN</td>\n",
       "      <td>0.0</td>\n",
       "      <td>category</td>\n",
       "      <td>NaT</td>\n",
       "      <td>rrt</td>\n",
       "    </tr>\n",
       "    <tr>\n",
       "      <th>1</th>\n",
       "      <td>33685454</td>\n",
       "      <td>2129-08-05 14:00:00</td>\n",
       "      <td>NaN</td>\n",
       "      <td>0.0</td>\n",
       "      <td>category</td>\n",
       "      <td>NaT</td>\n",
       "      <td>rrt</td>\n",
       "    </tr>\n",
       "    <tr>\n",
       "      <th>2</th>\n",
       "      <td>31090461</td>\n",
       "      <td>2130-09-25 11:00:00</td>\n",
       "      <td>NaN</td>\n",
       "      <td>0.0</td>\n",
       "      <td>category</td>\n",
       "      <td>NaT</td>\n",
       "      <td>rrt</td>\n",
       "    </tr>\n",
       "    <tr>\n",
       "      <th>3</th>\n",
       "      <td>32358465</td>\n",
       "      <td>2131-03-10 01:00:00</td>\n",
       "      <td>NaN</td>\n",
       "      <td>0.0</td>\n",
       "      <td>category</td>\n",
       "      <td>NaT</td>\n",
       "      <td>rrt</td>\n",
       "    </tr>\n",
       "    <tr>\n",
       "      <th>4</th>\n",
       "      <td>38875437</td>\n",
       "      <td>2156-04-20 12:00:00</td>\n",
       "      <td>NaN</td>\n",
       "      <td>0.0</td>\n",
       "      <td>category</td>\n",
       "      <td>NaT</td>\n",
       "      <td>rrt</td>\n",
       "    </tr>\n",
       "  </tbody>\n",
       "</table>\n",
       "</div>"
      ],
      "text/plain": [
       "    stay_id                  t_0 first_charttime  value       uom delta label\n",
       "0  37510196  2131-01-11 08:00:00             NaN    0.0  category   NaT   rrt\n",
       "1  33685454  2129-08-05 14:00:00             NaN    0.0  category   NaT   rrt\n",
       "2  31090461  2130-09-25 11:00:00             NaN    0.0  category   NaT   rrt\n",
       "3  32358465  2131-03-10 01:00:00             NaN    0.0  category   NaT   rrt\n",
       "4  38875437  2156-04-20 12:00:00             NaN    0.0  category   NaT   rrt"
      ]
     },
     "execution_count": 265,
     "metadata": {},
     "output_type": "execute_result"
    },
    {
     "name": "stdout",
     "output_type": "stream",
     "text": [
      "time: 16 ms (started: 2023-07-26 19:15:35 +08:00)\n"
     ]
    }
   ],
   "source": [
    "dfs[rrt_df].head()"
   ]
  },
  {
   "cell_type": "code",
   "execution_count": 266,
   "metadata": {},
   "outputs": [
    {
     "data": {
      "text/plain": [
       "26471"
      ]
     },
     "execution_count": 266,
     "metadata": {},
     "output_type": "execute_result"
    },
    {
     "name": "stdout",
     "output_type": "stream",
     "text": [
      "time: 16 ms (started: 2023-07-26 19:15:38 +08:00)\n"
     ]
    }
   ],
   "source": [
    "dfs[rrt_df]['stay_id'].nunique() #26471"
   ]
  },
  {
   "cell_type": "code",
   "execution_count": 267,
   "metadata": {},
   "outputs": [
    {
     "name": "stdout",
     "output_type": "stream",
     "text": [
      "time: 32 ms (started: 2023-07-26 19:16:12 +08:00)\n"
     ]
    }
   ],
   "source": [
    "rrt_yn= yn_convert(dfs[rrt_df],label_fill='rrt', time_var=time_var)"
   ]
  },
  {
   "cell_type": "code",
   "execution_count": 268,
   "metadata": {},
   "outputs": [
    {
     "name": "stdout",
     "output_type": "stream",
     "text": [
      "time: 532 ms (started: 2023-07-26 19:16:13 +08:00)\n"
     ]
    }
   ],
   "source": [
    "save_df(rrt_yn, 'rrt')\n",
    "del(rrt_yn, dfs[rrt_df])"
   ]
  },
  {
   "cell_type": "markdown",
   "metadata": {},
   "source": [
    "# GCS_72"
   ]
  },
  {
   "cell_type": "code",
   "execution_count": 269,
   "metadata": {},
   "outputs": [
    {
     "name": "stdout",
     "output_type": "stream",
     "text": [
      "time: 0 ns (started: 2023-07-26 19:16:28 +08:00)\n"
     ]
    }
   ],
   "source": [
    "dfs[gcs_df]['uom']='GCS_score'"
   ]
  },
  {
   "cell_type": "code",
   "execution_count": 270,
   "metadata": {},
   "outputs": [
    {
     "data": {
      "text/plain": [
       "['subject_id',\n",
       " 'hadm_id',\n",
       " 'stay_id',\n",
       " 'day',\n",
       " 'mingcs',\n",
       " 'gcsmotor',\n",
       " 'gcsverbal',\n",
       " 'gcseyes',\n",
       " 'endotrachflag',\n",
       " 'icu_admit',\n",
       " 't_0',\n",
       " 'approx_charttime',\n",
       " 'admit_plus_day',\n",
       " 'delta',\n",
       " 'uom']"
      ]
     },
     "execution_count": 270,
     "metadata": {},
     "output_type": "execute_result"
    },
    {
     "name": "stdout",
     "output_type": "stream",
     "text": [
      "time: 0 ns (started: 2023-07-26 19:16:38 +08:00)\n"
     ]
    }
   ],
   "source": [
    "list(dfs[gcs_df])"
   ]
  },
  {
   "cell_type": "code",
   "execution_count": 271,
   "metadata": {},
   "outputs": [
    {
     "name": "stdout",
     "output_type": "stream",
     "text": [
      "time: 15 ms (started: 2023-07-26 19:18:57 +08:00)\n"
     ]
    }
   ],
   "source": [
    "dfs[gcs_df]['label']= 'mingcs'\n",
    "dfs[gcs_df]['uom']='gcs_score'\n",
    "dfs[gcs_df]=dfs[gcs_df].rename(index=str, columns={'mingcs':'value'})"
   ]
  },
  {
   "cell_type": "code",
   "execution_count": 272,
   "metadata": {},
   "outputs": [
    {
     "name": "stdout",
     "output_type": "stream",
     "text": [
      "time: 0 ns (started: 2023-07-26 19:18:58 +08:00)\n"
     ]
    }
   ],
   "source": [
    "dfs[gcs_df]=dfs[gcs_df][['subject_id','hadm_id','stay_id','delta','label','value',time_var,'uom']]"
   ]
  },
  {
   "cell_type": "code",
   "execution_count": 273,
   "metadata": {},
   "outputs": [
    {
     "name": "stdout",
     "output_type": "stream",
     "text": [
      "time: 16 ms (started: 2023-07-26 19:19:00 +08:00)\n"
     ]
    }
   ],
   "source": [
    "save_df(dfs[gcs_df], 'gcs')\n",
    "del(dfs[gcs_df])"
   ]
  },
  {
   "cell_type": "markdown",
   "metadata": {},
   "source": [
    "# SOFA\n",
    "i'm going to remove all sofa variables except daily score, as we have other markers for those in our above data\n",
    "i may later use this as qc check.\n",
    "also added delta"
   ]
  },
  {
   "cell_type": "code",
   "execution_count": 128,
   "metadata": {},
   "outputs": [
    {
     "name": "stdout",
     "output_type": "stream",
     "text": [
      "time: 207 ms\n"
     ]
    }
   ],
   "source": [
    "dfs[sofa_df]['uom']='daily_sofa_score'\n",
    "\n",
    "#adding day delta column\n",
    "dfs[sofa_df]=dfs[sofa_df].sort_values(['hadm_id','day',time_var]) #good\n",
    "dfs[sofa_df]['day_rank']=dfs[sofa_df].groupby('stay_id')['day'].rank()\n",
    "dfs[sofa_df]['delta']=pd.to_timedelta((dfs[sofa_df]['day_rank']-1), 'days')"
   ]
  },
  {
   "cell_type": "code",
   "execution_count": 129,
   "metadata": {},
   "outputs": [
    {
     "name": "stdout",
     "output_type": "stream",
     "text": [
      "time: 221 ms\n"
     ]
    }
   ],
   "source": [
    "dfs[sofa_df]['label']= 'daily_sofa'\n",
    "dfs[sofa_df]=dfs[sofa_df].rename(index=str, columns={'sofa':'value'})"
   ]
  },
  {
   "cell_type": "code",
   "execution_count": 130,
   "metadata": {},
   "outputs": [
    {
     "name": "stdout",
     "output_type": "stream",
     "text": [
      "time: 19.4 ms\n"
     ]
    }
   ],
   "source": [
    "dfs[sofa_df]= dfs[sofa_df][['subject_id','hadm_id','stay_id','delta','label','value',time_var,'uom']]"
   ]
  },
  {
   "cell_type": "code",
   "execution_count": 131,
   "metadata": {},
   "outputs": [
    {
     "data": {
      "text/html": [
       "<div>\n",
       "<style scoped>\n",
       "    .dataframe tbody tr th:only-of-type {\n",
       "        vertical-align: middle;\n",
       "    }\n",
       "\n",
       "    .dataframe tbody tr th {\n",
       "        vertical-align: top;\n",
       "    }\n",
       "\n",
       "    .dataframe thead th {\n",
       "        text-align: right;\n",
       "    }\n",
       "</style>\n",
       "<table border=\"1\" class=\"dataframe\">\n",
       "  <thead>\n",
       "    <tr style=\"text-align: right;\">\n",
       "      <th></th>\n",
       "      <th>subject_id</th>\n",
       "      <th>hadm_id</th>\n",
       "      <th>icustay_id</th>\n",
       "      <th>delta</th>\n",
       "      <th>label</th>\n",
       "      <th>value</th>\n",
       "      <th>t_0</th>\n",
       "      <th>uom</th>\n",
       "    </tr>\n",
       "  </thead>\n",
       "  <tbody>\n",
       "    <tr>\n",
       "      <th>88189</th>\n",
       "      <td>54610</td>\n",
       "      <td>100003</td>\n",
       "      <td>209281</td>\n",
       "      <td>0 days</td>\n",
       "      <td>daily_sofa</td>\n",
       "      <td>4</td>\n",
       "      <td>2150-04-18</td>\n",
       "      <td>daily_sofa_score</td>\n",
       "    </tr>\n",
       "    <tr>\n",
       "      <th>52007</th>\n",
       "      <td>23018</td>\n",
       "      <td>100007</td>\n",
       "      <td>217937</td>\n",
       "      <td>0 days</td>\n",
       "      <td>daily_sofa</td>\n",
       "      <td>1</td>\n",
       "      <td>2145-03-31</td>\n",
       "      <td>daily_sofa_score</td>\n",
       "    </tr>\n",
       "    <tr>\n",
       "      <th>52008</th>\n",
       "      <td>23018</td>\n",
       "      <td>100007</td>\n",
       "      <td>217937</td>\n",
       "      <td>1 days</td>\n",
       "      <td>daily_sofa</td>\n",
       "      <td>4</td>\n",
       "      <td>2145-03-31</td>\n",
       "      <td>daily_sofa_score</td>\n",
       "    </tr>\n",
       "    <tr>\n",
       "      <th>52009</th>\n",
       "      <td>23018</td>\n",
       "      <td>100007</td>\n",
       "      <td>217937</td>\n",
       "      <td>2 days</td>\n",
       "      <td>daily_sofa</td>\n",
       "      <td>0</td>\n",
       "      <td>2145-03-31</td>\n",
       "      <td>daily_sofa_score</td>\n",
       "    </tr>\n",
       "    <tr>\n",
       "      <th>52010</th>\n",
       "      <td>23018</td>\n",
       "      <td>100007</td>\n",
       "      <td>217937</td>\n",
       "      <td>3 days</td>\n",
       "      <td>daily_sofa</td>\n",
       "      <td>3</td>\n",
       "      <td>2145-03-31</td>\n",
       "      <td>daily_sofa_score</td>\n",
       "    </tr>\n",
       "  </tbody>\n",
       "</table>\n",
       "</div>"
      ],
      "text/plain": [
       "       subject_id  hadm_id  icustay_id  delta       label  value         t_0  \\\n",
       "88189       54610   100003      209281 0 days  daily_sofa      4  2150-04-18   \n",
       "52007       23018   100007      217937 0 days  daily_sofa      1  2145-03-31   \n",
       "52008       23018   100007      217937 1 days  daily_sofa      4  2145-03-31   \n",
       "52009       23018   100007      217937 2 days  daily_sofa      0  2145-03-31   \n",
       "52010       23018   100007      217937 3 days  daily_sofa      3  2145-03-31   \n",
       "\n",
       "                    uom  \n",
       "88189  daily_sofa_score  \n",
       "52007  daily_sofa_score  \n",
       "52008  daily_sofa_score  \n",
       "52009  daily_sofa_score  \n",
       "52010  daily_sofa_score  "
      ]
     },
     "execution_count": 131,
     "metadata": {},
     "output_type": "execute_result"
    },
    {
     "name": "stdout",
     "output_type": "stream",
     "text": [
      "time: 21.1 ms\n"
     ]
    }
   ],
   "source": [
    "dfs[sofa_df].head()"
   ]
  },
  {
   "cell_type": "code",
   "execution_count": 132,
   "metadata": {},
   "outputs": [
    {
     "name": "stdout",
     "output_type": "stream",
     "text": [
      "time: 2.23 s\n"
     ]
    }
   ],
   "source": [
    "save_df(dfs[sofa_df], 'sofa')\n",
    "del(dfs[sofa_df])"
   ]
  },
  {
   "cell_type": "markdown",
   "metadata": {},
   "source": [
    "# patient Demographic variables"
   ]
  },
  {
   "cell_type": "code",
   "execution_count": 274,
   "metadata": {},
   "outputs": [
    {
     "data": {
      "text/html": [
       "<div>\n",
       "<style scoped>\n",
       "    .dataframe tbody tr th:only-of-type {\n",
       "        vertical-align: middle;\n",
       "    }\n",
       "\n",
       "    .dataframe tbody tr th {\n",
       "        vertical-align: top;\n",
       "    }\n",
       "\n",
       "    .dataframe thead th {\n",
       "        text-align: right;\n",
       "    }\n",
       "</style>\n",
       "<table border=\"1\" class=\"dataframe\">\n",
       "  <thead>\n",
       "    <tr style=\"text-align: right;\">\n",
       "      <th></th>\n",
       "      <th>stay_id</th>\n",
       "      <th>subject_id</th>\n",
       "      <th>t_0</th>\n",
       "      <th>label</th>\n",
       "      <th>value</th>\n",
       "      <th>delta</th>\n",
       "      <th>uom</th>\n",
       "    </tr>\n",
       "  </thead>\n",
       "  <tbody>\n",
       "    <tr>\n",
       "      <th>0</th>\n",
       "      <td>37510196</td>\n",
       "      <td>10001884</td>\n",
       "      <td>2131-01-11 08:00:00</td>\n",
       "      <td>yearsold</td>\n",
       "      <td>68</td>\n",
       "      <td>0 days</td>\n",
       "      <td>yearsold</td>\n",
       "    </tr>\n",
       "    <tr>\n",
       "      <th>1</th>\n",
       "      <td>32358465</td>\n",
       "      <td>10002155</td>\n",
       "      <td>2131-03-10 01:00:00</td>\n",
       "      <td>yearsold</td>\n",
       "      <td>80</td>\n",
       "      <td>0 days</td>\n",
       "      <td>yearsold</td>\n",
       "    </tr>\n",
       "    <tr>\n",
       "      <th>2</th>\n",
       "      <td>33685454</td>\n",
       "      <td>10002155</td>\n",
       "      <td>2129-08-05 14:00:00</td>\n",
       "      <td>yearsold</td>\n",
       "      <td>80</td>\n",
       "      <td>0 days</td>\n",
       "      <td>yearsold</td>\n",
       "    </tr>\n",
       "    <tr>\n",
       "      <th>3</th>\n",
       "      <td>31090461</td>\n",
       "      <td>10002155</td>\n",
       "      <td>2130-09-25 11:00:00</td>\n",
       "      <td>yearsold</td>\n",
       "      <td>80</td>\n",
       "      <td>0 days</td>\n",
       "      <td>yearsold</td>\n",
       "    </tr>\n",
       "    <tr>\n",
       "      <th>4</th>\n",
       "      <td>36753294</td>\n",
       "      <td>10002495</td>\n",
       "      <td>2141-05-22 23:00:00</td>\n",
       "      <td>yearsold</td>\n",
       "      <td>81</td>\n",
       "      <td>0 days</td>\n",
       "      <td>yearsold</td>\n",
       "    </tr>\n",
       "    <tr>\n",
       "      <th>...</th>\n",
       "      <td>...</td>\n",
       "      <td>...</td>\n",
       "      <td>...</td>\n",
       "      <td>...</td>\n",
       "      <td>...</td>\n",
       "      <td>...</td>\n",
       "      <td>...</td>\n",
       "    </tr>\n",
       "    <tr>\n",
       "      <th>79408</th>\n",
       "      <td>36980198</td>\n",
       "      <td>19997367</td>\n",
       "      <td>2127-04-02 09:00:00</td>\n",
       "      <td>race</td>\n",
       "      <td>white/nonhispanic</td>\n",
       "      <td>0 days</td>\n",
       "      <td>NaN</td>\n",
       "    </tr>\n",
       "    <tr>\n",
       "      <th>79409</th>\n",
       "      <td>31417783</td>\n",
       "      <td>19998330</td>\n",
       "      <td>2178-10-22 18:00:00</td>\n",
       "      <td>race</td>\n",
       "      <td>black</td>\n",
       "      <td>0 days</td>\n",
       "      <td>NaN</td>\n",
       "    </tr>\n",
       "    <tr>\n",
       "      <th>79410</th>\n",
       "      <td>32641669</td>\n",
       "      <td>19998330</td>\n",
       "      <td>2178-10-02 13:00:00</td>\n",
       "      <td>race</td>\n",
       "      <td>black</td>\n",
       "      <td>0 days</td>\n",
       "      <td>NaN</td>\n",
       "    </tr>\n",
       "    <tr>\n",
       "      <th>79411</th>\n",
       "      <td>34403689</td>\n",
       "      <td>19998878</td>\n",
       "      <td>2132-10-01 00:00:00</td>\n",
       "      <td>race</td>\n",
       "      <td>white/nonhispanic</td>\n",
       "      <td>0 days</td>\n",
       "      <td>NaN</td>\n",
       "    </tr>\n",
       "    <tr>\n",
       "      <th>79412</th>\n",
       "      <td>36075953</td>\n",
       "      <td>19999828</td>\n",
       "      <td>2149-01-08 20:00:00</td>\n",
       "      <td>race</td>\n",
       "      <td>white/nonhispanic</td>\n",
       "      <td>0 days</td>\n",
       "      <td>NaN</td>\n",
       "    </tr>\n",
       "  </tbody>\n",
       "</table>\n",
       "<p>79413 rows × 7 columns</p>\n",
       "</div>"
      ],
      "text/plain": [
       "        stay_id  subject_id                  t_0     label              value  \\\n",
       "0      37510196    10001884  2131-01-11 08:00:00  yearsold                 68   \n",
       "1      32358465    10002155  2131-03-10 01:00:00  yearsold                 80   \n",
       "2      33685454    10002155  2129-08-05 14:00:00  yearsold                 80   \n",
       "3      31090461    10002155  2130-09-25 11:00:00  yearsold                 80   \n",
       "4      36753294    10002495  2141-05-22 23:00:00  yearsold                 81   \n",
       "...         ...         ...                  ...       ...                ...   \n",
       "79408  36980198    19997367  2127-04-02 09:00:00      race  white/nonhispanic   \n",
       "79409  31417783    19998330  2178-10-22 18:00:00      race              black   \n",
       "79410  32641669    19998330  2178-10-02 13:00:00      race              black   \n",
       "79411  34403689    19998878  2132-10-01 00:00:00      race  white/nonhispanic   \n",
       "79412  36075953    19999828  2149-01-08 20:00:00      race  white/nonhispanic   \n",
       "\n",
       "        delta       uom  \n",
       "0      0 days  yearsold  \n",
       "1      0 days  yearsold  \n",
       "2      0 days  yearsold  \n",
       "3      0 days  yearsold  \n",
       "4      0 days  yearsold  \n",
       "...       ...       ...  \n",
       "79408  0 days       NaN  \n",
       "79409  0 days       NaN  \n",
       "79410  0 days       NaN  \n",
       "79411  0 days       NaN  \n",
       "79412  0 days       NaN  \n",
       "\n",
       "[79413 rows x 7 columns]"
      ]
     },
     "execution_count": 274,
     "metadata": {},
     "output_type": "execute_result"
    },
    {
     "name": "stdout",
     "output_type": "stream",
     "text": [
      "time: 15 ms (started: 2023-07-26 19:19:05 +08:00)\n"
     ]
    }
   ],
   "source": [
    "dfs[pt_info_df]"
   ]
  },
  {
   "cell_type": "code",
   "execution_count": 134,
   "metadata": {},
   "outputs": [
    {
     "name": "stdout",
     "output_type": "stream",
     "text": [
      "time: 774 µs\n"
     ]
    }
   ],
   "source": [
    "### gender distribution qc. should be almost entirely/entirely populated"
   ]
  },
  {
   "cell_type": "code",
   "execution_count": 275,
   "metadata": {},
   "outputs": [
    {
     "name": "stdout",
     "output_type": "stream",
     "text": [
      "time: 78 ms (started: 2023-07-26 19:19:26 +08:00)\n"
     ]
    }
   ],
   "source": [
    "#stay_id\n",
    "#dfs[pt_info_df]\n",
    "model_pts=list(final_pt_df2[final_pt_df2['final_bin'].isin(['C_pos/A_full','C_neg/A_partial'])]['stay_id'].unique())"
   ]
  },
  {
   "cell_type": "code",
   "execution_count": 276,
   "metadata": {},
   "outputs": [
    {
     "data": {
      "text/plain": [
       "value\n",
       "M    9019\n",
       "F    7099\n",
       "Name: count, dtype: int64"
      ]
     },
     "execution_count": 276,
     "metadata": {},
     "output_type": "execute_result"
    },
    {
     "name": "stdout",
     "output_type": "stream",
     "text": [
      "time: 15 ms (started: 2023-07-26 19:20:59 +08:00)\n"
     ]
    }
   ],
   "source": [
    "model_pts=list(final_pt_df2[final_pt_df2['final_bin'].isin(['C_pos/A_full','C_neg/A_partial'])]['stay_id'].unique())\n",
    "dfs[pt_info_df][(dfs[pt_info_df]['label']=='gender')& (dfs[pt_info_df]['stay_id'].isin(model_pts))]['value'].value_counts()\n",
    "# value\n",
    "# M    9019\n",
    "# F    7099"
   ]
  },
  {
   "cell_type": "code",
   "execution_count": 277,
   "metadata": {},
   "outputs": [
    {
     "data": {
      "text/plain": [
       "16118"
      ]
     },
     "execution_count": 277,
     "metadata": {},
     "output_type": "execute_result"
    },
    {
     "name": "stdout",
     "output_type": "stream",
     "text": [
      "time: 0 ns (started: 2023-07-26 19:21:27 +08:00)\n"
     ]
    }
   ],
   "source": [
    "len(model_pts)#16118"
   ]
  },
  {
   "cell_type": "code",
   "execution_count": 138,
   "metadata": {},
   "outputs": [
    {
     "name": "stdout",
     "output_type": "stream",
     "text": [
      "time: 868 µs\n"
     ]
    }
   ],
   "source": [
    "#### gender qc"
   ]
  },
  {
   "cell_type": "code",
   "execution_count": 278,
   "metadata": {},
   "outputs": [
    {
     "name": "stdout",
     "output_type": "stream",
     "text": [
      "time: 47 ms (started: 2023-07-26 19:21:34 +08:00)\n"
     ]
    }
   ],
   "source": [
    "##adjusting ages over 90 (which were set to 300 to deidentify) to 90\n",
    "admit_index=dfs[pt_info_df].loc[(dfs[pt_info_df]['label']=='yearsold')].index\n",
    "age_tf=pd.to_numeric(dfs[pt_info_df].loc[admit_index,'value'])>90\n",
    "dfs[pt_info_df].loc[(dfs[pt_info_df]['label']=='yearsold')&(age_tf),'value']=90.0"
   ]
  },
  {
   "cell_type": "code",
   "execution_count": 279,
   "metadata": {},
   "outputs": [
    {
     "data": {
      "text/plain": [
       "value\n",
       "90.0    968\n",
       "67      677\n",
       "66      651\n",
       "63      641\n",
       "68      638\n",
       "       ... \n",
       "22       80\n",
       "21       68\n",
       "20       67\n",
       "19       47\n",
       "18       19\n",
       "Name: count, Length: 73, dtype: int64"
      ]
     },
     "execution_count": 279,
     "metadata": {},
     "output_type": "execute_result"
    },
    {
     "name": "stdout",
     "output_type": "stream",
     "text": [
      "time: 15 ms (started: 2023-07-26 19:21:37 +08:00)\n"
     ]
    }
   ],
   "source": [
    "dfs[pt_info_df].loc[admit_index,'value'].value_counts()"
   ]
  },
  {
   "cell_type": "code",
   "execution_count": 141,
   "metadata": {},
   "outputs": [
    {
     "name": "stdout",
     "output_type": "stream",
     "text": [
      "time: 833 µs\n"
     ]
    }
   ],
   "source": [
    "#dfs[pt_info_df].loc[(dfs[pt_info_df]['label']=='first_admit_age') & (dfs[pt_info_df]['value']>90)]"
   ]
  },
  {
   "cell_type": "code",
   "execution_count": 280,
   "metadata": {},
   "outputs": [
    {
     "name": "stdout",
     "output_type": "stream",
     "text": [
      "time: 282 ms (started: 2023-07-26 19:21:53 +08:00)\n"
     ]
    }
   ],
   "source": [
    "#date= '22102018'\n",
    "save_df(dfs[pt_info_df], 'pt_info')\n",
    "\n",
    "del(dfs[pt_info_df] )"
   ]
  },
  {
   "cell_type": "code",
   "execution_count": null,
   "metadata": {},
   "outputs": [],
   "source": []
  },
  {
   "cell_type": "code",
   "execution_count": null,
   "metadata": {},
   "outputs": [],
   "source": []
  }
 ],
 "metadata": {
  "kernelspec": {
   "display_name": "Python 3",
   "language": "python",
   "name": "python3"
  },
  "language_info": {
   "codemirror_mode": {
    "name": "ipython",
    "version": 3
   },
   "file_extension": ".py",
   "mimetype": "text/x-python",
   "name": "python",
   "nbconvert_exporter": "python",
   "pygments_lexer": "ipython3",
   "version": "3.8.0"
  }
 },
 "nbformat": 4,
 "nbformat_minor": 4
}
