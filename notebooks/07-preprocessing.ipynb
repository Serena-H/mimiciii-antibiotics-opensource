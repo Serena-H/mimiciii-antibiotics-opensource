{
 "cells": [
  {
   "cell_type": "markdown",
   "metadata": {},
   "source": [
    "# Preprocessing (imputation, standardization, final clean) and modeling\n",
    "sklearn modeling the median imputed training data using min/max clinically guided aggregation. \n",
    "preprocessing includes variable formatting (categorical to factor variables in r, train/test split, and median imputation).\n"
   ]
  },
  {
   "cell_type": "code",
   "execution_count": 1,
   "metadata": {},
   "outputs": [],
   "source": [
    "import pandas as pd\n",
    "import matplotlib.pyplot as plt\n",
    "import os, sys\n",
    "from pathlib import Path\n",
    "import seaborn as sns\n",
    "import numpy as np\n",
    "import glob\n",
    "from sklearn.metrics import confusion_matrix, classification_report, roc_curve, roc_auc_score, accuracy_score, auc, precision_recall_fscore_support, pairwise, f1_score, log_loss, make_scorer\n",
    "from sklearn.metrics import precision_score, recall_score\n",
    "from sklearn import metrics\n",
    "from sklearn.datasets import make_classification\n",
    "from sklearn.ensemble import RandomForestClassifier\n",
    "from sklearn.externals.joblib import Memory\n",
    "from sklearn.preprocessing import MinMaxScaler, OneHotEncoder, Imputer\n",
    "from sklearn.model_selection import StratifiedKFold, GridSearchCV, RandomizedSearchCV\n",
    "from sklearn.linear_model import LogisticRegression\n",
    "from sklearn.utils import validation\n",
    "from scipy.sparse import issparse\n",
    "from scipy.spatial import distance\n",
    "from sklearn import svm\n",
    "\n",
    "#importin xg boost and all needed otherstuff\n",
    "from sklearn.ensemble import RandomForestClassifier, GradientBoostingClassifier\n",
    "from xgboost import XGBClassifier #conda install -c conda-forge xgboost to install\n",
    "##adding these, lets see if it helps with xgboost crash\n",
    "os.environ['KMP_DUPLICATE_LIB_OK']='True'\n",
    "\n",
    "#reducing warnings that are super common in my model\n",
    "import warnings\n",
    "from sklearn.exceptions import DataConversionWarning\n",
    "warnings.simplefilter(action='ignore') #ignore all warnings\n",
    "\n",
    "#memory = Memory(cachedir='/tmp', verbose=0)\n",
    "#@memory.cache above any def fxn.\n",
    "\n",
    "RANDOM_STATE = 15485867\n",
    "\n",
    "%matplotlib inline\n",
    "plt.style.use('seaborn-white')\n",
    "\n",
    "from notebook.services.config import ConfigManager\n",
    "cm = ConfigManager()\n",
    "cm.update('livereveal', {\n",
    "        'width': 1024,\n",
    "        'height': 768,\n",
    "        'scroll': True,\n",
    "})\n",
    "\n",
    "%load_ext autotime"
   ]
  },
  {
   "cell_type": "markdown",
   "metadata": {},
   "source": [
    "## importing datasets and doing final formatting/processing"
   ]
  },
  {
   "cell_type": "code",
   "execution_count": 2,
   "metadata": {},
   "outputs": [
    {
     "name": "stdout",
     "output_type": "stream",
     "text": [
      "time: 1.05 s\n"
     ]
    }
   ],
   "source": [
    "#patients of interest from rotation_cohort_generation\n",
    "from parameters import final_pt_df_v, date, repository_path, lower_window, upper_window, folder, date, time_col, time_var, patient_df, categorical, save_boolean\n",
    "#patients of interest from rotation_cohort_generation\n",
    "final_pt_df2 = final_pt_df_v #pd.read_csv('/Users/geickelb1/Documents/GitHub/mimiciii-antibiotics-modeling/data/raw/csv/%s_final_pt_df2.csv'%(most_updated_patient_df), index_col=0)\n",
    "del(final_pt_df_v)\n",
    "\n",
    "patients= list(final_pt_df2['subject_id'].unique())\n",
    "hadm_id= list(final_pt_df2['hadm_id'].unique())\n",
    "icustay_id= list(final_pt_df2['icustay_id'].unique())\n",
    "icustay_id= [int(x) for x in icustay_id]"
   ]
  },
  {
   "cell_type": "code",
   "execution_count": 3,
   "metadata": {},
   "outputs": [
    {
     "data": {
      "text/plain": [
       "15412"
      ]
     },
     "execution_count": 3,
     "metadata": {},
     "output_type": "execute_result"
    },
    {
     "name": "stdout",
     "output_type": "stream",
     "text": [
      "time: 2.91 ms\n"
     ]
    }
   ],
   "source": [
    "len(patients)"
   ]
  },
  {
   "cell_type": "code",
   "execution_count": null,
   "metadata": {},
   "outputs": [],
   "source": [
    "                                  "
   ]
  },
  {
   "cell_type": "code",
   "execution_count": null,
   "metadata": {},
   "outputs": [],
   "source": []
  },
  {
   "cell_type": "code",
   "execution_count": null,
   "metadata": {},
   "outputs": [],
   "source": []
  },
  {
   "cell_type": "code",
   "execution_count": 4,
   "metadata": {},
   "outputs": [
    {
     "data": {
      "text/plain": [
       "19633"
      ]
     },
     "execution_count": 4,
     "metadata": {},
     "output_type": "execute_result"
    },
    {
     "name": "stdout",
     "output_type": "stream",
     "text": [
      "time: 2.03 ms\n"
     ]
    }
   ],
   "source": [
    "len(icustay_id)"
   ]
  },
  {
   "cell_type": "code",
   "execution_count": 59,
   "metadata": {},
   "outputs": [
    {
     "data": {
      "text/plain": [
       "0.007857142857142858"
      ]
     },
     "execution_count": 59,
     "metadata": {},
     "output_type": "execute_result"
    },
    {
     "name": "stdout",
     "output_type": "stream",
     "text": [
      "time: 32.7 ms\n"
     ]
    }
   ],
   "source": [
    "55/7000 "
   ]
  },
  {
   "cell_type": "code",
   "execution_count": 5,
   "metadata": {},
   "outputs": [
    {
     "data": {
      "text/plain": [
       "'24_hr_window'"
      ]
     },
     "execution_count": 5,
     "metadata": {},
     "output_type": "execute_result"
    },
    {
     "name": "stdout",
     "output_type": "stream",
     "text": [
      "time: 1.73 ms\n"
     ]
    }
   ],
   "source": [
    "folder"
   ]
  },
  {
   "cell_type": "code",
   "execution_count": 6,
   "metadata": {},
   "outputs": [
    {
     "name": "stdout",
     "output_type": "stream",
     "text": [
      "time: 225 µs\n"
     ]
    }
   ],
   "source": [
    "# ###########\n",
    "# save_boolean=False\n",
    "# ############"
   ]
  },
  {
   "cell_type": "code",
   "execution_count": 7,
   "metadata": {},
   "outputs": [
    {
     "name": "stdout",
     "output_type": "stream",
     "text": [
      "time: 186 ms\n"
     ]
    }
   ],
   "source": [
    "address=str(repository_path)+'/data/cleaned_merged_agg/'+'%s/'%(folder)\n",
    "train_data= pd.read_csv(Path(address+'%s_%s_cleaned_merged_agg.csv' %(date, 'train')), index_col=0)\n",
    "test_data= pd.read_csv(Path(address+'%s_%s_cleaned_merged_agg.csv' %(date, 'test')), index_col=0)\n",
    "longneg_data= pd.read_csv(Path(address+'%s_%s_cleaned_merged_agg.csv' %(date, 'longneg')), index_col=0)"
   ]
  },
  {
   "cell_type": "code",
   "execution_count": 8,
   "metadata": {},
   "outputs": [
    {
     "name": "stdout",
     "output_type": "stream",
     "text": [
      "time: 13 ms\n"
     ]
    }
   ],
   "source": [
    "### added 11/8/19: removed daily sofa score from prediction model, since the components used to calculate it are already in model\n",
    "### 12/12/19:  #removing o2_flow since it is mostly sparce and is not a helpful variable\n",
    "train_data.drop('daily_sofa', axis=1, inplace=True)\n",
    "test_data.drop('daily_sofa', axis=1, inplace=True)\n",
    "longneg_data.drop('daily_sofa', axis=1, inplace=True)\n",
    "train_data.drop('o2_flow', axis=1, inplace=True)\n",
    "test_data.drop('o2_flow', axis=1, inplace=True)\n",
    "longneg_data.drop('o2_flow', axis=1, inplace=True)\n",
    "categorical.remove('o2_flow')"
   ]
  },
  {
   "cell_type": "code",
   "execution_count": 9,
   "metadata": {},
   "outputs": [
    {
     "data": {
      "text/plain": [
       "0    0.145556\n",
       "1    0.087095\n",
       "2    0.017347\n",
       "3    0.145556\n",
       "4    0.145556\n",
       "Name: pao2fio2ratio, dtype: float64"
      ]
     },
     "execution_count": 9,
     "metadata": {},
     "output_type": "execute_result"
    },
    {
     "name": "stdout",
     "output_type": "stream",
     "text": [
      "time: 3.25 ms\n"
     ]
    }
   ],
   "source": [
    "train_data['pao2fio2ratio'].head()"
   ]
  },
  {
   "cell_type": "markdown",
   "metadata": {},
   "source": [
    "## getting descriptive numbers for publication"
   ]
  },
  {
   "cell_type": "code",
   "execution_count": 7,
   "metadata": {},
   "outputs": [
    {
     "data": {
      "text/html": [
       "<div>\n",
       "<style scoped>\n",
       "    .dataframe tbody tr th:only-of-type {\n",
       "        vertical-align: middle;\n",
       "    }\n",
       "\n",
       "    .dataframe tbody tr th {\n",
       "        vertical-align: top;\n",
       "    }\n",
       "\n",
       "    .dataframe thead th {\n",
       "        text-align: right;\n",
       "    }\n",
       "</style>\n",
       "<table border=\"1\" class=\"dataframe\">\n",
       "  <thead>\n",
       "    <tr style=\"text-align: right;\">\n",
       "      <th></th>\n",
       "      <th>icustay_id</th>\n",
       "      <th>ssc_charttime</th>\n",
       "      <th>ssc_id</th>\n",
       "      <th>icu_admit</th>\n",
       "      <th>ab_id</th>\n",
       "      <th>ab_start</th>\n",
       "      <th>ab_end</th>\n",
       "      <th>ab_ssc_delta</th>\n",
       "      <th>t_0</th>\n",
       "      <th>t_end</th>\n",
       "      <th>...</th>\n",
       "      <th>subject_id</th>\n",
       "      <th>dod_hosp</th>\n",
       "      <th>dod_ssn</th>\n",
       "      <th>ab_course</th>\n",
       "      <th>org_list</th>\n",
       "      <th>spec_type_list</th>\n",
       "      <th>first_pos_else_neg_ssc</th>\n",
       "      <th>sc_result</th>\n",
       "      <th>final_bin</th>\n",
       "      <th>hadm_id</th>\n",
       "    </tr>\n",
       "  </thead>\n",
       "  <tbody>\n",
       "    <tr>\n",
       "      <th>0</th>\n",
       "      <td>294638</td>\n",
       "      <td>2191-03-16 00:00:00</td>\n",
       "      <td>22</td>\n",
       "      <td>2191-03-16 00:29:31</td>\n",
       "      <td>1213116</td>\n",
       "      <td>2191-03-16</td>\n",
       "      <td>2191-03-22</td>\n",
       "      <td>0 days 00:00:00.000000000</td>\n",
       "      <td>2191-03-16</td>\n",
       "      <td>2191-03-22</td>\n",
       "      <td>...</td>\n",
       "      <td>4</td>\n",
       "      <td>NaN</td>\n",
       "      <td>NaN</td>\n",
       "      <td>full</td>\n",
       "      <td>STAPH AUREUS COAG +</td>\n",
       "      <td>BLOOD CULTURE</td>\n",
       "      <td>2191-03-16 00:00:00</td>\n",
       "      <td>positive</td>\n",
       "      <td>C_pos/A_full</td>\n",
       "      <td>185777</td>\n",
       "    </tr>\n",
       "    <tr>\n",
       "      <th>1</th>\n",
       "      <td>220597</td>\n",
       "      <td>2149-11-10 09:40:00</td>\n",
       "      <td>45</td>\n",
       "      <td>2149-11-09 13:07:02</td>\n",
       "      <td>2089126</td>\n",
       "      <td>2149-11-10</td>\n",
       "      <td>2149-11-15</td>\n",
       "      <td>0 days 00:00:00.000000000</td>\n",
       "      <td>2149-11-10</td>\n",
       "      <td>2149-11-15</td>\n",
       "      <td>...</td>\n",
       "      <td>9</td>\n",
       "      <td>2149-11-14</td>\n",
       "      <td>2149-11-14</td>\n",
       "      <td>full</td>\n",
       "      <td>NaN</td>\n",
       "      <td>NaN</td>\n",
       "      <td>2149-11-10 09:40:00</td>\n",
       "      <td>negative</td>\n",
       "      <td>C_neg/A_full</td>\n",
       "      <td>150750</td>\n",
       "    </tr>\n",
       "    <tr>\n",
       "      <th>2</th>\n",
       "      <td>232669</td>\n",
       "      <td>2104-08-11 00:00:00</td>\n",
       "      <td>60</td>\n",
       "      <td>2104-08-08 02:08:17</td>\n",
       "      <td>616189</td>\n",
       "      <td>2104-08-11</td>\n",
       "      <td>2104-08-12</td>\n",
       "      <td>0 days 00:00:00.000000000</td>\n",
       "      <td>2104-08-11</td>\n",
       "      <td>2104-08-12</td>\n",
       "      <td>...</td>\n",
       "      <td>12</td>\n",
       "      <td>2104-08-20</td>\n",
       "      <td>2104-08-20</td>\n",
       "      <td>partial</td>\n",
       "      <td>NaN</td>\n",
       "      <td>NaN</td>\n",
       "      <td>2104-08-11 00:00:00</td>\n",
       "      <td>negative</td>\n",
       "      <td>C_neg/A_partial</td>\n",
       "      <td>112213</td>\n",
       "    </tr>\n",
       "    <tr>\n",
       "      <th>3</th>\n",
       "      <td>273430</td>\n",
       "      <td>2108-08-05 20:42:00</td>\n",
       "      <td>69</td>\n",
       "      <td>2108-08-05 16:26:09</td>\n",
       "      <td>2572274</td>\n",
       "      <td>2108-08-06</td>\n",
       "      <td>2108-08-08</td>\n",
       "      <td>1 days 00:00:00.000000000</td>\n",
       "      <td>2108-08-06</td>\n",
       "      <td>2108-08-08</td>\n",
       "      <td>...</td>\n",
       "      <td>19</td>\n",
       "      <td>NaN</td>\n",
       "      <td>2109-08-18</td>\n",
       "      <td>partial</td>\n",
       "      <td>NaN</td>\n",
       "      <td>NaN</td>\n",
       "      <td>2108-08-05 20:42:00</td>\n",
       "      <td>negative</td>\n",
       "      <td>C_neg/A_partial</td>\n",
       "      <td>109235</td>\n",
       "    </tr>\n",
       "    <tr>\n",
       "      <th>4</th>\n",
       "      <td>217847</td>\n",
       "      <td>2134-09-11 09:35:00</td>\n",
       "      <td>70</td>\n",
       "      <td>2134-09-11 20:50:04</td>\n",
       "      <td>1388217</td>\n",
       "      <td>2134-09-12</td>\n",
       "      <td>2134-09-13</td>\n",
       "      <td>1 days 00:00:00.000000000</td>\n",
       "      <td>2134-09-12</td>\n",
       "      <td>2134-09-13</td>\n",
       "      <td>...</td>\n",
       "      <td>21</td>\n",
       "      <td>2135-02-08</td>\n",
       "      <td>2135-02-08</td>\n",
       "      <td>full</td>\n",
       "      <td>NaN</td>\n",
       "      <td>NaN</td>\n",
       "      <td>2134-09-11 09:35:00</td>\n",
       "      <td>negative</td>\n",
       "      <td>C_neg/A_full</td>\n",
       "      <td>109451</td>\n",
       "    </tr>\n",
       "  </tbody>\n",
       "</table>\n",
       "<p>5 rows × 23 columns</p>\n",
       "</div>"
      ],
      "text/plain": [
       "   icustay_id        ssc_charttime  ssc_id            icu_admit    ab_id  \\\n",
       "0      294638  2191-03-16 00:00:00      22  2191-03-16 00:29:31  1213116   \n",
       "1      220597  2149-11-10 09:40:00      45  2149-11-09 13:07:02  2089126   \n",
       "2      232669  2104-08-11 00:00:00      60  2104-08-08 02:08:17   616189   \n",
       "3      273430  2108-08-05 20:42:00      69  2108-08-05 16:26:09  2572274   \n",
       "4      217847  2134-09-11 09:35:00      70  2134-09-11 20:50:04  1388217   \n",
       "\n",
       "     ab_start      ab_end               ab_ssc_delta         t_0       t_end  \\\n",
       "0  2191-03-16  2191-03-22  0 days 00:00:00.000000000  2191-03-16  2191-03-22   \n",
       "1  2149-11-10  2149-11-15  0 days 00:00:00.000000000  2149-11-10  2149-11-15   \n",
       "2  2104-08-11  2104-08-12  0 days 00:00:00.000000000  2104-08-11  2104-08-12   \n",
       "3  2108-08-06  2108-08-08  1 days 00:00:00.000000000  2108-08-06  2108-08-08   \n",
       "4  2134-09-12  2134-09-13  1 days 00:00:00.000000000  2134-09-12  2134-09-13   \n",
       "\n",
       "   ... subject_id    dod_hosp     dod_ssn  ab_course             org_list  \\\n",
       "0  ...          4         NaN         NaN       full  STAPH AUREUS COAG +   \n",
       "1  ...          9  2149-11-14  2149-11-14       full                  NaN   \n",
       "2  ...         12  2104-08-20  2104-08-20    partial                  NaN   \n",
       "3  ...         19         NaN  2109-08-18    partial                  NaN   \n",
       "4  ...         21  2135-02-08  2135-02-08       full                  NaN   \n",
       "\n",
       "  spec_type_list first_pos_else_neg_ssc sc_result        final_bin hadm_id  \n",
       "0  BLOOD CULTURE    2191-03-16 00:00:00  positive     C_pos/A_full  185777  \n",
       "1            NaN    2149-11-10 09:40:00  negative     C_neg/A_full  150750  \n",
       "2            NaN    2104-08-11 00:00:00  negative  C_neg/A_partial  112213  \n",
       "3            NaN    2108-08-05 20:42:00  negative  C_neg/A_partial  109235  \n",
       "4            NaN    2134-09-11 09:35:00  negative     C_neg/A_full  109451  \n",
       "\n",
       "[5 rows x 23 columns]"
      ]
     },
     "execution_count": 7,
     "metadata": {},
     "output_type": "execute_result"
    },
    {
     "name": "stdout",
     "output_type": "stream",
     "text": [
      "time: 36.2 ms\n"
     ]
    }
   ],
   "source": [
    "final_pt_df2.head()#['icustay_id'].nunique()"
   ]
  },
  {
   "cell_type": "code",
   "execution_count": 67,
   "metadata": {},
   "outputs": [
    {
     "data": {
      "text/plain": [
       "C_neg/A_partial    7867\n",
       "C_neg/A_full       7401\n",
       "C_pos/A_full       2438\n",
       "C_pos/A_partial    1927\n",
       "Name: final_bin, dtype: int64"
      ]
     },
     "execution_count": 67,
     "metadata": {},
     "output_type": "execute_result"
    },
    {
     "name": "stdout",
     "output_type": "stream",
     "text": [
      "time: 4.81 ms\n"
     ]
    }
   ],
   "source": [
    "final_pt_df2['final_bin'].value_counts()"
   ]
  },
  {
   "cell_type": "markdown",
   "metadata": {},
   "source": [
    "**duration of ab across groups and in final cohort**"
   ]
  },
  {
   "cell_type": "code",
   "execution_count": 11,
   "metadata": {},
   "outputs": [
    {
     "data": {
      "text/plain": [
       "8938"
      ]
     },
     "execution_count": 11,
     "metadata": {},
     "output_type": "execute_result"
    },
    {
     "name": "stdout",
     "output_type": "stream",
     "text": [
      "time: 4.66 ms\n"
     ]
    }
   ],
   "source": [
    "final_pt_df2.loc[final_pt_df2['final_bin'].isin(['C_neg/A_partial','C_pos/A_full']),'subject_id'].nunique()"
   ]
  },
  {
   "cell_type": "code",
   "execution_count": 19,
   "metadata": {},
   "outputs": [
    {
     "data": {
      "text/html": [
       "<div>\n",
       "<style scoped>\n",
       "    .dataframe tbody tr th:only-of-type {\n",
       "        vertical-align: middle;\n",
       "    }\n",
       "\n",
       "    .dataframe tbody tr th {\n",
       "        vertical-align: top;\n",
       "    }\n",
       "\n",
       "    .dataframe thead th {\n",
       "        text-align: right;\n",
       "    }\n",
       "</style>\n",
       "<table border=\"1\" class=\"dataframe\">\n",
       "  <thead>\n",
       "    <tr style=\"text-align: right;\">\n",
       "      <th></th>\n",
       "      <th>count</th>\n",
       "      <th>mean</th>\n",
       "      <th>std</th>\n",
       "      <th>min</th>\n",
       "      <th>25%</th>\n",
       "      <th>50%</th>\n",
       "      <th>75%</th>\n",
       "      <th>max</th>\n",
       "    </tr>\n",
       "    <tr>\n",
       "      <th>final_bin</th>\n",
       "      <th></th>\n",
       "      <th></th>\n",
       "      <th></th>\n",
       "      <th></th>\n",
       "      <th></th>\n",
       "      <th></th>\n",
       "      <th></th>\n",
       "      <th></th>\n",
       "    </tr>\n",
       "  </thead>\n",
       "  <tbody>\n",
       "    <tr>\n",
       "      <th>C_neg/A_full</th>\n",
       "      <td>7401</td>\n",
       "      <td>9 days 01:45:39.035265</td>\n",
       "      <td>7 days 15:16:42.607076</td>\n",
       "      <td>0 days</td>\n",
       "      <td>5 days</td>\n",
       "      <td>7 days</td>\n",
       "      <td>11 days</td>\n",
       "      <td>153 days</td>\n",
       "    </tr>\n",
       "    <tr>\n",
       "      <th>C_neg/A_partial</th>\n",
       "      <td>7867</td>\n",
       "      <td>2 days 01:52:56.255243</td>\n",
       "      <td>1 days 05:29:25.401829</td>\n",
       "      <td>0 days</td>\n",
       "      <td>1 days</td>\n",
       "      <td>2 days</td>\n",
       "      <td>3 days</td>\n",
       "      <td>4 days</td>\n",
       "    </tr>\n",
       "    <tr>\n",
       "      <th>C_pos/A_full</th>\n",
       "      <td>2438</td>\n",
       "      <td>9 days 10:14:51.878589</td>\n",
       "      <td>8 days 02:15:34.133356</td>\n",
       "      <td>0 days</td>\n",
       "      <td>5 days</td>\n",
       "      <td>7 days</td>\n",
       "      <td>11 days</td>\n",
       "      <td>97 days</td>\n",
       "    </tr>\n",
       "    <tr>\n",
       "      <th>C_pos/A_partial</th>\n",
       "      <td>1927</td>\n",
       "      <td>2 days 06:17:22.449403</td>\n",
       "      <td>1 days 05:19:51.665569</td>\n",
       "      <td>0 days</td>\n",
       "      <td>1 days</td>\n",
       "      <td>2 days</td>\n",
       "      <td>3 days</td>\n",
       "      <td>4 days</td>\n",
       "    </tr>\n",
       "  </tbody>\n",
       "</table>\n",
       "</div>"
      ],
      "text/plain": [
       "                count                   mean                    std    min  \\\n",
       "final_bin                                                                    \n",
       "C_neg/A_full     7401 9 days 01:45:39.035265 7 days 15:16:42.607076 0 days   \n",
       "C_neg/A_partial  7867 2 days 01:52:56.255243 1 days 05:29:25.401829 0 days   \n",
       "C_pos/A_full     2438 9 days 10:14:51.878589 8 days 02:15:34.133356 0 days   \n",
       "C_pos/A_partial  1927 2 days 06:17:22.449403 1 days 05:19:51.665569 0 days   \n",
       "\n",
       "                   25%    50%     75%      max  \n",
       "final_bin                                       \n",
       "C_neg/A_full    5 days 7 days 11 days 153 days  \n",
       "C_neg/A_partial 1 days 2 days  3 days   4 days  \n",
       "C_pos/A_full    5 days 7 days 11 days  97 days  \n",
       "C_pos/A_partial 1 days 2 days  3 days   4 days  "
      ]
     },
     "execution_count": 19,
     "metadata": {},
     "output_type": "execute_result"
    },
    {
     "name": "stdout",
     "output_type": "stream",
     "text": [
      "time: 26.3 ms\n"
     ]
    }
   ],
   "source": [
    "final_pt_df2['abduration']=pd.to_timedelta(final_pt_df2['abduration'])\n",
    "(final_pt_df2.groupby('final_bin')['abduration'].describe())"
   ]
  },
  {
   "cell_type": "code",
   "execution_count": 22,
   "metadata": {},
   "outputs": [
    {
     "data": {
      "text/plain": [
       "count                     17706\n",
       "mean     6 days 00:20:19.925449\n",
       "std      6 days 19:35:28.220372\n",
       "min             0 days 00:00:00\n",
       "25%             2 days 00:00:00\n",
       "50%             4 days 00:00:00\n",
       "75%             8 days 00:00:00\n",
       "max           153 days 00:00:00\n",
       "Name: abduration, dtype: object"
      ]
     },
     "execution_count": 22,
     "metadata": {},
     "output_type": "execute_result"
    },
    {
     "name": "stdout",
     "output_type": "stream",
     "text": [
      "time: 8.6 ms\n"
     ]
    }
   ],
   "source": [
    "(final_pt_df2.loc[\n",
    "    final_pt_df2['final_bin'].isin(['C_neg/A_partial','C_pos/A_full','C_neg/A_full']),'abduration']\n",
    "                     .describe())"
   ]
  },
  {
   "cell_type": "code",
   "execution_count": 53,
   "metadata": {},
   "outputs": [
    {
     "name": "stdout",
     "output_type": "stream",
     "text": [
      "time: 8.7 ms\n"
     ]
    }
   ],
   "source": [
    "# unadjusted_abday1=np.array(final_pt_df2.loc[\n",
    "#     final_pt_df2['final_bin'].isin(['C_neg/A_partial','C_pos/A_full','C_neg/A_full']),'abduration'].dt.days)\n",
    "\n",
    "# unadjusted_abday2=np.array(final_pt_df2.loc[\n",
    "#     final_pt_df2['final_bin'].isin(['C_neg/A_partial','C_pos/A_full']),'abduration'].dt.days)\n",
    "\n",
    "# adjusted_abday1=np.array(final_pt_df2.loc[\n",
    "#     final_pt_df2['final_bin'].isin(['C_pos/A_full','C_neg/A_full']),'abduration'].dt.days)\n",
    "\n",
    "# adjusted_abday2=np.array(final_pt_df2.loc[\n",
    "#     final_pt_df2['final_bin'].isin(['C_pos/A_full']),'abduration'].dt.days)\n",
    "\n",
    "\n"
   ]
  },
  {
   "cell_type": "markdown",
   "metadata": {},
   "source": [
    "**getting number of patients that were coded as prolonged based on death**"
   ]
  },
  {
   "cell_type": "code",
   "execution_count": 66,
   "metadata": {},
   "outputs": [
    {
     "name": "stdout",
     "output_type": "stream",
     "text": [
      "1266 934 934\n",
      "time: 34.2 ms\n"
     ]
    }
   ],
   "source": [
    "# (pd.to_datetime(ssc_t0ab_t0ssc['t_end_consec'])+ pd.DateOffset(1)) \n",
    "#      >= pd.to_datetime(ssc_t0ab_t0ssc['dod_ssn']\n",
    "#list(final_pt_df2)\n",
    "print(\n",
    "len(final_pt_df2[(pd.to_datetime(final_pt_df2['t_end'])+ pd.DateOffset(1))>= pd.to_datetime(final_pt_df2['dod_ssn'])]),\n",
    "\n",
    "len(final_pt_df2[(pd.to_datetime(final_pt_df2['t_end']))>= pd.to_datetime(final_pt_df2['dod_ssn'])]),\n",
    "len(final_pt_df2[(pd.to_datetime(final_pt_df2['t_end'])+ pd.DateOffset(1))>= pd.to_datetime(final_pt_df2['dod_ssn'])+ pd.DateOffset(1)])\n",
    ")\n",
    "\n",
    "\n",
    "# i considered any patient who had their last antibiotic date at or after either \n",
    "# #hospital or ssn DOD as \"full\" ab course OR having their last ab dose within 24 hours of their date of death (either dod). "
   ]
  },
  {
   "cell_type": "code",
   "execution_count": 61,
   "metadata": {},
   "outputs": [
    {
     "data": {
      "text/plain": [
       "0        2191-03-22\n",
       "1        2149-11-15\n",
       "2        2104-08-12\n",
       "3        2108-08-08\n",
       "4        2134-09-13\n",
       "            ...    \n",
       "19628    2157-03-04\n",
       "19629    2191-08-25\n",
       "19630    2180-12-01\n",
       "19631    2181-02-02\n",
       "19632    2147-02-10\n",
       "Name: t_end, Length: 19633, dtype: object"
      ]
     },
     "execution_count": 61,
     "metadata": {},
     "output_type": "execute_result"
    },
    {
     "name": "stdout",
     "output_type": "stream",
     "text": [
      "time: 7.68 ms\n"
     ]
    }
   ],
   "source": [
    "final_pt_df2['t_end']"
   ]
  },
  {
   "cell_type": "code",
   "execution_count": null,
   "metadata": {},
   "outputs": [],
   "source": []
  },
  {
   "cell_type": "markdown",
   "metadata": {},
   "source": [
    "**demographics**"
   ]
  },
  {
   "cell_type": "code",
   "execution_count": 12,
   "metadata": {},
   "outputs": [
    {
     "data": {
      "text/plain": [
       "['icustay_id',\n",
       " 'bilirubin',\n",
       " 'bun',\n",
       " 'chloride',\n",
       " 'creatinine',\n",
       " 'glucose',\n",
       " 'heartrate',\n",
       " 'inr',\n",
       " 'lactate',\n",
       " 'potassium',\n",
       " 'ptt',\n",
       " 'resprate',\n",
       " 'sum_elix',\n",
       " 'temperature',\n",
       " 'weight',\n",
       " 'yearsold',\n",
       " 'bicarbonate',\n",
       " 'diasbp',\n",
       " 'hemoglobin',\n",
       " 'meanartpress',\n",
       " 'mingcs',\n",
       " 'pao2fio2ratio',\n",
       " 'ph',\n",
       " 'platelet',\n",
       " 'spo2',\n",
       " 'sysbp',\n",
       " \"('max', 'calcium')\",\n",
       " \"('max', 'sodium')\",\n",
       " \"('max', 'wbc')\",\n",
       " \"('min', 'calcium')\",\n",
       " \"('min', 'sodium')\",\n",
       " \"('min', 'wbc')\",\n",
       " 'any_vasoactives',\n",
       " 'bands',\n",
       " 'cancer_elix',\n",
       " 'dobutamine',\n",
       " 'dopamine',\n",
       " 'epinephrine',\n",
       " 'ethnicity',\n",
       " 'gender',\n",
       " 'leukocyte',\n",
       " 'nitrite',\n",
       " 'norepinephrine',\n",
       " 'pco2',\n",
       " 'phenylephrine',\n",
       " 'rrt',\n",
       " 'vasopressin',\n",
       " 'vent_recieved']"
      ]
     },
     "execution_count": 12,
     "metadata": {},
     "output_type": "execute_result"
    },
    {
     "name": "stdout",
     "output_type": "stream",
     "text": [
      "time: 2.36 ms\n"
     ]
    }
   ],
   "source": [
    "list(train_data)"
   ]
  },
  {
   "cell_type": "code",
   "execution_count": 13,
   "metadata": {},
   "outputs": [
    {
     "name": "stdout",
     "output_type": "stream",
     "text": [
      "time: 4.67 ms\n"
     ]
    }
   ],
   "source": [
    "full_demo=pd.concat([train_data[['icustay_id','yearsold','ethnicity','gender']],test_data[['icustay_id','yearsold','ethnicity','gender']]])"
   ]
  },
  {
   "cell_type": "code",
   "execution_count": 14,
   "metadata": {},
   "outputs": [
    {
     "data": {
      "text/html": [
       "<div>\n",
       "<style scoped>\n",
       "    .dataframe tbody tr th:only-of-type {\n",
       "        vertical-align: middle;\n",
       "    }\n",
       "\n",
       "    .dataframe tbody tr th {\n",
       "        vertical-align: top;\n",
       "    }\n",
       "\n",
       "    .dataframe thead th {\n",
       "        text-align: right;\n",
       "    }\n",
       "</style>\n",
       "<table border=\"1\" class=\"dataframe\">\n",
       "  <thead>\n",
       "    <tr style=\"text-align: right;\">\n",
       "      <th></th>\n",
       "      <th>icustay_id</th>\n",
       "      <th>yearsold</th>\n",
       "    </tr>\n",
       "  </thead>\n",
       "  <tbody>\n",
       "    <tr>\n",
       "      <th>count</th>\n",
       "      <td>10305.000000</td>\n",
       "      <td>10305.000000</td>\n",
       "    </tr>\n",
       "    <tr>\n",
       "      <th>mean</th>\n",
       "      <td>249857.183212</td>\n",
       "      <td>-0.018518</td>\n",
       "    </tr>\n",
       "    <tr>\n",
       "      <th>std</th>\n",
       "      <td>28968.046750</td>\n",
       "      <td>0.094015</td>\n",
       "    </tr>\n",
       "    <tr>\n",
       "      <th>min</th>\n",
       "      <td>200012.000000</td>\n",
       "      <td>-0.417086</td>\n",
       "    </tr>\n",
       "    <tr>\n",
       "      <th>25%</th>\n",
       "      <td>224498.000000</td>\n",
       "      <td>-0.063945</td>\n",
       "    </tr>\n",
       "    <tr>\n",
       "      <th>50%</th>\n",
       "      <td>249804.000000</td>\n",
       "      <td>0.002141</td>\n",
       "    </tr>\n",
       "    <tr>\n",
       "      <th>75%</th>\n",
       "      <td>275055.000000</td>\n",
       "      <td>0.052154</td>\n",
       "    </tr>\n",
       "    <tr>\n",
       "      <th>max</th>\n",
       "      <td>299995.000000</td>\n",
       "      <td>0.094968</td>\n",
       "    </tr>\n",
       "  </tbody>\n",
       "</table>\n",
       "</div>"
      ],
      "text/plain": [
       "          icustay_id      yearsold\n",
       "count   10305.000000  10305.000000\n",
       "mean   249857.183212     -0.018518\n",
       "std     28968.046750      0.094015\n",
       "min    200012.000000     -0.417086\n",
       "25%    224498.000000     -0.063945\n",
       "50%    249804.000000      0.002141\n",
       "75%    275055.000000      0.052154\n",
       "max    299995.000000      0.094968"
      ]
     },
     "execution_count": 14,
     "metadata": {},
     "output_type": "execute_result"
    },
    {
     "name": "stdout",
     "output_type": "stream",
     "text": [
      "time: 19.9 ms\n"
     ]
    }
   ],
   "source": [
    "full_demo.describe()"
   ]
  },
  {
   "cell_type": "code",
   "execution_count": 15,
   "metadata": {},
   "outputs": [
    {
     "data": {
      "text/html": [
       "<div>\n",
       "<style scoped>\n",
       "    .dataframe tbody tr th:only-of-type {\n",
       "        vertical-align: middle;\n",
       "    }\n",
       "\n",
       "    .dataframe tbody tr th {\n",
       "        vertical-align: top;\n",
       "    }\n",
       "\n",
       "    .dataframe thead th {\n",
       "        text-align: right;\n",
       "    }\n",
       "</style>\n",
       "<table border=\"1\" class=\"dataframe\">\n",
       "  <thead>\n",
       "    <tr style=\"text-align: right;\">\n",
       "      <th></th>\n",
       "      <th>icustay_id</th>\n",
       "      <th>yearsold</th>\n",
       "      <th>ethnicity</th>\n",
       "      <th>gender</th>\n",
       "    </tr>\n",
       "  </thead>\n",
       "  <tbody>\n",
       "    <tr>\n",
       "      <th>0</th>\n",
       "      <td>200012.0</td>\n",
       "      <td>-0.206692</td>\n",
       "      <td>asian</td>\n",
       "      <td>F</td>\n",
       "    </tr>\n",
       "    <tr>\n",
       "      <th>1</th>\n",
       "      <td>200014.0</td>\n",
       "      <td>0.074783</td>\n",
       "      <td>unknown/other</td>\n",
       "      <td>M</td>\n",
       "    </tr>\n",
       "    <tr>\n",
       "      <th>2</th>\n",
       "      <td>200033.0</td>\n",
       "      <td>0.004945</td>\n",
       "      <td>white/nonhispanic</td>\n",
       "      <td>M</td>\n",
       "    </tr>\n",
       "    <tr>\n",
       "      <th>3</th>\n",
       "      <td>200036.0</td>\n",
       "      <td>0.037873</td>\n",
       "      <td>white/nonhispanic</td>\n",
       "      <td>M</td>\n",
       "    </tr>\n",
       "    <tr>\n",
       "      <th>4</th>\n",
       "      <td>200055.0</td>\n",
       "      <td>-0.219450</td>\n",
       "      <td>black</td>\n",
       "      <td>F</td>\n",
       "    </tr>\n",
       "  </tbody>\n",
       "</table>\n",
       "</div>"
      ],
      "text/plain": [
       "   icustay_id  yearsold          ethnicity gender\n",
       "0    200012.0 -0.206692              asian      F\n",
       "1    200014.0  0.074783      unknown/other      M\n",
       "2    200033.0  0.004945  white/nonhispanic      M\n",
       "3    200036.0  0.037873  white/nonhispanic      M\n",
       "4    200055.0 -0.219450              black      F"
      ]
     },
     "execution_count": 15,
     "metadata": {},
     "output_type": "execute_result"
    },
    {
     "name": "stdout",
     "output_type": "stream",
     "text": [
      "time: 7.21 ms\n"
     ]
    }
   ],
   "source": [
    "full_demo.head()"
   ]
  },
  {
   "cell_type": "code",
   "execution_count": 16,
   "metadata": {},
   "outputs": [
    {
     "data": {
      "text/plain": [
       "C_neg/A_partial    7867\n",
       "C_pos/A_full       2438\n",
       "Name: final_bin, dtype: int64"
      ]
     },
     "execution_count": 16,
     "metadata": {},
     "output_type": "execute_result"
    },
    {
     "name": "stdout",
     "output_type": "stream",
     "text": [
      "time: 18.5 ms\n"
     ]
    }
   ],
   "source": [
    "full_demo.merge(final_pt_df2[['icustay_id','subject_id','final_bin']])['final_bin'].value_counts()"
   ]
  },
  {
   "cell_type": "code",
   "execution_count": 17,
   "metadata": {},
   "outputs": [
    {
     "data": {
      "text/plain": [
       "-0.41708575475214704"
      ]
     },
     "execution_count": 17,
     "metadata": {},
     "output_type": "execute_result"
    },
    {
     "name": "stdout",
     "output_type": "stream",
     "text": [
      "time: 2.5 ms\n"
     ]
    }
   ],
   "source": [
    "full_demo['yearsold'].min()"
   ]
  },
  {
   "cell_type": "code",
   "execution_count": 18,
   "metadata": {},
   "outputs": [
    {
     "data": {
      "text/plain": [
       "white/nonhispanic    7472\n",
       "black                1130\n",
       "unknown/other         995\n",
       "hispanic              433\n",
       "asian                 275\n",
       "Name: ethnicity, dtype: int64"
      ]
     },
     "execution_count": 18,
     "metadata": {},
     "output_type": "execute_result"
    },
    {
     "name": "stdout",
     "output_type": "stream",
     "text": [
      "time: 4.29 ms\n"
     ]
    }
   ],
   "source": [
    "full_demo['ethnicity'].value_counts()"
   ]
  },
  {
   "cell_type": "code",
   "execution_count": 19,
   "metadata": {},
   "outputs": [
    {
     "data": {
      "text/plain": [
       "white/nonhispanic    7472\n",
       "black                1130\n",
       "unknown/other         995\n",
       "hispanic              433\n",
       "asian                 275\n",
       "Name: ethnicity, dtype: int64"
      ]
     },
     "execution_count": 19,
     "metadata": {},
     "output_type": "execute_result"
    },
    {
     "name": "stdout",
     "output_type": "stream",
     "text": [
      "time: 4.52 ms\n"
     ]
    }
   ],
   "source": [
    "full_demo['ethnicity'].value_counts()"
   ]
  },
  {
   "cell_type": "code",
   "execution_count": 20,
   "metadata": {},
   "outputs": [
    {
     "data": {
      "text/plain": [
       "M    5706\n",
       "F    4599\n",
       "Name: gender, dtype: int64"
      ]
     },
     "execution_count": 20,
     "metadata": {},
     "output_type": "execute_result"
    },
    {
     "name": "stdout",
     "output_type": "stream",
     "text": [
      "time: 4.53 ms\n"
     ]
    }
   ],
   "source": [
    "full_demo['gender'].value_counts()"
   ]
  },
  {
   "cell_type": "code",
   "execution_count": 21,
   "metadata": {},
   "outputs": [
    {
     "data": {
      "text/html": [
       "<div>\n",
       "<style scoped>\n",
       "    .dataframe tbody tr th:only-of-type {\n",
       "        vertical-align: middle;\n",
       "    }\n",
       "\n",
       "    .dataframe tbody tr th {\n",
       "        vertical-align: top;\n",
       "    }\n",
       "\n",
       "    .dataframe thead th {\n",
       "        text-align: right;\n",
       "    }\n",
       "</style>\n",
       "<table border=\"1\" class=\"dataframe\">\n",
       "  <thead>\n",
       "    <tr style=\"text-align: right;\">\n",
       "      <th></th>\n",
       "      <th>icustay_id</th>\n",
       "      <th>yearsold</th>\n",
       "      <th>ethnicity</th>\n",
       "      <th>gender</th>\n",
       "    </tr>\n",
       "  </thead>\n",
       "  <tbody>\n",
       "    <tr>\n",
       "      <th>0</th>\n",
       "      <td>200030.0</td>\n",
       "      <td>-0.057816</td>\n",
       "      <td>black</td>\n",
       "      <td>M</td>\n",
       "    </tr>\n",
       "    <tr>\n",
       "      <th>1</th>\n",
       "      <td>200063.0</td>\n",
       "      <td>-0.171266</td>\n",
       "      <td>unknown/other</td>\n",
       "      <td>M</td>\n",
       "    </tr>\n",
       "    <tr>\n",
       "      <th>2</th>\n",
       "      <td>200078.0</td>\n",
       "      <td>-0.002132</td>\n",
       "      <td>white/nonhispanic</td>\n",
       "      <td>M</td>\n",
       "    </tr>\n",
       "    <tr>\n",
       "      <th>3</th>\n",
       "      <td>200109.0</td>\n",
       "      <td>0.025988</td>\n",
       "      <td>unknown/other</td>\n",
       "      <td>M</td>\n",
       "    </tr>\n",
       "    <tr>\n",
       "      <th>4</th>\n",
       "      <td>200116.0</td>\n",
       "      <td>-0.045266</td>\n",
       "      <td>white/nonhispanic</td>\n",
       "      <td>M</td>\n",
       "    </tr>\n",
       "  </tbody>\n",
       "</table>\n",
       "</div>"
      ],
      "text/plain": [
       "   icustay_id  yearsold          ethnicity gender\n",
       "0    200030.0 -0.057816              black      M\n",
       "1    200063.0 -0.171266      unknown/other      M\n",
       "2    200078.0 -0.002132  white/nonhispanic      M\n",
       "3    200109.0  0.025988      unknown/other      M\n",
       "4    200116.0 -0.045266  white/nonhispanic      M"
      ]
     },
     "execution_count": 21,
     "metadata": {},
     "output_type": "execute_result"
    },
    {
     "name": "stdout",
     "output_type": "stream",
     "text": [
      "time: 7.98 ms\n"
     ]
    }
   ],
   "source": [
    "test_data[['icustay_id','yearsold','ethnicity','gender']].head()"
   ]
  },
  {
   "cell_type": "code",
   "execution_count": 22,
   "metadata": {},
   "outputs": [
    {
     "data": {
      "text/plain": [
       "C_neg/A_partial    5512\n",
       "C_pos/A_full       1693\n",
       "Name: final_bin, dtype: int64"
      ]
     },
     "execution_count": 22,
     "metadata": {},
     "output_type": "execute_result"
    },
    {
     "name": "stdout",
     "output_type": "stream",
     "text": [
      "time: 21.4 ms\n"
     ]
    }
   ],
   "source": [
    "train_data.merge(final_pt_df2[['icustay_id','subject_id','final_bin']])['final_bin'].value_counts()"
   ]
  },
  {
   "cell_type": "code",
   "execution_count": 23,
   "metadata": {},
   "outputs": [
    {
     "data": {
      "text/plain": [
       "C_neg/A_partial    2355\n",
       "C_pos/A_full        745\n",
       "Name: final_bin, dtype: int64"
      ]
     },
     "execution_count": 23,
     "metadata": {},
     "output_type": "execute_result"
    },
    {
     "name": "stdout",
     "output_type": "stream",
     "text": [
      "time: 17.5 ms\n"
     ]
    }
   ],
   "source": [
    "test_data.merge(final_pt_df2[['icustay_id','subject_id','final_bin']])['final_bin'].value_counts()"
   ]
  },
  {
   "cell_type": "code",
   "execution_count": 24,
   "metadata": {},
   "outputs": [
    {
     "data": {
      "text/plain": [
       "C_neg/A_partial    7867\n",
       "C_neg/A_full       7401\n",
       "C_pos/A_full       2438\n",
       "C_pos/A_partial    1927\n",
       "Name: final_bin, dtype: int64"
      ]
     },
     "execution_count": 24,
     "metadata": {},
     "output_type": "execute_result"
    },
    {
     "name": "stdout",
     "output_type": "stream",
     "text": [
      "time: 5.57 ms\n"
     ]
    }
   ],
   "source": [
    "final_pt_df2['final_bin'].value_counts()"
   ]
  },
  {
   "cell_type": "markdown",
   "metadata": {},
   "source": [
    "## back to the formatting and final preprocessing"
   ]
  },
  {
   "cell_type": "code",
   "execution_count": 25,
   "metadata": {},
   "outputs": [
    {
     "name": "stdout",
     "output_type": "stream",
     "text": [
      "time: 1.09 ms\n"
     ]
    }
   ],
   "source": [
    "def rename_fxn(data):\n",
    "    \"\"\"\n",
    "    renames data columns to be more readable.\n",
    "    \"\"\"\n",
    "    rename_dic={\n",
    "    \"('max', 'sodium')\": \"maxSodium\" ,\n",
    "    \"('max', 'sodium')\" : \"maxSodium\",\n",
    "    \"('min', 'sodium')\" : \"minSodium\",\n",
    "    \"('max', 'calcium')\" : \"maxCalcium\",\n",
    "    \"('min', 'calcium')\" : \"minCalcium\",\n",
    "    \"('max', 'sodium')\": \"maxSodium\",\n",
    "    \"('min', 'sodium')\": \"minSodium\",\n",
    "    \"('max', 'wbc')\": \"maxWBC\",\n",
    "    \"('min', 'wbc')\": \"minWBC\"#,\n",
    "#     \"bands\": \"ibands\",\n",
    "#     \"pco2\": \"ipco2\"\n",
    "        }\n",
    "    data=data.rename(rename_dic, axis='columns').copy()\n",
    "    return(data)"
   ]
  },
  {
   "cell_type": "code",
   "execution_count": 26,
   "metadata": {},
   "outputs": [
    {
     "name": "stdout",
     "output_type": "stream",
     "text": [
      "time: 1.02 ms\n"
     ]
    }
   ],
   "source": [
    "def last_minute_clean(data):\n",
    "    \"some last minute data cleaning steps that were missed prior to this. eventually should be transitioned to earlier in pipeline\"\n",
    "    data.loc[data['ethnicity'].isnull(), 'ethnicity']='unknown/other'\n",
    "    data.loc[data['yearsold']>90,\"yearsold\"]=90\n",
    "    return(data)"
   ]
  },
  {
   "cell_type": "code",
   "execution_count": 27,
   "metadata": {},
   "outputs": [
    {
     "name": "stdout",
     "output_type": "stream",
     "text": [
      "time: 426 µs\n"
     ]
    }
   ],
   "source": [
    "# def standardize_fxn(data):\n",
    "#     \"\"\"\n",
    "#     function operations:\n",
    "#     2) standardize last 2 columns to be standardized (weight and age)\n",
    "#     \"\"\"\n",
    "#     from sklearn.impute import SimpleImputer\n",
    "    \n",
    "#     ### I chose to standardize the weight and age here (after the feature_aggregation)... I can't remember why though. either way, it doesn't affect anything, but is a bit clunky. \n",
    "#     weight_median=np.log(data.loc[data['final_bin']==\"C_neg/A_partial\",\"weight\"]+1).median()\n",
    "#     weight_quant1=np.log(data.loc[data['final_bin']==\"C_neg/A_partial\",\"weight\"]+1).quantile(0.25)#.between(train_data['col'].quantile(.25), df['col'].quantile(.75), inclusive=True)]\n",
    "#     weight_quant3=np.log(data.loc[data['final_bin']==\"C_neg/A_partial\",\"weight\"]+1).quantile(0.75)\n",
    "#     weight_iqr=weight_quant3-weight_quant1\n",
    "#     #print(weight_median,weight_quant3,weight_quant1, weight_iqr)\n",
    "\n",
    "#     age_median=np.log(data.loc[data['final_bin']==\"C_neg/A_partial\",\"yearsold\"]+1).median()\n",
    "#     age_quant1=np.log(data.loc[data['final_bin']==\"C_neg/A_partial\",\"yearsold\"]+1).quantile(0.25)\n",
    "#     age_quant3=np.log(data.loc[data['final_bin']==\"C_neg/A_partial\",\"yearsold\"]+1).quantile(0.75)\n",
    "#     age_iqr=age_quant3-age_quant1\n",
    "\n",
    "#     #converting to log scaled standardized data for age/weight\n",
    "#     data['weight']=data['weight'].apply(lambda x: (np.log(x+1)-weight_median)/weight_iqr)\n",
    "#     data['yearsold']=data['yearsold'].apply(lambda x: (np.log(x+1)-age_median)/age_iqr)\n",
    "    \n",
    "#     return(data)"
   ]
  },
  {
   "cell_type": "code",
   "execution_count": 28,
   "metadata": {},
   "outputs": [
    {
     "name": "stdout",
     "output_type": "stream",
     "text": [
      "time: 2.15 ms\n"
     ]
    }
   ],
   "source": [
    "def remap_categorical(data, categorical):\n",
    "    \"\"\"remapps the 0 and 1 back to interpretable values in the dataframe. useful to use before onehot encoding. also useful to fill in some missing values and nan's\"\"\"   \n",
    "\n",
    "    remapping_dic={\n",
    "    'vent_recieved':{0:'None', 2:'Mech' , 1:'OxygenTherapy', np.nan:'None'},\n",
    "    'cancer_elix':{0:'no_cancer_cormorb', 1:'cancer_comorbidity'},\n",
    "    'gender':{0:'F', 1:'M', np.nan:'NA'},\n",
    "    'leukocyte':{0:'Neg/Not_tested' , 1:'pos'},\n",
    "    'nitrite':{0:'Neg/Not_tested' , 1:'pos'},\n",
    "    'rrt':{0:'not_recieved' , 1:'recieved'},\n",
    "    'phenylephrine':{0:'not_recieved' , 1:'recieved'},\n",
    "    'norepinephrine':{0:'not_recieved' , 1:'recieved'},\n",
    "    'vasopressin':{0:'not_recieved' , 1:'recieved'},\n",
    "    'dobutamine':{0:'not_recieved' , 1:'recieved'},\n",
    "    'dopamine':{0:'not_recieved' , 1:'recieved'},\n",
    "    'epinephrine':{0:'not_recieved' , 1:'recieved'},\n",
    "    'any_vasoactives':{0:'not_recieved' , 1:'recieved'},\n",
    "    'o2_flow':{0:'no_flow', 1:\"recieved_O2\"}\n",
    "    }\n",
    "    \n",
    "    for col in list(data):\n",
    "        if col in ['ethnicity', 'bands','pco2']:\n",
    "            pass\n",
    "        elif col in categorical:\n",
    "            data[col]=data[col].replace(remapping_dic[col])\n",
    "        \n",
    "    return(data)"
   ]
  },
  {
   "cell_type": "code",
   "execution_count": 29,
   "metadata": {},
   "outputs": [
    {
     "name": "stdout",
     "output_type": "stream",
     "text": [
      "time: 715 µs\n"
     ]
    }
   ],
   "source": [
    "def onehotencoder(data, categorical):\n",
    "    \"\"\"\n",
    "    function operations:\n",
    "    3) convert categorical columns to proper format\n",
    "    \"\"\"\n",
    "\n",
    "    data = pd.get_dummies(data, columns = categorical, drop_first=True)\n",
    "    return(data)"
   ]
  },
  {
   "cell_type": "code",
   "execution_count": 30,
   "metadata": {},
   "outputs": [
    {
     "name": "stdout",
     "output_type": "stream",
     "text": [
      "time: 1.54 ms\n"
     ]
    }
   ],
   "source": [
    "def median_imputer(data, categorical):\n",
    "    \"\"\"\n",
    "    function operations:\n",
    "    4) median impute\n",
    "    \"\"\"\n",
    "    from sklearn.impute import SimpleImputer\n",
    "    \n",
    "    #pop outcome off\n",
    "    outcome= data.pop(\"final_bin\").values\n",
    "    notcat= [x for x in list(data) if x not in categorical]\n",
    "\n",
    "    #impute\n",
    "    imp = SimpleImputer(missing_values=np.nan, strategy='median')\n",
    "    data_imp = imp.fit_transform(data[notcat])   \n",
    "    \n",
    "    df= pd.DataFrame(data_imp, columns=list(data[notcat]))\n",
    "    df.set_index(data.index, inplace=True)\n",
    "    df[categorical]= data[categorical].copy()\n",
    "    \n",
    "    #reattach outcome\n",
    "    df['final_bin']= outcome\n",
    "    return(df)"
   ]
  },
  {
   "cell_type": "code",
   "execution_count": 31,
   "metadata": {},
   "outputs": [
    {
     "name": "stdout",
     "output_type": "stream",
     "text": [
      "time: 2.09 ms\n"
     ]
    }
   ],
   "source": [
    "def preprocessing(data, encode=True, twoclass=True):\n",
    "    \"\"\"\n",
    "    function operations: (each one of the below steps uses one of the functions defined above.)\n",
    "    1) rename columns\n",
    "    2) some last minute cleanup\n",
    "    3) standardize last 2 columns to be standardized\n",
    "    4) median impute \n",
    "    5) remap categorical values to be interpretable and encode them for modeling\n",
    "    6)\n",
    "    \"\"\"\n",
    "    from sklearn.impute import SimpleImputer\n",
    "    global categorical\n",
    "    \n",
    "    ###rename\n",
    "    data=rename_fxn(data)\n",
    "    \n",
    "    ###some last minute data cleaning steps that were missed prior to this. eventually should be transitioned to earlier in pipeline\n",
    "    data=last_minute_clean(data)\n",
    "    \n",
    "    ##scale & standardize the remaining 2 columns (age and weight)\n",
    "    #data=standardize_fxn(data)\n",
    "    \n",
    "    ### onehot encoding categorical var\n",
    "    \n",
    "    #remapping the 0 and 1 back to categorical values for more interpreable onehotencoding column headings\n",
    "    data=remap_categorical(data, categorical)\n",
    "    \n",
    "    #impute\n",
    "    data= median_imputer(data, categorical)\n",
    "    \n",
    "    #onehotencoding\n",
    "    if encode==True:\n",
    "        data=onehotencoder(data, categorical)\n",
    "    \n",
    "    #binarizing and poping outcome for training data; handling outcome for holdout long/neg\n",
    "    if twoclass==True:\n",
    "        data.loc[data['final_bin']==\"C_pos/A_full\",\"final_bin\"]=1\n",
    "        data.loc[data['final_bin']==\"C_neg/A_partial\",\"final_bin\"]=0\n",
    "        data['final_bin']=pd.to_numeric(data['final_bin'])\n",
    "    \n",
    "    else:\n",
    "        data.loc[data['final_bin']==\"C_neg/A_full\",\"final_bin\"]=0\n",
    "        data['final_bin']=pd.to_numeric(data['final_bin'])\n",
    "\n",
    "        \n",
    "    ## establishing training data and labels\n",
    "    x= data.copy()\n",
    "    z_icustay_id=x.pop('icustay_id')\n",
    "    y= x.pop(\"final_bin\").values\n",
    "    \n",
    "    return(x, y, z_icustay_id)"
   ]
  },
  {
   "cell_type": "markdown",
   "metadata": {},
   "source": [
    "# todo: get some statistics on missingness right before i perform imputation."
   ]
  },
  {
   "cell_type": "code",
   "execution_count": 32,
   "metadata": {},
   "outputs": [
    {
     "name": "stdout",
     "output_type": "stream",
     "text": [
      "time: 467 ms\n"
     ]
    }
   ],
   "source": [
    "x_train, y_train, z_icustay_id = preprocessing(pd.merge(train_data, final_pt_df2[['icustay_id','final_bin']]))\n",
    "x_test, y_test, z_icustay_id_test= preprocessing(pd.merge(test_data, final_pt_df2[['icustay_id','final_bin']]))\n",
    "x_longneg, y_longneg, z_icustay_id_longneg= preprocessing(pd.merge(longneg_data, final_pt_df2[['icustay_id','final_bin']]), twoclass=False)\n",
    "z_subject_id=pd.merge(pd.DataFrame(z_icustay_id), final_pt_df2[['icustay_id','subject_id']], how='left')['subject_id'] #7205"
   ]
  },
  {
   "cell_type": "code",
   "execution_count": 36,
   "metadata": {},
   "outputs": [
    {
     "name": "stdout",
     "output_type": "stream",
     "text": [
      "time: 236 ms\n"
     ]
    }
   ],
   "source": [
    "x_train2, y_train2, z_icustay_id2 = preprocessing(pd.merge(train_data, final_pt_df2[['icustay_id','final_bin']]),encode=False)\n",
    "x_test2, y_test2, z_icustay_id_test2= preprocessing(pd.merge(test_data, final_pt_df2[['icustay_id','final_bin']]),encode=False)\n"
   ]
  },
  {
   "cell_type": "code",
   "execution_count": 32,
   "metadata": {},
   "outputs": [
    {
     "name": "stdout",
     "output_type": "stream",
     "text": [
      "###ethnicity###\n",
      "white/nonhispanic    7472\n",
      "black                1130\n",
      "unknown/other         995\n",
      "hispanic              433\n",
      "asian                 275\n",
      "Name: ethnicity, dtype: int64 \n",
      "\n",
      "###bands###\n",
      "absent    8952\n",
      "<10        856\n",
      ">10        497\n",
      "Name: bands, dtype: int64 \n",
      "\n",
      "###pco2###\n",
      "absent    6798\n",
      "<50       2499\n",
      ">50       1008\n",
      "Name: pco2, dtype: int64 \n",
      "\n",
      "###any_vasoactives###\n",
      "not_recieved    7362\n",
      "recieved        2943\n",
      "Name: any_vasoactives, dtype: int64 \n",
      "\n",
      "###leukocyte###\n",
      "Neg/Not_tested    8959\n",
      "pos               1346\n",
      "Name: leukocyte, dtype: int64 \n",
      "\n",
      "###nitrite###\n",
      "Neg/Not_tested    10055\n",
      "pos                 250\n",
      "Name: nitrite, dtype: int64 \n",
      "\n",
      "###vent_recieved###\n",
      "Oxygen    4912\n",
      "Mech      4664\n",
      "None       729\n",
      "Name: vent_recieved, dtype: int64 \n",
      "\n",
      "###dobutamine###\n",
      "not_recieved    10205\n",
      "recieved          100\n",
      "Name: dobutamine, dtype: int64 \n",
      "\n",
      "###gender###\n",
      "M    5706\n",
      "F    4599\n",
      "Name: gender, dtype: int64 \n",
      "\n",
      "###dopamine###\n",
      "not_recieved    9830\n",
      "recieved         475\n",
      "Name: dopamine, dtype: int64 \n",
      "\n",
      "###epinephrine###\n",
      "not_recieved    10030\n",
      "recieved          275\n",
      "Name: epinephrine, dtype: int64 \n",
      "\n",
      "###norepinephrine###\n",
      "not_recieved    8775\n",
      "recieved        1530\n",
      "Name: norepinephrine, dtype: int64 \n",
      "\n",
      "###phenylephrine###\n",
      "not_recieved    8728\n",
      "recieved        1577\n",
      "Name: phenylephrine, dtype: int64 \n",
      "\n",
      "###rrt###\n",
      "not_recieved    9457\n",
      "recieved         848\n",
      "Name: rrt, dtype: int64 \n",
      "\n",
      "###vasopressin###\n",
      "not_recieved    10098\n",
      "recieved          207\n",
      "Name: vasopressin, dtype: int64 \n",
      "\n",
      "###cancer_elix###\n",
      "no_cancer_cormorb     9113\n",
      "cancer_comorbidity    1192\n",
      "Name: cancer_elix, dtype: int64 \n",
      "\n",
      "time: 64.1 ms\n"
     ]
    }
   ],
   "source": [
    "###checking distribution of all categorical variables\n",
    "full_set=pd.concat([x_train2,x_test2])\n",
    "for element in categorical:\n",
    "    print(\"###{}###\".format(element))\n",
    "    print(full_set[element].value_counts(), '\\n')"
   ]
  },
  {
   "cell_type": "code",
   "execution_count": 38,
   "metadata": {},
   "outputs": [
    {
     "data": {
      "text/plain": [
       "10305"
      ]
     },
     "execution_count": 38,
     "metadata": {},
     "output_type": "execute_result"
    },
    {
     "name": "stdout",
     "output_type": "stream",
     "text": [
      "time: 1.79 ms\n"
     ]
    }
   ],
   "source": [
    "len(full_set)"
   ]
  },
  {
   "cell_type": "markdown",
   "metadata": {},
   "source": [
    "#### quick qc to ensure the imputation and standardization of age/weight worked"
   ]
  },
  {
   "cell_type": "code",
   "execution_count": 39,
   "metadata": {},
   "outputs": [
    {
     "data": {
      "text/html": [
       "<div>\n",
       "<style scoped>\n",
       "    .dataframe tbody tr th:only-of-type {\n",
       "        vertical-align: middle;\n",
       "    }\n",
       "\n",
       "    .dataframe tbody tr th {\n",
       "        vertical-align: top;\n",
       "    }\n",
       "\n",
       "    .dataframe thead th {\n",
       "        text-align: right;\n",
       "    }\n",
       "</style>\n",
       "<table border=\"1\" class=\"dataframe\">\n",
       "  <thead>\n",
       "    <tr style=\"text-align: right;\">\n",
       "      <th></th>\n",
       "      <th>chloride</th>\n",
       "      <th>weight</th>\n",
       "      <th>yearsold</th>\n",
       "    </tr>\n",
       "  </thead>\n",
       "  <tbody>\n",
       "    <tr>\n",
       "      <th>0</th>\n",
       "      <td>NaN</td>\n",
       "      <td>-0.121245</td>\n",
       "      <td>-0.206692</td>\n",
       "    </tr>\n",
       "    <tr>\n",
       "      <th>1</th>\n",
       "      <td>0.037089</td>\n",
       "      <td>-0.064565</td>\n",
       "      <td>0.074783</td>\n",
       "    </tr>\n",
       "    <tr>\n",
       "      <th>2</th>\n",
       "      <td>-0.004314</td>\n",
       "      <td>-0.012014</td>\n",
       "      <td>0.004945</td>\n",
       "    </tr>\n",
       "    <tr>\n",
       "      <th>3</th>\n",
       "      <td>NaN</td>\n",
       "      <td>0.007438</td>\n",
       "      <td>0.037873</td>\n",
       "    </tr>\n",
       "    <tr>\n",
       "      <th>4</th>\n",
       "      <td>-0.035714</td>\n",
       "      <td>-0.094731</td>\n",
       "      <td>-0.219450</td>\n",
       "    </tr>\n",
       "  </tbody>\n",
       "</table>\n",
       "</div>"
      ],
      "text/plain": [
       "   chloride    weight  yearsold\n",
       "0       NaN -0.121245 -0.206692\n",
       "1  0.037089 -0.064565  0.074783\n",
       "2 -0.004314 -0.012014  0.004945\n",
       "3       NaN  0.007438  0.037873\n",
       "4 -0.035714 -0.094731 -0.219450"
      ]
     },
     "execution_count": 39,
     "metadata": {},
     "output_type": "execute_result"
    },
    {
     "name": "stdout",
     "output_type": "stream",
     "text": [
      "time: 6.73 ms\n"
     ]
    }
   ],
   "source": [
    "train_data[['chloride','weight','yearsold']].head()"
   ]
  },
  {
   "cell_type": "code",
   "execution_count": 34,
   "metadata": {},
   "outputs": [
    {
     "data": {
      "text/html": [
       "<div>\n",
       "<style scoped>\n",
       "    .dataframe tbody tr th:only-of-type {\n",
       "        vertical-align: middle;\n",
       "    }\n",
       "\n",
       "    .dataframe tbody tr th {\n",
       "        vertical-align: top;\n",
       "    }\n",
       "\n",
       "    .dataframe thead th {\n",
       "        text-align: right;\n",
       "    }\n",
       "</style>\n",
       "<table border=\"1\" class=\"dataframe\">\n",
       "  <thead>\n",
       "    <tr style=\"text-align: right;\">\n",
       "      <th></th>\n",
       "      <th>chloride</th>\n",
       "      <th>weight</th>\n",
       "      <th>yearsold</th>\n",
       "    </tr>\n",
       "  </thead>\n",
       "  <tbody>\n",
       "    <tr>\n",
       "      <th>0</th>\n",
       "      <td>NaN</td>\n",
       "      <td>51.2</td>\n",
       "      <td>32.988959</td>\n",
       "    </tr>\n",
       "    <tr>\n",
       "      <th>1</th>\n",
       "      <td>0.037089</td>\n",
       "      <td>62.0</td>\n",
       "      <td>84.728186</td>\n",
       "    </tr>\n",
       "    <tr>\n",
       "      <th>2</th>\n",
       "      <td>0.008507</td>\n",
       "      <td>74.0</td>\n",
       "      <td>67.145099</td>\n",
       "    </tr>\n",
       "    <tr>\n",
       "      <th>3</th>\n",
       "      <td>0.020977</td>\n",
       "      <td>79.0</td>\n",
       "      <td>74.934136</td>\n",
       "    </tr>\n",
       "    <tr>\n",
       "      <th>4</th>\n",
       "      <td>-0.021991</td>\n",
       "      <td>56.0</td>\n",
       "      <td>31.593200</td>\n",
       "    </tr>\n",
       "  </tbody>\n",
       "</table>\n",
       "</div>"
      ],
      "text/plain": [
       "   chloride  weight   yearsold\n",
       "0       NaN    51.2  32.988959\n",
       "1  0.037089    62.0  84.728186\n",
       "2  0.008507    74.0  67.145099\n",
       "3  0.020977    79.0  74.934136\n",
       "4 -0.021991    56.0  31.593200"
      ]
     },
     "execution_count": 34,
     "metadata": {},
     "output_type": "execute_result"
    },
    {
     "name": "stdout",
     "output_type": "stream",
     "text": [
      "time: 12.4 ms\n"
     ]
    }
   ],
   "source": [
    "train_data[['chloride','weight','yearsold']].head()"
   ]
  },
  {
   "cell_type": "code",
   "execution_count": 40,
   "metadata": {},
   "outputs": [
    {
     "data": {
      "text/html": [
       "<div>\n",
       "<style scoped>\n",
       "    .dataframe tbody tr th:only-of-type {\n",
       "        vertical-align: middle;\n",
       "    }\n",
       "\n",
       "    .dataframe tbody tr th {\n",
       "        vertical-align: top;\n",
       "    }\n",
       "\n",
       "    .dataframe thead th {\n",
       "        text-align: right;\n",
       "    }\n",
       "</style>\n",
       "<table border=\"1\" class=\"dataframe\">\n",
       "  <thead>\n",
       "    <tr style=\"text-align: right;\">\n",
       "      <th></th>\n",
       "      <th>chloride</th>\n",
       "      <th>weight</th>\n",
       "      <th>yearsold</th>\n",
       "    </tr>\n",
       "  </thead>\n",
       "  <tbody>\n",
       "    <tr>\n",
       "      <th>0</th>\n",
       "      <td>0.004273</td>\n",
       "      <td>-0.121245</td>\n",
       "      <td>-0.206692</td>\n",
       "    </tr>\n",
       "    <tr>\n",
       "      <th>1</th>\n",
       "      <td>0.037089</td>\n",
       "      <td>-0.064565</td>\n",
       "      <td>0.074783</td>\n",
       "    </tr>\n",
       "    <tr>\n",
       "      <th>2</th>\n",
       "      <td>-0.004314</td>\n",
       "      <td>-0.012014</td>\n",
       "      <td>0.004945</td>\n",
       "    </tr>\n",
       "    <tr>\n",
       "      <th>3</th>\n",
       "      <td>0.004273</td>\n",
       "      <td>0.007438</td>\n",
       "      <td>0.037873</td>\n",
       "    </tr>\n",
       "    <tr>\n",
       "      <th>4</th>\n",
       "      <td>-0.035714</td>\n",
       "      <td>-0.094731</td>\n",
       "      <td>-0.219450</td>\n",
       "    </tr>\n",
       "  </tbody>\n",
       "</table>\n",
       "</div>"
      ],
      "text/plain": [
       "   chloride    weight  yearsold\n",
       "0  0.004273 -0.121245 -0.206692\n",
       "1  0.037089 -0.064565  0.074783\n",
       "2 -0.004314 -0.012014  0.004945\n",
       "3  0.004273  0.007438  0.037873\n",
       "4 -0.035714 -0.094731 -0.219450"
      ]
     },
     "execution_count": 40,
     "metadata": {},
     "output_type": "execute_result"
    },
    {
     "name": "stdout",
     "output_type": "stream",
     "text": [
      "time: 7.2 ms\n"
     ]
    }
   ],
   "source": [
    "x_train[['chloride','weight','yearsold']].head()"
   ]
  },
  {
   "cell_type": "code",
   "execution_count": 35,
   "metadata": {},
   "outputs": [
    {
     "data": {
      "text/html": [
       "<div>\n",
       "<style scoped>\n",
       "    .dataframe tbody tr th:only-of-type {\n",
       "        vertical-align: middle;\n",
       "    }\n",
       "\n",
       "    .dataframe tbody tr th {\n",
       "        vertical-align: top;\n",
       "    }\n",
       "\n",
       "    .dataframe thead th {\n",
       "        text-align: right;\n",
       "    }\n",
       "</style>\n",
       "<table border=\"1\" class=\"dataframe\">\n",
       "  <thead>\n",
       "    <tr style=\"text-align: right;\">\n",
       "      <th></th>\n",
       "      <th>chloride</th>\n",
       "      <th>weight</th>\n",
       "      <th>yearsold</th>\n",
       "    </tr>\n",
       "  </thead>\n",
       "  <tbody>\n",
       "    <tr>\n",
       "      <th>0</th>\n",
       "      <td>0.008507</td>\n",
       "      <td>-1.184856</td>\n",
       "      <td>-1.725281</td>\n",
       "    </tr>\n",
       "    <tr>\n",
       "      <th>1</th>\n",
       "      <td>0.037089</td>\n",
       "      <td>-0.630958</td>\n",
       "      <td>0.624219</td>\n",
       "    </tr>\n",
       "    <tr>\n",
       "      <th>2</th>\n",
       "      <td>0.008507</td>\n",
       "      <td>-0.117409</td>\n",
       "      <td>0.041273</td>\n",
       "    </tr>\n",
       "    <tr>\n",
       "      <th>3</th>\n",
       "      <td>0.020977</td>\n",
       "      <td>0.072685</td>\n",
       "      <td>0.316127</td>\n",
       "    </tr>\n",
       "    <tr>\n",
       "      <th>4</th>\n",
       "      <td>-0.021991</td>\n",
       "      <td>-0.925748</td>\n",
       "      <td>-1.831772</td>\n",
       "    </tr>\n",
       "  </tbody>\n",
       "</table>\n",
       "</div>"
      ],
      "text/plain": [
       "   chloride    weight  yearsold\n",
       "0  0.008507 -1.184856 -1.725281\n",
       "1  0.037089 -0.630958  0.624219\n",
       "2  0.008507 -0.117409  0.041273\n",
       "3  0.020977  0.072685  0.316127\n",
       "4 -0.021991 -0.925748 -1.831772"
      ]
     },
     "execution_count": 35,
     "metadata": {},
     "output_type": "execute_result"
    },
    {
     "name": "stdout",
     "output_type": "stream",
     "text": [
      "time: 9.39 ms\n"
     ]
    }
   ],
   "source": [
    "x_train[['chloride','weight','yearsold']].head()"
   ]
  },
  {
   "cell_type": "code",
   "execution_count": 36,
   "metadata": {},
   "outputs": [
    {
     "data": {
      "text/plain": [
       "53"
      ]
     },
     "execution_count": 36,
     "metadata": {},
     "output_type": "execute_result"
    },
    {
     "name": "stdout",
     "output_type": "stream",
     "text": [
      "time: 2.69 ms\n"
     ]
    }
   ],
   "source": [
    "len(list(x_train))"
   ]
  },
  {
   "cell_type": "markdown",
   "metadata": {},
   "source": [
    "### getting table for paper"
   ]
  },
  {
   "cell_type": "code",
   "execution_count": 41,
   "metadata": {},
   "outputs": [
    {
     "data": {
      "text/plain": [
       "['bilirubin',\n",
       " 'bun',\n",
       " 'chloride',\n",
       " 'creatinine',\n",
       " 'glucose',\n",
       " 'heartrate',\n",
       " 'inr',\n",
       " 'lactate',\n",
       " 'potassium',\n",
       " 'ptt',\n",
       " 'resprate',\n",
       " 'sum_elix',\n",
       " 'temperature',\n",
       " 'weight',\n",
       " 'yearsold',\n",
       " 'bicarbonate',\n",
       " 'diasbp',\n",
       " 'hemoglobin',\n",
       " 'meanartpress',\n",
       " 'mingcs',\n",
       " 'pao2fio2ratio',\n",
       " 'ph',\n",
       " 'platelet',\n",
       " 'spo2',\n",
       " 'sysbp',\n",
       " 'maxCalcium',\n",
       " 'maxSodium',\n",
       " 'maxWBC',\n",
       " 'minCalcium',\n",
       " 'minSodium',\n",
       " 'minWBC',\n",
       " 'ethnicity_black',\n",
       " 'ethnicity_hispanic',\n",
       " 'ethnicity_unknown/other',\n",
       " 'ethnicity_white/nonhispanic',\n",
       " 'bands_>10',\n",
       " 'bands_absent',\n",
       " 'pco2_>50',\n",
       " 'pco2_absent',\n",
       " 'any_vasoactives_recieved',\n",
       " 'leukocyte_pos',\n",
       " 'nitrite_pos',\n",
       " 'vent_recieved_None',\n",
       " 'vent_recieved_Oxygen',\n",
       " 'dobutamine_recieved',\n",
       " 'gender_M',\n",
       " 'dopamine_recieved',\n",
       " 'epinephrine_recieved',\n",
       " 'norepinephrine_recieved',\n",
       " 'phenylephrine_recieved',\n",
       " 'rrt_recieved',\n",
       " 'vasopressin_recieved',\n",
       " 'cancer_elix_no_cancer_cormorb']"
      ]
     },
     "execution_count": 41,
     "metadata": {},
     "output_type": "execute_result"
    },
    {
     "name": "stdout",
     "output_type": "stream",
     "text": [
      "time: 2.06 ms\n"
     ]
    }
   ],
   "source": [
    "list(x_train)"
   ]
  },
  {
   "cell_type": "code",
   "execution_count": 42,
   "metadata": {},
   "outputs": [
    {
     "data": {
      "text/plain": [
       "C_neg/A_partial    5512\n",
       "C_pos/A_full       1693\n",
       "Name: final_bin, dtype: int64"
      ]
     },
     "execution_count": 42,
     "metadata": {},
     "output_type": "execute_result"
    },
    {
     "name": "stdout",
     "output_type": "stream",
     "text": [
      "time: 16 ms\n"
     ]
    }
   ],
   "source": [
    "pd.merge(train_data['icustay_id'], final_pt_df2[['icustay_id','final_bin']])['final_bin'].value_counts()"
   ]
  },
  {
   "cell_type": "code",
   "execution_count": 43,
   "metadata": {},
   "outputs": [
    {
     "data": {
      "text/plain": [
       "C_neg/A_partial    2355\n",
       "C_pos/A_full        745\n",
       "Name: final_bin, dtype: int64"
      ]
     },
     "execution_count": 43,
     "metadata": {},
     "output_type": "execute_result"
    },
    {
     "name": "stdout",
     "output_type": "stream",
     "text": [
      "time: 14.3 ms\n"
     ]
    }
   ],
   "source": [
    "pd.merge(test_data['icustay_id'], final_pt_df2[['icustay_id','final_bin']])['final_bin'].value_counts()"
   ]
  },
  {
   "cell_type": "markdown",
   "metadata": {},
   "source": [
    "## looking at correlation of all variables"
   ]
  },
  {
   "cell_type": "code",
   "execution_count": 44,
   "metadata": {},
   "outputs": [
    {
     "data": {
      "image/png": "[encoded data removed]",
      "text/plain": [
       "<Figure size 1800x1440 with 2 Axes>"
      ]
     },
     "metadata": {},
     "output_type": "display_data"
    },
    {
     "name": "stdout",
     "output_type": "stream",
     "text": [
      "time: 1.79 s\n"
     ]
    }
   ],
   "source": [
    "corr = x_train.corr().abs()\n",
    "\n",
    "plt.figure(figsize=(25, 20))\n",
    "ax = sns.heatmap(\n",
    "    corr, \n",
    "    vmin=-1, vmax=1, center=0,\n",
    "    cmap=sns.diverging_palette(20, 220, n=200),\n",
    "    square=True\n",
    ")\n",
    "ax.set_xticklabels(\n",
    "    ax.get_xticklabels(),\n",
    "    rotation=45,\n",
    "    horizontalalignment='right'\n",
    ");"
   ]
  },
  {
   "cell_type": "code",
   "execution_count": 45,
   "metadata": {},
   "outputs": [
    {
     "data": {
      "text/html": [
       "<div>\n",
       "<style scoped>\n",
       "    .dataframe tbody tr th:only-of-type {\n",
       "        vertical-align: middle;\n",
       "    }\n",
       "\n",
       "    .dataframe tbody tr th {\n",
       "        vertical-align: top;\n",
       "    }\n",
       "\n",
       "    .dataframe thead th {\n",
       "        text-align: right;\n",
       "    }\n",
       "</style>\n",
       "<table border=\"1\" class=\"dataframe\">\n",
       "  <thead>\n",
       "    <tr style=\"text-align: right;\">\n",
       "      <th></th>\n",
       "      <th>corx</th>\n",
       "      <th>cory</th>\n",
       "      <th>corr</th>\n",
       "    </tr>\n",
       "  </thead>\n",
       "  <tbody>\n",
       "    <tr>\n",
       "      <th>0</th>\n",
       "      <td>maxWBC</td>\n",
       "      <td>minWBC</td>\n",
       "      <td>0.91524</td>\n",
       "    </tr>\n",
       "  </tbody>\n",
       "</table>\n",
       "</div>"
      ],
      "text/plain": [
       "     corx    cory     corr\n",
       "0  maxWBC  minWBC  0.91524"
      ]
     },
     "execution_count": 45,
     "metadata": {},
     "output_type": "execute_result"
    },
    {
     "name": "stdout",
     "output_type": "stream",
     "text": [
      "time: 15.7 ms\n"
     ]
    }
   ],
   "source": [
    "sol = (corr.where(np.triu(np.ones(corr.shape), k=1).astype(np.bool)).stack().sort_values(ascending=False))\n",
    "cor_df=pd.DataFrame(sol)#.sort_values(kind=\"quicksort\") #[-10:0])\n",
    "cor_df=cor_df.reset_index()\n",
    "cor_df=cor_df.rename(columns={'level_0': 'corx', 'level_1': 'cory', 0:'corr'})\n",
    "cor_df2=cor_df[(cor_df['corx']!=cor_df['cory']) & (cor_df['corr']>0.7)].sort_values('corr', ascending=False)\n",
    "cor_df2.head()"
   ]
  },
  {
   "cell_type": "markdown",
   "metadata": {},
   "source": [
    "### DROPING one of the 2 columns with correlation >0.7  (depreciated)"
   ]
  },
  {
   "cell_type": "code",
   "execution_count": 42,
   "metadata": {},
   "outputs": [
    {
     "name": "stdout",
     "output_type": "stream",
     "text": [
      "time: 547 µs\n"
     ]
    }
   ],
   "source": [
    "# x_train.drop(columns=list(cor_df2['corx']), inplace=True, errors='raise')\n",
    "# x_test.drop(columns=list(cor_df2['corx']), inplace=True, errors='raise')"
   ]
  },
  {
   "cell_type": "markdown",
   "metadata": {},
   "source": [
    "### formatting x and y for modleing"
   ]
  },
  {
   "cell_type": "code",
   "execution_count": 46,
   "metadata": {},
   "outputs": [
    {
     "name": "stdout",
     "output_type": "stream",
     "text": [
      "time: 4.07 ms\n"
     ]
    }
   ],
   "source": [
    "x=np.array(x_train.copy())\n",
    "y=y_train.copy() #copy of y_train\n",
    "y=y.astype('int')\n",
    "#time_interval=4"
   ]
  },
  {
   "cell_type": "code",
   "execution_count": 47,
   "metadata": {},
   "outputs": [
    {
     "name": "stdout",
     "output_type": "stream",
     "text": [
      "7205 3100\n",
      "time: 525 µs\n"
     ]
    }
   ],
   "source": [
    "print(len(x_train),len(x_test))"
   ]
  },
  {
   "cell_type": "code",
   "execution_count": 48,
   "metadata": {},
   "outputs": [
    {
     "data": {
      "text/plain": [
       "array([0, 0, 1, ..., 0, 0, 0])"
      ]
     },
     "execution_count": 48,
     "metadata": {},
     "output_type": "execute_result"
    },
    {
     "name": "stdout",
     "output_type": "stream",
     "text": [
      "time: 1.91 ms\n"
     ]
    }
   ],
   "source": [
    "y_train"
   ]
  },
  {
   "cell_type": "code",
   "execution_count": 49,
   "metadata": {},
   "outputs": [
    {
     "data": {
      "text/plain": [
       "53"
      ]
     },
     "execution_count": 49,
     "metadata": {},
     "output_type": "execute_result"
    },
    {
     "name": "stdout",
     "output_type": "stream",
     "text": [
      "time: 1.9 ms\n"
     ]
    }
   ],
   "source": [
    "len(list(x_train))"
   ]
  },
  {
   "cell_type": "code",
   "execution_count": 53,
   "metadata": {},
   "outputs": [
    {
     "name": "stdout",
     "output_type": "stream",
     "text": [
      "time: 1.66 ms\n"
     ]
    }
   ],
   "source": [
    "def save_df(df, df_name='default', rel_path='/data/final/'):\n",
    "    \"\"\"\n",
    "    simple function for saving result table. uses the date and supplied df name and saves to the savepath specified above.\n",
    "    \"\"\"\n",
    "    global folder\n",
    "    \n",
    "    save_path= str(repository_path)+rel_path\n",
    "    \n",
    "    address=save_path+'{}_{}/'.format(date,folder)\n",
    "    if not os.path.exists(address):\n",
    "        print(address)\n",
    "        os.makedirs(address)\n",
    "    else:\n",
    "        print(address)\n",
    "        \n",
    "    if address.endswith('/')==False:\n",
    "        address= address+'/'\n",
    "        \n",
    "    if df_name == 'default':\n",
    "        df_name =[x for x in globals() if globals()[x] is df][0]\n",
    "        \n",
    "    pd.DataFrame(df).to_csv(Path(address+'{}_{}.csv'.format(date, df_name)))\n"
   ]
  },
  {
   "cell_type": "code",
   "execution_count": 54,
   "metadata": {},
   "outputs": [
    {
     "name": "stdout",
     "output_type": "stream",
     "text": [
      "/Users/geickelb1/Documents/GitHub/mimiciii-antibiotics-opensource/data/final/16122019_24_hr_window/\n",
      "/Users/geickelb1/Documents/GitHub/mimiciii-antibiotics-opensource/data/final/16122019_24_hr_window/\n",
      "/Users/geickelb1/Documents/GitHub/mimiciii-antibiotics-opensource/data/final/16122019_24_hr_window/\n",
      "/Users/geickelb1/Documents/GitHub/mimiciii-antibiotics-opensource/data/final/16122019_24_hr_window/\n",
      "/Users/geickelb1/Documents/GitHub/mimiciii-antibiotics-opensource/data/final/16122019_24_hr_window/\n",
      "/Users/geickelb1/Documents/GitHub/mimiciii-antibiotics-opensource/data/final/16122019_24_hr_window/\n",
      "/Users/geickelb1/Documents/GitHub/mimiciii-antibiotics-opensource/data/final/16122019_24_hr_window/\n",
      "/Users/geickelb1/Documents/GitHub/mimiciii-antibiotics-opensource/data/final/16122019_24_hr_window/\n",
      "/Users/geickelb1/Documents/GitHub/mimiciii-antibiotics-opensource/data/final/16122019_24_hr_window/\n",
      "time: 1.1 s\n"
     ]
    }
   ],
   "source": [
    "if save_boolean==True:\n",
    "    save_df(x_train, 'x_train_final', rel_path='/data/final/')\n",
    "    save_df(x_test, 'x_test_final', rel_path='/data/final/')\n",
    "    save_df(y_train, 'y_train_final', rel_path='/data/final/')\n",
    "    save_df(y_test, 'y_test_final', rel_path='/data/final/')\n",
    "    \n",
    "    save_df(x_longneg, 'x_longneg_final', rel_path='/data/final/')\n",
    "    save_df(y_longneg, 'y_longneg_final', rel_path='/data/final/')\n",
    "    \n",
    "    save_df(z_icustay_id, 'icustay_train', rel_path='/data/final/') #just added, need to rerun all models. 12-19-19\n",
    "    save_df(z_icustay_id_test, 'icustay_test', rel_path='/data/final/')\n",
    "    save_df(z_icustay_id_longneg, 'icustay_longneg', rel_path='/data/final/')\n"
   ]
  }
 ],
 "metadata": {
  "kernelspec": {
   "display_name": "Python 3",
   "language": "python",
   "name": "python3"
  },
  "language_info": {
   "codemirror_mode": {
    "name": "ipython",
    "version": 3
   },
   "file_extension": ".py",
   "mimetype": "text/x-python",
   "name": "python",
   "nbconvert_exporter": "python",
   "pygments_lexer": "ipython3",
   "version": "3.6.8"
  }
 },
 "nbformat": 4,
 "nbformat_minor": 4
}
