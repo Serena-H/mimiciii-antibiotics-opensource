{
 "cells": [
  {
   "cell_type": "markdown",
   "metadata": {},
   "source": [
    "# Overview of this notebook:\n",
    "\n",
    "1. convert to two class (c-/abshort &c+/ablong) and the holdout c-/ablong\n",
    "2. split the train and test set\n",
    "3. median standardize\n",
    "4. aggregate\n",
    "5. impute\n",
    "\n",
    "i do 1-3 BEFORE I AGGREGATE and median standardize, as some information may be leaking from the train/test set as i had it previously."
   ]
  },
  {
   "cell_type": "code",
   "execution_count": 1,
   "metadata": {},
   "outputs": [],
   "source": [
    "import pandas as pd\n",
    "import matplotlib.pyplot as plt\n",
    "import os\n",
    "from pathlib import Path\n",
    "import seaborn as sns\n",
    "import numpy as np\n",
    "import glob\n",
    "\n",
    "from sklearn.externals.joblib import Memory\n",
    "from sklearn.model_selection import train_test_split\n",
    "\n",
    "\n",
    "%matplotlib inline\n",
    "plt.style.use('ggplot')\n",
    "\n",
    "from notebook.services.config import ConfigManager\n",
    "cm = ConfigManager()\n",
    "cm.update('livereveal', {\n",
    "        'width': 1024,\n",
    "        'height': 768,\n",
    "        'scroll': True,\n",
    "})\n",
    "\n",
    "%load_ext autotime"
   ]
  },
  {
   "cell_type": "code",
   "execution_count": 2,
   "metadata": {},
   "outputs": [
    {
     "name": "stdout",
     "output_type": "stream",
     "text": [
      "time: 973 ms\n"
     ]
    }
   ],
   "source": [
    "#patients of interest from rotation_cohort_generation\n",
    "from parameters import final_pt_df_v, date, repository_path, categorical\n",
    "\n",
    "#patients of interest from rotation_cohort_generation\n",
    "final_pt_df2 = final_pt_df_v #pd.read_csv('/Users/geickelb1/Documents/GitHub/mimiciii-antibiotics-modeling/data/raw/csv/%s_final_pt_df2.csv'%(most_updated_patient_df), index_col=0)\n",
    "del(final_pt_df_v)\n",
    "\n",
    "patients= list(final_pt_df2['subject_id'].unique())\n",
    "hadm_id= list(final_pt_df2['hadm_id'].unique())\n",
    "icustay_id= list(final_pt_df2['icustay_id'].unique())\n",
    "icustay_id= [int(x) for x in icustay_id]\n"
   ]
  },
  {
   "cell_type": "code",
   "execution_count": 3,
   "metadata": {},
   "outputs": [
    {
     "data": {
      "text/plain": [
       "15412"
      ]
     },
     "execution_count": 3,
     "metadata": {},
     "output_type": "execute_result"
    },
    {
     "name": "stdout",
     "output_type": "stream",
     "text": [
      "time: 3.75 ms\n"
     ]
    }
   ],
   "source": [
    "len(patients)"
   ]
  },
  {
   "cell_type": "code",
   "execution_count": 4,
   "metadata": {},
   "outputs": [
    {
     "name": "stdout",
     "output_type": "stream",
     "text": [
      "time: 1.48 ms\n"
     ]
    }
   ],
   "source": [
    "\n",
    "def save_df(df, df_name='default', add_subfolder=False):\n",
    "    #uses the date and supplied df name and saves to the savepath specified above.\n",
    "    \n",
    "    save_path= str(repository_path)+'/data/cleaned_merged_agg/'\n",
    "    if df_name == 'default':\n",
    "        df_name= \"%s\"%(df)\n",
    "    \n",
    "    address=save_path+'%s/'%(folder)\n",
    "    if not os.path.exists(address):\n",
    "        print(address)\n",
    "        os.makedirs(address)\n",
    "    pd.DataFrame(df).to_csv(Path(address+'%s_%s_cleaned_merged_agg.csv' %(date, df_name)))"
   ]
  },
  {
   "cell_type": "code",
   "execution_count": 5,
   "metadata": {},
   "outputs": [
    {
     "name": "stdout",
     "output_type": "stream",
     "text": [
      "time: 565 µs\n"
     ]
    }
   ],
   "source": [
    "from parameters import lower_window, upper_window, folder, date, time_col, time_var, patient_df\n"
   ]
  },
  {
   "cell_type": "code",
   "execution_count": 6,
   "metadata": {},
   "outputs": [
    {
     "name": "stderr",
     "output_type": "stream",
     "text": [
      "/Users/geickelb1/anaconda/envs/rpy-env/lib/python3.6/site-packages/numpy/lib/arraysetops.py:569: FutureWarning: elementwise comparison failed; returning scalar instead, but in the future will perform elementwise comparison\n",
      "  mask |= (ar1 == a)\n"
     ]
    },
    {
     "name": "stdout",
     "output_type": "stream",
     "text": [
      "time: 5.35 s\n"
     ]
    }
   ],
   "source": [
    "#importing cleaned_merged big_df\n",
    "allFiles = glob.glob(str(repository_path)+ '/data/cleaned_merged/%s/'%(folder) + \"{}_*.csv\".format(date))\n",
    "\n",
    "df_list=[]\n",
    "for element in allFiles:\n",
    "    df_list.append(element.split('{}_'.format(date))[1].split('_prepped.csv')[0]) #making an list of all my dataframes in order they appear in file\n",
    "\n",
    "i=0\n",
    "for name in df_list:\n",
    "    big_df = pd.read_csv(allFiles[i],  index_col=0)"
   ]
  },
  {
   "cell_type": "code",
   "execution_count": 7,
   "metadata": {},
   "outputs": [
    {
     "name": "stdout",
     "output_type": "stream",
     "text": [
      "time: 220 ms\n"
     ]
    }
   ],
   "source": [
    "#quick housekeeping addition to accomidate older generated data\n",
    "if len(big_df.loc[big_df['label']==\"pao2/fio2\",'label'])>1:\n",
    "    big_df.loc[big_df['label']==\"pao2/fio2\",'label']=\"pao2fio2ratio\""
   ]
  },
  {
   "cell_type": "code",
   "execution_count": 8,
   "metadata": {},
   "outputs": [
    {
     "data": {
      "text/html": [
       "<div>\n",
       "<style scoped>\n",
       "    .dataframe tbody tr th:only-of-type {\n",
       "        vertical-align: middle;\n",
       "    }\n",
       "\n",
       "    .dataframe tbody tr th {\n",
       "        vertical-align: top;\n",
       "    }\n",
       "\n",
       "    .dataframe thead th {\n",
       "        text-align: right;\n",
       "    }\n",
       "</style>\n",
       "<table border=\"1\" class=\"dataframe\">\n",
       "  <thead>\n",
       "    <tr style=\"text-align: right;\">\n",
       "      <th></th>\n",
       "      <th>icustay_id</th>\n",
       "      <th>t_0</th>\n",
       "      <th>label</th>\n",
       "      <th>value</th>\n",
       "      <th>delta</th>\n",
       "      <th>uom</th>\n",
       "      <th>source</th>\n",
       "      <th>subject_id</th>\n",
       "    </tr>\n",
       "  </thead>\n",
       "  <tbody>\n",
       "    <tr>\n",
       "      <th>502618</th>\n",
       "      <td>200001.0</td>\n",
       "      <td>2181-11-26</td>\n",
       "      <td>bands</td>\n",
       "      <td>absent</td>\n",
       "      <td>0 days 00:00:00.000000000</td>\n",
       "      <td>y/n</td>\n",
       "      <td>labs</td>\n",
       "      <td>55973</td>\n",
       "    </tr>\n",
       "    <tr>\n",
       "      <th>42164</th>\n",
       "      <td>200001.0</td>\n",
       "      <td>2181-11-26</td>\n",
       "      <td>pco2</td>\n",
       "      <td>absent</td>\n",
       "      <td>0 days 00:00:00.000000000</td>\n",
       "      <td>y/n</td>\n",
       "      <td>bg_ART</td>\n",
       "      <td>55973</td>\n",
       "    </tr>\n",
       "    <tr>\n",
       "      <th>15252</th>\n",
       "      <td>200001.0</td>\n",
       "      <td>2181-11-26</td>\n",
       "      <td>any_vasoactives</td>\n",
       "      <td>0.0</td>\n",
       "      <td>0 days 00:00:00.000000000</td>\n",
       "      <td>y/n</td>\n",
       "      <td>all_vaso</td>\n",
       "      <td>55973</td>\n",
       "    </tr>\n",
       "    <tr>\n",
       "      <th>14358</th>\n",
       "      <td>200001.0</td>\n",
       "      <td>2181-11-26</td>\n",
       "      <td>cancer_elix</td>\n",
       "      <td>0.0</td>\n",
       "      <td>0 days 00:00:00.000000000</td>\n",
       "      <td>y/n</td>\n",
       "      <td>cancer_elix</td>\n",
       "      <td>55973</td>\n",
       "    </tr>\n",
       "    <tr>\n",
       "      <th>17136</th>\n",
       "      <td>200001.0</td>\n",
       "      <td>2181-11-26</td>\n",
       "      <td>daily_sofa</td>\n",
       "      <td>5</td>\n",
       "      <td>0 days 00:00:00.000000000</td>\n",
       "      <td>daily_sofa_score</td>\n",
       "      <td>sofa</td>\n",
       "      <td>55973</td>\n",
       "    </tr>\n",
       "  </tbody>\n",
       "</table>\n",
       "</div>"
      ],
      "text/plain": [
       "        icustay_id         t_0            label   value  \\\n",
       "502618    200001.0  2181-11-26            bands  absent   \n",
       "42164     200001.0  2181-11-26             pco2  absent   \n",
       "15252     200001.0  2181-11-26  any_vasoactives     0.0   \n",
       "14358     200001.0  2181-11-26      cancer_elix     0.0   \n",
       "17136     200001.0  2181-11-26       daily_sofa       5   \n",
       "\n",
       "                            delta               uom       source  subject_id  \n",
       "502618  0 days 00:00:00.000000000               y/n         labs       55973  \n",
       "42164   0 days 00:00:00.000000000               y/n       bg_ART       55973  \n",
       "15252   0 days 00:00:00.000000000               y/n     all_vaso       55973  \n",
       "14358   0 days 00:00:00.000000000               y/n  cancer_elix       55973  \n",
       "17136   0 days 00:00:00.000000000  daily_sofa_score         sofa       55973  "
      ]
     },
     "execution_count": 8,
     "metadata": {},
     "output_type": "execute_result"
    },
    {
     "name": "stdout",
     "output_type": "stream",
     "text": [
      "time: 18 ms\n"
     ]
    }
   ],
   "source": [
    "big_df.head()"
   ]
  },
  {
   "cell_type": "code",
   "execution_count": 9,
   "metadata": {},
   "outputs": [
    {
     "data": {
      "text/html": [
       "<div>\n",
       "<style scoped>\n",
       "    .dataframe tbody tr th:only-of-type {\n",
       "        vertical-align: middle;\n",
       "    }\n",
       "\n",
       "    .dataframe tbody tr th {\n",
       "        vertical-align: top;\n",
       "    }\n",
       "\n",
       "    .dataframe thead th {\n",
       "        text-align: right;\n",
       "    }\n",
       "</style>\n",
       "<table border=\"1\" class=\"dataframe\">\n",
       "  <thead>\n",
       "    <tr style=\"text-align: right;\">\n",
       "      <th></th>\n",
       "      <th>count</th>\n",
       "      <th>unique</th>\n",
       "      <th>top</th>\n",
       "      <th>freq</th>\n",
       "    </tr>\n",
       "    <tr>\n",
       "      <th>label</th>\n",
       "      <th></th>\n",
       "      <th></th>\n",
       "      <th></th>\n",
       "      <th></th>\n",
       "    </tr>\n",
       "  </thead>\n",
       "  <tbody>\n",
       "    <tr>\n",
       "      <th>any_vasoactives</th>\n",
       "      <td>19633</td>\n",
       "      <td>2</td>\n",
       "      <td>0.0</td>\n",
       "      <td>13919</td>\n",
       "    </tr>\n",
       "    <tr>\n",
       "      <th>leukocyte</th>\n",
       "      <td>19633</td>\n",
       "      <td>2</td>\n",
       "      <td>Neg/Not_tested</td>\n",
       "      <td>17390</td>\n",
       "    </tr>\n",
       "    <tr>\n",
       "      <th>nitrite</th>\n",
       "      <td>19633</td>\n",
       "      <td>2</td>\n",
       "      <td>Neg/Not_tested</td>\n",
       "      <td>19187</td>\n",
       "    </tr>\n",
       "    <tr>\n",
       "      <th>norepinephrine</th>\n",
       "      <td>19633</td>\n",
       "      <td>2</td>\n",
       "      <td>0.0</td>\n",
       "      <td>16335</td>\n",
       "    </tr>\n",
       "    <tr>\n",
       "      <th>o2_flow</th>\n",
       "      <td>19633</td>\n",
       "      <td>2</td>\n",
       "      <td>0.0</td>\n",
       "      <td>19022</td>\n",
       "    </tr>\n",
       "    <tr>\n",
       "      <th>gender</th>\n",
       "      <td>19633</td>\n",
       "      <td>2</td>\n",
       "      <td>M</td>\n",
       "      <td>10753</td>\n",
       "    </tr>\n",
       "    <tr>\n",
       "      <th>epinephrine</th>\n",
       "      <td>19633</td>\n",
       "      <td>2</td>\n",
       "      <td>0.0</td>\n",
       "      <td>19236</td>\n",
       "    </tr>\n",
       "    <tr>\n",
       "      <th>vasopressin</th>\n",
       "      <td>19633</td>\n",
       "      <td>2</td>\n",
       "      <td>0.0</td>\n",
       "      <td>19251</td>\n",
       "    </tr>\n",
       "    <tr>\n",
       "      <th>dobutamine</th>\n",
       "      <td>19633</td>\n",
       "      <td>2</td>\n",
       "      <td>0.0</td>\n",
       "      <td>19408</td>\n",
       "    </tr>\n",
       "    <tr>\n",
       "      <th>phenylephrine</th>\n",
       "      <td>19633</td>\n",
       "      <td>2</td>\n",
       "      <td>0.0</td>\n",
       "      <td>16938</td>\n",
       "    </tr>\n",
       "    <tr>\n",
       "      <th>dopamine</th>\n",
       "      <td>19633</td>\n",
       "      <td>2</td>\n",
       "      <td>0.0</td>\n",
       "      <td>18634</td>\n",
       "    </tr>\n",
       "    <tr>\n",
       "      <th>cancer_elix</th>\n",
       "      <td>19633</td>\n",
       "      <td>2</td>\n",
       "      <td>0.0</td>\n",
       "      <td>17212</td>\n",
       "    </tr>\n",
       "    <tr>\n",
       "      <th>rrt</th>\n",
       "      <td>19633</td>\n",
       "      <td>2</td>\n",
       "      <td>0.0</td>\n",
       "      <td>18201</td>\n",
       "    </tr>\n",
       "    <tr>\n",
       "      <th>vent_recieved</th>\n",
       "      <td>19376</td>\n",
       "      <td>3</td>\n",
       "      <td>Mech</td>\n",
       "      <td>9530</td>\n",
       "    </tr>\n",
       "    <tr>\n",
       "      <th>pco2</th>\n",
       "      <td>19633</td>\n",
       "      <td>3</td>\n",
       "      <td>absent</td>\n",
       "      <td>12436</td>\n",
       "    </tr>\n",
       "    <tr>\n",
       "      <th>bands</th>\n",
       "      <td>19633</td>\n",
       "      <td>3</td>\n",
       "      <td>absent</td>\n",
       "      <td>17152</td>\n",
       "    </tr>\n",
       "    <tr>\n",
       "      <th>ethnicity</th>\n",
       "      <td>19633</td>\n",
       "      <td>5</td>\n",
       "      <td>white/nonhispanic</td>\n",
       "      <td>14361</td>\n",
       "    </tr>\n",
       "    <tr>\n",
       "      <th>mingcs</th>\n",
       "      <td>5387</td>\n",
       "      <td>13</td>\n",
       "      <td>15.0</td>\n",
       "      <td>2013</td>\n",
       "    </tr>\n",
       "    <tr>\n",
       "      <th>sum_elix</th>\n",
       "      <td>22281</td>\n",
       "      <td>14</td>\n",
       "      <td>0.0</td>\n",
       "      <td>14005</td>\n",
       "    </tr>\n",
       "    <tr>\n",
       "      <th>daily_sofa</th>\n",
       "      <td>32577</td>\n",
       "      <td>23</td>\n",
       "      <td>1</td>\n",
       "      <td>5658</td>\n",
       "    </tr>\n",
       "    <tr>\n",
       "      <th>bicarbonate</th>\n",
       "      <td>35348</td>\n",
       "      <td>54</td>\n",
       "      <td>23.0</td>\n",
       "      <td>2899</td>\n",
       "    </tr>\n",
       "    <tr>\n",
       "      <th>fio2</th>\n",
       "      <td>11167</td>\n",
       "      <td>67</td>\n",
       "      <td>50.0</td>\n",
       "      <td>2824</td>\n",
       "    </tr>\n",
       "    <tr>\n",
       "      <th>resprate</th>\n",
       "      <td>568460</td>\n",
       "      <td>69</td>\n",
       "      <td>20.0</td>\n",
       "      <td>44177</td>\n",
       "    </tr>\n",
       "    <tr>\n",
       "      <th>chloride</th>\n",
       "      <td>41124</td>\n",
       "      <td>82</td>\n",
       "      <td>106.0</td>\n",
       "      <td>2598</td>\n",
       "    </tr>\n",
       "    <tr>\n",
       "      <th>sodium</th>\n",
       "      <td>43542</td>\n",
       "      <td>83</td>\n",
       "      <td>138.0</td>\n",
       "      <td>4003</td>\n",
       "    </tr>\n",
       "    <tr>\n",
       "      <th>potassium</th>\n",
       "      <td>54521</td>\n",
       "      <td>98</td>\n",
       "      <td>4.0</td>\n",
       "      <td>3659</td>\n",
       "    </tr>\n",
       "    <tr>\n",
       "      <th>spo2</th>\n",
       "      <td>516729</td>\n",
       "      <td>101</td>\n",
       "      <td>100.0</td>\n",
       "      <td>133817</td>\n",
       "    </tr>\n",
       "    <tr>\n",
       "      <th>ph</th>\n",
       "      <td>49389</td>\n",
       "      <td>104</td>\n",
       "      <td>7.4</td>\n",
       "      <td>2393</td>\n",
       "    </tr>\n",
       "    <tr>\n",
       "      <th>height</th>\n",
       "      <td>13372</td>\n",
       "      <td>134</td>\n",
       "      <td>177.8</td>\n",
       "      <td>870</td>\n",
       "    </tr>\n",
       "    <tr>\n",
       "      <th>inr</th>\n",
       "      <td>25225</td>\n",
       "      <td>157</td>\n",
       "      <td>1.2</td>\n",
       "      <td>3573</td>\n",
       "    </tr>\n",
       "    <tr>\n",
       "      <th>hemoglobin</th>\n",
       "      <td>41371</td>\n",
       "      <td>165</td>\n",
       "      <td>10.2</td>\n",
       "      <td>921</td>\n",
       "    </tr>\n",
       "    <tr>\n",
       "      <th>creatinine</th>\n",
       "      <td>35129</td>\n",
       "      <td>171</td>\n",
       "      <td>0.7</td>\n",
       "      <td>2747</td>\n",
       "    </tr>\n",
       "    <tr>\n",
       "      <th>calcium</th>\n",
       "      <td>21060</td>\n",
       "      <td>182</td>\n",
       "      <td>1.13</td>\n",
       "      <td>995</td>\n",
       "    </tr>\n",
       "    <tr>\n",
       "      <th>diasbp</th>\n",
       "      <td>523515</td>\n",
       "      <td>191</td>\n",
       "      <td>56.0</td>\n",
       "      <td>16538</td>\n",
       "    </tr>\n",
       "    <tr>\n",
       "      <th>heartrate</th>\n",
       "      <td>539740</td>\n",
       "      <td>196</td>\n",
       "      <td>80.0</td>\n",
       "      <td>14417</td>\n",
       "    </tr>\n",
       "    <tr>\n",
       "      <th>bun</th>\n",
       "      <td>34982</td>\n",
       "      <td>198</td>\n",
       "      <td>15.0</td>\n",
       "      <td>1023</td>\n",
       "    </tr>\n",
       "    <tr>\n",
       "      <th>sysbp</th>\n",
       "      <td>525769</td>\n",
       "      <td>231</td>\n",
       "      <td>106.0</td>\n",
       "      <td>10034</td>\n",
       "    </tr>\n",
       "    <tr>\n",
       "      <th>lactate</th>\n",
       "      <td>30020</td>\n",
       "      <td>269</td>\n",
       "      <td>1.2</td>\n",
       "      <td>1316</td>\n",
       "    </tr>\n",
       "    <tr>\n",
       "      <th>bilirubin</th>\n",
       "      <td>11243</td>\n",
       "      <td>380</td>\n",
       "      <td>0.4</td>\n",
       "      <td>964</td>\n",
       "    </tr>\n",
       "    <tr>\n",
       "      <th>temperature</th>\n",
       "      <td>165731</td>\n",
       "      <td>547</td>\n",
       "      <td>36.6666666666667</td>\n",
       "      <td>4282</td>\n",
       "    </tr>\n",
       "    <tr>\n",
       "      <th>pao2</th>\n",
       "      <td>28610</td>\n",
       "      <td>557</td>\n",
       "      <td>88.0</td>\n",
       "      <td>293</td>\n",
       "    </tr>\n",
       "    <tr>\n",
       "      <th>meanartpress</th>\n",
       "      <td>531808</td>\n",
       "      <td>576</td>\n",
       "      <td>71.0</td>\n",
       "      <td>13809</td>\n",
       "    </tr>\n",
       "    <tr>\n",
       "      <th>glucose</th>\n",
       "      <td>131018</td>\n",
       "      <td>693</td>\n",
       "      <td>110.0</td>\n",
       "      <td>1380</td>\n",
       "    </tr>\n",
       "    <tr>\n",
       "      <th>wbc</th>\n",
       "      <td>31512</td>\n",
       "      <td>727</td>\n",
       "      <td>8.6</td>\n",
       "      <td>238</td>\n",
       "    </tr>\n",
       "    <tr>\n",
       "      <th>platelet</th>\n",
       "      <td>33054</td>\n",
       "      <td>872</td>\n",
       "      <td>108.0</td>\n",
       "      <td>151</td>\n",
       "    </tr>\n",
       "    <tr>\n",
       "      <th>ptt</th>\n",
       "      <td>26141</td>\n",
       "      <td>1154</td>\n",
       "      <td>150.0</td>\n",
       "      <td>687</td>\n",
       "    </tr>\n",
       "    <tr>\n",
       "      <th>weight</th>\n",
       "      <td>17867</td>\n",
       "      <td>1573</td>\n",
       "      <td>70.0</td>\n",
       "      <td>322</td>\n",
       "    </tr>\n",
       "    <tr>\n",
       "      <th>pao2fio2ratio</th>\n",
       "      <td>66441</td>\n",
       "      <td>2954</td>\n",
       "      <td>476.0</td>\n",
       "      <td>11288</td>\n",
       "    </tr>\n",
       "    <tr>\n",
       "      <th>yearsold</th>\n",
       "      <td>19633</td>\n",
       "      <td>18494</td>\n",
       "      <td>90.0</td>\n",
       "      <td>1140</td>\n",
       "    </tr>\n",
       "  </tbody>\n",
       "</table>\n",
       "</div>"
      ],
      "text/plain": [
       "                  count unique                top    freq\n",
       "label                                                    \n",
       "any_vasoactives   19633      2                0.0   13919\n",
       "leukocyte         19633      2     Neg/Not_tested   17390\n",
       "nitrite           19633      2     Neg/Not_tested   19187\n",
       "norepinephrine    19633      2                0.0   16335\n",
       "o2_flow           19633      2                0.0   19022\n",
       "gender            19633      2                  M   10753\n",
       "epinephrine       19633      2                0.0   19236\n",
       "vasopressin       19633      2                0.0   19251\n",
       "dobutamine        19633      2                0.0   19408\n",
       "phenylephrine     19633      2                0.0   16938\n",
       "dopamine          19633      2                0.0   18634\n",
       "cancer_elix       19633      2                0.0   17212\n",
       "rrt               19633      2                0.0   18201\n",
       "vent_recieved     19376      3               Mech    9530\n",
       "pco2              19633      3             absent   12436\n",
       "bands             19633      3             absent   17152\n",
       "ethnicity         19633      5  white/nonhispanic   14361\n",
       "mingcs             5387     13               15.0    2013\n",
       "sum_elix          22281     14                0.0   14005\n",
       "daily_sofa        32577     23                  1    5658\n",
       "bicarbonate       35348     54               23.0    2899\n",
       "fio2              11167     67               50.0    2824\n",
       "resprate         568460     69               20.0   44177\n",
       "chloride          41124     82              106.0    2598\n",
       "sodium            43542     83              138.0    4003\n",
       "potassium         54521     98                4.0    3659\n",
       "spo2             516729    101              100.0  133817\n",
       "ph                49389    104                7.4    2393\n",
       "height            13372    134              177.8     870\n",
       "inr               25225    157                1.2    3573\n",
       "hemoglobin        41371    165               10.2     921\n",
       "creatinine        35129    171                0.7    2747\n",
       "calcium           21060    182               1.13     995\n",
       "diasbp           523515    191               56.0   16538\n",
       "heartrate        539740    196               80.0   14417\n",
       "bun               34982    198               15.0    1023\n",
       "sysbp            525769    231              106.0   10034\n",
       "lactate           30020    269                1.2    1316\n",
       "bilirubin         11243    380                0.4     964\n",
       "temperature      165731    547   36.6666666666667    4282\n",
       "pao2              28610    557               88.0     293\n",
       "meanartpress     531808    576               71.0   13809\n",
       "glucose          131018    693              110.0    1380\n",
       "wbc               31512    727                8.6     238\n",
       "platelet          33054    872              108.0     151\n",
       "ptt               26141   1154              150.0     687\n",
       "weight            17867   1573               70.0     322\n",
       "pao2fio2ratio     66441   2954              476.0   11288\n",
       "yearsold          19633  18494               90.0    1140"
      ]
     },
     "execution_count": 9,
     "metadata": {},
     "output_type": "execute_result"
    },
    {
     "name": "stdout",
     "output_type": "stream",
     "text": [
      "time: 1.29 s\n"
     ]
    }
   ],
   "source": [
    "#overview of all variables and formats\n",
    "big_df.groupby('label')['value'].describe().sort_values('unique')"
   ]
  },
  {
   "cell_type": "markdown",
   "metadata": {},
   "source": [
    "## initial data prep\n",
    "* convert to two class"
   ]
  },
  {
   "cell_type": "code",
   "execution_count": 10,
   "metadata": {},
   "outputs": [
    {
     "name": "stdout",
     "output_type": "stream",
     "text": [
      "time: 7.98 ms\n"
     ]
    }
   ],
   "source": [
    "#convert to two class\n",
    "final_pt_df2['final_bin'].unique()\n",
    "two_classes=['C_neg/A_partial','C_pos/A_full']\n",
    "two_class_icu=final_pt_df2.loc[final_pt_df2.loc[:,\"final_bin\"].isin(two_classes),['icustay_id','subject_id','final_bin']]\n"
   ]
  },
  {
   "cell_type": "code",
   "execution_count": 11,
   "metadata": {},
   "outputs": [
    {
     "name": "stdout",
     "output_type": "stream",
     "text": [
      "time: 5.29 ms\n"
     ]
    }
   ],
   "source": [
    "# hold out class\n",
    "ho_class=['C_neg/A_full']\n",
    "one_class_icu=final_pt_df2.loc[final_pt_df2.loc[:,\"final_bin\"].isin(ho_class),['icustay_id','subject_id','final_bin']]\n"
   ]
  },
  {
   "cell_type": "code",
   "execution_count": 12,
   "metadata": {},
   "outputs": [
    {
     "name": "stdout",
     "output_type": "stream",
     "text": [
      "time: 684 ms\n"
     ]
    }
   ],
   "source": [
    "big_df_ho=big_df.loc[big_df['icustay_id'].isin(list(one_class_icu['icustay_id'])),:].copy()\n",
    "\n",
    "\n"
   ]
  },
  {
   "cell_type": "code",
   "execution_count": 13,
   "metadata": {},
   "outputs": [
    {
     "name": "stdout",
     "output_type": "stream",
     "text": [
      "time: 730 ms\n"
     ]
    }
   ],
   "source": [
    "big_df=big_df.loc[big_df['icustay_id'].isin(list(two_class_icu['icustay_id'])),:].copy()"
   ]
  },
  {
   "cell_type": "code",
   "execution_count": 14,
   "metadata": {},
   "outputs": [
    {
     "data": {
      "text/plain": [
       "10305"
      ]
     },
     "execution_count": 14,
     "metadata": {},
     "output_type": "execute_result"
    },
    {
     "name": "stdout",
     "output_type": "stream",
     "text": [
      "time: 25.7 ms\n"
     ]
    }
   ],
   "source": [
    "len(big_df)\n",
    "big_df['icustay_id'].nunique() "
   ]
  },
  {
   "cell_type": "markdown",
   "metadata": {},
   "source": [
    "### roundabout way of sampling train/test set so that each subject is only in either train or test:\n",
    "* To ensure a single patient did not end up with samples in both training and testing sets, individual patients (subject_id's) are kept together when performing the stratified train and test split"
   ]
  },
  {
   "cell_type": "code",
   "execution_count": 15,
   "metadata": {},
   "outputs": [
    {
     "name": "stdout",
     "output_type": "stream",
     "text": [
      "time: 1.29 s\n"
     ]
    }
   ],
   "source": [
    "# label each subject_id with the max of the two classes. \n",
    "two_class_pt=two_class_icu.copy()\n",
    "two_class_pt['final_bin']=pd.factorize(two_class_pt['final_bin'])[0]\n",
    "two_class_maxsub=two_class_pt.loc[two_class_pt.groupby('subject_id')['final_bin'].idxmax(),:]"
   ]
  },
  {
   "cell_type": "code",
   "execution_count": 16,
   "metadata": {},
   "outputs": [
    {
     "name": "stdout",
     "output_type": "stream",
     "text": [
      "time: 723 ms\n"
     ]
    }
   ],
   "source": [
    "# 70/30 train/test set split with 12345=seed, splitting on max final bin of each SUBJECT_ID\n",
    "train, test = train_test_split(two_class_maxsub, test_size=0.3, random_state=12345, \n",
    "                               stratify=two_class_maxsub['final_bin'])\n",
    "# generate list of each SUBJECT_ID in each split\n",
    "train_subject=list(train['subject_id'])\n",
    "test_subject=list(test['subject_id'])\n",
    "\n",
    "#filtering big_df on train subjects and test subjects to get my train/test splits.\n",
    "big_df_train= big_df.loc[big_df.loc[:,'subject_id'].isin(train_subject),:].copy()\n",
    "big_df_test= big_df.loc[big_df.loc[:,'subject_id'].isin(test_subject),:].copy()\n",
    "del big_df"
   ]
  },
  {
   "cell_type": "markdown",
   "metadata": {},
   "source": [
    "## calc median/iqr of 'healthiest patients' for standardization\n",
    "take all non-categorical variables for HEALTHY PATIENTS and calculate the median and IQR for them. then will use this to make z scores via:"
   ]
  },
  {
   "cell_type": "markdown",
   "metadata": {},
   "source": [
    "$$Z=\\frac{(X-\\widetilde{X}_{-/short})}{(IQR_{-/short})}$$ where $\\widetilde{X}_{-/short}$ is the median value of the patients with negative SSC and short duration EAT.\n"
   ]
  },
  {
   "cell_type": "code",
   "execution_count": 17,
   "metadata": {},
   "outputs": [
    {
     "data": {
      "text/plain": [
       "7111"
      ]
     },
     "execution_count": 17,
     "metadata": {},
     "output_type": "execute_result"
    },
    {
     "name": "stdout",
     "output_type": "stream",
     "text": [
      "time: 101 ms\n"
     ]
    }
   ],
   "source": [
    "big_df_train[big_df_train['label']=='vent_recieved']['icustay_id'].nunique()"
   ]
  },
  {
   "cell_type": "code",
   "execution_count": 18,
   "metadata": {},
   "outputs": [
    {
     "data": {
      "text/plain": [
       "7205"
      ]
     },
     "execution_count": 18,
     "metadata": {},
     "output_type": "execute_result"
    },
    {
     "name": "stdout",
     "output_type": "stream",
     "text": [
      "time: 17.4 ms\n"
     ]
    }
   ],
   "source": [
    "big_df_train['icustay_id'].nunique()"
   ]
  },
  {
   "cell_type": "code",
   "execution_count": 19,
   "metadata": {},
   "outputs": [
    {
     "name": "stdout",
     "output_type": "stream",
     "text": [
      "time: 1.07 ms\n"
     ]
    }
   ],
   "source": [
    "from parameters import continuous, onetime\n"
   ]
  },
  {
   "cell_type": "code",
   "execution_count": 50,
   "metadata": {},
   "outputs": [
    {
     "name": "stdout",
     "output_type": "stream",
     "text": [
      "time: 4.03 ms\n"
     ]
    }
   ],
   "source": [
    "def median_label_fxn(big_df):\n",
    "    \"\"\" grabs the median and IQR values for all continuous variables based upon the values present in\n",
    "    the last 24 hours of the c_neg/A_partial patients (AKA the healthiest patients at the healthiest timepoints) \"\"\"\n",
    "    \n",
    "    global final_pt_df2\n",
    "    healthy_pt=list(final_pt_df2[final_pt_df2['final_bin']==\"C_neg/A_partial\"]['icustay_id'])\n",
    "\n",
    "    #filter to only healthy patients filter\n",
    "    ##splitting big_df, making a copy and restricting it to all values that will be usd in standardizing\n",
    "    healthy_df=big_df[big_df['label'].isin(continuous+onetime)].copy()\n",
    "    healthy_df['value']= pd.to_numeric(healthy_df['value']) #converting to numeric \n",
    "    healthy_df=healthy_df[healthy_df['icustay_id'].isin(healthy_pt)].copy() #only numerical values for cneg/ab partial pt\n",
    "    \n",
    "    #finding the last 24 hours of each healthy patient.\n",
    "    healthy_pt_end=pd.DataFrame(healthy_df.groupby(\"icustay_id\")['delta'].max())\n",
    "    healthy_pt_end[\"start\"]=healthy_pt_end['delta']- pd.to_timedelta(\"1 day 00:00:00\")\n",
    "    healthy_pt_end=healthy_pt_end.rename(columns={\"delta\":\"end\"}).reset_index()\n",
    "    healthy_df= pd.merge(healthy_df,healthy_pt_end, left_on=\"icustay_id\", right_on=\"icustay_id\", how=\"left\" ) #now have the last 24 hours annotated for each patient as start and end.\n",
    "    \n",
    "    #calculating medians and iqr for each label based on healthy patient's last 24 hours in icu\n",
    "    median_label=pd.DataFrame((healthy_df.groupby(\"label\")['value'].median())).reset_index()\n",
    "    median_label=median_label.rename(columns={'value':\"median\"})\n",
    "    iqr_label=pd.DataFrame((healthy_df.groupby(\"label\")['value'].quantile(0.75)-healthy_df.groupby(\"label\")['value'].quantile(0.25))).reset_index()\n",
    "    iqr_label=iqr_label.rename(columns={'value':\"iqr\"})\n",
    "    median_label=pd.merge(median_label,iqr_label)  #final median df\n",
    "    return(median_label)\n",
    "\n",
    "def standardization_fxn(big_df, big_df_2class=None): ##changed here\n",
    "    global continuous, onetime, vaso_active, ordinal, categorical\n",
    "    \n",
    "    if big_df_2class is not None:\n",
    "        median_label=median_label_fxn(big_df_2class)\n",
    "    else:\n",
    "        median_label=median_label_fxn(big_df)\n",
    "    \n",
    "    ### dataformatting: convert all dtypes to a numeric type that pereserves nan. \n",
    "    #splitting categorical, ordinal and continuous\n",
    "    big_categorical= big_df.loc[big_df.loc[:,'label'].isin(categorical),:].copy() \n",
    "\n",
    "    #continuous and ordinal variables\n",
    "    big_noCat= big_df.loc[big_df.loc[:,'label'].isin(continuous+onetime),:].copy() \n",
    "    big_noCat['value']= big_noCat['value'].apply(pd.to_numeric, args=('coerce',)) #instead of convert to float, may preserve nan's better. \n",
    "    \n",
    "    ### adding a standardized value (x-median)/iqr  where median is of the last 24 hours in time window for culture neg/ ab partial patients \n",
    "    big_noCat=pd.merge(big_noCat, median_label, how=\"left\") \n",
    "    #loging values\n",
    "    big_noCat['median']= np.log(big_noCat['median']+1.0)\n",
    "    big_noCat['iqr']= np.log(big_noCat['iqr']+1.0)\n",
    "    big_noCat['raw_value']=big_noCat['value']\n",
    "    big_noCat['value']=np.log(big_noCat['value']+1.0)\n",
    "    \n",
    "    big_noCat['standardize']=((big_noCat['value']-big_noCat['median'])/big_noCat['iqr']).fillna(0) #standardize is log standardized  \n",
    "\n",
    "    return(big_noCat, big_categorical)"
   ]
  },
  {
   "cell_type": "code",
   "execution_count": 21,
   "metadata": {},
   "outputs": [
    {
     "name": "stdout",
     "output_type": "stream",
     "text": [
      "time: 52 s\n"
     ]
    }
   ],
   "source": [
    "noCat_df_train, cat_df_train = standardization_fxn(big_df_train)\n",
    "noCat_df_test, cat_df_test = standardization_fxn(big_df_test)"
   ]
  },
  {
   "cell_type": "code",
   "execution_count": 51,
   "metadata": {},
   "outputs": [
    {
     "name": "stdout",
     "output_type": "stream",
     "text": [
      "time: 40.4 s\n"
     ]
    }
   ],
   "source": [
    "##### holdout\n",
    "noCat_df_ho, cat_df_ho = standardization_fxn(big_df_ho, big_df_train)\n"
   ]
  },
  {
   "cell_type": "code",
   "execution_count": 23,
   "metadata": {},
   "outputs": [
    {
     "data": {
      "text/plain": [
       "label            value         \n",
       "any_vasoactives  0.0               1\n",
       "bands            >10               1\n",
       "cancer_elix      0.0               1\n",
       "dobutamine       0.0               1\n",
       "dopamine         0.0               1\n",
       "epinephrine      0.0               1\n",
       "ethnicity        asian             1\n",
       "gender           F                 1\n",
       "leukocyte        Neg/Not_tested    1\n",
       "nitrite          Neg/Not_tested    1\n",
       "norepinephrine   0.0               1\n",
       "o2_flow          0.0               1\n",
       "pco2             absent            1\n",
       "phenylephrine    0.0               1\n",
       "rrt              0.0               1\n",
       "vasopressin      0.0               1\n",
       "vent_recieved    Oxygen            1\n",
       "Name: value, dtype: int64"
      ]
     },
     "execution_count": 23,
     "metadata": {},
     "output_type": "execute_result"
    },
    {
     "name": "stdout",
     "output_type": "stream",
     "text": [
      "time: 10 ms\n"
     ]
    }
   ],
   "source": [
    "#should be same number of col as len(categorical)\n",
    "cat_df_train[cat_df_train['icustay_id']==200012.0].groupby('label')['value'].value_counts()#.head(10)"
   ]
  },
  {
   "cell_type": "code",
   "execution_count": 54,
   "metadata": {},
   "outputs": [
    {
     "data": {
      "text/html": [
       "<div>\n",
       "<style scoped>\n",
       "    .dataframe tbody tr th:only-of-type {\n",
       "        vertical-align: middle;\n",
       "    }\n",
       "\n",
       "    .dataframe tbody tr th {\n",
       "        vertical-align: top;\n",
       "    }\n",
       "\n",
       "    .dataframe thead th {\n",
       "        text-align: right;\n",
       "    }\n",
       "</style>\n",
       "<table border=\"1\" class=\"dataframe\">\n",
       "  <thead>\n",
       "    <tr style=\"text-align: right;\">\n",
       "      <th></th>\n",
       "      <th>icustay_id</th>\n",
       "      <th>t_0</th>\n",
       "      <th>label</th>\n",
       "      <th>value</th>\n",
       "      <th>delta</th>\n",
       "      <th>uom</th>\n",
       "      <th>source</th>\n",
       "      <th>subject_id</th>\n",
       "      <th>median</th>\n",
       "      <th>iqr</th>\n",
       "      <th>raw_value</th>\n",
       "      <th>standardize</th>\n",
       "    </tr>\n",
       "  </thead>\n",
       "  <tbody>\n",
       "    <tr>\n",
       "      <th>6</th>\n",
       "      <td>200001.0</td>\n",
       "      <td>2181-11-26</td>\n",
       "      <td>weight</td>\n",
       "      <td>4.127134</td>\n",
       "      <td>0 days 00:00:00.000000000</td>\n",
       "      <td>kg</td>\n",
       "      <td>weight</td>\n",
       "      <td>55973</td>\n",
       "      <td>4.35735</td>\n",
       "      <td>3.317816</td>\n",
       "      <td>61.0</td>\n",
       "      <td>-0.069388</td>\n",
       "    </tr>\n",
       "    <tr>\n",
       "      <th>191</th>\n",
       "      <td>200003.0</td>\n",
       "      <td>2199-08-04</td>\n",
       "      <td>weight</td>\n",
       "      <td>4.356709</td>\n",
       "      <td>0 days 00:00:00.000000000</td>\n",
       "      <td>kg</td>\n",
       "      <td>weight</td>\n",
       "      <td>27513</td>\n",
       "      <td>4.35735</td>\n",
       "      <td>3.317816</td>\n",
       "      <td>77.0</td>\n",
       "      <td>-0.000193</td>\n",
       "    </tr>\n",
       "    <tr>\n",
       "      <th>441</th>\n",
       "      <td>200019.0</td>\n",
       "      <td>2178-07-09</td>\n",
       "      <td>weight</td>\n",
       "      <td>4.189655</td>\n",
       "      <td>0 days 00:00:00.000000000</td>\n",
       "      <td>kg</td>\n",
       "      <td>weight</td>\n",
       "      <td>21789</td>\n",
       "      <td>4.35735</td>\n",
       "      <td>3.317816</td>\n",
       "      <td>65.0</td>\n",
       "      <td>-0.050544</td>\n",
       "    </tr>\n",
       "    <tr>\n",
       "      <th>625</th>\n",
       "      <td>200065.0</td>\n",
       "      <td>2120-03-23</td>\n",
       "      <td>weight</td>\n",
       "      <td>4.795791</td>\n",
       "      <td>0 days 00:00:00.000000000</td>\n",
       "      <td>kg</td>\n",
       "      <td>weight</td>\n",
       "      <td>19891</td>\n",
       "      <td>4.35735</td>\n",
       "      <td>3.317816</td>\n",
       "      <td>120.0</td>\n",
       "      <td>0.132147</td>\n",
       "    </tr>\n",
       "    <tr>\n",
       "      <th>952</th>\n",
       "      <td>200066.0</td>\n",
       "      <td>2188-10-07</td>\n",
       "      <td>weight</td>\n",
       "      <td>4.369448</td>\n",
       "      <td>0 days 00:00:00.000000000</td>\n",
       "      <td>kg</td>\n",
       "      <td>weight</td>\n",
       "      <td>214</td>\n",
       "      <td>4.35735</td>\n",
       "      <td>3.317816</td>\n",
       "      <td>78.0</td>\n",
       "      <td>0.003646</td>\n",
       "    </tr>\n",
       "  </tbody>\n",
       "</table>\n",
       "</div>"
      ],
      "text/plain": [
       "     icustay_id         t_0   label     value                      delta uom  \\\n",
       "6      200001.0  2181-11-26  weight  4.127134  0 days 00:00:00.000000000  kg   \n",
       "191    200003.0  2199-08-04  weight  4.356709  0 days 00:00:00.000000000  kg   \n",
       "441    200019.0  2178-07-09  weight  4.189655  0 days 00:00:00.000000000  kg   \n",
       "625    200065.0  2120-03-23  weight  4.795791  0 days 00:00:00.000000000  kg   \n",
       "952    200066.0  2188-10-07  weight  4.369448  0 days 00:00:00.000000000  kg   \n",
       "\n",
       "     source  subject_id   median       iqr  raw_value  standardize  \n",
       "6    weight       55973  4.35735  3.317816       61.0    -0.069388  \n",
       "191  weight       27513  4.35735  3.317816       77.0    -0.000193  \n",
       "441  weight       21789  4.35735  3.317816       65.0    -0.050544  \n",
       "625  weight       19891  4.35735  3.317816      120.0     0.132147  \n",
       "952  weight         214  4.35735  3.317816       78.0     0.003646  "
      ]
     },
     "execution_count": 54,
     "metadata": {},
     "output_type": "execute_result"
    },
    {
     "name": "stdout",
     "output_type": "stream",
     "text": [
      "time: 94.3 ms\n"
     ]
    }
   ],
   "source": [
    "noCat_df_ho[noCat_df_ho['label']=='weight'].head()"
   ]
  },
  {
   "cell_type": "code",
   "execution_count": 55,
   "metadata": {},
   "outputs": [
    {
     "data": {
      "text/html": [
       "<div>\n",
       "<style scoped>\n",
       "    .dataframe tbody tr th:only-of-type {\n",
       "        vertical-align: middle;\n",
       "    }\n",
       "\n",
       "    .dataframe tbody tr th {\n",
       "        vertical-align: top;\n",
       "    }\n",
       "\n",
       "    .dataframe thead th {\n",
       "        text-align: right;\n",
       "    }\n",
       "</style>\n",
       "<table border=\"1\" class=\"dataframe\">\n",
       "  <thead>\n",
       "    <tr style=\"text-align: right;\">\n",
       "      <th></th>\n",
       "      <th>icustay_id</th>\n",
       "      <th>t_0</th>\n",
       "      <th>label</th>\n",
       "      <th>value</th>\n",
       "      <th>delta</th>\n",
       "      <th>uom</th>\n",
       "      <th>source</th>\n",
       "      <th>subject_id</th>\n",
       "      <th>median</th>\n",
       "      <th>iqr</th>\n",
       "      <th>raw_value</th>\n",
       "      <th>standardize</th>\n",
       "    </tr>\n",
       "  </thead>\n",
       "  <tbody>\n",
       "    <tr>\n",
       "      <th>230</th>\n",
       "      <td>200003.0</td>\n",
       "      <td>2199-08-04</td>\n",
       "      <td>lactate</td>\n",
       "      <td>0.916291</td>\n",
       "      <td>0 days 01:32:00.000000000</td>\n",
       "      <td>mmol/L</td>\n",
       "      <td>labs</td>\n",
       "      <td>27513</td>\n",
       "      <td>1.029619</td>\n",
       "      <td>0.955511</td>\n",
       "      <td>1.5</td>\n",
       "      <td>-0.118605</td>\n",
       "    </tr>\n",
       "    <tr>\n",
       "      <th>635</th>\n",
       "      <td>200065.0</td>\n",
       "      <td>2120-03-23</td>\n",
       "      <td>lactate</td>\n",
       "      <td>2.397895</td>\n",
       "      <td>0 days 01:16:00.000000000</td>\n",
       "      <td>mmol/L</td>\n",
       "      <td>labs</td>\n",
       "      <td>19891</td>\n",
       "      <td>1.029619</td>\n",
       "      <td>0.955511</td>\n",
       "      <td>10.0</td>\n",
       "      <td>1.431983</td>\n",
       "    </tr>\n",
       "    <tr>\n",
       "      <th>653</th>\n",
       "      <td>200065.0</td>\n",
       "      <td>2120-03-23</td>\n",
       "      <td>lactate</td>\n",
       "      <td>2.054124</td>\n",
       "      <td>0 days 03:04:00.000000000</td>\n",
       "      <td>mmol/L</td>\n",
       "      <td>labs</td>\n",
       "      <td>19891</td>\n",
       "      <td>1.029619</td>\n",
       "      <td>0.955511</td>\n",
       "      <td>6.8</td>\n",
       "      <td>1.072205</td>\n",
       "    </tr>\n",
       "    <tr>\n",
       "      <th>672</th>\n",
       "      <td>200065.0</td>\n",
       "      <td>2120-03-23</td>\n",
       "      <td>lactate</td>\n",
       "      <td>2.397895</td>\n",
       "      <td>0 days 05:22:00.000000000</td>\n",
       "      <td>mmol/L</td>\n",
       "      <td>labs</td>\n",
       "      <td>19891</td>\n",
       "      <td>1.029619</td>\n",
       "      <td>0.955511</td>\n",
       "      <td>10.0</td>\n",
       "      <td>1.431983</td>\n",
       "    </tr>\n",
       "    <tr>\n",
       "      <th>704</th>\n",
       "      <td>200065.0</td>\n",
       "      <td>2120-03-23</td>\n",
       "      <td>lactate</td>\n",
       "      <td>2.484907</td>\n",
       "      <td>0 days 08:28:00.000000000</td>\n",
       "      <td>mmol/L</td>\n",
       "      <td>labs</td>\n",
       "      <td>19891</td>\n",
       "      <td>1.029619</td>\n",
       "      <td>0.955511</td>\n",
       "      <td>11.0</td>\n",
       "      <td>1.523045</td>\n",
       "    </tr>\n",
       "  </tbody>\n",
       "</table>\n",
       "</div>"
      ],
      "text/plain": [
       "     icustay_id         t_0    label     value                      delta  \\\n",
       "230    200003.0  2199-08-04  lactate  0.916291  0 days 01:32:00.000000000   \n",
       "635    200065.0  2120-03-23  lactate  2.397895  0 days 01:16:00.000000000   \n",
       "653    200065.0  2120-03-23  lactate  2.054124  0 days 03:04:00.000000000   \n",
       "672    200065.0  2120-03-23  lactate  2.397895  0 days 05:22:00.000000000   \n",
       "704    200065.0  2120-03-23  lactate  2.484907  0 days 08:28:00.000000000   \n",
       "\n",
       "        uom source  subject_id    median       iqr  raw_value  standardize  \n",
       "230  mmol/L   labs       27513  1.029619  0.955511        1.5    -0.118605  \n",
       "635  mmol/L   labs       19891  1.029619  0.955511       10.0     1.431983  \n",
       "653  mmol/L   labs       19891  1.029619  0.955511        6.8     1.072205  \n",
       "672  mmol/L   labs       19891  1.029619  0.955511       10.0     1.431983  \n",
       "704  mmol/L   labs       19891  1.029619  0.955511       11.0     1.523045  "
      ]
     },
     "execution_count": 55,
     "metadata": {},
     "output_type": "execute_result"
    },
    {
     "name": "stdout",
     "output_type": "stream",
     "text": [
      "time: 97.8 ms\n"
     ]
    }
   ],
   "source": [
    "noCat_df_ho[noCat_df_ho['label']=='lactate'].head()"
   ]
  },
  {
   "cell_type": "code",
   "execution_count": 24,
   "metadata": {},
   "outputs": [
    {
     "data": {
      "text/html": [
       "<div>\n",
       "<style scoped>\n",
       "    .dataframe tbody tr th:only-of-type {\n",
       "        vertical-align: middle;\n",
       "    }\n",
       "\n",
       "    .dataframe tbody tr th {\n",
       "        vertical-align: top;\n",
       "    }\n",
       "\n",
       "    .dataframe thead th {\n",
       "        text-align: right;\n",
       "    }\n",
       "</style>\n",
       "<table border=\"1\" class=\"dataframe\">\n",
       "  <thead>\n",
       "    <tr style=\"text-align: right;\">\n",
       "      <th></th>\n",
       "      <th>icustay_id</th>\n",
       "      <th>t_0</th>\n",
       "      <th>label</th>\n",
       "      <th>value</th>\n",
       "      <th>delta</th>\n",
       "      <th>uom</th>\n",
       "      <th>source</th>\n",
       "      <th>subject_id</th>\n",
       "      <th>median</th>\n",
       "      <th>iqr</th>\n",
       "      <th>raw_value</th>\n",
       "      <th>standardize</th>\n",
       "    </tr>\n",
       "  </thead>\n",
       "  <tbody>\n",
       "    <tr>\n",
       "      <th>5</th>\n",
       "      <td>200012.0</td>\n",
       "      <td>2153-12-23</td>\n",
       "      <td>lactate</td>\n",
       "      <td>0.832909</td>\n",
       "      <td>0 days 02:36:00.000000000</td>\n",
       "      <td>mmol/L</td>\n",
       "      <td>labs</td>\n",
       "      <td>28448</td>\n",
       "      <td>1.029619</td>\n",
       "      <td>0.955511</td>\n",
       "      <td>1.3</td>\n",
       "      <td>-0.205869</td>\n",
       "    </tr>\n",
       "    <tr>\n",
       "      <th>135</th>\n",
       "      <td>200014.0</td>\n",
       "      <td>2105-02-17</td>\n",
       "      <td>lactate</td>\n",
       "      <td>0.641854</td>\n",
       "      <td>0 days 01:08:00.000000000</td>\n",
       "      <td>mmol/L</td>\n",
       "      <td>labs</td>\n",
       "      <td>9514</td>\n",
       "      <td>1.029619</td>\n",
       "      <td>0.955511</td>\n",
       "      <td>0.9</td>\n",
       "      <td>-0.405820</td>\n",
       "    </tr>\n",
       "    <tr>\n",
       "      <th>390</th>\n",
       "      <td>200033.0</td>\n",
       "      <td>2198-08-11</td>\n",
       "      <td>lactate</td>\n",
       "      <td>0.955511</td>\n",
       "      <td>0 days 05:16:00.000000000</td>\n",
       "      <td>mmol/L</td>\n",
       "      <td>labs</td>\n",
       "      <td>56369</td>\n",
       "      <td>1.029619</td>\n",
       "      <td>0.955511</td>\n",
       "      <td>1.6</td>\n",
       "      <td>-0.077558</td>\n",
       "    </tr>\n",
       "    <tr>\n",
       "      <th>432</th>\n",
       "      <td>200033.0</td>\n",
       "      <td>2198-08-11</td>\n",
       "      <td>lactate</td>\n",
       "      <td>0.832909</td>\n",
       "      <td>0 days 09:36:00.000000000</td>\n",
       "      <td>mmol/L</td>\n",
       "      <td>labs</td>\n",
       "      <td>56369</td>\n",
       "      <td>1.029619</td>\n",
       "      <td>0.955511</td>\n",
       "      <td>1.3</td>\n",
       "      <td>-0.205869</td>\n",
       "    </tr>\n",
       "    <tr>\n",
       "      <th>709</th>\n",
       "      <td>200055.0</td>\n",
       "      <td>2179-03-17</td>\n",
       "      <td>lactate</td>\n",
       "      <td>0.916291</td>\n",
       "      <td>0 days 08:12:00.000000000</td>\n",
       "      <td>mmol/L</td>\n",
       "      <td>labs</td>\n",
       "      <td>25225</td>\n",
       "      <td>1.029619</td>\n",
       "      <td>0.955511</td>\n",
       "      <td>1.5</td>\n",
       "      <td>-0.118605</td>\n",
       "    </tr>\n",
       "    <tr>\n",
       "      <th>...</th>\n",
       "      <td>...</td>\n",
       "      <td>...</td>\n",
       "      <td>...</td>\n",
       "      <td>...</td>\n",
       "      <td>...</td>\n",
       "      <td>...</td>\n",
       "      <td>...</td>\n",
       "      <td>...</td>\n",
       "      <td>...</td>\n",
       "      <td>...</td>\n",
       "      <td>...</td>\n",
       "      <td>...</td>\n",
       "    </tr>\n",
       "    <tr>\n",
       "      <th>1496964</th>\n",
       "      <td>299863.0</td>\n",
       "      <td>2154-12-15</td>\n",
       "      <td>lactate</td>\n",
       "      <td>0.875469</td>\n",
       "      <td>0 days 15:46:00.000000000</td>\n",
       "      <td>mmol/L</td>\n",
       "      <td>labs</td>\n",
       "      <td>31011</td>\n",
       "      <td>1.029619</td>\n",
       "      <td>0.955511</td>\n",
       "      <td>1.4</td>\n",
       "      <td>-0.161328</td>\n",
       "    </tr>\n",
       "    <tr>\n",
       "      <th>1496991</th>\n",
       "      <td>299863.0</td>\n",
       "      <td>2154-12-15</td>\n",
       "      <td>lactate</td>\n",
       "      <td>0.875469</td>\n",
       "      <td>0 days 18:04:00.000000000</td>\n",
       "      <td>mmol/L</td>\n",
       "      <td>labs</td>\n",
       "      <td>31011</td>\n",
       "      <td>1.029619</td>\n",
       "      <td>0.955511</td>\n",
       "      <td>1.4</td>\n",
       "      <td>-0.161328</td>\n",
       "    </tr>\n",
       "    <tr>\n",
       "      <th>1497035</th>\n",
       "      <td>299863.0</td>\n",
       "      <td>2154-12-15</td>\n",
       "      <td>lactate</td>\n",
       "      <td>1.029619</td>\n",
       "      <td>0 days 22:44:00.000000000</td>\n",
       "      <td>mmol/L</td>\n",
       "      <td>labs</td>\n",
       "      <td>31011</td>\n",
       "      <td>1.029619</td>\n",
       "      <td>0.955511</td>\n",
       "      <td>1.8</td>\n",
       "      <td>0.000000</td>\n",
       "    </tr>\n",
       "    <tr>\n",
       "      <th>1497283</th>\n",
       "      <td>299903.0</td>\n",
       "      <td>2111-06-18</td>\n",
       "      <td>lactate</td>\n",
       "      <td>0.587787</td>\n",
       "      <td>0 days 03:04:00.000000000</td>\n",
       "      <td>mmol/L</td>\n",
       "      <td>labs</td>\n",
       "      <td>31252</td>\n",
       "      <td>1.029619</td>\n",
       "      <td>0.955511</td>\n",
       "      <td>0.8</td>\n",
       "      <td>-0.462404</td>\n",
       "    </tr>\n",
       "    <tr>\n",
       "      <th>1497401</th>\n",
       "      <td>299903.0</td>\n",
       "      <td>2111-06-18</td>\n",
       "      <td>lactate</td>\n",
       "      <td>0.470004</td>\n",
       "      <td>0 days 17:50:00.000000000</td>\n",
       "      <td>mmol/L</td>\n",
       "      <td>labs</td>\n",
       "      <td>31252</td>\n",
       "      <td>1.029619</td>\n",
       "      <td>0.955511</td>\n",
       "      <td>0.6</td>\n",
       "      <td>-0.585671</td>\n",
       "    </tr>\n",
       "  </tbody>\n",
       "</table>\n",
       "<p>10074 rows × 12 columns</p>\n",
       "</div>"
      ],
      "text/plain": [
       "         icustay_id         t_0    label     value                      delta  \\\n",
       "5          200012.0  2153-12-23  lactate  0.832909  0 days 02:36:00.000000000   \n",
       "135        200014.0  2105-02-17  lactate  0.641854  0 days 01:08:00.000000000   \n",
       "390        200033.0  2198-08-11  lactate  0.955511  0 days 05:16:00.000000000   \n",
       "432        200033.0  2198-08-11  lactate  0.832909  0 days 09:36:00.000000000   \n",
       "709        200055.0  2179-03-17  lactate  0.916291  0 days 08:12:00.000000000   \n",
       "...             ...         ...      ...       ...                        ...   \n",
       "1496964    299863.0  2154-12-15  lactate  0.875469  0 days 15:46:00.000000000   \n",
       "1496991    299863.0  2154-12-15  lactate  0.875469  0 days 18:04:00.000000000   \n",
       "1497035    299863.0  2154-12-15  lactate  1.029619  0 days 22:44:00.000000000   \n",
       "1497283    299903.0  2111-06-18  lactate  0.587787  0 days 03:04:00.000000000   \n",
       "1497401    299903.0  2111-06-18  lactate  0.470004  0 days 17:50:00.000000000   \n",
       "\n",
       "            uom source  subject_id    median       iqr  raw_value  standardize  \n",
       "5        mmol/L   labs       28448  1.029619  0.955511        1.3    -0.205869  \n",
       "135      mmol/L   labs        9514  1.029619  0.955511        0.9    -0.405820  \n",
       "390      mmol/L   labs       56369  1.029619  0.955511        1.6    -0.077558  \n",
       "432      mmol/L   labs       56369  1.029619  0.955511        1.3    -0.205869  \n",
       "709      mmol/L   labs       25225  1.029619  0.955511        1.5    -0.118605  \n",
       "...         ...    ...         ...       ...       ...        ...          ...  \n",
       "1496964  mmol/L   labs       31011  1.029619  0.955511        1.4    -0.161328  \n",
       "1496991  mmol/L   labs       31011  1.029619  0.955511        1.4    -0.161328  \n",
       "1497035  mmol/L   labs       31011  1.029619  0.955511        1.8     0.000000  \n",
       "1497283  mmol/L   labs       31252  1.029619  0.955511        0.8    -0.462404  \n",
       "1497401  mmol/L   labs       31252  1.029619  0.955511        0.6    -0.585671  \n",
       "\n",
       "[10074 rows x 12 columns]"
      ]
     },
     "execution_count": 24,
     "metadata": {},
     "output_type": "execute_result"
    },
    {
     "name": "stdout",
     "output_type": "stream",
     "text": [
      "time: 515 ms\n"
     ]
    }
   ],
   "source": [
    "noCat_df_train[noCat_df_train['label']=='lactate']"
   ]
  },
  {
   "cell_type": "markdown",
   "metadata": {},
   "source": [
    "# aggregation:\n",
    "### clincally guided min/max"
   ]
  },
  {
   "cell_type": "code",
   "execution_count": 56,
   "metadata": {},
   "outputs": [
    {
     "name": "stdout",
     "output_type": "stream",
     "text": [
      "time: 453 µs\n"
     ]
    }
   ],
   "source": [
    "from parameters import low_value, hi_value, both_value\n",
    "\n",
    "# important_onetime=['yearsold','weight'] #pco2 and bands are now in categorical 12-12-19\n"
   ]
  },
  {
   "cell_type": "code",
   "execution_count": 57,
   "metadata": {},
   "outputs": [
    {
     "data": {
      "text/plain": [
       "array(['daily_sofa', 'pao2fio2ratio', 'sum_elix', 'weight', 'yearsold',\n",
       "       'lactate', 'mingcs', 'diasbp', 'heartrate', 'meanartpress',\n",
       "       'resprate', 'spo2', 'sysbp', 'temperature', 'hemoglobin',\n",
       "       'platelet', 'wbc', 'calcium', 'glucose', 'ph', 'bicarbonate',\n",
       "       'bun', 'chloride', 'creatinine', 'inr', 'potassium', 'ptt',\n",
       "       'sodium', 'bilirubin'], dtype=object)"
      ]
     },
     "execution_count": 57,
     "metadata": {},
     "output_type": "execute_result"
    },
    {
     "name": "stdout",
     "output_type": "stream",
     "text": [
      "time: 58.1 ms\n"
     ]
    }
   ],
   "source": [
    "noCat_df_train['label'].unique()#noCat_df_train['label']=='any_vasoactives'"
   ]
  },
  {
   "cell_type": "markdown",
   "metadata": {},
   "source": [
    "### running the min/max aggregations.\n",
    "\n"
   ]
  },
  {
   "cell_type": "code",
   "execution_count": 58,
   "metadata": {},
   "outputs": [
    {
     "name": "stdout",
     "output_type": "stream",
     "text": [
      "time: 2.61 ms\n"
     ]
    }
   ],
   "source": [
    "def clin_agg(big_noCat, big_cat, big_df, values=\"standardize\"):\n",
    "    \"\"\"\n",
    "    clincally guided aggregations.\n",
    "    \n",
    "    values= choose here if want to use standardization or raw values.\n",
    "    \n",
    "    note: getting two minor errors, could use some cleaning up at later date.\n",
    "    \"\"\"\n",
    "    global hi_value, low_value, both_value, important_onetime\n",
    "    #max aggregation for selected variables\n",
    "    big_max= big_noCat.loc[big_noCat.loc[:,'label'].isin(hi_value),:]\n",
    "    table = pd.pivot_table(big_max, values=values, columns='label', index=['icustay_id'],aggfunc=max, dropna=False)\n",
    "    \n",
    "    #min aggregation for selected variables\n",
    "    big_min= big_noCat.loc[big_noCat.loc[:,'label'].isin(low_value),:]\n",
    "    table2 = pd.pivot_table(big_min, values=values, columns='label', index=['icustay_id'],aggfunc=min, dropna=False)\n",
    "    \n",
    "    #max&min aggregation for selected variables\n",
    "    big_both= big_noCat.loc[big_noCat.loc[:,'label'].isin(both_value),:]\n",
    "    table3 = pd.pivot_table(big_both, values=values, columns='label', index=['icustay_id'],aggfunc=[max,min], dropna=False)\n",
    "    \n",
    "    #first left join all different continuous aggregations together. \n",
    "    worst_df=pd.merge(table.reset_index(), table2.reset_index(), how='left')\n",
    "    worst_df=pd.merge(worst_df, table3.reset_index(), left_on='icustay_id', right_on='icustay_id',how='left')\n",
    "    \n",
    "    ### formatting categorical to wide format to match the tables/worst_df\n",
    "    big_cat= big_cat.pivot(\n",
    "    index='icustay_id',\n",
    "    values='value',\n",
    "    columns='label').reset_index() #need to convert to wide format. should be one row per icustay per time. \n",
    "    \n",
    "    ## merging the categorical and aggregated dataframes together. \n",
    "    worst_df=pd.merge(worst_df, big_cat, left_on='icustay_id', right_on='icustay_id',how='left') #using max/min aggregates \n",
    "\n",
    "#     #adding important one_time values to final aggregated\n",
    "#     agg_remaining= big_df.loc[big_df.loc[:,'label'].isin(important_onetime),:]\n",
    "#     agg_table2 = pd.pivot_table(agg_remaining, values='value', columns='label', index=['icustay_id'],aggfunc=[max], dropna=False) \n",
    "#     agg_table2.columns = agg_table2.columns.get_level_values(1)\n",
    "#     agg_table2=agg_table2.reset_index()\n",
    "#     agg_table2.head()#.rename(columns={})\n",
    "\n",
    "#     worst_df=pd.merge(worst_df, agg_table2, how='left')\n",
    "    return(worst_df)\n"
   ]
  },
  {
   "cell_type": "code",
   "execution_count": 32,
   "metadata": {},
   "outputs": [
    {
     "data": {
      "text/plain": [
       "{'bilirubin',\n",
       " 'bun',\n",
       " 'chloride',\n",
       " 'creatinine',\n",
       " 'daily_sofa',\n",
       " 'glucose',\n",
       " 'heartrate',\n",
       " 'height',\n",
       " 'inr',\n",
       " 'lactate',\n",
       " 'potassium',\n",
       " 'ptt',\n",
       " 'resprate',\n",
       " 'sum_elix',\n",
       " 'temperature',\n",
       " 'weight',\n",
       " 'yearsold'}"
      ]
     },
     "execution_count": 32,
     "metadata": {},
     "output_type": "execute_result"
    },
    {
     "name": "stdout",
     "output_type": "stream",
     "text": [
      "time: 1.88 ms\n"
     ]
    }
   ],
   "source": [
    "hi_value"
   ]
  },
  {
   "cell_type": "code",
   "execution_count": 59,
   "metadata": {},
   "outputs": [
    {
     "name": "stdout",
     "output_type": "stream",
     "text": [
      "time: 1.79 s\n"
     ]
    }
   ],
   "source": [
    "worst_df_train=clin_agg(noCat_df_train, cat_df_train,big_df_train, values=\"standardize\")\n",
    "worst_df_test=clin_agg(noCat_df_test, cat_df_test, big_df_test, values=\"standardize\")\n",
    "worst_df_ho=clin_agg(noCat_df_ho, cat_df_ho,big_df_ho, values=\"standardize\")"
   ]
  },
  {
   "cell_type": "code",
   "execution_count": 40,
   "metadata": {},
   "outputs": [
    {
     "data": {
      "text/html": [
       "<div>\n",
       "<style scoped>\n",
       "    .dataframe tbody tr th:only-of-type {\n",
       "        vertical-align: middle;\n",
       "    }\n",
       "\n",
       "    .dataframe tbody tr th {\n",
       "        vertical-align: top;\n",
       "    }\n",
       "\n",
       "    .dataframe thead th {\n",
       "        text-align: right;\n",
       "    }\n",
       "</style>\n",
       "<table border=\"1\" class=\"dataframe\">\n",
       "  <thead>\n",
       "    <tr style=\"text-align: right;\">\n",
       "      <th></th>\n",
       "      <th>icustay_id</th>\n",
       "      <th>bilirubin</th>\n",
       "      <th>bun</th>\n",
       "      <th>chloride</th>\n",
       "      <th>creatinine</th>\n",
       "      <th>daily_sofa</th>\n",
       "      <th>glucose</th>\n",
       "      <th>heartrate</th>\n",
       "      <th>inr</th>\n",
       "      <th>lactate</th>\n",
       "      <th>...</th>\n",
       "      <th>gender</th>\n",
       "      <th>leukocyte</th>\n",
       "      <th>nitrite</th>\n",
       "      <th>norepinephrine</th>\n",
       "      <th>o2_flow</th>\n",
       "      <th>pco2</th>\n",
       "      <th>phenylephrine</th>\n",
       "      <th>rrt</th>\n",
       "      <th>vasopressin</th>\n",
       "      <th>vent_recieved</th>\n",
       "    </tr>\n",
       "  </thead>\n",
       "  <tbody>\n",
       "    <tr>\n",
       "      <th>0</th>\n",
       "      <td>200012.0</td>\n",
       "      <td>NaN</td>\n",
       "      <td>NaN</td>\n",
       "      <td>NaN</td>\n",
       "      <td>NaN</td>\n",
       "      <td>-0.430677</td>\n",
       "      <td>NaN</td>\n",
       "      <td>0.072874</td>\n",
       "      <td>NaN</td>\n",
       "      <td>-0.205869</td>\n",
       "      <td>...</td>\n",
       "      <td>F</td>\n",
       "      <td>Neg/Not_tested</td>\n",
       "      <td>Neg/Not_tested</td>\n",
       "      <td>0.0</td>\n",
       "      <td>0.0</td>\n",
       "      <td>absent</td>\n",
       "      <td>0.0</td>\n",
       "      <td>0.0</td>\n",
       "      <td>0.0</td>\n",
       "      <td>Oxygen</td>\n",
       "    </tr>\n",
       "    <tr>\n",
       "      <th>1</th>\n",
       "      <td>200014.0</td>\n",
       "      <td>NaN</td>\n",
       "      <td>0.040770</td>\n",
       "      <td>0.037089</td>\n",
       "      <td>-0.300758</td>\n",
       "      <td>-0.178747</td>\n",
       "      <td>-0.053798</td>\n",
       "      <td>0.017360</td>\n",
       "      <td>-0.270369</td>\n",
       "      <td>-0.405820</td>\n",
       "      <td>...</td>\n",
       "      <td>M</td>\n",
       "      <td>Neg/Not_tested</td>\n",
       "      <td>Neg/Not_tested</td>\n",
       "      <td>0.0</td>\n",
       "      <td>0.0</td>\n",
       "      <td>&lt;50</td>\n",
       "      <td>0.0</td>\n",
       "      <td>0.0</td>\n",
       "      <td>0.0</td>\n",
       "      <td>Mech</td>\n",
       "    </tr>\n",
       "    <tr>\n",
       "      <th>2</th>\n",
       "      <td>200033.0</td>\n",
       "      <td>NaN</td>\n",
       "      <td>-0.082229</td>\n",
       "      <td>-0.004314</td>\n",
       "      <td>-0.219047</td>\n",
       "      <td>-0.430677</td>\n",
       "      <td>0.136180</td>\n",
       "      <td>0.092040</td>\n",
       "      <td>-0.132111</td>\n",
       "      <td>-0.077558</td>\n",
       "      <td>...</td>\n",
       "      <td>M</td>\n",
       "      <td>Neg/Not_tested</td>\n",
       "      <td>Neg/Not_tested</td>\n",
       "      <td>0.0</td>\n",
       "      <td>0.0</td>\n",
       "      <td>absent</td>\n",
       "      <td>1.0</td>\n",
       "      <td>0.0</td>\n",
       "      <td>0.0</td>\n",
       "      <td>Mech</td>\n",
       "    </tr>\n",
       "    <tr>\n",
       "      <th>3</th>\n",
       "      <td>200036.0</td>\n",
       "      <td>NaN</td>\n",
       "      <td>NaN</td>\n",
       "      <td>NaN</td>\n",
       "      <td>NaN</td>\n",
       "      <td>-0.430677</td>\n",
       "      <td>-0.021339</td>\n",
       "      <td>0.127153</td>\n",
       "      <td>NaN</td>\n",
       "      <td>NaN</td>\n",
       "      <td>...</td>\n",
       "      <td>M</td>\n",
       "      <td>Neg/Not_tested</td>\n",
       "      <td>Neg/Not_tested</td>\n",
       "      <td>0.0</td>\n",
       "      <td>0.0</td>\n",
       "      <td>absent</td>\n",
       "      <td>0.0</td>\n",
       "      <td>0.0</td>\n",
       "      <td>0.0</td>\n",
       "      <td>Oxygen</td>\n",
       "    </tr>\n",
       "    <tr>\n",
       "      <th>4</th>\n",
       "      <td>200055.0</td>\n",
       "      <td>-0.316061</td>\n",
       "      <td>0.098917</td>\n",
       "      <td>-0.035714</td>\n",
       "      <td>1.934240</td>\n",
       "      <td>0.503859</td>\n",
       "      <td>-0.029584</td>\n",
       "      <td>0.049416</td>\n",
       "      <td>-0.132111</td>\n",
       "      <td>-0.118605</td>\n",
       "      <td>...</td>\n",
       "      <td>F</td>\n",
       "      <td>Neg/Not_tested</td>\n",
       "      <td>Neg/Not_tested</td>\n",
       "      <td>0.0</td>\n",
       "      <td>0.0</td>\n",
       "      <td>absent</td>\n",
       "      <td>0.0</td>\n",
       "      <td>1.0</td>\n",
       "      <td>0.0</td>\n",
       "      <td>None</td>\n",
       "    </tr>\n",
       "  </tbody>\n",
       "</table>\n",
       "<p>5 rows × 50 columns</p>\n",
       "</div>"
      ],
      "text/plain": [
       "   icustay_id  bilirubin       bun  chloride  creatinine  daily_sofa  \\\n",
       "0    200012.0        NaN       NaN       NaN         NaN   -0.430677   \n",
       "1    200014.0        NaN  0.040770  0.037089   -0.300758   -0.178747   \n",
       "2    200033.0        NaN -0.082229 -0.004314   -0.219047   -0.430677   \n",
       "3    200036.0        NaN       NaN       NaN         NaN   -0.430677   \n",
       "4    200055.0  -0.316061  0.098917 -0.035714    1.934240    0.503859   \n",
       "\n",
       "    glucose  heartrate       inr   lactate  ...  gender       leukocyte  \\\n",
       "0       NaN   0.072874       NaN -0.205869  ...       F  Neg/Not_tested   \n",
       "1 -0.053798   0.017360 -0.270369 -0.405820  ...       M  Neg/Not_tested   \n",
       "2  0.136180   0.092040 -0.132111 -0.077558  ...       M  Neg/Not_tested   \n",
       "3 -0.021339   0.127153       NaN       NaN  ...       M  Neg/Not_tested   \n",
       "4 -0.029584   0.049416 -0.132111 -0.118605  ...       F  Neg/Not_tested   \n",
       "\n",
       "          nitrite  norepinephrine  o2_flow    pco2  phenylephrine  rrt  \\\n",
       "0  Neg/Not_tested             0.0      0.0  absent            0.0  0.0   \n",
       "1  Neg/Not_tested             0.0      0.0     <50            0.0  0.0   \n",
       "2  Neg/Not_tested             0.0      0.0  absent            1.0  0.0   \n",
       "3  Neg/Not_tested             0.0      0.0  absent            0.0  0.0   \n",
       "4  Neg/Not_tested             0.0      0.0  absent            0.0  1.0   \n",
       "\n",
       "   vasopressin  vent_recieved  \n",
       "0          0.0         Oxygen  \n",
       "1          0.0           Mech  \n",
       "2          0.0           Mech  \n",
       "3          0.0         Oxygen  \n",
       "4          0.0           None  \n",
       "\n",
       "[5 rows x 50 columns]"
      ]
     },
     "execution_count": 40,
     "metadata": {},
     "output_type": "execute_result"
    },
    {
     "name": "stdout",
     "output_type": "stream",
     "text": [
      "time: 20.2 ms\n"
     ]
    }
   ],
   "source": [
    "worst_df_train.head()"
   ]
  },
  {
   "cell_type": "code",
   "execution_count": 60,
   "metadata": {},
   "outputs": [
    {
     "data": {
      "text/plain": [
       "count    7401.000000\n",
       "mean        0.040561\n",
       "std         0.119575\n",
       "min        -0.475168\n",
       "25%        -0.052025\n",
       "50%         0.086184\n",
       "75%         0.145556\n",
       "max         0.302855\n",
       "Name: pao2fio2ratio, dtype: float64"
      ]
     },
     "execution_count": 60,
     "metadata": {},
     "output_type": "execute_result"
    },
    {
     "name": "stdout",
     "output_type": "stream",
     "text": [
      "time: 5.62 ms\n"
     ]
    }
   ],
   "source": [
    "worst_df_ho['pao2fio2ratio'].describe()"
   ]
  },
  {
   "cell_type": "code",
   "execution_count": 61,
   "metadata": {},
   "outputs": [
    {
     "data": {
      "text/plain": [
       "count    6688.000000\n",
       "mean        0.004226\n",
       "std         0.085967\n",
       "min        -1.104402\n",
       "25%        -0.050544\n",
       "50%         0.002500\n",
       "75%         0.054114\n",
       "max         0.666066\n",
       "Name: weight, dtype: float64"
      ]
     },
     "execution_count": 61,
     "metadata": {},
     "output_type": "execute_result"
    },
    {
     "name": "stdout",
     "output_type": "stream",
     "text": [
      "time: 5.88 ms\n"
     ]
    }
   ],
   "source": [
    "worst_df_ho['weight'].describe()"
   ]
  },
  {
   "cell_type": "code",
   "execution_count": 41,
   "metadata": {},
   "outputs": [
    {
     "data": {
      "text/plain": [
       "count    7205.000000\n",
       "mean        0.076559\n",
       "std         0.104366\n",
       "min        -0.354458\n",
       "25%         0.000000\n",
       "50%         0.145556\n",
       "75%         0.145556\n",
       "max         0.335424\n",
       "Name: pao2fio2ratio, dtype: float64"
      ]
     },
     "execution_count": 41,
     "metadata": {},
     "output_type": "execute_result"
    },
    {
     "name": "stdout",
     "output_type": "stream",
     "text": [
      "time: 6.29 ms\n"
     ]
    }
   ],
   "source": [
    "worst_df_train['pao2fio2ratio'].describe()"
   ]
  },
  {
   "cell_type": "code",
   "execution_count": 42,
   "metadata": {},
   "outputs": [
    {
     "data": {
      "text/plain": [
       "0.0    7109\n",
       "1.0      96\n",
       "Name: vasopressin, dtype: int64"
      ]
     },
     "execution_count": 42,
     "metadata": {},
     "output_type": "execute_result"
    },
    {
     "name": "stdout",
     "output_type": "stream",
     "text": [
      "time: 4.96 ms\n"
     ]
    }
   ],
   "source": [
    "worst_df_train['vasopressin'].value_counts()"
   ]
  },
  {
   "cell_type": "code",
   "execution_count": 43,
   "metadata": {},
   "outputs": [
    {
     "name": "stdout",
     "output_type": "stream",
     "text": [
      "time: 380 µs\n"
     ]
    }
   ],
   "source": [
    "#worst_df_train['vasopressin'].value_counts()"
   ]
  },
  {
   "cell_type": "code",
   "execution_count": 44,
   "metadata": {},
   "outputs": [
    {
     "data": {
      "text/plain": [
       "absent    6418\n",
       "<10        485\n",
       ">10        302\n",
       "Name: bands, dtype: int64"
      ]
     },
     "execution_count": 44,
     "metadata": {},
     "output_type": "execute_result"
    },
    {
     "name": "stdout",
     "output_type": "stream",
     "text": [
      "time: 4.76 ms\n"
     ]
    }
   ],
   "source": [
    "worst_df_train['bands'].value_counts()"
   ]
  },
  {
   "cell_type": "code",
   "execution_count": 45,
   "metadata": {},
   "outputs": [
    {
     "data": {
      "text/plain": [
       "absent    4892\n",
       "<50       1709\n",
       ">50        604\n",
       "Name: pco2, dtype: int64"
      ]
     },
     "execution_count": 45,
     "metadata": {},
     "output_type": "execute_result"
    },
    {
     "name": "stdout",
     "output_type": "stream",
     "text": [
      "time: 5.01 ms\n"
     ]
    }
   ],
   "source": [
    "worst_df_train['pco2'].value_counts()"
   ]
  },
  {
   "cell_type": "code",
   "execution_count": 64,
   "metadata": {},
   "outputs": [
    {
     "name": "stdout",
     "output_type": "stream",
     "text": [
      "time: 1.1 s\n"
     ]
    }
   ],
   "source": [
    "save_df(worst_df_train, 'train')\n",
    "save_df(worst_df_test, 'test')\n",
    "save_df(worst_df_ho, 'longneg')"
   ]
  },
  {
   "cell_type": "code",
   "execution_count": 36,
   "metadata": {},
   "outputs": [
    {
     "name": "stdout",
     "output_type": "stream",
     "text": [
      "time: 6 ms\n"
     ]
    }
   ],
   "source": [
    "del worst_df_train, worst_df_test"
   ]
  }
 ],
 "metadata": {
  "kernelspec": {
   "display_name": "Python 3",
   "language": "python",
   "name": "python3"
  },
  "language_info": {
   "codemirror_mode": {
    "name": "ipython",
    "version": 3
   },
   "file_extension": ".py",
   "mimetype": "text/x-python",
   "name": "python",
   "nbconvert_exporter": "python",
   "pygments_lexer": "ipython3",
   "version": "3.6.8"
  }
 },
 "nbformat": 4,
 "nbformat_minor": 4
}
