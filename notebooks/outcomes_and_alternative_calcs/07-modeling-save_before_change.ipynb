{
 "cells": [
  {
   "cell_type": "markdown",
   "metadata": {},
   "source": [
    "# Preprocessing (imputation, standardization, final clean) and modeling\n",
    "sklearn modeling the median imputed training data using min/max clinically guided aggregation. \n",
    "preprocessing includes variable formatting (categorical to factor variables in r, train/test split, and median imputation).\n"
   ]
  },
  {
   "cell_type": "code",
   "execution_count": 1,
   "metadata": {},
   "outputs": [],
   "source": [
    "import pandas as pd\n",
    "import matplotlib.pyplot as plt\n",
    "import os, sys\n",
    "from pathlib import Path\n",
    "import seaborn as sns\n",
    "import numpy as np\n",
    "import glob\n",
    "from sklearn.metrics import confusion_matrix, classification_report, roc_curve, roc_auc_score, accuracy_score, auc, precision_recall_fscore_support, pairwise, f1_score, log_loss, make_scorer\n",
    "from sklearn.metrics import precision_score, recall_score\n",
    "from sklearn import metrics\n",
    "from sklearn.datasets import make_classification\n",
    "from sklearn.ensemble import RandomForestClassifier\n",
    "from sklearn.externals.joblib import Memory\n",
    "from sklearn.preprocessing import MinMaxScaler, OneHotEncoder, Imputer\n",
    "from sklearn.model_selection import StratifiedKFold, GridSearchCV, RandomizedSearchCV\n",
    "from sklearn.linear_model import LogisticRegression\n",
    "from sklearn.utils import validation\n",
    "from scipy.sparse import issparse\n",
    "from scipy.spatial import distance\n",
    "from sklearn import svm\n",
    "\n",
    "#importin xg boost and all needed otherstuff\n",
    "from sklearn.ensemble import RandomForestClassifier, GradientBoostingClassifier\n",
    "from xgboost import XGBClassifier #conda install -c conda-forge xgboost to install\n",
    "##adding these, lets see if it helps with xgboost crash\n",
    "os.environ['KMP_DUPLICATE_LIB_OK']='True'\n",
    "\n",
    "#reducing warnings that are super common in my model\n",
    "import warnings\n",
    "from sklearn.exceptions import DataConversionWarning\n",
    "warnings.simplefilter(action='ignore') #ignore all warnings\n",
    "\n",
    "#memory = Memory(cachedir='/tmp', verbose=0)\n",
    "#@memory.cache above any def fxn.\n",
    "\n",
    "RANDOM_STATE = 15485867\n",
    "\n",
    "%matplotlib inline\n",
    "plt.style.use('seaborn-white')\n",
    "\n",
    "from notebook.services.config import ConfigManager\n",
    "cm = ConfigManager()\n",
    "cm.update('livereveal', {\n",
    "        'width': 1024,\n",
    "        'height': 768,\n",
    "        'scroll': True,\n",
    "})\n",
    "\n",
    "%load_ext autotime"
   ]
  },
  {
   "cell_type": "markdown",
   "metadata": {},
   "source": [
    "## importing datasets and doing final formatting/processing"
   ]
  },
  {
   "cell_type": "code",
   "execution_count": 2,
   "metadata": {},
   "outputs": [
    {
     "name": "stdout",
     "output_type": "stream",
     "text": [
      "time: 1.01 s\n"
     ]
    }
   ],
   "source": [
    "#patients of interest from rotation_cohort_generation\n",
    "from parameters import final_pt_df_v, date, repository_path, lower_window, upper_window, folder, date, time_col, time_var, patient_df, categorical, save_boolean\n",
    "#patients of interest from rotation_cohort_generation\n",
    "final_pt_df2 = final_pt_df_v #pd.read_csv('/Users/geickelb1/Documents/GitHub/mimiciii-antibiotics-modeling/data/raw/csv/%s_final_pt_df2.csv'%(most_updated_patient_df), index_col=0)\n",
    "del(final_pt_df_v)\n",
    "\n",
    "patients= list(final_pt_df2['subject_id'].unique())\n",
    "hadm_id= list(final_pt_df2['hadm_id'].unique())\n",
    "icustay_id= list(final_pt_df2['icustay_id'].unique())\n",
    "icustay_id= [int(x) for x in icustay_id]"
   ]
  },
  {
   "cell_type": "code",
   "execution_count": 3,
   "metadata": {},
   "outputs": [
    {
     "data": {
      "text/plain": [
       "15412"
      ]
     },
     "execution_count": 3,
     "metadata": {},
     "output_type": "execute_result"
    },
    {
     "name": "stdout",
     "output_type": "stream",
     "text": [
      "time: 3.82 ms\n"
     ]
    }
   ],
   "source": [
    "len(patients)"
   ]
  },
  {
   "cell_type": "code",
   "execution_count": 4,
   "metadata": {},
   "outputs": [
    {
     "data": {
      "text/plain": [
       "19633"
      ]
     },
     "execution_count": 4,
     "metadata": {},
     "output_type": "execute_result"
    },
    {
     "name": "stdout",
     "output_type": "stream",
     "text": [
      "time: 1.42 ms\n"
     ]
    }
   ],
   "source": [
    "len(icustay_id)"
   ]
  },
  {
   "cell_type": "code",
   "execution_count": 5,
   "metadata": {},
   "outputs": [
    {
     "data": {
      "text/plain": [
       "'24_hr_window'"
      ]
     },
     "execution_count": 5,
     "metadata": {},
     "output_type": "execute_result"
    },
    {
     "name": "stdout",
     "output_type": "stream",
     "text": [
      "time: 1.81 ms\n"
     ]
    }
   ],
   "source": [
    "folder"
   ]
  },
  {
   "cell_type": "code",
   "execution_count": 6,
   "metadata": {},
   "outputs": [
    {
     "name": "stdout",
     "output_type": "stream",
     "text": [
      "time: 320 µs\n"
     ]
    }
   ],
   "source": [
    "# ###########\n",
    "# save_boolean=False\n",
    "# ############"
   ]
  },
  {
   "cell_type": "code",
   "execution_count": 7,
   "metadata": {},
   "outputs": [
    {
     "name": "stdout",
     "output_type": "stream",
     "text": [
      "time: 109 ms\n"
     ]
    }
   ],
   "source": [
    "address=str(repository_path)+'/data/cleaned_merged_agg/'+'%s/'%(folder)\n",
    "train_data= pd.read_csv(Path(address+'%s_%s_cleaned_merged_agg.csv' %(date, 'train')), index_col=0)\n",
    "test_data= pd.read_csv(Path(address+'%s_%s_cleaned_merged_agg.csv' %(date, 'test')), index_col=0)"
   ]
  },
  {
   "cell_type": "code",
   "execution_count": 8,
   "metadata": {},
   "outputs": [
    {
     "name": "stdout",
     "output_type": "stream",
     "text": [
      "time: 12.1 ms\n"
     ]
    }
   ],
   "source": [
    "### added 11/8/19: removed daily sofa score from prediction model, since the components used to calculate it are already in model\n",
    "### 12/12/19:  #removing o2_flow since it is mostly sparce and is not a helpful variable\n",
    "train_data.drop('daily_sofa', axis=1, inplace=True)\n",
    "test_data.drop('daily_sofa', axis=1, inplace=True)\n",
    "train_data.drop('o2_flow', axis=1, inplace=True)\n",
    "test_data.drop('o2_flow', axis=1, inplace=True)\n",
    "categorical.remove('o2_flow')"
   ]
  },
  {
   "cell_type": "code",
   "execution_count": 9,
   "metadata": {},
   "outputs": [
    {
     "data": {
      "text/plain": [
       "0    0.145556\n",
       "1    0.087095\n",
       "2    0.017347\n",
       "3    0.145556\n",
       "4    0.145556\n",
       "Name: pao2fio2ratio, dtype: float64"
      ]
     },
     "execution_count": 9,
     "metadata": {},
     "output_type": "execute_result"
    },
    {
     "name": "stdout",
     "output_type": "stream",
     "text": [
      "time: 4.59 ms\n"
     ]
    }
   ],
   "source": [
    "train_data['pao2fio2ratio'].head()"
   ]
  },
  {
   "cell_type": "markdown",
   "metadata": {},
   "source": [
    "## getting descriptive numbers for publication"
   ]
  },
  {
   "cell_type": "code",
   "execution_count": 10,
   "metadata": {},
   "outputs": [
    {
     "data": {
      "text/html": [
       "<div>\n",
       "<style scoped>\n",
       "    .dataframe tbody tr th:only-of-type {\n",
       "        vertical-align: middle;\n",
       "    }\n",
       "\n",
       "    .dataframe tbody tr th {\n",
       "        vertical-align: top;\n",
       "    }\n",
       "\n",
       "    .dataframe thead th {\n",
       "        text-align: right;\n",
       "    }\n",
       "</style>\n",
       "<table border=\"1\" class=\"dataframe\">\n",
       "  <thead>\n",
       "    <tr style=\"text-align: right;\">\n",
       "      <th></th>\n",
       "      <th>icustay_id</th>\n",
       "      <th>ssc_charttime</th>\n",
       "      <th>ssc_id</th>\n",
       "      <th>icu_admit</th>\n",
       "      <th>ab_id</th>\n",
       "      <th>ab_start</th>\n",
       "      <th>ab_end</th>\n",
       "      <th>ab_ssc_delta</th>\n",
       "      <th>t_0</th>\n",
       "      <th>t_end</th>\n",
       "      <th>...</th>\n",
       "      <th>subject_id</th>\n",
       "      <th>dod_hosp</th>\n",
       "      <th>dod_ssn</th>\n",
       "      <th>ab_course</th>\n",
       "      <th>org_list</th>\n",
       "      <th>spec_type_list</th>\n",
       "      <th>first_pos_else_neg_ssc</th>\n",
       "      <th>sc_result</th>\n",
       "      <th>final_bin</th>\n",
       "      <th>hadm_id</th>\n",
       "    </tr>\n",
       "  </thead>\n",
       "  <tbody>\n",
       "    <tr>\n",
       "      <th>0</th>\n",
       "      <td>294638</td>\n",
       "      <td>2191-03-16 00:00:00</td>\n",
       "      <td>22</td>\n",
       "      <td>2191-03-16 00:29:31</td>\n",
       "      <td>1213116</td>\n",
       "      <td>2191-03-16</td>\n",
       "      <td>2191-03-22</td>\n",
       "      <td>0 days 00:00:00.000000000</td>\n",
       "      <td>2191-03-16</td>\n",
       "      <td>2191-03-22</td>\n",
       "      <td>...</td>\n",
       "      <td>4</td>\n",
       "      <td>NaN</td>\n",
       "      <td>NaN</td>\n",
       "      <td>full</td>\n",
       "      <td>STAPH AUREUS COAG +</td>\n",
       "      <td>BLOOD CULTURE</td>\n",
       "      <td>2191-03-16 00:00:00</td>\n",
       "      <td>positive</td>\n",
       "      <td>C_pos/A_full</td>\n",
       "      <td>185777</td>\n",
       "    </tr>\n",
       "    <tr>\n",
       "      <th>1</th>\n",
       "      <td>220597</td>\n",
       "      <td>2149-11-10 09:40:00</td>\n",
       "      <td>45</td>\n",
       "      <td>2149-11-09 13:07:02</td>\n",
       "      <td>2089126</td>\n",
       "      <td>2149-11-10</td>\n",
       "      <td>2149-11-15</td>\n",
       "      <td>0 days 00:00:00.000000000</td>\n",
       "      <td>2149-11-10</td>\n",
       "      <td>2149-11-15</td>\n",
       "      <td>...</td>\n",
       "      <td>9</td>\n",
       "      <td>2149-11-14</td>\n",
       "      <td>2149-11-14</td>\n",
       "      <td>full</td>\n",
       "      <td>NaN</td>\n",
       "      <td>NaN</td>\n",
       "      <td>2149-11-10 09:40:00</td>\n",
       "      <td>negative</td>\n",
       "      <td>C_neg/A_full</td>\n",
       "      <td>150750</td>\n",
       "    </tr>\n",
       "    <tr>\n",
       "      <th>2</th>\n",
       "      <td>232669</td>\n",
       "      <td>2104-08-11 00:00:00</td>\n",
       "      <td>60</td>\n",
       "      <td>2104-08-08 02:08:17</td>\n",
       "      <td>616189</td>\n",
       "      <td>2104-08-11</td>\n",
       "      <td>2104-08-12</td>\n",
       "      <td>0 days 00:00:00.000000000</td>\n",
       "      <td>2104-08-11</td>\n",
       "      <td>2104-08-12</td>\n",
       "      <td>...</td>\n",
       "      <td>12</td>\n",
       "      <td>2104-08-20</td>\n",
       "      <td>2104-08-20</td>\n",
       "      <td>partial</td>\n",
       "      <td>NaN</td>\n",
       "      <td>NaN</td>\n",
       "      <td>2104-08-11 00:00:00</td>\n",
       "      <td>negative</td>\n",
       "      <td>C_neg/A_partial</td>\n",
       "      <td>112213</td>\n",
       "    </tr>\n",
       "    <tr>\n",
       "      <th>3</th>\n",
       "      <td>273430</td>\n",
       "      <td>2108-08-05 20:42:00</td>\n",
       "      <td>69</td>\n",
       "      <td>2108-08-05 16:26:09</td>\n",
       "      <td>2572274</td>\n",
       "      <td>2108-08-06</td>\n",
       "      <td>2108-08-08</td>\n",
       "      <td>1 days 00:00:00.000000000</td>\n",
       "      <td>2108-08-06</td>\n",
       "      <td>2108-08-08</td>\n",
       "      <td>...</td>\n",
       "      <td>19</td>\n",
       "      <td>NaN</td>\n",
       "      <td>2109-08-18</td>\n",
       "      <td>partial</td>\n",
       "      <td>NaN</td>\n",
       "      <td>NaN</td>\n",
       "      <td>2108-08-05 20:42:00</td>\n",
       "      <td>negative</td>\n",
       "      <td>C_neg/A_partial</td>\n",
       "      <td>109235</td>\n",
       "    </tr>\n",
       "    <tr>\n",
       "      <th>4</th>\n",
       "      <td>217847</td>\n",
       "      <td>2134-09-11 09:35:00</td>\n",
       "      <td>70</td>\n",
       "      <td>2134-09-11 20:50:04</td>\n",
       "      <td>1388217</td>\n",
       "      <td>2134-09-12</td>\n",
       "      <td>2134-09-13</td>\n",
       "      <td>1 days 00:00:00.000000000</td>\n",
       "      <td>2134-09-12</td>\n",
       "      <td>2134-09-13</td>\n",
       "      <td>...</td>\n",
       "      <td>21</td>\n",
       "      <td>2135-02-08</td>\n",
       "      <td>2135-02-08</td>\n",
       "      <td>full</td>\n",
       "      <td>NaN</td>\n",
       "      <td>NaN</td>\n",
       "      <td>2134-09-11 09:35:00</td>\n",
       "      <td>negative</td>\n",
       "      <td>C_neg/A_full</td>\n",
       "      <td>109451</td>\n",
       "    </tr>\n",
       "  </tbody>\n",
       "</table>\n",
       "<p>5 rows × 23 columns</p>\n",
       "</div>"
      ],
      "text/plain": [
       "   icustay_id        ssc_charttime  ssc_id            icu_admit    ab_id  \\\n",
       "0      294638  2191-03-16 00:00:00      22  2191-03-16 00:29:31  1213116   \n",
       "1      220597  2149-11-10 09:40:00      45  2149-11-09 13:07:02  2089126   \n",
       "2      232669  2104-08-11 00:00:00      60  2104-08-08 02:08:17   616189   \n",
       "3      273430  2108-08-05 20:42:00      69  2108-08-05 16:26:09  2572274   \n",
       "4      217847  2134-09-11 09:35:00      70  2134-09-11 20:50:04  1388217   \n",
       "\n",
       "     ab_start      ab_end               ab_ssc_delta         t_0       t_end  \\\n",
       "0  2191-03-16  2191-03-22  0 days 00:00:00.000000000  2191-03-16  2191-03-22   \n",
       "1  2149-11-10  2149-11-15  0 days 00:00:00.000000000  2149-11-10  2149-11-15   \n",
       "2  2104-08-11  2104-08-12  0 days 00:00:00.000000000  2104-08-11  2104-08-12   \n",
       "3  2108-08-06  2108-08-08  1 days 00:00:00.000000000  2108-08-06  2108-08-08   \n",
       "4  2134-09-12  2134-09-13  1 days 00:00:00.000000000  2134-09-12  2134-09-13   \n",
       "\n",
       "   ... subject_id    dod_hosp     dod_ssn  ab_course             org_list  \\\n",
       "0  ...          4         NaN         NaN       full  STAPH AUREUS COAG +   \n",
       "1  ...          9  2149-11-14  2149-11-14       full                  NaN   \n",
       "2  ...         12  2104-08-20  2104-08-20    partial                  NaN   \n",
       "3  ...         19         NaN  2109-08-18    partial                  NaN   \n",
       "4  ...         21  2135-02-08  2135-02-08       full                  NaN   \n",
       "\n",
       "  spec_type_list first_pos_else_neg_ssc sc_result        final_bin hadm_id  \n",
       "0  BLOOD CULTURE    2191-03-16 00:00:00  positive     C_pos/A_full  185777  \n",
       "1            NaN    2149-11-10 09:40:00  negative     C_neg/A_full  150750  \n",
       "2            NaN    2104-08-11 00:00:00  negative  C_neg/A_partial  112213  \n",
       "3            NaN    2108-08-05 20:42:00  negative  C_neg/A_partial  109235  \n",
       "4            NaN    2134-09-11 09:35:00  negative     C_neg/A_full  109451  \n",
       "\n",
       "[5 rows x 23 columns]"
      ]
     },
     "execution_count": 10,
     "metadata": {},
     "output_type": "execute_result"
    },
    {
     "name": "stdout",
     "output_type": "stream",
     "text": [
      "time: 25.7 ms\n"
     ]
    }
   ],
   "source": [
    "final_pt_df2.head()#['icustay_id'].nunique()"
   ]
  },
  {
   "cell_type": "code",
   "execution_count": 11,
   "metadata": {},
   "outputs": [
    {
     "data": {
      "text/plain": [
       "8938"
      ]
     },
     "execution_count": 11,
     "metadata": {},
     "output_type": "execute_result"
    },
    {
     "name": "stdout",
     "output_type": "stream",
     "text": [
      "time: 6.03 ms\n"
     ]
    }
   ],
   "source": [
    "final_pt_df2.loc[final_pt_df2['final_bin'].isin(['C_neg/A_partial','C_pos/A_full']),'subject_id'].nunique()"
   ]
  },
  {
   "cell_type": "code",
   "execution_count": 12,
   "metadata": {},
   "outputs": [
    {
     "data": {
      "text/plain": [
       "['icustay_id',\n",
       " 'bilirubin',\n",
       " 'bun',\n",
       " 'chloride',\n",
       " 'creatinine',\n",
       " 'glucose',\n",
       " 'heartrate',\n",
       " 'inr',\n",
       " 'lactate',\n",
       " 'potassium',\n",
       " 'ptt',\n",
       " 'resprate',\n",
       " 'sum_elix',\n",
       " 'temperature',\n",
       " 'bicarbonate',\n",
       " 'diasbp',\n",
       " 'hemoglobin',\n",
       " 'meanartpress',\n",
       " 'mingcs',\n",
       " 'pao2fio2ratio',\n",
       " 'ph',\n",
       " 'platelet',\n",
       " 'spo2',\n",
       " 'sysbp',\n",
       " \"('max', 'calcium')\",\n",
       " \"('max', 'sodium')\",\n",
       " \"('max', 'wbc')\",\n",
       " \"('min', 'calcium')\",\n",
       " \"('min', 'sodium')\",\n",
       " \"('min', 'wbc')\",\n",
       " 'any_vasoactives',\n",
       " 'bands',\n",
       " 'cancer_elix',\n",
       " 'dobutamine',\n",
       " 'dopamine',\n",
       " 'epinephrine',\n",
       " 'ethnicity',\n",
       " 'gender',\n",
       " 'leukocyte',\n",
       " 'nitrite',\n",
       " 'norepinephrine',\n",
       " 'pco2',\n",
       " 'phenylephrine',\n",
       " 'rrt',\n",
       " 'vasopressin',\n",
       " 'vent_recieved',\n",
       " 'weight',\n",
       " 'yearsold']"
      ]
     },
     "execution_count": 12,
     "metadata": {},
     "output_type": "execute_result"
    },
    {
     "name": "stdout",
     "output_type": "stream",
     "text": [
      "time: 3.48 ms\n"
     ]
    }
   ],
   "source": [
    "list(train_data)"
   ]
  },
  {
   "cell_type": "code",
   "execution_count": 13,
   "metadata": {},
   "outputs": [
    {
     "name": "stdout",
     "output_type": "stream",
     "text": [
      "time: 7.57 ms\n"
     ]
    }
   ],
   "source": [
    "full_demo=pd.concat([train_data[['icustay_id','yearsold','ethnicity','gender']],test_data[['icustay_id','yearsold','ethnicity','gender']]])"
   ]
  },
  {
   "cell_type": "code",
   "execution_count": 14,
   "metadata": {},
   "outputs": [
    {
     "data": {
      "text/html": [
       "<div>\n",
       "<style scoped>\n",
       "    .dataframe tbody tr th:only-of-type {\n",
       "        vertical-align: middle;\n",
       "    }\n",
       "\n",
       "    .dataframe tbody tr th {\n",
       "        vertical-align: top;\n",
       "    }\n",
       "\n",
       "    .dataframe thead th {\n",
       "        text-align: right;\n",
       "    }\n",
       "</style>\n",
       "<table border=\"1\" class=\"dataframe\">\n",
       "  <thead>\n",
       "    <tr style=\"text-align: right;\">\n",
       "      <th></th>\n",
       "      <th>icustay_id</th>\n",
       "      <th>yearsold</th>\n",
       "    </tr>\n",
       "  </thead>\n",
       "  <tbody>\n",
       "    <tr>\n",
       "      <th>count</th>\n",
       "      <td>10305.000000</td>\n",
       "      <td>10305.000000</td>\n",
       "    </tr>\n",
       "    <tr>\n",
       "      <th>mean</th>\n",
       "      <td>249857.183212</td>\n",
       "      <td>64.683707</td>\n",
       "    </tr>\n",
       "    <tr>\n",
       "      <th>std</th>\n",
       "      <td>28968.046750</td>\n",
       "      <td>17.083992</td>\n",
       "    </tr>\n",
       "    <tr>\n",
       "      <th>min</th>\n",
       "      <td>200012.000000</td>\n",
       "      <td>16.022154</td>\n",
       "    </tr>\n",
       "    <tr>\n",
       "      <th>25%</th>\n",
       "      <td>224498.000000</td>\n",
       "      <td>53.250160</td>\n",
       "    </tr>\n",
       "    <tr>\n",
       "      <th>50%</th>\n",
       "      <td>249804.000000</td>\n",
       "      <td>66.362190</td>\n",
       "    </tr>\n",
       "    <tr>\n",
       "      <th>75%</th>\n",
       "      <td>275055.000000</td>\n",
       "      <td>78.443464</td>\n",
       "    </tr>\n",
       "    <tr>\n",
       "      <th>max</th>\n",
       "      <td>299995.000000</td>\n",
       "      <td>90.000000</td>\n",
       "    </tr>\n",
       "  </tbody>\n",
       "</table>\n",
       "</div>"
      ],
      "text/plain": [
       "          icustay_id      yearsold\n",
       "count   10305.000000  10305.000000\n",
       "mean   249857.183212     64.683707\n",
       "std     28968.046750     17.083992\n",
       "min    200012.000000     16.022154\n",
       "25%    224498.000000     53.250160\n",
       "50%    249804.000000     66.362190\n",
       "75%    275055.000000     78.443464\n",
       "max    299995.000000     90.000000"
      ]
     },
     "execution_count": 14,
     "metadata": {},
     "output_type": "execute_result"
    },
    {
     "name": "stdout",
     "output_type": "stream",
     "text": [
      "time: 40.6 ms\n"
     ]
    }
   ],
   "source": [
    "full_demo.describe()"
   ]
  },
  {
   "cell_type": "code",
   "execution_count": 15,
   "metadata": {},
   "outputs": [
    {
     "data": {
      "text/html": [
       "<div>\n",
       "<style scoped>\n",
       "    .dataframe tbody tr th:only-of-type {\n",
       "        vertical-align: middle;\n",
       "    }\n",
       "\n",
       "    .dataframe tbody tr th {\n",
       "        vertical-align: top;\n",
       "    }\n",
       "\n",
       "    .dataframe thead th {\n",
       "        text-align: right;\n",
       "    }\n",
       "</style>\n",
       "<table border=\"1\" class=\"dataframe\">\n",
       "  <thead>\n",
       "    <tr style=\"text-align: right;\">\n",
       "      <th></th>\n",
       "      <th>icustay_id</th>\n",
       "      <th>yearsold</th>\n",
       "      <th>ethnicity</th>\n",
       "      <th>gender</th>\n",
       "    </tr>\n",
       "  </thead>\n",
       "  <tbody>\n",
       "    <tr>\n",
       "      <th>0</th>\n",
       "      <td>200012.0</td>\n",
       "      <td>32.988959</td>\n",
       "      <td>asian</td>\n",
       "      <td>F</td>\n",
       "    </tr>\n",
       "    <tr>\n",
       "      <th>1</th>\n",
       "      <td>200014.0</td>\n",
       "      <td>84.728186</td>\n",
       "      <td>unknown/other</td>\n",
       "      <td>M</td>\n",
       "    </tr>\n",
       "    <tr>\n",
       "      <th>2</th>\n",
       "      <td>200033.0</td>\n",
       "      <td>67.145099</td>\n",
       "      <td>white/nonhispanic</td>\n",
       "      <td>M</td>\n",
       "    </tr>\n",
       "    <tr>\n",
       "      <th>3</th>\n",
       "      <td>200036.0</td>\n",
       "      <td>74.934136</td>\n",
       "      <td>white/nonhispanic</td>\n",
       "      <td>M</td>\n",
       "    </tr>\n",
       "    <tr>\n",
       "      <th>4</th>\n",
       "      <td>200055.0</td>\n",
       "      <td>31.593200</td>\n",
       "      <td>black</td>\n",
       "      <td>F</td>\n",
       "    </tr>\n",
       "  </tbody>\n",
       "</table>\n",
       "</div>"
      ],
      "text/plain": [
       "   icustay_id   yearsold          ethnicity gender\n",
       "0    200012.0  32.988959              asian      F\n",
       "1    200014.0  84.728186      unknown/other      M\n",
       "2    200033.0  67.145099  white/nonhispanic      M\n",
       "3    200036.0  74.934136  white/nonhispanic      M\n",
       "4    200055.0  31.593200              black      F"
      ]
     },
     "execution_count": 15,
     "metadata": {},
     "output_type": "execute_result"
    },
    {
     "name": "stdout",
     "output_type": "stream",
     "text": [
      "time: 6.97 ms\n"
     ]
    }
   ],
   "source": [
    "full_demo.head()"
   ]
  },
  {
   "cell_type": "code",
   "execution_count": 16,
   "metadata": {},
   "outputs": [
    {
     "data": {
      "text/plain": [
       "C_neg/A_partial    7867\n",
       "C_pos/A_full       2438\n",
       "Name: final_bin, dtype: int64"
      ]
     },
     "execution_count": 16,
     "metadata": {},
     "output_type": "execute_result"
    },
    {
     "name": "stdout",
     "output_type": "stream",
     "text": [
      "time: 25.5 ms\n"
     ]
    }
   ],
   "source": [
    "full_demo.merge(final_pt_df2[['icustay_id','subject_id','final_bin']])['final_bin'].value_counts()"
   ]
  },
  {
   "cell_type": "code",
   "execution_count": 17,
   "metadata": {},
   "outputs": [
    {
     "data": {
      "text/plain": [
       "16.0221538076406"
      ]
     },
     "execution_count": 17,
     "metadata": {},
     "output_type": "execute_result"
    },
    {
     "name": "stdout",
     "output_type": "stream",
     "text": [
      "time: 3.88 ms\n"
     ]
    }
   ],
   "source": [
    "full_demo['yearsold'].min()"
   ]
  },
  {
   "cell_type": "code",
   "execution_count": 18,
   "metadata": {},
   "outputs": [
    {
     "data": {
      "text/plain": [
       "white/nonhispanic    7472\n",
       "black                1130\n",
       "unknown/other         995\n",
       "hispanic              433\n",
       "asian                 275\n",
       "Name: ethnicity, dtype: int64"
      ]
     },
     "execution_count": 18,
     "metadata": {},
     "output_type": "execute_result"
    },
    {
     "name": "stdout",
     "output_type": "stream",
     "text": [
      "time: 4.99 ms\n"
     ]
    }
   ],
   "source": [
    "full_demo['ethnicity'].value_counts()"
   ]
  },
  {
   "cell_type": "code",
   "execution_count": 19,
   "metadata": {},
   "outputs": [
    {
     "data": {
      "text/plain": [
       "white/nonhispanic    7472\n",
       "black                1130\n",
       "unknown/other         995\n",
       "hispanic              433\n",
       "asian                 275\n",
       "Name: ethnicity, dtype: int64"
      ]
     },
     "execution_count": 19,
     "metadata": {},
     "output_type": "execute_result"
    },
    {
     "name": "stdout",
     "output_type": "stream",
     "text": [
      "time: 5.62 ms\n"
     ]
    }
   ],
   "source": [
    "full_demo['ethnicity'].value_counts()"
   ]
  },
  {
   "cell_type": "code",
   "execution_count": 20,
   "metadata": {},
   "outputs": [
    {
     "data": {
      "text/plain": [
       "M    5706\n",
       "F    4599\n",
       "Name: gender, dtype: int64"
      ]
     },
     "execution_count": 20,
     "metadata": {},
     "output_type": "execute_result"
    },
    {
     "name": "stdout",
     "output_type": "stream",
     "text": [
      "time: 5.87 ms\n"
     ]
    }
   ],
   "source": [
    "full_demo['gender'].value_counts()"
   ]
  },
  {
   "cell_type": "code",
   "execution_count": 21,
   "metadata": {},
   "outputs": [
    {
     "data": {
      "text/html": [
       "<div>\n",
       "<style scoped>\n",
       "    .dataframe tbody tr th:only-of-type {\n",
       "        vertical-align: middle;\n",
       "    }\n",
       "\n",
       "    .dataframe tbody tr th {\n",
       "        vertical-align: top;\n",
       "    }\n",
       "\n",
       "    .dataframe thead th {\n",
       "        text-align: right;\n",
       "    }\n",
       "</style>\n",
       "<table border=\"1\" class=\"dataframe\">\n",
       "  <thead>\n",
       "    <tr style=\"text-align: right;\">\n",
       "      <th></th>\n",
       "      <th>icustay_id</th>\n",
       "      <th>yearsold</th>\n",
       "      <th>ethnicity</th>\n",
       "      <th>gender</th>\n",
       "    </tr>\n",
       "  </thead>\n",
       "  <tbody>\n",
       "    <tr>\n",
       "      <th>0</th>\n",
       "      <td>200030.0</td>\n",
       "      <td>54.191893</td>\n",
       "      <td>black</td>\n",
       "      <td>M</td>\n",
       "    </tr>\n",
       "    <tr>\n",
       "      <th>1</th>\n",
       "      <td>200063.0</td>\n",
       "      <td>37.073163</td>\n",
       "      <td>unknown/other</td>\n",
       "      <td>M</td>\n",
       "    </tr>\n",
       "    <tr>\n",
       "      <th>2</th>\n",
       "      <td>200078.0</td>\n",
       "      <td>65.225284</td>\n",
       "      <td>white/nonhispanic</td>\n",
       "      <td>M</td>\n",
       "    </tr>\n",
       "    <tr>\n",
       "      <th>3</th>\n",
       "      <td>200109.0</td>\n",
       "      <td>71.609613</td>\n",
       "      <td>unknown/other</td>\n",
       "      <td>M</td>\n",
       "    </tr>\n",
       "    <tr>\n",
       "      <th>4</th>\n",
       "      <td>200116.0</td>\n",
       "      <td>56.506077</td>\n",
       "      <td>white/nonhispanic</td>\n",
       "      <td>M</td>\n",
       "    </tr>\n",
       "  </tbody>\n",
       "</table>\n",
       "</div>"
      ],
      "text/plain": [
       "   icustay_id   yearsold          ethnicity gender\n",
       "0    200030.0  54.191893              black      M\n",
       "1    200063.0  37.073163      unknown/other      M\n",
       "2    200078.0  65.225284  white/nonhispanic      M\n",
       "3    200109.0  71.609613      unknown/other      M\n",
       "4    200116.0  56.506077  white/nonhispanic      M"
      ]
     },
     "execution_count": 21,
     "metadata": {},
     "output_type": "execute_result"
    },
    {
     "name": "stdout",
     "output_type": "stream",
     "text": [
      "time: 9.04 ms\n"
     ]
    }
   ],
   "source": [
    "test_data[['icustay_id','yearsold','ethnicity','gender']].head()"
   ]
  },
  {
   "cell_type": "code",
   "execution_count": 22,
   "metadata": {},
   "outputs": [
    {
     "data": {
      "text/plain": [
       "C_neg/A_partial    5512\n",
       "C_pos/A_full       1693\n",
       "Name: final_bin, dtype: int64"
      ]
     },
     "execution_count": 22,
     "metadata": {},
     "output_type": "execute_result"
    },
    {
     "name": "stdout",
     "output_type": "stream",
     "text": [
      "time: 22.8 ms\n"
     ]
    }
   ],
   "source": [
    "train_data.merge(final_pt_df2[['icustay_id','subject_id','final_bin']])['final_bin'].value_counts()"
   ]
  },
  {
   "cell_type": "code",
   "execution_count": 10,
   "metadata": {},
   "outputs": [
    {
     "data": {
      "text/plain": [
       "C_neg/A_partial    2355\n",
       "C_pos/A_full        745\n",
       "Name: final_bin, dtype: int64"
      ]
     },
     "execution_count": 10,
     "metadata": {},
     "output_type": "execute_result"
    },
    {
     "name": "stdout",
     "output_type": "stream",
     "text": [
      "time: 31.8 ms\n"
     ]
    }
   ],
   "source": [
    "test_data.merge(final_pt_df2[['icustay_id','subject_id','final_bin']])['final_bin'].value_counts()"
   ]
  },
  {
   "cell_type": "code",
   "execution_count": 25,
   "metadata": {},
   "outputs": [
    {
     "data": {
      "text/plain": [
       "C_neg/A_partial    7867\n",
       "C_neg/A_full       7401\n",
       "C_pos/A_full       2438\n",
       "C_pos/A_partial    1927\n",
       "Name: final_bin, dtype: int64"
      ]
     },
     "execution_count": 25,
     "metadata": {},
     "output_type": "execute_result"
    },
    {
     "name": "stdout",
     "output_type": "stream",
     "text": [
      "time: 5.14 ms\n"
     ]
    }
   ],
   "source": [
    "final_pt_df2['final_bin'].value_counts()"
   ]
  },
  {
   "cell_type": "markdown",
   "metadata": {},
   "source": [
    "## back to the formatting and final preprocessing"
   ]
  },
  {
   "cell_type": "code",
   "execution_count": 23,
   "metadata": {},
   "outputs": [
    {
     "name": "stdout",
     "output_type": "stream",
     "text": [
      "time: 7.12 ms\n"
     ]
    }
   ],
   "source": [
    "def rename_fxn(data):\n",
    "    \"\"\"\n",
    "    renames data columns to be more readable.\n",
    "    \"\"\"\n",
    "    rename_dic={\n",
    "    \"('max', 'sodium')\": \"maxSodium\" ,\n",
    "    \"('max', 'sodium')\" : \"maxSodium\",\n",
    "    \"('min', 'sodium')\" : \"minSodium\",\n",
    "    \"('max', 'calcium')\" : \"maxCalcium\",\n",
    "    \"('min', 'calcium')\" : \"minCalcium\",\n",
    "    \"('max', 'sodium')\": \"maxSodium\",\n",
    "    \"('min', 'sodium')\": \"minSodium\",\n",
    "    \"('max', 'wbc')\": \"maxWBC\",\n",
    "    \"('min', 'wbc')\": \"minWBC\"#,\n",
    "#     \"bands\": \"ibands\",\n",
    "#     \"pco2\": \"ipco2\"\n",
    "        }\n",
    "    data=data.rename(rename_dic, axis='columns').copy()\n",
    "    return(data)"
   ]
  },
  {
   "cell_type": "code",
   "execution_count": 24,
   "metadata": {},
   "outputs": [
    {
     "name": "stdout",
     "output_type": "stream",
     "text": [
      "time: 3.52 ms\n"
     ]
    }
   ],
   "source": [
    "def last_minute_clean(data):\n",
    "    \"some last minute data cleaning steps that were missed prior to this. eventually should be transitioned to earlier in pipeline\"\n",
    "    data.loc[data['ethnicity'].isnull(), 'ethnicity']='unknown/other'\n",
    "    data.loc[data['yearsold']>90,\"yearsold\"]=90\n",
    "    return(data)"
   ]
  },
  {
   "cell_type": "code",
   "execution_count": 25,
   "metadata": {},
   "outputs": [
    {
     "name": "stdout",
     "output_type": "stream",
     "text": [
      "time: 29 ms\n"
     ]
    }
   ],
   "source": [
    "def standardize_fxn(data):\n",
    "    \"\"\"\n",
    "    function operations:\n",
    "    2) standardize last 2 columns to be standardized (weight and age)\n",
    "    \"\"\"\n",
    "    from sklearn.impute import SimpleImputer\n",
    "    \n",
    "    ### I chose to standardize the weight and age here (after the feature_aggregation)... I can't remember why though. either way, it doesn't affect anything, but is a bit clunky. \n",
    "    weight_median=np.log(data.loc[data['final_bin']==\"C_neg/A_partial\",\"weight\"]+1).median()\n",
    "    weight_quant1=np.log(data.loc[data['final_bin']==\"C_neg/A_partial\",\"weight\"]+1).quantile(0.25)#.between(train_data['col'].quantile(.25), df['col'].quantile(.75), inclusive=True)]\n",
    "    weight_quant3=np.log(data.loc[data['final_bin']==\"C_neg/A_partial\",\"weight\"]+1).quantile(0.75)\n",
    "    weight_iqr=weight_quant3-weight_quant1\n",
    "    #print(weight_median,weight_quant3,weight_quant1, weight_iqr)\n",
    "\n",
    "    age_median=np.log(data.loc[data['final_bin']==\"C_neg/A_partial\",\"yearsold\"]+1).median()\n",
    "    age_quant1=np.log(data.loc[data['final_bin']==\"C_neg/A_partial\",\"yearsold\"]+1).quantile(0.25)\n",
    "    age_quant3=np.log(data.loc[data['final_bin']==\"C_neg/A_partial\",\"yearsold\"]+1).quantile(0.75)\n",
    "    age_iqr=age_quant3-age_quant1\n",
    "\n",
    "    #converting to log scaled standardized data for age/weight\n",
    "    data['weight']=data['weight'].apply(lambda x: (np.log(x+1)-weight_median)/weight_iqr)\n",
    "    data['yearsold']=data['yearsold'].apply(lambda x: (np.log(x+1)-age_median)/age_iqr)\n",
    "    \n",
    "    return(data)"
   ]
  },
  {
   "cell_type": "code",
   "execution_count": 26,
   "metadata": {},
   "outputs": [
    {
     "name": "stdout",
     "output_type": "stream",
     "text": [
      "time: 70.2 ms\n"
     ]
    }
   ],
   "source": [
    "def remap_categorical(data, categorical):\n",
    "    \"\"\"remapps the 0 and 1 back to interpretable values in the dataframe. useful to use before onehot encoding. also useful to fill in some missing values and nan's\"\"\"   \n",
    "\n",
    "    remapping_dic={\n",
    "    'vent_recieved':{0:'None', 2:'Mech' , 1:'OxygenTherapy', np.nan:'None'},\n",
    "    'cancer_elix':{0:'no_cancer_cormorb', 1:'cancer_comorbidity'},\n",
    "    'gender':{0:'F', 1:'M', np.nan:'NA'},\n",
    "    'leukocyte':{0:'Neg/Not_tested' , 1:'pos'},\n",
    "    'nitrite':{0:'Neg/Not_tested' , 1:'pos'},\n",
    "    'rrt':{0:'not_recieved' , 1:'recieved'},\n",
    "    'phenylephrine':{0:'not_recieved' , 1:'recieved'},\n",
    "    'norepinephrine':{0:'not_recieved' , 1:'recieved'},\n",
    "    'vasopressin':{0:'not_recieved' , 1:'recieved'},\n",
    "    'dobutamine':{0:'not_recieved' , 1:'recieved'},\n",
    "    'dopamine':{0:'not_recieved' , 1:'recieved'},\n",
    "    'epinephrine':{0:'not_recieved' , 1:'recieved'},\n",
    "    'any_vasoactives':{0:'not_recieved' , 1:'recieved'},\n",
    "    'o2_flow':{0:'no_flow', 1:\"recieved_O2\"}\n",
    "    }\n",
    "    \n",
    "    for col in list(data):\n",
    "        if col in ['ethnicity', 'bands','pco2']:\n",
    "            pass\n",
    "        elif col in categorical:\n",
    "            data[col]=data[col].replace(remapping_dic[col])\n",
    "        \n",
    "    return(data)"
   ]
  },
  {
   "cell_type": "code",
   "execution_count": 27,
   "metadata": {},
   "outputs": [
    {
     "name": "stdout",
     "output_type": "stream",
     "text": [
      "time: 3.61 ms\n"
     ]
    }
   ],
   "source": [
    "def onehotencoder(data, categorical):\n",
    "    \"\"\"\n",
    "    function operations:\n",
    "    3) convert categorical columns to proper format\n",
    "    \"\"\"\n",
    "\n",
    "    data = pd.get_dummies(data, columns = categorical, drop_first=True)\n",
    "    return(data)"
   ]
  },
  {
   "cell_type": "code",
   "execution_count": 28,
   "metadata": {},
   "outputs": [
    {
     "name": "stdout",
     "output_type": "stream",
     "text": [
      "time: 17.7 ms\n"
     ]
    }
   ],
   "source": [
    "def median_imputer(data, categorical):\n",
    "    \"\"\"\n",
    "    function operations:\n",
    "    4) median impute\n",
    "    \"\"\"\n",
    "    from sklearn.impute import SimpleImputer\n",
    "    \n",
    "    #pop outcome off\n",
    "    outcome= data.pop(\"final_bin\").values\n",
    "       \n",
    "    #impute\n",
    "    imp = SimpleImputer(missing_values=np.nan, strategy='median')\n",
    "    imp.fit(data[[x for x in list(data) if x not in categorical]]) \n",
    "    data[[x for x in list(data) if x not in categorical]]= imp.transform(data[[x for x in list(data) if x not in categorical]])\n",
    "    \n",
    "    #reattach outcome\n",
    "    data['final_bin']= outcome\n",
    "    return(data)"
   ]
  },
  {
   "cell_type": "code",
   "execution_count": 29,
   "metadata": {},
   "outputs": [
    {
     "name": "stdout",
     "output_type": "stream",
     "text": [
      "time: 38.1 ms\n"
     ]
    }
   ],
   "source": [
    "def preprocessing(data, encode=True):\n",
    "    \"\"\"\n",
    "    function operations: (each one of the below steps uses one of the functions defined above.)\n",
    "    1) rename columns\n",
    "    2) some last minute cleanup\n",
    "    3) standardize last 2 columns to be standardized\n",
    "    4) median impute \n",
    "    5) remap categorical values to be interpretable and encode them for modeling\n",
    "    6)\n",
    "    \"\"\"\n",
    "    from sklearn.impute import SimpleImputer\n",
    "    \n",
    "    ###rename\n",
    "    data=rename_fxn(data)\n",
    "    \n",
    "    ###some last minute data cleaning steps that were missed prior to this. eventually should be transitioned to earlier in pipeline\n",
    "    data=last_minute_clean(data)\n",
    "    \n",
    "    ##scale & standardize the remaining 2 columns (age and weight)\n",
    "    data=standardize_fxn(data)\n",
    "    \n",
    "    ### onehot encoding categorical var\n",
    "    \n",
    "    #remapping the 0 and 1 back to categorical values for more interpreable onehotencoding column headings\n",
    "    data=remap_categorical(data, categorical)\n",
    "    \n",
    "    #impute\n",
    "    data= median_imputer(data, categorical)\n",
    "    \n",
    "    #onehotencoding\n",
    "    if encode==True:\n",
    "        data=onehotencoder(data, categorical)\n",
    "    \n",
    "    #binarizing and poping outcome for training data\n",
    "    data.loc[data['final_bin']==\"C_pos/A_full\",\"final_bin\"]=1\n",
    "    data.loc[data['final_bin']==\"C_neg/A_partial\",\"final_bin\"]=0\n",
    "    data['final_bin']=pd.to_numeric(data['final_bin'])\n",
    "    \n",
    "    ## establishing training data and labels\n",
    "    x= data.copy()\n",
    "    z_icustay_id=x.pop('icustay_id')\n",
    "    y= x.pop(\"final_bin\").values\n",
    "    \n",
    "    return(x, y, z_icustay_id)"
   ]
  },
  {
   "cell_type": "markdown",
   "metadata": {},
   "source": [
    "# todo: get some statistics on missingness right before i perform imputation."
   ]
  },
  {
   "cell_type": "code",
   "execution_count": 30,
   "metadata": {},
   "outputs": [
    {
     "name": "stdout",
     "output_type": "stream",
     "text": [
      "time: 506 ms\n"
     ]
    }
   ],
   "source": [
    "x_train, y_train, z_icustay_id = preprocessing(pd.merge(train_data, final_pt_df2[['icustay_id','final_bin']]))\n",
    "x_test, y_test, z_icustay_id_test= preprocessing(pd.merge(test_data, final_pt_df2[['icustay_id','final_bin']]))\n",
    "\n",
    "z_subject_id=pd.merge(pd.DataFrame(z_icustay_id), final_pt_df2[['icustay_id','subject_id']], how='left')['subject_id'] #7205"
   ]
  },
  {
   "cell_type": "code",
   "execution_count": 117,
   "metadata": {},
   "outputs": [
    {
     "data": {
      "text/plain": [
       "array([0, 0, 1, ..., 0, 0, 0])"
      ]
     },
     "execution_count": 117,
     "metadata": {},
     "output_type": "execute_result"
    },
    {
     "name": "stdout",
     "output_type": "stream",
     "text": [
      "time: 2.53 ms\n"
     ]
    }
   ],
   "source": [
    "y.reshape(1,-1).ravel()"
   ]
  },
  {
   "cell_type": "code",
   "execution_count": 31,
   "metadata": {},
   "outputs": [
    {
     "name": "stdout",
     "output_type": "stream",
     "text": [
      "time: 369 ms\n"
     ]
    }
   ],
   "source": [
    "x_train2, y_train2, z_icustay_id2 = preprocessing(pd.merge(train_data, final_pt_df2[['icustay_id','final_bin']]),encode=False)\n",
    "x_test2, y_test2, z_icustay_id_test2= preprocessing(pd.merge(test_data, final_pt_df2[['icustay_id','final_bin']]),encode=False)\n"
   ]
  },
  {
   "cell_type": "code",
   "execution_count": 32,
   "metadata": {},
   "outputs": [
    {
     "name": "stdout",
     "output_type": "stream",
     "text": [
      "###ethnicity###\n",
      "white/nonhispanic    7472\n",
      "black                1130\n",
      "unknown/other         995\n",
      "hispanic              433\n",
      "asian                 275\n",
      "Name: ethnicity, dtype: int64 \n",
      "\n",
      "###bands###\n",
      "absent    8952\n",
      "<10        856\n",
      ">10        497\n",
      "Name: bands, dtype: int64 \n",
      "\n",
      "###pco2###\n",
      "absent    6798\n",
      "<50       2499\n",
      ">50       1008\n",
      "Name: pco2, dtype: int64 \n",
      "\n",
      "###any_vasoactives###\n",
      "not_recieved    7362\n",
      "recieved        2943\n",
      "Name: any_vasoactives, dtype: int64 \n",
      "\n",
      "###leukocyte###\n",
      "Neg/Not_tested    8959\n",
      "pos               1346\n",
      "Name: leukocyte, dtype: int64 \n",
      "\n",
      "###nitrite###\n",
      "Neg/Not_tested    10055\n",
      "pos                 250\n",
      "Name: nitrite, dtype: int64 \n",
      "\n",
      "###vent_recieved###\n",
      "Oxygen    4912\n",
      "Mech      4664\n",
      "None       729\n",
      "Name: vent_recieved, dtype: int64 \n",
      "\n",
      "###dobutamine###\n",
      "not_recieved    10205\n",
      "recieved          100\n",
      "Name: dobutamine, dtype: int64 \n",
      "\n",
      "###gender###\n",
      "M    5706\n",
      "F    4599\n",
      "Name: gender, dtype: int64 \n",
      "\n",
      "###dopamine###\n",
      "not_recieved    9830\n",
      "recieved         475\n",
      "Name: dopamine, dtype: int64 \n",
      "\n",
      "###epinephrine###\n",
      "not_recieved    10030\n",
      "recieved          275\n",
      "Name: epinephrine, dtype: int64 \n",
      "\n",
      "###norepinephrine###\n",
      "not_recieved    8775\n",
      "recieved        1530\n",
      "Name: norepinephrine, dtype: int64 \n",
      "\n",
      "###phenylephrine###\n",
      "not_recieved    8728\n",
      "recieved        1577\n",
      "Name: phenylephrine, dtype: int64 \n",
      "\n",
      "###rrt###\n",
      "not_recieved    9457\n",
      "recieved         848\n",
      "Name: rrt, dtype: int64 \n",
      "\n",
      "###vasopressin###\n",
      "not_recieved    10098\n",
      "recieved          207\n",
      "Name: vasopressin, dtype: int64 \n",
      "\n",
      "###cancer_elix###\n",
      "no_cancer_cormorb     9113\n",
      "cancer_comorbidity    1192\n",
      "Name: cancer_elix, dtype: int64 \n",
      "\n",
      "time: 64.1 ms\n"
     ]
    }
   ],
   "source": [
    "###checking distribution of all categorical variables\n",
    "full_set=pd.concat([x_train2,x_test2])\n",
    "for element in categorical:\n",
    "    print(\"###{}###\".format(element))\n",
    "    print(full_set[element].value_counts(), '\\n')"
   ]
  },
  {
   "cell_type": "code",
   "execution_count": 33,
   "metadata": {},
   "outputs": [
    {
     "data": {
      "text/plain": [
       "10305"
      ]
     },
     "execution_count": 33,
     "metadata": {},
     "output_type": "execute_result"
    },
    {
     "name": "stdout",
     "output_type": "stream",
     "text": [
      "time: 2.81 ms\n"
     ]
    }
   ],
   "source": [
    "len(full_set)"
   ]
  },
  {
   "cell_type": "markdown",
   "metadata": {},
   "source": [
    "#### quick qc to ensure the imputation and standardization of age/weight worked"
   ]
  },
  {
   "cell_type": "code",
   "execution_count": 34,
   "metadata": {},
   "outputs": [
    {
     "data": {
      "text/html": [
       "<div>\n",
       "<style scoped>\n",
       "    .dataframe tbody tr th:only-of-type {\n",
       "        vertical-align: middle;\n",
       "    }\n",
       "\n",
       "    .dataframe tbody tr th {\n",
       "        vertical-align: top;\n",
       "    }\n",
       "\n",
       "    .dataframe thead th {\n",
       "        text-align: right;\n",
       "    }\n",
       "</style>\n",
       "<table border=\"1\" class=\"dataframe\">\n",
       "  <thead>\n",
       "    <tr style=\"text-align: right;\">\n",
       "      <th></th>\n",
       "      <th>chloride</th>\n",
       "      <th>weight</th>\n",
       "      <th>yearsold</th>\n",
       "    </tr>\n",
       "  </thead>\n",
       "  <tbody>\n",
       "    <tr>\n",
       "      <th>0</th>\n",
       "      <td>NaN</td>\n",
       "      <td>51.2</td>\n",
       "      <td>32.988959</td>\n",
       "    </tr>\n",
       "    <tr>\n",
       "      <th>1</th>\n",
       "      <td>0.037089</td>\n",
       "      <td>62.0</td>\n",
       "      <td>84.728186</td>\n",
       "    </tr>\n",
       "    <tr>\n",
       "      <th>2</th>\n",
       "      <td>0.008507</td>\n",
       "      <td>74.0</td>\n",
       "      <td>67.145099</td>\n",
       "    </tr>\n",
       "    <tr>\n",
       "      <th>3</th>\n",
       "      <td>0.020977</td>\n",
       "      <td>79.0</td>\n",
       "      <td>74.934136</td>\n",
       "    </tr>\n",
       "    <tr>\n",
       "      <th>4</th>\n",
       "      <td>-0.021991</td>\n",
       "      <td>56.0</td>\n",
       "      <td>31.593200</td>\n",
       "    </tr>\n",
       "  </tbody>\n",
       "</table>\n",
       "</div>"
      ],
      "text/plain": [
       "   chloride  weight   yearsold\n",
       "0       NaN    51.2  32.988959\n",
       "1  0.037089    62.0  84.728186\n",
       "2  0.008507    74.0  67.145099\n",
       "3  0.020977    79.0  74.934136\n",
       "4 -0.021991    56.0  31.593200"
      ]
     },
     "execution_count": 34,
     "metadata": {},
     "output_type": "execute_result"
    },
    {
     "name": "stdout",
     "output_type": "stream",
     "text": [
      "time: 12.4 ms\n"
     ]
    }
   ],
   "source": [
    "train_data[['chloride','weight','yearsold']].head()"
   ]
  },
  {
   "cell_type": "code",
   "execution_count": 35,
   "metadata": {},
   "outputs": [
    {
     "data": {
      "text/html": [
       "<div>\n",
       "<style scoped>\n",
       "    .dataframe tbody tr th:only-of-type {\n",
       "        vertical-align: middle;\n",
       "    }\n",
       "\n",
       "    .dataframe tbody tr th {\n",
       "        vertical-align: top;\n",
       "    }\n",
       "\n",
       "    .dataframe thead th {\n",
       "        text-align: right;\n",
       "    }\n",
       "</style>\n",
       "<table border=\"1\" class=\"dataframe\">\n",
       "  <thead>\n",
       "    <tr style=\"text-align: right;\">\n",
       "      <th></th>\n",
       "      <th>chloride</th>\n",
       "      <th>weight</th>\n",
       "      <th>yearsold</th>\n",
       "    </tr>\n",
       "  </thead>\n",
       "  <tbody>\n",
       "    <tr>\n",
       "      <th>0</th>\n",
       "      <td>0.008507</td>\n",
       "      <td>-1.184856</td>\n",
       "      <td>-1.725281</td>\n",
       "    </tr>\n",
       "    <tr>\n",
       "      <th>1</th>\n",
       "      <td>0.037089</td>\n",
       "      <td>-0.630958</td>\n",
       "      <td>0.624219</td>\n",
       "    </tr>\n",
       "    <tr>\n",
       "      <th>2</th>\n",
       "      <td>0.008507</td>\n",
       "      <td>-0.117409</td>\n",
       "      <td>0.041273</td>\n",
       "    </tr>\n",
       "    <tr>\n",
       "      <th>3</th>\n",
       "      <td>0.020977</td>\n",
       "      <td>0.072685</td>\n",
       "      <td>0.316127</td>\n",
       "    </tr>\n",
       "    <tr>\n",
       "      <th>4</th>\n",
       "      <td>-0.021991</td>\n",
       "      <td>-0.925748</td>\n",
       "      <td>-1.831772</td>\n",
       "    </tr>\n",
       "  </tbody>\n",
       "</table>\n",
       "</div>"
      ],
      "text/plain": [
       "   chloride    weight  yearsold\n",
       "0  0.008507 -1.184856 -1.725281\n",
       "1  0.037089 -0.630958  0.624219\n",
       "2  0.008507 -0.117409  0.041273\n",
       "3  0.020977  0.072685  0.316127\n",
       "4 -0.021991 -0.925748 -1.831772"
      ]
     },
     "execution_count": 35,
     "metadata": {},
     "output_type": "execute_result"
    },
    {
     "name": "stdout",
     "output_type": "stream",
     "text": [
      "time: 9.39 ms\n"
     ]
    }
   ],
   "source": [
    "x_train[['chloride','weight','yearsold']].head()"
   ]
  },
  {
   "cell_type": "code",
   "execution_count": 36,
   "metadata": {},
   "outputs": [
    {
     "data": {
      "text/plain": [
       "53"
      ]
     },
     "execution_count": 36,
     "metadata": {},
     "output_type": "execute_result"
    },
    {
     "name": "stdout",
     "output_type": "stream",
     "text": [
      "time: 2.69 ms\n"
     ]
    }
   ],
   "source": [
    "len(list(x_train))"
   ]
  },
  {
   "cell_type": "markdown",
   "metadata": {},
   "source": [
    "### getting table for paper"
   ]
  },
  {
   "cell_type": "code",
   "execution_count": 37,
   "metadata": {},
   "outputs": [
    {
     "data": {
      "text/plain": [
       "['bilirubin',\n",
       " 'bun',\n",
       " 'chloride',\n",
       " 'creatinine',\n",
       " 'glucose',\n",
       " 'heartrate',\n",
       " 'inr',\n",
       " 'lactate',\n",
       " 'potassium',\n",
       " 'ptt',\n",
       " 'resprate',\n",
       " 'sum_elix',\n",
       " 'temperature',\n",
       " 'bicarbonate',\n",
       " 'diasbp',\n",
       " 'hemoglobin',\n",
       " 'meanartpress',\n",
       " 'mingcs',\n",
       " 'pao2fio2ratio',\n",
       " 'ph',\n",
       " 'platelet',\n",
       " 'spo2',\n",
       " 'sysbp',\n",
       " 'maxCalcium',\n",
       " 'maxSodium',\n",
       " 'maxWBC',\n",
       " 'minCalcium',\n",
       " 'minSodium',\n",
       " 'minWBC',\n",
       " 'weight',\n",
       " 'yearsold',\n",
       " 'ethnicity_black',\n",
       " 'ethnicity_hispanic',\n",
       " 'ethnicity_unknown/other',\n",
       " 'ethnicity_white/nonhispanic',\n",
       " 'bands_>10',\n",
       " 'bands_absent',\n",
       " 'pco2_>50',\n",
       " 'pco2_absent',\n",
       " 'any_vasoactives_recieved',\n",
       " 'leukocyte_pos',\n",
       " 'nitrite_pos',\n",
       " 'vent_recieved_None',\n",
       " 'vent_recieved_Oxygen',\n",
       " 'dobutamine_recieved',\n",
       " 'gender_M',\n",
       " 'dopamine_recieved',\n",
       " 'epinephrine_recieved',\n",
       " 'norepinephrine_recieved',\n",
       " 'phenylephrine_recieved',\n",
       " 'rrt_recieved',\n",
       " 'vasopressin_recieved',\n",
       " 'cancer_elix_no_cancer_cormorb']"
      ]
     },
     "execution_count": 37,
     "metadata": {},
     "output_type": "execute_result"
    },
    {
     "name": "stdout",
     "output_type": "stream",
     "text": [
      "time: 3.72 ms\n"
     ]
    }
   ],
   "source": [
    "list(x_train)"
   ]
  },
  {
   "cell_type": "code",
   "execution_count": 38,
   "metadata": {},
   "outputs": [
    {
     "data": {
      "text/plain": [
       "C_neg/A_partial    5512\n",
       "C_pos/A_full       1693\n",
       "Name: final_bin, dtype: int64"
      ]
     },
     "execution_count": 38,
     "metadata": {},
     "output_type": "execute_result"
    },
    {
     "name": "stdout",
     "output_type": "stream",
     "text": [
      "time: 28.9 ms\n"
     ]
    }
   ],
   "source": [
    "pd.merge(train_data['icustay_id'], final_pt_df2[['icustay_id','final_bin']])['final_bin'].value_counts()"
   ]
  },
  {
   "cell_type": "code",
   "execution_count": 39,
   "metadata": {},
   "outputs": [
    {
     "data": {
      "text/plain": [
       "C_neg/A_partial    2355\n",
       "C_pos/A_full        745\n",
       "Name: final_bin, dtype: int64"
      ]
     },
     "execution_count": 39,
     "metadata": {},
     "output_type": "execute_result"
    },
    {
     "name": "stdout",
     "output_type": "stream",
     "text": [
      "time: 22 ms\n"
     ]
    }
   ],
   "source": [
    "pd.merge(test_data['icustay_id'], final_pt_df2[['icustay_id','final_bin']])['final_bin'].value_counts()"
   ]
  },
  {
   "cell_type": "markdown",
   "metadata": {},
   "source": [
    "## looking at correlation of all variables"
   ]
  },
  {
   "cell_type": "code",
   "execution_count": 40,
   "metadata": {},
   "outputs": [
    {
     "data": {
      "image/png": "[encoded data removed]",
      "text/plain": [
       "<Figure size 1800x1440 with 2 Axes>"
      ]
     },
     "metadata": {
      "needs_background": "light"
     },
     "output_type": "display_data"
    },
    {
     "name": "stdout",
     "output_type": "stream",
     "text": [
      "time: 2.14 s\n"
     ]
    }
   ],
   "source": [
    "corr = x_train.corr().abs()\n",
    "\n",
    "plt.figure(figsize=(25, 20))\n",
    "ax = sns.heatmap(\n",
    "    corr, \n",
    "    vmin=-1, vmax=1, center=0,\n",
    "    cmap=sns.diverging_palette(20, 220, n=200),\n",
    "    square=True\n",
    ")\n",
    "ax.set_xticklabels(\n",
    "    ax.get_xticklabels(),\n",
    "    rotation=45,\n",
    "    horizontalalignment='right'\n",
    ");"
   ]
  },
  {
   "cell_type": "code",
   "execution_count": 41,
   "metadata": {},
   "outputs": [
    {
     "data": {
      "text/html": [
       "<div>\n",
       "<style scoped>\n",
       "    .dataframe tbody tr th:only-of-type {\n",
       "        vertical-align: middle;\n",
       "    }\n",
       "\n",
       "    .dataframe tbody tr th {\n",
       "        vertical-align: top;\n",
       "    }\n",
       "\n",
       "    .dataframe thead th {\n",
       "        text-align: right;\n",
       "    }\n",
       "</style>\n",
       "<table border=\"1\" class=\"dataframe\">\n",
       "  <thead>\n",
       "    <tr style=\"text-align: right;\">\n",
       "      <th></th>\n",
       "      <th>corx</th>\n",
       "      <th>cory</th>\n",
       "      <th>corr</th>\n",
       "    </tr>\n",
       "  </thead>\n",
       "  <tbody>\n",
       "    <tr>\n",
       "      <th>0</th>\n",
       "      <td>maxWBC</td>\n",
       "      <td>minWBC</td>\n",
       "      <td>0.864341</td>\n",
       "    </tr>\n",
       "    <tr>\n",
       "      <th>1</th>\n",
       "      <td>bun</td>\n",
       "      <td>creatinine</td>\n",
       "      <td>0.706361</td>\n",
       "    </tr>\n",
       "  </tbody>\n",
       "</table>\n",
       "</div>"
      ],
      "text/plain": [
       "     corx        cory      corr\n",
       "0  maxWBC      minWBC  0.864341\n",
       "1     bun  creatinine  0.706361"
      ]
     },
     "execution_count": 41,
     "metadata": {},
     "output_type": "execute_result"
    },
    {
     "name": "stdout",
     "output_type": "stream",
     "text": [
      "time: 18.7 ms\n"
     ]
    }
   ],
   "source": [
    "sol = (corr.where(np.triu(np.ones(corr.shape), k=1).astype(np.bool)).stack().sort_values(ascending=False))\n",
    "cor_df=pd.DataFrame(sol)#.sort_values(kind=\"quicksort\") #[-10:0])\n",
    "cor_df=cor_df.reset_index()\n",
    "cor_df=cor_df.rename(columns={'level_0': 'corx', 'level_1': 'cory', 0:'corr'})\n",
    "cor_df2=cor_df[(cor_df['corx']!=cor_df['cory']) & (cor_df['corr']>0.7)].sort_values('corr', ascending=False)\n",
    "cor_df2.head()"
   ]
  },
  {
   "cell_type": "markdown",
   "metadata": {},
   "source": [
    "### DROPING one of the 2 columns with correlation >0.7  (depreciated)"
   ]
  },
  {
   "cell_type": "code",
   "execution_count": 42,
   "metadata": {},
   "outputs": [
    {
     "name": "stdout",
     "output_type": "stream",
     "text": [
      "time: 547 µs\n"
     ]
    }
   ],
   "source": [
    "# x_train.drop(columns=list(cor_df2['corx']), inplace=True, errors='raise')\n",
    "# x_test.drop(columns=list(cor_df2['corx']), inplace=True, errors='raise')"
   ]
  },
  {
   "cell_type": "markdown",
   "metadata": {},
   "source": [
    "### formatting x and y for modleing"
   ]
  },
  {
   "cell_type": "code",
   "execution_count": 107,
   "metadata": {},
   "outputs": [
    {
     "name": "stdout",
     "output_type": "stream",
     "text": [
      "time: 7.1 ms\n"
     ]
    }
   ],
   "source": [
    "x=np.array(x_train.copy())\n",
    "y=y_train.copy() #copy of y_train\n",
    "y=y.astype('int')\n",
    "#time_interval=4"
   ]
  },
  {
   "cell_type": "code",
   "execution_count": 44,
   "metadata": {},
   "outputs": [
    {
     "name": "stdout",
     "output_type": "stream",
     "text": [
      "7205 3100\n",
      "time: 1.19 ms\n"
     ]
    }
   ],
   "source": [
    "print(len(x_train),len(x_test))"
   ]
  },
  {
   "cell_type": "code",
   "execution_count": 109,
   "metadata": {},
   "outputs": [
    {
     "data": {
      "text/plain": [
       "array([0, 0, 1, ..., 0, 0, 0])"
      ]
     },
     "execution_count": 109,
     "metadata": {},
     "output_type": "execute_result"
    },
    {
     "name": "stdout",
     "output_type": "stream",
     "text": [
      "time: 2.15 ms\n"
     ]
    }
   ],
   "source": [
    "y_train"
   ]
  },
  {
   "cell_type": "code",
   "execution_count": 45,
   "metadata": {},
   "outputs": [
    {
     "data": {
      "text/plain": [
       "53"
      ]
     },
     "execution_count": 45,
     "metadata": {},
     "output_type": "execute_result"
    },
    {
     "name": "stdout",
     "output_type": "stream",
     "text": [
      "time: 2.62 ms\n"
     ]
    }
   ],
   "source": [
    "len(list(x_train))"
   ]
  },
  {
   "cell_type": "code",
   "execution_count": 46,
   "metadata": {},
   "outputs": [
    {
     "name": "stdout",
     "output_type": "stream",
     "text": [
      "time: 29.9 ms\n"
     ]
    }
   ],
   "source": [
    "def save_df(df, df_name='default', rel_path='/data/final/'):\n",
    "    \"\"\"\n",
    "    simple function for saving result table. uses the date and supplied df name and saves to the savepath specified above.\n",
    "    \"\"\"\n",
    "    global folder\n",
    "    \n",
    "    save_path= str(repository_path)+rel_path\n",
    "    \n",
    "    address=save_path+'{}_{}/'.format(date,folder)\n",
    "    if not os.path.exists(address):\n",
    "        print(address)\n",
    "        os.makedirs(address)\n",
    "    else:\n",
    "        print(address)\n",
    "        \n",
    "    if address.endswith('/')==False:\n",
    "        address= address+'/'\n",
    "        \n",
    "    if df_name == 'default':\n",
    "        df_name =[x for x in globals() if globals()[x] is df][0]\n",
    "        \n",
    "    pd.DataFrame(df).to_csv(Path(address+'{}_{}.csv'.format(date, df_name)))\n"
   ]
  },
  {
   "cell_type": "code",
   "execution_count": 47,
   "metadata": {},
   "outputs": [
    {
     "name": "stdout",
     "output_type": "stream",
     "text": [
      "/Users/geickelb1/Documents/GitHub/mimiciii-antibiotics-opensource/data/final/16122019_48_hr_window/\n",
      "/Users/geickelb1/Documents/GitHub/mimiciii-antibiotics-opensource/data/final/16122019_48_hr_window/\n",
      "/Users/geickelb1/Documents/GitHub/mimiciii-antibiotics-opensource/data/final/16122019_48_hr_window/\n",
      "/Users/geickelb1/Documents/GitHub/mimiciii-antibiotics-opensource/data/final/16122019_48_hr_window/\n",
      "/Users/geickelb1/Documents/GitHub/mimiciii-antibiotics-opensource/data/final/16122019_48_hr_window/\n",
      "/Users/geickelb1/Documents/GitHub/mimiciii-antibiotics-opensource/data/final/16122019_48_hr_window/\n",
      "time: 969 ms\n"
     ]
    }
   ],
   "source": [
    "if save_boolean==True:\n",
    "    save_df(x_train, 'x_train_final', rel_path='/data/final/')\n",
    "    save_df(x_test, 'x_test_final', rel_path='/data/final/')\n",
    "    save_df(y_train, 'y_train_final', rel_path='/data/final/')\n",
    "    save_df(y_test, 'y_test_final', rel_path='/data/final/')\n",
    "    save_df(z_icustay_id, 'icustay_train', rel_path='/data/final/') #just added, need to rerun all models. 12-19-19\n",
    "    save_df(z_icustay_id_test, 'icustay_test', rel_path='/data/final/')\n"
   ]
  },
  {
   "cell_type": "markdown",
   "metadata": {},
   "source": [
    "# Modelbuilding\n",
    "## test entire trainset and predict trainset.\n",
    "* step1) hypertune and evaluate models on 10fold cv.  \n",
    "* step2) test entire train set and predict testset.\n",
    "* step3) generate figures"
   ]
  },
  {
   "cell_type": "code",
   "execution_count": 48,
   "metadata": {},
   "outputs": [
    {
     "name": "stdout",
     "output_type": "stream",
     "text": [
      "time: 2.06 ms\n"
     ]
    }
   ],
   "source": [
    "from parameters import nfolds, scoring, n_iter, gridsearch\n",
    "##defaults\n",
    "# nfolds=10\n",
    "# scoring='roc_auc'\n",
    "# n_iter=20 #for gridsearch\n",
    "# gridsearch=False #gridsearch=False means it does triaged hyperparameter combinations based on some algorithm. True= tests all \n"
   ]
  },
  {
   "cell_type": "code",
   "execution_count": 49,
   "metadata": {},
   "outputs": [
    {
     "name": "stdout",
     "output_type": "stream",
     "text": [
      "time: 31.8 ms\n"
     ]
    }
   ],
   "source": [
    "def evaluate(model, x, y):\n",
    "    \"simple classification evaluation metrics and output used in my hypertuning functions\"\n",
    "    from sklearn.metrics import log_loss\n",
    "    \n",
    "    y_hat = model.predict(x)\n",
    "    y_hat_proba = model.predict_proba(x)[:, 1] \n",
    "    errors = abs(y_hat - y)\n",
    "    mape = 100 * np.mean(errors / y)\n",
    "    accuracy = 100 - mape\n",
    "    auc=roc_auc_score(y, y_hat_proba)\n",
    "    loss= log_loss(y, y_hat_proba)\n",
    "        \n",
    "    print ('the AUC is: {:0.3f}'.format(auc))\n",
    "    print ('the logloss is: {:0.3f}'.format(loss))\n",
    "    print(confusion_matrix(y, y_hat))\n",
    "    print(classification_report(y,y_hat, digits=3))\n",
    "    \n",
    "    if scoring=='neg_log_loss':\n",
    "        return_value=loss\n",
    "    elif scoring=='roc_auc':\n",
    "        return_value=auc\n",
    "    else:\n",
    "        raise ValueError\n",
    "    \n",
    "    return (return_value)\n",
    "\n"
   ]
  },
  {
   "cell_type": "code",
   "execution_count": 50,
   "metadata": {},
   "outputs": [
    {
     "name": "stdout",
     "output_type": "stream",
     "text": [
      "time: 120 ms\n"
     ]
    }
   ],
   "source": [
    "def hypertuning_fxn(X, y, nfolds, model , param_grid, scoring=scoring, gridsearch=True, n_iter=20, verbose=False): \n",
    "    from sklearn.model_selection import GroupKFold\n",
    "\n",
    "    np.random.seed(12345)\n",
    "    if gridsearch==True:\n",
    "        grid_search = GridSearchCV(estimator= model,\n",
    "                                         param_grid=param_grid,\n",
    "                                         cv=GroupKFold(nfolds),\n",
    "                                         scoring=scoring,\n",
    "                                         return_train_score=True,\n",
    "                                         n_jobs = -1)\n",
    "    else:\n",
    "        grid_search = RandomizedSearchCV(estimator= model,\n",
    "                                         param_distributions= param_grid,\n",
    "                                         n_iter=n_iter,\n",
    "                                         cv=GroupKFold(nfolds),\n",
    "                                         scoring=scoring,\n",
    "                                         return_train_score=True,\n",
    "                                         random_state=12345,\n",
    "                                         n_jobs = -1)\n",
    "        \n",
    "    grid_search.fit(X, y, groups=z_subject_id)    \n",
    "    print(\" scorer function: {}\".format(scoring))\n",
    "    print(\" ##### CV performance: mean & sd scores #####\")\n",
    "\n",
    "    means = grid_search.cv_results_['mean_test_score']\n",
    "    stds = grid_search.cv_results_['std_test_score']\n",
    "    print('best cv score: {:0.3f}'.format(grid_search.best_score_))\n",
    "    print('best cv params: ', grid_search.best_params_)\n",
    "\n",
    "    worst_index=np.argmin(grid_search.cv_results_['mean_test_score'])\n",
    "    print('worst cv score: {:0.3f}'.format(grid_search.cv_results_['mean_test_score'][worst_index]))\n",
    "    print('worst cv params: ', grid_search.cv_results_['params'][worst_index])\n",
    "    ##\n",
    "    if verbose==True:\n",
    "        for mean, std, params in zip(means, stds, grid_search.cv_results_['params']):\n",
    "            print(\"%0.3f (+/-%0.03f) for %r\"% (mean, std * 2, params))\n",
    "\n",
    "    print('##### training set performance #####\\n')   \n",
    "    print(' best hypertuned model training set performance:')\n",
    "    best_random = grid_search.best_estimator_\n",
    "    best_random_auc = evaluate(best_random, x, y)\n",
    "    \n",
    "    print(' worst hypertuned model training set performance:')\n",
    "    worst_params= grid_search.cv_results_['params'][worst_index]\n",
    "    worst_random=model.set_params(**worst_params)\n",
    "    worst_random.fit(x,y)\n",
    "    worst_random_auc = evaluate(worst_random, x, y)      \n",
    "          \n",
    "    print('relative scorer change of {:0.2f}%. between worst and best hyperparams on TRAINING set (may be overfit)'.format( 100 * (best_random_auc - worst_random_auc) / worst_random_auc))\n",
    "    \n",
    "    return(grid_search)"
   ]
  },
  {
   "cell_type": "code",
   "execution_count": 51,
   "metadata": {},
   "outputs": [
    {
     "name": "stdout",
     "output_type": "stream",
     "text": [
      "time: 145 ms\n"
     ]
    }
   ],
   "source": [
    "def hypertuned_cv_fxn(x, y, model_in, nfolds):\n",
    "    \"\"\"\n",
    "    the goal of this function is to take the best hypertuned model and \n",
    "    generate average and std for F-1, precision, recall, npv, and AUC across each fold.\n",
    "    Ideally i could have generated this above in my hypertuning cv function,\n",
    "    but it actually took less computational time to just rerun cv on the best performing evaluator and collect all of the averaged performance metrics\n",
    "    \"\"\"\n",
    "    \n",
    "    from sklearn.model_selection import GroupKFold\n",
    "    import sklearn.metrics as metrics\n",
    "    from sklearn.metrics import precision_score, roc_auc_score, f1_score, recall_score\n",
    "    from sklearn.base import clone\n",
    "    \n",
    "    pos_label=1\n",
    "    model= clone(model_in, safe=True)\n",
    "    np.random.seed(12345)\n",
    "    group_kfold = GroupKFold(n_splits=nfolds)\n",
    "    group_kfold.get_n_splits(x, y, z_subject_id)\n",
    "\n",
    "    f1_y_cv=[]\n",
    "    auc_y_cv=[]\n",
    "    prec_y_cv=[]\n",
    "    recall_y_cv=[]\n",
    "    npv_y_cv=[]\n",
    "\n",
    "    for train_index, test_index in group_kfold.split(x, y, z_subject_id):\n",
    "        x_train_cv, x_test_cv = x[train_index], x[test_index]\n",
    "        y_train_cv, y_test_cv = y[train_index], y[test_index]\n",
    "        model.fit(x_train_cv, y_train_cv)\n",
    "        \n",
    "        y_proba = model.predict_proba(x_test_cv)[:,1]\n",
    "        y_pred = model.predict(x_test_cv)\n",
    "\n",
    "        fpr, tpr, thresholds = metrics.roc_curve(y_test_cv, y_proba, pos_label=pos_label)    \n",
    "        #gathering the optimal youden_index and df of tpr/fpr for auc and index of that optimal youden. idx is needed in the roc\n",
    "        youden_threshold, roc_df, idx= optimal_youden_index(fpr, tpr, thresholds,tp90=True)\n",
    "        y_pred_youden = [1 if y >= youden_threshold else 0 for y in y_proba]\n",
    "            \n",
    "        npv_y=confusion_matrix(y_test_cv, y_pred_youden)[0,0]/sum(np.array(y_pred_youden)==0)\n",
    "        npv_y_cv.append(npv_y)\n",
    "\n",
    "        prec_y= precision_score(y_true=y_test_cv, y_pred= y_pred_youden, pos_label=pos_label)\n",
    "        prec_y_cv.append(prec_y)\n",
    "\n",
    "        recall_y= recall_score(y_true=y_test_cv, y_pred= y_pred_youden, pos_label=pos_label)\n",
    "        recall_y_cv.append(recall_y)\n",
    "\n",
    "        f1_y= f1_score(y_true=y_test_cv, y_pred= y_pred_youden, pos_label=pos_label)\n",
    "        f1_y_cv.append(f1_y)\n",
    "\n",
    "        ###need to debug this.###\n",
    "        auc_y=roc_auc_score(y_true=y_test_cv, y_score= y_proba)\n",
    "        auc_y_cv.append(auc_y)\n",
    "        \n",
    "        youden_dic_cv= {'model':type(model).__name__, \n",
    "                'auc':np.mean(auc_y_cv),\n",
    "                'auc_sd':np.std(auc_y_cv),\n",
    "                'precision':np.mean(prec_y_cv),\n",
    "                'precision_sd':np.std(prec_y_cv),\n",
    "                'recall':np.mean(recall_y_cv),\n",
    "                'recall_sd':np.std(recall_y_cv),\n",
    "                'f1':np.mean(f1_y_cv),\n",
    "                'f1_sd':np.std(f1_y_cv),\n",
    "                'npv':np.mean(npv_y_cv),\n",
    "                'npv_sd':np.std(npv_y_cv)}\n",
    "        \n",
    "    return(youden_dic_cv)"
   ]
  },
  {
   "cell_type": "markdown",
   "metadata": {},
   "source": [
    "## youden index and plotting functions"
   ]
  },
  {
   "cell_type": "code",
   "execution_count": 52,
   "metadata": {},
   "outputs": [
    {
     "name": "stdout",
     "output_type": "stream",
     "text": [
      "time: 144 ms\n"
     ]
    }
   ],
   "source": [
    "def saveplot(plt, figure_name):\n",
    "    \"\"\"\n",
    "    simple function for saving plots\n",
    "    \"\"\"\n",
    "    address = str(repository_path)+'/figures/{}_{}'.format(date,folder)\n",
    "    print(address)\n",
    "\n",
    "    if not os.path.exists(address):\n",
    "        os.makedirs(address)\n",
    "    plt.savefig(address+\"/{}.png\".format(figure_name),bbox_inches='tight')\n",
    "\n",
    "def optimal_youden_index(fpr, tpr, thresholds, tp90=True):\n",
    "    \"\"\"\n",
    "    inputs fpr, tpr, thresholds from metrics.roc(),\n",
    "    outputs the clasification threshold, roc dataframe, and the index of roc dataframe for optimal youden index\n",
    "    \"\"\"\n",
    "    #making dataframe out of the thresholds\n",
    "    roc_df= pd.DataFrame({\"thresholds\": thresholds,\"fpr\":fpr, \"tpr\": tpr})\n",
    "    roc_df.iloc[0,0] =1\n",
    "    roc_df['yuden']= roc_df['tpr']-roc_df['fpr']\n",
    "    \n",
    "    if tp90==True:\n",
    "        idx= roc_df[roc_df['tpr']>=0.9]['yuden'].idxmax() #changed this so now finds optimial yuden threshold but tp>=90%\n",
    "    else:\n",
    "        idx=roc_df['yuden'].idxmax() #MAX INDEX\n",
    "    \n",
    "    youden_threshold=roc_df.iloc[idx,0] #threshold for max youden\n",
    "    return(youden_threshold, roc_df, idx)\n",
    "    \n",
    "def plot_roc(fpr, tpr, roc_auc, roc_df, idx, save=save_boolean,model_name=None, folder_name=None, file_name=None):\n",
    "    plt.title('ROC with optimal Youden Index')\n",
    "    plt.plot(fpr, tpr, 'b', label = 'AUC = %0.2f' % roc_auc)\n",
    "    plt.legend(loc = 'lower right')\n",
    "    plt.plot([0, 1], [0, 1],'r--')\n",
    "    \n",
    "    #finding the point on the line given threshold 0.5 (finding closest row in roc_df)\n",
    "    og_idx=roc_df.iloc[(roc_df['thresholds']-0.5).abs().argsort()[:1]].index[0]\n",
    "    plt.plot(roc_df.iloc[og_idx,1], roc_df.iloc[og_idx,2],marker='o', markersize=5, color=\"g\")\n",
    "    plt.annotate(s=\"P(>=0.5)\",xy=(roc_df.iloc[og_idx,1]+0.02, roc_df.iloc[og_idx,2]-0.04),color='g') #textcoords\n",
    "    \n",
    "    plt.plot(roc_df.iloc[idx,1], roc_df.iloc[idx,2],marker='o', markersize=5, color=\"r\") ##\n",
    "    plt.annotate(s=\"TPR>=0.9\",xy=(roc_df.iloc[idx,1]+0.02, roc_df.iloc[idx,2]-0.04),color='r' ) #textcoords\n",
    "    plt.xlim([0, 1])\n",
    "    plt.ylim([0, 1])\n",
    "    plt.ylabel('True Positive Rate')\n",
    "    plt.xlabel('False Positive Rate')\n",
    "    plt.grid(color='grey', linestyle='-', linewidth=1, alpha=0.2)\n",
    "    \n",
    "    if save==True:\n",
    "        saveplot(plt, figure_name=\"{}_roc\".format(model_name))\n",
    "    else: pass\n",
    "    \n",
    "    plt.show()\n",
    "    "
   ]
  },
  {
   "cell_type": "code",
   "execution_count": 53,
   "metadata": {},
   "outputs": [
    {
     "name": "stdout",
     "output_type": "stream",
     "text": [
      "time: 239 ms\n"
     ]
    }
   ],
   "source": [
    "def classifier_eval(model, x=x, y=y, proba_input=False,pos_label=1, print_default=True,model_name=None, folder_name=None, save=save_boolean):\n",
    "    import sklearn.metrics as metrics\n",
    "    from sklearn.metrics import precision_score, roc_auc_score, f1_score, recall_score\n",
    "    \"\"\"\n",
    "    classification evaluation function. able to print/save the following:\n",
    "    \n",
    "    print/save the following:\n",
    "        ROC curve marked with threshold for optimal youden (maximizing tpr+fpr with constraint that tpr>0.9)\n",
    "\n",
    "        using 0.5 threshold:\n",
    "            confusion matrix\n",
    "            classification report\n",
    "            npv\n",
    "            accuracy\n",
    "\n",
    "        using optimal youden (maximizing tpr+fpr with constraint that tpr>0.9):\n",
    "            confusion matrix\n",
    "            classification report\n",
    "            npv\n",
    "            accuracy\n",
    "    \n",
    "    output: \n",
    "        outputs modelname, auc, precision, recall, f1, and npv to a dictionary. \n",
    "    \n",
    "    notes:\n",
    "    youden's J statistic:\n",
    "    J= sensitivity + specificity -1\n",
    "    (truepos/ truepos+falseneg) + (true neg/ trueneg + falsepos) -1. \n",
    "    NOTE: with tpr>0.9 turned on, the youden statistic is basically just the furthest point on the line away from the midline with tpr>=0.9\n",
    "    NOTE2: this function arguably does too much. in the future it may be better to seperate it out into more compartmental functions like with preprocessing().\n",
    "    \"\"\"\n",
    "    \n",
    "    if proba_input==True: \n",
    "        y_proba= model\n",
    "        y_pred=[1 if y >= 0.5 else 0 for y in y_proba]\n",
    "    \n",
    "    else:\n",
    "        model_name=type(model).__name__\n",
    "\n",
    "        y_pred = model.predict(x)\n",
    "        y_proba = model.predict_proba(x)[:,1]\n",
    "        \n",
    "    fpr, tpr, thresholds = metrics.roc_curve(y, y_proba, pos_label=pos_label)\n",
    "    roc_auc = metrics.auc(fpr, tpr)\n",
    "#     print(\"AUROC:\",roc_auc)\n",
    "    \n",
    "    #gathering the optimal youden_index and df of tpr/fpr for auc and index of that optimal youden. idx is needed in the roc\n",
    "    youden_threshold, roc_df, idx= optimal_youden_index(fpr, tpr, thresholds,tp90=True)\n",
    "\n",
    "    #plotting roc\n",
    "    plot_roc(fpr, tpr, roc_auc, roc_df, idx, save=save, model_name=model_name,folder_name=folder)\n",
    "    plt.show(), plt.close()\n",
    "    \n",
    "    #printing npv, recall, precision, accuracy\n",
    "    npv=confusion_matrix(y, y_pred)[0,0]/sum(np.array(y_pred)==0)\n",
    "    prec= precision_score(y_true=y, y_pred= y_pred, pos_label=pos_label)\n",
    "    recall= recall_score(y_true=y, y_pred= y_pred, pos_label=pos_label)\n",
    "    f1= f1_score(y_true=y, y_pred= y_pred, pos_label=pos_label)\n",
    "    \n",
    "    if print_default==True: ###can opt to not print the 0.5 classification threshold classification report/conf matrix\n",
    "        #plotting confusion matrixs\n",
    "        print(\"\\n******* Using 0.5 Classification Threshold *******\\n\")\n",
    "        print(confusion_matrix(y, y_pred))\n",
    "        print ('the Accuracy is: {:01.3f}'.format(accuracy_score(y, y_pred)))\n",
    "        print (\"npv: {:01.3f}\".format(npv))\n",
    "        print ('the classification_report:\\n', classification_report(y,y_pred, digits=3))\n",
    "    else:\n",
    "        pass\n",
    "    \n",
    "    #### YOUDEN ADJUSTMENT #####\n",
    "\n",
    "    print(\"\\n******* Using Optimal Youden Classification Threshold *******\\n\")\n",
    "    print(\"\\nthe Youden optimal index is : {:01.3f}\".format(youden_threshold))\n",
    "\n",
    "    y_pred_youden = [1 if y >= youden_threshold else 0 for y in y_proba]\n",
    "\n",
    "    npv_y=confusion_matrix(y, y_pred_youden)[0,0]/sum(np.array(y_pred_youden)==0)\n",
    "    prec_y= precision_score(y_true=y, y_pred= y_pred_youden, pos_label=pos_label)\n",
    "    recall_y= recall_score(y_true=y, y_pred= y_pred_youden, pos_label=pos_label)\n",
    "    f1_y= f1_score(y_true=y, y_pred= y_pred_youden, pos_label=pos_label)\n",
    "    auc_y=roc_auc_score(y_true=y, y_score= y_proba)\n",
    "    \n",
    "    ##plotting and saving confusion matrix\n",
    "    confusion_youden=confusion_matrix(y, y_pred_youden)\n",
    "    \n",
    "    #plotting confusion matrixs\n",
    "    print(confusion_matrix(y, y_pred_youden))\n",
    "    print ('the Accuracy is: {:01.3f}'.format(accuracy_score(y, y_pred_youden)))\n",
    "    print (\"npv: {:01.3f}\".format(npv_y))\n",
    "    print ('the classification_report:\\n', classification_report(y,y_pred_youden, digits=3))\n",
    "    \n",
    "    youden_dic= {'model':model_name, 'auc':auc_y, 'precision':prec_y, 'recall':recall_y, 'f1':f1_y, 'npv':npv_y}\n",
    "    return(youden_dic)\n",
    "    "
   ]
  },
  {
   "cell_type": "markdown",
   "metadata": {},
   "source": [
    "## step1) hypertuning and cv\n",
    "* xgboost\n",
    "* randomforest\n",
    "* support vector classifier\n",
    "* logistic regression (l1 and l2)\n",
    "* k-nearest neighbors"
   ]
  },
  {
   "cell_type": "markdown",
   "metadata": {},
   "source": [
    "#### xgboost hypertune"
   ]
  },
  {
   "cell_type": "code",
   "execution_count": 54,
   "metadata": {},
   "outputs": [
    {
     "name": "stdout",
     "output_type": "stream",
     "text": [
      " scorer function: roc_auc\n",
      " ##### CV performance: mean & sd scores #####\n",
      "best cv score: 0.808\n",
      "best cv params:  {'scale_pos_weight': 1, 'max_depth': 4, 'learning_rate': 0.1}\n",
      "worst cv score: 0.718\n",
      "worst cv params:  {'scale_pos_weight': 5, 'max_depth': 3, 'learning_rate': 1}\n",
      "##### training set performance #####\n",
      "\n",
      " best hypertuned model training set performance:\n",
      "the AUC is: 0.901\n",
      "the logloss is: 0.336\n",
      "[[5392  120]\n",
      " [ 869  824]]\n",
      "              precision    recall  f1-score   support\n",
      "\n",
      "           0      0.861     0.978     0.916      5512\n",
      "           1      0.873     0.487     0.625      1693\n",
      "\n",
      "   micro avg      0.863     0.863     0.863      7205\n",
      "   macro avg      0.867     0.732     0.770      7205\n",
      "weighted avg      0.864     0.863     0.848      7205\n",
      "\n",
      " worst hypertuned model training set performance:\n",
      "the AUC is: 0.959\n",
      "the logloss is: 0.314\n",
      "[[4626  886]\n",
      " [  67 1626]]\n",
      "              precision    recall  f1-score   support\n",
      "\n",
      "           0      0.986     0.839     0.907      5512\n",
      "           1      0.647     0.960     0.773      1693\n",
      "\n",
      "   micro avg      0.868     0.868     0.868      7205\n",
      "   macro avg      0.817     0.900     0.840      7205\n",
      "weighted avg      0.906     0.868     0.875      7205\n",
      "\n",
      "relative scorer change of -6.03%. between worst and best hyperparams on TRAINING set (may be overfit)\n",
      "time: 2min 55s\n"
     ]
    }
   ],
   "source": [
    "###xgboost\n",
    "model= XGBClassifier(n_estimators=100, min_child_weight=2, #changed: GridSearchCV ->RandomizedSearchCV\n",
    "                                              gamma=0, subsample=0.8, colsample_bytree=0.8,\n",
    "                                              objective='binary:logistic', n_jobs=-1, seed=27)\n",
    "scale_pos_weight = [1, 5, 10] #0.1\n",
    "max_depth = [1, 2, 3, 4, 5]\n",
    "learning_rate=[0.01, 0.1, 0.5, 1]\n",
    "param_grid = {'scale_pos_weight': scale_pos_weight, 'max_depth' : max_depth, \"learning_rate\":learning_rate}\n",
    "xgboost_hyper=hypertuning_fxn(x, y, nfolds=nfolds, model=model , param_grid=param_grid, scoring=scoring, n_iter=n_iter, gridsearch=gridsearch)"
   ]
  },
  {
   "cell_type": "code",
   "execution_count": 55,
   "metadata": {},
   "outputs": [
    {
     "data": {
      "text/plain": [
       "7205"
      ]
     },
     "execution_count": 55,
     "metadata": {},
     "output_type": "execute_result"
    },
    {
     "name": "stdout",
     "output_type": "stream",
     "text": [
      "time: 3.92 ms\n"
     ]
    }
   ],
   "source": [
    "y.size"
   ]
  },
  {
   "cell_type": "code",
   "execution_count": 56,
   "metadata": {},
   "outputs": [
    {
     "data": {
      "text/plain": [
       "1693"
      ]
     },
     "execution_count": 56,
     "metadata": {},
     "output_type": "execute_result"
    },
    {
     "name": "stdout",
     "output_type": "stream",
     "text": [
      "time: 7.36 ms\n"
     ]
    }
   ],
   "source": [
    "sum(y)"
   ]
  },
  {
   "cell_type": "code",
   "execution_count": 57,
   "metadata": {},
   "outputs": [
    {
     "name": "stdout",
     "output_type": "stream",
     "text": [
      "time: 7.35 s\n"
     ]
    }
   ],
   "source": [
    "xgboost_cv= hypertuned_cv_fxn(x, y, xgboost_hyper.best_estimator_, nfolds=nfolds)"
   ]
  },
  {
   "cell_type": "code",
   "execution_count": 58,
   "metadata": {},
   "outputs": [
    {
     "data": {
      "text/plain": [
       "{'auc': 0.8077048872332366,\n",
       " 'auc_sd': 0.016170778021036985,\n",
       " 'f1': 0.5048161356349313,\n",
       " 'f1_sd': 0.042899987771468515,\n",
       " 'model': 'XGBClassifier',\n",
       " 'npv': 0.9423311102908807,\n",
       " 'npv_sd': 0.007402594653025198,\n",
       " 'precision': 0.3513519495686923,\n",
       " 'precision_sd': 0.04066192533789577,\n",
       " 'recall': 0.9056022155995425,\n",
       " 'recall_sd': 0.004616194069895415}"
      ]
     },
     "execution_count": 58,
     "metadata": {},
     "output_type": "execute_result"
    },
    {
     "name": "stdout",
     "output_type": "stream",
     "text": [
      "time: 4.28 ms\n"
     ]
    }
   ],
   "source": [
    "xgboost_cv"
   ]
  },
  {
   "cell_type": "markdown",
   "metadata": {},
   "source": [
    "#### RF hypertune"
   ]
  },
  {
   "cell_type": "code",
   "execution_count": 59,
   "metadata": {},
   "outputs": [
    {
     "name": "stdout",
     "output_type": "stream",
     "text": [
      " scorer function: roc_auc\n",
      " ##### CV performance: mean & sd scores #####\n",
      "best cv score: 0.803\n",
      "best cv params:  {'n_estimators': 250, 'min_samples_split': 5, 'min_samples_leaf': 2, 'max_features': 'auto', 'max_depth': 25, 'class_weight': None, 'bootstrap': True}\n",
      "worst cv score: 0.748\n",
      "worst cv params:  {'n_estimators': 10, 'min_samples_split': 2, 'min_samples_leaf': 2, 'max_features': 10, 'max_depth': 25, 'class_weight': {0: 0.000181422351233672, 1: 0.0005906674542232723}, 'bootstrap': False}\n",
      "##### training set performance #####\n",
      "\n",
      " best hypertuned model training set performance:\n",
      "the AUC is: 1.000\n",
      "the logloss is: 0.166\n",
      "[[5512    0]\n",
      " [  43 1650]]\n",
      "              precision    recall  f1-score   support\n",
      "\n",
      "           0      0.992     1.000     0.996      5512\n",
      "           1      1.000     0.975     0.987      1693\n",
      "\n",
      "   micro avg      0.994     0.994     0.994      7205\n",
      "   macro avg      0.996     0.987     0.992      7205\n",
      "weighted avg      0.994     0.994     0.994      7205\n",
      "\n",
      " worst hypertuned model training set performance:\n",
      "the AUC is: 1.000\n",
      "the logloss is: 0.037\n",
      "[[5512    0]\n",
      " [   0 1693]]\n",
      "              precision    recall  f1-score   support\n",
      "\n",
      "           0      1.000     1.000     1.000      5512\n",
      "           1      1.000     1.000     1.000      1693\n",
      "\n",
      "   micro avg      1.000     1.000     1.000      7205\n",
      "   macro avg      1.000     1.000     1.000      7205\n",
      "weighted avg      1.000     1.000     1.000      7205\n",
      "\n",
      "relative scorer change of -0.00%. between worst and best hyperparams on TRAINING set (may be overfit)\n",
      "time: 1min 43s\n"
     ]
    }
   ],
   "source": [
    "###rf\n",
    "#{'bootstrap': False, 'class_weight': None, 'max_depth': 25, 'max_features': 'auto', 'min_samples_leaf': 2, 'min_samples_split': 10, 'n_estimators': 200} \n",
    "# Number of trees in random forest\n",
    "n_estimators = [10,15, 25, 50, 150, 250] #[int(x) for x in np.linspace(start = 10, stop = 1000, num = 5)]\n",
    "# Number of features to consider at every split\n",
    "max_features = [3,10,20,'auto']\n",
    "# Maximum number of levels in tree\n",
    "max_depth = [5,10, 25]#[int(x) for x in np.linspace(5, 110, num = 5)]\n",
    "#max_depth.append(None)\n",
    "# Minimum number of samples required to split a node\n",
    "min_samples_split = [2, 5, 10]\n",
    "# Minimum number of samples required at each leaf node\n",
    "min_samples_leaf = [2, 5, 10]\n",
    "# Method of selecting samples for training each tree. supposedly better with false when classes aren't perfectly ballanced\n",
    "bootstrap = [True, False] #[True, False] #[False] \n",
    "#### note about bootstrap= off\n",
    "###Without bootstrapping, all of the data is used to fit the model, so there is not random variation between trees with respect to the selected examples at each stage. \n",
    "###However, random forest has a second source of variation, which is the random subset of features to try at each split.\n",
    "### The documentation states \"The sub-sample size is always the same as the original input sample size but the samples are drawn with replacement if bootstrap=True (default),\" \n",
    "### which implies that bootstrap=False draws a sample of size equal to the number of training examples without replacement, i.e. the same training set is always used.\n",
    "### we test this turned off because with unballanced classes turning this off can sometimes improve performance\n",
    "\n",
    "#class_weight is either a dictionary of each class to a uniform weight for that class (e.g., {1:.9, 2:.5, 3:.01}), or is a string telling sklearn how to automatically determine this dictionary.\n",
    "class_weight= [None, {0:(1/np.bincount(y))[0], 1:(1/np.bincount(y))[1]}]\n",
    "\n",
    "param_grid = {'n_estimators': n_estimators,\n",
    "               'max_features': max_features,\n",
    "               'max_depth': max_depth,\n",
    "               'min_samples_split': min_samples_split,\n",
    "               'min_samples_leaf': min_samples_leaf,\n",
    "               'class_weight': class_weight,\n",
    "               'bootstrap': bootstrap}\n",
    "\n",
    "model= RandomForestClassifier(criterion='entropy', random_state=12345)\n",
    "\n",
    "#rf_hyper=hypertuning_fxn(x, y, nfolds=nfolds, model=model , param_grid=param_grid, scoring=scoring,n_iter = n_iter, gridsearch=False)\n",
    "rf_hyper=hypertuning_fxn(x, y, nfolds=nfolds, model=model , param_grid=param_grid, scoring=scoring,n_iter = n_iter, gridsearch=False)"
   ]
  },
  {
   "cell_type": "code",
   "execution_count": 106,
   "metadata": {},
   "outputs": [
    {
     "data": {
      "text/plain": [
       "array([0, 0, 1, ..., 0, 0, 0])"
      ]
     },
     "execution_count": 106,
     "metadata": {},
     "output_type": "execute_result"
    },
    {
     "name": "stdout",
     "output_type": "stream",
     "text": [
      "time: 2.93 ms\n"
     ]
    }
   ],
   "source": [
    "y"
   ]
  },
  {
   "cell_type": "code",
   "execution_count": 60,
   "metadata": {},
   "outputs": [
    {
     "name": "stdout",
     "output_type": "stream",
     "text": [
      "time: 1.06 ms\n"
     ]
    }
   ],
   "source": [
    "# best cv score: 0.791\n",
    "# best cv params:  {'n_estimators': 50, 'min_samples_split': 10, 'min_samples_leaf': 5, 'max_features': 3, 'max_depth': 25, 'class_weight': {0: 0.000181422351233672, 1: 0.0005906674542232723}, 'bootstrap': False}\n",
    "    \n",
    "# #changing from niter=40 and bootstrap t/f:\n",
    "# best cv score: 0.788\n",
    "# best cv params:  {'n_estimators': 250, 'min_samples_split': 2, 'min_samples_leaf': 2, 'max_features': 'auto', 'max_depth': 10, 'class_weight': None, 'bootstrap': True}\n"
   ]
  },
  {
   "cell_type": "code",
   "execution_count": 61,
   "metadata": {},
   "outputs": [
    {
     "name": "stdout",
     "output_type": "stream",
     "text": [
      "time: 40.8 s\n"
     ]
    }
   ],
   "source": [
    "rf_cv= hypertuned_cv_fxn(x, y, rf_hyper.best_estimator_, nfolds=nfolds)"
   ]
  },
  {
   "cell_type": "markdown",
   "metadata": {},
   "source": [
    "#### SVC hypertune"
   ]
  },
  {
   "cell_type": "code",
   "execution_count": 62,
   "metadata": {},
   "outputs": [
    {
     "name": "stdout",
     "output_type": "stream",
     "text": [
      " scorer function: roc_auc\n",
      " ##### CV performance: mean & sd scores #####\n",
      "best cv score: 0.793\n",
      "best cv params:  {'kernel': 'linear', 'degree': 1, 'class_weight': 'balanced', 'C': 10}\n",
      "worst cv score: 0.772\n",
      "worst cv params:  {'kernel': 'linear', 'degree': 2, 'class_weight': None, 'C': 0.1}\n",
      "##### training set performance #####\n",
      "\n",
      " best hypertuned model training set performance:\n",
      "the AUC is: 0.802\n",
      "the logloss is: 0.431\n",
      "[[4181 1331]\n",
      " [ 514 1179]]\n",
      "              precision    recall  f1-score   support\n",
      "\n",
      "           0      0.891     0.759     0.819      5512\n",
      "           1      0.470     0.696     0.561      1693\n",
      "\n",
      "   micro avg      0.744     0.744     0.744      7205\n",
      "   macro avg      0.680     0.727     0.690      7205\n",
      "weighted avg      0.792     0.744     0.759      7205\n",
      "\n",
      " worst hypertuned model training set performance:\n",
      "the AUC is: 0.778\n",
      "the logloss is: 0.463\n",
      "[[5416   96]\n",
      " [1373  320]]\n",
      "              precision    recall  f1-score   support\n",
      "\n",
      "           0      0.798     0.983     0.881      5512\n",
      "           1      0.769     0.189     0.303      1693\n",
      "\n",
      "   micro avg      0.796     0.796     0.796      7205\n",
      "   macro avg      0.783     0.586     0.592      7205\n",
      "weighted avg      0.791     0.796     0.745      7205\n",
      "\n",
      "relative scorer change of 3.05%. between worst and best hyperparams on TRAINING set (may be overfit)\n",
      "time: 6min 12s\n"
     ]
    }
   ],
   "source": [
    "model= svm.SVC(probability=True)\n",
    "kernel = ['linear']#, 'rbf','poly']\n",
    "#gamma = [0.1, 1, 'auto'] #Kernel coefficient for ‘rbf’, ‘poly’ and ‘sigmoid’. default=’auto’ uses 1 / n_features\n",
    "C = [0.1, 1, 10, 100] #Penalty parameter C of the error term.\n",
    "degree = [1,2]\n",
    "class_weight=['balanced', None]\n",
    "\n",
    "param_grid = {'kernel': kernel,\n",
    "              #'gamma': gamma,\n",
    "              'C': C,\n",
    "              'degree': degree,\n",
    "              'class_weight':class_weight}\n",
    "\n",
    "svc_hyper=hypertuning_fxn(x, y, nfolds=nfolds, model=model , param_grid=param_grid,scoring=scoring, n_iter=5, gridsearch=False)\n",
    "#svc_hyper=hypertuning_fxn(x, y, nfolds=4, model=model , param_grid=param_grid, base_model= base_model, scoring=\"neg_log_loss\", n_iter=10, gridsearch=False)"
   ]
  },
  {
   "cell_type": "code",
   "execution_count": 63,
   "metadata": {},
   "outputs": [
    {
     "name": "stdout",
     "output_type": "stream",
     "text": [
      "time: 4min 23s\n"
     ]
    }
   ],
   "source": [
    "svc_cv= hypertuned_cv_fxn(x, y, svc_hyper.best_estimator_, nfolds=10)"
   ]
  },
  {
   "cell_type": "markdown",
   "metadata": {},
   "source": [
    "### logistic regression hypertune"
   ]
  },
  {
   "cell_type": "code",
   "execution_count": 64,
   "metadata": {},
   "outputs": [
    {
     "name": "stdout",
     "output_type": "stream",
     "text": [
      " scorer function: roc_auc\n",
      " ##### CV performance: mean & sd scores #####\n",
      "best cv score: 0.794\n",
      "best cv params:  {'class_weight': 'balanced', 'penalty': 'l1'}\n",
      "worst cv score: 0.790\n",
      "worst cv params:  {'class_weight': None, 'penalty': 'l2'}\n",
      "##### training set performance #####\n",
      "\n",
      " best hypertuned model training set performance:\n",
      "the AUC is: 0.802\n",
      "the logloss is: 0.538\n",
      "[[4154 1358]\n",
      " [ 509 1184]]\n",
      "              precision    recall  f1-score   support\n",
      "\n",
      "           0      0.891     0.754     0.817      5512\n",
      "           1      0.466     0.699     0.559      1693\n",
      "\n",
      "   micro avg      0.741     0.741     0.741      7205\n",
      "   macro avg      0.678     0.726     0.688      7205\n",
      "weighted avg      0.791     0.741     0.756      7205\n",
      "\n",
      " worst hypertuned model training set performance:\n",
      "the AUC is: 0.798\n",
      "the logloss is: 0.432\n",
      "[[5262  250]\n",
      " [1150  543]]\n",
      "              precision    recall  f1-score   support\n",
      "\n",
      "           0      0.821     0.955     0.883      5512\n",
      "           1      0.685     0.321     0.437      1693\n",
      "\n",
      "   micro avg      0.806     0.806     0.806      7205\n",
      "   macro avg      0.753     0.638     0.660      7205\n",
      "weighted avg      0.789     0.806     0.778      7205\n",
      "\n",
      "relative scorer change of 0.50%. between worst and best hyperparams on TRAINING set (may be overfit)\n",
      "time: 3.78 s\n"
     ]
    }
   ],
   "source": [
    "###logreg\n",
    "model= LogisticRegression(solver='lbfgs',random_state=12345)\n",
    "#model = LogisticRegression(penalty='l2', dual=False, tol=0.0001, C=10, fit_intercept=True, intercept_scaling=1, class_weight='balanced', random_state=None)\n",
    "\n",
    "penalty = ['l1','l2']\n",
    "class_weight=['balanced',None]\n",
    "\n",
    "param_grid = {'penalty': penalty,\n",
    "              'class_weight': class_weight}\n",
    "\n",
    "logreg_hyper=hypertuning_fxn(x, y, nfolds=nfolds, model=model , param_grid=param_grid, scoring=scoring, n_iter=n_iter, gridsearch=True)"
   ]
  },
  {
   "cell_type": "code",
   "execution_count": 65,
   "metadata": {},
   "outputs": [
    {
     "name": "stdout",
     "output_type": "stream",
     "text": [
      "time: 2.57 s\n"
     ]
    }
   ],
   "source": [
    "logreg_cv= hypertuned_cv_fxn(x, y, logreg_hyper.best_estimator_, nfolds=10)"
   ]
  },
  {
   "cell_type": "markdown",
   "metadata": {},
   "source": [
    "### KNN hypertune"
   ]
  },
  {
   "cell_type": "code",
   "execution_count": 66,
   "metadata": {},
   "outputs": [
    {
     "name": "stdout",
     "output_type": "stream",
     "text": [
      " scorer function: roc_auc\n",
      " ##### CV performance: mean & sd scores #####\n",
      "best cv score: 0.734\n",
      "best cv params:  {'n_neighbors': 25, 'p': 1, 'weights': 'uniform'}\n",
      "worst cv score: 0.639\n",
      "worst cv params:  {'n_neighbors': 3, 'p': 2, 'weights': 'uniform'}\n",
      "##### training set performance #####\n",
      "\n",
      " best hypertuned model training set performance:\n",
      "the AUC is: 0.809\n",
      "the logloss is: 0.438\n",
      "[[5461   51]\n",
      " [1420  273]]\n",
      "              precision    recall  f1-score   support\n",
      "\n",
      "           0      0.794     0.991     0.881      5512\n",
      "           1      0.843     0.161     0.271      1693\n",
      "\n",
      "   micro avg      0.796     0.796     0.796      7205\n",
      "   macro avg      0.818     0.576     0.576      7205\n",
      "weighted avg      0.805     0.796     0.738      7205\n",
      "\n",
      " worst hypertuned model training set performance:\n",
      "the AUC is: 0.916\n",
      "the logloss is: 0.267\n",
      "[[5325  187]\n",
      " [ 862  831]]\n",
      "              precision    recall  f1-score   support\n",
      "\n",
      "           0      0.861     0.966     0.910      5512\n",
      "           1      0.816     0.491     0.613      1693\n",
      "\n",
      "   micro avg      0.854     0.854     0.854      7205\n",
      "   macro avg      0.838     0.728     0.762      7205\n",
      "weighted avg      0.850     0.854     0.840      7205\n",
      "\n",
      "relative scorer change of -11.73%. between worst and best hyperparams on TRAINING set (may be overfit)\n",
      "time: 2min 47s\n"
     ]
    }
   ],
   "source": [
    "\n",
    "from sklearn.neighbors import KNeighborsClassifier\n",
    "model= KNeighborsClassifier()\n",
    "\n",
    "n_neighbors = [3,4,5, 8, 10, 25]\n",
    "weights=['uniform']\n",
    "p=[1,2] #1= mmanhattan, 2= euclidian\n",
    "\n",
    "\n",
    "param_grid = {'n_neighbors': n_neighbors,\n",
    "              'weights': weights,\n",
    "              'p': p}\n",
    "\n",
    "knn_hyper=hypertuning_fxn(x, y, nfolds=nfolds, model=model , param_grid=param_grid, scoring=scoring, n_iter=n_iter, gridsearch=True)"
   ]
  },
  {
   "cell_type": "code",
   "execution_count": 67,
   "metadata": {},
   "outputs": [
    {
     "name": "stdout",
     "output_type": "stream",
     "text": [
      "time: 7.1 s\n"
     ]
    }
   ],
   "source": [
    "knn_cv= hypertuned_cv_fxn(x, y, knn_hyper.best_estimator_, nfolds=10)"
   ]
  },
  {
   "cell_type": "markdown",
   "metadata": {},
   "source": [
    "### Multilayer Perceptron (MLP) hypertune"
   ]
  },
  {
   "cell_type": "code",
   "execution_count": 68,
   "metadata": {},
   "outputs": [
    {
     "name": "stdout",
     "output_type": "stream",
     "text": [
      " scorer function: roc_auc\n",
      " ##### CV performance: mean & sd scores #####\n",
      "best cv score: 0.792\n",
      "best cv params:  {'activation': 'tanh', 'alpha': 0.001, 'hidden_layer_sizes': (100,), 'learning_rate': 'adaptive', 'learning_rate_init': 0.01, 'solver': 'adam'}\n",
      "worst cv score: 0.510\n",
      "worst cv params:  {'activation': 'relu', 'alpha': 0.001, 'hidden_layer_sizes': (50, 100, 50), 'learning_rate': 'adaptive', 'learning_rate_init': 0.001, 'solver': 'sgd'}\n",
      "##### training set performance #####\n",
      "\n",
      " best hypertuned model training set performance:\n",
      "the AUC is: 0.807\n",
      "the logloss is: 0.428\n",
      "[[5163  349]\n",
      " [1023  670]]\n",
      "              precision    recall  f1-score   support\n",
      "\n",
      "           0      0.835     0.937     0.883      5512\n",
      "           1      0.658     0.396     0.494      1693\n",
      "\n",
      "   micro avg      0.810     0.810     0.810      7205\n",
      "   macro avg      0.746     0.666     0.688      7205\n",
      "weighted avg      0.793     0.810     0.791      7205\n",
      "\n",
      " worst hypertuned model training set performance:\n",
      "the AUC is: 0.513\n",
      "the logloss is: 0.565\n",
      "[[5512    0]\n",
      " [1693    0]]\n",
      "              precision    recall  f1-score   support\n",
      "\n",
      "           0      0.765     1.000     0.867      5512\n",
      "           1      0.000     0.000     0.000      1693\n",
      "\n",
      "   micro avg      0.765     0.765     0.765      7205\n",
      "   macro avg      0.383     0.500     0.433      7205\n",
      "weighted avg      0.585     0.765     0.663      7205\n",
      "\n",
      "relative scorer change of 57.13%. between worst and best hyperparams on TRAINING set (may be overfit)\n",
      "time: 11min 20s\n"
     ]
    }
   ],
   "source": [
    "### MLP w/ standard scalar and early stopping (improved cv performance)\n",
    "\n",
    "from sklearn.preprocessing import StandardScaler  # doctest: +SKIP\n",
    "# scaler = StandardScaler()  # doctest: +SKIP\n",
    "# scaler.fit(x)  # doctest: +SKIP\n",
    "# x_scalar = scaler.transform(x)  # doctest: +SKIP\n",
    "\n",
    "from sklearn.neural_network import MLPClassifier\n",
    "#hidden_layer_sizes = [(50,), (100,), (150,), (250,)] #origional used parameters #(50,50), (100,100), (150,150),(300,)\n",
    "\n",
    "hidden_layer_sizes =[(50), (50,50), (50,50,50), (50,100,50), (100,),(150)]\n",
    "solver= ['sgd', 'adam']\n",
    "#     'alpha': [0.0001, 0.05],\n",
    "#     'learning_rate': ['constant','adaptive'],\n",
    "\n",
    "activation= ['relu','tanh']#, 'logistic']\n",
    "\n",
    "alpha= [0.001, 0.05] #L2 penalization degree #[0.001, 0.01]\n",
    "\n",
    "learning_rate= ['adaptive']\n",
    "learning_rate_init= [0.001, 0.01]\n",
    "\n",
    "param_grid = {'hidden_layer_sizes': hidden_layer_sizes, \n",
    "              'solver':solver,\n",
    "              'activation':activation,\n",
    "              'alpha': alpha,\n",
    "              'learning_rate': learning_rate,\n",
    "              'learning_rate_init': learning_rate_init\n",
    "             }\n",
    "\n",
    "model= MLPClassifier(early_stopping=True, random_state=12345)\n",
    "\n",
    "#removed teh x_scalar\n",
    "mlp_hyper=hypertuning_fxn(x, y, nfolds=nfolds, model=model , param_grid=param_grid, scoring=scoring,n_iter = 80, gridsearch=True) #gridsearch=False: testing with smaller, randomized grid\n",
    "#gridsearch=False: testing with smaller, randomized grid. went from ~30 sec to 13min when ==True\n",
    "# adding in solver: sgd and adam 1.5min ->8min"
   ]
  },
  {
   "cell_type": "code",
   "execution_count": 69,
   "metadata": {},
   "outputs": [
    {
     "name": "stdout",
     "output_type": "stream",
     "text": [
      "time: 7.27 s\n"
     ]
    }
   ],
   "source": [
    "mlp_cv= hypertuned_cv_fxn(x, y, mlp_hyper.best_estimator_, nfolds=10)\n"
   ]
  },
  {
   "cell_type": "code",
   "execution_count": null,
   "metadata": {},
   "outputs": [],
   "source": []
  },
  {
   "cell_type": "markdown",
   "metadata": {},
   "source": [
    "## idea: Rashamon effect: does ensembling models improve prediction performance?\n",
    "the ensemble is intresting if the ensemble predicts a different group of patients (or has different variable importance).\n",
    "\n",
    "rashamon effect where we don't gain from ensemble: identifying same patints in different ways\n",
    "rashamon effect where we do gain from ensemble: identifying DIFFERENT patients in the different ways"
   ]
  },
  {
   "cell_type": "code",
   "execution_count": 71,
   "metadata": {},
   "outputs": [
    {
     "name": "stdout",
     "output_type": "stream",
     "text": [
      "time: 681 µs\n"
     ]
    }
   ],
   "source": [
    "# to test this, i first need to instantiate my other models, then ensemble them together. "
   ]
  },
  {
   "cell_type": "code",
   "execution_count": null,
   "metadata": {},
   "outputs": [],
   "source": []
  },
  {
   "cell_type": "code",
   "execution_count": 72,
   "metadata": {},
   "outputs": [
    {
     "name": "stdout",
     "output_type": "stream",
     "text": [
      "time: 13 ms\n"
     ]
    }
   ],
   "source": [
    "def reset_model(model_name, hardcode=False):\n",
    "    global xgboost_hyper, logreg_hyper, rf_hyper, knn_hyper, mlp_hyper, svc_hyper\n",
    "    \n",
    "    if model_name== 'xgboost':\n",
    "        model = xgboost_hyper.best_estimator_\n",
    "\n",
    "    elif model_name== 'logreg':\n",
    "        model = logreg_hyper.best_estimator_\n",
    "\n",
    "    elif model_name== 'rf': \n",
    "        model = rf_hyper.best_estimator_\n",
    "\n",
    "    elif model_name== 'svc':\n",
    "        model = svc_hyper.best_estimator_\n",
    "\n",
    "    elif model_name== 'knn':\n",
    "        model = knn_hyper.best_estimator_\n",
    "        \n",
    "    elif model_name== 'mlp':\n",
    "        model = mlp_hyper.best_estimator_\n",
    "        \n",
    "    return(model)"
   ]
  },
  {
   "cell_type": "markdown",
   "metadata": {},
   "source": [
    "# test entire trainset and predict testset.\n",
    "*<del> step1) hypertune xgb via 10fold cv.\n",
    "* step2) test entire trainset and predict testset.\n",
    "* step3) generate figures"
   ]
  },
  {
   "cell_type": "code",
   "execution_count": 73,
   "metadata": {},
   "outputs": [
    {
     "name": "stdout",
     "output_type": "stream",
     "text": [
      "time: 2.38 ms\n"
     ]
    }
   ],
   "source": [
    "def get_auc_score(model,train_index, x=x,y=y):\n",
    "    y_pred_proba = model.predict_proba(x[train_index])[:, 1] \n",
    "    roc_score=roc_auc_score(y[train_index], y_pred_proba)\n",
    "    return(roc_score)"
   ]
  },
  {
   "cell_type": "markdown",
   "metadata": {},
   "source": [
    "# Ensemble CV and testing models"
   ]
  },
  {
   "cell_type": "markdown",
   "metadata": {},
   "source": [
    "## test entire trainset and predict trainset.\n",
    "<del> * step1) hypertune xgb on 10fold cv.\n",
    "    \n",
    "<del> * step2) test entire train set and predict testset.\n",
    "* step3) generate figures\n"
   ]
  },
  {
   "cell_type": "code",
   "execution_count": 74,
   "metadata": {},
   "outputs": [
    {
     "data": {
      "text/html": [
       "<div>\n",
       "<style scoped>\n",
       "    .dataframe tbody tr th:only-of-type {\n",
       "        vertical-align: middle;\n",
       "    }\n",
       "\n",
       "    .dataframe tbody tr th {\n",
       "        vertical-align: top;\n",
       "    }\n",
       "\n",
       "    .dataframe thead th {\n",
       "        text-align: right;\n",
       "    }\n",
       "</style>\n",
       "<table border=\"1\" class=\"dataframe\">\n",
       "  <thead>\n",
       "    <tr style=\"text-align: right;\">\n",
       "      <th></th>\n",
       "      <th>model</th>\n",
       "      <th>auc</th>\n",
       "      <th>precision</th>\n",
       "      <th>recall</th>\n",
       "      <th>f1</th>\n",
       "      <th>npv</th>\n",
       "    </tr>\n",
       "  </thead>\n",
       "  <tbody>\n",
       "  </tbody>\n",
       "</table>\n",
       "</div>"
      ],
      "text/plain": [
       "Empty DataFrame\n",
       "Columns: [model, auc, precision, recall, f1, npv]\n",
       "Index: []"
      ]
     },
     "execution_count": 74,
     "metadata": {},
     "output_type": "execute_result"
    },
    {
     "name": "stdout",
     "output_type": "stream",
     "text": [
      "time: 9.34 ms\n"
     ]
    }
   ],
   "source": [
    "#setting up test table\n",
    "test_summary_df= pd.DataFrame({'model':[],'auc':[], 'precision':[], 'recall':[], 'f1':[], 'npv':[]})\n",
    "test_summary_df"
   ]
  },
  {
   "cell_type": "markdown",
   "metadata": {},
   "source": [
    "### model fitting"
   ]
  },
  {
   "cell_type": "code",
   "execution_count": 75,
   "metadata": {},
   "outputs": [
    {
     "name": "stdout",
     "output_type": "stream",
     "text": [
      "time: 37.6 s\n"
     ]
    }
   ],
   "source": [
    "xgboost = reset_model('xgboost')\n",
    "xgboost.fit(x, y)\n",
    "\n",
    "logreg = reset_model('logreg')\n",
    "logreg.fit(x, y)\n",
    "\n",
    "rf= reset_model('rf')\n",
    "rf.fit(x,y)\n",
    "\n",
    "svc= reset_model('svc')\n",
    "svc.fit(x, y)\n",
    "\n",
    "knn= reset_model('knn')\n",
    "knn.fit(x,y)\n",
    "\n",
    "mlp= reset_model('mlp')\n",
    "mlp.fit(x,y)\n",
    "\n",
    "from sklearn.ensemble import VotingClassifier\n",
    "#create a dictionary of our models\n",
    "estimators=[(\"xgboost\", xgboost), ('rf', rf), ('log_reg', logreg), ('mlp',mlp), ('svc',svc)]\n",
    "#create our voting classifier, inputting our models\n",
    "ensemble = VotingClassifier(estimators, voting='soft', n_jobs=-1)\n",
    "ensemble.fit(x,y)\n",
    "# If ‘hard’, uses predicted class labels for majority rule voting.\n",
    "# Else if ‘soft’, predicts the class label based on the argmax of the sums of the predicted probabilities,\n",
    "# which is recommended for an ensemble of well-calibrated classifiers.\n",
    "\n",
    "\n",
    "# from sklearn.naive_bayes import GaussianNB\n",
    "# gnb =GaussianNB()\n",
    "# nb_y_pred = gnb.fit(x, y)\n"
   ]
  },
  {
   "cell_type": "markdown",
   "metadata": {},
   "source": [
    "### wrapping up ensemble and CV"
   ]
  },
  {
   "cell_type": "code",
   "execution_count": 76,
   "metadata": {},
   "outputs": [
    {
     "name": "stdout",
     "output_type": "stream",
     "text": [
      "time: 5min 25s\n"
     ]
    }
   ],
   "source": [
    "#running the ensemble in cv\n",
    "ensemble_cv= hypertuned_cv_fxn(x, y, ensemble, nfolds=nfolds)"
   ]
  },
  {
   "cell_type": "code",
   "execution_count": 77,
   "metadata": {},
   "outputs": [
    {
     "name": "stdout",
     "output_type": "stream",
     "text": [
      "/Users/geickelb1/Documents/GitHub/mimiciii-antibiotics-opensource/tables/16122019_48_hr_window/\n"
     ]
    },
    {
     "data": {
      "text/html": [
       "<div>\n",
       "<style scoped>\n",
       "    .dataframe tbody tr th:only-of-type {\n",
       "        vertical-align: middle;\n",
       "    }\n",
       "\n",
       "    .dataframe tbody tr th {\n",
       "        vertical-align: top;\n",
       "    }\n",
       "\n",
       "    .dataframe thead th {\n",
       "        text-align: right;\n",
       "    }\n",
       "</style>\n",
       "<table border=\"1\" class=\"dataframe\">\n",
       "  <thead>\n",
       "    <tr style=\"text-align: right;\">\n",
       "      <th></th>\n",
       "      <th>auc</th>\n",
       "      <th>auc_sd</th>\n",
       "      <th>f1</th>\n",
       "      <th>f1_sd</th>\n",
       "      <th>npv</th>\n",
       "      <th>npv_sd</th>\n",
       "      <th>precision</th>\n",
       "      <th>precision_sd</th>\n",
       "      <th>recall</th>\n",
       "      <th>recall_sd</th>\n",
       "    </tr>\n",
       "    <tr>\n",
       "      <th>model</th>\n",
       "      <th></th>\n",
       "      <th></th>\n",
       "      <th></th>\n",
       "      <th></th>\n",
       "      <th></th>\n",
       "      <th></th>\n",
       "      <th></th>\n",
       "      <th></th>\n",
       "      <th></th>\n",
       "      <th></th>\n",
       "    </tr>\n",
       "  </thead>\n",
       "  <tbody>\n",
       "    <tr>\n",
       "      <th>XGBClassifier</th>\n",
       "      <td>0.808</td>\n",
       "      <td>0.016</td>\n",
       "      <td>0.505</td>\n",
       "      <td>0.043</td>\n",
       "      <td>0.942</td>\n",
       "      <td>0.007</td>\n",
       "      <td>0.351</td>\n",
       "      <td>0.041</td>\n",
       "      <td>0.906</td>\n",
       "      <td>0.005</td>\n",
       "    </tr>\n",
       "    <tr>\n",
       "      <th>VotingClassifier</th>\n",
       "      <td>0.807</td>\n",
       "      <td>0.018</td>\n",
       "      <td>0.494</td>\n",
       "      <td>0.042</td>\n",
       "      <td>0.940</td>\n",
       "      <td>0.009</td>\n",
       "      <td>0.341</td>\n",
       "      <td>0.039</td>\n",
       "      <td>0.907</td>\n",
       "      <td>0.007</td>\n",
       "    </tr>\n",
       "    <tr>\n",
       "      <th>RandomForestClassifier</th>\n",
       "      <td>0.803</td>\n",
       "      <td>0.021</td>\n",
       "      <td>0.491</td>\n",
       "      <td>0.054</td>\n",
       "      <td>0.940</td>\n",
       "      <td>0.009</td>\n",
       "      <td>0.339</td>\n",
       "      <td>0.051</td>\n",
       "      <td>0.910</td>\n",
       "      <td>0.009</td>\n",
       "    </tr>\n",
       "    <tr>\n",
       "      <th>LogisticRegression</th>\n",
       "      <td>0.794</td>\n",
       "      <td>0.020</td>\n",
       "      <td>0.486</td>\n",
       "      <td>0.037</td>\n",
       "      <td>0.938</td>\n",
       "      <td>0.010</td>\n",
       "      <td>0.333</td>\n",
       "      <td>0.035</td>\n",
       "      <td>0.907</td>\n",
       "      <td>0.009</td>\n",
       "    </tr>\n",
       "    <tr>\n",
       "      <th>SVC</th>\n",
       "      <td>0.793</td>\n",
       "      <td>0.018</td>\n",
       "      <td>0.484</td>\n",
       "      <td>0.039</td>\n",
       "      <td>0.940</td>\n",
       "      <td>0.009</td>\n",
       "      <td>0.331</td>\n",
       "      <td>0.036</td>\n",
       "      <td>0.911</td>\n",
       "      <td>0.007</td>\n",
       "    </tr>\n",
       "    <tr>\n",
       "      <th>MLPClassifier</th>\n",
       "      <td>0.792</td>\n",
       "      <td>0.018</td>\n",
       "      <td>0.491</td>\n",
       "      <td>0.030</td>\n",
       "      <td>0.939</td>\n",
       "      <td>0.008</td>\n",
       "      <td>0.337</td>\n",
       "      <td>0.028</td>\n",
       "      <td>0.906</td>\n",
       "      <td>0.003</td>\n",
       "    </tr>\n",
       "    <tr>\n",
       "      <th>KNeighborsClassifier</th>\n",
       "      <td>0.734</td>\n",
       "      <td>0.018</td>\n",
       "      <td>0.428</td>\n",
       "      <td>0.027</td>\n",
       "      <td>0.918</td>\n",
       "      <td>0.019</td>\n",
       "      <td>0.279</td>\n",
       "      <td>0.023</td>\n",
       "      <td>0.924</td>\n",
       "      <td>0.017</td>\n",
       "    </tr>\n",
       "  </tbody>\n",
       "</table>\n",
       "</div>"
      ],
      "text/plain": [
       "                          auc  auc_sd     f1  f1_sd    npv  npv_sd  precision  \\\n",
       "model                                                                           \n",
       "XGBClassifier           0.808   0.016  0.505  0.043  0.942   0.007      0.351   \n",
       "VotingClassifier        0.807   0.018  0.494  0.042  0.940   0.009      0.341   \n",
       "RandomForestClassifier  0.803   0.021  0.491  0.054  0.940   0.009      0.339   \n",
       "LogisticRegression      0.794   0.020  0.486  0.037  0.938   0.010      0.333   \n",
       "SVC                     0.793   0.018  0.484  0.039  0.940   0.009      0.331   \n",
       "MLPClassifier           0.792   0.018  0.491  0.030  0.939   0.008      0.337   \n",
       "KNeighborsClassifier    0.734   0.018  0.428  0.027  0.918   0.019      0.279   \n",
       "\n",
       "                        precision_sd  recall  recall_sd  \n",
       "model                                                    \n",
       "XGBClassifier                  0.041   0.906      0.005  \n",
       "VotingClassifier               0.039   0.907      0.007  \n",
       "RandomForestClassifier         0.051   0.910      0.009  \n",
       "LogisticRegression             0.035   0.907      0.009  \n",
       "SVC                            0.036   0.911      0.007  \n",
       "MLPClassifier                  0.028   0.906      0.003  \n",
       "KNeighborsClassifier           0.023   0.924      0.017  "
      ]
     },
     "execution_count": 77,
     "metadata": {},
     "output_type": "execute_result"
    },
    {
     "name": "stdout",
     "output_type": "stream",
     "text": [
      "time: 58.6 ms\n"
     ]
    }
   ],
   "source": [
    "#updating the cv table with ensemble data\n",
    "cv_summary_df= pd.DataFrame([rf_cv,\n",
    "                             logreg_cv,\n",
    "                             xgboost_cv,\n",
    "                             svc_cv,\n",
    "                             knn_cv,\n",
    "                             mlp_cv,\n",
    "                             ensemble_cv])\n",
    "cv_summary_df= cv_summary_df.set_index('model').round(decimals=3).sort_values('auc', ascending=False)\n",
    "\n",
    "if save_boolean==True:\n",
    "    save_df(cv_summary_df, df_name='default', rel_path='/tables/')\n",
    "\n",
    "cv_summary_df"
   ]
  },
  {
   "cell_type": "code",
   "execution_count": null,
   "metadata": {},
   "outputs": [],
   "source": []
  },
  {
   "cell_type": "code",
   "execution_count": null,
   "metadata": {},
   "outputs": [],
   "source": []
  },
  {
   "cell_type": "markdown",
   "metadata": {},
   "source": [
    "## global model test set evaluation"
   ]
  },
  {
   "cell_type": "code",
   "execution_count": 78,
   "metadata": {},
   "outputs": [
    {
     "name": "stdout",
     "output_type": "stream",
     "text": [
      "/Users/geickelb1/Documents/GitHub/mimiciii-antibiotics-opensource/figures/16122019_48_hr_window\n"
     ]
    },
    {
     "data": {
      "image/png": "[encoded data removed]",
      "text/plain": [
       "<Figure size 432x288 with 1 Axes>"
      ]
     },
     "metadata": {
      "needs_background": "light"
     },
     "output_type": "display_data"
    },
    {
     "name": "stdout",
     "output_type": "stream",
     "text": [
      "\n",
      "******* Using 0.5 Classification Threshold *******\n",
      "\n",
      "[[2213  142]\n",
      " [ 468  277]]\n",
      "the Accuracy is: 0.803\n",
      "npv: 0.825\n",
      "the classification_report:\n",
      "               precision    recall  f1-score   support\n",
      "\n",
      "           0      0.825     0.940     0.879      2355\n",
      "           1      0.661     0.372     0.476       745\n",
      "\n",
      "   micro avg      0.803     0.803     0.803      3100\n",
      "   macro avg      0.743     0.656     0.677      3100\n",
      "weighted avg      0.786     0.803     0.782      3100\n",
      "\n",
      "\n",
      "******* Using Optimal Youden Classification Threshold *******\n",
      "\n",
      "\n",
      "the Youden optimal index is : 0.109\n",
      "[[1026 1329]\n",
      " [  74  671]]\n",
      "the Accuracy is: 0.547\n",
      "npv: 0.933\n",
      "the classification_report:\n",
      "               precision    recall  f1-score   support\n",
      "\n",
      "           0      0.933     0.436     0.594      2355\n",
      "           1      0.336     0.901     0.489       745\n",
      "\n",
      "   micro avg      0.547     0.547     0.547      3100\n",
      "   macro avg      0.634     0.668     0.541      3100\n",
      "weighted avg      0.789     0.547     0.569      3100\n",
      "\n",
      "time: 482 ms\n"
     ]
    }
   ],
   "source": [
    "xgboost_eval= classifier_eval(xgboost, x=np.array(x_test), y=y_test, model_name='xgboost', folder_name=folder)"
   ]
  },
  {
   "cell_type": "code",
   "execution_count": 79,
   "metadata": {},
   "outputs": [
    {
     "name": "stdout",
     "output_type": "stream",
     "text": [
      "/Users/geickelb1/Documents/GitHub/mimiciii-antibiotics-opensource/figures/16122019_48_hr_window\n"
     ]
    },
    {
     "data": {
      "image/png": "[encoded data removed]",
      "text/plain": [
       "<Figure size 432x288 with 1 Axes>"
      ]
     },
     "metadata": {
      "needs_background": "light"
     },
     "output_type": "display_data"
    },
    {
     "name": "stdout",
     "output_type": "stream",
     "text": [
      "\n",
      "******* Using 0.5 Classification Threshold *******\n",
      "\n",
      "[[2295   60]\n",
      " [ 553  192]]\n",
      "the Accuracy is: 0.802\n",
      "npv: 0.806\n",
      "the classification_report:\n",
      "               precision    recall  f1-score   support\n",
      "\n",
      "           0      0.806     0.975     0.882      2355\n",
      "           1      0.762     0.258     0.385       745\n",
      "\n",
      "   micro avg      0.802     0.802     0.802      3100\n",
      "   macro avg      0.784     0.616     0.634      3100\n",
      "weighted avg      0.795     0.802     0.763      3100\n",
      "\n",
      "\n",
      "******* Using Optimal Youden Classification Threshold *******\n",
      "\n",
      "\n",
      "the Youden optimal index is : 0.150\n",
      "[[1036 1319]\n",
      " [  74  671]]\n",
      "the Accuracy is: 0.551\n",
      "npv: 0.933\n",
      "the classification_report:\n",
      "               precision    recall  f1-score   support\n",
      "\n",
      "           0      0.933     0.440     0.598      2355\n",
      "           1      0.337     0.901     0.491       745\n",
      "\n",
      "   micro avg      0.551     0.551     0.551      3100\n",
      "   macro avg      0.635     0.670     0.544      3100\n",
      "weighted avg      0.790     0.551     0.572      3100\n",
      "\n",
      "time: 658 ms\n"
     ]
    }
   ],
   "source": [
    "rf_eval= classifier_eval(rf, x=np.array(x_test), y=y_test, model_name='rf', folder_name=folder)"
   ]
  },
  {
   "cell_type": "code",
   "execution_count": 80,
   "metadata": {},
   "outputs": [
    {
     "name": "stdout",
     "output_type": "stream",
     "text": [
      "/Users/geickelb1/Documents/GitHub/mimiciii-antibiotics-opensource/figures/16122019_48_hr_window\n"
     ]
    },
    {
     "data": {
      "image/png": "[encoded data removed]",
      "text/plain": [
       "<Figure size 432x288 with 1 Axes>"
      ]
     },
     "metadata": {
      "needs_background": "light"
     },
     "output_type": "display_data"
    },
    {
     "name": "stdout",
     "output_type": "stream",
     "text": [
      "\n",
      "******* Using 0.5 Classification Threshold *******\n",
      "\n",
      "[[2171  184]\n",
      " [ 451  294]]\n",
      "the Accuracy is: 0.795\n",
      "npv: 0.828\n",
      "the classification_report:\n",
      "               precision    recall  f1-score   support\n",
      "\n",
      "           0      0.828     0.922     0.872      2355\n",
      "           1      0.615     0.395     0.481       745\n",
      "\n",
      "   micro avg      0.795     0.795     0.795      3100\n",
      "   macro avg      0.722     0.658     0.677      3100\n",
      "weighted avg      0.777     0.795     0.778      3100\n",
      "\n",
      "\n",
      "******* Using Optimal Youden Classification Threshold *******\n",
      "\n",
      "\n",
      "the Youden optimal index is : 0.147\n",
      "[[1052 1303]\n",
      " [  73  672]]\n",
      "the Accuracy is: 0.556\n",
      "npv: 0.935\n",
      "the classification_report:\n",
      "               precision    recall  f1-score   support\n",
      "\n",
      "           0      0.935     0.447     0.605      2355\n",
      "           1      0.340     0.902     0.494       745\n",
      "\n",
      "   micro avg      0.556     0.556     0.556      3100\n",
      "   macro avg      0.638     0.674     0.549      3100\n",
      "weighted avg      0.792     0.556     0.578      3100\n",
      "\n",
      "time: 698 ms\n"
     ]
    }
   ],
   "source": [
    "mlp_eval= classifier_eval(mlp, x=np.array(x_test), y=y_test, model_name='mlp', folder_name=folder)"
   ]
  },
  {
   "cell_type": "code",
   "execution_count": 81,
   "metadata": {},
   "outputs": [
    {
     "name": "stdout",
     "output_type": "stream",
     "text": [
      "/Users/geickelb1/Documents/GitHub/mimiciii-antibiotics-opensource/figures/16122019_48_hr_window\n"
     ]
    },
    {
     "data": {
      "image/png": "[encoded data removed]",
      "text/plain": [
       "<Figure size 432x288 with 1 Axes>"
      ]
     },
     "metadata": {
      "needs_background": "light"
     },
     "output_type": "display_data"
    },
    {
     "name": "stdout",
     "output_type": "stream",
     "text": [
      "\n",
      "******* Using 0.5 Classification Threshold *******\n",
      "\n",
      "[[1757  598]\n",
      " [ 237  508]]\n",
      "the Accuracy is: 0.731\n",
      "npv: 0.881\n",
      "the classification_report:\n",
      "               precision    recall  f1-score   support\n",
      "\n",
      "           0      0.881     0.746     0.808      2355\n",
      "           1      0.459     0.682     0.549       745\n",
      "\n",
      "   micro avg      0.731     0.731     0.731      3100\n",
      "   macro avg      0.670     0.714     0.678      3100\n",
      "weighted avg      0.780     0.731     0.746      3100\n",
      "\n",
      "\n",
      "******* Using Optimal Youden Classification Threshold *******\n",
      "\n",
      "\n",
      "the Youden optimal index is : 0.116\n",
      "[[ 984 1371]\n",
      " [  74  671]]\n",
      "the Accuracy is: 0.534\n",
      "npv: 0.930\n",
      "the classification_report:\n",
      "               precision    recall  f1-score   support\n",
      "\n",
      "           0      0.930     0.418     0.577      2355\n",
      "           1      0.329     0.901     0.482       745\n",
      "\n",
      "   micro avg      0.534     0.534     0.534      3100\n",
      "   macro avg      0.629     0.659     0.529      3100\n",
      "weighted avg      0.786     0.534     0.554      3100\n",
      "\n",
      "time: 1.53 s\n"
     ]
    }
   ],
   "source": [
    "svc_eval= classifier_eval(svc, x=np.array(x_test), y=y_test, model_name='svc', folder_name=folder)"
   ]
  },
  {
   "cell_type": "code",
   "execution_count": 82,
   "metadata": {},
   "outputs": [
    {
     "name": "stdout",
     "output_type": "stream",
     "text": [
      "/Users/geickelb1/Documents/GitHub/mimiciii-antibiotics-opensource/figures/16122019_48_hr_window\n"
     ]
    },
    {
     "data": {
      "image/png": "[encoded data removed]",
      "text/plain": [
       "<Figure size 432x288 with 1 Axes>"
      ]
     },
     "metadata": {
      "needs_background": "light"
     },
     "output_type": "display_data"
    },
    {
     "name": "stdout",
     "output_type": "stream",
     "text": [
      "\n",
      "******* Using 0.5 Classification Threshold *******\n",
      "\n",
      "[[1738  617]\n",
      " [ 222  523]]\n",
      "the Accuracy is: 0.729\n",
      "npv: 0.887\n",
      "the classification_report:\n",
      "               precision    recall  f1-score   support\n",
      "\n",
      "           0      0.887     0.738     0.806      2355\n",
      "           1      0.459     0.702     0.555       745\n",
      "\n",
      "   micro avg      0.729     0.729     0.729      3100\n",
      "   macro avg      0.673     0.720     0.680      3100\n",
      "weighted avg      0.784     0.729     0.745      3100\n",
      "\n",
      "\n",
      "******* Using Optimal Youden Classification Threshold *******\n",
      "\n",
      "\n",
      "the Youden optimal index is : 0.291\n",
      "[[ 990 1365]\n",
      " [  74  671]]\n",
      "the Accuracy is: 0.536\n",
      "npv: 0.930\n",
      "the classification_report:\n",
      "               precision    recall  f1-score   support\n",
      "\n",
      "           0      0.930     0.420     0.579      2355\n",
      "           1      0.330     0.901     0.483       745\n",
      "\n",
      "   micro avg      0.536     0.536     0.536      3100\n",
      "   macro avg      0.630     0.661     0.531      3100\n",
      "weighted avg      0.786     0.536     0.556      3100\n",
      "\n",
      "time: 403 ms\n"
     ]
    }
   ],
   "source": [
    "# logreg_eval= classifier_eval(logreg, x=np.array(x_te\n",
    "st), y=y_test)\n",
    "logreg_eval= classifier_eval(logreg, x=np.array(x_test), y=y_test, model_name='logreg', folder_name=folder)"
   ]
  },
  {
   "cell_type": "code",
   "execution_count": 83,
   "metadata": {},
   "outputs": [
    {
     "name": "stdout",
     "output_type": "stream",
     "text": [
      "/Users/geickelb1/Documents/GitHub/mimiciii-antibiotics-opensource/figures/16122019_48_hr_window\n"
     ]
    },
    {
     "data": {
      "image/png": "[encoded data removed]",
      "text/plain": [
       "<Figure size 432x288 with 1 Axes>"
      ]
     },
     "metadata": {
      "needs_background": "light"
     },
     "output_type": "display_data"
    },
    {
     "name": "stdout",
     "output_type": "stream",
     "text": [
      "\n",
      "******* Using 0.5 Classification Threshold *******\n",
      "\n",
      "[[2327   28]\n",
      " [ 647   98]]\n",
      "the Accuracy is: 0.782\n",
      "npv: 0.782\n",
      "the classification_report:\n",
      "               precision    recall  f1-score   support\n",
      "\n",
      "           0      0.782     0.988     0.873      2355\n",
      "           1      0.778     0.132     0.225       745\n",
      "\n",
      "   micro avg      0.782     0.782     0.782      3100\n",
      "   macro avg      0.780     0.560     0.549      3100\n",
      "weighted avg      0.781     0.782     0.718      3100\n",
      "\n",
      "\n",
      "******* Using Optimal Youden Classification Threshold *******\n",
      "\n",
      "\n",
      "the Youden optimal index is : 0.080\n",
      "[[ 612 1743]\n",
      " [  53  692]]\n",
      "the Accuracy is: 0.421\n",
      "npv: 0.920\n",
      "the classification_report:\n",
      "               precision    recall  f1-score   support\n",
      "\n",
      "           0      0.920     0.260     0.405      2355\n",
      "           1      0.284     0.929     0.435       745\n",
      "\n",
      "   micro avg      0.421     0.421     0.421      3100\n",
      "   macro avg      0.602     0.594     0.420      3100\n",
      "weighted avg      0.767     0.421     0.412      3100\n",
      "\n",
      "time: 3.96 s\n"
     ]
    }
   ],
   "source": [
    "knn_eval= classifier_eval(knn, x=np.array(x_test), y=y_test, model_name='knn', folder_name=folder)"
   ]
  },
  {
   "cell_type": "code",
   "execution_count": 89,
   "metadata": {},
   "outputs": [
    {
     "name": "stdout",
     "output_type": "stream",
     "text": [
      "/Users/geickelb1/Documents/GitHub/mimiciii-antibiotics-opensource/figures/16122019_48_hr_window\n"
     ]
    },
    {
     "data": {
      "image/png": "[encoded data removed]",
      "text/plain": [
       "<Figure size 432x288 with 1 Axes>"
      ]
     },
     "metadata": {
      "needs_background": "light"
     },
     "output_type": "display_data"
    },
    {
     "name": "stdout",
     "output_type": "stream",
     "text": [
      "\n",
      "******* Using 0.5 Classification Threshold *******\n",
      "\n",
      "[[2180  175]\n",
      " [ 448  297]]\n",
      "the Accuracy is: 0.799\n",
      "npv: 0.830\n",
      "the classification_report:\n",
      "               precision    recall  f1-score   support\n",
      "\n",
      "           0      0.830     0.926     0.875      2355\n",
      "           1      0.629     0.399     0.488       745\n",
      "\n",
      "   micro avg      0.799     0.799     0.799      3100\n",
      "   macro avg      0.729     0.662     0.682      3100\n",
      "weighted avg      0.781     0.799     0.782      3100\n",
      "\n",
      "\n",
      "******* Using Optimal Youden Classification Threshold *******\n",
      "\n",
      "\n",
      "the Youden optimal index is : 0.175\n",
      "[[1068 1287]\n",
      " [  74  671]]\n",
      "the Accuracy is: 0.561\n",
      "npv: 0.935\n",
      "the classification_report:\n",
      "               precision    recall  f1-score   support\n",
      "\n",
      "           0      0.935     0.454     0.611      2355\n",
      "           1      0.343     0.901     0.496       745\n",
      "\n",
      "   micro avg      0.561     0.561     0.561      3100\n",
      "   macro avg      0.639     0.677     0.554      3100\n",
      "weighted avg      0.793     0.561     0.583      3100\n",
      "\n",
      "time: 1.77 s\n"
     ]
    }
   ],
   "source": [
    "ensemble_eval= classifier_eval(ensemble, \n",
    "                               x=np.array(x_test),\n",
    "                               y=y_test, \n",
    "                               model_name='ensemble',\n",
    "                               folder_name=folder, save=True)"
   ]
  },
  {
   "cell_type": "markdown",
   "metadata": {},
   "source": [
    "looks like its the rashamon effect that doesn't benefit from ensembling.\n",
    "\n",
    "ie there are hidden variables that can discriminate the patients."
   ]
  },
  {
   "cell_type": "markdown",
   "metadata": {},
   "source": [
    "# classification performance table"
   ]
  },
  {
   "cell_type": "code",
   "execution_count": 90,
   "metadata": {},
   "outputs": [
    {
     "name": "stdout",
     "output_type": "stream",
     "text": [
      "/Users/geickelb1/Documents/GitHub/mimiciii-antibiotics-opensource/tables/16122019_48_hr_window/\n",
      "                          auc     f1    npv  precision  recall\n",
      "model                                                         \n",
      "RandomForestClassifier  0.801  0.491  0.933      0.337   0.901\n",
      "XGBClassifier           0.799  0.489  0.933      0.336   0.901\n",
      "VotingClassifier        0.799  0.496  0.935      0.343   0.901\n",
      "MLPClassifier           0.786  0.494  0.935      0.340   0.902\n",
      "SVC                     0.784  0.482  0.930      0.329   0.901\n",
      "LogisticRegression      0.783  0.483  0.930      0.330   0.901\n",
      "KNeighborsClassifier    0.736  0.435  0.920      0.284   0.929\n",
      "time: 16.7 ms\n"
     ]
    }
   ],
   "source": [
    "test_summary_df= pd.DataFrame([xgboost_eval, rf_eval, logreg_eval,  mlp_eval, svc_eval, knn_eval, ensemble_eval])\n",
    "test_summary_df=test_summary_df.set_index('model').round(decimals=3).sort_values('auc', ascending=False)\n",
    "if save_boolean==True:\n",
    "    save_df(test_summary_df, df_name='default', rel_path='/tables/')\n",
    "print(test_summary_df)"
   ]
  },
  {
   "cell_type": "markdown",
   "metadata": {},
   "source": [
    "# QC: checking performance on training set for xgboost and rf"
   ]
  },
  {
   "cell_type": "code",
   "execution_count": 91,
   "metadata": {},
   "outputs": [
    {
     "data": {
      "image/png": "[encoded data removed]",
      "text/plain": [
       "<Figure size 432x288 with 1 Axes>"
      ]
     },
     "metadata": {
      "needs_background": "light"
     },
     "output_type": "display_data"
    },
    {
     "name": "stdout",
     "output_type": "stream",
     "text": [
      "\n",
      "******* Using 0.5 Classification Threshold *******\n",
      "\n",
      "[[5392  120]\n",
      " [ 869  824]]\n",
      "the Accuracy is: 0.863\n",
      "npv: 0.861\n",
      "the classification_report:\n",
      "               precision    recall  f1-score   support\n",
      "\n",
      "           0      0.861     0.978     0.916      5512\n",
      "           1      0.873     0.487     0.625      1693\n",
      "\n",
      "   micro avg      0.863     0.863     0.863      7205\n",
      "   macro avg      0.867     0.732     0.770      7205\n",
      "weighted avg      0.864     0.863     0.848      7205\n",
      "\n",
      "\n",
      "******* Using Optimal Youden Classification Threshold *******\n",
      "\n",
      "\n",
      "the Youden optimal index is : 0.174\n",
      "[[3833 1679]\n",
      " [ 169 1524]]\n",
      "the Accuracy is: 0.744\n",
      "npv: 0.958\n",
      "the classification_report:\n",
      "               precision    recall  f1-score   support\n",
      "\n",
      "           0      0.958     0.695     0.806      5512\n",
      "           1      0.476     0.900     0.623      1693\n",
      "\n",
      "   micro avg      0.744     0.744     0.744      7205\n",
      "   macro avg      0.717     0.798     0.714      7205\n",
      "weighted avg      0.845     0.744     0.763      7205\n",
      "\n",
      "time: 377 ms\n"
     ]
    }
   ],
   "source": [
    "xgboost_train= classifier_eval(xgboost, x=np.array(x_train), y=y_train, model_name='xgboost_train', folder_name=folder, save=False)"
   ]
  },
  {
   "cell_type": "code",
   "execution_count": 92,
   "metadata": {},
   "outputs": [
    {
     "data": {
      "image/png": "[encoded data removed]",
      "text/plain": [
       "<Figure size 432x288 with 1 Axes>"
      ]
     },
     "metadata": {
      "needs_background": "light"
     },
     "output_type": "display_data"
    },
    {
     "name": "stdout",
     "output_type": "stream",
     "text": [
      "\n",
      "******* Using 0.5 Classification Threshold *******\n",
      "\n",
      "[[5512    0]\n",
      " [  43 1650]]\n",
      "the Accuracy is: 0.994\n",
      "npv: 0.992\n",
      "the classification_report:\n",
      "               precision    recall  f1-score   support\n",
      "\n",
      "           0      0.992     1.000     0.996      5512\n",
      "           1      1.000     0.975     0.987      1693\n",
      "\n",
      "   micro avg      0.994     0.994     0.994      7205\n",
      "   macro avg      0.996     0.987     0.992      7205\n",
      "weighted avg      0.994     0.994     0.994      7205\n",
      "\n",
      "\n",
      "******* Using Optimal Youden Classification Threshold *******\n",
      "\n",
      "\n",
      "the Youden optimal index is : 0.424\n",
      "[[5512    0]\n",
      " [   2 1691]]\n",
      "the Accuracy is: 1.000\n",
      "npv: 1.000\n",
      "the classification_report:\n",
      "               precision    recall  f1-score   support\n",
      "\n",
      "           0      1.000     1.000     1.000      5512\n",
      "           1      1.000     0.999     0.999      1693\n",
      "\n",
      "   micro avg      1.000     1.000     1.000      7205\n",
      "   macro avg      1.000     0.999     1.000      7205\n",
      "weighted avg      1.000     1.000     1.000      7205\n",
      "\n",
      "time: 849 ms\n"
     ]
    }
   ],
   "source": [
    "rf_train= classifier_eval(rf, x=np.array(x_train), y=y_train, model_name='rf_train', folder_name=folder, save=False)"
   ]
  },
  {
   "cell_type": "markdown",
   "metadata": {},
   "source": [
    "# publication figures"
   ]
  },
  {
   "cell_type": "code",
   "execution_count": 93,
   "metadata": {},
   "outputs": [
    {
     "name": "stdout",
     "output_type": "stream",
     "text": [
      "time: 2.99 ms\n"
     ]
    }
   ],
   "source": [
    "# making a model dictionary for ease of use in plotting\n",
    "keys= ['rf', 'xgboost', 'logreg', 'mlp','svc', 'knn', 'ensemble']\n",
    "model_list=[rf, xgboost, logreg, mlp, svc, knn, ensemble]\n",
    "models_dic={}\n",
    "for i in range(0,len(model_list)):\n",
    "    models_dic.update({keys[i] : model_list[i]} )"
   ]
  },
  {
   "cell_type": "markdown",
   "metadata": {},
   "source": [
    "## stacked roc curve "
   ]
  },
  {
   "cell_type": "code",
   "execution_count": 94,
   "metadata": {},
   "outputs": [
    {
     "name": "stdout",
     "output_type": "stream",
     "text": [
      "time: 11.8 ms\n"
     ]
    }
   ],
   "source": [
    "def roc_publishing(model, x, y, proba_input=False,pos_label=1, print_default=True, model_name=None):\n",
    "    import sklearn.metrics as metrics\n",
    "    from sklearn.metrics import precision_score, roc_auc_score, f1_score, recall_score\n",
    "\n",
    "    model_name=type(model).__name__\n",
    "\n",
    "    y_proba = model.predict_proba(x)[:,1]\n",
    "        \n",
    "    fpr, tpr, thresholds = metrics.roc_curve(y, y_proba, pos_label=pos_label)\n",
    "    roc_auc = metrics.auc(fpr, tpr)\n",
    "    \n",
    "    #gathering the optimal youden_index and df of tpr/fpr for auc and index of that optimal youden. idx is needed in the roc\n",
    "    youden_threshold, roc_df, idx= optimal_youden_index(fpr, tpr, thresholds, tp90=True)\n",
    "    \n",
    "    return(fpr, tpr, roc_auc, roc_df, idx)"
   ]
  },
  {
   "cell_type": "code",
   "execution_count": 95,
   "metadata": {},
   "outputs": [
    {
     "name": "stdout",
     "output_type": "stream",
     "text": [
      "time: 111 ms\n"
     ]
    }
   ],
   "source": [
    "def stacked_roc(x_test, y_test, models_dic, first_bold=True):\n",
    "    \"\"\"\n",
    "    plotting function to plot a stacked ROC based on models in a dictionary. \n",
    "    first_bold=True means that the first model in the dic will stand out and be a solid line, while others are dotted\n",
    "    \"\"\"\n",
    "    \n",
    "    global save_boolean\n",
    "    \n",
    "    plt.style.use('seaborn-white')\n",
    "    plt.rcParams['figure.figsize'] = [7, 4]\n",
    "    \n",
    "    if first_bold==True: i=0\n",
    "    else: i=1\n",
    "        \n",
    "#         #####\n",
    "#     y_proba = model.predict_proba(x)[:,1]\n",
    "        \n",
    "#     fpr, tpr, thresholds = metrics.roc_curve(y, y_proba, pos_label=pos_label)\n",
    "#     roc_auc = metrics.auc(fpr, tpr)\n",
    "    \n",
    "#     #gathering the optimal youden_index and df of tpr/fpr for auc and index of that optimal youden. idx is needed in the roc\n",
    "#     youden_threshold, roc_df, idx= optimal_youden_index(fpr, tpr, thresholds,tp90=True)\n",
    "\n",
    "#     #plotting roc\n",
    "#     plot_roc(fpr, tpr, roc_auc, roc_df, idx, save=save, model_name=model_name,folder_name=folder)    \n",
    "#         ######\n",
    "        \n",
    "    for model_name in models_dic.keys():\n",
    "        #ax4= plt.plot(fpr, tpr, label = '%s AUC = %0.3f' % (model_name, roc_auc), linestyle='dotted')\n",
    "        if i==0:\n",
    "            model=models_dic[model_name]\n",
    "            fpr, tpr, roc_auc, roc_df, idx= roc_publishing(model, x=np.array(x_test), y=y_test, model_name=model_name)\n",
    "            print(model_name, roc_auc)\n",
    "            ax1= plt.plot(fpr, tpr, 'b', label = '%s AUC = %0.3f' % (model_name, roc_auc), linewidth=2)\n",
    "            og_idx=roc_df.iloc[(roc_df['thresholds']-0.5).abs().argsort()[:1]].index[0]\n",
    "#             plt.plot(roc_df.iloc[og_idx,1], roc_df.iloc[og_idx,2],marker='o', markersize=8, color=\"black\")\n",
    "#             plt.plot(roc_df.iloc[idx,1], roc_df.iloc[idx,2],marker='o', markersize=6, color='r') ##\n",
    "        \n",
    "        else:\n",
    "            model=models_dic[model_name]\n",
    "            fpr, tpr, roc_auc, roc_df, idx= roc_publishing(model, x=np.array(x_test), y=y_test, model_name=model_name)\n",
    "            print(model_name, roc_auc)\n",
    "            ax1= plt.plot(fpr, tpr, label = '%s AUC = %0.3f' % (model_name, roc_auc), linestyle='dotted')\n",
    "            og_idx=roc_df.iloc[(roc_df['thresholds']-0.5).abs().argsort()[:1]].index[0]\n",
    "#             plt.plot(roc_df.iloc[og_idx,1], roc_df.iloc[og_idx,2],marker='o', markersize=8, color=\"black\")\n",
    "#             plt.plot(roc_df.iloc[idx,1], roc_df.iloc[idx,2],marker='o', markersize=6, color='r') ##\n",
    "        i+=1\n",
    "        \n",
    "    ###annotating the plot\n",
    "    plt.legend(loc = 'lower right')   \n",
    "#     plt.annotate(s=\"P(0.5)\",xy=(0.71, 0.50),color='black', size=10) #textcoords #alt: xy=(0.78, 0.345)\n",
    "#     plt.plot(0.68, 0.51, 'ro', color='black') #alt: (0.73, 0.36, 'ro', color='black')\n",
    "#     plt.annotate(s=\"P(tuned)\",xy=(0.71, 0.56),color='black', size=10) #textcoords #alt: xy=(0.78, 0.405)\n",
    "#     plt.plot(0.68, 0.57, 'ro', color='r') #alt: (0.73, 0.42, 'ro', color='r')\n",
    "\n",
    "    plt.xlim([0, 1])\n",
    "    plt.ylim([0, 1])\n",
    "    plt.ylabel('True Positive Rate', size=14)\n",
    "    plt.xlabel('False Positive Rate', size=14)\n",
    "\n",
    "    if save_boolean==True:\n",
    "        saveplot(plt,'stacked_roc')\n",
    "    else: pass\n",
    "    plt.show()"
   ]
  },
  {
   "cell_type": "code",
   "execution_count": 96,
   "metadata": {},
   "outputs": [
    {
     "data": {
      "text/plain": [
       "dict_keys(['rf', 'xgboost', 'logreg', 'mlp', 'svc', 'knn', 'ensemble'])"
      ]
     },
     "execution_count": 96,
     "metadata": {},
     "output_type": "execute_result"
    },
    {
     "name": "stdout",
     "output_type": "stream",
     "text": [
      "time: 2.81 ms\n"
     ]
    }
   ],
   "source": [
    "models_dic.keys()"
   ]
  },
  {
   "cell_type": "code",
   "execution_count": 97,
   "metadata": {},
   "outputs": [
    {
     "name": "stdout",
     "output_type": "stream",
     "text": [
      "rf 0.8010721155901338\n",
      "xgboost 0.7987885264822809\n",
      "logreg 0.7832211915245302\n",
      "mlp 0.7856230496302312\n",
      "svc 0.7835158665697715\n",
      "knn 0.7359614699553998\n",
      "ensemble 0.7992054603228886\n",
      "/Users/geickelb1/Documents/GitHub/mimiciii-antibiotics-opensource/figures/16122019_48_hr_window\n"
     ]
    },
    {
     "data": {
      "image/png": "[encoded data removed]",
      "text/plain": [
       "<Figure size 504x288 with 1 Axes>"
      ]
     },
     "metadata": {},
     "output_type": "display_data"
    },
    {
     "name": "stdout",
     "output_type": "stream",
     "text": [
      "time: 3.37 s\n"
     ]
    }
   ],
   "source": [
    "stacked_roc(x_test, y_test, models_dic, first_bold=False)"
   ]
  },
  {
   "cell_type": "markdown",
   "metadata": {},
   "source": [
    "# "
   ]
  },
  {
   "cell_type": "markdown",
   "metadata": {},
   "source": [
    "# variable importance\n",
    "* first: find the top N (default=10) most important variables for each model\n",
    "* second: make a set of all unique variables present in the combined list of all models top N variables = varimp_set\n",
    "* find the variable importances for each model for varimp_set variables\n",
    "* scale the variable importance for each model relative to the MOST IMPORTANT VARIABLE:\n",
    " * ie: var1= 50 (max); var2= 25; var3= 5 --> varimp: var1=100, var2=50, var3=10\n",
    "* plot these as a line plot in descending order for the best performing model"
   ]
  },
  {
   "cell_type": "code",
   "execution_count": 99,
   "metadata": {},
   "outputs": [
    {
     "name": "stdout",
     "output_type": "stream",
     "text": [
      "time: 940 µs\n"
     ]
    }
   ],
   "source": [
    "from parameters import n_varimp"
   ]
  },
  {
   "cell_type": "code",
   "execution_count": 100,
   "metadata": {},
   "outputs": [
    {
     "name": "stdout",
     "output_type": "stream",
     "text": [
      "time: 38.4 ms\n"
     ]
    }
   ],
   "source": [
    "def find_N_varimp_set(x_train, models_dic):\n",
    "    \"\"\"\n",
    "    function that takes in a dictionary of models and the x_train dataframe and returns the set of variables present in the combined list of each model's top N most important variables.\n",
    "    1) find top N variables for each model\n",
    "    2) make list of all models top N\n",
    "    3) filter to only unique values in list = varimp_names\n",
    "    \"\"\"\n",
    "    global n_varimp\n",
    "    features_dic={}\n",
    "    top_set_dic={}\n",
    "\n",
    "    for model_name in models_dic.keys():\n",
    "        model= models_dic[model_name]\n",
    "        print(model_name)\n",
    "        if model_name in ['knn','ensemble', 'mlp']:\n",
    "            pass\n",
    "        elif model_name in ['logreg','svc']:\n",
    "            feature_importance = abs(model.coef_[0])\n",
    "            sorted_idx = np.argsort(feature_importance)[-n_varimp:]#[0]\n",
    "            features =list(np.array(x_train.columns)[sorted_idx][-n_varimp:])\n",
    "            features_dic.update( {model_name :features } )\n",
    "        else:\n",
    "            feat_importances = pd.Series(model.feature_importances_, index=x_train.columns)\n",
    "            features=feat_importances.nlargest(n_varimp).sort_values()\n",
    "            features=list(features.reset_index()['index'])\n",
    "            features_dic.update( {model_name :features } )\n",
    "    #######\n",
    "    set_features=[]\n",
    "\n",
    "    for features in features_dic.values():\n",
    "        set_features=set_features+features\n",
    "    set_features=set(set_features)\n",
    "    varimp_names=list(set_features)\n",
    "\n",
    "    return(varimp_names)"
   ]
  },
  {
   "cell_type": "code",
   "execution_count": 101,
   "metadata": {},
   "outputs": [
    {
     "name": "stdout",
     "output_type": "stream",
     "text": [
      "time: 32.8 ms\n"
     ]
    }
   ],
   "source": [
    "def topN_rel_imp(models_dic, varimp_names):\n",
    "    \"\"\"\n",
    "    input:dictionary of models and the top N set of important variables among models\n",
    "    output: relative variable importance for each model of all set(varimp_names) variables.\n",
    "    note: relative variable importance determined by dividing each variable importance by the value of the most important variable. this makes all values a comparison to the most important varaible:\n",
    "    ie 50 rel variable importance = half as important as the most important variable\n",
    "    \"\"\"\n",
    "    \n",
    "    # finding the index of the set(varimp_names) in the dataframe.  \n",
    "    #getting index of the set(top10) variables in x_train\n",
    "    xtrain_column_index_list=[]\n",
    "    for element in varimp_names:\n",
    "        variable_index=list(x_train).index(element)\n",
    "        xtrain_column_index_list.append(variable_index)\n",
    "    \n",
    "    top_set_dic={} #instantiating dictionary\n",
    "    for model_name in models_dic.keys(): ##now that we have set of top N variables for each model. we can make relative importance for all unique variables in the set\n",
    "        model= models_dic[model_name]\n",
    "        if model_name in ['knn','ensemble', 'mlp']:\n",
    "            pass\n",
    "        \n",
    "        elif model_name in ['logreg','svc']: \n",
    "            imp= abs(model.coef_[0])[xtrain_column_index_list]\n",
    "            rel_imp=100.0 * (imp / imp.max())\n",
    "            features =list(np.array(x_train.columns)[xtrain_column_index_list])#[-n_varimp:])\n",
    "            top_set= pd.Series(rel_imp,features).sort_values()\n",
    "            top_set_dic.update( {model_name :top_set } )\n",
    "\n",
    "        else:\n",
    "            imp=pd.Series(models_dic[model_name].feature_importances_, index=x_train.columns)[xtrain_column_index_list]\n",
    "            imp=imp.sort_values()\n",
    "            rel_imp=100.0 * (imp / imp.max())\n",
    "            features =list(np.array(x_train.columns)[xtrain_column_index_list])\n",
    "            top_set= rel_imp\n",
    "            top_set_dic.update( {model_name :top_set } )\n",
    "\n",
    "    return(top_set_dic)"
   ]
  },
  {
   "cell_type": "code",
   "execution_count": 102,
   "metadata": {},
   "outputs": [
    {
     "name": "stdout",
     "output_type": "stream",
     "text": [
      "time: 12.4 ms\n"
     ]
    }
   ],
   "source": [
    "def roc_name_adjust(varimp_names):\n",
    "    \"\"\"\n",
    "    cleans up the column names for the variable importance plot for publishing\n",
    "    \"\"\"\n",
    "    adjusted_names=[]\n",
    "    mapper={'vent_recieved_2.0': 'mechanical ventilation recieved',\n",
    "            'vent_recieved_1.0': 'oxygen ventilation recieved',\n",
    "            'vent_recieved_1.0': 'no ventilation recieved',\n",
    "            'pao2fio2ratio':'PaO2:FiO2',\n",
    "#             'pao2fio2ratio_(475, 3000]': 'PaO2:FiO2 (475-3000)',\n",
    "#             'pao2fio2ratio_(200, 333]': 'PaO2:FiO2 (200-333)',\n",
    "#             'pao2fio2ratio_(333, 475]': 'PaO2:FiO2 (333-475)',\n",
    "            'ipco2_>50': 'pCO2 (>50)',\n",
    "            'ibands_>10': 'bands (>10)',\n",
    "            'ibands_absent': 'bands (missing)'}\n",
    "    \n",
    "    for element in varimp_names:\n",
    "        if element in mapper.keys():\n",
    "            element= mapper[element]\n",
    "            adjusted_names.append(element)\n",
    "        elif \"_1.0\" in element:\n",
    "            element= element.strip(\"_1.0\") + ' (Y/N)'\n",
    "            adjusted_names.append(element)\n",
    "        else:\n",
    "            adjusted_names.append(element)\n",
    "        \n",
    "    return(adjusted_names)"
   ]
  },
  {
   "cell_type": "code",
   "execution_count": 103,
   "metadata": {},
   "outputs": [
    {
     "name": "stdout",
     "output_type": "stream",
     "text": [
      "time: 21.6 ms\n"
     ]
    }
   ],
   "source": [
    "def plot_topN_rel_imp(top_set_dic, varimp_names, xvar_rotation=80):\n",
    "    \"\"\"\n",
    "    plot the variable importance plots as a lineplot\n",
    "    rotation: the amount of xvar rotation\n",
    "    \"\"\"\n",
    "    global save_boolean\n",
    "    \n",
    "    df_base=pd.DataFrame(index=varimp_names)  \n",
    "\n",
    "    for model_name in top_set_dic.keys():\n",
    "        df_base[model_name]= top_set_dic[model_name]\n",
    "\n",
    "    adjusted_names=roc_name_adjust(varimp_names)\n",
    "    df_base.index=adjusted_names\n",
    "    df_base.sort_values('rf', ascending=False)\n",
    "\n",
    "    plt.style.use('seaborn-ticks')\n",
    "    plt.rcParams['figure.figsize'] = [10,10]#[7, 7]\n",
    "    plt.plot(df_base.sort_values('rf', ascending=True))\n",
    "    #plt.set_xticklabels(adjusted_names,rotation=30)\n",
    "    plt.xticks(rotation=xvar_rotation)#, ha='right')\n",
    "    plt.ylabel(\"Relative Variable Importance\")\n",
    "    plt.legend(list(df_base))\n",
    "    \n",
    "    if save_boolean==True:\n",
    "        saveplot(plt,'variable_importance')\n",
    "\n",
    "    return(df_base)"
   ]
  },
  {
   "cell_type": "code",
   "execution_count": 104,
   "metadata": {},
   "outputs": [
    {
     "name": "stdout",
     "output_type": "stream",
     "text": [
      "rf\n",
      "xgboost\n",
      "logreg\n",
      "mlp\n",
      "svc\n",
      "knn\n",
      "ensemble\n",
      "/Users/geickelb1/Documents/GitHub/mimiciii-antibiotics-opensource/figures/16122019_48_hr_window\n"
     ]
    },
    {
     "data": {
      "image/png": "[encoded data removed]",
      "text/plain": [
       "<Figure size 720x720 with 1 Axes>"
      ]
     },
     "metadata": {},
     "output_type": "display_data"
    },
    {
     "name": "stdout",
     "output_type": "stream",
     "text": [
      "time: 629 ms\n"
     ]
    }
   ],
   "source": [
    "#find set(topN) variables\n",
    "varimp_names= find_N_varimp_set(x_train, models_dic)\n",
    "\n",
    "#find rel importance of set(topN) variables for each model\n",
    "top_set_dic= topN_rel_imp(models_dic, varimp_names)\n",
    "\n",
    "#plot the variable importance plot\n",
    "topN_rel_imp_df= plot_topN_rel_imp(top_set_dic, varimp_names, xvar_rotation=80)"
   ]
  },
  {
   "cell_type": "code",
   "execution_count": 105,
   "metadata": {},
   "outputs": [
    {
     "name": "stdout",
     "output_type": "stream",
     "text": [
      "time: 6.12 ms\n"
     ]
    }
   ],
   "source": [
    "all_features=[\n",
    "    'bilirubin','bun','chloride',\n",
    "     'creatinine','glucose','heartrate',\n",
    "     'inr','lactate','potassium',\n",
    "     'ptt','resprate','sum_elix',\n",
    "     'temperature','bicarbonate','diasbp',\n",
    "     'hemoglobin','meanartpress','mingcs',\n",
    "     'pao2fio2ratio','ph','platelet',\n",
    "     'spo2','sysbp','maxCalcium',\n",
    "     'maxSodium','maxWBC','minCalcium',\n",
    "     'minSodium','minWBC','weight',\n",
    "     'yearsold','ethnicity_black','ethnicity_hispanic',\n",
    "     'ethnicity_unknown/other','ethnicity_white/nonhispanic','bands_>10',\n",
    "     'bands_absent','pco2_>50','pco2_absent',\n",
    "     'any_vasoactives_recieved','leukocyte_pos','nitrite_pos',\n",
    "     'vent_recieved_None','vent_recieved_Oxygen','dobutamine_recieved',\n",
    "     'gender_M','gender_NA','dopamine_recieved',\n",
    "     'epinephrine_recieved','norepinephrine_recieved','phenylephrine_recieved',\n",
    "     'rrt_recieved','vasopressin_recieved','cancer_elix_no_cancer_cormorb'\n",
    "]"
   ]
  },
  {
   "cell_type": "markdown",
   "metadata": {},
   "source": [
    "# Model Saving"
   ]
  },
  {
   "cell_type": "code",
   "execution_count": null,
   "metadata": {},
   "outputs": [],
   "source": [
    "def model_save(model, model_name):\n",
    "    import pickle\n",
    "    modelpath=str(repository_path)+'/models/{}_{}'.format(date,folder)\n",
    "\n",
    "    if not os.path.exists(modelpath):\n",
    "        print(modelpath)\n",
    "        os.makedirs(modelpath)\n",
    "\n",
    "    filename = str(modelpath)+'/finalized_{}.sav'.format(model_name)\n",
    "    pickle.dump(model, open(filename, 'wb'))"
   ]
  },
  {
   "cell_type": "code",
   "execution_count": null,
   "metadata": {},
   "outputs": [],
   "source": [
    "model_save(xgboost,'xgboost')\n",
    "model_save(rf,'rf')\n",
    "model_save(logreg,'logreg')\n",
    "model_save(svc,'svc')\n",
    "model_save(knn,'knn')\n",
    "model_save(mlp,'mlp')\n",
    "model_save(ensemble,'ensemble')"
   ]
  },
  {
   "cell_type": "code",
   "execution_count": null,
   "metadata": {},
   "outputs": [],
   "source": [
    "folder"
   ]
  },
  {
   "cell_type": "code",
   "execution_count": null,
   "metadata": {},
   "outputs": [],
   "source": [
    "date"
   ]
  },
  {
   "cell_type": "code",
   "execution_count": null,
   "metadata": {},
   "outputs": [],
   "source": []
  },
  {
   "cell_type": "markdown",
   "metadata": {},
   "source": [
    "cool model debugging code, useful to make validation curves across hyperparameters:"
   ]
  },
  {
   "cell_type": "code",
   "execution_count": null,
   "metadata": {},
   "outputs": [],
   "source": [
    "# def val_curve_plot(train_scoreNum, test_scoreNum, param_range, param_name, rename_x_tick=False, param_range_name=['0','1']):\n",
    "#     \"\"\"quick function to plot a validation curve across different hyperparameters\"\"\"\n",
    "#     plt.rcParams['figure.figsize'] = [7, 4]\n",
    "    \n",
    "#     train_scores_mean = np.mean(train_scoreNum, axis=1)\n",
    "#     train_scores_std = np.std(train_scoreNum, axis=1)\n",
    "#     test_scores_mean = np.mean(test_scoreNum, axis=1)\n",
    "#     test_scores_std = np.std(test_scoreNum, axis=1)\n",
    "\n",
    "#     plt.title(\"Validation Curve with RF and parameter:{}\".format(param_name))\n",
    "#     plt.xlabel(r\"$\\gamma$\")\n",
    "#     plt.ylabel(\"Score\")\n",
    "#     plt.ylim(0.6, 1.1)\n",
    "#     try:\n",
    "#         plt.xlim(0, max(param_range))\n",
    "#     except TypeError:\n",
    "#         pass\n",
    "#     lw = 2\n",
    "\n",
    "#     if rename_x_tick==False:\n",
    "#         param_range_name=param_range\n",
    "#     plt.errorbar(param_range_name,train_scores_mean, yerr=train_scores_std, alpha=0.6, color='darkorange', lw=lw, label='train')\n",
    "#     plt.errorbar(param_range_name,test_scores_mean, yerr=test_scores_std, alpha=0.6, color='blue', lw=lw, label='test')\n",
    "#     plt.legend(loc='best')\n",
    "#     plt.show()"
   ]
  },
  {
   "cell_type": "code",
   "execution_count": null,
   "metadata": {},
   "outputs": [],
   "source": [
    "# from sklearn.model_selection import validation_curve\n",
    "\n",
    "# param_range=[2, 10, 15, 25, 35, 50, 200]#[100, 300, 500, 750, 800, 1200]\n",
    "\n",
    "# train_scoreNum, test_scoreNum = validation_curve(\n",
    "#                                 RandomForestClassifier(),\n",
    "#                                 X = x, y = y, \n",
    "#                                 param_name = 'n_estimators', \n",
    "#                                 param_range = param_range, cv = 5)\n",
    "\n",
    "# val_curve_plot(train_scoreNum, test_scoreNum, param_range, param_name='n_estimators')"
   ]
  },
  {
   "cell_type": "code",
   "execution_count": null,
   "metadata": {},
   "outputs": [],
   "source": [
    "#list(x_train2.loc[:,[x for x in list(x_train2) if x not in categorical]])"
   ]
  },
  {
   "cell_type": "code",
   "execution_count": null,
   "metadata": {},
   "outputs": [],
   "source": []
  },
  {
   "cell_type": "markdown",
   "metadata": {},
   "source": [
    "# exploring LIME visualization package (depreciated at current point)"
   ]
  },
  {
   "cell_type": "code",
   "execution_count": null,
   "metadata": {},
   "outputs": [],
   "source": [
    "# x_train2=x_train.copy()"
   ]
  },
  {
   "cell_type": "code",
   "execution_count": null,
   "metadata": {},
   "outputs": [],
   "source": [
    "# # trying to get LIME package working\n",
    "# import lime\n",
    "# import lime.lime_tabular"
   ]
  },
  {
   "cell_type": "code",
   "execution_count": null,
   "metadata": {},
   "outputs": [],
   "source": [
    "# explainer = lime.lime_tabular.LimeTabularExplainer(np.array(x_train), feature_names=list(x_train), class_names=[0,1], discretize_continuous=True)\n",
    "\n",
    "# explainer = lime.lime_tabular.LimeTabularExplainer(train ,feature_names = feature_names,class_names=class_names,\n",
    "#                                                    categorical_features=categorical_features, \n",
    "#                                                    categorical_names=categorical_names, kernel_width=3"
   ]
  },
  {
   "cell_type": "code",
   "execution_count": null,
   "metadata": {},
   "outputs": [],
   "source": [
    "# i = np.random.randint(0, x_test.shape[0])\n",
    "# exp = explainer.explain_instance(np.array(x_test)[i], rf.predict_proba, num_features=len(list(x_train)), top_labels=1)\n",
    "# exp.show_in_notebook(show_table=True, show_all=False)"
   ]
  },
  {
   "cell_type": "code",
   "execution_count": null,
   "metadata": {},
   "outputs": [],
   "source": [
    "# y_test[i]"
   ]
  },
  {
   "cell_type": "code",
   "execution_count": null,
   "metadata": {},
   "outputs": [],
   "source": [
    "# np.array(x_test)[i]"
   ]
  },
  {
   "cell_type": "code",
   "execution_count": null,
   "metadata": {},
   "outputs": [],
   "source": [
    "# x_test.iloc[i,:5]"
   ]
  },
  {
   "cell_type": "code",
   "execution_count": null,
   "metadata": {},
   "outputs": [],
   "source": [
    "# exp = explainer.explain_instance(np.array(x_test)[i], xgboost.predict_proba, num_features=len(list(x_train)), top_labels=1)\n",
    "# exp.show_in_notebook(show_table=True, show_all=False)"
   ]
  },
  {
   "cell_type": "code",
   "execution_count": null,
   "metadata": {},
   "outputs": [],
   "source": []
  },
  {
   "cell_type": "markdown",
   "metadata": {},
   "source": [
    "Now, there is a lot going on here. First, note that the row we are explained is displayed on the right side, in table format. Since we had the show_all parameter set to false, only the features used in the explanation are displayed.\n",
    "\n",
    "The value column displays the original value for each feature.\n",
    "\n",
    "Note that LIME has discretized the features in the explanation. This is because we let discretize_continuous=True in the constructor (this is the default). Discretized features make for more intuitive explanations."
   ]
  },
  {
   "cell_type": "code",
   "execution_count": null,
   "metadata": {},
   "outputs": [],
   "source": [
    "folder"
   ]
  },
  {
   "cell_type": "code",
   "execution_count": null,
   "metadata": {},
   "outputs": [],
   "source": []
  }
 ],
 "metadata": {
  "kernelspec": {
   "display_name": "Python 3",
   "language": "python",
   "name": "python3"
  },
  "language_info": {
   "codemirror_mode": {
    "name": "ipython",
    "version": 3
   },
   "file_extension": ".py",
   "mimetype": "text/x-python",
   "name": "python",
   "nbconvert_exporter": "python",
   "pygments_lexer": "ipython3",
   "version": "3.6.10"
  }
 },
 "nbformat": 4,
 "nbformat_minor": 4
}
