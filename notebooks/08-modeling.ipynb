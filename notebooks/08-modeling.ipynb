{
 "cells": [
  {
   "cell_type": "code",
   "execution_count": 1,
   "metadata": {},
   "outputs": [],
   "source": [
    "import pandas as pd\n",
    "import matplotlib.pyplot as plt\n",
    "import os, sys\n",
    "from pathlib import Path\n",
    "import seaborn as sns\n",
    "import numpy as np\n",
    "import glob\n",
    "from sklearn.metrics import confusion_matrix, classification_report, roc_curve, roc_auc_score, accuracy_score, auc, precision_recall_fscore_support, pairwise, f1_score, log_loss, make_scorer\n",
    "from sklearn.metrics import precision_score, recall_score\n",
    "from sklearn import metrics\n",
    "from sklearn.datasets import make_classification\n",
    "from sklearn.ensemble import RandomForestClassifier\n",
    "from sklearn.externals.joblib import Memory\n",
    "from sklearn.preprocessing import MinMaxScaler, OneHotEncoder, Imputer\n",
    "from sklearn.model_selection import StratifiedKFold, GridSearchCV, RandomizedSearchCV\n",
    "from sklearn.linear_model import LogisticRegression\n",
    "from sklearn.utils import validation\n",
    "from scipy.sparse import issparse\n",
    "from scipy.spatial import distance\n",
    "from sklearn import svm\n",
    "\n",
    "#importin xg boost and all needed otherstuff\n",
    "from sklearn.ensemble import RandomForestClassifier, GradientBoostingClassifier\n",
    "from xgboost import XGBClassifier #conda install -c conda-forge xgboost to install\n",
    "##adding these, lets see if it helps with xgboost crash\n",
    "os.environ['KMP_DUPLICATE_LIB_OK']='True'\n",
    "\n",
    "#reducing warnings that are super common in my model\n",
    "import warnings\n",
    "from sklearn.exceptions import DataConversionWarning\n",
    "warnings.simplefilter(action='ignore') #ignore all warnings\n",
    "\n",
    "#memory = Memory(cachedir='/tmp', verbose=0)\n",
    "#@memory.cache above any def fxn.\n",
    "\n",
    "RANDOM_STATE = 15485867\n",
    "\n",
    "%matplotlib inline\n",
    "plt.style.use('seaborn-white')\n",
    "\n",
    "from notebook.services.config import ConfigManager\n",
    "cm = ConfigManager()\n",
    "cm.update('livereveal', {\n",
    "        'width': 1024,\n",
    "        'height': 768,\n",
    "        'scroll': True,\n",
    "})\n",
    "\n",
    "%load_ext autotime"
   ]
  },
  {
   "cell_type": "code",
   "execution_count": 91,
   "metadata": {},
   "outputs": [
    {
     "name": "stdout",
     "output_type": "stream",
     "text": [
      "time: 2.12 ms\n"
     ]
    }
   ],
   "source": [
    "def save_df(df, df_name='default', rel_path='/data/final/', verbose=True):\n",
    "    \"\"\"\n",
    "    simple function for saving result table. uses the date and supplied df name and saves to the savepath specified above.\n",
    "    \"\"\"\n",
    "    global folder\n",
    "    \n",
    "    save_path= str(repository_path)+rel_path\n",
    "    \n",
    "    address=save_path+'{}_{}/'.format(date,folder)\n",
    "    if not os.path.exists(address):\n",
    "        if verbose==True:\n",
    "            print(address)\n",
    "        os.makedirs(address)\n",
    "    else:\n",
    "        if verbose==True:\n",
    "            print(address)\n",
    "        \n",
    "    if address.endswith('/')==False:\n",
    "        address= address+'/'\n",
    "        \n",
    "    if df_name == 'default':\n",
    "        df_name =[x for x in globals() if globals()[x] is df][0]\n",
    "        \n",
    "    pd.DataFrame(df).to_csv(Path(address+'{}_{}.csv'.format(date, df_name)))\n"
   ]
  },
  {
   "cell_type": "markdown",
   "metadata": {},
   "source": [
    "## importing datasets"
   ]
  },
  {
   "cell_type": "code",
   "execution_count": 3,
   "metadata": {},
   "outputs": [
    {
     "name": "stdout",
     "output_type": "stream",
     "text": [
      "time: 1.01 s\n"
     ]
    }
   ],
   "source": [
    "#patients of interest from rotation_cohort_generation\n",
    "from parameters import final_pt_df_v, date, repository_path, lower_window, upper_window, folder, date, time_col, time_var, patient_df, categorical, save_boolean\n",
    "#patients of interest from rotation_cohort_generation\n",
    "final_pt_df2 = final_pt_df_v #pd.read_csv('/Users/geickelb1/Documents/GitHub/mimiciii-antibiotics-modeling/data/raw/csv/%s_final_pt_df2.csv'%(most_updated_patient_df), index_col=0)\n",
    "del(final_pt_df_v)\n",
    "\n",
    "patients= list(final_pt_df2['subject_id'].unique())\n",
    "hadm_id= list(final_pt_df2['hadm_id'].unique())\n",
    "icustay_id= list(final_pt_df2['icustay_id'].unique())\n",
    "icustay_id= [int(x) for x in icustay_id]"
   ]
  },
  {
   "cell_type": "code",
   "execution_count": 4,
   "metadata": {},
   "outputs": [
    {
     "data": {
      "text/plain": [
       "'72_hr_window'"
      ]
     },
     "execution_count": 4,
     "metadata": {},
     "output_type": "execute_result"
    },
    {
     "name": "stdout",
     "output_type": "stream",
     "text": [
      "time: 3.18 ms\n"
     ]
    }
   ],
   "source": [
    "folder"
   ]
  },
  {
   "cell_type": "code",
   "execution_count": 5,
   "metadata": {},
   "outputs": [
    {
     "name": "stdout",
     "output_type": "stream",
     "text": [
      "time: 228 µs\n"
     ]
    }
   ],
   "source": [
    "# ###########\n",
    "# save_boolean=False\n",
    "# ############"
   ]
  },
  {
   "cell_type": "code",
   "execution_count": 6,
   "metadata": {},
   "outputs": [
    {
     "name": "stdout",
     "output_type": "stream",
     "text": [
      "time: 1.47 ms\n"
     ]
    }
   ],
   "source": [
    "\n",
    "def data_import(allFiles):\n",
    "    \"\"\"\n",
    "    function to import x_train, x_test, y_train, and y_test using glob of the data/final folder.\n",
    "    \"\"\"\n",
    "    for name in allFiles:\n",
    "        if 'test' in name:\n",
    "            if 'x_' in name:\n",
    "                x_test = pd.read_csv(name,  index_col=0)\n",
    "            elif '_y_' in name:\n",
    "                 y_test = pd.read_csv(name,  index_col=0)\n",
    "            else:\n",
    "                icu_test=pd.read_csv(name,  index_col=0)\n",
    "        elif 'train' in name:\n",
    "            if 'x_' in name:\n",
    "                x_train = pd.read_csv(name,  index_col=0)\n",
    "            elif '_y_' in name:\n",
    "                 y_train = pd.read_csv(name,  index_col=0)\n",
    "            else:\n",
    "                icu_train=pd.read_csv(name,  index_col=0)\n",
    "            \n",
    "    return(x_train, x_test, y_train, y_test, icu_train, icu_test)"
   ]
  },
  {
   "cell_type": "code",
   "execution_count": 7,
   "metadata": {},
   "outputs": [
    {
     "name": "stdout",
     "output_type": "stream",
     "text": [
      "time: 209 ms\n"
     ]
    }
   ],
   "source": [
    "#importing x and y train and test, as well as icustay id and holdout longneg set\n",
    "\n",
    "allFiles = glob.glob(str(repository_path)+ '/data/final/{}_{}/'.format(date,folder) + \"*.csv\")\n",
    "\n",
    "x_train, x_test, y_train, y_test, icu_train, icu_test= data_import(allFiles)\n",
    "\n",
    "x_longneg= pd.read_csv(str(repository_path)+ '/data/final/{}_{}/{}_x_longneg_final.csv'.format(date,'24_hr_window',date), index_col=0)\n",
    "y_longneg= pd.read_csv(str(repository_path)+ '/data/final/{}_{}/{}_y_longneg_final.csv'.format(date,'24_hr_window',date), index_col=0)"
   ]
  },
  {
   "cell_type": "markdown",
   "metadata": {},
   "source": [
    "### formatting x and y for modleing"
   ]
  },
  {
   "cell_type": "code",
   "execution_count": 8,
   "metadata": {},
   "outputs": [
    {
     "name": "stdout",
     "output_type": "stream",
     "text": [
      "time: 29.5 ms\n"
     ]
    }
   ],
   "source": [
    "x=np.array(x_train.copy())\n",
    "y=y_train.copy() #copy of y_train\n",
    "y=y.astype('int')\n",
    "y=np.array(y).ravel()\n",
    "#time_interval=4\n",
    "z_subject_id= pd.merge(pd.DataFrame(icu_train), final_pt_df2[['icustay_id','subject_id']], how='left')['subject_id'] #7205\n"
   ]
  },
  {
   "cell_type": "markdown",
   "metadata": {},
   "source": [
    "# Modelbuilding\n",
    "## test entire trainset and predict trainset.\n",
    "* step1) hypertune and evaluate models on 10fold cv.  \n",
    "* step2) test entire train set and predict testset.\n",
    "* step3) generate figures"
   ]
  },
  {
   "cell_type": "code",
   "execution_count": 9,
   "metadata": {},
   "outputs": [
    {
     "name": "stdout",
     "output_type": "stream",
     "text": [
      "time: 655 µs\n"
     ]
    }
   ],
   "source": [
    "from parameters import nfolds, scoring, n_iter, gridsearch\n",
    "##defaults\n",
    "# nfolds=10\n",
    "# scoring='roc_auc'\n",
    "# n_iter=20 #for gridsearch\n",
    "# gridsearch=False #gridsearch=False means it does triaged hyperparameter combinations based on some algorithm. True= tests all \n"
   ]
  },
  {
   "cell_type": "code",
   "execution_count": 10,
   "metadata": {},
   "outputs": [
    {
     "name": "stdout",
     "output_type": "stream",
     "text": [
      "time: 2.58 ms\n"
     ]
    }
   ],
   "source": [
    "def evaluate(model, x, y):\n",
    "    \"simple classification evaluation metrics and output used in my hypertuning functions\"\n",
    "    from sklearn.metrics import log_loss\n",
    "    \n",
    "    y_hat = model.predict(x)\n",
    "    y_hat_proba = model.predict_proba(x)[:, 1] \n",
    "    errors = abs(y_hat - y)\n",
    "    mape = 100 * np.mean(errors / y)\n",
    "    accuracy = 100 - mape\n",
    "    auc=roc_auc_score(y, y_hat_proba)\n",
    "    loss= log_loss(y, y_hat_proba)\n",
    "        \n",
    "    print ('the AUC is: {:0.3f}'.format(auc))\n",
    "    print ('the logloss is: {:0.3f}'.format(loss))\n",
    "    print(confusion_matrix(y, y_hat))\n",
    "    print(classification_report(y,y_hat, digits=3))\n",
    "    \n",
    "    if scoring=='neg_log_loss':\n",
    "        return_value=loss\n",
    "    elif scoring=='roc_auc':\n",
    "        return_value=auc\n",
    "    else:\n",
    "        raise ValueError\n",
    "    \n",
    "    return (return_value)\n",
    "\n"
   ]
  },
  {
   "cell_type": "code",
   "execution_count": 11,
   "metadata": {},
   "outputs": [
    {
     "name": "stdout",
     "output_type": "stream",
     "text": [
      "time: 4.13 ms\n"
     ]
    }
   ],
   "source": [
    "def hypertuning_fxn(X, y, nfolds, model , param_grid, scoring=scoring, gridsearch=True, n_iter=20, verbose=False): \n",
    "    from sklearn.model_selection import GroupKFold\n",
    "\n",
    "    np.random.seed(12345)\n",
    "    if gridsearch==True:\n",
    "        grid_search = GridSearchCV(estimator= model,\n",
    "                                         param_grid=param_grid,\n",
    "                                         cv=GroupKFold(nfolds),\n",
    "                                         scoring=scoring,\n",
    "                                         return_train_score=True,\n",
    "                                         n_jobs = -1)\n",
    "    else:\n",
    "        grid_search = RandomizedSearchCV(estimator= model,\n",
    "                                         param_distributions= param_grid,\n",
    "                                         n_iter=n_iter,\n",
    "                                         cv=GroupKFold(nfolds),\n",
    "                                         scoring=scoring,\n",
    "                                         return_train_score=True,\n",
    "                                         random_state=12345,\n",
    "                                         n_jobs = -1)\n",
    "        \n",
    "    grid_search.fit(X, y, groups=z_subject_id)    \n",
    "    print(\" scorer function: {}\".format(scoring))\n",
    "    print(\" ##### CV performance: mean & sd scores #####\")\n",
    "\n",
    "    means = grid_search.cv_results_['mean_test_score']\n",
    "    stds = grid_search.cv_results_['std_test_score']\n",
    "    print('best cv score: {:0.3f}'.format(grid_search.best_score_))\n",
    "    print('best cv params: ', grid_search.best_params_)\n",
    "\n",
    "    worst_index=np.argmin(grid_search.cv_results_['mean_test_score'])\n",
    "    print('worst cv score: {:0.3f}'.format(grid_search.cv_results_['mean_test_score'][worst_index]))\n",
    "    print('worst cv params: ', grid_search.cv_results_['params'][worst_index])\n",
    "    ##\n",
    "    if verbose==True:\n",
    "        for mean, std, params in zip(means, stds, grid_search.cv_results_['params']):\n",
    "            print(\"%0.3f (+/-%0.03f) for %r\"% (mean, std * 2, params))\n",
    "\n",
    "    print('##### training set performance #####\\n')   \n",
    "    print(' best hypertuned model training set performance:')\n",
    "    best_random = grid_search.best_estimator_\n",
    "    best_random_auc = evaluate(best_random, x, y)\n",
    "    \n",
    "    print(' worst hypertuned model training set performance:')\n",
    "    worst_params= grid_search.cv_results_['params'][worst_index]\n",
    "    worst_random=model.set_params(**worst_params)\n",
    "    worst_random.fit(x,y)\n",
    "    worst_random_auc = evaluate(worst_random, x, y)      \n",
    "          \n",
    "    print('relative scorer change of {:0.2f}%. between worst and best hyperparams on TRAINING set (may be overfit)'.format( 100 * (best_random_auc - worst_random_auc) / worst_random_auc))\n",
    "    \n",
    "    return(grid_search)"
   ]
  },
  {
   "cell_type": "code",
   "execution_count": 12,
   "metadata": {},
   "outputs": [
    {
     "name": "stdout",
     "output_type": "stream",
     "text": [
      "time: 7.5 ms\n"
     ]
    }
   ],
   "source": [
    "def hypertuned_cv_fxn(x, y, model_in, nfolds):\n",
    "    \"\"\"\n",
    "    the goal of this function is to take the best hypertuned model and \n",
    "    generate average and std for F-1, precision, recall, npv, and AUC across each fold.\n",
    "    Ideally i could have generated this above in my hypertuning cv function,\n",
    "    but it actually took less computational time to just rerun cv on the best performing evaluator and collect all of the averaged performance metrics\n",
    "    \"\"\"\n",
    "    \n",
    "    from sklearn.model_selection import GroupKFold\n",
    "    import sklearn.metrics as metrics\n",
    "    from sklearn.metrics import precision_score, roc_auc_score, f1_score, recall_score\n",
    "    from sklearn.base import clone\n",
    "    \n",
    "    pos_label=1\n",
    "    model= clone(model_in, safe=True)\n",
    "    np.random.seed(12345)\n",
    "    group_kfold = GroupKFold(n_splits=nfolds)\n",
    "    group_kfold.get_n_splits(x, y, z_subject_id)\n",
    "\n",
    "    f1_y_cv=[]\n",
    "    auc_y_cv=[]\n",
    "    prec_y_cv=[]\n",
    "    recall_y_cv=[]\n",
    "    npv_y_cv=[]\n",
    "    tp_threshold_cv=[]\n",
    "\n",
    "    for train_index, test_index in group_kfold.split(x, y, z_subject_id):\n",
    "        x_train_cv, x_test_cv = x[train_index], x[test_index]\n",
    "        y_train_cv, y_test_cv = y[train_index], y[test_index]\n",
    "        model.fit(x_train_cv, y_train_cv)\n",
    "        \n",
    "        y_proba = model.predict_proba(x_test_cv)[:,1]\n",
    "        y_pred = model.predict(x_test_cv)\n",
    "\n",
    "        fpr, tpr, thresholds = metrics.roc_curve(y_test_cv, y_proba, pos_label=pos_label)    \n",
    "        #gathering the optimal youden_index and df of tpr/fpr for auc and index of that optimal youden. idx is needed in the roc\n",
    "        youden_threshold, roc_df, idx= optimal_youden_index(fpr, tpr, thresholds,tp90=True)\n",
    "        y_pred_youden = [1 if y >= youden_threshold else 0 for y in y_proba]\n",
    "        tp_threshold_cv.append(youden_threshold)\n",
    "        \n",
    "        npv_y=confusion_matrix(y_test_cv, y_pred_youden)[0,0]/sum(np.array(y_pred_youden)==0)\n",
    "        npv_y_cv.append(npv_y)\n",
    "\n",
    "        prec_y= precision_score(y_true=y_test_cv, y_pred= y_pred_youden, pos_label=pos_label)\n",
    "        prec_y_cv.append(prec_y)\n",
    "\n",
    "        recall_y= recall_score(y_true=y_test_cv, y_pred= y_pred_youden, pos_label=pos_label)\n",
    "        recall_y_cv.append(recall_y)\n",
    "\n",
    "        f1_y= f1_score(y_true=y_test_cv, y_pred= y_pred_youden, pos_label=pos_label)\n",
    "        f1_y_cv.append(f1_y)\n",
    "\n",
    "        ###need to debug this.###\n",
    "        auc_y=roc_auc_score(y_true=y_test_cv, y_score= y_proba)\n",
    "        auc_y_cv.append(auc_y)\n",
    "        \n",
    "        youden_dic_cv= {'model':type(model).__name__, \n",
    "                'auc':np.mean(auc_y_cv),\n",
    "                'auc_sd':np.std(auc_y_cv),\n",
    "                'precision':np.mean(prec_y_cv),\n",
    "                'precision_sd':np.std(prec_y_cv),\n",
    "                'recall':np.mean(recall_y_cv),\n",
    "                'recall_sd':np.std(recall_y_cv),\n",
    "                'f1':np.mean(f1_y_cv),\n",
    "                'f1_sd':np.std(f1_y_cv),\n",
    "                'npv':np.mean(npv_y_cv),\n",
    "                'npv_sd':np.std(npv_y_cv),\n",
    "                'tp_threshold':np.mean(tp_threshold_cv),\n",
    "                'tp_threshold_sd':np.std(tp_threshold_cv)}\n",
    "        \n",
    "    return(youden_dic_cv)"
   ]
  },
  {
   "cell_type": "markdown",
   "metadata": {},
   "source": [
    "## youden index and plotting functions"
   ]
  },
  {
   "cell_type": "code",
   "execution_count": 13,
   "metadata": {},
   "outputs": [
    {
     "name": "stdout",
     "output_type": "stream",
     "text": [
      "time: 6.84 ms\n"
     ]
    }
   ],
   "source": [
    "def saveplot(plt, figure_name):\n",
    "    \"\"\"\n",
    "    simple function for saving plots\n",
    "    \"\"\"\n",
    "    address = str(repository_path)+'/figures/{}_{}'.format(date,folder)\n",
    "    print(address)\n",
    "\n",
    "    if not os.path.exists(address):\n",
    "        os.makedirs(address)\n",
    "    plt.savefig(address+\"/{}.png\".format(figure_name),bbox_inches='tight')\n",
    "\n",
    "def optimal_youden_index(fpr, tpr, thresholds, tp90=True):\n",
    "    \"\"\"\n",
    "    inputs fpr, tpr, thresholds from metrics.roc(),\n",
    "    outputs the clasification threshold, roc dataframe, and the index of roc dataframe for optimal youden index\n",
    "    \"\"\"\n",
    "    #making dataframe out of the thresholds\n",
    "    roc_df= pd.DataFrame({\"thresholds\": thresholds,\"fpr\":fpr, \"tpr\": tpr})\n",
    "    roc_df.iloc[0,0] =1\n",
    "    roc_df['yuden']= roc_df['tpr']-roc_df['fpr']\n",
    "    \n",
    "    if tp90==True:\n",
    "        idx= roc_df[roc_df['tpr']>=0.9]['yuden'].idxmax() #changed this so now finds optimial yuden threshold but tp>=90%\n",
    "    else:\n",
    "        idx=roc_df['yuden'].idxmax() #MAX INDEX\n",
    "    \n",
    "    youden_threshold=roc_df.iloc[idx,0] #threshold for max youden\n",
    "    return(youden_threshold, roc_df, idx)\n",
    "    \n",
    "def plot_roc(fpr, tpr, roc_auc,thresholds, tp_threshold, save=save_boolean,model_name=None, folder_name=None, file_name=None):\n",
    "    \"\"\"\n",
    "    changed on 02/06/20 to accept thresholds and the specified tp_threshold to mark on the roc\n",
    "    \"\"\"\n",
    "    plt.title('ROC with Training TPR>=0.9 Index')\n",
    "    plt.plot(fpr, tpr, 'b', label = 'AUC = %0.2f' % roc_auc)\n",
    "    plt.legend(loc = 'lower right')\n",
    "    plt.plot([0, 1], [0, 1],'r--')\n",
    "    \n",
    "    roc_df= pd.DataFrame({\"thresholds\": thresholds,\"fpr\":fpr, \"tpr\": tpr})\n",
    "    roc_df.iloc[0,0] =1\n",
    "    \n",
    "    #finding the point on the line given threshold 0.5 (finding closest row in roc_df)\n",
    "    og_idx=roc_df.iloc[(roc_df['thresholds']-0.5).abs().argsort()[:1]].index[0]\n",
    "    plt.plot(roc_df.iloc[og_idx,1], roc_df.iloc[og_idx,2],marker='o', markersize=5, color=\"g\")\n",
    "    plt.annotate(s=\"P(>=0.5)\",xy=(roc_df.iloc[og_idx,1]+0.02, roc_df.iloc[og_idx,2]-0.04),color='g') #textcoords\n",
    "    \n",
    "    #finding the point on the line given the best tuned threshold in the training set for tpr>=0.9\n",
    "    idx=roc_df.iloc[(roc_df['thresholds']-tp_threshold).abs().argsort()[:1]].index[0]\n",
    "    \n",
    "    plt.plot(roc_df.iloc[idx,1], roc_df.iloc[idx,2],marker='o', markersize=5, color=\"r\") ##\n",
    "    plt.annotate(s=\"TPR>=0.9\",xy=(roc_df.iloc[idx,1]+0.02, roc_df.iloc[idx,2]-0.04),color='r' ) #textcoords\n",
    "    plt.xlim([0, 1])\n",
    "    plt.ylim([0, 1])\n",
    "    plt.ylabel('True Positive Rate')\n",
    "    plt.xlabel('False Positive Rate')\n",
    "    plt.grid(color='grey', linestyle='-', linewidth=1, alpha=0.2)\n",
    "    \n",
    "    if save==True:\n",
    "        saveplot(plt, figure_name=\"{}_roc\".format(model_name))\n",
    "    else: pass\n",
    "    \n",
    "    plt.show()\n",
    "    "
   ]
  },
  {
   "cell_type": "code",
   "execution_count": 101,
   "metadata": {},
   "outputs": [
    {
     "name": "stdout",
     "output_type": "stream",
     "text": [
      "time: 6.02 ms\n"
     ]
    }
   ],
   "source": [
    "def classifier_eval(model,\n",
    "                    x=x,\n",
    "                    y=y,\n",
    "                    proba_input=False,\n",
    "                    pos_label=1,\n",
    "                    training=True,\n",
    "                    train_threshold=None,\n",
    "                    print_default=True,\n",
    "                    model_name=None,\n",
    "                    folder_name=None,\n",
    "                    save=save_boolean):\n",
    "    import sklearn.metrics as metrics\n",
    "    from sklearn.metrics import precision_score, roc_auc_score, f1_score, recall_score\n",
    "    \"\"\"\n",
    "    classification evaluation function. able to print/save the following:\n",
    "    \n",
    "    print/save the following:\n",
    "        ROC curve marked with threshold for optimal youden (maximizing tpr+fpr with constraint that tpr>0.9)\n",
    "\n",
    "        using 0.5 threshold:\n",
    "            confusion matrix\n",
    "            classification report\n",
    "            npv\n",
    "            accuracy\n",
    "\n",
    "        using optimal youden (maximizing tpr+fpr with constraint that tpr>0.9):\n",
    "            confusion matrix\n",
    "            classification report\n",
    "            npv\n",
    "            accuracy\n",
    "    \n",
    "    output: \n",
    "        outputs modelname, auc, precision, recall, f1, and npv to a dictionary. \n",
    "    \n",
    "    notes:\n",
    "    youden's J statistic:\n",
    "    J= sensitivity + specificity -1\n",
    "    (truepos/ truepos+falseneg) + (true neg/ trueneg + falsepos) -1. \n",
    "    NOTE: with tpr>0.9 turned on, the youden statistic is basically just the furthest point on the line away from the midline with tpr>=0.9\n",
    "    NOTE2: this function arguably does too much. in the future it may be better to seperate it out into more compartmental functions like with preprocessing().\n",
    "    \"\"\"\n",
    "    \n",
    "    if proba_input==True: \n",
    "        y_proba= model\n",
    "        y_pred=[1 if y >= 0.5 else 0 for y in y_proba]\n",
    "    \n",
    "    else:\n",
    "        model_name=type(model).__name__\n",
    "\n",
    "        y_pred = model.predict(x)\n",
    "        y_proba = model.predict_proba(x)[:,1]\n",
    "        \n",
    "    if training==True:\n",
    "        \n",
    "        fpr, tpr, thresholds = metrics.roc_curve(y, y_proba, pos_label=pos_label)\n",
    "        roc_auc = metrics.auc(fpr, tpr)\n",
    "\n",
    "        #gathering the optimal youden_index and df of tpr/fpr for auc and index of that optimal youden. idx is needed in the roc\n",
    "        tp_threshold, roc_df, idx= optimal_youden_index(fpr, tpr, thresholds,tp90=True)\n",
    "    \n",
    "    else: #if training is not true, then we use the tuned threshold specified on the trainingset.\n",
    "        fpr, tpr, thresholds = metrics.roc_curve(y, y_proba, pos_label=pos_label)\n",
    "        roc_auc = metrics.auc(fpr, tpr)\n",
    "        roc_df= pd.DataFrame({\"thresholds\": thresholds,\"fpr\":fpr, \"tpr\": tpr})\n",
    "        roc_df.iloc[0,0] =1\n",
    "        tp_threshold= train_threshold\n",
    "\n",
    "    #plotting roc\n",
    "    #plot_roc(fpr, tpr, roc_auc, threshold, save=save_boolean,model_name=None, folder_name=None, file_name=None\n",
    "    plot_roc(fpr, tpr, roc_auc, thresholds, tp_threshold, save=save_boolean, model_name=model_name,folder_name=folder)\n",
    "    plt.show(), plt.close()\n",
    "    \n",
    "    #printing npv, recall, precision, accuracy\n",
    "    npv=confusion_matrix(y, y_pred)[0,0]/sum(np.array(y_pred)==0)\n",
    "    prec= precision_score(y_true=y, y_pred= y_pred, pos_label=pos_label)\n",
    "    recall= recall_score(y_true=y, y_pred= y_pred, pos_label=pos_label)\n",
    "    f1= f1_score(y_true=y, y_pred= y_pred, pos_label=pos_label)\n",
    "    confusion =pd.DataFrame(confusion_matrix(y, y_pred),\n",
    "                                 index=['condition_neg','condition_pos'],\n",
    "                                columns=['pred_neg','pred_pos'])\n",
    "    if save==True:\n",
    "        save_df(confusion, df_name='{}_confusion_base'.format(model_name), rel_path='/tables/', verbose=False)\n",
    "    \n",
    "    if print_default==True: ###can opt to not print the 0.5 classification threshold classification report/conf matrix\n",
    "        #plotting confusion matrixs\n",
    "        print(\"\\n******* Using 0.5 Classification Threshold *******\\n\")\n",
    "        print(confusion)\n",
    "        print('\\n')\n",
    "        print ('the Accuracy is: {:01.3f}'.format(accuracy_score(y, y_pred)))\n",
    "        print (\"npv: {:01.3f}\".format(npv))\n",
    "        print ('the classification_report:\\n', classification_report(y,y_pred, digits=3))\n",
    "    else:\n",
    "        pass\n",
    "    \n",
    "    #### YOUDEN ADJUSTMENT #####\n",
    "\n",
    "    print(\"\\n******* Using Optimal TPR>=0.9 Classification Threshold *******\\n\")\n",
    "    print(\"\\nthe Youden optimal index is : {:01.3f}\".format(train_threshold))\n",
    "\n",
    "    y_pred_youden = [1 if y >= train_threshold else 0 for y in y_proba]\n",
    "\n",
    "    npv_y=confusion_matrix(y, y_pred_youden)[0,0]/sum(np.array(y_pred_youden)==0)\n",
    "    prec_y= precision_score(y_true=y, y_pred= y_pred_youden, pos_label=pos_label)\n",
    "    recall_y= recall_score(y_true=y, y_pred= y_pred_youden, pos_label=pos_label)\n",
    "    f1_y= f1_score(y_true=y, y_pred= y_pred_youden, pos_label=pos_label)\n",
    "    auc_y=roc_auc_score(y_true=y, y_score= y_proba)\n",
    "    \n",
    "    ##plotting and saving confusion matrix\n",
    "    confusion_youden=pd.DataFrame(confusion_matrix(y, y_pred_youden),\n",
    "                                 index=['condition_neg','condition_pos'],\n",
    "                                columns=['pred_neg','pred_pos'])\n",
    "    \n",
    "    if save==True:\n",
    "        save_df(confusion_youden, df_name='{}_confusion_tuned'.format(model_name), rel_path='/tables/',verbose=False)\n",
    "    \n",
    "    #plotting confusion matrixs\n",
    "    print('\\n')\n",
    "    print(confusion_youden)\n",
    "    print('\\n')\n",
    "    print ('the Accuracy is: {:01.3f}'.format(accuracy_score(y, y_pred_youden)))\n",
    "    print (\"npv: {:01.3f}\".format(npv_y))\n",
    "    print ('the classification_report:\\n', classification_report(y,y_pred_youden, digits=3))\n",
    "    \n",
    "    youden_dic= {'model':model_name, 'auc':auc_y, 'precision':prec_y, 'recall':recall_y, 'f1':f1_y, 'npv':npv_y,'threshold':tp_threshold}\n",
    "    return(youden_dic)\n",
    "    "
   ]
  },
  {
   "cell_type": "markdown",
   "metadata": {},
   "source": [
    "## step1) hypertuning and cv\n",
    "* xgboost\n",
    "* randomforest\n",
    "* support vector classifier\n",
    "* logistic regression (l1 and l2)\n",
    "* k-nearest neighbors"
   ]
  },
  {
   "cell_type": "code",
   "execution_count": null,
   "metadata": {},
   "outputs": [],
   "source": []
  },
  {
   "cell_type": "markdown",
   "metadata": {},
   "source": [
    "#### xgboost hypertune"
   ]
  },
  {
   "cell_type": "code",
   "execution_count": 15,
   "metadata": {},
   "outputs": [
    {
     "name": "stdout",
     "output_type": "stream",
     "text": [
      " scorer function: roc_auc\n",
      " ##### CV performance: mean & sd scores #####\n",
      "best cv score: 0.811\n",
      "best cv params:  {'scale_pos_weight': 1, 'max_depth': 3, 'learning_rate': 0.1}\n",
      "worst cv score: 0.721\n",
      "worst cv params:  {'scale_pos_weight': 10, 'max_depth': 3, 'learning_rate': 1}\n",
      "##### training set performance #####\n",
      "\n",
      " best hypertuned model training set performance:\n",
      "the AUC is: 0.869\n",
      "the logloss is: 0.370\n",
      "[[5332  180]\n",
      " [ 973  720]]\n",
      "              precision    recall  f1-score   support\n",
      "\n",
      "           0      0.846     0.967     0.902      5512\n",
      "           1      0.800     0.425     0.555      1693\n",
      "\n",
      "   micro avg      0.840     0.840     0.840      7205\n",
      "   macro avg      0.823     0.696     0.729      7205\n",
      "weighted avg      0.835     0.840     0.821      7205\n",
      "\n",
      " worst hypertuned model training set performance:\n",
      "the AUC is: 0.956\n",
      "the logloss is: 0.411\n",
      "[[4320 1192]\n",
      " [  18 1675]]\n",
      "              precision    recall  f1-score   support\n",
      "\n",
      "           0      0.996     0.784     0.877      5512\n",
      "           1      0.584     0.989     0.735      1693\n",
      "\n",
      "   micro avg      0.832     0.832     0.832      7205\n",
      "   macro avg      0.790     0.887     0.806      7205\n",
      "weighted avg      0.899     0.832     0.844      7205\n",
      "\n",
      "relative scorer change of -9.07%. between worst and best hyperparams on TRAINING set (may be overfit)\n",
      "time: 2min 25s\n"
     ]
    }
   ],
   "source": [
    "###xgboost\n",
    "model= XGBClassifier(n_estimators=100, min_child_weight=2, #changed: GridSearchCV ->RandomizedSearchCV\n",
    "                                              gamma=0, subsample=0.8, colsample_bytree=0.8,\n",
    "                                              objective='binary:logistic', n_jobs=-1, seed=27)\n",
    "scale_pos_weight = [1, 5, 10] #0.1\n",
    "max_depth = [1, 2, 3, 4, 5]\n",
    "learning_rate=[0.01, 0.1, 0.5, 1]\n",
    "param_grid = {'scale_pos_weight': scale_pos_weight, 'max_depth' : max_depth, \"learning_rate\":learning_rate}\n",
    "xgboost_hyper=hypertuning_fxn(x, y, nfolds=nfolds, model=model , param_grid=param_grid, scoring=scoring, n_iter=n_iter, gridsearch=gridsearch)"
   ]
  },
  {
   "cell_type": "code",
   "execution_count": 16,
   "metadata": {},
   "outputs": [
    {
     "name": "stdout",
     "output_type": "stream",
     "text": [
      "time: 4.87 s\n"
     ]
    }
   ],
   "source": [
    "xgboost_cv= hypertuned_cv_fxn(x, y, xgboost_hyper.best_estimator_, nfolds=nfolds)"
   ]
  },
  {
   "cell_type": "code",
   "execution_count": 17,
   "metadata": {},
   "outputs": [
    {
     "data": {
      "text/plain": [
       "{'model': 'XGBClassifier',\n",
       " 'auc': 0.8111592760447405,\n",
       " 'auc_sd': 0.016796808444331318,\n",
       " 'precision': 0.3528392358379525,\n",
       " 'precision_sd': 0.04227939073765095,\n",
       " 'recall': 0.9116462977445774,\n",
       " 'recall_sd': 0.0144211166253622,\n",
       " 'f1': 0.5073020923308055,\n",
       " 'f1_sd': 0.04542289797630375,\n",
       " 'npv': 0.9461289233445074,\n",
       " 'npv_sd': 0.010049233413251193,\n",
       " 'tp_threshold': 0.11962791,\n",
       " 'tp_threshold_sd': 0.013798321}"
      ]
     },
     "execution_count": 17,
     "metadata": {},
     "output_type": "execute_result"
    },
    {
     "name": "stdout",
     "output_type": "stream",
     "text": [
      "time: 3.04 ms\n"
     ]
    }
   ],
   "source": [
    "xgboost_cv #0.123"
   ]
  },
  {
   "cell_type": "markdown",
   "metadata": {},
   "source": [
    "#### RF hypertune"
   ]
  },
  {
   "cell_type": "code",
   "execution_count": 18,
   "metadata": {},
   "outputs": [
    {
     "name": "stdout",
     "output_type": "stream",
     "text": [
      " scorer function: roc_auc\n",
      " ##### CV performance: mean & sd scores #####\n",
      "best cv score: 0.809\n",
      "best cv params:  {'n_estimators': 150, 'min_samples_split': 10, 'min_samples_leaf': 2, 'max_features': 3, 'max_depth': 15, 'class_weight': {0: 0.000181422351233672, 1: 0.0005906674542232723}, 'bootstrap': False}\n",
      "worst cv score: 0.758\n",
      "worst cv params:  {'n_estimators': 10, 'min_samples_split': 5, 'min_samples_leaf': 2, 'max_features': 3, 'max_depth': 15, 'class_weight': None, 'bootstrap': True}\n",
      "##### training set performance #####\n",
      "\n",
      " best hypertuned model training set performance:\n",
      "the AUC is: 0.999\n",
      "the logloss is: 0.252\n",
      "[[5495   17]\n",
      " [  41 1652]]\n",
      "              precision    recall  f1-score   support\n",
      "\n",
      "           0      0.993     0.997     0.995      5512\n",
      "           1      0.990     0.976     0.983      1693\n",
      "\n",
      "   micro avg      0.992     0.992     0.992      7205\n",
      "   macro avg      0.991     0.986     0.989      7205\n",
      "weighted avg      0.992     0.992     0.992      7205\n",
      "\n",
      " worst hypertuned model training set performance:\n",
      "the AUC is: 0.982\n",
      "the logloss is: 0.249\n",
      "[[5500   12]\n",
      " [ 593 1100]]\n",
      "              precision    recall  f1-score   support\n",
      "\n",
      "           0      0.903     0.998     0.948      5512\n",
      "           1      0.989     0.650     0.784      1693\n",
      "\n",
      "   micro avg      0.916     0.916     0.916      7205\n",
      "   macro avg      0.946     0.824     0.866      7205\n",
      "weighted avg      0.923     0.916     0.909      7205\n",
      "\n",
      "relative scorer change of 1.79%. between worst and best hyperparams on TRAINING set (may be overfit)\n",
      "time: 2min 41s\n"
     ]
    }
   ],
   "source": [
    "###rf\n",
    "#{'bootstrap': False, 'class_weight': None, 'max_depth': 25, 'max_features': 'auto', 'min_samples_leaf': 2, 'min_samples_split': 10, 'n_estimators': 200} \n",
    "# Number of trees in random forest\n",
    "n_estimators = [10, 25, 50, 150, 250] #[int(x) for x in np.linspace(start = 10, stop = 1000, num = 5)]\n",
    "# Number of features to consider at every split\n",
    "max_features = [3,10,20,'auto']\n",
    "# Maximum number of levels in tree\n",
    "max_depth = [5, 7, 10, 15] \n",
    "#max_depth.append(None)\n",
    "# Minimum number of samples required to split a node\n",
    "min_samples_split = [2, 5, 10]\n",
    "# Minimum number of samples required at each leaf node\n",
    "min_samples_leaf = [2, 5, 10]\n",
    "# Method of selecting samples for training each tree. supposedly better with false when classes aren't perfectly ballanced\n",
    "bootstrap = [True, False] #[False] \n",
    "#### note about bootstrap= off\n",
    "###Without bootstrapping, all of the data is used to fit the model, so there is not random variation between trees with respect to the selected examples at each stage. \n",
    "###However, random forest has a second source of variation, which is the random subset of features to try at each split.\n",
    "### The documentation states \"The sub-sample size is always the same as the original input sample size but the samples are drawn with replacement if bootstrap=True (default),\" \n",
    "### which implies that bootstrap=False draws a sample of size equal to the number of training examples without replacement, i.e. the same training set is always used.\n",
    "### we test this turned off because with unballanced classes turning this off can sometimes improve performance\n",
    "\n",
    "#class_weight is either a dictionary of each class to a uniform weight for that class (e.g., {1:.9, 2:.5, 3:.01}), or is a string telling sklearn how to automatically determine this dictionary.\n",
    "class_weight= [None, {0:(1/np.bincount(y))[0], 1:(1/np.bincount(y))[1]}]\n",
    "\n",
    "param_grid = {'n_estimators': n_estimators,\n",
    "               'max_features': max_features,\n",
    "               'max_depth': max_depth,\n",
    "               'min_samples_split': min_samples_split,\n",
    "               'min_samples_leaf': min_samples_leaf,\n",
    "               'class_weight': class_weight,\n",
    "               'bootstrap': bootstrap}\n",
    "\n",
    "model= RandomForestClassifier(criterion='entropy', random_state=12345)\n",
    "\n",
    "#rf_hyper=hypertuning_fxn(x, y, nfolds=nfolds, model=model , param_grid=param_grid, scoring=scoring,n_iter = n_iter, gridsearch=False)\n",
    "rf_hyper=hypertuning_fxn(x, y, nfolds=nfolds, model=model , param_grid=param_grid, scoring=scoring,n_iter = n_iter, gridsearch=False)\n"
   ]
  },
  {
   "cell_type": "code",
   "execution_count": 19,
   "metadata": {},
   "outputs": [
    {
     "name": "stdout",
     "output_type": "stream",
     "text": [
      "time: 376 µs\n"
     ]
    }
   ],
   "source": [
    "# best cv score: 0.791\n",
    "# best cv params:  {'n_estimators': 50, 'min_samples_split': 10, 'min_samples_leaf': 5, 'max_features': 3, 'max_depth': 25, 'class_weight': {0: 0.000181422351233672, 1: 0.0005906674542232723}, 'bootstrap': False}\n",
    "    \n",
    "# #changing from niter=40 and bootstrap t/f:\n",
    "# best cv score: 0.788\n",
    "# best cv params:  {'n_estimators': 250, 'min_samples_split': 2, 'min_samples_leaf': 2, 'max_features': 'auto', 'max_depth': 10, 'class_weight': None, 'bootstrap': True}\n"
   ]
  },
  {
   "cell_type": "code",
   "execution_count": 20,
   "metadata": {},
   "outputs": [
    {
     "name": "stdout",
     "output_type": "stream",
     "text": [
      "time: 15.4 s\n"
     ]
    }
   ],
   "source": [
    "rf_cv= hypertuned_cv_fxn(x, y, rf_hyper.best_estimator_, nfolds=nfolds)"
   ]
  },
  {
   "cell_type": "code",
   "execution_count": 21,
   "metadata": {},
   "outputs": [
    {
     "data": {
      "text/plain": [
       "{'model': 'RandomForestClassifier',\n",
       " 'auc': 0.8094143815133943,\n",
       " 'auc_sd': 0.01901928165005554,\n",
       " 'precision': 0.34907941136090764,\n",
       " 'precision_sd': 0.04041597845661163,\n",
       " 'recall': 0.9103072552102786,\n",
       " 'recall_sd': 0.009692161400850387,\n",
       " 'f1': 0.5032218261430371,\n",
       " 'f1_sd': 0.04266775061516277,\n",
       " 'npv': 0.9443794672307823,\n",
       " 'npv_sd': 0.009026915400090846,\n",
       " 'tp_threshold': 0.2678568320663318,\n",
       " 'tp_threshold_sd': 0.021073441666668934}"
      ]
     },
     "execution_count": 21,
     "metadata": {},
     "output_type": "execute_result"
    },
    {
     "name": "stdout",
     "output_type": "stream",
     "text": [
      "time: 2.05 ms\n"
     ]
    }
   ],
   "source": [
    "rf_cv"
   ]
  },
  {
   "cell_type": "markdown",
   "metadata": {},
   "source": [
    "#### SVC hypertune"
   ]
  },
  {
   "cell_type": "code",
   "execution_count": 22,
   "metadata": {},
   "outputs": [
    {
     "name": "stdout",
     "output_type": "stream",
     "text": [
      " scorer function: roc_auc\n",
      " ##### CV performance: mean & sd scores #####\n",
      "best cv score: 0.801\n",
      "best cv params:  {'kernel': 'linear', 'degree': 1, 'class_weight': 'balanced', 'C': 10}\n",
      "worst cv score: 0.782\n",
      "worst cv params:  {'kernel': 'linear', 'degree': 2, 'class_weight': None, 'C': 0.1}\n",
      "##### training set performance #####\n",
      "\n",
      " best hypertuned model training set performance:\n",
      "the AUC is: 0.809\n",
      "the logloss is: 0.426\n",
      "[[4188 1324]\n",
      " [ 489 1204]]\n",
      "              precision    recall  f1-score   support\n",
      "\n",
      "           0      0.895     0.760     0.822      5512\n",
      "           1      0.476     0.711     0.570      1693\n",
      "\n",
      "   micro avg      0.748     0.748     0.748      7205\n",
      "   macro avg      0.686     0.735     0.696      7205\n",
      "weighted avg      0.797     0.748     0.763      7205\n",
      "\n",
      " worst hypertuned model training set performance:\n",
      "the AUC is: 0.789\n",
      "the logloss is: 0.456\n",
      "[[5411  101]\n",
      " [1357  336]]\n",
      "              precision    recall  f1-score   support\n",
      "\n",
      "           0      0.799     0.982     0.881      5512\n",
      "           1      0.769     0.198     0.315      1693\n",
      "\n",
      "   micro avg      0.798     0.798     0.798      7205\n",
      "   macro avg      0.784     0.590     0.598      7205\n",
      "weighted avg      0.792     0.798     0.748      7205\n",
      "\n",
      "relative scorer change of 2.58%. between worst and best hyperparams on TRAINING set (may be overfit)\n",
      "time: 4min 39s\n"
     ]
    }
   ],
   "source": [
    "model= svm.SVC(probability=True)\n",
    "kernel = ['linear']#, 'rbf','poly']\n",
    "#gamma = [0.1, 1, 'auto'] #Kernel coefficient for ‘rbf’, ‘poly’ and ‘sigmoid’. default=’auto’ uses 1 / n_features\n",
    "C = [0.1, 1, 10, 100] #Penalty parameter C of the error term.\n",
    "degree = [1,2]\n",
    "class_weight=['balanced', None]\n",
    "\n",
    "param_grid = {'kernel': kernel,\n",
    "              #'gamma': gamma,\n",
    "              'C': C,\n",
    "              'degree': degree,\n",
    "              'class_weight':class_weight}\n",
    "\n",
    "svc_hyper=hypertuning_fxn(x, y, nfolds=nfolds, model=model , param_grid=param_grid,scoring=scoring, n_iter=5, gridsearch=False)\n",
    "#svc_hyper=hypertuning_fxn(x, y, nfolds=4, model=model , param_grid=param_grid, base_model= base_model, scoring=\"neg_log_loss\", n_iter=10, gridsearch=False)"
   ]
  },
  {
   "cell_type": "code",
   "execution_count": 23,
   "metadata": {},
   "outputs": [
    {
     "name": "stdout",
     "output_type": "stream",
     "text": [
      "time: 4min\n"
     ]
    }
   ],
   "source": [
    "svc_cv= hypertuned_cv_fxn(x, y, svc_hyper.best_estimator_, nfolds=10)"
   ]
  },
  {
   "cell_type": "markdown",
   "metadata": {},
   "source": [
    "### logistic regression hypertune"
   ]
  },
  {
   "cell_type": "code",
   "execution_count": 24,
   "metadata": {},
   "outputs": [
    {
     "name": "stdout",
     "output_type": "stream",
     "text": [
      " scorer function: roc_auc\n",
      " ##### CV performance: mean & sd scores #####\n",
      "best cv score: 0.802\n",
      "best cv params:  {'class_weight': 'balanced', 'penalty': 'l1'}\n",
      "worst cv score: 0.798\n",
      "worst cv params:  {'class_weight': None, 'penalty': 'l2'}\n",
      "##### training set performance #####\n",
      "\n",
      " best hypertuned model training set performance:\n",
      "the AUC is: 0.810\n",
      "the logloss is: 0.531\n",
      "[[4184 1328]\n",
      " [ 491 1202]]\n",
      "              precision    recall  f1-score   support\n",
      "\n",
      "           0      0.895     0.759     0.821      5512\n",
      "           1      0.475     0.710     0.569      1693\n",
      "\n",
      "   micro avg      0.748     0.748     0.748      7205\n",
      "   macro avg      0.685     0.735     0.695      7205\n",
      "weighted avg      0.796     0.748     0.762      7205\n",
      "\n",
      " worst hypertuned model training set performance:\n",
      "the AUC is: 0.806\n",
      "the logloss is: 0.427\n",
      "[[5254  258]\n",
      " [1121  572]]\n",
      "              precision    recall  f1-score   support\n",
      "\n",
      "           0      0.824     0.953     0.884      5512\n",
      "           1      0.689     0.338     0.453      1693\n",
      "\n",
      "   micro avg      0.809     0.809     0.809      7205\n",
      "   macro avg      0.757     0.646     0.669      7205\n",
      "weighted avg      0.792     0.809     0.783      7205\n",
      "\n",
      "relative scorer change of 0.44%. between worst and best hyperparams on TRAINING set (may be overfit)\n",
      "time: 2.42 s\n"
     ]
    }
   ],
   "source": [
    "###logreg\n",
    "model= LogisticRegression(random_state=12345)\n",
    "#model = LogisticRegression(penalty='l2', dual=False, tol=0.0001, C=10, fit_intercept=True, intercept_scaling=1, class_weight='balanced', random_state=None)\n",
    "\n",
    "penalty = ['l1','l2']\n",
    "class_weight=['balanced',None]\n",
    "\n",
    "param_grid = {'penalty': penalty,\n",
    "              'class_weight': class_weight}\n",
    "\n",
    "logreg_hyper=hypertuning_fxn(x, y, nfolds=nfolds, model=model , param_grid=param_grid, scoring=scoring, n_iter=n_iter, gridsearch=True)"
   ]
  },
  {
   "cell_type": "code",
   "execution_count": 25,
   "metadata": {},
   "outputs": [
    {
     "name": "stdout",
     "output_type": "stream",
     "text": [
      "time: 2.12 s\n"
     ]
    }
   ],
   "source": [
    "logreg_cv= hypertuned_cv_fxn(x, y, logreg_hyper.best_estimator_, nfolds=10)"
   ]
  },
  {
   "cell_type": "markdown",
   "metadata": {},
   "source": [
    "### KNN hypertune"
   ]
  },
  {
   "cell_type": "code",
   "execution_count": 26,
   "metadata": {},
   "outputs": [
    {
     "name": "stdout",
     "output_type": "stream",
     "text": [
      " scorer function: roc_auc\n",
      " ##### CV performance: mean & sd scores #####\n",
      "best cv score: 0.741\n",
      "best cv params:  {'n_neighbors': 25, 'p': 1, 'weights': 'uniform'}\n",
      "worst cv score: 0.642\n",
      "worst cv params:  {'n_neighbors': 3, 'p': 2, 'weights': 'uniform'}\n",
      "##### training set performance #####\n",
      "\n",
      " best hypertuned model training set performance:\n",
      "the AUC is: 0.810\n",
      "the logloss is: 0.438\n",
      "[[5453   59]\n",
      " [1436  257]]\n",
      "              precision    recall  f1-score   support\n",
      "\n",
      "           0      0.792     0.989     0.879      5512\n",
      "           1      0.813     0.152     0.256      1693\n",
      "\n",
      "   micro avg      0.793     0.793     0.793      7205\n",
      "   macro avg      0.802     0.571     0.568      7205\n",
      "weighted avg      0.797     0.793     0.733      7205\n",
      "\n",
      " worst hypertuned model training set performance:\n",
      "the AUC is: 0.917\n",
      "the logloss is: 0.266\n",
      "[[5314  198]\n",
      " [ 838  855]]\n",
      "              precision    recall  f1-score   support\n",
      "\n",
      "           0      0.864     0.964     0.911      5512\n",
      "           1      0.812     0.505     0.623      1693\n",
      "\n",
      "   micro avg      0.856     0.856     0.856      7205\n",
      "   macro avg      0.838     0.735     0.767      7205\n",
      "weighted avg      0.852     0.856     0.843      7205\n",
      "\n",
      "relative scorer change of -11.63%. between worst and best hyperparams on TRAINING set (may be overfit)\n",
      "time: 1min 57s\n"
     ]
    }
   ],
   "source": [
    "\n",
    "from sklearn.neighbors import KNeighborsClassifier\n",
    "model= KNeighborsClassifier()\n",
    "\n",
    "n_neighbors = [3,4,5, 8, 10, 25]\n",
    "weights=['uniform']\n",
    "p=[1,2] #1= mmanhattan, 2= euclidian\n",
    "\n",
    "\n",
    "param_grid = {'n_neighbors': n_neighbors,\n",
    "              'weights': weights,\n",
    "              'p': p}\n",
    "\n",
    "knn_hyper=hypertuning_fxn(x, y, nfolds=nfolds, model=model , param_grid=param_grid, scoring=scoring, n_iter=n_iter, gridsearch=True)"
   ]
  },
  {
   "cell_type": "code",
   "execution_count": 27,
   "metadata": {},
   "outputs": [
    {
     "name": "stdout",
     "output_type": "stream",
     "text": [
      "time: 6.28 s\n"
     ]
    }
   ],
   "source": [
    "knn_cv= hypertuned_cv_fxn(x, y, knn_hyper.best_estimator_, nfolds=10)"
   ]
  },
  {
   "cell_type": "markdown",
   "metadata": {},
   "source": [
    "### Multilayer Perceptron (MLP) hypertune"
   ]
  },
  {
   "cell_type": "code",
   "execution_count": 28,
   "metadata": {},
   "outputs": [
    {
     "name": "stdout",
     "output_type": "stream",
     "text": [
      " scorer function: roc_auc\n",
      " ##### CV performance: mean & sd scores #####\n",
      "best cv score: 0.798\n",
      "best cv params:  {'activation': 'tanh', 'alpha': 0.001, 'hidden_layer_sizes': 50, 'learning_rate': 'adaptive', 'learning_rate_init': 0.01, 'solver': 'adam'}\n",
      "worst cv score: 0.506\n",
      "worst cv params:  {'activation': 'relu', 'alpha': 0.001, 'hidden_layer_sizes': (50, 100, 50), 'learning_rate': 'adaptive', 'learning_rate_init': 0.001, 'solver': 'sgd'}\n",
      "##### training set performance #####\n",
      "\n",
      " best hypertuned model training set performance:\n",
      "the AUC is: 0.813\n",
      "the logloss is: 0.428\n",
      "[[5095  417]\n",
      " [ 954  739]]\n",
      "              precision    recall  f1-score   support\n",
      "\n",
      "           0      0.842     0.924     0.881      5512\n",
      "           1      0.639     0.437     0.519      1693\n",
      "\n",
      "   micro avg      0.810     0.810     0.810      7205\n",
      "   macro avg      0.741     0.680     0.700      7205\n",
      "weighted avg      0.795     0.810     0.796      7205\n",
      "\n",
      " worst hypertuned model training set performance:\n",
      "the AUC is: 0.508\n",
      "the logloss is: 0.566\n",
      "[[5512    0]\n",
      " [1693    0]]\n",
      "              precision    recall  f1-score   support\n",
      "\n",
      "           0      0.765     1.000     0.867      5512\n",
      "           1      0.000     0.000     0.000      1693\n",
      "\n",
      "   micro avg      0.765     0.765     0.765      7205\n",
      "   macro avg      0.383     0.500     0.433      7205\n",
      "weighted avg      0.585     0.765     0.663      7205\n",
      "\n",
      "relative scorer change of 59.92%. between worst and best hyperparams on TRAINING set (may be overfit)\n",
      "time: 7min 33s\n"
     ]
    }
   ],
   "source": [
    "### MLP w/ standard scalar and early stopping (improved cv performance)\n",
    "\n",
    "from sklearn.preprocessing import StandardScaler  # doctest: +SKIP\n",
    "# scaler = StandardScaler()  # doctest: +SKIP\n",
    "# scaler.fit(x)  # doctest: +SKIP\n",
    "# x_scalar = scaler.transform(x)  # doctest: +SKIP\n",
    "\n",
    "from sklearn.neural_network import MLPClassifier\n",
    "#hidden_layer_sizes = [(50,), (100,), (150,), (250,)] #origional used parameters #(50,50), (100,100), (150,150),(300,)\n",
    "\n",
    "hidden_layer_sizes =[(50), (50,50), (50,50,50), (50,100,50), (100,),(150)]\n",
    "solver= ['sgd', 'adam']\n",
    "#     'alpha': [0.0001, 0.05],\n",
    "#     'learning_rate': ['constant','adaptive'],\n",
    "\n",
    "activation= ['relu','tanh']#, 'logistic']\n",
    "\n",
    "alpha= [0.001, 0.05] #L2 penalization degree #[0.001, 0.01]\n",
    "\n",
    "learning_rate= ['adaptive']\n",
    "learning_rate_init= [0.001, 0.01]\n",
    "\n",
    "param_grid = {'hidden_layer_sizes': hidden_layer_sizes, \n",
    "              'solver':solver,\n",
    "              'activation':activation,\n",
    "              'alpha': alpha,\n",
    "              'learning_rate': learning_rate,\n",
    "              'learning_rate_init': learning_rate_init\n",
    "             }\n",
    "\n",
    "model= MLPClassifier(early_stopping=True, random_state=12345)\n",
    "\n",
    "#removed teh x_scalar\n",
    "mlp_hyper=hypertuning_fxn(x, y, nfolds=nfolds, model=model , param_grid=param_grid, scoring=scoring,n_iter = 80, gridsearch=True) #gridsearch=False: testing with smaller, randomized grid\n",
    "#gridsearch=False: testing with smaller, randomized grid. went from ~30 sec to 13min when ==True\n",
    "# adding in solver: sgd and adam 1.5min ->8min"
   ]
  },
  {
   "cell_type": "code",
   "execution_count": 29,
   "metadata": {},
   "outputs": [
    {
     "name": "stdout",
     "output_type": "stream",
     "text": [
      "time: 4.41 s\n"
     ]
    }
   ],
   "source": [
    "mlp_cv= hypertuned_cv_fxn(x, y, mlp_hyper.best_estimator_, nfolds=10)\n"
   ]
  },
  {
   "cell_type": "code",
   "execution_count": 30,
   "metadata": {},
   "outputs": [
    {
     "data": {
      "text/plain": [
       "{'model': 'MLPClassifier',\n",
       " 'auc': 0.797944704470313,\n",
       " 'auc_sd': 0.022832599847226222,\n",
       " 'precision': 0.34906294681002326,\n",
       " 'precision_sd': 0.04316290181484805,\n",
       " 'recall': 0.9045362288950607,\n",
       " 'recall_sd': 0.004334445841342806,\n",
       " 'f1': 0.5020945017257267,\n",
       " 'f1_sd': 0.045936625103104686,\n",
       " 'npv': 0.941007952904954,\n",
       " 'npv_sd': 0.008306297973191585,\n",
       " 'tp_threshold': 0.12063293833046089,\n",
       " 'tp_threshold_sd': 0.017912228747744504}"
      ]
     },
     "execution_count": 30,
     "metadata": {},
     "output_type": "execute_result"
    },
    {
     "name": "stdout",
     "output_type": "stream",
     "text": [
      "time: 2.97 ms\n"
     ]
    }
   ],
   "source": [
    "mlp_cv"
   ]
  },
  {
   "cell_type": "markdown",
   "metadata": {},
   "source": [
    "## idea: Rashamon effect: does ensembling models improve prediction performance?\n",
    "the ensemble is intresting if the ensemble predicts a different group of patients (or has different variable importance).\n",
    "\n",
    "rashamon effect where we don't gain from ensemble: identifying same patints in different ways\n",
    "rashamon effect where we do gain from ensemble: identifying DIFFERENT patients in the different ways"
   ]
  },
  {
   "cell_type": "code",
   "execution_count": 31,
   "metadata": {},
   "outputs": [
    {
     "name": "stdout",
     "output_type": "stream",
     "text": [
      "time: 526 µs\n"
     ]
    }
   ],
   "source": [
    "# to test this, i first need to instantiate my other models, then ensemble them together. "
   ]
  },
  {
   "cell_type": "code",
   "execution_count": null,
   "metadata": {},
   "outputs": [],
   "source": []
  },
  {
   "cell_type": "code",
   "execution_count": 32,
   "metadata": {},
   "outputs": [
    {
     "name": "stdout",
     "output_type": "stream",
     "text": [
      "time: 2.18 ms\n"
     ]
    }
   ],
   "source": [
    "def reset_model(model_name, hardcode=False):\n",
    "    global xgboost_hyper, logreg_hyper, rf_hyper, knn_hyper, mlp_hyper, svc_hyper\n",
    "    \n",
    "    if model_name== 'xgboost':\n",
    "        model = xgboost_hyper.best_estimator_\n",
    "\n",
    "    elif model_name== 'logreg':\n",
    "        model = logreg_hyper.best_estimator_\n",
    "\n",
    "    elif model_name== 'rf': \n",
    "        model = rf_hyper.best_estimator_\n",
    "\n",
    "    elif model_name== 'svc':\n",
    "        model = svc_hyper.best_estimator_\n",
    "\n",
    "    elif model_name== 'knn':\n",
    "        model = knn_hyper.best_estimator_\n",
    "        \n",
    "    elif model_name== 'mlp':\n",
    "        model = mlp_hyper.best_estimator_\n",
    "        \n",
    "    return(model)"
   ]
  },
  {
   "cell_type": "markdown",
   "metadata": {},
   "source": [
    "# test entire trainset and predict testset.\n",
    "*<del> step1) hypertune xgb via 10fold cv.\n",
    "* step2) test entire trainset and predict testset.\n",
    "* step3) generate figures"
   ]
  },
  {
   "cell_type": "code",
   "execution_count": 33,
   "metadata": {},
   "outputs": [
    {
     "name": "stdout",
     "output_type": "stream",
     "text": [
      "time: 941 µs\n"
     ]
    }
   ],
   "source": [
    "def get_auc_score(model,train_index, x=x,y=y):\n",
    "    y_pred_proba = model.predict_proba(x[train_index])[:, 1] \n",
    "    roc_score=roc_auc_score(y[train_index], y_pred_proba)\n",
    "    return(roc_score)"
   ]
  },
  {
   "cell_type": "markdown",
   "metadata": {},
   "source": [
    "# Ensemble CV and testing models"
   ]
  },
  {
   "cell_type": "markdown",
   "metadata": {},
   "source": [
    "## test entire trainset and predict trainset.\n",
    "<del> * step1) hypertune xgb on 10fold cv.\n",
    "    \n",
    "<del> * step2) test entire train set and predict testset.\n",
    "* step3) generate figures\n"
   ]
  },
  {
   "cell_type": "code",
   "execution_count": 34,
   "metadata": {},
   "outputs": [
    {
     "data": {
      "text/html": [
       "<div>\n",
       "<style scoped>\n",
       "    .dataframe tbody tr th:only-of-type {\n",
       "        vertical-align: middle;\n",
       "    }\n",
       "\n",
       "    .dataframe tbody tr th {\n",
       "        vertical-align: top;\n",
       "    }\n",
       "\n",
       "    .dataframe thead th {\n",
       "        text-align: right;\n",
       "    }\n",
       "</style>\n",
       "<table border=\"1\" class=\"dataframe\">\n",
       "  <thead>\n",
       "    <tr style=\"text-align: right;\">\n",
       "      <th></th>\n",
       "      <th>model</th>\n",
       "      <th>auc</th>\n",
       "      <th>precision</th>\n",
       "      <th>recall</th>\n",
       "      <th>f1</th>\n",
       "      <th>npv</th>\n",
       "    </tr>\n",
       "  </thead>\n",
       "  <tbody>\n",
       "  </tbody>\n",
       "</table>\n",
       "</div>"
      ],
      "text/plain": [
       "Empty DataFrame\n",
       "Columns: [model, auc, precision, recall, f1, npv]\n",
       "Index: []"
      ]
     },
     "execution_count": 34,
     "metadata": {},
     "output_type": "execute_result"
    },
    {
     "name": "stdout",
     "output_type": "stream",
     "text": [
      "time: 17.5 ms\n"
     ]
    }
   ],
   "source": [
    "#setting up test table\n",
    "test_summary_df= pd.DataFrame({'model':[],'auc':[], 'precision':[], 'recall':[], 'f1':[], 'npv':[]})\n",
    "test_summary_df"
   ]
  },
  {
   "cell_type": "markdown",
   "metadata": {},
   "source": [
    "### model fitting"
   ]
  },
  {
   "cell_type": "code",
   "execution_count": 35,
   "metadata": {},
   "outputs": [
    {
     "data": {
      "text/plain": [
       "VotingClassifier(estimators=[('xgboost', XGBClassifier(base_score=0.5, booster='gbtree', colsample_bylevel=1,\n",
       "       colsample_bytree=0.8, gamma=0, learning_rate=0.1, max_delta_step=0,\n",
       "       max_depth=3, min_child_weight=2, missing=None, n_estimators=100,\n",
       "       n_jobs=-1, nthread=None, objective='binary:logistic',...ar', max_iter=-1, probability=True, random_state=None,\n",
       "  shrinking=True, tol=0.001, verbose=False))],\n",
       "         flatten_transform=None, n_jobs=-1, voting='soft', weights=None)"
      ]
     },
     "execution_count": 35,
     "metadata": {},
     "output_type": "execute_result"
    },
    {
     "name": "stdout",
     "output_type": "stream",
     "text": [
      "time: 1min 3s\n"
     ]
    }
   ],
   "source": [
    "xgboost = reset_model('xgboost')\n",
    "xgboost.fit(x, y)\n",
    "\n",
    "logreg = reset_model('logreg')\n",
    "logreg.fit(x, y)\n",
    "\n",
    "rf= reset_model('rf')\n",
    "rf.fit(x,y)\n",
    "\n",
    "svc= reset_model('svc')\n",
    "svc.fit(x, y)\n",
    "\n",
    "knn= reset_model('knn')\n",
    "knn.fit(x,y)\n",
    "\n",
    "mlp= reset_model('mlp')\n",
    "mlp.fit(x,y)\n",
    "\n",
    "from sklearn.ensemble import VotingClassifier\n",
    "#create a dictionary of our models\n",
    "estimators=[(\"xgboost\", xgboost), ('rf', rf), ('log_reg', logreg), ('mlp',mlp), ('svc',svc)]\n",
    "#create our voting classifier, inputting our models\n",
    "ensemble = VotingClassifier(estimators, voting='soft', n_jobs=-1)\n",
    "ensemble.fit(x,y)\n",
    "# If ‘hard’, uses predicted class labels for majority rule voting.\n",
    "# Else if ‘soft’, predicts the class label based on the argmax of the sums of the predicted probabilities,\n",
    "# which is recommended for an ensemble of well-calibrated classifiers.\n",
    "\n",
    "\n",
    "# from sklearn.naive_bayes import GaussianNB\n",
    "# gnb =GaussianNB()\n",
    "# nb_y_pred = gnb.fit(x, y)\n"
   ]
  },
  {
   "cell_type": "markdown",
   "metadata": {},
   "source": [
    "### wrapping up ensemble and CV"
   ]
  },
  {
   "cell_type": "code",
   "execution_count": 36,
   "metadata": {},
   "outputs": [
    {
     "name": "stdout",
     "output_type": "stream",
     "text": [
      "time: 4min 11s\n"
     ]
    }
   ],
   "source": [
    "#running the ensemble in cv\n",
    "ensemble_cv= hypertuned_cv_fxn(x, y, ensemble, nfolds=nfolds)"
   ]
  },
  {
   "cell_type": "code",
   "execution_count": 37,
   "metadata": {},
   "outputs": [
    {
     "name": "stdout",
     "output_type": "stream",
     "text": [
      "/Users/geickelb1/Documents/GitHub/mimiciii-antibiotics-opensource/tables/16122019_72_hr_window/\n"
     ]
    },
    {
     "data": {
      "text/html": [
       "<div>\n",
       "<style scoped>\n",
       "    .dataframe tbody tr th:only-of-type {\n",
       "        vertical-align: middle;\n",
       "    }\n",
       "\n",
       "    .dataframe tbody tr th {\n",
       "        vertical-align: top;\n",
       "    }\n",
       "\n",
       "    .dataframe thead th {\n",
       "        text-align: right;\n",
       "    }\n",
       "</style>\n",
       "<table border=\"1\" class=\"dataframe\">\n",
       "  <thead>\n",
       "    <tr style=\"text-align: right;\">\n",
       "      <th></th>\n",
       "      <th>auc</th>\n",
       "      <th>auc_sd</th>\n",
       "      <th>precision</th>\n",
       "      <th>precision_sd</th>\n",
       "      <th>recall</th>\n",
       "      <th>recall_sd</th>\n",
       "      <th>f1</th>\n",
       "      <th>f1_sd</th>\n",
       "      <th>npv</th>\n",
       "      <th>npv_sd</th>\n",
       "      <th>tp_threshold</th>\n",
       "      <th>tp_threshold_sd</th>\n",
       "    </tr>\n",
       "    <tr>\n",
       "      <th>model</th>\n",
       "      <th></th>\n",
       "      <th></th>\n",
       "      <th></th>\n",
       "      <th></th>\n",
       "      <th></th>\n",
       "      <th></th>\n",
       "      <th></th>\n",
       "      <th></th>\n",
       "      <th></th>\n",
       "      <th></th>\n",
       "      <th></th>\n",
       "      <th></th>\n",
       "    </tr>\n",
       "  </thead>\n",
       "  <tbody>\n",
       "    <tr>\n",
       "      <th>VotingClassifier</th>\n",
       "      <td>0.813</td>\n",
       "      <td>0.017</td>\n",
       "      <td>0.350</td>\n",
       "      <td>0.040</td>\n",
       "      <td>0.909</td>\n",
       "      <td>0.005</td>\n",
       "      <td>0.504</td>\n",
       "      <td>0.043</td>\n",
       "      <td>0.943</td>\n",
       "      <td>0.008</td>\n",
       "      <td>0.190</td>\n",
       "      <td>0.018</td>\n",
       "    </tr>\n",
       "    <tr>\n",
       "      <th>XGBClassifier</th>\n",
       "      <td>0.811</td>\n",
       "      <td>0.017</td>\n",
       "      <td>0.353</td>\n",
       "      <td>0.042</td>\n",
       "      <td>0.912</td>\n",
       "      <td>0.014</td>\n",
       "      <td>0.507</td>\n",
       "      <td>0.045</td>\n",
       "      <td>0.946</td>\n",
       "      <td>0.010</td>\n",
       "      <td>0.120</td>\n",
       "      <td>0.014</td>\n",
       "    </tr>\n",
       "    <tr>\n",
       "      <th>RandomForestClassifier</th>\n",
       "      <td>0.809</td>\n",
       "      <td>0.019</td>\n",
       "      <td>0.349</td>\n",
       "      <td>0.040</td>\n",
       "      <td>0.910</td>\n",
       "      <td>0.010</td>\n",
       "      <td>0.503</td>\n",
       "      <td>0.043</td>\n",
       "      <td>0.944</td>\n",
       "      <td>0.009</td>\n",
       "      <td>0.268</td>\n",
       "      <td>0.021</td>\n",
       "    </tr>\n",
       "    <tr>\n",
       "      <th>LogisticRegression</th>\n",
       "      <td>0.802</td>\n",
       "      <td>0.018</td>\n",
       "      <td>0.339</td>\n",
       "      <td>0.035</td>\n",
       "      <td>0.915</td>\n",
       "      <td>0.012</td>\n",
       "      <td>0.494</td>\n",
       "      <td>0.039</td>\n",
       "      <td>0.945</td>\n",
       "      <td>0.009</td>\n",
       "      <td>0.290</td>\n",
       "      <td>0.028</td>\n",
       "    </tr>\n",
       "    <tr>\n",
       "      <th>SVC</th>\n",
       "      <td>0.801</td>\n",
       "      <td>0.017</td>\n",
       "      <td>0.341</td>\n",
       "      <td>0.036</td>\n",
       "      <td>0.910</td>\n",
       "      <td>0.007</td>\n",
       "      <td>0.495</td>\n",
       "      <td>0.039</td>\n",
       "      <td>0.942</td>\n",
       "      <td>0.010</td>\n",
       "      <td>0.121</td>\n",
       "      <td>0.012</td>\n",
       "    </tr>\n",
       "    <tr>\n",
       "      <th>MLPClassifier</th>\n",
       "      <td>0.798</td>\n",
       "      <td>0.023</td>\n",
       "      <td>0.349</td>\n",
       "      <td>0.043</td>\n",
       "      <td>0.905</td>\n",
       "      <td>0.004</td>\n",
       "      <td>0.502</td>\n",
       "      <td>0.046</td>\n",
       "      <td>0.941</td>\n",
       "      <td>0.008</td>\n",
       "      <td>0.121</td>\n",
       "      <td>0.018</td>\n",
       "    </tr>\n",
       "    <tr>\n",
       "      <th>KNeighborsClassifier</th>\n",
       "      <td>0.741</td>\n",
       "      <td>0.015</td>\n",
       "      <td>0.279</td>\n",
       "      <td>0.024</td>\n",
       "      <td>0.926</td>\n",
       "      <td>0.025</td>\n",
       "      <td>0.428</td>\n",
       "      <td>0.028</td>\n",
       "      <td>0.921</td>\n",
       "      <td>0.020</td>\n",
       "      <td>0.076</td>\n",
       "      <td>0.012</td>\n",
       "    </tr>\n",
       "  </tbody>\n",
       "</table>\n",
       "</div>"
      ],
      "text/plain": [
       "                          auc  auc_sd  precision  precision_sd  recall  \\\n",
       "model                                                                    \n",
       "VotingClassifier        0.813   0.017      0.350         0.040   0.909   \n",
       "XGBClassifier           0.811   0.017      0.353         0.042   0.912   \n",
       "RandomForestClassifier  0.809   0.019      0.349         0.040   0.910   \n",
       "LogisticRegression      0.802   0.018      0.339         0.035   0.915   \n",
       "SVC                     0.801   0.017      0.341         0.036   0.910   \n",
       "MLPClassifier           0.798   0.023      0.349         0.043   0.905   \n",
       "KNeighborsClassifier    0.741   0.015      0.279         0.024   0.926   \n",
       "\n",
       "                        recall_sd     f1  f1_sd    npv  npv_sd  tp_threshold  \\\n",
       "model                                                                          \n",
       "VotingClassifier            0.005  0.504  0.043  0.943   0.008         0.190   \n",
       "XGBClassifier               0.014  0.507  0.045  0.946   0.010         0.120   \n",
       "RandomForestClassifier      0.010  0.503  0.043  0.944   0.009         0.268   \n",
       "LogisticRegression          0.012  0.494  0.039  0.945   0.009         0.290   \n",
       "SVC                         0.007  0.495  0.039  0.942   0.010         0.121   \n",
       "MLPClassifier               0.004  0.502  0.046  0.941   0.008         0.121   \n",
       "KNeighborsClassifier        0.025  0.428  0.028  0.921   0.020         0.076   \n",
       "\n",
       "                        tp_threshold_sd  \n",
       "model                                    \n",
       "VotingClassifier                  0.018  \n",
       "XGBClassifier                     0.014  \n",
       "RandomForestClassifier            0.021  \n",
       "LogisticRegression                0.028  \n",
       "SVC                               0.012  \n",
       "MLPClassifier                     0.018  \n",
       "KNeighborsClassifier              0.012  "
      ]
     },
     "execution_count": 37,
     "metadata": {},
     "output_type": "execute_result"
    },
    {
     "name": "stdout",
     "output_type": "stream",
     "text": [
      "time: 31.8 ms\n"
     ]
    }
   ],
   "source": [
    "#updating the cv table with ensemble data\n",
    "cv_summary_df= pd.DataFrame([rf_cv,\n",
    "                             logreg_cv,\n",
    "                             xgboost_cv,\n",
    "                             svc_cv,\n",
    "                             knn_cv,\n",
    "                             mlp_cv,\n",
    "                             ensemble_cv])\n",
    "cv_summary_df= cv_summary_df.set_index('model').round(decimals=3).sort_values('auc', ascending=False)\n",
    "\n",
    "if save_boolean==True:\n",
    "    save_df(cv_summary_df, df_name='default', rel_path='/tables/')\n",
    "\n",
    "cv_summary_df"
   ]
  },
  {
   "cell_type": "markdown",
   "metadata": {},
   "source": [
    "## global model test set evaluation"
   ]
  },
  {
   "cell_type": "markdown",
   "metadata": {},
   "source": [
    "# del this once i add into discussion\n",
    "\n",
    "**choose the best performing model on the holdout set results in the paper, not all**\n",
    "putting in discussion:\n",
    "in the holdout set, the predicted negative patients were (using tuned threshold);\n",
    "\n",
    "now applying ab on holdout:\n",
    "using the default threshold, we might expct 500/2700 to be true negatives. around 20% are around false negatives (missing 20% of false infections), would be stopping ab on mor ethan half the patients.\n",
    "\n",
    "for xgb with tuned:\n",
    "80/~1100 patients actually have an infection that we missed. this is 7.4%(npv).\n",
    "if we extrapolate this to the holdout set, of the patients that were treated with long ab with no confirmed infection, using our tuned model we would expect to predict (946/7000) patients at low risk of bacterial infection. out of those, we would expect ~7.4% to have a true infection incorrectly classified. ie, theoretically it would benefit ~875 patients. \n",
    "\n",
    "can argue the same thing with 50% threshold. now predicting up to 4000 patients are negative, and about 20% of those would have a true infection that would be misclassified. so about 3200 patients would benefit. \n",
    "\n",
    "causal inference:\n",
    "however, we don't know if this holdout set is the same patients, and further matching is necessary to test the hyp that removing them ab would clinically benefit them.\n",
    "\n",
    "**talk about potential clinical utilitity > measured utility for this paper**\n",
    "\n",
    "one additional thing can do: \n",
    "looking at those who are false negatives in the test set. can compare them to the true positives. (all the pos patients, the ones that are correctly classified and ones that are mis classified). \n",
    "\n",
    "can look at outcomes such as mortality, icustay, etc... if FN are less sick, we can say even if model falsely precicts as false neg, this pop is less susceptible to adverse events. \n",
    "\n",
    "w/ clinical utility gotta weight the badness of false classifying vs goodness of correct classifying. if it's as bad to misclass as good to correct, unless performance is great, you might be harming patients. so it's important to explore badness of misclass vs goodness of correct class. inorder to illustrate the clinical utility, gotta start thinking about weights of misclass vs class. \n",
    "\n",
    "now trying to present argument; we putting some weight into misclass. ie maybe the misclass can be tolerated more. ie: if you had a misclass, there is a higher likelyhood that we can catch it later cuz it may be less severe.\n",
    "\n",
    "have opportunity to talk about my next steps: try to improve perfomance with more complex algorithms. also, test outcomes of matched group. \n"
   ]
  },
  {
   "cell_type": "code",
   "execution_count": 97,
   "metadata": {},
   "outputs": [
    {
     "data": {
      "text/plain": [
       "3100"
      ]
     },
     "execution_count": 97,
     "metadata": {},
     "output_type": "execute_result"
    },
    {
     "name": "stdout",
     "output_type": "stream",
     "text": [
      "time: 2.49 ms\n"
     ]
    }
   ],
   "source": [
    "len(y_test)"
   ]
  },
  {
   "cell_type": "code",
   "execution_count": 102,
   "metadata": {},
   "outputs": [
    {
     "name": "stdout",
     "output_type": "stream",
     "text": [
      "/Users/geickelb1/Documents/GitHub/mimiciii-antibiotics-opensource/figures/16122019_72_hr_window\n"
     ]
    },
    {
     "data": {
      "image/png": "[encoded data removed]",
      "text/plain": [
       "<Figure size 864x432 with 1 Axes>"
      ]
     },
     "metadata": {},
     "output_type": "display_data"
    },
    {
     "name": "stdout",
     "output_type": "stream",
     "text": [
      "\n",
      "******* Using 0.5 Classification Threshold *******\n",
      "\n",
      "               pred_neg  pred_pos\n",
      "condition_neg      2237       118\n",
      "condition_pos       484       261\n",
      "\n",
      "\n",
      "the Accuracy is: 0.806\n",
      "npv: 0.822\n",
      "the classification_report:\n",
      "               precision    recall  f1-score   support\n",
      "\n",
      "           0      0.822     0.950     0.881      2355\n",
      "           1      0.689     0.350     0.464       745\n",
      "\n",
      "   micro avg      0.806     0.806     0.806      3100\n",
      "   macro avg      0.755     0.650     0.673      3100\n",
      "weighted avg      0.790     0.806     0.781      3100\n",
      "\n",
      "\n",
      "******* Using Optimal TPR>=0.9 Classification Threshold *******\n",
      "\n",
      "\n",
      "the Youden optimal index is : 0.120\n",
      "\n",
      "\n",
      "               pred_neg  pred_pos\n",
      "condition_neg      1124      1231\n",
      "condition_pos        81       664\n",
      "\n",
      "\n",
      "the Accuracy is: 0.577\n",
      "npv: 0.933\n",
      "the classification_report:\n",
      "               precision    recall  f1-score   support\n",
      "\n",
      "           0      0.933     0.477     0.631      2355\n",
      "           1      0.350     0.891     0.503       745\n",
      "\n",
      "   micro avg      0.577     0.577     0.577      3100\n",
      "   macro avg      0.642     0.684     0.567      3100\n",
      "weighted avg      0.793     0.577     0.601      3100\n",
      "\n",
      "time: 570 ms\n"
     ]
    }
   ],
   "source": [
    "xgboost_eval= classifier_eval(xgboost, x=np.array(x_test), y=y_test,\n",
    "                              training=False,\n",
    "                              train_threshold= cv_summary_df.loc['XGBClassifier','tp_threshold'],\n",
    "                              model_name='xgboost', folder_name=folder)"
   ]
  },
  {
   "cell_type": "code",
   "execution_count": 84,
   "metadata": {},
   "outputs": [
    {
     "name": "stdout",
     "output_type": "stream",
     "text": [
      "time: 445 µs\n"
     ]
    }
   ],
   "source": [
    "save_boolean=True"
   ]
  },
  {
   "cell_type": "code",
   "execution_count": 103,
   "metadata": {},
   "outputs": [
    {
     "name": "stdout",
     "output_type": "stream",
     "text": [
      "/Users/geickelb1/Documents/GitHub/mimiciii-antibiotics-opensource/figures/16122019_72_hr_window\n"
     ]
    },
    {
     "data": {
      "image/png": "[encoded data removed]",
      "text/plain": [
       "<Figure size 864x432 with 1 Axes>"
      ]
     },
     "metadata": {},
     "output_type": "display_data"
    },
    {
     "name": "stdout",
     "output_type": "stream",
     "text": [
      "\n",
      "******* Using 0.5 Classification Threshold *******\n",
      "\n",
      "               pred_neg  pred_pos\n",
      "condition_neg      2157       198\n",
      "condition_pos       404       341\n",
      "\n",
      "\n",
      "the Accuracy is: 0.806\n",
      "npv: 0.842\n",
      "the classification_report:\n",
      "               precision    recall  f1-score   support\n",
      "\n",
      "           0      0.842     0.916     0.878      2355\n",
      "           1      0.633     0.458     0.531       745\n",
      "\n",
      "   micro avg      0.806     0.806     0.806      3100\n",
      "   macro avg      0.737     0.687     0.704      3100\n",
      "weighted avg      0.792     0.806     0.794      3100\n",
      "\n",
      "\n",
      "******* Using Optimal TPR>=0.9 Classification Threshold *******\n",
      "\n",
      "\n",
      "the Youden optimal index is : 0.268\n",
      "\n",
      "\n",
      "               pred_neg  pred_pos\n",
      "condition_neg      1074      1281\n",
      "condition_pos        69       676\n",
      "\n",
      "\n",
      "the Accuracy is: 0.565\n",
      "npv: 0.940\n",
      "the classification_report:\n",
      "               precision    recall  f1-score   support\n",
      "\n",
      "           0      0.940     0.456     0.614      2355\n",
      "           1      0.345     0.907     0.500       745\n",
      "\n",
      "   micro avg      0.565     0.565     0.565      3100\n",
      "   macro avg      0.643     0.682     0.557      3100\n",
      "weighted avg      0.797     0.565     0.587      3100\n",
      "\n",
      "time: 592 ms\n"
     ]
    }
   ],
   "source": [
    "rf_eval= classifier_eval(rf, x=np.array(x_test), y=y_test,\n",
    "                         training=False,train_threshold= cv_summary_df.loc['RandomForestClassifier','tp_threshold'],\n",
    "                         model_name='rf', folder_name=folder)"
   ]
  },
  {
   "cell_type": "code",
   "execution_count": 104,
   "metadata": {},
   "outputs": [
    {
     "name": "stdout",
     "output_type": "stream",
     "text": [
      "/Users/geickelb1/Documents/GitHub/mimiciii-antibiotics-opensource/figures/16122019_72_hr_window\n"
     ]
    },
    {
     "data": {
      "image/png": "[encoded data removed]",
      "text/plain": [
       "<Figure size 864x432 with 1 Axes>"
      ]
     },
     "metadata": {},
     "output_type": "display_data"
    },
    {
     "name": "stdout",
     "output_type": "stream",
     "text": [
      "\n",
      "******* Using 0.5 Classification Threshold *******\n",
      "\n",
      "               pred_neg  pred_pos\n",
      "condition_neg      2152       203\n",
      "condition_pos       432       313\n",
      "\n",
      "\n",
      "the Accuracy is: 0.795\n",
      "npv: 0.833\n",
      "the classification_report:\n",
      "               precision    recall  f1-score   support\n",
      "\n",
      "           0      0.833     0.914     0.871      2355\n",
      "           1      0.607     0.420     0.496       745\n",
      "\n",
      "   micro avg      0.795     0.795     0.795      3100\n",
      "   macro avg      0.720     0.667     0.684      3100\n",
      "weighted avg      0.778     0.795     0.781      3100\n",
      "\n",
      "\n",
      "******* Using Optimal TPR>=0.9 Classification Threshold *******\n",
      "\n",
      "\n",
      "the Youden optimal index is : 0.121\n",
      "\n",
      "\n",
      "               pred_neg  pred_pos\n",
      "condition_neg       790      1565\n",
      "condition_pos        45       700\n",
      "\n",
      "\n",
      "the Accuracy is: 0.481\n",
      "npv: 0.946\n",
      "the classification_report:\n",
      "               precision    recall  f1-score   support\n",
      "\n",
      "           0      0.946     0.335     0.495      2355\n",
      "           1      0.309     0.940     0.465       745\n",
      "\n",
      "   micro avg      0.481     0.481     0.481      3100\n",
      "   macro avg      0.628     0.638     0.480      3100\n",
      "weighted avg      0.793     0.481     0.488      3100\n",
      "\n",
      "time: 487 ms\n"
     ]
    }
   ],
   "source": [
    "mlp_eval= classifier_eval(mlp, x=np.array(x_test), y=y_test,\n",
    "                          training=False,train_threshold= cv_summary_df.loc['MLPClassifier','tp_threshold'],\n",
    "                          model_name='mlp', folder_name=folder)"
   ]
  },
  {
   "cell_type": "code",
   "execution_count": 105,
   "metadata": {},
   "outputs": [
    {
     "name": "stdout",
     "output_type": "stream",
     "text": [
      "/Users/geickelb1/Documents/GitHub/mimiciii-antibiotics-opensource/figures/16122019_72_hr_window\n"
     ]
    },
    {
     "data": {
      "image/png": "[encoded data removed]",
      "text/plain": [
       "<Figure size 864x432 with 1 Axes>"
      ]
     },
     "metadata": {},
     "output_type": "display_data"
    },
    {
     "name": "stdout",
     "output_type": "stream",
     "text": [
      "\n",
      "******* Using 0.5 Classification Threshold *******\n",
      "\n",
      "               pred_neg  pred_pos\n",
      "condition_neg      1793       562\n",
      "condition_pos       246       499\n",
      "\n",
      "\n",
      "the Accuracy is: 0.739\n",
      "npv: 0.879\n",
      "the classification_report:\n",
      "               precision    recall  f1-score   support\n",
      "\n",
      "           0      0.879     0.761     0.816      2355\n",
      "           1      0.470     0.670     0.553       745\n",
      "\n",
      "   micro avg      0.739     0.739     0.739      3100\n",
      "   macro avg      0.675     0.716     0.684      3100\n",
      "weighted avg      0.781     0.739     0.753      3100\n",
      "\n",
      "\n",
      "******* Using Optimal TPR>=0.9 Classification Threshold *******\n",
      "\n",
      "\n",
      "the Youden optimal index is : 0.121\n",
      "\n",
      "\n",
      "               pred_neg  pred_pos\n",
      "condition_neg      1119      1236\n",
      "condition_pos        93       652\n",
      "\n",
      "\n",
      "the Accuracy is: 0.571\n",
      "npv: 0.923\n",
      "the classification_report:\n",
      "               precision    recall  f1-score   support\n",
      "\n",
      "           0      0.923     0.475     0.627      2355\n",
      "           1      0.345     0.875     0.495       745\n",
      "\n",
      "   micro avg      0.571     0.571     0.571      3100\n",
      "   macro avg      0.634     0.675     0.561      3100\n",
      "weighted avg      0.784     0.571     0.596      3100\n",
      "\n",
      "time: 1.53 s\n"
     ]
    }
   ],
   "source": [
    "svc_eval= classifier_eval(svc, x=np.array(x_test), y=y_test,\n",
    "                          training=False,train_threshold= cv_summary_df.loc['SVC','tp_threshold'],\n",
    "                          model_name='svc', folder_name=folder)"
   ]
  },
  {
   "cell_type": "code",
   "execution_count": 106,
   "metadata": {},
   "outputs": [
    {
     "name": "stdout",
     "output_type": "stream",
     "text": [
      "/Users/geickelb1/Documents/GitHub/mimiciii-antibiotics-opensource/figures/16122019_72_hr_window\n"
     ]
    },
    {
     "data": {
      "image/png": "[encoded data removed]",
      "text/plain": [
       "<Figure size 864x432 with 1 Axes>"
      ]
     },
     "metadata": {},
     "output_type": "display_data"
    },
    {
     "name": "stdout",
     "output_type": "stream",
     "text": [
      "\n",
      "******* Using 0.5 Classification Threshold *******\n",
      "\n",
      "               pred_neg  pred_pos\n",
      "condition_neg      1780       575\n",
      "condition_pos       240       505\n",
      "\n",
      "\n",
      "the Accuracy is: 0.737\n",
      "npv: 0.881\n",
      "the classification_report:\n",
      "               precision    recall  f1-score   support\n",
      "\n",
      "           0      0.881     0.756     0.814      2355\n",
      "           1      0.468     0.678     0.553       745\n",
      "\n",
      "   micro avg      0.737     0.737     0.737      3100\n",
      "   macro avg      0.674     0.717     0.684      3100\n",
      "weighted avg      0.782     0.737     0.751      3100\n",
      "\n",
      "\n",
      "******* Using Optimal TPR>=0.9 Classification Threshold *******\n",
      "\n",
      "\n",
      "the Youden optimal index is : 0.290\n",
      "\n",
      "\n",
      "               pred_neg  pred_pos\n",
      "condition_neg      1051      1304\n",
      "condition_pos        80       665\n",
      "\n",
      "\n",
      "the Accuracy is: 0.554\n",
      "npv: 0.929\n",
      "the classification_report:\n",
      "               precision    recall  f1-score   support\n",
      "\n",
      "           0      0.929     0.446     0.603      2355\n",
      "           1      0.338     0.893     0.490       745\n",
      "\n",
      "   micro avg      0.554     0.554     0.554      3100\n",
      "   macro avg      0.634     0.669     0.547      3100\n",
      "weighted avg      0.787     0.554     0.576      3100\n",
      "\n",
      "time: 821 ms\n"
     ]
    }
   ],
   "source": [
    "logreg_eval= classifier_eval(logreg, x=np.array(x_test),\n",
    "                             training=False,train_threshold= cv_summary_df.loc['LogisticRegression','tp_threshold'],                             \n",
    "                             y=y_test, model_name='logreg', folder_name=folder)"
   ]
  },
  {
   "cell_type": "code",
   "execution_count": 107,
   "metadata": {},
   "outputs": [
    {
     "name": "stdout",
     "output_type": "stream",
     "text": [
      "/Users/geickelb1/Documents/GitHub/mimiciii-antibiotics-opensource/figures/16122019_72_hr_window\n"
     ]
    },
    {
     "data": {
      "image/png": "[encoded data removed]",
      "text/plain": [
       "<Figure size 864x432 with 1 Axes>"
      ]
     },
     "metadata": {},
     "output_type": "display_data"
    },
    {
     "name": "stdout",
     "output_type": "stream",
     "text": [
      "\n",
      "******* Using 0.5 Classification Threshold *******\n",
      "\n",
      "               pred_neg  pred_pos\n",
      "condition_neg      2328        27\n",
      "condition_pos       644       101\n",
      "\n",
      "\n",
      "the Accuracy is: 0.784\n",
      "npv: 0.783\n",
      "the classification_report:\n",
      "               precision    recall  f1-score   support\n",
      "\n",
      "           0      0.783     0.989     0.874      2355\n",
      "           1      0.789     0.136     0.231       745\n",
      "\n",
      "   micro avg      0.784     0.784     0.784      3100\n",
      "   macro avg      0.786     0.562     0.553      3100\n",
      "weighted avg      0.785     0.784     0.720      3100\n",
      "\n",
      "\n",
      "******* Using Optimal TPR>=0.9 Classification Threshold *******\n",
      "\n",
      "\n",
      "the Youden optimal index is : 0.076\n",
      "\n",
      "\n",
      "               pred_neg  pred_pos\n",
      "condition_neg       667      1688\n",
      "condition_pos        67       678\n",
      "\n",
      "\n",
      "the Accuracy is: 0.434\n",
      "npv: 0.909\n",
      "the classification_report:\n",
      "               precision    recall  f1-score   support\n",
      "\n",
      "           0      0.909     0.283     0.432      2355\n",
      "           1      0.287     0.910     0.436       745\n",
      "\n",
      "   micro avg      0.434     0.434     0.434      3100\n",
      "   macro avg      0.598     0.597     0.434      3100\n",
      "weighted avg      0.759     0.434     0.433      3100\n",
      "\n",
      "time: 4.13 s\n"
     ]
    }
   ],
   "source": [
    "knn_eval= classifier_eval(knn, x=np.array(x_test), y=y_test,\n",
    "                          training=False,train_threshold= cv_summary_df.loc['KNeighborsClassifier','tp_threshold'],           \n",
    "                          model_name='knn', folder_name=folder)"
   ]
  },
  {
   "cell_type": "code",
   "execution_count": 108,
   "metadata": {},
   "outputs": [
    {
     "name": "stdout",
     "output_type": "stream",
     "text": [
      "/Users/geickelb1/Documents/GitHub/mimiciii-antibiotics-opensource/figures/16122019_72_hr_window\n"
     ]
    },
    {
     "data": {
      "image/png": "[encoded data removed]",
      "text/plain": [
       "<Figure size 864x432 with 1 Axes>"
      ]
     },
     "metadata": {},
     "output_type": "display_data"
    },
    {
     "name": "stdout",
     "output_type": "stream",
     "text": [
      "\n",
      "******* Using 0.5 Classification Threshold *******\n",
      "\n",
      "               pred_neg  pred_pos\n",
      "condition_neg      2165       190\n",
      "condition_pos       433       312\n",
      "\n",
      "\n",
      "the Accuracy is: 0.799\n",
      "npv: 0.833\n",
      "the classification_report:\n",
      "               precision    recall  f1-score   support\n",
      "\n",
      "           0      0.833     0.919     0.874      2355\n",
      "           1      0.622     0.419     0.500       745\n",
      "\n",
      "   micro avg      0.799     0.799     0.799      3100\n",
      "   macro avg      0.727     0.669     0.687      3100\n",
      "weighted avg      0.782     0.799     0.784      3100\n",
      "\n",
      "\n",
      "******* Using Optimal TPR>=0.9 Classification Threshold *******\n",
      "\n",
      "\n",
      "the Youden optimal index is : 0.190\n",
      "\n",
      "\n",
      "               pred_neg  pred_pos\n",
      "condition_neg      1066      1289\n",
      "condition_pos        74       671\n",
      "\n",
      "\n",
      "the Accuracy is: 0.560\n",
      "npv: 0.935\n",
      "the classification_report:\n",
      "               precision    recall  f1-score   support\n",
      "\n",
      "           0      0.935     0.453     0.610      2355\n",
      "           1      0.342     0.901     0.496       745\n",
      "\n",
      "   micro avg      0.560     0.560     0.560      3100\n",
      "   macro avg      0.639     0.677     0.553      3100\n",
      "weighted avg      0.793     0.560     0.583      3100\n",
      "\n",
      "time: 1.85 s\n"
     ]
    }
   ],
   "source": [
    "ensemble_eval= classifier_eval(ensemble, \n",
    "                               x=np.array(x_test),\n",
    "                               y=y_test, \n",
    "                               training=False,\n",
    "                               train_threshold= cv_summary_df.loc['VotingClassifier','tp_threshold'],                             \n",
    "                               model_name='ensemble',\n",
    "                               folder_name=folder, save=True)"
   ]
  },
  {
   "cell_type": "markdown",
   "metadata": {},
   "source": [
    "looks like its the rashamon effect that doesn't benefit from ensembling.\n",
    "\n",
    "ie there are hidden variables that can discriminate the patients."
   ]
  },
  {
   "cell_type": "markdown",
   "metadata": {},
   "source": [
    "# classification performance table"
   ]
  },
  {
   "cell_type": "code",
   "execution_count": 109,
   "metadata": {},
   "outputs": [
    {
     "name": "stdout",
     "output_type": "stream",
     "text": [
      "/Users/geickelb1/Documents/GitHub/mimiciii-antibiotics-opensource/tables/16122019_72_hr_window/\n",
      "                          auc  precision  recall     f1    npv  threshold\n",
      "model                                                                    \n",
      "XGBClassifier           0.806      0.350   0.891  0.503  0.933      0.120\n",
      "RandomForestClassifier  0.805      0.345   0.907  0.500  0.940      0.268\n",
      "VotingClassifier        0.802      0.342   0.901  0.496  0.935      0.190\n",
      "MLPClassifier           0.788      0.309   0.940  0.465  0.946      0.121\n",
      "LogisticRegression      0.787      0.338   0.893  0.490  0.929      0.290\n",
      "SVC                     0.787      0.345   0.875  0.495  0.923      0.121\n",
      "KNeighborsClassifier    0.735      0.287   0.910  0.436  0.909      0.076\n",
      "time: 22.2 ms\n"
     ]
    }
   ],
   "source": [
    "test_summary_df= pd.DataFrame([xgboost_eval, rf_eval, logreg_eval,  mlp_eval, svc_eval, knn_eval, ensemble_eval])\n",
    "test_summary_df=test_summary_df.set_index('model').round(decimals=3).sort_values('auc', ascending=False)\n",
    "if save_boolean==True:\n",
    "    save_df(test_summary_df, df_name='default', rel_path='/tables/')\n",
    "print(test_summary_df)"
   ]
  },
  {
   "cell_type": "markdown",
   "metadata": {},
   "source": [
    "# QC: checking performance on training set for xgboost and rf"
   ]
  },
  {
   "cell_type": "code",
   "execution_count": 110,
   "metadata": {},
   "outputs": [
    {
     "name": "stdout",
     "output_type": "stream",
     "text": [
      "/Users/geickelb1/Documents/GitHub/mimiciii-antibiotics-opensource/figures/16122019_72_hr_window\n"
     ]
    },
    {
     "data": {
      "image/png": "[encoded data removed]",
      "text/plain": [
       "<Figure size 864x432 with 1 Axes>"
      ]
     },
     "metadata": {},
     "output_type": "display_data"
    },
    {
     "name": "stdout",
     "output_type": "stream",
     "text": [
      "\n",
      "******* Using 0.5 Classification Threshold *******\n",
      "\n",
      "               pred_neg  pred_pos\n",
      "condition_neg      5332       180\n",
      "condition_pos       973       720\n",
      "\n",
      "\n",
      "the Accuracy is: 0.840\n",
      "npv: 0.846\n",
      "the classification_report:\n",
      "               precision    recall  f1-score   support\n",
      "\n",
      "           0      0.846     0.967     0.902      5512\n",
      "           1      0.800     0.425     0.555      1693\n",
      "\n",
      "   micro avg      0.840     0.840     0.840      7205\n",
      "   macro avg      0.823     0.696     0.729      7205\n",
      "weighted avg      0.835     0.840     0.821      7205\n",
      "\n",
      "\n",
      "******* Using Optimal TPR>=0.9 Classification Threshold *******\n",
      "\n",
      "\n",
      "the Youden optimal index is : 0.120\n",
      "\n",
      "\n",
      "               pred_neg  pred_pos\n",
      "condition_neg      2784      2728\n",
      "condition_pos        94      1599\n",
      "\n",
      "\n",
      "the Accuracy is: 0.608\n",
      "npv: 0.967\n",
      "the classification_report:\n",
      "               precision    recall  f1-score   support\n",
      "\n",
      "           0      0.967     0.505     0.664      5512\n",
      "           1      0.370     0.944     0.531      1693\n",
      "\n",
      "   micro avg      0.608     0.608     0.608      7205\n",
      "   macro avg      0.668     0.725     0.597      7205\n",
      "weighted avg      0.827     0.608     0.633      7205\n",
      "\n",
      "time: 678 ms\n"
     ]
    }
   ],
   "source": [
    "xgboost_train= classifier_eval(xgboost, x=np.array(x_train), y=y_train,\n",
    "                               training=False,\n",
    "                               train_threshold= cv_summary_df.loc['XGBClassifier','tp_threshold'],  \n",
    "                               model_name='xgboost_train', folder_name=folder, save=False)"
   ]
  },
  {
   "cell_type": "code",
   "execution_count": 128,
   "metadata": {},
   "outputs": [
    {
     "name": "stdout",
     "output_type": "stream",
     "text": [
      "/Users/geickelb1/Documents/GitHub/mimiciii-antibiotics-opensource/figures/16122019_72_hr_window\n"
     ]
    },
    {
     "data": {
      "image/png": "[encoded data removed]",
      "text/plain": [
       "<Figure size 864x432 with 1 Axes>"
      ]
     },
     "metadata": {},
     "output_type": "display_data"
    },
    {
     "name": "stdout",
     "output_type": "stream",
     "text": [
      "\n",
      "******* Using 0.5 Classification Threshold *******\n",
      "\n",
      "               pred_neg  pred_pos\n",
      "condition_neg      5495        17\n",
      "condition_pos        41      1652\n",
      "\n",
      "\n",
      "the Accuracy is: 0.992\n",
      "npv: 0.993\n",
      "the classification_report:\n",
      "               precision    recall  f1-score   support\n",
      "\n",
      "           0      0.993     0.997     0.995      5512\n",
      "           1      0.990     0.976     0.983      1693\n",
      "\n",
      "   micro avg      0.992     0.992     0.992      7205\n",
      "   macro avg      0.991     0.986     0.989      7205\n",
      "weighted avg      0.992     0.992     0.992      7205\n",
      "\n",
      "\n",
      "******* Using Optimal TPR>=0.9 Classification Threshold *******\n",
      "\n",
      "\n",
      "the Youden optimal index is : 0.268\n",
      "\n",
      "\n",
      "               pred_neg  pred_pos\n",
      "condition_neg      4052      1460\n",
      "condition_pos         0      1693\n",
      "\n",
      "\n",
      "the Accuracy is: 0.797\n",
      "npv: 1.000\n",
      "the classification_report:\n",
      "               precision    recall  f1-score   support\n",
      "\n",
      "           0      1.000     0.735     0.847      5512\n",
      "           1      0.537     1.000     0.699      1693\n",
      "\n",
      "   micro avg      0.797     0.797     0.797      7205\n",
      "   macro avg      0.768     0.868     0.773      7205\n",
      "weighted avg      0.891     0.797     0.812      7205\n",
      "\n",
      "time: 835 ms\n"
     ]
    }
   ],
   "source": [
    "rf_train= classifier_eval(rf, x=np.array(x_train), y=y_train,\n",
    "                          training=False,\n",
    "                          train_threshold= cv_summary_df.loc['RandomForestClassifier','tp_threshold'],  \n",
    "                          model_name='rf_train', folder_name=folder, save=False)"
   ]
  },
  {
   "cell_type": "markdown",
   "metadata": {},
   "source": [
    "# publication figures"
   ]
  },
  {
   "cell_type": "code",
   "execution_count": 112,
   "metadata": {},
   "outputs": [
    {
     "name": "stdout",
     "output_type": "stream",
     "text": [
      "time: 1.55 ms\n"
     ]
    }
   ],
   "source": [
    "# making a model dictionary for ease of use in plotting\n",
    "keys= ['rf', 'xgboost', 'logreg', 'mlp','svc', 'knn', 'ensemble']\n",
    "model_list=[rf, xgboost, logreg, mlp, svc, knn, ensemble]\n",
    "models_dic={}\n",
    "for i in range(0,len(model_list)):\n",
    "    models_dic.update({keys[i] : model_list[i]} )"
   ]
  },
  {
   "cell_type": "markdown",
   "metadata": {},
   "source": [
    "## stacked roc curve "
   ]
  },
  {
   "cell_type": "code",
   "execution_count": 113,
   "metadata": {},
   "outputs": [
    {
     "name": "stdout",
     "output_type": "stream",
     "text": [
      "time: 1.69 ms\n"
     ]
    }
   ],
   "source": [
    "def roc_publishing(model, x, y, proba_input=False,pos_label=1, print_default=True, model_name=None):\n",
    "    import sklearn.metrics as metrics\n",
    "    from sklearn.metrics import precision_score, roc_auc_score, f1_score, recall_score\n",
    "\n",
    "    model_name=type(model).__name__\n",
    "\n",
    "    y_proba = model.predict_proba(x)[:,1]\n",
    "        \n",
    "    fpr, tpr, thresholds = metrics.roc_curve(y, y_proba, pos_label=pos_label)\n",
    "    roc_auc = metrics.auc(fpr, tpr)\n",
    "    \n",
    "    #gathering the optimal youden_index and df of tpr/fpr for auc and index of that optimal youden. idx is needed in the roc\n",
    "    youden_threshold, roc_df, idx= optimal_youden_index(fpr, tpr, thresholds, tp90=True)\n",
    "    \n",
    "    return(fpr, tpr, roc_auc, roc_df, idx)"
   ]
  },
  {
   "cell_type": "code",
   "execution_count": 130,
   "metadata": {},
   "outputs": [
    {
     "name": "stdout",
     "output_type": "stream",
     "text": [
      "time: 6.82 ms\n"
     ]
    }
   ],
   "source": [
    "def stacked_roc(x_test, y_test, models_dic, first_bold=True):\n",
    "    \"\"\"\n",
    "    plotting function to plot a stacked ROC based on models in a dictionary. \n",
    "    first_bold=True means that the first model in the dic will stand out and be a solid line, while others are dotted\n",
    "    \"\"\"\n",
    "    \n",
    "    global save_boolean\n",
    "    \n",
    "    plt.style.use('seaborn-white')\n",
    "    plt.rcParams['figure.figsize'] = [7, 4]\n",
    "    \n",
    "    if first_bold==True: i=0\n",
    "    else: i=1\n",
    "        \n",
    "#         #####\n",
    "#     y_proba = model.predict_proba(x)[:,1]\n",
    "        \n",
    "#     fpr, tpr, thresholds = metrics.roc_curve(y, y_proba, pos_label=pos_label)\n",
    "#     roc_auc = metrics.auc(fpr, tpr)\n",
    "    \n",
    "#     #gathering the optimal youden_index and df of tpr/fpr for auc and index of that optimal youden. idx is needed in the roc\n",
    "#     youden_threshold, roc_df, idx= optimal_youden_index(fpr, tpr, thresholds,tp90=True)\n",
    "\n",
    "#     #plotting roc\n",
    "#     plot_roc(fpr, tpr, roc_auc, roc_df, idx, save=save, model_name=model_name,folder_name=folder)    \n",
    "#         ######\n",
    "        \n",
    "    for model_name in models_dic.keys():\n",
    "        #ax4= plt.plot(fpr, tpr, label = '%s AUC = %0.3f' % (model_name, roc_auc), linestyle='dotted')\n",
    "        if i==0:\n",
    "            model=models_dic[model_name]\n",
    "            fpr, tpr, roc_auc, roc_df, idx= roc_publishing(model, x=np.array(x_test), y=y_test, model_name=model_name)\n",
    "            print(model_name, roc_auc)\n",
    "            ax1= plt.plot(fpr, tpr, 'b', label = '%s AUC = %0.3f' % (model_name, roc_auc), linewidth=2)\n",
    "            og_idx=roc_df.iloc[(roc_df['thresholds']-0.5).abs().argsort()[:1]].index[0]\n",
    "#             plt.plot(roc_df.iloc[og_idx,1], roc_df.iloc[og_idx,2],marker='o', markersize=8, color=\"black\")\n",
    "#             plt.plot(roc_df.iloc[idx,1], roc_df.iloc[idx,2],marker='o', markersize=6, color='r') ##\n",
    "        \n",
    "        else:\n",
    "            model=models_dic[model_name]\n",
    "            fpr, tpr, roc_auc, roc_df, idx= roc_publishing(model, x=np.array(x_test), y=y_test, model_name=model_name)\n",
    "            print(model_name, roc_auc)\n",
    "            ax1= plt.plot(fpr, tpr, label = '%s AUC = %0.3f' % (model_name, roc_auc), linestyle='dotted')\n",
    "            og_idx=roc_df.iloc[(roc_df['thresholds']-0.5).abs().argsort()[:1]].index[0]\n",
    "#             plt.plot(roc_df.iloc[og_idx,1], roc_df.iloc[og_idx,2],marker='o', markersize=8, color=\"black\")\n",
    "#             plt.plot(roc_df.iloc[idx,1], roc_df.iloc[idx,2],marker='o', markersize=6, color='r') ##\n",
    "        i+=1\n",
    "        \n",
    "    ###annotating the plot\n",
    "    plt.legend(loc = 'lower right')   \n",
    "#     plt.annotate(s=\"P(0.5)\",xy=(0.71, 0.50),color='black', size=10) #textcoords #alt: xy=(0.78, 0.345)\n",
    "#     plt.plot(0.68, 0.51, 'ro', color='black') #alt: (0.73, 0.36, 'ro', color='black')\n",
    "#     plt.annotate(s=\"P(tuned)\",xy=(0.71, 0.56),color='black', size=10) #textcoords #alt: xy=(0.78, 0.405)\n",
    "#     plt.plot(0.68, 0.57, 'ro', color='r') #alt: (0.73, 0.42, 'ro', color='r')\n",
    "\n",
    "    plt.xlim([0, 1])\n",
    "    plt.ylim([0, 1])\n",
    "    plt.ylabel('True Positive Rate', size=14)\n",
    "    plt.xlabel('False Positive Rate', size=14)\n",
    "    plt.grid(color='grey', linestyle='-', linewidth=1, alpha=0.2)\n",
    "\n",
    "    if save_boolean==True:\n",
    "        saveplot(plt,'stacked_roc')\n",
    "    else: pass\n",
    "    plt.show()"
   ]
  },
  {
   "cell_type": "code",
   "execution_count": 115,
   "metadata": {},
   "outputs": [
    {
     "data": {
      "text/plain": [
       "dict_keys(['rf', 'xgboost', 'logreg', 'mlp', 'svc', 'knn', 'ensemble'])"
      ]
     },
     "execution_count": 115,
     "metadata": {},
     "output_type": "execute_result"
    },
    {
     "name": "stdout",
     "output_type": "stream",
     "text": [
      "time: 4.8 ms\n"
     ]
    }
   ],
   "source": [
    "models_dic.keys()"
   ]
  },
  {
   "cell_type": "code",
   "execution_count": 131,
   "metadata": {},
   "outputs": [
    {
     "name": "stdout",
     "output_type": "stream",
     "text": [
      "rf 0.8053759671696662\n",
      "xgboost 0.8060188945411021\n",
      "logreg 0.7869334131292836\n",
      "mlp 0.7883811396571622\n",
      "svc 0.7869989598027901\n",
      "knn 0.7348409068239786\n",
      "ensemble 0.8023009732256088\n",
      "/Users/geickelb1/Documents/GitHub/mimiciii-antibiotics-opensource/figures/16122019_72_hr_window\n"
     ]
    },
    {
     "data": {
      "image/png": "[encoded data removed]",
      "text/plain": [
       "<Figure size 504x288 with 1 Axes>"
      ]
     },
     "metadata": {},
     "output_type": "display_data"
    },
    {
     "name": "stdout",
     "output_type": "stream",
     "text": [
      "time: 3.61 s\n"
     ]
    }
   ],
   "source": [
    "stacked_roc(x_test, y_test, models_dic, first_bold=False)"
   ]
  },
  {
   "cell_type": "markdown",
   "metadata": {},
   "source": [
    "# "
   ]
  },
  {
   "cell_type": "markdown",
   "metadata": {},
   "source": [
    "# variable importance\n",
    "* first: find the top N (default=10) most important variables for each model\n",
    "* second: make a set of all unique variables present in the combined list of all models top N variables = varimp_set\n",
    "* find the variable importances for each model for varimp_set variables\n",
    "* scale the variable importance for each model relative to the MOST IMPORTANT VARIABLE:\n",
    " * ie: var1= 50 (max); var2= 25; var3= 5 --> varimp: var1=100, var2=50, var3=10\n",
    "* plot these as a line plot in descending order for the best performing model"
   ]
  },
  {
   "cell_type": "code",
   "execution_count": 117,
   "metadata": {},
   "outputs": [
    {
     "name": "stdout",
     "output_type": "stream",
     "text": [
      "time: 751 µs\n"
     ]
    }
   ],
   "source": [
    "from parameters import n_varimp"
   ]
  },
  {
   "cell_type": "code",
   "execution_count": 118,
   "metadata": {},
   "outputs": [
    {
     "name": "stdout",
     "output_type": "stream",
     "text": [
      "time: 3.04 ms\n"
     ]
    }
   ],
   "source": [
    "def find_N_varimp_set(x_train, models_dic):\n",
    "    \"\"\"\n",
    "    function that takes in a dictionary of models and the x_train dataframe and returns the set of variables present in the combined list of each model's top N most important variables.\n",
    "    1) find top N variables for each model\n",
    "    2) make list of all models top N\n",
    "    3) filter to only unique values in list = varimp_names\n",
    "    \"\"\"\n",
    "    global n_varimp\n",
    "    features_dic={}\n",
    "    top_set_dic={}\n",
    "\n",
    "    for model_name in models_dic.keys():\n",
    "        model= models_dic[model_name]\n",
    "        print(model_name)\n",
    "        if model_name in ['knn','ensemble', 'mlp']:\n",
    "            pass\n",
    "        elif model_name in ['logreg','svc']:\n",
    "            feature_importance = abs(model.coef_[0])\n",
    "            sorted_idx = np.argsort(feature_importance)[-n_varimp:]#[0]\n",
    "            features =list(np.array(x_train.columns)[sorted_idx][-n_varimp:])\n",
    "            features_dic.update( {model_name :features } )\n",
    "        else:\n",
    "            feat_importances = pd.Series(model.feature_importances_, index=x_train.columns)\n",
    "            features=feat_importances.nlargest(n_varimp).sort_values()\n",
    "            features=list(features.reset_index()['index'])\n",
    "            features_dic.update( {model_name :features } )\n",
    "    #######\n",
    "    set_features=[]\n",
    "\n",
    "    for features in features_dic.values():\n",
    "        set_features=set_features+features\n",
    "    set_features=set(set_features)\n",
    "    varimp_names=list(set_features)\n",
    "\n",
    "    return(varimp_names)"
   ]
  },
  {
   "cell_type": "code",
   "execution_count": 119,
   "metadata": {},
   "outputs": [
    {
     "name": "stdout",
     "output_type": "stream",
     "text": [
      "time: 2.58 ms\n"
     ]
    }
   ],
   "source": [
    "def topN_rel_imp(models_dic, varimp_names):\n",
    "    \"\"\"\n",
    "    input:dictionary of models and the top N set of important variables among models\n",
    "    output: relative variable importance for each model of all set(varimp_names) variables.\n",
    "    note: relative variable importance determined by dividing each variable importance by the value of the most important variable. this makes all values a comparison to the most important varaible:\n",
    "    ie 50 rel variable importance = half as important as the most important variable\n",
    "    \"\"\"\n",
    "    \n",
    "    # finding the index of the set(varimp_names) in the dataframe.  \n",
    "    #getting index of the set(top10) variables in x_train\n",
    "    xtrain_column_index_list=[]\n",
    "    for element in varimp_names:\n",
    "        variable_index=list(x_train).index(element)\n",
    "        xtrain_column_index_list.append(variable_index)\n",
    "    \n",
    "    top_set_dic={} #instantiating dictionary\n",
    "    for model_name in models_dic.keys(): ##now that we have set of top N variables for each model. we can make relative importance for all unique variables in the set\n",
    "        model= models_dic[model_name]\n",
    "        if model_name in ['knn','ensemble', 'mlp']:\n",
    "            pass\n",
    "        \n",
    "        elif model_name in ['logreg','svc']: \n",
    "            imp= abs(model.coef_[0])[xtrain_column_index_list]\n",
    "            rel_imp=100.0 * (imp / imp.max())\n",
    "            features =list(np.array(x_train.columns)[xtrain_column_index_list])#[-n_varimp:])\n",
    "            top_set= pd.Series(rel_imp,features).sort_values()\n",
    "            top_set_dic.update( {model_name :top_set } )\n",
    "\n",
    "        else:\n",
    "            imp=pd.Series(models_dic[model_name].feature_importances_, index=x_train.columns)[xtrain_column_index_list]\n",
    "            imp=imp.sort_values()\n",
    "            rel_imp=100.0 * (imp / imp.max())\n",
    "            features =list(np.array(x_train.columns)[xtrain_column_index_list])\n",
    "            top_set= rel_imp\n",
    "            top_set_dic.update( {model_name :top_set } )\n",
    "\n",
    "    return(top_set_dic)"
   ]
  },
  {
   "cell_type": "code",
   "execution_count": 120,
   "metadata": {},
   "outputs": [
    {
     "name": "stdout",
     "output_type": "stream",
     "text": [
      "time: 1.25 ms\n"
     ]
    }
   ],
   "source": [
    "def roc_name_adjust(varimp_names):\n",
    "    \"\"\"\n",
    "    cleans up the column names for the variable importance plot for publishing\n",
    "    \"\"\"\n",
    "    adjusted_names=[]\n",
    "    mapper={'vent_recieved_2.0': 'mechanical ventilation recieved',\n",
    "            'vent_recieved_1.0': 'oxygen ventilation recieved',\n",
    "            'vent_recieved_1.0': 'no ventilation recieved',\n",
    "            'pao2fio2ratio':'PaO2:FiO2',\n",
    "#             'pao2fio2ratio_(475, 3000]': 'PaO2:FiO2 (475-3000)',\n",
    "#             'pao2fio2ratio_(200, 333]': 'PaO2:FiO2 (200-333)',\n",
    "#             'pao2fio2ratio_(333, 475]': 'PaO2:FiO2 (333-475)',\n",
    "            'ipco2_>50': 'pCO2 (>50)',\n",
    "            'ibands_>10': 'bands (>10)',\n",
    "            'ibands_absent': 'bands (missing)'}\n",
    "    \n",
    "    for element in varimp_names:\n",
    "        if element in mapper.keys():\n",
    "            element= mapper[element]\n",
    "            adjusted_names.append(element)\n",
    "        elif \"_1.0\" in element:\n",
    "            element= element.strip(\"_1.0\") + ' (Y/N)'\n",
    "            adjusted_names.append(element)\n",
    "        else:\n",
    "            adjusted_names.append(element)\n",
    "        \n",
    "    return(adjusted_names)"
   ]
  },
  {
   "cell_type": "code",
   "execution_count": 121,
   "metadata": {},
   "outputs": [
    {
     "name": "stdout",
     "output_type": "stream",
     "text": [
      "time: 2.02 ms\n"
     ]
    }
   ],
   "source": [
    "def plot_topN_rel_imp(top_set_dic, varimp_names, xvar_rotation=80):\n",
    "    \"\"\"\n",
    "    plot the variable importance plots as a lineplot\n",
    "    rotation: the amount of xvar rotation\n",
    "    \"\"\"\n",
    "    global save_boolean\n",
    "    \n",
    "    df_base=pd.DataFrame(index=varimp_names)  \n",
    "\n",
    "    for model_name in top_set_dic.keys():\n",
    "        df_base[model_name]= top_set_dic[model_name]\n",
    "\n",
    "    adjusted_names=roc_name_adjust(varimp_names)\n",
    "    df_base.index=adjusted_names\n",
    "    df_base.sort_values('rf', ascending=False)\n",
    "\n",
    "    plt.style.use('seaborn-ticks')\n",
    "    plt.rcParams['figure.figsize'] = [12,6]#[7, 7]\n",
    "    plt.plot(df_base.sort_values('rf', ascending=True))\n",
    "    #plt.set_xticklabels(adjusted_names,rotation=30)\n",
    "    plt.xticks(rotation=xvar_rotation, size=14)#, weight='bold')#, ha='right')\n",
    "    plt.ylabel(\"Relative Variable Importance\", size=18)#, weight='bold')\n",
    "    plt.legend(list(df_base), prop={'size': 14})\n",
    "    \n",
    "    if save_boolean==True:\n",
    "        saveplot(plt,'variable_importance')\n",
    "\n",
    "    return(df_base)\n",
    "\n"
   ]
  },
  {
   "cell_type": "code",
   "execution_count": 122,
   "metadata": {},
   "outputs": [
    {
     "name": "stdout",
     "output_type": "stream",
     "text": [
      "rf\n",
      "xgboost\n",
      "logreg\n",
      "mlp\n",
      "svc\n",
      "knn\n",
      "ensemble\n",
      "/Users/geickelb1/Documents/GitHub/mimiciii-antibiotics-opensource/figures/16122019_72_hr_window\n"
     ]
    },
    {
     "data": {
      "image/png": "[encoded data removed]",
      "text/plain": [
       "<Figure size 864x432 with 1 Axes>"
      ]
     },
     "metadata": {},
     "output_type": "display_data"
    },
    {
     "name": "stdout",
     "output_type": "stream",
     "text": [
      "time: 764 ms\n"
     ]
    }
   ],
   "source": [
    "#find set(topN) variables\n",
    "varimp_names= find_N_varimp_set(x_train, models_dic)\n",
    "\n",
    "#find rel importance of set(topN) variables for each model\n",
    "top_set_dic= topN_rel_imp(models_dic, varimp_names)\n",
    "\n",
    "#plot the variable importance plot\n",
    "topN_rel_imp_df= plot_topN_rel_imp(top_set_dic, varimp_names, xvar_rotation=80)"
   ]
  },
  {
   "cell_type": "code",
   "execution_count": 123,
   "metadata": {},
   "outputs": [
    {
     "name": "stdout",
     "output_type": "stream",
     "text": [
      "time: 1.97 ms\n"
     ]
    }
   ],
   "source": [
    "all_features=[\n",
    "    'bilirubin','bun','chloride',\n",
    "     'creatinine','glucose','heartrate',\n",
    "     'inr','lactate','potassium',\n",
    "     'ptt','resprate','sum_elix',\n",
    "     'temperature','bicarbonate','diasbp',\n",
    "     'hemoglobin','meanartpress','mingcs',\n",
    "     'pao2fio2ratio','ph','platelet',\n",
    "     'spo2','sysbp','maxCalcium',\n",
    "     'maxSodium','maxWBC','minCalcium',\n",
    "     'minSodium','minWBC','weight',\n",
    "     'yearsold','ethnicity_black','ethnicity_hispanic',\n",
    "     'ethnicity_unknown/other','ethnicity_white/nonhispanic','bands_>10',\n",
    "     'bands_absent','pco2_>50','pco2_absent',\n",
    "     'any_vasoactives_recieved','leukocyte_pos','nitrite_pos',\n",
    "     'vent_recieved_None','vent_recieved_Oxygen','dobutamine_recieved',\n",
    "     'gender_M','gender_NA','dopamine_recieved',\n",
    "     'epinephrine_recieved','norepinephrine_recieved','phenylephrine_recieved',\n",
    "     'rrt_recieved','vasopressin_recieved','cancer_elix_no_cancer_cormorb'\n",
    "]"
   ]
  },
  {
   "cell_type": "markdown",
   "metadata": {},
   "source": [
    "# Model Saving"
   ]
  },
  {
   "cell_type": "code",
   "execution_count": 124,
   "metadata": {},
   "outputs": [
    {
     "name": "stdout",
     "output_type": "stream",
     "text": [
      "time: 16 ms\n"
     ]
    }
   ],
   "source": [
    "def model_save(model, model_name):\n",
    "    import pickle\n",
    "    modelpath=str(repository_path)+'/models/{}_{}'.format(date,folder)\n",
    "\n",
    "    if not os.path.exists(modelpath):\n",
    "        print(modelpath)\n",
    "        os.makedirs(modelpath)\n",
    "\n",
    "    filename = str(modelpath)+'/finalized_{}.sav'.format(model_name)\n",
    "    pickle.dump(model, open(filename, 'wb'))"
   ]
  },
  {
   "cell_type": "code",
   "execution_count": 125,
   "metadata": {},
   "outputs": [
    {
     "name": "stdout",
     "output_type": "stream",
     "text": [
      "time: 258 ms\n"
     ]
    }
   ],
   "source": [
    "model_save(xgboost,'xgboost')\n",
    "model_save(rf,'rf')\n",
    "model_save(logreg,'logreg')\n",
    "model_save(svc,'svc')\n",
    "model_save(knn,'knn')\n",
    "model_save(mlp,'mlp')\n",
    "model_save(ensemble,'ensemble')"
   ]
  },
  {
   "cell_type": "code",
   "execution_count": 126,
   "metadata": {},
   "outputs": [
    {
     "data": {
      "text/plain": [
       "'72_hr_window'"
      ]
     },
     "execution_count": 126,
     "metadata": {},
     "output_type": "execute_result"
    },
    {
     "name": "stdout",
     "output_type": "stream",
     "text": [
      "time: 2.77 ms\n"
     ]
    }
   ],
   "source": [
    "folder"
   ]
  },
  {
   "cell_type": "code",
   "execution_count": 127,
   "metadata": {},
   "outputs": [
    {
     "data": {
      "text/plain": [
       "'16122019'"
      ]
     },
     "execution_count": 127,
     "metadata": {},
     "output_type": "execute_result"
    },
    {
     "name": "stdout",
     "output_type": "stream",
     "text": [
      "time: 4.2 ms\n"
     ]
    }
   ],
   "source": [
    "date"
   ]
  },
  {
   "cell_type": "code",
   "execution_count": null,
   "metadata": {},
   "outputs": [],
   "source": []
  },
  {
   "cell_type": "markdown",
   "metadata": {},
   "source": [
    "cool model debugging code, useful to make validation curves across hyperparameters:"
   ]
  },
  {
   "cell_type": "code",
   "execution_count": 65,
   "metadata": {},
   "outputs": [
    {
     "name": "stdout",
     "output_type": "stream",
     "text": [
      "time: 869 µs\n"
     ]
    }
   ],
   "source": [
    "# def val_curve_plot(train_scoreNum, test_scoreNum, param_range, param_name, rename_x_tick=False, param_range_name=['0','1']):\n",
    "#     \"\"\"quick function to plot a validation curve across different hyperparameters\"\"\"\n",
    "#     plt.rcParams['figure.figsize'] = [7, 4]\n",
    "    \n",
    "#     train_scores_mean = np.mean(train_scoreNum, axis=1)\n",
    "#     train_scores_std = np.std(train_scoreNum, axis=1)\n",
    "#     test_scores_mean = np.mean(test_scoreNum, axis=1)\n",
    "#     test_scores_std = np.std(test_scoreNum, axis=1)\n",
    "\n",
    "#     plt.title(\"Validation Curve with RF and parameter:{}\".format(param_name))\n",
    "#     plt.xlabel(r\"$\\gamma$\")\n",
    "#     plt.ylabel(\"Score\")\n",
    "#     plt.ylim(0.6, 1.1)\n",
    "#     try:\n",
    "#         plt.xlim(0, max(param_range))\n",
    "#     except TypeError:\n",
    "#         pass\n",
    "#     lw = 2\n",
    "\n",
    "#     if rename_x_tick==False:\n",
    "#         param_range_name=param_range\n",
    "#     plt.errorbar(param_range_name,train_scores_mean, yerr=train_scores_std, alpha=0.6, color='darkorange', lw=lw, label='train')\n",
    "#     plt.errorbar(param_range_name,test_scores_mean, yerr=test_scores_std, alpha=0.6, color='blue', lw=lw, label='test')\n",
    "#     plt.legend(loc='best')\n",
    "#     plt.show()"
   ]
  },
  {
   "cell_type": "code",
   "execution_count": 66,
   "metadata": {},
   "outputs": [
    {
     "name": "stdout",
     "output_type": "stream",
     "text": [
      "time: 503 µs\n"
     ]
    }
   ],
   "source": [
    "# from sklearn.model_selection import validation_curve\n",
    "\n",
    "# param_range=[2, 10, 15, 25, 35, 50, 200]#[100, 300, 500, 750, 800, 1200]\n",
    "\n",
    "# train_scoreNum, test_scoreNum = validation_curve(\n",
    "#                                 RandomForestClassifier(),\n",
    "#                                 X = x, y = y, \n",
    "#                                 param_name = 'n_estimators', \n",
    "#                                 param_range = param_range, cv = 5)\n",
    "\n",
    "# val_curve_plot(train_scoreNum, test_scoreNum, param_range, param_name='n_estimators')"
   ]
  },
  {
   "cell_type": "code",
   "execution_count": 67,
   "metadata": {},
   "outputs": [
    {
     "name": "stdout",
     "output_type": "stream",
     "text": [
      "time: 412 µs\n"
     ]
    }
   ],
   "source": [
    "#list(x_train2.loc[:,[x for x in list(x_train2) if x not in categorical]])"
   ]
  },
  {
   "cell_type": "code",
   "execution_count": null,
   "metadata": {},
   "outputs": [],
   "source": []
  },
  {
   "cell_type": "markdown",
   "metadata": {},
   "source": [
    "# exploring LIME visualization package (depreciated at current point)"
   ]
  },
  {
   "cell_type": "code",
   "execution_count": 68,
   "metadata": {},
   "outputs": [
    {
     "name": "stdout",
     "output_type": "stream",
     "text": [
      "time: 14.8 ms\n"
     ]
    }
   ],
   "source": [
    "# x_train2=x_train.copy()"
   ]
  },
  {
   "cell_type": "code",
   "execution_count": 69,
   "metadata": {},
   "outputs": [
    {
     "name": "stdout",
     "output_type": "stream",
     "text": [
      "time: 587 µs\n"
     ]
    }
   ],
   "source": [
    "# # trying to get LIME package working\n",
    "# import lime\n",
    "# import lime.lime_tabular"
   ]
  },
  {
   "cell_type": "code",
   "execution_count": 70,
   "metadata": {},
   "outputs": [
    {
     "name": "stdout",
     "output_type": "stream",
     "text": [
      "time: 4.49 ms\n"
     ]
    }
   ],
   "source": [
    "# explainer = lime.lime_tabular.LimeTabularExplainer(np.array(x_train), feature_names=list(x_train), class_names=[0,1], discretize_continuous=True)\n",
    "\n",
    "# explainer = lime.lime_tabular.LimeTabularExplainer(train ,feature_names = feature_names,class_names=class_names,\n",
    "#                                                    categorical_features=categorical_features, \n",
    "#                                                    categorical_names=categorical_names, kernel_width=3"
   ]
  },
  {
   "cell_type": "code",
   "execution_count": 71,
   "metadata": {},
   "outputs": [
    {
     "name": "stdout",
     "output_type": "stream",
     "text": [
      "time: 389 µs\n"
     ]
    }
   ],
   "source": [
    "# i = np.random.randint(0, x_test.shape[0])\n",
    "# exp = explainer.explain_instance(np.array(x_test)[i], rf.predict_proba, num_features=len(list(x_train)), top_labels=1)\n",
    "# exp.show_in_notebook(show_table=True, show_all=False)"
   ]
  },
  {
   "cell_type": "code",
   "execution_count": 72,
   "metadata": {},
   "outputs": [
    {
     "name": "stdout",
     "output_type": "stream",
     "text": [
      "time: 622 µs\n"
     ]
    }
   ],
   "source": [
    "# y_test[i]"
   ]
  },
  {
   "cell_type": "code",
   "execution_count": 73,
   "metadata": {},
   "outputs": [
    {
     "name": "stdout",
     "output_type": "stream",
     "text": [
      "time: 297 µs\n"
     ]
    }
   ],
   "source": [
    "# np.array(x_test)[i]"
   ]
  },
  {
   "cell_type": "code",
   "execution_count": 74,
   "metadata": {},
   "outputs": [
    {
     "name": "stdout",
     "output_type": "stream",
     "text": [
      "time: 332 µs\n"
     ]
    }
   ],
   "source": [
    "# x_test.iloc[i,:5]"
   ]
  },
  {
   "cell_type": "code",
   "execution_count": 75,
   "metadata": {},
   "outputs": [
    {
     "name": "stdout",
     "output_type": "stream",
     "text": [
      "time: 437 µs\n"
     ]
    }
   ],
   "source": [
    "# exp = explainer.explain_instance(np.array(x_test)[i], xgboost.predict_proba, num_features=len(list(x_train)), top_labels=1)\n",
    "# exp.show_in_notebook(show_table=True, show_all=False)"
   ]
  },
  {
   "cell_type": "code",
   "execution_count": null,
   "metadata": {},
   "outputs": [],
   "source": []
  },
  {
   "cell_type": "markdown",
   "metadata": {},
   "source": [
    "Now, there is a lot going on here. First, note that the row we are explained is displayed on the right side, in table format. Since we had the show_all parameter set to false, only the features used in the explanation are displayed.\n",
    "\n",
    "The value column displays the original value for each feature.\n",
    "\n",
    "Note that LIME has discretized the features in the explanation. This is because we let discretize_continuous=True in the constructor (this is the default). Discretized features make for more intuitive explanations."
   ]
  },
  {
   "cell_type": "code",
   "execution_count": 76,
   "metadata": {},
   "outputs": [
    {
     "data": {
      "text/plain": [
       "'72_hr_window'"
      ]
     },
     "execution_count": 76,
     "metadata": {},
     "output_type": "execute_result"
    },
    {
     "name": "stdout",
     "output_type": "stream",
     "text": [
      "time: 1.91 ms\n"
     ]
    }
   ],
   "source": [
    "folder"
   ]
  },
  {
   "cell_type": "code",
   "execution_count": null,
   "metadata": {},
   "outputs": [],
   "source": []
  },
  {
   "cell_type": "code",
   "execution_count": null,
   "metadata": {},
   "outputs": [],
   "source": []
  }
 ],
 "metadata": {
  "kernelspec": {
   "display_name": "Python 3",
   "language": "python",
   "name": "python3"
  },
  "language_info": {
   "codemirror_mode": {
    "name": "ipython",
    "version": 3
   },
   "file_extension": ".py",
   "mimetype": "text/x-python",
   "name": "python",
   "nbconvert_exporter": "python",
   "pygments_lexer": "ipython3",
   "version": "3.6.8"
  }
 },
 "nbformat": 4,
 "nbformat_minor": 4
}
