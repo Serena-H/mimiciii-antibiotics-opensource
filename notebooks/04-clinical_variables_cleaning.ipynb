{
 "cells": [
  {
   "cell_type": "code",
   "execution_count": 1,
   "metadata": {},
   "outputs": [],
   "source": [
    "# designed to be run after 03-clinical_variables_final. this notebook does some data cleaning/processing. run before -___ notebook."
   ]
  },
  {
   "cell_type": "code",
   "execution_count": 2,
   "metadata": {},
   "outputs": [
    {
     "name": "stderr",
     "output_type": "stream",
     "text": [
      "/Users/geickelb1/anaconda/envs/rpy-env/lib/python3.6/site-packages/ipykernel_launcher.py:10: DeprecationWarning: The 'cachedir' parameter has been deprecated in version 0.12 and will be removed in version 0.14.\n",
      "You provided \"cachedir='/tmp'\", use \"location='/tmp'\" instead.\n",
      "  # Remove the CWD from sys.path while we load stuff.\n"
     ]
    }
   ],
   "source": [
    "import pandas as pd\n",
    "import matplotlib.pyplot as plt\n",
    "import os\n",
    "from pathlib import Path\n",
    "import seaborn as sns\n",
    "import numpy as np\n",
    "import glob\n",
    "\n",
    "from sklearn.externals.joblib import Memory\n",
    "memory = Memory(cachedir='/tmp', verbose=0)\n",
    "#@memory.cache above any def fxn.\n",
    "\n",
    "%matplotlib inline\n",
    "plt.style.use('ggplot')\n",
    "\n",
    "from notebook.services.config import ConfigManager\n",
    "cm = ConfigManager()\n",
    "cm.update('livereveal', {\n",
    "        'width': 1024,\n",
    "        'height': 768,\n",
    "        'scroll': True,\n",
    "})\n",
    "\n",
    "%load_ext autotime\n",
    "%reload_ext autotime"
   ]
  },
  {
   "cell_type": "code",
   "execution_count": 3,
   "metadata": {},
   "outputs": [
    {
     "name": "stdout",
     "output_type": "stream",
     "text": [
      "time: 1.14 s\n"
     ]
    }
   ],
   "source": [
    "#patients of interest from rotation_cohort_generation\n",
    "from parameters import final_pt_df_v, date, repository_path\n",
    "\n",
    "#patients of interest from rotation_cohort_generation\n",
    "final_pt_df2 = final_pt_df_v\n",
    "del(final_pt_df_v)\n",
    "\n",
    "patients= list(final_pt_df2['subject_id'].unique())\n",
    "hadm_id= list(final_pt_df2['hadm_id'].unique())\n",
    "icustay_id= list(final_pt_df2['icustay_id'].unique())\n",
    "icustay_id= [int(x) for x in icustay_id]\n"
   ]
  },
  {
   "cell_type": "code",
   "execution_count": 4,
   "metadata": {},
   "outputs": [
    {
     "data": {
      "text/plain": [
       "C_neg/A_partial    7867\n",
       "C_neg/A_full       7401\n",
       "C_pos/A_full       2438\n",
       "C_pos/A_partial    1927\n",
       "Name: final_bin, dtype: int64"
      ]
     },
     "execution_count": 4,
     "metadata": {},
     "output_type": "execute_result"
    },
    {
     "name": "stdout",
     "output_type": "stream",
     "text": [
      "time: 6.2 ms\n"
     ]
    }
   ],
   "source": [
    "final_pt_df2['final_bin'].value_counts()"
   ]
  },
  {
   "cell_type": "code",
   "execution_count": 5,
   "metadata": {},
   "outputs": [
    {
     "data": {
      "text/plain": [
       "C_neg/A_partial    7867\n",
       "C_neg/A_full       7401\n",
       "C_pos/A_full       2438\n",
       "C_pos/A_partial    1927\n",
       "Name: final_bin, dtype: int64"
      ]
     },
     "execution_count": 5,
     "metadata": {},
     "output_type": "execute_result"
    },
    {
     "name": "stdout",
     "output_type": "stream",
     "text": [
      "time: 4.77 ms\n"
     ]
    }
   ],
   "source": [
    "final_pt_df2['final_bin'].value_counts()"
   ]
  },
  {
   "cell_type": "markdown",
   "metadata": {},
   "source": [
    "# extracting clinical data for our patients\n",
    "## IMPORTANT, USE THIS TO TUNE TIMEWINDOW OF EXTRACTION AND FOLDER TO SAVE IN"
   ]
  },
  {
   "cell_type": "markdown",
   "metadata": {},
   "source": [
    "#NOTE ON MY DF NAMING CONVENTION:\n",
    "origionally when I coded this workbook, it was for 72 hour timewindows, so every dataframe had _72 at the end. this was changed on 6/5/19 and was made more generalizable by finding name of each corresponding df in the df list and using this variable."
   ]
  },
  {
   "cell_type": "code",
   "execution_count": 6,
   "metadata": {},
   "outputs": [
    {
     "name": "stdout",
     "output_type": "stream",
     "text": [
      "time: 747 µs\n"
     ]
    }
   ],
   "source": [
    "from parameters import lower_window, upper_window, folder, date, time_col, time_var, patient_df, save_boolean\n"
   ]
  },
  {
   "cell_type": "markdown",
   "metadata": {},
   "source": [
    "### begin pipeline:"
   ]
  },
  {
   "cell_type": "markdown",
   "metadata": {},
   "source": [
    "# changing my code structure to be a dictionary of dataframes"
   ]
  },
  {
   "cell_type": "code",
   "execution_count": 7,
   "metadata": {},
   "outputs": [
    {
     "name": "stdout",
     "output_type": "stream",
     "text": [
      "time: 6.61 ms\n"
     ]
    }
   ],
   "source": [
    "#folder to save files to:\n",
    "save_path= str(repository_path)+'/data/cleaned/'\n",
    "#folder=None\n",
    "\n",
    "\n",
    "def save_df(df, df_name='default', save_path=save_path, add_subfolder=False):\n",
    "    #uses the date and supplied df name and saves to the savepath specified above.\n",
    "    if df_name == 'default':\n",
    "        df_name= \"%s\"%(df)\n",
    "    \n",
    "    address=save_path+'%s/'%(folder)\n",
    "    if not os.path.exists(address):\n",
    "        print(address)\n",
    "        os.makedirs(address)\n",
    "    pd.DataFrame(df).to_csv(Path(address+'%s_%s_prepped.csv' %(date, df_name)))\n"
   ]
  },
  {
   "cell_type": "code",
   "execution_count": 8,
   "metadata": {},
   "outputs": [
    {
     "data": {
      "text/plain": [
       "'/Users/geickelb1/Documents/GitHub/mimiciii-antibiotics-opensource/data/cleaned/48_hr_window/'"
      ]
     },
     "execution_count": 8,
     "metadata": {},
     "output_type": "execute_result"
    },
    {
     "name": "stdout",
     "output_type": "stream",
     "text": [
      "time: 1.84 ms\n"
     ]
    }
   ],
   "source": [
    "save_path+'%s/'%(folder)"
   ]
  },
  {
   "cell_type": "code",
   "execution_count": 9,
   "metadata": {},
   "outputs": [
    {
     "name": "stdout",
     "output_type": "stream",
     "text": [
      "time: 1.68 ms\n"
     ]
    }
   ],
   "source": [
    "##folder with all clinical variable csv's\n",
    "allFiles = glob.glob(str(repository_path)+ '/data/raw/%s/'%(folder) + \"{}_*.csv\".format(date))"
   ]
  },
  {
   "cell_type": "code",
   "execution_count": 10,
   "metadata": {},
   "outputs": [
    {
     "data": {
      "text/plain": [
       "['/Users/geickelb1/Documents/GitHub/mimiciii-antibiotics-opensource/data/raw/48_hr_window/30102019_vaso_dose.csv',\n",
       " '/Users/geickelb1/Documents/GitHub/mimiciii-antibiotics-opensource/data/raw/48_hr_window/30102019_gcs.csv',\n",
       " '/Users/geickelb1/Documents/GitHub/mimiciii-antibiotics-opensource/data/raw/48_hr_window/30102019_rrt_merged.csv',\n",
       " '/Users/geickelb1/Documents/GitHub/mimiciii-antibiotics-opensource/data/raw/48_hr_window/30102019_sofa.csv',\n",
       " '/Users/geickelb1/Documents/GitHub/mimiciii-antibiotics-opensource/data/raw/48_hr_window/30102019_ventcategory.csv',\n",
       " '/Users/geickelb1/Documents/GitHub/mimiciii-antibiotics-opensource/data/raw/48_hr_window/30102019_cancer_elix.csv',\n",
       " '/Users/geickelb1/Documents/GitHub/mimiciii-antibiotics-opensource/data/raw/48_hr_window/30102019_uti_all.csv',\n",
       " '/Users/geickelb1/Documents/GitHub/mimiciii-antibiotics-opensource/data/raw/48_hr_window/30102019_heightfirstday.csv',\n",
       " '/Users/geickelb1/Documents/GitHub/mimiciii-antibiotics-opensource/data/raw/48_hr_window/30102019_pt_info.csv',\n",
       " '/Users/geickelb1/Documents/GitHub/mimiciii-antibiotics-opensource/data/raw/48_hr_window/30102019_sum_elix.csv',\n",
       " '/Users/geickelb1/Documents/GitHub/mimiciii-antibiotics-opensource/data/raw/48_hr_window/30102019_weightfirstday.csv',\n",
       " '/Users/geickelb1/Documents/GitHub/mimiciii-antibiotics-opensource/data/raw/48_hr_window/30102019_bg_all_nosummary.csv',\n",
       " '/Users/geickelb1/Documents/GitHub/mimiciii-antibiotics-opensource/data/raw/48_hr_window/30102019_labs_all_nosummary.csv',\n",
       " '/Users/geickelb1/Documents/GitHub/mimiciii-antibiotics-opensource/data/raw/48_hr_window/30102019_vitals_all_nosummary.csv']"
      ]
     },
     "execution_count": 10,
     "metadata": {},
     "output_type": "execute_result"
    },
    {
     "name": "stdout",
     "output_type": "stream",
     "text": [
      "time: 1.7 ms\n"
     ]
    }
   ],
   "source": [
    "allFiles"
   ]
  },
  {
   "cell_type": "code",
   "execution_count": 11,
   "metadata": {},
   "outputs": [
    {
     "name": "stderr",
     "output_type": "stream",
     "text": [
      "/Users/geickelb1/anaconda/envs/rpy-env/lib/python3.6/site-packages/numpy/lib/arraysetops.py:569: FutureWarning: elementwise comparison failed; returning scalar instead, but in the future will perform elementwise comparison\n",
      "  mask |= (ar1 == a)\n"
     ]
    },
    {
     "name": "stdout",
     "output_type": "stream",
     "text": [
      "time: 15.5 s\n"
     ]
    }
   ],
   "source": [
    "#making a dictionary of all my dataframes for easier cycling through\n",
    "\n",
    "df_list=[]\n",
    "for element in allFiles:\n",
    "    df_list.append(element.split('{}_'.format(date))[1].split('.csv')[0]) #making an list of all my dataframes in order they appear in file\n",
    "\n",
    "dfs = {}\n",
    "i=0\n",
    "for name in df_list:\n",
    "    dfs[name] = pd.read_csv(allFiles[i],  index_col=0)\n",
    "    i+=1"
   ]
  },
  {
   "cell_type": "code",
   "execution_count": 12,
   "metadata": {},
   "outputs": [
    {
     "data": {
      "text/plain": [
       "['vaso_dose',\n",
       " 'gcs',\n",
       " 'rrt_merged',\n",
       " 'sofa',\n",
       " 'ventcategory',\n",
       " 'cancer_elix',\n",
       " 'uti_all',\n",
       " 'heightfirstday',\n",
       " 'pt_info',\n",
       " 'sum_elix',\n",
       " 'weightfirstday',\n",
       " 'bg_all_nosummary',\n",
       " 'labs_all_nosummary',\n",
       " 'vitals_all_nosummary']"
      ]
     },
     "execution_count": 12,
     "metadata": {},
     "output_type": "execute_result"
    },
    {
     "name": "stdout",
     "output_type": "stream",
     "text": [
      "time: 2.27 ms\n"
     ]
    }
   ],
   "source": [
    "df_list"
   ]
  },
  {
   "cell_type": "code",
   "execution_count": 13,
   "metadata": {},
   "outputs": [
    {
     "name": "stdout",
     "output_type": "stream",
     "text": [
      "time: 66.7 ms\n"
     ]
    }
   ],
   "source": [
    "#assigning the appropriate name to each df in a flexible way\n",
    "\n",
    "indices = [i for i, s in enumerate(df_list) if 'bg' in s]\n",
    "bg_df= df_list[indices[0]]\n",
    "\n",
    "indices = [i for i, s in enumerate(df_list) if 'cancer' in s]\n",
    "cancer_elix_df= df_list[indices[0]]\n",
    "\n",
    "indices = [i for i, s in enumerate(df_list) if 'uti' in s]\n",
    "uti_df= df_list[indices[0]]\n",
    "\n",
    "indices = [i for i, s in enumerate(df_list) if 'vent' in s]\n",
    "vent_df= df_list[indices[0]]\n",
    "\n",
    "indices = [i for i, s in enumerate(df_list) if 'vitals' in s]\n",
    "vitals_df= df_list[indices[0]]\n",
    "\n",
    "indices = [i for i, s in enumerate(df_list) if 'vaso' in s]\n",
    "vaso_df= df_list[indices[0]]\n",
    "\n",
    "indices = [i for i, s in enumerate(df_list) if 'pt_info' in s]\n",
    "pt_info_df= df_list[indices[0]]\n",
    "\n",
    "indices = [i for i, s in enumerate(df_list) if 'gcs' in s]\n",
    "gcs_df= df_list[indices[0]]\n",
    "\n",
    "indices = [i for i, s in enumerate(df_list) if 'sum_elix' in s]\n",
    "sum_elix_df = df_list[indices[0]]\n",
    "\n",
    "indices = [i for i, s in enumerate(df_list) if 'sofa' in s]\n",
    "sofa_df= df_list[indices[0]]\n",
    "\n",
    "indices = [i for i, s in enumerate(df_list) if 'weight' in s]\n",
    "weight_df= df_list[indices[0]]\n",
    "\n",
    "indices = [i for i, s in enumerate(df_list) if 'labs' in s]\n",
    "labs_df= df_list[indices[0]]\n",
    "\n",
    "indices = [i for i, s in enumerate(df_list) if 'height' in s]\n",
    "height_df= df_list[indices[0]]\n",
    "\n",
    "indices = [i for i, s in enumerate(df_list) if 'rrt' in s]\n",
    "rrt_df= df_list[indices[0]]"
   ]
  },
  {
   "cell_type": "code",
   "execution_count": 14,
   "metadata": {},
   "outputs": [
    {
     "name": "stdout",
     "output_type": "stream",
     "text": [
      "false\n",
      "false\n",
      "false\n",
      "false\n",
      "false\n",
      "false\n",
      "false\n",
      "false\n",
      "false\n",
      "false\n",
      "time: 107 ms\n"
     ]
    }
   ],
   "source": [
    "#adding a t_0 to each df that doesn't currently have it\n",
    "\n",
    "for element in df_list:\n",
    "    #print(element,':',list(dfs[element]))\n",
    "    if ('t_0' in list(dfs[element]))==False and 'icustay_id' in list(dfs[element]) :\n",
    "        #print(\"true\")\n",
    "        dfs[element]= pd.merge(dfs[element], final_pt_df2[['icustay_id','t_0']], how='left')\n",
    "    elif ('t_0' in list(dfs[element]))==False and 'hadm_id' in list(dfs[element]) :\n",
    "        #print(\"true\")\n",
    "        dfs[element]= pd.merge(dfs[element], final_pt_df2[['hadm_id','t_0']], how='left')\n",
    "    else:\n",
    "        print(\"false\")\n"
   ]
  },
  {
   "cell_type": "code",
   "execution_count": 15,
   "metadata": {},
   "outputs": [
    {
     "name": "stdout",
     "output_type": "stream",
     "text": [
      "vaso_dose : ['icustay_id', 'charttime', 'endtime', 'vaso_rate', 'vaso_amount', 'amount_uom', 'rate_uom', 'label', 't_0', 'delta']\n",
      "gcs : ['subject_id', 'hadm_id', 'icustay_id', 'day', 'mingcs', 'gcsmotor', 'gcsverbal', 'gcseyes', 'endotrachflag', 'icu_admit', 't_0', 'approx_charttime', 'admit_plus_day', 'delta', 'uom']\n",
      "rrt_merged : ['icustay_id', 't_0', 'first_charttime', 'rrt', 'uom']\n",
      "sofa : ['subject_id', 'hadm_id', 'icustay_id', 'day', 'sofa', 'respiration', 'pao2fio2_vent_min', 'pao2fio2_novent_min', 'coagulation', 'platelet_min', 'liver', 'bilirubin_max', 'cardiovascular', 'rate_dopamine', 'rate_epinephrine', 'rate_norepinephrine', 'rate_dobutamine', 'meanbp_min', 'cns', 'mingcs', 'renal', 'creatinine_max', 'urineoutput', 't_0', 'icu_admit', 'approx_charttime', 'floor_charttime', 'floor_time_var']\n",
      "ventcategory : ['icustay_id', 'day', 'value', 'uom', 't_0']\n",
      "cancer_elix : ['subject_id', 'hadm_id', 'icustay_id', 'value', 'label', 'delta', 'uom', 't_0']\n",
      "uti_all : ['subject_id', 'hadm_id', 'itemid', 'charttime', 'value', 'valuenum', 'valueuom', 'label', 'fluid', 'category', 'loinc_code', 'icd9_code', 't_0', 'delta']\n",
      "heightfirstday : ['icustay_id', 'height', 'height_chart', 'height_echo', 'uom', 't_0']\n",
      "pt_info : ['icustay_id', 'subject_id', 't_0', 'label', 'value', 'delta', 'uom']\n",
      "sum_elix : ['subject_id', 'hadm_id', 'icustay_id', 'value', 'label', 'delta', 'uom', 't_0']\n",
      "weightfirstday : ['icustay_id', 'weight', 'weight_admit', 'weight_daily', 'weight_echoinhosp', 'weight_echoprehosp', 'uom', 't_0']\n",
      "bg_all_nosummary : ['subject_id', 'hadm_id', 'icustay_id', 'charttime', 'label', 'valuenum', 'value', 'valueuom', 'unique_var', 't_0', 'delta']\n",
      "labs_all_nosummary : ['subject_id', 'hadm_id', 'icustay_id', 'charttime', 'label', 'valuenum', 'uom', 't_0', 'delta']\n",
      "vitals_all_nosummary : ['subject_id', 'hadm_id', 'icustay_id', 'charttime', 'valueuom', 'vitalid', 'valuenum', 't_0', 'delta']\n",
      "time: 2.6 ms\n"
     ]
    }
   ],
   "source": [
    "for element in df_list:\n",
    "    print(element,':',list(dfs[element]))"
   ]
  },
  {
   "cell_type": "code",
   "execution_count": 16,
   "metadata": {},
   "outputs": [
    {
     "name": "stdout",
     "output_type": "stream",
     "text": [
      "time: 20.4 ms\n"
     ]
    }
   ],
   "source": [
    "from parameters import time_var, value_fill, delta_fill, uom_fill\n",
    "def yn_convert(df, #df in format where each row corresponds to a test, and a patient can have many rows\n",
    "               label_fill, # value that will be filled to na's\n",
    "               pt= final_pt_df2,\n",
    "               time_var=time_var,#'t_0', #\n",
    "               value_fill=value_fill,#0,\n",
    "               delta_fill=delta_fill,# pd.to_timedelta('0 days'),\n",
    "               uom_fill=uom_fill):#'y/n'):\n",
    "\n",
    "    \"\"\"\n",
    "    description: collapses (binarizes) a dataframe where each row corresponds to a test, and a patient can have many rows -> \n",
    "    1 row per patient where value is binary variable yes or no a patient has any value within the timewindow (specified in data collection).\n",
    "    said a different way, for patient this fxn collapses values down to does pt have a non NA value in the clinical time window y/n? \n",
    "    \n",
    "    label_fill: the variable name in the label column of the specified dataframe that will considered for y/n value within timewindow. if any non NA value is present\n",
    "        it will be considered positive.\n",
    "    pt: the by patient spreadsheet be be used to supply patient information.\n",
    "    time_var: the variable used to create the time window of interest.\n",
    "    value_fill: the variable value that missing values will be filled if the value is not present (default =0) in the origional dataset\n",
    "    delta_fill: the time delta value that will be filled in if a patient doesn't have any instances of the label_fill.  \n",
    "    uom_fill: fills in the unit of measurement to this for missing values.\n",
    "    \n",
    "    returns a flat 1 row per icustay_id of 1 or 0 if any value was present for the patient.\n",
    "    \"\"\"\n",
    "    \n",
    "    yn_df = pd.merge(pt[['icustay_id', time_var]],\n",
    "                      df[['icustay_id','value','label','uom','delta']],\n",
    "                     left_on= 'icustay_id',\n",
    "                     right_on= 'icustay_id',\n",
    "                      how='left') #merging all icustay_id's with time_var, where value,label,uom, and delta are nan's if no value exists for that icustay. \n",
    "    #the idea is that if any value exists then it is pos.\n",
    "\n",
    "    yn_df['value']= yn_df['value'].fillna(value_fill) #converts na to 0 in above na rows.\n",
    "    yn_df.loc[yn_df.loc[:,'value']!=value_fill, 'value']= 1 #squashes all other values into a binary 1 = yes\n",
    "    yn_df['delta']= yn_df['delta'].fillna(delta_fill)\n",
    "    yn_df['delta']= pd.to_timedelta(yn_df['delta']) #filling in the time delta to time =0 for filled rows\n",
    "    yn_df['uom']= yn_df['uom'].fillna(uom_fill)\n",
    "    yn_df.loc[yn_df.loc[:,'uom']!=uom_fill, 'uom']= uom_fill\n",
    "    yn_df['label']= yn_df['label'].fillna(label_fill)\n",
    "    \n",
    "    return(yn_df)\n"
   ]
  },
  {
   "cell_type": "markdown",
   "metadata": {},
   "source": [
    "## vaso dose"
   ]
  },
  {
   "cell_type": "code",
   "execution_count": 17,
   "metadata": {},
   "outputs": [
    {
     "name": "stdout",
     "output_type": "stream",
     "text": [
      "time: 24.4 ms\n"
     ]
    }
   ],
   "source": [
    "# #renaming starttime to charttime and dropping endtime\n",
    "\n",
    "dfs[vaso_df]= dfs[vaso_df].rename(\n",
    "    columns={'starttime':'charttime','label':'vaso_type'})"
   ]
  },
  {
   "cell_type": "code",
   "execution_count": 18,
   "metadata": {},
   "outputs": [
    {
     "data": {
      "text/plain": [
       "59474"
      ]
     },
     "execution_count": 18,
     "metadata": {},
     "output_type": "execute_result"
    },
    {
     "name": "stdout",
     "output_type": "stream",
     "text": [
      "time: 1.8 ms\n"
     ]
    }
   ],
   "source": [
    "len(dfs[vaso_df])"
   ]
  },
  {
   "cell_type": "code",
   "execution_count": 19,
   "metadata": {},
   "outputs": [
    {
     "data": {
      "text/html": [
       "<div>\n",
       "<style scoped>\n",
       "    .dataframe tbody tr th:only-of-type {\n",
       "        vertical-align: middle;\n",
       "    }\n",
       "\n",
       "    .dataframe tbody tr th {\n",
       "        vertical-align: top;\n",
       "    }\n",
       "\n",
       "    .dataframe thead th {\n",
       "        text-align: right;\n",
       "    }\n",
       "</style>\n",
       "<table border=\"1\" class=\"dataframe\">\n",
       "  <thead>\n",
       "    <tr style=\"text-align: right;\">\n",
       "      <th></th>\n",
       "      <th>icustay_id</th>\n",
       "      <th>charttime</th>\n",
       "      <th>endtime</th>\n",
       "      <th>vaso_rate</th>\n",
       "      <th>vaso_amount</th>\n",
       "      <th>amount_uom</th>\n",
       "      <th>rate_uom</th>\n",
       "      <th>vaso_type</th>\n",
       "      <th>t_0</th>\n",
       "      <th>delta</th>\n",
       "    </tr>\n",
       "  </thead>\n",
       "  <tbody>\n",
       "    <tr>\n",
       "      <th>4</th>\n",
       "      <td>200349.0</td>\n",
       "      <td>2139-06-02 16:31:00</td>\n",
       "      <td>2139-06-02 18:10:00</td>\n",
       "      <td>0.012030</td>\n",
       "      <td>0.073958</td>\n",
       "      <td>mg</td>\n",
       "      <td>mcg/kg/min</td>\n",
       "      <td>epinephrine</td>\n",
       "      <td>2139-06-02</td>\n",
       "      <td>0 days 16:31:00.000000000</td>\n",
       "    </tr>\n",
       "    <tr>\n",
       "      <th>8</th>\n",
       "      <td>200952.0</td>\n",
       "      <td>2139-09-23 15:07:00</td>\n",
       "      <td>2139-09-24 06:43:00</td>\n",
       "      <td>0.020004</td>\n",
       "      <td>1.049601</td>\n",
       "      <td>mg</td>\n",
       "      <td>mcg/kg/min</td>\n",
       "      <td>epinephrine</td>\n",
       "      <td>2139-09-23</td>\n",
       "      <td>0 days 15:07:00.000000000</td>\n",
       "    </tr>\n",
       "    <tr>\n",
       "      <th>22</th>\n",
       "      <td>200952.0</td>\n",
       "      <td>2139-09-23 23:12:00</td>\n",
       "      <td>2139-09-24 21:54:00</td>\n",
       "      <td>0.149992</td>\n",
       "      <td>7.990853</td>\n",
       "      <td>mg</td>\n",
       "      <td>mcg/kg/min</td>\n",
       "      <td>norepinephrine</td>\n",
       "      <td>2139-09-23</td>\n",
       "      <td>0 days 23:12:00.000000000</td>\n",
       "    </tr>\n",
       "    <tr>\n",
       "      <th>23</th>\n",
       "      <td>200952.0</td>\n",
       "      <td>2139-09-24 21:54:00</td>\n",
       "      <td>2139-09-25 13:17:00</td>\n",
       "      <td>0.201337</td>\n",
       "      <td>7.325205</td>\n",
       "      <td>mg</td>\n",
       "      <td>mcg/kg/min</td>\n",
       "      <td>norepinephrine</td>\n",
       "      <td>2139-09-23</td>\n",
       "      <td>1 days 21:54:00.000000000</td>\n",
       "    </tr>\n",
       "    <tr>\n",
       "      <th>34</th>\n",
       "      <td>200952.0</td>\n",
       "      <td>2139-09-23 15:06:00</td>\n",
       "      <td>2139-09-24 00:51:00</td>\n",
       "      <td>2.509001</td>\n",
       "      <td>43.660095</td>\n",
       "      <td>mg</td>\n",
       "      <td>mcg/kg/min</td>\n",
       "      <td>phenylephrine</td>\n",
       "      <td>2139-09-23</td>\n",
       "      <td>0 days 15:06:00.000000000</td>\n",
       "    </tr>\n",
       "  </tbody>\n",
       "</table>\n",
       "</div>"
      ],
      "text/plain": [
       "    icustay_id            charttime              endtime  vaso_rate  \\\n",
       "4     200349.0  2139-06-02 16:31:00  2139-06-02 18:10:00   0.012030   \n",
       "8     200952.0  2139-09-23 15:07:00  2139-09-24 06:43:00   0.020004   \n",
       "22    200952.0  2139-09-23 23:12:00  2139-09-24 21:54:00   0.149992   \n",
       "23    200952.0  2139-09-24 21:54:00  2139-09-25 13:17:00   0.201337   \n",
       "34    200952.0  2139-09-23 15:06:00  2139-09-24 00:51:00   2.509001   \n",
       "\n",
       "    vaso_amount amount_uom    rate_uom       vaso_type         t_0  \\\n",
       "4      0.073958         mg  mcg/kg/min     epinephrine  2139-06-02   \n",
       "8      1.049601         mg  mcg/kg/min     epinephrine  2139-09-23   \n",
       "22     7.990853         mg  mcg/kg/min  norepinephrine  2139-09-23   \n",
       "23     7.325205         mg  mcg/kg/min  norepinephrine  2139-09-23   \n",
       "34    43.660095         mg  mcg/kg/min   phenylephrine  2139-09-23   \n",
       "\n",
       "                        delta  \n",
       "4   0 days 16:31:00.000000000  \n",
       "8   0 days 15:07:00.000000000  \n",
       "22  0 days 23:12:00.000000000  \n",
       "23  1 days 21:54:00.000000000  \n",
       "34  0 days 15:06:00.000000000  "
      ]
     },
     "execution_count": 19,
     "metadata": {},
     "output_type": "execute_result"
    },
    {
     "name": "stdout",
     "output_type": "stream",
     "text": [
      "time: 14.1 ms\n"
     ]
    }
   ],
   "source": [
    "dfs[vaso_df].head()"
   ]
  },
  {
   "cell_type": "code",
   "execution_count": 20,
   "metadata": {},
   "outputs": [
    {
     "name": "stdout",
     "output_type": "stream",
     "text": [
      "time: 17.2 ms\n"
     ]
    }
   ],
   "source": [
    "#removing units/hour because that is a different use of vasopressin\n",
    "dfs[vaso_df] = dfs[vaso_df].loc[dfs[vaso_df].loc[:,'rate_uom']!= 'units/hour',:]\n",
    "dfs[vaso_df] = dfs[vaso_df].loc[dfs[vaso_df].loc[:,'rate_uom']!= 'Uhr',:]"
   ]
  },
  {
   "cell_type": "code",
   "execution_count": 21,
   "metadata": {},
   "outputs": [
    {
     "data": {
      "text/plain": [
       "59474"
      ]
     },
     "execution_count": 21,
     "metadata": {},
     "output_type": "execute_result"
    },
    {
     "name": "stdout",
     "output_type": "stream",
     "text": [
      "time: 2.89 ms\n"
     ]
    }
   ],
   "source": [
    "len(dfs[vaso_df])"
   ]
  },
  {
   "cell_type": "code",
   "execution_count": 22,
   "metadata": {},
   "outputs": [
    {
     "data": {
      "text/plain": [
       "array(['mcg/kg/min', 'mcgkgmin', 'Umin', 'units/min'], dtype=object)"
      ]
     },
     "execution_count": 22,
     "metadata": {},
     "output_type": "execute_result"
    },
    {
     "name": "stdout",
     "output_type": "stream",
     "text": [
      "time: 6.33 ms\n"
     ]
    }
   ],
   "source": [
    "dfs[vaso_df]['rate_uom'].unique()"
   ]
  },
  {
   "cell_type": "markdown",
   "metadata": {},
   "source": [
    "#### removing outliers/extreme values"
   ]
  },
  {
   "cell_type": "code",
   "execution_count": 23,
   "metadata": {},
   "outputs": [
    {
     "name": "stdout",
     "output_type": "stream",
     "text": [
      "time: 23.2 ms\n"
     ]
    }
   ],
   "source": [
    "# Use transform to add a column back to the orig df from a groupby aggregation, transform returns a Series with its index aligned to the orig df:\n",
    "def vaso_outlier_removal(df):\n",
    "    test_group=(dfs[vaso_df][['vaso_rate','rate_uom','amount_uom','vaso_type']]#.groupby('vaso_type', as_index=False)\n",
    "         .groupby(['vaso_type','rate_uom'])\n",
    "             )\n",
    "\n",
    "    dfs[vaso_df]['std']=test_group.transform(lambda x : x.std())\n",
    "    dfs[vaso_df]['mean']=test_group.transform(lambda x : x.mean())\n",
    "\n",
    "    normal_high_value= pd.DataFrame({\n",
    "        'vaso_type' : ['dobutamine','dopamine','epinephrine','norepinephrine','vasopressin','phenylephrine'],\n",
    "        'high_value': [40, 20, 0.5, 1, 0.1, 2] #highest values one might expect to see in a clinic, ie above this is likely erroneous\n",
    "    }) #found from literature, see notes\n",
    "\n",
    "    dfs[vaso_df] = pd.merge(dfs[vaso_df], normal_high_value, left_on='vaso_type', right_on='vaso_type')\n",
    "\n",
    "    vaso_dose_72_rmout =(dfs[vaso_df][\n",
    "        ~((dfs[vaso_df]['vaso_rate'] > dfs[vaso_df]['high_value']) & ((dfs[vaso_df]['vaso_rate']-dfs[vaso_df]['mean'])>= (3*dfs[vaso_df]['std'])))\n",
    "        ])\n",
    "    #ie vaso_dose_72_rmout is a dataframe of all rows that excludes rows where vaso rate > literature high value and where vaso_rate >3sd from teh mean\n",
    "    return(vaso_dose_72_rmout)"
   ]
  },
  {
   "cell_type": "code",
   "execution_count": 24,
   "metadata": {},
   "outputs": [
    {
     "data": {
      "text/plain": [
       "59135"
      ]
     },
     "execution_count": 24,
     "metadata": {},
     "output_type": "execute_result"
    },
    {
     "name": "stdout",
     "output_type": "stream",
     "text": [
      "time: 182 ms\n"
     ]
    }
   ],
   "source": [
    "dfs[vaso_df]= vaso_outlier_removal(dfs[vaso_df])\n",
    "len(dfs[vaso_df]) #52976 ->49340"
   ]
  },
  {
   "cell_type": "code",
   "execution_count": 25,
   "metadata": {},
   "outputs": [
    {
     "data": {
      "text/plain": [
       "array(['epinephrine', 'norepinephrine', 'phenylephrine', 'dopamine',\n",
       "       'dobutamine', 'vasopressin'], dtype=object)"
      ]
     },
     "execution_count": 25,
     "metadata": {},
     "output_type": "execute_result"
    },
    {
     "name": "stdout",
     "output_type": "stream",
     "text": [
      "time: 5.62 ms\n"
     ]
    }
   ],
   "source": [
    "dfs[vaso_df]['vaso_type'].unique()"
   ]
  },
  {
   "cell_type": "code",
   "execution_count": 26,
   "metadata": {},
   "outputs": [
    {
     "data": {
      "text/plain": [
       "array(['epinephrine', 'norepinephrine', 'phenylephrine', 'dopamine',\n",
       "       'dobutamine', 'vasopressin'], dtype=object)"
      ]
     },
     "execution_count": 26,
     "metadata": {},
     "output_type": "execute_result"
    },
    {
     "name": "stdout",
     "output_type": "stream",
     "text": [
      "time: 64.8 ms\n"
     ]
    }
   ],
   "source": [
    "#standardizing names, dropping unneeded columns for analysis\n",
    "dfs[vaso_df]= dfs[vaso_df].drop(['vaso_amount', 'amount_uom','std','mean','high_value'], axis=1)\n",
    "dfs[vaso_df]= dfs[vaso_df].rename(index=str, columns={'vaso_rate': 'value', 'rate_uom':'uom','vaso_type':'label'})\n",
    "dfs[vaso_df]['label'].unique()"
   ]
  },
  {
   "cell_type": "code",
   "execution_count": 27,
   "metadata": {},
   "outputs": [
    {
     "data": {
      "text/html": [
       "<div>\n",
       "<style scoped>\n",
       "    .dataframe tbody tr th:only-of-type {\n",
       "        vertical-align: middle;\n",
       "    }\n",
       "\n",
       "    .dataframe tbody tr th {\n",
       "        vertical-align: top;\n",
       "    }\n",
       "\n",
       "    .dataframe thead th {\n",
       "        text-align: right;\n",
       "    }\n",
       "</style>\n",
       "<table border=\"1\" class=\"dataframe\">\n",
       "  <thead>\n",
       "    <tr style=\"text-align: right;\">\n",
       "      <th></th>\n",
       "      <th>icustay_id</th>\n",
       "      <th>charttime</th>\n",
       "      <th>endtime</th>\n",
       "      <th>value</th>\n",
       "      <th>uom</th>\n",
       "      <th>label</th>\n",
       "      <th>t_0</th>\n",
       "      <th>delta</th>\n",
       "    </tr>\n",
       "  </thead>\n",
       "  <tbody>\n",
       "    <tr>\n",
       "      <th>0</th>\n",
       "      <td>200349.0</td>\n",
       "      <td>2139-06-02 16:31:00</td>\n",
       "      <td>2139-06-02 18:10:00</td>\n",
       "      <td>0.012030</td>\n",
       "      <td>mcg/kg/min</td>\n",
       "      <td>epinephrine</td>\n",
       "      <td>2139-06-02</td>\n",
       "      <td>0 days 16:31:00.000000000</td>\n",
       "    </tr>\n",
       "    <tr>\n",
       "      <th>1</th>\n",
       "      <td>200952.0</td>\n",
       "      <td>2139-09-23 15:07:00</td>\n",
       "      <td>2139-09-24 06:43:00</td>\n",
       "      <td>0.020004</td>\n",
       "      <td>mcg/kg/min</td>\n",
       "      <td>epinephrine</td>\n",
       "      <td>2139-09-23</td>\n",
       "      <td>0 days 15:07:00.000000000</td>\n",
       "    </tr>\n",
       "    <tr>\n",
       "      <th>2</th>\n",
       "      <td>200977.0</td>\n",
       "      <td>2166-12-02 16:59:00</td>\n",
       "      <td>2166-12-03 05:50:00</td>\n",
       "      <td>0.030015</td>\n",
       "      <td>mcg/kg/min</td>\n",
       "      <td>epinephrine</td>\n",
       "      <td>2166-12-02</td>\n",
       "      <td>0 days 16:59:00.000000000</td>\n",
       "    </tr>\n",
       "    <tr>\n",
       "      <th>3</th>\n",
       "      <td>201005.0</td>\n",
       "      <td>2169-10-25 17:25:00</td>\n",
       "      <td>2169-10-25 18:00:00</td>\n",
       "      <td>0.020000</td>\n",
       "      <td>mcgkgmin</td>\n",
       "      <td>epinephrine</td>\n",
       "      <td>2169-10-25</td>\n",
       "      <td>0 days 17:25:00.000000000</td>\n",
       "    </tr>\n",
       "    <tr>\n",
       "      <th>4</th>\n",
       "      <td>201005.0</td>\n",
       "      <td>2169-10-25 18:30:00</td>\n",
       "      <td>2169-10-25 19:00:00</td>\n",
       "      <td>0.020000</td>\n",
       "      <td>mcgkgmin</td>\n",
       "      <td>epinephrine</td>\n",
       "      <td>2169-10-25</td>\n",
       "      <td>0 days 18:30:00.000000000</td>\n",
       "    </tr>\n",
       "  </tbody>\n",
       "</table>\n",
       "</div>"
      ],
      "text/plain": [
       "   icustay_id            charttime              endtime     value         uom  \\\n",
       "0    200349.0  2139-06-02 16:31:00  2139-06-02 18:10:00  0.012030  mcg/kg/min   \n",
       "1    200952.0  2139-09-23 15:07:00  2139-09-24 06:43:00  0.020004  mcg/kg/min   \n",
       "2    200977.0  2166-12-02 16:59:00  2166-12-03 05:50:00  0.030015  mcg/kg/min   \n",
       "3    201005.0  2169-10-25 17:25:00  2169-10-25 18:00:00  0.020000    mcgkgmin   \n",
       "4    201005.0  2169-10-25 18:30:00  2169-10-25 19:00:00  0.020000    mcgkgmin   \n",
       "\n",
       "         label         t_0                      delta  \n",
       "0  epinephrine  2139-06-02  0 days 16:31:00.000000000  \n",
       "1  epinephrine  2139-09-23  0 days 15:07:00.000000000  \n",
       "2  epinephrine  2166-12-02  0 days 16:59:00.000000000  \n",
       "3  epinephrine  2169-10-25  0 days 17:25:00.000000000  \n",
       "4  epinephrine  2169-10-25  0 days 18:30:00.000000000  "
      ]
     },
     "execution_count": 27,
     "metadata": {},
     "output_type": "execute_result"
    },
    {
     "name": "stdout",
     "output_type": "stream",
     "text": [
      "time: 11.4 ms\n"
     ]
    }
   ],
   "source": [
    "dfs[vaso_df].head()"
   ]
  },
  {
   "cell_type": "code",
   "execution_count": 28,
   "metadata": {},
   "outputs": [
    {
     "name": "stdout",
     "output_type": "stream",
     "text": [
      "time: 39.6 ms\n"
     ]
    }
   ],
   "source": [
    "epinephrine_df= dfs[vaso_df][dfs[vaso_df]['label']=='epinephrine']\n",
    "norepinephrine_df= dfs[vaso_df][dfs[vaso_df]['label']=='norepinephrine']\n",
    "phenylephrine_df= dfs[vaso_df][dfs[vaso_df]['label']=='phenylephrine']\n",
    "vasopressin_df= dfs[vaso_df][dfs[vaso_df]['label']=='vasopressin']\n",
    "dopamine_df= dfs[vaso_df][dfs[vaso_df]['label']=='dopamine']\n",
    "dobutamine_df= dfs[vaso_df][dfs[vaso_df]['label']=='dobutamine']\n"
   ]
  },
  {
   "cell_type": "code",
   "execution_count": 29,
   "metadata": {},
   "outputs": [
    {
     "name": "stdout",
     "output_type": "stream",
     "text": [
      "time: 985 ms\n"
     ]
    }
   ],
   "source": [
    "#(could be transfered to a different spdsheet for collapsing values)\n",
    "#y/n convert, seperating out vaso_dose into 6 constitutient dataframes, and for each am collapsing values down to does pt have in time window y/n? \n",
    "\n",
    "epinephrine_df=yn_convert(epinephrine_df, label_fill='epinephrine', pt= final_pt_df2, value_fill=0, delta_fill=0, uom_fill='y/n', time_var=time_var)\n",
    "norepinephrine_df=yn_convert(norepinephrine_df, label_fill='norepinephrine', pt= final_pt_df2, value_fill=0, delta_fill=0, uom_fill='y/n', time_var=time_var)\n",
    "phenylephrine_df=yn_convert(phenylephrine_df, label_fill='phenylephrine', pt= final_pt_df2, value_fill=0, delta_fill=0, uom_fill='y/n', time_var=time_var)\n",
    "vasopressin_df=yn_convert(vasopressin_df, label_fill='vasopressin', pt= final_pt_df2, value_fill=0, delta_fill=0, uom_fill='y/n', time_var=time_var)\n",
    "dopamine_df=yn_convert(dopamine_df, label_fill='dopamine', pt= final_pt_df2, value_fill=0, delta_fill=0, uom_fill='y/n', time_var=time_var)\n",
    "dobutamine_df=yn_convert(dobutamine_df, label_fill='dobutamine', pt= final_pt_df2, value_fill=0, delta_fill=0, uom_fill='y/n', time_var=time_var)"
   ]
  },
  {
   "cell_type": "code",
   "execution_count": 30,
   "metadata": {},
   "outputs": [
    {
     "name": "stdout",
     "output_type": "stream",
     "text": [
      "/Users/geickelb1/Documents/GitHub/mimiciii-antibiotics-opensource/data/cleaned/48_hr_window/\n",
      "time: 409 ms\n"
     ]
    }
   ],
   "source": [
    "save_df(epinephrine_df, df_name='epinephrine')"
   ]
  },
  {
   "cell_type": "code",
   "execution_count": 31,
   "metadata": {},
   "outputs": [
    {
     "name": "stdout",
     "output_type": "stream",
     "text": [
      "time: 4.04 s\n"
     ]
    }
   ],
   "source": [
    "# pd.DataFrame(epinephrine_df).to_csv(Path(\n",
    "#     save_path+ '/%s_epinephrine_prepped.csv' %(date)))\n",
    "\n",
    "save_df(epinephrine_df, df_name='epinephrine')\n",
    "del(epinephrine_df)\n",
    "\n",
    "save_df(norepinephrine_df, df_name='norepinephrine')\n",
    "del(norepinephrine_df)\n",
    "\n",
    "save_df(phenylephrine_df, df_name='phenylephrine')\n",
    "del(phenylephrine_df)\n",
    "\n",
    "save_df(vasopressin_df, df_name='vasopressin')\n",
    "del(vasopressin_df)\n",
    "\n",
    "save_df(dopamine_df, df_name='dopamine')\n",
    "del(dopamine_df)\n",
    "\n",
    "save_df(dobutamine_df, df_name='dobutamine')\n",
    "del(dobutamine_df)\n",
    "\n",
    "del(dfs[vaso_df])\n"
   ]
  },
  {
   "cell_type": "markdown",
   "metadata": {},
   "source": [
    "## ELIX"
   ]
  },
  {
   "cell_type": "code",
   "execution_count": 32,
   "metadata": {},
   "outputs": [
    {
     "name": "stdout",
     "output_type": "stream",
     "text": [
      "time: 775 ms\n"
     ]
    }
   ],
   "source": [
    "#convert cancer elix to y/n:\n",
    "dfs[cancer_elix_df]= yn_convert(dfs[cancer_elix_df], label_fill=0, pt= final_pt_df2, value_fill=0, delta_fill=0, uom_fill='y/n', time_var=time_var)\n",
    "save_df(dfs[cancer_elix_df], df_name='cancer_elix')\n",
    "del(dfs[cancer_elix_df])\n",
    "\n",
    "save_df(dfs[sum_elix_df], 'sum_elix')\n",
    "del(dfs[sum_elix_df])"
   ]
  },
  {
   "cell_type": "markdown",
   "metadata": {},
   "source": [
    "## vitals -"
   ]
  },
  {
   "cell_type": "code",
   "execution_count": 33,
   "metadata": {},
   "outputs": [
    {
     "data": {
      "text/html": [
       "<div>\n",
       "<style scoped>\n",
       "    .dataframe tbody tr th:only-of-type {\n",
       "        vertical-align: middle;\n",
       "    }\n",
       "\n",
       "    .dataframe tbody tr th {\n",
       "        vertical-align: top;\n",
       "    }\n",
       "\n",
       "    .dataframe thead th {\n",
       "        text-align: right;\n",
       "    }\n",
       "</style>\n",
       "<table border=\"1\" class=\"dataframe\">\n",
       "  <thead>\n",
       "    <tr style=\"text-align: right;\">\n",
       "      <th></th>\n",
       "      <th>subject_id</th>\n",
       "      <th>hadm_id</th>\n",
       "      <th>icustay_id</th>\n",
       "      <th>charttime</th>\n",
       "      <th>valueuom</th>\n",
       "      <th>vitalid</th>\n",
       "      <th>valuenum</th>\n",
       "      <th>t_0</th>\n",
       "      <th>delta</th>\n",
       "    </tr>\n",
       "  </thead>\n",
       "  <tbody>\n",
       "    <tr>\n",
       "      <th>0</th>\n",
       "      <td>9</td>\n",
       "      <td>150750</td>\n",
       "      <td>220597</td>\n",
       "      <td>2149-11-11 00:00:00</td>\n",
       "      <td>mmHg</td>\n",
       "      <td>MeanArtPress</td>\n",
       "      <td>81.0</td>\n",
       "      <td>2149-11-10</td>\n",
       "      <td>1 days 00:00:00.000000000</td>\n",
       "    </tr>\n",
       "    <tr>\n",
       "      <th>1</th>\n",
       "      <td>9</td>\n",
       "      <td>150750</td>\n",
       "      <td>220597</td>\n",
       "      <td>2149-11-11 19:00:00</td>\n",
       "      <td>mmHg</td>\n",
       "      <td>MeanArtPress</td>\n",
       "      <td>72.0</td>\n",
       "      <td>2149-11-10</td>\n",
       "      <td>1 days 19:00:00.000000000</td>\n",
       "    </tr>\n",
       "    <tr>\n",
       "      <th>2</th>\n",
       "      <td>9</td>\n",
       "      <td>150750</td>\n",
       "      <td>220597</td>\n",
       "      <td>2149-11-11 19:45:00</td>\n",
       "      <td>mmHg</td>\n",
       "      <td>MeanArtPress</td>\n",
       "      <td>76.0</td>\n",
       "      <td>2149-11-10</td>\n",
       "      <td>1 days 19:45:00.000000000</td>\n",
       "    </tr>\n",
       "    <tr>\n",
       "      <th>3</th>\n",
       "      <td>9</td>\n",
       "      <td>150750</td>\n",
       "      <td>220597</td>\n",
       "      <td>2149-11-11 20:00:00</td>\n",
       "      <td>mmHg</td>\n",
       "      <td>MeanArtPress</td>\n",
       "      <td>99.0</td>\n",
       "      <td>2149-11-10</td>\n",
       "      <td>1 days 20:00:00.000000000</td>\n",
       "    </tr>\n",
       "    <tr>\n",
       "      <th>17</th>\n",
       "      <td>9</td>\n",
       "      <td>150750</td>\n",
       "      <td>220597</td>\n",
       "      <td>2149-11-10 10:00:00</td>\n",
       "      <td>mmHg</td>\n",
       "      <td>MeanArtPress</td>\n",
       "      <td>109.0</td>\n",
       "      <td>2149-11-10</td>\n",
       "      <td>0 days 10:00:00.000000000</td>\n",
       "    </tr>\n",
       "  </tbody>\n",
       "</table>\n",
       "</div>"
      ],
      "text/plain": [
       "    subject_id  hadm_id  icustay_id            charttime valueuom  \\\n",
       "0            9   150750      220597  2149-11-11 00:00:00     mmHg   \n",
       "1            9   150750      220597  2149-11-11 19:00:00     mmHg   \n",
       "2            9   150750      220597  2149-11-11 19:45:00     mmHg   \n",
       "3            9   150750      220597  2149-11-11 20:00:00     mmHg   \n",
       "17           9   150750      220597  2149-11-10 10:00:00     mmHg   \n",
       "\n",
       "         vitalid  valuenum         t_0                      delta  \n",
       "0   MeanArtPress      81.0  2149-11-10  1 days 00:00:00.000000000  \n",
       "1   MeanArtPress      72.0  2149-11-10  1 days 19:00:00.000000000  \n",
       "2   MeanArtPress      76.0  2149-11-10  1 days 19:45:00.000000000  \n",
       "3   MeanArtPress      99.0  2149-11-10  1 days 20:00:00.000000000  \n",
       "17  MeanArtPress     109.0  2149-11-10  0 days 10:00:00.000000000  "
      ]
     },
     "execution_count": 33,
     "metadata": {},
     "output_type": "execute_result"
    },
    {
     "name": "stdout",
     "output_type": "stream",
     "text": [
      "time: 11.5 ms\n"
     ]
    }
   ],
   "source": [
    "dfs[vitals_df].head()"
   ]
  },
  {
   "cell_type": "code",
   "execution_count": 34,
   "metadata": {},
   "outputs": [
    {
     "name": "stdout",
     "output_type": "stream",
     "text": [
      "time: 15.5 s\n"
     ]
    }
   ],
   "source": [
    "dfs[vitals_df] = dfs[vitals_df].rename(index=str, columns={\"valueuom\":\"uom\",\"vitalid\":'label', 'valuenum':'value'}) #change valueom to uom\n",
    "dfs[vitals_df] = dfs[vitals_df].loc[dfs[vitals_df]['label'].notnull(),:]#.count() #removing null values\n",
    "\n",
    "dfs[vitals_df].loc[dfs[vitals_df].loc[:,'uom']=='BPM','uom']='bpm'\n",
    "\n",
    "#overall the values are extremely similar and are likely the same thing\n",
    "#i will combine them.\n",
    "dfs[vitals_df].loc[\n",
    "    (dfs[vitals_df]['label']=='RespRate') & \n",
    "    (dfs[vitals_df]['uom']=='bpm'),'uom']='insp/min'\n",
    "\n",
    "dfs[vitals_df].loc[\n",
    "    (dfs[vitals_df]['label']=='TempC') & \n",
    "    (dfs[vitals_df]['uom']=='?C'),'uom']='Deg. C'\n",
    "\n",
    "dfs[vitals_df].loc[\n",
    "    (dfs[vitals_df]['label']=='TempF') & \n",
    "    (dfs[vitals_df]['uom']=='Deg. F'),'uom']='Deg. C'\n",
    "\n",
    "dfs[vitals_df].loc[\n",
    "    (dfs[vitals_df]['label']=='TempF') & \n",
    "    (dfs[vitals_df]['uom']=='?F'),'uom']='Deg. C'\n",
    "\n",
    "dfs[vitals_df].loc[\n",
    "    (dfs[vitals_df]['label']=='TempF'),'label']='temperature'\n",
    "\n",
    "dfs[vitals_df].loc[\n",
    "    (dfs[vitals_df]['label']=='TempC'),'label']='temperature'"
   ]
  },
  {
   "cell_type": "markdown",
   "metadata": {},
   "source": [
    "- glucose max\n",
    "- glucose min\n",
    "- diasBP min\n",
    "- heartrate min\n",
    "- meanart pressure min\n",
    "- RespRate min\n",
    "- SYSbp min\n",
    "- TEMPC min"
   ]
  },
  {
   "cell_type": "markdown",
   "metadata": {},
   "source": [
    "### most likely erroneous value removal"
   ]
  },
  {
   "cell_type": "code",
   "execution_count": 35,
   "metadata": {},
   "outputs": [
    {
     "name": "stdout",
     "output_type": "stream",
     "text": [
      "time: 2.37 s\n"
     ]
    }
   ],
   "source": [
    "#erroneous value cutoff summary\n",
    "## setting a conservative threshold for erroneous values to not skew my data.\n",
    "\n",
    "(dfs[vitals_df].loc[(dfs[vitals_df].loc[:,'icustay_id']==228393.0) &\n",
    "                         (dfs[vitals_df].loc[:,'label']=='Glucose') &\n",
    "                         (dfs[vitals_df].loc[:,'value']>99999), 'value'])=np.nan\n",
    "\n",
    "(dfs[vitals_df].loc[(dfs[vitals_df].loc[:,'label']=='Glucose') &\n",
    "                         (dfs[vitals_df].loc[:,'value']>99998), 'value'])=np.nan\n",
    "\n",
    "(dfs[vitals_df].loc[(dfs[vitals_df].loc[:,'label']=='Glucose') &\n",
    "                         (dfs[vitals_df].loc[:,'value']<15), 'value'])=np.nan\n",
    "\n",
    "(dfs[vitals_df].loc[(dfs[vitals_df].loc[:,'label']=='DiasBP') &\n",
    "                         (dfs[vitals_df].loc[:,'value']<15), 'value'])=np.nan\n",
    "\n",
    "(dfs[vitals_df].loc[(dfs[vitals_df].loc[:,'label']=='HeartRate') &\n",
    "                         (dfs[vitals_df].loc[:,'value'].between(1,29)), 'value'])=np.nan\n",
    "\n",
    "(dfs[vitals_df].loc[(dfs[vitals_df].loc[:,'label']=='RespRate') &\n",
    "                         (dfs[vitals_df].loc[:,'value']<4), 'value'])=np.nan\n",
    "\n",
    "(dfs[vitals_df].loc[(dfs[vitals_df].loc[:,'label']=='SysBP') &\n",
    "                         (dfs[vitals_df].loc[:,'value']<40), 'value'])=np.nan\n",
    "\n",
    "(dfs[vitals_df].loc[(dfs[vitals_df].loc[:,'label']=='TempC') &\n",
    "                         (dfs[vitals_df].loc[:,'value']<28), 'value'])=np.nan"
   ]
  },
  {
   "cell_type": "code",
   "execution_count": 36,
   "metadata": {},
   "outputs": [
    {
     "name": "stdout",
     "output_type": "stream",
     "text": [
      "time: 3.61 s\n"
     ]
    }
   ],
   "source": [
    "dfs[vitals_df] = dfs[vitals_df].loc[dfs[vitals_df]['value'].notnull(),:]#.count() \n"
   ]
  },
  {
   "cell_type": "code",
   "execution_count": 37,
   "metadata": {},
   "outputs": [
    {
     "name": "stdout",
     "output_type": "stream",
     "text": [
      "time: 40.4 s\n"
     ]
    }
   ],
   "source": [
    "save_df(dfs[vitals_df], 'vitals')\n",
    "del(dfs[vitals_df])\n"
   ]
  },
  {
   "cell_type": "markdown",
   "metadata": {},
   "source": [
    "# labs -"
   ]
  },
  {
   "cell_type": "code",
   "execution_count": 38,
   "metadata": {},
   "outputs": [
    {
     "name": "stdout",
     "output_type": "stream",
     "text": [
      "time: 244 ms\n"
     ]
    }
   ],
   "source": [
    "dfs[labs_df]= dfs[labs_df].rename(\n",
    "    columns={'valuenum':'value'}) #changing valuenum to value"
   ]
  },
  {
   "cell_type": "code",
   "execution_count": 39,
   "metadata": {},
   "outputs": [
    {
     "data": {
      "text/plain": [
       "label        uom    \n",
       "ALBUMIN      g/dL       11556\n",
       "ANION GAP    mEq/L      60366\n",
       "BANDS        %           4062\n",
       "BICARBONATE  mEq/L      61523\n",
       "BILIRUBIN    mg/dL      18798\n",
       "BUN          mg/dL      61963\n",
       "CHLORIDE     mEq/L      69231\n",
       "CREATININE   mg/dL      62214\n",
       "GLUCOSE      mg/dL      84708\n",
       "HEMATOCRIT   %          82432\n",
       "HEMOGLOBIN   g/dL       67039\n",
       "LACTATE      mmol/L     40121\n",
       "PLATELET     K/uL       58189\n",
       "POTASSIUM    mEq/L      88916\n",
       "PT           SECONDS    41929\n",
       "PTT          sec        43966\n",
       "SODIUM       mEq/L      72553\n",
       "WBC          K/uL       55873\n",
       "Name: uom, dtype: int64"
      ]
     },
     "execution_count": 39,
     "metadata": {},
     "output_type": "execute_result"
    },
    {
     "name": "stdout",
     "output_type": "stream",
     "text": [
      "time: 305 ms\n"
     ]
    }
   ],
   "source": [
    "dfs[labs_df].groupby('label')['uom'].value_counts() #looks good"
   ]
  },
  {
   "cell_type": "markdown",
   "metadata": {},
   "source": [
    "### most likely erroneous value removal"
   ]
  },
  {
   "cell_type": "code",
   "execution_count": 40,
   "metadata": {},
   "outputs": [
    {
     "name": "stdout",
     "output_type": "stream",
     "text": [
      "time: 424 ms\n"
     ]
    }
   ],
   "source": [
    "#summary value removal- was explored and coded adhoc, difficult to automate\n",
    "(dfs[labs_df].loc[\n",
    "    (dfs[labs_df].loc[:,'icustay_id']==261887) & \n",
    "    (dfs[labs_df].loc[:,'label']=='CHLORIDE')\n",
    "    & (dfs[labs_df].loc[:,'value']==3.4),'value'])=np.nan\n",
    "\n",
    "(dfs[labs_df].loc[\n",
    "    (dfs[labs_df].loc[:,'icustay_id']==236290) & \n",
    "    (dfs[labs_df].loc[:,'label']=='CHLORIDE')\n",
    "    & (dfs[labs_df].loc[:,'value']==11.0),'value'])=np.nan\n",
    "\n",
    "(dfs[labs_df].loc[\n",
    "    (dfs[labs_df].loc[:,'icustay_id']==292769) & \n",
    "    (dfs[labs_df].loc[:,'label']=='INR')\n",
    "    & (dfs[labs_df].loc[:,'value']==28.1),'value'])=np.nan\n",
    "\n",
    "(dfs[labs_df].loc[\n",
    "    (dfs[labs_df].loc[:,'icustay_id']==298457) & \n",
    "    (dfs[labs_df].loc[:,'label']=='INR')\n",
    "    & (dfs[labs_df].loc[:,'value']==48.8),'value'])=np.nan\n",
    "\n",
    "(dfs[labs_df].loc[\n",
    "    (dfs[labs_df].loc[:,'icustay_id']==234174) & \n",
    "    (dfs[labs_df].loc[:,'label']=='INR')\n",
    "    & (dfs[labs_df].loc[:,'value']==48.7),'value'])=np.nan\n",
    "\n",
    "(dfs[labs_df].loc[\n",
    "    (dfs[labs_df].loc[:,'icustay_id']==290264) & \n",
    "    (dfs[labs_df].loc[:,'label']=='INR')\n",
    "    & (dfs[labs_df].loc[:,'value']==42.0),'value'])=np.nan\n",
    "\n",
    "(dfs[labs_df].loc[\n",
    "    (dfs[labs_df].loc[:,'icustay_id']==290264) & \n",
    "    (dfs[labs_df].loc[:,'label']=='INR')\n",
    "    & (dfs[labs_df].loc[:,'value']==22.8),'value'])=np.nan"
   ]
  },
  {
   "cell_type": "code",
   "execution_count": 41,
   "metadata": {},
   "outputs": [
    {
     "name": "stdout",
     "output_type": "stream",
     "text": [
      "time: 81 ms\n"
     ]
    }
   ],
   "source": [
    "dfs[labs_df]= dfs[labs_df].loc[dfs[labs_df].loc[:,'value'].notnull(),:] #removing null values\n"
   ]
  },
  {
   "cell_type": "code",
   "execution_count": 42,
   "metadata": {},
   "outputs": [
    {
     "data": {
      "text/html": [
       "<div>\n",
       "<style scoped>\n",
       "    .dataframe tbody tr th:only-of-type {\n",
       "        vertical-align: middle;\n",
       "    }\n",
       "\n",
       "    .dataframe tbody tr th {\n",
       "        vertical-align: top;\n",
       "    }\n",
       "\n",
       "    .dataframe thead th {\n",
       "        text-align: right;\n",
       "    }\n",
       "</style>\n",
       "<table border=\"1\" class=\"dataframe\">\n",
       "  <thead>\n",
       "    <tr style=\"text-align: right;\">\n",
       "      <th></th>\n",
       "      <th>subject_id</th>\n",
       "      <th>hadm_id</th>\n",
       "      <th>icustay_id</th>\n",
       "      <th>charttime</th>\n",
       "      <th>label</th>\n",
       "      <th>value</th>\n",
       "      <th>uom</th>\n",
       "      <th>t_0</th>\n",
       "      <th>delta</th>\n",
       "    </tr>\n",
       "  </thead>\n",
       "  <tbody>\n",
       "    <tr>\n",
       "      <th>1</th>\n",
       "      <td>4</td>\n",
       "      <td>185777</td>\n",
       "      <td>294638</td>\n",
       "      <td>2191-03-16 05:42:00</td>\n",
       "      <td>ANION GAP</td>\n",
       "      <td>15.0</td>\n",
       "      <td>mEq/L</td>\n",
       "      <td>2191-03-16</td>\n",
       "      <td>0 days 05:42:00.000000000</td>\n",
       "    </tr>\n",
       "    <tr>\n",
       "      <th>2</th>\n",
       "      <td>4</td>\n",
       "      <td>185777</td>\n",
       "      <td>294638</td>\n",
       "      <td>2191-03-17 06:00:00</td>\n",
       "      <td>ANION GAP</td>\n",
       "      <td>15.0</td>\n",
       "      <td>mEq/L</td>\n",
       "      <td>2191-03-16</td>\n",
       "      <td>1 days 06:00:00.000000000</td>\n",
       "    </tr>\n",
       "    <tr>\n",
       "      <th>9</th>\n",
       "      <td>4</td>\n",
       "      <td>185777</td>\n",
       "      <td>294638</td>\n",
       "      <td>2191-03-16 05:42:00</td>\n",
       "      <td>BICARBONATE</td>\n",
       "      <td>21.0</td>\n",
       "      <td>mEq/L</td>\n",
       "      <td>2191-03-16</td>\n",
       "      <td>0 days 05:42:00.000000000</td>\n",
       "    </tr>\n",
       "    <tr>\n",
       "      <th>10</th>\n",
       "      <td>4</td>\n",
       "      <td>185777</td>\n",
       "      <td>294638</td>\n",
       "      <td>2191-03-17 06:00:00</td>\n",
       "      <td>BICARBONATE</td>\n",
       "      <td>21.0</td>\n",
       "      <td>mEq/L</td>\n",
       "      <td>2191-03-16</td>\n",
       "      <td>1 days 06:00:00.000000000</td>\n",
       "    </tr>\n",
       "    <tr>\n",
       "      <th>17</th>\n",
       "      <td>4</td>\n",
       "      <td>185777</td>\n",
       "      <td>294638</td>\n",
       "      <td>2191-03-16 05:42:00</td>\n",
       "      <td>BILIRUBIN</td>\n",
       "      <td>1.9</td>\n",
       "      <td>mg/dL</td>\n",
       "      <td>2191-03-16</td>\n",
       "      <td>0 days 05:42:00.000000000</td>\n",
       "    </tr>\n",
       "  </tbody>\n",
       "</table>\n",
       "</div>"
      ],
      "text/plain": [
       "    subject_id  hadm_id  icustay_id            charttime        label  value  \\\n",
       "1            4   185777      294638  2191-03-16 05:42:00    ANION GAP   15.0   \n",
       "2            4   185777      294638  2191-03-17 06:00:00    ANION GAP   15.0   \n",
       "9            4   185777      294638  2191-03-16 05:42:00  BICARBONATE   21.0   \n",
       "10           4   185777      294638  2191-03-17 06:00:00  BICARBONATE   21.0   \n",
       "17           4   185777      294638  2191-03-16 05:42:00    BILIRUBIN    1.9   \n",
       "\n",
       "      uom         t_0                      delta  \n",
       "1   mEq/L  2191-03-16  0 days 05:42:00.000000000  \n",
       "2   mEq/L  2191-03-16  1 days 06:00:00.000000000  \n",
       "9   mEq/L  2191-03-16  0 days 05:42:00.000000000  \n",
       "10  mEq/L  2191-03-16  1 days 06:00:00.000000000  \n",
       "17  mg/dL  2191-03-16  0 days 05:42:00.000000000  "
      ]
     },
     "execution_count": 42,
     "metadata": {},
     "output_type": "execute_result"
    },
    {
     "name": "stdout",
     "output_type": "stream",
     "text": [
      "time: 11.6 ms\n"
     ]
    }
   ],
   "source": [
    "dfs[labs_df].head()"
   ]
  },
  {
   "cell_type": "code",
   "execution_count": 43,
   "metadata": {},
   "outputs": [
    {
     "name": "stdout",
     "output_type": "stream",
     "text": [
      "time: 86.6 ms\n"
     ]
    }
   ],
   "source": [
    "#removing unwanted values\n",
    "unwanted_values= ['HEMATOCRIT','ANION GAP','PT','ALBUMIN']\n",
    "dfs[labs_df]= dfs[labs_df].loc[~dfs[labs_df].loc[:,'label'].isin(unwanted_values),:]"
   ]
  },
  {
   "cell_type": "markdown",
   "metadata": {},
   "source": [
    "# factorizing bands start \n",
    "* converting bands into a categorical variable since it is very sparse"
   ]
  },
  {
   "cell_type": "code",
   "execution_count": 44,
   "metadata": {},
   "outputs": [
    {
     "name": "stdout",
     "output_type": "stream",
     "text": [
      "time: 33.3 ms\n"
     ]
    }
   ],
   "source": [
    "\n",
    "# yn_convert_band(max_bands, #df in format where each row corresponds to a test, and a patient can have many rows\n",
    "def yn_convert_band(df,           \n",
    "                    label_fill=\"absent\",\n",
    "                    threshold=10,\n",
    "                    pt= final_pt_df2,\n",
    "                    time_var='t_0',\n",
    "                    value_fill=9999,\n",
    "                    delta_fill=pd.to_timedelta('0 days'),\n",
    "                    uom_fill='y/n'):\n",
    "    \n",
    "    yn_df = pd.merge(pt[['icustay_id','hadm_id','subject_id', time_var]],\n",
    "                      df[['icustay_id','value','label','uom','delta']],\n",
    "                     left_on= 'icustay_id',\n",
    "                     right_on= 'icustay_id',\n",
    "                      how='left') #merging all icustay_id's with time_var, where value,label,uom, and delta are nan's if no value exists for that icustay. \n",
    "    #the idea is that if any value exists then it is pos.\n",
    "\n",
    "    yn_df['value']= yn_df['value'].fillna(value_fill) #converts na to 0 in above na rows.\n",
    "    criteria0=yn_df.loc[:,'value']==value_fill\n",
    "    criteria1=pd.to_numeric(yn_df.loc[:,'value'])<=threshold\n",
    "    criteria2=pd.to_numeric(yn_df.loc[:,'value'])>threshold\n",
    "\n",
    "\n",
    "    yn_df.loc[criteria1, 'value']= \"<{}\".format(threshold) \n",
    "    yn_df.loc[criteria2, 'value']= \">{}\".format(threshold) \n",
    "    yn_df.loc[criteria0, 'value']= \"absent\"\n",
    "\n",
    "    yn_df['delta']= yn_df['delta'].fillna(delta_fill)\n",
    "    yn_df['delta']= pd.to_timedelta(yn_df['delta']) #filling in the time delta to time =0 for filled rows\n",
    "    yn_df['uom']= yn_df['uom'].fillna(uom_fill)\n",
    "    yn_df.loc[yn_df.loc[:,'uom']!=uom_fill, 'uom']= uom_fill\n",
    "    yn_df['label']= yn_df['label'].fillna(label_fill)\n",
    "    \n",
    "    return(yn_df)\n",
    "    "
   ]
  },
  {
   "cell_type": "code",
   "execution_count": 45,
   "metadata": {},
   "outputs": [
    {
     "name": "stdout",
     "output_type": "stream",
     "text": [
      "time: 595 ms\n"
     ]
    }
   ],
   "source": [
    "band_df=dfs[labs_df][dfs[labs_df]['label']=='BANDS']\n",
    "max_bands=band_df.loc[band_df.groupby('icustay_id', as_index=False)['value'].idxmax(),:]\n",
    "del(band_df)"
   ]
  },
  {
   "cell_type": "code",
   "execution_count": 46,
   "metadata": {},
   "outputs": [
    {
     "name": "stdout",
     "output_type": "stream",
     "text": [
      "time: 115 ms\n"
     ]
    }
   ],
   "source": [
    "band_cat=yn_convert_band(df=max_bands,           \n",
    "                    label_fill=\"BANDS\",\n",
    "                    threshold=10,\n",
    "                    pt= final_pt_df2,\n",
    "                    time_var='t_0',\n",
    "                    value_fill=9999,\n",
    "                    delta_fill=pd.to_timedelta('0 days'),\n",
    "                    uom_fill='y/n')"
   ]
  },
  {
   "cell_type": "code",
   "execution_count": 47,
   "metadata": {},
   "outputs": [
    {
     "name": "stderr",
     "output_type": "stream",
     "text": [
      "/Users/geickelb1/anaconda/envs/rpy-env/lib/python3.6/site-packages/pandas/core/frame.py:6692: FutureWarning: Sorting because non-concatenation axis is not aligned. A future version\n",
      "of pandas will change to not sort by default.\n",
      "\n",
      "To accept the future behavior, pass 'sort=False'.\n",
      "\n",
      "To retain the current behavior and silence the warning, pass 'sort=True'.\n",
      "\n",
      "  sort=sort)\n"
     ]
    },
    {
     "name": "stdout",
     "output_type": "stream",
     "text": [
      "time: 601 ms\n"
     ]
    }
   ],
   "source": [
    "#drop bands from lab_df\n",
    "dfs[labs_df]=dfs[labs_df].drop(dfs[labs_df][dfs[labs_df]['label']=='BANDS'].index)\n",
    "\n",
    "##dropping charttime, may be problematic later.\n",
    "dfs[labs_df]=dfs[labs_df].drop('charttime', axis=1)\n",
    "\n",
    "#appending categorical bands \n",
    "dfs[labs_df]=dfs[labs_df].append(band_cat)"
   ]
  },
  {
   "cell_type": "code",
   "execution_count": 48,
   "metadata": {},
   "outputs": [
    {
     "data": {
      "text/plain": [
       "absent    16546\n",
       "<10        1982\n",
       ">10        1105\n",
       "Name: value, dtype: int64"
      ]
     },
     "execution_count": 48,
     "metadata": {},
     "output_type": "execute_result"
    },
    {
     "name": "stdout",
     "output_type": "stream",
     "text": [
      "time: 53.2 ms\n"
     ]
    }
   ],
   "source": [
    "dfs[labs_df].loc[dfs[labs_df]['label']=='BANDS','value'].value_counts()"
   ]
  },
  {
   "cell_type": "code",
   "execution_count": 49,
   "metadata": {},
   "outputs": [
    {
     "name": "stdout",
     "output_type": "stream",
     "text": [
      "time: 5.98 s\n"
     ]
    }
   ],
   "source": [
    "# pd.DataFrame(dfs[labs_df]).to_csv(Path(\n",
    "#     save_path+'/%s_labs_prepped.csv' %(date)))\n",
    "\n",
    "save_df(dfs[labs_df], 'labs')\n",
    "del(dfs[labs_df])"
   ]
  },
  {
   "cell_type": "markdown",
   "metadata": {},
   "source": [
    "## vent category -"
   ]
  },
  {
   "cell_type": "code",
   "execution_count": 50,
   "metadata": {},
   "outputs": [
    {
     "data": {
      "text/plain": [
       "19456"
      ]
     },
     "execution_count": 50,
     "metadata": {},
     "output_type": "execute_result"
    },
    {
     "name": "stdout",
     "output_type": "stream",
     "text": [
      "time: 4.73 ms\n"
     ]
    }
   ],
   "source": [
    "dfs[vent_df]['icustay_id'].nunique()\n",
    "#13978 patients with someform of vent data. "
   ]
  },
  {
   "cell_type": "code",
   "execution_count": 51,
   "metadata": {},
   "outputs": [
    {
     "data": {
      "text/html": [
       "<div>\n",
       "<style scoped>\n",
       "    .dataframe tbody tr th:only-of-type {\n",
       "        vertical-align: middle;\n",
       "    }\n",
       "\n",
       "    .dataframe tbody tr th {\n",
       "        vertical-align: top;\n",
       "    }\n",
       "\n",
       "    .dataframe thead th {\n",
       "        text-align: right;\n",
       "    }\n",
       "</style>\n",
       "<table border=\"1\" class=\"dataframe\">\n",
       "  <thead>\n",
       "    <tr style=\"text-align: right;\">\n",
       "      <th></th>\n",
       "      <th>icustay_id</th>\n",
       "      <th>day</th>\n",
       "      <th>value</th>\n",
       "      <th>uom</th>\n",
       "      <th>t_0</th>\n",
       "    </tr>\n",
       "  </thead>\n",
       "  <tbody>\n",
       "    <tr>\n",
       "      <th>0</th>\n",
       "      <td>200001.0</td>\n",
       "      <td>0</td>\n",
       "      <td>Oxygen</td>\n",
       "      <td>mech/O2/none category</td>\n",
       "      <td>2181-11-26</td>\n",
       "    </tr>\n",
       "    <tr>\n",
       "      <th>1</th>\n",
       "      <td>200001.0</td>\n",
       "      <td>1</td>\n",
       "      <td>Oxygen</td>\n",
       "      <td>mech/O2/none category</td>\n",
       "      <td>2181-11-26</td>\n",
       "    </tr>\n",
       "    <tr>\n",
       "      <th>2</th>\n",
       "      <td>200003.0</td>\n",
       "      <td>0</td>\n",
       "      <td>Mech</td>\n",
       "      <td>mech/O2/none category</td>\n",
       "      <td>2199-08-04</td>\n",
       "    </tr>\n",
       "    <tr>\n",
       "      <th>3</th>\n",
       "      <td>200003.0</td>\n",
       "      <td>1</td>\n",
       "      <td>Mech</td>\n",
       "      <td>mech/O2/none category</td>\n",
       "      <td>2199-08-04</td>\n",
       "    </tr>\n",
       "    <tr>\n",
       "      <th>4</th>\n",
       "      <td>200012.0</td>\n",
       "      <td>0</td>\n",
       "      <td>Oxygen</td>\n",
       "      <td>mech/O2/none category</td>\n",
       "      <td>2153-12-23</td>\n",
       "    </tr>\n",
       "  </tbody>\n",
       "</table>\n",
       "</div>"
      ],
      "text/plain": [
       "   icustay_id  day   value                    uom         t_0\n",
       "0    200001.0    0  Oxygen  mech/O2/none category  2181-11-26\n",
       "1    200001.0    1  Oxygen  mech/O2/none category  2181-11-26\n",
       "2    200003.0    0    Mech  mech/O2/none category  2199-08-04\n",
       "3    200003.0    1    Mech  mech/O2/none category  2199-08-04\n",
       "4    200012.0    0  Oxygen  mech/O2/none category  2153-12-23"
      ]
     },
     "execution_count": 51,
     "metadata": {},
     "output_type": "execute_result"
    },
    {
     "name": "stdout",
     "output_type": "stream",
     "text": [
      "time: 11.4 ms\n"
     ]
    }
   ],
   "source": [
    "dfs[vent_df]['uom']='mech/O2/none category'\n",
    "dfs[vent_df].head()"
   ]
  },
  {
   "cell_type": "code",
   "execution_count": 52,
   "metadata": {},
   "outputs": [
    {
     "name": "stdout",
     "output_type": "stream",
     "text": [
      "time: 38.2 ms\n"
     ]
    }
   ],
   "source": [
    "dfs[vent_df]=dfs[vent_df].rename(index=str, columns={'day':'delta'})\n",
    "dfs[vent_df]['label']='vent_recieved'\n",
    "dfs[vent_df]['delta']=pd.to_timedelta(dfs[vent_df]['delta'], unit='d')\n",
    "#dfs[vent_df]= dfs[vent_df].drop(columns=['day'], axis=1) #removing day column"
   ]
  },
  {
   "cell_type": "code",
   "execution_count": 53,
   "metadata": {},
   "outputs": [
    {
     "data": {
      "text/html": [
       "<div>\n",
       "<style scoped>\n",
       "    .dataframe tbody tr th:only-of-type {\n",
       "        vertical-align: middle;\n",
       "    }\n",
       "\n",
       "    .dataframe tbody tr th {\n",
       "        vertical-align: top;\n",
       "    }\n",
       "\n",
       "    .dataframe thead th {\n",
       "        text-align: right;\n",
       "    }\n",
       "</style>\n",
       "<table border=\"1\" class=\"dataframe\">\n",
       "  <thead>\n",
       "    <tr style=\"text-align: right;\">\n",
       "      <th></th>\n",
       "      <th>icustay_id</th>\n",
       "      <th>delta</th>\n",
       "      <th>value</th>\n",
       "      <th>uom</th>\n",
       "      <th>t_0</th>\n",
       "      <th>label</th>\n",
       "    </tr>\n",
       "  </thead>\n",
       "  <tbody>\n",
       "    <tr>\n",
       "      <th>0</th>\n",
       "      <td>200001.0</td>\n",
       "      <td>0 days</td>\n",
       "      <td>Oxygen</td>\n",
       "      <td>mech/O2/none category</td>\n",
       "      <td>2181-11-26</td>\n",
       "      <td>vent_recieved</td>\n",
       "    </tr>\n",
       "    <tr>\n",
       "      <th>1</th>\n",
       "      <td>200001.0</td>\n",
       "      <td>1 days</td>\n",
       "      <td>Oxygen</td>\n",
       "      <td>mech/O2/none category</td>\n",
       "      <td>2181-11-26</td>\n",
       "      <td>vent_recieved</td>\n",
       "    </tr>\n",
       "    <tr>\n",
       "      <th>2</th>\n",
       "      <td>200003.0</td>\n",
       "      <td>0 days</td>\n",
       "      <td>Mech</td>\n",
       "      <td>mech/O2/none category</td>\n",
       "      <td>2199-08-04</td>\n",
       "      <td>vent_recieved</td>\n",
       "    </tr>\n",
       "    <tr>\n",
       "      <th>3</th>\n",
       "      <td>200003.0</td>\n",
       "      <td>1 days</td>\n",
       "      <td>Mech</td>\n",
       "      <td>mech/O2/none category</td>\n",
       "      <td>2199-08-04</td>\n",
       "      <td>vent_recieved</td>\n",
       "    </tr>\n",
       "    <tr>\n",
       "      <th>4</th>\n",
       "      <td>200012.0</td>\n",
       "      <td>0 days</td>\n",
       "      <td>Oxygen</td>\n",
       "      <td>mech/O2/none category</td>\n",
       "      <td>2153-12-23</td>\n",
       "      <td>vent_recieved</td>\n",
       "    </tr>\n",
       "  </tbody>\n",
       "</table>\n",
       "</div>"
      ],
      "text/plain": [
       "   icustay_id  delta   value                    uom         t_0          label\n",
       "0    200001.0 0 days  Oxygen  mech/O2/none category  2181-11-26  vent_recieved\n",
       "1    200001.0 1 days  Oxygen  mech/O2/none category  2181-11-26  vent_recieved\n",
       "2    200003.0 0 days    Mech  mech/O2/none category  2199-08-04  vent_recieved\n",
       "3    200003.0 1 days    Mech  mech/O2/none category  2199-08-04  vent_recieved\n",
       "4    200012.0 0 days  Oxygen  mech/O2/none category  2153-12-23  vent_recieved"
      ]
     },
     "execution_count": 53,
     "metadata": {},
     "output_type": "execute_result"
    },
    {
     "name": "stdout",
     "output_type": "stream",
     "text": [
      "time: 11.8 ms\n"
     ]
    }
   ],
   "source": [
    "dfs[vent_df].head()"
   ]
  },
  {
   "cell_type": "code",
   "execution_count": 54,
   "metadata": {},
   "outputs": [
    {
     "name": "stdout",
     "output_type": "stream",
     "text": [
      "time: 613 µs\n"
     ]
    }
   ],
   "source": [
    "#collapsing into 1 column for 3 days"
   ]
  },
  {
   "cell_type": "code",
   "execution_count": 55,
   "metadata": {},
   "outputs": [
    {
     "name": "stdout",
     "output_type": "stream",
     "text": [
      "time: 6.17 ms\n"
     ]
    }
   ],
   "source": [
    "def vent_day_collapser(x):\n",
    "    if 'Mech' in list(x.unique()):\n",
    "        x= 'Mech'\n",
    "    elif 'Oxygen' in list(x.unique()):\n",
    "        x= 'Oxygen'\n",
    "    else:\n",
    "        x='None'\n",
    "    return(x)"
   ]
  },
  {
   "cell_type": "code",
   "execution_count": 56,
   "metadata": {},
   "outputs": [
    {
     "data": {
      "text/html": [
       "<div>\n",
       "<style scoped>\n",
       "    .dataframe tbody tr th:only-of-type {\n",
       "        vertical-align: middle;\n",
       "    }\n",
       "\n",
       "    .dataframe tbody tr th {\n",
       "        vertical-align: top;\n",
       "    }\n",
       "\n",
       "    .dataframe thead th {\n",
       "        text-align: right;\n",
       "    }\n",
       "</style>\n",
       "<table border=\"1\" class=\"dataframe\">\n",
       "  <thead>\n",
       "    <tr style=\"text-align: right;\">\n",
       "      <th></th>\n",
       "      <th>icustay_id</th>\n",
       "      <th>delta</th>\n",
       "      <th>value</th>\n",
       "      <th>uom</th>\n",
       "      <th>t_0</th>\n",
       "      <th>label</th>\n",
       "    </tr>\n",
       "  </thead>\n",
       "  <tbody>\n",
       "    <tr>\n",
       "      <th>0</th>\n",
       "      <td>200001.0</td>\n",
       "      <td>0 days</td>\n",
       "      <td>Oxygen</td>\n",
       "      <td>mech/O2/none category</td>\n",
       "      <td>2181-11-26</td>\n",
       "      <td>vent_recieved</td>\n",
       "    </tr>\n",
       "    <tr>\n",
       "      <th>2</th>\n",
       "      <td>200003.0</td>\n",
       "      <td>0 days</td>\n",
       "      <td>Mech</td>\n",
       "      <td>mech/O2/none category</td>\n",
       "      <td>2199-08-04</td>\n",
       "      <td>vent_recieved</td>\n",
       "    </tr>\n",
       "    <tr>\n",
       "      <th>4</th>\n",
       "      <td>200012.0</td>\n",
       "      <td>0 days</td>\n",
       "      <td>Oxygen</td>\n",
       "      <td>mech/O2/none category</td>\n",
       "      <td>2153-12-23</td>\n",
       "      <td>vent_recieved</td>\n",
       "    </tr>\n",
       "    <tr>\n",
       "      <th>5</th>\n",
       "      <td>200014.0</td>\n",
       "      <td>0 days</td>\n",
       "      <td>Mech</td>\n",
       "      <td>mech/O2/none category</td>\n",
       "      <td>2105-02-17</td>\n",
       "      <td>vent_recieved</td>\n",
       "    </tr>\n",
       "    <tr>\n",
       "      <th>7</th>\n",
       "      <td>200019.0</td>\n",
       "      <td>0 days</td>\n",
       "      <td>Mech</td>\n",
       "      <td>mech/O2/none category</td>\n",
       "      <td>2178-07-09</td>\n",
       "      <td>vent_recieved</td>\n",
       "    </tr>\n",
       "  </tbody>\n",
       "</table>\n",
       "</div>"
      ],
      "text/plain": [
       "   icustay_id  delta   value                    uom         t_0          label\n",
       "0    200001.0 0 days  Oxygen  mech/O2/none category  2181-11-26  vent_recieved\n",
       "2    200003.0 0 days    Mech  mech/O2/none category  2199-08-04  vent_recieved\n",
       "4    200012.0 0 days  Oxygen  mech/O2/none category  2153-12-23  vent_recieved\n",
       "5    200014.0 0 days    Mech  mech/O2/none category  2105-02-17  vent_recieved\n",
       "7    200019.0 0 days    Mech  mech/O2/none category  2178-07-09  vent_recieved"
      ]
     },
     "execution_count": 56,
     "metadata": {},
     "output_type": "execute_result"
    },
    {
     "name": "stdout",
     "output_type": "stream",
     "text": [
      "time: 35.9 s\n"
     ]
    }
   ],
   "source": [
    "#collapsing all days into the worst day. \n",
    "ventcategory_1day_df= dfs[vent_df].copy()\n",
    "ventcategory_1day_df['value']=ventcategory_1day_df.groupby('icustay_id',as_index=False)['value'].transform(vent_day_collapser)\n",
    "ventcategory_1day_df= ventcategory_1day_df.drop_duplicates(['icustay_id','value']).sort_values('icustay_id') #\n",
    "ventcategory_1day_df= ventcategory_1day_df.loc[ventcategory_1day_df.loc[:,'icustay_id'].isin(icustay_id),:] #had icustay ids not in final cohort, fail safe mesure\n",
    "#ventcategory_1day_df['label']= 'vent_recieved'\n",
    "ventcategory_1day_df.head()"
   ]
  },
  {
   "cell_type": "code",
   "execution_count": 57,
   "metadata": {},
   "outputs": [
    {
     "data": {
      "text/plain": [
       "Mech      9958\n",
       "Oxygen    8525\n",
       "None       973\n",
       "Name: value, dtype: int64"
      ]
     },
     "execution_count": 57,
     "metadata": {},
     "output_type": "execute_result"
    },
    {
     "name": "stdout",
     "output_type": "stream",
     "text": [
      "time: 9.43 ms\n"
     ]
    }
   ],
   "source": [
    "ventcategory_1day_df['value'].value_counts()"
   ]
  },
  {
   "cell_type": "code",
   "execution_count": 58,
   "metadata": {},
   "outputs": [
    {
     "name": "stdout",
     "output_type": "stream",
     "text": [
      "time: 469 ms\n"
     ]
    }
   ],
   "source": [
    "save_df(ventcategory_1day_df, 'ventcategory')\n",
    "del(ventcategory_1day_df,dfs[vent_df] )"
   ]
  },
  {
   "cell_type": "markdown",
   "metadata": {},
   "source": [
    "## weight and height firstday -\n",
    "i explored weightdurations and it had more missing values than weightfirstday, so i will use that. we can revisit this if we need longitudinal weights"
   ]
  },
  {
   "cell_type": "code",
   "execution_count": 59,
   "metadata": {},
   "outputs": [
    {
     "data": {
      "text/html": [
       "<div>\n",
       "<style scoped>\n",
       "    .dataframe tbody tr th:only-of-type {\n",
       "        vertical-align: middle;\n",
       "    }\n",
       "\n",
       "    .dataframe tbody tr th {\n",
       "        vertical-align: top;\n",
       "    }\n",
       "\n",
       "    .dataframe thead th {\n",
       "        text-align: right;\n",
       "    }\n",
       "</style>\n",
       "<table border=\"1\" class=\"dataframe\">\n",
       "  <thead>\n",
       "    <tr style=\"text-align: right;\">\n",
       "      <th></th>\n",
       "      <th>icustay_id</th>\n",
       "      <th>weight</th>\n",
       "      <th>weight_admit</th>\n",
       "      <th>weight_daily</th>\n",
       "      <th>weight_echoinhosp</th>\n",
       "      <th>weight_echoprehosp</th>\n",
       "      <th>uom</th>\n",
       "      <th>t_0</th>\n",
       "    </tr>\n",
       "  </thead>\n",
       "  <tbody>\n",
       "    <tr>\n",
       "      <th>0</th>\n",
       "      <td>200001</td>\n",
       "      <td>61.0</td>\n",
       "      <td>61.000000</td>\n",
       "      <td>NaN</td>\n",
       "      <td>NaN</td>\n",
       "      <td>NaN</td>\n",
       "      <td>kg</td>\n",
       "      <td>2181-11-26</td>\n",
       "    </tr>\n",
       "    <tr>\n",
       "      <th>1</th>\n",
       "      <td>200003</td>\n",
       "      <td>77.0</td>\n",
       "      <td>77.000000</td>\n",
       "      <td>77.500000</td>\n",
       "      <td>72.57472</td>\n",
       "      <td>NaN</td>\n",
       "      <td>kg</td>\n",
       "      <td>2199-08-04</td>\n",
       "    </tr>\n",
       "    <tr>\n",
       "      <th>2</th>\n",
       "      <td>200012</td>\n",
       "      <td>51.2</td>\n",
       "      <td>51.200001</td>\n",
       "      <td>51.200001</td>\n",
       "      <td>NaN</td>\n",
       "      <td>NaN</td>\n",
       "      <td>kg</td>\n",
       "      <td>2153-12-23</td>\n",
       "    </tr>\n",
       "    <tr>\n",
       "      <th>3</th>\n",
       "      <td>200014</td>\n",
       "      <td>62.0</td>\n",
       "      <td>62.000000</td>\n",
       "      <td>NaN</td>\n",
       "      <td>NaN</td>\n",
       "      <td>NaN</td>\n",
       "      <td>kg</td>\n",
       "      <td>2105-02-17</td>\n",
       "    </tr>\n",
       "    <tr>\n",
       "      <th>4</th>\n",
       "      <td>200019</td>\n",
       "      <td>65.0</td>\n",
       "      <td>65.000000</td>\n",
       "      <td>NaN</td>\n",
       "      <td>NaN</td>\n",
       "      <td>NaN</td>\n",
       "      <td>kg</td>\n",
       "      <td>2178-07-09</td>\n",
       "    </tr>\n",
       "  </tbody>\n",
       "</table>\n",
       "</div>"
      ],
      "text/plain": [
       "   icustay_id  weight  weight_admit  weight_daily  weight_echoinhosp  \\\n",
       "0      200001    61.0     61.000000           NaN                NaN   \n",
       "1      200003    77.0     77.000000     77.500000           72.57472   \n",
       "2      200012    51.2     51.200001     51.200001                NaN   \n",
       "3      200014    62.0     62.000000           NaN                NaN   \n",
       "4      200019    65.0     65.000000           NaN                NaN   \n",
       "\n",
       "   weight_echoprehosp uom         t_0  \n",
       "0                 NaN  kg  2181-11-26  \n",
       "1                 NaN  kg  2199-08-04  \n",
       "2                 NaN  kg  2153-12-23  \n",
       "3                 NaN  kg  2105-02-17  \n",
       "4                 NaN  kg  2178-07-09  "
      ]
     },
     "execution_count": 59,
     "metadata": {},
     "output_type": "execute_result"
    },
    {
     "name": "stdout",
     "output_type": "stream",
     "text": [
      "time: 13.7 ms\n"
     ]
    }
   ],
   "source": [
    "dfs[weight_df]['uom']='kg'\n",
    "dfs[weight_df].head()  \n",
    "#weight column is the conglomerate of weight_admin>weight_daily> weight_echoinhosp> weight_echoprehosp"
   ]
  },
  {
   "cell_type": "code",
   "execution_count": 60,
   "metadata": {},
   "outputs": [
    {
     "name": "stdout",
     "output_type": "stream",
     "text": [
      "time: 128 ms\n"
     ]
    }
   ],
   "source": [
    "dfs[weight_df]= dfs[weight_df][dfs[weight_df]['weight'].notnull()]\n",
    "dfs[weight_df]= dfs[weight_df][['icustay_id','weight','uom']]\n",
    "\n",
    "dfs[weight_df]['label']= 'weight'\n",
    "dfs[weight_df]=dfs[weight_df].rename(index=str, columns={'weight':'value'})\n",
    "\n",
    "#adding the assumed first day delta column to standardize all columns\n",
    "dfs[weight_df]['delta']=pd.to_timedelta(0,'days')\n",
    "\n",
    "#adding t_0\n",
    "dfs[weight_df]= pd.merge(dfs[weight_df], final_pt_df2[['icustay_id',time_var]], left_on='icustay_id', right_on='icustay_id')"
   ]
  },
  {
   "cell_type": "code",
   "execution_count": 61,
   "metadata": {},
   "outputs": [
    {
     "name": "stdout",
     "output_type": "stream",
     "text": [
      "time: 438 ms\n"
     ]
    }
   ],
   "source": [
    "# pd.DataFrame(dfs[weight_df]).to_csv(Path(\n",
    "#     save_path+'/%s_weight_prepped.csv' %(date)))\n",
    "save_df(dfs[weight_df], 'weight')\n",
    "\n",
    "del(dfs[weight_df])"
   ]
  },
  {
   "cell_type": "code",
   "execution_count": 62,
   "metadata": {},
   "outputs": [
    {
     "name": "stdout",
     "output_type": "stream",
     "text": [
      "time: 3.1 ms\n"
     ]
    }
   ],
   "source": [
    "dfs[height_df]['uom']='cm'"
   ]
  },
  {
   "cell_type": "code",
   "execution_count": 63,
   "metadata": {},
   "outputs": [
    {
     "name": "stdout",
     "output_type": "stream",
     "text": [
      "time: 9.15 ms\n"
     ]
    }
   ],
   "source": [
    "dfs[height_df]= dfs[height_df][dfs[height_df]['height'].notnull()]\n",
    "dfs[height_df]= dfs[height_df][['icustay_id','height','uom']]"
   ]
  },
  {
   "cell_type": "code",
   "execution_count": 64,
   "metadata": {},
   "outputs": [
    {
     "name": "stdout",
     "output_type": "stream",
     "text": [
      "time: 105 ms\n"
     ]
    }
   ],
   "source": [
    "dfs[height_df]['label']= 'height'\n",
    "dfs[height_df]=dfs[height_df].rename(index=str, columns={'height':'value'})\n",
    "\n",
    "#adding the assumed first day delta column to standardize all columns\n",
    "dfs[height_df]['delta']=pd.to_timedelta(0,'days')\n",
    "#adding t_0\n",
    "dfs[height_df]= pd.merge(dfs[height_df], final_pt_df2[['icustay_id',time_var]], left_on='icustay_id', right_on='icustay_id')"
   ]
  },
  {
   "cell_type": "code",
   "execution_count": 65,
   "metadata": {},
   "outputs": [
    {
     "name": "stdout",
     "output_type": "stream",
     "text": [
      "time: 407 ms\n"
     ]
    }
   ],
   "source": [
    "#heightfirstday\n",
    "save_df(dfs[height_df], 'height')\n",
    "del(dfs[height_df])"
   ]
  },
  {
   "cell_type": "markdown",
   "metadata": {},
   "source": [
    "# UTI"
   ]
  },
  {
   "cell_type": "code",
   "execution_count": 66,
   "metadata": {},
   "outputs": [
    {
     "data": {
      "text/plain": [
       "array(['NEG', 'MOD', 'POS', 'TR', 'SM', 'LG', ' ', 'N', 'SMALL'],\n",
       "      dtype=object)"
      ]
     },
     "execution_count": 66,
     "metadata": {},
     "output_type": "execute_result"
    },
    {
     "name": "stdout",
     "output_type": "stream",
     "text": [
      "time: 14.4 ms\n"
     ]
    }
   ],
   "source": [
    "dfs[uti_df]['value'].unique()#seems good #all uti within clinical timewindow"
   ]
  },
  {
   "cell_type": "code",
   "execution_count": 67,
   "metadata": {},
   "outputs": [
    {
     "name": "stdout",
     "output_type": "stream",
     "text": [
      "time: 170 ms\n"
     ]
    }
   ],
   "source": [
    "dfs[uti_df]= dfs[uti_df].loc[(dfs[uti_df].loc[:,'value']!='NEG')&\n",
    "               dfs[uti_df].loc[:,'value'].notnull(),:] #filter to only pos rows\n",
    "\n",
    "dfs[uti_df]= dfs[uti_df].loc[(dfs[uti_df].loc[:,'value']!='COMPUTER NETWORK FAILURE. TEST NOT RESULTED.')&\n",
    "               dfs[uti_df].loc[:,'value'].notnull(),:] #filter to only pos rows\n",
    "dfs[uti_df]= dfs[uti_df].drop_duplicates(subset=['hadm_id','value','charttime'])\n",
    "\n",
    "dfs[uti_df].loc[dfs[uti_df].loc[:,'value'].notnull(),'value']= 1\n",
    "dfs[uti_df].loc[dfs[uti_df].loc[:,'value'].isna(),'value']= 0 "
   ]
  },
  {
   "cell_type": "code",
   "execution_count": 68,
   "metadata": {},
   "outputs": [
    {
     "data": {
      "text/html": [
       "<div>\n",
       "<style scoped>\n",
       "    .dataframe tbody tr th:only-of-type {\n",
       "        vertical-align: middle;\n",
       "    }\n",
       "\n",
       "    .dataframe tbody tr th {\n",
       "        vertical-align: top;\n",
       "    }\n",
       "\n",
       "    .dataframe thead th {\n",
       "        text-align: right;\n",
       "    }\n",
       "</style>\n",
       "<table border=\"1\" class=\"dataframe\">\n",
       "  <thead>\n",
       "    <tr style=\"text-align: right;\">\n",
       "      <th></th>\n",
       "      <th>subject_id</th>\n",
       "      <th>hadm_id</th>\n",
       "      <th>itemid</th>\n",
       "      <th>charttime</th>\n",
       "      <th>value</th>\n",
       "      <th>valuenum</th>\n",
       "      <th>valueuom</th>\n",
       "      <th>label</th>\n",
       "      <th>fluid</th>\n",
       "      <th>category</th>\n",
       "      <th>loinc_code</th>\n",
       "      <th>icd9_code</th>\n",
       "      <th>t_0</th>\n",
       "      <th>delta</th>\n",
       "    </tr>\n",
       "  </thead>\n",
       "  <tbody>\n",
       "    <tr>\n",
       "      <th>132</th>\n",
       "      <td>21</td>\n",
       "      <td>109451.0</td>\n",
       "      <td>51486</td>\n",
       "      <td>2134-09-12 00:08:00</td>\n",
       "      <td>1</td>\n",
       "      <td>NaN</td>\n",
       "      <td>NaN</td>\n",
       "      <td>Leukocytes</td>\n",
       "      <td>Urine</td>\n",
       "      <td>Hematology</td>\n",
       "      <td>5799-2</td>\n",
       "      <td>41071</td>\n",
       "      <td>2134-09-12</td>\n",
       "      <td>0 days 00:08:00.000000000</td>\n",
       "    </tr>\n",
       "    <tr>\n",
       "      <th>186</th>\n",
       "      <td>21</td>\n",
       "      <td>109451.0</td>\n",
       "      <td>51487</td>\n",
       "      <td>2134-09-12 00:08:00</td>\n",
       "      <td>1</td>\n",
       "      <td>NaN</td>\n",
       "      <td>NaN</td>\n",
       "      <td>Nitrite</td>\n",
       "      <td>Urine</td>\n",
       "      <td>Hematology</td>\n",
       "      <td>5802-4</td>\n",
       "      <td>41071</td>\n",
       "      <td>2134-09-12</td>\n",
       "      <td>0 days 00:08:00.000000000</td>\n",
       "    </tr>\n",
       "    <tr>\n",
       "      <th>236</th>\n",
       "      <td>31</td>\n",
       "      <td>128652.0</td>\n",
       "      <td>51486</td>\n",
       "      <td>2108-08-24 16:30:00</td>\n",
       "      <td>1</td>\n",
       "      <td>NaN</td>\n",
       "      <td>NaN</td>\n",
       "      <td>Leukocytes</td>\n",
       "      <td>Urine</td>\n",
       "      <td>Hematology</td>\n",
       "      <td>5799-2</td>\n",
       "      <td>3453</td>\n",
       "      <td>2108-08-24</td>\n",
       "      <td>0 days 16:30:00.000000000</td>\n",
       "    </tr>\n",
       "    <tr>\n",
       "      <th>790</th>\n",
       "      <td>64</td>\n",
       "      <td>172056.0</td>\n",
       "      <td>51486</td>\n",
       "      <td>2143-03-03 04:33:00</td>\n",
       "      <td>1</td>\n",
       "      <td>NaN</td>\n",
       "      <td>NaN</td>\n",
       "      <td>Leukocytes</td>\n",
       "      <td>Urine</td>\n",
       "      <td>Hematology</td>\n",
       "      <td>5799-2</td>\n",
       "      <td>03811</td>\n",
       "      <td>2143-03-03</td>\n",
       "      <td>0 days 04:33:00.000000000</td>\n",
       "    </tr>\n",
       "    <tr>\n",
       "      <th>832</th>\n",
       "      <td>62</td>\n",
       "      <td>116009.0</td>\n",
       "      <td>51486</td>\n",
       "      <td>2113-02-15 12:27:00</td>\n",
       "      <td>1</td>\n",
       "      <td>NaN</td>\n",
       "      <td>NaN</td>\n",
       "      <td>Leukocytes</td>\n",
       "      <td>Urine</td>\n",
       "      <td>Hematology</td>\n",
       "      <td>5799-2</td>\n",
       "      <td>1125</td>\n",
       "      <td>2113-02-15</td>\n",
       "      <td>0 days 12:27:00.000000000</td>\n",
       "    </tr>\n",
       "  </tbody>\n",
       "</table>\n",
       "</div>"
      ],
      "text/plain": [
       "     subject_id   hadm_id  itemid            charttime  value  valuenum  \\\n",
       "132          21  109451.0   51486  2134-09-12 00:08:00      1       NaN   \n",
       "186          21  109451.0   51487  2134-09-12 00:08:00      1       NaN   \n",
       "236          31  128652.0   51486  2108-08-24 16:30:00      1       NaN   \n",
       "790          64  172056.0   51486  2143-03-03 04:33:00      1       NaN   \n",
       "832          62  116009.0   51486  2113-02-15 12:27:00      1       NaN   \n",
       "\n",
       "     valueuom       label  fluid    category loinc_code icd9_code         t_0  \\\n",
       "132       NaN  Leukocytes  Urine  Hematology     5799-2     41071  2134-09-12   \n",
       "186       NaN     Nitrite  Urine  Hematology     5802-4     41071  2134-09-12   \n",
       "236       NaN  Leukocytes  Urine  Hematology     5799-2      3453  2108-08-24   \n",
       "790       NaN  Leukocytes  Urine  Hematology     5799-2     03811  2143-03-03   \n",
       "832       NaN  Leukocytes  Urine  Hematology     5799-2      1125  2113-02-15   \n",
       "\n",
       "                         delta  \n",
       "132  0 days 00:08:00.000000000  \n",
       "186  0 days 00:08:00.000000000  \n",
       "236  0 days 16:30:00.000000000  \n",
       "790  0 days 04:33:00.000000000  \n",
       "832  0 days 12:27:00.000000000  "
      ]
     },
     "execution_count": 68,
     "metadata": {},
     "output_type": "execute_result"
    },
    {
     "name": "stdout",
     "output_type": "stream",
     "text": [
      "time: 23 ms\n"
     ]
    }
   ],
   "source": [
    "dfs[uti_df].head()"
   ]
  },
  {
   "cell_type": "code",
   "execution_count": 69,
   "metadata": {},
   "outputs": [
    {
     "name": "stdout",
     "output_type": "stream",
     "text": [
      "time: 47.4 ms\n"
     ]
    }
   ],
   "source": [
    "def uti_categorizer(uti_df):\n",
    "    \"useful to get all rows of days with positive values for patients (if multiple pos in a day there will be only 1 row for that day). ie more longitudinal format \"\n",
    "    \n",
    "    #gives the max pos or neg value per day for \n",
    "    df_timewindow_perday=uti_df.groupby(['hadm_id','delta'], as_index=False)['value'].agg({'value':'max'})  \n",
    "    df_timewindow_perday= pd.merge(df_timewindow_perday,final_pt_df2[['icustay_id','hadm_id', time_var]], left_on='hadm_id', right_on='hadm_id', how='left')\n",
    "    df_timewindow_perday=df_timewindow_perday.sort_values(['hadm_id','value','delta'], ascending=[True,False,True])\n",
    "    return(df_timewindow_perday)\n",
    "\n",
    "def uti_collapser(uti_df, label):\n",
    "    \"collapsing longitudinal data into 1 value. will return pos or neg if patient has a positive uti in their stay. one row per icustay_id\"\n",
    "    \n",
    "    df_timewindow_perday=uti_df.groupby(['hadm_id','delta'], as_index=False)['value'].agg({'value':'max'})\n",
    "    first_pos= df_timewindow_perday.drop_duplicates(['hadm_id'])\n",
    "    collapsed= pd.merge(final_pt_df2[['hadm_id','icustay_id','subject_id', time_var]],first_pos, left_on='hadm_id', right_on='hadm_id', how='left')\n",
    "    \n",
    "    collapsed['value']= collapsed['value'].fillna(0)\n",
    "    collapsed.loc[collapsed.loc[:,'value']==1,'value']= 'pos'\n",
    "    collapsed.loc[collapsed.loc[:,'value']==0,'value']= 'Neg/Not_tested'\n",
    "    \n",
    "    collapsed['delta']= collapsed['delta'].fillna(pd.Timedelta(1, unit='d'))\n",
    "    \n",
    "    collapsed['label']= label\n",
    "    \n",
    "    collapsed['uom']='pos/neg category'\n",
    "    return(collapsed)"
   ]
  },
  {
   "cell_type": "code",
   "execution_count": 70,
   "metadata": {},
   "outputs": [
    {
     "name": "stdout",
     "output_type": "stream",
     "text": [
      "time: 101 ms\n"
     ]
    }
   ],
   "source": [
    "uti_nit_pos= dfs[uti_df][dfs[uti_df]['label']==\"Nitrite\"]\n",
    "uti_leuk_pos= dfs[uti_df][dfs[uti_df]['label']==\"Leukocytes\"]\n",
    "\n",
    "leuk_collapsed= uti_collapser(uti_leuk_pos, 'leukocyte')\n",
    "nit_collapsed= uti_collapser(uti_nit_pos, 'nitrite')\n"
   ]
  },
  {
   "cell_type": "code",
   "execution_count": 71,
   "metadata": {},
   "outputs": [
    {
     "name": "stdout",
     "output_type": "stream",
     "text": [
      "time: 603 ms\n"
     ]
    }
   ],
   "source": [
    "save_df(leuk_collapsed, 'leuk')\n",
    "del(leuk_collapsed)\n",
    "\n",
    "save_df(nit_collapsed, 'nit')\n",
    "del(nit_collapsed)\n",
    "del(dfs[uti_df])"
   ]
  },
  {
   "cell_type": "markdown",
   "metadata": {},
   "source": [
    "# bloodgas"
   ]
  },
  {
   "cell_type": "code",
   "execution_count": 72,
   "metadata": {},
   "outputs": [
    {
     "data": {
      "text/html": [
       "<div>\n",
       "<style scoped>\n",
       "    .dataframe tbody tr th:only-of-type {\n",
       "        vertical-align: middle;\n",
       "    }\n",
       "\n",
       "    .dataframe tbody tr th {\n",
       "        vertical-align: top;\n",
       "    }\n",
       "\n",
       "    .dataframe thead th {\n",
       "        text-align: right;\n",
       "    }\n",
       "</style>\n",
       "<table border=\"1\" class=\"dataframe\">\n",
       "  <thead>\n",
       "    <tr style=\"text-align: right;\">\n",
       "      <th></th>\n",
       "      <th>subject_id</th>\n",
       "      <th>hadm_id</th>\n",
       "      <th>icustay_id</th>\n",
       "      <th>charttime</th>\n",
       "      <th>label</th>\n",
       "      <th>valuenum</th>\n",
       "      <th>value</th>\n",
       "      <th>uom</th>\n",
       "      <th>unique_var</th>\n",
       "      <th>t_0</th>\n",
       "      <th>delta</th>\n",
       "    </tr>\n",
       "  </thead>\n",
       "  <tbody>\n",
       "    <tr>\n",
       "      <th>48</th>\n",
       "      <td>9</td>\n",
       "      <td>150750</td>\n",
       "      <td>220597</td>\n",
       "      <td>2149-11-10 03:04:00</td>\n",
       "      <td>BASEEXCESS</td>\n",
       "      <td>NaN</td>\n",
       "      <td>0</td>\n",
       "      <td>mEq/L</td>\n",
       "      <td>2205972149-11-10 03:04:00</td>\n",
       "      <td>2149-11-10</td>\n",
       "      <td>0 days 03:04:00.000000000</td>\n",
       "    </tr>\n",
       "    <tr>\n",
       "      <th>49</th>\n",
       "      <td>9</td>\n",
       "      <td>150750</td>\n",
       "      <td>220597</td>\n",
       "      <td>2149-11-10 03:04:00</td>\n",
       "      <td>CALCIUM</td>\n",
       "      <td>1.14</td>\n",
       "      <td>1.14</td>\n",
       "      <td>mmol/L</td>\n",
       "      <td>2205972149-11-10 03:04:00</td>\n",
       "      <td>2149-11-10</td>\n",
       "      <td>0 days 03:04:00.000000000</td>\n",
       "    </tr>\n",
       "    <tr>\n",
       "      <th>50</th>\n",
       "      <td>9</td>\n",
       "      <td>150750</td>\n",
       "      <td>220597</td>\n",
       "      <td>2149-11-10 03:04:00</td>\n",
       "      <td>FIO2</td>\n",
       "      <td>60.00</td>\n",
       "      <td>60</td>\n",
       "      <td>NaN</td>\n",
       "      <td>2205972149-11-10 03:04:00</td>\n",
       "      <td>2149-11-10</td>\n",
       "      <td>0 days 03:04:00.000000000</td>\n",
       "    </tr>\n",
       "    <tr>\n",
       "      <th>51</th>\n",
       "      <td>9</td>\n",
       "      <td>150750</td>\n",
       "      <td>220597</td>\n",
       "      <td>2149-11-10 03:04:00</td>\n",
       "      <td>LACTATE</td>\n",
       "      <td>2.40</td>\n",
       "      <td>2.4</td>\n",
       "      <td>mmol/L</td>\n",
       "      <td>2205972149-11-10 03:04:00</td>\n",
       "      <td>2149-11-10</td>\n",
       "      <td>0 days 03:04:00.000000000</td>\n",
       "    </tr>\n",
       "    <tr>\n",
       "      <th>52</th>\n",
       "      <td>9</td>\n",
       "      <td>150750</td>\n",
       "      <td>220597</td>\n",
       "      <td>2149-11-10 03:04:00</td>\n",
       "      <td>PCO2</td>\n",
       "      <td>41.00</td>\n",
       "      <td>41</td>\n",
       "      <td>mm Hg</td>\n",
       "      <td>2205972149-11-10 03:04:00</td>\n",
       "      <td>2149-11-10</td>\n",
       "      <td>0 days 03:04:00.000000000</td>\n",
       "    </tr>\n",
       "  </tbody>\n",
       "</table>\n",
       "</div>"
      ],
      "text/plain": [
       "    subject_id  hadm_id  icustay_id            charttime       label  \\\n",
       "48           9   150750      220597  2149-11-10 03:04:00  BASEEXCESS   \n",
       "49           9   150750      220597  2149-11-10 03:04:00     CALCIUM   \n",
       "50           9   150750      220597  2149-11-10 03:04:00        FIO2   \n",
       "51           9   150750      220597  2149-11-10 03:04:00     LACTATE   \n",
       "52           9   150750      220597  2149-11-10 03:04:00        PCO2   \n",
       "\n",
       "    valuenum value     uom                 unique_var         t_0  \\\n",
       "48       NaN     0   mEq/L  2205972149-11-10 03:04:00  2149-11-10   \n",
       "49      1.14  1.14  mmol/L  2205972149-11-10 03:04:00  2149-11-10   \n",
       "50     60.00    60     NaN  2205972149-11-10 03:04:00  2149-11-10   \n",
       "51      2.40   2.4  mmol/L  2205972149-11-10 03:04:00  2149-11-10   \n",
       "52     41.00    41   mm Hg  2205972149-11-10 03:04:00  2149-11-10   \n",
       "\n",
       "                        delta  \n",
       "48  0 days 03:04:00.000000000  \n",
       "49  0 days 03:04:00.000000000  \n",
       "50  0 days 03:04:00.000000000  \n",
       "51  0 days 03:04:00.000000000  \n",
       "52  0 days 03:04:00.000000000  "
      ]
     },
     "execution_count": 72,
     "metadata": {},
     "output_type": "execute_result"
    },
    {
     "name": "stdout",
     "output_type": "stream",
     "text": [
      "time: 1.32 s\n"
     ]
    }
   ],
   "source": [
    "dfs[bg_df]= dfs[bg_df].loc[dfs[bg_df]['value'].notnull(),:]\n",
    "dfs[bg_df] = dfs[bg_df].rename(index=str, columns={'valueuom':'uom'})\n",
    "dfs[bg_df]= dfs[bg_df].loc[~(dfs[bg_df].loc[:,'value']=='.'),:]\n",
    "\n",
    "#may need to remove outliers, haven't done as of 10/22/18\n",
    "dfs[bg_df].head()"
   ]
  },
  {
   "cell_type": "markdown",
   "metadata": {},
   "source": [
    "### most likely erroneous value removal\n"
   ]
  },
  {
   "cell_type": "code",
   "execution_count": 73,
   "metadata": {},
   "outputs": [
    {
     "name": "stdout",
     "output_type": "stream",
     "text": [
      "time: 549 ms\n"
     ]
    }
   ],
   "source": [
    "##calcium\n",
    "#fixing the calcium errors w/o hard coding\n",
    "(dfs[bg_df].loc[\n",
    "    (dfs[bg_df].loc[:,'icustay_id']==249571) & \n",
    "    (dfs[bg_df].loc[:,'label']=='CALCIUM')\n",
    "    & (dfs[bg_df].loc[:,'valuenum']==94.00),'valuenum'])=0.94#.where('valuenum'==94.00))\n",
    "\n",
    "(dfs[bg_df].loc[\n",
    "    (dfs[bg_df].loc[:,'icustay_id']==249571) & \n",
    "    (dfs[bg_df].loc[:,'label']=='CALCIUM')\n",
    "    & (dfs[bg_df].loc[:,'value']=='094'),'value'])=0.94#.where('valuenum'==94.00))\n",
    "\n",
    "\n",
    "(dfs[bg_df].loc[\n",
    "    (dfs[bg_df].loc[:,'icustay_id']==219600) & \n",
    "    (dfs[bg_df].loc[:,'label']=='CALCIUM')\n",
    "    & (dfs[bg_df].loc[:,'valuenum']==97.00),'valuenum'])=0.97#.where('valuenum'==94.00))\n",
    "\n",
    "(dfs[bg_df].loc[\n",
    "    (dfs[bg_df].loc[:,'icustay_id']==219600) & \n",
    "    (dfs[bg_df].loc[:,'label']=='CALCIUM')\n",
    "    & (dfs[bg_df].loc[:,'value']=='097'),'value'])=0.97#.where('valuenum'==94.00))\n"
   ]
  },
  {
   "cell_type": "code",
   "execution_count": 74,
   "metadata": {},
   "outputs": [
    {
     "name": "stdout",
     "output_type": "stream",
     "text": [
      "time: 354 ms\n"
     ]
    }
   ],
   "source": [
    "##min chloride\n",
    "#converting it to a null value without hard coding\n",
    "(dfs[bg_df].loc[(dfs[bg_df].loc[:,'icustay_id']==261887.0) &\n",
    "                         (dfs[bg_df].loc[:,'label']=='CHLORIDE') &\n",
    "                         (dfs[bg_df].loc[:,'valuenum']==3.4),'value'])=np.nan\n",
    "#converting it to a null value without hard coding\n",
    "(dfs[bg_df].loc[(dfs[bg_df].loc[:,'icustay_id']==261887.0) &\n",
    "                         (dfs[bg_df].loc[:,'label']=='CHLORIDE') &\n",
    "                         (dfs[bg_df].loc[:,'valuenum']==3.4),'valuenum'])=np.nan\n",
    "\n",
    "#changing the values without hard coding. \n",
    "(dfs[bg_df].loc[(dfs[bg_df].loc[:,'icustay_id']==236290.0) &\n",
    "                         (dfs[bg_df].loc[:,'label']=='CHLORIDE') &\n",
    "                         (dfs[bg_df].loc[:,'valuenum']==11.0),'valuenum'])=np.nan\n",
    "\n",
    "(dfs[bg_df].loc[(dfs[bg_df].loc[:,'icustay_id']==236290.0) &\n",
    "                         (dfs[bg_df].loc[:,'label']=='CHLORIDE') &\n",
    "                         (dfs[bg_df].loc[:,'valuenum']==11.0),'value'])=np.nan"
   ]
  },
  {
   "cell_type": "code",
   "execution_count": 75,
   "metadata": {},
   "outputs": [
    {
     "name": "stdout",
     "output_type": "stream",
     "text": [
      "time: 57.7 ms\n"
     ]
    }
   ],
   "source": [
    "#peep changes summary: \n",
    "dfs[bg_df].loc[(dfs[bg_df].loc[:,'label']=='PEEP')&\n",
    "                        (dfs[bg_df]['valuenum']>38),'valuenum']=np.nan #remove this or set to 50?"
   ]
  },
  {
   "cell_type": "code",
   "execution_count": 76,
   "metadata": {},
   "outputs": [
    {
     "name": "stdout",
     "output_type": "stream",
     "text": [
      "time: 453 ms\n"
     ]
    }
   ],
   "source": [
    "#temp changes summary:\n",
    "\n",
    "dfs[bg_df].loc[(dfs[bg_df].loc[:,'label']=='TEMPERATURE')&\n",
    "                        (dfs[bg_df]['icustay_id']==253821)&\n",
    "                        (dfs[bg_df]['valuenum']==18.9),\n",
    "                        'value']= np.nan\n",
    "\n",
    "dfs[bg_df].loc[(dfs[bg_df].loc[:,'label']=='TEMPERATURE')&\n",
    "                        (dfs[bg_df]['icustay_id']==253821)&\n",
    "                        (dfs[bg_df]['valuenum']==18.9),\n",
    "                        'valuenum']= np.nan\n",
    "\n",
    "dfs[bg_df].loc[(dfs[bg_df].loc[:,'label']=='TEMPERATURE')&\n",
    "                        (dfs[bg_df]['icustay_id']==251788)&\n",
    "                        (dfs[bg_df]['valuenum']==10.0),\n",
    "                        'value']= np.nan\n",
    "\n",
    "dfs[bg_df].loc[(dfs[bg_df].loc[:,'label']=='TEMPERATURE')&\n",
    "                        (dfs[bg_df]['icustay_id']==251788)&\n",
    "                        (dfs[bg_df]['valuenum']==10.0),\n",
    "                        'valuenum']= np.nan"
   ]
  },
  {
   "cell_type": "code",
   "execution_count": 77,
   "metadata": {},
   "outputs": [
    {
     "name": "stdout",
     "output_type": "stream",
     "text": [
      "time: 582 ms\n"
     ]
    }
   ],
   "source": [
    "#fio2 changes summary:\n",
    "\n",
    "##converting a few values to null, thus removing them from the dataset\n",
    "dfs[bg_df].loc[(dfs[bg_df].loc[:,'label']=='FIO2') &\n",
    "                        (dfs[bg_df].loc[:,'value']=='0'),'value']=np.nan\n",
    "\n",
    "dfs[bg_df].loc[(dfs[bg_df].loc[:,'label']=='FIO2') &\n",
    "                        (dfs[bg_df].loc[:,'value']=='-'),'value']=np.nan\n",
    "\n",
    "\n",
    "##removing all fio2 values between 1-20.9\n",
    "\n",
    "dfs[bg_df].loc[(dfs[bg_df].loc[:,'label'].isin(['FIO2']))&\n",
    "                        (dfs[bg_df]['valuenum'].between(1.0,20.9)),'valuenum']=np.nan\n",
    "\n",
    "\n",
    "##values between 0-1 were found to be ratios, not %, so converting these to % \n",
    "\n",
    "dfs[bg_df].loc[(dfs[bg_df].loc[:,'label'].isin(['FIO2']))&\n",
    "                        (dfs[bg_df]['valuenum'].between(1.0,20.9)),'valuenum']=np.nan\n",
    "\n",
    "fio2_dec= dfs[bg_df].loc[(dfs[bg_df].loc[:,'label'].isin(['FIO2']))&\n",
    "                        (dfs[bg_df]['valuenum'].between(0.0,1.0)),'valuenum']\n",
    "\n",
    "dfs[bg_df].loc[(dfs[bg_df].loc[:,'label'].isin(['FIO2']))&\n",
    "                        (dfs[bg_df]['valuenum'].between(0.0,1.0)),'valuenum'] = fio2_dec *100\n",
    "\n",
    "del(fio2_dec)"
   ]
  },
  {
   "cell_type": "markdown",
   "metadata": {},
   "source": [
    "#### removing null values annotated abov"
   ]
  },
  {
   "cell_type": "code",
   "execution_count": 78,
   "metadata": {},
   "outputs": [
    {
     "name": "stdout",
     "output_type": "stream",
     "text": [
      "time: 93.8 ms\n"
     ]
    }
   ],
   "source": [
    "dfs[bg_df]= dfs[bg_df].loc[dfs[bg_df]['value'].notnull(),:]"
   ]
  },
  {
   "cell_type": "markdown",
   "metadata": {},
   "source": [
    "### splitting specimen out for vent vs non-vent bg data"
   ]
  },
  {
   "cell_type": "code",
   "execution_count": 79,
   "metadata": {},
   "outputs": [
    {
     "name": "stdout",
     "output_type": "stream",
     "text": [
      "time: 970 ms\n"
     ]
    }
   ],
   "source": [
    "#adding specimen tag to filter only arterial samples for vent data. \n",
    "specimen_df= dfs[bg_df].loc[dfs[bg_df].loc[:,'label']=='SPECIMEN',['unique_var','label','value']]#unique()\n",
    "specimen_df=specimen_df.rename(index=str, columns={'value':'specimen'})\n",
    "specimen_df=specimen_df.loc[specimen_df.loc[:,\"specimen\"]=='ART',:]\n",
    "\n",
    "dfs[bg_df]= pd.merge(dfs[bg_df],specimen_df[['unique_var','specimen']], left_on='unique_var', right_on='unique_var', how='left')\n",
    "bg_ART_nosummary=dfs[bg_df].loc[dfs[bg_df].loc[:,'specimen']=='ART',:]\n",
    "del(specimen_df)"
   ]
  },
  {
   "cell_type": "code",
   "execution_count": 80,
   "metadata": {},
   "outputs": [
    {
     "name": "stdout",
     "output_type": "stream",
     "text": [
      "time: 1.36 ms\n"
     ]
    }
   ],
   "source": [
    "bg_labels=['PH','LACTATE','CALCIUM','TEMPERATURE','POTASSIUM',\n",
    "           'GLUCOSE','HEMOGLOBIN','SODIUM','CHLORIDE','BICARBONATE']\n",
    "bg_vent_labels=['PCO2','PaO2','PO2','FIO2','PEEP','O2FLOW']"
   ]
  },
  {
   "cell_type": "code",
   "execution_count": 81,
   "metadata": {},
   "outputs": [
    {
     "name": "stdout",
     "output_type": "stream",
     "text": [
      "time: 144 ms\n"
     ]
    }
   ],
   "source": [
    "#restricting to tests that were chosen to be analysed based on %missingness and clinical relevance\n",
    "dfs[bg_df]= dfs[bg_df].loc[dfs[bg_df].loc[:,'label'].isin(bg_labels),:]\n",
    "bg_ART_nosummary= bg_ART_nosummary.loc[bg_ART_nosummary.loc[:,'label'].isin(bg_vent_labels),:]"
   ]
  },
  {
   "cell_type": "code",
   "execution_count": 82,
   "metadata": {},
   "outputs": [
    {
     "data": {
      "text/html": [
       "<div>\n",
       "<style scoped>\n",
       "    .dataframe tbody tr th:only-of-type {\n",
       "        vertical-align: middle;\n",
       "    }\n",
       "\n",
       "    .dataframe tbody tr th {\n",
       "        vertical-align: top;\n",
       "    }\n",
       "\n",
       "    .dataframe thead th {\n",
       "        text-align: right;\n",
       "    }\n",
       "</style>\n",
       "<table border=\"1\" class=\"dataframe\">\n",
       "  <thead>\n",
       "    <tr style=\"text-align: right;\">\n",
       "      <th></th>\n",
       "      <th>subject_id</th>\n",
       "      <th>hadm_id</th>\n",
       "      <th>icustay_id</th>\n",
       "      <th>charttime</th>\n",
       "      <th>label</th>\n",
       "      <th>valuenum</th>\n",
       "      <th>value</th>\n",
       "      <th>uom</th>\n",
       "      <th>unique_var</th>\n",
       "      <th>t_0</th>\n",
       "      <th>delta</th>\n",
       "      <th>specimen</th>\n",
       "    </tr>\n",
       "  </thead>\n",
       "  <tbody>\n",
       "    <tr>\n",
       "      <th>1</th>\n",
       "      <td>9</td>\n",
       "      <td>150750</td>\n",
       "      <td>220597</td>\n",
       "      <td>2149-11-10 03:04:00</td>\n",
       "      <td>CALCIUM</td>\n",
       "      <td>1.14</td>\n",
       "      <td>1.14</td>\n",
       "      <td>mmol/L</td>\n",
       "      <td>2205972149-11-10 03:04:00</td>\n",
       "      <td>2149-11-10</td>\n",
       "      <td>0 days 03:04:00.000000000</td>\n",
       "      <td>ART</td>\n",
       "    </tr>\n",
       "    <tr>\n",
       "      <th>3</th>\n",
       "      <td>9</td>\n",
       "      <td>150750</td>\n",
       "      <td>220597</td>\n",
       "      <td>2149-11-10 03:04:00</td>\n",
       "      <td>LACTATE</td>\n",
       "      <td>2.40</td>\n",
       "      <td>2.4</td>\n",
       "      <td>mmol/L</td>\n",
       "      <td>2205972149-11-10 03:04:00</td>\n",
       "      <td>2149-11-10</td>\n",
       "      <td>0 days 03:04:00.000000000</td>\n",
       "      <td>ART</td>\n",
       "    </tr>\n",
       "    <tr>\n",
       "      <th>5</th>\n",
       "      <td>9</td>\n",
       "      <td>150750</td>\n",
       "      <td>220597</td>\n",
       "      <td>2149-11-10 03:04:00</td>\n",
       "      <td>PH</td>\n",
       "      <td>7.41</td>\n",
       "      <td>7.41</td>\n",
       "      <td>units</td>\n",
       "      <td>2205972149-11-10 03:04:00</td>\n",
       "      <td>2149-11-10</td>\n",
       "      <td>0 days 03:04:00.000000000</td>\n",
       "      <td>ART</td>\n",
       "    </tr>\n",
       "    <tr>\n",
       "      <th>10</th>\n",
       "      <td>9</td>\n",
       "      <td>150750</td>\n",
       "      <td>220597</td>\n",
       "      <td>2149-11-10 21:57:00</td>\n",
       "      <td>CALCIUM</td>\n",
       "      <td>1.05</td>\n",
       "      <td>1.05</td>\n",
       "      <td>mmol/L</td>\n",
       "      <td>2205972149-11-10 21:57:00</td>\n",
       "      <td>2149-11-10</td>\n",
       "      <td>0 days 21:57:00.000000000</td>\n",
       "      <td>ART</td>\n",
       "    </tr>\n",
       "    <tr>\n",
       "      <th>13</th>\n",
       "      <td>9</td>\n",
       "      <td>150750</td>\n",
       "      <td>220597</td>\n",
       "      <td>2149-11-10 21:57:00</td>\n",
       "      <td>LACTATE</td>\n",
       "      <td>2.30</td>\n",
       "      <td>2.3</td>\n",
       "      <td>mmol/L</td>\n",
       "      <td>2205972149-11-10 21:57:00</td>\n",
       "      <td>2149-11-10</td>\n",
       "      <td>0 days 21:57:00.000000000</td>\n",
       "      <td>ART</td>\n",
       "    </tr>\n",
       "  </tbody>\n",
       "</table>\n",
       "</div>"
      ],
      "text/plain": [
       "    subject_id  hadm_id  icustay_id            charttime    label  valuenum  \\\n",
       "1            9   150750      220597  2149-11-10 03:04:00  CALCIUM      1.14   \n",
       "3            9   150750      220597  2149-11-10 03:04:00  LACTATE      2.40   \n",
       "5            9   150750      220597  2149-11-10 03:04:00       PH      7.41   \n",
       "10           9   150750      220597  2149-11-10 21:57:00  CALCIUM      1.05   \n",
       "13           9   150750      220597  2149-11-10 21:57:00  LACTATE      2.30   \n",
       "\n",
       "   value     uom                 unique_var         t_0  \\\n",
       "1   1.14  mmol/L  2205972149-11-10 03:04:00  2149-11-10   \n",
       "3    2.4  mmol/L  2205972149-11-10 03:04:00  2149-11-10   \n",
       "5   7.41   units  2205972149-11-10 03:04:00  2149-11-10   \n",
       "10  1.05  mmol/L  2205972149-11-10 21:57:00  2149-11-10   \n",
       "13   2.3  mmol/L  2205972149-11-10 21:57:00  2149-11-10   \n",
       "\n",
       "                        delta specimen  \n",
       "1   0 days 03:04:00.000000000      ART  \n",
       "3   0 days 03:04:00.000000000      ART  \n",
       "5   0 days 03:04:00.000000000      ART  \n",
       "10  0 days 21:57:00.000000000      ART  \n",
       "13  0 days 21:57:00.000000000      ART  "
      ]
     },
     "execution_count": 82,
     "metadata": {},
     "output_type": "execute_result"
    },
    {
     "name": "stdout",
     "output_type": "stream",
     "text": [
      "time: 16.6 ms\n"
     ]
    }
   ],
   "source": [
    "dfs[bg_df].head()"
   ]
  },
  {
   "cell_type": "code",
   "execution_count": 83,
   "metadata": {},
   "outputs": [
    {
     "name": "stdout",
     "output_type": "stream",
     "text": [
      "time: 25.6 ms\n"
     ]
    }
   ],
   "source": [
    "bg_col=['subject_id','hadm_id','icustay_id','charttime','delta',time_var,'label','valuenum','uom']\n",
    "bg_ART_nosummary= bg_ART_nosummary[bg_col]\n",
    "dfs[bg_df]= dfs[bg_df][bg_col]\n",
    "del(bg_col)"
   ]
  },
  {
   "cell_type": "code",
   "execution_count": 84,
   "metadata": {},
   "outputs": [
    {
     "data": {
      "text/plain": [
       "array(['FIO2', 'PCO2', 'PaO2', 'PEEP', 'O2FLOW'], dtype=object)"
      ]
     },
     "execution_count": 84,
     "metadata": {},
     "output_type": "execute_result"
    },
    {
     "name": "stdout",
     "output_type": "stream",
     "text": [
      "time: 8.38 ms\n"
     ]
    }
   ],
   "source": [
    "bg_ART_nosummary['label'].unique()"
   ]
  },
  {
   "cell_type": "code",
   "execution_count": 85,
   "metadata": {},
   "outputs": [
    {
     "name": "stdout",
     "output_type": "stream",
     "text": [
      "time: 131 ms\n"
     ]
    }
   ],
   "source": [
    "#converting O2 to y/n\n",
    "o2_flow_df= bg_ART_nosummary.loc[bg_ART_nosummary.loc[:,'label']=='O2FLOW',:]\n",
    "o2_flow_df=o2_flow_df.rename(index=str, columns={'valuenum':'value'})\n",
    "o2_flow_df= yn_convert(o2_flow_df, label_fill='o2_flow', time_var=time_var)\n",
    "o2_flow_df['label']=\"o2_flow\" #fixing label\n",
    "\n",
    "#removing o2_flow from bg_ART\n",
    "bg_ART_nosummary= bg_ART_nosummary.loc[bg_ART_nosummary.loc[:,'label']!='O2FLOW',:]"
   ]
  },
  {
   "cell_type": "code",
   "execution_count": 86,
   "metadata": {},
   "outputs": [
    {
     "name": "stdout",
     "output_type": "stream",
     "text": [
      "time: 14.1 ms\n"
     ]
    }
   ],
   "source": [
    "bg_ART_nosummary= bg_ART_nosummary.loc[bg_ART_nosummary.loc[:,'label']!='PEEP',:]"
   ]
  },
  {
   "cell_type": "markdown",
   "metadata": {},
   "source": [
    "The PaO2/FiO2 ratio should be calculated using values that are recorded either at the same time stamp, or when the FIO2 occurs within 2 hours BEFORE the PaO2, not the other way around.\n",
    "For those with no FiO2 recorded within that time frame, you can assume it’s 0.21 (=21%). The worse ratio will be the lowest PaO2 recorded with FiO2 of 1.0 (=100%). So if that is 12, then it will be 12/1 = 12."
   ]
  },
  {
   "cell_type": "code",
   "execution_count": 87,
   "metadata": {},
   "outputs": [
    {
     "name": "stdout",
     "output_type": "stream",
     "text": [
      "time: 233 ms\n"
     ]
    }
   ],
   "source": [
    "#need to groupby icustay_id and charttime for both. pan\n",
    "pao2= bg_ART_nosummary.loc[bg_ART_nosummary.loc[:,'label']=='PaO2',:].copy() #n=41799 non-null\n",
    "fio2= bg_ART_nosummary.loc[bg_ART_nosummary.loc[:,'label']=='FIO2',:].copy() #n=12311 non-null\n",
    "pao2['delta']=pd.to_timedelta(pao2['delta'])\n",
    "fio2['delta']=pd.to_timedelta(fio2['delta'])\n",
    "pao2['offset']=pao2['delta'] - pd.to_timedelta(2, unit='h') #pao2 should have the offset, not fio2"
   ]
  },
  {
   "cell_type": "code",
   "execution_count": 88,
   "metadata": {},
   "outputs": [
    {
     "name": "stdout",
     "output_type": "stream",
     "text": [
      "time: 23.1 ms\n"
     ]
    }
   ],
   "source": [
    "#removing pao2 and fio2 from bg_ART_nosummary\n",
    "bg_ART_nosummary= bg_ART_nosummary.loc[bg_ART_nosummary.loc[:,'label']!='PaO2',:]\n",
    "bg_ART_nosummary= bg_ART_nosummary.loc[bg_ART_nosummary.loc[:,'label']!='FIO2',:]"
   ]
  },
  {
   "cell_type": "markdown",
   "metadata": {},
   "source": [
    "* need to find the fio2 values that occur between(delta-2hr, delta) of pao2"
   ]
  },
  {
   "cell_type": "code",
   "execution_count": 89,
   "metadata": {},
   "outputs": [
    {
     "name": "stdout",
     "output_type": "stream",
     "text": [
      "time: 105 ms\n"
     ]
    }
   ],
   "source": [
    "######## testing new shit\n",
    "pao2_fio2_windowed= pd.merge(pao2,\n",
    "              fio2[['icustay_id','valuenum','label','charttime','delta']].rename(index=str, columns={'valuenum':'valuenum2','label':'label2','charttime':'charttime2','delta':'delta2'}),\n",
    "              left_on='icustay_id',\n",
    "              right_on='icustay_id',\n",
    "              how='left') #\n",
    "\n",
    "pao2_fio2_windowed= pao2_fio2_windowed[pd.to_timedelta(pao2_fio2_windowed['delta2']).between(pd.to_timedelta(pao2_fio2_windowed['offset']),pd.to_timedelta(pao2_fio2_windowed['delta']))]"
   ]
  },
  {
   "cell_type": "code",
   "execution_count": 90,
   "metadata": {},
   "outputs": [
    {
     "name": "stdout",
     "output_type": "stream",
     "text": [
      "time: 94.7 ms\n"
     ]
    }
   ],
   "source": [
    "#grabes from both\n",
    "pao2_fio2_windowed['delta']=pd.to_timedelta(pao2_fio2_windowed['delta'])\n",
    "pao2_fio2_windowed['offset']=pd.to_timedelta(pao2_fio2_windowed['delta'])\n",
    "ratio_df= pd.merge(pao2, pao2_fio2_windowed[['icustay_id','delta','valuenum2', 'charttime2']], on=['icustay_id','delta'], how='left')\n",
    "del(pao2_fio2_windowed, pao2,fio2)\n"
   ]
  },
  {
   "cell_type": "code",
   "execution_count": 91,
   "metadata": {},
   "outputs": [
    {
     "name": "stdout",
     "output_type": "stream",
     "text": [
      "time: 63.3 ms\n"
     ]
    }
   ],
   "source": [
    "#i merged in all rows that matched the 2hr criteria\n",
    "## For those with no FiO2 recorded within that time frame, you can assume it’s 0.21 (=21%). \n",
    "ratio_df.loc[ratio_df.loc[:,'valuenum2'].isnull(),'valuenum2']= 21\n",
    "ratio_df['ratio']= ratio_df['valuenum']/(ratio_df['valuenum2']/100)\n",
    "ratio_df.loc[ratio_df['charttime2'].isnull(),'charttime2']= ratio_df.loc[ratio_df['charttime2'].isnull(),'charttime']\n",
    "ratio_df['deltadelta']=pd.to_datetime(ratio_df['charttime'])-pd.to_datetime(ratio_df['charttime2'])\n"
   ]
  },
  {
   "cell_type": "code",
   "execution_count": 92,
   "metadata": {},
   "outputs": [
    {
     "data": {
      "text/plain": [
       "count    48592.000000\n",
       "mean       527.487872\n",
       "std        409.766923\n",
       "min         14.000000\n",
       "10%        152.000000\n",
       "25%        270.000000\n",
       "50%        423.809524\n",
       "75%        633.333333\n",
       "99%       2080.952381\n",
       "max       3690.476190\n",
       "Name: ratio, dtype: float64"
      ]
     },
     "execution_count": 92,
     "metadata": {},
     "output_type": "execute_result"
    },
    {
     "name": "stdout",
     "output_type": "stream",
     "text": [
      "time: 10.3 ms\n"
     ]
    }
   ],
   "source": [
    "ratio_df['ratio'].describe(percentiles=[0.1, 0.25, 0.5, 0.75, 0.99])"
   ]
  },
  {
   "cell_type": "code",
   "execution_count": 93,
   "metadata": {},
   "outputs": [
    {
     "data": {
      "text/plain": [
       "count    48592.000000\n",
       "mean       137.390229\n",
       "std         82.942252\n",
       "min         14.000000\n",
       "10%         69.000000\n",
       "25%         85.000000\n",
       "50%        112.000000\n",
       "75%        156.000000\n",
       "99%        448.000000\n",
       "max        775.000000\n",
       "Name: valuenum, dtype: float64"
      ]
     },
     "execution_count": 93,
     "metadata": {},
     "output_type": "execute_result"
    },
    {
     "name": "stdout",
     "output_type": "stream",
     "text": [
      "time: 9.09 ms\n"
     ]
    }
   ],
   "source": [
    "ratio_df['valuenum'].describe(percentiles=[0.1, 0.25, 0.5, 0.75, 0.99])"
   ]
  },
  {
   "cell_type": "code",
   "execution_count": 94,
   "metadata": {},
   "outputs": [
    {
     "data": {
      "text/plain": [
       "count    48592.000000\n",
       "mean       137.390229\n",
       "std         82.942252\n",
       "min         14.000000\n",
       "10%         69.000000\n",
       "25%         85.000000\n",
       "50%        112.000000\n",
       "75%        156.000000\n",
       "99%        448.000000\n",
       "max        775.000000\n",
       "Name: valuenum, dtype: float64"
      ]
     },
     "execution_count": 94,
     "metadata": {},
     "output_type": "execute_result"
    },
    {
     "name": "stdout",
     "output_type": "stream",
     "text": [
      "time: 8.18 ms\n"
     ]
    }
   ],
   "source": [
    "ratio_df['valuenum'].describe(percentiles=[0.1, 0.25, 0.5, 0.75, 0.99])"
   ]
  },
  {
   "cell_type": "code",
   "execution_count": 95,
   "metadata": {},
   "outputs": [
    {
     "name": "stdout",
     "output_type": "stream",
     "text": [
      "time: 38.2 ms\n"
     ]
    }
   ],
   "source": [
    "### all of the duplicate PaO2 with different FIo2. if a pao2 value has 2 fio2 values that match the 2 hour window, then the one closest time to the fio2 value is chosen. \n",
    "ratio_df=ratio_df.sort_values(['icustay_id','delta','deltadelta']).drop_duplicates(['icustay_id','delta','ratio'])\n",
    "#43715 ->42455"
   ]
  },
  {
   "cell_type": "code",
   "execution_count": 96,
   "metadata": {},
   "outputs": [
    {
     "data": {
      "text/plain": [
       "count    47227.000000\n",
       "mean       536.776013\n",
       "std        411.477655\n",
       "min         14.000000\n",
       "10%        158.000000\n",
       "25%        280.952381\n",
       "50%        433.333333\n",
       "75%        642.857143\n",
       "99%       2090.476190\n",
       "max       3690.476190\n",
       "Name: ratio, dtype: float64"
      ]
     },
     "execution_count": 96,
     "metadata": {},
     "output_type": "execute_result"
    },
    {
     "name": "stdout",
     "output_type": "stream",
     "text": [
      "time: 7.5 ms\n"
     ]
    }
   ],
   "source": [
    "ratio_df['ratio'].describe(percentiles=[0.1, 0.25, 0.5, 0.75, 0.99])"
   ]
  },
  {
   "cell_type": "code",
   "execution_count": 97,
   "metadata": {},
   "outputs": [
    {
     "data": {
      "text/plain": [
       "count    47227.000000\n",
       "mean       137.819701\n",
       "std         83.306441\n",
       "min         14.000000\n",
       "10%         70.000000\n",
       "25%         85.000000\n",
       "50%        112.000000\n",
       "75%        157.000000\n",
       "99%        449.000000\n",
       "max        775.000000\n",
       "Name: valuenum, dtype: float64"
      ]
     },
     "execution_count": 97,
     "metadata": {},
     "output_type": "execute_result"
    },
    {
     "name": "stdout",
     "output_type": "stream",
     "text": [
      "time: 7.07 ms\n"
     ]
    }
   ],
   "source": [
    "ratio_df['valuenum'].describe(percentiles=[0.1, 0.25, 0.5, 0.75, 0.99])\n"
   ]
  },
  {
   "cell_type": "code",
   "execution_count": 98,
   "metadata": {},
   "outputs": [
    {
     "data": {
      "text/plain": [
       "count    47227.000000\n",
       "mean       137.819701\n",
       "std         83.306441\n",
       "min         14.000000\n",
       "10%         70.000000\n",
       "25%         85.000000\n",
       "50%        112.000000\n",
       "75%        157.000000\n",
       "99%        449.000000\n",
       "max        775.000000\n",
       "Name: valuenum, dtype: float64"
      ]
     },
     "execution_count": 98,
     "metadata": {},
     "output_type": "execute_result"
    },
    {
     "name": "stdout",
     "output_type": "stream",
     "text": [
      "time: 6.87 ms\n"
     ]
    }
   ],
   "source": [
    "ratio_df['valuenum'].describe(percentiles=[0.1, 0.25, 0.5, 0.75, 0.99])"
   ]
  },
  {
   "cell_type": "code",
   "execution_count": 99,
   "metadata": {},
   "outputs": [
    {
     "name": "stdout",
     "output_type": "stream",
     "text": [
      "time: 392 µs\n"
     ]
    }
   ],
   "source": [
    "#finding worst value:"
   ]
  },
  {
   "cell_type": "code",
   "execution_count": 100,
   "metadata": {},
   "outputs": [
    {
     "data": {
      "text/html": [
       "<div>\n",
       "<style scoped>\n",
       "    .dataframe tbody tr th:only-of-type {\n",
       "        vertical-align: middle;\n",
       "    }\n",
       "\n",
       "    .dataframe tbody tr th {\n",
       "        vertical-align: top;\n",
       "    }\n",
       "\n",
       "    .dataframe thead th {\n",
       "        text-align: right;\n",
       "    }\n",
       "</style>\n",
       "<table border=\"1\" class=\"dataframe\">\n",
       "  <thead>\n",
       "    <tr style=\"text-align: right;\">\n",
       "      <th></th>\n",
       "      <th>subject_id</th>\n",
       "      <th>hadm_id</th>\n",
       "      <th>icustay_id</th>\n",
       "      <th>charttime</th>\n",
       "      <th>delta</th>\n",
       "      <th>t_0</th>\n",
       "      <th>label</th>\n",
       "      <th>valuenum</th>\n",
       "      <th>uom</th>\n",
       "      <th>offset</th>\n",
       "      <th>valuenum2</th>\n",
       "      <th>charttime2</th>\n",
       "      <th>ratio</th>\n",
       "      <th>deltadelta</th>\n",
       "    </tr>\n",
       "  </thead>\n",
       "  <tbody>\n",
       "    <tr>\n",
       "      <th>11224</th>\n",
       "      <td>9514</td>\n",
       "      <td>127229</td>\n",
       "      <td>200014</td>\n",
       "      <td>2105-02-17 01:08:00</td>\n",
       "      <td>0 days 01:08:00</td>\n",
       "      <td>2105-02-17</td>\n",
       "      <td>PaO2</td>\n",
       "      <td>179.0</td>\n",
       "      <td>mm Hg</td>\n",
       "      <td>-1 days +23:08:00</td>\n",
       "      <td>21.0</td>\n",
       "      <td>2105-02-17 01:08:00</td>\n",
       "      <td>852.380952</td>\n",
       "      <td>00:00:00</td>\n",
       "    </tr>\n",
       "    <tr>\n",
       "      <th>11225</th>\n",
       "      <td>9514</td>\n",
       "      <td>127229</td>\n",
       "      <td>200014</td>\n",
       "      <td>2105-02-17 04:35:00</td>\n",
       "      <td>0 days 04:35:00</td>\n",
       "      <td>2105-02-17</td>\n",
       "      <td>PaO2</td>\n",
       "      <td>183.0</td>\n",
       "      <td>mm Hg</td>\n",
       "      <td>0 days 02:35:00</td>\n",
       "      <td>21.0</td>\n",
       "      <td>2105-02-17 04:35:00</td>\n",
       "      <td>871.428571</td>\n",
       "      <td>00:00:00</td>\n",
       "    </tr>\n",
       "    <tr>\n",
       "      <th>11226</th>\n",
       "      <td>9514</td>\n",
       "      <td>127229</td>\n",
       "      <td>200014</td>\n",
       "      <td>2105-02-17 11:18:00</td>\n",
       "      <td>0 days 11:18:00</td>\n",
       "      <td>2105-02-17</td>\n",
       "      <td>PaO2</td>\n",
       "      <td>142.0</td>\n",
       "      <td>mm Hg</td>\n",
       "      <td>0 days 09:18:00</td>\n",
       "      <td>21.0</td>\n",
       "      <td>2105-02-17 11:18:00</td>\n",
       "      <td>676.190476</td>\n",
       "      <td>00:00:00</td>\n",
       "    </tr>\n",
       "    <tr>\n",
       "      <th>11227</th>\n",
       "      <td>9514</td>\n",
       "      <td>127229</td>\n",
       "      <td>200014</td>\n",
       "      <td>2105-02-17 15:28:00</td>\n",
       "      <td>0 days 15:28:00</td>\n",
       "      <td>2105-02-17</td>\n",
       "      <td>PaO2</td>\n",
       "      <td>155.0</td>\n",
       "      <td>mm Hg</td>\n",
       "      <td>0 days 13:28:00</td>\n",
       "      <td>40.0</td>\n",
       "      <td>2105-02-17 15:28:00</td>\n",
       "      <td>387.500000</td>\n",
       "      <td>00:00:00</td>\n",
       "    </tr>\n",
       "    <tr>\n",
       "      <th>11229</th>\n",
       "      <td>9514</td>\n",
       "      <td>127229</td>\n",
       "      <td>200014</td>\n",
       "      <td>2105-02-17 17:11:00</td>\n",
       "      <td>0 days 17:11:00</td>\n",
       "      <td>2105-02-17</td>\n",
       "      <td>PaO2</td>\n",
       "      <td>96.0</td>\n",
       "      <td>mm Hg</td>\n",
       "      <td>0 days 15:11:00</td>\n",
       "      <td>28.0</td>\n",
       "      <td>2105-02-17 17:11:00</td>\n",
       "      <td>342.857143</td>\n",
       "      <td>00:00:00</td>\n",
       "    </tr>\n",
       "    <tr>\n",
       "      <th>11228</th>\n",
       "      <td>9514</td>\n",
       "      <td>127229</td>\n",
       "      <td>200014</td>\n",
       "      <td>2105-02-17 17:11:00</td>\n",
       "      <td>0 days 17:11:00</td>\n",
       "      <td>2105-02-17</td>\n",
       "      <td>PaO2</td>\n",
       "      <td>96.0</td>\n",
       "      <td>mm Hg</td>\n",
       "      <td>0 days 15:11:00</td>\n",
       "      <td>40.0</td>\n",
       "      <td>2105-02-17 15:28:00</td>\n",
       "      <td>240.000000</td>\n",
       "      <td>01:43:00</td>\n",
       "    </tr>\n",
       "    <tr>\n",
       "      <th>11230</th>\n",
       "      <td>9514</td>\n",
       "      <td>127229</td>\n",
       "      <td>200014</td>\n",
       "      <td>2105-02-17 20:53:00</td>\n",
       "      <td>0 days 20:53:00</td>\n",
       "      <td>2105-02-17</td>\n",
       "      <td>PaO2</td>\n",
       "      <td>95.0</td>\n",
       "      <td>mm Hg</td>\n",
       "      <td>0 days 18:53:00</td>\n",
       "      <td>21.0</td>\n",
       "      <td>2105-02-17 20:53:00</td>\n",
       "      <td>452.380952</td>\n",
       "      <td>00:00:00</td>\n",
       "    </tr>\n",
       "    <tr>\n",
       "      <th>11231</th>\n",
       "      <td>9514</td>\n",
       "      <td>127229</td>\n",
       "      <td>200014</td>\n",
       "      <td>2105-02-18 04:01:00</td>\n",
       "      <td>1 days 04:01:00</td>\n",
       "      <td>2105-02-17</td>\n",
       "      <td>PaO2</td>\n",
       "      <td>101.0</td>\n",
       "      <td>mm Hg</td>\n",
       "      <td>1 days 02:01:00</td>\n",
       "      <td>21.0</td>\n",
       "      <td>2105-02-18 04:01:00</td>\n",
       "      <td>480.952381</td>\n",
       "      <td>00:00:00</td>\n",
       "    </tr>\n",
       "  </tbody>\n",
       "</table>\n",
       "</div>"
      ],
      "text/plain": [
       "       subject_id  hadm_id  icustay_id            charttime           delta  \\\n",
       "11224        9514   127229      200014  2105-02-17 01:08:00 0 days 01:08:00   \n",
       "11225        9514   127229      200014  2105-02-17 04:35:00 0 days 04:35:00   \n",
       "11226        9514   127229      200014  2105-02-17 11:18:00 0 days 11:18:00   \n",
       "11227        9514   127229      200014  2105-02-17 15:28:00 0 days 15:28:00   \n",
       "11229        9514   127229      200014  2105-02-17 17:11:00 0 days 17:11:00   \n",
       "11228        9514   127229      200014  2105-02-17 17:11:00 0 days 17:11:00   \n",
       "11230        9514   127229      200014  2105-02-17 20:53:00 0 days 20:53:00   \n",
       "11231        9514   127229      200014  2105-02-18 04:01:00 1 days 04:01:00   \n",
       "\n",
       "              t_0 label  valuenum    uom            offset  valuenum2  \\\n",
       "11224  2105-02-17  PaO2     179.0  mm Hg -1 days +23:08:00       21.0   \n",
       "11225  2105-02-17  PaO2     183.0  mm Hg   0 days 02:35:00       21.0   \n",
       "11226  2105-02-17  PaO2     142.0  mm Hg   0 days 09:18:00       21.0   \n",
       "11227  2105-02-17  PaO2     155.0  mm Hg   0 days 13:28:00       40.0   \n",
       "11229  2105-02-17  PaO2      96.0  mm Hg   0 days 15:11:00       28.0   \n",
       "11228  2105-02-17  PaO2      96.0  mm Hg   0 days 15:11:00       40.0   \n",
       "11230  2105-02-17  PaO2      95.0  mm Hg   0 days 18:53:00       21.0   \n",
       "11231  2105-02-17  PaO2     101.0  mm Hg   1 days 02:01:00       21.0   \n",
       "\n",
       "                charttime2       ratio deltadelta  \n",
       "11224  2105-02-17 01:08:00  852.380952   00:00:00  \n",
       "11225  2105-02-17 04:35:00  871.428571   00:00:00  \n",
       "11226  2105-02-17 11:18:00  676.190476   00:00:00  \n",
       "11227  2105-02-17 15:28:00  387.500000   00:00:00  \n",
       "11229  2105-02-17 17:11:00  342.857143   00:00:00  \n",
       "11228  2105-02-17 15:28:00  240.000000   01:43:00  \n",
       "11230  2105-02-17 20:53:00  452.380952   00:00:00  \n",
       "11231  2105-02-18 04:01:00  480.952381   00:00:00  "
      ]
     },
     "execution_count": 100,
     "metadata": {},
     "output_type": "execute_result"
    },
    {
     "name": "stdout",
     "output_type": "stream",
     "text": [
      "time: 16 ms\n"
     ]
    }
   ],
   "source": [
    "#QC & finding worst value:\n",
    "ratio_df[ratio_df['icustay_id']==200014]"
   ]
  },
  {
   "cell_type": "code",
   "execution_count": 101,
   "metadata": {},
   "outputs": [
    {
     "name": "stdout",
     "output_type": "stream",
     "text": [
      "time: 26.9 ms\n"
     ]
    }
   ],
   "source": [
    "# ratio_df.groupby(['icustay_id'], as_index=False)['ratio'].min() #is this what i want for my pao2/fio2 ratio?\n",
    "\n",
    "f = {'ratio': 'min','delta':'first'}\n",
    "ratio_min_df=ratio_df.sort_values(['icustay_id','ratio'],ascending=True).groupby('icustay_id', as_index=False).agg(f)\n",
    "\n",
    "##it's likely that this variable will not explain any additional variation in y than the ventilation category variable we already have. \n",
    "##maybe we can stratify patients with a few categories:\n",
    "\n",
    "##not on vent\n",
    "##being on vent with normal pao2/fio2 ratio\n",
    "## being on vent with low pao2/fio2 ratio"
   ]
  },
  {
   "cell_type": "code",
   "execution_count": 102,
   "metadata": {},
   "outputs": [
    {
     "data": {
      "text/html": [
       "<div>\n",
       "<style scoped>\n",
       "    .dataframe tbody tr th:only-of-type {\n",
       "        vertical-align: middle;\n",
       "    }\n",
       "\n",
       "    .dataframe tbody tr th {\n",
       "        vertical-align: top;\n",
       "    }\n",
       "\n",
       "    .dataframe thead th {\n",
       "        text-align: right;\n",
       "    }\n",
       "</style>\n",
       "<table border=\"1\" class=\"dataframe\">\n",
       "  <thead>\n",
       "    <tr style=\"text-align: right;\">\n",
       "      <th></th>\n",
       "      <th>icustay_id</th>\n",
       "      <th>ratio</th>\n",
       "      <th>delta</th>\n",
       "    </tr>\n",
       "  </thead>\n",
       "  <tbody>\n",
       "    <tr>\n",
       "      <th>0</th>\n",
       "      <td>200003</td>\n",
       "      <td>471.428571</td>\n",
       "      <td>1 days 11:15:00</td>\n",
       "    </tr>\n",
       "    <tr>\n",
       "      <th>1</th>\n",
       "      <td>200014</td>\n",
       "      <td>240.000000</td>\n",
       "      <td>0 days 17:11:00</td>\n",
       "    </tr>\n",
       "    <tr>\n",
       "      <th>2</th>\n",
       "      <td>200019</td>\n",
       "      <td>447.619048</td>\n",
       "      <td>1 days 05:28:00</td>\n",
       "    </tr>\n",
       "    <tr>\n",
       "      <th>3</th>\n",
       "      <td>200030</td>\n",
       "      <td>428.571429</td>\n",
       "      <td>0 days 02:57:00</td>\n",
       "    </tr>\n",
       "    <tr>\n",
       "      <th>4</th>\n",
       "      <td>200059</td>\n",
       "      <td>312.000000</td>\n",
       "      <td>0 days 07:41:00</td>\n",
       "    </tr>\n",
       "  </tbody>\n",
       "</table>\n",
       "</div>"
      ],
      "text/plain": [
       "   icustay_id       ratio           delta\n",
       "0      200003  471.428571 1 days 11:15:00\n",
       "1      200014  240.000000 0 days 17:11:00\n",
       "2      200019  447.619048 1 days 05:28:00\n",
       "3      200030  428.571429 0 days 02:57:00\n",
       "4      200059  312.000000 0 days 07:41:00"
      ]
     },
     "execution_count": 102,
     "metadata": {},
     "output_type": "execute_result"
    },
    {
     "name": "stdout",
     "output_type": "stream",
     "text": [
      "time: 6.26 ms\n"
     ]
    }
   ],
   "source": [
    "ratio_min_df.head()"
   ]
  },
  {
   "cell_type": "code",
   "execution_count": 103,
   "metadata": {},
   "outputs": [
    {
     "data": {
      "text/html": [
       "<div>\n",
       "<style scoped>\n",
       "    .dataframe tbody tr th:only-of-type {\n",
       "        vertical-align: middle;\n",
       "    }\n",
       "\n",
       "    .dataframe tbody tr th {\n",
       "        vertical-align: top;\n",
       "    }\n",
       "\n",
       "    .dataframe thead th {\n",
       "        text-align: right;\n",
       "    }\n",
       "</style>\n",
       "<table border=\"1\" class=\"dataframe\">\n",
       "  <thead>\n",
       "    <tr style=\"text-align: right;\">\n",
       "      <th></th>\n",
       "      <th>icustay_id</th>\n",
       "      <th>ratio</th>\n",
       "      <th>delta</th>\n",
       "    </tr>\n",
       "  </thead>\n",
       "  <tbody>\n",
       "    <tr>\n",
       "      <th>0</th>\n",
       "      <td>200003</td>\n",
       "      <td>471.428571</td>\n",
       "      <td>1 days 11:15:00</td>\n",
       "    </tr>\n",
       "    <tr>\n",
       "      <th>1</th>\n",
       "      <td>200014</td>\n",
       "      <td>240.000000</td>\n",
       "      <td>0 days 17:11:00</td>\n",
       "    </tr>\n",
       "    <tr>\n",
       "      <th>2</th>\n",
       "      <td>200019</td>\n",
       "      <td>447.619048</td>\n",
       "      <td>1 days 05:28:00</td>\n",
       "    </tr>\n",
       "    <tr>\n",
       "      <th>3</th>\n",
       "      <td>200030</td>\n",
       "      <td>428.571429</td>\n",
       "      <td>0 days 02:57:00</td>\n",
       "    </tr>\n",
       "    <tr>\n",
       "      <th>4</th>\n",
       "      <td>200059</td>\n",
       "      <td>312.000000</td>\n",
       "      <td>0 days 07:41:00</td>\n",
       "    </tr>\n",
       "  </tbody>\n",
       "</table>\n",
       "</div>"
      ],
      "text/plain": [
       "   icustay_id       ratio           delta\n",
       "0      200003  471.428571 1 days 11:15:00\n",
       "1      200014  240.000000 0 days 17:11:00\n",
       "2      200019  447.619048 1 days 05:28:00\n",
       "3      200030  428.571429 0 days 02:57:00\n",
       "4      200059  312.000000 0 days 07:41:00"
      ]
     },
     "execution_count": 103,
     "metadata": {},
     "output_type": "execute_result"
    },
    {
     "name": "stdout",
     "output_type": "stream",
     "text": [
      "time: 6.49 ms\n"
     ]
    }
   ],
   "source": [
    "ratio_min_df.head()"
   ]
  },
  {
   "cell_type": "code",
   "execution_count": 104,
   "metadata": {},
   "outputs": [
    {
     "data": {
      "text/html": [
       "<div>\n",
       "<style scoped>\n",
       "    .dataframe tbody tr th:only-of-type {\n",
       "        vertical-align: middle;\n",
       "    }\n",
       "\n",
       "    .dataframe tbody tr th {\n",
       "        vertical-align: top;\n",
       "    }\n",
       "\n",
       "    .dataframe thead th {\n",
       "        text-align: right;\n",
       "    }\n",
       "</style>\n",
       "<table border=\"1\" class=\"dataframe\">\n",
       "  <thead>\n",
       "    <tr style=\"text-align: right;\">\n",
       "      <th></th>\n",
       "      <th>icustay_id</th>\n",
       "      <th>ssc_charttime</th>\n",
       "      <th>ssc_id</th>\n",
       "      <th>icu_admit</th>\n",
       "      <th>ab_id</th>\n",
       "      <th>ab_start</th>\n",
       "      <th>ab_end</th>\n",
       "      <th>ab_ssc_delta</th>\n",
       "      <th>t_0</th>\n",
       "      <th>t_end</th>\n",
       "      <th>...</th>\n",
       "      <th>subject_id</th>\n",
       "      <th>dod_hosp</th>\n",
       "      <th>dod_ssn</th>\n",
       "      <th>ab_course</th>\n",
       "      <th>org_list</th>\n",
       "      <th>spec_type_list</th>\n",
       "      <th>first_pos_else_neg_ssc</th>\n",
       "      <th>sc_result</th>\n",
       "      <th>final_bin</th>\n",
       "      <th>hadm_id</th>\n",
       "    </tr>\n",
       "  </thead>\n",
       "  <tbody>\n",
       "    <tr>\n",
       "      <th>0</th>\n",
       "      <td>294638</td>\n",
       "      <td>2191-03-16 00:00:00</td>\n",
       "      <td>22</td>\n",
       "      <td>2191-03-16 00:29:31</td>\n",
       "      <td>1213116</td>\n",
       "      <td>2191-03-16</td>\n",
       "      <td>2191-03-22</td>\n",
       "      <td>0 days 00:00:00.000000000</td>\n",
       "      <td>2191-03-16</td>\n",
       "      <td>2191-03-22</td>\n",
       "      <td>...</td>\n",
       "      <td>4</td>\n",
       "      <td>NaN</td>\n",
       "      <td>NaN</td>\n",
       "      <td>full</td>\n",
       "      <td>STAPH AUREUS COAG +</td>\n",
       "      <td>BLOOD CULTURE</td>\n",
       "      <td>2191-03-16 00:00:00</td>\n",
       "      <td>positive</td>\n",
       "      <td>C_pos/A_full</td>\n",
       "      <td>185777</td>\n",
       "    </tr>\n",
       "    <tr>\n",
       "      <th>1</th>\n",
       "      <td>220597</td>\n",
       "      <td>2149-11-10 09:40:00</td>\n",
       "      <td>45</td>\n",
       "      <td>2149-11-09 13:07:02</td>\n",
       "      <td>2089126</td>\n",
       "      <td>2149-11-10</td>\n",
       "      <td>2149-11-15</td>\n",
       "      <td>0 days 00:00:00.000000000</td>\n",
       "      <td>2149-11-10</td>\n",
       "      <td>2149-11-15</td>\n",
       "      <td>...</td>\n",
       "      <td>9</td>\n",
       "      <td>2149-11-14</td>\n",
       "      <td>2149-11-14</td>\n",
       "      <td>full</td>\n",
       "      <td>NaN</td>\n",
       "      <td>NaN</td>\n",
       "      <td>2149-11-10 09:40:00</td>\n",
       "      <td>negative</td>\n",
       "      <td>C_neg/A_full</td>\n",
       "      <td>150750</td>\n",
       "    </tr>\n",
       "    <tr>\n",
       "      <th>2</th>\n",
       "      <td>232669</td>\n",
       "      <td>2104-08-11 00:00:00</td>\n",
       "      <td>60</td>\n",
       "      <td>2104-08-08 02:08:17</td>\n",
       "      <td>616189</td>\n",
       "      <td>2104-08-11</td>\n",
       "      <td>2104-08-12</td>\n",
       "      <td>0 days 00:00:00.000000000</td>\n",
       "      <td>2104-08-11</td>\n",
       "      <td>2104-08-12</td>\n",
       "      <td>...</td>\n",
       "      <td>12</td>\n",
       "      <td>2104-08-20</td>\n",
       "      <td>2104-08-20</td>\n",
       "      <td>partial</td>\n",
       "      <td>NaN</td>\n",
       "      <td>NaN</td>\n",
       "      <td>2104-08-11 00:00:00</td>\n",
       "      <td>negative</td>\n",
       "      <td>C_neg/A_partial</td>\n",
       "      <td>112213</td>\n",
       "    </tr>\n",
       "    <tr>\n",
       "      <th>3</th>\n",
       "      <td>273430</td>\n",
       "      <td>2108-08-05 20:42:00</td>\n",
       "      <td>69</td>\n",
       "      <td>2108-08-05 16:26:09</td>\n",
       "      <td>2572274</td>\n",
       "      <td>2108-08-06</td>\n",
       "      <td>2108-08-08</td>\n",
       "      <td>1 days 00:00:00.000000000</td>\n",
       "      <td>2108-08-06</td>\n",
       "      <td>2108-08-08</td>\n",
       "      <td>...</td>\n",
       "      <td>19</td>\n",
       "      <td>NaN</td>\n",
       "      <td>2109-08-18</td>\n",
       "      <td>partial</td>\n",
       "      <td>NaN</td>\n",
       "      <td>NaN</td>\n",
       "      <td>2108-08-05 20:42:00</td>\n",
       "      <td>negative</td>\n",
       "      <td>C_neg/A_partial</td>\n",
       "      <td>109235</td>\n",
       "    </tr>\n",
       "    <tr>\n",
       "      <th>4</th>\n",
       "      <td>217847</td>\n",
       "      <td>2134-09-11 09:35:00</td>\n",
       "      <td>70</td>\n",
       "      <td>2134-09-11 20:50:04</td>\n",
       "      <td>1388217</td>\n",
       "      <td>2134-09-12</td>\n",
       "      <td>2134-09-13</td>\n",
       "      <td>1 days 00:00:00.000000000</td>\n",
       "      <td>2134-09-12</td>\n",
       "      <td>2134-09-13</td>\n",
       "      <td>...</td>\n",
       "      <td>21</td>\n",
       "      <td>2135-02-08</td>\n",
       "      <td>2135-02-08</td>\n",
       "      <td>full</td>\n",
       "      <td>NaN</td>\n",
       "      <td>NaN</td>\n",
       "      <td>2134-09-11 09:35:00</td>\n",
       "      <td>negative</td>\n",
       "      <td>C_neg/A_full</td>\n",
       "      <td>109451</td>\n",
       "    </tr>\n",
       "  </tbody>\n",
       "</table>\n",
       "<p>5 rows × 23 columns</p>\n",
       "</div>"
      ],
      "text/plain": [
       "   icustay_id        ssc_charttime  ssc_id            icu_admit    ab_id  \\\n",
       "0      294638  2191-03-16 00:00:00      22  2191-03-16 00:29:31  1213116   \n",
       "1      220597  2149-11-10 09:40:00      45  2149-11-09 13:07:02  2089126   \n",
       "2      232669  2104-08-11 00:00:00      60  2104-08-08 02:08:17   616189   \n",
       "3      273430  2108-08-05 20:42:00      69  2108-08-05 16:26:09  2572274   \n",
       "4      217847  2134-09-11 09:35:00      70  2134-09-11 20:50:04  1388217   \n",
       "\n",
       "     ab_start      ab_end               ab_ssc_delta         t_0       t_end  \\\n",
       "0  2191-03-16  2191-03-22  0 days 00:00:00.000000000  2191-03-16  2191-03-22   \n",
       "1  2149-11-10  2149-11-15  0 days 00:00:00.000000000  2149-11-10  2149-11-15   \n",
       "2  2104-08-11  2104-08-12  0 days 00:00:00.000000000  2104-08-11  2104-08-12   \n",
       "3  2108-08-06  2108-08-08  1 days 00:00:00.000000000  2108-08-06  2108-08-08   \n",
       "4  2134-09-12  2134-09-13  1 days 00:00:00.000000000  2134-09-12  2134-09-13   \n",
       "\n",
       "   ... subject_id    dod_hosp     dod_ssn  ab_course             org_list  \\\n",
       "0  ...          4         NaN         NaN       full  STAPH AUREUS COAG +   \n",
       "1  ...          9  2149-11-14  2149-11-14       full                  NaN   \n",
       "2  ...         12  2104-08-20  2104-08-20    partial                  NaN   \n",
       "3  ...         19         NaN  2109-08-18    partial                  NaN   \n",
       "4  ...         21  2135-02-08  2135-02-08       full                  NaN   \n",
       "\n",
       "  spec_type_list first_pos_else_neg_ssc sc_result        final_bin hadm_id  \n",
       "0  BLOOD CULTURE    2191-03-16 00:00:00  positive     C_pos/A_full  185777  \n",
       "1            NaN    2149-11-10 09:40:00  negative     C_neg/A_full  150750  \n",
       "2            NaN    2104-08-11 00:00:00  negative  C_neg/A_partial  112213  \n",
       "3            NaN    2108-08-05 20:42:00  negative  C_neg/A_partial  109235  \n",
       "4            NaN    2134-09-11 09:35:00  negative     C_neg/A_full  109451  \n",
       "\n",
       "[5 rows x 23 columns]"
      ]
     },
     "execution_count": 104,
     "metadata": {},
     "output_type": "execute_result"
    },
    {
     "name": "stdout",
     "output_type": "stream",
     "text": [
      "time: 21.3 ms\n"
     ]
    }
   ],
   "source": [
    "final_pt_df2.head()"
   ]
  },
  {
   "cell_type": "code",
   "execution_count": 105,
   "metadata": {},
   "outputs": [
    {
     "data": {
      "text/plain": [
       "7655"
      ]
     },
     "execution_count": 105,
     "metadata": {},
     "output_type": "execute_result"
    },
    {
     "name": "stdout",
     "output_type": "stream",
     "text": [
      "time: 1.78 ms\n"
     ]
    }
   ],
   "source": [
    "len(ratio_min_df)"
   ]
  },
  {
   "cell_type": "code",
   "execution_count": 106,
   "metadata": {},
   "outputs": [
    {
     "name": "stdout",
     "output_type": "stream",
     "text": [
      "time: 28.5 ms\n"
     ]
    }
   ],
   "source": [
    "ratio_min_df= pd.merge(final_pt_df2[['icustay_id','hadm_id','t_0',]],ratio_min_df, left_on='icustay_id',right_on='icustay_id', how='left')\n",
    "ratio_min_df= ratio_min_df.rename(index=str, columns={'ratio':'value'})\n",
    "\n",
    "ratio_min_df.loc[ratio_min_df.loc[:,'value'].isnull(),'value']=476\n",
    "\n",
    "ratio_min_df['uom']= 'PaO2/FIO2 ratio'\n",
    "ratio_min_df['label']= 'pao2fio2Ratio'"
   ]
  },
  {
   "cell_type": "code",
   "execution_count": 107,
   "metadata": {},
   "outputs": [
    {
     "name": "stdout",
     "output_type": "stream",
     "text": [
      "time: 6.91 ms\n"
     ]
    }
   ],
   "source": [
    "ratio_min_df.loc[:,'delta']=ratio_min_df.loc[:,'delta'].fillna(pd.to_timedelta('0 days'))"
   ]
  },
  {
   "cell_type": "code",
   "execution_count": 108,
   "metadata": {},
   "outputs": [
    {
     "data": {
      "text/plain": [
       "count    19633.000000\n",
       "mean       414.078475\n",
       "std        156.758356\n",
       "min         14.000000\n",
       "25%        351.666667\n",
       "50%        476.000000\n",
       "75%        476.000000\n",
       "max       2490.476190\n",
       "Name: value, dtype: float64"
      ]
     },
     "execution_count": 108,
     "metadata": {},
     "output_type": "execute_result"
    },
    {
     "name": "stdout",
     "output_type": "stream",
     "text": [
      "time: 6.71 ms\n"
     ]
    }
   ],
   "source": [
    "ratio_min_df['value'].describe()#100 PaO2 on 21% FiO2 = 476 ratio"
   ]
  },
  {
   "cell_type": "code",
   "execution_count": 109,
   "metadata": {},
   "outputs": [
    {
     "data": {
      "text/html": [
       "<div>\n",
       "<style scoped>\n",
       "    .dataframe tbody tr th:only-of-type {\n",
       "        vertical-align: middle;\n",
       "    }\n",
       "\n",
       "    .dataframe tbody tr th {\n",
       "        vertical-align: top;\n",
       "    }\n",
       "\n",
       "    .dataframe thead th {\n",
       "        text-align: right;\n",
       "    }\n",
       "</style>\n",
       "<table border=\"1\" class=\"dataframe\">\n",
       "  <thead>\n",
       "    <tr style=\"text-align: right;\">\n",
       "      <th></th>\n",
       "      <th>icustay_id</th>\n",
       "      <th>hadm_id</th>\n",
       "      <th>t_0</th>\n",
       "      <th>value</th>\n",
       "      <th>delta</th>\n",
       "      <th>uom</th>\n",
       "      <th>label</th>\n",
       "    </tr>\n",
       "  </thead>\n",
       "  <tbody>\n",
       "    <tr>\n",
       "      <th>0</th>\n",
       "      <td>294638</td>\n",
       "      <td>185777</td>\n",
       "      <td>2191-03-16</td>\n",
       "      <td>476.000000</td>\n",
       "      <td>0 days 00:00:00</td>\n",
       "      <td>PaO2/FIO2 ratio</td>\n",
       "      <td>pao2fio2Ratio</td>\n",
       "    </tr>\n",
       "    <tr>\n",
       "      <th>1</th>\n",
       "      <td>220597</td>\n",
       "      <td>150750</td>\n",
       "      <td>2149-11-10</td>\n",
       "      <td>150.000000</td>\n",
       "      <td>0 days 03:04:00</td>\n",
       "      <td>PaO2/FIO2 ratio</td>\n",
       "      <td>pao2fio2Ratio</td>\n",
       "    </tr>\n",
       "    <tr>\n",
       "      <th>2</th>\n",
       "      <td>232669</td>\n",
       "      <td>112213</td>\n",
       "      <td>2104-08-11</td>\n",
       "      <td>357.142857</td>\n",
       "      <td>1 days 00:48:00</td>\n",
       "      <td>PaO2/FIO2 ratio</td>\n",
       "      <td>pao2fio2Ratio</td>\n",
       "    </tr>\n",
       "    <tr>\n",
       "      <th>3</th>\n",
       "      <td>273430</td>\n",
       "      <td>109235</td>\n",
       "      <td>2108-08-06</td>\n",
       "      <td>552.380952</td>\n",
       "      <td>1 days 06:11:00</td>\n",
       "      <td>PaO2/FIO2 ratio</td>\n",
       "      <td>pao2fio2Ratio</td>\n",
       "    </tr>\n",
       "    <tr>\n",
       "      <th>4</th>\n",
       "      <td>217847</td>\n",
       "      <td>109451</td>\n",
       "      <td>2134-09-12</td>\n",
       "      <td>116.000000</td>\n",
       "      <td>0 days 09:21:00</td>\n",
       "      <td>PaO2/FIO2 ratio</td>\n",
       "      <td>pao2fio2Ratio</td>\n",
       "    </tr>\n",
       "  </tbody>\n",
       "</table>\n",
       "</div>"
      ],
      "text/plain": [
       "   icustay_id  hadm_id         t_0       value           delta  \\\n",
       "0      294638   185777  2191-03-16  476.000000 0 days 00:00:00   \n",
       "1      220597   150750  2149-11-10  150.000000 0 days 03:04:00   \n",
       "2      232669   112213  2104-08-11  357.142857 1 days 00:48:00   \n",
       "3      273430   109235  2108-08-06  552.380952 1 days 06:11:00   \n",
       "4      217847   109451  2134-09-12  116.000000 0 days 09:21:00   \n",
       "\n",
       "               uom          label  \n",
       "0  PaO2/FIO2 ratio  pao2fio2Ratio  \n",
       "1  PaO2/FIO2 ratio  pao2fio2Ratio  \n",
       "2  PaO2/FIO2 ratio  pao2fio2Ratio  \n",
       "3  PaO2/FIO2 ratio  pao2fio2Ratio  \n",
       "4  PaO2/FIO2 ratio  pao2fio2Ratio  "
      ]
     },
     "execution_count": 109,
     "metadata": {},
     "output_type": "execute_result"
    },
    {
     "name": "stdout",
     "output_type": "stream",
     "text": [
      "time: 19.1 ms\n"
     ]
    }
   ],
   "source": [
    "ratio_min_df.head() #100 PaO2 on 21% FiO2 = 476 ratio"
   ]
  },
  {
   "cell_type": "markdown",
   "metadata": {},
   "source": [
    "# factorizing pco2 start "
   ]
  },
  {
   "cell_type": "code",
   "execution_count": 110,
   "metadata": {},
   "outputs": [
    {
     "name": "stdout",
     "output_type": "stream",
     "text": [
      "time: 46.1 ms\n"
     ]
    }
   ],
   "source": [
    "\n",
    "# yn_convert_band(max_bands, #df in format where each row corresponds to a test, and a patient can have many rows\n",
    "def yn_convert_pco2(df=max_bands,           \n",
    "                    label_fill=\"absent\",\n",
    "                    threshold=10,\n",
    "                    pt= final_pt_df2,\n",
    "                    time_var='t_0',\n",
    "                    value_fill=9999,\n",
    "                    delta_fill=pd.to_timedelta('0 days'),\n",
    "                    uom_fill='y/n'):\n",
    "    \n",
    "    yn_df = pd.merge(pt[['icustay_id','hadm_id','subject_id', time_var]],\n",
    "                      df[['icustay_id','value','label','uom','delta']],\n",
    "                     left_on= 'icustay_id',\n",
    "                     right_on= 'icustay_id',\n",
    "                      how='left') #merging all icustay_id's with time_var, where value,label,uom, and delta are nan's if no value exists for that icustay. \n",
    "    #the idea is that if any value exists then it is pos.\n",
    "\n",
    "    yn_df['value']= yn_df['value'].fillna(value_fill) #converts na to 0 in above na rows.\n",
    "    criteria0=yn_df.loc[:,'value']==value_fill\n",
    "    criteria1=pd.to_numeric(yn_df.loc[:,'value'])<=threshold\n",
    "    criteria2=pd.to_numeric(yn_df.loc[:,'value'])>threshold\n",
    "\n",
    "\n",
    "    yn_df.loc[criteria1, 'value']= \"<{}\".format(threshold) \n",
    "    yn_df.loc[criteria2, 'value']= \">{}\".format(threshold) \n",
    "    yn_df.loc[criteria0, 'value']= \"absent\"\n",
    "\n",
    "    yn_df['delta']= yn_df['delta'].fillna(delta_fill)\n",
    "    yn_df['delta']= pd.to_timedelta(yn_df['delta']) #filling in the time delta to time =0 for filled rows\n",
    "    yn_df['uom']= yn_df['uom'].fillna(uom_fill)\n",
    "    yn_df.loc[yn_df.loc[:,'uom']!=uom_fill, 'uom']= uom_fill\n",
    "    yn_df['label']= yn_df['label'].fillna(label_fill)\n",
    "    \n",
    "    return(yn_df)\n",
    "    "
   ]
  },
  {
   "cell_type": "code",
   "execution_count": 111,
   "metadata": {},
   "outputs": [
    {
     "name": "stdout",
     "output_type": "stream",
     "text": [
      "time: 15.1 ms\n"
     ]
    }
   ],
   "source": [
    "bg_ART_nosummary= bg_ART_nosummary.rename(\n",
    "    columns={'valuenum':'value'}) #changing valuenum to value"
   ]
  },
  {
   "cell_type": "code",
   "execution_count": 112,
   "metadata": {},
   "outputs": [
    {
     "name": "stdout",
     "output_type": "stream",
     "text": [
      "time: 1.51 s\n"
     ]
    },
    {
     "name": "stderr",
     "output_type": "stream",
     "text": [
      "/Users/geickelb1/anaconda/envs/rpy-env/lib/python3.6/site-packages/pandas/core/indexing.py:1494: FutureWarning: \n",
      "Passing list-likes to .loc or [] with any missing label will raise\n",
      "KeyError in the future, you can use .reindex() as an alternative.\n",
      "\n",
      "See the documentation here:\n",
      "https://pandas.pydata.org/pandas-docs/stable/indexing.html#deprecate-loc-reindex-listlike\n",
      "  return self._getitem_tuple(key)\n"
     ]
    }
   ],
   "source": [
    "pco2_df=bg_ART_nosummary[bg_ART_nosummary['label']=='PCO2']\n",
    "max_bands=pco2_df.loc[pco2_df.groupby('icustay_id', as_index=False)['value'].idxmax(),:]\n",
    "del(pco2_df)"
   ]
  },
  {
   "cell_type": "code",
   "execution_count": 113,
   "metadata": {},
   "outputs": [
    {
     "name": "stdout",
     "output_type": "stream",
     "text": [
      "time: 142 ms\n"
     ]
    }
   ],
   "source": [
    "pco2_cat=yn_convert_band(df=max_bands,           \n",
    "                    label_fill=\"PCO2\",\n",
    "                    threshold=50,\n",
    "                    pt= final_pt_df2,\n",
    "                    time_var='t_0',\n",
    "                    value_fill=9999,\n",
    "                    delta_fill=pd.to_timedelta('0 days'),\n",
    "                    uom_fill='y/n')"
   ]
  },
  {
   "cell_type": "code",
   "execution_count": 114,
   "metadata": {},
   "outputs": [
    {
     "name": "stdout",
     "output_type": "stream",
     "text": [
      "time: 23 ms\n"
     ]
    }
   ],
   "source": [
    "#drop bands from lab_df\n",
    "bg_ART_nosummary=bg_ART_nosummary.drop(bg_ART_nosummary[bg_ART_nosummary['label']=='PCO2'].index)\n"
   ]
  },
  {
   "cell_type": "code",
   "execution_count": 115,
   "metadata": {},
   "outputs": [
    {
     "name": "stdout",
     "output_type": "stream",
     "text": [
      "time: 1.81 ms\n"
     ]
    }
   ],
   "source": [
    "##dropping charttime, may be problematic later. 06/13/19\n",
    "bg_ART_nosummary=bg_ART_nosummary.drop('charttime', axis=1)"
   ]
  },
  {
   "cell_type": "code",
   "execution_count": 116,
   "metadata": {},
   "outputs": [
    {
     "name": "stdout",
     "output_type": "stream",
     "text": [
      "time: 7.37 ms\n"
     ]
    }
   ],
   "source": [
    "bg_ART_nosummary=bg_ART_nosummary.append(pco2_cat, sort=True)"
   ]
  },
  {
   "cell_type": "code",
   "execution_count": 117,
   "metadata": {},
   "outputs": [
    {
     "data": {
      "text/plain": [
       "absent    11981\n",
       "<50        5385\n",
       ">50        2267\n",
       "Name: value, dtype: int64"
      ]
     },
     "execution_count": 117,
     "metadata": {},
     "output_type": "execute_result"
    },
    {
     "name": "stdout",
     "output_type": "stream",
     "text": [
      "time: 8.41 ms\n"
     ]
    }
   ],
   "source": [
    "bg_ART_nosummary.loc[bg_ART_nosummary['label']=='PCO2','value'].value_counts()"
   ]
  },
  {
   "cell_type": "markdown",
   "metadata": {},
   "source": [
    "# factorizing bands end "
   ]
  },
  {
   "cell_type": "code",
   "execution_count": 118,
   "metadata": {},
   "outputs": [
    {
     "name": "stdout",
     "output_type": "stream",
     "text": [
      "time: 3.33 s\n"
     ]
    }
   ],
   "source": [
    "save_df(ratio_min_df,'pafaRatio') # minimum pao2:fio2 ratio during a stay\n",
    "del(ratio_min_df)\n",
    "\n",
    "save_df(dfs[bg_df],'bg_all') #all bloodgas\n",
    "del(dfs[bg_df])\n",
    "\n",
    "save_df(bg_ART_nosummary,'bg_ART') #only ARTERIAL bloodgas\n",
    "del(bg_ART_nosummary)\n",
    "\n",
    "save_df(o2_flow_df,'o2_flow') #need to investigate this more\n",
    "del(o2_flow_df)"
   ]
  },
  {
   "cell_type": "markdown",
   "metadata": {},
   "source": [
    "# RRT"
   ]
  },
  {
   "cell_type": "code",
   "execution_count": 119,
   "metadata": {},
   "outputs": [
    {
     "name": "stdout",
     "output_type": "stream",
     "text": [
      "time: 43 ms\n"
     ]
    }
   ],
   "source": [
    "#removing null values\n",
    "dfs[rrt_df] = dfs[rrt_df].loc[dfs[rrt_df]['rrt'].notnull(),:]\n",
    "dfs[rrt_df]['uom']='category'\n",
    "dfs[rrt_df]['delta']=pd.to_timedelta(\n",
    "    pd.to_datetime(dfs[rrt_df]['first_charttime'])-\n",
    "    pd.to_datetime(dfs[rrt_df][time_var]),\n",
    "    'days')\n",
    "dfs[rrt_df]['label']= 'rrt'\n",
    "dfs[rrt_df]=dfs[rrt_df].rename(index=str, columns={'rrt':'value'})"
   ]
  },
  {
   "cell_type": "markdown",
   "metadata": {},
   "source": [
    "### converting to yes/no"
   ]
  },
  {
   "cell_type": "code",
   "execution_count": 120,
   "metadata": {},
   "outputs": [
    {
     "data": {
      "text/html": [
       "<div>\n",
       "<style scoped>\n",
       "    .dataframe tbody tr th:only-of-type {\n",
       "        vertical-align: middle;\n",
       "    }\n",
       "\n",
       "    .dataframe tbody tr th {\n",
       "        vertical-align: top;\n",
       "    }\n",
       "\n",
       "    .dataframe thead th {\n",
       "        text-align: right;\n",
       "    }\n",
       "</style>\n",
       "<table border=\"1\" class=\"dataframe\">\n",
       "  <thead>\n",
       "    <tr style=\"text-align: right;\">\n",
       "      <th></th>\n",
       "      <th>icustay_id</th>\n",
       "      <th>t_0</th>\n",
       "      <th>first_charttime</th>\n",
       "      <th>value</th>\n",
       "      <th>uom</th>\n",
       "      <th>delta</th>\n",
       "      <th>label</th>\n",
       "    </tr>\n",
       "  </thead>\n",
       "  <tbody>\n",
       "    <tr>\n",
       "      <th>0</th>\n",
       "      <td>294638</td>\n",
       "      <td>2191-03-16</td>\n",
       "      <td>NaN</td>\n",
       "      <td>0.0</td>\n",
       "      <td>category</td>\n",
       "      <td>NaT</td>\n",
       "      <td>rrt</td>\n",
       "    </tr>\n",
       "    <tr>\n",
       "      <th>1</th>\n",
       "      <td>220597</td>\n",
       "      <td>2149-11-10</td>\n",
       "      <td>NaN</td>\n",
       "      <td>0.0</td>\n",
       "      <td>category</td>\n",
       "      <td>NaT</td>\n",
       "      <td>rrt</td>\n",
       "    </tr>\n",
       "    <tr>\n",
       "      <th>2</th>\n",
       "      <td>232669</td>\n",
       "      <td>2104-08-11</td>\n",
       "      <td>NaN</td>\n",
       "      <td>0.0</td>\n",
       "      <td>category</td>\n",
       "      <td>NaT</td>\n",
       "      <td>rrt</td>\n",
       "    </tr>\n",
       "    <tr>\n",
       "      <th>3</th>\n",
       "      <td>273430</td>\n",
       "      <td>2108-08-06</td>\n",
       "      <td>NaN</td>\n",
       "      <td>0.0</td>\n",
       "      <td>category</td>\n",
       "      <td>NaT</td>\n",
       "      <td>rrt</td>\n",
       "    </tr>\n",
       "    <tr>\n",
       "      <th>4</th>\n",
       "      <td>217847</td>\n",
       "      <td>2134-09-12</td>\n",
       "      <td>2134-09-12 13:30:00</td>\n",
       "      <td>1.0</td>\n",
       "      <td>category</td>\n",
       "      <td>13:30:00</td>\n",
       "      <td>rrt</td>\n",
       "    </tr>\n",
       "  </tbody>\n",
       "</table>\n",
       "</div>"
      ],
      "text/plain": [
       "   icustay_id         t_0      first_charttime  value       uom    delta label\n",
       "0      294638  2191-03-16                  NaN    0.0  category      NaT   rrt\n",
       "1      220597  2149-11-10                  NaN    0.0  category      NaT   rrt\n",
       "2      232669  2104-08-11                  NaN    0.0  category      NaT   rrt\n",
       "3      273430  2108-08-06                  NaN    0.0  category      NaT   rrt\n",
       "4      217847  2134-09-12  2134-09-12 13:30:00    1.0  category 13:30:00   rrt"
      ]
     },
     "execution_count": 120,
     "metadata": {},
     "output_type": "execute_result"
    },
    {
     "name": "stdout",
     "output_type": "stream",
     "text": [
      "time: 12.6 ms\n"
     ]
    }
   ],
   "source": [
    "dfs[rrt_df].head()"
   ]
  },
  {
   "cell_type": "code",
   "execution_count": 121,
   "metadata": {},
   "outputs": [
    {
     "data": {
      "text/plain": [
       "19633"
      ]
     },
     "execution_count": 121,
     "metadata": {},
     "output_type": "execute_result"
    },
    {
     "name": "stdout",
     "output_type": "stream",
     "text": [
      "time: 4.11 ms\n"
     ]
    }
   ],
   "source": [
    "dfs[rrt_df]['icustay_id'].nunique() #"
   ]
  },
  {
   "cell_type": "code",
   "execution_count": 122,
   "metadata": {},
   "outputs": [
    {
     "name": "stdout",
     "output_type": "stream",
     "text": [
      "time: 48.2 ms\n"
     ]
    }
   ],
   "source": [
    "rrt_yn= yn_convert(dfs[rrt_df],label_fill='rrt', time_var=time_var)"
   ]
  },
  {
   "cell_type": "code",
   "execution_count": 123,
   "metadata": {},
   "outputs": [
    {
     "name": "stdout",
     "output_type": "stream",
     "text": [
      "time: 464 ms\n"
     ]
    }
   ],
   "source": [
    "save_df(rrt_yn, 'rrt')\n",
    "del(rrt_yn, dfs[rrt_df])"
   ]
  },
  {
   "cell_type": "markdown",
   "metadata": {},
   "source": [
    "# GCS_72"
   ]
  },
  {
   "cell_type": "code",
   "execution_count": 124,
   "metadata": {},
   "outputs": [
    {
     "name": "stdout",
     "output_type": "stream",
     "text": [
      "time: 1.25 ms\n"
     ]
    }
   ],
   "source": [
    "dfs[gcs_df]['uom']='GCS_score'"
   ]
  },
  {
   "cell_type": "code",
   "execution_count": 125,
   "metadata": {},
   "outputs": [
    {
     "data": {
      "text/plain": [
       "['subject_id',\n",
       " 'hadm_id',\n",
       " 'icustay_id',\n",
       " 'day',\n",
       " 'mingcs',\n",
       " 'gcsmotor',\n",
       " 'gcsverbal',\n",
       " 'gcseyes',\n",
       " 'endotrachflag',\n",
       " 'icu_admit',\n",
       " 't_0',\n",
       " 'approx_charttime',\n",
       " 'admit_plus_day',\n",
       " 'delta',\n",
       " 'uom']"
      ]
     },
     "execution_count": 125,
     "metadata": {},
     "output_type": "execute_result"
    },
    {
     "name": "stdout",
     "output_type": "stream",
     "text": [
      "time: 2.61 ms\n"
     ]
    }
   ],
   "source": [
    "list(dfs[gcs_df])"
   ]
  },
  {
   "cell_type": "code",
   "execution_count": 126,
   "metadata": {},
   "outputs": [
    {
     "name": "stdout",
     "output_type": "stream",
     "text": [
      "time: 14.4 ms\n"
     ]
    }
   ],
   "source": [
    "dfs[gcs_df]['label']= 'mingcs'\n",
    "dfs[gcs_df]['uom']='gcs_score'\n",
    "dfs[gcs_df]=dfs[gcs_df].rename(index=str, columns={'mingcs':'value'})"
   ]
  },
  {
   "cell_type": "code",
   "execution_count": 127,
   "metadata": {},
   "outputs": [
    {
     "name": "stdout",
     "output_type": "stream",
     "text": [
      "time: 3.46 ms\n"
     ]
    }
   ],
   "source": [
    "dfs[gcs_df]=dfs[gcs_df][['subject_id','hadm_id','icustay_id','delta','label','value',time_var,'uom']]"
   ]
  },
  {
   "cell_type": "code",
   "execution_count": 128,
   "metadata": {},
   "outputs": [
    {
     "name": "stdout",
     "output_type": "stream",
     "text": [
      "time: 56.6 ms\n"
     ]
    }
   ],
   "source": [
    "save_df(dfs[gcs_df], 'gcs')\n",
    "del(dfs[gcs_df])"
   ]
  },
  {
   "cell_type": "markdown",
   "metadata": {},
   "source": [
    "# SOFA\n",
    "i'm going to remove all sofa variables except daily score, as we have other markers for those in our above data\n",
    "i may later use this as qc check.\n",
    "also added delta"
   ]
  },
  {
   "cell_type": "code",
   "execution_count": 129,
   "metadata": {},
   "outputs": [
    {
     "name": "stdout",
     "output_type": "stream",
     "text": [
      "time: 81.2 ms\n"
     ]
    }
   ],
   "source": [
    "dfs[sofa_df]['uom']='daily_sofa_score'\n",
    "\n",
    "#adding day delta column\n",
    "dfs[sofa_df]=dfs[sofa_df].sort_values(['hadm_id','day',time_var]) #good\n",
    "dfs[sofa_df]['day_rank']=dfs[sofa_df].groupby('icustay_id')['day'].rank()\n",
    "dfs[sofa_df]['delta']=pd.to_timedelta((dfs[sofa_df]['day_rank']-1), 'days')"
   ]
  },
  {
   "cell_type": "code",
   "execution_count": 130,
   "metadata": {},
   "outputs": [
    {
     "name": "stdout",
     "output_type": "stream",
     "text": [
      "time: 145 ms\n"
     ]
    }
   ],
   "source": [
    "dfs[sofa_df]['label']= 'daily_sofa'\n",
    "dfs[sofa_df]=dfs[sofa_df].rename(index=str, columns={'sofa':'value'})"
   ]
  },
  {
   "cell_type": "code",
   "execution_count": 131,
   "metadata": {},
   "outputs": [
    {
     "name": "stdout",
     "output_type": "stream",
     "text": [
      "time: 16.2 ms\n"
     ]
    }
   ],
   "source": [
    "dfs[sofa_df]= dfs[sofa_df][['subject_id','hadm_id','icustay_id','delta','label','value',time_var,'uom']]"
   ]
  },
  {
   "cell_type": "code",
   "execution_count": 132,
   "metadata": {},
   "outputs": [
    {
     "data": {
      "text/html": [
       "<div>\n",
       "<style scoped>\n",
       "    .dataframe tbody tr th:only-of-type {\n",
       "        vertical-align: middle;\n",
       "    }\n",
       "\n",
       "    .dataframe tbody tr th {\n",
       "        vertical-align: top;\n",
       "    }\n",
       "\n",
       "    .dataframe thead th {\n",
       "        text-align: right;\n",
       "    }\n",
       "</style>\n",
       "<table border=\"1\" class=\"dataframe\">\n",
       "  <thead>\n",
       "    <tr style=\"text-align: right;\">\n",
       "      <th></th>\n",
       "      <th>subject_id</th>\n",
       "      <th>hadm_id</th>\n",
       "      <th>icustay_id</th>\n",
       "      <th>delta</th>\n",
       "      <th>label</th>\n",
       "      <th>value</th>\n",
       "      <th>t_0</th>\n",
       "      <th>uom</th>\n",
       "    </tr>\n",
       "  </thead>\n",
       "  <tbody>\n",
       "    <tr>\n",
       "      <th>88189</th>\n",
       "      <td>54610</td>\n",
       "      <td>100003</td>\n",
       "      <td>209281</td>\n",
       "      <td>0 days</td>\n",
       "      <td>daily_sofa</td>\n",
       "      <td>4</td>\n",
       "      <td>2150-04-18</td>\n",
       "      <td>daily_sofa_score</td>\n",
       "    </tr>\n",
       "    <tr>\n",
       "      <th>52007</th>\n",
       "      <td>23018</td>\n",
       "      <td>100007</td>\n",
       "      <td>217937</td>\n",
       "      <td>0 days</td>\n",
       "      <td>daily_sofa</td>\n",
       "      <td>1</td>\n",
       "      <td>2145-03-31</td>\n",
       "      <td>daily_sofa_score</td>\n",
       "    </tr>\n",
       "    <tr>\n",
       "      <th>52008</th>\n",
       "      <td>23018</td>\n",
       "      <td>100007</td>\n",
       "      <td>217937</td>\n",
       "      <td>1 days</td>\n",
       "      <td>daily_sofa</td>\n",
       "      <td>4</td>\n",
       "      <td>2145-03-31</td>\n",
       "      <td>daily_sofa_score</td>\n",
       "    </tr>\n",
       "    <tr>\n",
       "      <th>52009</th>\n",
       "      <td>23018</td>\n",
       "      <td>100007</td>\n",
       "      <td>217937</td>\n",
       "      <td>2 days</td>\n",
       "      <td>daily_sofa</td>\n",
       "      <td>0</td>\n",
       "      <td>2145-03-31</td>\n",
       "      <td>daily_sofa_score</td>\n",
       "    </tr>\n",
       "    <tr>\n",
       "      <th>1346</th>\n",
       "      <td>533</td>\n",
       "      <td>100009</td>\n",
       "      <td>253656</td>\n",
       "      <td>0 days</td>\n",
       "      <td>daily_sofa</td>\n",
       "      <td>5</td>\n",
       "      <td>2162-05-17</td>\n",
       "      <td>daily_sofa_score</td>\n",
       "    </tr>\n",
       "  </tbody>\n",
       "</table>\n",
       "</div>"
      ],
      "text/plain": [
       "       subject_id  hadm_id  icustay_id  delta       label  value         t_0  \\\n",
       "88189       54610   100003      209281 0 days  daily_sofa      4  2150-04-18   \n",
       "52007       23018   100007      217937 0 days  daily_sofa      1  2145-03-31   \n",
       "52008       23018   100007      217937 1 days  daily_sofa      4  2145-03-31   \n",
       "52009       23018   100007      217937 2 days  daily_sofa      0  2145-03-31   \n",
       "1346          533   100009      253656 0 days  daily_sofa      5  2162-05-17   \n",
       "\n",
       "                    uom  \n",
       "88189  daily_sofa_score  \n",
       "52007  daily_sofa_score  \n",
       "52008  daily_sofa_score  \n",
       "52009  daily_sofa_score  \n",
       "1346   daily_sofa_score  "
      ]
     },
     "execution_count": 132,
     "metadata": {},
     "output_type": "execute_result"
    },
    {
     "name": "stdout",
     "output_type": "stream",
     "text": [
      "time: 12.9 ms\n"
     ]
    }
   ],
   "source": [
    "dfs[sofa_df].head()"
   ]
  },
  {
   "cell_type": "code",
   "execution_count": 133,
   "metadata": {},
   "outputs": [
    {
     "name": "stdout",
     "output_type": "stream",
     "text": [
      "time: 1.12 s\n"
     ]
    }
   ],
   "source": [
    "save_df(dfs[sofa_df], 'sofa')\n",
    "del(dfs[sofa_df])"
   ]
  },
  {
   "cell_type": "markdown",
   "metadata": {},
   "source": [
    "# patient Demographic variables"
   ]
  },
  {
   "cell_type": "code",
   "execution_count": 134,
   "metadata": {},
   "outputs": [
    {
     "data": {
      "text/html": [
       "<div>\n",
       "<style scoped>\n",
       "    .dataframe tbody tr th:only-of-type {\n",
       "        vertical-align: middle;\n",
       "    }\n",
       "\n",
       "    .dataframe tbody tr th {\n",
       "        vertical-align: top;\n",
       "    }\n",
       "\n",
       "    .dataframe thead th {\n",
       "        text-align: right;\n",
       "    }\n",
       "</style>\n",
       "<table border=\"1\" class=\"dataframe\">\n",
       "  <thead>\n",
       "    <tr style=\"text-align: right;\">\n",
       "      <th></th>\n",
       "      <th>icustay_id</th>\n",
       "      <th>subject_id</th>\n",
       "      <th>t_0</th>\n",
       "      <th>label</th>\n",
       "      <th>value</th>\n",
       "      <th>delta</th>\n",
       "      <th>uom</th>\n",
       "    </tr>\n",
       "  </thead>\n",
       "  <tbody>\n",
       "    <tr>\n",
       "      <th>0</th>\n",
       "      <td>280836</td>\n",
       "      <td>268</td>\n",
       "      <td>2198-02-16</td>\n",
       "      <td>yearsold</td>\n",
       "      <td>65.9848802824042</td>\n",
       "      <td>0 days 00:00:00.000000000</td>\n",
       "      <td>yearsold</td>\n",
       "    </tr>\n",
       "    <tr>\n",
       "      <th>1</th>\n",
       "      <td>206613</td>\n",
       "      <td>269</td>\n",
       "      <td>2170-11-05</td>\n",
       "      <td>yearsold</td>\n",
       "      <td>40.0998279019951</td>\n",
       "      <td>0 days 00:00:00.000000000</td>\n",
       "      <td>yearsold</td>\n",
       "    </tr>\n",
       "    <tr>\n",
       "      <th>2</th>\n",
       "      <td>219649</td>\n",
       "      <td>275</td>\n",
       "      <td>2170-10-08</td>\n",
       "      <td>yearsold</td>\n",
       "      <td>82.164211885568</td>\n",
       "      <td>0 days 00:00:00.000000000</td>\n",
       "      <td>yearsold</td>\n",
       "    </tr>\n",
       "    <tr>\n",
       "      <th>3</th>\n",
       "      <td>204407</td>\n",
       "      <td>279</td>\n",
       "      <td>2164-06-15</td>\n",
       "      <td>yearsold</td>\n",
       "      <td>74.2940118069815</td>\n",
       "      <td>0 days 00:00:00.000000000</td>\n",
       "      <td>yearsold</td>\n",
       "    </tr>\n",
       "    <tr>\n",
       "      <th>4</th>\n",
       "      <td>257572</td>\n",
       "      <td>281</td>\n",
       "      <td>2101-10-18</td>\n",
       "      <td>yearsold</td>\n",
       "      <td>60.0142318173752</td>\n",
       "      <td>0 days 00:00:00.000000000</td>\n",
       "      <td>yearsold</td>\n",
       "    </tr>\n",
       "    <tr>\n",
       "      <th>5</th>\n",
       "      <td>238023</td>\n",
       "      <td>285</td>\n",
       "      <td>2152-09-22</td>\n",
       "      <td>yearsold</td>\n",
       "      <td>45.3551008314954</td>\n",
       "      <td>0 days 00:00:00.000000000</td>\n",
       "      <td>yearsold</td>\n",
       "    </tr>\n",
       "    <tr>\n",
       "      <th>6</th>\n",
       "      <td>260225</td>\n",
       "      <td>286</td>\n",
       "      <td>2176-01-01</td>\n",
       "      <td>yearsold</td>\n",
       "      <td>85.0156237166324</td>\n",
       "      <td>0 days 00:00:00.000000000</td>\n",
       "      <td>yearsold</td>\n",
       "    </tr>\n",
       "    <tr>\n",
       "      <th>7</th>\n",
       "      <td>278519</td>\n",
       "      <td>290</td>\n",
       "      <td>2179-01-27</td>\n",
       "      <td>yearsold</td>\n",
       "      <td>74.3841495867873</td>\n",
       "      <td>0 days 00:00:00.000000000</td>\n",
       "      <td>yearsold</td>\n",
       "    </tr>\n",
       "    <tr>\n",
       "      <th>8</th>\n",
       "      <td>291141</td>\n",
       "      <td>306</td>\n",
       "      <td>2199-09-16</td>\n",
       "      <td>yearsold</td>\n",
       "      <td>60.9386263847694</td>\n",
       "      <td>0 days 00:00:00.000000000</td>\n",
       "      <td>yearsold</td>\n",
       "    </tr>\n",
       "    <tr>\n",
       "      <th>9</th>\n",
       "      <td>265862</td>\n",
       "      <td>307</td>\n",
       "      <td>2162-11-28</td>\n",
       "      <td>yearsold</td>\n",
       "      <td>74.7267591958831</td>\n",
       "      <td>0 days 00:00:00.000000000</td>\n",
       "      <td>yearsold</td>\n",
       "    </tr>\n",
       "    <tr>\n",
       "      <th>10</th>\n",
       "      <td>261257</td>\n",
       "      <td>314</td>\n",
       "      <td>2181-09-18</td>\n",
       "      <td>yearsold</td>\n",
       "      <td>40.3259408193272</td>\n",
       "      <td>0 days 00:00:00.000000000</td>\n",
       "      <td>yearsold</td>\n",
       "    </tr>\n",
       "    <tr>\n",
       "      <th>11</th>\n",
       "      <td>266988</td>\n",
       "      <td>315</td>\n",
       "      <td>2177-04-29</td>\n",
       "      <td>yearsold</td>\n",
       "      <td>72.5265892526681</td>\n",
       "      <td>0 days 00:00:00.000000000</td>\n",
       "      <td>yearsold</td>\n",
       "    </tr>\n",
       "    <tr>\n",
       "      <th>12</th>\n",
       "      <td>281585</td>\n",
       "      <td>326</td>\n",
       "      <td>2118-11-03</td>\n",
       "      <td>yearsold</td>\n",
       "      <td>41.9737369761959</td>\n",
       "      <td>0 days 00:00:00.000000000</td>\n",
       "      <td>yearsold</td>\n",
       "    </tr>\n",
       "    <tr>\n",
       "      <th>13</th>\n",
       "      <td>294224</td>\n",
       "      <td>328</td>\n",
       "      <td>2149-11-01</td>\n",
       "      <td>yearsold</td>\n",
       "      <td>65.9127037860927</td>\n",
       "      <td>0 days 00:00:00.000000000</td>\n",
       "      <td>yearsold</td>\n",
       "    </tr>\n",
       "    <tr>\n",
       "      <th>14</th>\n",
       "      <td>217001</td>\n",
       "      <td>329</td>\n",
       "      <td>2154-04-06</td>\n",
       "      <td>yearsold</td>\n",
       "      <td>51.9690410867747</td>\n",
       "      <td>0 days 00:00:00.000000000</td>\n",
       "      <td>yearsold</td>\n",
       "    </tr>\n",
       "    <tr>\n",
       "      <th>15</th>\n",
       "      <td>297996</td>\n",
       "      <td>330</td>\n",
       "      <td>2133-02-28</td>\n",
       "      <td>yearsold</td>\n",
       "      <td>67.7172345488884</td>\n",
       "      <td>0 days 00:00:00.000000000</td>\n",
       "      <td>yearsold</td>\n",
       "    </tr>\n",
       "    <tr>\n",
       "      <th>16</th>\n",
       "      <td>221278</td>\n",
       "      <td>339</td>\n",
       "      <td>2187-04-24</td>\n",
       "      <td>yearsold</td>\n",
       "      <td>66.7596601135701</td>\n",
       "      <td>0 days 00:00:00.000000000</td>\n",
       "      <td>yearsold</td>\n",
       "    </tr>\n",
       "    <tr>\n",
       "      <th>17</th>\n",
       "      <td>238865</td>\n",
       "      <td>344</td>\n",
       "      <td>2154-11-13</td>\n",
       "      <td>yearsold</td>\n",
       "      <td>58.1844515742642</td>\n",
       "      <td>0 days 00:00:00.000000000</td>\n",
       "      <td>yearsold</td>\n",
       "    </tr>\n",
       "    <tr>\n",
       "      <th>18</th>\n",
       "      <td>260258</td>\n",
       "      <td>345</td>\n",
       "      <td>2169-05-22</td>\n",
       "      <td>yearsold</td>\n",
       "      <td>299.997043374655</td>\n",
       "      <td>0 days 00:00:00.000000000</td>\n",
       "      <td>yearsold</td>\n",
       "    </tr>\n",
       "    <tr>\n",
       "      <th>19</th>\n",
       "      <td>258237</td>\n",
       "      <td>346</td>\n",
       "      <td>2148-12-01</td>\n",
       "      <td>yearsold</td>\n",
       "      <td>84.6729719306918</td>\n",
       "      <td>0 days 00:00:00.000000000</td>\n",
       "      <td>yearsold</td>\n",
       "    </tr>\n",
       "    <tr>\n",
       "      <th>20</th>\n",
       "      <td>294232</td>\n",
       "      <td>68</td>\n",
       "      <td>2173-12-16</td>\n",
       "      <td>yearsold</td>\n",
       "      <td>41.7963690521459</td>\n",
       "      <td>0 days 00:00:00.000000000</td>\n",
       "      <td>yearsold</td>\n",
       "    </tr>\n",
       "    <tr>\n",
       "      <th>21</th>\n",
       "      <td>284305</td>\n",
       "      <td>73</td>\n",
       "      <td>2170-12-23</td>\n",
       "      <td>yearsold</td>\n",
       "      <td>57.5852424455599</td>\n",
       "      <td>0 days 00:00:00.000000000</td>\n",
       "      <td>yearsold</td>\n",
       "    </tr>\n",
       "    <tr>\n",
       "      <th>22</th>\n",
       "      <td>256068</td>\n",
       "      <td>80</td>\n",
       "      <td>2148-11-12</td>\n",
       "      <td>yearsold</td>\n",
       "      <td>43.9137824169138</td>\n",
       "      <td>0 days 00:00:00.000000000</td>\n",
       "      <td>yearsold</td>\n",
       "    </tr>\n",
       "    <tr>\n",
       "      <th>23</th>\n",
       "      <td>229012</td>\n",
       "      <td>94</td>\n",
       "      <td>2176-02-26</td>\n",
       "      <td>yearsold</td>\n",
       "      <td>74.4331318921591</td>\n",
       "      <td>0 days 00:00:00.000000000</td>\n",
       "      <td>yearsold</td>\n",
       "    </tr>\n",
       "    <tr>\n",
       "      <th>24</th>\n",
       "      <td>216431</td>\n",
       "      <td>95</td>\n",
       "      <td>2157-12-26</td>\n",
       "      <td>yearsold</td>\n",
       "      <td>44.1606768892438</td>\n",
       "      <td>0 days 00:00:00.000000000</td>\n",
       "      <td>yearsold</td>\n",
       "    </tr>\n",
       "    <tr>\n",
       "      <th>25</th>\n",
       "      <td>294980</td>\n",
       "      <td>105</td>\n",
       "      <td>2189-01-29</td>\n",
       "      <td>yearsold</td>\n",
       "      <td>35.3421171128349</td>\n",
       "      <td>0 days 00:00:00.000000000</td>\n",
       "      <td>yearsold</td>\n",
       "    </tr>\n",
       "    <tr>\n",
       "      <th>26</th>\n",
       "      <td>252051</td>\n",
       "      <td>106</td>\n",
       "      <td>2192-08-12</td>\n",
       "      <td>yearsold</td>\n",
       "      <td>28.3580419296778</td>\n",
       "      <td>0 days 00:00:00.000000000</td>\n",
       "      <td>yearsold</td>\n",
       "    </tr>\n",
       "    <tr>\n",
       "      <th>27</th>\n",
       "      <td>254245</td>\n",
       "      <td>111</td>\n",
       "      <td>2142-04-24</td>\n",
       "      <td>yearsold</td>\n",
       "      <td>66.7714969769564</td>\n",
       "      <td>0 days 00:00:00.000000000</td>\n",
       "      <td>yearsold</td>\n",
       "    </tr>\n",
       "    <tr>\n",
       "      <th>28</th>\n",
       "      <td>224661</td>\n",
       "      <td>113</td>\n",
       "      <td>2140-12-13</td>\n",
       "      <td>yearsold</td>\n",
       "      <td>35.8410680153117</td>\n",
       "      <td>0 days 00:00:00.000000000</td>\n",
       "      <td>yearsold</td>\n",
       "    </tr>\n",
       "    <tr>\n",
       "      <th>29</th>\n",
       "      <td>211700</td>\n",
       "      <td>117</td>\n",
       "      <td>2133-04-09</td>\n",
       "      <td>yearsold</td>\n",
       "      <td>49.2778168491901</td>\n",
       "      <td>0 days 00:00:00.000000000</td>\n",
       "      <td>yearsold</td>\n",
       "    </tr>\n",
       "    <tr>\n",
       "      <th>...</th>\n",
       "      <td>...</td>\n",
       "      <td>...</td>\n",
       "      <td>...</td>\n",
       "      <td>...</td>\n",
       "      <td>...</td>\n",
       "      <td>...</td>\n",
       "      <td>...</td>\n",
       "    </tr>\n",
       "    <tr>\n",
       "      <th>38682</th>\n",
       "      <td>228989</td>\n",
       "      <td>90650</td>\n",
       "      <td>2129-04-03</td>\n",
       "      <td>ethnicity</td>\n",
       "      <td>asian</td>\n",
       "      <td>0 days 00:00:00.000000000</td>\n",
       "      <td>NaN</td>\n",
       "    </tr>\n",
       "    <tr>\n",
       "      <th>38683</th>\n",
       "      <td>244616</td>\n",
       "      <td>90658</td>\n",
       "      <td>2177-05-24</td>\n",
       "      <td>ethnicity</td>\n",
       "      <td>unknown/other</td>\n",
       "      <td>0 days 00:00:00.000000000</td>\n",
       "      <td>NaN</td>\n",
       "    </tr>\n",
       "    <tr>\n",
       "      <th>38684</th>\n",
       "      <td>212361</td>\n",
       "      <td>90669</td>\n",
       "      <td>2161-01-25</td>\n",
       "      <td>ethnicity</td>\n",
       "      <td>white/nonhispanic</td>\n",
       "      <td>0 days 00:00:00.000000000</td>\n",
       "      <td>NaN</td>\n",
       "    </tr>\n",
       "    <tr>\n",
       "      <th>38685</th>\n",
       "      <td>286464</td>\n",
       "      <td>90680</td>\n",
       "      <td>2180-08-28</td>\n",
       "      <td>ethnicity</td>\n",
       "      <td>white/nonhispanic</td>\n",
       "      <td>0 days 00:00:00.000000000</td>\n",
       "      <td>NaN</td>\n",
       "    </tr>\n",
       "    <tr>\n",
       "      <th>38686</th>\n",
       "      <td>207077</td>\n",
       "      <td>91883</td>\n",
       "      <td>2101-04-11</td>\n",
       "      <td>ethnicity</td>\n",
       "      <td>white/nonhispanic</td>\n",
       "      <td>0 days 00:00:00.000000000</td>\n",
       "      <td>NaN</td>\n",
       "    </tr>\n",
       "    <tr>\n",
       "      <th>38687</th>\n",
       "      <td>293377</td>\n",
       "      <td>91913</td>\n",
       "      <td>2105-04-08</td>\n",
       "      <td>ethnicity</td>\n",
       "      <td>unknown/other</td>\n",
       "      <td>0 days 00:00:00.000000000</td>\n",
       "      <td>NaN</td>\n",
       "    </tr>\n",
       "    <tr>\n",
       "      <th>38688</th>\n",
       "      <td>222480</td>\n",
       "      <td>91925</td>\n",
       "      <td>2168-07-22</td>\n",
       "      <td>ethnicity</td>\n",
       "      <td>white/nonhispanic</td>\n",
       "      <td>0 days 00:00:00.000000000</td>\n",
       "      <td>NaN</td>\n",
       "    </tr>\n",
       "    <tr>\n",
       "      <th>38689</th>\n",
       "      <td>281453</td>\n",
       "      <td>91926</td>\n",
       "      <td>2104-05-04</td>\n",
       "      <td>ethnicity</td>\n",
       "      <td>white/nonhispanic</td>\n",
       "      <td>0 days 00:00:00.000000000</td>\n",
       "      <td>NaN</td>\n",
       "    </tr>\n",
       "    <tr>\n",
       "      <th>38690</th>\n",
       "      <td>269804</td>\n",
       "      <td>91948</td>\n",
       "      <td>2147-12-12</td>\n",
       "      <td>ethnicity</td>\n",
       "      <td>white/nonhispanic</td>\n",
       "      <td>0 days 00:00:00.000000000</td>\n",
       "      <td>NaN</td>\n",
       "    </tr>\n",
       "    <tr>\n",
       "      <th>38691</th>\n",
       "      <td>223097</td>\n",
       "      <td>91950</td>\n",
       "      <td>2159-05-29</td>\n",
       "      <td>ethnicity</td>\n",
       "      <td>white/nonhispanic</td>\n",
       "      <td>0 days 00:00:00.000000000</td>\n",
       "      <td>NaN</td>\n",
       "    </tr>\n",
       "    <tr>\n",
       "      <th>38692</th>\n",
       "      <td>246330</td>\n",
       "      <td>91951</td>\n",
       "      <td>2185-06-01</td>\n",
       "      <td>ethnicity</td>\n",
       "      <td>asian</td>\n",
       "      <td>0 days 00:00:00.000000000</td>\n",
       "      <td>NaN</td>\n",
       "    </tr>\n",
       "    <tr>\n",
       "      <th>38693</th>\n",
       "      <td>270203</td>\n",
       "      <td>91954</td>\n",
       "      <td>2190-01-31</td>\n",
       "      <td>ethnicity</td>\n",
       "      <td>white/nonhispanic</td>\n",
       "      <td>0 days 00:00:00.000000000</td>\n",
       "      <td>NaN</td>\n",
       "    </tr>\n",
       "    <tr>\n",
       "      <th>38694</th>\n",
       "      <td>278377</td>\n",
       "      <td>91960</td>\n",
       "      <td>2104-01-10</td>\n",
       "      <td>ethnicity</td>\n",
       "      <td>white/nonhispanic</td>\n",
       "      <td>0 days 00:00:00.000000000</td>\n",
       "      <td>NaN</td>\n",
       "    </tr>\n",
       "    <tr>\n",
       "      <th>38695</th>\n",
       "      <td>250892</td>\n",
       "      <td>91992</td>\n",
       "      <td>2120-03-18</td>\n",
       "      <td>ethnicity</td>\n",
       "      <td>unknown/other</td>\n",
       "      <td>0 days 00:00:00.000000000</td>\n",
       "      <td>NaN</td>\n",
       "    </tr>\n",
       "    <tr>\n",
       "      <th>38696</th>\n",
       "      <td>249134</td>\n",
       "      <td>91996</td>\n",
       "      <td>2136-07-28</td>\n",
       "      <td>ethnicity</td>\n",
       "      <td>white/nonhispanic</td>\n",
       "      <td>0 days 00:00:00.000000000</td>\n",
       "      <td>NaN</td>\n",
       "    </tr>\n",
       "    <tr>\n",
       "      <th>38697</th>\n",
       "      <td>222504</td>\n",
       "      <td>92014</td>\n",
       "      <td>2179-04-15</td>\n",
       "      <td>ethnicity</td>\n",
       "      <td>black</td>\n",
       "      <td>0 days 00:00:00.000000000</td>\n",
       "      <td>NaN</td>\n",
       "    </tr>\n",
       "    <tr>\n",
       "      <th>38698</th>\n",
       "      <td>225737</td>\n",
       "      <td>94840</td>\n",
       "      <td>2146-06-27</td>\n",
       "      <td>ethnicity</td>\n",
       "      <td>white/nonhispanic</td>\n",
       "      <td>0 days 00:00:00.000000000</td>\n",
       "      <td>NaN</td>\n",
       "    </tr>\n",
       "    <tr>\n",
       "      <th>38699</th>\n",
       "      <td>257969</td>\n",
       "      <td>94846</td>\n",
       "      <td>2171-08-04</td>\n",
       "      <td>ethnicity</td>\n",
       "      <td>unknown/other</td>\n",
       "      <td>0 days 00:00:00.000000000</td>\n",
       "      <td>NaN</td>\n",
       "    </tr>\n",
       "    <tr>\n",
       "      <th>38700</th>\n",
       "      <td>281231</td>\n",
       "      <td>94853</td>\n",
       "      <td>2151-11-27</td>\n",
       "      <td>ethnicity</td>\n",
       "      <td>white/nonhispanic</td>\n",
       "      <td>0 days 00:00:00.000000000</td>\n",
       "      <td>NaN</td>\n",
       "    </tr>\n",
       "    <tr>\n",
       "      <th>38701</th>\n",
       "      <td>212254</td>\n",
       "      <td>94863</td>\n",
       "      <td>2176-09-05</td>\n",
       "      <td>ethnicity</td>\n",
       "      <td>black</td>\n",
       "      <td>0 days 00:00:00.000000000</td>\n",
       "      <td>NaN</td>\n",
       "    </tr>\n",
       "    <tr>\n",
       "      <th>38702</th>\n",
       "      <td>288166</td>\n",
       "      <td>94864</td>\n",
       "      <td>2179-12-11</td>\n",
       "      <td>ethnicity</td>\n",
       "      <td>white/nonhispanic</td>\n",
       "      <td>0 days 00:00:00.000000000</td>\n",
       "      <td>NaN</td>\n",
       "    </tr>\n",
       "    <tr>\n",
       "      <th>38703</th>\n",
       "      <td>269229</td>\n",
       "      <td>94897</td>\n",
       "      <td>2112-10-29</td>\n",
       "      <td>ethnicity</td>\n",
       "      <td>white/nonhispanic</td>\n",
       "      <td>0 days 00:00:00.000000000</td>\n",
       "      <td>NaN</td>\n",
       "    </tr>\n",
       "    <tr>\n",
       "      <th>38704</th>\n",
       "      <td>284226</td>\n",
       "      <td>94903</td>\n",
       "      <td>2181-06-27</td>\n",
       "      <td>ethnicity</td>\n",
       "      <td>black</td>\n",
       "      <td>0 days 00:00:00.000000000</td>\n",
       "      <td>NaN</td>\n",
       "    </tr>\n",
       "    <tr>\n",
       "      <th>38705</th>\n",
       "      <td>276599</td>\n",
       "      <td>94908</td>\n",
       "      <td>2108-05-23</td>\n",
       "      <td>ethnicity</td>\n",
       "      <td>unknown/other</td>\n",
       "      <td>0 days 00:00:00.000000000</td>\n",
       "      <td>NaN</td>\n",
       "    </tr>\n",
       "    <tr>\n",
       "      <th>38706</th>\n",
       "      <td>238495</td>\n",
       "      <td>94915</td>\n",
       "      <td>2174-12-15</td>\n",
       "      <td>ethnicity</td>\n",
       "      <td>white/nonhispanic</td>\n",
       "      <td>0 days 00:00:00.000000000</td>\n",
       "      <td>NaN</td>\n",
       "    </tr>\n",
       "    <tr>\n",
       "      <th>38707</th>\n",
       "      <td>294627</td>\n",
       "      <td>94916</td>\n",
       "      <td>2151-05-29</td>\n",
       "      <td>ethnicity</td>\n",
       "      <td>white/nonhispanic</td>\n",
       "      <td>0 days 00:00:00.000000000</td>\n",
       "      <td>NaN</td>\n",
       "    </tr>\n",
       "    <tr>\n",
       "      <th>38708</th>\n",
       "      <td>243032</td>\n",
       "      <td>94926</td>\n",
       "      <td>2156-01-16</td>\n",
       "      <td>ethnicity</td>\n",
       "      <td>black</td>\n",
       "      <td>0 days 00:00:00.000000000</td>\n",
       "      <td>NaN</td>\n",
       "    </tr>\n",
       "    <tr>\n",
       "      <th>38709</th>\n",
       "      <td>270429</td>\n",
       "      <td>94933</td>\n",
       "      <td>2130-07-19</td>\n",
       "      <td>ethnicity</td>\n",
       "      <td>white/nonhispanic</td>\n",
       "      <td>0 days 00:00:00.000000000</td>\n",
       "      <td>NaN</td>\n",
       "    </tr>\n",
       "    <tr>\n",
       "      <th>38710</th>\n",
       "      <td>213159</td>\n",
       "      <td>94937</td>\n",
       "      <td>2106-12-28</td>\n",
       "      <td>ethnicity</td>\n",
       "      <td>unknown/other</td>\n",
       "      <td>0 days 00:00:00.000000000</td>\n",
       "      <td>NaN</td>\n",
       "    </tr>\n",
       "    <tr>\n",
       "      <th>38711</th>\n",
       "      <td>202802</td>\n",
       "      <td>94954</td>\n",
       "      <td>2183-03-25</td>\n",
       "      <td>ethnicity</td>\n",
       "      <td>unknown/other</td>\n",
       "      <td>0 days 00:00:00.000000000</td>\n",
       "      <td>NaN</td>\n",
       "    </tr>\n",
       "  </tbody>\n",
       "</table>\n",
       "<p>38712 rows × 7 columns</p>\n",
       "</div>"
      ],
      "text/plain": [
       "       icustay_id  subject_id         t_0      label              value  \\\n",
       "0          280836         268  2198-02-16   yearsold   65.9848802824042   \n",
       "1          206613         269  2170-11-05   yearsold   40.0998279019951   \n",
       "2          219649         275  2170-10-08   yearsold    82.164211885568   \n",
       "3          204407         279  2164-06-15   yearsold   74.2940118069815   \n",
       "4          257572         281  2101-10-18   yearsold   60.0142318173752   \n",
       "5          238023         285  2152-09-22   yearsold   45.3551008314954   \n",
       "6          260225         286  2176-01-01   yearsold   85.0156237166324   \n",
       "7          278519         290  2179-01-27   yearsold   74.3841495867873   \n",
       "8          291141         306  2199-09-16   yearsold   60.9386263847694   \n",
       "9          265862         307  2162-11-28   yearsold   74.7267591958831   \n",
       "10         261257         314  2181-09-18   yearsold   40.3259408193272   \n",
       "11         266988         315  2177-04-29   yearsold   72.5265892526681   \n",
       "12         281585         326  2118-11-03   yearsold   41.9737369761959   \n",
       "13         294224         328  2149-11-01   yearsold   65.9127037860927   \n",
       "14         217001         329  2154-04-06   yearsold   51.9690410867747   \n",
       "15         297996         330  2133-02-28   yearsold   67.7172345488884   \n",
       "16         221278         339  2187-04-24   yearsold   66.7596601135701   \n",
       "17         238865         344  2154-11-13   yearsold   58.1844515742642   \n",
       "18         260258         345  2169-05-22   yearsold   299.997043374655   \n",
       "19         258237         346  2148-12-01   yearsold   84.6729719306918   \n",
       "20         294232          68  2173-12-16   yearsold   41.7963690521459   \n",
       "21         284305          73  2170-12-23   yearsold   57.5852424455599   \n",
       "22         256068          80  2148-11-12   yearsold   43.9137824169138   \n",
       "23         229012          94  2176-02-26   yearsold   74.4331318921591   \n",
       "24         216431          95  2157-12-26   yearsold   44.1606768892438   \n",
       "25         294980         105  2189-01-29   yearsold   35.3421171128349   \n",
       "26         252051         106  2192-08-12   yearsold   28.3580419296778   \n",
       "27         254245         111  2142-04-24   yearsold   66.7714969769564   \n",
       "28         224661         113  2140-12-13   yearsold   35.8410680153117   \n",
       "29         211700         117  2133-04-09   yearsold   49.2778168491901   \n",
       "...           ...         ...         ...        ...                ...   \n",
       "38682      228989       90650  2129-04-03  ethnicity              asian   \n",
       "38683      244616       90658  2177-05-24  ethnicity      unknown/other   \n",
       "38684      212361       90669  2161-01-25  ethnicity  white/nonhispanic   \n",
       "38685      286464       90680  2180-08-28  ethnicity  white/nonhispanic   \n",
       "38686      207077       91883  2101-04-11  ethnicity  white/nonhispanic   \n",
       "38687      293377       91913  2105-04-08  ethnicity      unknown/other   \n",
       "38688      222480       91925  2168-07-22  ethnicity  white/nonhispanic   \n",
       "38689      281453       91926  2104-05-04  ethnicity  white/nonhispanic   \n",
       "38690      269804       91948  2147-12-12  ethnicity  white/nonhispanic   \n",
       "38691      223097       91950  2159-05-29  ethnicity  white/nonhispanic   \n",
       "38692      246330       91951  2185-06-01  ethnicity              asian   \n",
       "38693      270203       91954  2190-01-31  ethnicity  white/nonhispanic   \n",
       "38694      278377       91960  2104-01-10  ethnicity  white/nonhispanic   \n",
       "38695      250892       91992  2120-03-18  ethnicity      unknown/other   \n",
       "38696      249134       91996  2136-07-28  ethnicity  white/nonhispanic   \n",
       "38697      222504       92014  2179-04-15  ethnicity              black   \n",
       "38698      225737       94840  2146-06-27  ethnicity  white/nonhispanic   \n",
       "38699      257969       94846  2171-08-04  ethnicity      unknown/other   \n",
       "38700      281231       94853  2151-11-27  ethnicity  white/nonhispanic   \n",
       "38701      212254       94863  2176-09-05  ethnicity              black   \n",
       "38702      288166       94864  2179-12-11  ethnicity  white/nonhispanic   \n",
       "38703      269229       94897  2112-10-29  ethnicity  white/nonhispanic   \n",
       "38704      284226       94903  2181-06-27  ethnicity              black   \n",
       "38705      276599       94908  2108-05-23  ethnicity      unknown/other   \n",
       "38706      238495       94915  2174-12-15  ethnicity  white/nonhispanic   \n",
       "38707      294627       94916  2151-05-29  ethnicity  white/nonhispanic   \n",
       "38708      243032       94926  2156-01-16  ethnicity              black   \n",
       "38709      270429       94933  2130-07-19  ethnicity  white/nonhispanic   \n",
       "38710      213159       94937  2106-12-28  ethnicity      unknown/other   \n",
       "38711      202802       94954  2183-03-25  ethnicity      unknown/other   \n",
       "\n",
       "                           delta       uom  \n",
       "0      0 days 00:00:00.000000000  yearsold  \n",
       "1      0 days 00:00:00.000000000  yearsold  \n",
       "2      0 days 00:00:00.000000000  yearsold  \n",
       "3      0 days 00:00:00.000000000  yearsold  \n",
       "4      0 days 00:00:00.000000000  yearsold  \n",
       "5      0 days 00:00:00.000000000  yearsold  \n",
       "6      0 days 00:00:00.000000000  yearsold  \n",
       "7      0 days 00:00:00.000000000  yearsold  \n",
       "8      0 days 00:00:00.000000000  yearsold  \n",
       "9      0 days 00:00:00.000000000  yearsold  \n",
       "10     0 days 00:00:00.000000000  yearsold  \n",
       "11     0 days 00:00:00.000000000  yearsold  \n",
       "12     0 days 00:00:00.000000000  yearsold  \n",
       "13     0 days 00:00:00.000000000  yearsold  \n",
       "14     0 days 00:00:00.000000000  yearsold  \n",
       "15     0 days 00:00:00.000000000  yearsold  \n",
       "16     0 days 00:00:00.000000000  yearsold  \n",
       "17     0 days 00:00:00.000000000  yearsold  \n",
       "18     0 days 00:00:00.000000000  yearsold  \n",
       "19     0 days 00:00:00.000000000  yearsold  \n",
       "20     0 days 00:00:00.000000000  yearsold  \n",
       "21     0 days 00:00:00.000000000  yearsold  \n",
       "22     0 days 00:00:00.000000000  yearsold  \n",
       "23     0 days 00:00:00.000000000  yearsold  \n",
       "24     0 days 00:00:00.000000000  yearsold  \n",
       "25     0 days 00:00:00.000000000  yearsold  \n",
       "26     0 days 00:00:00.000000000  yearsold  \n",
       "27     0 days 00:00:00.000000000  yearsold  \n",
       "28     0 days 00:00:00.000000000  yearsold  \n",
       "29     0 days 00:00:00.000000000  yearsold  \n",
       "...                          ...       ...  \n",
       "38682  0 days 00:00:00.000000000       NaN  \n",
       "38683  0 days 00:00:00.000000000       NaN  \n",
       "38684  0 days 00:00:00.000000000       NaN  \n",
       "38685  0 days 00:00:00.000000000       NaN  \n",
       "38686  0 days 00:00:00.000000000       NaN  \n",
       "38687  0 days 00:00:00.000000000       NaN  \n",
       "38688  0 days 00:00:00.000000000       NaN  \n",
       "38689  0 days 00:00:00.000000000       NaN  \n",
       "38690  0 days 00:00:00.000000000       NaN  \n",
       "38691  0 days 00:00:00.000000000       NaN  \n",
       "38692  0 days 00:00:00.000000000       NaN  \n",
       "38693  0 days 00:00:00.000000000       NaN  \n",
       "38694  0 days 00:00:00.000000000       NaN  \n",
       "38695  0 days 00:00:00.000000000       NaN  \n",
       "38696  0 days 00:00:00.000000000       NaN  \n",
       "38697  0 days 00:00:00.000000000       NaN  \n",
       "38698  0 days 00:00:00.000000000       NaN  \n",
       "38699  0 days 00:00:00.000000000       NaN  \n",
       "38700  0 days 00:00:00.000000000       NaN  \n",
       "38701  0 days 00:00:00.000000000       NaN  \n",
       "38702  0 days 00:00:00.000000000       NaN  \n",
       "38703  0 days 00:00:00.000000000       NaN  \n",
       "38704  0 days 00:00:00.000000000       NaN  \n",
       "38705  0 days 00:00:00.000000000       NaN  \n",
       "38706  0 days 00:00:00.000000000       NaN  \n",
       "38707  0 days 00:00:00.000000000       NaN  \n",
       "38708  0 days 00:00:00.000000000       NaN  \n",
       "38709  0 days 00:00:00.000000000       NaN  \n",
       "38710  0 days 00:00:00.000000000       NaN  \n",
       "38711  0 days 00:00:00.000000000       NaN  \n",
       "\n",
       "[38712 rows x 7 columns]"
      ]
     },
     "execution_count": 134,
     "metadata": {},
     "output_type": "execute_result"
    },
    {
     "name": "stdout",
     "output_type": "stream",
     "text": [
      "time: 30.4 ms\n"
     ]
    }
   ],
   "source": [
    "dfs[pt_info_df]"
   ]
  },
  {
   "cell_type": "code",
   "execution_count": 135,
   "metadata": {},
   "outputs": [
    {
     "name": "stdout",
     "output_type": "stream",
     "text": [
      "time: 46.4 ms\n"
     ]
    }
   ],
   "source": [
    "##adjusting ages over 90 (which were set to 300 to deidentify) to 90\n",
    "admit_index=dfs[pt_info_df].loc[(dfs[pt_info_df]['label']=='yearsold')].index\n",
    "age_tf=pd.to_numeric(dfs[pt_info_df].loc[admit_index,'value'])>90\n",
    "dfs[pt_info_df].loc[(dfs[pt_info_df]['label']=='yearsold')&(age_tf),'value']=90.0"
   ]
  },
  {
   "cell_type": "code",
   "execution_count": 136,
   "metadata": {},
   "outputs": [
    {
     "data": {
      "text/plain": [
       "90.0                776\n",
       "63.4081637069993      1\n",
       "66.5478703386823      1\n",
       "61.6716203703704      1\n",
       "49.2782088942125      1\n",
       "44.4676982406774      1\n",
       "47.3690400410678      1\n",
       "85.5589544515426      1\n",
       "82.7865793976728      1\n",
       "73.6585454217051      1\n",
       "65.4810862359622      1\n",
       "61.153896145461       1\n",
       "52.8789559408827      1\n",
       "72.2622747927599      1\n",
       "44.1619576900652      1\n",
       "55.8491155854691      1\n",
       "86.4934200953178      1\n",
       "77.1439961213781      1\n",
       "50.9048232755343      1\n",
       "49.2291726557153      1\n",
       "76.2256356947296      1\n",
       "77.8772847745076      1\n",
       "61.3304719306918      1\n",
       "73.8797097054275      1\n",
       "65.1581717240855      1\n",
       "68.1677385479251      1\n",
       "20.758970105458       1\n",
       "88.5625411628261      1\n",
       "88.568174449261       1\n",
       "77.1119210586356      1\n",
       "                   ... \n",
       "78.9128267675615      1\n",
       "51.0118879128958      1\n",
       "51.7122149656501      1\n",
       "66.2069385821482      1\n",
       "56.8568453874819      1\n",
       "76.708561265749       1\n",
       "58.239348651355       1\n",
       "49.4923419715061      1\n",
       "75.525660348062       1\n",
       "50.5303281618374      1\n",
       "71.7062315258448      1\n",
       "82.4983448361092      1\n",
       "70.760369166223       1\n",
       "39.8755240575963      1\n",
       "88.3846075747205      1\n",
       "85.4588116650189      1\n",
       "61.7344036935635      1\n",
       "47.2708657185591      1\n",
       "63.973714636094       1\n",
       "64.1036229624559      1\n",
       "74.3883856503663      1\n",
       "75.2084121099196      1\n",
       "39.6671567863209      1\n",
       "80.0299277194717      1\n",
       "80.5625554858418      1\n",
       "56.2126939627855      1\n",
       "56.5240739156336      1\n",
       "76.4013244036302      1\n",
       "83.2733877734682      1\n",
       "78.9217291555758      1\n",
       "Name: value, Length: 12129, dtype: int64"
      ]
     },
     "execution_count": 136,
     "metadata": {},
     "output_type": "execute_result"
    },
    {
     "name": "stdout",
     "output_type": "stream",
     "text": [
      "time: 13.2 ms\n"
     ]
    }
   ],
   "source": [
    "dfs[pt_info_df].loc[admit_index,'value'].value_counts()"
   ]
  },
  {
   "cell_type": "code",
   "execution_count": 137,
   "metadata": {},
   "outputs": [
    {
     "name": "stdout",
     "output_type": "stream",
     "text": [
      "time: 480 µs\n"
     ]
    }
   ],
   "source": [
    "#dfs[pt_info_df].loc[(dfs[pt_info_df]['label']=='first_admit_age') & (dfs[pt_info_df]['value']>90)]"
   ]
  },
  {
   "cell_type": "code",
   "execution_count": 138,
   "metadata": {},
   "outputs": [
    {
     "name": "stdout",
     "output_type": "stream",
     "text": [
      "time: 261 ms\n"
     ]
    }
   ],
   "source": [
    "#date= '22102018'\n",
    "save_df(dfs[pt_info_df], 'pt_info')\n",
    "\n",
    "del(dfs[pt_info_df] )"
   ]
  },
  {
   "cell_type": "code",
   "execution_count": null,
   "metadata": {},
   "outputs": [],
   "source": []
  }
 ],
 "metadata": {
  "kernelspec": {
   "display_name": "Python 3",
   "language": "python",
   "name": "python3"
  },
  "language_info": {
   "codemirror_mode": {
    "name": "ipython",
    "version": 3
   },
   "file_extension": ".py",
   "mimetype": "text/x-python",
   "name": "python",
   "nbconvert_exporter": "python",
   "pygments_lexer": "ipython3",
   "version": "3.6.8"
  }
 },
 "nbformat": 4,
 "nbformat_minor": 2
}
