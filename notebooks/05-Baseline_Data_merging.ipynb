{
 "cells": [
  {
   "cell_type": "markdown",
   "metadata": {},
   "source": [
    "# making an aggregate master dataframe for baseline model\n",
    "this notebook is going to make a single standardized long format dataframe for each of my cleaned clinical variable dataframes.\n",
    "\n",
    "will save this into a file with a cleaned_merged_df prefix."
   ]
  },
  {
   "cell_type": "code",
   "execution_count": 1,
   "metadata": {},
   "outputs": [
    {
     "name": "stdout",
     "output_type": "stream",
     "text": [
      "time: 0 ns (started: 2023-07-26 19:22:14 +08:00)\n"
     ]
    }
   ],
   "source": [
    "import pandas as pd\n",
    "import matplotlib.pyplot as plt\n",
    "import os\n",
    "from pathlib import Path\n",
    "import seaborn as sns\n",
    "import numpy as np\n",
    "import glob\n",
    "\n",
    "%matplotlib inline\n",
    "plt.style.use('ggplot')\n",
    "\n",
    "from notebook.services.config import ConfigManager\n",
    "cm = ConfigManager()\n",
    "cm.update('livereveal', {\n",
    "        'width': 1024,\n",
    "        'height': 768,\n",
    "        'scroll': True,\n",
    "})\n",
    "\n",
    "%load_ext autotime"
   ]
  },
  {
   "cell_type": "code",
   "execution_count": 3,
   "metadata": {},
   "outputs": [
    {
     "name": "stdout",
     "output_type": "stream",
     "text": [
      "time: 16 ms (started: 2023-07-26 19:22:40 +08:00)\n"
     ]
    }
   ],
   "source": [
    "#patients of interest from rotation_cohort_generation\n",
    "from parameters import final_pt_df_v, date, repository_path\n",
    "\n",
    "#patients of interest from rotation_cohort_generation\n",
    "final_pt_df2 = final_pt_df_v #pd.read_csv('/Users/geickelb1/Documents/GitHub/mimiciii-antibiotics-modeling/data/raw/csv/%s_final_pt_df2.csv'%(most_updated_patient_df), index_col=0)\n",
    "del(final_pt_df_v)\n",
    "\n",
    "patients= list(final_pt_df2['subject_id'].unique())\n",
    "hadm_id= list(final_pt_df2['hadm_id'].unique())\n",
    "icustay_id= list(final_pt_df2['stay_id'].unique())\n",
    "icustay_id= [int(x) for x in icustay_id]"
   ]
  },
  {
   "cell_type": "code",
   "execution_count": 5,
   "metadata": {},
   "outputs": [
    {
     "data": {
      "text/plain": [
       "26471"
      ]
     },
     "execution_count": 5,
     "metadata": {},
     "output_type": "execute_result"
    },
    {
     "name": "stdout",
     "output_type": "stream",
     "text": [
      "time: 0 ns (started: 2023-07-26 19:22:47 +08:00)\n"
     ]
    }
   ],
   "source": [
    "final_pt_df2['stay_id'].nunique() #26471"
   ]
  },
  {
   "cell_type": "code",
   "execution_count": 6,
   "metadata": {},
   "outputs": [
    {
     "name": "stdout",
     "output_type": "stream",
     "text": [
      "time: 0 ns (started: 2023-07-26 19:22:55 +08:00)\n"
     ]
    }
   ],
   "source": [
    "from parameters import lower_window, upper_window, folder, date, time_col, time_var, patient_df"
   ]
  },
  {
   "cell_type": "code",
   "execution_count": 7,
   "metadata": {},
   "outputs": [
    {
     "data": {
      "text/plain": [
       "['c:\\\\Users\\\\csfhe\\\\Documents\\\\RA\\\\mimiciii-antibiotics-opensource\\\\notebooks/data/cleaned/24_hr_window\\\\07242023_all_vaso_prepped.csv',\n",
       " 'c:\\\\Users\\\\csfhe\\\\Documents\\\\RA\\\\mimiciii-antibiotics-opensource\\\\notebooks/data/cleaned/24_hr_window\\\\07242023_bg_all_prepped.csv',\n",
       " 'c:\\\\Users\\\\csfhe\\\\Documents\\\\RA\\\\mimiciii-antibiotics-opensource\\\\notebooks/data/cleaned/24_hr_window\\\\07242023_bg_ART_prepped.csv',\n",
       " 'c:\\\\Users\\\\csfhe\\\\Documents\\\\RA\\\\mimiciii-antibiotics-opensource\\\\notebooks/data/cleaned/24_hr_window\\\\07242023_cancer_elix_prepped.csv',\n",
       " 'c:\\\\Users\\\\csfhe\\\\Documents\\\\RA\\\\mimiciii-antibiotics-opensource\\\\notebooks/data/cleaned/24_hr_window\\\\07242023_dobutamine_prepped.csv',\n",
       " 'c:\\\\Users\\\\csfhe\\\\Documents\\\\RA\\\\mimiciii-antibiotics-opensource\\\\notebooks/data/cleaned/24_hr_window\\\\07242023_dopamine_prepped.csv',\n",
       " 'c:\\\\Users\\\\csfhe\\\\Documents\\\\RA\\\\mimiciii-antibiotics-opensource\\\\notebooks/data/cleaned/24_hr_window\\\\07242023_epinephrine_prepped.csv',\n",
       " 'c:\\\\Users\\\\csfhe\\\\Documents\\\\RA\\\\mimiciii-antibiotics-opensource\\\\notebooks/data/cleaned/24_hr_window\\\\07242023_gcs_prepped.csv',\n",
       " 'c:\\\\Users\\\\csfhe\\\\Documents\\\\RA\\\\mimiciii-antibiotics-opensource\\\\notebooks/data/cleaned/24_hr_window\\\\07242023_height_prepped.csv',\n",
       " 'c:\\\\Users\\\\csfhe\\\\Documents\\\\RA\\\\mimiciii-antibiotics-opensource\\\\notebooks/data/cleaned/24_hr_window\\\\07242023_labs_prepped.csv',\n",
       " 'c:\\\\Users\\\\csfhe\\\\Documents\\\\RA\\\\mimiciii-antibiotics-opensource\\\\notebooks/data/cleaned/24_hr_window\\\\07242023_norepinephrine_prepped.csv',\n",
       " 'c:\\\\Users\\\\csfhe\\\\Documents\\\\RA\\\\mimiciii-antibiotics-opensource\\\\notebooks/data/cleaned/24_hr_window\\\\07242023_o2_flow_prepped.csv',\n",
       " 'c:\\\\Users\\\\csfhe\\\\Documents\\\\RA\\\\mimiciii-antibiotics-opensource\\\\notebooks/data/cleaned/24_hr_window\\\\07242023_pfRatio_prepped.csv',\n",
       " 'c:\\\\Users\\\\csfhe\\\\Documents\\\\RA\\\\mimiciii-antibiotics-opensource\\\\notebooks/data/cleaned/24_hr_window\\\\07242023_phenylephrine_prepped.csv',\n",
       " 'c:\\\\Users\\\\csfhe\\\\Documents\\\\RA\\\\mimiciii-antibiotics-opensource\\\\notebooks/data/cleaned/24_hr_window\\\\07242023_pt_info_prepped.csv',\n",
       " 'c:\\\\Users\\\\csfhe\\\\Documents\\\\RA\\\\mimiciii-antibiotics-opensource\\\\notebooks/data/cleaned/24_hr_window\\\\07242023_rrt_prepped.csv',\n",
       " 'c:\\\\Users\\\\csfhe\\\\Documents\\\\RA\\\\mimiciii-antibiotics-opensource\\\\notebooks/data/cleaned/24_hr_window\\\\07242023_sum_elix_prepped.csv',\n",
       " 'c:\\\\Users\\\\csfhe\\\\Documents\\\\RA\\\\mimiciii-antibiotics-opensource\\\\notebooks/data/cleaned/24_hr_window\\\\07242023_vasopressin_prepped.csv',\n",
       " 'c:\\\\Users\\\\csfhe\\\\Documents\\\\RA\\\\mimiciii-antibiotics-opensource\\\\notebooks/data/cleaned/24_hr_window\\\\07242023_ventcategory_prepped.csv',\n",
       " 'c:\\\\Users\\\\csfhe\\\\Documents\\\\RA\\\\mimiciii-antibiotics-opensource\\\\notebooks/data/cleaned/24_hr_window\\\\07242023_vitals_prepped.csv',\n",
       " 'c:\\\\Users\\\\csfhe\\\\Documents\\\\RA\\\\mimiciii-antibiotics-opensource\\\\notebooks/data/cleaned/24_hr_window\\\\07242023_weight_prepped.csv']"
      ]
     },
     "execution_count": 7,
     "metadata": {},
     "output_type": "execute_result"
    },
    {
     "name": "stdout",
     "output_type": "stream",
     "text": [
      "time: 15 ms (started: 2023-07-26 19:23:01 +08:00)\n"
     ]
    }
   ],
   "source": [
    "#import all cleaned or 'prepped' clinical variable csv\n",
    "allFiles = glob.glob(str(repository_path)+ '/data/cleaned/%s/'%(folder) + \"{}_*.csv\".format(date))\n",
    "allFiles"
   ]
  },
  {
   "cell_type": "code",
   "execution_count": 8,
   "metadata": {},
   "outputs": [
    {
     "name": "stdout",
     "output_type": "stream",
     "text": [
      "time: 0 ns (started: 2023-07-26 19:23:05 +08:00)\n"
     ]
    }
   ],
   "source": [
    "save_path= str(repository_path)+'/data/cleaned_merged/'\n",
    "def save_df(df, df_name='default', save_path=save_path, add_subfolder=False):\n",
    "    #uses the date and supplied df name and saves to the savepath specified above.\n",
    "    if df_name == 'default':\n",
    "        df_name= \"%s\"%(df)\n",
    "    \n",
    "    address=save_path+'%s/'%(folder)\n",
    "    if not os.path.exists(address):\n",
    "        print(address)\n",
    "        os.makedirs(address)\n",
    "    pd.DataFrame(df).to_csv(Path(address+'%s_%s_cleaned_merged.csv' %(date, df_name)))"
   ]
  },
  {
   "cell_type": "code",
   "execution_count": 9,
   "metadata": {},
   "outputs": [
    {
     "data": {
      "text/plain": [
       "'c:\\\\Users\\\\csfhe\\\\Documents\\\\RA\\\\mimiciii-antibiotics-opensource\\\\notebooks'"
      ]
     },
     "execution_count": 9,
     "metadata": {},
     "output_type": "execute_result"
    },
    {
     "name": "stdout",
     "output_type": "stream",
     "text": [
      "time: 0 ns (started: 2023-07-26 19:23:15 +08:00)\n"
     ]
    }
   ],
   "source": [
    "os.getcwd()"
   ]
  },
  {
   "cell_type": "code",
   "execution_count": 10,
   "metadata": {},
   "outputs": [
    {
     "name": "stderr",
     "output_type": "stream",
     "text": [
      "C:\\Users\\csfhe\\AppData\\Local\\Temp\\ipykernel_16288\\873374919.py:10: DtypeWarning: Columns (4,6) have mixed types. Specify dtype option on import or set low_memory=False.\n",
      "  dfs[name] = pd.read_csv(allFiles[i],  index_col=0)\n",
      "C:\\Users\\csfhe\\AppData\\Local\\Temp\\ipykernel_16288\\873374919.py:10: DtypeWarning: Columns (7) have mixed types. Specify dtype option on import or set low_memory=False.\n",
      "  dfs[name] = pd.read_csv(allFiles[i],  index_col=0)\n"
     ]
    },
    {
     "name": "stdout",
     "output_type": "stream",
     "text": [
      "time: 8.52 s (started: 2023-07-26 19:23:16 +08:00)\n"
     ]
    }
   ],
   "source": [
    "#making a dictionary of all my dataframes for easier cycling through\n",
    "\n",
    "df_list=[]\n",
    "for element in allFiles:\n",
    "    df_list.append(element.split('{}_'.format(date))[1].split('_prepped.csv')[0]) #making an list of all my dataframes in order they appear in file\n",
    "\n",
    "dfs = {}\n",
    "i=0\n",
    "for name in df_list:\n",
    "    dfs[name] = pd.read_csv(allFiles[i],  index_col=0)\n",
    "    i+=1"
   ]
  },
  {
   "cell_type": "code",
   "execution_count": 11,
   "metadata": {},
   "outputs": [
    {
     "data": {
      "text/plain": [
       "21"
      ]
     },
     "execution_count": 11,
     "metadata": {},
     "output_type": "execute_result"
    },
    {
     "name": "stdout",
     "output_type": "stream",
     "text": [
      "time: 0 ns (started: 2023-07-26 19:23:41 +08:00)\n"
     ]
    }
   ],
   "source": [
    "len(dfs) # 24 -> 21"
   ]
  },
  {
   "cell_type": "code",
   "execution_count": 12,
   "metadata": {},
   "outputs": [
    {
     "name": "stdout",
     "output_type": "stream",
     "text": [
      "all_vaso : ['stay_id', 't_0', 'value', 'label', 'uom', 'delta']\n",
      "bg_all : ['subject_id', 'hadm_id', 'stay_id', 'charttime', 'delta', 't_0', 'label', 'valuenum', 'uom']\n",
      "bg_ART : ['delta', 'hadm_id', 'label', 'stay_id', 'subject_id', 't_0', 'uom', 'value']\n",
      "cancer_elix : ['stay_id', 't_0', 'value', 'label', 'uom', 'delta']\n",
      "dobutamine : ['stay_id', 't_0', 'value', 'label', 'uom', 'delta']\n",
      "dopamine : ['stay_id', 't_0', 'value', 'label', 'uom', 'delta']\n",
      "epinephrine : ['stay_id', 't_0', 'value', 'label', 'uom', 'delta']\n",
      "gcs : ['subject_id', 'hadm_id', 'stay_id', 'delta', 'label', 'value', 't_0', 'uom']\n",
      "height : ['stay_id', 'value', 'uom', 'label', 'delta', 't_0']\n",
      "labs : ['subject_id', 'hadm_id', 'stay_id', 'charttime', 'label', 'value', 'uom', 't_0', 'delta']\n",
      "norepinephrine : ['stay_id', 't_0', 'value', 'label', 'uom', 'delta']\n",
      "o2_flow : ['stay_id', 't_0', 'value', 'label', 'uom', 'delta']\n",
      "pfRatio : ['subject_id', 'hadm_id', 'stay_id', 'value', 'delta', 'uom', 'label']\n",
      "phenylephrine : ['stay_id', 't_0', 'value', 'label', 'uom', 'delta']\n",
      "pt_info : ['stay_id', 'subject_id', 't_0', 'label', 'value', 'delta', 'uom']\n",
      "rrt : ['stay_id', 't_0', 'value', 'label', 'uom', 'delta']\n",
      "sum_elix : ['subject_id', 'hadm_id', 'stay_id', 'value', 'label', 'delta', 'uom', 't_0']\n",
      "vasopressin : ['stay_id', 't_0', 'value', 'label', 'uom', 'delta']\n",
      "ventcategory : ['stay_id', 'delta', 'value', 'uom', 't_0', 'label']\n",
      "vitals : ['subject_id', 'hadm_id', 'stay_id', 'charttime', 'uom', 'label', 'value', 't_0', 'delta']\n",
      "weight : ['stay_id', 'value', 'uom', 'label', 'delta', 't_0']\n",
      "time: 0 ns (started: 2023-07-26 19:24:10 +08:00)\n"
     ]
    }
   ],
   "source": [
    "#all of the column names \n",
    "for element in df_list:\n",
    "    print(element,':',list(dfs[element]))"
   ]
  },
  {
   "cell_type": "markdown",
   "metadata": {},
   "source": [
    "## standardizing columns"
   ]
  },
  {
   "cell_type": "markdown",
   "metadata": {},
   "source": [
    "#### adding icustay_id, dropping hadm_id"
   ]
  },
  {
   "cell_type": "code",
   "execution_count": 13,
   "metadata": {},
   "outputs": [
    {
     "name": "stdout",
     "output_type": "stream",
     "text": [
      "time: 313 ms (started: 2023-07-26 19:24:18 +08:00)\n"
     ]
    }
   ],
   "source": [
    "##dropping hadm_id from all:\n",
    "list1=[]\n",
    "for element in df_list:\n",
    "    if 'hadm_id' in (list(dfs[element])):\n",
    "        list1.append(element)\n",
    "\n",
    "for element in list1:\n",
    "    dfs[element]= dfs[element].drop('hadm_id', axis=1)"
   ]
  },
  {
   "cell_type": "code",
   "execution_count": 14,
   "metadata": {},
   "outputs": [
    {
     "name": "stdout",
     "output_type": "stream",
     "text": [
      "time: 297 ms (started: 2023-07-26 19:24:20 +08:00)\n"
     ]
    }
   ],
   "source": [
    "##dropping subject_id from all:\n",
    "list1=[]\n",
    "for element in df_list:\n",
    "    if 'subject_id' in (list(dfs[element])):\n",
    "        list1.append(element)\n",
    "\n",
    "for element in list1:\n",
    "    dfs[element]= dfs[element].drop('subject_id', axis=1)"
   ]
  },
  {
   "cell_type": "code",
   "execution_count": 15,
   "metadata": {},
   "outputs": [
    {
     "name": "stdout",
     "output_type": "stream",
     "text": [
      "all_vaso : ['delta', 'label', 'stay_id', 't_0', 'uom', 'value']\n",
      "bg_all : ['charttime', 'delta', 'label', 'stay_id', 't_0', 'uom', 'valuenum']\n",
      "bg_ART : ['delta', 'label', 'stay_id', 't_0', 'uom', 'value']\n",
      "cancer_elix : ['delta', 'label', 'stay_id', 't_0', 'uom', 'value']\n",
      "dobutamine : ['delta', 'label', 'stay_id', 't_0', 'uom', 'value']\n",
      "dopamine : ['delta', 'label', 'stay_id', 't_0', 'uom', 'value']\n",
      "epinephrine : ['delta', 'label', 'stay_id', 't_0', 'uom', 'value']\n",
      "gcs : ['delta', 'label', 'stay_id', 't_0', 'uom', 'value']\n",
      "height : ['delta', 'label', 'stay_id', 't_0', 'uom', 'value']\n",
      "labs : ['charttime', 'delta', 'label', 'stay_id', 't_0', 'uom', 'value']\n",
      "norepinephrine : ['delta', 'label', 'stay_id', 't_0', 'uom', 'value']\n",
      "o2_flow : ['delta', 'label', 'stay_id', 't_0', 'uom', 'value']\n",
      "pfRatio : ['delta', 'label', 'stay_id', 'uom', 'value']\n",
      "phenylephrine : ['delta', 'label', 'stay_id', 't_0', 'uom', 'value']\n",
      "pt_info : ['delta', 'label', 'stay_id', 't_0', 'uom', 'value']\n",
      "rrt : ['delta', 'label', 'stay_id', 't_0', 'uom', 'value']\n",
      "sum_elix : ['delta', 'label', 'stay_id', 't_0', 'uom', 'value']\n",
      "vasopressin : ['delta', 'label', 'stay_id', 't_0', 'uom', 'value']\n",
      "ventcategory : ['delta', 'label', 'stay_id', 't_0', 'uom', 'value']\n",
      "vitals : ['charttime', 'delta', 'label', 'stay_id', 't_0', 'uom', 'value']\n",
      "weight : ['delta', 'label', 'stay_id', 't_0', 'uom', 'value']\n",
      "time: 0 ns (started: 2023-07-26 19:24:25 +08:00)\n"
     ]
    }
   ],
   "source": [
    "#all of the column names \n",
    "for element in df_list:\n",
    "    print(element,':',sorted(list(dfs[element])))"
   ]
  },
  {
   "cell_type": "code",
   "execution_count": 16,
   "metadata": {},
   "outputs": [
    {
     "name": "stdout",
     "output_type": "stream",
     "text": [
      "time: 250 ms (started: 2023-07-26 19:25:37 +08:00)\n"
     ]
    }
   ],
   "source": [
    "#dropping charttime, endtime and first_charttime\n",
    "list1=[]\n",
    "list2=[]\n",
    "for element in df_list:\n",
    "    if 'charttime' in (list(dfs[element])):\n",
    "        list1.append(element)\n",
    "    if 'endtime' in (list(dfs[element])):\n",
    "        list2.append(element)\n",
    "\n",
    "for element in list1:\n",
    "    dfs[element]= dfs[element].drop('charttime', axis=1)\n",
    "\n",
    "for element in list2:\n",
    "    dfs[element]= dfs[element].drop('endtime', axis=1)\n",
    "    \n",
    "#dfs['rrt']= dfs['rrt'].drop('first_charttime', axis=1)"
   ]
  },
  {
   "cell_type": "code",
   "execution_count": 17,
   "metadata": {},
   "outputs": [
    {
     "name": "stdout",
     "output_type": "stream",
     "text": [
      "time: 94 ms (started: 2023-07-26 19:25:39 +08:00)\n"
     ]
    }
   ],
   "source": [
    "#converting valuenum and value to same label\n",
    "list1=[]\n",
    "\n",
    "for element in df_list:\n",
    "    if 'valuenum' in (list(dfs[element])):\n",
    "        list1.append(element)\n",
    "\n",
    "for element in list1:\n",
    "    dfs[element]= dfs[element].rename(index=str, columns={'valuenum':'value'})\n"
   ]
  },
  {
   "cell_type": "code",
   "execution_count": 18,
   "metadata": {},
   "outputs": [
    {
     "name": "stdout",
     "output_type": "stream",
     "text": [
      "time: 0 ns (started: 2023-07-26 19:25:42 +08:00)\n"
     ]
    }
   ],
   "source": [
    "del(list1,list2)"
   ]
  },
  {
   "cell_type": "code",
   "execution_count": 19,
   "metadata": {},
   "outputs": [
    {
     "name": "stdout",
     "output_type": "stream",
     "text": [
      "time: 0 ns (started: 2023-07-26 19:25:44 +08:00)\n"
     ]
    }
   ],
   "source": [
    "def label_lower(df_name):\n",
    "    dfs[df_name]['label']= dfs[df_name]['label'].apply(lambda x: x.lower())"
   ]
  },
  {
   "cell_type": "code",
   "execution_count": 20,
   "metadata": {},
   "outputs": [
    {
     "name": "stdout",
     "output_type": "stream",
     "text": [
      "time: 1.2 s (started: 2023-07-26 19:25:46 +08:00)\n"
     ]
    }
   ],
   "source": [
    "#turning all labels to lowercase\n",
    "for element in df_list:\n",
    "    label_lower(element)\n"
   ]
  },
  {
   "cell_type": "code",
   "execution_count": 22,
   "metadata": {},
   "outputs": [
    {
     "name": "stdout",
     "output_type": "stream",
     "text": [
      "time: 1.16 s (started: 2023-07-26 19:25:58 +08:00)\n"
     ]
    }
   ],
   "source": [
    "#adding a df source table label to each df. \n",
    "for element in df_list:\n",
    "    dfs[element]['source']=element\n",
    "\n",
    "#adding a patient id to each\n",
    "\n",
    "for element in df_list:\n",
    "    dfs[element]= pd.merge(dfs[element], final_pt_df2[['stay_id','subject_id']], how='left')\n",
    "    "
   ]
  },
  {
   "cell_type": "code",
   "execution_count": 23,
   "metadata": {},
   "outputs": [
    {
     "name": "stdout",
     "output_type": "stream",
     "text": [
      "all_vaso : ['delta', 'label', 'source', 'stay_id', 'subject_id', 't_0', 'uom', 'value']\n",
      "bg_all : ['delta', 'label', 'source', 'stay_id', 'subject_id', 't_0', 'uom', 'value']\n",
      "bg_ART : ['delta', 'label', 'source', 'stay_id', 'subject_id', 't_0', 'uom', 'value']\n",
      "cancer_elix : ['delta', 'label', 'source', 'stay_id', 'subject_id', 't_0', 'uom', 'value']\n",
      "dobutamine : ['delta', 'label', 'source', 'stay_id', 'subject_id', 't_0', 'uom', 'value']\n",
      "dopamine : ['delta', 'label', 'source', 'stay_id', 'subject_id', 't_0', 'uom', 'value']\n",
      "epinephrine : ['delta', 'label', 'source', 'stay_id', 'subject_id', 't_0', 'uom', 'value']\n",
      "gcs : ['delta', 'label', 'source', 'stay_id', 'subject_id', 't_0', 'uom', 'value']\n",
      "height : ['delta', 'label', 'source', 'stay_id', 'subject_id', 't_0', 'uom', 'value']\n",
      "labs : ['delta', 'label', 'source', 'stay_id', 'subject_id', 't_0', 'uom', 'value']\n",
      "norepinephrine : ['delta', 'label', 'source', 'stay_id', 'subject_id', 't_0', 'uom', 'value']\n",
      "o2_flow : ['delta', 'label', 'source', 'stay_id', 'subject_id', 't_0', 'uom', 'value']\n",
      "pfRatio : ['delta', 'label', 'source', 'stay_id', 'subject_id', 'uom', 'value']\n",
      "phenylephrine : ['delta', 'label', 'source', 'stay_id', 'subject_id', 't_0', 'uom', 'value']\n",
      "pt_info : ['delta', 'label', 'source', 'stay_id', 'subject_id', 't_0', 'uom', 'value']\n",
      "rrt : ['delta', 'label', 'source', 'stay_id', 'subject_id', 't_0', 'uom', 'value']\n",
      "sum_elix : ['delta', 'label', 'source', 'stay_id', 'subject_id', 't_0', 'uom', 'value']\n",
      "vasopressin : ['delta', 'label', 'source', 'stay_id', 'subject_id', 't_0', 'uom', 'value']\n",
      "ventcategory : ['delta', 'label', 'source', 'stay_id', 'subject_id', 't_0', 'uom', 'value']\n",
      "vitals : ['delta', 'label', 'source', 'stay_id', 'subject_id', 't_0', 'uom', 'value']\n",
      "weight : ['delta', 'label', 'source', 'stay_id', 'subject_id', 't_0', 'uom', 'value']\n",
      "time: 0 ns (started: 2023-07-26 19:26:01 +08:00)\n"
     ]
    }
   ],
   "source": [
    "#all of the column names \n",
    "for element in df_list:\n",
    "    print(element,':',sorted(list(dfs[element])))"
   ]
  },
  {
   "cell_type": "code",
   "execution_count": 25,
   "metadata": {},
   "outputs": [
    {
     "name": "stdout",
     "output_type": "stream",
     "text": [
      "all_vaso column that dont belong: []\n",
      "all_vaso column that are missing: []\n",
      "bg_all column that dont belong: []\n",
      "bg_all column that are missing: []\n",
      "bg_ART column that dont belong: []\n",
      "bg_ART column that are missing: []\n",
      "cancer_elix column that dont belong: []\n",
      "cancer_elix column that are missing: []\n",
      "dobutamine column that dont belong: []\n",
      "dobutamine column that are missing: []\n",
      "dopamine column that dont belong: []\n",
      "dopamine column that are missing: []\n",
      "epinephrine column that dont belong: []\n",
      "epinephrine column that are missing: []\n",
      "gcs column that dont belong: []\n",
      "gcs column that are missing: []\n",
      "height column that dont belong: []\n",
      "height column that are missing: []\n",
      "labs column that dont belong: []\n",
      "labs column that are missing: []\n",
      "norepinephrine column that dont belong: []\n",
      "norepinephrine column that are missing: []\n",
      "o2_flow column that dont belong: []\n",
      "o2_flow column that are missing: []\n",
      "pfRatio column that dont belong: []\n",
      "pfRatio column that are missing: ['t_0']\n",
      "phenylephrine column that dont belong: []\n",
      "phenylephrine column that are missing: []\n",
      "pt_info column that dont belong: []\n",
      "pt_info column that are missing: []\n",
      "rrt column that dont belong: []\n",
      "rrt column that are missing: []\n",
      "sum_elix column that dont belong: []\n",
      "sum_elix column that are missing: []\n",
      "vasopressin column that dont belong: []\n",
      "vasopressin column that are missing: []\n",
      "ventcategory column that dont belong: []\n",
      "ventcategory column that are missing: []\n",
      "vitals column that dont belong: []\n",
      "vitals column that are missing: []\n",
      "weight column that dont belong: []\n",
      "weight column that are missing: []\n",
      "time: 0 ns (started: 2023-07-26 19:26:39 +08:00)\n"
     ]
    }
   ],
   "source": [
    "for element in df_list:\n",
    "    print(element,'column that dont belong:', [x for x in list(dfs[element]) if x not in ['delta', 'stay_id', 'label', 'source', 'subject_id', 't_0', 'uom', 'value']])\n",
    "    print(element,'column that are missing:',[x for x in ['delta', 'stay_id', 'label', 'source', 'subject_id', 't_0', 'uom', 'value'] if x not in list(dfs[element])])"
   ]
  },
  {
   "cell_type": "code",
   "execution_count": 26,
   "metadata": {},
   "outputs": [
    {
     "data": {
      "text/plain": [
       "count                        26471\n",
       "mean     0 days 01:35:13.708586755\n",
       "std      0 days 04:07:46.276158603\n",
       "min                0 days 00:00:00\n",
       "25%                0 days 00:00:00\n",
       "50%                0 days 00:00:00\n",
       "75%                0 days 00:00:00\n",
       "max                1 days 00:00:00\n",
       "Name: delta, dtype: object"
      ]
     },
     "execution_count": 26,
     "metadata": {},
     "output_type": "execute_result"
    },
    {
     "name": "stdout",
     "output_type": "stream",
     "text": [
      "time: 78 ms (started: 2023-07-26 19:26:46 +08:00)\n"
     ]
    }
   ],
   "source": [
    "pd.to_timedelta(dfs['norepinephrine']['delta']).describe()"
   ]
  },
  {
   "cell_type": "markdown",
   "metadata": {},
   "source": [
    "# converting data formats"
   ]
  },
  {
   "cell_type": "markdown",
   "metadata": {},
   "source": [
    "### looking at measured values (quick qc)"
   ]
  },
  {
   "cell_type": "code",
   "execution_count": 28,
   "metadata": {},
   "outputs": [
    {
     "data": {
      "text/plain": [
       "21"
      ]
     },
     "execution_count": 28,
     "metadata": {},
     "output_type": "execute_result"
    },
    {
     "name": "stdout",
     "output_type": "stream",
     "text": [
      "time: 16 ms (started: 2023-07-26 19:26:54 +08:00)\n"
     ]
    }
   ],
   "source": [
    "len(df_list)"
   ]
  },
  {
   "cell_type": "code",
   "execution_count": 29,
   "metadata": {},
   "outputs": [
    {
     "name": "stdout",
     "output_type": "stream",
     "text": [
      "time: 0 ns (started: 2023-07-26 19:26:57 +08:00)\n"
     ]
    }
   ],
   "source": [
    "def value_viewer(df_name):\n",
    "    return(dfs[df_name]['label'].unique())"
   ]
  },
  {
   "cell_type": "code",
   "execution_count": 30,
   "metadata": {},
   "outputs": [
    {
     "data": {
      "text/plain": [
       "array(['po2', 'pco2'], dtype=object)"
      ]
     },
     "execution_count": 30,
     "metadata": {},
     "output_type": "execute_result"
    },
    {
     "name": "stdout",
     "output_type": "stream",
     "text": [
      "time: 0 ns (started: 2023-07-26 19:27:03 +08:00)\n"
     ]
    }
   ],
   "source": [
    "value_viewer('bg_ART')"
   ]
  },
  {
   "cell_type": "code",
   "execution_count": 31,
   "metadata": {},
   "outputs": [
    {
     "data": {
      "text/plain": [
       "array(['lactate', 'ph', 'fio2', 'temperature', 'calcium', 'hemoglobin',\n",
       "       'glucose', 'chloride', 'potassium', 'sodium', 'bicarbonate'],\n",
       "      dtype=object)"
      ]
     },
     "execution_count": 31,
     "metadata": {},
     "output_type": "execute_result"
    },
    {
     "name": "stdout",
     "output_type": "stream",
     "text": [
      "time: 15 ms (started: 2023-07-26 19:27:11 +08:00)\n"
     ]
    }
   ],
   "source": [
    "value_viewer('bg_all')"
   ]
  },
  {
   "cell_type": "code",
   "execution_count": 27,
   "metadata": {},
   "outputs": [
    {
     "name": "stdout",
     "output_type": "stream",
     "text": [
      "time: 963 µs\n"
     ]
    }
   ],
   "source": [
    "#value_viewer('uti')"
   ]
  },
  {
   "cell_type": "code",
   "execution_count": 32,
   "metadata": {},
   "outputs": [
    {
     "data": {
      "text/plain": [
       "array(['hemoglobin', 'platelet', 'wbc', 'bicarbonate', 'bilirubin',\n",
       "       'chloride', 'creatinine', 'glucose', 'potassium', 'sodium', 'bun',\n",
       "       'lactate', 'inr', 'ptt', 'bands'], dtype=object)"
      ]
     },
     "execution_count": 32,
     "metadata": {},
     "output_type": "execute_result"
    },
    {
     "name": "stdout",
     "output_type": "stream",
     "text": [
      "time: 47 ms (started: 2023-07-26 19:27:19 +08:00)\n"
     ]
    }
   ],
   "source": [
    "value_viewer('labs')\n"
   ]
  },
  {
   "cell_type": "code",
   "execution_count": 33,
   "metadata": {},
   "outputs": [
    {
     "data": {
      "text/plain": [
       "array(['resprate', 'temperature', 'heartrate', 'spo2', 'sysbp', 'diasbp',\n",
       "       'meanartpress', 'glucose'], dtype=object)"
      ]
     },
     "execution_count": 33,
     "metadata": {},
     "output_type": "execute_result"
    },
    {
     "name": "stdout",
     "output_type": "stream",
     "text": [
      "time: 219 ms (started: 2023-07-26 19:27:22 +08:00)\n"
     ]
    }
   ],
   "source": [
    "value_viewer('vitals')"
   ]
  },
  {
   "cell_type": "code",
   "execution_count": 34,
   "metadata": {},
   "outputs": [
    {
     "data": {
      "text/plain": [
       "array(['yearsold', 'gender', 'race'], dtype=object)"
      ]
     },
     "execution_count": 34,
     "metadata": {},
     "output_type": "execute_result"
    },
    {
     "name": "stdout",
     "output_type": "stream",
     "text": [
      "time: 16 ms (started: 2023-07-26 19:27:25 +08:00)\n"
     ]
    }
   ],
   "source": [
    "value_viewer('pt_info')"
   ]
  },
  {
   "cell_type": "code",
   "execution_count": 35,
   "metadata": {},
   "outputs": [
    {
     "data": {
      "text/plain": [
       "['all_vaso',\n",
       " 'bg_all',\n",
       " 'bg_ART',\n",
       " 'cancer_elix',\n",
       " 'dobutamine',\n",
       " 'dopamine',\n",
       " 'epinephrine',\n",
       " 'gcs',\n",
       " 'height',\n",
       " 'labs',\n",
       " 'norepinephrine',\n",
       " 'o2_flow',\n",
       " 'pfRatio',\n",
       " 'phenylephrine',\n",
       " 'pt_info',\n",
       " 'rrt',\n",
       " 'sum_elix',\n",
       " 'vasopressin',\n",
       " 'ventcategory',\n",
       " 'vitals',\n",
       " 'weight']"
      ]
     },
     "execution_count": 35,
     "metadata": {},
     "output_type": "execute_result"
    },
    {
     "name": "stdout",
     "output_type": "stream",
     "text": [
      "time: 0 ns (started: 2023-07-26 19:27:28 +08:00)\n"
     ]
    }
   ],
   "source": [
    "list(dfs)"
   ]
  },
  {
   "cell_type": "markdown",
   "metadata": {},
   "source": [
    "# combining data"
   ]
  },
  {
   "cell_type": "code",
   "execution_count": 36,
   "metadata": {},
   "outputs": [
    {
     "data": {
      "text/plain": [
       "{'bicarbonate',\n",
       " 'chloride',\n",
       " 'glucose',\n",
       " 'hemoglobin',\n",
       " 'lactate',\n",
       " 'potassium',\n",
       " 'sodium'}"
      ]
     },
     "execution_count": 36,
     "metadata": {},
     "output_type": "execute_result"
    },
    {
     "name": "stdout",
     "output_type": "stream",
     "text": [
      "time: 78 ms (started: 2023-07-26 19:27:33 +08:00)\n"
     ]
    }
   ],
   "source": [
    "set(value_viewer('labs')) & set(value_viewer('bg_all'))"
   ]
  },
  {
   "cell_type": "code",
   "execution_count": 37,
   "metadata": {},
   "outputs": [
    {
     "data": {
      "text/plain": [
       "{'glucose'}"
      ]
     },
     "execution_count": 37,
     "metadata": {},
     "output_type": "execute_result"
    },
    {
     "name": "stdout",
     "output_type": "stream",
     "text": [
      "time: 265 ms (started: 2023-07-26 19:27:36 +08:00)\n"
     ]
    }
   ],
   "source": [
    "set(value_viewer('labs')) & set(value_viewer('vitals'))"
   ]
  },
  {
   "cell_type": "code",
   "execution_count": 38,
   "metadata": {},
   "outputs": [
    {
     "data": {
      "text/plain": [
       "{'glucose', 'temperature'}"
      ]
     },
     "execution_count": 38,
     "metadata": {},
     "output_type": "execute_result"
    },
    {
     "name": "stdout",
     "output_type": "stream",
     "text": [
      "time: 235 ms (started: 2023-07-26 19:27:38 +08:00)\n"
     ]
    }
   ],
   "source": [
    "set(value_viewer('bg_all')) & set(value_viewer('vitals'))"
   ]
  },
  {
   "cell_type": "markdown",
   "metadata": {},
   "source": [
    "# combining all df"
   ]
  },
  {
   "cell_type": "code",
   "execution_count": 45,
   "metadata": {},
   "outputs": [
    {
     "name": "stdout",
     "output_type": "stream",
     "text": [
      "Collecting datetime\n",
      "  Obtaining dependency information for datetime from https://files.pythonhosted.org/packages/95/88/3b9d4042b396221a132180b392ab2a174031a6fb579f7927f3909fc183a7/DateTime-5.2-py3-none-any.whl.metadata\n",
      "  Downloading DateTime-5.2-py3-none-any.whl.metadata (33 kB)\n",
      "Collecting zope.interface (from datetime)\n",
      "  Downloading zope.interface-6.0-cp38-cp38-win_amd64.whl (204 kB)\n",
      "     ------------------------------------- 204.1/204.1 kB 12.1 MB/s eta 0:00:00\n",
      "Requirement already satisfied: pytz in c:\\users\\csfhe\\documents\\anaconda\\envs\\serena\\lib\\site-packages (from datetime) (2023.3)\n",
      "Requirement already satisfied: setuptools in c:\\users\\csfhe\\documents\\anaconda\\envs\\serena\\lib\\site-packages (from zope.interface->datetime) (67.8.0)\n",
      "Downloading DateTime-5.2-py3-none-any.whl (52 kB)\n",
      "   ---------------------------------------- 52.2/52.2 kB 2.8 MB/s eta 0:00:00\n",
      "Installing collected packages: zope.interface, datetime\n",
      "Successfully installed datetime-5.2 zope.interface-6.0\n",
      "time: 3.19 s (started: 2023-07-26 19:34:26 +08:00)\n"
     ]
    }
   ],
   "source": [
    "!pip install datetime "
   ]
  },
  {
   "cell_type": "code",
   "execution_count": 48,
   "metadata": {},
   "outputs": [
    {
     "name": "stdout",
     "output_type": "stream",
     "text": [
      "time: 0 ns (started: 2023-07-26 19:36:09 +08:00)\n"
     ]
    }
   ],
   "source": [
    "from datetime import datetime"
   ]
  },
  {
   "cell_type": "code",
   "execution_count": 49,
   "metadata": {},
   "outputs": [
    {
     "ename": "TypeError",
     "evalue": "fromisoformat: argument must be str",
     "output_type": "error",
     "traceback": [
      "\u001b[1;31m---------------------------------------------------------------------------\u001b[0m",
      "\u001b[1;31mTypeError\u001b[0m                                 Traceback (most recent call last)",
      "Cell \u001b[1;32mIn[49], line 5\u001b[0m\n\u001b[0;32m      3\u001b[0m \u001b[39m#converting delta to time delta, to datetime rounded to 2 minutes, and back to time delta (more efficient than rounding timedeltas)\u001b[39;00m\n\u001b[0;32m      4\u001b[0m big_df[\u001b[39m'\u001b[39m\u001b[39mdelta\u001b[39m\u001b[39m'\u001b[39m]\u001b[39m=\u001b[39m pd\u001b[39m.\u001b[39mto_timedelta(big_df[\u001b[39m'\u001b[39m\u001b[39mdelta\u001b[39m\u001b[39m'\u001b[39m])\n\u001b[1;32m----> 5\u001b[0m big_df[\u001b[39m'\u001b[39m\u001b[39mdelta\u001b[39m\u001b[39m'\u001b[39m]\u001b[39m=\u001b[39m datetime\u001b[39m.\u001b[39;49mfromisoformat(big_df[\u001b[39m'\u001b[39;49m\u001b[39mdelta\u001b[39;49m\u001b[39m'\u001b[39;49m])\u001b[39m.\u001b[39mdt\u001b[39m.\u001b[39mround(\u001b[39m'\u001b[39m\u001b[39m2min\u001b[39m\u001b[39m'\u001b[39m)\n\u001b[0;32m      6\u001b[0m \u001b[39m#big_df['delta']= pd.to_datetime(big_df['delta']).dt.round('2min')\u001b[39;00m\n\u001b[0;32m      7\u001b[0m big_df[\u001b[39m'\u001b[39m\u001b[39mdelta\u001b[39m\u001b[39m'\u001b[39m]\u001b[39m=\u001b[39m pd\u001b[39m.\u001b[39mto_timedelta(big_df[\u001b[39m'\u001b[39m\u001b[39mdelta\u001b[39m\u001b[39m'\u001b[39m])\n",
      "\u001b[1;31mTypeError\u001b[0m: fromisoformat: argument must be str"
     ]
    },
    {
     "name": "stdout",
     "output_type": "stream",
     "text": [
      "time: 20.3 s (started: 2023-07-26 19:36:27 +08:00)\n"
     ]
    }
   ],
   "source": [
    "# making one big dataframe via pd. concat\n",
    "big_df= pd.concat(dfs.values(), sort=False).sort_values(['stay_id','delta','label','source'], ascending=True)\n",
    "#converting delta to time delta, to datetime rounded to 2 minutes, and back to time delta (more efficient than rounding timedeltas)\n",
    "big_df['delta']= pd.to_timedelta(big_df['delta'])\n",
    "big_df['delta']= pd.to_datetime(big_df['delta']).dt.round('2min')\n",
    "big_df['delta']= pd.to_timedelta(big_df['delta'])\n",
    "#datetime.fromisoformat"
   ]
  },
  {
   "cell_type": "code",
   "execution_count": 50,
   "metadata": {},
   "outputs": [
    {
     "data": {
      "text/plain": [
       "5959148"
      ]
     },
     "execution_count": 50,
     "metadata": {},
     "output_type": "execute_result"
    },
    {
     "name": "stdout",
     "output_type": "stream",
     "text": [
      "time: 0 ns (started: 2023-07-26 19:37:22 +08:00)\n"
     ]
    }
   ],
   "source": [
    "len(big_df)"
   ]
  },
  {
   "cell_type": "code",
   "execution_count": 53,
   "metadata": {},
   "outputs": [
    {
     "name": "stdout",
     "output_type": "stream",
     "text": [
      "time: 2.94 s (started: 2023-07-26 19:38:53 +08:00)\n"
     ]
    }
   ],
   "source": [
    "big_df.drop_duplicates(subset=['stay_id','label','value','delta',], keep='last', inplace=True) #5959148  -> 5824186 at 2 min. "
   ]
  },
  {
   "cell_type": "code",
   "execution_count": 54,
   "metadata": {},
   "outputs": [
    {
     "data": {
      "text/plain": [
       "5824186"
      ]
     },
     "execution_count": 54,
     "metadata": {},
     "output_type": "execute_result"
    },
    {
     "name": "stdout",
     "output_type": "stream",
     "text": [
      "time: 0 ns (started: 2023-07-26 19:39:02 +08:00)\n"
     ]
    }
   ],
   "source": [
    "len(big_df)"
   ]
  },
  {
   "cell_type": "code",
   "execution_count": 40,
   "metadata": {},
   "outputs": [
    {
     "name": "stdout",
     "output_type": "stream",
     "text": [
      "time: 429 µs\n"
     ]
    }
   ],
   "source": [
    "#big_df['sum_elix']"
   ]
  },
  {
   "cell_type": "code",
   "execution_count": 55,
   "metadata": {},
   "outputs": [
    {
     "data": {
      "text/html": [
       "<div>\n",
       "<style scoped>\n",
       "    .dataframe tbody tr th:only-of-type {\n",
       "        vertical-align: middle;\n",
       "    }\n",
       "\n",
       "    .dataframe tbody tr th {\n",
       "        vertical-align: top;\n",
       "    }\n",
       "\n",
       "    .dataframe thead th {\n",
       "        text-align: right;\n",
       "    }\n",
       "</style>\n",
       "<table border=\"1\" class=\"dataframe\">\n",
       "  <thead>\n",
       "    <tr style=\"text-align: right;\">\n",
       "      <th></th>\n",
       "      <th>count</th>\n",
       "      <th>unique</th>\n",
       "      <th>top</th>\n",
       "      <th>freq</th>\n",
       "    </tr>\n",
       "    <tr>\n",
       "      <th>label</th>\n",
       "      <th></th>\n",
       "      <th></th>\n",
       "      <th></th>\n",
       "      <th></th>\n",
       "    </tr>\n",
       "  </thead>\n",
       "  <tbody>\n",
       "    <tr>\n",
       "      <th>any_vasoactives</th>\n",
       "      <td>26471.0</td>\n",
       "      <td>2.0</td>\n",
       "      <td>0.0</td>\n",
       "      <td>17954.0</td>\n",
       "    </tr>\n",
       "    <tr>\n",
       "      <th>bands</th>\n",
       "      <td>26471</td>\n",
       "      <td>3</td>\n",
       "      <td>absent</td>\n",
       "      <td>24174</td>\n",
       "    </tr>\n",
       "    <tr>\n",
       "      <th>bicarbonate</th>\n",
       "      <td>52064.0</td>\n",
       "      <td>96.0</td>\n",
       "      <td>23.0</td>\n",
       "      <td>4217.0</td>\n",
       "    </tr>\n",
       "    <tr>\n",
       "      <th>bilirubin</th>\n",
       "      <td>17670.0</td>\n",
       "      <td>606.0</td>\n",
       "      <td>0.3</td>\n",
       "      <td>1261.0</td>\n",
       "    </tr>\n",
       "    <tr>\n",
       "      <th>bun</th>\n",
       "      <td>51727.0</td>\n",
       "      <td>334.0</td>\n",
       "      <td>14.0</td>\n",
       "      <td>1524.0</td>\n",
       "    </tr>\n",
       "    <tr>\n",
       "      <th>calcium</th>\n",
       "      <td>29730.0</td>\n",
       "      <td>182.0</td>\n",
       "      <td>1.13</td>\n",
       "      <td>1419.0</td>\n",
       "    </tr>\n",
       "    <tr>\n",
       "      <th>cancer_elix</th>\n",
       "      <td>26471.0</td>\n",
       "      <td>2.0</td>\n",
       "      <td>0.0</td>\n",
       "      <td>24097.0</td>\n",
       "    </tr>\n",
       "    <tr>\n",
       "      <th>chloride</th>\n",
       "      <td>59207.0</td>\n",
       "      <td>137.0</td>\n",
       "      <td>106.0</td>\n",
       "      <td>3564.0</td>\n",
       "    </tr>\n",
       "    <tr>\n",
       "      <th>creatinine</th>\n",
       "      <td>51881.0</td>\n",
       "      <td>277.0</td>\n",
       "      <td>0.7</td>\n",
       "      <td>3683.0</td>\n",
       "    </tr>\n",
       "    <tr>\n",
       "      <th>diasbp</th>\n",
       "      <td>659412.0</td>\n",
       "      <td>201.0</td>\n",
       "      <td>55.0</td>\n",
       "      <td>21092.0</td>\n",
       "    </tr>\n",
       "    <tr>\n",
       "      <th>dobutamine</th>\n",
       "      <td>26471.0</td>\n",
       "      <td>2.0</td>\n",
       "      <td>0.0</td>\n",
       "      <td>26102.0</td>\n",
       "    </tr>\n",
       "    <tr>\n",
       "      <th>dopamine</th>\n",
       "      <td>26471.0</td>\n",
       "      <td>2.0</td>\n",
       "      <td>0.0</td>\n",
       "      <td>25917.0</td>\n",
       "    </tr>\n",
       "    <tr>\n",
       "      <th>epinephrine</th>\n",
       "      <td>26471.0</td>\n",
       "      <td>2.0</td>\n",
       "      <td>0.0</td>\n",
       "      <td>25560.0</td>\n",
       "    </tr>\n",
       "    <tr>\n",
       "      <th>fio2</th>\n",
       "      <td>9128.0</td>\n",
       "      <td>63.0</td>\n",
       "      <td>50.0</td>\n",
       "      <td>2609.0</td>\n",
       "    </tr>\n",
       "    <tr>\n",
       "      <th>gender</th>\n",
       "      <td>26471</td>\n",
       "      <td>2</td>\n",
       "      <td>M</td>\n",
       "      <td>14827</td>\n",
       "    </tr>\n",
       "    <tr>\n",
       "      <th>glucose</th>\n",
       "      <td>153979.0</td>\n",
       "      <td>1045.0</td>\n",
       "      <td>112.0</td>\n",
       "      <td>1587.0</td>\n",
       "    </tr>\n",
       "    <tr>\n",
       "      <th>heartrate</th>\n",
       "      <td>669569.0</td>\n",
       "      <td>189.0</td>\n",
       "      <td>80.0</td>\n",
       "      <td>20870.0</td>\n",
       "    </tr>\n",
       "    <tr>\n",
       "      <th>height</th>\n",
       "      <td>13612.0</td>\n",
       "      <td>94.0</td>\n",
       "      <td>178.0</td>\n",
       "      <td>1303.0</td>\n",
       "    </tr>\n",
       "    <tr>\n",
       "      <th>hemoglobin</th>\n",
       "      <td>58476.0</td>\n",
       "      <td>276.0</td>\n",
       "      <td>9.4</td>\n",
       "      <td>1125.0</td>\n",
       "    </tr>\n",
       "    <tr>\n",
       "      <th>inr</th>\n",
       "      <td>34835.0</td>\n",
       "      <td>205.0</td>\n",
       "      <td>1.2</td>\n",
       "      <td>4738.0</td>\n",
       "    </tr>\n",
       "    <tr>\n",
       "      <th>lactate</th>\n",
       "      <td>49391.0</td>\n",
       "      <td>441.0</td>\n",
       "      <td>1.2</td>\n",
       "      <td>1942.0</td>\n",
       "    </tr>\n",
       "    <tr>\n",
       "      <th>meanartpress</th>\n",
       "      <td>692316.0</td>\n",
       "      <td>301.0</td>\n",
       "      <td>70.0</td>\n",
       "      <td>22189.0</td>\n",
       "    </tr>\n",
       "    <tr>\n",
       "      <th>mingcs</th>\n",
       "      <td>5841.0</td>\n",
       "      <td>13.0</td>\n",
       "      <td>15.0</td>\n",
       "      <td>1862.0</td>\n",
       "    </tr>\n",
       "    <tr>\n",
       "      <th>norepinephrine</th>\n",
       "      <td>26471.0</td>\n",
       "      <td>2.0</td>\n",
       "      <td>0.0</td>\n",
       "      <td>20794.0</td>\n",
       "    </tr>\n",
       "    <tr>\n",
       "      <th>o2_flow</th>\n",
       "      <td>26471.0</td>\n",
       "      <td>2.0</td>\n",
       "      <td>0.0</td>\n",
       "      <td>25544.0</td>\n",
       "    </tr>\n",
       "    <tr>\n",
       "      <th>pao2fio2ratio</th>\n",
       "      <td>123149.0</td>\n",
       "      <td>627.0</td>\n",
       "      <td>476.0</td>\n",
       "      <td>16055.0</td>\n",
       "    </tr>\n",
       "    <tr>\n",
       "      <th>pco2</th>\n",
       "      <td>26471</td>\n",
       "      <td>3</td>\n",
       "      <td>&lt;50</td>\n",
       "      <td>12033</td>\n",
       "    </tr>\n",
       "    <tr>\n",
       "      <th>ph</th>\n",
       "      <td>63133.0</td>\n",
       "      <td>105.0</td>\n",
       "      <td>7.38</td>\n",
       "      <td>3092.0</td>\n",
       "    </tr>\n",
       "    <tr>\n",
       "      <th>phenylephrine</th>\n",
       "      <td>26471.0</td>\n",
       "      <td>2.0</td>\n",
       "      <td>0.0</td>\n",
       "      <td>22828.0</td>\n",
       "    </tr>\n",
       "    <tr>\n",
       "      <th>platelet</th>\n",
       "      <td>50158.0</td>\n",
       "      <td>1359.0</td>\n",
       "      <td>100.0</td>\n",
       "      <td>246.0</td>\n",
       "    </tr>\n",
       "    <tr>\n",
       "      <th>po2</th>\n",
       "      <td>59231</td>\n",
       "      <td>549</td>\n",
       "      <td>83.0</td>\n",
       "      <td>568</td>\n",
       "    </tr>\n",
       "    <tr>\n",
       "      <th>potassium</th>\n",
       "      <td>72806.0</td>\n",
       "      <td>155.0</td>\n",
       "      <td>4.0</td>\n",
       "      <td>4481.0</td>\n",
       "    </tr>\n",
       "    <tr>\n",
       "      <th>ptt</th>\n",
       "      <td>36266.0</td>\n",
       "      <td>1809.0</td>\n",
       "      <td>150.0</td>\n",
       "      <td>895.0</td>\n",
       "    </tr>\n",
       "    <tr>\n",
       "      <th>race</th>\n",
       "      <td>26471</td>\n",
       "      <td>5</td>\n",
       "      <td>white/nonhispanic</td>\n",
       "      <td>18314</td>\n",
       "    </tr>\n",
       "    <tr>\n",
       "      <th>resprate</th>\n",
       "      <td>703456.0</td>\n",
       "      <td>66.0</td>\n",
       "      <td>18.0</td>\n",
       "      <td>55945.0</td>\n",
       "    </tr>\n",
       "    <tr>\n",
       "      <th>rrt</th>\n",
       "      <td>26471.0</td>\n",
       "      <td>2.0</td>\n",
       "      <td>0.0</td>\n",
       "      <td>24251.0</td>\n",
       "    </tr>\n",
       "    <tr>\n",
       "      <th>sodium</th>\n",
       "      <td>62428.0</td>\n",
       "      <td>140.0</td>\n",
       "      <td>138.0</td>\n",
       "      <td>4874.0</td>\n",
       "    </tr>\n",
       "    <tr>\n",
       "      <th>spo2</th>\n",
       "      <td>654983.0</td>\n",
       "      <td>100.0</td>\n",
       "      <td>100.0</td>\n",
       "      <td>151087.0</td>\n",
       "    </tr>\n",
       "    <tr>\n",
       "      <th>sum_elix</th>\n",
       "      <td>29671.0</td>\n",
       "      <td>14.0</td>\n",
       "      <td>0.0</td>\n",
       "      <td>21788.0</td>\n",
       "    </tr>\n",
       "    <tr>\n",
       "      <th>sysbp</th>\n",
       "      <td>659781.0</td>\n",
       "      <td>247.0</td>\n",
       "      <td>104.0</td>\n",
       "      <td>13771.0</td>\n",
       "    </tr>\n",
       "    <tr>\n",
       "      <th>temperature</th>\n",
       "      <td>203624.0</td>\n",
       "      <td>350.0</td>\n",
       "      <td>36.666667</td>\n",
       "      <td>7675.0</td>\n",
       "    </tr>\n",
       "    <tr>\n",
       "      <th>vasopressin</th>\n",
       "      <td>26471.0</td>\n",
       "      <td>2.0</td>\n",
       "      <td>0.0</td>\n",
       "      <td>26470.0</td>\n",
       "    </tr>\n",
       "    <tr>\n",
       "      <th>vent_recieved</th>\n",
       "      <td>22444</td>\n",
       "      <td>2</td>\n",
       "      <td>Mech</td>\n",
       "      <td>12330</td>\n",
       "    </tr>\n",
       "    <tr>\n",
       "      <th>wbc</th>\n",
       "      <td>48957.0</td>\n",
       "      <td>1210.0</td>\n",
       "      <td>8.4</td>\n",
       "      <td>342.0</td>\n",
       "    </tr>\n",
       "    <tr>\n",
       "      <th>weight</th>\n",
       "      <td>24813.0</td>\n",
       "      <td>1416.0</td>\n",
       "      <td>70.0</td>\n",
       "      <td>341.0</td>\n",
       "    </tr>\n",
       "    <tr>\n",
       "      <th>yearsold</th>\n",
       "      <td>26471</td>\n",
       "      <td>73</td>\n",
       "      <td>90.0</td>\n",
       "      <td>968</td>\n",
       "    </tr>\n",
       "  </tbody>\n",
       "</table>\n",
       "</div>"
      ],
      "text/plain": [
       "                    count  unique                top      freq\n",
       "label                                                         \n",
       "any_vasoactives   26471.0     2.0                0.0   17954.0\n",
       "bands               26471       3             absent     24174\n",
       "bicarbonate       52064.0    96.0               23.0    4217.0\n",
       "bilirubin         17670.0   606.0                0.3    1261.0\n",
       "bun               51727.0   334.0               14.0    1524.0\n",
       "calcium           29730.0   182.0               1.13    1419.0\n",
       "cancer_elix       26471.0     2.0                0.0   24097.0\n",
       "chloride          59207.0   137.0              106.0    3564.0\n",
       "creatinine        51881.0   277.0                0.7    3683.0\n",
       "diasbp           659412.0   201.0               55.0   21092.0\n",
       "dobutamine        26471.0     2.0                0.0   26102.0\n",
       "dopamine          26471.0     2.0                0.0   25917.0\n",
       "epinephrine       26471.0     2.0                0.0   25560.0\n",
       "fio2               9128.0    63.0               50.0    2609.0\n",
       "gender              26471       2                  M     14827\n",
       "glucose          153979.0  1045.0              112.0    1587.0\n",
       "heartrate        669569.0   189.0               80.0   20870.0\n",
       "height            13612.0    94.0              178.0    1303.0\n",
       "hemoglobin        58476.0   276.0                9.4    1125.0\n",
       "inr               34835.0   205.0                1.2    4738.0\n",
       "lactate           49391.0   441.0                1.2    1942.0\n",
       "meanartpress     692316.0   301.0               70.0   22189.0\n",
       "mingcs             5841.0    13.0               15.0    1862.0\n",
       "norepinephrine    26471.0     2.0                0.0   20794.0\n",
       "o2_flow           26471.0     2.0                0.0   25544.0\n",
       "pao2fio2ratio    123149.0   627.0              476.0   16055.0\n",
       "pco2                26471       3                <50     12033\n",
       "ph                63133.0   105.0               7.38    3092.0\n",
       "phenylephrine     26471.0     2.0                0.0   22828.0\n",
       "platelet          50158.0  1359.0              100.0     246.0\n",
       "po2                 59231     549               83.0       568\n",
       "potassium         72806.0   155.0                4.0    4481.0\n",
       "ptt               36266.0  1809.0              150.0     895.0\n",
       "race                26471       5  white/nonhispanic     18314\n",
       "resprate         703456.0    66.0               18.0   55945.0\n",
       "rrt               26471.0     2.0                0.0   24251.0\n",
       "sodium            62428.0   140.0              138.0    4874.0\n",
       "spo2             654983.0   100.0              100.0  151087.0\n",
       "sum_elix          29671.0    14.0                0.0   21788.0\n",
       "sysbp            659781.0   247.0              104.0   13771.0\n",
       "temperature      203624.0   350.0          36.666667    7675.0\n",
       "vasopressin       26471.0     2.0                0.0   26470.0\n",
       "vent_recieved       22444       2               Mech     12330\n",
       "wbc               48957.0  1210.0                8.4     342.0\n",
       "weight            24813.0  1416.0               70.0     341.0\n",
       "yearsold            26471      73               90.0       968"
      ]
     },
     "execution_count": 55,
     "metadata": {},
     "output_type": "execute_result"
    },
    {
     "name": "stdout",
     "output_type": "stream",
     "text": [
      "time: 1.91 s (started: 2023-07-26 19:39:23 +08:00)\n"
     ]
    }
   ],
   "source": [
    "big_df.groupby('label')['value'].describe() "
   ]
  },
  {
   "cell_type": "code",
   "execution_count": 42,
   "metadata": {},
   "outputs": [
    {
     "name": "stdout",
     "output_type": "stream",
     "text": [
      "time: 467 µs\n"
     ]
    }
   ],
   "source": [
    "#big_df.groupby('label')['value'].describe() #14478 icustay_id's"
   ]
  },
  {
   "cell_type": "code",
   "execution_count": 56,
   "metadata": {},
   "outputs": [
    {
     "data": {
      "text/plain": [
       "array(['cancer_elix', 'epinephrine', 'gender', 'height', 'norepinephrine',\n",
       "       'phenylephrine', 'race', 'rrt', 'sum_elix', 'vasopressin',\n",
       "       'vent_recieved', 'weight', 'yearsold', 'diasbp', 'heartrate',\n",
       "       'meanartpress', 'o2_flow', 'pao2fio2ratio', 'resprate', 'spo2',\n",
       "       'sysbp', 'lactate', 'pco2', 'ph', 'po2', 'temperature', 'bands',\n",
       "       'bicarbonate', 'bilirubin', 'bun', 'chloride', 'creatinine',\n",
       "       'glucose', 'hemoglobin', 'inr', 'platelet', 'potassium', 'ptt',\n",
       "       'sodium', 'wbc', 'dobutamine', 'any_vasoactives', 'dopamine',\n",
       "       'calcium', 'mingcs', 'fio2'], dtype=object)"
      ]
     },
     "execution_count": 56,
     "metadata": {},
     "output_type": "execute_result"
    },
    {
     "name": "stdout",
     "output_type": "stream",
     "text": [
      "time: 531 ms (started: 2023-07-26 19:39:31 +08:00)\n"
     ]
    }
   ],
   "source": [
    "big_df['label'].unique()"
   ]
  },
  {
   "cell_type": "code",
   "execution_count": 57,
   "metadata": {},
   "outputs": [
    {
     "data": {
      "text/html": [
       "<div>\n",
       "<style scoped>\n",
       "    .dataframe tbody tr th:only-of-type {\n",
       "        vertical-align: middle;\n",
       "    }\n",
       "\n",
       "    .dataframe tbody tr th {\n",
       "        vertical-align: top;\n",
       "    }\n",
       "\n",
       "    .dataframe thead th {\n",
       "        text-align: right;\n",
       "    }\n",
       "</style>\n",
       "<table border=\"1\" class=\"dataframe\">\n",
       "  <thead>\n",
       "    <tr style=\"text-align: right;\">\n",
       "      <th></th>\n",
       "      <th>stay_id</th>\n",
       "      <th>t_0</th>\n",
       "      <th>value</th>\n",
       "      <th>label</th>\n",
       "      <th>uom</th>\n",
       "      <th>delta</th>\n",
       "      <th>source</th>\n",
       "      <th>subject_id</th>\n",
       "    </tr>\n",
       "  </thead>\n",
       "  <tbody>\n",
       "  </tbody>\n",
       "</table>\n",
       "</div>"
      ],
      "text/plain": [
       "Empty DataFrame\n",
       "Columns: [stay_id, t_0, value, label, uom, delta, source, subject_id]\n",
       "Index: []"
      ]
     },
     "execution_count": 57,
     "metadata": {},
     "output_type": "execute_result"
    },
    {
     "name": "stdout",
     "output_type": "stream",
     "text": [
      "time: 391 ms (started: 2023-07-26 19:39:36 +08:00)\n"
     ]
    }
   ],
   "source": [
    "big_df[big_df['label']=='leukocyte'].head()"
   ]
  },
  {
   "cell_type": "markdown",
   "metadata": {},
   "source": [
    "## quick qc to protect against old versions"
   ]
  },
  {
   "cell_type": "code",
   "execution_count": 58,
   "metadata": {},
   "outputs": [
    {
     "name": "stdout",
     "output_type": "stream",
     "text": [
      "time: 469 ms (started: 2023-07-26 19:40:03 +08:00)\n"
     ]
    }
   ],
   "source": [
    "#removing firstpos else neg ssc col if it still exists (qc)\n",
    "big_df=big_df.loc[:,list(big_df.columns!=\"first_pos_else_neg_ssc\")]"
   ]
  },
  {
   "cell_type": "code",
   "execution_count": 59,
   "metadata": {},
   "outputs": [
    {
     "name": "stdout",
     "output_type": "stream",
     "text": [
      "c:\\Users\\csfhe\\Documents\\RA\\mimiciii-antibiotics-opensource\\notebooks/data/cleaned_merged/24_hr_window/\n",
      "time: 1min 57s (started: 2023-07-26 19:40:04 +08:00)\n"
     ]
    }
   ],
   "source": [
    "save_df(big_df, 'longdf')"
   ]
  },
  {
   "cell_type": "code",
   "execution_count": 60,
   "metadata": {},
   "outputs": [
    {
     "name": "stdout",
     "output_type": "stream",
     "text": [
      "time: 297 ms (started: 2023-07-26 19:42:02 +08:00)\n"
     ]
    }
   ],
   "source": [
    "del big_df\n",
    "del dfs"
   ]
  },
  {
   "cell_type": "markdown",
   "metadata": {},
   "source": [
    "#### making a patient missingness visualization"
   ]
  },
  {
   "cell_type": "code",
   "execution_count": 48,
   "metadata": {},
   "outputs": [
    {
     "name": "stdout",
     "output_type": "stream",
     "text": [
      "time: 1.38 ms\n"
     ]
    }
   ],
   "source": [
    "# #big_agg= big_df.groupby(['icustay_id','label'], as_index=False)['value'].agg(['min'])\n",
    "# big_agg= big_df.groupby(['icustay_id','label'], as_index=False)['value'].size()\n",
    "# big_agg_count= big_agg.reset_index().pivot(index='icustay_id',columns='label', values=0)#, levels='icustay_id')"
   ]
  },
  {
   "cell_type": "code",
   "execution_count": 49,
   "metadata": {},
   "outputs": [
    {
     "name": "stdout",
     "output_type": "stream",
     "text": [
      "time: 958 µs\n"
     ]
    }
   ],
   "source": [
    "# big_agg_count= big_agg.reset_index().pivot(index='icustay_id',columns='label', values=0)#, levels='icustay_id')"
   ]
  },
  {
   "cell_type": "code",
   "execution_count": 50,
   "metadata": {},
   "outputs": [
    {
     "name": "stdout",
     "output_type": "stream",
     "text": [
      "time: 1.06 ms\n"
     ]
    }
   ],
   "source": [
    "# sns.set(rc={'figure.figsize':(25,15)})"
   ]
  },
  {
   "cell_type": "code",
   "execution_count": 51,
   "metadata": {},
   "outputs": [
    {
     "name": "stdout",
     "output_type": "stream",
     "text": [
      "time: 2.06 ms\n"
     ]
    }
   ],
   "source": [
    "# #big_agg_min\n",
    "\n",
    "# #%matplotlib inline\n",
    "# sns.set(rc={'figure.figsize':(25,15)})\n",
    "# big_agg_count= big_agg_count.fillna(0)\n",
    "# big_agg_count = big_agg_count[big_agg_count.columns].astype(float) \n",
    "\n",
    "\n",
    "# sns.heatmap(big_agg_count,vmin=0, vmax=1, cmap=sns.color_palette(\"RdBu_r\", 5))"
   ]
  },
  {
   "cell_type": "code",
   "execution_count": 52,
   "metadata": {},
   "outputs": [
    {
     "name": "stdout",
     "output_type": "stream",
     "text": [
      "time: 964 µs\n"
     ]
    }
   ],
   "source": [
    "# #deleting df's for memory once saved\n",
    "# del big_df, big_agg_count, big_agg, dfs"
   ]
  },
  {
   "cell_type": "code",
   "execution_count": 53,
   "metadata": {},
   "outputs": [
    {
     "name": "stdout",
     "output_type": "stream",
     "text": [
      "time: 1.1 ms\n"
     ]
    }
   ],
   "source": [
    "# big_agg_count[big_agg_count>0] =1\n",
    "# big_agg_pt_missing= big_agg_count.T.apply(lambda x:100*(len(list(big_agg_count))-sum(x))/len(list(big_agg_count)))\n",
    "# big_agg_pt_missing= pd.DataFrame(big_agg_pt_missing).rename(index=str, columns={0:'%_of_values_missing'})"
   ]
  },
  {
   "cell_type": "code",
   "execution_count": 54,
   "metadata": {},
   "outputs": [
    {
     "name": "stdout",
     "output_type": "stream",
     "text": [
      "time: 859 µs\n"
     ]
    }
   ],
   "source": [
    "# big_agg_pt_missing.sort_values('%_of_values_missing',ascending=False).plot()"
   ]
  }
 ],
 "metadata": {
  "kernelspec": {
   "display_name": "Python 3",
   "language": "python",
   "name": "python3"
  },
  "language_info": {
   "codemirror_mode": {
    "name": "ipython",
    "version": 3
   },
   "file_extension": ".py",
   "mimetype": "text/x-python",
   "name": "python",
   "nbconvert_exporter": "python",
   "pygments_lexer": "ipython3",
   "version": "3.8.0"
  }
 },
 "nbformat": 4,
 "nbformat_minor": 4
}
