{
 "cells": [
  {
   "cell_type": "markdown",
   "metadata": {},
   "source": [
    "# making an aggregate master dataframe for baseline model\n",
    "this notebook is going to make a single standardized long format dataframe for each of my cleaned clinical variable dataframes.\n",
    "\n",
    "will save this into a file with a cleaned_merged_df prefix."
   ]
  },
  {
   "cell_type": "code",
   "execution_count": 1,
   "metadata": {},
   "outputs": [
    {
     "name": "stderr",
     "output_type": "stream",
     "text": [
      "/Users/geickelb1/anaconda/envs/rpy-env/lib/python3.6/site-packages/ipykernel_launcher.py:10: DeprecationWarning: The 'cachedir' parameter has been deprecated in version 0.12 and will be removed in version 0.14.\n",
      "You provided \"cachedir='/tmp'\", use \"location='/tmp'\" instead.\n",
      "  # Remove the CWD from sys.path while we load stuff.\n"
     ]
    }
   ],
   "source": [
    "import pandas as pd\n",
    "import matplotlib.pyplot as plt\n",
    "import os\n",
    "from pathlib import Path\n",
    "import seaborn as sns\n",
    "import numpy as np\n",
    "import glob\n",
    "\n",
    "from sklearn.externals.joblib import Memory\n",
    "memory = Memory(cachedir='/tmp', verbose=0)\n",
    "#@memory.cache above any def fxn.\n",
    "\n",
    "%matplotlib inline\n",
    "plt.style.use('ggplot')\n",
    "\n",
    "from notebook.services.config import ConfigManager\n",
    "cm = ConfigManager()\n",
    "cm.update('livereveal', {\n",
    "        'width': 1024,\n",
    "        'height': 768,\n",
    "        'scroll': True,\n",
    "})\n",
    "\n",
    "%load_ext autotime"
   ]
  },
  {
   "cell_type": "code",
   "execution_count": 2,
   "metadata": {},
   "outputs": [
    {
     "name": "stdout",
     "output_type": "stream",
     "text": [
      "time: 1.22 s\n"
     ]
    }
   ],
   "source": [
    "#patients of interest from rotation_cohort_generation\n",
    "from parameters import final_pt_df_v, date, repository_path\n",
    "\n",
    "#patients of interest from rotation_cohort_generation\n",
    "final_pt_df2 = final_pt_df_v #pd.read_csv('/Users/geickelb1/Documents/GitHub/mimiciii-antibiotics-modeling/data/raw/csv/%s_final_pt_df2.csv'%(most_updated_patient_df), index_col=0)\n",
    "del(final_pt_df_v)\n",
    "\n",
    "patients= list(final_pt_df2['subject_id'].unique())\n",
    "hadm_id= list(final_pt_df2['hadm_id'].unique())\n",
    "icustay_id= list(final_pt_df2['icustay_id'].unique())\n",
    "icustay_id= [int(x) for x in icustay_id]\n"
   ]
  },
  {
   "cell_type": "code",
   "execution_count": 3,
   "metadata": {},
   "outputs": [
    {
     "data": {
      "text/plain": [
       "19633"
      ]
     },
     "execution_count": 3,
     "metadata": {},
     "output_type": "execute_result"
    },
    {
     "name": "stdout",
     "output_type": "stream",
     "text": [
      "time: 4.96 ms\n"
     ]
    }
   ],
   "source": [
    "final_pt_df2['icustay_id'].nunique() #14478"
   ]
  },
  {
   "cell_type": "code",
   "execution_count": 4,
   "metadata": {},
   "outputs": [
    {
     "name": "stdout",
     "output_type": "stream",
     "text": [
      "time: 753 µs\n"
     ]
    }
   ],
   "source": [
    "from parameters import lower_window, upper_window, folder, date, time_col, time_var, patient_df"
   ]
  },
  {
   "cell_type": "code",
   "execution_count": 5,
   "metadata": {},
   "outputs": [
    {
     "data": {
      "text/plain": [
       "['/Users/geickelb1/Documents/GitHub/mimiciii-antibiotics-opensource/data/cleaned/48_hr_window/30102019_vasopressin_prepped.csv',\n",
       " '/Users/geickelb1/Documents/GitHub/mimiciii-antibiotics-opensource/data/cleaned/48_hr_window/30102019_weight_prepped.csv',\n",
       " '/Users/geickelb1/Documents/GitHub/mimiciii-antibiotics-opensource/data/cleaned/48_hr_window/30102019_gcs_prepped.csv',\n",
       " '/Users/geickelb1/Documents/GitHub/mimiciii-antibiotics-opensource/data/cleaned/48_hr_window/30102019_epinephrine_prepped.csv',\n",
       " '/Users/geickelb1/Documents/GitHub/mimiciii-antibiotics-opensource/data/cleaned/48_hr_window/30102019_leuk_prepped.csv',\n",
       " '/Users/geickelb1/Documents/GitHub/mimiciii-antibiotics-opensource/data/cleaned/48_hr_window/30102019_height_prepped.csv',\n",
       " '/Users/geickelb1/Documents/GitHub/mimiciii-antibiotics-opensource/data/cleaned/48_hr_window/30102019_labs_prepped.csv',\n",
       " '/Users/geickelb1/Documents/GitHub/mimiciii-antibiotics-opensource/data/cleaned/48_hr_window/30102019_bg_ART_prepped.csv',\n",
       " '/Users/geickelb1/Documents/GitHub/mimiciii-antibiotics-opensource/data/cleaned/48_hr_window/30102019_o2_flow_prepped.csv',\n",
       " '/Users/geickelb1/Documents/GitHub/mimiciii-antibiotics-opensource/data/cleaned/48_hr_window/30102019_rrt_prepped.csv',\n",
       " '/Users/geickelb1/Documents/GitHub/mimiciii-antibiotics-opensource/data/cleaned/48_hr_window/30102019_ventcategory_prepped.csv',\n",
       " '/Users/geickelb1/Documents/GitHub/mimiciii-antibiotics-opensource/data/cleaned/48_hr_window/30102019_sum_elix_prepped.csv',\n",
       " '/Users/geickelb1/Documents/GitHub/mimiciii-antibiotics-opensource/data/cleaned/48_hr_window/30102019_bg_all_prepped.csv',\n",
       " '/Users/geickelb1/Documents/GitHub/mimiciii-antibiotics-opensource/data/cleaned/48_hr_window/30102019_norepinephrine_prepped.csv',\n",
       " '/Users/geickelb1/Documents/GitHub/mimiciii-antibiotics-opensource/data/cleaned/48_hr_window/30102019_pt_info_prepped.csv',\n",
       " '/Users/geickelb1/Documents/GitHub/mimiciii-antibiotics-opensource/data/cleaned/48_hr_window/30102019_dopamine_prepped.csv',\n",
       " '/Users/geickelb1/Documents/GitHub/mimiciii-antibiotics-opensource/data/cleaned/48_hr_window/30102019_phenylephrine_prepped.csv',\n",
       " '/Users/geickelb1/Documents/GitHub/mimiciii-antibiotics-opensource/data/cleaned/48_hr_window/30102019_cancer_elix_prepped.csv',\n",
       " '/Users/geickelb1/Documents/GitHub/mimiciii-antibiotics-opensource/data/cleaned/48_hr_window/30102019_sofa_prepped.csv',\n",
       " '/Users/geickelb1/Documents/GitHub/mimiciii-antibiotics-opensource/data/cleaned/48_hr_window/30102019_pafaRatio_prepped.csv',\n",
       " '/Users/geickelb1/Documents/GitHub/mimiciii-antibiotics-opensource/data/cleaned/48_hr_window/30102019_nit_prepped.csv',\n",
       " '/Users/geickelb1/Documents/GitHub/mimiciii-antibiotics-opensource/data/cleaned/48_hr_window/30102019_dobutamine_prepped.csv',\n",
       " '/Users/geickelb1/Documents/GitHub/mimiciii-antibiotics-opensource/data/cleaned/48_hr_window/30102019_vitals_prepped.csv']"
      ]
     },
     "execution_count": 5,
     "metadata": {},
     "output_type": "execute_result"
    },
    {
     "name": "stdout",
     "output_type": "stream",
     "text": [
      "time: 3.11 ms\n"
     ]
    }
   ],
   "source": [
    "#import all cleaned or 'prepped' clinical variable csv\n",
    "allFiles = glob.glob(str(repository_path)+ '/data/cleaned/%s/'%(folder) + \"{}_*.csv\".format(date))\n",
    "allFiles"
   ]
  },
  {
   "cell_type": "code",
   "execution_count": 6,
   "metadata": {},
   "outputs": [
    {
     "name": "stdout",
     "output_type": "stream",
     "text": [
      "time: 6.91 ms\n"
     ]
    }
   ],
   "source": [
    "save_path= str(repository_path)+'/data/cleaned_merged/'\n",
    "def save_df(df, df_name='default', save_path=save_path, add_subfolder=False):\n",
    "    #uses the date and supplied df name and saves to the savepath specified above.\n",
    "    if df_name == 'default':\n",
    "        df_name= \"%s\"%(df)\n",
    "    \n",
    "    address=save_path+'%s/'%(folder)\n",
    "    if not os.path.exists(address):\n",
    "        print(address)\n",
    "        os.makedirs(address)\n",
    "    pd.DataFrame(df).to_csv(Path(address+'%s_%s_cleaned_merged.csv' %(date, df_name)))"
   ]
  },
  {
   "cell_type": "code",
   "execution_count": 7,
   "metadata": {},
   "outputs": [
    {
     "data": {
      "text/plain": [
       "'/Users/geickelb1/Documents/GitHub/mimiciii-antibiotics-opensource/notebooks'"
      ]
     },
     "execution_count": 7,
     "metadata": {},
     "output_type": "execute_result"
    },
    {
     "name": "stdout",
     "output_type": "stream",
     "text": [
      "time: 2.22 ms\n"
     ]
    }
   ],
   "source": [
    "os.getcwd()"
   ]
  },
  {
   "cell_type": "code",
   "execution_count": 8,
   "metadata": {},
   "outputs": [
    {
     "name": "stderr",
     "output_type": "stream",
     "text": [
      "/Users/geickelb1/anaconda/envs/rpy-env/lib/python3.6/site-packages/IPython/core/interactiveshell.py:2728: DtypeWarning: Columns (8) have mixed types. Specify dtype option on import or set low_memory=False.\n",
      "  interactivity=interactivity, compiler=compiler, result=result)\n",
      "/Users/geickelb1/anaconda/envs/rpy-env/lib/python3.6/site-packages/numpy/lib/arraysetops.py:569: FutureWarning: elementwise comparison failed; returning scalar instead, but in the future will perform elementwise comparison\n",
      "  mask |= (ar1 == a)\n"
     ]
    },
    {
     "name": "stdout",
     "output_type": "stream",
     "text": [
      "time: 12.6 s\n"
     ]
    }
   ],
   "source": [
    "#making a dictionary of all my dataframes for easier cycling through\n",
    "\n",
    "df_list=[]\n",
    "for element in allFiles:\n",
    "    df_list.append(element.split('{}_'.format(date))[1].split('_prepped.csv')[0]) #making an list of all my dataframes in order they appear in file\n",
    "\n",
    "dfs = {}\n",
    "i=0\n",
    "for name in df_list:\n",
    "    dfs[name] = pd.read_csv(allFiles[i],  index_col=0)\n",
    "    i+=1"
   ]
  },
  {
   "cell_type": "code",
   "execution_count": 9,
   "metadata": {},
   "outputs": [
    {
     "name": "stdout",
     "output_type": "stream",
     "text": [
      "vasopressin : ['icustay_id', 't_0', 'value', 'label', 'uom', 'delta']\n",
      "weight : ['icustay_id', 'value', 'uom', 'label', 'delta', 't_0']\n",
      "gcs : ['subject_id', 'hadm_id', 'icustay_id', 'delta', 'label', 'value', 't_0', 'uom']\n",
      "epinephrine : ['icustay_id', 't_0', 'value', 'label', 'uom', 'delta']\n",
      "leuk : ['hadm_id', 'icustay_id', 'subject_id', 't_0', 'delta', 'value', 'label', 'uom']\n",
      "height : ['icustay_id', 'value', 'uom', 'label', 'delta', 't_0']\n",
      "labs : ['delta', 'hadm_id', 'icustay_id', 'label', 'subject_id', 't_0', 'uom', 'value']\n",
      "bg_ART : ['delta', 'hadm_id', 'icustay_id', 'label', 'subject_id', 't_0', 'uom', 'value']\n",
      "o2_flow : ['icustay_id', 't_0', 'value', 'label', 'uom', 'delta']\n",
      "rrt : ['icustay_id', 't_0', 'value', 'label', 'uom', 'delta']\n",
      "ventcategory : ['icustay_id', 'delta', 'value', 'uom', 't_0', 'label']\n",
      "sum_elix : ['subject_id', 'hadm_id', 'icustay_id', 'value', 'label', 'delta', 'uom', 't_0']\n",
      "bg_all : ['subject_id', 'hadm_id', 'icustay_id', 'charttime', 'delta', 't_0', 'label', 'valuenum', 'uom']\n",
      "norepinephrine : ['icustay_id', 't_0', 'value', 'label', 'uom', 'delta']\n",
      "pt_info : ['icustay_id', 'subject_id', 't_0', 'label', 'value', 'delta', 'uom']\n",
      "dopamine : ['icustay_id', 't_0', 'value', 'label', 'uom', 'delta']\n",
      "phenylephrine : ['icustay_id', 't_0', 'value', 'label', 'uom', 'delta']\n",
      "cancer_elix : ['icustay_id', 't_0', 'value', 'label', 'uom', 'delta']\n",
      "sofa : ['subject_id', 'hadm_id', 'icustay_id', 'delta', 'label', 'value', 't_0', 'uom']\n",
      "pafaRatio : ['icustay_id', 'hadm_id', 't_0', 'value', 'delta', 'uom', 'label']\n",
      "nit : ['hadm_id', 'icustay_id', 'subject_id', 't_0', 'delta', 'value', 'label', 'uom']\n",
      "dobutamine : ['icustay_id', 't_0', 'value', 'label', 'uom', 'delta']\n",
      "vitals : ['subject_id', 'hadm_id', 'icustay_id', 'charttime', 'uom', 'label', 'value', 't_0', 'delta']\n",
      "time: 4.2 ms\n"
     ]
    }
   ],
   "source": [
    "#all of the column names \n",
    "for element in df_list:\n",
    "    print(element,':',list(dfs[element]))"
   ]
  },
  {
   "cell_type": "markdown",
   "metadata": {},
   "source": [
    "## standardizing columns"
   ]
  },
  {
   "cell_type": "markdown",
   "metadata": {},
   "source": [
    "#### adding icustay_id, dropping hadm_id"
   ]
  },
  {
   "cell_type": "code",
   "execution_count": 10,
   "metadata": {},
   "outputs": [
    {
     "name": "stdout",
     "output_type": "stream",
     "text": [
      "time: 621 ms\n"
     ]
    }
   ],
   "source": [
    "##dropping hadm_id from all:\n",
    "list1=[]\n",
    "for element in df_list:\n",
    "    if 'hadm_id' in (list(dfs[element])):\n",
    "        list1.append(element)\n",
    "\n",
    "for element in list1:\n",
    "    dfs[element]= dfs[element].drop('hadm_id', axis=1)"
   ]
  },
  {
   "cell_type": "code",
   "execution_count": 11,
   "metadata": {},
   "outputs": [
    {
     "name": "stdout",
     "output_type": "stream",
     "text": [
      "time: 455 ms\n"
     ]
    }
   ],
   "source": [
    "##dropping subject_id from all:\n",
    "list1=[]\n",
    "for element in df_list:\n",
    "    if 'subject_id' in (list(dfs[element])):\n",
    "        list1.append(element)\n",
    "\n",
    "for element in list1:\n",
    "    dfs[element]= dfs[element].drop('subject_id', axis=1)"
   ]
  },
  {
   "cell_type": "code",
   "execution_count": 12,
   "metadata": {},
   "outputs": [
    {
     "name": "stdout",
     "output_type": "stream",
     "text": [
      "vasopressin : ['delta', 'icustay_id', 'label', 't_0', 'uom', 'value']\n",
      "weight : ['delta', 'icustay_id', 'label', 't_0', 'uom', 'value']\n",
      "gcs : ['delta', 'icustay_id', 'label', 't_0', 'uom', 'value']\n",
      "epinephrine : ['delta', 'icustay_id', 'label', 't_0', 'uom', 'value']\n",
      "leuk : ['delta', 'icustay_id', 'label', 't_0', 'uom', 'value']\n",
      "height : ['delta', 'icustay_id', 'label', 't_0', 'uom', 'value']\n",
      "labs : ['delta', 'icustay_id', 'label', 't_0', 'uom', 'value']\n",
      "bg_ART : ['delta', 'icustay_id', 'label', 't_0', 'uom', 'value']\n",
      "o2_flow : ['delta', 'icustay_id', 'label', 't_0', 'uom', 'value']\n",
      "rrt : ['delta', 'icustay_id', 'label', 't_0', 'uom', 'value']\n",
      "ventcategory : ['delta', 'icustay_id', 'label', 't_0', 'uom', 'value']\n",
      "sum_elix : ['delta', 'icustay_id', 'label', 't_0', 'uom', 'value']\n",
      "bg_all : ['charttime', 'delta', 'icustay_id', 'label', 't_0', 'uom', 'valuenum']\n",
      "norepinephrine : ['delta', 'icustay_id', 'label', 't_0', 'uom', 'value']\n",
      "pt_info : ['delta', 'icustay_id', 'label', 't_0', 'uom', 'value']\n",
      "dopamine : ['delta', 'icustay_id', 'label', 't_0', 'uom', 'value']\n",
      "phenylephrine : ['delta', 'icustay_id', 'label', 't_0', 'uom', 'value']\n",
      "cancer_elix : ['delta', 'icustay_id', 'label', 't_0', 'uom', 'value']\n",
      "sofa : ['delta', 'icustay_id', 'label', 't_0', 'uom', 'value']\n",
      "pafaRatio : ['delta', 'icustay_id', 'label', 't_0', 'uom', 'value']\n",
      "nit : ['delta', 'icustay_id', 'label', 't_0', 'uom', 'value']\n",
      "dobutamine : ['delta', 'icustay_id', 'label', 't_0', 'uom', 'value']\n",
      "vitals : ['charttime', 'delta', 'icustay_id', 'label', 't_0', 'uom', 'value']\n",
      "time: 6.73 ms\n"
     ]
    }
   ],
   "source": [
    "#all of the column names \n",
    "for element in df_list:\n",
    "    print(element,':',sorted(list(dfs[element])))"
   ]
  },
  {
   "cell_type": "code",
   "execution_count": 13,
   "metadata": {},
   "outputs": [
    {
     "name": "stdout",
     "output_type": "stream",
     "text": [
      "time: 455 ms\n"
     ]
    }
   ],
   "source": [
    "#dropping charttime, endtime and first_charttime\n",
    "list1=[]\n",
    "list2=[]\n",
    "for element in df_list:\n",
    "    if 'charttime' in (list(dfs[element])):\n",
    "        list1.append(element)\n",
    "    if 'endtime' in (list(dfs[element])):\n",
    "        list2.append(element)\n",
    "\n",
    "for element in list1:\n",
    "    dfs[element]= dfs[element].drop('charttime', axis=1)\n",
    "\n",
    "for element in list2:\n",
    "    dfs[element]= dfs[element].drop('endtime', axis=1)\n",
    "    \n",
    "#dfs['rrt']= dfs['rrt'].drop('first_charttime', axis=1)"
   ]
  },
  {
   "cell_type": "code",
   "execution_count": 14,
   "metadata": {},
   "outputs": [
    {
     "name": "stdout",
     "output_type": "stream",
     "text": [
      "time: 164 ms\n"
     ]
    }
   ],
   "source": [
    "#converting valuenum and value to same label\n",
    "list1=[]\n",
    "\n",
    "for element in df_list:\n",
    "    if 'valuenum' in (list(dfs[element])):\n",
    "        list1.append(element)\n",
    "\n",
    "for element in list1:\n",
    "    dfs[element]= dfs[element].rename(index=str, columns={'valuenum':'value'})\n"
   ]
  },
  {
   "cell_type": "code",
   "execution_count": 15,
   "metadata": {},
   "outputs": [
    {
     "name": "stdout",
     "output_type": "stream",
     "text": [
      "time: 651 µs\n"
     ]
    }
   ],
   "source": [
    "del(list1,list2)"
   ]
  },
  {
   "cell_type": "code",
   "execution_count": 16,
   "metadata": {},
   "outputs": [
    {
     "name": "stdout",
     "output_type": "stream",
     "text": [
      "time: 1.61 ms\n"
     ]
    }
   ],
   "source": [
    "def label_lower(df_name):\n",
    "    dfs[df_name]['label']= dfs[df_name]['label'].apply(lambda x: x.lower())"
   ]
  },
  {
   "cell_type": "code",
   "execution_count": 17,
   "metadata": {},
   "outputs": [
    {
     "name": "stdout",
     "output_type": "stream",
     "text": [
      "time: 2.51 s\n"
     ]
    }
   ],
   "source": [
    "#turning all labels to lowercase\n",
    "for element in df_list:\n",
    "    label_lower(element)\n"
   ]
  },
  {
   "cell_type": "code",
   "execution_count": 18,
   "metadata": {},
   "outputs": [
    {
     "name": "stdout",
     "output_type": "stream",
     "text": [
      "time: 2.94 s\n"
     ]
    }
   ],
   "source": [
    "#adding a df source table label to each df. \n",
    "for element in df_list:\n",
    "    dfs[element]['source']=element\n",
    "\n",
    "#adding a patient id to each\n",
    "\n",
    "for element in df_list:\n",
    "    dfs[element]= pd.merge(dfs[element], final_pt_df2[['icustay_id','subject_id']], how='left')\n",
    "    "
   ]
  },
  {
   "cell_type": "code",
   "execution_count": 19,
   "metadata": {},
   "outputs": [
    {
     "name": "stdout",
     "output_type": "stream",
     "text": [
      "vasopressin : ['delta', 'icustay_id', 'label', 'source', 'subject_id', 't_0', 'uom', 'value']\n",
      "weight : ['delta', 'icustay_id', 'label', 'source', 'subject_id', 't_0', 'uom', 'value']\n",
      "gcs : ['delta', 'icustay_id', 'label', 'source', 'subject_id', 't_0', 'uom', 'value']\n",
      "epinephrine : ['delta', 'icustay_id', 'label', 'source', 'subject_id', 't_0', 'uom', 'value']\n",
      "leuk : ['delta', 'icustay_id', 'label', 'source', 'subject_id', 't_0', 'uom', 'value']\n",
      "height : ['delta', 'icustay_id', 'label', 'source', 'subject_id', 't_0', 'uom', 'value']\n",
      "labs : ['delta', 'icustay_id', 'label', 'source', 'subject_id', 't_0', 'uom', 'value']\n",
      "bg_ART : ['delta', 'icustay_id', 'label', 'source', 'subject_id', 't_0', 'uom', 'value']\n",
      "o2_flow : ['delta', 'icustay_id', 'label', 'source', 'subject_id', 't_0', 'uom', 'value']\n",
      "rrt : ['delta', 'icustay_id', 'label', 'source', 'subject_id', 't_0', 'uom', 'value']\n",
      "ventcategory : ['delta', 'icustay_id', 'label', 'source', 'subject_id', 't_0', 'uom', 'value']\n",
      "sum_elix : ['delta', 'icustay_id', 'label', 'source', 'subject_id', 't_0', 'uom', 'value']\n",
      "bg_all : ['delta', 'icustay_id', 'label', 'source', 'subject_id', 't_0', 'uom', 'value']\n",
      "norepinephrine : ['delta', 'icustay_id', 'label', 'source', 'subject_id', 't_0', 'uom', 'value']\n",
      "pt_info : ['delta', 'icustay_id', 'label', 'source', 'subject_id', 't_0', 'uom', 'value']\n",
      "dopamine : ['delta', 'icustay_id', 'label', 'source', 'subject_id', 't_0', 'uom', 'value']\n",
      "phenylephrine : ['delta', 'icustay_id', 'label', 'source', 'subject_id', 't_0', 'uom', 'value']\n",
      "cancer_elix : ['delta', 'icustay_id', 'label', 'source', 'subject_id', 't_0', 'uom', 'value']\n",
      "sofa : ['delta', 'icustay_id', 'label', 'source', 'subject_id', 't_0', 'uom', 'value']\n",
      "pafaRatio : ['delta', 'icustay_id', 'label', 'source', 'subject_id', 't_0', 'uom', 'value']\n",
      "nit : ['delta', 'icustay_id', 'label', 'source', 'subject_id', 't_0', 'uom', 'value']\n",
      "dobutamine : ['delta', 'icustay_id', 'label', 'source', 'subject_id', 't_0', 'uom', 'value']\n",
      "vitals : ['delta', 'icustay_id', 'label', 'source', 'subject_id', 't_0', 'uom', 'value']\n",
      "time: 4.33 ms\n"
     ]
    }
   ],
   "source": [
    "#all of the column names \n",
    "for element in df_list:\n",
    "    print(element,':',sorted(list(dfs[element])))"
   ]
  },
  {
   "cell_type": "code",
   "execution_count": 20,
   "metadata": {},
   "outputs": [
    {
     "name": "stdout",
     "output_type": "stream",
     "text": [
      "vasopressin column that dont belong: []\n",
      "vasopressin column that are missing: []\n",
      "weight column that dont belong: []\n",
      "weight column that are missing: []\n",
      "gcs column that dont belong: []\n",
      "gcs column that are missing: []\n",
      "epinephrine column that dont belong: []\n",
      "epinephrine column that are missing: []\n",
      "leuk column that dont belong: []\n",
      "leuk column that are missing: []\n",
      "height column that dont belong: []\n",
      "height column that are missing: []\n",
      "labs column that dont belong: []\n",
      "labs column that are missing: []\n",
      "bg_ART column that dont belong: []\n",
      "bg_ART column that are missing: []\n",
      "o2_flow column that dont belong: []\n",
      "o2_flow column that are missing: []\n",
      "rrt column that dont belong: []\n",
      "rrt column that are missing: []\n",
      "ventcategory column that dont belong: []\n",
      "ventcategory column that are missing: []\n",
      "sum_elix column that dont belong: []\n",
      "sum_elix column that are missing: []\n",
      "bg_all column that dont belong: []\n",
      "bg_all column that are missing: []\n",
      "norepinephrine column that dont belong: []\n",
      "norepinephrine column that are missing: []\n",
      "pt_info column that dont belong: []\n",
      "pt_info column that are missing: []\n",
      "dopamine column that dont belong: []\n",
      "dopamine column that are missing: []\n",
      "phenylephrine column that dont belong: []\n",
      "phenylephrine column that are missing: []\n",
      "cancer_elix column that dont belong: []\n",
      "cancer_elix column that are missing: []\n",
      "sofa column that dont belong: []\n",
      "sofa column that are missing: []\n",
      "pafaRatio column that dont belong: []\n",
      "pafaRatio column that are missing: []\n",
      "nit column that dont belong: []\n",
      "nit column that are missing: []\n",
      "dobutamine column that dont belong: []\n",
      "dobutamine column that are missing: []\n",
      "vitals column that dont belong: []\n",
      "vitals column that are missing: []\n",
      "time: 26.2 ms\n"
     ]
    }
   ],
   "source": [
    "for element in df_list:\n",
    "    print(element,'column that dont belong:', [x for x in list(dfs[element]) if x not in ['delta', 'icustay_id', 'label', 'source', 'subject_id', 't_0', 'uom', 'value']])\n",
    "    print(element,'column that are missing:',[x for x in ['delta', 'icustay_id', 'label', 'source', 'subject_id', 't_0', 'uom', 'value'] if x not in list(dfs[element])])"
   ]
  },
  {
   "cell_type": "code",
   "execution_count": null,
   "metadata": {},
   "outputs": [],
   "source": []
  },
  {
   "cell_type": "code",
   "execution_count": null,
   "metadata": {},
   "outputs": [],
   "source": []
  },
  {
   "cell_type": "code",
   "execution_count": 21,
   "metadata": {},
   "outputs": [
    {
     "data": {
      "text/plain": [
       "count                     42234\n",
       "mean     0 days 13:27:49.083676\n",
       "std      0 days 14:44:31.196249\n",
       "min             0 days 00:00:00\n",
       "25%             0 days 00:00:00\n",
       "50%             0 days 09:00:00\n",
       "75%             1 days 00:30:00\n",
       "max             2 days 00:00:00\n",
       "Name: delta, dtype: object"
      ]
     },
     "execution_count": 21,
     "metadata": {},
     "output_type": "execute_result"
    },
    {
     "name": "stdout",
     "output_type": "stream",
     "text": [
      "time: 149 ms\n"
     ]
    }
   ],
   "source": [
    "pd.to_timedelta(dfs['norepinephrine']['delta']).describe()"
   ]
  },
  {
   "cell_type": "code",
   "execution_count": 22,
   "metadata": {},
   "outputs": [
    {
     "data": {
      "text/plain": [
       "count                     42234\n",
       "mean     0 days 13:27:49.083676\n",
       "std      0 days 14:44:31.196249\n",
       "min             0 days 00:00:00\n",
       "25%             0 days 00:00:00\n",
       "50%             0 days 09:00:00\n",
       "75%             1 days 00:30:00\n",
       "max             2 days 00:00:00\n",
       "Name: delta, dtype: object"
      ]
     },
     "execution_count": 22,
     "metadata": {},
     "output_type": "execute_result"
    },
    {
     "name": "stdout",
     "output_type": "stream",
     "text": [
      "time: 141 ms\n"
     ]
    }
   ],
   "source": [
    "pd.to_timedelta(dfs['norepinephrine']['delta']).describe()"
   ]
  },
  {
   "cell_type": "markdown",
   "metadata": {},
   "source": [
    "# converting data formats"
   ]
  },
  {
   "cell_type": "markdown",
   "metadata": {},
   "source": [
    "### looking at measured values (quick qc)"
   ]
  },
  {
   "cell_type": "code",
   "execution_count": 23,
   "metadata": {},
   "outputs": [
    {
     "data": {
      "text/plain": [
       "23"
      ]
     },
     "execution_count": 23,
     "metadata": {},
     "output_type": "execute_result"
    },
    {
     "name": "stdout",
     "output_type": "stream",
     "text": [
      "time: 2.38 ms\n"
     ]
    }
   ],
   "source": [
    "len(df_list)"
   ]
  },
  {
   "cell_type": "code",
   "execution_count": 24,
   "metadata": {},
   "outputs": [
    {
     "name": "stdout",
     "output_type": "stream",
     "text": [
      "time: 814 µs\n"
     ]
    }
   ],
   "source": [
    "def value_viewer(df_name):\n",
    "    return(dfs[df_name]['label'].unique())"
   ]
  },
  {
   "cell_type": "code",
   "execution_count": 25,
   "metadata": {},
   "outputs": [
    {
     "data": {
      "text/plain": [
       "array(['pco2'], dtype=object)"
      ]
     },
     "execution_count": 25,
     "metadata": {},
     "output_type": "execute_result"
    },
    {
     "name": "stdout",
     "output_type": "stream",
     "text": [
      "time: 2.68 ms\n"
     ]
    }
   ],
   "source": [
    "value_viewer('bg_ART')"
   ]
  },
  {
   "cell_type": "code",
   "execution_count": 26,
   "metadata": {},
   "outputs": [
    {
     "data": {
      "text/plain": [
       "array(['calcium', 'lactate', 'ph', 'potassium', 'temperature', 'glucose',\n",
       "       'hemoglobin', 'chloride', 'sodium', 'bicarbonate'], dtype=object)"
      ]
     },
     "execution_count": 26,
     "metadata": {},
     "output_type": "execute_result"
    },
    {
     "name": "stdout",
     "output_type": "stream",
     "text": [
      "time: 30.1 ms\n"
     ]
    }
   ],
   "source": [
    "value_viewer('bg_all')"
   ]
  },
  {
   "cell_type": "code",
   "execution_count": 27,
   "metadata": {},
   "outputs": [
    {
     "name": "stdout",
     "output_type": "stream",
     "text": [
      "time: 447 µs\n"
     ]
    }
   ],
   "source": [
    "#value_viewer('uti')"
   ]
  },
  {
   "cell_type": "code",
   "execution_count": 28,
   "metadata": {},
   "outputs": [
    {
     "data": {
      "text/plain": [
       "array(['bicarbonate', 'bilirubin', 'chloride', 'creatinine', 'glucose',\n",
       "       'potassium', 'sodium', 'bun', 'hemoglobin', 'platelet', 'wbc',\n",
       "       'inr', 'ptt', 'lactate', 'bands'], dtype=object)"
      ]
     },
     "execution_count": 28,
     "metadata": {},
     "output_type": "execute_result"
    },
    {
     "name": "stdout",
     "output_type": "stream",
     "text": [
      "time: 63.1 ms\n"
     ]
    }
   ],
   "source": [
    "value_viewer('labs')\n"
   ]
  },
  {
   "cell_type": "code",
   "execution_count": 29,
   "metadata": {},
   "outputs": [
    {
     "data": {
      "text/plain": [
       "array(['meanartpress', 'sysbp', 'heartrate', 'resprate', 'spo2',\n",
       "       'temperature', 'glucose', 'diasbp'], dtype=object)"
      ]
     },
     "execution_count": 29,
     "metadata": {},
     "output_type": "execute_result"
    },
    {
     "name": "stdout",
     "output_type": "stream",
     "text": [
      "time: 300 ms\n"
     ]
    }
   ],
   "source": [
    "value_viewer('vitals')"
   ]
  },
  {
   "cell_type": "code",
   "execution_count": 30,
   "metadata": {},
   "outputs": [
    {
     "data": {
      "text/plain": [
       "array(['yearsold', 'gender', 'ethnicity'], dtype=object)"
      ]
     },
     "execution_count": 30,
     "metadata": {},
     "output_type": "execute_result"
    },
    {
     "name": "stdout",
     "output_type": "stream",
     "text": [
      "time: 4.23 ms\n"
     ]
    }
   ],
   "source": [
    "value_viewer('pt_info')"
   ]
  },
  {
   "cell_type": "code",
   "execution_count": 31,
   "metadata": {},
   "outputs": [
    {
     "data": {
      "text/plain": [
       "['vasopressin',\n",
       " 'weight',\n",
       " 'gcs',\n",
       " 'epinephrine',\n",
       " 'leuk',\n",
       " 'height',\n",
       " 'labs',\n",
       " 'bg_ART',\n",
       " 'o2_flow',\n",
       " 'rrt',\n",
       " 'ventcategory',\n",
       " 'sum_elix',\n",
       " 'bg_all',\n",
       " 'norepinephrine',\n",
       " 'pt_info',\n",
       " 'dopamine',\n",
       " 'phenylephrine',\n",
       " 'cancer_elix',\n",
       " 'sofa',\n",
       " 'pafaRatio',\n",
       " 'nit',\n",
       " 'dobutamine',\n",
       " 'vitals']"
      ]
     },
     "execution_count": 31,
     "metadata": {},
     "output_type": "execute_result"
    },
    {
     "name": "stdout",
     "output_type": "stream",
     "text": [
      "time: 1.93 ms\n"
     ]
    }
   ],
   "source": [
    "list(dfs)"
   ]
  },
  {
   "cell_type": "markdown",
   "metadata": {},
   "source": [
    "# combining data"
   ]
  },
  {
   "cell_type": "code",
   "execution_count": 32,
   "metadata": {},
   "outputs": [
    {
     "data": {
      "text/plain": [
       "{'bicarbonate',\n",
       " 'chloride',\n",
       " 'glucose',\n",
       " 'hemoglobin',\n",
       " 'lactate',\n",
       " 'potassium',\n",
       " 'sodium'}"
      ]
     },
     "execution_count": 32,
     "metadata": {},
     "output_type": "execute_result"
    },
    {
     "name": "stdout",
     "output_type": "stream",
     "text": [
      "time: 55.7 ms\n"
     ]
    }
   ],
   "source": [
    "set(value_viewer('labs')) & set(value_viewer('bg_all'))"
   ]
  },
  {
   "cell_type": "code",
   "execution_count": 33,
   "metadata": {},
   "outputs": [
    {
     "data": {
      "text/plain": [
       "{'glucose'}"
      ]
     },
     "execution_count": 33,
     "metadata": {},
     "output_type": "execute_result"
    },
    {
     "name": "stdout",
     "output_type": "stream",
     "text": [
      "time: 331 ms\n"
     ]
    }
   ],
   "source": [
    "set(value_viewer('labs')) & set(value_viewer('vitals'))"
   ]
  },
  {
   "cell_type": "code",
   "execution_count": 34,
   "metadata": {},
   "outputs": [
    {
     "data": {
      "text/plain": [
       "{'glucose', 'temperature'}"
      ]
     },
     "execution_count": 34,
     "metadata": {},
     "output_type": "execute_result"
    },
    {
     "name": "stdout",
     "output_type": "stream",
     "text": [
      "time: 307 ms\n"
     ]
    }
   ],
   "source": [
    "set(value_viewer('bg_all')) & set(value_viewer('vitals'))"
   ]
  },
  {
   "cell_type": "markdown",
   "metadata": {},
   "source": [
    "# combining all df"
   ]
  },
  {
   "cell_type": "code",
   "execution_count": 35,
   "metadata": {},
   "outputs": [
    {
     "name": "stderr",
     "output_type": "stream",
     "text": [
      "/Users/geickelb1/anaconda/envs/rpy-env/lib/python3.6/site-packages/IPython/core/interactiveshell.py:2910: FutureWarning: Passing timedelta64-dtype data is deprecated, will raise a TypeError in a future version\n",
      "  exec(code_obj, self.user_global_ns, self.user_ns)\n"
     ]
    },
    {
     "name": "stdout",
     "output_type": "stream",
     "text": [
      "time: 39.1 s\n"
     ]
    },
    {
     "name": "stderr",
     "output_type": "stream",
     "text": [
      "/Users/geickelb1/anaconda/envs/rpy-env/lib/python3.6/site-packages/ipykernel_launcher.py:6: FutureWarning: Passing datetime64-dtype data to TimedeltaIndex is deprecated, will raise a TypeError in a future version\n",
      "  \n"
     ]
    }
   ],
   "source": [
    "# making one big dataframe via pd. concat\n",
    "big_df= pd.concat(dfs.values(), sort=False).sort_values(['icustay_id','delta','label','source'], ascending=True)\n",
    "#converting delta to time delta, to datetime rounded to 2 minutes, and back to time delta (more efficient than rounding timedeltas)\n",
    "big_df['delta']= pd.to_timedelta(big_df['delta'])\n",
    "big_df['delta']= pd.to_datetime(big_df['delta']).dt.round('2min')\n",
    "big_df['delta']= pd.to_timedelta(big_df['delta'])"
   ]
  },
  {
   "cell_type": "code",
   "execution_count": 36,
   "metadata": {},
   "outputs": [
    {
     "data": {
      "text/plain": [
       "7967260"
      ]
     },
     "execution_count": 36,
     "metadata": {},
     "output_type": "execute_result"
    },
    {
     "name": "stdout",
     "output_type": "stream",
     "text": [
      "time: 2.22 ms\n"
     ]
    }
   ],
   "source": [
    "len(big_df)"
   ]
  },
  {
   "cell_type": "code",
   "execution_count": 37,
   "metadata": {},
   "outputs": [
    {
     "data": {
      "text/plain": [
       "7967260"
      ]
     },
     "execution_count": 37,
     "metadata": {},
     "output_type": "execute_result"
    },
    {
     "name": "stdout",
     "output_type": "stream",
     "text": [
      "time: 2.38 ms\n"
     ]
    }
   ],
   "source": [
    "len(big_df)"
   ]
  },
  {
   "cell_type": "code",
   "execution_count": 38,
   "metadata": {},
   "outputs": [
    {
     "name": "stdout",
     "output_type": "stream",
     "text": [
      "time: 4.03 s\n"
     ]
    }
   ],
   "source": [
    "big_df.drop_duplicates(subset=['icustay_id','label','value','delta',], keep='last', inplace=True) #7638425  -> 7315304 at 2 min. "
   ]
  },
  {
   "cell_type": "code",
   "execution_count": 39,
   "metadata": {},
   "outputs": [
    {
     "data": {
      "text/plain": [
       "7635452"
      ]
     },
     "execution_count": 39,
     "metadata": {},
     "output_type": "execute_result"
    },
    {
     "name": "stdout",
     "output_type": "stream",
     "text": [
      "time: 2.01 ms\n"
     ]
    }
   ],
   "source": [
    "len(big_df)"
   ]
  },
  {
   "cell_type": "code",
   "execution_count": 40,
   "metadata": {},
   "outputs": [
    {
     "name": "stdout",
     "output_type": "stream",
     "text": [
      "time: 400 µs\n"
     ]
    }
   ],
   "source": [
    "#big_df['sum_elix']"
   ]
  },
  {
   "cell_type": "code",
   "execution_count": 41,
   "metadata": {},
   "outputs": [
    {
     "data": {
      "text/html": [
       "<div>\n",
       "<style scoped>\n",
       "    .dataframe tbody tr th:only-of-type {\n",
       "        vertical-align: middle;\n",
       "    }\n",
       "\n",
       "    .dataframe tbody tr th {\n",
       "        vertical-align: top;\n",
       "    }\n",
       "\n",
       "    .dataframe thead th {\n",
       "        text-align: right;\n",
       "    }\n",
       "</style>\n",
       "<table border=\"1\" class=\"dataframe\">\n",
       "  <thead>\n",
       "    <tr style=\"text-align: right;\">\n",
       "      <th></th>\n",
       "      <th>count</th>\n",
       "      <th>unique</th>\n",
       "      <th>top</th>\n",
       "      <th>freq</th>\n",
       "    </tr>\n",
       "    <tr>\n",
       "      <th>label</th>\n",
       "      <th></th>\n",
       "      <th></th>\n",
       "      <th></th>\n",
       "      <th></th>\n",
       "    </tr>\n",
       "  </thead>\n",
       "  <tbody>\n",
       "    <tr>\n",
       "      <th>bands</th>\n",
       "      <td>19633</td>\n",
       "      <td>3</td>\n",
       "      <td>absent</td>\n",
       "      <td>16546</td>\n",
       "    </tr>\n",
       "    <tr>\n",
       "      <th>bicarbonate</th>\n",
       "      <td>62333</td>\n",
       "      <td>96</td>\n",
       "      <td>23</td>\n",
       "      <td>4936</td>\n",
       "    </tr>\n",
       "    <tr>\n",
       "      <th>bilirubin</th>\n",
       "      <td>18798</td>\n",
       "      <td>583</td>\n",
       "      <td>0.4</td>\n",
       "      <td>1418</td>\n",
       "    </tr>\n",
       "    <tr>\n",
       "      <th>bun</th>\n",
       "      <td>61960</td>\n",
       "      <td>339</td>\n",
       "      <td>14</td>\n",
       "      <td>1727</td>\n",
       "    </tr>\n",
       "    <tr>\n",
       "      <th>calcium</th>\n",
       "      <td>33713</td>\n",
       "      <td>193</td>\n",
       "      <td>1.13</td>\n",
       "      <td>1673</td>\n",
       "    </tr>\n",
       "    <tr>\n",
       "      <th>cancer_elix</th>\n",
       "      <td>19633</td>\n",
       "      <td>2</td>\n",
       "      <td>0</td>\n",
       "      <td>17212</td>\n",
       "    </tr>\n",
       "    <tr>\n",
       "      <th>chloride</th>\n",
       "      <td>69606</td>\n",
       "      <td>144</td>\n",
       "      <td>106</td>\n",
       "      <td>4231</td>\n",
       "    </tr>\n",
       "    <tr>\n",
       "      <th>creatinine</th>\n",
       "      <td>62214</td>\n",
       "      <td>287</td>\n",
       "      <td>0.7</td>\n",
       "      <td>4783</td>\n",
       "    </tr>\n",
       "    <tr>\n",
       "      <th>daily_sofa</th>\n",
       "      <td>43650</td>\n",
       "      <td>24</td>\n",
       "      <td>1</td>\n",
       "      <td>7816</td>\n",
       "    </tr>\n",
       "    <tr>\n",
       "      <th>diasbp</th>\n",
       "      <td>943009</td>\n",
       "      <td>208</td>\n",
       "      <td>56</td>\n",
       "      <td>29858</td>\n",
       "    </tr>\n",
       "    <tr>\n",
       "      <th>dobutamine</th>\n",
       "      <td>20982</td>\n",
       "      <td>2</td>\n",
       "      <td>0</td>\n",
       "      <td>19345</td>\n",
       "    </tr>\n",
       "    <tr>\n",
       "      <th>dopamine</th>\n",
       "      <td>25211</td>\n",
       "      <td>2</td>\n",
       "      <td>0</td>\n",
       "      <td>18518</td>\n",
       "    </tr>\n",
       "    <tr>\n",
       "      <th>epinephrine</th>\n",
       "      <td>21746</td>\n",
       "      <td>2</td>\n",
       "      <td>0</td>\n",
       "      <td>19187</td>\n",
       "    </tr>\n",
       "    <tr>\n",
       "      <th>ethnicity</th>\n",
       "      <td>12904</td>\n",
       "      <td>5</td>\n",
       "      <td>white/nonhispanic</td>\n",
       "      <td>9332</td>\n",
       "    </tr>\n",
       "    <tr>\n",
       "      <th>gender</th>\n",
       "      <td>12904</td>\n",
       "      <td>2</td>\n",
       "      <td>M</td>\n",
       "      <td>7021</td>\n",
       "    </tr>\n",
       "    <tr>\n",
       "      <th>glucose</th>\n",
       "      <td>232724</td>\n",
       "      <td>1069</td>\n",
       "      <td>110</td>\n",
       "      <td>2479</td>\n",
       "    </tr>\n",
       "    <tr>\n",
       "      <th>heartrate</th>\n",
       "      <td>966962</td>\n",
       "      <td>206</td>\n",
       "      <td>80</td>\n",
       "      <td>25775</td>\n",
       "    </tr>\n",
       "    <tr>\n",
       "      <th>height</th>\n",
       "      <td>13372</td>\n",
       "      <td>134</td>\n",
       "      <td>177.8</td>\n",
       "      <td>870</td>\n",
       "    </tr>\n",
       "    <tr>\n",
       "      <th>hemoglobin</th>\n",
       "      <td>67540</td>\n",
       "      <td>289</td>\n",
       "      <td>9.7</td>\n",
       "      <td>1525</td>\n",
       "    </tr>\n",
       "    <tr>\n",
       "      <th>inr</th>\n",
       "      <td>41916</td>\n",
       "      <td>251</td>\n",
       "      <td>1.2</td>\n",
       "      <td>5785</td>\n",
       "    </tr>\n",
       "    <tr>\n",
       "      <th>lactate</th>\n",
       "      <td>42157</td>\n",
       "      <td>446</td>\n",
       "      <td>1.2</td>\n",
       "      <td>1883</td>\n",
       "    </tr>\n",
       "    <tr>\n",
       "      <th>leukocyte</th>\n",
       "      <td>19633</td>\n",
       "      <td>2</td>\n",
       "      <td>Neg/Not_tested</td>\n",
       "      <td>16774</td>\n",
       "    </tr>\n",
       "    <tr>\n",
       "      <th>meanartpress</th>\n",
       "      <td>957885</td>\n",
       "      <td>588</td>\n",
       "      <td>72</td>\n",
       "      <td>25498</td>\n",
       "    </tr>\n",
       "    <tr>\n",
       "      <th>mingcs</th>\n",
       "      <td>7777</td>\n",
       "      <td>13</td>\n",
       "      <td>15</td>\n",
       "      <td>2812</td>\n",
       "    </tr>\n",
       "    <tr>\n",
       "      <th>nitrite</th>\n",
       "      <td>19633</td>\n",
       "      <td>2</td>\n",
       "      <td>Neg/Not_tested</td>\n",
       "      <td>19095</td>\n",
       "    </tr>\n",
       "    <tr>\n",
       "      <th>norepinephrine</th>\n",
       "      <td>42225</td>\n",
       "      <td>2</td>\n",
       "      <td>1</td>\n",
       "      <td>26326</td>\n",
       "    </tr>\n",
       "    <tr>\n",
       "      <th>o2_flow</th>\n",
       "      <td>19932</td>\n",
       "      <td>2</td>\n",
       "      <td>0</td>\n",
       "      <td>18754</td>\n",
       "    </tr>\n",
       "    <tr>\n",
       "      <th>pao2fio2ratio</th>\n",
       "      <td>19633</td>\n",
       "      <td>1150</td>\n",
       "      <td>476</td>\n",
       "      <td>11982</td>\n",
       "    </tr>\n",
       "    <tr>\n",
       "      <th>pco2</th>\n",
       "      <td>19633</td>\n",
       "      <td>3</td>\n",
       "      <td>absent</td>\n",
       "      <td>11981</td>\n",
       "    </tr>\n",
       "    <tr>\n",
       "      <th>ph</th>\n",
       "      <td>78707</td>\n",
       "      <td>104</td>\n",
       "      <td>7.4</td>\n",
       "      <td>4131</td>\n",
       "    </tr>\n",
       "    <tr>\n",
       "      <th>phenylephrine</th>\n",
       "      <td>34687</td>\n",
       "      <td>2</td>\n",
       "      <td>1</td>\n",
       "      <td>18147</td>\n",
       "    </tr>\n",
       "    <tr>\n",
       "      <th>platelet</th>\n",
       "      <td>58189</td>\n",
       "      <td>1454</td>\n",
       "      <td>108</td>\n",
       "      <td>255</td>\n",
       "    </tr>\n",
       "    <tr>\n",
       "      <th>potassium</th>\n",
       "      <td>89966</td>\n",
       "      <td>164</td>\n",
       "      <td>4</td>\n",
       "      <td>6042</td>\n",
       "    </tr>\n",
       "    <tr>\n",
       "      <th>ptt</th>\n",
       "      <td>43966</td>\n",
       "      <td>1788</td>\n",
       "      <td>150</td>\n",
       "      <td>1035</td>\n",
       "    </tr>\n",
       "    <tr>\n",
       "      <th>resprate</th>\n",
       "      <td>1.02007e+06</td>\n",
       "      <td>72</td>\n",
       "      <td>20</td>\n",
       "      <td>79576</td>\n",
       "    </tr>\n",
       "    <tr>\n",
       "      <th>rrt</th>\n",
       "      <td>19633</td>\n",
       "      <td>2</td>\n",
       "      <td>0</td>\n",
       "      <td>17960</td>\n",
       "    </tr>\n",
       "    <tr>\n",
       "      <th>sodium</th>\n",
       "      <td>73014</td>\n",
       "      <td>147</td>\n",
       "      <td>138</td>\n",
       "      <td>6198</td>\n",
       "    </tr>\n",
       "    <tr>\n",
       "      <th>spo2</th>\n",
       "      <td>926507</td>\n",
       "      <td>102</td>\n",
       "      <td>100</td>\n",
       "      <td>223264</td>\n",
       "    </tr>\n",
       "    <tr>\n",
       "      <th>sum_elix</th>\n",
       "      <td>22281</td>\n",
       "      <td>14</td>\n",
       "      <td>0</td>\n",
       "      <td>14005</td>\n",
       "    </tr>\n",
       "    <tr>\n",
       "      <th>sysbp</th>\n",
       "      <td>947120</td>\n",
       "      <td>241</td>\n",
       "      <td>108</td>\n",
       "      <td>17837</td>\n",
       "    </tr>\n",
       "    <tr>\n",
       "      <th>temperature</th>\n",
       "      <td>293018</td>\n",
       "      <td>619</td>\n",
       "      <td>36.6667</td>\n",
       "      <td>7678</td>\n",
       "    </tr>\n",
       "    <tr>\n",
       "      <th>vasopressin</th>\n",
       "      <td>22874</td>\n",
       "      <td>2</td>\n",
       "      <td>0</td>\n",
       "      <td>19117</td>\n",
       "    </tr>\n",
       "    <tr>\n",
       "      <th>vent_recieved</th>\n",
       "      <td>19456</td>\n",
       "      <td>3</td>\n",
       "      <td>Mech</td>\n",
       "      <td>9958</td>\n",
       "    </tr>\n",
       "    <tr>\n",
       "      <th>wbc</th>\n",
       "      <td>55783</td>\n",
       "      <td>1171</td>\n",
       "      <td>8.8</td>\n",
       "      <td>441</td>\n",
       "    </tr>\n",
       "    <tr>\n",
       "      <th>weight</th>\n",
       "      <td>17867</td>\n",
       "      <td>1573</td>\n",
       "      <td>70</td>\n",
       "      <td>322</td>\n",
       "    </tr>\n",
       "    <tr>\n",
       "      <th>yearsold</th>\n",
       "      <td>12904</td>\n",
       "      <td>12129</td>\n",
       "      <td>90.0</td>\n",
       "      <td>776</td>\n",
       "    </tr>\n",
       "  </tbody>\n",
       "</table>\n",
       "</div>"
      ],
      "text/plain": [
       "                      count unique                top    freq\n",
       "label                                                        \n",
       "bands                 19633      3             absent   16546\n",
       "bicarbonate           62333     96                 23    4936\n",
       "bilirubin             18798    583                0.4    1418\n",
       "bun                   61960    339                 14    1727\n",
       "calcium               33713    193               1.13    1673\n",
       "cancer_elix           19633      2                  0   17212\n",
       "chloride              69606    144                106    4231\n",
       "creatinine            62214    287                0.7    4783\n",
       "daily_sofa            43650     24                  1    7816\n",
       "diasbp               943009    208                 56   29858\n",
       "dobutamine            20982      2                  0   19345\n",
       "dopamine              25211      2                  0   18518\n",
       "epinephrine           21746      2                  0   19187\n",
       "ethnicity             12904      5  white/nonhispanic    9332\n",
       "gender                12904      2                  M    7021\n",
       "glucose              232724   1069                110    2479\n",
       "heartrate            966962    206                 80   25775\n",
       "height                13372    134              177.8     870\n",
       "hemoglobin            67540    289                9.7    1525\n",
       "inr                   41916    251                1.2    5785\n",
       "lactate               42157    446                1.2    1883\n",
       "leukocyte             19633      2     Neg/Not_tested   16774\n",
       "meanartpress         957885    588                 72   25498\n",
       "mingcs                 7777     13                 15    2812\n",
       "nitrite               19633      2     Neg/Not_tested   19095\n",
       "norepinephrine        42225      2                  1   26326\n",
       "o2_flow               19932      2                  0   18754\n",
       "pao2fio2ratio         19633   1150                476   11982\n",
       "pco2                  19633      3             absent   11981\n",
       "ph                    78707    104                7.4    4131\n",
       "phenylephrine         34687      2                  1   18147\n",
       "platelet              58189   1454                108     255\n",
       "potassium             89966    164                  4    6042\n",
       "ptt                   43966   1788                150    1035\n",
       "resprate        1.02007e+06     72                 20   79576\n",
       "rrt                   19633      2                  0   17960\n",
       "sodium                73014    147                138    6198\n",
       "spo2                 926507    102                100  223264\n",
       "sum_elix              22281     14                  0   14005\n",
       "sysbp                947120    241                108   17837\n",
       "temperature          293018    619            36.6667    7678\n",
       "vasopressin           22874      2                  0   19117\n",
       "vent_recieved         19456      3               Mech    9958\n",
       "wbc                   55783   1171                8.8     441\n",
       "weight                17867   1573                 70     322\n",
       "yearsold              12904  12129               90.0     776"
      ]
     },
     "execution_count": 41,
     "metadata": {},
     "output_type": "execute_result"
    },
    {
     "name": "stdout",
     "output_type": "stream",
     "text": [
      "time: 2.69 s\n"
     ]
    }
   ],
   "source": [
    "big_df.groupby('label')['value'].describe() "
   ]
  },
  {
   "cell_type": "code",
   "execution_count": 42,
   "metadata": {},
   "outputs": [
    {
     "name": "stdout",
     "output_type": "stream",
     "text": [
      "time: 486 µs\n"
     ]
    }
   ],
   "source": [
    "#big_df.groupby('label')['value'].describe() #14478 icustay_id's"
   ]
  },
  {
   "cell_type": "code",
   "execution_count": 43,
   "metadata": {},
   "outputs": [
    {
     "data": {
      "text/plain": [
       "array(['bands', 'cancer_elix', 'daily_sofa', 'dobutamine', 'dopamine',\n",
       "       'epinephrine', 'heartrate', 'height', 'norepinephrine', 'o2_flow',\n",
       "       'pao2fio2ratio', 'pco2', 'phenylephrine', 'resprate', 'spo2',\n",
       "       'sum_elix', 'vasopressin', 'vent_recieved', 'weight', 'diasbp',\n",
       "       'meanartpress', 'sysbp', 'rrt', 'bicarbonate', 'bilirubin', 'bun',\n",
       "       'chloride', 'creatinine', 'glucose', 'hemoglobin', 'inr',\n",
       "       'platelet', 'potassium', 'ptt', 'sodium', 'wbc', 'temperature',\n",
       "       'ph', 'leukocyte', 'nitrite', 'lactate', 'ethnicity', 'gender',\n",
       "       'yearsold', 'calcium', 'mingcs'], dtype=object)"
      ]
     },
     "execution_count": 43,
     "metadata": {},
     "output_type": "execute_result"
    },
    {
     "name": "stdout",
     "output_type": "stream",
     "text": [
      "time: 668 ms\n"
     ]
    }
   ],
   "source": [
    "big_df['label'].unique()"
   ]
  },
  {
   "cell_type": "code",
   "execution_count": 44,
   "metadata": {},
   "outputs": [
    {
     "data": {
      "text/html": [
       "<div>\n",
       "<style scoped>\n",
       "    .dataframe tbody tr th:only-of-type {\n",
       "        vertical-align: middle;\n",
       "    }\n",
       "\n",
       "    .dataframe tbody tr th {\n",
       "        vertical-align: top;\n",
       "    }\n",
       "\n",
       "    .dataframe thead th {\n",
       "        text-align: right;\n",
       "    }\n",
       "</style>\n",
       "<table border=\"1\" class=\"dataframe\">\n",
       "  <thead>\n",
       "    <tr style=\"text-align: right;\">\n",
       "      <th></th>\n",
       "      <th>icustay_id</th>\n",
       "      <th>t_0</th>\n",
       "      <th>value</th>\n",
       "      <th>label</th>\n",
       "      <th>uom</th>\n",
       "      <th>delta</th>\n",
       "      <th>source</th>\n",
       "      <th>subject_id</th>\n",
       "    </tr>\n",
       "  </thead>\n",
       "  <tbody>\n",
       "    <tr>\n",
       "      <th>13546</th>\n",
       "      <td>200001.0</td>\n",
       "      <td>2181-11-26</td>\n",
       "      <td>Neg/Not_tested</td>\n",
       "      <td>leukocyte</td>\n",
       "      <td>pos/neg category</td>\n",
       "      <td>1 days</td>\n",
       "      <td>leuk</td>\n",
       "      <td>55973</td>\n",
       "    </tr>\n",
       "    <tr>\n",
       "      <th>9126</th>\n",
       "      <td>200003.0</td>\n",
       "      <td>2199-08-04</td>\n",
       "      <td>Neg/Not_tested</td>\n",
       "      <td>leukocyte</td>\n",
       "      <td>pos/neg category</td>\n",
       "      <td>1 days</td>\n",
       "      <td>leuk</td>\n",
       "      <td>27513</td>\n",
       "    </tr>\n",
       "    <tr>\n",
       "      <th>9527</th>\n",
       "      <td>200012.0</td>\n",
       "      <td>2153-12-23</td>\n",
       "      <td>Neg/Not_tested</td>\n",
       "      <td>leukocyte</td>\n",
       "      <td>pos/neg category</td>\n",
       "      <td>1 days</td>\n",
       "      <td>leuk</td>\n",
       "      <td>28448</td>\n",
       "    </tr>\n",
       "    <tr>\n",
       "      <th>3120</th>\n",
       "      <td>200014.0</td>\n",
       "      <td>2105-02-17</td>\n",
       "      <td>Neg/Not_tested</td>\n",
       "      <td>leukocyte</td>\n",
       "      <td>pos/neg category</td>\n",
       "      <td>1 days</td>\n",
       "      <td>leuk</td>\n",
       "      <td>9514</td>\n",
       "    </tr>\n",
       "    <tr>\n",
       "      <th>7162</th>\n",
       "      <td>200019.0</td>\n",
       "      <td>2178-07-09</td>\n",
       "      <td>Neg/Not_tested</td>\n",
       "      <td>leukocyte</td>\n",
       "      <td>pos/neg category</td>\n",
       "      <td>1 days</td>\n",
       "      <td>leuk</td>\n",
       "      <td>21789</td>\n",
       "    </tr>\n",
       "  </tbody>\n",
       "</table>\n",
       "</div>"
      ],
      "text/plain": [
       "       icustay_id         t_0           value      label               uom  \\\n",
       "13546    200001.0  2181-11-26  Neg/Not_tested  leukocyte  pos/neg category   \n",
       "9126     200003.0  2199-08-04  Neg/Not_tested  leukocyte  pos/neg category   \n",
       "9527     200012.0  2153-12-23  Neg/Not_tested  leukocyte  pos/neg category   \n",
       "3120     200014.0  2105-02-17  Neg/Not_tested  leukocyte  pos/neg category   \n",
       "7162     200019.0  2178-07-09  Neg/Not_tested  leukocyte  pos/neg category   \n",
       "\n",
       "       delta source  subject_id  \n",
       "13546 1 days   leuk       55973  \n",
       "9126  1 days   leuk       27513  \n",
       "9527  1 days   leuk       28448  \n",
       "3120  1 days   leuk        9514  \n",
       "7162  1 days   leuk       21789  "
      ]
     },
     "execution_count": 44,
     "metadata": {},
     "output_type": "execute_result"
    },
    {
     "name": "stdout",
     "output_type": "stream",
     "text": [
      "time: 522 ms\n"
     ]
    }
   ],
   "source": [
    "big_df[big_df['label']=='leukocyte'].head()"
   ]
  },
  {
   "cell_type": "markdown",
   "metadata": {},
   "source": [
    "## quick qc to protect against old versions"
   ]
  },
  {
   "cell_type": "code",
   "execution_count": 45,
   "metadata": {},
   "outputs": [
    {
     "name": "stdout",
     "output_type": "stream",
     "text": [
      "time: 711 ms\n"
     ]
    }
   ],
   "source": [
    "#removing firstpos else neg ssc col if it still exists (qc)\n",
    "big_df=big_df.loc[:,list(big_df.columns!=\"first_pos_else_neg_ssc\")]"
   ]
  },
  {
   "cell_type": "code",
   "execution_count": 46,
   "metadata": {},
   "outputs": [
    {
     "name": "stdout",
     "output_type": "stream",
     "text": [
      "/Users/geickelb1/Documents/GitHub/mimiciii-antibiotics-opensource/data/cleaned_merged/48_hr_window/\n",
      "time: 2min 19s\n"
     ]
    }
   ],
   "source": [
    "save_df(big_df, 'longdf')"
   ]
  },
  {
   "cell_type": "code",
   "execution_count": 47,
   "metadata": {},
   "outputs": [
    {
     "name": "stdout",
     "output_type": "stream",
     "text": [
      "time: 628 ms\n"
     ]
    }
   ],
   "source": [
    "del big_df\n",
    "del dfs"
   ]
  },
  {
   "cell_type": "markdown",
   "metadata": {},
   "source": [
    "#### making a patient missingness visualization"
   ]
  },
  {
   "cell_type": "code",
   "execution_count": 48,
   "metadata": {},
   "outputs": [
    {
     "name": "stdout",
     "output_type": "stream",
     "text": [
      "time: 1.11 ms\n"
     ]
    }
   ],
   "source": [
    "# #big_agg= big_df.groupby(['icustay_id','label'], as_index=False)['value'].agg(['min'])\n",
    "# big_agg= big_df.groupby(['icustay_id','label'], as_index=False)['value'].size()\n",
    "# big_agg_count= big_agg.reset_index().pivot(index='icustay_id',columns='label', values=0)#, levels='icustay_id')"
   ]
  },
  {
   "cell_type": "code",
   "execution_count": 49,
   "metadata": {},
   "outputs": [
    {
     "name": "stdout",
     "output_type": "stream",
     "text": [
      "time: 818 µs\n"
     ]
    }
   ],
   "source": [
    "# big_agg_count= big_agg.reset_index().pivot(index='icustay_id',columns='label', values=0)#, levels='icustay_id')"
   ]
  },
  {
   "cell_type": "code",
   "execution_count": 50,
   "metadata": {},
   "outputs": [
    {
     "name": "stdout",
     "output_type": "stream",
     "text": [
      "time: 390 µs\n"
     ]
    }
   ],
   "source": [
    "# sns.set(rc={'figure.figsize':(25,15)})"
   ]
  },
  {
   "cell_type": "code",
   "execution_count": 51,
   "metadata": {},
   "outputs": [
    {
     "name": "stdout",
     "output_type": "stream",
     "text": [
      "time: 1.14 ms\n"
     ]
    }
   ],
   "source": [
    "# #big_agg_min\n",
    "\n",
    "# #%matplotlib inline\n",
    "# sns.set(rc={'figure.figsize':(25,15)})\n",
    "# big_agg_count= big_agg_count.fillna(0)\n",
    "# big_agg_count = big_agg_count[big_agg_count.columns].astype(float) \n",
    "\n",
    "\n",
    "# sns.heatmap(big_agg_count,vmin=0, vmax=1, cmap=sns.color_palette(\"RdBu_r\", 5))"
   ]
  },
  {
   "cell_type": "code",
   "execution_count": 52,
   "metadata": {},
   "outputs": [
    {
     "name": "stdout",
     "output_type": "stream",
     "text": [
      "time: 615 µs\n"
     ]
    }
   ],
   "source": [
    "# #deleting df's for memory once saved\n",
    "# del big_df, big_agg_count, big_agg, dfs"
   ]
  },
  {
   "cell_type": "code",
   "execution_count": 53,
   "metadata": {},
   "outputs": [
    {
     "name": "stdout",
     "output_type": "stream",
     "text": [
      "time: 662 µs\n"
     ]
    }
   ],
   "source": [
    "# big_agg_count[big_agg_count>0] =1\n",
    "# big_agg_pt_missing= big_agg_count.T.apply(lambda x:100*(len(list(big_agg_count))-sum(x))/len(list(big_agg_count)))\n",
    "# big_agg_pt_missing= pd.DataFrame(big_agg_pt_missing).rename(index=str, columns={0:'%_of_values_missing'})"
   ]
  },
  {
   "cell_type": "code",
   "execution_count": 54,
   "metadata": {},
   "outputs": [
    {
     "name": "stdout",
     "output_type": "stream",
     "text": [
      "time: 658 µs\n"
     ]
    }
   ],
   "source": [
    "# big_agg_pt_missing.sort_values('%_of_values_missing',ascending=False).plot()"
   ]
  },
  {
   "cell_type": "code",
   "execution_count": null,
   "metadata": {},
   "outputs": [],
   "source": []
  }
 ],
 "metadata": {
  "kernelspec": {
   "display_name": "Python 3",
   "language": "python",
   "name": "python3"
  },
  "language_info": {
   "codemirror_mode": {
    "name": "ipython",
    "version": 3
   },
   "file_extension": ".py",
   "mimetype": "text/x-python",
   "name": "python",
   "nbconvert_exporter": "python",
   "pygments_lexer": "ipython3",
   "version": "3.6.8"
  }
 },
 "nbformat": 4,
 "nbformat_minor": 4
}
