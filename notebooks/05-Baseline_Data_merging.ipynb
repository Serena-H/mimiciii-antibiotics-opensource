{
 "cells": [
  {
   "cell_type": "markdown",
   "metadata": {},
   "source": [
    "# making an aggregate master dataframe for baseline model\n",
    "this notebook is going to make a single standardized long format dataframe for each of my cleaned clinical variable dataframes.\n",
    "\n",
    "will save this into a file with a cleaned_merged_df prefix."
   ]
  },
  {
   "cell_type": "code",
   "execution_count": 1,
   "metadata": {},
   "outputs": [],
   "source": [
    "import pandas as pd\n",
    "import matplotlib.pyplot as plt\n",
    "import os\n",
    "from pathlib import Path\n",
    "import seaborn as sns\n",
    "import numpy as np\n",
    "import glob\n",
    "\n",
    "%matplotlib inline\n",
    "plt.style.use('ggplot')\n",
    "\n",
    "from notebook.services.config import ConfigManager\n",
    "cm = ConfigManager()\n",
    "cm.update('livereveal', {\n",
    "        'width': 1024,\n",
    "        'height': 768,\n",
    "        'scroll': True,\n",
    "})\n",
    "\n",
    "%load_ext autotime"
   ]
  },
  {
   "cell_type": "code",
   "execution_count": 2,
   "metadata": {},
   "outputs": [
    {
     "name": "stdout",
     "output_type": "stream",
     "text": [
      "time: 1.14 s\n"
     ]
    }
   ],
   "source": [
    "#patients of interest from rotation_cohort_generation\n",
    "from parameters import final_pt_df_v, date, repository_path\n",
    "\n",
    "#patients of interest from rotation_cohort_generation\n",
    "final_pt_df2 = final_pt_df_v #pd.read_csv('/Users/geickelb1/Documents/GitHub/mimiciii-antibiotics-modeling/data/raw/csv/%s_final_pt_df2.csv'%(most_updated_patient_df), index_col=0)\n",
    "del(final_pt_df_v)\n",
    "\n",
    "patients= list(final_pt_df2['subject_id'].unique())\n",
    "hadm_id= list(final_pt_df2['hadm_id'].unique())\n",
    "icustay_id= list(final_pt_df2['icustay_id'].unique())\n",
    "icustay_id= [int(x) for x in icustay_id]"
   ]
  },
  {
   "cell_type": "code",
   "execution_count": 3,
   "metadata": {},
   "outputs": [
    {
     "data": {
      "text/plain": [
       "19633"
      ]
     },
     "execution_count": 3,
     "metadata": {},
     "output_type": "execute_result"
    },
    {
     "name": "stdout",
     "output_type": "stream",
     "text": [
      "time: 4.1 ms\n"
     ]
    }
   ],
   "source": [
    "final_pt_df2['icustay_id'].nunique() #14478"
   ]
  },
  {
   "cell_type": "code",
   "execution_count": 4,
   "metadata": {},
   "outputs": [
    {
     "name": "stdout",
     "output_type": "stream",
     "text": [
      "time: 768 µs\n"
     ]
    }
   ],
   "source": [
    "from parameters import lower_window, upper_window, folder, date, time_col, time_var, patient_df"
   ]
  },
  {
   "cell_type": "code",
   "execution_count": 5,
   "metadata": {},
   "outputs": [
    {
     "data": {
      "text/plain": [
       "['/Users/geickelb1/Documents/GitHub/mimiciii-antibiotics-opensource/data/cleaned/72_hr_window/16122019_pt_info_prepped.csv',\n",
       " '/Users/geickelb1/Documents/GitHub/mimiciii-antibiotics-opensource/data/cleaned/72_hr_window/16122019_gcs_prepped.csv',\n",
       " '/Users/geickelb1/Documents/GitHub/mimiciii-antibiotics-opensource/data/cleaned/72_hr_window/16122019_all_vaso_prepped.csv',\n",
       " '/Users/geickelb1/Documents/GitHub/mimiciii-antibiotics-opensource/data/cleaned/72_hr_window/16122019_pfRatio_prepped.csv',\n",
       " '/Users/geickelb1/Documents/GitHub/mimiciii-antibiotics-opensource/data/cleaned/72_hr_window/16122019_vitals_prepped.csv',\n",
       " '/Users/geickelb1/Documents/GitHub/mimiciii-antibiotics-opensource/data/cleaned/72_hr_window/16122019_leuk_prepped.csv',\n",
       " '/Users/geickelb1/Documents/GitHub/mimiciii-antibiotics-opensource/data/cleaned/72_hr_window/16122019_rrt_prepped.csv',\n",
       " '/Users/geickelb1/Documents/GitHub/mimiciii-antibiotics-opensource/data/cleaned/72_hr_window/16122019_labs_prepped.csv',\n",
       " '/Users/geickelb1/Documents/GitHub/mimiciii-antibiotics-opensource/data/cleaned/72_hr_window/16122019_bg_all_prepped.csv',\n",
       " '/Users/geickelb1/Documents/GitHub/mimiciii-antibiotics-opensource/data/cleaned/72_hr_window/16122019_vasopressin_prepped.csv',\n",
       " '/Users/geickelb1/Documents/GitHub/mimiciii-antibiotics-opensource/data/cleaned/72_hr_window/16122019_epinephrine_prepped.csv',\n",
       " '/Users/geickelb1/Documents/GitHub/mimiciii-antibiotics-opensource/data/cleaned/72_hr_window/16122019_bg_ART_prepped.csv',\n",
       " '/Users/geickelb1/Documents/GitHub/mimiciii-antibiotics-opensource/data/cleaned/72_hr_window/16122019_cancer_elix_prepped.csv',\n",
       " '/Users/geickelb1/Documents/GitHub/mimiciii-antibiotics-opensource/data/cleaned/72_hr_window/16122019_o2_flow_prepped.csv',\n",
       " '/Users/geickelb1/Documents/GitHub/mimiciii-antibiotics-opensource/data/cleaned/72_hr_window/16122019_sum_elix_prepped.csv',\n",
       " '/Users/geickelb1/Documents/GitHub/mimiciii-antibiotics-opensource/data/cleaned/72_hr_window/16122019_nit_prepped.csv',\n",
       " '/Users/geickelb1/Documents/GitHub/mimiciii-antibiotics-opensource/data/cleaned/72_hr_window/16122019_norepinephrine_prepped.csv',\n",
       " '/Users/geickelb1/Documents/GitHub/mimiciii-antibiotics-opensource/data/cleaned/72_hr_window/16122019_phenylephrine_prepped.csv',\n",
       " '/Users/geickelb1/Documents/GitHub/mimiciii-antibiotics-opensource/data/cleaned/72_hr_window/16122019_sofa_prepped.csv',\n",
       " '/Users/geickelb1/Documents/GitHub/mimiciii-antibiotics-opensource/data/cleaned/72_hr_window/16122019_dopamine_prepped.csv',\n",
       " '/Users/geickelb1/Documents/GitHub/mimiciii-antibiotics-opensource/data/cleaned/72_hr_window/16122019_height_prepped.csv',\n",
       " '/Users/geickelb1/Documents/GitHub/mimiciii-antibiotics-opensource/data/cleaned/72_hr_window/16122019_dobutamine_prepped.csv',\n",
       " '/Users/geickelb1/Documents/GitHub/mimiciii-antibiotics-opensource/data/cleaned/72_hr_window/16122019_ventcategory_prepped.csv',\n",
       " '/Users/geickelb1/Documents/GitHub/mimiciii-antibiotics-opensource/data/cleaned/72_hr_window/16122019_weight_prepped.csv']"
      ]
     },
     "execution_count": 5,
     "metadata": {},
     "output_type": "execute_result"
    },
    {
     "name": "stdout",
     "output_type": "stream",
     "text": [
      "time: 4 ms\n"
     ]
    }
   ],
   "source": [
    "#import all cleaned or 'prepped' clinical variable csv\n",
    "allFiles = glob.glob(str(repository_path)+ '/data/cleaned/%s/'%(folder) + \"{}_*.csv\".format(date))\n",
    "allFiles"
   ]
  },
  {
   "cell_type": "code",
   "execution_count": 6,
   "metadata": {},
   "outputs": [
    {
     "name": "stdout",
     "output_type": "stream",
     "text": [
      "time: 5.86 ms\n"
     ]
    }
   ],
   "source": [
    "save_path= str(repository_path)+'/data/cleaned_merged/'\n",
    "def save_df(df, df_name='default', save_path=save_path, add_subfolder=False):\n",
    "    #uses the date and supplied df name and saves to the savepath specified above.\n",
    "    if df_name == 'default':\n",
    "        df_name= \"%s\"%(df)\n",
    "    \n",
    "    address=save_path+'%s/'%(folder)\n",
    "    if not os.path.exists(address):\n",
    "        print(address)\n",
    "        os.makedirs(address)\n",
    "    pd.DataFrame(df).to_csv(Path(address+'%s_%s_cleaned_merged.csv' %(date, df_name)))"
   ]
  },
  {
   "cell_type": "code",
   "execution_count": 7,
   "metadata": {},
   "outputs": [
    {
     "data": {
      "text/plain": [
       "'/Users/geickelb1/Documents/GitHub/mimiciii-antibiotics-opensource/notebooks'"
      ]
     },
     "execution_count": 7,
     "metadata": {},
     "output_type": "execute_result"
    },
    {
     "name": "stdout",
     "output_type": "stream",
     "text": [
      "time: 1.85 ms\n"
     ]
    }
   ],
   "source": [
    "os.getcwd()"
   ]
  },
  {
   "cell_type": "code",
   "execution_count": 8,
   "metadata": {},
   "outputs": [
    {
     "name": "stderr",
     "output_type": "stream",
     "text": [
      "/Users/geickelb1/anaconda/envs/rpy-env/lib/python3.6/site-packages/numpy/lib/arraysetops.py:569: FutureWarning: elementwise comparison failed; returning scalar instead, but in the future will perform elementwise comparison\n",
      "  mask |= (ar1 == a)\n",
      "/Users/geickelb1/anaconda/envs/rpy-env/lib/python3.6/site-packages/IPython/core/interactiveshell.py:2728: DtypeWarning: Columns (8) have mixed types. Specify dtype option on import or set low_memory=False.\n",
      "  interactivity=interactivity, compiler=compiler, result=result)\n"
     ]
    },
    {
     "name": "stdout",
     "output_type": "stream",
     "text": [
      "time: 17.4 s\n"
     ]
    }
   ],
   "source": [
    "#making a dictionary of all my dataframes for easier cycling through\n",
    "\n",
    "df_list=[]\n",
    "for element in allFiles:\n",
    "    df_list.append(element.split('{}_'.format(date))[1].split('_prepped.csv')[0]) #making an list of all my dataframes in order they appear in file\n",
    "\n",
    "dfs = {}\n",
    "i=0\n",
    "for name in df_list:\n",
    "    dfs[name] = pd.read_csv(allFiles[i],  index_col=0)\n",
    "    i+=1"
   ]
  },
  {
   "cell_type": "code",
   "execution_count": 9,
   "metadata": {},
   "outputs": [
    {
     "name": "stdout",
     "output_type": "stream",
     "text": [
      "pt_info : ['icustay_id', 'subject_id', 't_0', 'label', 'value', 'delta', 'uom']\n",
      "gcs : ['subject_id', 'hadm_id', 'icustay_id', 'delta', 'label', 'value', 't_0', 'uom']\n",
      "all_vaso : ['icustay_id', 't_0', 'value', 'label', 'uom', 'delta']\n",
      "pfRatio : ['subject_id', 'hadm_id', 'icustay_id', 'value', 'delta', 'uom', 'label']\n",
      "vitals : ['subject_id', 'hadm_id', 'icustay_id', 'charttime', 'uom', 'label', 'value', 't_0', 'delta']\n",
      "leuk : ['hadm_id', 'icustay_id', 'subject_id', 't_0', 'delta', 'value', 'label', 'uom']\n",
      "rrt : ['icustay_id', 't_0', 'value', 'label', 'uom', 'delta']\n",
      "labs : ['delta', 'hadm_id', 'icustay_id', 'label', 'subject_id', 't_0', 'uom', 'value']\n",
      "bg_all : ['subject_id', 'hadm_id', 'icustay_id', 'charttime', 'delta', 't_0', 'label', 'valuenum', 'uom']\n",
      "vasopressin : ['icustay_id', 't_0', 'value', 'label', 'uom', 'delta']\n",
      "epinephrine : ['icustay_id', 't_0', 'value', 'label', 'uom', 'delta']\n",
      "bg_ART : ['delta', 'hadm_id', 'icustay_id', 'label', 'subject_id', 't_0', 'uom', 'value']\n",
      "cancer_elix : ['icustay_id', 't_0', 'value', 'label', 'uom', 'delta']\n",
      "o2_flow : ['icustay_id', 't_0', 'value', 'label', 'uom', 'delta']\n",
      "sum_elix : ['subject_id', 'hadm_id', 'icustay_id', 'value', 'label', 'delta', 'uom', 't_0']\n",
      "nit : ['hadm_id', 'icustay_id', 'subject_id', 't_0', 'delta', 'value', 'label', 'uom']\n",
      "norepinephrine : ['icustay_id', 't_0', 'value', 'label', 'uom', 'delta']\n",
      "phenylephrine : ['icustay_id', 't_0', 'value', 'label', 'uom', 'delta']\n",
      "sofa : ['subject_id', 'hadm_id', 'icustay_id', 'delta', 'label', 'value', 't_0', 'uom']\n",
      "dopamine : ['icustay_id', 't_0', 'value', 'label', 'uom', 'delta']\n",
      "height : ['icustay_id', 'value', 'uom', 'label', 'delta', 't_0']\n",
      "dobutamine : ['icustay_id', 't_0', 'value', 'label', 'uom', 'delta']\n",
      "ventcategory : ['icustay_id', 'delta', 'value', 'uom', 't_0', 'label']\n",
      "weight : ['icustay_id', 'value', 'uom', 'label', 'delta', 't_0']\n",
      "time: 6.38 ms\n"
     ]
    }
   ],
   "source": [
    "#all of the column names \n",
    "for element in df_list:\n",
    "    print(element,':',list(dfs[element]))"
   ]
  },
  {
   "cell_type": "markdown",
   "metadata": {},
   "source": [
    "## standardizing columns"
   ]
  },
  {
   "cell_type": "markdown",
   "metadata": {},
   "source": [
    "#### adding icustay_id, dropping hadm_id"
   ]
  },
  {
   "cell_type": "code",
   "execution_count": 10,
   "metadata": {},
   "outputs": [
    {
     "name": "stdout",
     "output_type": "stream",
     "text": [
      "time: 683 ms\n"
     ]
    }
   ],
   "source": [
    "##dropping hadm_id from all:\n",
    "list1=[]\n",
    "for element in df_list:\n",
    "    if 'hadm_id' in (list(dfs[element])):\n",
    "        list1.append(element)\n",
    "\n",
    "for element in list1:\n",
    "    dfs[element]= dfs[element].drop('hadm_id', axis=1)"
   ]
  },
  {
   "cell_type": "code",
   "execution_count": 11,
   "metadata": {},
   "outputs": [
    {
     "name": "stdout",
     "output_type": "stream",
     "text": [
      "time: 623 ms\n"
     ]
    }
   ],
   "source": [
    "##dropping subject_id from all:\n",
    "list1=[]\n",
    "for element in df_list:\n",
    "    if 'subject_id' in (list(dfs[element])):\n",
    "        list1.append(element)\n",
    "\n",
    "for element in list1:\n",
    "    dfs[element]= dfs[element].drop('subject_id', axis=1)"
   ]
  },
  {
   "cell_type": "code",
   "execution_count": 12,
   "metadata": {},
   "outputs": [
    {
     "name": "stdout",
     "output_type": "stream",
     "text": [
      "pt_info : ['delta', 'icustay_id', 'label', 't_0', 'uom', 'value']\n",
      "gcs : ['delta', 'icustay_id', 'label', 't_0', 'uom', 'value']\n",
      "all_vaso : ['delta', 'icustay_id', 'label', 't_0', 'uom', 'value']\n",
      "pfRatio : ['delta', 'icustay_id', 'label', 'uom', 'value']\n",
      "vitals : ['charttime', 'delta', 'icustay_id', 'label', 't_0', 'uom', 'value']\n",
      "leuk : ['delta', 'icustay_id', 'label', 't_0', 'uom', 'value']\n",
      "rrt : ['delta', 'icustay_id', 'label', 't_0', 'uom', 'value']\n",
      "labs : ['delta', 'icustay_id', 'label', 't_0', 'uom', 'value']\n",
      "bg_all : ['charttime', 'delta', 'icustay_id', 'label', 't_0', 'uom', 'valuenum']\n",
      "vasopressin : ['delta', 'icustay_id', 'label', 't_0', 'uom', 'value']\n",
      "epinephrine : ['delta', 'icustay_id', 'label', 't_0', 'uom', 'value']\n",
      "bg_ART : ['delta', 'icustay_id', 'label', 't_0', 'uom', 'value']\n",
      "cancer_elix : ['delta', 'icustay_id', 'label', 't_0', 'uom', 'value']\n",
      "o2_flow : ['delta', 'icustay_id', 'label', 't_0', 'uom', 'value']\n",
      "sum_elix : ['delta', 'icustay_id', 'label', 't_0', 'uom', 'value']\n",
      "nit : ['delta', 'icustay_id', 'label', 't_0', 'uom', 'value']\n",
      "norepinephrine : ['delta', 'icustay_id', 'label', 't_0', 'uom', 'value']\n",
      "phenylephrine : ['delta', 'icustay_id', 'label', 't_0', 'uom', 'value']\n",
      "sofa : ['delta', 'icustay_id', 'label', 't_0', 'uom', 'value']\n",
      "dopamine : ['delta', 'icustay_id', 'label', 't_0', 'uom', 'value']\n",
      "height : ['delta', 'icustay_id', 'label', 't_0', 'uom', 'value']\n",
      "dobutamine : ['delta', 'icustay_id', 'label', 't_0', 'uom', 'value']\n",
      "ventcategory : ['delta', 'icustay_id', 'label', 't_0', 'uom', 'value']\n",
      "weight : ['delta', 'icustay_id', 'label', 't_0', 'uom', 'value']\n",
      "time: 8.04 ms\n"
     ]
    }
   ],
   "source": [
    "#all of the column names \n",
    "for element in df_list:\n",
    "    print(element,':',sorted(list(dfs[element])))"
   ]
  },
  {
   "cell_type": "code",
   "execution_count": 13,
   "metadata": {},
   "outputs": [
    {
     "name": "stdout",
     "output_type": "stream",
     "text": [
      "time: 539 ms\n"
     ]
    }
   ],
   "source": [
    "#dropping charttime, endtime and first_charttime\n",
    "list1=[]\n",
    "list2=[]\n",
    "for element in df_list:\n",
    "    if 'charttime' in (list(dfs[element])):\n",
    "        list1.append(element)\n",
    "    if 'endtime' in (list(dfs[element])):\n",
    "        list2.append(element)\n",
    "\n",
    "for element in list1:\n",
    "    dfs[element]= dfs[element].drop('charttime', axis=1)\n",
    "\n",
    "for element in list2:\n",
    "    dfs[element]= dfs[element].drop('endtime', axis=1)\n",
    "    \n",
    "#dfs['rrt']= dfs['rrt'].drop('first_charttime', axis=1)"
   ]
  },
  {
   "cell_type": "code",
   "execution_count": 14,
   "metadata": {},
   "outputs": [
    {
     "name": "stdout",
     "output_type": "stream",
     "text": [
      "time: 340 ms\n"
     ]
    }
   ],
   "source": [
    "#converting valuenum and value to same label\n",
    "list1=[]\n",
    "\n",
    "for element in df_list:\n",
    "    if 'valuenum' in (list(dfs[element])):\n",
    "        list1.append(element)\n",
    "\n",
    "for element in list1:\n",
    "    dfs[element]= dfs[element].rename(index=str, columns={'valuenum':'value'})\n"
   ]
  },
  {
   "cell_type": "code",
   "execution_count": 15,
   "metadata": {},
   "outputs": [
    {
     "name": "stdout",
     "output_type": "stream",
     "text": [
      "time: 1.12 ms\n"
     ]
    }
   ],
   "source": [
    "del(list1,list2)"
   ]
  },
  {
   "cell_type": "code",
   "execution_count": 16,
   "metadata": {},
   "outputs": [
    {
     "name": "stdout",
     "output_type": "stream",
     "text": [
      "time: 1.81 ms\n"
     ]
    }
   ],
   "source": [
    "def label_lower(df_name):\n",
    "    dfs[df_name]['label']= dfs[df_name]['label'].apply(lambda x: x.lower())"
   ]
  },
  {
   "cell_type": "code",
   "execution_count": 17,
   "metadata": {},
   "outputs": [
    {
     "name": "stdout",
     "output_type": "stream",
     "text": [
      "time: 3.51 s\n"
     ]
    }
   ],
   "source": [
    "#turning all labels to lowercase\n",
    "for element in df_list:\n",
    "    label_lower(element)\n"
   ]
  },
  {
   "cell_type": "code",
   "execution_count": 18,
   "metadata": {},
   "outputs": [
    {
     "name": "stdout",
     "output_type": "stream",
     "text": [
      "time: 4.62 s\n"
     ]
    }
   ],
   "source": [
    "#adding a df source table label to each df. \n",
    "for element in df_list:\n",
    "    dfs[element]['source']=element\n",
    "\n",
    "#adding a patient id to each\n",
    "\n",
    "for element in df_list:\n",
    "    dfs[element]= pd.merge(dfs[element], final_pt_df2[['icustay_id','subject_id']], how='left')\n",
    "    "
   ]
  },
  {
   "cell_type": "code",
   "execution_count": 19,
   "metadata": {},
   "outputs": [
    {
     "name": "stdout",
     "output_type": "stream",
     "text": [
      "pt_info : ['delta', 'icustay_id', 'label', 'source', 'subject_id', 't_0', 'uom', 'value']\n",
      "gcs : ['delta', 'icustay_id', 'label', 'source', 'subject_id', 't_0', 'uom', 'value']\n",
      "all_vaso : ['delta', 'icustay_id', 'label', 'source', 'subject_id', 't_0', 'uom', 'value']\n",
      "pfRatio : ['delta', 'icustay_id', 'label', 'source', 'subject_id', 'uom', 'value']\n",
      "vitals : ['delta', 'icustay_id', 'label', 'source', 'subject_id', 't_0', 'uom', 'value']\n",
      "leuk : ['delta', 'icustay_id', 'label', 'source', 'subject_id', 't_0', 'uom', 'value']\n",
      "rrt : ['delta', 'icustay_id', 'label', 'source', 'subject_id', 't_0', 'uom', 'value']\n",
      "labs : ['delta', 'icustay_id', 'label', 'source', 'subject_id', 't_0', 'uom', 'value']\n",
      "bg_all : ['delta', 'icustay_id', 'label', 'source', 'subject_id', 't_0', 'uom', 'value']\n",
      "vasopressin : ['delta', 'icustay_id', 'label', 'source', 'subject_id', 't_0', 'uom', 'value']\n",
      "epinephrine : ['delta', 'icustay_id', 'label', 'source', 'subject_id', 't_0', 'uom', 'value']\n",
      "bg_ART : ['delta', 'icustay_id', 'label', 'source', 'subject_id', 't_0', 'uom', 'value']\n",
      "cancer_elix : ['delta', 'icustay_id', 'label', 'source', 'subject_id', 't_0', 'uom', 'value']\n",
      "o2_flow : ['delta', 'icustay_id', 'label', 'source', 'subject_id', 't_0', 'uom', 'value']\n",
      "sum_elix : ['delta', 'icustay_id', 'label', 'source', 'subject_id', 't_0', 'uom', 'value']\n",
      "nit : ['delta', 'icustay_id', 'label', 'source', 'subject_id', 't_0', 'uom', 'value']\n",
      "norepinephrine : ['delta', 'icustay_id', 'label', 'source', 'subject_id', 't_0', 'uom', 'value']\n",
      "phenylephrine : ['delta', 'icustay_id', 'label', 'source', 'subject_id', 't_0', 'uom', 'value']\n",
      "sofa : ['delta', 'icustay_id', 'label', 'source', 'subject_id', 't_0', 'uom', 'value']\n",
      "dopamine : ['delta', 'icustay_id', 'label', 'source', 'subject_id', 't_0', 'uom', 'value']\n",
      "height : ['delta', 'icustay_id', 'label', 'source', 'subject_id', 't_0', 'uom', 'value']\n",
      "dobutamine : ['delta', 'icustay_id', 'label', 'source', 'subject_id', 't_0', 'uom', 'value']\n",
      "ventcategory : ['delta', 'icustay_id', 'label', 'source', 'subject_id', 't_0', 'uom', 'value']\n",
      "weight : ['delta', 'icustay_id', 'label', 'source', 'subject_id', 't_0', 'uom', 'value']\n",
      "time: 10.2 ms\n"
     ]
    }
   ],
   "source": [
    "#all of the column names \n",
    "for element in df_list:\n",
    "    print(element,':',sorted(list(dfs[element])))"
   ]
  },
  {
   "cell_type": "code",
   "execution_count": 20,
   "metadata": {},
   "outputs": [
    {
     "name": "stdout",
     "output_type": "stream",
     "text": [
      "pt_info column that dont belong: []\n",
      "pt_info column that are missing: []\n",
      "gcs column that dont belong: []\n",
      "gcs column that are missing: []\n",
      "all_vaso column that dont belong: []\n",
      "all_vaso column that are missing: []\n",
      "pfRatio column that dont belong: []\n",
      "pfRatio column that are missing: ['t_0']\n",
      "vitals column that dont belong: []\n",
      "vitals column that are missing: []\n",
      "leuk column that dont belong: []\n",
      "leuk column that are missing: []\n",
      "rrt column that dont belong: []\n",
      "rrt column that are missing: []\n",
      "labs column that dont belong: []\n",
      "labs column that are missing: []\n",
      "bg_all column that dont belong: []\n",
      "bg_all column that are missing: []\n",
      "vasopressin column that dont belong: []\n",
      "vasopressin column that are missing: []\n",
      "epinephrine column that dont belong: []\n",
      "epinephrine column that are missing: []\n",
      "bg_ART column that dont belong: []\n",
      "bg_ART column that are missing: []\n",
      "cancer_elix column that dont belong: []\n",
      "cancer_elix column that are missing: []\n",
      "o2_flow column that dont belong: []\n",
      "o2_flow column that are missing: []\n",
      "sum_elix column that dont belong: []\n",
      "sum_elix column that are missing: []\n",
      "nit column that dont belong: []\n",
      "nit column that are missing: []\n",
      "norepinephrine column that dont belong: []\n",
      "norepinephrine column that are missing: []\n",
      "phenylephrine column that dont belong: []\n",
      "phenylephrine column that are missing: []\n",
      "sofa column that dont belong: []\n",
      "sofa column that are missing: []\n",
      "dopamine column that dont belong: []\n",
      "dopamine column that are missing: []\n",
      "height column that dont belong: []\n",
      "height column that are missing: []\n",
      "dobutamine column that dont belong: []\n",
      "dobutamine column that are missing: []\n",
      "ventcategory column that dont belong: []\n",
      "ventcategory column that are missing: []\n",
      "weight column that dont belong: []\n",
      "weight column that are missing: []\n",
      "time: 29.3 ms\n"
     ]
    }
   ],
   "source": [
    "for element in df_list:\n",
    "    print(element,'column that dont belong:', [x for x in list(dfs[element]) if x not in ['delta', 'icustay_id', 'label', 'source', 'subject_id', 't_0', 'uom', 'value']])\n",
    "    print(element,'column that are missing:',[x for x in ['delta', 'icustay_id', 'label', 'source', 'subject_id', 't_0', 'uom', 'value'] if x not in list(dfs[element])])"
   ]
  },
  {
   "cell_type": "code",
   "execution_count": null,
   "metadata": {},
   "outputs": [],
   "source": []
  },
  {
   "cell_type": "code",
   "execution_count": null,
   "metadata": {},
   "outputs": [],
   "source": []
  },
  {
   "cell_type": "code",
   "execution_count": 21,
   "metadata": {},
   "outputs": [
    {
     "data": {
      "text/plain": [
       "count                     19633\n",
       "mean     0 days 02:31:03.862883\n",
       "std      0 days 08:07:44.779096\n",
       "min             0 days 00:00:00\n",
       "25%             0 days 00:00:00\n",
       "50%             0 days 00:00:00\n",
       "75%             0 days 00:00:00\n",
       "max             3 days 00:00:00\n",
       "Name: delta, dtype: object"
      ]
     },
     "execution_count": 21,
     "metadata": {},
     "output_type": "execute_result"
    },
    {
     "name": "stdout",
     "output_type": "stream",
     "text": [
      "time: 102 ms\n"
     ]
    }
   ],
   "source": [
    "pd.to_timedelta(dfs['norepinephrine']['delta']).describe()"
   ]
  },
  {
   "cell_type": "code",
   "execution_count": 22,
   "metadata": {},
   "outputs": [
    {
     "data": {
      "text/plain": [
       "count                     19633\n",
       "mean     0 days 02:31:03.862883\n",
       "std      0 days 08:07:44.779096\n",
       "min             0 days 00:00:00\n",
       "25%             0 days 00:00:00\n",
       "50%             0 days 00:00:00\n",
       "75%             0 days 00:00:00\n",
       "max             3 days 00:00:00\n",
       "Name: delta, dtype: object"
      ]
     },
     "execution_count": 22,
     "metadata": {},
     "output_type": "execute_result"
    },
    {
     "name": "stdout",
     "output_type": "stream",
     "text": [
      "time: 102 ms\n"
     ]
    }
   ],
   "source": [
    "pd.to_timedelta(dfs['norepinephrine']['delta']).describe()"
   ]
  },
  {
   "cell_type": "markdown",
   "metadata": {},
   "source": [
    "# converting data formats"
   ]
  },
  {
   "cell_type": "markdown",
   "metadata": {},
   "source": [
    "### looking at measured values (quick qc)"
   ]
  },
  {
   "cell_type": "code",
   "execution_count": 23,
   "metadata": {},
   "outputs": [
    {
     "data": {
      "text/plain": [
       "24"
      ]
     },
     "execution_count": 23,
     "metadata": {},
     "output_type": "execute_result"
    },
    {
     "name": "stdout",
     "output_type": "stream",
     "text": [
      "time: 7.52 ms\n"
     ]
    }
   ],
   "source": [
    "len(df_list)"
   ]
  },
  {
   "cell_type": "code",
   "execution_count": 24,
   "metadata": {},
   "outputs": [
    {
     "name": "stdout",
     "output_type": "stream",
     "text": [
      "time: 1.67 ms\n"
     ]
    }
   ],
   "source": [
    "def value_viewer(df_name):\n",
    "    return(dfs[df_name]['label'].unique())"
   ]
  },
  {
   "cell_type": "code",
   "execution_count": 25,
   "metadata": {},
   "outputs": [
    {
     "data": {
      "text/plain": [
       "array(['pao2', 'pco2'], dtype=object)"
      ]
     },
     "execution_count": 25,
     "metadata": {},
     "output_type": "execute_result"
    },
    {
     "name": "stdout",
     "output_type": "stream",
     "text": [
      "time: 7.68 ms\n"
     ]
    }
   ],
   "source": [
    "value_viewer('bg_ART')"
   ]
  },
  {
   "cell_type": "code",
   "execution_count": 26,
   "metadata": {},
   "outputs": [
    {
     "data": {
      "text/plain": [
       "array(['calcium', 'fio2', 'lactate', 'ph', 'potassium', 'temperature',\n",
       "       'glucose', 'hemoglobin', 'chloride', 'sodium', 'bicarbonate'],\n",
       "      dtype=object)"
      ]
     },
     "execution_count": 26,
     "metadata": {},
     "output_type": "execute_result"
    },
    {
     "name": "stdout",
     "output_type": "stream",
     "text": [
      "time: 28.5 ms\n"
     ]
    }
   ],
   "source": [
    "value_viewer('bg_all')"
   ]
  },
  {
   "cell_type": "code",
   "execution_count": 27,
   "metadata": {},
   "outputs": [
    {
     "name": "stdout",
     "output_type": "stream",
     "text": [
      "time: 963 µs\n"
     ]
    }
   ],
   "source": [
    "#value_viewer('uti')"
   ]
  },
  {
   "cell_type": "code",
   "execution_count": 28,
   "metadata": {},
   "outputs": [
    {
     "data": {
      "text/plain": [
       "array(['bicarbonate', 'bilirubin', 'chloride', 'creatinine', 'glucose',\n",
       "       'potassium', 'sodium', 'bun', 'hemoglobin', 'platelet', 'wbc',\n",
       "       'inr', 'ptt', 'lactate', 'bands'], dtype=object)"
      ]
     },
     "execution_count": 28,
     "metadata": {},
     "output_type": "execute_result"
    },
    {
     "name": "stdout",
     "output_type": "stream",
     "text": [
      "time: 101 ms\n"
     ]
    }
   ],
   "source": [
    "value_viewer('labs')\n"
   ]
  },
  {
   "cell_type": "code",
   "execution_count": 29,
   "metadata": {},
   "outputs": [
    {
     "data": {
      "text/plain": [
       "array(['meanartpress', 'sysbp', 'heartrate', 'resprate', 'spo2',\n",
       "       'temperature', 'glucose', 'diasbp'], dtype=object)"
      ]
     },
     "execution_count": 29,
     "metadata": {},
     "output_type": "execute_result"
    },
    {
     "name": "stdout",
     "output_type": "stream",
     "text": [
      "time: 496 ms\n"
     ]
    }
   ],
   "source": [
    "value_viewer('vitals')"
   ]
  },
  {
   "cell_type": "code",
   "execution_count": 30,
   "metadata": {},
   "outputs": [
    {
     "data": {
      "text/plain": [
       "array(['yearsold', 'gender', 'ethnicity'], dtype=object)"
      ]
     },
     "execution_count": 30,
     "metadata": {},
     "output_type": "execute_result"
    },
    {
     "name": "stdout",
     "output_type": "stream",
     "text": [
      "time: 6.1 ms\n"
     ]
    }
   ],
   "source": [
    "value_viewer('pt_info')"
   ]
  },
  {
   "cell_type": "code",
   "execution_count": 31,
   "metadata": {},
   "outputs": [
    {
     "data": {
      "text/plain": [
       "['pt_info',\n",
       " 'gcs',\n",
       " 'all_vaso',\n",
       " 'pfRatio',\n",
       " 'vitals',\n",
       " 'leuk',\n",
       " 'rrt',\n",
       " 'labs',\n",
       " 'bg_all',\n",
       " 'vasopressin',\n",
       " 'epinephrine',\n",
       " 'bg_ART',\n",
       " 'cancer_elix',\n",
       " 'o2_flow',\n",
       " 'sum_elix',\n",
       " 'nit',\n",
       " 'norepinephrine',\n",
       " 'phenylephrine',\n",
       " 'sofa',\n",
       " 'dopamine',\n",
       " 'height',\n",
       " 'dobutamine',\n",
       " 'ventcategory',\n",
       " 'weight']"
      ]
     },
     "execution_count": 31,
     "metadata": {},
     "output_type": "execute_result"
    },
    {
     "name": "stdout",
     "output_type": "stream",
     "text": [
      "time: 5.11 ms\n"
     ]
    }
   ],
   "source": [
    "list(dfs)"
   ]
  },
  {
   "cell_type": "markdown",
   "metadata": {},
   "source": [
    "# combining data"
   ]
  },
  {
   "cell_type": "code",
   "execution_count": 32,
   "metadata": {},
   "outputs": [
    {
     "data": {
      "text/plain": [
       "{'bicarbonate',\n",
       " 'chloride',\n",
       " 'glucose',\n",
       " 'hemoglobin',\n",
       " 'lactate',\n",
       " 'potassium',\n",
       " 'sodium'}"
      ]
     },
     "execution_count": 32,
     "metadata": {},
     "output_type": "execute_result"
    },
    {
     "name": "stdout",
     "output_type": "stream",
     "text": [
      "time: 115 ms\n"
     ]
    }
   ],
   "source": [
    "set(value_viewer('labs')) & set(value_viewer('bg_all'))"
   ]
  },
  {
   "cell_type": "code",
   "execution_count": 33,
   "metadata": {},
   "outputs": [
    {
     "data": {
      "text/plain": [
       "{'glucose'}"
      ]
     },
     "execution_count": 33,
     "metadata": {},
     "output_type": "execute_result"
    },
    {
     "name": "stdout",
     "output_type": "stream",
     "text": [
      "time: 490 ms\n"
     ]
    }
   ],
   "source": [
    "set(value_viewer('labs')) & set(value_viewer('vitals'))"
   ]
  },
  {
   "cell_type": "code",
   "execution_count": 34,
   "metadata": {},
   "outputs": [
    {
     "data": {
      "text/plain": [
       "{'glucose', 'temperature'}"
      ]
     },
     "execution_count": 34,
     "metadata": {},
     "output_type": "execute_result"
    },
    {
     "name": "stdout",
     "output_type": "stream",
     "text": [
      "time: 451 ms\n"
     ]
    }
   ],
   "source": [
    "set(value_viewer('bg_all')) & set(value_viewer('vitals'))"
   ]
  },
  {
   "cell_type": "markdown",
   "metadata": {},
   "source": [
    "# combining all df"
   ]
  },
  {
   "cell_type": "code",
   "execution_count": 35,
   "metadata": {},
   "outputs": [
    {
     "name": "stderr",
     "output_type": "stream",
     "text": [
      "/Users/geickelb1/anaconda/envs/rpy-env/lib/python3.6/site-packages/IPython/core/interactiveshell.py:2910: FutureWarning: Passing timedelta64-dtype data is deprecated, will raise a TypeError in a future version\n",
      "  exec(code_obj, self.user_global_ns, self.user_ns)\n"
     ]
    },
    {
     "name": "stdout",
     "output_type": "stream",
     "text": [
      "time: 55.8 s\n"
     ]
    },
    {
     "name": "stderr",
     "output_type": "stream",
     "text": [
      "/Users/geickelb1/anaconda/envs/rpy-env/lib/python3.6/site-packages/ipykernel_launcher.py:6: FutureWarning: Passing datetime64-dtype data to TimedeltaIndex is deprecated, will raise a TypeError in a future version\n",
      "  \n"
     ]
    }
   ],
   "source": [
    "# making one big dataframe via pd. concat\n",
    "big_df= pd.concat(dfs.values(), sort=False).sort_values(['icustay_id','delta','label','source'], ascending=True)\n",
    "#converting delta to time delta, to datetime rounded to 2 minutes, and back to time delta (more efficient than rounding timedeltas)\n",
    "big_df['delta']= pd.to_timedelta(big_df['delta'])\n",
    "big_df['delta']= pd.to_datetime(big_df['delta']).dt.round('2min')\n",
    "big_df['delta']= pd.to_timedelta(big_df['delta'])"
   ]
  },
  {
   "cell_type": "code",
   "execution_count": 36,
   "metadata": {},
   "outputs": [
    {
     "data": {
      "text/plain": [
       "10609439"
      ]
     },
     "execution_count": 36,
     "metadata": {},
     "output_type": "execute_result"
    },
    {
     "name": "stdout",
     "output_type": "stream",
     "text": [
      "time: 2.7 ms\n"
     ]
    }
   ],
   "source": [
    "len(big_df)"
   ]
  },
  {
   "cell_type": "code",
   "execution_count": 37,
   "metadata": {},
   "outputs": [
    {
     "data": {
      "text/plain": [
       "10609439"
      ]
     },
     "execution_count": 37,
     "metadata": {},
     "output_type": "execute_result"
    },
    {
     "name": "stdout",
     "output_type": "stream",
     "text": [
      "time: 2.3 ms\n"
     ]
    }
   ],
   "source": [
    "len(big_df)"
   ]
  },
  {
   "cell_type": "code",
   "execution_count": 38,
   "metadata": {},
   "outputs": [
    {
     "name": "stdout",
     "output_type": "stream",
     "text": [
      "time: 4.84 s\n"
     ]
    }
   ],
   "source": [
    "big_df.drop_duplicates(subset=['icustay_id','label','value','delta',], keep='last', inplace=True) #7638425  -> 7315304 at 2 min. "
   ]
  },
  {
   "cell_type": "code",
   "execution_count": 39,
   "metadata": {},
   "outputs": [
    {
     "data": {
      "text/plain": [
       "10181720"
      ]
     },
     "execution_count": 39,
     "metadata": {},
     "output_type": "execute_result"
    },
    {
     "name": "stdout",
     "output_type": "stream",
     "text": [
      "time: 2.43 ms\n"
     ]
    }
   ],
   "source": [
    "len(big_df)"
   ]
  },
  {
   "cell_type": "code",
   "execution_count": 40,
   "metadata": {},
   "outputs": [
    {
     "name": "stdout",
     "output_type": "stream",
     "text": [
      "time: 429 µs\n"
     ]
    }
   ],
   "source": [
    "#big_df['sum_elix']"
   ]
  },
  {
   "cell_type": "code",
   "execution_count": 41,
   "metadata": {},
   "outputs": [
    {
     "data": {
      "text/html": [
       "<div>\n",
       "<style scoped>\n",
       "    .dataframe tbody tr th:only-of-type {\n",
       "        vertical-align: middle;\n",
       "    }\n",
       "\n",
       "    .dataframe tbody tr th {\n",
       "        vertical-align: top;\n",
       "    }\n",
       "\n",
       "    .dataframe thead th {\n",
       "        text-align: right;\n",
       "    }\n",
       "</style>\n",
       "<table border=\"1\" class=\"dataframe\">\n",
       "  <thead>\n",
       "    <tr style=\"text-align: right;\">\n",
       "      <th></th>\n",
       "      <th>count</th>\n",
       "      <th>unique</th>\n",
       "      <th>top</th>\n",
       "      <th>freq</th>\n",
       "    </tr>\n",
       "    <tr>\n",
       "      <th>label</th>\n",
       "      <th></th>\n",
       "      <th></th>\n",
       "      <th></th>\n",
       "      <th></th>\n",
       "    </tr>\n",
       "  </thead>\n",
       "  <tbody>\n",
       "    <tr>\n",
       "      <th>any_vasoactives</th>\n",
       "      <td>19633</td>\n",
       "      <td>2</td>\n",
       "      <td>0</td>\n",
       "      <td>13144</td>\n",
       "    </tr>\n",
       "    <tr>\n",
       "      <th>bands</th>\n",
       "      <td>19633</td>\n",
       "      <td>3</td>\n",
       "      <td>absent</td>\n",
       "      <td>16231</td>\n",
       "    </tr>\n",
       "    <tr>\n",
       "      <th>bicarbonate</th>\n",
       "      <td>85733</td>\n",
       "      <td>100</td>\n",
       "      <td>24</td>\n",
       "      <td>6734</td>\n",
       "    </tr>\n",
       "    <tr>\n",
       "      <th>bilirubin</th>\n",
       "      <td>24769</td>\n",
       "      <td>635</td>\n",
       "      <td>0.4</td>\n",
       "      <td>1806</td>\n",
       "    </tr>\n",
       "    <tr>\n",
       "      <th>bun</th>\n",
       "      <td>85334</td>\n",
       "      <td>346</td>\n",
       "      <td>14</td>\n",
       "      <td>2405</td>\n",
       "    </tr>\n",
       "    <tr>\n",
       "      <th>calcium</th>\n",
       "      <td>42744</td>\n",
       "      <td>199</td>\n",
       "      <td>1.13</td>\n",
       "      <td>2150</td>\n",
       "    </tr>\n",
       "    <tr>\n",
       "      <th>cancer_elix</th>\n",
       "      <td>19633</td>\n",
       "      <td>2</td>\n",
       "      <td>0</td>\n",
       "      <td>17212</td>\n",
       "    </tr>\n",
       "    <tr>\n",
       "      <th>chloride</th>\n",
       "      <td>94196</td>\n",
       "      <td>144</td>\n",
       "      <td>106</td>\n",
       "      <td>5698</td>\n",
       "    </tr>\n",
       "    <tr>\n",
       "      <th>creatinine</th>\n",
       "      <td>85693</td>\n",
       "      <td>294</td>\n",
       "      <td>0.7</td>\n",
       "      <td>6713</td>\n",
       "    </tr>\n",
       "    <tr>\n",
       "      <th>daily_sofa</th>\n",
       "      <td>52281</td>\n",
       "      <td>24</td>\n",
       "      <td>1</td>\n",
       "      <td>9490</td>\n",
       "    </tr>\n",
       "    <tr>\n",
       "      <th>diasbp</th>\n",
       "      <td>1.24937e+06</td>\n",
       "      <td>213</td>\n",
       "      <td>56</td>\n",
       "      <td>39556</td>\n",
       "    </tr>\n",
       "    <tr>\n",
       "      <th>dobutamine</th>\n",
       "      <td>19633</td>\n",
       "      <td>2</td>\n",
       "      <td>0</td>\n",
       "      <td>19314</td>\n",
       "    </tr>\n",
       "    <tr>\n",
       "      <th>dopamine</th>\n",
       "      <td>19633</td>\n",
       "      <td>2</td>\n",
       "      <td>0</td>\n",
       "      <td>18468</td>\n",
       "    </tr>\n",
       "    <tr>\n",
       "      <th>epinephrine</th>\n",
       "      <td>19633</td>\n",
       "      <td>2</td>\n",
       "      <td>0</td>\n",
       "      <td>19166</td>\n",
       "    </tr>\n",
       "    <tr>\n",
       "      <th>ethnicity</th>\n",
       "      <td>19633</td>\n",
       "      <td>5</td>\n",
       "      <td>white/nonhispanic</td>\n",
       "      <td>14361</td>\n",
       "    </tr>\n",
       "    <tr>\n",
       "      <th>fio2</th>\n",
       "      <td>25070</td>\n",
       "      <td>75</td>\n",
       "      <td>40</td>\n",
       "      <td>7315</td>\n",
       "    </tr>\n",
       "    <tr>\n",
       "      <th>gender</th>\n",
       "      <td>19633</td>\n",
       "      <td>2</td>\n",
       "      <td>M</td>\n",
       "      <td>10753</td>\n",
       "    </tr>\n",
       "    <tr>\n",
       "      <th>glucose</th>\n",
       "      <td>310354</td>\n",
       "      <td>1120</td>\n",
       "      <td>110</td>\n",
       "      <td>3356</td>\n",
       "    </tr>\n",
       "    <tr>\n",
       "      <th>heartrate</th>\n",
       "      <td>1.2781e+06</td>\n",
       "      <td>211</td>\n",
       "      <td>80</td>\n",
       "      <td>33702</td>\n",
       "    </tr>\n",
       "    <tr>\n",
       "      <th>height</th>\n",
       "      <td>13372</td>\n",
       "      <td>134</td>\n",
       "      <td>177.8</td>\n",
       "      <td>870</td>\n",
       "    </tr>\n",
       "    <tr>\n",
       "      <th>hemoglobin</th>\n",
       "      <td>90138</td>\n",
       "      <td>293</td>\n",
       "      <td>9.6</td>\n",
       "      <td>2093</td>\n",
       "    </tr>\n",
       "    <tr>\n",
       "      <th>inr</th>\n",
       "      <td>55455</td>\n",
       "      <td>271</td>\n",
       "      <td>1.2</td>\n",
       "      <td>7710</td>\n",
       "    </tr>\n",
       "    <tr>\n",
       "      <th>lactate</th>\n",
       "      <td>49875</td>\n",
       "      <td>482</td>\n",
       "      <td>1.2</td>\n",
       "      <td>2323</td>\n",
       "    </tr>\n",
       "    <tr>\n",
       "      <th>leukocyte</th>\n",
       "      <td>19633</td>\n",
       "      <td>2</td>\n",
       "      <td>Neg/Not_tested</td>\n",
       "      <td>16385</td>\n",
       "    </tr>\n",
       "    <tr>\n",
       "      <th>meanartpress</th>\n",
       "      <td>1.26938e+06</td>\n",
       "      <td>601</td>\n",
       "      <td>72</td>\n",
       "      <td>33596</td>\n",
       "    </tr>\n",
       "    <tr>\n",
       "      <th>mingcs</th>\n",
       "      <td>9150</td>\n",
       "      <td>13</td>\n",
       "      <td>15</td>\n",
       "      <td>3138</td>\n",
       "    </tr>\n",
       "    <tr>\n",
       "      <th>nitrite</th>\n",
       "      <td>19633</td>\n",
       "      <td>2</td>\n",
       "      <td>Neg/Not_tested</td>\n",
       "      <td>19049</td>\n",
       "    </tr>\n",
       "    <tr>\n",
       "      <th>norepinephrine</th>\n",
       "      <td>19633</td>\n",
       "      <td>2</td>\n",
       "      <td>0</td>\n",
       "      <td>15737</td>\n",
       "    </tr>\n",
       "    <tr>\n",
       "      <th>o2_flow</th>\n",
       "      <td>19633</td>\n",
       "      <td>2</td>\n",
       "      <td>0</td>\n",
       "      <td>18523</td>\n",
       "    </tr>\n",
       "    <tr>\n",
       "      <th>pao2</th>\n",
       "      <td>59591</td>\n",
       "      <td>558</td>\n",
       "      <td>84.0</td>\n",
       "      <td>684</td>\n",
       "    </tr>\n",
       "    <tr>\n",
       "      <th>pao2fio2ratio</th>\n",
       "      <td>157043</td>\n",
       "      <td>3914</td>\n",
       "      <td>476</td>\n",
       "      <td>10049</td>\n",
       "    </tr>\n",
       "    <tr>\n",
       "      <th>pco2</th>\n",
       "      <td>19633</td>\n",
       "      <td>3</td>\n",
       "      <td>absent</td>\n",
       "      <td>11802</td>\n",
       "    </tr>\n",
       "    <tr>\n",
       "      <th>ph</th>\n",
       "      <td>99853</td>\n",
       "      <td>106</td>\n",
       "      <td>7.4</td>\n",
       "      <td>5287</td>\n",
       "    </tr>\n",
       "    <tr>\n",
       "      <th>phenylephrine</th>\n",
       "      <td>19633</td>\n",
       "      <td>2</td>\n",
       "      <td>0</td>\n",
       "      <td>16353</td>\n",
       "    </tr>\n",
       "    <tr>\n",
       "      <th>platelet</th>\n",
       "      <td>80029</td>\n",
       "      <td>1547</td>\n",
       "      <td>108</td>\n",
       "      <td>339</td>\n",
       "    </tr>\n",
       "    <tr>\n",
       "      <th>potassium</th>\n",
       "      <td>119914</td>\n",
       "      <td>169</td>\n",
       "      <td>4</td>\n",
       "      <td>8273</td>\n",
       "    </tr>\n",
       "    <tr>\n",
       "      <th>ptt</th>\n",
       "      <td>58409</td>\n",
       "      <td>1921</td>\n",
       "      <td>150</td>\n",
       "      <td>1237</td>\n",
       "    </tr>\n",
       "    <tr>\n",
       "      <th>resprate</th>\n",
       "      <td>1.35135e+06</td>\n",
       "      <td>79</td>\n",
       "      <td>20</td>\n",
       "      <td>105261</td>\n",
       "    </tr>\n",
       "    <tr>\n",
       "      <th>rrt</th>\n",
       "      <td>19633</td>\n",
       "      <td>2</td>\n",
       "      <td>0</td>\n",
       "      <td>17845</td>\n",
       "    </tr>\n",
       "    <tr>\n",
       "      <th>sodium</th>\n",
       "      <td>98474</td>\n",
       "      <td>149</td>\n",
       "      <td>138</td>\n",
       "      <td>8174</td>\n",
       "    </tr>\n",
       "    <tr>\n",
       "      <th>spo2</th>\n",
       "      <td>1.22574e+06</td>\n",
       "      <td>104</td>\n",
       "      <td>100</td>\n",
       "      <td>285825</td>\n",
       "    </tr>\n",
       "    <tr>\n",
       "      <th>sum_elix</th>\n",
       "      <td>22281</td>\n",
       "      <td>14</td>\n",
       "      <td>0</td>\n",
       "      <td>14005</td>\n",
       "    </tr>\n",
       "    <tr>\n",
       "      <th>sysbp</th>\n",
       "      <td>1.25523e+06</td>\n",
       "      <td>243</td>\n",
       "      <td>108</td>\n",
       "      <td>23274</td>\n",
       "    </tr>\n",
       "    <tr>\n",
       "      <th>temperature</th>\n",
       "      <td>384458</td>\n",
       "      <td>670</td>\n",
       "      <td>36.6667</td>\n",
       "      <td>10228</td>\n",
       "    </tr>\n",
       "    <tr>\n",
       "      <th>vasopressin</th>\n",
       "      <td>19633</td>\n",
       "      <td>2</td>\n",
       "      <td>0</td>\n",
       "      <td>19061</td>\n",
       "    </tr>\n",
       "    <tr>\n",
       "      <th>vent_recieved</th>\n",
       "      <td>19471</td>\n",
       "      <td>3</td>\n",
       "      <td>Mech</td>\n",
       "      <td>10156</td>\n",
       "    </tr>\n",
       "    <tr>\n",
       "      <th>wbc</th>\n",
       "      <td>76976</td>\n",
       "      <td>1253</td>\n",
       "      <td>8.8</td>\n",
       "      <td>623</td>\n",
       "    </tr>\n",
       "    <tr>\n",
       "      <th>weight</th>\n",
       "      <td>17867</td>\n",
       "      <td>1573</td>\n",
       "      <td>70</td>\n",
       "      <td>322</td>\n",
       "    </tr>\n",
       "    <tr>\n",
       "      <th>yearsold</th>\n",
       "      <td>19633</td>\n",
       "      <td>18494</td>\n",
       "      <td>90.0</td>\n",
       "      <td>1140</td>\n",
       "    </tr>\n",
       "  </tbody>\n",
       "</table>\n",
       "</div>"
      ],
      "text/plain": [
       "                       count unique                top    freq\n",
       "label                                                         \n",
       "any_vasoactives        19633      2                  0   13144\n",
       "bands                  19633      3             absent   16231\n",
       "bicarbonate            85733    100                 24    6734\n",
       "bilirubin              24769    635                0.4    1806\n",
       "bun                    85334    346                 14    2405\n",
       "calcium                42744    199               1.13    2150\n",
       "cancer_elix            19633      2                  0   17212\n",
       "chloride               94196    144                106    5698\n",
       "creatinine             85693    294                0.7    6713\n",
       "daily_sofa             52281     24                  1    9490\n",
       "diasbp           1.24937e+06    213                 56   39556\n",
       "dobutamine             19633      2                  0   19314\n",
       "dopamine               19633      2                  0   18468\n",
       "epinephrine            19633      2                  0   19166\n",
       "ethnicity              19633      5  white/nonhispanic   14361\n",
       "fio2                   25070     75                 40    7315\n",
       "gender                 19633      2                  M   10753\n",
       "glucose               310354   1120                110    3356\n",
       "heartrate         1.2781e+06    211                 80   33702\n",
       "height                 13372    134              177.8     870\n",
       "hemoglobin             90138    293                9.6    2093\n",
       "inr                    55455    271                1.2    7710\n",
       "lactate                49875    482                1.2    2323\n",
       "leukocyte              19633      2     Neg/Not_tested   16385\n",
       "meanartpress     1.26938e+06    601                 72   33596\n",
       "mingcs                  9150     13                 15    3138\n",
       "nitrite                19633      2     Neg/Not_tested   19049\n",
       "norepinephrine         19633      2                  0   15737\n",
       "o2_flow                19633      2                  0   18523\n",
       "pao2                   59591    558               84.0     684\n",
       "pao2fio2ratio         157043   3914                476   10049\n",
       "pco2                   19633      3             absent   11802\n",
       "ph                     99853    106                7.4    5287\n",
       "phenylephrine          19633      2                  0   16353\n",
       "platelet               80029   1547                108     339\n",
       "potassium             119914    169                  4    8273\n",
       "ptt                    58409   1921                150    1237\n",
       "resprate         1.35135e+06     79                 20  105261\n",
       "rrt                    19633      2                  0   17845\n",
       "sodium                 98474    149                138    8174\n",
       "spo2             1.22574e+06    104                100  285825\n",
       "sum_elix               22281     14                  0   14005\n",
       "sysbp            1.25523e+06    243                108   23274\n",
       "temperature           384458    670            36.6667   10228\n",
       "vasopressin            19633      2                  0   19061\n",
       "vent_recieved          19471      3               Mech   10156\n",
       "wbc                    76976   1253                8.8     623\n",
       "weight                 17867   1573                 70     322\n",
       "yearsold               19633  18494               90.0    1140"
      ]
     },
     "execution_count": 41,
     "metadata": {},
     "output_type": "execute_result"
    },
    {
     "name": "stdout",
     "output_type": "stream",
     "text": [
      "time: 3.38 s\n"
     ]
    }
   ],
   "source": [
    "big_df.groupby('label')['value'].describe() "
   ]
  },
  {
   "cell_type": "code",
   "execution_count": 42,
   "metadata": {},
   "outputs": [
    {
     "name": "stdout",
     "output_type": "stream",
     "text": [
      "time: 467 µs\n"
     ]
    }
   ],
   "source": [
    "#big_df.groupby('label')['value'].describe() #14478 icustay_id's"
   ]
  },
  {
   "cell_type": "code",
   "execution_count": 43,
   "metadata": {},
   "outputs": [
    {
     "data": {
      "text/plain": [
       "array(['bands', 'pco2', 'any_vasoactives', 'cancer_elix', 'daily_sofa',\n",
       "       'dobutamine', 'dopamine', 'epinephrine', 'ethnicity', 'gender',\n",
       "       'heartrate', 'height', 'norepinephrine', 'o2_flow',\n",
       "       'pao2fio2ratio', 'phenylephrine', 'resprate', 'spo2', 'sum_elix',\n",
       "       'vasopressin', 'vent_recieved', 'weight', 'yearsold', 'diasbp',\n",
       "       'meanartpress', 'sysbp', 'rrt', 'bicarbonate', 'bilirubin', 'bun',\n",
       "       'chloride', 'creatinine', 'glucose', 'hemoglobin', 'inr',\n",
       "       'platelet', 'potassium', 'ptt', 'sodium', 'wbc', 'temperature',\n",
       "       'ph', 'leukocyte', 'nitrite', 'lactate', 'calcium', 'pao2',\n",
       "       'mingcs', 'fio2'], dtype=object)"
      ]
     },
     "execution_count": 43,
     "metadata": {},
     "output_type": "execute_result"
    },
    {
     "name": "stdout",
     "output_type": "stream",
     "text": [
      "time: 886 ms\n"
     ]
    }
   ],
   "source": [
    "big_df['label'].unique()"
   ]
  },
  {
   "cell_type": "code",
   "execution_count": 44,
   "metadata": {},
   "outputs": [
    {
     "data": {
      "text/html": [
       "<div>\n",
       "<style scoped>\n",
       "    .dataframe tbody tr th:only-of-type {\n",
       "        vertical-align: middle;\n",
       "    }\n",
       "\n",
       "    .dataframe tbody tr th {\n",
       "        vertical-align: top;\n",
       "    }\n",
       "\n",
       "    .dataframe thead th {\n",
       "        text-align: right;\n",
       "    }\n",
       "</style>\n",
       "<table border=\"1\" class=\"dataframe\">\n",
       "  <thead>\n",
       "    <tr style=\"text-align: right;\">\n",
       "      <th></th>\n",
       "      <th>icustay_id</th>\n",
       "      <th>t_0</th>\n",
       "      <th>label</th>\n",
       "      <th>value</th>\n",
       "      <th>delta</th>\n",
       "      <th>uom</th>\n",
       "      <th>source</th>\n",
       "      <th>subject_id</th>\n",
       "    </tr>\n",
       "  </thead>\n",
       "  <tbody>\n",
       "    <tr>\n",
       "      <th>13546</th>\n",
       "      <td>200001.0</td>\n",
       "      <td>2181-11-26</td>\n",
       "      <td>leukocyte</td>\n",
       "      <td>Neg/Not_tested</td>\n",
       "      <td>1 days</td>\n",
       "      <td>pos/neg category</td>\n",
       "      <td>leuk</td>\n",
       "      <td>55973</td>\n",
       "    </tr>\n",
       "    <tr>\n",
       "      <th>9126</th>\n",
       "      <td>200003.0</td>\n",
       "      <td>2199-08-04</td>\n",
       "      <td>leukocyte</td>\n",
       "      <td>Neg/Not_tested</td>\n",
       "      <td>1 days</td>\n",
       "      <td>pos/neg category</td>\n",
       "      <td>leuk</td>\n",
       "      <td>27513</td>\n",
       "    </tr>\n",
       "    <tr>\n",
       "      <th>9527</th>\n",
       "      <td>200012.0</td>\n",
       "      <td>2153-12-23</td>\n",
       "      <td>leukocyte</td>\n",
       "      <td>Neg/Not_tested</td>\n",
       "      <td>1 days</td>\n",
       "      <td>pos/neg category</td>\n",
       "      <td>leuk</td>\n",
       "      <td>28448</td>\n",
       "    </tr>\n",
       "    <tr>\n",
       "      <th>3120</th>\n",
       "      <td>200014.0</td>\n",
       "      <td>2105-02-17</td>\n",
       "      <td>leukocyte</td>\n",
       "      <td>Neg/Not_tested</td>\n",
       "      <td>1 days</td>\n",
       "      <td>pos/neg category</td>\n",
       "      <td>leuk</td>\n",
       "      <td>9514</td>\n",
       "    </tr>\n",
       "    <tr>\n",
       "      <th>7162</th>\n",
       "      <td>200019.0</td>\n",
       "      <td>2178-07-09</td>\n",
       "      <td>leukocyte</td>\n",
       "      <td>Neg/Not_tested</td>\n",
       "      <td>1 days</td>\n",
       "      <td>pos/neg category</td>\n",
       "      <td>leuk</td>\n",
       "      <td>21789</td>\n",
       "    </tr>\n",
       "  </tbody>\n",
       "</table>\n",
       "</div>"
      ],
      "text/plain": [
       "       icustay_id         t_0      label           value  delta  \\\n",
       "13546    200001.0  2181-11-26  leukocyte  Neg/Not_tested 1 days   \n",
       "9126     200003.0  2199-08-04  leukocyte  Neg/Not_tested 1 days   \n",
       "9527     200012.0  2153-12-23  leukocyte  Neg/Not_tested 1 days   \n",
       "3120     200014.0  2105-02-17  leukocyte  Neg/Not_tested 1 days   \n",
       "7162     200019.0  2178-07-09  leukocyte  Neg/Not_tested 1 days   \n",
       "\n",
       "                    uom source  subject_id  \n",
       "13546  pos/neg category   leuk       55973  \n",
       "9126   pos/neg category   leuk       27513  \n",
       "9527   pos/neg category   leuk       28448  \n",
       "3120   pos/neg category   leuk        9514  \n",
       "7162   pos/neg category   leuk       21789  "
      ]
     },
     "execution_count": 44,
     "metadata": {},
     "output_type": "execute_result"
    },
    {
     "name": "stdout",
     "output_type": "stream",
     "text": [
      "time: 716 ms\n"
     ]
    }
   ],
   "source": [
    "big_df[big_df['label']=='leukocyte'].head()"
   ]
  },
  {
   "cell_type": "markdown",
   "metadata": {},
   "source": [
    "## quick qc to protect against old versions"
   ]
  },
  {
   "cell_type": "code",
   "execution_count": 45,
   "metadata": {},
   "outputs": [
    {
     "name": "stdout",
     "output_type": "stream",
     "text": [
      "time: 950 ms\n"
     ]
    }
   ],
   "source": [
    "#removing firstpos else neg ssc col if it still exists (qc)\n",
    "big_df=big_df.loc[:,list(big_df.columns!=\"first_pos_else_neg_ssc\")]"
   ]
  },
  {
   "cell_type": "code",
   "execution_count": 46,
   "metadata": {},
   "outputs": [
    {
     "name": "stdout",
     "output_type": "stream",
     "text": [
      "time: 3min 20s\n"
     ]
    }
   ],
   "source": [
    "save_df(big_df, 'longdf')"
   ]
  },
  {
   "cell_type": "code",
   "execution_count": 47,
   "metadata": {},
   "outputs": [
    {
     "name": "stdout",
     "output_type": "stream",
     "text": [
      "time: 761 ms\n"
     ]
    }
   ],
   "source": [
    "del big_df\n",
    "del dfs"
   ]
  },
  {
   "cell_type": "markdown",
   "metadata": {},
   "source": [
    "#### making a patient missingness visualization"
   ]
  },
  {
   "cell_type": "code",
   "execution_count": 48,
   "metadata": {},
   "outputs": [
    {
     "name": "stdout",
     "output_type": "stream",
     "text": [
      "time: 1.38 ms\n"
     ]
    }
   ],
   "source": [
    "# #big_agg= big_df.groupby(['icustay_id','label'], as_index=False)['value'].agg(['min'])\n",
    "# big_agg= big_df.groupby(['icustay_id','label'], as_index=False)['value'].size()\n",
    "# big_agg_count= big_agg.reset_index().pivot(index='icustay_id',columns='label', values=0)#, levels='icustay_id')"
   ]
  },
  {
   "cell_type": "code",
   "execution_count": 49,
   "metadata": {},
   "outputs": [
    {
     "name": "stdout",
     "output_type": "stream",
     "text": [
      "time: 958 µs\n"
     ]
    }
   ],
   "source": [
    "# big_agg_count= big_agg.reset_index().pivot(index='icustay_id',columns='label', values=0)#, levels='icustay_id')"
   ]
  },
  {
   "cell_type": "code",
   "execution_count": 50,
   "metadata": {},
   "outputs": [
    {
     "name": "stdout",
     "output_type": "stream",
     "text": [
      "time: 1.06 ms\n"
     ]
    }
   ],
   "source": [
    "# sns.set(rc={'figure.figsize':(25,15)})"
   ]
  },
  {
   "cell_type": "code",
   "execution_count": 51,
   "metadata": {},
   "outputs": [
    {
     "name": "stdout",
     "output_type": "stream",
     "text": [
      "time: 2.06 ms\n"
     ]
    }
   ],
   "source": [
    "# #big_agg_min\n",
    "\n",
    "# #%matplotlib inline\n",
    "# sns.set(rc={'figure.figsize':(25,15)})\n",
    "# big_agg_count= big_agg_count.fillna(0)\n",
    "# big_agg_count = big_agg_count[big_agg_count.columns].astype(float) \n",
    "\n",
    "\n",
    "# sns.heatmap(big_agg_count,vmin=0, vmax=1, cmap=sns.color_palette(\"RdBu_r\", 5))"
   ]
  },
  {
   "cell_type": "code",
   "execution_count": 52,
   "metadata": {},
   "outputs": [
    {
     "name": "stdout",
     "output_type": "stream",
     "text": [
      "time: 964 µs\n"
     ]
    }
   ],
   "source": [
    "# #deleting df's for memory once saved\n",
    "# del big_df, big_agg_count, big_agg, dfs"
   ]
  },
  {
   "cell_type": "code",
   "execution_count": 53,
   "metadata": {},
   "outputs": [
    {
     "name": "stdout",
     "output_type": "stream",
     "text": [
      "time: 1.1 ms\n"
     ]
    }
   ],
   "source": [
    "# big_agg_count[big_agg_count>0] =1\n",
    "# big_agg_pt_missing= big_agg_count.T.apply(lambda x:100*(len(list(big_agg_count))-sum(x))/len(list(big_agg_count)))\n",
    "# big_agg_pt_missing= pd.DataFrame(big_agg_pt_missing).rename(index=str, columns={0:'%_of_values_missing'})"
   ]
  },
  {
   "cell_type": "code",
   "execution_count": 54,
   "metadata": {},
   "outputs": [
    {
     "name": "stdout",
     "output_type": "stream",
     "text": [
      "time: 859 µs\n"
     ]
    }
   ],
   "source": [
    "# big_agg_pt_missing.sort_values('%_of_values_missing',ascending=False).plot()"
   ]
  },
  {
   "cell_type": "code",
   "execution_count": null,
   "metadata": {},
   "outputs": [],
   "source": []
  }
 ],
 "metadata": {
  "kernelspec": {
   "display_name": "Python 3",
   "language": "python",
   "name": "python3"
  },
  "language_info": {
   "codemirror_mode": {
    "name": "ipython",
    "version": 3
   },
   "file_extension": ".py",
   "mimetype": "text/x-python",
   "name": "python",
   "nbconvert_exporter": "python",
   "pygments_lexer": "ipython3",
   "version": "3.6.8"
  }
 },
 "nbformat": 4,
 "nbformat_minor": 4
}
